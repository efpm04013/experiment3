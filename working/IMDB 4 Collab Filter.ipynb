{
 "cells": [
  {
   "cell_type": "code",
   "execution_count": 1,
   "metadata": {},
   "outputs": [],
   "source": [
    "PATH='/home/kirana/Documents/phd/exp3_autoencoder'\n",
    "DATAPATH='/home/kirana/Documents/final_dissertation_final/experiments/datasets/ml-latest-small'"
   ]
  },
  {
   "cell_type": "code",
   "execution_count": 2,
   "metadata": {},
   "outputs": [],
   "source": [
    "import pandas as pd\n",
    "import numpy as np\n",
    "import matplotlib.pyplot as plt\n",
    "import sklearn\n",
    "import os\n",
    "import pickle\n",
    "import torch\n",
    "from torch.utils.data import Dataset, DataLoader\n",
    "from torch import nn"
   ]
  },
  {
   "cell_type": "code",
   "execution_count": 3,
   "metadata": {},
   "outputs": [],
   "source": [
    "[df, df_train,df_valid,df,df_ratings,dfflagtrain,dfflagvalid,idx_to_user,\\\n",
    "             idx_to_movie,movie_to_idx,user_to_idx]=pickle.load(open(f'{DATAPATH}/reads.pkl','rb'))"
   ]
  },
  {
   "cell_type": "code",
   "execution_count": 4,
   "metadata": {},
   "outputs": [
    {
     "data": {
      "text/plain": [
       "(100836, 19)"
      ]
     },
     "execution_count": 4,
     "metadata": {},
     "output_type": "execute_result"
    }
   ],
   "source": [
    "df.shape"
   ]
  },
  {
   "cell_type": "code",
   "execution_count": 5,
   "metadata": {},
   "outputs": [
    {
     "data": {
      "text/html": [
       "<div>\n",
       "<style scoped>\n",
       "    .dataframe tbody tr th:only-of-type {\n",
       "        vertical-align: middle;\n",
       "    }\n",
       "\n",
       "    .dataframe tbody tr th {\n",
       "        vertical-align: top;\n",
       "    }\n",
       "\n",
       "    .dataframe thead th {\n",
       "        text-align: right;\n",
       "    }\n",
       "</style>\n",
       "<table border=\"1\" class=\"dataframe\">\n",
       "  <thead>\n",
       "    <tr style=\"text-align: right;\">\n",
       "      <th></th>\n",
       "      <th>userId</th>\n",
       "      <th>movieId</th>\n",
       "      <th>rating</th>\n",
       "      <th>timestamp</th>\n",
       "      <th>title</th>\n",
       "      <th>genres</th>\n",
       "      <th>imdbId</th>\n",
       "      <th>tmdbId</th>\n",
       "      <th>tag</th>\n",
       "      <th>random_dstype</th>\n",
       "      <th>seqNum</th>\n",
       "      <th>maxSeqNum</th>\n",
       "      <th>time_dstype</th>\n",
       "      <th>user_idx</th>\n",
       "      <th>movie_idx</th>\n",
       "      <th>dstype_random_train</th>\n",
       "      <th>dstype_time_train</th>\n",
       "      <th>dstype_random_valid</th>\n",
       "      <th>dstype_time_valid</th>\n",
       "    </tr>\n",
       "  </thead>\n",
       "  <tbody>\n",
       "    <tr>\n",
       "      <th>0</th>\n",
       "      <td>1</td>\n",
       "      <td>1210</td>\n",
       "      <td>5.0</td>\n",
       "      <td>2000-07-30 18:08:19</td>\n",
       "      <td>Star Wars: Episode VI - Return of the Jedi (1983)</td>\n",
       "      <td>Action|Adventure|Sci-Fi</td>\n",
       "      <td>86190</td>\n",
       "      <td>1892.0</td>\n",
       "      <td>NaN</td>\n",
       "      <td>train</td>\n",
       "      <td>1</td>\n",
       "      <td>232</td>\n",
       "      <td>train</td>\n",
       "      <td>1</td>\n",
       "      <td>1</td>\n",
       "      <td>1</td>\n",
       "      <td>1</td>\n",
       "      <td>0</td>\n",
       "      <td>0</td>\n",
       "    </tr>\n",
       "    <tr>\n",
       "      <th>1</th>\n",
       "      <td>1</td>\n",
       "      <td>804</td>\n",
       "      <td>4.0</td>\n",
       "      <td>2000-07-30 18:08:19</td>\n",
       "      <td>She's the One (1996)</td>\n",
       "      <td>Comedy|Romance</td>\n",
       "      <td>117628</td>\n",
       "      <td>11363.0</td>\n",
       "      <td>NaN</td>\n",
       "      <td>train</td>\n",
       "      <td>2</td>\n",
       "      <td>232</td>\n",
       "      <td>train</td>\n",
       "      <td>1</td>\n",
       "      <td>2</td>\n",
       "      <td>1</td>\n",
       "      <td>1</td>\n",
       "      <td>0</td>\n",
       "      <td>0</td>\n",
       "    </tr>\n",
       "    <tr>\n",
       "      <th>2</th>\n",
       "      <td>1</td>\n",
       "      <td>2628</td>\n",
       "      <td>4.0</td>\n",
       "      <td>2000-07-30 18:08:43</td>\n",
       "      <td>Star Wars: Episode I - The Phantom Menace (1999)</td>\n",
       "      <td>Action|Adventure|Sci-Fi</td>\n",
       "      <td>120915</td>\n",
       "      <td>1893.0</td>\n",
       "      <td>NaN</td>\n",
       "      <td>train</td>\n",
       "      <td>3</td>\n",
       "      <td>232</td>\n",
       "      <td>train</td>\n",
       "      <td>1</td>\n",
       "      <td>3</td>\n",
       "      <td>1</td>\n",
       "      <td>1</td>\n",
       "      <td>0</td>\n",
       "      <td>0</td>\n",
       "    </tr>\n",
       "    <tr>\n",
       "      <th>3</th>\n",
       "      <td>1</td>\n",
       "      <td>2826</td>\n",
       "      <td>4.0</td>\n",
       "      <td>2000-07-30 18:08:43</td>\n",
       "      <td>13th Warrior, The (1999)</td>\n",
       "      <td>Action|Adventure|Fantasy</td>\n",
       "      <td>120657</td>\n",
       "      <td>1911.0</td>\n",
       "      <td>NaN</td>\n",
       "      <td>train</td>\n",
       "      <td>4</td>\n",
       "      <td>232</td>\n",
       "      <td>train</td>\n",
       "      <td>1</td>\n",
       "      <td>4</td>\n",
       "      <td>1</td>\n",
       "      <td>1</td>\n",
       "      <td>0</td>\n",
       "      <td>0</td>\n",
       "    </tr>\n",
       "    <tr>\n",
       "      <th>4</th>\n",
       "      <td>1</td>\n",
       "      <td>2018</td>\n",
       "      <td>5.0</td>\n",
       "      <td>2000-07-30 18:08:43</td>\n",
       "      <td>Bambi (1942)</td>\n",
       "      <td>Animation|Children|Drama</td>\n",
       "      <td>34492</td>\n",
       "      <td>3170.0</td>\n",
       "      <td>NaN</td>\n",
       "      <td>test</td>\n",
       "      <td>5</td>\n",
       "      <td>232</td>\n",
       "      <td>train</td>\n",
       "      <td>1</td>\n",
       "      <td>5</td>\n",
       "      <td>0</td>\n",
       "      <td>1</td>\n",
       "      <td>1</td>\n",
       "      <td>0</td>\n",
       "    </tr>\n",
       "  </tbody>\n",
       "</table>\n",
       "</div>"
      ],
      "text/plain": [
       "   userId  movieId  rating           timestamp  \\\n",
       "0       1     1210     5.0 2000-07-30 18:08:19   \n",
       "1       1      804     4.0 2000-07-30 18:08:19   \n",
       "2       1     2628     4.0 2000-07-30 18:08:43   \n",
       "3       1     2826     4.0 2000-07-30 18:08:43   \n",
       "4       1     2018     5.0 2000-07-30 18:08:43   \n",
       "\n",
       "                                               title  \\\n",
       "0  Star Wars: Episode VI - Return of the Jedi (1983)   \n",
       "1                               She's the One (1996)   \n",
       "2   Star Wars: Episode I - The Phantom Menace (1999)   \n",
       "3                           13th Warrior, The (1999)   \n",
       "4                                       Bambi (1942)   \n",
       "\n",
       "                     genres  imdbId   tmdbId  tag random_dstype  seqNum  \\\n",
       "0   Action|Adventure|Sci-Fi   86190   1892.0  NaN         train       1   \n",
       "1            Comedy|Romance  117628  11363.0  NaN         train       2   \n",
       "2   Action|Adventure|Sci-Fi  120915   1893.0  NaN         train       3   \n",
       "3  Action|Adventure|Fantasy  120657   1911.0  NaN         train       4   \n",
       "4  Animation|Children|Drama   34492   3170.0  NaN          test       5   \n",
       "\n",
       "   maxSeqNum time_dstype  user_idx  movie_idx  dstype_random_train  \\\n",
       "0        232       train         1          1                    1   \n",
       "1        232       train         1          2                    1   \n",
       "2        232       train         1          3                    1   \n",
       "3        232       train         1          4                    1   \n",
       "4        232       train         1          5                    0   \n",
       "\n",
       "   dstype_time_train  dstype_random_valid  dstype_time_valid  \n",
       "0                  1                    0                  0  \n",
       "1                  1                    0                  0  \n",
       "2                  1                    0                  0  \n",
       "3                  1                    0                  0  \n",
       "4                  1                    1                  0  "
      ]
     },
     "execution_count": 5,
     "metadata": {},
     "output_type": "execute_result"
    }
   ],
   "source": [
    "df.head()"
   ]
  },
  {
   "cell_type": "code",
   "execution_count": 6,
   "metadata": {},
   "outputs": [],
   "source": [
    "df_train=df.loc[df['random_dstype']=='train']\n",
    "df_valid=df.loc[df['random_dstype']!='train']"
   ]
  },
  {
   "cell_type": "code",
   "execution_count": 7,
   "metadata": {},
   "outputs": [
    {
     "data": {
      "text/html": [
       "<div>\n",
       "<style scoped>\n",
       "    .dataframe tbody tr th:only-of-type {\n",
       "        vertical-align: middle;\n",
       "    }\n",
       "\n",
       "    .dataframe tbody tr th {\n",
       "        vertical-align: top;\n",
       "    }\n",
       "\n",
       "    .dataframe thead th {\n",
       "        text-align: right;\n",
       "    }\n",
       "</style>\n",
       "<table border=\"1\" class=\"dataframe\">\n",
       "  <thead>\n",
       "    <tr style=\"text-align: right;\">\n",
       "      <th></th>\n",
       "      <th>userId</th>\n",
       "      <th>movieId</th>\n",
       "      <th>rating</th>\n",
       "      <th>timestamp</th>\n",
       "      <th>title</th>\n",
       "      <th>genres</th>\n",
       "      <th>imdbId</th>\n",
       "      <th>tmdbId</th>\n",
       "      <th>tag</th>\n",
       "      <th>random_dstype</th>\n",
       "      <th>seqNum</th>\n",
       "      <th>maxSeqNum</th>\n",
       "      <th>time_dstype</th>\n",
       "      <th>user_idx</th>\n",
       "      <th>movie_idx</th>\n",
       "      <th>dstype_random_train</th>\n",
       "      <th>dstype_time_train</th>\n",
       "      <th>dstype_random_valid</th>\n",
       "      <th>dstype_time_valid</th>\n",
       "    </tr>\n",
       "  </thead>\n",
       "  <tbody>\n",
       "    <tr>\n",
       "      <th>0</th>\n",
       "      <td>1</td>\n",
       "      <td>1210</td>\n",
       "      <td>5.0</td>\n",
       "      <td>2000-07-30 18:08:19</td>\n",
       "      <td>Star Wars: Episode VI - Return of the Jedi (1983)</td>\n",
       "      <td>Action|Adventure|Sci-Fi</td>\n",
       "      <td>86190</td>\n",
       "      <td>1892.0</td>\n",
       "      <td>NaN</td>\n",
       "      <td>train</td>\n",
       "      <td>1</td>\n",
       "      <td>232</td>\n",
       "      <td>train</td>\n",
       "      <td>1</td>\n",
       "      <td>1</td>\n",
       "      <td>1</td>\n",
       "      <td>1</td>\n",
       "      <td>0</td>\n",
       "      <td>0</td>\n",
       "    </tr>\n",
       "    <tr>\n",
       "      <th>1</th>\n",
       "      <td>1</td>\n",
       "      <td>804</td>\n",
       "      <td>4.0</td>\n",
       "      <td>2000-07-30 18:08:19</td>\n",
       "      <td>She's the One (1996)</td>\n",
       "      <td>Comedy|Romance</td>\n",
       "      <td>117628</td>\n",
       "      <td>11363.0</td>\n",
       "      <td>NaN</td>\n",
       "      <td>train</td>\n",
       "      <td>2</td>\n",
       "      <td>232</td>\n",
       "      <td>train</td>\n",
       "      <td>1</td>\n",
       "      <td>2</td>\n",
       "      <td>1</td>\n",
       "      <td>1</td>\n",
       "      <td>0</td>\n",
       "      <td>0</td>\n",
       "    </tr>\n",
       "    <tr>\n",
       "      <th>2</th>\n",
       "      <td>1</td>\n",
       "      <td>2628</td>\n",
       "      <td>4.0</td>\n",
       "      <td>2000-07-30 18:08:43</td>\n",
       "      <td>Star Wars: Episode I - The Phantom Menace (1999)</td>\n",
       "      <td>Action|Adventure|Sci-Fi</td>\n",
       "      <td>120915</td>\n",
       "      <td>1893.0</td>\n",
       "      <td>NaN</td>\n",
       "      <td>train</td>\n",
       "      <td>3</td>\n",
       "      <td>232</td>\n",
       "      <td>train</td>\n",
       "      <td>1</td>\n",
       "      <td>3</td>\n",
       "      <td>1</td>\n",
       "      <td>1</td>\n",
       "      <td>0</td>\n",
       "      <td>0</td>\n",
       "    </tr>\n",
       "    <tr>\n",
       "      <th>3</th>\n",
       "      <td>1</td>\n",
       "      <td>2826</td>\n",
       "      <td>4.0</td>\n",
       "      <td>2000-07-30 18:08:43</td>\n",
       "      <td>13th Warrior, The (1999)</td>\n",
       "      <td>Action|Adventure|Fantasy</td>\n",
       "      <td>120657</td>\n",
       "      <td>1911.0</td>\n",
       "      <td>NaN</td>\n",
       "      <td>train</td>\n",
       "      <td>4</td>\n",
       "      <td>232</td>\n",
       "      <td>train</td>\n",
       "      <td>1</td>\n",
       "      <td>4</td>\n",
       "      <td>1</td>\n",
       "      <td>1</td>\n",
       "      <td>0</td>\n",
       "      <td>0</td>\n",
       "    </tr>\n",
       "    <tr>\n",
       "      <th>5</th>\n",
       "      <td>1</td>\n",
       "      <td>3578</td>\n",
       "      <td>5.0</td>\n",
       "      <td>2000-07-30 18:11:08</td>\n",
       "      <td>Gladiator (2000)</td>\n",
       "      <td>Action|Adventure|Drama</td>\n",
       "      <td>172495</td>\n",
       "      <td>98.0</td>\n",
       "      <td>NaN</td>\n",
       "      <td>train</td>\n",
       "      <td>6</td>\n",
       "      <td>232</td>\n",
       "      <td>train</td>\n",
       "      <td>1</td>\n",
       "      <td>6</td>\n",
       "      <td>1</td>\n",
       "      <td>1</td>\n",
       "      <td>0</td>\n",
       "      <td>0</td>\n",
       "    </tr>\n",
       "  </tbody>\n",
       "</table>\n",
       "</div>"
      ],
      "text/plain": [
       "   userId  movieId  rating           timestamp  \\\n",
       "0       1     1210     5.0 2000-07-30 18:08:19   \n",
       "1       1      804     4.0 2000-07-30 18:08:19   \n",
       "2       1     2628     4.0 2000-07-30 18:08:43   \n",
       "3       1     2826     4.0 2000-07-30 18:08:43   \n",
       "5       1     3578     5.0 2000-07-30 18:11:08   \n",
       "\n",
       "                                               title  \\\n",
       "0  Star Wars: Episode VI - Return of the Jedi (1983)   \n",
       "1                               She's the One (1996)   \n",
       "2   Star Wars: Episode I - The Phantom Menace (1999)   \n",
       "3                           13th Warrior, The (1999)   \n",
       "5                                   Gladiator (2000)   \n",
       "\n",
       "                     genres  imdbId   tmdbId  tag random_dstype  seqNum  \\\n",
       "0   Action|Adventure|Sci-Fi   86190   1892.0  NaN         train       1   \n",
       "1            Comedy|Romance  117628  11363.0  NaN         train       2   \n",
       "2   Action|Adventure|Sci-Fi  120915   1893.0  NaN         train       3   \n",
       "3  Action|Adventure|Fantasy  120657   1911.0  NaN         train       4   \n",
       "5    Action|Adventure|Drama  172495     98.0  NaN         train       6   \n",
       "\n",
       "   maxSeqNum time_dstype  user_idx  movie_idx  dstype_random_train  \\\n",
       "0        232       train         1          1                    1   \n",
       "1        232       train         1          2                    1   \n",
       "2        232       train         1          3                    1   \n",
       "3        232       train         1          4                    1   \n",
       "5        232       train         1          6                    1   \n",
       "\n",
       "   dstype_time_train  dstype_random_valid  dstype_time_valid  \n",
       "0                  1                    0                  0  \n",
       "1                  1                    0                  0  \n",
       "2                  1                    0                  0  \n",
       "3                  1                    0                  0  \n",
       "5                  1                    0                  0  "
      ]
     },
     "execution_count": 7,
     "metadata": {},
     "output_type": "execute_result"
    }
   ],
   "source": [
    "df_train.head()"
   ]
  },
  {
   "cell_type": "markdown",
   "metadata": {},
   "source": [
    "### Dataset and DataLoader"
   ]
  },
  {
   "cell_type": "code",
   "execution_count": 8,
   "metadata": {},
   "outputs": [],
   "source": [
    "class cfdata (torch.utils.data.dataset.Dataset):\n",
    "    def __init__(self,dfX,dfY):\n",
    "        self.dfX,self.dfY=dfX,dfY\n",
    "        \n",
    "    def __len__ (self):\n",
    "        return self.dfX.shape[0]\n",
    "    \n",
    "    def __getitem__ (self, idx):\n",
    "        return torch.LongTensor(self.dfX.iloc[idx].values),torch.FloatTensor([self.dfY.values[idx]])"
   ]
  },
  {
   "cell_type": "code",
   "execution_count": 9,
   "metadata": {},
   "outputs": [],
   "source": [
    "dstrain=cfdata(df_train[['user_idx','movie_idx']],df_train['rating'])\n",
    "dsvalid=cfdata(df_valid[['user_idx','movie_idx']],df_valid['rating'])"
   ]
  },
  {
   "cell_type": "code",
   "execution_count": 10,
   "metadata": {},
   "outputs": [
    {
     "data": {
      "text/plain": [
       "(90752, 19)"
      ]
     },
     "execution_count": 10,
     "metadata": {},
     "output_type": "execute_result"
    }
   ],
   "source": [
    "df_train.shape"
   ]
  },
  {
   "cell_type": "code",
   "execution_count": 11,
   "metadata": {},
   "outputs": [],
   "source": [
    "bs=8"
   ]
  },
  {
   "cell_type": "code",
   "execution_count": 12,
   "metadata": {},
   "outputs": [],
   "source": [
    "dltrain=DataLoader(dstrain,bs,True)"
   ]
  },
  {
   "cell_type": "code",
   "execution_count": 13,
   "metadata": {},
   "outputs": [],
   "source": [
    "dlvalid=DataLoader(dsvalid,bs,True)"
   ]
  },
  {
   "cell_type": "markdown",
   "metadata": {},
   "source": [
    "## Model Architecture"
   ]
  },
  {
   "cell_type": "code",
   "execution_count": 14,
   "metadata": {},
   "outputs": [],
   "source": [
    "n_users=len(user_to_idx)\n",
    "n_movies=len(movie_to_idx)\n",
    "n_emb_user=10\n",
    "n_emb_movie=25\n",
    "min_rating=min(df_train['rating'])\n",
    "max_rating=max(df_train['rating'])\n",
    "dropout_e=0.05\n",
    "hidden=[25,10]\n",
    "dropouts=[0.2,0.2]"
   ]
  },
  {
   "cell_type": "code",
   "execution_count": 15,
   "metadata": {},
   "outputs": [],
   "source": [
    "def hidden_layer(x,y,dropout,activation=nn.Sigmoid()):\n",
    "    return nn.Sequential(\n",
    "        nn.Linear(x, y),\n",
    "        activation,\n",
    "        nn.Dropout(p=dropout)\n",
    "        )   "
   ]
  },
  {
   "cell_type": "code",
   "execution_count": 28,
   "metadata": {},
   "outputs": [],
   "source": [
    "class cf(nn.Module):    \n",
    "    def __init__(self,n_users,n_emb_user,n_emb_movie,n_movies,min_rating,max_rating,\\\n",
    "                dropout_e=0.01,hidden=[25,10],dropouts=[0.2,0.2]):\n",
    "        super().__init__()\n",
    "        self.n_users,self.n_emb_user,self.n_emb_movie,self.n_movies,self.min_rating,self.max_rating=\\\n",
    "                    n_users,n_emb_user,n_emb_movie,n_movies,min_rating,max_rating\n",
    "        self.dropout_e,self.hidden,self.dropouts=dropout_e,hidden,dropouts\n",
    "        self.create_architecture()\n",
    "        self.init_parameters()\n",
    "        self.criterion=nn.MSELoss()\n",
    "        \n",
    "        \n",
    "    def create_architecture(self):\n",
    "        \n",
    "        # autoencoder for users\n",
    "        self.user_autoenc=torch.nn.Sequential(nn.Linear(9724,20),\n",
    "                                   nn.Sigmoid(),\n",
    "                                   nn.Linear(20,10),\n",
    "                                   nn.Tanh())\n",
    "        \n",
    "        self.item_autoenc=torch.nn.Sequential(nn.Linear(610,50),\n",
    "                                             nn.Sigmoid(),\n",
    "                                             nn.Linear(50,10),\n",
    "                                             nn.Tanh())\n",
    "        \n",
    "\n",
    "        self.user_autoenc[0].requires_grad=False\n",
    "        self.user_autoenc[2].requires_grad=False\n",
    "        self.item_autoenc[0].requires_grad=False\n",
    "        self.item_autoenc[2].requires_grad=False\n",
    "        \n",
    "        self.emb_user=nn.Embedding(self.n_users+1,self.n_emb_user)\n",
    "        self.emb_movie=nn.Embedding(self.n_movies+1,self.n_emb_movie)\n",
    "        self.emb_dropout=nn.Dropout(self.dropout_e)\n",
    "        \n",
    "        lins=[hidden_layer(self.n_emb_user+self.n_emb_movie if i==0 else self.hidden[i-1],\\\n",
    "                                self.hidden[i] if i <len(hidden) else 1,\n",
    "                                self.dropouts[i] if i < len(hidden) else 0,\n",
    "                                nn.ReLU()) for i in range(len(hidden)+1)]\n",
    "        self.lins=nn.Sequential(*lins)\n",
    "        self.sigmoid=nn.Sigmoid()\n",
    "        \n",
    "        \n",
    "    def init_parameters(self):\n",
    "        nn.init.kaiming_normal_(self.emb_user.weight.data)\n",
    "        nn.init.kaiming_normal_(self.emb_movie.weight.data)\n",
    "        \n",
    "      \n",
    "        \n",
    "        #nn.init.kaiming_normal_(lin)\n",
    "       \n",
    "    def forward (self,Xb,Yb):\n",
    "         \n",
    "        users=self.emb_dropout(self.emb_user(Xb[:,0]))\n",
    "        items=self.emb_dropout(self.emb_movie(Xb[:,1]))\n",
    "        embed=torch.cat([users,items],1)\n",
    "        out=self.lins(embed)\n",
    "        out=self.sigmoid(out)\n",
    "        preds=out*(self.max_rating-self.min_rating)+self.min_rating\n",
    "        #preds=preds.view(-1)\n",
    "        loss=self.criterion(preds,Yb)\n",
    "        return preds,loss"
   ]
  },
  {
   "cell_type": "code",
   "execution_count": 29,
   "metadata": {},
   "outputs": [],
   "source": [
    "cfobj=cf(n_users,n_emb_user,n_emb_movie,n_movies,min_rating,max_rating,dropout_e,hidden,dropouts)"
   ]
  },
  {
   "cell_type": "code",
   "execution_count": 30,
   "metadata": {},
   "outputs": [],
   "source": [
    "for Xb, Yb in dltrain:\n",
    "    break"
   ]
  },
  {
   "cell_type": "code",
   "execution_count": 31,
   "metadata": {},
   "outputs": [
    {
     "data": {
      "text/plain": [
       "(torch.Size([8, 2]), torch.Size([8, 1]))"
      ]
     },
     "execution_count": 31,
     "metadata": {},
     "output_type": "execute_result"
    }
   ],
   "source": [
    "Xb.shape, Yb.shape"
   ]
  },
  {
   "cell_type": "code",
   "execution_count": 32,
   "metadata": {},
   "outputs": [
    {
     "data": {
      "text/plain": [
       "(tensor([[3.0059],\n",
       "         [3.0348],\n",
       "         [3.0034],\n",
       "         [3.0631],\n",
       "         [3.0346],\n",
       "         [3.0515],\n",
       "         [3.0192],\n",
       "         [3.0503]], grad_fn=<AddBackward0>),\n",
       " tensor(1.1111, grad_fn=<MseLossBackward>))"
      ]
     },
     "execution_count": 32,
     "metadata": {},
     "output_type": "execute_result"
    }
   ],
   "source": [
    "cfobj.forward(Xb,Yb)"
   ]
  },
  {
   "cell_type": "markdown",
   "metadata": {},
   "source": [
    "## Learner"
   ]
  },
  {
   "cell_type": "code",
   "execution_count": 33,
   "metadata": {},
   "outputs": [],
   "source": [
    "class Learner():\n",
    "    def __init__(self,model,optimizer,metric_fn,device,bptt=12,print_every=5,clip_val=None,\\\n",
    "                 cycle_mult=0,lr_decay=0.7,wd_mult=6,start_lr=2e-2, end_lr=5e-4):\n",
    "        self.model,self.optimizer,self.metric_fn,self.device,self.print_every,self.bptt,self.losses,self.clip_val=\\\n",
    "            model,optimizer,metric_fn,device,print_every,bptt,[],clip_val\n",
    "        self.n_epochs=1\n",
    "        self.cycle_mult,self.lr_decay=cycle_mult,lr_decay\n",
    "        self.wd_mult=wd_mult\n",
    "        for param_group in self.optimizer.param_groups:\n",
    "            self.start_lr=param_group['lr']\n",
    "            self.start_wd=param_group['weight_decay']\n",
    "        self.wd=self.start_wd\n",
    "        self.lr=self.start_lr\n",
    "        self.end_lr=end_lr\n",
    "        self.n_epoch=0\n",
    "        self.lrs=[1e-2,5e-3,1e-4,5e-4]\n",
    "        self.preds,self.preds_valid,self.trainY,self.actual=[],[],[],[]\n",
    "        self.ratio=self.end_lr/self.start_lr\n",
    "        self.num_steps=self.cycle_mult\n",
    "        self.reset_cycle=self.cycle_mult\n",
    "        \n",
    "    def fit (self,Xb,Yb,mode_train=True):\n",
    "        if mode_train:\n",
    "            self.model.train()\n",
    "        else:\n",
    "            self.model.eval()\n",
    "        \n",
    "        #import pdb\n",
    "        #pdb.set_trace()\n",
    "        preds,loss=self.model(Xb,Yb)\n",
    "\n",
    "        with torch.no_grad():\n",
    "            if self.metric_fn is not None:\n",
    "                acc=self.metric_fn(preds,Yb.view(-1),self.device)\n",
    "                acc=acc.item()\n",
    "\n",
    "                if 1==0:\n",
    "                    if mode_train:\n",
    "                        self.trainY.append(Yb.view(-1))\n",
    "                        self.preds.append(preds.data)\n",
    "                    else:\n",
    "                        self.actual.append(Yb.view(-1))\n",
    "                        self.preds_valid.append(preds.data)\n",
    "            else:\n",
    "                acc=0\n",
    "            del preds\n",
    "        \n",
    "        if mode_train:\n",
    "            if 1==0:\n",
    "                lr =self.lrs[torch.randint(0,4,(1,))]\n",
    "                for param_group in self.optimizer.param_groups:\n",
    "                    param_group['lr']=lr\n",
    "            \n",
    "            self.optimizer.zero_grad()\n",
    "            loss.backward()\n",
    "            self.optimizer.step()\n",
    "        myloss=loss.item()\n",
    "        acc=np.sqrt(myloss)\n",
    "        del loss\n",
    "        \n",
    "        if self.clip_val is not None:\n",
    "            torch.nn.utils.clip_grad_norm_(self.model.parameters(), self.clip_val)\n",
    "        \n",
    "        return myloss, acc\n",
    "    \n",
    "    def lr_find (self,start_lr,end_lr,iterator,n_batch):\n",
    "        losses,lrs=[],[]\n",
    "        ratio=end_lr/start_lr\n",
    "        num_steps=n_batch\n",
    "        lr=start_lr\n",
    "        for i in range(num_steps):            \n",
    "            lr=lr*(end_lr/start_lr)**(1/num_steps)\n",
    "            lrs.append(lr)\n",
    "        self.lrs=lrs\n",
    "        self.run_epoch(iterator,mode_train=True,lrs=lrs)\n",
    "    \n",
    "    def run_epoch(self,iterator,mode_train,lrs=None):\n",
    "        epoch_loss,epoch_acc,i,k=0,0,0,0\n",
    "\n",
    "        for Xb,Yb in iterator:\n",
    "            Xb=Xb.to(self.device)\n",
    "            Yb=Yb.to(self.device)\n",
    "            \n",
    "            if lrs is not None:\n",
    "                lr=lrs[k]\n",
    "                for param_group in self.optimizer.param_groups:\n",
    "                    param_group['lr']=lr \n",
    "            \n",
    "\n",
    "            loss,acc=self.fit(Xb,Yb,mode_train)\n",
    "            \n",
    "            if lrs is not None:\n",
    "                self.losses.append(loss)\n",
    "            \n",
    "            \n",
    "            epoch_loss+=loss\n",
    "            epoch_acc+=acc\n",
    "            \n",
    "            k=k+1\n",
    "            if k%self.print_every == 0:\n",
    "                if k:\n",
    "                    print (f'Batch:{k} {epoch_loss/(k)}  ')  \n",
    "                    torch.cuda.empty_cache()\n",
    "        epoch_loss=epoch_loss/len(iterator)\n",
    "        epoch_acc=epoch_acc/len(iterator)\n",
    "            \n",
    "        return epoch_loss,epoch_acc\n",
    "    \n",
    "    def plot_lrs(self, n_roll=1,ylim=None,xlim=None):\n",
    "        import seaborn as sns\n",
    "        ax=sns.lineplot(x=self.lrs,y=pd.Series(self.losses).rolling(n_roll).mean())\n",
    "        ax.set_xscale('log')\n",
    "        ax.set_ylabel('Loss')\n",
    "        ax.set_xlabel('Learning Rate')\n",
    "        if ylim is not None:\n",
    "            plt.ylim(ylim)\n",
    "        if xlim is not None:\n",
    "            plt.xlim(xlim)\n",
    "\n",
    "     \n",
    "    def run_epochs(self,dltrain,dlvalid,n_epochs=1):              \n",
    "        for epoch in range(n_epochs):                \n",
    "            loss,acc=self.run_epoch(dltrain,True)\n",
    "            lossv,accv=self.run_epoch(dlvalid,mode_train=False)\n",
    "            print (f'Epoch:{epoch} Learning rate {self.lr} Weight Decay {self.wd} Train Loss:{loss} \\\n",
    "                Valid Loss:{lossv} Train RMSE:{acc} Valid RMSE:{accv}')\n",
    "  \n",
    "            if self.cycle_mult:\n",
    "                if self.n_epoch==self.reset_cycle:\n",
    "                    self.lr=self.start_lr\n",
    "                    #self.wd=self.start_wd\n",
    "                    self.reset_cycle*=self.cycle_mult\n",
    "                    #reset_cycle=self.n_epoch+reset_cycle\n",
    "                    self.n_epoch=0\n",
    "                    self.ratio=self.end_lr/self.start_lr\n",
    "                    self.num_steps=self.reset_cycle\n",
    "                else:\n",
    "                    #self.lr*=(self.lr_decay**self.n_epoch)  \n",
    "                    #if self.n_epoch>1:\n",
    "                    #    self.wd*=self.wd_mult\n",
    "                    self.lr=self.lr*(self.end_lr/self.start_lr)**(1/self.num_steps)\n",
    "                    self.n_epoch+=1\n",
    "        \n",
    "\n",
    "                \n",
    "            for param_group in self.optimizer.param_groups:\n",
    "                param_group['lr']=self.lr\n",
    "                #param_group['weight_decay']=self.wd\n",
    "          \n",
    "     "
   ]
  },
  {
   "cell_type": "code",
   "execution_count": 34,
   "metadata": {},
   "outputs": [],
   "source": [
    "device='cuda:1'"
   ]
  },
  {
   "cell_type": "code",
   "execution_count": 35,
   "metadata": {},
   "outputs": [],
   "source": [
    "cfobj=cf(n_users,n_emb_user,n_emb_movie,n_movies,min_rating,max_rating,dropout_e,hidden,dropouts)"
   ]
  },
  {
   "cell_type": "code",
   "execution_count": 36,
   "metadata": {},
   "outputs": [],
   "source": [
    "cfobj=cfobj.to(device)"
   ]
  },
  {
   "cell_type": "code",
   "execution_count": 37,
   "metadata": {},
   "outputs": [
    {
     "data": {
      "text/plain": [
       "cf(\n",
       "  (user_autoenc): Sequential(\n",
       "    (0): Linear(in_features=9724, out_features=20, bias=True)\n",
       "    (1): Sigmoid()\n",
       "    (2): Linear(in_features=20, out_features=10, bias=True)\n",
       "    (3): Tanh()\n",
       "  )\n",
       "  (item_autoenc): Sequential(\n",
       "    (0): Linear(in_features=610, out_features=50, bias=True)\n",
       "    (1): Sigmoid()\n",
       "    (2): Linear(in_features=50, out_features=10, bias=True)\n",
       "    (3): Tanh()\n",
       "  )\n",
       "  (emb_user): Embedding(611, 10)\n",
       "  (emb_movie): Embedding(9725, 25)\n",
       "  (emb_dropout): Dropout(p=0.05)\n",
       "  (lins): Sequential(\n",
       "    (0): Sequential(\n",
       "      (0): Linear(in_features=35, out_features=25, bias=True)\n",
       "      (1): ReLU()\n",
       "      (2): Dropout(p=0.2)\n",
       "    )\n",
       "    (1): Sequential(\n",
       "      (0): Linear(in_features=25, out_features=10, bias=True)\n",
       "      (1): ReLU()\n",
       "      (2): Dropout(p=0.2)\n",
       "    )\n",
       "    (2): Sequential(\n",
       "      (0): Linear(in_features=10, out_features=1, bias=True)\n",
       "      (1): ReLU()\n",
       "      (2): Dropout(p=0)\n",
       "    )\n",
       "  )\n",
       "  (sigmoid): Sigmoid()\n",
       "  (criterion): MSELoss()\n",
       ")"
      ]
     },
     "execution_count": 37,
     "metadata": {},
     "output_type": "execute_result"
    }
   ],
   "source": [
    "cfobj"
   ]
  },
  {
   "cell_type": "code",
   "execution_count": 48,
   "metadata": {},
   "outputs": [],
   "source": [
    "wd=1e-7\n",
    "optimizer=torch.optim.Adam(cfobj.parameters(),lr=5e-3,betas=(0.9,0.999), weight_decay=wd)\n",
    "learner=Learner(cfobj,optimizer,None,device,0,12000,0.25,cycle_mult=0)"
   ]
  },
  {
   "cell_type": "code",
   "execution_count": 49,
   "metadata": {},
   "outputs": [
    {
     "data": {
      "text/plain": [
       "11344"
      ]
     },
     "execution_count": 49,
     "metadata": {},
     "output_type": "execute_result"
    }
   ],
   "source": [
    "len(dltrain)"
   ]
  },
  {
   "cell_type": "code",
   "execution_count": 50,
   "metadata": {},
   "outputs": [],
   "source": [
    "learner.lr_find(1e-4,1e-1,dltrain,len(dltrain))"
   ]
  },
  {
   "cell_type": "code",
   "execution_count": 43,
   "metadata": {},
   "outputs": [
    {
     "data": {
      "image/png": "[encoded data removed]",
      "text/plain": [
       "<Figure size 432x288 with 1 Axes>"
      ]
     },
     "metadata": {
      "needs_background": "light"
     },
     "output_type": "display_data"
    }
   ],
   "source": [
    "learner.plot_lrs(100)"
   ]
  },
  {
   "cell_type": "code",
   "execution_count": 51,
   "metadata": {},
   "outputs": [],
   "source": [
    "del cfobj\n",
    "torch.cuda.empty_cache()"
   ]
  },
  {
   "cell_type": "code",
   "execution_count": 52,
   "metadata": {},
   "outputs": [],
   "source": [
    "cfobj=cf(n_users,n_emb_user,n_emb_movie,n_movies,min_rating,max_rating,dropout_e,hidden,dropouts)\n",
    "cfobj=cfobj.to(device)"
   ]
  },
  {
   "cell_type": "code",
   "execution_count": 54,
   "metadata": {},
   "outputs": [
    {
     "data": {
      "text/plain": [
       "'cuda:1'"
      ]
     },
     "execution_count": 54,
     "metadata": {},
     "output_type": "execute_result"
    }
   ],
   "source": [
    "device"
   ]
  },
  {
   "cell_type": "code",
   "execution_count": 53,
   "metadata": {},
   "outputs": [],
   "source": [
    "wd=1e-7\n",
    "optimizer=torch.optim.Adam(cfobj.parameters(),lr=3e-3,betas=(0.9,0.999), weight_decay=wd)\n",
    "learner=Learner(cfobj,optimizer,None,device,0,12000,0.25,cycle_mult=0)"
   ]
  },
  {
   "cell_type": "code",
   "execution_count": 55,
   "metadata": {},
   "outputs": [
    {
     "name": "stdout",
     "output_type": "stream",
     "text": [
      "Epoch:0 Learning rate 0.003 Weight Decay 1e-07 Train Loss:0.8663573332790322                 Valid Loss:0.8314781497268805 Train RMSE:0.8940159130196044 Valid RMSE:0.8771461696165077\n",
      "Epoch:1 Learning rate 0.003 Weight Decay 1e-07 Train Loss:0.7781040356317154                 Valid Loss:0.8166774983955791 Train RMSE:0.8441853036815213 Valid RMSE:0.8678160583945712\n",
      "Epoch:2 Learning rate 0.003 Weight Decay 1e-07 Train Loss:0.7587871513837142                 Valid Loss:0.8161732620669678 Train RMSE:0.8336966146105886 Valid RMSE:0.8694085412869375\n",
      "Epoch:3 Learning rate 0.003 Weight Decay 1e-07 Train Loss:0.7500067636326654                 Valid Loss:0.8099659829681871 Train RMSE:0.8285897231565276 Valid RMSE:0.8621915415847683\n",
      "Epoch:4 Learning rate 0.003 Weight Decay 1e-07 Train Loss:0.741747147758486                 Valid Loss:0.8143637871855691 Train RMSE:0.8236057378722541 Valid RMSE:0.8643800491004899\n",
      "Epoch:5 Learning rate 0.003 Weight Decay 1e-07 Train Loss:0.7334169513337072                 Valid Loss:0.8302880471880998 Train RMSE:0.8178959556737594 Valid RMSE:0.8703830559234406\n",
      "Epoch:6 Learning rate 0.003 Weight Decay 1e-07 Train Loss:0.7304476884831458                 Valid Loss:0.8186500735645914 Train RMSE:0.8168515784984425 Valid RMSE:0.8666024150896242\n",
      "Epoch:7 Learning rate 0.003 Weight Decay 1e-07 Train Loss:0.7260165088255043                 Valid Loss:0.814930074631837 Train RMSE:0.8133198881061164 Valid RMSE:0.8631979402202626\n",
      "Epoch:8 Learning rate 0.003 Weight Decay 1e-07 Train Loss:0.7235515846963446                 Valid Loss:0.8329140715874158 Train RMSE:0.8127072531172739 Valid RMSE:0.8739031147737426\n",
      "Epoch:9 Learning rate 0.003 Weight Decay 1e-07 Train Loss:0.7188058856678325                 Valid Loss:0.8218485394184027 Train RMSE:0.8092842584295226 Valid RMSE:0.8705742806402946\n",
      "Epoch:10 Learning rate 0.003 Weight Decay 1e-07 Train Loss:0.7170519109031157                 Valid Loss:0.8331504051620103 Train RMSE:0.8085210618434459 Valid RMSE:0.8751440551745346\n",
      "Epoch:11 Learning rate 0.003 Weight Decay 1e-07 Train Loss:0.712723305231001                 Valid Loss:0.835112125727272 Train RMSE:0.8054297362900209 Valid RMSE:0.8741574155436151\n",
      "Epoch:12 Learning rate 0.003 Weight Decay 1e-07 Train Loss:0.7102863518711657                 Valid Loss:0.8221619408976503 Train RMSE:0.8042469165947744 Valid RMSE:0.869108317102122\n",
      "Epoch:13 Learning rate 0.003 Weight Decay 1e-07 Train Loss:0.7062985609572549                 Valid Loss:0.8433146325666029 Train RMSE:0.80251617839125 Valid RMSE:0.8805922798304157\n",
      "Epoch:14 Learning rate 0.003 Weight Decay 1e-07 Train Loss:0.7054068526451454                 Valid Loss:0.8286899823775186 Train RMSE:0.8017785109566358 Valid RMSE:0.8745953109486456\n",
      "Epoch:15 Learning rate 0.003 Weight Decay 1e-07 Train Loss:0.7021956882063215                 Valid Loss:0.8266588605343587 Train RMSE:0.7998044743118808 Valid RMSE:0.8727638782763343\n",
      "Epoch:16 Learning rate 0.003 Weight Decay 1e-07 Train Loss:0.6989141672338018                 Valid Loss:0.8646568992691415 Train RMSE:0.7973723020494544 Valid RMSE:0.8886950501988765\n",
      "Epoch:17 Learning rate 0.003 Weight Decay 1e-07 Train Loss:0.6973439737046413                 Valid Loss:0.8335692325487296 Train RMSE:0.796677773882488 Valid RMSE:0.8735837408425535\n",
      "Epoch:18 Learning rate 0.003 Weight Decay 1e-07 Train Loss:0.6961278966936705                 Valid Loss:0.8481202752674316 Train RMSE:0.7958483915215979 Valid RMSE:0.8822612586824269\n",
      "Epoch:19 Learning rate 0.003 Weight Decay 1e-07 Train Loss:0.6977881682586459                 Valid Loss:0.8376109726449311 Train RMSE:0.7968761955398349 Valid RMSE:0.8762691425079568\n",
      "Epoch:20 Learning rate 0.003 Weight Decay 1e-07 Train Loss:0.6967817806129439                 Valid Loss:0.8411535133801926 Train RMSE:0.7960178724407176 Valid RMSE:0.8769865402616971\n",
      "Epoch:21 Learning rate 0.003 Weight Decay 1e-07 Train Loss:0.6960373504362523                 Valid Loss:0.8437080391838521 Train RMSE:0.7955445573356893 Valid RMSE:0.8821998403436364\n",
      "Epoch:22 Learning rate 0.003 Weight Decay 1e-07 Train Loss:0.6897712847868464                 Valid Loss:0.841313654614478 Train RMSE:0.7923787523249566 Valid RMSE:0.882856713661445\n",
      "Epoch:23 Learning rate 0.003 Weight Decay 1e-07 Train Loss:0.6925052242722672                 Valid Loss:0.8322614194747004 Train RMSE:0.7937208285263364 Valid RMSE:0.8740745169176104\n",
      "Epoch:24 Learning rate 0.003 Weight Decay 1e-07 Train Loss:0.6909264416981631                 Valid Loss:0.845365224265797 Train RMSE:0.7931844520697774 Valid RMSE:0.8815371940004066\n"
     ]
    }
   ],
   "source": [
    "learner.run_epochs(dltrain,dlvalid,25)"
   ]
  },
  {
   "cell_type": "code",
   "execution_count": 157,
   "metadata": {},
   "outputs": [
    {
     "ename": "NameError",
     "evalue": "name 'cfobj' is not defined",
     "output_type": "error",
     "traceback": [
      "\u001b[0;31m---------------------------------------------------------------------------\u001b[0m",
      "\u001b[0;31mNameError\u001b[0m                                 Traceback (most recent call last)",
      "\u001b[0;32m<ipython-input-157-747a232ce960>\u001b[0m in \u001b[0;36m<module>\u001b[0;34m\u001b[0m\n\u001b[0;32m----> 1\u001b[0;31m \u001b[0;32mdel\u001b[0m \u001b[0mcfobj\u001b[0m\u001b[0;34m\u001b[0m\u001b[0;34m\u001b[0m\u001b[0m\n\u001b[0m",
      "\u001b[0;31mNameError\u001b[0m: name 'cfobj' is not defined"
     ]
    }
   ],
   "source": [
    "del cfobj\n",
    "torch.cuda.empty_cache()"
   ]
  },
  {
   "cell_type": "code",
   "execution_count": 159,
   "metadata": {},
   "outputs": [],
   "source": [
    "cfobj=cf(n_users,n_emb_user,n_emb_movie,n_movies,min_rating,max_rating,dropout_e,hidden,dropouts)\n",
    "cfobj=cfobj.to(device)"
   ]
  },
  {
   "cell_type": "code",
   "execution_count": 163,
   "metadata": {},
   "outputs": [],
   "source": [
    "wd=1e-7\n",
    "optimizer=torch.optim.Adam(cfobj.parameters(),lr=5e-3,betas=(0.9,0.999), weight_decay=wd)\n",
    "learner=Learner(cfobj,optimizer,None,device,0,12000,0.25,cycle_mult=2,start_lr=8e-3,end_lr=8e-4)"
   ]
  },
  {
   "cell_type": "code",
   "execution_count": 164,
   "metadata": {},
   "outputs": [
    {
     "name": "stdout",
     "output_type": "stream",
     "text": [
      "Epoch:0 Learning rate 0.005 Weight Decay 1e-07 Train RMSE:0.8229285681844204                 Valid Loss:0.8615894848798401 Train RMSE:0.8698911480072277 Valid RMSE:0.8874446766972895\n",
      "Epoch:1 Learning rate 0.002 Weight Decay 1e-07 Train RMSE:0.7523871154602544                 Valid Loss:0.8140621552159633 Train RMSE:0.8295780716880736 Valid RMSE:0.8634174622510996\n",
      "Epoch:2 Learning rate 0.0008 Weight Decay 1e-07 Train RMSE:0.7161900063668613                 Valid Loss:0.8155646758843849 Train RMSE:0.8081958299777826 Valid RMSE:0.8668685153529271\n",
      "Epoch:3 Learning rate 0.005 Weight Decay 1e-07 Train RMSE:0.764548994610953                 Valid Loss:0.8362634741685676 Train RMSE:0.8370915583281759 Valid RMSE:0.874047153482369\n",
      "Epoch:4 Learning rate 0.0031622776601683794 Weight Decay 1e-07 Train RMSE:0.7377704635803681                 Valid Loss:0.8137270287447369 Train RMSE:0.821531772251338 Valid RMSE:0.8672721559925182\n",
      "Epoch:5 Learning rate 0.002 Weight Decay 1e-07 Train RMSE:0.714365682189651                 Valid Loss:0.814559916375555 Train RMSE:0.807394711416059 Valid RMSE:0.8657865666457989\n",
      "Epoch:6 Learning rate 0.0012649110640673518 Weight Decay 1e-07 Train RMSE:0.6950872895266461                 Valid Loss:0.8156027235770207 Train RMSE:0.7960028720836875 Valid RMSE:0.8658822731146966\n",
      "Epoch:7 Learning rate 0.0008 Weight Decay 1e-07 Train RMSE:0.6817987055963691                 Valid Loss:0.8208397374585165 Train RMSE:0.7881102732762468 Valid RMSE:0.8683520257843313\n",
      "Epoch:8 Learning rate 0.005 Weight Decay 1e-07 Train RMSE:0.7396707390655063                 Valid Loss:0.824328491096455 Train RMSE:0.8216970239469852 Valid RMSE:0.8731495984269873\n",
      "Epoch:9 Learning rate 0.0039763536438352535 Weight Decay 1e-07 Train RMSE:0.7280550372479115                 Valid Loss:0.8303889754412195 Train RMSE:0.8153797831029861 Valid RMSE:0.8713853116996901\n"
     ]
    }
   ],
   "source": [
    "learner.run_epochs(dltrain,dlvalid,10)"
   ]
  },
  {
   "cell_type": "code",
   "execution_count": 172,
   "metadata": {},
   "outputs": [
    {
     "name": "stderr",
     "output_type": "stream",
     "text": [
      "/home/kirana/anaconda3/lib/python3.7/site-packages/torch/serialization.py:256: UserWarning: Couldn't retrieve source code for container of type cf. It won't be checked for correctness upon loading.\n",
      "  \"type \" + obj.__name__ + \". It won't be checked \"\n"
     ]
    }
   ],
   "source": [
    "\n",
    "torch.save(cfobj,f'{DATAPATH}/inter/cfobj')"
   ]
  },
  {
   "cell_type": "code",
   "execution_count": 177,
   "metadata": {},
   "outputs": [],
   "source": [
    "torch.save(optimizer,f'{DATAPATH}/inter/optimizer')"
   ]
  },
  {
   "cell_type": "code",
   "execution_count": 183,
   "metadata": {},
   "outputs": [
    {
     "ename": "PicklingError",
     "evalue": "Can't pickle <class '__main__.Learner'>: it's not the same object as __main__.Learner",
     "output_type": "error",
     "traceback": [
      "\u001b[0;31m---------------------------------------------------------------------------\u001b[0m",
      "\u001b[0;31mPicklingError\u001b[0m                             Traceback (most recent call last)",
      "\u001b[0;32m<ipython-input-183-2be1dcb93c98>\u001b[0m in \u001b[0;36m<module>\u001b[0;34m\u001b[0m\n\u001b[0;32m----> 1\u001b[0;31m \u001b[0mpickle\u001b[0m\u001b[0;34m.\u001b[0m\u001b[0mdump\u001b[0m\u001b[0;34m(\u001b[0m\u001b[0mlearner\u001b[0m\u001b[0;34m,\u001b[0m\u001b[0mopen\u001b[0m\u001b[0;34m(\u001b[0m\u001b[0;34mf'{DATAPATH}/inter/learner'\u001b[0m\u001b[0;34m,\u001b[0m\u001b[0;34m'wb'\u001b[0m\u001b[0;34m)\u001b[0m\u001b[0;34m)\u001b[0m\u001b[0;34m\u001b[0m\u001b[0;34m\u001b[0m\u001b[0m\n\u001b[0m",
      "\u001b[0;31mPicklingError\u001b[0m: Can't pickle <class '__main__.Learner'>: it's not the same object as __main__.Learner"
     ]
    }
   ],
   "source": [
    "pickle.dump(learner,open(f'{DATAPATH}/inter/learner','wb'))"
   ]
  },
  {
   "cell_type": "code",
   "execution_count": null,
   "metadata": {},
   "outputs": [],
   "source": []
  }
 ],
 "metadata": {
  "kernelspec": {
   "display_name": "Python 3",
   "language": "python",
   "name": "python3"
  },
  "language_info": {
   "codemirror_mode": {
    "name": "ipython",
    "version": 3
   },
   "file_extension": ".py",
   "mimetype": "text/x-python",
   "name": "python",
   "nbconvert_exporter": "python",
   "pygments_lexer": "ipython3",
   "version": "3.7.3"
  }
 },
 "nbformat": 4,
 "nbformat_minor": 2
}
