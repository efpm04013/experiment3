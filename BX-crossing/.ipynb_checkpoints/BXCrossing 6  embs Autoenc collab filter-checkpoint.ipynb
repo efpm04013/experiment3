{
 "cells": [
  {
   "cell_type": "code",
   "execution_count": 1,
   "metadata": {},
   "outputs": [],
   "source": [
    "PATH='/home/kirana/Documents/phd/exp3_autoencoder'\n",
    "DATAPATH='/home/kirana/Documents/final_dissertation_final/experiments/datasets/bookcrossing'"
   ]
  },
  {
   "cell_type": "code",
   "execution_count": 2,
   "metadata": {},
   "outputs": [],
   "source": [
    "import pandas as pd\n",
    "import numpy as np\n",
    "import matplotlib.pyplot as plt\n",
    "import sklearn\n",
    "import os\n",
    "import pickle\n",
    "import torch\n",
    "from torch.utils.data import Dataset, DataLoader\n",
    "from torch import nn"
   ]
  },
  {
   "cell_type": "code",
   "execution_count": 3,
   "metadata": {},
   "outputs": [],
   "source": [
    "os.environ['CUDA_LAUNCH_BLOCKING'] = \"1\""
   ]
  },
  {
   "cell_type": "code",
   "execution_count": 4,
   "metadata": {},
   "outputs": [],
   "source": [
    "[df, df_train,df_valid,df,df_ratings,idx_to_user,\\\n",
    "             idx_to_movie,movie_to_idx,user_to_idx]=pickle.load(open(f'{DATAPATH}/reads.pkl','rb'))"
   ]
  },
  {
   "cell_type": "code",
   "execution_count": 5,
   "metadata": {},
   "outputs": [
    {
     "data": {
      "text/plain": [
       "(433671, 22)"
      ]
     },
     "execution_count": 5,
     "metadata": {},
     "output_type": "execute_result"
    }
   ],
   "source": [
    "df.shape"
   ]
  },
  {
   "cell_type": "code",
   "execution_count": 6,
   "metadata": {},
   "outputs": [],
   "source": [
    "df_train=df.loc[df['random_dstype']=='train']\n",
    "df_valid=df.loc[df['random_dstype']!='train']"
   ]
  },
  {
   "cell_type": "code",
   "execution_count": 7,
   "metadata": {},
   "outputs": [
    {
     "data": {
      "text/html": [
       "<div>\n",
       "<style scoped>\n",
       "    .dataframe tbody tr th:only-of-type {\n",
       "        vertical-align: middle;\n",
       "    }\n",
       "\n",
       "    .dataframe tbody tr th {\n",
       "        vertical-align: top;\n",
       "    }\n",
       "\n",
       "    .dataframe thead th {\n",
       "        text-align: right;\n",
       "    }\n",
       "</style>\n",
       "<table border=\"1\" class=\"dataframe\">\n",
       "  <thead>\n",
       "    <tr style=\"text-align: right;\">\n",
       "      <th></th>\n",
       "      <th>49299</th>\n",
       "      <th>339650</th>\n",
       "      <th>358933</th>\n",
       "      <th>393023</th>\n",
       "      <th>347702</th>\n",
       "    </tr>\n",
       "  </thead>\n",
       "  <tbody>\n",
       "    <tr>\n",
       "      <th>userId</th>\n",
       "      <td>26538</td>\n",
       "      <td>213826</td>\n",
       "      <td>227054</td>\n",
       "      <td>248656</td>\n",
       "      <td>220091</td>\n",
       "    </tr>\n",
       "    <tr>\n",
       "      <th>itemId</th>\n",
       "      <td>0590010891</td>\n",
       "      <td>1562764047</td>\n",
       "      <td>0553284789</td>\n",
       "      <td>0380977788</td>\n",
       "      <td>0425172996</td>\n",
       "    </tr>\n",
       "    <tr>\n",
       "      <th>rating</th>\n",
       "      <td>10</td>\n",
       "      <td>7</td>\n",
       "      <td>7</td>\n",
       "      <td>10</td>\n",
       "      <td>8</td>\n",
       "    </tr>\n",
       "    <tr>\n",
       "      <th>num_ratings_per_user_gt_20</th>\n",
       "      <td>True</td>\n",
       "      <td>False</td>\n",
       "      <td>False</td>\n",
       "      <td>True</td>\n",
       "      <td>True</td>\n",
       "    </tr>\n",
       "    <tr>\n",
       "      <th>num_ratings_per_item_gt_200</th>\n",
       "      <td>False</td>\n",
       "      <td>False</td>\n",
       "      <td>False</td>\n",
       "      <td>False</td>\n",
       "      <td>False</td>\n",
       "    </tr>\n",
       "    <tr>\n",
       "      <th>flag_clean_considered</th>\n",
       "      <td>False</td>\n",
       "      <td>False</td>\n",
       "      <td>False</td>\n",
       "      <td>False</td>\n",
       "      <td>False</td>\n",
       "    </tr>\n",
       "    <tr>\n",
       "      <th>Location</th>\n",
       "      <td>rawlins, wyoming, usa</td>\n",
       "      <td>university city, missouri, usa</td>\n",
       "      <td>nampa, idaho, usa</td>\n",
       "      <td>altamonte springs, florida, usa</td>\n",
       "      <td>san diego, california, usa</td>\n",
       "    </tr>\n",
       "    <tr>\n",
       "      <th>Age</th>\n",
       "      <td>32</td>\n",
       "      <td>40</td>\n",
       "      <td>27</td>\n",
       "      <td>34</td>\n",
       "      <td>NaN</td>\n",
       "    </tr>\n",
       "    <tr>\n",
       "      <th>Book-Title</th>\n",
       "      <td>Star Wars Episode I: The Phantom Menace</td>\n",
       "      <td>How the Internet Works (How It Works Series (E...</td>\n",
       "      <td>F Is for Fugitive (Kinsey Millhone Mysteries (...</td>\n",
       "      <td>Coraline</td>\n",
       "      <td>Vector</td>\n",
       "    </tr>\n",
       "    <tr>\n",
       "      <th>Book-Author</th>\n",
       "      <td>Patricia C. Wrede</td>\n",
       "      <td>Preston Gralla</td>\n",
       "      <td>Sue Grafton</td>\n",
       "      <td>Neil Gaiman</td>\n",
       "      <td>Robin Cook</td>\n",
       "    </tr>\n",
       "    <tr>\n",
       "      <th>Year-Of-Publication</th>\n",
       "      <td>1999</td>\n",
       "      <td>1996</td>\n",
       "      <td>1990</td>\n",
       "      <td>2002</td>\n",
       "      <td>2000</td>\n",
       "    </tr>\n",
       "    <tr>\n",
       "      <th>Publisher</th>\n",
       "      <td>Scholastic</td>\n",
       "      <td>Macmillan Computer Pub</td>\n",
       "      <td>Bantam</td>\n",
       "      <td>HarperCollins</td>\n",
       "      <td>Berkley Publishing Group</td>\n",
       "    </tr>\n",
       "    <tr>\n",
       "      <th>random_dstype</th>\n",
       "      <td>train</td>\n",
       "      <td>train</td>\n",
       "      <td>train</td>\n",
       "      <td>train</td>\n",
       "      <td>train</td>\n",
       "    </tr>\n",
       "    <tr>\n",
       "      <th>user_idx</th>\n",
       "      <td>1</td>\n",
       "      <td>2</td>\n",
       "      <td>3</td>\n",
       "      <td>4</td>\n",
       "      <td>5</td>\n",
       "    </tr>\n",
       "    <tr>\n",
       "      <th>item_idx</th>\n",
       "      <td>1</td>\n",
       "      <td>2</td>\n",
       "      <td>3</td>\n",
       "      <td>4</td>\n",
       "      <td>5</td>\n",
       "    </tr>\n",
       "    <tr>\n",
       "      <th>dstype_random_train</th>\n",
       "      <td>1</td>\n",
       "      <td>1</td>\n",
       "      <td>1</td>\n",
       "      <td>1</td>\n",
       "      <td>1</td>\n",
       "    </tr>\n",
       "    <tr>\n",
       "      <th>dstype_random_valid</th>\n",
       "      <td>0</td>\n",
       "      <td>0</td>\n",
       "      <td>0</td>\n",
       "      <td>0</td>\n",
       "      <td>0</td>\n",
       "    </tr>\n",
       "    <tr>\n",
       "      <th>location_idx</th>\n",
       "      <td>1</td>\n",
       "      <td>2</td>\n",
       "      <td>3</td>\n",
       "      <td>4</td>\n",
       "      <td>5</td>\n",
       "    </tr>\n",
       "    <tr>\n",
       "      <th>age_idx</th>\n",
       "      <td>1</td>\n",
       "      <td>2</td>\n",
       "      <td>3</td>\n",
       "      <td>4</td>\n",
       "      <td>0</td>\n",
       "    </tr>\n",
       "    <tr>\n",
       "      <th>title_idx</th>\n",
       "      <td>1</td>\n",
       "      <td>2</td>\n",
       "      <td>3</td>\n",
       "      <td>4</td>\n",
       "      <td>5</td>\n",
       "    </tr>\n",
       "    <tr>\n",
       "      <th>author_idx</th>\n",
       "      <td>1</td>\n",
       "      <td>2</td>\n",
       "      <td>3</td>\n",
       "      <td>4</td>\n",
       "      <td>5</td>\n",
       "    </tr>\n",
       "    <tr>\n",
       "      <th>publisher_idx</th>\n",
       "      <td>1</td>\n",
       "      <td>2</td>\n",
       "      <td>3</td>\n",
       "      <td>4</td>\n",
       "      <td>5</td>\n",
       "    </tr>\n",
       "  </tbody>\n",
       "</table>\n",
       "</div>"
      ],
      "text/plain": [
       "                                                              49299   \\\n",
       "userId                                                         26538   \n",
       "itemId                                                    0590010891   \n",
       "rating                                                            10   \n",
       "num_ratings_per_user_gt_20                                      True   \n",
       "num_ratings_per_item_gt_200                                    False   \n",
       "flag_clean_considered                                          False   \n",
       "Location                                       rawlins, wyoming, usa   \n",
       "Age                                                               32   \n",
       "Book-Title                   Star Wars Episode I: The Phantom Menace   \n",
       "Book-Author                                        Patricia C. Wrede   \n",
       "Year-Of-Publication                                             1999   \n",
       "Publisher                                                 Scholastic   \n",
       "random_dstype                                                  train   \n",
       "user_idx                                                           1   \n",
       "item_idx                                                           1   \n",
       "dstype_random_train                                                1   \n",
       "dstype_random_valid                                                0   \n",
       "location_idx                                                       1   \n",
       "age_idx                                                            1   \n",
       "title_idx                                                          1   \n",
       "author_idx                                                         1   \n",
       "publisher_idx                                                      1   \n",
       "\n",
       "                                                                        339650  \\\n",
       "userId                                                                  213826   \n",
       "itemId                                                              1562764047   \n",
       "rating                                                                       7   \n",
       "num_ratings_per_user_gt_20                                               False   \n",
       "num_ratings_per_item_gt_200                                              False   \n",
       "flag_clean_considered                                                    False   \n",
       "Location                                        university city, missouri, usa   \n",
       "Age                                                                         40   \n",
       "Book-Title                   How the Internet Works (How It Works Series (E...   \n",
       "Book-Author                                                     Preston Gralla   \n",
       "Year-Of-Publication                                                       1996   \n",
       "Publisher                                               Macmillan Computer Pub   \n",
       "random_dstype                                                            train   \n",
       "user_idx                                                                     2   \n",
       "item_idx                                                                     2   \n",
       "dstype_random_train                                                          1   \n",
       "dstype_random_valid                                                          0   \n",
       "location_idx                                                                 2   \n",
       "age_idx                                                                      2   \n",
       "title_idx                                                                    2   \n",
       "author_idx                                                                   2   \n",
       "publisher_idx                                                                2   \n",
       "\n",
       "                                                                        358933  \\\n",
       "userId                                                                  227054   \n",
       "itemId                                                              0553284789   \n",
       "rating                                                                       7   \n",
       "num_ratings_per_user_gt_20                                               False   \n",
       "num_ratings_per_item_gt_200                                              False   \n",
       "flag_clean_considered                                                    False   \n",
       "Location                                                     nampa, idaho, usa   \n",
       "Age                                                                         27   \n",
       "Book-Title                   F Is for Fugitive (Kinsey Millhone Mysteries (...   \n",
       "Book-Author                                                        Sue Grafton   \n",
       "Year-Of-Publication                                                       1990   \n",
       "Publisher                                                               Bantam   \n",
       "random_dstype                                                            train   \n",
       "user_idx                                                                     3   \n",
       "item_idx                                                                     3   \n",
       "dstype_random_train                                                          1   \n",
       "dstype_random_valid                                                          0   \n",
       "location_idx                                                                 3   \n",
       "age_idx                                                                      3   \n",
       "title_idx                                                                    3   \n",
       "author_idx                                                                   3   \n",
       "publisher_idx                                                                3   \n",
       "\n",
       "                                                      393023  \\\n",
       "userId                                                248656   \n",
       "itemId                                            0380977788   \n",
       "rating                                                    10   \n",
       "num_ratings_per_user_gt_20                              True   \n",
       "num_ratings_per_item_gt_200                            False   \n",
       "flag_clean_considered                                  False   \n",
       "Location                     altamonte springs, florida, usa   \n",
       "Age                                                       34   \n",
       "Book-Title                                          Coraline   \n",
       "Book-Author                                      Neil Gaiman   \n",
       "Year-Of-Publication                                     2002   \n",
       "Publisher                                      HarperCollins   \n",
       "random_dstype                                          train   \n",
       "user_idx                                                   4   \n",
       "item_idx                                                   4   \n",
       "dstype_random_train                                        1   \n",
       "dstype_random_valid                                        0   \n",
       "location_idx                                               4   \n",
       "age_idx                                                    4   \n",
       "title_idx                                                  4   \n",
       "author_idx                                                 4   \n",
       "publisher_idx                                              4   \n",
       "\n",
       "                                                 347702  \n",
       "userId                                           220091  \n",
       "itemId                                       0425172996  \n",
       "rating                                                8  \n",
       "num_ratings_per_user_gt_20                         True  \n",
       "num_ratings_per_item_gt_200                       False  \n",
       "flag_clean_considered                             False  \n",
       "Location                     san diego, california, usa  \n",
       "Age                                                 NaN  \n",
       "Book-Title                                       Vector  \n",
       "Book-Author                                  Robin Cook  \n",
       "Year-Of-Publication                                2000  \n",
       "Publisher                      Berkley Publishing Group  \n",
       "random_dstype                                     train  \n",
       "user_idx                                              5  \n",
       "item_idx                                              5  \n",
       "dstype_random_train                                   1  \n",
       "dstype_random_valid                                   0  \n",
       "location_idx                                          5  \n",
       "age_idx                                               0  \n",
       "title_idx                                             5  \n",
       "author_idx                                            5  \n",
       "publisher_idx                                         5  "
      ]
     },
     "execution_count": 7,
     "metadata": {},
     "output_type": "execute_result"
    }
   ],
   "source": [
    "df_train.head().T"
   ]
  },
  {
   "cell_type": "code",
   "execution_count": 8,
   "metadata": {},
   "outputs": [
    {
     "data": {
      "text/plain": [
       "((390303, 22), (43368, 22))"
      ]
     },
     "execution_count": 8,
     "metadata": {},
     "output_type": "execute_result"
    }
   ],
   "source": [
    "df_train.shape,df_valid.shape"
   ]
  },
  {
   "cell_type": "markdown",
   "metadata": {},
   "source": [
    "### Add the autoencoder features"
   ]
  },
  {
   "cell_type": "code",
   "execution_count": 9,
   "metadata": {},
   "outputs": [],
   "source": [
    "import pickle"
   ]
  },
  {
   "cell_type": "code",
   "execution_count": 10,
   "metadata": {},
   "outputs": [],
   "source": [
    "[df_train_user_autoenc,df_valid_user_autoenc,user_mtx_1_weights,user_mtx_2_weights]=\\\n",
    "    pickle.load(open(f'{DATAPATH}/inter/user_autoenc_weights.pkl','rb'))"
   ]
  },
  {
   "cell_type": "code",
   "execution_count": 11,
   "metadata": {},
   "outputs": [],
   "source": [
    "[df_train_item_autoenc, df_valid_item_autoenc,item_mtx_1_weights,item_mtx_2_weights]=\\\n",
    "    pickle.load(open(f'{DATAPATH}/inter/item_autoenc_weights.pkl','rb'))"
   ]
  },
  {
   "cell_type": "code",
   "execution_count": 12,
   "metadata": {},
   "outputs": [
    {
     "data": {
      "text/plain": [
       "((77806, 11),\n",
       " pandas.core.frame.DataFrame,\n",
       "    user_idx  user_autoenc0  user_autoenc1  user_autoenc2  user_autoenc3  \\\n",
       " 0         0      -1.892300       1.902252      -1.564169      -1.901883   \n",
       " 1         1      -1.686263       1.694752      -1.398009      -1.695426   \n",
       " 2         2      -1.989719       2.000360      -1.642692      -1.999496   \n",
       " 3         3      -1.736229       1.745061      -1.438396      -1.745506   \n",
       " 4         4      -1.773188       1.782292      -1.468106      -1.782527   \n",
       " \n",
       "    user_autoenc4  user_autoenc5  user_autoenc6  user_autoenc7  user_autoenc8  \\\n",
       " 0       1.871288      -1.915076      -1.498631      -1.815667       1.510823   \n",
       " 1       1.667029      -1.706558      -1.339383      -1.617516       1.350429   \n",
       " 2       1.967867      -2.013657      -1.573877      -1.909373       1.586619   \n",
       " 3       1.716551      -1.757121      -1.378085      -1.665560       1.389419   \n",
       " 4       1.753202      -1.794527      -1.406562      -1.701115       1.418095   \n",
       " \n",
       "    user_autoenc9  \n",
       " 0      -1.943609  \n",
       " 1      -1.732796  \n",
       " 2      -2.043264  \n",
       " 3      -1.783935  \n",
       " 4      -1.821732  )"
      ]
     },
     "execution_count": 12,
     "metadata": {},
     "output_type": "execute_result"
    }
   ],
   "source": [
    "df_train_user_autoenc.shape, type(df_train_user_autoenc),df_train_user_autoenc.head()"
   ]
  },
  {
   "cell_type": "code",
   "execution_count": 13,
   "metadata": {},
   "outputs": [
    {
     "data": {
      "text/plain": [
       "((77806, 11),\n",
       " pandas.core.frame.DataFrame,\n",
       "    user_idx  user_autoenc0  user_autoenc1  user_autoenc2  user_autoenc3  \\\n",
       " 0         0      -1.686263       1.694752      -1.398009      -1.695426   \n",
       " 1         1      -1.686263       1.694752      -1.398009      -1.695426   \n",
       " 2         2      -1.686277       1.694766      -1.398021      -1.695440   \n",
       " 3         3      -1.686269       1.694758      -1.398014      -1.695432   \n",
       " 4         4      -1.686263       1.694752      -1.398009      -1.695426   \n",
       " \n",
       "    user_autoenc4  user_autoenc5  user_autoenc6  user_autoenc7  user_autoenc8  \\\n",
       " 0       1.667029      -1.706558      -1.339383      -1.617516       1.350429   \n",
       " 1       1.667029      -1.706558      -1.339383      -1.617516       1.350429   \n",
       " 2       1.667043      -1.706572      -1.339395      -1.617529       1.350440   \n",
       " 3       1.667034      -1.706564      -1.339388      -1.617521       1.350434   \n",
       " 4       1.667029      -1.706558      -1.339383      -1.617516       1.350429   \n",
       " \n",
       "    user_autoenc9  \n",
       " 0      -1.732796  \n",
       " 1      -1.732796  \n",
       " 2      -1.732811  \n",
       " 3      -1.732802  \n",
       " 4      -1.732796  )"
      ]
     },
     "execution_count": 13,
     "metadata": {},
     "output_type": "execute_result"
    }
   ],
   "source": [
    "df_valid_user_autoenc.shape, type(df_valid_user_autoenc),df_valid_user_autoenc.head()"
   ]
  },
  {
   "cell_type": "code",
   "execution_count": 14,
   "metadata": {},
   "outputs": [
    {
     "data": {
      "text/plain": [
       "((185974, 26),\n",
       " pandas.core.frame.DataFrame,\n",
       "    item_idx  item_autoenc0  item_autoenc1  item_autoenc2  item_autoenc3  \\\n",
       " 0         0       1.579132       1.517978       1.578589      -1.540997   \n",
       " 1         1       1.569089       1.508334       1.568551      -1.531216   \n",
       " 2         2       1.585941       1.524516       1.585391      -1.547614   \n",
       " 3         3       1.584902       1.523516       1.584351      -1.546593   \n",
       " 4         4       1.574386       1.513422       1.573842      -1.536364   \n",
       " \n",
       "    item_autoenc4  item_autoenc5  item_autoenc6  item_autoenc7  item_autoenc8  \\\n",
       " 0       1.538934      -1.536199      -1.519847      -1.565494      -1.585846   \n",
       " 1       1.529148      -1.526430      -1.510185      -1.555542      -1.575764   \n",
       " 2       1.545570      -1.542825      -1.526399      -1.572234      -1.592677   \n",
       " 3       1.544561      -1.541814      -1.525400      -1.571202      -1.591634   \n",
       " 4       1.534310      -1.531584      -1.515284      -1.560782      -1.581078   \n",
       " \n",
       "    ...  item_autoenc15  item_autoenc16  item_autoenc17  item_autoenc18  \\\n",
       " 0  ...        1.543547       -1.536552        1.565131       -1.588676   \n",
       " 1  ...        1.533724       -1.526794        1.555178       -1.578577   \n",
       " 2  ...        1.550212       -1.543148        1.571881       -1.595518   \n",
       " 3  ...        1.549199       -1.542131        1.570850       -1.594473   \n",
       " 4  ...        1.538910       -1.531927        1.560429       -1.583899   \n",
       " \n",
       "    item_autoenc19  item_autoenc20  item_autoenc21  item_autoenc22  \\\n",
       " 0        1.430281        1.493781       -1.519735       -1.587672   \n",
       " 1        1.421204        1.484275       -1.510066       -1.577579   \n",
       " 2        1.436406        1.500238       -1.526294       -1.594510   \n",
       " 3        1.435454        1.499260       -1.525299       -1.593467   \n",
       " 4        1.425974        1.489298       -1.515168       -1.582898   \n",
       " \n",
       "    item_autoenc23  item_autoenc24  \n",
       " 0       -1.460990        1.558221  \n",
       " 1       -1.451687        1.548311  \n",
       " 2       -1.467309        1.564942  \n",
       " 3       -1.466349        1.563919  \n",
       " 4       -1.456599        1.553540  \n",
       " \n",
       " [5 rows x 26 columns])"
      ]
     },
     "execution_count": 14,
     "metadata": {},
     "output_type": "execute_result"
    }
   ],
   "source": [
    "df_train_item_autoenc.shape, type(df_train_item_autoenc),df_train_item_autoenc.head()"
   ]
  },
  {
   "cell_type": "code",
   "execution_count": 15,
   "metadata": {},
   "outputs": [
    {
     "data": {
      "text/plain": [
       "((185974, 26),\n",
       " pandas.core.frame.DataFrame,\n",
       "    item_idx  item_autoenc0  item_autoenc1  item_autoenc2  item_autoenc3  \\\n",
       " 0         0       1.569107       1.508351       1.568569      -1.531233   \n",
       " 1         1       1.569089       1.508334       1.568551      -1.531216   \n",
       " 2         2       1.569945       1.509156       1.569407      -1.532050   \n",
       " 3         3       1.570643       1.509825       1.570102      -1.532723   \n",
       " 4         4       1.569108       1.508352       1.568570      -1.531234   \n",
       " \n",
       "    item_autoenc4  item_autoenc5  item_autoenc6  item_autoenc7  item_autoenc8  \\\n",
       " 0       1.529166      -1.526447      -1.510202      -1.555560      -1.575782   \n",
       " 1       1.529148      -1.526430      -1.510185      -1.555542      -1.575764   \n",
       " 2       1.529982      -1.527262      -1.511008      -1.556391      -1.576623   \n",
       " 3       1.530662      -1.527941      -1.511679      -1.557078      -1.577322   \n",
       " 4       1.529166      -1.526448      -1.510203      -1.555561      -1.575783   \n",
       " \n",
       "    ...  item_autoenc15  item_autoenc16  item_autoenc17  item_autoenc18  \\\n",
       " 0  ...        1.533742       -1.526812        1.555196       -1.578595   \n",
       " 1  ...        1.533724       -1.526794        1.555178       -1.578577   \n",
       " 2  ...        1.534562       -1.527626        1.556027       -1.579438   \n",
       " 3  ...        1.535246       -1.528297        1.556718       -1.580137   \n",
       " 4  ...        1.533742       -1.526812        1.555196       -1.578595   \n",
       " \n",
       "    item_autoenc19  item_autoenc20  item_autoenc21  item_autoenc22  \\\n",
       " 0        1.421221        1.484292       -1.510084       -1.577597   \n",
       " 1        1.421204        1.484275       -1.510066       -1.577579   \n",
       " 2        1.421978        1.485085       -1.510890       -1.578439   \n",
       " 3        1.422599        1.485749       -1.511563       -1.579138   \n",
       " 4        1.421221        1.484292       -1.510084       -1.577597   \n",
       " \n",
       "    item_autoenc23  item_autoenc24  \n",
       " 0       -1.451704        1.548329  \n",
       " 1       -1.451687        1.548311  \n",
       " 2       -1.452481        1.549156  \n",
       " 3       -1.453129        1.549845  \n",
       " 4       -1.451705        1.548330  \n",
       " \n",
       " [5 rows x 26 columns])"
      ]
     },
     "execution_count": 15,
     "metadata": {},
     "output_type": "execute_result"
    }
   ],
   "source": [
    "df_valid_item_autoenc.shape, type(df_valid_item_autoenc),df_valid_item_autoenc.head()"
   ]
  },
  {
   "cell_type": "code",
   "execution_count": 16,
   "metadata": {},
   "outputs": [
    {
     "data": {
      "text/plain": [
       "user_idx         False\n",
       "user_autoenc0    False\n",
       "user_autoenc1    False\n",
       "user_autoenc2    False\n",
       "user_autoenc3    False\n",
       "user_autoenc4    False\n",
       "user_autoenc5    False\n",
       "user_autoenc6    False\n",
       "user_autoenc7    False\n",
       "user_autoenc8    False\n",
       "user_autoenc9    False\n",
       "dtype: bool"
      ]
     },
     "execution_count": 16,
     "metadata": {},
     "output_type": "execute_result"
    }
   ],
   "source": [
    "df_valid_user_autoenc.isnull().any()"
   ]
  },
  {
   "cell_type": "code",
   "execution_count": 17,
   "metadata": {},
   "outputs": [
    {
     "data": {
      "text/plain": [
       "((390303, 22), (43368, 22))"
      ]
     },
     "execution_count": 17,
     "metadata": {},
     "output_type": "execute_result"
    }
   ],
   "source": [
    "df_train.shape, df_valid.shape"
   ]
  },
  {
   "cell_type": "code",
   "execution_count": 18,
   "metadata": {},
   "outputs": [],
   "source": [
    "df_train=pd.merge(df_train,df_train_item_autoenc,on='item_idx',how='left')"
   ]
  },
  {
   "cell_type": "code",
   "execution_count": 19,
   "metadata": {},
   "outputs": [
    {
     "data": {
      "text/plain": [
       "(390303, 47)"
      ]
     },
     "execution_count": 19,
     "metadata": {},
     "output_type": "execute_result"
    }
   ],
   "source": [
    "df_train.shape"
   ]
  },
  {
   "cell_type": "code",
   "execution_count": 20,
   "metadata": {},
   "outputs": [
    {
     "name": "stdout",
     "output_type": "stream",
     "text": [
      "(43368, 22)\n"
     ]
    },
    {
     "data": {
      "text/plain": [
       "(43368, 47)"
      ]
     },
     "execution_count": 20,
     "metadata": {},
     "output_type": "execute_result"
    }
   ],
   "source": [
    "print(df_valid.shape)\n",
    "df_valid=pd.merge(df_valid,df_valid_item_autoenc,on='item_idx',how='left')\n",
    "df_valid.shape"
   ]
  },
  {
   "cell_type": "code",
   "execution_count": 21,
   "metadata": {},
   "outputs": [
    {
     "name": "stdout",
     "output_type": "stream",
     "text": [
      "(43368, 47)\n"
     ]
    },
    {
     "data": {
      "text/plain": [
       "(43368, 57)"
      ]
     },
     "execution_count": 21,
     "metadata": {},
     "output_type": "execute_result"
    }
   ],
   "source": [
    "print(df_valid.shape)\n",
    "df_valid=pd.merge(df_valid,df_valid_user_autoenc,on='user_idx',how='left')\n",
    "df_valid.shape"
   ]
  },
  {
   "cell_type": "code",
   "execution_count": 22,
   "metadata": {},
   "outputs": [
    {
     "name": "stdout",
     "output_type": "stream",
     "text": [
      "(390303, 47)\n"
     ]
    },
    {
     "data": {
      "text/plain": [
       "(390303, 57)"
      ]
     },
     "execution_count": 22,
     "metadata": {},
     "output_type": "execute_result"
    }
   ],
   "source": [
    "print(df_train.shape)\n",
    "df_train=pd.merge(df_train,df_train_user_autoenc,on='user_idx',how='left')\n",
    "df_train.shape"
   ]
  },
  {
   "cell_type": "code",
   "execution_count": 23,
   "metadata": {},
   "outputs": [
    {
     "data": {
      "text/plain": [
       "Index(['userId', 'itemId', 'rating', 'num_ratings_per_user_gt_20',\n",
       "       'num_ratings_per_item_gt_200', 'flag_clean_considered', 'Location',\n",
       "       'Age', 'Book-Title', 'Book-Author', 'Year-Of-Publication', 'Publisher',\n",
       "       'random_dstype', 'user_idx', 'item_idx', 'dstype_random_train',\n",
       "       'dstype_random_valid', 'location_idx', 'age_idx', 'title_idx',\n",
       "       'author_idx', 'publisher_idx', 'item_autoenc0', 'item_autoenc1',\n",
       "       'item_autoenc2', 'item_autoenc3', 'item_autoenc4', 'item_autoenc5',\n",
       "       'item_autoenc6', 'item_autoenc7', 'item_autoenc8', 'item_autoenc9',\n",
       "       'item_autoenc10', 'item_autoenc11', 'item_autoenc12', 'item_autoenc13',\n",
       "       'item_autoenc14', 'item_autoenc15', 'item_autoenc16', 'item_autoenc17',\n",
       "       'item_autoenc18', 'item_autoenc19', 'item_autoenc20', 'item_autoenc21',\n",
       "       'item_autoenc22', 'item_autoenc23', 'item_autoenc24', 'user_autoenc0',\n",
       "       'user_autoenc1', 'user_autoenc2', 'user_autoenc3', 'user_autoenc4',\n",
       "       'user_autoenc5', 'user_autoenc6', 'user_autoenc7', 'user_autoenc8',\n",
       "       'user_autoenc9'],\n",
       "      dtype='object')"
      ]
     },
     "execution_count": 23,
     "metadata": {},
     "output_type": "execute_result"
    }
   ],
   "source": [
    "df_train.columns"
   ]
  },
  {
   "cell_type": "code",
   "execution_count": 24,
   "metadata": {},
   "outputs": [],
   "source": [
    "autoenc_cols=df_train.columns[df_train.columns.str.contains('autoenc')]"
   ]
  },
  {
   "cell_type": "code",
   "execution_count": 25,
   "metadata": {},
   "outputs": [],
   "source": [
    "autoenc_cols=autoenc_cols.tolist()"
   ]
  },
  {
   "cell_type": "code",
   "execution_count": 26,
   "metadata": {},
   "outputs": [
    {
     "data": {
      "text/html": [
       "<div>\n",
       "<style scoped>\n",
       "    .dataframe tbody tr th:only-of-type {\n",
       "        vertical-align: middle;\n",
       "    }\n",
       "\n",
       "    .dataframe tbody tr th {\n",
       "        vertical-align: top;\n",
       "    }\n",
       "\n",
       "    .dataframe thead th {\n",
       "        text-align: right;\n",
       "    }\n",
       "</style>\n",
       "<table border=\"1\" class=\"dataframe\">\n",
       "  <thead>\n",
       "    <tr style=\"text-align: right;\">\n",
       "      <th></th>\n",
       "      <th>userId</th>\n",
       "      <th>itemId</th>\n",
       "      <th>rating</th>\n",
       "      <th>num_ratings_per_user_gt_20</th>\n",
       "      <th>num_ratings_per_item_gt_200</th>\n",
       "      <th>flag_clean_considered</th>\n",
       "      <th>Location</th>\n",
       "      <th>Age</th>\n",
       "      <th>Book-Title</th>\n",
       "      <th>Book-Author</th>\n",
       "      <th>...</th>\n",
       "      <th>user_autoenc0</th>\n",
       "      <th>user_autoenc1</th>\n",
       "      <th>user_autoenc2</th>\n",
       "      <th>user_autoenc3</th>\n",
       "      <th>user_autoenc4</th>\n",
       "      <th>user_autoenc5</th>\n",
       "      <th>user_autoenc6</th>\n",
       "      <th>user_autoenc7</th>\n",
       "      <th>user_autoenc8</th>\n",
       "      <th>user_autoenc9</th>\n",
       "    </tr>\n",
       "  </thead>\n",
       "  <tbody>\n",
       "    <tr>\n",
       "      <th>0</th>\n",
       "      <td>26538</td>\n",
       "      <td>0590010891</td>\n",
       "      <td>10</td>\n",
       "      <td>True</td>\n",
       "      <td>False</td>\n",
       "      <td>False</td>\n",
       "      <td>rawlins, wyoming, usa</td>\n",
       "      <td>32.0</td>\n",
       "      <td>Star Wars Episode I: The Phantom Menace</td>\n",
       "      <td>Patricia C. Wrede</td>\n",
       "      <td>...</td>\n",
       "      <td>-1.686263</td>\n",
       "      <td>1.694752</td>\n",
       "      <td>-1.398009</td>\n",
       "      <td>-1.695426</td>\n",
       "      <td>1.667029</td>\n",
       "      <td>-1.706558</td>\n",
       "      <td>-1.339383</td>\n",
       "      <td>-1.617516</td>\n",
       "      <td>1.350429</td>\n",
       "      <td>-1.732796</td>\n",
       "    </tr>\n",
       "    <tr>\n",
       "      <th>1</th>\n",
       "      <td>213826</td>\n",
       "      <td>1562764047</td>\n",
       "      <td>7</td>\n",
       "      <td>False</td>\n",
       "      <td>False</td>\n",
       "      <td>False</td>\n",
       "      <td>university city, missouri, usa</td>\n",
       "      <td>40.0</td>\n",
       "      <td>How the Internet Works (How It Works Series (E...</td>\n",
       "      <td>Preston Gralla</td>\n",
       "      <td>...</td>\n",
       "      <td>-1.989719</td>\n",
       "      <td>2.000360</td>\n",
       "      <td>-1.642692</td>\n",
       "      <td>-1.999496</td>\n",
       "      <td>1.967867</td>\n",
       "      <td>-2.013657</td>\n",
       "      <td>-1.573877</td>\n",
       "      <td>-1.909373</td>\n",
       "      <td>1.586619</td>\n",
       "      <td>-2.043264</td>\n",
       "    </tr>\n",
       "    <tr>\n",
       "      <th>2</th>\n",
       "      <td>227054</td>\n",
       "      <td>0553284789</td>\n",
       "      <td>7</td>\n",
       "      <td>False</td>\n",
       "      <td>False</td>\n",
       "      <td>False</td>\n",
       "      <td>nampa, idaho, usa</td>\n",
       "      <td>27.0</td>\n",
       "      <td>F Is for Fugitive (Kinsey Millhone Mysteries (...</td>\n",
       "      <td>Sue Grafton</td>\n",
       "      <td>...</td>\n",
       "      <td>-1.736229</td>\n",
       "      <td>1.745061</td>\n",
       "      <td>-1.438396</td>\n",
       "      <td>-1.745506</td>\n",
       "      <td>1.716551</td>\n",
       "      <td>-1.757121</td>\n",
       "      <td>-1.378085</td>\n",
       "      <td>-1.665560</td>\n",
       "      <td>1.389419</td>\n",
       "      <td>-1.783935</td>\n",
       "    </tr>\n",
       "    <tr>\n",
       "      <th>3</th>\n",
       "      <td>248656</td>\n",
       "      <td>0380977788</td>\n",
       "      <td>10</td>\n",
       "      <td>True</td>\n",
       "      <td>False</td>\n",
       "      <td>False</td>\n",
       "      <td>altamonte springs, florida, usa</td>\n",
       "      <td>34.0</td>\n",
       "      <td>Coraline</td>\n",
       "      <td>Neil Gaiman</td>\n",
       "      <td>...</td>\n",
       "      <td>-1.773188</td>\n",
       "      <td>1.782292</td>\n",
       "      <td>-1.468106</td>\n",
       "      <td>-1.782527</td>\n",
       "      <td>1.753202</td>\n",
       "      <td>-1.794527</td>\n",
       "      <td>-1.406562</td>\n",
       "      <td>-1.701115</td>\n",
       "      <td>1.418095</td>\n",
       "      <td>-1.821732</td>\n",
       "    </tr>\n",
       "    <tr>\n",
       "      <th>4</th>\n",
       "      <td>220091</td>\n",
       "      <td>0425172996</td>\n",
       "      <td>8</td>\n",
       "      <td>True</td>\n",
       "      <td>False</td>\n",
       "      <td>False</td>\n",
       "      <td>san diego, california, usa</td>\n",
       "      <td>NaN</td>\n",
       "      <td>Vector</td>\n",
       "      <td>Robin Cook</td>\n",
       "      <td>...</td>\n",
       "      <td>-3.209548</td>\n",
       "      <td>3.228446</td>\n",
       "      <td>-2.629096</td>\n",
       "      <td>-3.222223</td>\n",
       "      <td>3.176938</td>\n",
       "      <td>-3.247816</td>\n",
       "      <td>-2.519126</td>\n",
       "      <td>-3.082494</td>\n",
       "      <td>2.538910</td>\n",
       "      <td>-3.291462</td>\n",
       "    </tr>\n",
       "  </tbody>\n",
       "</table>\n",
       "<p>5 rows × 57 columns</p>\n",
       "</div>"
      ],
      "text/plain": [
       "   userId      itemId  rating  num_ratings_per_user_gt_20  \\\n",
       "0   26538  0590010891      10                        True   \n",
       "1  213826  1562764047       7                       False   \n",
       "2  227054  0553284789       7                       False   \n",
       "3  248656  0380977788      10                        True   \n",
       "4  220091  0425172996       8                        True   \n",
       "\n",
       "   num_ratings_per_item_gt_200  flag_clean_considered  \\\n",
       "0                        False                  False   \n",
       "1                        False                  False   \n",
       "2                        False                  False   \n",
       "3                        False                  False   \n",
       "4                        False                  False   \n",
       "\n",
       "                          Location   Age  \\\n",
       "0            rawlins, wyoming, usa  32.0   \n",
       "1   university city, missouri, usa  40.0   \n",
       "2                nampa, idaho, usa  27.0   \n",
       "3  altamonte springs, florida, usa  34.0   \n",
       "4       san diego, california, usa   NaN   \n",
       "\n",
       "                                          Book-Title        Book-Author  ...  \\\n",
       "0            Star Wars Episode I: The Phantom Menace  Patricia C. Wrede  ...   \n",
       "1  How the Internet Works (How It Works Series (E...     Preston Gralla  ...   \n",
       "2  F Is for Fugitive (Kinsey Millhone Mysteries (...        Sue Grafton  ...   \n",
       "3                                           Coraline        Neil Gaiman  ...   \n",
       "4                                             Vector         Robin Cook  ...   \n",
       "\n",
       "  user_autoenc0 user_autoenc1 user_autoenc2  user_autoenc3  user_autoenc4  \\\n",
       "0     -1.686263      1.694752     -1.398009      -1.695426       1.667029   \n",
       "1     -1.989719      2.000360     -1.642692      -1.999496       1.967867   \n",
       "2     -1.736229      1.745061     -1.438396      -1.745506       1.716551   \n",
       "3     -1.773188      1.782292     -1.468106      -1.782527       1.753202   \n",
       "4     -3.209548      3.228446     -2.629096      -3.222223       3.176938   \n",
       "\n",
       "   user_autoenc5  user_autoenc6  user_autoenc7  user_autoenc8  user_autoenc9  \n",
       "0      -1.706558      -1.339383      -1.617516       1.350429      -1.732796  \n",
       "1      -2.013657      -1.573877      -1.909373       1.586619      -2.043264  \n",
       "2      -1.757121      -1.378085      -1.665560       1.389419      -1.783935  \n",
       "3      -1.794527      -1.406562      -1.701115       1.418095      -1.821732  \n",
       "4      -3.247816      -2.519126      -3.082494       2.538910      -3.291462  \n",
       "\n",
       "[5 rows x 57 columns]"
      ]
     },
     "execution_count": 26,
     "metadata": {},
     "output_type": "execute_result"
    }
   ],
   "source": [
    "df_train.head()"
   ]
  },
  {
   "cell_type": "code",
   "execution_count": 27,
   "metadata": {},
   "outputs": [
    {
     "data": {
      "text/html": [
       "<div>\n",
       "<style scoped>\n",
       "    .dataframe tbody tr th:only-of-type {\n",
       "        vertical-align: middle;\n",
       "    }\n",
       "\n",
       "    .dataframe tbody tr th {\n",
       "        vertical-align: top;\n",
       "    }\n",
       "\n",
       "    .dataframe thead th {\n",
       "        text-align: right;\n",
       "    }\n",
       "</style>\n",
       "<table border=\"1\" class=\"dataframe\">\n",
       "  <thead>\n",
       "    <tr style=\"text-align: right;\">\n",
       "      <th></th>\n",
       "      <th>user_idx</th>\n",
       "      <th>item_idx</th>\n",
       "      <th>item_autoenc0</th>\n",
       "      <th>item_autoenc1</th>\n",
       "      <th>item_autoenc2</th>\n",
       "      <th>item_autoenc3</th>\n",
       "      <th>item_autoenc4</th>\n",
       "      <th>item_autoenc5</th>\n",
       "      <th>item_autoenc6</th>\n",
       "      <th>item_autoenc7</th>\n",
       "      <th>...</th>\n",
       "      <th>user_autoenc0</th>\n",
       "      <th>user_autoenc1</th>\n",
       "      <th>user_autoenc2</th>\n",
       "      <th>user_autoenc3</th>\n",
       "      <th>user_autoenc4</th>\n",
       "      <th>user_autoenc5</th>\n",
       "      <th>user_autoenc6</th>\n",
       "      <th>user_autoenc7</th>\n",
       "      <th>user_autoenc8</th>\n",
       "      <th>user_autoenc9</th>\n",
       "    </tr>\n",
       "  </thead>\n",
       "  <tbody>\n",
       "    <tr>\n",
       "      <th>0</th>\n",
       "      <td>1</td>\n",
       "      <td>1</td>\n",
       "      <td>1.569089</td>\n",
       "      <td>1.508334</td>\n",
       "      <td>1.568551</td>\n",
       "      <td>-1.531216</td>\n",
       "      <td>1.529148</td>\n",
       "      <td>-1.526430</td>\n",
       "      <td>-1.510185</td>\n",
       "      <td>-1.555542</td>\n",
       "      <td>...</td>\n",
       "      <td>-1.686263</td>\n",
       "      <td>1.694752</td>\n",
       "      <td>-1.398009</td>\n",
       "      <td>-1.695426</td>\n",
       "      <td>1.667029</td>\n",
       "      <td>-1.706558</td>\n",
       "      <td>-1.339383</td>\n",
       "      <td>-1.617516</td>\n",
       "      <td>1.350429</td>\n",
       "      <td>-1.732796</td>\n",
       "    </tr>\n",
       "    <tr>\n",
       "      <th>1</th>\n",
       "      <td>2</td>\n",
       "      <td>2</td>\n",
       "      <td>1.585941</td>\n",
       "      <td>1.524516</td>\n",
       "      <td>1.585391</td>\n",
       "      <td>-1.547614</td>\n",
       "      <td>1.545570</td>\n",
       "      <td>-1.542825</td>\n",
       "      <td>-1.526399</td>\n",
       "      <td>-1.572234</td>\n",
       "      <td>...</td>\n",
       "      <td>-1.989719</td>\n",
       "      <td>2.000360</td>\n",
       "      <td>-1.642692</td>\n",
       "      <td>-1.999496</td>\n",
       "      <td>1.967867</td>\n",
       "      <td>-2.013657</td>\n",
       "      <td>-1.573877</td>\n",
       "      <td>-1.909373</td>\n",
       "      <td>1.586619</td>\n",
       "      <td>-2.043264</td>\n",
       "    </tr>\n",
       "    <tr>\n",
       "      <th>2</th>\n",
       "      <td>3</td>\n",
       "      <td>3</td>\n",
       "      <td>1.584902</td>\n",
       "      <td>1.523516</td>\n",
       "      <td>1.584351</td>\n",
       "      <td>-1.546593</td>\n",
       "      <td>1.544561</td>\n",
       "      <td>-1.541814</td>\n",
       "      <td>-1.525400</td>\n",
       "      <td>-1.571202</td>\n",
       "      <td>...</td>\n",
       "      <td>-1.736229</td>\n",
       "      <td>1.745061</td>\n",
       "      <td>-1.438396</td>\n",
       "      <td>-1.745506</td>\n",
       "      <td>1.716551</td>\n",
       "      <td>-1.757121</td>\n",
       "      <td>-1.378085</td>\n",
       "      <td>-1.665560</td>\n",
       "      <td>1.389419</td>\n",
       "      <td>-1.783935</td>\n",
       "    </tr>\n",
       "    <tr>\n",
       "      <th>3</th>\n",
       "      <td>4</td>\n",
       "      <td>4</td>\n",
       "      <td>1.574386</td>\n",
       "      <td>1.513422</td>\n",
       "      <td>1.573842</td>\n",
       "      <td>-1.536364</td>\n",
       "      <td>1.534310</td>\n",
       "      <td>-1.531584</td>\n",
       "      <td>-1.515284</td>\n",
       "      <td>-1.560782</td>\n",
       "      <td>...</td>\n",
       "      <td>-1.773188</td>\n",
       "      <td>1.782292</td>\n",
       "      <td>-1.468106</td>\n",
       "      <td>-1.782527</td>\n",
       "      <td>1.753202</td>\n",
       "      <td>-1.794527</td>\n",
       "      <td>-1.406562</td>\n",
       "      <td>-1.701115</td>\n",
       "      <td>1.418095</td>\n",
       "      <td>-1.821732</td>\n",
       "    </tr>\n",
       "    <tr>\n",
       "      <th>4</th>\n",
       "      <td>5</td>\n",
       "      <td>5</td>\n",
       "      <td>1.569349</td>\n",
       "      <td>1.508583</td>\n",
       "      <td>1.568811</td>\n",
       "      <td>-1.531469</td>\n",
       "      <td>1.529402</td>\n",
       "      <td>-1.526682</td>\n",
       "      <td>-1.510435</td>\n",
       "      <td>-1.555800</td>\n",
       "      <td>...</td>\n",
       "      <td>-3.209548</td>\n",
       "      <td>3.228446</td>\n",
       "      <td>-2.629096</td>\n",
       "      <td>-3.222223</td>\n",
       "      <td>3.176938</td>\n",
       "      <td>-3.247816</td>\n",
       "      <td>-2.519126</td>\n",
       "      <td>-3.082494</td>\n",
       "      <td>2.538910</td>\n",
       "      <td>-3.291462</td>\n",
       "    </tr>\n",
       "  </tbody>\n",
       "</table>\n",
       "<p>5 rows × 37 columns</p>\n",
       "</div>"
      ],
      "text/plain": [
       "   user_idx  item_idx  item_autoenc0  item_autoenc1  item_autoenc2  \\\n",
       "0         1         1       1.569089       1.508334       1.568551   \n",
       "1         2         2       1.585941       1.524516       1.585391   \n",
       "2         3         3       1.584902       1.523516       1.584351   \n",
       "3         4         4       1.574386       1.513422       1.573842   \n",
       "4         5         5       1.569349       1.508583       1.568811   \n",
       "\n",
       "   item_autoenc3  item_autoenc4  item_autoenc5  item_autoenc6  item_autoenc7  \\\n",
       "0      -1.531216       1.529148      -1.526430      -1.510185      -1.555542   \n",
       "1      -1.547614       1.545570      -1.542825      -1.526399      -1.572234   \n",
       "2      -1.546593       1.544561      -1.541814      -1.525400      -1.571202   \n",
       "3      -1.536364       1.534310      -1.531584      -1.515284      -1.560782   \n",
       "4      -1.531469       1.529402      -1.526682      -1.510435      -1.555800   \n",
       "\n",
       "   ...  user_autoenc0  user_autoenc1  user_autoenc2  user_autoenc3  \\\n",
       "0  ...      -1.686263       1.694752      -1.398009      -1.695426   \n",
       "1  ...      -1.989719       2.000360      -1.642692      -1.999496   \n",
       "2  ...      -1.736229       1.745061      -1.438396      -1.745506   \n",
       "3  ...      -1.773188       1.782292      -1.468106      -1.782527   \n",
       "4  ...      -3.209548       3.228446      -2.629096      -3.222223   \n",
       "\n",
       "   user_autoenc4  user_autoenc5  user_autoenc6  user_autoenc7  user_autoenc8  \\\n",
       "0       1.667029      -1.706558      -1.339383      -1.617516       1.350429   \n",
       "1       1.967867      -2.013657      -1.573877      -1.909373       1.586619   \n",
       "2       1.716551      -1.757121      -1.378085      -1.665560       1.389419   \n",
       "3       1.753202      -1.794527      -1.406562      -1.701115       1.418095   \n",
       "4       3.176938      -3.247816      -2.519126      -3.082494       2.538910   \n",
       "\n",
       "   user_autoenc9  \n",
       "0      -1.732796  \n",
       "1      -2.043264  \n",
       "2      -1.783935  \n",
       "3      -1.821732  \n",
       "4      -3.291462  \n",
       "\n",
       "[5 rows x 37 columns]"
      ]
     },
     "execution_count": 27,
     "metadata": {},
     "output_type": "execute_result"
    }
   ],
   "source": [
    "df_train[['user_idx','item_idx']+autoenc_cols].head()"
   ]
  },
  {
   "cell_type": "code",
   "execution_count": 28,
   "metadata": {},
   "outputs": [
    {
     "data": {
      "text/plain": [
       "(count    43368.000000\n",
       " mean         7.582111\n",
       " std          1.842619\n",
       " min          1.000000\n",
       " 25%          6.000000\n",
       " 50%          8.000000\n",
       " 75%          9.000000\n",
       " max         10.000000\n",
       " Name: rating, dtype: float64, count    390303.000000\n",
       " mean          7.603172\n",
       " std           1.843919\n",
       " min           1.000000\n",
       " 25%           7.000000\n",
       " 50%           8.000000\n",
       " 75%           9.000000\n",
       " max          10.000000\n",
       " Name: rating, dtype: float64)"
      ]
     },
     "execution_count": 28,
     "metadata": {},
     "output_type": "execute_result"
    }
   ],
   "source": [
    "df_valid['rating'].describe(),df_train['rating'].describe()"
   ]
  },
  {
   "cell_type": "code",
   "execution_count": 29,
   "metadata": {},
   "outputs": [
    {
     "data": {
      "text/plain": [
       "Index(['userId', 'itemId', 'rating', 'num_ratings_per_user_gt_20',\n",
       "       'num_ratings_per_item_gt_200', 'flag_clean_considered', 'Location',\n",
       "       'Age', 'Book-Title', 'Book-Author', 'Year-Of-Publication', 'Publisher',\n",
       "       'random_dstype', 'user_idx', 'item_idx', 'dstype_random_train',\n",
       "       'dstype_random_valid', 'location_idx', 'age_idx', 'title_idx',\n",
       "       'author_idx', 'publisher_idx', 'item_autoenc0', 'item_autoenc1',\n",
       "       'item_autoenc2', 'item_autoenc3', 'item_autoenc4', 'item_autoenc5',\n",
       "       'item_autoenc6', 'item_autoenc7', 'item_autoenc8', 'item_autoenc9',\n",
       "       'item_autoenc10', 'item_autoenc11', 'item_autoenc12', 'item_autoenc13',\n",
       "       'item_autoenc14', 'item_autoenc15', 'item_autoenc16', 'item_autoenc17',\n",
       "       'item_autoenc18', 'item_autoenc19', 'item_autoenc20', 'item_autoenc21',\n",
       "       'item_autoenc22', 'item_autoenc23', 'item_autoenc24', 'user_autoenc0',\n",
       "       'user_autoenc1', 'user_autoenc2', 'user_autoenc3', 'user_autoenc4',\n",
       "       'user_autoenc5', 'user_autoenc6', 'user_autoenc7', 'user_autoenc8',\n",
       "       'user_autoenc9'],\n",
       "      dtype='object')"
      ]
     },
     "execution_count": 29,
     "metadata": {},
     "output_type": "execute_result"
    }
   ],
   "source": [
    "df_train.columns"
   ]
  },
  {
   "cell_type": "code",
   "execution_count": 30,
   "metadata": {},
   "outputs": [],
   "source": [
    "emb_cols=['location_idx','title_idx','author_idx','publisher_idx']"
   ]
  },
  {
   "cell_type": "code",
   "execution_count": 31,
   "metadata": {},
   "outputs": [
    {
     "data": {
      "text/plain": [
       "[('location_idx', 20450),\n",
       " ('title_idx', 126629),\n",
       " ('author_idx', 58391),\n",
       " ('publisher_idx', 11030)]"
      ]
     },
     "execution_count": 31,
     "metadata": {},
     "output_type": "execute_result"
    }
   ],
   "source": [
    "[(col, df_train[col].nunique()) for col in emb_cols]"
   ]
  },
  {
   "cell_type": "code",
   "execution_count": 32,
   "metadata": {},
   "outputs": [
    {
     "data": {
      "text/plain": [
       "{'location_idx': 50, 'title_idx': 50, 'author_idx': 50, 'publisher_idx': 50}"
      ]
     },
     "execution_count": 32,
     "metadata": {},
     "output_type": "execute_result"
    }
   ],
   "source": [
    "{col: min(50,df_train[col].nunique()//100) for col in emb_cols}"
   ]
  },
  {
   "cell_type": "code",
   "execution_count": 33,
   "metadata": {},
   "outputs": [],
   "source": [
    "emb_szs=[(df[col].nunique(),min(50,df[col].nunique()//100)) for col in emb_cols]"
   ]
  },
  {
   "cell_type": "code",
   "execution_count": 34,
   "metadata": {},
   "outputs": [
    {
     "data": {
      "text/plain": [
       "[(21335, 50), (135568, 50), (62114, 50), (11576, 50)]"
      ]
     },
     "execution_count": 34,
     "metadata": {},
     "output_type": "execute_result"
    }
   ],
   "source": [
    "emb_szs"
   ]
  },
  {
   "cell_type": "markdown",
   "metadata": {},
   "source": [
    "### Dataset and DataLoader"
   ]
  },
  {
   "cell_type": "code",
   "execution_count": 35,
   "metadata": {},
   "outputs": [],
   "source": [
    "class cfdata (torch.utils.data.dataset.Dataset):\n",
    "    def __init__(self,dfX,dfY,denseCols):\n",
    "        self.dfX,self.dfY=dfX,dfY\n",
    "        self.denseCols=denseCols\n",
    "        \n",
    "    def __len__ (self):\n",
    "        return self.dfX.shape[0]\n",
    "    \n",
    "    def __getitem__ (self, idx):\n",
    "        return torch.FloatTensor(self.dfX.iloc[idx].values),torch.FloatTensor([self.dfY.values[idx]])"
   ]
  },
  {
   "cell_type": "code",
   "execution_count": 36,
   "metadata": {},
   "outputs": [],
   "source": [
    "dstrain=cfdata(df_train[['user_idx','item_idx']+autoenc_cols+emb_cols],df_train['rating'],autoenc_cols)\n",
    "dsvalid=cfdata(df_valid[['user_idx','item_idx']+autoenc_cols+emb_cols],df_valid['rating'],autoenc_cols)"
   ]
  },
  {
   "cell_type": "code",
   "execution_count": 37,
   "metadata": {},
   "outputs": [
    {
     "data": {
      "text/plain": [
       "(       item_autoenc0\n",
       " count  390303.000000\n",
       " mean        1.570775\n",
       " std         0.004832\n",
       " min         1.569005\n",
       " 25%         1.569099\n",
       " 50%         1.569206\n",
       " 75%         1.569671\n",
       " max         1.994572,        item_autoenc1\n",
       " count  390303.000000\n",
       " mean        1.509952\n",
       " std         0.004639\n",
       " min         1.508253\n",
       " 25%         1.508343\n",
       " 50%         1.508446\n",
       " 75%         1.508894\n",
       " max         1.916439)"
      ]
     },
     "execution_count": 37,
     "metadata": {},
     "output_type": "execute_result"
    }
   ],
   "source": [
    "df_train[[autoenc_cols[0]]].describe(),df_train[[autoenc_cols[1]]].describe()"
   ]
  },
  {
   "cell_type": "code",
   "execution_count": 38,
   "metadata": {},
   "outputs": [
    {
     "data": {
      "text/plain": [
       "(390303, 57)"
      ]
     },
     "execution_count": 38,
     "metadata": {},
     "output_type": "execute_result"
    }
   ],
   "source": [
    "df_train.shape"
   ]
  },
  {
   "cell_type": "code",
   "execution_count": 39,
   "metadata": {},
   "outputs": [],
   "source": [
    "bs=64"
   ]
  },
  {
   "cell_type": "code",
   "execution_count": 40,
   "metadata": {},
   "outputs": [],
   "source": [
    "dltrain=DataLoader(dstrain,bs,shuffle=True)"
   ]
  },
  {
   "cell_type": "code",
   "execution_count": 41,
   "metadata": {},
   "outputs": [],
   "source": [
    "dlvalid=DataLoader(dsvalid,bs,shuffle=True)"
   ]
  },
  {
   "cell_type": "code",
   "execution_count": 42,
   "metadata": {},
   "outputs": [
    {
     "data": {
      "text/plain": [
       "(61.0, 388.96)"
      ]
     },
     "execution_count": 42,
     "metadata": {},
     "output_type": "execute_result"
    }
   ],
   "source": [
    "610/10, 9724/25"
   ]
  },
  {
   "cell_type": "code",
   "execution_count": 43,
   "metadata": {},
   "outputs": [
    {
     "data": {
      "text/plain": [
       "(77805, 185973)"
      ]
     },
     "execution_count": 43,
     "metadata": {},
     "output_type": "execute_result"
    }
   ],
   "source": [
    "len(user_to_idx),len(movie_to_idx)"
   ]
  },
  {
   "cell_type": "markdown",
   "metadata": {},
   "source": [
    "## Model Architecture"
   ]
  },
  {
   "cell_type": "code",
   "execution_count": 44,
   "metadata": {},
   "outputs": [
    {
     "data": {
      "text/plain": [
       "[(21335, 50), (135568, 50), (62114, 50), (11576, 50)]"
      ]
     },
     "execution_count": 44,
     "metadata": {},
     "output_type": "execute_result"
    }
   ],
   "source": [
    "emb_szs"
   ]
  },
  {
   "cell_type": "code",
   "execution_count": 45,
   "metadata": {},
   "outputs": [
    {
     "data": {
      "text/plain": [
       "21335"
      ]
     },
     "execution_count": 45,
     "metadata": {},
     "output_type": "execute_result"
    }
   ],
   "source": [
    "emb_szs[0][0]"
   ]
  },
  {
   "cell_type": "code",
   "execution_count": 46,
   "metadata": {},
   "outputs": [
    {
     "data": {
      "text/plain": [
       "Embedding(21335, 50)"
      ]
     },
     "execution_count": 46,
     "metadata": {},
     "output_type": "execute_result"
    }
   ],
   "source": [
    "nn.ModuleList([nn.Embedding(x,y) for x,y in emb_szs])[0]"
   ]
  },
  {
   "cell_type": "code",
   "execution_count": 47,
   "metadata": {},
   "outputs": [],
   "source": [
    "n_users=len(user_to_idx)\n",
    "n_movies=len(movie_to_idx)\n",
    "n_emb_user=100\n",
    "n_emb_movie=250\n",
    "min_rating=min(df_train['rating'])\n",
    "max_rating=max(df_train['rating'])\n",
    "dropout_e=0.05\n",
    "hidden=[75,15,50,20]\n",
    "dropouts=[0.2,0.2,0.2,0.2]"
   ]
  },
  {
   "cell_type": "code",
   "execution_count": 48,
   "metadata": {},
   "outputs": [],
   "source": [
    "def hidden_layer(x,y,dropout,activation=nn.Sigmoid()):\n",
    "    return nn.Sequential(\n",
    "        nn.Linear(x, y),\n",
    "        activation,\n",
    "        nn.Dropout(p=dropout)\n",
    "        )   "
   ]
  },
  {
   "cell_type": "code",
   "execution_count": 49,
   "metadata": {},
   "outputs": [
    {
     "data": {
      "text/plain": [
       "(count    390303.000000\n",
       " mean          7.603172\n",
       " std           1.843919\n",
       " min           1.000000\n",
       " 25%           7.000000\n",
       " 50%           8.000000\n",
       " 75%           9.000000\n",
       " max          10.000000\n",
       " Name: rating, dtype: float64, count    43368.000000\n",
       " mean         7.582111\n",
       " std          1.842619\n",
       " min          1.000000\n",
       " 25%          6.000000\n",
       " 50%          8.000000\n",
       " 75%          9.000000\n",
       " max         10.000000\n",
       " Name: rating, dtype: float64)"
      ]
     },
     "execution_count": 49,
     "metadata": {},
     "output_type": "execute_result"
    }
   ],
   "source": [
    "df_train['rating'].describe(), df_valid['rating'].describe()"
   ]
  },
  {
   "cell_type": "markdown",
   "metadata": {},
   "source": [
    "class dbg ():\n",
    "    def __init__(self,bs):\n",
    "        self.Xb=np.random.randn(bs)\n",
    "        self.preds=np.random.randn(bs)\n",
    "        self.Yb=np.random.randn(bs)\n",
    "        self.cat=None"
   ]
  },
  {
   "cell_type": "markdown",
   "metadata": {},
   "source": [
    "dbgobj=dbg(bs)"
   ]
  },
  {
   "cell_type": "code",
   "execution_count": 60,
   "metadata": {},
   "outputs": [],
   "source": [
    "class cf(nn.Module):    \n",
    "    def __init__(self,n_users,n_emb_user,n_emb_movie,n_movies,min_rating,max_rating,autoenc_cols,emb_cols,emb_szs,\\\n",
    "                 dropout_e=0.01,hidden=[15,5],dropouts=[0.2,0.2]):\n",
    "        super().__init__()\n",
    "        self.n_users,self.n_emb_user,self.n_emb_movie,self.n_movies,self.min_rating,self.max_rating=\\\n",
    "                    n_users,n_emb_user,n_emb_movie,n_movies,min_rating,max_rating\n",
    "        self.emb_cols,self.emb_szs=emb_cols,emb_szs\n",
    "        self.dropout_e,self.hidden,self.dropouts=dropout_e,hidden,dropouts\n",
    "        self.autoenc_cols,self.len_dense_cols=autoenc_cols,len(autoenc_cols)\n",
    "        self.create_architecture()\n",
    "        self.criterion=nn.MSELoss()\n",
    "        #self.preds=None\n",
    "\n",
    "        \n",
    "    def create_architecture(self):\n",
    "        self.emb_user=nn.Embedding(self.n_users+1,self.n_emb_user)\n",
    "        self.emb_movie=nn.Embedding(self.n_movies+1,self.n_emb_movie)\n",
    "        self.embs_cat=nn.ModuleList([nn.Embedding(x+1,y) for x,y in self.emb_szs])\n",
    "        \n",
    "        self.emb_dropout=nn.Dropout(self.dropout_e)\n",
    "\n",
    "        \n",
    "        self.lin1= nn.Sequential(nn.Linear(self.n_emb_user+self.n_emb_movie,self.hidden[0]),\n",
    "                    nn.ReLU(),\n",
    "                    nn.Dropout(p=dropouts[0]) )\n",
    "        self.lin2= nn.Sequential (nn.Linear(self.len_dense_cols,self.hidden[1]),\n",
    "                    nn.ReLU(),\n",
    "                    nn.Dropout(p=dropouts[1]) )\n",
    "        self.lin3= nn.Sequential (nn.Linear(len(self.emb_cols)*50,self.hidden[2]),\n",
    "                                nn.ReLU(),\n",
    "                                nn.Dropout(p=dropouts[2]))\n",
    "        self.lin4= nn.Sequential (nn.Linear(self.hidden[0]+self.hidden[1]+self.hidden[2],self.hidden[3]),\n",
    "                    nn.ReLU(),\n",
    "                    nn.Dropout(p=dropouts[3]))\n",
    "        self.lin5=nn.Linear(self.hidden[3],1)\n",
    "        self.sigmoid=nn.Sigmoid()\n",
    "        \n",
    "        \n",
    "    def init_parameters(self):\n",
    "        nn.init.kaiming_normal_(self.emb_user.weight.data)\n",
    "        nn.init.kaiming_normal_(self.emb_movie.weight.dat)\n",
    "        #nn.init.kaiming_normal_(lin)\n",
    "       \n",
    "    def forward (self,Xb,Yb):\n",
    "\n",
    "        #dbgobj.Xb,dbgobj.Yb=Xb.cpu().numpy(),Yb.cpu().numpy()\n",
    "        users=Xb[:,0].long()\n",
    "        items=Xb[:,1].long()\n",
    "        users=self.emb_dropout(self.emb_user(users))\n",
    "        items=self.emb_dropout(self.emb_movie(items))        \n",
    "        embed=torch.cat([users,items],1)\n",
    "        out1=self.lin1(embed)\n",
    "        \n",
    "        \n",
    "        denses=Xb[:,2:(2+len(autoenc_cols))]\n",
    "        out2=self.lin2(denses)\n",
    "        cats=Xb[:,(2+len(autoenc_cols)):].long()\n",
    "        embed_cat=[self.emb_dropout(self.embs_cat[i](cats[:,i]) ) for i in range(len(self.emb_szs))]\n",
    "        \n",
    "        #pickle.dump([Xb,Yb,embed_cat],open(f'{DATAPATH}/inter/savepickle','wb'))\n",
    "        #torch.save(embed_cat,f'{DATAPATH}/inter/save')\n",
    "        \n",
    "        #dbgobj.cat=[x.detach().cpu().numpy() for x in embed_cat]\n",
    "        \n",
    "        embedded_cat = torch.cat([x for x in embed_cat],1)\n",
    "        out3=self.lin3(embedded_cat)\n",
    "        \n",
    "        out4=torch.cat([out1,out2,out3],1)\n",
    "        out5=self.lin4(out4)\n",
    "        out6=self.lin5(out5)\n",
    "        \n",
    "        out=self.sigmoid(out6)\n",
    "        \n",
    "        preds=out*(self.max_rating-self.min_rating)+self.min_rating\n",
    "        \n",
    "        #dbgobj.preds=preds.detach().cpu().numpy()\n",
    "        \n",
    "        self.preds=preds\n",
    "        #preds=preds.view(-1)\n",
    "        \n",
    "        loss=self.criterion(preds,Yb)\n",
    "        return preds,loss"
   ]
  },
  {
   "cell_type": "code",
   "execution_count": 86,
   "metadata": {},
   "outputs": [],
   "source": [
    "cfobj=cf(n_users,n_emb_user,n_emb_movie,n_movies,min_rating,max_rating,autoenc_cols,emb_cols,emb_szs,dropout_e,hidden,dropouts)"
   ]
  },
  {
   "cell_type": "code",
   "execution_count": 52,
   "metadata": {},
   "outputs": [
    {
     "data": {
      "text/plain": [
       "cf(\n",
       "  (emb_user): Embedding(77806, 100)\n",
       "  (emb_movie): Embedding(185974, 250)\n",
       "  (embs_cat): ModuleList(\n",
       "    (0): Embedding(21335, 50)\n",
       "    (1): Embedding(135568, 50)\n",
       "    (2): Embedding(62114, 50)\n",
       "    (3): Embedding(11576, 50)\n",
       "  )\n",
       "  (emb_dropout): Dropout(p=0.05)\n",
       "  (lin1): Sequential(\n",
       "    (0): Linear(in_features=350, out_features=75, bias=True)\n",
       "    (1): ReLU()\n",
       "    (2): Dropout(p=0.2)\n",
       "  )\n",
       "  (lin2): Sequential(\n",
       "    (0): Linear(in_features=35, out_features=15, bias=True)\n",
       "    (1): ReLU()\n",
       "    (2): Dropout(p=0.2)\n",
       "  )\n",
       "  (lin3): Sequential(\n",
       "    (0): Linear(in_features=200, out_features=50, bias=True)\n",
       "    (1): ReLU()\n",
       "    (2): Dropout(p=0.2)\n",
       "  )\n",
       "  (lin4): Sequential(\n",
       "    (0): Linear(in_features=140, out_features=20, bias=True)\n",
       "    (1): ReLU()\n",
       "    (2): Dropout(p=0.2)\n",
       "  )\n",
       "  (lin5): Linear(in_features=20, out_features=1, bias=True)\n",
       "  (sigmoid): Sigmoid()\n",
       "  (criterion): MSELoss()\n",
       ")"
      ]
     },
     "execution_count": 52,
     "metadata": {},
     "output_type": "execute_result"
    }
   ],
   "source": [
    "cfobj"
   ]
  },
  {
   "cell_type": "code",
   "execution_count": 53,
   "metadata": {},
   "outputs": [],
   "source": [
    "for Xb, Yb in dltrain:\n",
    "    break"
   ]
  },
  {
   "cell_type": "code",
   "execution_count": 56,
   "metadata": {},
   "outputs": [
    {
     "data": {
      "text/plain": [
       "(torch.Size([64, 41]), torch.Size([64, 1]))"
      ]
     },
     "execution_count": 56,
     "metadata": {},
     "output_type": "execute_result"
    }
   ],
   "source": [
    "Xb.shape, Yb.shape"
   ]
  },
  {
   "cell_type": "code",
   "execution_count": 57,
   "metadata": {},
   "outputs": [
    {
     "data": {
      "text/plain": [
       "torch.float32"
      ]
     },
     "execution_count": 57,
     "metadata": {},
     "output_type": "execute_result"
    }
   ],
   "source": [
    "Xb.dtype"
   ]
  },
  {
   "cell_type": "code",
   "execution_count": 58,
   "metadata": {},
   "outputs": [
    {
     "data": {
      "text/plain": [
       "torch.Size([64, 41])"
      ]
     },
     "execution_count": 58,
     "metadata": {},
     "output_type": "execute_result"
    }
   ],
   "source": [
    "Xb.size()"
   ]
  },
  {
   "cell_type": "code",
   "execution_count": 59,
   "metadata": {},
   "outputs": [
    {
     "data": {
      "text/plain": [
       "(tensor([[4.9264],\n",
       "         [5.1488],\n",
       "         [5.0104],\n",
       "         [4.7239],\n",
       "         [4.9279],\n",
       "         [4.7594],\n",
       "         [5.1037],\n",
       "         [4.7428],\n",
       "         [4.6940],\n",
       "         [5.0043],\n",
       "         [5.1245],\n",
       "         [5.1220],\n",
       "         [5.0239],\n",
       "         [5.1293],\n",
       "         [5.3166],\n",
       "         [5.0546],\n",
       "         [5.0833],\n",
       "         [5.0343],\n",
       "         [4.7373],\n",
       "         [5.3925],\n",
       "         [4.9368],\n",
       "         [4.8373],\n",
       "         [5.0073],\n",
       "         [4.8852],\n",
       "         [5.0453],\n",
       "         [5.3104],\n",
       "         [4.5834],\n",
       "         [4.9045],\n",
       "         [5.0450],\n",
       "         [4.6377],\n",
       "         [5.3083],\n",
       "         [4.7625],\n",
       "         [5.2493],\n",
       "         [4.9988],\n",
       "         [5.4045],\n",
       "         [4.8437],\n",
       "         [4.8981],\n",
       "         [4.7489],\n",
       "         [5.3315],\n",
       "         [4.7465],\n",
       "         [5.1530],\n",
       "         [4.9523],\n",
       "         [4.8497],\n",
       "         [4.7477],\n",
       "         [5.1853],\n",
       "         [5.0127],\n",
       "         [5.0515],\n",
       "         [5.1341],\n",
       "         [4.6024],\n",
       "         [5.1851],\n",
       "         [5.3765],\n",
       "         [5.4000],\n",
       "         [4.5394],\n",
       "         [5.1063],\n",
       "         [4.6835],\n",
       "         [5.0274],\n",
       "         [5.1756],\n",
       "         [5.1644],\n",
       "         [4.9460],\n",
       "         [5.1205],\n",
       "         [5.0398],\n",
       "         [5.0384],\n",
       "         [5.1239],\n",
       "         [5.1035]], grad_fn=<AddBackward0>),\n",
       " tensor(9.7161, grad_fn=<MseLossBackward>))"
      ]
     },
     "execution_count": 59,
     "metadata": {},
     "output_type": "execute_result"
    }
   ],
   "source": [
    "cfobj.forward(Xb,Yb)"
   ]
  },
  {
   "cell_type": "code",
   "execution_count": 60,
   "metadata": {},
   "outputs": [],
   "source": [
    "dbgobj.cat"
   ]
  },
  {
   "cell_type": "markdown",
   "metadata": {},
   "source": [
    "## Learner"
   ]
  },
  {
   "cell_type": "code",
   "execution_count": 51,
   "metadata": {},
   "outputs": [],
   "source": [
    "class Learner():\n",
    "    def __init__(self,model,optimizer,metric_fn,device,bptt=12,print_every=5,clip_val=None,\\\n",
    "                 cycle_mult=0,lr_decay=0.7,wd_mult=6,start_lr=2e-2, end_lr=5e-4):\n",
    "        self.model,self.optimizer,self.metric_fn,self.device,self.print_every,self.bptt,self.losses,self.clip_val=\\\n",
    "            model,optimizer,metric_fn,device,print_every,bptt,[],clip_val\n",
    "        self.n_epochs=1\n",
    "        self.cycle_mult,self.lr_decay=cycle_mult,lr_decay\n",
    "        self.wd_mult=wd_mult\n",
    "        for param_group in self.optimizer.param_groups:\n",
    "            self.start_lr=param_group['lr']\n",
    "            self.start_wd=param_group['weight_decay']\n",
    "        self.wd=self.start_wd\n",
    "        self.lr=self.start_lr\n",
    "        self.end_lr=end_lr\n",
    "        self.n_epoch=0\n",
    "        self.lrs=[1e-2,5e-3,1e-4,5e-4]\n",
    "        self.preds,self.preds_valid,self.trainY,self.actual=[],[],[],[]\n",
    "        self.ratio=self.end_lr/self.start_lr\n",
    "        self.num_steps=self.cycle_mult\n",
    "        self.reset_cycle=self.cycle_mult\n",
    "        #self.Xb=None\n",
    "        #self.Yb=None\n",
    "        \n",
    "    def fit (self,Xb,Yb,mode_train=True):\n",
    "        if mode_train:\n",
    "            self.model.train()\n",
    "        else:\n",
    "            self.model.eval()\n",
    "        #self.Xb,self.Yb=Xb.cpu(),Yb.cpu()\n",
    "        \n",
    "        #import pdb\n",
    "        #pdb.set_trace()\n",
    "        preds,loss=self.model(Xb,Yb)\n",
    "\n",
    "        with torch.no_grad():\n",
    "            if self.metric_fn is not None:\n",
    "                acc=self.metric_fn(preds,Yb.view(-1),self.device)\n",
    "                acc=acc.item()\n",
    "\n",
    "                if 1==0:\n",
    "                    if mode_train:\n",
    "                        self.trainY.append(Yb.view(-1))\n",
    "                        self.preds.append(preds.data)\n",
    "                    else:\n",
    "                        self.actual.append(Yb.view(-1))\n",
    "                        self.preds_valid.append(preds.data)\n",
    "            else:\n",
    "                acc=0\n",
    "            \n",
    "        \n",
    "        if mode_train:\n",
    "            if 1==0:\n",
    "                lr =self.lrs[torch.randint(0,4,(1,))]\n",
    "                for param_group in self.optimizer.param_groups:\n",
    "                    param_group['lr']=lr\n",
    "            \n",
    "            self.optimizer.zero_grad()\n",
    "            loss.backward()\n",
    "            self.optimizer.step()\n",
    "        myloss=loss.item()\n",
    "        acc=np.sqrt(myloss)\n",
    "        \n",
    "        \n",
    "\n",
    "        del preds\n",
    "        del loss\n",
    "        \n",
    "        if self.clip_val is not None:\n",
    "            torch.nn.utils.clip_grad_norm_(self.model.parameters(), self.clip_val)\n",
    "        \n",
    "        return myloss, acc\n",
    "    \n",
    "    def lr_find (self,start_lr,end_lr,iterator,n_batch):\n",
    "        losses,lrs=[],[]\n",
    "        ratio=end_lr/start_lr\n",
    "        num_steps=n_batch\n",
    "        lr=start_lr\n",
    "        for i in range(num_steps):            \n",
    "            lr=lr*(end_lr/start_lr)**(1/num_steps)\n",
    "            lrs.append(lr)\n",
    "        self.lrs=lrs\n",
    "        self.run_epoch(iterator,mode_train=True,lrs=lrs)\n",
    "    \n",
    "    def run_epoch(self,iterator,mode_train,lrs=None):\n",
    "        epoch_loss,epoch_acc,i,k=0,0,0,0\n",
    "\n",
    "\n",
    "        for Xb,Yb in iterator:\n",
    "            Xb=Xb.to(self.device)\n",
    "            Yb=Yb.to(self.device)\n",
    "            \n",
    "            if lrs is not None:\n",
    "                lr=lrs[k]\n",
    "                for param_group in self.optimizer.param_groups:\n",
    "                    param_group['lr']=lr \n",
    "            \n",
    "\n",
    "            loss,acc=self.fit(Xb,Yb,mode_train)\n",
    "            \n",
    "            if lrs is not None:\n",
    "                self.losses.append(loss)\n",
    "\n",
    "\n",
    "            \n",
    "\n",
    "            epoch_loss+=loss\n",
    "            epoch_acc+=acc\n",
    "            \n",
    "            k=k+1\n",
    "            if k%self.print_every == 0:\n",
    "                if k:\n",
    "                    print (f'Batch:{k} {epoch_loss/(k)}  ')  \n",
    "                    torch.cuda.empty_cache()\n",
    "\n",
    "        epoch_loss=epoch_loss/len(iterator)\n",
    "        epoch_acc=epoch_acc/len(iterator)\n",
    "            \n",
    "        return epoch_loss,epoch_acc\n",
    "    \n",
    "    def plot_lrs(self, n_roll=1,ylim=None,xlim=None):\n",
    "        import seaborn as sns\n",
    "        ax=sns.lineplot(x=self.lrs,y=pd.Series(self.losses).rolling(n_roll).mean())\n",
    "        ax.set_xscale('log')\n",
    "        ax.set_ylabel('Loss')\n",
    "        ax.set_xlabel('Learning Rate')\n",
    "        if ylim is not None:\n",
    "            plt.ylim(ylim)\n",
    "        if xlim is not None:\n",
    "            plt.xlim(xlim)\n",
    "\n",
    "     \n",
    "    def run_epochs(self,dltrain,dlvalid,n_epochs=1):              \n",
    "        for epoch in range(n_epochs):                \n",
    "            loss,acc=self.run_epoch(dltrain,True)\n",
    "\n",
    "            lossv,accv=self.run_epoch(dlvalid,mode_train=False)\n",
    "            print (f'Epoch:{epoch} Learning rate {self.lr} Weight Decay {self.wd} Train Loss:{loss} \\\n",
    "                Valid Loss:{lossv} Train RMSE:{acc} Valid RMSE:{accv}')\n",
    "  \n",
    "            if self.cycle_mult:\n",
    "                if self.n_epoch==self.reset_cycle:\n",
    "                    self.lr=self.start_lr\n",
    "                    #self.wd=self.start_wd\n",
    "                    self.reset_cycle*=self.cycle_mult\n",
    "                    #reset_cycle=self.n_epoch+reset_cycle\n",
    "                    self.n_epoch=0\n",
    "                    self.ratio=self.end_lr/self.start_lr\n",
    "                    self.num_steps=self.reset_cycle\n",
    "                else:\n",
    "                    #self.lr*=(self.lr_decay**self.n_epoch)  \n",
    "                    #if self.n_epoch>1:\n",
    "                    #    self.wd*=self.wd_mult\n",
    "                    self.lr=self.lr*(self.end_lr/self.start_lr)**(1/self.num_steps)\n",
    "                    self.n_epoch+=1\n",
    "        \n",
    "\n",
    "                \n",
    "            for param_group in self.optimizer.param_groups:\n",
    "                param_group['lr']=self.lr\n",
    "                #param_group['weight_decay']=self.wd\n",
    "          \n",
    "     "
   ]
  },
  {
   "cell_type": "code",
   "execution_count": 52,
   "metadata": {},
   "outputs": [],
   "source": [
    "device='cuda:1'"
   ]
  },
  {
   "cell_type": "code",
   "execution_count": 53,
   "metadata": {},
   "outputs": [],
   "source": [
    "cfobj=cf(n_users,n_emb_user,n_emb_movie,n_movies,min_rating,max_rating,autoenc_cols,emb_cols,emb_szs,dropout_e,hidden,dropouts)"
   ]
  },
  {
   "cell_type": "code",
   "execution_count": 54,
   "metadata": {},
   "outputs": [],
   "source": [
    "cfobj=cfobj.to(device)"
   ]
  },
  {
   "cell_type": "code",
   "execution_count": 55,
   "metadata": {},
   "outputs": [
    {
     "data": {
      "text/plain": [
       "cf(\n",
       "  (emb_user): Embedding(77806, 100)\n",
       "  (emb_movie): Embedding(185974, 250)\n",
       "  (embs_cat): ModuleList(\n",
       "    (0): Embedding(21336, 50)\n",
       "    (1): Embedding(135569, 50)\n",
       "    (2): Embedding(62115, 50)\n",
       "    (3): Embedding(11577, 50)\n",
       "  )\n",
       "  (emb_dropout): Dropout(p=0.05)\n",
       "  (lin1): Sequential(\n",
       "    (0): Linear(in_features=350, out_features=75, bias=True)\n",
       "    (1): ReLU()\n",
       "    (2): Dropout(p=0.2)\n",
       "  )\n",
       "  (lin2): Sequential(\n",
       "    (0): Linear(in_features=35, out_features=15, bias=True)\n",
       "    (1): ReLU()\n",
       "    (2): Dropout(p=0.2)\n",
       "  )\n",
       "  (lin3): Sequential(\n",
       "    (0): Linear(in_features=200, out_features=50, bias=True)\n",
       "    (1): ReLU()\n",
       "    (2): Dropout(p=0.2)\n",
       "  )\n",
       "  (lin4): Sequential(\n",
       "    (0): Linear(in_features=140, out_features=20, bias=True)\n",
       "    (1): ReLU()\n",
       "    (2): Dropout(p=0.2)\n",
       "  )\n",
       "  (lin5): Linear(in_features=20, out_features=1, bias=True)\n",
       "  (sigmoid): Sigmoid()\n",
       "  (criterion): MSELoss()\n",
       ")"
      ]
     },
     "execution_count": 55,
     "metadata": {},
     "output_type": "execute_result"
    }
   ],
   "source": [
    "cfobj"
   ]
  },
  {
   "cell_type": "code",
   "execution_count": 56,
   "metadata": {},
   "outputs": [
    {
     "data": {
      "text/plain": [
       "6099"
      ]
     },
     "execution_count": 56,
     "metadata": {},
     "output_type": "execute_result"
    }
   ],
   "source": [
    "len(dltrain)"
   ]
  },
  {
   "cell_type": "code",
   "execution_count": 128,
   "metadata": {},
   "outputs": [],
   "source": [
    "wd=1e-7\n",
    "optimizer=torch.optim.Adam(cfobj.parameters(),lr=5e-3,betas=(0.9,0.999), weight_decay=wd)\n"
   ]
  },
  {
   "cell_type": "code",
   "execution_count": 129,
   "metadata": {},
   "outputs": [],
   "source": [
    "learner=Learner(cfobj,optimizer,None,device,0,12000,0.25,cycle_mult=0)"
   ]
  },
  {
   "cell_type": "code",
   "execution_count": 130,
   "metadata": {},
   "outputs": [],
   "source": [
    "learner.lr_find(1e-4,1e-1,dltrain,len(dltrain))"
   ]
  },
  {
   "cell_type": "code",
   "execution_count": 131,
   "metadata": {},
   "outputs": [
    {
     "data": {
      "image/png": "[encoded data removed]",
      "text/plain": [
       "<Figure size 432x288 with 1 Axes>"
      ]
     },
     "metadata": {
      "needs_background": "light"
     },
     "output_type": "display_data"
    }
   ],
   "source": [
    "learner.plot_lrs(50)"
   ]
  },
  {
   "cell_type": "code",
   "execution_count": 132,
   "metadata": {},
   "outputs": [
    {
     "data": {
      "image/png": "[encoded data removed]",
      "text/plain": [
       "<Figure size 432x288 with 1 Axes>"
      ]
     },
     "metadata": {
      "needs_background": "light"
     },
     "output_type": "display_data"
    }
   ],
   "source": [
    "learner.plot_lrs(10)"
   ]
  },
  {
   "cell_type": "code",
   "execution_count": 133,
   "metadata": {},
   "outputs": [
    {
     "data": {
      "image/png": "[encoded data removed]",
      "text/plain": [
       "<Figure size 432x288 with 1 Axes>"
      ]
     },
     "metadata": {
      "needs_background": "light"
     },
     "output_type": "display_data"
    }
   ],
   "source": [
    "learner.plot_lrs(1)"
   ]
  },
  {
   "cell_type": "code",
   "execution_count": 59,
   "metadata": {},
   "outputs": [],
   "source": [
    "del cfobj\n",
    "torch.cuda.empty_cache()"
   ]
  },
  {
   "cell_type": "code",
   "execution_count": 61,
   "metadata": {},
   "outputs": [],
   "source": [
    "cfobj=cf(n_users,n_emb_user,n_emb_movie,n_movies,min_rating,max_rating,autoenc_cols,emb_cols,emb_szs,dropout_e,hidden,dropouts)\n",
    "cfobj=cfobj.to(device)"
   ]
  },
  {
   "cell_type": "code",
   "execution_count": 62,
   "metadata": {},
   "outputs": [],
   "source": [
    "wd=1e-7\n",
    "optimizer=torch.optim.Adam(cfobj.parameters(),lr=7e-3,betas=(0.9,0.999), weight_decay=wd)\n",
    "learner=Learner(cfobj,optimizer,None,device,0,1000,0.25,cycle_mult=0)"
   ]
  },
  {
   "cell_type": "code",
   "execution_count": null,
   "metadata": {},
   "outputs": [
    {
     "name": "stdout",
     "output_type": "stream",
     "text": [
      "Batch:1000 3.161348301768303  \n",
      "Batch:2000 3.060833909571171  \n",
      "Batch:3000 3.0036384389003117  \n",
      "Batch:4000 2.9653205646276475  \n",
      "Batch:5000 2.936087555932999  \n",
      "Batch:6000 2.91412323230505  \n",
      "Epoch:0 Learning rate 0.007 Weight Decay 1e-07 Train Loss:2.9131228801636917                 Valid Loss:2.7212321316949737 Train RMSE:1.6974769369864289 Valid RMSE:1.6392724209476957\n",
      "Batch:1000 2.2882435936927794  \n",
      "Batch:2000 2.2947388707399368  \n"
     ]
    }
   ],
   "source": [
    "learner.run_epochs(dltrain,dlvalid,5)"
   ]
  },
  {
   "cell_type": "code",
   "execution_count": 89,
   "metadata": {},
   "outputs": [
    {
     "data": {
      "text/html": [
       "<div>\n",
       "<style scoped>\n",
       "    .dataframe tbody tr th:only-of-type {\n",
       "        vertical-align: middle;\n",
       "    }\n",
       "\n",
       "    .dataframe tbody tr th {\n",
       "        vertical-align: top;\n",
       "    }\n",
       "\n",
       "    .dataframe thead th {\n",
       "        text-align: right;\n",
       "    }\n",
       "</style>\n",
       "<table border=\"1\" class=\"dataframe\">\n",
       "  <thead>\n",
       "    <tr style=\"text-align: right;\">\n",
       "      <th></th>\n",
       "      <th>location_idx</th>\n",
       "      <th>title_idx</th>\n",
       "      <th>author_idx</th>\n",
       "      <th>publisher_idx</th>\n",
       "    </tr>\n",
       "  </thead>\n",
       "  <tbody>\n",
       "    <tr>\n",
       "      <th>count</th>\n",
       "      <td>390303.000000</td>\n",
       "      <td>390303.000000</td>\n",
       "      <td>390303.000000</td>\n",
       "      <td>390303.000000</td>\n",
       "    </tr>\n",
       "    <tr>\n",
       "      <th>mean</th>\n",
       "      <td>2311.545082</td>\n",
       "      <td>31676.638527</td>\n",
       "      <td>8416.186412</td>\n",
       "      <td>539.522909</td>\n",
       "    </tr>\n",
       "    <tr>\n",
       "      <th>std</th>\n",
       "      <td>3484.841096</td>\n",
       "      <td>35457.553477</td>\n",
       "      <td>13303.695365</td>\n",
       "      <td>1363.479105</td>\n",
       "    </tr>\n",
       "    <tr>\n",
       "      <th>min</th>\n",
       "      <td>1.000000</td>\n",
       "      <td>1.000000</td>\n",
       "      <td>1.000000</td>\n",
       "      <td>1.000000</td>\n",
       "    </tr>\n",
       "    <tr>\n",
       "      <th>25%</th>\n",
       "      <td>247.000000</td>\n",
       "      <td>2664.500000</td>\n",
       "      <td>254.000000</td>\n",
       "      <td>24.000000</td>\n",
       "    </tr>\n",
       "    <tr>\n",
       "      <th>50%</th>\n",
       "      <td>878.000000</td>\n",
       "      <td>16427.000000</td>\n",
       "      <td>1864.000000</td>\n",
       "      <td>79.000000</td>\n",
       "    </tr>\n",
       "    <tr>\n",
       "      <th>75%</th>\n",
       "      <td>2741.000000</td>\n",
       "      <td>52544.000000</td>\n",
       "      <td>10213.000000</td>\n",
       "      <td>350.000000</td>\n",
       "    </tr>\n",
       "    <tr>\n",
       "      <th>max</th>\n",
       "      <td>20450.000000</td>\n",
       "      <td>126629.000000</td>\n",
       "      <td>58391.000000</td>\n",
       "      <td>11030.000000</td>\n",
       "    </tr>\n",
       "  </tbody>\n",
       "</table>\n",
       "</div>"
      ],
      "text/plain": [
       "        location_idx      title_idx     author_idx  publisher_idx\n",
       "count  390303.000000  390303.000000  390303.000000  390303.000000\n",
       "mean     2311.545082   31676.638527    8416.186412     539.522909\n",
       "std      3484.841096   35457.553477   13303.695365    1363.479105\n",
       "min         1.000000       1.000000       1.000000       1.000000\n",
       "25%       247.000000    2664.500000     254.000000      24.000000\n",
       "50%       878.000000   16427.000000    1864.000000      79.000000\n",
       "75%      2741.000000   52544.000000   10213.000000     350.000000\n",
       "max     20450.000000  126629.000000   58391.000000   11030.000000"
      ]
     },
     "execution_count": 89,
     "metadata": {},
     "output_type": "execute_result"
    }
   ],
   "source": [
    "df_train[emb_cols].describe()"
   ]
  },
  {
   "cell_type": "code",
   "execution_count": 98,
   "metadata": {},
   "outputs": [
    {
     "data": {
      "text/plain": [
       "tensor([[  9937, 127350,  15172,     40],\n",
       "        [  2909,  32531,   5655,    110],\n",
       "        [  1783,   2114,     24,     10],\n",
       "        [   586,     26,     26,     24],\n",
       "        [  7816,    499,    424,    200],\n",
       "        [  1670, 101595,     17,     17],\n",
       "        [  1348, 129961,  27006,    979],\n",
       "        [   240, 129985,  59790,     47],\n",
       "        [   718, 128260,  59079,   1418],\n",
       "        [   781,      7,      7,      7],\n",
       "        [    87,  65680,   1850,    355],\n",
       "        [  6170,   1363,    298,    203],\n",
       "        [   225,  68449,  33941,     40],\n",
       "        [     4,  41655,   1861,     70],\n",
       "        [  6092, 133073,  61109,   7622],\n",
       "        [   443,  98228,  21405,   6135],\n",
       "        [   253,     26,     26,     24],\n",
       "        [  3657,  23376,   5609,     73],\n",
       "        [  4725,   7284,   1570,     13],\n",
       "        [    14,   5939,   4029,    572],\n",
       "        [   116, 128954,  23141,    279],\n",
       "        [  8488,  15050,   2715,     66],\n",
       "        [    18,   2546,   1946,     29],\n",
       "        [    87,  39986,  21203,   4864],\n",
       "        [  4001,  14815,  60986,    712],\n",
       "        [  4684, 135542,  62101,  11576],\n",
       "        [    62, 133077,  13535,    461],\n",
       "        [  1498,   1566,    142,     33],\n",
       "        [   107,  24787,   7813,    418],\n",
       "        [     5,   6646,    722,     79],\n",
       "        [  1212,  20004,   2166,     57],\n",
       "        [   879,  10461,   4850,     32],\n",
       "        [   480,    843,    524,      7],\n",
       "        [     5,    139,    131,     10],\n",
       "        [  9802,  14955,   9019,    270],\n",
       "        [  1148,     26,     26,     24],\n",
       "        [   716,  19949,     56,     48],\n",
       "        [  4520,     26,     26,     24],\n",
       "        [    49,   9399,    642,     78],\n",
       "        [   341,  31417,   3649,   4130],\n",
       "        [  2211,  72657,   2420,     67],\n",
       "        [    34,     26,     26,     24],\n",
       "        [   491,  11978,   7462,     75],\n",
       "        [  1001, 115108,   1745,      1],\n",
       "        [   305,   9983,    544,    853],\n",
       "        [    35,   2200,    135,      4],\n",
       "        [   336, 107911,   3275,   1081],\n",
       "        [   408,  13397,   8216,    174],\n",
       "        [   725,   7718,    308,     26],\n",
       "        [   693, 132567,  17196,     72],\n",
       "        [     5,   3514,     76,     10],\n",
       "        [   880,   2818,   2120,     40],\n",
       "        [   790,   4736,    584,      4],\n",
       "        [  1765,  56090,  10084,      3],\n",
       "        [   369,   7589,   4988,     39],\n",
       "        [  1108,   4971,    933,    144],\n",
       "        [   955,  12920,     43,    158],\n",
       "        [   634, 131421,  11559,    360],\n",
       "        [   385,  20247,   1050,    473],\n",
       "        [  1610, 129211,  59466,    512],\n",
       "        [    87,  39811,    760,     42],\n",
       "        [  1365,   2681,    827,     10],\n",
       "        [  4067,    518,     65,     47],\n",
       "        [  3485,  12054,   2570,     49]])"
      ]
     },
     "execution_count": 98,
     "metadata": {},
     "output_type": "execute_result"
    }
   ],
   "source": [
    "learner.Xb[:,(2+len(autoenc_cols)):].long()"
   ]
  },
  {
   "cell_type": "code",
   "execution_count": 94,
   "metadata": {},
   "outputs": [
    {
     "data": {
      "text/plain": [
       "tensor([[  1960,  29052,  16057,    565],\n",
       "        [    47,  63056,   7255,    411],\n",
       "        [    62,  91209,  14023,    252],\n",
       "        [  1033,    201,    185,    464],\n",
       "        [   200,   4189,    692,     47],\n",
       "        [  1762,   9536,   6104,    114],\n",
       "        [    46,   2384,    231,    127],\n",
       "        [   251,     26,     26,     24],\n",
       "        [  3878,   4248,   1050,    473],\n",
       "        [   305,   6890,    206,    299],\n",
       "        [   314,     26,     26,     24],\n",
       "        [  2207,  27230,  15140,    239],\n",
       "        [   548,  73291,   2183,    565],\n",
       "        [   286,  68115,  33792,    534],\n",
       "        [  1704,   2864,   2152,    125],\n",
       "        [  6976,   3595,   1058,    398],\n",
       "        [  4839,  29912,  16455,      7],\n",
       "        [ 14728,   1226,    557,      5],\n",
       "        [ 13341,  11861,   7398,      3],\n",
       "        [   698,    170,    156,      1],\n",
       "        [ 13300,     26,     26,     24],\n",
       "        [   529,   1509,    182,    133],\n",
       "        [  1975,  64630,  32289,     16],\n",
       "        [  6816,  32306,   4198,   1337],\n",
       "        [  1812,  77460,  37859,   7734],\n",
       "        [  1762,    793,    669,    333],\n",
       "        [   342,  25796,  11294,    117],\n",
       "        [  4599,  18152,  10645,    275],\n",
       "        [   210,  11594,    390,   1012],\n",
       "        [   565,  52556,  50164,      3],\n",
       "        [   246,  14614,   1531,    135],\n",
       "        [  7255,  17779,    926,    156],\n",
       "        [    16,   2959,   2212,     33],\n",
       "        [    46,     26,     26,     24],\n",
       "        [  4135,  26096,  14579,    373],\n",
       "        [   210, 122505,   4117,     64],\n",
       "        [  9568,   2641,    205,      5],\n",
       "        [   107,  68351,  31245,    267],\n",
       "        [   352,  63520,    805,    211],\n",
       "        [   225,    869,    732,    110],\n",
       "        [  3914,     26,     26,     24],\n",
       "        [    37,  37023,     84,     57],\n",
       "        [   622,  20860,   1986,    195],\n",
       "        [  2012,   2542,   1943,      7],\n",
       "        [ 11369,   3173,  12535,   1380],\n",
       "        [   364,  31098,  17018,     39],\n",
       "        [   425, 106558,  40217,    639],\n",
       "        [  1715,  39280,  20881,    412],\n",
       "        [   885,   1938,   1531,    135],\n",
       "        [  3527,   7313,   4829,     21],\n",
       "        [  1443,     26,     26,     24],\n",
       "        [   262,  90721,  20622,   1392],\n",
       "        [    28,  31508,   1876,    337],\n",
       "        [  1907,  67535,  33527,   2603],\n",
       "        [    51,  12293,    159,     16],\n",
       "        [  4325,  13963,   8503,     52],\n",
       "        [  2591,   2857,    382,     86],\n",
       "        [  3602,     26,     26,     24],\n",
       "        [   521,  16379,   9756,    204],\n",
       "        [ 18509,  13627,   2404,     32],\n",
       "        [ 14569,     26,     26,     24],\n",
       "        [  1468,   2168,   1681,     78],\n",
       "        [    22,    118,     96,     86],\n",
       "        [    18,  47117,  24461,    916]])"
      ]
     },
     "execution_count": 94,
     "metadata": {},
     "output_type": "execute_result"
    }
   ],
   "source": [
    "Xb[:,-4:].long()"
   ]
  },
  {
   "cell_type": "code",
   "execution_count": 91,
   "metadata": {},
   "outputs": [
    {
     "data": {
      "text/plain": [
       "tensor([[  1960,  29052,  16057,    565],\n",
       "        [    47,  63056,   7255,    411],\n",
       "        [    62,  91209,  14023,    252],\n",
       "        [  1033,    201,    185,    464],\n",
       "        [   200,   4189,    692,     47],\n",
       "        [  1762,   9536,   6104,    114],\n",
       "        [    46,   2384,    231,    127],\n",
       "        [   251,     26,     26,     24],\n",
       "        [  3878,   4248,   1050,    473],\n",
       "        [   305,   6890,    206,    299],\n",
       "        [   314,     26,     26,     24],\n",
       "        [  2207,  27230,  15140,    239],\n",
       "        [   548,  73291,   2183,    565],\n",
       "        [   286,  68115,  33792,    534],\n",
       "        [  1704,   2864,   2152,    125],\n",
       "        [  6976,   3595,   1058,    398],\n",
       "        [  4839,  29912,  16455,      7],\n",
       "        [ 14728,   1226,    557,      5],\n",
       "        [ 13341,  11861,   7398,      3],\n",
       "        [   698,    170,    156,      1],\n",
       "        [ 13300,     26,     26,     24],\n",
       "        [   529,   1509,    182,    133],\n",
       "        [  1975,  64630,  32289,     16],\n",
       "        [  6816,  32306,   4198,   1337],\n",
       "        [  1812,  77460,  37859,   7734],\n",
       "        [  1762,    793,    669,    333],\n",
       "        [   342,  25796,  11294,    117],\n",
       "        [  4599,  18152,  10645,    275],\n",
       "        [   210,  11594,    390,   1012],\n",
       "        [   565,  52556,  50164,      3],\n",
       "        [   246,  14614,   1531,    135],\n",
       "        [  7255,  17779,    926,    156],\n",
       "        [    16,   2959,   2212,     33],\n",
       "        [    46,     26,     26,     24],\n",
       "        [  4135,  26096,  14579,    373],\n",
       "        [   210, 122505,   4117,     64],\n",
       "        [  9568,   2641,    205,      5],\n",
       "        [   107,  68351,  31245,    267],\n",
       "        [   352,  63520,    805,    211],\n",
       "        [   225,    869,    732,    110],\n",
       "        [  3914,     26,     26,     24],\n",
       "        [    37,  37023,     84,     57],\n",
       "        [   622,  20860,   1986,    195],\n",
       "        [  2012,   2542,   1943,      7],\n",
       "        [ 11369,   3173,  12535,   1380],\n",
       "        [   364,  31098,  17018,     39],\n",
       "        [   425, 106558,  40217,    639],\n",
       "        [  1715,  39280,  20881,    412],\n",
       "        [   885,   1938,   1531,    135],\n",
       "        [  3527,   7313,   4829,     21],\n",
       "        [  1443,     26,     26,     24],\n",
       "        [   262,  90721,  20622,   1392],\n",
       "        [    28,  31508,   1876,    337],\n",
       "        [  1907,  67535,  33527,   2603],\n",
       "        [    51,  12293,    159,     16],\n",
       "        [  4325,  13963,   8503,     52],\n",
       "        [  2591,   2857,    382,     86],\n",
       "        [  3602,     26,     26,     24],\n",
       "        [   521,  16379,   9756,    204],\n",
       "        [ 18509,  13627,   2404,     32],\n",
       "        [ 14569,     26,     26,     24],\n",
       "        [  1468,   2168,   1681,     78],\n",
       "        [    22,    118,     96,     86],\n",
       "        [    18,  47117,  24461,    916]])"
      ]
     },
     "execution_count": 91,
     "metadata": {},
     "output_type": "execute_result"
    }
   ],
   "source": [
    "cats.long()"
   ]
  },
  {
   "cell_type": "code",
   "execution_count": 87,
   "metadata": {},
   "outputs": [
    {
     "name": "stdout",
     "output_type": "stream",
     "text": [
      "> <ipython-input-85-7cd596aebf80>(48)forward()\n",
      "-> users=Xb[:,0].long()\n",
      "(Pdb) n\n",
      "> <ipython-input-85-7cd596aebf80>(49)forward()\n",
      "-> items=Xb[:,1].long()\n",
      "(Pdb) n\n",
      "> <ipython-input-85-7cd596aebf80>(50)forward()\n",
      "-> users=self.emb_dropout(self.emb_user(users))\n",
      "(Pdb) Xb.sum(0)\n",
      "tensor([ 9.3327e+05,  4.8375e+06,  1.0043e+02,  9.6539e+01,  1.0039e+02,\n",
      "        -9.8004e+01,  9.7871e+01, -9.7697e+01, -9.6658e+01, -9.9561e+01,\n",
      "        -1.0085e+02,  9.7607e+01,  1.0062e+02,  9.6630e+01,  1.0045e+02,\n",
      "        -9.5956e+01, -9.8920e+01,  9.8164e+01, -9.7721e+01,  9.9537e+01,\n",
      "        -1.0103e+02,  9.0962e+01,  9.4999e+01, -9.6650e+01, -1.0097e+02,\n",
      "        -9.2913e+01,  9.9098e+01, -1.0891e+02,  1.0946e+02, -9.0273e+01,\n",
      "        -1.0950e+02,  1.0767e+02, -1.1022e+02, -8.6487e+01, -1.0447e+02,\n",
      "         8.7200e+01, -1.1191e+02,  1.1142e+05,  2.6097e+06,  6.5074e+05,\n",
      "         4.5424e+04])\n",
      "(Pdb) n\n",
      "> <ipython-input-85-7cd596aebf80>(51)forward()\n",
      "-> items=self.emb_dropout(self.emb_movie(items))\n",
      "(Pdb) n\n",
      "> <ipython-input-85-7cd596aebf80>(52)forward()\n",
      "-> embed=torch.cat([users,items],1)\n",
      "(Pdb) n\n",
      "> <ipython-input-85-7cd596aebf80>(53)forward()\n",
      "-> out1=self.lin1(embed)\n",
      "(Pdb) n\n",
      "> <ipython-input-85-7cd596aebf80>(56)forward()\n",
      "-> denses=Xb[:,2:(2+len(autoenc_cols))]\n",
      "(Pdb) n\n",
      "> <ipython-input-85-7cd596aebf80>(57)forward()\n",
      "-> out2=self.lin2(denses)\n",
      "(Pdb) n\n",
      "> <ipython-input-85-7cd596aebf80>(58)forward()\n",
      "-> cats=Xb[:,(2+len(autoenc_cols)):].long()\n",
      "(Pdb) n\n",
      "> <ipython-input-85-7cd596aebf80>(59)forward()\n",
      "-> embed_cat=[self.emb_dropout(self.embs_cat[i](cats[:,i]) ) for i in range(len(self.emb_szs))]\n",
      "(Pdb) cats\n",
      "tensor([[  9937, 127350,  15172,     40],\n",
      "        [  2909,  32531,   5655,    110],\n",
      "        [  1783,   2114,     24,     10],\n",
      "        [   586,     26,     26,     24],\n",
      "        [  7816,    499,    424,    200],\n",
      "        [  1670, 101595,     17,     17],\n",
      "        [  1348, 129961,  27006,    979],\n",
      "        [   240, 129985,  59790,     47],\n",
      "        [   718, 128260,  59079,   1418],\n",
      "        [   781,      7,      7,      7],\n",
      "        [    87,  65680,   1850,    355],\n",
      "        [  6170,   1363,    298,    203],\n",
      "        [   225,  68449,  33941,     40],\n",
      "        [     4,  41655,   1861,     70],\n",
      "        [  6092, 133073,  61109,   7622],\n",
      "        [   443,  98228,  21405,   6135],\n",
      "        [   253,     26,     26,     24],\n",
      "        [  3657,  23376,   5609,     73],\n",
      "        [  4725,   7284,   1570,     13],\n",
      "        [    14,   5939,   4029,    572],\n",
      "        [   116, 128954,  23141,    279],\n",
      "        [  8488,  15050,   2715,     66],\n",
      "        [    18,   2546,   1946,     29],\n",
      "        [    87,  39986,  21203,   4864],\n",
      "        [  4001,  14815,  60986,    712],\n",
      "        [  4684, 135542,  62101,  11576],\n",
      "        [    62, 133077,  13535,    461],\n",
      "        [  1498,   1566,    142,     33],\n",
      "        [   107,  24787,   7813,    418],\n",
      "        [     5,   6646,    722,     79],\n",
      "        [  1212,  20004,   2166,     57],\n",
      "        [   879,  10461,   4850,     32],\n",
      "        [   480,    843,    524,      7],\n",
      "        [     5,    139,    131,     10],\n",
      "        [  9802,  14955,   9019,    270],\n",
      "        [  1148,     26,     26,     24],\n",
      "        [   716,  19949,     56,     48],\n",
      "        [  4520,     26,     26,     24],\n",
      "        [    49,   9399,    642,     78],\n",
      "        [   341,  31417,   3649,   4130],\n",
      "        [  2211,  72657,   2420,     67],\n",
      "        [    34,     26,     26,     24],\n",
      "        [   491,  11978,   7462,     75],\n",
      "        [  1001, 115108,   1745,      1],\n",
      "        [   305,   9983,    544,    853],\n",
      "        [    35,   2200,    135,      4],\n",
      "        [   336, 107911,   3275,   1081],\n",
      "        [   408,  13397,   8216,    174],\n",
      "        [   725,   7718,    308,     26],\n",
      "        [   693, 132567,  17196,     72],\n",
      "        [     5,   3514,     76,     10],\n",
      "        [   880,   2818,   2120,     40],\n",
      "        [   790,   4736,    584,      4],\n",
      "        [  1765,  56090,  10084,      3],\n",
      "        [   369,   7589,   4988,     39],\n",
      "        [  1108,   4971,    933,    144],\n",
      "        [   955,  12920,     43,    158],\n",
      "        [   634, 131421,  11559,    360],\n",
      "        [   385,  20247,   1050,    473],\n",
      "        [  1610, 129211,  59466,    512],\n",
      "        [    87,  39811,    760,     42],\n",
      "        [  1365,   2681,    827,     10],\n",
      "        [  4067,    518,     65,     47],\n",
      "        [  3485,  12054,   2570,     49]])\n",
      "(Pdb) cats.cpu().numpy().max(0)\n",
      "array([  9937, 135542,  62101,  11576])\n",
      "(Pdb) cats.cpu().numpy().min(0)\n",
      "array([4, 7, 7, 1])\n",
      "(Pdb) n\n",
      "RuntimeError: index out of range at /opt/conda/conda-bld/pytorch_1556653114079/work/aten/src/TH/generic/THTensorEvenMoreMath.cpp:193\n",
      "> <ipython-input-85-7cd596aebf80>(59)forward()\n",
      "-> embed_cat=[self.emb_dropout(self.embs_cat[i](cats[:,i]) ) for i in range(len(self.emb_szs))]\n",
      "(Pdb) self.emb_dropout(self.embs_cat[0](cats[:,0])\n",
      "*** SyntaxError: unexpected EOF while parsing\n",
      "(Pdb) self.emb_dropout(self.embs_cat[0](cats[:,0]))\n",
      "tensor([[ 1.8402,  0.6063,  0.2643,  ..., -0.3461,  0.7089, -1.3443],\n",
      "        [ 0.2508,  1.4417,  0.2106,  ..., -0.0000,  0.4596, -1.0772],\n",
      "        [ 0.0522,  1.5125, -0.8489,  ..., -0.1273,  2.3038,  1.4821],\n",
      "        ...,\n",
      "        [-2.1062, -0.9171, -0.3907,  ...,  0.3445,  0.6528, -1.2290],\n",
      "        [ 0.1357,  0.0000,  0.3880,  ...,  0.2586,  1.5364, -0.3212],\n",
      "        [ 0.6224, -0.0000, -0.6019,  ..., -0.8764, -0.9005, -1.2253]],\n",
      "       grad_fn=<MulBackward0>)\n",
      "(Pdb) self.emb_dropout(self.embs_cat[1](cats[:,1]))\n",
      "tensor([[ 0.7778,  0.3843,  1.4657,  ...,  1.4100,  0.0417, -0.3903],\n",
      "        [ 1.5412, -1.3584, -3.2710,  ...,  0.5452,  0.6095, -0.0000],\n",
      "        [ 0.0375, -1.2407, -0.6496,  ...,  1.0819, -0.0000, -0.0000],\n",
      "        ...,\n",
      "        [ 0.2231,  0.4451,  0.6490,  ..., -0.6057,  0.3263, -0.0235],\n",
      "        [ 1.6506, -2.1617, -2.0621,  ...,  0.0312,  1.4826, -0.4621],\n",
      "        [-0.0655,  2.5173, -2.4950,  ...,  0.4389,  0.2457,  1.8358]],\n",
      "       grad_fn=<MulBackward0>)\n",
      "(Pdb) self.emb_dropout(self.embs_cat[2](cats[:,2]))\n",
      "tensor([[-1.4082,  0.2231, -1.6626,  ..., -2.4239, -0.2159,  1.0540],\n",
      "        [ 1.3405, -0.7599,  1.4406,  ..., -0.0453, -1.1624,  0.6499],\n",
      "        [ 0.7230, -2.2526,  2.5077,  ..., -0.5533, -0.2888,  0.1668],\n",
      "        ...,\n",
      "        [ 1.2385, -1.0712, -1.1681,  ..., -0.1294, -1.2811,  0.3387],\n",
      "        [-0.3358, -1.0558,  0.7278,  ...,  2.5287,  0.9770,  0.3538],\n",
      "        [ 0.9810,  1.7946,  0.0647,  ...,  0.8475,  1.1854, -0.6757]],\n",
      "       grad_fn=<MulBackward0>)\n",
      "(Pdb) self.emb_dropout(self.embs_cat[3](cats[:,3]))\n",
      "*** RuntimeError: index out of range at /opt/conda/conda-bld/pytorch_1556653114079/work/aten/src/TH/generic/THTensorEvenMoreMath.cpp:193\n",
      "(Pdb) cats[:,3]\n",
      "tensor([   40,   110,    10,    24,   200,    17,   979,    47,  1418,     7,\n",
      "          355,   203,    40,    70,  7622,  6135,    24,    73,    13,   572,\n",
      "          279,    66,    29,  4864,   712, 11576,   461,    33,   418,    79,\n",
      "           57,    32,     7,    10,   270,    24,    48,    24,    78,  4130,\n",
      "           67,    24,    75,     1,   853,     4,  1081,   174,    26,    72,\n",
      "           10,    40,     4,     3,    39,   144,   158,   360,   473,   512,\n",
      "           42,    10,    47,    49])\n",
      "(Pdb) cats[:,3].min()\n",
      "tensor(1)\n",
      "(Pdb) cats[:,3].max()\n",
      "tensor(11576)\n",
      "(Pdb) emb_szs\n",
      "[(21335, 50), (135568, 50), (62114, 50), (11576, 50)]\n",
      "(Pdb) q\n"
     ]
    },
    {
     "ename": "BdbQuit",
     "evalue": "",
     "output_type": "error",
     "traceback": [
      "\u001b[0;31m---------------------------------------------------------------------------\u001b[0m",
      "\u001b[0;31mBdbQuit\u001b[0m                                   Traceback (most recent call last)",
      "\u001b[0;32m<ipython-input-87-d54d388148ce>\u001b[0m in \u001b[0;36m<module>\u001b[0;34m\u001b[0m\n\u001b[0;32m----> 1\u001b[0;31m \u001b[0mcfobj\u001b[0m\u001b[0;34m.\u001b[0m\u001b[0mforward\u001b[0m\u001b[0;34m(\u001b[0m\u001b[0mlearner\u001b[0m\u001b[0;34m.\u001b[0m\u001b[0mXb\u001b[0m\u001b[0;34m,\u001b[0m\u001b[0mlearner\u001b[0m\u001b[0;34m.\u001b[0m\u001b[0mYb\u001b[0m\u001b[0;34m)\u001b[0m\u001b[0;34m\u001b[0m\u001b[0;34m\u001b[0m\u001b[0m\n\u001b[0m",
      "\u001b[0;32m<ipython-input-85-7cd596aebf80>\u001b[0m in \u001b[0;36mforward\u001b[0;34m(self, Xb, Yb)\u001b[0m\n\u001b[1;32m     57\u001b[0m         \u001b[0mout2\u001b[0m\u001b[0;34m=\u001b[0m\u001b[0mself\u001b[0m\u001b[0;34m.\u001b[0m\u001b[0mlin2\u001b[0m\u001b[0;34m(\u001b[0m\u001b[0mdenses\u001b[0m\u001b[0;34m)\u001b[0m\u001b[0;34m\u001b[0m\u001b[0;34m\u001b[0m\u001b[0m\n\u001b[1;32m     58\u001b[0m         \u001b[0mcats\u001b[0m\u001b[0;34m=\u001b[0m\u001b[0mXb\u001b[0m\u001b[0;34m[\u001b[0m\u001b[0;34m:\u001b[0m\u001b[0;34m,\u001b[0m\u001b[0;34m(\u001b[0m\u001b[0;36m2\u001b[0m\u001b[0;34m+\u001b[0m\u001b[0mlen\u001b[0m\u001b[0;34m(\u001b[0m\u001b[0mautoenc_cols\u001b[0m\u001b[0;34m)\u001b[0m\u001b[0;34m)\u001b[0m\u001b[0;34m:\u001b[0m\u001b[0;34m]\u001b[0m\u001b[0;34m.\u001b[0m\u001b[0mlong\u001b[0m\u001b[0;34m(\u001b[0m\u001b[0;34m)\u001b[0m\u001b[0;34m\u001b[0m\u001b[0;34m\u001b[0m\u001b[0m\n\u001b[0;32m---> 59\u001b[0;31m         \u001b[0membed_cat\u001b[0m\u001b[0;34m=\u001b[0m\u001b[0;34m[\u001b[0m\u001b[0mself\u001b[0m\u001b[0;34m.\u001b[0m\u001b[0memb_dropout\u001b[0m\u001b[0;34m(\u001b[0m\u001b[0mself\u001b[0m\u001b[0;34m.\u001b[0m\u001b[0membs_cat\u001b[0m\u001b[0;34m[\u001b[0m\u001b[0mi\u001b[0m\u001b[0;34m]\u001b[0m\u001b[0;34m(\u001b[0m\u001b[0mcats\u001b[0m\u001b[0;34m[\u001b[0m\u001b[0;34m:\u001b[0m\u001b[0;34m,\u001b[0m\u001b[0mi\u001b[0m\u001b[0;34m]\u001b[0m\u001b[0;34m)\u001b[0m \u001b[0;34m)\u001b[0m \u001b[0;32mfor\u001b[0m \u001b[0mi\u001b[0m \u001b[0;32min\u001b[0m \u001b[0mrange\u001b[0m\u001b[0;34m(\u001b[0m\u001b[0mlen\u001b[0m\u001b[0;34m(\u001b[0m\u001b[0mself\u001b[0m\u001b[0;34m.\u001b[0m\u001b[0memb_szs\u001b[0m\u001b[0;34m)\u001b[0m\u001b[0;34m)\u001b[0m\u001b[0;34m]\u001b[0m\u001b[0;34m\u001b[0m\u001b[0;34m\u001b[0m\u001b[0m\n\u001b[0m\u001b[1;32m     60\u001b[0m \u001b[0;34m\u001b[0m\u001b[0m\n\u001b[1;32m     61\u001b[0m         \u001b[0;31m#pickle.dump([Xb,Yb,embed_cat],open(f'{DATAPATH}/inter/savepickle','wb'))\u001b[0m\u001b[0;34m\u001b[0m\u001b[0;34m\u001b[0m\u001b[0;34m\u001b[0m\u001b[0m\n",
      "\u001b[0;32m~/anaconda3/lib/python3.7/bdb.py\u001b[0m in \u001b[0;36mtrace_dispatch\u001b[0;34m(self, frame, event, arg)\u001b[0m\n\u001b[1;32m     92\u001b[0m             \u001b[0;32mreturn\u001b[0m \u001b[0mself\u001b[0m\u001b[0;34m.\u001b[0m\u001b[0mdispatch_return\u001b[0m\u001b[0;34m(\u001b[0m\u001b[0mframe\u001b[0m\u001b[0;34m,\u001b[0m \u001b[0marg\u001b[0m\u001b[0;34m)\u001b[0m\u001b[0;34m\u001b[0m\u001b[0;34m\u001b[0m\u001b[0m\n\u001b[1;32m     93\u001b[0m         \u001b[0;32mif\u001b[0m \u001b[0mevent\u001b[0m \u001b[0;34m==\u001b[0m \u001b[0;34m'exception'\u001b[0m\u001b[0;34m:\u001b[0m\u001b[0;34m\u001b[0m\u001b[0;34m\u001b[0m\u001b[0m\n\u001b[0;32m---> 94\u001b[0;31m             \u001b[0;32mreturn\u001b[0m \u001b[0mself\u001b[0m\u001b[0;34m.\u001b[0m\u001b[0mdispatch_exception\u001b[0m\u001b[0;34m(\u001b[0m\u001b[0mframe\u001b[0m\u001b[0;34m,\u001b[0m \u001b[0marg\u001b[0m\u001b[0;34m)\u001b[0m\u001b[0;34m\u001b[0m\u001b[0;34m\u001b[0m\u001b[0m\n\u001b[0m\u001b[1;32m     95\u001b[0m         \u001b[0;32mif\u001b[0m \u001b[0mevent\u001b[0m \u001b[0;34m==\u001b[0m \u001b[0;34m'c_call'\u001b[0m\u001b[0;34m:\u001b[0m\u001b[0;34m\u001b[0m\u001b[0;34m\u001b[0m\u001b[0m\n\u001b[1;32m     96\u001b[0m             \u001b[0;32mreturn\u001b[0m \u001b[0mself\u001b[0m\u001b[0;34m.\u001b[0m\u001b[0mtrace_dispatch\u001b[0m\u001b[0;34m\u001b[0m\u001b[0;34m\u001b[0m\u001b[0m\n",
      "\u001b[0;32m~/anaconda3/lib/python3.7/bdb.py\u001b[0m in \u001b[0;36mdispatch_exception\u001b[0;34m(self, frame, arg)\u001b[0m\n\u001b[1;32m    172\u001b[0m                     and arg[0] is StopIteration and arg[2] is None):\n\u001b[1;32m    173\u001b[0m                 \u001b[0mself\u001b[0m\u001b[0;34m.\u001b[0m\u001b[0muser_exception\u001b[0m\u001b[0;34m(\u001b[0m\u001b[0mframe\u001b[0m\u001b[0;34m,\u001b[0m \u001b[0marg\u001b[0m\u001b[0;34m)\u001b[0m\u001b[0;34m\u001b[0m\u001b[0;34m\u001b[0m\u001b[0m\n\u001b[0;32m--> 174\u001b[0;31m                 \u001b[0;32mif\u001b[0m \u001b[0mself\u001b[0m\u001b[0;34m.\u001b[0m\u001b[0mquitting\u001b[0m\u001b[0;34m:\u001b[0m \u001b[0;32mraise\u001b[0m \u001b[0mBdbQuit\u001b[0m\u001b[0;34m\u001b[0m\u001b[0;34m\u001b[0m\u001b[0m\n\u001b[0m\u001b[1;32m    175\u001b[0m         \u001b[0;31m# Stop at the StopIteration or GeneratorExit exception when the user\u001b[0m\u001b[0;34m\u001b[0m\u001b[0;34m\u001b[0m\u001b[0;34m\u001b[0m\u001b[0m\n\u001b[1;32m    176\u001b[0m         \u001b[0;31m# has set stopframe in a generator by issuing a return command, or a\u001b[0m\u001b[0;34m\u001b[0m\u001b[0;34m\u001b[0m\u001b[0;34m\u001b[0m\u001b[0m\n",
      "\u001b[0;31mBdbQuit\u001b[0m: "
     ]
    }
   ],
   "source": [
    "cfobj.forward(learner.Xb,learner.Yb)"
   ]
  },
  {
   "cell_type": "code",
   "execution_count": 68,
   "metadata": {},
   "outputs": [
    {
     "data": {
      "text/plain": [
       "(tensor(30), tensor(68050), tensor(134), tensor(172700), (390303, 57))"
      ]
     },
     "execution_count": 68,
     "metadata": {},
     "output_type": "execute_result"
    }
   ],
   "source": [
    "users.min(),users.max(),items.min(),items.max(),df_train.shape"
   ]
  },
  {
   "cell_type": "code",
   "execution_count": 73,
   "metadata": {},
   "outputs": [
    {
     "ename": "RuntimeError",
     "evalue": "CUDA error: device-side assert triggered",
     "output_type": "error",
     "traceback": [
      "\u001b[0;31m---------------------------------------------------------------------------\u001b[0m",
      "\u001b[0;31mRuntimeError\u001b[0m                              Traceback (most recent call last)",
      "\u001b[0;32m<ipython-input-73-03e970500269>\u001b[0m in \u001b[0;36m<module>\u001b[0;34m\u001b[0m\n\u001b[0;32m----> 1\u001b[0;31m \u001b[0musers\u001b[0m\u001b[0;34m=\u001b[0m\u001b[0mcfobj\u001b[0m\u001b[0;34m.\u001b[0m\u001b[0memb_dropout\u001b[0m\u001b[0;34m(\u001b[0m\u001b[0mcfobj\u001b[0m\u001b[0;34m.\u001b[0m\u001b[0memb_user\u001b[0m\u001b[0;34m(\u001b[0m\u001b[0musers\u001b[0m\u001b[0;34m.\u001b[0m\u001b[0mcuda\u001b[0m\u001b[0;34m(\u001b[0m\u001b[0;34m)\u001b[0m\u001b[0;34m)\u001b[0m\u001b[0;34m)\u001b[0m\u001b[0;34m\u001b[0m\u001b[0;34m\u001b[0m\u001b[0m\n\u001b[0m\u001b[1;32m      2\u001b[0m \u001b[0mitems\u001b[0m\u001b[0;34m=\u001b[0m\u001b[0mcfobj\u001b[0m\u001b[0;34m.\u001b[0m\u001b[0memb_dropout\u001b[0m\u001b[0;34m(\u001b[0m\u001b[0mcfobj\u001b[0m\u001b[0;34m.\u001b[0m\u001b[0memb_movie\u001b[0m\u001b[0;34m(\u001b[0m\u001b[0mitems\u001b[0m\u001b[0;34m.\u001b[0m\u001b[0mcuda\u001b[0m\u001b[0;34m(\u001b[0m\u001b[0;34m)\u001b[0m\u001b[0;34m)\u001b[0m\u001b[0;34m)\u001b[0m\u001b[0;34m\u001b[0m\u001b[0;34m\u001b[0m\u001b[0m\n\u001b[1;32m      3\u001b[0m \u001b[0membed\u001b[0m\u001b[0;34m=\u001b[0m\u001b[0mtorch\u001b[0m\u001b[0;34m.\u001b[0m\u001b[0mcat\u001b[0m\u001b[0;34m(\u001b[0m\u001b[0;34m[\u001b[0m\u001b[0musers\u001b[0m\u001b[0;34m,\u001b[0m\u001b[0mitems\u001b[0m\u001b[0;34m]\u001b[0m\u001b[0;34m,\u001b[0m\u001b[0;36m1\u001b[0m\u001b[0;34m)\u001b[0m\u001b[0;34m\u001b[0m\u001b[0;34m\u001b[0m\u001b[0m\n\u001b[1;32m      4\u001b[0m \u001b[0mout1\u001b[0m\u001b[0;34m=\u001b[0m\u001b[0mcfobj\u001b[0m\u001b[0;34m.\u001b[0m\u001b[0mlin1\u001b[0m\u001b[0;34m(\u001b[0m\u001b[0membed\u001b[0m\u001b[0;34m)\u001b[0m\u001b[0;34m\u001b[0m\u001b[0;34m\u001b[0m\u001b[0m\n",
      "\u001b[0;31mRuntimeError\u001b[0m: CUDA error: device-side assert triggered"
     ]
    }
   ],
   "source": [
    "users=cfobj.emb_dropout(cfobj.emb_user(users.cuda()))\n",
    "items=cfobj.emb_dropout(cfobj.emb_movie(items.cuda())) \n",
    "embed=torch.cat([users,items],1)\n",
    "out1=cfobj.lin1(embed)"
   ]
  },
  {
   "cell_type": "markdown",
   "metadata": {},
   "source": [
    " users=Xb[:,0].long()\n",
    "        items=Xb[:,1].long()\n",
    "        users=self.emb_dropout(self.emb_user(users))\n",
    "        items=self.emb_dropout(self.emb_movie(items))        \n",
    "        embed=torch.cat([users,items],1)\n",
    "        out1=self.lin1(embed)\n",
    "        \n",
    "        \n",
    "        denses=Xb[:,2:(2+len(autoenc_cols))]\n",
    "        out2=self.lin2(denses)\n",
    "        cats=Xb[:,(2+len(autoenc_cols)):].long()\n",
    "        embed_cat=[self.emb_dropout(self.embs_cat[i](cats[:,i]) ) for i in range(len(self.emb_szs))]\n",
    "        \n",
    "        #pickle.dump([Xb,Yb,embed_cat],open(f'{DATAPATH}/inter/savepickle','wb'))\n",
    "        #torch.save(embed_cat,f'{DATAPATH}/inter/save')\n",
    "        \n",
    "        #dbgobj.cat=[x.detach().cpu().numpy() for x in embed_cat]\n",
    "        \n",
    "        embedded_cat = torch.cat([x for x in embed_cat],1)\n",
    "        out3=self.lin3(embedded_cat)\n",
    "        \n",
    "        out4=torch.cat([out1,out2,out3],1)\n",
    "        out5=self.lin4(out4)\n",
    "        out6=self.lin5(out5)\n",
    "        \n",
    "        out=self.sigmoid(out6)\n",
    "        \n",
    "        preds=out*(self.max_rating-self.min_rating)+self.min_rating\n",
    "        \n",
    "        #dbgobj.preds=preds.detach().cpu().numpy()\n",
    "        \n",
    "        self.preds=preds\n",
    "        #preds=preds.view(-1)\n",
    "        \n",
    "        loss=self.criterion(preds,Yb)\n",
    "        return preds,loss"
   ]
  },
  {
   "cell_type": "code",
   "execution_count": null,
   "metadata": {},
   "outputs": [],
   "source": []
  },
  {
   "cell_type": "code",
   "execution_count": 69,
   "metadata": {},
   "outputs": [
    {
     "data": {
      "text/plain": [
       "tensor(2.2930)"
      ]
     },
     "execution_count": 69,
     "metadata": {},
     "output_type": "execute_result"
    }
   ],
   "source": [
    "torch.nn.MSELoss()(torch.FloatTensor(dbgobj.preds),torch.FloatTensor(dbgobj.Yb))"
   ]
  },
  {
   "cell_type": "code",
   "execution_count": 72,
   "metadata": {},
   "outputs": [
    {
     "ename": "AttributeError",
     "evalue": "'cf' object has no attribute 'preds'",
     "output_type": "error",
     "traceback": [
      "\u001b[0;31m---------------------------------------------------------------------------\u001b[0m",
      "\u001b[0;31mAttributeError\u001b[0m                            Traceback (most recent call last)",
      "\u001b[0;32m<ipython-input-72-ec1c8c0346e9>\u001b[0m in \u001b[0;36m<module>\u001b[0;34m\u001b[0m\n\u001b[0;32m----> 1\u001b[0;31m \u001b[0mcfobj\u001b[0m\u001b[0;34m.\u001b[0m\u001b[0mpreds\u001b[0m\u001b[0;34m\u001b[0m\u001b[0;34m\u001b[0m\u001b[0m\n\u001b[0m",
      "\u001b[0;32m~/anaconda3/lib/python3.7/site-packages/torch/nn/modules/module.py\u001b[0m in \u001b[0;36m__getattr__\u001b[0;34m(self, name)\u001b[0m\n\u001b[1;32m    537\u001b[0m                 \u001b[0;32mreturn\u001b[0m \u001b[0mmodules\u001b[0m\u001b[0;34m[\u001b[0m\u001b[0mname\u001b[0m\u001b[0;34m]\u001b[0m\u001b[0;34m\u001b[0m\u001b[0;34m\u001b[0m\u001b[0m\n\u001b[1;32m    538\u001b[0m         raise AttributeError(\"'{}' object has no attribute '{}'\".format(\n\u001b[0;32m--> 539\u001b[0;31m             type(self).__name__, name))\n\u001b[0m\u001b[1;32m    540\u001b[0m \u001b[0;34m\u001b[0m\u001b[0m\n\u001b[1;32m    541\u001b[0m     \u001b[0;32mdef\u001b[0m \u001b[0m__setattr__\u001b[0m\u001b[0;34m(\u001b[0m\u001b[0mself\u001b[0m\u001b[0;34m,\u001b[0m \u001b[0mname\u001b[0m\u001b[0;34m,\u001b[0m \u001b[0mvalue\u001b[0m\u001b[0;34m)\u001b[0m\u001b[0;34m:\u001b[0m\u001b[0;34m\u001b[0m\u001b[0;34m\u001b[0m\u001b[0m\n",
      "\u001b[0;31mAttributeError\u001b[0m: 'cf' object has no attribute 'preds'"
     ]
    }
   ],
   "source": [
    "cfobj.preds"
   ]
  },
  {
   "cell_type": "code",
   "execution_count": 77,
   "metadata": {},
   "outputs": [
    {
     "name": "stderr",
     "output_type": "stream",
     "text": [
      "/home/kirana/anaconda3/lib/python3.7/site-packages/torch/serialization.py:256: UserWarning: Couldn't retrieve source code for container of type cf. It won't be checked for correctness upon loading.\n",
      "  \"type \" + obj.__name__ + \". It won't be checked \"\n",
      "/home/kirana/anaconda3/lib/python3.7/site-packages/torch/serialization.py:256: UserWarning: Couldn't retrieve source code for container of type cf. It won't be checked for correctness upon loading.\n",
      "  \"type \" + obj.__name__ + \". It won't be checked \"\n"
     ]
    }
   ],
   "source": [
    "torch.save(cfobj,f=f'{DATAPATH}/inter/cf_plus_model')\n",
    "torch.save(learner,f=f'{DATAPATH}/inter/cf_plus_learner')\n",
    "torch.save(optimizer,f=f'{DATAPATH}/inter/cf_plus_optimizer')\n",
    "torch.save(cfobj.state_dict(),f'{DATAPATH}/inter/cf_plus_state_dict')\n",
    "torch.save(optimizer.state_dict(),f'{DATAPATH}/inter/cf_plus_optimizer_state_dict')"
   ]
  },
  {
   "cell_type": "code",
   "execution_count": 78,
   "metadata": {},
   "outputs": [],
   "source": [
    "optimizer=torch.optim.Adam(cfobj.parameters(),lr=3e-3,betas=(0.9,0.999), weight_decay=wd)\n",
    "learner=Learner(cfobj,optimizer,None,device,0,12000,0.25,cycle_mult=2,start_lr=5e-3,end_lr=5e-4)"
   ]
  },
  {
   "cell_type": "code",
   "execution_count": 79,
   "metadata": {},
   "outputs": [
    {
     "name": "stdout",
     "output_type": "stream",
     "text": [
      "Batch:12000 11.290498573104541  \n",
      "Epoch:0 Learning rate 0.003 Weight Decay 1e-07 Train Loss:11.306217690288                 Valid Loss:11.369702814948115 Train RMSE:3.3507018119989658 Valid RMSE:3.3602633633250196\n",
      "Batch:12000 8.715497443457444  \n",
      "Epoch:1 Learning rate 0.0012247448713915891 Weight Decay 1e-07 Train Loss:8.904089596977968                 Valid Loss:11.773114170707062 Train RMSE:2.9679548379733434 Valid RMSE:3.4194881624533933\n",
      "Batch:12000 7.0292684685985245  \n",
      "Epoch:2 Learning rate 0.0005 Weight Decay 1e-07 Train Loss:7.269104495518312                 Valid Loss:12.627216688844982 Train RMSE:2.676313437081153 Valid RMSE:3.538328376516999\n",
      "Batch:12000 8.598670200149218  \n",
      "Epoch:3 Learning rate 0.003 Weight Decay 1e-07 Train Loss:9.056144450707489                 Valid Loss:11.854154596610009 Train RMSE:2.9865928306780356 Valid RMSE:3.4306889809799044\n",
      "Batch:12000 7.606462858537833  \n",
      "Epoch:4 Learning rate 0.0019168293127388174 Weight Decay 1e-07 Train Loss:7.9290019889895005                 Valid Loss:12.565834272816636 Train RMSE:2.796089469548978 Valid RMSE:3.53073246594081\n",
      "Batch:12000 6.553957757065693  \n",
      "Epoch:5 Learning rate 0.001224744871391589 Weight Decay 1e-07 Train Loss:6.938680592734279                 Valid Loss:12.726472058824253 Train RMSE:2.610250359193314 Valid RMSE:3.5535911985122146\n",
      "Batch:12000 6.033157592684031  \n",
      "Epoch:6 Learning rate 0.0007825422900366436 Weight Decay 1e-07 Train Loss:6.360600705292474                 Valid Loss:13.129457149760354 Train RMSE:2.4973591832007123 Valid RMSE:3.6078435669377322\n",
      "Batch:12000 5.578115974605083  \n",
      "Epoch:7 Learning rate 0.0004999999999999999 Weight Decay 1e-07 Train Loss:5.878614832219701                 Valid Loss:13.474814977523812 Train RMSE:2.3988399610092013 Valid RMSE:3.6535481596618067\n",
      "Batch:12000 7.733784286886453  \n",
      "Epoch:8 Learning rate 0.003 Weight Decay 1e-07 Train Loss:8.281812621361766                 Valid Loss:12.065995956966463 Train RMSE:2.8486310117073934 Valid RMSE:3.461219012075683\n",
      "Batch:12000 7.13821358726422  \n",
      "Epoch:9 Learning rate 0.002398017501649321 Weight Decay 1e-07 Train Loss:7.5389791238034425                 Valid Loss:12.733132019000513 Train RMSE:2.722943719352793 Valid RMSE:3.553414078680022\n",
      "Batch:12000 6.454308058569828  \n",
      "Epoch:10 Learning rate 0.0019168293127388174 Weight Decay 1e-07 Train Loss:6.877952738745741                 Valid Loss:12.933031729080973 Train RMSE:2.5964661881173514 Valid RMSE:3.58101398036025\n",
      "Batch:12000 6.064539845605691  \n",
      "Epoch:11 Learning rate 0.001532196746540708 Weight Decay 1e-07 Train Loss:6.466753016627633                 Valid Loss:13.028155337191981 Train RMSE:2.5160481185524763 Valid RMSE:3.594012498391871\n",
      "Batch:12000 5.675843140885234  \n",
      "Epoch:12 Learning rate 0.001224744871391589 Weight Decay 1e-07 Train Loss:6.075859884806869                 Valid Loss:13.267231086790396 Train RMSE:2.436663674193521 Valid RMSE:3.6261012428988106\n",
      "Batch:12000 5.412312969475985  \n",
      "Epoch:13 Learning rate 0.0009789865455507591 Weight Decay 1e-07 Train Loss:5.7767018376435395                 Valid Loss:13.598963035897672 Train RMSE:2.3753350217220226 Valid RMSE:3.6711453256113327\n",
      "Batch:12000 5.1822017989705005  \n",
      "Epoch:14 Learning rate 0.0007825422900366436 Weight Decay 1e-07 Train Loss:5.53134791823691                 Valid Loss:13.690397515453494 Train RMSE:2.3227394977057676 Valid RMSE:3.683739049562333\n"
     ]
    }
   ],
   "source": [
    "learner.run_epochs(dltrain,dlvalid,15)"
   ]
  },
  {
   "cell_type": "code",
   "execution_count": 74,
   "metadata": {},
   "outputs": [
    {
     "name": "stderr",
     "output_type": "stream",
     "text": [
      "/home/kirana/anaconda3/lib/python3.7/site-packages/torch/serialization.py:256: UserWarning: Couldn't retrieve source code for container of type cf. It won't be checked for correctness upon loading.\n",
      "  \"type \" + obj.__name__ + \". It won't be checked \"\n",
      "/home/kirana/anaconda3/lib/python3.7/site-packages/torch/serialization.py:256: UserWarning: Couldn't retrieve source code for container of type cf. It won't be checked for correctness upon loading.\n",
      "  \"type \" + obj.__name__ + \". It won't be checked \"\n"
     ]
    }
   ],
   "source": []
  },
  {
   "cell_type": "code",
   "execution_count": null,
   "metadata": {},
   "outputs": [],
   "source": []
  }
 ],
 "metadata": {
  "kernelspec": {
   "display_name": "Python 3",
   "language": "python",
   "name": "python3"
  },
  "language_info": {
   "codemirror_mode": {
    "name": "ipython",
    "version": 3
   },
   "file_extension": ".py",
   "mimetype": "text/x-python",
   "name": "python",
   "nbconvert_exporter": "python",
   "pygments_lexer": "ipython3",
   "version": "3.7.3"
  }
 },
 "nbformat": 4,
 "nbformat_minor": 2
}
