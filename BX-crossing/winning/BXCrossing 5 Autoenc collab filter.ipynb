{
 "cells": [
  {
   "cell_type": "code",
   "execution_count": 1,
   "metadata": {},
   "outputs": [],
   "source": [
    "PATH='/home/kirana/Documents/phd/exp3_autoencoder'\n",
    "DATAPATH='/home/kirana/Documents/final_dissertation_final/experiments/datasets/bookcrossing'"
   ]
  },
  {
   "cell_type": "code",
   "execution_count": 2,
   "metadata": {},
   "outputs": [],
   "source": [
    "import pandas as pd\n",
    "import numpy as np\n",
    "import matplotlib.pyplot as plt\n",
    "import sklearn\n",
    "import os\n",
    "import pickle\n",
    "import torch\n",
    "from torch.utils.data import Dataset, DataLoader\n",
    "from torch import nn"
   ]
  },
  {
   "cell_type": "code",
   "execution_count": 3,
   "metadata": {},
   "outputs": [],
   "source": [
    "[df, df_train,df_valid,df,df_ratings,idx_to_user,\\\n",
    "             idx_to_movie,movie_to_idx,user_to_idx]=pickle.load(open(f'{DATAPATH}/reads.pkl','rb'))"
   ]
  },
  {
   "cell_type": "code",
   "execution_count": 4,
   "metadata": {},
   "outputs": [
    {
     "data": {
      "text/plain": [
       "(1149780, 14)"
      ]
     },
     "execution_count": 4,
     "metadata": {},
     "output_type": "execute_result"
    }
   ],
   "source": [
    "df.shape"
   ]
  },
  {
   "cell_type": "code",
   "execution_count": 5,
   "metadata": {},
   "outputs": [
    {
     "data": {
      "text/html": [
       "<div>\n",
       "<style scoped>\n",
       "    .dataframe tbody tr th:only-of-type {\n",
       "        vertical-align: middle;\n",
       "    }\n",
       "\n",
       "    .dataframe tbody tr th {\n",
       "        vertical-align: top;\n",
       "    }\n",
       "\n",
       "    .dataframe thead th {\n",
       "        text-align: right;\n",
       "    }\n",
       "</style>\n",
       "<table border=\"1\" class=\"dataframe\">\n",
       "  <thead>\n",
       "    <tr style=\"text-align: right;\">\n",
       "      <th></th>\n",
       "      <th>userId</th>\n",
       "      <th>itemId</th>\n",
       "      <th>rating</th>\n",
       "      <th>Location</th>\n",
       "      <th>Age</th>\n",
       "      <th>Book-Title</th>\n",
       "      <th>Book-Author</th>\n",
       "      <th>Year-Of-Publication</th>\n",
       "      <th>Publisher</th>\n",
       "      <th>random_dstype</th>\n",
       "      <th>user_idx</th>\n",
       "      <th>item_idx</th>\n",
       "      <th>dstype_random_train</th>\n",
       "      <th>dstype_random_valid</th>\n",
       "    </tr>\n",
       "  </thead>\n",
       "  <tbody>\n",
       "    <tr>\n",
       "      <th>1006309</th>\n",
       "      <td>241656</td>\n",
       "      <td>0340824735</td>\n",
       "      <td>7</td>\n",
       "      <td>melbourn, england, united kingdom</td>\n",
       "      <td>49.0</td>\n",
       "      <td>NaN</td>\n",
       "      <td>NaN</td>\n",
       "      <td>NaN</td>\n",
       "      <td>NaN</td>\n",
       "      <td>train</td>\n",
       "      <td>1</td>\n",
       "      <td>1</td>\n",
       "      <td>1</td>\n",
       "      <td>0</td>\n",
       "    </tr>\n",
       "    <tr>\n",
       "      <th>608046</th>\n",
       "      <td>147045</td>\n",
       "      <td>0873512553</td>\n",
       "      <td>0</td>\n",
       "      <td>saint paul, minnesota, usa</td>\n",
       "      <td>28.0</td>\n",
       "      <td>The days of Rondo</td>\n",
       "      <td>Evelyn Fairbanks</td>\n",
       "      <td>1990</td>\n",
       "      <td>Minnesota Historical Society Press</td>\n",
       "      <td>train</td>\n",
       "      <td>2</td>\n",
       "      <td>2</td>\n",
       "      <td>1</td>\n",
       "      <td>0</td>\n",
       "    </tr>\n",
       "    <tr>\n",
       "      <th>871538</th>\n",
       "      <td>210926</td>\n",
       "      <td>0345459202</td>\n",
       "      <td>9</td>\n",
       "      <td>guelph, ontario, canada</td>\n",
       "      <td>NaN</td>\n",
       "      <td>Big Stone Gap</td>\n",
       "      <td>Adriana Trigiani</td>\n",
       "      <td>2003</td>\n",
       "      <td>Fawcett Books</td>\n",
       "      <td>train</td>\n",
       "      <td>3</td>\n",
       "      <td>3</td>\n",
       "      <td>1</td>\n",
       "      <td>0</td>\n",
       "    </tr>\n",
       "    <tr>\n",
       "      <th>752379</th>\n",
       "      <td>182085</td>\n",
       "      <td>0446350451</td>\n",
       "      <td>0</td>\n",
       "      <td>ginsheim, hessen, germany</td>\n",
       "      <td>NaN</td>\n",
       "      <td>Sensations</td>\n",
       "      <td>Virginia Carry</td>\n",
       "      <td>1988</td>\n",
       "      <td>Warner Books</td>\n",
       "      <td>train</td>\n",
       "      <td>4</td>\n",
       "      <td>4</td>\n",
       "      <td>1</td>\n",
       "      <td>0</td>\n",
       "    </tr>\n",
       "    <tr>\n",
       "      <th>124597</th>\n",
       "      <td>28591</td>\n",
       "      <td>0821767445</td>\n",
       "      <td>10</td>\n",
       "      <td>michie, tennessee, usa</td>\n",
       "      <td>33.0</td>\n",
       "      <td>Jed (Rock Creek Six)</td>\n",
       "      <td>Linda Devlin</td>\n",
       "      <td>2001</td>\n",
       "      <td>Zebra Books</td>\n",
       "      <td>train</td>\n",
       "      <td>5</td>\n",
       "      <td>5</td>\n",
       "      <td>1</td>\n",
       "      <td>0</td>\n",
       "    </tr>\n",
       "  </tbody>\n",
       "</table>\n",
       "</div>"
      ],
      "text/plain": [
       "         userId      itemId  rating                           Location   Age  \\\n",
       "1006309  241656  0340824735       7  melbourn, england, united kingdom  49.0   \n",
       "608046   147045  0873512553       0         saint paul, minnesota, usa  28.0   \n",
       "871538   210926  0345459202       9            guelph, ontario, canada   NaN   \n",
       "752379   182085  0446350451       0          ginsheim, hessen, germany   NaN   \n",
       "124597    28591  0821767445      10             michie, tennessee, usa  33.0   \n",
       "\n",
       "                   Book-Title       Book-Author Year-Of-Publication  \\\n",
       "1006309                   NaN               NaN                 NaN   \n",
       "608046      The days of Rondo  Evelyn Fairbanks                1990   \n",
       "871538          Big Stone Gap  Adriana Trigiani                2003   \n",
       "752379             Sensations    Virginia Carry                1988   \n",
       "124597   Jed (Rock Creek Six)      Linda Devlin                2001   \n",
       "\n",
       "                                  Publisher random_dstype  user_idx  item_idx  \\\n",
       "1006309                                 NaN         train         1         1   \n",
       "608046   Minnesota Historical Society Press         train         2         2   \n",
       "871538                        Fawcett Books         train         3         3   \n",
       "752379                         Warner Books         train         4         4   \n",
       "124597                          Zebra Books         train         5         5   \n",
       "\n",
       "         dstype_random_train  dstype_random_valid  \n",
       "1006309                    1                    0  \n",
       "608046                     1                    0  \n",
       "871538                     1                    0  \n",
       "752379                     1                    0  \n",
       "124597                     1                    0  "
      ]
     },
     "execution_count": 5,
     "metadata": {},
     "output_type": "execute_result"
    }
   ],
   "source": [
    "df.head()"
   ]
  },
  {
   "cell_type": "code",
   "execution_count": 6,
   "metadata": {},
   "outputs": [],
   "source": [
    "df_train=df.loc[df['random_dstype']=='train']\n",
    "df_valid=df.loc[df['random_dstype']!='train']"
   ]
  },
  {
   "cell_type": "code",
   "execution_count": 7,
   "metadata": {},
   "outputs": [
    {
     "data": {
      "text/html": [
       "<div>\n",
       "<style scoped>\n",
       "    .dataframe tbody tr th:only-of-type {\n",
       "        vertical-align: middle;\n",
       "    }\n",
       "\n",
       "    .dataframe tbody tr th {\n",
       "        vertical-align: top;\n",
       "    }\n",
       "\n",
       "    .dataframe thead th {\n",
       "        text-align: right;\n",
       "    }\n",
       "</style>\n",
       "<table border=\"1\" class=\"dataframe\">\n",
       "  <thead>\n",
       "    <tr style=\"text-align: right;\">\n",
       "      <th></th>\n",
       "      <th>userId</th>\n",
       "      <th>itemId</th>\n",
       "      <th>rating</th>\n",
       "      <th>Location</th>\n",
       "      <th>Age</th>\n",
       "      <th>Book-Title</th>\n",
       "      <th>Book-Author</th>\n",
       "      <th>Year-Of-Publication</th>\n",
       "      <th>Publisher</th>\n",
       "      <th>random_dstype</th>\n",
       "      <th>user_idx</th>\n",
       "      <th>item_idx</th>\n",
       "      <th>dstype_random_train</th>\n",
       "      <th>dstype_random_valid</th>\n",
       "    </tr>\n",
       "  </thead>\n",
       "  <tbody>\n",
       "    <tr>\n",
       "      <th>1006309</th>\n",
       "      <td>241656</td>\n",
       "      <td>0340824735</td>\n",
       "      <td>7</td>\n",
       "      <td>melbourn, england, united kingdom</td>\n",
       "      <td>49.0</td>\n",
       "      <td>NaN</td>\n",
       "      <td>NaN</td>\n",
       "      <td>NaN</td>\n",
       "      <td>NaN</td>\n",
       "      <td>train</td>\n",
       "      <td>1</td>\n",
       "      <td>1</td>\n",
       "      <td>1</td>\n",
       "      <td>0</td>\n",
       "    </tr>\n",
       "    <tr>\n",
       "      <th>608046</th>\n",
       "      <td>147045</td>\n",
       "      <td>0873512553</td>\n",
       "      <td>0</td>\n",
       "      <td>saint paul, minnesota, usa</td>\n",
       "      <td>28.0</td>\n",
       "      <td>The days of Rondo</td>\n",
       "      <td>Evelyn Fairbanks</td>\n",
       "      <td>1990</td>\n",
       "      <td>Minnesota Historical Society Press</td>\n",
       "      <td>train</td>\n",
       "      <td>2</td>\n",
       "      <td>2</td>\n",
       "      <td>1</td>\n",
       "      <td>0</td>\n",
       "    </tr>\n",
       "    <tr>\n",
       "      <th>871538</th>\n",
       "      <td>210926</td>\n",
       "      <td>0345459202</td>\n",
       "      <td>9</td>\n",
       "      <td>guelph, ontario, canada</td>\n",
       "      <td>NaN</td>\n",
       "      <td>Big Stone Gap</td>\n",
       "      <td>Adriana Trigiani</td>\n",
       "      <td>2003</td>\n",
       "      <td>Fawcett Books</td>\n",
       "      <td>train</td>\n",
       "      <td>3</td>\n",
       "      <td>3</td>\n",
       "      <td>1</td>\n",
       "      <td>0</td>\n",
       "    </tr>\n",
       "    <tr>\n",
       "      <th>752379</th>\n",
       "      <td>182085</td>\n",
       "      <td>0446350451</td>\n",
       "      <td>0</td>\n",
       "      <td>ginsheim, hessen, germany</td>\n",
       "      <td>NaN</td>\n",
       "      <td>Sensations</td>\n",
       "      <td>Virginia Carry</td>\n",
       "      <td>1988</td>\n",
       "      <td>Warner Books</td>\n",
       "      <td>train</td>\n",
       "      <td>4</td>\n",
       "      <td>4</td>\n",
       "      <td>1</td>\n",
       "      <td>0</td>\n",
       "    </tr>\n",
       "    <tr>\n",
       "      <th>124597</th>\n",
       "      <td>28591</td>\n",
       "      <td>0821767445</td>\n",
       "      <td>10</td>\n",
       "      <td>michie, tennessee, usa</td>\n",
       "      <td>33.0</td>\n",
       "      <td>Jed (Rock Creek Six)</td>\n",
       "      <td>Linda Devlin</td>\n",
       "      <td>2001</td>\n",
       "      <td>Zebra Books</td>\n",
       "      <td>train</td>\n",
       "      <td>5</td>\n",
       "      <td>5</td>\n",
       "      <td>1</td>\n",
       "      <td>0</td>\n",
       "    </tr>\n",
       "  </tbody>\n",
       "</table>\n",
       "</div>"
      ],
      "text/plain": [
       "         userId      itemId  rating                           Location   Age  \\\n",
       "1006309  241656  0340824735       7  melbourn, england, united kingdom  49.0   \n",
       "608046   147045  0873512553       0         saint paul, minnesota, usa  28.0   \n",
       "871538   210926  0345459202       9            guelph, ontario, canada   NaN   \n",
       "752379   182085  0446350451       0          ginsheim, hessen, germany   NaN   \n",
       "124597    28591  0821767445      10             michie, tennessee, usa  33.0   \n",
       "\n",
       "                   Book-Title       Book-Author Year-Of-Publication  \\\n",
       "1006309                   NaN               NaN                 NaN   \n",
       "608046      The days of Rondo  Evelyn Fairbanks                1990   \n",
       "871538          Big Stone Gap  Adriana Trigiani                2003   \n",
       "752379             Sensations    Virginia Carry                1988   \n",
       "124597   Jed (Rock Creek Six)      Linda Devlin                2001   \n",
       "\n",
       "                                  Publisher random_dstype  user_idx  item_idx  \\\n",
       "1006309                                 NaN         train         1         1   \n",
       "608046   Minnesota Historical Society Press         train         2         2   \n",
       "871538                        Fawcett Books         train         3         3   \n",
       "752379                         Warner Books         train         4         4   \n",
       "124597                          Zebra Books         train         5         5   \n",
       "\n",
       "         dstype_random_train  dstype_random_valid  \n",
       "1006309                    1                    0  \n",
       "608046                     1                    0  \n",
       "871538                     1                    0  \n",
       "752379                     1                    0  \n",
       "124597                     1                    0  "
      ]
     },
     "execution_count": 7,
     "metadata": {},
     "output_type": "execute_result"
    }
   ],
   "source": [
    "df_train.head()"
   ]
  },
  {
   "cell_type": "code",
   "execution_count": 8,
   "metadata": {},
   "outputs": [
    {
     "data": {
      "text/plain": [
       "((1034802, 14), (114978, 14))"
      ]
     },
     "execution_count": 8,
     "metadata": {},
     "output_type": "execute_result"
    }
   ],
   "source": [
    "df_train.shape,df_valid.shape"
   ]
  },
  {
   "cell_type": "markdown",
   "metadata": {},
   "source": [
    "### Add the autoencoder features"
   ]
  },
  {
   "cell_type": "code",
   "execution_count": 9,
   "metadata": {},
   "outputs": [],
   "source": [
    "import pickle"
   ]
  },
  {
   "cell_type": "code",
   "execution_count": 10,
   "metadata": {},
   "outputs": [],
   "source": [
    "[df_train_user_autoenc,df_valid_user_autoenc,user_mtx_1_weights,user_mtx_2_weights]=\\\n",
    "    pickle.load(open(f'{DATAPATH}/inter/user_autoenc_weights.pkl','rb'))"
   ]
  },
  {
   "cell_type": "code",
   "execution_count": 11,
   "metadata": {},
   "outputs": [],
   "source": [
    "[df_train_item_autoenc, df_valid_item_autoenc,item_mtx_1_weights,item_mtx_2_weights]=\\\n",
    "    pickle.load(open(f'{DATAPATH}/inter/item_autoenc_weights.pkl','rb'))"
   ]
  },
  {
   "cell_type": "code",
   "execution_count": 12,
   "metadata": {},
   "outputs": [
    {
     "data": {
      "text/plain": [
       "((105284, 11),\n",
       " pandas.core.frame.DataFrame,\n",
       "    user_idx  user_autoenc0  user_autoenc1  user_autoenc2  user_autoenc3  \\\n",
       " 0         0       1.425841       1.425767       1.425770      -1.425792   \n",
       " 1         1       1.432288       1.432213       1.432216      -1.432238   \n",
       " 2         2       1.426912       1.426838       1.426840      -1.426862   \n",
       " 3         3       1.430663       1.430588       1.430591      -1.430613   \n",
       " 4         4       1.427409       1.427335       1.427337      -1.427359   \n",
       " \n",
       "    user_autoenc4  user_autoenc5  user_autoenc6  user_autoenc7  user_autoenc8  \\\n",
       " 0       1.425769       1.425740      -1.425740       1.425776      -1.425954   \n",
       " 1       1.432215       1.432186      -1.432186       1.432222      -1.432401   \n",
       " 2       1.426840       1.426811      -1.426811       1.426847      -1.427025   \n",
       " 3       1.430590       1.430561      -1.430561       1.430598      -1.430776   \n",
       " 4       1.427336       1.427308      -1.427308       1.427344      -1.427522   \n",
       " \n",
       "    user_autoenc9  \n",
       " 0      -1.425764  \n",
       " 1      -1.432210  \n",
       " 2      -1.426835  \n",
       " 3      -1.430585  \n",
       " 4      -1.427332  )"
      ]
     },
     "execution_count": 12,
     "metadata": {},
     "output_type": "execute_result"
    }
   ],
   "source": [
    "df_train_user_autoenc.shape, type(df_train_user_autoenc),df_train_user_autoenc.head()"
   ]
  },
  {
   "cell_type": "code",
   "execution_count": 13,
   "metadata": {},
   "outputs": [
    {
     "data": {
      "text/plain": [
       "((105284, 11),\n",
       " pandas.core.frame.DataFrame,\n",
       "    user_idx  user_autoenc0  user_autoenc1  user_autoenc2  user_autoenc3  \\\n",
       " 0         0       1.425841       1.425767       1.425770      -1.425792   \n",
       " 1         1       1.425845       1.425770       1.425773      -1.425795   \n",
       " 2         2       1.425841       1.425767       1.425770      -1.425792   \n",
       " 3         3       1.425944       1.425869       1.425872      -1.425894   \n",
       " 4         4       1.427388       1.427313       1.427316      -1.427338   \n",
       " \n",
       "    user_autoenc4  user_autoenc5  user_autoenc6  user_autoenc7  user_autoenc8  \\\n",
       " 0       1.425769       1.425740      -1.425740       1.425776      -1.425954   \n",
       " 1       1.425772       1.425743      -1.425743       1.425780      -1.425958   \n",
       " 2       1.425769       1.425740      -1.425740       1.425776      -1.425954   \n",
       " 3       1.425871       1.425843      -1.425843       1.425879      -1.426057   \n",
       " 4       1.427315       1.427286      -1.427286       1.427323      -1.427501   \n",
       " \n",
       "    user_autoenc9  \n",
       " 0      -1.425764  \n",
       " 1      -1.425767  \n",
       " 2      -1.425764  \n",
       " 3      -1.425867  \n",
       " 4      -1.427310  )"
      ]
     },
     "execution_count": 13,
     "metadata": {},
     "output_type": "execute_result"
    }
   ],
   "source": [
    "df_valid_user_autoenc.shape, type(df_valid_user_autoenc),df_valid_user_autoenc.head()"
   ]
  },
  {
   "cell_type": "code",
   "execution_count": 14,
   "metadata": {},
   "outputs": [
    {
     "data": {
      "text/plain": [
       "((340557, 26),\n",
       " pandas.core.frame.DataFrame,\n",
       "    item_idx  item_autoenc0  item_autoenc1  item_autoenc2  item_autoenc3  \\\n",
       " 0         0      -0.940097       0.810064      -1.017249      -0.666996   \n",
       " 1         1      -0.940097       0.810064      -1.017249      -0.666996   \n",
       " 2         2      -0.941301       0.811087      -1.018539      -0.667825   \n",
       " 3         3      -0.940097       0.810064      -1.017249      -0.666996   \n",
       " 4         4      -0.940134       0.810095      -1.017290      -0.667022   \n",
       " \n",
       "    item_autoenc4  item_autoenc5  item_autoenc6  item_autoenc7  item_autoenc8  \\\n",
       " 0       0.903988       0.870417       0.679674      -1.123469      -0.815247   \n",
       " 1       0.903988       0.870417       0.679674      -1.123469      -0.815247   \n",
       " 2       0.905122       0.871517       0.680519      -1.124884      -0.816263   \n",
       " 3       0.903988       0.870417       0.679674      -1.123469      -0.815247   \n",
       " 4       0.904024       0.870451       0.679701      -1.123511      -0.815279   \n",
       " \n",
       "    ...  item_autoenc15  item_autoenc16  item_autoenc17  item_autoenc18  \\\n",
       " 0  ...        0.839201       -0.769139        0.881491        1.013894   \n",
       " 1  ...        0.839201       -0.769139        0.881491        1.013894   \n",
       " 2  ...        0.840254       -0.770107        0.882605        1.015180   \n",
       " 3  ...        0.839201       -0.769139        0.881491        1.013894   \n",
       " 4  ...        0.839233       -0.769169        0.881526        1.013933   \n",
       " \n",
       "    item_autoenc19  item_autoenc20  item_autoenc21  item_autoenc22  \\\n",
       " 0       -0.744449       -0.839028       -0.750114       -0.893549   \n",
       " 1       -0.744449       -0.839028       -0.750114       -0.893549   \n",
       " 2       -0.745381       -0.840089       -0.751072       -0.894664   \n",
       " 3       -0.744449       -0.839028       -0.750114       -0.893549   \n",
       " 4       -0.744478       -0.839061       -0.750143       -0.893584   \n",
       " \n",
       "    item_autoenc23  item_autoenc24  \n",
       " 0        0.918070       -0.815288  \n",
       " 1        0.918070       -0.815288  \n",
       " 2        0.919222       -0.816317  \n",
       " 3        0.918070       -0.815288  \n",
       " 4        0.918106       -0.815320  \n",
       " \n",
       " [5 rows x 26 columns])"
      ]
     },
     "execution_count": 14,
     "metadata": {},
     "output_type": "execute_result"
    }
   ],
   "source": [
    "df_train_item_autoenc.shape, type(df_train_item_autoenc),df_train_item_autoenc.head()"
   ]
  },
  {
   "cell_type": "code",
   "execution_count": 15,
   "metadata": {},
   "outputs": [
    {
     "data": {
      "text/plain": [
       "((340557, 26),\n",
       " pandas.core.frame.DataFrame,\n",
       "    item_idx  item_autoenc0  item_autoenc1  item_autoenc2  item_autoenc3  \\\n",
       " 0         0      -0.940097       0.810064      -1.017249      -0.666996   \n",
       " 1         1      -0.940097       0.810064      -1.017249      -0.666996   \n",
       " 2         2      -0.940097       0.810064      -1.017249      -0.666996   \n",
       " 3         3      -0.940097       0.810064      -1.017249      -0.666996   \n",
       " 4         4      -0.940097       0.810064      -1.017249      -0.666996   \n",
       " \n",
       "    item_autoenc4  item_autoenc5  item_autoenc6  item_autoenc7  item_autoenc8  \\\n",
       " 0       0.903988       0.870417       0.679674      -1.123469      -0.815247   \n",
       " 1       0.903988       0.870417       0.679674      -1.123469      -0.815247   \n",
       " 2       0.903988       0.870417       0.679674      -1.123469      -0.815247   \n",
       " 3       0.903988       0.870417       0.679674      -1.123469      -0.815247   \n",
       " 4       0.903988       0.870417       0.679674      -1.123469      -0.815247   \n",
       " \n",
       "    ...  item_autoenc15  item_autoenc16  item_autoenc17  item_autoenc18  \\\n",
       " 0  ...        0.839201       -0.769139        0.881491        1.013894   \n",
       " 1  ...        0.839201       -0.769139        0.881491        1.013894   \n",
       " 2  ...        0.839201       -0.769139        0.881491        1.013894   \n",
       " 3  ...        0.839201       -0.769139        0.881491        1.013894   \n",
       " 4  ...        0.839201       -0.769139        0.881491        1.013894   \n",
       " \n",
       "    item_autoenc19  item_autoenc20  item_autoenc21  item_autoenc22  \\\n",
       " 0       -0.744449       -0.839028       -0.750114       -0.893549   \n",
       " 1       -0.744449       -0.839028       -0.750114       -0.893549   \n",
       " 2       -0.744449       -0.839028       -0.750114       -0.893549   \n",
       " 3       -0.744449       -0.839028       -0.750114       -0.893549   \n",
       " 4       -0.744449       -0.839028       -0.750114       -0.893549   \n",
       " \n",
       "    item_autoenc23  item_autoenc24  \n",
       " 0         0.91807       -0.815288  \n",
       " 1         0.91807       -0.815288  \n",
       " 2         0.91807       -0.815288  \n",
       " 3         0.91807       -0.815288  \n",
       " 4         0.91807       -0.815288  \n",
       " \n",
       " [5 rows x 26 columns])"
      ]
     },
     "execution_count": 15,
     "metadata": {},
     "output_type": "execute_result"
    }
   ],
   "source": [
    "df_valid_item_autoenc.shape, type(df_valid_item_autoenc),df_valid_item_autoenc.head()"
   ]
  },
  {
   "cell_type": "code",
   "execution_count": 16,
   "metadata": {},
   "outputs": [
    {
     "data": {
      "text/plain": [
       "user_idx         False\n",
       "user_autoenc0    False\n",
       "user_autoenc1    False\n",
       "user_autoenc2    False\n",
       "user_autoenc3    False\n",
       "user_autoenc4    False\n",
       "user_autoenc5    False\n",
       "user_autoenc6    False\n",
       "user_autoenc7    False\n",
       "user_autoenc8    False\n",
       "user_autoenc9    False\n",
       "dtype: bool"
      ]
     },
     "execution_count": 16,
     "metadata": {},
     "output_type": "execute_result"
    }
   ],
   "source": [
    "df_valid_user_autoenc.isnull().any()"
   ]
  },
  {
   "cell_type": "code",
   "execution_count": 17,
   "metadata": {},
   "outputs": [
    {
     "data": {
      "text/plain": [
       "userId                 False\n",
       "itemId                 False\n",
       "rating                 False\n",
       "Location               False\n",
       "Age                     True\n",
       "Book-Title              True\n",
       "Book-Author             True\n",
       "Year-Of-Publication     True\n",
       "Publisher               True\n",
       "random_dstype          False\n",
       "user_idx               False\n",
       "item_idx               False\n",
       "dstype_random_train    False\n",
       "dstype_random_valid    False\n",
       "dtype: bool"
      ]
     },
     "execution_count": 17,
     "metadata": {},
     "output_type": "execute_result"
    }
   ],
   "source": [
    "df_valid.isnull().any()"
   ]
  },
  {
   "cell_type": "code",
   "execution_count": 19,
   "metadata": {},
   "outputs": [
    {
     "data": {
      "text/plain": [
       "(340556, 340556)"
      ]
     },
     "execution_count": 19,
     "metadata": {},
     "output_type": "execute_result"
    }
   ],
   "source": [
    "movie_to_idx[\"0425169782\"], len(movie_to_idx)"
   ]
  },
  {
   "cell_type": "code",
   "execution_count": 20,
   "metadata": {},
   "outputs": [
    {
     "data": {
      "text/html": [
       "<div>\n",
       "<style scoped>\n",
       "    .dataframe tbody tr th:only-of-type {\n",
       "        vertical-align: middle;\n",
       "    }\n",
       "\n",
       "    .dataframe tbody tr th {\n",
       "        vertical-align: top;\n",
       "    }\n",
       "\n",
       "    .dataframe thead th {\n",
       "        text-align: right;\n",
       "    }\n",
       "</style>\n",
       "<table border=\"1\" class=\"dataframe\">\n",
       "  <thead>\n",
       "    <tr style=\"text-align: right;\">\n",
       "      <th></th>\n",
       "      <th>userId</th>\n",
       "      <th>itemId</th>\n",
       "      <th>rating</th>\n",
       "      <th>Location</th>\n",
       "      <th>Age</th>\n",
       "      <th>Book-Title</th>\n",
       "      <th>Book-Author</th>\n",
       "      <th>Year-Of-Publication</th>\n",
       "      <th>Publisher</th>\n",
       "      <th>random_dstype</th>\n",
       "      <th>user_idx</th>\n",
       "      <th>item_idx</th>\n",
       "      <th>dstype_random_train</th>\n",
       "      <th>dstype_random_valid</th>\n",
       "    </tr>\n",
       "  </thead>\n",
       "  <tbody>\n",
       "    <tr>\n",
       "      <th>236149</th>\n",
       "      <td>55027</td>\n",
       "      <td>0425169782</td>\n",
       "      <td>0</td>\n",
       "      <td>burlington, north carolina, usa</td>\n",
       "      <td>44.0</td>\n",
       "      <td>Spiderman: Venom Factor</td>\n",
       "      <td>Diane Duane</td>\n",
       "      <td>1995</td>\n",
       "      <td>Byron Preiss Multimedia Books</td>\n",
       "      <td>test</td>\n",
       "      <td>19266</td>\n",
       "      <td>340556</td>\n",
       "      <td>0</td>\n",
       "      <td>1</td>\n",
       "    </tr>\n",
       "  </tbody>\n",
       "</table>\n",
       "</div>"
      ],
      "text/plain": [
       "        userId      itemId  rating                         Location   Age  \\\n",
       "236149   55027  0425169782       0  burlington, north carolina, usa  44.0   \n",
       "\n",
       "                     Book-Title  Book-Author Year-Of-Publication  \\\n",
       "236149  Spiderman: Venom Factor  Diane Duane                1995   \n",
       "\n",
       "                            Publisher random_dstype  user_idx  item_idx  \\\n",
       "236149  Byron Preiss Multimedia Books          test     19266    340556   \n",
       "\n",
       "        dstype_random_train  dstype_random_valid  \n",
       "236149                    0                    1  "
      ]
     },
     "execution_count": 20,
     "metadata": {},
     "output_type": "execute_result"
    }
   ],
   "source": [
    "df_valid.loc[df_valid['item_idx']==340556]"
   ]
  },
  {
   "cell_type": "code",
   "execution_count": 21,
   "metadata": {},
   "outputs": [
    {
     "data": {
      "text/html": [
       "<div>\n",
       "<style scoped>\n",
       "    .dataframe tbody tr th:only-of-type {\n",
       "        vertical-align: middle;\n",
       "    }\n",
       "\n",
       "    .dataframe tbody tr th {\n",
       "        vertical-align: top;\n",
       "    }\n",
       "\n",
       "    .dataframe thead th {\n",
       "        text-align: right;\n",
       "    }\n",
       "</style>\n",
       "<table border=\"1\" class=\"dataframe\">\n",
       "  <thead>\n",
       "    <tr style=\"text-align: right;\">\n",
       "      <th></th>\n",
       "      <th>userId</th>\n",
       "      <th>itemId</th>\n",
       "      <th>rating</th>\n",
       "      <th>Location</th>\n",
       "      <th>Age</th>\n",
       "      <th>Book-Title</th>\n",
       "      <th>Book-Author</th>\n",
       "      <th>Year-Of-Publication</th>\n",
       "      <th>Publisher</th>\n",
       "      <th>random_dstype</th>\n",
       "      <th>user_idx</th>\n",
       "      <th>item_idx</th>\n",
       "      <th>dstype_random_train</th>\n",
       "      <th>dstype_random_valid</th>\n",
       "    </tr>\n",
       "  </thead>\n",
       "  <tbody>\n",
       "    <tr>\n",
       "      <th>92490</th>\n",
       "      <td>20839</td>\n",
       "      <td>1550502654</td>\n",
       "      <td>8</td>\n",
       "      <td>port coquitlam, british columbia, canada</td>\n",
       "      <td>75.0</td>\n",
       "      <td>Residual Desire</td>\n",
       "      <td>Jacqueline Jill Robinson</td>\n",
       "      <td>2004</td>\n",
       "      <td>Coteau Books</td>\n",
       "      <td>train</td>\n",
       "      <td>55027</td>\n",
       "      <td>164618</td>\n",
       "      <td>1</td>\n",
       "      <td>0</td>\n",
       "    </tr>\n",
       "  </tbody>\n",
       "</table>\n",
       "</div>"
      ],
      "text/plain": [
       "       userId      itemId  rating                                  Location  \\\n",
       "92490   20839  1550502654       8  port coquitlam, british columbia, canada   \n",
       "\n",
       "        Age       Book-Title               Book-Author Year-Of-Publication  \\\n",
       "92490  75.0  Residual Desire  Jacqueline Jill Robinson                2004   \n",
       "\n",
       "          Publisher random_dstype  user_idx  item_idx  dstype_random_train  \\\n",
       "92490  Coteau Books         train     55027    164618                    1   \n",
       "\n",
       "       dstype_random_valid  \n",
       "92490                    0  "
      ]
     },
     "execution_count": 21,
     "metadata": {},
     "output_type": "execute_result"
    }
   ],
   "source": [
    "df_train.loc[df_train['user_idx']==55027]"
   ]
  },
  {
   "cell_type": "code",
   "execution_count": 22,
   "metadata": {},
   "outputs": [
    {
     "data": {
      "text/html": [
       "<div>\n",
       "<style scoped>\n",
       "    .dataframe tbody tr th:only-of-type {\n",
       "        vertical-align: middle;\n",
       "    }\n",
       "\n",
       "    .dataframe tbody tr th {\n",
       "        vertical-align: top;\n",
       "    }\n",
       "\n",
       "    .dataframe thead th {\n",
       "        text-align: right;\n",
       "    }\n",
       "</style>\n",
       "<table border=\"1\" class=\"dataframe\">\n",
       "  <thead>\n",
       "    <tr style=\"text-align: right;\">\n",
       "      <th></th>\n",
       "      <th>item_idx</th>\n",
       "      <th>item_autoenc0</th>\n",
       "      <th>item_autoenc1</th>\n",
       "      <th>item_autoenc2</th>\n",
       "      <th>item_autoenc3</th>\n",
       "      <th>item_autoenc4</th>\n",
       "      <th>item_autoenc5</th>\n",
       "      <th>item_autoenc6</th>\n",
       "      <th>item_autoenc7</th>\n",
       "      <th>item_autoenc8</th>\n",
       "      <th>...</th>\n",
       "      <th>item_autoenc15</th>\n",
       "      <th>item_autoenc16</th>\n",
       "      <th>item_autoenc17</th>\n",
       "      <th>item_autoenc18</th>\n",
       "      <th>item_autoenc19</th>\n",
       "      <th>item_autoenc20</th>\n",
       "      <th>item_autoenc21</th>\n",
       "      <th>item_autoenc22</th>\n",
       "      <th>item_autoenc23</th>\n",
       "      <th>item_autoenc24</th>\n",
       "    </tr>\n",
       "  </thead>\n",
       "  <tbody>\n",
       "    <tr>\n",
       "      <th>340556</th>\n",
       "      <td>340556</td>\n",
       "      <td>-0.940097</td>\n",
       "      <td>0.810064</td>\n",
       "      <td>-1.017249</td>\n",
       "      <td>-0.666996</td>\n",
       "      <td>0.903988</td>\n",
       "      <td>0.870417</td>\n",
       "      <td>0.679674</td>\n",
       "      <td>-1.123469</td>\n",
       "      <td>-0.815247</td>\n",
       "      <td>...</td>\n",
       "      <td>0.839201</td>\n",
       "      <td>-0.769139</td>\n",
       "      <td>0.881491</td>\n",
       "      <td>1.013894</td>\n",
       "      <td>-0.744449</td>\n",
       "      <td>-0.839028</td>\n",
       "      <td>-0.750114</td>\n",
       "      <td>-0.893549</td>\n",
       "      <td>0.91807</td>\n",
       "      <td>-0.815288</td>\n",
       "    </tr>\n",
       "  </tbody>\n",
       "</table>\n",
       "<p>1 rows × 26 columns</p>\n",
       "</div>"
      ],
      "text/plain": [
       "        item_idx  item_autoenc0  item_autoenc1  item_autoenc2  item_autoenc3  \\\n",
       "340556    340556      -0.940097       0.810064      -1.017249      -0.666996   \n",
       "\n",
       "        item_autoenc4  item_autoenc5  item_autoenc6  item_autoenc7  \\\n",
       "340556       0.903988       0.870417       0.679674      -1.123469   \n",
       "\n",
       "        item_autoenc8  ...  item_autoenc15  item_autoenc16  item_autoenc17  \\\n",
       "340556      -0.815247  ...        0.839201       -0.769139        0.881491   \n",
       "\n",
       "        item_autoenc18  item_autoenc19  item_autoenc20  item_autoenc21  \\\n",
       "340556        1.013894       -0.744449       -0.839028       -0.750114   \n",
       "\n",
       "        item_autoenc22  item_autoenc23  item_autoenc24  \n",
       "340556       -0.893549         0.91807       -0.815288  \n",
       "\n",
       "[1 rows x 26 columns]"
      ]
     },
     "execution_count": 22,
     "metadata": {},
     "output_type": "execute_result"
    }
   ],
   "source": [
    "df_valid_item_autoenc.loc[df_valid_item_autoenc['item_idx']==340556]"
   ]
  },
  {
   "cell_type": "code",
   "execution_count": 23,
   "metadata": {},
   "outputs": [
    {
     "data": {
      "text/plain": [
       "userId                 False\n",
       "itemId                 False\n",
       "rating                 False\n",
       "Location               False\n",
       "Age                     True\n",
       "Book-Title              True\n",
       "Book-Author             True\n",
       "Year-Of-Publication     True\n",
       "Publisher               True\n",
       "random_dstype          False\n",
       "user_idx               False\n",
       "item_idx               False\n",
       "dstype_random_train    False\n",
       "dstype_random_valid    False\n",
       "dtype: bool"
      ]
     },
     "execution_count": 23,
     "metadata": {},
     "output_type": "execute_result"
    }
   ],
   "source": [
    "df_train.isnull().any()"
   ]
  },
  {
   "cell_type": "code",
   "execution_count": 24,
   "metadata": {},
   "outputs": [
    {
     "data": {
      "text/plain": [
       "((1034802, 14), (114978, 14))"
      ]
     },
     "execution_count": 24,
     "metadata": {},
     "output_type": "execute_result"
    }
   ],
   "source": [
    "df_train.shape, df_valid.shape"
   ]
  },
  {
   "cell_type": "code",
   "execution_count": 25,
   "metadata": {},
   "outputs": [
    {
     "data": {
      "text/html": [
       "<div>\n",
       "<style scoped>\n",
       "    .dataframe tbody tr th:only-of-type {\n",
       "        vertical-align: middle;\n",
       "    }\n",
       "\n",
       "    .dataframe tbody tr th {\n",
       "        vertical-align: top;\n",
       "    }\n",
       "\n",
       "    .dataframe thead th {\n",
       "        text-align: right;\n",
       "    }\n",
       "</style>\n",
       "<table border=\"1\" class=\"dataframe\">\n",
       "  <thead>\n",
       "    <tr style=\"text-align: right;\">\n",
       "      <th></th>\n",
       "      <th>userId</th>\n",
       "      <th>itemId</th>\n",
       "      <th>rating</th>\n",
       "      <th>Location</th>\n",
       "      <th>Age</th>\n",
       "      <th>Book-Title</th>\n",
       "      <th>Book-Author</th>\n",
       "      <th>Year-Of-Publication</th>\n",
       "      <th>Publisher</th>\n",
       "      <th>random_dstype</th>\n",
       "      <th>user_idx</th>\n",
       "      <th>item_idx</th>\n",
       "      <th>dstype_random_train</th>\n",
       "      <th>dstype_random_valid</th>\n",
       "    </tr>\n",
       "  </thead>\n",
       "  <tbody>\n",
       "    <tr>\n",
       "      <th>1006309</th>\n",
       "      <td>241656</td>\n",
       "      <td>0340824735</td>\n",
       "      <td>7</td>\n",
       "      <td>melbourn, england, united kingdom</td>\n",
       "      <td>49.0</td>\n",
       "      <td>NaN</td>\n",
       "      <td>NaN</td>\n",
       "      <td>NaN</td>\n",
       "      <td>NaN</td>\n",
       "      <td>train</td>\n",
       "      <td>1</td>\n",
       "      <td>1</td>\n",
       "      <td>1</td>\n",
       "      <td>0</td>\n",
       "    </tr>\n",
       "    <tr>\n",
       "      <th>608046</th>\n",
       "      <td>147045</td>\n",
       "      <td>0873512553</td>\n",
       "      <td>0</td>\n",
       "      <td>saint paul, minnesota, usa</td>\n",
       "      <td>28.0</td>\n",
       "      <td>The days of Rondo</td>\n",
       "      <td>Evelyn Fairbanks</td>\n",
       "      <td>1990</td>\n",
       "      <td>Minnesota Historical Society Press</td>\n",
       "      <td>train</td>\n",
       "      <td>2</td>\n",
       "      <td>2</td>\n",
       "      <td>1</td>\n",
       "      <td>0</td>\n",
       "    </tr>\n",
       "    <tr>\n",
       "      <th>871538</th>\n",
       "      <td>210926</td>\n",
       "      <td>0345459202</td>\n",
       "      <td>9</td>\n",
       "      <td>guelph, ontario, canada</td>\n",
       "      <td>NaN</td>\n",
       "      <td>Big Stone Gap</td>\n",
       "      <td>Adriana Trigiani</td>\n",
       "      <td>2003</td>\n",
       "      <td>Fawcett Books</td>\n",
       "      <td>train</td>\n",
       "      <td>3</td>\n",
       "      <td>3</td>\n",
       "      <td>1</td>\n",
       "      <td>0</td>\n",
       "    </tr>\n",
       "    <tr>\n",
       "      <th>752379</th>\n",
       "      <td>182085</td>\n",
       "      <td>0446350451</td>\n",
       "      <td>0</td>\n",
       "      <td>ginsheim, hessen, germany</td>\n",
       "      <td>NaN</td>\n",
       "      <td>Sensations</td>\n",
       "      <td>Virginia Carry</td>\n",
       "      <td>1988</td>\n",
       "      <td>Warner Books</td>\n",
       "      <td>train</td>\n",
       "      <td>4</td>\n",
       "      <td>4</td>\n",
       "      <td>1</td>\n",
       "      <td>0</td>\n",
       "    </tr>\n",
       "    <tr>\n",
       "      <th>124597</th>\n",
       "      <td>28591</td>\n",
       "      <td>0821767445</td>\n",
       "      <td>10</td>\n",
       "      <td>michie, tennessee, usa</td>\n",
       "      <td>33.0</td>\n",
       "      <td>Jed (Rock Creek Six)</td>\n",
       "      <td>Linda Devlin</td>\n",
       "      <td>2001</td>\n",
       "      <td>Zebra Books</td>\n",
       "      <td>train</td>\n",
       "      <td>5</td>\n",
       "      <td>5</td>\n",
       "      <td>1</td>\n",
       "      <td>0</td>\n",
       "    </tr>\n",
       "  </tbody>\n",
       "</table>\n",
       "</div>"
      ],
      "text/plain": [
       "         userId      itemId  rating                           Location   Age  \\\n",
       "1006309  241656  0340824735       7  melbourn, england, united kingdom  49.0   \n",
       "608046   147045  0873512553       0         saint paul, minnesota, usa  28.0   \n",
       "871538   210926  0345459202       9            guelph, ontario, canada   NaN   \n",
       "752379   182085  0446350451       0          ginsheim, hessen, germany   NaN   \n",
       "124597    28591  0821767445      10             michie, tennessee, usa  33.0   \n",
       "\n",
       "                   Book-Title       Book-Author Year-Of-Publication  \\\n",
       "1006309                   NaN               NaN                 NaN   \n",
       "608046      The days of Rondo  Evelyn Fairbanks                1990   \n",
       "871538          Big Stone Gap  Adriana Trigiani                2003   \n",
       "752379             Sensations    Virginia Carry                1988   \n",
       "124597   Jed (Rock Creek Six)      Linda Devlin                2001   \n",
       "\n",
       "                                  Publisher random_dstype  user_idx  item_idx  \\\n",
       "1006309                                 NaN         train         1         1   \n",
       "608046   Minnesota Historical Society Press         train         2         2   \n",
       "871538                        Fawcett Books         train         3         3   \n",
       "752379                         Warner Books         train         4         4   \n",
       "124597                          Zebra Books         train         5         5   \n",
       "\n",
       "         dstype_random_train  dstype_random_valid  \n",
       "1006309                    1                    0  \n",
       "608046                     1                    0  \n",
       "871538                     1                    0  \n",
       "752379                     1                    0  \n",
       "124597                     1                    0  "
      ]
     },
     "execution_count": 25,
     "metadata": {},
     "output_type": "execute_result"
    }
   ],
   "source": [
    "df_train.head()"
   ]
  },
  {
   "cell_type": "code",
   "execution_count": 26,
   "metadata": {},
   "outputs": [],
   "source": [
    "df_train=pd.merge(df_train,df_train_item_autoenc,on='item_idx',how='left')"
   ]
  },
  {
   "cell_type": "code",
   "execution_count": 27,
   "metadata": {},
   "outputs": [
    {
     "data": {
      "text/plain": [
       "(1034802, 39)"
      ]
     },
     "execution_count": 27,
     "metadata": {},
     "output_type": "execute_result"
    }
   ],
   "source": [
    "df_train.shape"
   ]
  },
  {
   "cell_type": "code",
   "execution_count": 28,
   "metadata": {},
   "outputs": [
    {
     "name": "stdout",
     "output_type": "stream",
     "text": [
      "(114978, 14)\n"
     ]
    },
    {
     "data": {
      "text/plain": [
       "(114978, 39)"
      ]
     },
     "execution_count": 28,
     "metadata": {},
     "output_type": "execute_result"
    }
   ],
   "source": [
    "print(df_valid.shape)\n",
    "df_valid=pd.merge(df_valid,df_valid_item_autoenc,on='item_idx',how='left')\n",
    "df_valid.shape"
   ]
  },
  {
   "cell_type": "code",
   "execution_count": 29,
   "metadata": {},
   "outputs": [
    {
     "data": {
      "text/plain": [
       "(114978, 39)"
      ]
     },
     "execution_count": 29,
     "metadata": {},
     "output_type": "execute_result"
    }
   ],
   "source": [
    "df_valid.shape"
   ]
  },
  {
   "cell_type": "code",
   "execution_count": 30,
   "metadata": {},
   "outputs": [
    {
     "name": "stdout",
     "output_type": "stream",
     "text": [
      "(114978, 39)\n"
     ]
    },
    {
     "data": {
      "text/plain": [
       "(114978, 49)"
      ]
     },
     "execution_count": 30,
     "metadata": {},
     "output_type": "execute_result"
    }
   ],
   "source": [
    "print(df_valid.shape)\n",
    "df_valid=pd.merge(df_valid,df_valid_user_autoenc,on='user_idx',how='left')\n",
    "df_valid.shape"
   ]
  },
  {
   "cell_type": "code",
   "execution_count": 31,
   "metadata": {},
   "outputs": [
    {
     "name": "stdout",
     "output_type": "stream",
     "text": [
      "(1034802, 39)\n"
     ]
    },
    {
     "data": {
      "text/plain": [
       "(1034802, 49)"
      ]
     },
     "execution_count": 31,
     "metadata": {},
     "output_type": "execute_result"
    }
   ],
   "source": [
    "print(df_train.shape)\n",
    "df_train=pd.merge(df_train,df_train_user_autoenc,on='user_idx',how='left')\n",
    "df_train.shape"
   ]
  },
  {
   "cell_type": "code",
   "execution_count": 32,
   "metadata": {},
   "outputs": [
    {
     "data": {
      "text/plain": [
       "Index(['userId', 'itemId', 'rating', 'Location', 'Age', 'Book-Title',\n",
       "       'Book-Author', 'Year-Of-Publication', 'Publisher', 'random_dstype',\n",
       "       'user_idx', 'item_idx', 'dstype_random_train', 'dstype_random_valid',\n",
       "       'item_autoenc0', 'item_autoenc1', 'item_autoenc2', 'item_autoenc3',\n",
       "       'item_autoenc4', 'item_autoenc5', 'item_autoenc6', 'item_autoenc7',\n",
       "       'item_autoenc8', 'item_autoenc9', 'item_autoenc10', 'item_autoenc11',\n",
       "       'item_autoenc12', 'item_autoenc13', 'item_autoenc14', 'item_autoenc15',\n",
       "       'item_autoenc16', 'item_autoenc17', 'item_autoenc18', 'item_autoenc19',\n",
       "       'item_autoenc20', 'item_autoenc21', 'item_autoenc22', 'item_autoenc23',\n",
       "       'item_autoenc24', 'user_autoenc0', 'user_autoenc1', 'user_autoenc2',\n",
       "       'user_autoenc3', 'user_autoenc4', 'user_autoenc5', 'user_autoenc6',\n",
       "       'user_autoenc7', 'user_autoenc8', 'user_autoenc9'],\n",
       "      dtype='object')"
      ]
     },
     "execution_count": 32,
     "metadata": {},
     "output_type": "execute_result"
    }
   ],
   "source": [
    "df_train.columns"
   ]
  },
  {
   "cell_type": "code",
   "execution_count": 33,
   "metadata": {},
   "outputs": [],
   "source": [
    "autoenc_cols=df_train.columns[df_train.columns.str.contains('autoenc')]"
   ]
  },
  {
   "cell_type": "code",
   "execution_count": 34,
   "metadata": {},
   "outputs": [],
   "source": [
    "autoenc_cols=autoenc_cols.tolist()"
   ]
  },
  {
   "cell_type": "code",
   "execution_count": 35,
   "metadata": {},
   "outputs": [
    {
     "data": {
      "text/plain": [
       "['item_autoenc0',\n",
       " 'item_autoenc1',\n",
       " 'item_autoenc2',\n",
       " 'item_autoenc3',\n",
       " 'item_autoenc4',\n",
       " 'item_autoenc5',\n",
       " 'item_autoenc6',\n",
       " 'item_autoenc7',\n",
       " 'item_autoenc8',\n",
       " 'item_autoenc9',\n",
       " 'item_autoenc10',\n",
       " 'item_autoenc11',\n",
       " 'item_autoenc12',\n",
       " 'item_autoenc13',\n",
       " 'item_autoenc14',\n",
       " 'item_autoenc15',\n",
       " 'item_autoenc16',\n",
       " 'item_autoenc17',\n",
       " 'item_autoenc18',\n",
       " 'item_autoenc19',\n",
       " 'item_autoenc20',\n",
       " 'item_autoenc21',\n",
       " 'item_autoenc22',\n",
       " 'item_autoenc23',\n",
       " 'item_autoenc24',\n",
       " 'user_autoenc0',\n",
       " 'user_autoenc1',\n",
       " 'user_autoenc2',\n",
       " 'user_autoenc3',\n",
       " 'user_autoenc4',\n",
       " 'user_autoenc5',\n",
       " 'user_autoenc6',\n",
       " 'user_autoenc7',\n",
       " 'user_autoenc8',\n",
       " 'user_autoenc9']"
      ]
     },
     "execution_count": 35,
     "metadata": {},
     "output_type": "execute_result"
    }
   ],
   "source": [
    "autoenc_cols"
   ]
  },
  {
   "cell_type": "code",
   "execution_count": 36,
   "metadata": {},
   "outputs": [
    {
     "data": {
      "text/html": [
       "<div>\n",
       "<style scoped>\n",
       "    .dataframe tbody tr th:only-of-type {\n",
       "        vertical-align: middle;\n",
       "    }\n",
       "\n",
       "    .dataframe tbody tr th {\n",
       "        vertical-align: top;\n",
       "    }\n",
       "\n",
       "    .dataframe thead th {\n",
       "        text-align: right;\n",
       "    }\n",
       "</style>\n",
       "<table border=\"1\" class=\"dataframe\">\n",
       "  <thead>\n",
       "    <tr style=\"text-align: right;\">\n",
       "      <th></th>\n",
       "      <th>userId</th>\n",
       "      <th>itemId</th>\n",
       "      <th>rating</th>\n",
       "      <th>Location</th>\n",
       "      <th>Age</th>\n",
       "      <th>Book-Title</th>\n",
       "      <th>Book-Author</th>\n",
       "      <th>Year-Of-Publication</th>\n",
       "      <th>Publisher</th>\n",
       "      <th>random_dstype</th>\n",
       "      <th>...</th>\n",
       "      <th>user_autoenc0</th>\n",
       "      <th>user_autoenc1</th>\n",
       "      <th>user_autoenc2</th>\n",
       "      <th>user_autoenc3</th>\n",
       "      <th>user_autoenc4</th>\n",
       "      <th>user_autoenc5</th>\n",
       "      <th>user_autoenc6</th>\n",
       "      <th>user_autoenc7</th>\n",
       "      <th>user_autoenc8</th>\n",
       "      <th>user_autoenc9</th>\n",
       "    </tr>\n",
       "  </thead>\n",
       "  <tbody>\n",
       "    <tr>\n",
       "      <th>0</th>\n",
       "      <td>241656</td>\n",
       "      <td>0340824735</td>\n",
       "      <td>7</td>\n",
       "      <td>melbourn, england, united kingdom</td>\n",
       "      <td>49.0</td>\n",
       "      <td>NaN</td>\n",
       "      <td>NaN</td>\n",
       "      <td>NaN</td>\n",
       "      <td>NaN</td>\n",
       "      <td>train</td>\n",
       "      <td>...</td>\n",
       "      <td>1.432288</td>\n",
       "      <td>1.432213</td>\n",
       "      <td>1.432216</td>\n",
       "      <td>-1.432238</td>\n",
       "      <td>1.432215</td>\n",
       "      <td>1.432186</td>\n",
       "      <td>-1.432186</td>\n",
       "      <td>1.432222</td>\n",
       "      <td>-1.432401</td>\n",
       "      <td>-1.432210</td>\n",
       "    </tr>\n",
       "    <tr>\n",
       "      <th>1</th>\n",
       "      <td>147045</td>\n",
       "      <td>0873512553</td>\n",
       "      <td>0</td>\n",
       "      <td>saint paul, minnesota, usa</td>\n",
       "      <td>28.0</td>\n",
       "      <td>The days of Rondo</td>\n",
       "      <td>Evelyn Fairbanks</td>\n",
       "      <td>1990</td>\n",
       "      <td>Minnesota Historical Society Press</td>\n",
       "      <td>train</td>\n",
       "      <td>...</td>\n",
       "      <td>1.426912</td>\n",
       "      <td>1.426838</td>\n",
       "      <td>1.426840</td>\n",
       "      <td>-1.426862</td>\n",
       "      <td>1.426840</td>\n",
       "      <td>1.426811</td>\n",
       "      <td>-1.426811</td>\n",
       "      <td>1.426847</td>\n",
       "      <td>-1.427025</td>\n",
       "      <td>-1.426835</td>\n",
       "    </tr>\n",
       "    <tr>\n",
       "      <th>2</th>\n",
       "      <td>210926</td>\n",
       "      <td>0345459202</td>\n",
       "      <td>9</td>\n",
       "      <td>guelph, ontario, canada</td>\n",
       "      <td>NaN</td>\n",
       "      <td>Big Stone Gap</td>\n",
       "      <td>Adriana Trigiani</td>\n",
       "      <td>2003</td>\n",
       "      <td>Fawcett Books</td>\n",
       "      <td>train</td>\n",
       "      <td>...</td>\n",
       "      <td>1.430663</td>\n",
       "      <td>1.430588</td>\n",
       "      <td>1.430591</td>\n",
       "      <td>-1.430613</td>\n",
       "      <td>1.430590</td>\n",
       "      <td>1.430561</td>\n",
       "      <td>-1.430561</td>\n",
       "      <td>1.430598</td>\n",
       "      <td>-1.430776</td>\n",
       "      <td>-1.430585</td>\n",
       "    </tr>\n",
       "    <tr>\n",
       "      <th>3</th>\n",
       "      <td>182085</td>\n",
       "      <td>0446350451</td>\n",
       "      <td>0</td>\n",
       "      <td>ginsheim, hessen, germany</td>\n",
       "      <td>NaN</td>\n",
       "      <td>Sensations</td>\n",
       "      <td>Virginia Carry</td>\n",
       "      <td>1988</td>\n",
       "      <td>Warner Books</td>\n",
       "      <td>train</td>\n",
       "      <td>...</td>\n",
       "      <td>1.427409</td>\n",
       "      <td>1.427335</td>\n",
       "      <td>1.427337</td>\n",
       "      <td>-1.427359</td>\n",
       "      <td>1.427336</td>\n",
       "      <td>1.427308</td>\n",
       "      <td>-1.427308</td>\n",
       "      <td>1.427344</td>\n",
       "      <td>-1.427522</td>\n",
       "      <td>-1.427332</td>\n",
       "    </tr>\n",
       "    <tr>\n",
       "      <th>4</th>\n",
       "      <td>28591</td>\n",
       "      <td>0821767445</td>\n",
       "      <td>10</td>\n",
       "      <td>michie, tennessee, usa</td>\n",
       "      <td>33.0</td>\n",
       "      <td>Jed (Rock Creek Six)</td>\n",
       "      <td>Linda Devlin</td>\n",
       "      <td>2001</td>\n",
       "      <td>Zebra Books</td>\n",
       "      <td>train</td>\n",
       "      <td>...</td>\n",
       "      <td>1.431433</td>\n",
       "      <td>1.431358</td>\n",
       "      <td>1.431361</td>\n",
       "      <td>-1.431383</td>\n",
       "      <td>1.431360</td>\n",
       "      <td>1.431331</td>\n",
       "      <td>-1.431331</td>\n",
       "      <td>1.431368</td>\n",
       "      <td>-1.431546</td>\n",
       "      <td>-1.431355</td>\n",
       "    </tr>\n",
       "  </tbody>\n",
       "</table>\n",
       "<p>5 rows × 49 columns</p>\n",
       "</div>"
      ],
      "text/plain": [
       "   userId      itemId  rating                           Location   Age  \\\n",
       "0  241656  0340824735       7  melbourn, england, united kingdom  49.0   \n",
       "1  147045  0873512553       0         saint paul, minnesota, usa  28.0   \n",
       "2  210926  0345459202       9            guelph, ontario, canada   NaN   \n",
       "3  182085  0446350451       0          ginsheim, hessen, germany   NaN   \n",
       "4   28591  0821767445      10             michie, tennessee, usa  33.0   \n",
       "\n",
       "             Book-Title       Book-Author Year-Of-Publication  \\\n",
       "0                   NaN               NaN                 NaN   \n",
       "1     The days of Rondo  Evelyn Fairbanks                1990   \n",
       "2         Big Stone Gap  Adriana Trigiani                2003   \n",
       "3            Sensations    Virginia Carry                1988   \n",
       "4  Jed (Rock Creek Six)      Linda Devlin                2001   \n",
       "\n",
       "                            Publisher random_dstype  ...  user_autoenc0  \\\n",
       "0                                 NaN         train  ...       1.432288   \n",
       "1  Minnesota Historical Society Press         train  ...       1.426912   \n",
       "2                       Fawcett Books         train  ...       1.430663   \n",
       "3                        Warner Books         train  ...       1.427409   \n",
       "4                         Zebra Books         train  ...       1.431433   \n",
       "\n",
       "   user_autoenc1  user_autoenc2  user_autoenc3  user_autoenc4  user_autoenc5  \\\n",
       "0       1.432213       1.432216      -1.432238       1.432215       1.432186   \n",
       "1       1.426838       1.426840      -1.426862       1.426840       1.426811   \n",
       "2       1.430588       1.430591      -1.430613       1.430590       1.430561   \n",
       "3       1.427335       1.427337      -1.427359       1.427336       1.427308   \n",
       "4       1.431358       1.431361      -1.431383       1.431360       1.431331   \n",
       "\n",
       "   user_autoenc6  user_autoenc7  user_autoenc8  user_autoenc9  \n",
       "0      -1.432186       1.432222      -1.432401      -1.432210  \n",
       "1      -1.426811       1.426847      -1.427025      -1.426835  \n",
       "2      -1.430561       1.430598      -1.430776      -1.430585  \n",
       "3      -1.427308       1.427344      -1.427522      -1.427332  \n",
       "4      -1.431331       1.431368      -1.431546      -1.431355  \n",
       "\n",
       "[5 rows x 49 columns]"
      ]
     },
     "execution_count": 36,
     "metadata": {},
     "output_type": "execute_result"
    }
   ],
   "source": [
    "df_train.head()"
   ]
  },
  {
   "cell_type": "code",
   "execution_count": 37,
   "metadata": {},
   "outputs": [
    {
     "data": {
      "text/html": [
       "<div>\n",
       "<style scoped>\n",
       "    .dataframe tbody tr th:only-of-type {\n",
       "        vertical-align: middle;\n",
       "    }\n",
       "\n",
       "    .dataframe tbody tr th {\n",
       "        vertical-align: top;\n",
       "    }\n",
       "\n",
       "    .dataframe thead th {\n",
       "        text-align: right;\n",
       "    }\n",
       "</style>\n",
       "<table border=\"1\" class=\"dataframe\">\n",
       "  <thead>\n",
       "    <tr style=\"text-align: right;\">\n",
       "      <th></th>\n",
       "      <th>user_idx</th>\n",
       "      <th>item_idx</th>\n",
       "      <th>item_autoenc0</th>\n",
       "      <th>item_autoenc1</th>\n",
       "      <th>item_autoenc2</th>\n",
       "      <th>item_autoenc3</th>\n",
       "      <th>item_autoenc4</th>\n",
       "      <th>item_autoenc5</th>\n",
       "      <th>item_autoenc6</th>\n",
       "      <th>item_autoenc7</th>\n",
       "      <th>...</th>\n",
       "      <th>user_autoenc0</th>\n",
       "      <th>user_autoenc1</th>\n",
       "      <th>user_autoenc2</th>\n",
       "      <th>user_autoenc3</th>\n",
       "      <th>user_autoenc4</th>\n",
       "      <th>user_autoenc5</th>\n",
       "      <th>user_autoenc6</th>\n",
       "      <th>user_autoenc7</th>\n",
       "      <th>user_autoenc8</th>\n",
       "      <th>user_autoenc9</th>\n",
       "    </tr>\n",
       "  </thead>\n",
       "  <tbody>\n",
       "    <tr>\n",
       "      <th>0</th>\n",
       "      <td>1</td>\n",
       "      <td>1</td>\n",
       "      <td>-0.940097</td>\n",
       "      <td>0.810064</td>\n",
       "      <td>-1.017249</td>\n",
       "      <td>-0.666996</td>\n",
       "      <td>0.903988</td>\n",
       "      <td>0.870417</td>\n",
       "      <td>0.679674</td>\n",
       "      <td>-1.123469</td>\n",
       "      <td>...</td>\n",
       "      <td>1.432288</td>\n",
       "      <td>1.432213</td>\n",
       "      <td>1.432216</td>\n",
       "      <td>-1.432238</td>\n",
       "      <td>1.432215</td>\n",
       "      <td>1.432186</td>\n",
       "      <td>-1.432186</td>\n",
       "      <td>1.432222</td>\n",
       "      <td>-1.432401</td>\n",
       "      <td>-1.432210</td>\n",
       "    </tr>\n",
       "    <tr>\n",
       "      <th>1</th>\n",
       "      <td>2</td>\n",
       "      <td>2</td>\n",
       "      <td>-0.941301</td>\n",
       "      <td>0.811087</td>\n",
       "      <td>-1.018539</td>\n",
       "      <td>-0.667825</td>\n",
       "      <td>0.905122</td>\n",
       "      <td>0.871517</td>\n",
       "      <td>0.680519</td>\n",
       "      <td>-1.124884</td>\n",
       "      <td>...</td>\n",
       "      <td>1.426912</td>\n",
       "      <td>1.426838</td>\n",
       "      <td>1.426840</td>\n",
       "      <td>-1.426862</td>\n",
       "      <td>1.426840</td>\n",
       "      <td>1.426811</td>\n",
       "      <td>-1.426811</td>\n",
       "      <td>1.426847</td>\n",
       "      <td>-1.427025</td>\n",
       "      <td>-1.426835</td>\n",
       "    </tr>\n",
       "    <tr>\n",
       "      <th>2</th>\n",
       "      <td>3</td>\n",
       "      <td>3</td>\n",
       "      <td>-0.940097</td>\n",
       "      <td>0.810064</td>\n",
       "      <td>-1.017249</td>\n",
       "      <td>-0.666996</td>\n",
       "      <td>0.903988</td>\n",
       "      <td>0.870417</td>\n",
       "      <td>0.679674</td>\n",
       "      <td>-1.123469</td>\n",
       "      <td>...</td>\n",
       "      <td>1.430663</td>\n",
       "      <td>1.430588</td>\n",
       "      <td>1.430591</td>\n",
       "      <td>-1.430613</td>\n",
       "      <td>1.430590</td>\n",
       "      <td>1.430561</td>\n",
       "      <td>-1.430561</td>\n",
       "      <td>1.430598</td>\n",
       "      <td>-1.430776</td>\n",
       "      <td>-1.430585</td>\n",
       "    </tr>\n",
       "    <tr>\n",
       "      <th>3</th>\n",
       "      <td>4</td>\n",
       "      <td>4</td>\n",
       "      <td>-0.940134</td>\n",
       "      <td>0.810095</td>\n",
       "      <td>-1.017290</td>\n",
       "      <td>-0.667022</td>\n",
       "      <td>0.904024</td>\n",
       "      <td>0.870451</td>\n",
       "      <td>0.679701</td>\n",
       "      <td>-1.123511</td>\n",
       "      <td>...</td>\n",
       "      <td>1.427409</td>\n",
       "      <td>1.427335</td>\n",
       "      <td>1.427337</td>\n",
       "      <td>-1.427359</td>\n",
       "      <td>1.427336</td>\n",
       "      <td>1.427308</td>\n",
       "      <td>-1.427308</td>\n",
       "      <td>1.427344</td>\n",
       "      <td>-1.427522</td>\n",
       "      <td>-1.427332</td>\n",
       "    </tr>\n",
       "    <tr>\n",
       "      <th>4</th>\n",
       "      <td>5</td>\n",
       "      <td>5</td>\n",
       "      <td>-0.941712</td>\n",
       "      <td>0.811428</td>\n",
       "      <td>-1.018983</td>\n",
       "      <td>-0.668113</td>\n",
       "      <td>0.905508</td>\n",
       "      <td>0.871896</td>\n",
       "      <td>0.680810</td>\n",
       "      <td>-1.125362</td>\n",
       "      <td>...</td>\n",
       "      <td>1.431433</td>\n",
       "      <td>1.431358</td>\n",
       "      <td>1.431361</td>\n",
       "      <td>-1.431383</td>\n",
       "      <td>1.431360</td>\n",
       "      <td>1.431331</td>\n",
       "      <td>-1.431331</td>\n",
       "      <td>1.431368</td>\n",
       "      <td>-1.431546</td>\n",
       "      <td>-1.431355</td>\n",
       "    </tr>\n",
       "  </tbody>\n",
       "</table>\n",
       "<p>5 rows × 37 columns</p>\n",
       "</div>"
      ],
      "text/plain": [
       "   user_idx  item_idx  item_autoenc0  item_autoenc1  item_autoenc2  \\\n",
       "0         1         1      -0.940097       0.810064      -1.017249   \n",
       "1         2         2      -0.941301       0.811087      -1.018539   \n",
       "2         3         3      -0.940097       0.810064      -1.017249   \n",
       "3         4         4      -0.940134       0.810095      -1.017290   \n",
       "4         5         5      -0.941712       0.811428      -1.018983   \n",
       "\n",
       "   item_autoenc3  item_autoenc4  item_autoenc5  item_autoenc6  item_autoenc7  \\\n",
       "0      -0.666996       0.903988       0.870417       0.679674      -1.123469   \n",
       "1      -0.667825       0.905122       0.871517       0.680519      -1.124884   \n",
       "2      -0.666996       0.903988       0.870417       0.679674      -1.123469   \n",
       "3      -0.667022       0.904024       0.870451       0.679701      -1.123511   \n",
       "4      -0.668113       0.905508       0.871896       0.680810      -1.125362   \n",
       "\n",
       "   ...  user_autoenc0  user_autoenc1  user_autoenc2  user_autoenc3  \\\n",
       "0  ...       1.432288       1.432213       1.432216      -1.432238   \n",
       "1  ...       1.426912       1.426838       1.426840      -1.426862   \n",
       "2  ...       1.430663       1.430588       1.430591      -1.430613   \n",
       "3  ...       1.427409       1.427335       1.427337      -1.427359   \n",
       "4  ...       1.431433       1.431358       1.431361      -1.431383   \n",
       "\n",
       "   user_autoenc4  user_autoenc5  user_autoenc6  user_autoenc7  user_autoenc8  \\\n",
       "0       1.432215       1.432186      -1.432186       1.432222      -1.432401   \n",
       "1       1.426840       1.426811      -1.426811       1.426847      -1.427025   \n",
       "2       1.430590       1.430561      -1.430561       1.430598      -1.430776   \n",
       "3       1.427336       1.427308      -1.427308       1.427344      -1.427522   \n",
       "4       1.431360       1.431331      -1.431331       1.431368      -1.431546   \n",
       "\n",
       "   user_autoenc9  \n",
       "0      -1.432210  \n",
       "1      -1.426835  \n",
       "2      -1.430585  \n",
       "3      -1.427332  \n",
       "4      -1.431355  \n",
       "\n",
       "[5 rows x 37 columns]"
      ]
     },
     "execution_count": 37,
     "metadata": {},
     "output_type": "execute_result"
    }
   ],
   "source": [
    "df_train[['user_idx','item_idx']+autoenc_cols].head()"
   ]
  },
  {
   "cell_type": "code",
   "execution_count": 38,
   "metadata": {},
   "outputs": [
    {
     "data": {
      "text/plain": [
       "(count    114978.000000\n",
       " mean          2.850806\n",
       " std           3.850807\n",
       " min           0.000000\n",
       " 25%           0.000000\n",
       " 50%           0.000000\n",
       " 75%           7.000000\n",
       " max          10.000000\n",
       " Name: rating, dtype: float64, count    1.034802e+06\n",
       " mean     2.868744e+00\n",
       " std      3.854557e+00\n",
       " min      0.000000e+00\n",
       " 25%      0.000000e+00\n",
       " 50%      0.000000e+00\n",
       " 75%      7.000000e+00\n",
       " max      1.000000e+01\n",
       " Name: rating, dtype: float64)"
      ]
     },
     "execution_count": 38,
     "metadata": {},
     "output_type": "execute_result"
    }
   ],
   "source": [
    "df_valid['rating'].describe(),df_train['rating'].describe()"
   ]
  },
  {
   "cell_type": "markdown",
   "metadata": {},
   "source": [
    "### Dataset and DataLoader"
   ]
  },
  {
   "cell_type": "code",
   "execution_count": 39,
   "metadata": {},
   "outputs": [],
   "source": [
    "class cfdata (torch.utils.data.dataset.Dataset):\n",
    "    def __init__(self,dfX,dfY,denseCols):\n",
    "        self.dfX,self.dfY=dfX,dfY\n",
    "        self.denseCols=denseCols\n",
    "        \n",
    "    def __len__ (self):\n",
    "        return self.dfX.shape[0]\n",
    "    \n",
    "    def __getitem__ (self, idx):\n",
    "        return torch.FloatTensor(self.dfX.iloc[idx].values),torch.FloatTensor([self.dfY.values[idx]])"
   ]
  },
  {
   "cell_type": "code",
   "execution_count": 40,
   "metadata": {},
   "outputs": [],
   "source": [
    "dstrain=cfdata(df_train[['user_idx','item_idx']+autoenc_cols],df_train['rating'],autoenc_cols)\n",
    "dsvalid=cfdata(df_valid[['user_idx','item_idx']+autoenc_cols],df_valid['rating'],autoenc_cols)"
   ]
  },
  {
   "cell_type": "code",
   "execution_count": 41,
   "metadata": {},
   "outputs": [
    {
     "data": {
      "text/plain": [
       "(1034802, 49)"
      ]
     },
     "execution_count": 41,
     "metadata": {},
     "output_type": "execute_result"
    }
   ],
   "source": [
    "df_train.shape"
   ]
  },
  {
   "cell_type": "code",
   "execution_count": 42,
   "metadata": {},
   "outputs": [],
   "source": [
    "bs=64"
   ]
  },
  {
   "cell_type": "code",
   "execution_count": 43,
   "metadata": {},
   "outputs": [],
   "source": [
    "dltrain=DataLoader(dstrain,bs,True)"
   ]
  },
  {
   "cell_type": "code",
   "execution_count": 44,
   "metadata": {},
   "outputs": [],
   "source": [
    "dlvalid=DataLoader(dsvalid,bs,True)"
   ]
  },
  {
   "cell_type": "code",
   "execution_count": 45,
   "metadata": {},
   "outputs": [
    {
     "data": {
      "text/plain": [
       "(61.0, 388.96)"
      ]
     },
     "execution_count": 45,
     "metadata": {},
     "output_type": "execute_result"
    }
   ],
   "source": [
    "610/10, 9724/25"
   ]
  },
  {
   "cell_type": "code",
   "execution_count": 46,
   "metadata": {},
   "outputs": [
    {
     "data": {
      "text/plain": [
       "(105283, 340556)"
      ]
     },
     "execution_count": 46,
     "metadata": {},
     "output_type": "execute_result"
    }
   ],
   "source": [
    "len(user_to_idx),len(movie_to_idx)"
   ]
  },
  {
   "cell_type": "markdown",
   "metadata": {},
   "source": [
    "## Model Architecture"
   ]
  },
  {
   "cell_type": "code",
   "execution_count": 47,
   "metadata": {},
   "outputs": [],
   "source": [
    "n_users=len(user_to_idx)\n",
    "n_movies=len(movie_to_idx)\n",
    "n_emb_user=100\n",
    "n_emb_movie=250\n",
    "min_rating=min(df_train['rating'])\n",
    "max_rating=max(df_train['rating'])\n",
    "dropout_e=0.05\n",
    "hidden=[75,15]\n",
    "dropouts=[0.2,0.2]"
   ]
  },
  {
   "cell_type": "code",
   "execution_count": 48,
   "metadata": {},
   "outputs": [],
   "source": [
    "def hidden_layer(x,y,dropout,activation=nn.Sigmoid()):\n",
    "    return nn.Sequential(\n",
    "        nn.Linear(x, y),\n",
    "        activation,\n",
    "        nn.Dropout(p=dropout)\n",
    "        )   "
   ]
  },
  {
   "cell_type": "code",
   "execution_count": 49,
   "metadata": {},
   "outputs": [],
   "source": [
    "class cf(nn.Module):    \n",
    "    def __init__(self,n_users,n_emb_user,n_emb_movie,n_movies,min_rating,max_rating,autoenc_cols,\\\n",
    "                 dropout_e=0.01,hidden=[15,5],dropouts=[0.2,0.2]):\n",
    "        super().__init__()\n",
    "        self.n_users,self.n_emb_user,self.n_emb_movie,self.n_movies,self.min_rating,self.max_rating=\\\n",
    "                    n_users,n_emb_user,n_emb_movie,n_movies,min_rating,max_rating\n",
    "        self.dropout_e,self.hidden,self.dropouts=dropout_e,hidden,dropouts\n",
    "        self.autoenc_cols,self.len_dense_cols=autoenc_cols,len(autoenc_cols)\n",
    "        self.create_architecture()\n",
    "        self.criterion=nn.MSELoss()\n",
    "        \n",
    "        \n",
    "    def create_architecture(self):\n",
    "        self.emb_user=nn.Embedding(self.n_users+1,self.n_emb_user)\n",
    "        self.emb_movie=nn.Embedding(self.n_movies+1,self.n_emb_movie)\n",
    "        self.emb_dropout=nn.Dropout(self.dropout_e)\n",
    "\n",
    "        \n",
    "        self.lin1= nn.Sequential(nn.Linear(self.n_emb_user+self.n_emb_movie,self.hidden[0]),\n",
    "                    nn.ReLU(),\n",
    "                    nn.Dropout(p=dropouts[0]) )\n",
    "        self.lin2= nn.Sequential (nn.Linear(self.len_dense_cols,self.hidden[1]),\n",
    "                    nn.ReLU(),\n",
    "                    nn.Dropout(p=dropouts[1]) )\n",
    "        self.lin3= nn.Sequential (nn.Linear(self.hidden[0]+self.hidden[1],self.hidden[1]),\n",
    "                    nn.ReLU(),\n",
    "                    nn.Dropout(p=dropouts[1]))\n",
    "        self.lin4=nn.Linear(self.hidden[1],1)\n",
    "        self.sigmoid=nn.Sigmoid()\n",
    "        \n",
    "        \n",
    "    def init_parameters(self):\n",
    "        nn.init.kaiming_normal_(self.emb_user.weight.data)\n",
    "        nn.init.kaiming_normal_(self.emb_movie.weight.dat)\n",
    "        #nn.init.kaiming_normal_(lin)\n",
    "       \n",
    "    def forward (self,Xb,Yb):\n",
    "        users=Xb[:,0].long()\n",
    "        items=Xb[:,1].long()\n",
    "        users=self.emb_dropout(self.emb_user(users))\n",
    "        items=self.emb_dropout(self.emb_movie(items))\n",
    "        \n",
    "        denses=Xb[:,2:]\n",
    "        embed=torch.cat([users,items],1)\n",
    "        \n",
    "        out1=self.lin1(embed)\n",
    "        out2=self.lin2(denses)\n",
    "        out3=torch.cat([out1,out2],1)\n",
    "        out4=self.lin3(out3)\n",
    "        out5=self.lin4(out4)\n",
    "        \n",
    "        out=self.sigmoid(out5)\n",
    "        \n",
    "        preds=out*(self.max_rating-self.min_rating)+self.min_rating\n",
    "        #preds=preds.view(-1)\n",
    "        loss=self.criterion(preds,Yb)\n",
    "        return preds,loss"
   ]
  },
  {
   "cell_type": "code",
   "execution_count": 50,
   "metadata": {},
   "outputs": [],
   "source": [
    "cfobj=cf(n_users,n_emb_user,n_emb_movie,n_movies,min_rating,max_rating,autoenc_cols,dropout_e,hidden,dropouts)"
   ]
  },
  {
   "cell_type": "code",
   "execution_count": 51,
   "metadata": {},
   "outputs": [
    {
     "data": {
      "text/plain": [
       "cf(\n",
       "  (emb_user): Embedding(105284, 100)\n",
       "  (emb_movie): Embedding(340557, 250)\n",
       "  (emb_dropout): Dropout(p=0.05)\n",
       "  (lin1): Sequential(\n",
       "    (0): Linear(in_features=350, out_features=75, bias=True)\n",
       "    (1): ReLU()\n",
       "    (2): Dropout(p=0.2)\n",
       "  )\n",
       "  (lin2): Sequential(\n",
       "    (0): Linear(in_features=35, out_features=15, bias=True)\n",
       "    (1): ReLU()\n",
       "    (2): Dropout(p=0.2)\n",
       "  )\n",
       "  (lin3): Sequential(\n",
       "    (0): Linear(in_features=90, out_features=15, bias=True)\n",
       "    (1): ReLU()\n",
       "    (2): Dropout(p=0.2)\n",
       "  )\n",
       "  (lin4): Linear(in_features=15, out_features=1, bias=True)\n",
       "  (sigmoid): Sigmoid()\n",
       "  (criterion): MSELoss()\n",
       ")"
      ]
     },
     "execution_count": 51,
     "metadata": {},
     "output_type": "execute_result"
    }
   ],
   "source": [
    "cfobj"
   ]
  },
  {
   "cell_type": "code",
   "execution_count": 52,
   "metadata": {},
   "outputs": [],
   "source": [
    "for Xb, Yb in dltrain:\n",
    "    break"
   ]
  },
  {
   "cell_type": "code",
   "execution_count": 53,
   "metadata": {},
   "outputs": [
    {
     "data": {
      "text/plain": [
       "(torch.Size([64, 37]), torch.Size([64, 1]))"
      ]
     },
     "execution_count": 53,
     "metadata": {},
     "output_type": "execute_result"
    }
   ],
   "source": [
    "Xb.shape, Yb.shape"
   ]
  },
  {
   "cell_type": "code",
   "execution_count": 54,
   "metadata": {},
   "outputs": [
    {
     "data": {
      "text/plain": [
       "torch.float32"
      ]
     },
     "execution_count": 54,
     "metadata": {},
     "output_type": "execute_result"
    }
   ],
   "source": [
    "Xb.dtype"
   ]
  },
  {
   "cell_type": "code",
   "execution_count": 55,
   "metadata": {},
   "outputs": [
    {
     "data": {
      "text/plain": [
       "(tensor([[5.1048],\n",
       "         [5.3321],\n",
       "         [5.4730],\n",
       "         [5.2366],\n",
       "         [5.3364],\n",
       "         [4.6640],\n",
       "         [5.2334],\n",
       "         [5.1456],\n",
       "         [5.2663],\n",
       "         [5.3257],\n",
       "         [5.3433],\n",
       "         [5.0496],\n",
       "         [5.2726],\n",
       "         [5.0645],\n",
       "         [5.4254],\n",
       "         [4.8435],\n",
       "         [5.7313],\n",
       "         [5.1727],\n",
       "         [5.1254],\n",
       "         [4.9324],\n",
       "         [5.2230],\n",
       "         [5.2028],\n",
       "         [5.6828],\n",
       "         [5.0629],\n",
       "         [5.4001],\n",
       "         [5.6651],\n",
       "         [5.0896],\n",
       "         [5.8065],\n",
       "         [4.7369],\n",
       "         [5.2483],\n",
       "         [5.2984],\n",
       "         [5.7358],\n",
       "         [5.0737],\n",
       "         [5.2046],\n",
       "         [5.5874],\n",
       "         [5.3271],\n",
       "         [5.0235],\n",
       "         [5.0393],\n",
       "         [5.0787],\n",
       "         [5.2285],\n",
       "         [5.0013],\n",
       "         [5.1159],\n",
       "         [5.6777],\n",
       "         [5.4232],\n",
       "         [5.0768],\n",
       "         [5.6152],\n",
       "         [5.1302],\n",
       "         [5.3861],\n",
       "         [5.6691],\n",
       "         [5.3038],\n",
       "         [5.3228],\n",
       "         [5.0994],\n",
       "         [5.4127],\n",
       "         [5.2877],\n",
       "         [5.1315],\n",
       "         [5.2001],\n",
       "         [5.3250],\n",
       "         [5.3891],\n",
       "         [5.3078],\n",
       "         [5.4128],\n",
       "         [5.3738],\n",
       "         [5.3659],\n",
       "         [4.9542],\n",
       "         [5.3416]], grad_fn=<AddBackward0>),\n",
       " tensor(20.6601, grad_fn=<MseLossBackward>))"
      ]
     },
     "execution_count": 55,
     "metadata": {},
     "output_type": "execute_result"
    }
   ],
   "source": [
    "cfobj.forward(Xb,Yb)"
   ]
  },
  {
   "cell_type": "markdown",
   "metadata": {},
   "source": [
    "## Learner"
   ]
  },
  {
   "cell_type": "code",
   "execution_count": 66,
   "metadata": {},
   "outputs": [],
   "source": [
    "class Learner():\n",
    "    def __init__(self,model,optimizer,metric_fn,device,bptt=12,print_every=5,clip_val=None,\\\n",
    "                 cycle_mult=0,lr_decay=0.7,wd_mult=6,start_lr=2e-2, end_lr=5e-4):\n",
    "        self.model,self.optimizer,self.metric_fn,self.device,self.print_every,self.bptt,self.losses,self.clip_val=\\\n",
    "            model,optimizer,metric_fn,device,print_every,bptt,[],clip_val\n",
    "        self.n_epochs=1\n",
    "        self.cycle_mult,self.lr_decay=cycle_mult,lr_decay\n",
    "        self.wd_mult=wd_mult\n",
    "        for param_group in self.optimizer.param_groups:\n",
    "            self.start_lr=param_group['lr']\n",
    "            self.start_wd=param_group['weight_decay']\n",
    "        self.wd=self.start_wd\n",
    "        self.lr=self.start_lr\n",
    "        self.end_lr=end_lr\n",
    "        self.n_epoch=0\n",
    "        self.lrs=[1e-2,5e-3,1e-4,5e-4]\n",
    "        self.preds,self.preds_valid,self.trainY,self.actual=[],[],[],[]\n",
    "        self.ratio=self.end_lr/self.start_lr\n",
    "        self.num_steps=self.cycle_mult\n",
    "        self.reset_cycle=self.cycle_mult\n",
    "        \n",
    "    def fit (self,Xb,Yb,mode_train=True):\n",
    "        if mode_train:\n",
    "            self.model.train()\n",
    "        else:\n",
    "            self.model.eval()\n",
    "        \n",
    "        #import pdb\n",
    "        #pdb.set_trace()\n",
    "        preds,loss=self.model(Xb,Yb)\n",
    "\n",
    "        with torch.no_grad():\n",
    "            if self.metric_fn is not None:\n",
    "                acc=self.metric_fn(preds,Yb.view(-1),self.device)\n",
    "                acc=acc.item()\n",
    "\n",
    "                if 1==0:\n",
    "                    if mode_train:\n",
    "                        self.trainY.append(Yb.view(-1))\n",
    "                        self.preds.append(preds.data)\n",
    "                    else:\n",
    "                        self.actual.append(Yb.view(-1))\n",
    "                        self.preds_valid.append(preds.data)\n",
    "            else:\n",
    "                acc=0\n",
    "            \n",
    "        \n",
    "        if mode_train:\n",
    "            if 1==0:\n",
    "                lr =self.lrs[torch.randint(0,4,(1,))]\n",
    "                for param_group in self.optimizer.param_groups:\n",
    "                    param_group['lr']=lr\n",
    "            \n",
    "            self.optimizer.zero_grad()\n",
    "            loss.backward()\n",
    "            self.optimizer.step()\n",
    "        myloss=loss.item()\n",
    "        acc=np.sqrt(myloss)\n",
    "        \n",
    "        \n",
    "\n",
    "        del preds\n",
    "        del loss\n",
    "        \n",
    "        if self.clip_val is not None:\n",
    "            torch.nn.utils.clip_grad_norm_(self.model.parameters(), self.clip_val)\n",
    "        \n",
    "        return myloss, acc\n",
    "    \n",
    "    def lr_find (self,start_lr,end_lr,iterator,n_batch):\n",
    "        losses,lrs=[],[]\n",
    "        ratio=end_lr/start_lr\n",
    "        num_steps=n_batch\n",
    "        lr=start_lr\n",
    "        for i in range(num_steps):            \n",
    "            lr=lr*(end_lr/start_lr)**(1/num_steps)\n",
    "            lrs.append(lr)\n",
    "        self.lrs=lrs\n",
    "        self.run_epoch(iterator,mode_train=True,lrs=lrs)\n",
    "    \n",
    "    def run_epoch(self,iterator,mode_train,lrs=None):\n",
    "        epoch_loss,epoch_acc,i,k=0,0,0,0\n",
    "\n",
    "\n",
    "        for Xb,Yb in iterator:\n",
    "            Xb=Xb.to(self.device)\n",
    "            Yb=Yb.to(self.device)\n",
    "            \n",
    "            if lrs is not None:\n",
    "                lr=lrs[k]\n",
    "                for param_group in self.optimizer.param_groups:\n",
    "                    param_group['lr']=lr \n",
    "            \n",
    "\n",
    "            loss,acc=self.fit(Xb,Yb,mode_train)\n",
    "            \n",
    "            if lrs is not None:\n",
    "                self.losses.append(loss)\n",
    "\n",
    "\n",
    "            \n",
    "\n",
    "            epoch_loss+=loss\n",
    "            epoch_acc+=acc\n",
    "            \n",
    "            k=k+1\n",
    "            if k%self.print_every == 0:\n",
    "                if k:\n",
    "                    print (f'Batch:{k} {epoch_loss/(k)}  ')  \n",
    "                    torch.cuda.empty_cache()\n",
    "\n",
    "        epoch_loss=epoch_loss/len(iterator)\n",
    "        epoch_acc=epoch_acc/len(iterator)\n",
    "            \n",
    "        return epoch_loss,epoch_acc\n",
    "    \n",
    "    def plot_lrs(self, n_roll=1,ylim=None,xlim=None):\n",
    "        import seaborn as sns\n",
    "        ax=sns.lineplot(x=self.lrs,y=pd.Series(self.losses).rolling(n_roll).mean())\n",
    "        ax.set_xscale('log')\n",
    "        ax.set_ylabel('Loss')\n",
    "        ax.set_xlabel('Learning Rate')\n",
    "        if ylim is not None:\n",
    "            plt.ylim(ylim)\n",
    "        if xlim is not None:\n",
    "            plt.xlim(xlim)\n",
    "\n",
    "     \n",
    "    def run_epochs(self,dltrain,dlvalid,n_epochs=1):              \n",
    "        for epoch in range(n_epochs):                \n",
    "            loss,acc=self.run_epoch(dltrain,True)\n",
    "\n",
    "            lossv,accv=self.run_epoch(dlvalid,mode_train=False)\n",
    "            print (f'Epoch:{epoch} Learning rate {self.lr} Weight Decay {self.wd} Train Loss:{loss} \\\n",
    "                Valid Loss:{lossv} Train RMSE:{acc} Valid RMSE:{accv}')\n",
    "  \n",
    "            if self.cycle_mult:\n",
    "                if self.n_epoch==self.reset_cycle:\n",
    "                    self.lr=self.start_lr\n",
    "                    #self.wd=self.start_wd\n",
    "                    self.reset_cycle*=self.cycle_mult\n",
    "                    #reset_cycle=self.n_epoch+reset_cycle\n",
    "                    self.n_epoch=0\n",
    "                    self.ratio=self.end_lr/self.start_lr\n",
    "                    self.num_steps=self.reset_cycle\n",
    "                else:\n",
    "                    #self.lr*=(self.lr_decay**self.n_epoch)  \n",
    "                    #if self.n_epoch>1:\n",
    "                    #    self.wd*=self.wd_mult\n",
    "                    self.lr=self.lr*(self.end_lr/self.start_lr)**(1/self.num_steps)\n",
    "                    self.n_epoch+=1\n",
    "        \n",
    "\n",
    "                \n",
    "            for param_group in self.optimizer.param_groups:\n",
    "                param_group['lr']=self.lr\n",
    "                #param_group['weight_decay']=self.wd\n",
    "          \n",
    "     "
   ]
  },
  {
   "cell_type": "code",
   "execution_count": 57,
   "metadata": {},
   "outputs": [],
   "source": [
    "device='cuda:1'"
   ]
  },
  {
   "cell_type": "code",
   "execution_count": 58,
   "metadata": {},
   "outputs": [],
   "source": [
    "cfobj=cf(n_users,n_emb_user,n_emb_movie,n_movies,min_rating,max_rating,autoenc_cols,dropout_e,hidden,dropouts)"
   ]
  },
  {
   "cell_type": "code",
   "execution_count": 59,
   "metadata": {},
   "outputs": [],
   "source": [
    "cfobj=cfobj.to(device)"
   ]
  },
  {
   "cell_type": "code",
   "execution_count": 60,
   "metadata": {},
   "outputs": [
    {
     "data": {
      "text/plain": [
       "cf(\n",
       "  (emb_user): Embedding(105284, 100)\n",
       "  (emb_movie): Embedding(340557, 250)\n",
       "  (emb_dropout): Dropout(p=0.05)\n",
       "  (lin1): Sequential(\n",
       "    (0): Linear(in_features=350, out_features=75, bias=True)\n",
       "    (1): ReLU()\n",
       "    (2): Dropout(p=0.2)\n",
       "  )\n",
       "  (lin2): Sequential(\n",
       "    (0): Linear(in_features=35, out_features=15, bias=True)\n",
       "    (1): ReLU()\n",
       "    (2): Dropout(p=0.2)\n",
       "  )\n",
       "  (lin3): Sequential(\n",
       "    (0): Linear(in_features=90, out_features=15, bias=True)\n",
       "    (1): ReLU()\n",
       "    (2): Dropout(p=0.2)\n",
       "  )\n",
       "  (lin4): Linear(in_features=15, out_features=1, bias=True)\n",
       "  (sigmoid): Sigmoid()\n",
       "  (criterion): MSELoss()\n",
       ")"
      ]
     },
     "execution_count": 60,
     "metadata": {},
     "output_type": "execute_result"
    }
   ],
   "source": [
    "cfobj"
   ]
  },
  {
   "cell_type": "code",
   "execution_count": 61,
   "metadata": {},
   "outputs": [
    {
     "data": {
      "text/plain": [
       "16169"
      ]
     },
     "execution_count": 61,
     "metadata": {},
     "output_type": "execute_result"
    }
   ],
   "source": [
    "len(dltrain)"
   ]
  },
  {
   "cell_type": "code",
   "execution_count": 67,
   "metadata": {},
   "outputs": [],
   "source": [
    "wd=1e-7\n",
    "optimizer=torch.optim.Adam(cfobj.parameters(),lr=5e-3,betas=(0.9,0.999), weight_decay=wd)\n"
   ]
  },
  {
   "cell_type": "code",
   "execution_count": 65,
   "metadata": {},
   "outputs": [],
   "source": [
    "learner=Learner(cfobj,optimizer,None,device,0,12000,0.25,cycle_mult=0)"
   ]
  },
  {
   "cell_type": "code",
   "execution_count": 68,
   "metadata": {},
   "outputs": [
    {
     "name": "stdout",
     "output_type": "stream",
     "text": [
      "Batch:12000 13.150543394406636  \n"
     ]
    }
   ],
   "source": [
    "learner.lr_find(1e-4,1e-1,dltrain,len(dltrain))"
   ]
  },
  {
   "cell_type": "code",
   "execution_count": 69,
   "metadata": {},
   "outputs": [
    {
     "data": {
      "image/png": "[encoded data removed]",
      "text/plain": [
       "<Figure size 432x288 with 1 Axes>"
      ]
     },
     "metadata": {
      "needs_background": "light"
     },
     "output_type": "display_data"
    }
   ],
   "source": [
    "learner.plot_lrs(50)"
   ]
  },
  {
   "cell_type": "code",
   "execution_count": 71,
   "metadata": {},
   "outputs": [
    {
     "data": {
      "image/png": "[encoded data removed]",
      "text/plain": [
       "<Figure size 432x288 with 1 Axes>"
      ]
     },
     "metadata": {
      "needs_background": "light"
     },
     "output_type": "display_data"
    }
   ],
   "source": [
    "learner.plot_lrs(10)"
   ]
  },
  {
   "cell_type": "code",
   "execution_count": 72,
   "metadata": {},
   "outputs": [],
   "source": [
    "del cfobj\n",
    "torch.cuda.empty_cache()"
   ]
  },
  {
   "cell_type": "code",
   "execution_count": 73,
   "metadata": {},
   "outputs": [],
   "source": [
    "cfobj=cf(n_users,n_emb_user,n_emb_movie,n_movies,min_rating,max_rating,autoenc_cols,dropout_e,hidden,dropouts)\n",
    "cfobj=cfobj.to(device)"
   ]
  },
  {
   "cell_type": "code",
   "execution_count": 74,
   "metadata": {},
   "outputs": [],
   "source": [
    "wd=1e-7\n",
    "optimizer=torch.optim.Adam(cfobj.parameters(),lr=3e-3,betas=(0.9,0.999), weight_decay=wd)\n",
    "learner=Learner(cfobj,optimizer,None,device,0,12000,0.25,cycle_mult=0)"
   ]
  },
  {
   "cell_type": "code",
   "execution_count": 75,
   "metadata": {},
   "outputs": [
    {
     "name": "stdout",
     "output_type": "stream",
     "text": [
      "Batch:12000 12.024405774593353  \n",
      "Epoch:0 Learning rate 0.003 Weight Decay 1e-07 Train Loss:11.907565530904025                 Valid Loss:11.305367641470204 Train RMSE:3.440119329359796 Valid RMSE:3.3515718399170087\n",
      "Batch:12000 10.696864593903223  \n",
      "Epoch:1 Learning rate 0.003 Weight Decay 1e-07 Train Loss:10.82738903261999                 Valid Loss:11.304072927221299 Train RMSE:3.2782321926252598 Valid RMSE:3.3520835575677643\n",
      "Batch:12000 9.767725219825904  \n",
      "Epoch:2 Learning rate 0.003 Weight Decay 1e-07 Train Loss:10.049008643400825                 Valid Loss:11.389251986807695 Train RMSE:3.155021187909682 Valid RMSE:3.3659516948678405\n",
      "Batch:12000 9.357600712100664  \n",
      "Epoch:3 Learning rate 0.003 Weight Decay 1e-07 Train Loss:9.661881358129977                 Valid Loss:11.710171834057281 Train RMSE:3.092339206557385 Valid RMSE:3.4096590500618125\n",
      "Batch:12000 8.973326646427314  \n",
      "Epoch:4 Learning rate 0.003 Weight Decay 1e-07 Train Loss:9.295518312363392                 Valid Loss:11.638679043213129 Train RMSE:3.0313338536583823 Valid RMSE:3.4007879367831975\n",
      "Batch:12000 8.674639674107233  \n",
      "Epoch:5 Learning rate 0.003 Weight Decay 1e-07 Train Loss:9.034459226523225                 Valid Loss:11.7328491136639 Train RMSE:2.987198550566531 Valid RMSE:3.41351763693731\n",
      "Batch:12000 8.424099966724715  \n",
      "Epoch:6 Learning rate 0.003 Weight Decay 1e-07 Train Loss:8.801611606954857                 Valid Loss:11.923444149291177 Train RMSE:2.94738447066792 Valid RMSE:3.4407365738464737\n"
     ]
    }
   ],
   "source": [
    "learner.run_epochs(dltrain,dlvalid,7)"
   ]
  },
  {
   "cell_type": "code",
   "execution_count": 77,
   "metadata": {},
   "outputs": [
    {
     "name": "stderr",
     "output_type": "stream",
     "text": [
      "/home/kirana/anaconda3/lib/python3.7/site-packages/torch/serialization.py:256: UserWarning: Couldn't retrieve source code for container of type cf. It won't be checked for correctness upon loading.\n",
      "  \"type \" + obj.__name__ + \". It won't be checked \"\n",
      "/home/kirana/anaconda3/lib/python3.7/site-packages/torch/serialization.py:256: UserWarning: Couldn't retrieve source code for container of type cf. It won't be checked for correctness upon loading.\n",
      "  \"type \" + obj.__name__ + \". It won't be checked \"\n"
     ]
    }
   ],
   "source": [
    "torch.save(cfobj,f=f'{DATAPATH}/inter/cf_plus_model')\n",
    "torch.save(learner,f=f'{DATAPATH}/inter/cf_plus_learner')\n",
    "torch.save(optimizer,f=f'{DATAPATH}/inter/cf_plus_optimizer')\n",
    "torch.save(cfobj.state_dict(),f'{DATAPATH}/inter/cf_plus_state_dict')\n",
    "torch.save(optimizer.state_dict(),f'{DATAPATH}/inter/cf_plus_optimizer_state_dict')"
   ]
  },
  {
   "cell_type": "code",
   "execution_count": 78,
   "metadata": {},
   "outputs": [],
   "source": [
    "optimizer=torch.optim.Adam(cfobj.parameters(),lr=3e-3,betas=(0.9,0.999), weight_decay=wd)\n",
    "learner=Learner(cfobj,optimizer,None,device,0,12000,0.25,cycle_mult=2,start_lr=5e-3,end_lr=5e-4)"
   ]
  },
  {
   "cell_type": "code",
   "execution_count": 79,
   "metadata": {},
   "outputs": [
    {
     "name": "stdout",
     "output_type": "stream",
     "text": [
      "Batch:12000 11.290498573104541  \n",
      "Epoch:0 Learning rate 0.003 Weight Decay 1e-07 Train Loss:11.306217690288                 Valid Loss:11.369702814948115 Train RMSE:3.3507018119989658 Valid RMSE:3.3602633633250196\n",
      "Batch:12000 8.715497443457444  \n",
      "Epoch:1 Learning rate 0.0012247448713915891 Weight Decay 1e-07 Train Loss:8.904089596977968                 Valid Loss:11.773114170707062 Train RMSE:2.9679548379733434 Valid RMSE:3.4194881624533933\n",
      "Batch:12000 7.0292684685985245  \n",
      "Epoch:2 Learning rate 0.0005 Weight Decay 1e-07 Train Loss:7.269104495518312                 Valid Loss:12.627216688844982 Train RMSE:2.676313437081153 Valid RMSE:3.538328376516999\n",
      "Batch:12000 8.598670200149218  \n",
      "Epoch:3 Learning rate 0.003 Weight Decay 1e-07 Train Loss:9.056144450707489                 Valid Loss:11.854154596610009 Train RMSE:2.9865928306780356 Valid RMSE:3.4306889809799044\n",
      "Batch:12000 7.606462858537833  \n",
      "Epoch:4 Learning rate 0.0019168293127388174 Weight Decay 1e-07 Train Loss:7.9290019889895005                 Valid Loss:12.565834272816636 Train RMSE:2.796089469548978 Valid RMSE:3.53073246594081\n",
      "Batch:12000 6.553957757065693  \n",
      "Epoch:5 Learning rate 0.001224744871391589 Weight Decay 1e-07 Train Loss:6.938680592734279                 Valid Loss:12.726472058824253 Train RMSE:2.610250359193314 Valid RMSE:3.5535911985122146\n",
      "Batch:12000 6.033157592684031  \n",
      "Epoch:6 Learning rate 0.0007825422900366436 Weight Decay 1e-07 Train Loss:6.360600705292474                 Valid Loss:13.129457149760354 Train RMSE:2.4973591832007123 Valid RMSE:3.6078435669377322\n",
      "Batch:12000 5.578115974605083  \n",
      "Epoch:7 Learning rate 0.0004999999999999999 Weight Decay 1e-07 Train Loss:5.878614832219701                 Valid Loss:13.474814977523812 Train RMSE:2.3988399610092013 Valid RMSE:3.6535481596618067\n",
      "Batch:12000 7.733784286886453  \n",
      "Epoch:8 Learning rate 0.003 Weight Decay 1e-07 Train Loss:8.281812621361766                 Valid Loss:12.065995956966463 Train RMSE:2.8486310117073934 Valid RMSE:3.461219012075683\n",
      "Batch:12000 7.13821358726422  \n",
      "Epoch:9 Learning rate 0.002398017501649321 Weight Decay 1e-07 Train Loss:7.5389791238034425                 Valid Loss:12.733132019000513 Train RMSE:2.722943719352793 Valid RMSE:3.553414078680022\n",
      "Batch:12000 6.454308058569828  \n",
      "Epoch:10 Learning rate 0.0019168293127388174 Weight Decay 1e-07 Train Loss:6.877952738745741                 Valid Loss:12.933031729080973 Train RMSE:2.5964661881173514 Valid RMSE:3.58101398036025\n",
      "Batch:12000 6.064539845605691  \n",
      "Epoch:11 Learning rate 0.001532196746540708 Weight Decay 1e-07 Train Loss:6.466753016627633                 Valid Loss:13.028155337191981 Train RMSE:2.5160481185524763 Valid RMSE:3.594012498391871\n",
      "Batch:12000 5.675843140885234  \n",
      "Epoch:12 Learning rate 0.001224744871391589 Weight Decay 1e-07 Train Loss:6.075859884806869                 Valid Loss:13.267231086790396 Train RMSE:2.436663674193521 Valid RMSE:3.6261012428988106\n",
      "Batch:12000 5.412312969475985  \n",
      "Epoch:13 Learning rate 0.0009789865455507591 Weight Decay 1e-07 Train Loss:5.7767018376435395                 Valid Loss:13.598963035897672 Train RMSE:2.3753350217220226 Valid RMSE:3.6711453256113327\n",
      "Batch:12000 5.1822017989705005  \n",
      "Epoch:14 Learning rate 0.0007825422900366436 Weight Decay 1e-07 Train Loss:5.53134791823691                 Valid Loss:13.690397515453494 Train RMSE:2.3227394977057676 Valid RMSE:3.683739049562333\n"
     ]
    }
   ],
   "source": [
    "learner.run_epochs(dltrain,dlvalid,15)"
   ]
  },
  {
   "cell_type": "code",
   "execution_count": 74,
   "metadata": {},
   "outputs": [
    {
     "name": "stderr",
     "output_type": "stream",
     "text": [
      "/home/kirana/anaconda3/lib/python3.7/site-packages/torch/serialization.py:256: UserWarning: Couldn't retrieve source code for container of type cf. It won't be checked for correctness upon loading.\n",
      "  \"type \" + obj.__name__ + \". It won't be checked \"\n",
      "/home/kirana/anaconda3/lib/python3.7/site-packages/torch/serialization.py:256: UserWarning: Couldn't retrieve source code for container of type cf. It won't be checked for correctness upon loading.\n",
      "  \"type \" + obj.__name__ + \". It won't be checked \"\n"
     ]
    }
   ],
   "source": []
  },
  {
   "cell_type": "code",
   "execution_count": null,
   "metadata": {},
   "outputs": [],
   "source": []
  }
 ],
 "metadata": {
  "kernelspec": {
   "display_name": "Python 3",
   "language": "python",
   "name": "python3"
  },
  "language_info": {
   "codemirror_mode": {
    "name": "ipython",
    "version": 3
   },
   "file_extension": ".py",
   "mimetype": "text/x-python",
   "name": "python",
   "nbconvert_exporter": "python",
   "pygments_lexer": "ipython3",
   "version": "3.7.3"
  }
 },
 "nbformat": 4,
 "nbformat_minor": 2
}
