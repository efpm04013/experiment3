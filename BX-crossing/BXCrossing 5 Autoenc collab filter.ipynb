{
 "cells": [
  {
   "cell_type": "code",
   "execution_count": 1,
   "metadata": {},
   "outputs": [],
   "source": [
    "PATH='/home/kirana/Documents/phd/exp3_autoencoder'\n",
    "DATAPATH='/home/kirana/Documents/final_dissertation_final/experiments/datasets/bookcrossing'"
   ]
  },
  {
   "cell_type": "code",
   "execution_count": 2,
   "metadata": {},
   "outputs": [],
   "source": [
    "import pandas as pd\n",
    "import numpy as np\n",
    "import matplotlib.pyplot as plt\n",
    "import sklearn\n",
    "import os\n",
    "import pickle\n",
    "import torch\n",
    "from torch.utils.data import Dataset, DataLoader\n",
    "from torch import nn"
   ]
  },
  {
   "cell_type": "code",
   "execution_count": 3,
   "metadata": {},
   "outputs": [],
   "source": [
    "[df, df_train,df_valid,df,df_ratings,idx_to_user,\\\n",
    "             idx_to_movie,movie_to_idx,user_to_idx]=pickle.load(open(f'{DATAPATH}/reads.pkl','rb'))"
   ]
  },
  {
   "cell_type": "code",
   "execution_count": 4,
   "metadata": {},
   "outputs": [
    {
     "data": {
      "text/plain": [
       "(433671, 22)"
      ]
     },
     "execution_count": 4,
     "metadata": {},
     "output_type": "execute_result"
    }
   ],
   "source": [
    "df.shape"
   ]
  },
  {
   "cell_type": "code",
   "execution_count": 5,
   "metadata": {},
   "outputs": [
    {
     "data": {
      "text/html": [
       "<div>\n",
       "<style scoped>\n",
       "    .dataframe tbody tr th:only-of-type {\n",
       "        vertical-align: middle;\n",
       "    }\n",
       "\n",
       "    .dataframe tbody tr th {\n",
       "        vertical-align: top;\n",
       "    }\n",
       "\n",
       "    .dataframe thead th {\n",
       "        text-align: right;\n",
       "    }\n",
       "</style>\n",
       "<table border=\"1\" class=\"dataframe\">\n",
       "  <thead>\n",
       "    <tr style=\"text-align: right;\">\n",
       "      <th></th>\n",
       "      <th>userId</th>\n",
       "      <th>itemId</th>\n",
       "      <th>rating</th>\n",
       "      <th>num_ratings_per_user_gt_20</th>\n",
       "      <th>num_ratings_per_item_gt_200</th>\n",
       "      <th>flag_clean_considered</th>\n",
       "      <th>Location</th>\n",
       "      <th>Age</th>\n",
       "      <th>Book-Title</th>\n",
       "      <th>Book-Author</th>\n",
       "      <th>...</th>\n",
       "      <th>random_dstype</th>\n",
       "      <th>user_idx</th>\n",
       "      <th>item_idx</th>\n",
       "      <th>dstype_random_train</th>\n",
       "      <th>dstype_random_valid</th>\n",
       "      <th>location_idx</th>\n",
       "      <th>age_idx</th>\n",
       "      <th>title_idx</th>\n",
       "      <th>author_idx</th>\n",
       "      <th>publisher_idx</th>\n",
       "    </tr>\n",
       "  </thead>\n",
       "  <tbody>\n",
       "    <tr>\n",
       "      <th>49299</th>\n",
       "      <td>26538</td>\n",
       "      <td>0590010891</td>\n",
       "      <td>10</td>\n",
       "      <td>True</td>\n",
       "      <td>False</td>\n",
       "      <td>False</td>\n",
       "      <td>rawlins, wyoming, usa</td>\n",
       "      <td>32.0</td>\n",
       "      <td>Star Wars Episode I: The Phantom Menace</td>\n",
       "      <td>Patricia C. Wrede</td>\n",
       "      <td>...</td>\n",
       "      <td>train</td>\n",
       "      <td>1</td>\n",
       "      <td>1</td>\n",
       "      <td>1</td>\n",
       "      <td>0</td>\n",
       "      <td>1</td>\n",
       "      <td>1</td>\n",
       "      <td>1</td>\n",
       "      <td>1</td>\n",
       "      <td>1</td>\n",
       "    </tr>\n",
       "    <tr>\n",
       "      <th>339650</th>\n",
       "      <td>213826</td>\n",
       "      <td>1562764047</td>\n",
       "      <td>7</td>\n",
       "      <td>False</td>\n",
       "      <td>False</td>\n",
       "      <td>False</td>\n",
       "      <td>university city, missouri, usa</td>\n",
       "      <td>40.0</td>\n",
       "      <td>How the Internet Works (How It Works Series (E...</td>\n",
       "      <td>Preston Gralla</td>\n",
       "      <td>...</td>\n",
       "      <td>train</td>\n",
       "      <td>2</td>\n",
       "      <td>2</td>\n",
       "      <td>1</td>\n",
       "      <td>0</td>\n",
       "      <td>2</td>\n",
       "      <td>2</td>\n",
       "      <td>2</td>\n",
       "      <td>2</td>\n",
       "      <td>2</td>\n",
       "    </tr>\n",
       "    <tr>\n",
       "      <th>358933</th>\n",
       "      <td>227054</td>\n",
       "      <td>0553284789</td>\n",
       "      <td>7</td>\n",
       "      <td>False</td>\n",
       "      <td>False</td>\n",
       "      <td>False</td>\n",
       "      <td>nampa, idaho, usa</td>\n",
       "      <td>27.0</td>\n",
       "      <td>F Is for Fugitive (Kinsey Millhone Mysteries (...</td>\n",
       "      <td>Sue Grafton</td>\n",
       "      <td>...</td>\n",
       "      <td>train</td>\n",
       "      <td>3</td>\n",
       "      <td>3</td>\n",
       "      <td>1</td>\n",
       "      <td>0</td>\n",
       "      <td>3</td>\n",
       "      <td>3</td>\n",
       "      <td>3</td>\n",
       "      <td>3</td>\n",
       "      <td>3</td>\n",
       "    </tr>\n",
       "    <tr>\n",
       "      <th>393023</th>\n",
       "      <td>248656</td>\n",
       "      <td>0380977788</td>\n",
       "      <td>10</td>\n",
       "      <td>True</td>\n",
       "      <td>False</td>\n",
       "      <td>False</td>\n",
       "      <td>altamonte springs, florida, usa</td>\n",
       "      <td>34.0</td>\n",
       "      <td>Coraline</td>\n",
       "      <td>Neil Gaiman</td>\n",
       "      <td>...</td>\n",
       "      <td>train</td>\n",
       "      <td>4</td>\n",
       "      <td>4</td>\n",
       "      <td>1</td>\n",
       "      <td>0</td>\n",
       "      <td>4</td>\n",
       "      <td>4</td>\n",
       "      <td>4</td>\n",
       "      <td>4</td>\n",
       "      <td>4</td>\n",
       "    </tr>\n",
       "    <tr>\n",
       "      <th>347702</th>\n",
       "      <td>220091</td>\n",
       "      <td>0425172996</td>\n",
       "      <td>8</td>\n",
       "      <td>True</td>\n",
       "      <td>False</td>\n",
       "      <td>False</td>\n",
       "      <td>san diego, california, usa</td>\n",
       "      <td>NaN</td>\n",
       "      <td>Vector</td>\n",
       "      <td>Robin Cook</td>\n",
       "      <td>...</td>\n",
       "      <td>train</td>\n",
       "      <td>5</td>\n",
       "      <td>5</td>\n",
       "      <td>1</td>\n",
       "      <td>0</td>\n",
       "      <td>5</td>\n",
       "      <td>0</td>\n",
       "      <td>5</td>\n",
       "      <td>5</td>\n",
       "      <td>5</td>\n",
       "    </tr>\n",
       "  </tbody>\n",
       "</table>\n",
       "<p>5 rows × 22 columns</p>\n",
       "</div>"
      ],
      "text/plain": [
       "        userId      itemId  rating  num_ratings_per_user_gt_20  \\\n",
       "49299    26538  0590010891      10                        True   \n",
       "339650  213826  1562764047       7                       False   \n",
       "358933  227054  0553284789       7                       False   \n",
       "393023  248656  0380977788      10                        True   \n",
       "347702  220091  0425172996       8                        True   \n",
       "\n",
       "        num_ratings_per_item_gt_200  flag_clean_considered  \\\n",
       "49299                         False                  False   \n",
       "339650                        False                  False   \n",
       "358933                        False                  False   \n",
       "393023                        False                  False   \n",
       "347702                        False                  False   \n",
       "\n",
       "                               Location   Age  \\\n",
       "49299             rawlins, wyoming, usa  32.0   \n",
       "339650   university city, missouri, usa  40.0   \n",
       "358933                nampa, idaho, usa  27.0   \n",
       "393023  altamonte springs, florida, usa  34.0   \n",
       "347702       san diego, california, usa   NaN   \n",
       "\n",
       "                                               Book-Title        Book-Author  \\\n",
       "49299             Star Wars Episode I: The Phantom Menace  Patricia C. Wrede   \n",
       "339650  How the Internet Works (How It Works Series (E...     Preston Gralla   \n",
       "358933  F Is for Fugitive (Kinsey Millhone Mysteries (...        Sue Grafton   \n",
       "393023                                           Coraline        Neil Gaiman   \n",
       "347702                                             Vector         Robin Cook   \n",
       "\n",
       "        ... random_dstype user_idx item_idx  dstype_random_train  \\\n",
       "49299   ...         train        1        1                    1   \n",
       "339650  ...         train        2        2                    1   \n",
       "358933  ...         train        3        3                    1   \n",
       "393023  ...         train        4        4                    1   \n",
       "347702  ...         train        5        5                    1   \n",
       "\n",
       "        dstype_random_valid  location_idx  age_idx  title_idx  author_idx  \\\n",
       "49299                     0             1        1          1           1   \n",
       "339650                    0             2        2          2           2   \n",
       "358933                    0             3        3          3           3   \n",
       "393023                    0             4        4          4           4   \n",
       "347702                    0             5        0          5           5   \n",
       "\n",
       "        publisher_idx  \n",
       "49299               1  \n",
       "339650              2  \n",
       "358933              3  \n",
       "393023              4  \n",
       "347702              5  \n",
       "\n",
       "[5 rows x 22 columns]"
      ]
     },
     "execution_count": 5,
     "metadata": {},
     "output_type": "execute_result"
    }
   ],
   "source": [
    "df.head()"
   ]
  },
  {
   "cell_type": "code",
   "execution_count": 6,
   "metadata": {},
   "outputs": [],
   "source": [
    "df_train=df.loc[df['random_dstype']=='train']\n",
    "df_valid=df.loc[df['random_dstype']!='train']"
   ]
  },
  {
   "cell_type": "code",
   "execution_count": 7,
   "metadata": {},
   "outputs": [
    {
     "data": {
      "text/html": [
       "<div>\n",
       "<style scoped>\n",
       "    .dataframe tbody tr th:only-of-type {\n",
       "        vertical-align: middle;\n",
       "    }\n",
       "\n",
       "    .dataframe tbody tr th {\n",
       "        vertical-align: top;\n",
       "    }\n",
       "\n",
       "    .dataframe thead th {\n",
       "        text-align: right;\n",
       "    }\n",
       "</style>\n",
       "<table border=\"1\" class=\"dataframe\">\n",
       "  <thead>\n",
       "    <tr style=\"text-align: right;\">\n",
       "      <th></th>\n",
       "      <th>49299</th>\n",
       "      <th>339650</th>\n",
       "      <th>358933</th>\n",
       "      <th>393023</th>\n",
       "      <th>347702</th>\n",
       "    </tr>\n",
       "  </thead>\n",
       "  <tbody>\n",
       "    <tr>\n",
       "      <th>userId</th>\n",
       "      <td>26538</td>\n",
       "      <td>213826</td>\n",
       "      <td>227054</td>\n",
       "      <td>248656</td>\n",
       "      <td>220091</td>\n",
       "    </tr>\n",
       "    <tr>\n",
       "      <th>itemId</th>\n",
       "      <td>0590010891</td>\n",
       "      <td>1562764047</td>\n",
       "      <td>0553284789</td>\n",
       "      <td>0380977788</td>\n",
       "      <td>0425172996</td>\n",
       "    </tr>\n",
       "    <tr>\n",
       "      <th>rating</th>\n",
       "      <td>10</td>\n",
       "      <td>7</td>\n",
       "      <td>7</td>\n",
       "      <td>10</td>\n",
       "      <td>8</td>\n",
       "    </tr>\n",
       "    <tr>\n",
       "      <th>num_ratings_per_user_gt_20</th>\n",
       "      <td>True</td>\n",
       "      <td>False</td>\n",
       "      <td>False</td>\n",
       "      <td>True</td>\n",
       "      <td>True</td>\n",
       "    </tr>\n",
       "    <tr>\n",
       "      <th>num_ratings_per_item_gt_200</th>\n",
       "      <td>False</td>\n",
       "      <td>False</td>\n",
       "      <td>False</td>\n",
       "      <td>False</td>\n",
       "      <td>False</td>\n",
       "    </tr>\n",
       "    <tr>\n",
       "      <th>flag_clean_considered</th>\n",
       "      <td>False</td>\n",
       "      <td>False</td>\n",
       "      <td>False</td>\n",
       "      <td>False</td>\n",
       "      <td>False</td>\n",
       "    </tr>\n",
       "    <tr>\n",
       "      <th>Location</th>\n",
       "      <td>rawlins, wyoming, usa</td>\n",
       "      <td>university city, missouri, usa</td>\n",
       "      <td>nampa, idaho, usa</td>\n",
       "      <td>altamonte springs, florida, usa</td>\n",
       "      <td>san diego, california, usa</td>\n",
       "    </tr>\n",
       "    <tr>\n",
       "      <th>Age</th>\n",
       "      <td>32</td>\n",
       "      <td>40</td>\n",
       "      <td>27</td>\n",
       "      <td>34</td>\n",
       "      <td>NaN</td>\n",
       "    </tr>\n",
       "    <tr>\n",
       "      <th>Book-Title</th>\n",
       "      <td>Star Wars Episode I: The Phantom Menace</td>\n",
       "      <td>How the Internet Works (How It Works Series (E...</td>\n",
       "      <td>F Is for Fugitive (Kinsey Millhone Mysteries (...</td>\n",
       "      <td>Coraline</td>\n",
       "      <td>Vector</td>\n",
       "    </tr>\n",
       "    <tr>\n",
       "      <th>Book-Author</th>\n",
       "      <td>Patricia C. Wrede</td>\n",
       "      <td>Preston Gralla</td>\n",
       "      <td>Sue Grafton</td>\n",
       "      <td>Neil Gaiman</td>\n",
       "      <td>Robin Cook</td>\n",
       "    </tr>\n",
       "    <tr>\n",
       "      <th>Year-Of-Publication</th>\n",
       "      <td>1999</td>\n",
       "      <td>1996</td>\n",
       "      <td>1990</td>\n",
       "      <td>2002</td>\n",
       "      <td>2000</td>\n",
       "    </tr>\n",
       "    <tr>\n",
       "      <th>Publisher</th>\n",
       "      <td>Scholastic</td>\n",
       "      <td>Macmillan Computer Pub</td>\n",
       "      <td>Bantam</td>\n",
       "      <td>HarperCollins</td>\n",
       "      <td>Berkley Publishing Group</td>\n",
       "    </tr>\n",
       "    <tr>\n",
       "      <th>random_dstype</th>\n",
       "      <td>train</td>\n",
       "      <td>train</td>\n",
       "      <td>train</td>\n",
       "      <td>train</td>\n",
       "      <td>train</td>\n",
       "    </tr>\n",
       "    <tr>\n",
       "      <th>user_idx</th>\n",
       "      <td>1</td>\n",
       "      <td>2</td>\n",
       "      <td>3</td>\n",
       "      <td>4</td>\n",
       "      <td>5</td>\n",
       "    </tr>\n",
       "    <tr>\n",
       "      <th>item_idx</th>\n",
       "      <td>1</td>\n",
       "      <td>2</td>\n",
       "      <td>3</td>\n",
       "      <td>4</td>\n",
       "      <td>5</td>\n",
       "    </tr>\n",
       "    <tr>\n",
       "      <th>dstype_random_train</th>\n",
       "      <td>1</td>\n",
       "      <td>1</td>\n",
       "      <td>1</td>\n",
       "      <td>1</td>\n",
       "      <td>1</td>\n",
       "    </tr>\n",
       "    <tr>\n",
       "      <th>dstype_random_valid</th>\n",
       "      <td>0</td>\n",
       "      <td>0</td>\n",
       "      <td>0</td>\n",
       "      <td>0</td>\n",
       "      <td>0</td>\n",
       "    </tr>\n",
       "    <tr>\n",
       "      <th>location_idx</th>\n",
       "      <td>1</td>\n",
       "      <td>2</td>\n",
       "      <td>3</td>\n",
       "      <td>4</td>\n",
       "      <td>5</td>\n",
       "    </tr>\n",
       "    <tr>\n",
       "      <th>age_idx</th>\n",
       "      <td>1</td>\n",
       "      <td>2</td>\n",
       "      <td>3</td>\n",
       "      <td>4</td>\n",
       "      <td>0</td>\n",
       "    </tr>\n",
       "    <tr>\n",
       "      <th>title_idx</th>\n",
       "      <td>1</td>\n",
       "      <td>2</td>\n",
       "      <td>3</td>\n",
       "      <td>4</td>\n",
       "      <td>5</td>\n",
       "    </tr>\n",
       "    <tr>\n",
       "      <th>author_idx</th>\n",
       "      <td>1</td>\n",
       "      <td>2</td>\n",
       "      <td>3</td>\n",
       "      <td>4</td>\n",
       "      <td>5</td>\n",
       "    </tr>\n",
       "    <tr>\n",
       "      <th>publisher_idx</th>\n",
       "      <td>1</td>\n",
       "      <td>2</td>\n",
       "      <td>3</td>\n",
       "      <td>4</td>\n",
       "      <td>5</td>\n",
       "    </tr>\n",
       "  </tbody>\n",
       "</table>\n",
       "</div>"
      ],
      "text/plain": [
       "                                                              49299   \\\n",
       "userId                                                         26538   \n",
       "itemId                                                    0590010891   \n",
       "rating                                                            10   \n",
       "num_ratings_per_user_gt_20                                      True   \n",
       "num_ratings_per_item_gt_200                                    False   \n",
       "flag_clean_considered                                          False   \n",
       "Location                                       rawlins, wyoming, usa   \n",
       "Age                                                               32   \n",
       "Book-Title                   Star Wars Episode I: The Phantom Menace   \n",
       "Book-Author                                        Patricia C. Wrede   \n",
       "Year-Of-Publication                                             1999   \n",
       "Publisher                                                 Scholastic   \n",
       "random_dstype                                                  train   \n",
       "user_idx                                                           1   \n",
       "item_idx                                                           1   \n",
       "dstype_random_train                                                1   \n",
       "dstype_random_valid                                                0   \n",
       "location_idx                                                       1   \n",
       "age_idx                                                            1   \n",
       "title_idx                                                          1   \n",
       "author_idx                                                         1   \n",
       "publisher_idx                                                      1   \n",
       "\n",
       "                                                                        339650  \\\n",
       "userId                                                                  213826   \n",
       "itemId                                                              1562764047   \n",
       "rating                                                                       7   \n",
       "num_ratings_per_user_gt_20                                               False   \n",
       "num_ratings_per_item_gt_200                                              False   \n",
       "flag_clean_considered                                                    False   \n",
       "Location                                        university city, missouri, usa   \n",
       "Age                                                                         40   \n",
       "Book-Title                   How the Internet Works (How It Works Series (E...   \n",
       "Book-Author                                                     Preston Gralla   \n",
       "Year-Of-Publication                                                       1996   \n",
       "Publisher                                               Macmillan Computer Pub   \n",
       "random_dstype                                                            train   \n",
       "user_idx                                                                     2   \n",
       "item_idx                                                                     2   \n",
       "dstype_random_train                                                          1   \n",
       "dstype_random_valid                                                          0   \n",
       "location_idx                                                                 2   \n",
       "age_idx                                                                      2   \n",
       "title_idx                                                                    2   \n",
       "author_idx                                                                   2   \n",
       "publisher_idx                                                                2   \n",
       "\n",
       "                                                                        358933  \\\n",
       "userId                                                                  227054   \n",
       "itemId                                                              0553284789   \n",
       "rating                                                                       7   \n",
       "num_ratings_per_user_gt_20                                               False   \n",
       "num_ratings_per_item_gt_200                                              False   \n",
       "flag_clean_considered                                                    False   \n",
       "Location                                                     nampa, idaho, usa   \n",
       "Age                                                                         27   \n",
       "Book-Title                   F Is for Fugitive (Kinsey Millhone Mysteries (...   \n",
       "Book-Author                                                        Sue Grafton   \n",
       "Year-Of-Publication                                                       1990   \n",
       "Publisher                                                               Bantam   \n",
       "random_dstype                                                            train   \n",
       "user_idx                                                                     3   \n",
       "item_idx                                                                     3   \n",
       "dstype_random_train                                                          1   \n",
       "dstype_random_valid                                                          0   \n",
       "location_idx                                                                 3   \n",
       "age_idx                                                                      3   \n",
       "title_idx                                                                    3   \n",
       "author_idx                                                                   3   \n",
       "publisher_idx                                                                3   \n",
       "\n",
       "                                                      393023  \\\n",
       "userId                                                248656   \n",
       "itemId                                            0380977788   \n",
       "rating                                                    10   \n",
       "num_ratings_per_user_gt_20                              True   \n",
       "num_ratings_per_item_gt_200                            False   \n",
       "flag_clean_considered                                  False   \n",
       "Location                     altamonte springs, florida, usa   \n",
       "Age                                                       34   \n",
       "Book-Title                                          Coraline   \n",
       "Book-Author                                      Neil Gaiman   \n",
       "Year-Of-Publication                                     2002   \n",
       "Publisher                                      HarperCollins   \n",
       "random_dstype                                          train   \n",
       "user_idx                                                   4   \n",
       "item_idx                                                   4   \n",
       "dstype_random_train                                        1   \n",
       "dstype_random_valid                                        0   \n",
       "location_idx                                               4   \n",
       "age_idx                                                    4   \n",
       "title_idx                                                  4   \n",
       "author_idx                                                 4   \n",
       "publisher_idx                                              4   \n",
       "\n",
       "                                                 347702  \n",
       "userId                                           220091  \n",
       "itemId                                       0425172996  \n",
       "rating                                                8  \n",
       "num_ratings_per_user_gt_20                         True  \n",
       "num_ratings_per_item_gt_200                       False  \n",
       "flag_clean_considered                             False  \n",
       "Location                     san diego, california, usa  \n",
       "Age                                                 NaN  \n",
       "Book-Title                                       Vector  \n",
       "Book-Author                                  Robin Cook  \n",
       "Year-Of-Publication                                2000  \n",
       "Publisher                      Berkley Publishing Group  \n",
       "random_dstype                                     train  \n",
       "user_idx                                              5  \n",
       "item_idx                                              5  \n",
       "dstype_random_train                                   1  \n",
       "dstype_random_valid                                   0  \n",
       "location_idx                                          5  \n",
       "age_idx                                               0  \n",
       "title_idx                                             5  \n",
       "author_idx                                            5  \n",
       "publisher_idx                                         5  "
      ]
     },
     "execution_count": 7,
     "metadata": {},
     "output_type": "execute_result"
    }
   ],
   "source": [
    "df_train.head().T"
   ]
  },
  {
   "cell_type": "code",
   "execution_count": 8,
   "metadata": {},
   "outputs": [
    {
     "data": {
      "text/plain": [
       "((390303, 22), (43368, 22))"
      ]
     },
     "execution_count": 8,
     "metadata": {},
     "output_type": "execute_result"
    }
   ],
   "source": [
    "df_train.shape,df_valid.shape"
   ]
  },
  {
   "cell_type": "markdown",
   "metadata": {},
   "source": [
    "### Add the autoencoder features"
   ]
  },
  {
   "cell_type": "code",
   "execution_count": 9,
   "metadata": {},
   "outputs": [],
   "source": [
    "import pickle"
   ]
  },
  {
   "cell_type": "code",
   "execution_count": 10,
   "metadata": {},
   "outputs": [],
   "source": [
    "[df_train_user_autoenc,df_valid_user_autoenc,user_mtx_1_weights,user_mtx_2_weights]=\\\n",
    "    pickle.load(open(f'{DATAPATH}/inter/user_autoenc_weights.pkl','rb'))"
   ]
  },
  {
   "cell_type": "code",
   "execution_count": 11,
   "metadata": {},
   "outputs": [],
   "source": [
    "[df_train_item_autoenc, df_valid_item_autoenc,item_mtx_1_weights,item_mtx_2_weights]=\\\n",
    "    pickle.load(open(f'{DATAPATH}/inter/item_autoenc_weights.pkl','rb'))"
   ]
  },
  {
   "cell_type": "code",
   "execution_count": 12,
   "metadata": {},
   "outputs": [
    {
     "data": {
      "text/plain": [
       "((77806, 11),\n",
       " pandas.core.frame.DataFrame,\n",
       "    user_idx  user_autoenc0  user_autoenc1  user_autoenc2  user_autoenc3  \\\n",
       " 0         0      -1.892300       1.902252      -1.564169      -1.901883   \n",
       " 1         1      -1.686263       1.694752      -1.398009      -1.695426   \n",
       " 2         2      -1.989719       2.000360      -1.642692      -1.999496   \n",
       " 3         3      -1.736229       1.745061      -1.438396      -1.745506   \n",
       " 4         4      -1.773188       1.782292      -1.468106      -1.782527   \n",
       " \n",
       "    user_autoenc4  user_autoenc5  user_autoenc6  user_autoenc7  user_autoenc8  \\\n",
       " 0       1.871288      -1.915076      -1.498631      -1.815667       1.510823   \n",
       " 1       1.667029      -1.706558      -1.339383      -1.617516       1.350429   \n",
       " 2       1.967867      -2.013657      -1.573877      -1.909373       1.586619   \n",
       " 3       1.716551      -1.757121      -1.378085      -1.665560       1.389419   \n",
       " 4       1.753202      -1.794527      -1.406562      -1.701115       1.418095   \n",
       " \n",
       "    user_autoenc9  \n",
       " 0      -1.943609  \n",
       " 1      -1.732796  \n",
       " 2      -2.043264  \n",
       " 3      -1.783935  \n",
       " 4      -1.821732  )"
      ]
     },
     "execution_count": 12,
     "metadata": {},
     "output_type": "execute_result"
    }
   ],
   "source": [
    "df_train_user_autoenc.shape, type(df_train_user_autoenc),df_train_user_autoenc.head()"
   ]
  },
  {
   "cell_type": "code",
   "execution_count": 13,
   "metadata": {},
   "outputs": [
    {
     "data": {
      "text/plain": [
       "((77806, 11),\n",
       " pandas.core.frame.DataFrame,\n",
       "    user_idx  user_autoenc0  user_autoenc1  user_autoenc2  user_autoenc3  \\\n",
       " 0         0      -1.686263       1.694752      -1.398009      -1.695426   \n",
       " 1         1      -1.686263       1.694752      -1.398009      -1.695426   \n",
       " 2         2      -1.686277       1.694766      -1.398021      -1.695440   \n",
       " 3         3      -1.686269       1.694758      -1.398014      -1.695432   \n",
       " 4         4      -1.686263       1.694752      -1.398009      -1.695426   \n",
       " \n",
       "    user_autoenc4  user_autoenc5  user_autoenc6  user_autoenc7  user_autoenc8  \\\n",
       " 0       1.667029      -1.706558      -1.339383      -1.617516       1.350429   \n",
       " 1       1.667029      -1.706558      -1.339383      -1.617516       1.350429   \n",
       " 2       1.667043      -1.706572      -1.339395      -1.617529       1.350440   \n",
       " 3       1.667034      -1.706564      -1.339388      -1.617521       1.350434   \n",
       " 4       1.667029      -1.706558      -1.339383      -1.617516       1.350429   \n",
       " \n",
       "    user_autoenc9  \n",
       " 0      -1.732796  \n",
       " 1      -1.732796  \n",
       " 2      -1.732811  \n",
       " 3      -1.732802  \n",
       " 4      -1.732796  )"
      ]
     },
     "execution_count": 13,
     "metadata": {},
     "output_type": "execute_result"
    }
   ],
   "source": [
    "df_valid_user_autoenc.shape, type(df_valid_user_autoenc),df_valid_user_autoenc.head()"
   ]
  },
  {
   "cell_type": "code",
   "execution_count": 14,
   "metadata": {},
   "outputs": [
    {
     "data": {
      "text/plain": [
       "((185974, 26),\n",
       " pandas.core.frame.DataFrame,\n",
       "    item_idx  item_autoenc0  item_autoenc1  item_autoenc2  item_autoenc3  \\\n",
       " 0         0       1.579132       1.517978       1.578589      -1.540997   \n",
       " 1         1       1.569089       1.508334       1.568551      -1.531216   \n",
       " 2         2       1.585941       1.524516       1.585391      -1.547614   \n",
       " 3         3       1.584902       1.523516       1.584351      -1.546593   \n",
       " 4         4       1.574386       1.513422       1.573842      -1.536364   \n",
       " \n",
       "    item_autoenc4  item_autoenc5  item_autoenc6  item_autoenc7  item_autoenc8  \\\n",
       " 0       1.538934      -1.536199      -1.519847      -1.565494      -1.585846   \n",
       " 1       1.529148      -1.526430      -1.510185      -1.555542      -1.575764   \n",
       " 2       1.545570      -1.542825      -1.526399      -1.572234      -1.592677   \n",
       " 3       1.544561      -1.541814      -1.525400      -1.571202      -1.591634   \n",
       " 4       1.534310      -1.531584      -1.515284      -1.560782      -1.581078   \n",
       " \n",
       "    ...  item_autoenc15  item_autoenc16  item_autoenc17  item_autoenc18  \\\n",
       " 0  ...        1.543547       -1.536552        1.565131       -1.588676   \n",
       " 1  ...        1.533724       -1.526794        1.555178       -1.578577   \n",
       " 2  ...        1.550212       -1.543148        1.571881       -1.595518   \n",
       " 3  ...        1.549199       -1.542131        1.570850       -1.594473   \n",
       " 4  ...        1.538910       -1.531927        1.560429       -1.583899   \n",
       " \n",
       "    item_autoenc19  item_autoenc20  item_autoenc21  item_autoenc22  \\\n",
       " 0        1.430281        1.493781       -1.519735       -1.587672   \n",
       " 1        1.421204        1.484275       -1.510066       -1.577579   \n",
       " 2        1.436406        1.500238       -1.526294       -1.594510   \n",
       " 3        1.435454        1.499260       -1.525299       -1.593467   \n",
       " 4        1.425974        1.489298       -1.515168       -1.582898   \n",
       " \n",
       "    item_autoenc23  item_autoenc24  \n",
       " 0       -1.460990        1.558221  \n",
       " 1       -1.451687        1.548311  \n",
       " 2       -1.467309        1.564942  \n",
       " 3       -1.466349        1.563919  \n",
       " 4       -1.456599        1.553540  \n",
       " \n",
       " [5 rows x 26 columns])"
      ]
     },
     "execution_count": 14,
     "metadata": {},
     "output_type": "execute_result"
    }
   ],
   "source": [
    "df_train_item_autoenc.shape, type(df_train_item_autoenc),df_train_item_autoenc.head()"
   ]
  },
  {
   "cell_type": "code",
   "execution_count": 15,
   "metadata": {},
   "outputs": [
    {
     "data": {
      "text/plain": [
       "((185974, 26),\n",
       " pandas.core.frame.DataFrame,\n",
       "    item_idx  item_autoenc0  item_autoenc1  item_autoenc2  item_autoenc3  \\\n",
       " 0         0       1.569107       1.508351       1.568569      -1.531233   \n",
       " 1         1       1.569089       1.508334       1.568551      -1.531216   \n",
       " 2         2       1.569945       1.509156       1.569407      -1.532050   \n",
       " 3         3       1.570643       1.509825       1.570102      -1.532723   \n",
       " 4         4       1.569108       1.508352       1.568570      -1.531234   \n",
       " \n",
       "    item_autoenc4  item_autoenc5  item_autoenc6  item_autoenc7  item_autoenc8  \\\n",
       " 0       1.529166      -1.526447      -1.510202      -1.555560      -1.575782   \n",
       " 1       1.529148      -1.526430      -1.510185      -1.555542      -1.575764   \n",
       " 2       1.529982      -1.527262      -1.511008      -1.556391      -1.576623   \n",
       " 3       1.530662      -1.527941      -1.511679      -1.557078      -1.577322   \n",
       " 4       1.529166      -1.526448      -1.510203      -1.555561      -1.575783   \n",
       " \n",
       "    ...  item_autoenc15  item_autoenc16  item_autoenc17  item_autoenc18  \\\n",
       " 0  ...        1.533742       -1.526812        1.555196       -1.578595   \n",
       " 1  ...        1.533724       -1.526794        1.555178       -1.578577   \n",
       " 2  ...        1.534562       -1.527626        1.556027       -1.579438   \n",
       " 3  ...        1.535246       -1.528297        1.556718       -1.580137   \n",
       " 4  ...        1.533742       -1.526812        1.555196       -1.578595   \n",
       " \n",
       "    item_autoenc19  item_autoenc20  item_autoenc21  item_autoenc22  \\\n",
       " 0        1.421221        1.484292       -1.510084       -1.577597   \n",
       " 1        1.421204        1.484275       -1.510066       -1.577579   \n",
       " 2        1.421978        1.485085       -1.510890       -1.578439   \n",
       " 3        1.422599        1.485749       -1.511563       -1.579138   \n",
       " 4        1.421221        1.484292       -1.510084       -1.577597   \n",
       " \n",
       "    item_autoenc23  item_autoenc24  \n",
       " 0       -1.451704        1.548329  \n",
       " 1       -1.451687        1.548311  \n",
       " 2       -1.452481        1.549156  \n",
       " 3       -1.453129        1.549845  \n",
       " 4       -1.451705        1.548330  \n",
       " \n",
       " [5 rows x 26 columns])"
      ]
     },
     "execution_count": 15,
     "metadata": {},
     "output_type": "execute_result"
    }
   ],
   "source": [
    "df_valid_item_autoenc.shape, type(df_valid_item_autoenc),df_valid_item_autoenc.head()"
   ]
  },
  {
   "cell_type": "code",
   "execution_count": 16,
   "metadata": {},
   "outputs": [
    {
     "data": {
      "text/plain": [
       "user_idx         False\n",
       "user_autoenc0    False\n",
       "user_autoenc1    False\n",
       "user_autoenc2    False\n",
       "user_autoenc3    False\n",
       "user_autoenc4    False\n",
       "user_autoenc5    False\n",
       "user_autoenc6    False\n",
       "user_autoenc7    False\n",
       "user_autoenc8    False\n",
       "user_autoenc9    False\n",
       "dtype: bool"
      ]
     },
     "execution_count": 16,
     "metadata": {},
     "output_type": "execute_result"
    }
   ],
   "source": [
    "df_valid_user_autoenc.isnull().any()"
   ]
  },
  {
   "cell_type": "code",
   "execution_count": 17,
   "metadata": {},
   "outputs": [
    {
     "data": {
      "text/plain": [
       "userId                             0\n",
       "itemId                             0\n",
       "rating                             0\n",
       "num_ratings_per_user_gt_20         0\n",
       "num_ratings_per_item_gt_200        0\n",
       "flag_clean_considered              0\n",
       "Location                           0\n",
       "Age                            12852\n",
       "Book-Title                      5028\n",
       "Book-Author                     5028\n",
       "Year-Of-Publication             5028\n",
       "Publisher                       5028\n",
       "random_dstype                      0\n",
       "user_idx                           0\n",
       "item_idx                           0\n",
       "dstype_random_train                0\n",
       "dstype_random_valid                0\n",
       "location_idx                       0\n",
       "age_idx                            0\n",
       "title_idx                          0\n",
       "author_idx                         0\n",
       "publisher_idx                      0\n",
       "dtype: int64"
      ]
     },
     "execution_count": 17,
     "metadata": {},
     "output_type": "execute_result"
    }
   ],
   "source": [
    "df_valid.isnull().sum()"
   ]
  },
  {
   "cell_type": "code",
   "execution_count": 18,
   "metadata": {},
   "outputs": [
    {
     "data": {
      "text/plain": [
       "userId                              0\n",
       "itemId                              0\n",
       "rating                              0\n",
       "num_ratings_per_user_gt_20          0\n",
       "num_ratings_per_item_gt_200         0\n",
       "flag_clean_considered               0\n",
       "Location                            0\n",
       "Age                            115542\n",
       "Book-Title                      44801\n",
       "Book-Author                     44802\n",
       "Year-Of-Publication             44801\n",
       "Publisher                       44803\n",
       "random_dstype                       0\n",
       "user_idx                            0\n",
       "item_idx                            0\n",
       "dstype_random_train                 0\n",
       "dstype_random_valid                 0\n",
       "location_idx                        0\n",
       "age_idx                             0\n",
       "title_idx                           0\n",
       "author_idx                          0\n",
       "publisher_idx                       0\n",
       "dtype: int64"
      ]
     },
     "execution_count": 18,
     "metadata": {},
     "output_type": "execute_result"
    }
   ],
   "source": [
    "df_train.isnull().sum()"
   ]
  },
  {
   "cell_type": "code",
   "execution_count": 19,
   "metadata": {},
   "outputs": [
    {
     "data": {
      "text/plain": [
       "((390303, 22), (43368, 22))"
      ]
     },
     "execution_count": 19,
     "metadata": {},
     "output_type": "execute_result"
    }
   ],
   "source": [
    "df_train.shape, df_valid.shape"
   ]
  },
  {
   "cell_type": "code",
   "execution_count": 20,
   "metadata": {},
   "outputs": [
    {
     "data": {
      "text/plain": [
       "userId                           int64\n",
       "itemId                          object\n",
       "rating                           int64\n",
       "num_ratings_per_user_gt_20        bool\n",
       "num_ratings_per_item_gt_200       bool\n",
       "flag_clean_considered             bool\n",
       "Location                        object\n",
       "Age                            float64\n",
       "Book-Title                      object\n",
       "Book-Author                     object\n",
       "Year-Of-Publication             object\n",
       "Publisher                       object\n",
       "random_dstype                   object\n",
       "user_idx                         int64\n",
       "item_idx                         int64\n",
       "dstype_random_train              int64\n",
       "dstype_random_valid              int64\n",
       "location_idx                     int64\n",
       "age_idx                          int64\n",
       "title_idx                        int64\n",
       "author_idx                       int64\n",
       "publisher_idx                    int64\n",
       "dtype: object"
      ]
     },
     "execution_count": 20,
     "metadata": {},
     "output_type": "execute_result"
    }
   ],
   "source": [
    "df_train.dtypes"
   ]
  },
  {
   "cell_type": "code",
   "execution_count": 21,
   "metadata": {},
   "outputs": [
    {
     "data": {
      "text/html": [
       "<div>\n",
       "<style scoped>\n",
       "    .dataframe tbody tr th:only-of-type {\n",
       "        vertical-align: middle;\n",
       "    }\n",
       "\n",
       "    .dataframe tbody tr th {\n",
       "        vertical-align: top;\n",
       "    }\n",
       "\n",
       "    .dataframe thead th {\n",
       "        text-align: right;\n",
       "    }\n",
       "</style>\n",
       "<table border=\"1\" class=\"dataframe\">\n",
       "  <thead>\n",
       "    <tr style=\"text-align: right;\">\n",
       "      <th></th>\n",
       "      <th>userId</th>\n",
       "      <th>itemId</th>\n",
       "      <th>rating</th>\n",
       "      <th>num_ratings_per_user_gt_20</th>\n",
       "      <th>num_ratings_per_item_gt_200</th>\n",
       "      <th>flag_clean_considered</th>\n",
       "      <th>Location</th>\n",
       "      <th>Age</th>\n",
       "      <th>Book-Title</th>\n",
       "      <th>Book-Author</th>\n",
       "      <th>...</th>\n",
       "      <th>random_dstype</th>\n",
       "      <th>user_idx</th>\n",
       "      <th>item_idx</th>\n",
       "      <th>dstype_random_train</th>\n",
       "      <th>dstype_random_valid</th>\n",
       "      <th>location_idx</th>\n",
       "      <th>age_idx</th>\n",
       "      <th>title_idx</th>\n",
       "      <th>author_idx</th>\n",
       "      <th>publisher_idx</th>\n",
       "    </tr>\n",
       "  </thead>\n",
       "  <tbody>\n",
       "    <tr>\n",
       "      <th>49299</th>\n",
       "      <td>26538</td>\n",
       "      <td>0590010891</td>\n",
       "      <td>10</td>\n",
       "      <td>True</td>\n",
       "      <td>False</td>\n",
       "      <td>False</td>\n",
       "      <td>rawlins, wyoming, usa</td>\n",
       "      <td>32.0</td>\n",
       "      <td>Star Wars Episode I: The Phantom Menace</td>\n",
       "      <td>Patricia C. Wrede</td>\n",
       "      <td>...</td>\n",
       "      <td>train</td>\n",
       "      <td>1</td>\n",
       "      <td>1</td>\n",
       "      <td>1</td>\n",
       "      <td>0</td>\n",
       "      <td>1</td>\n",
       "      <td>1</td>\n",
       "      <td>1</td>\n",
       "      <td>1</td>\n",
       "      <td>1</td>\n",
       "    </tr>\n",
       "    <tr>\n",
       "      <th>339650</th>\n",
       "      <td>213826</td>\n",
       "      <td>1562764047</td>\n",
       "      <td>7</td>\n",
       "      <td>False</td>\n",
       "      <td>False</td>\n",
       "      <td>False</td>\n",
       "      <td>university city, missouri, usa</td>\n",
       "      <td>40.0</td>\n",
       "      <td>How the Internet Works (How It Works Series (E...</td>\n",
       "      <td>Preston Gralla</td>\n",
       "      <td>...</td>\n",
       "      <td>train</td>\n",
       "      <td>2</td>\n",
       "      <td>2</td>\n",
       "      <td>1</td>\n",
       "      <td>0</td>\n",
       "      <td>2</td>\n",
       "      <td>2</td>\n",
       "      <td>2</td>\n",
       "      <td>2</td>\n",
       "      <td>2</td>\n",
       "    </tr>\n",
       "    <tr>\n",
       "      <th>358933</th>\n",
       "      <td>227054</td>\n",
       "      <td>0553284789</td>\n",
       "      <td>7</td>\n",
       "      <td>False</td>\n",
       "      <td>False</td>\n",
       "      <td>False</td>\n",
       "      <td>nampa, idaho, usa</td>\n",
       "      <td>27.0</td>\n",
       "      <td>F Is for Fugitive (Kinsey Millhone Mysteries (...</td>\n",
       "      <td>Sue Grafton</td>\n",
       "      <td>...</td>\n",
       "      <td>train</td>\n",
       "      <td>3</td>\n",
       "      <td>3</td>\n",
       "      <td>1</td>\n",
       "      <td>0</td>\n",
       "      <td>3</td>\n",
       "      <td>3</td>\n",
       "      <td>3</td>\n",
       "      <td>3</td>\n",
       "      <td>3</td>\n",
       "    </tr>\n",
       "    <tr>\n",
       "      <th>393023</th>\n",
       "      <td>248656</td>\n",
       "      <td>0380977788</td>\n",
       "      <td>10</td>\n",
       "      <td>True</td>\n",
       "      <td>False</td>\n",
       "      <td>False</td>\n",
       "      <td>altamonte springs, florida, usa</td>\n",
       "      <td>34.0</td>\n",
       "      <td>Coraline</td>\n",
       "      <td>Neil Gaiman</td>\n",
       "      <td>...</td>\n",
       "      <td>train</td>\n",
       "      <td>4</td>\n",
       "      <td>4</td>\n",
       "      <td>1</td>\n",
       "      <td>0</td>\n",
       "      <td>4</td>\n",
       "      <td>4</td>\n",
       "      <td>4</td>\n",
       "      <td>4</td>\n",
       "      <td>4</td>\n",
       "    </tr>\n",
       "    <tr>\n",
       "      <th>347702</th>\n",
       "      <td>220091</td>\n",
       "      <td>0425172996</td>\n",
       "      <td>8</td>\n",
       "      <td>True</td>\n",
       "      <td>False</td>\n",
       "      <td>False</td>\n",
       "      <td>san diego, california, usa</td>\n",
       "      <td>NaN</td>\n",
       "      <td>Vector</td>\n",
       "      <td>Robin Cook</td>\n",
       "      <td>...</td>\n",
       "      <td>train</td>\n",
       "      <td>5</td>\n",
       "      <td>5</td>\n",
       "      <td>1</td>\n",
       "      <td>0</td>\n",
       "      <td>5</td>\n",
       "      <td>0</td>\n",
       "      <td>5</td>\n",
       "      <td>5</td>\n",
       "      <td>5</td>\n",
       "    </tr>\n",
       "  </tbody>\n",
       "</table>\n",
       "<p>5 rows × 22 columns</p>\n",
       "</div>"
      ],
      "text/plain": [
       "        userId      itemId  rating  num_ratings_per_user_gt_20  \\\n",
       "49299    26538  0590010891      10                        True   \n",
       "339650  213826  1562764047       7                       False   \n",
       "358933  227054  0553284789       7                       False   \n",
       "393023  248656  0380977788      10                        True   \n",
       "347702  220091  0425172996       8                        True   \n",
       "\n",
       "        num_ratings_per_item_gt_200  flag_clean_considered  \\\n",
       "49299                         False                  False   \n",
       "339650                        False                  False   \n",
       "358933                        False                  False   \n",
       "393023                        False                  False   \n",
       "347702                        False                  False   \n",
       "\n",
       "                               Location   Age  \\\n",
       "49299             rawlins, wyoming, usa  32.0   \n",
       "339650   university city, missouri, usa  40.0   \n",
       "358933                nampa, idaho, usa  27.0   \n",
       "393023  altamonte springs, florida, usa  34.0   \n",
       "347702       san diego, california, usa   NaN   \n",
       "\n",
       "                                               Book-Title        Book-Author  \\\n",
       "49299             Star Wars Episode I: The Phantom Menace  Patricia C. Wrede   \n",
       "339650  How the Internet Works (How It Works Series (E...     Preston Gralla   \n",
       "358933  F Is for Fugitive (Kinsey Millhone Mysteries (...        Sue Grafton   \n",
       "393023                                           Coraline        Neil Gaiman   \n",
       "347702                                             Vector         Robin Cook   \n",
       "\n",
       "        ... random_dstype user_idx item_idx  dstype_random_train  \\\n",
       "49299   ...         train        1        1                    1   \n",
       "339650  ...         train        2        2                    1   \n",
       "358933  ...         train        3        3                    1   \n",
       "393023  ...         train        4        4                    1   \n",
       "347702  ...         train        5        5                    1   \n",
       "\n",
       "        dstype_random_valid  location_idx  age_idx  title_idx  author_idx  \\\n",
       "49299                     0             1        1          1           1   \n",
       "339650                    0             2        2          2           2   \n",
       "358933                    0             3        3          3           3   \n",
       "393023                    0             4        4          4           4   \n",
       "347702                    0             5        0          5           5   \n",
       "\n",
       "        publisher_idx  \n",
       "49299               1  \n",
       "339650              2  \n",
       "358933              3  \n",
       "393023              4  \n",
       "347702              5  \n",
       "\n",
       "[5 rows x 22 columns]"
      ]
     },
     "execution_count": 21,
     "metadata": {},
     "output_type": "execute_result"
    }
   ],
   "source": [
    "df_train.head()"
   ]
  },
  {
   "cell_type": "code",
   "execution_count": 22,
   "metadata": {},
   "outputs": [],
   "source": [
    "df_train=pd.merge(df_train,df_train_item_autoenc,on='item_idx',how='left')"
   ]
  },
  {
   "cell_type": "code",
   "execution_count": 23,
   "metadata": {},
   "outputs": [
    {
     "data": {
      "text/plain": [
       "(390303, 47)"
      ]
     },
     "execution_count": 23,
     "metadata": {},
     "output_type": "execute_result"
    }
   ],
   "source": [
    "df_train.shape"
   ]
  },
  {
   "cell_type": "code",
   "execution_count": 24,
   "metadata": {},
   "outputs": [
    {
     "name": "stdout",
     "output_type": "stream",
     "text": [
      "(43368, 22)\n"
     ]
    },
    {
     "data": {
      "text/plain": [
       "(43368, 47)"
      ]
     },
     "execution_count": 24,
     "metadata": {},
     "output_type": "execute_result"
    }
   ],
   "source": [
    "print(df_valid.shape)\n",
    "df_valid=pd.merge(df_valid,df_valid_item_autoenc,on='item_idx',how='left')\n",
    "df_valid.shape"
   ]
  },
  {
   "cell_type": "code",
   "execution_count": 25,
   "metadata": {},
   "outputs": [
    {
     "data": {
      "text/plain": [
       "(43368, 47)"
      ]
     },
     "execution_count": 25,
     "metadata": {},
     "output_type": "execute_result"
    }
   ],
   "source": [
    "df_valid.shape"
   ]
  },
  {
   "cell_type": "code",
   "execution_count": 26,
   "metadata": {},
   "outputs": [
    {
     "name": "stdout",
     "output_type": "stream",
     "text": [
      "(43368, 47)\n"
     ]
    },
    {
     "data": {
      "text/plain": [
       "(43368, 57)"
      ]
     },
     "execution_count": 26,
     "metadata": {},
     "output_type": "execute_result"
    }
   ],
   "source": [
    "print(df_valid.shape)\n",
    "df_valid=pd.merge(df_valid,df_valid_user_autoenc,on='user_idx',how='left')\n",
    "df_valid.shape"
   ]
  },
  {
   "cell_type": "code",
   "execution_count": 27,
   "metadata": {},
   "outputs": [
    {
     "name": "stdout",
     "output_type": "stream",
     "text": [
      "(390303, 47)\n"
     ]
    },
    {
     "data": {
      "text/plain": [
       "(390303, 57)"
      ]
     },
     "execution_count": 27,
     "metadata": {},
     "output_type": "execute_result"
    }
   ],
   "source": [
    "print(df_train.shape)\n",
    "df_train=pd.merge(df_train,df_train_user_autoenc,on='user_idx',how='left')\n",
    "df_train.shape"
   ]
  },
  {
   "cell_type": "code",
   "execution_count": 28,
   "metadata": {},
   "outputs": [
    {
     "data": {
      "text/plain": [
       "Index(['userId', 'itemId', 'rating', 'num_ratings_per_user_gt_20',\n",
       "       'num_ratings_per_item_gt_200', 'flag_clean_considered', 'Location',\n",
       "       'Age', 'Book-Title', 'Book-Author', 'Year-Of-Publication', 'Publisher',\n",
       "       'random_dstype', 'user_idx', 'item_idx', 'dstype_random_train',\n",
       "       'dstype_random_valid', 'location_idx', 'age_idx', 'title_idx',\n",
       "       'author_idx', 'publisher_idx', 'item_autoenc0', 'item_autoenc1',\n",
       "       'item_autoenc2', 'item_autoenc3', 'item_autoenc4', 'item_autoenc5',\n",
       "       'item_autoenc6', 'item_autoenc7', 'item_autoenc8', 'item_autoenc9',\n",
       "       'item_autoenc10', 'item_autoenc11', 'item_autoenc12', 'item_autoenc13',\n",
       "       'item_autoenc14', 'item_autoenc15', 'item_autoenc16', 'item_autoenc17',\n",
       "       'item_autoenc18', 'item_autoenc19', 'item_autoenc20', 'item_autoenc21',\n",
       "       'item_autoenc22', 'item_autoenc23', 'item_autoenc24', 'user_autoenc0',\n",
       "       'user_autoenc1', 'user_autoenc2', 'user_autoenc3', 'user_autoenc4',\n",
       "       'user_autoenc5', 'user_autoenc6', 'user_autoenc7', 'user_autoenc8',\n",
       "       'user_autoenc9'],\n",
       "      dtype='object')"
      ]
     },
     "execution_count": 28,
     "metadata": {},
     "output_type": "execute_result"
    }
   ],
   "source": [
    "df_train.columns"
   ]
  },
  {
   "cell_type": "code",
   "execution_count": 29,
   "metadata": {},
   "outputs": [],
   "source": [
    "autoenc_cols=df_train.columns[df_train.columns.str.contains('autoenc')]"
   ]
  },
  {
   "cell_type": "code",
   "execution_count": 30,
   "metadata": {},
   "outputs": [],
   "source": [
    "autoenc_cols=autoenc_cols.tolist()"
   ]
  },
  {
   "cell_type": "code",
   "execution_count": 31,
   "metadata": {},
   "outputs": [
    {
     "data": {
      "text/plain": [
       "['item_autoenc0',\n",
       " 'item_autoenc1',\n",
       " 'item_autoenc2',\n",
       " 'item_autoenc3',\n",
       " 'item_autoenc4',\n",
       " 'item_autoenc5',\n",
       " 'item_autoenc6',\n",
       " 'item_autoenc7',\n",
       " 'item_autoenc8',\n",
       " 'item_autoenc9',\n",
       " 'item_autoenc10',\n",
       " 'item_autoenc11',\n",
       " 'item_autoenc12',\n",
       " 'item_autoenc13',\n",
       " 'item_autoenc14',\n",
       " 'item_autoenc15',\n",
       " 'item_autoenc16',\n",
       " 'item_autoenc17',\n",
       " 'item_autoenc18',\n",
       " 'item_autoenc19',\n",
       " 'item_autoenc20',\n",
       " 'item_autoenc21',\n",
       " 'item_autoenc22',\n",
       " 'item_autoenc23',\n",
       " 'item_autoenc24',\n",
       " 'user_autoenc0',\n",
       " 'user_autoenc1',\n",
       " 'user_autoenc2',\n",
       " 'user_autoenc3',\n",
       " 'user_autoenc4',\n",
       " 'user_autoenc5',\n",
       " 'user_autoenc6',\n",
       " 'user_autoenc7',\n",
       " 'user_autoenc8',\n",
       " 'user_autoenc9']"
      ]
     },
     "execution_count": 31,
     "metadata": {},
     "output_type": "execute_result"
    }
   ],
   "source": [
    "autoenc_cols"
   ]
  },
  {
   "cell_type": "code",
   "execution_count": 32,
   "metadata": {},
   "outputs": [
    {
     "data": {
      "text/html": [
       "<div>\n",
       "<style scoped>\n",
       "    .dataframe tbody tr th:only-of-type {\n",
       "        vertical-align: middle;\n",
       "    }\n",
       "\n",
       "    .dataframe tbody tr th {\n",
       "        vertical-align: top;\n",
       "    }\n",
       "\n",
       "    .dataframe thead th {\n",
       "        text-align: right;\n",
       "    }\n",
       "</style>\n",
       "<table border=\"1\" class=\"dataframe\">\n",
       "  <thead>\n",
       "    <tr style=\"text-align: right;\">\n",
       "      <th></th>\n",
       "      <th>userId</th>\n",
       "      <th>itemId</th>\n",
       "      <th>rating</th>\n",
       "      <th>num_ratings_per_user_gt_20</th>\n",
       "      <th>num_ratings_per_item_gt_200</th>\n",
       "      <th>flag_clean_considered</th>\n",
       "      <th>Location</th>\n",
       "      <th>Age</th>\n",
       "      <th>Book-Title</th>\n",
       "      <th>Book-Author</th>\n",
       "      <th>...</th>\n",
       "      <th>user_autoenc0</th>\n",
       "      <th>user_autoenc1</th>\n",
       "      <th>user_autoenc2</th>\n",
       "      <th>user_autoenc3</th>\n",
       "      <th>user_autoenc4</th>\n",
       "      <th>user_autoenc5</th>\n",
       "      <th>user_autoenc6</th>\n",
       "      <th>user_autoenc7</th>\n",
       "      <th>user_autoenc8</th>\n",
       "      <th>user_autoenc9</th>\n",
       "    </tr>\n",
       "  </thead>\n",
       "  <tbody>\n",
       "    <tr>\n",
       "      <th>0</th>\n",
       "      <td>26538</td>\n",
       "      <td>0590010891</td>\n",
       "      <td>10</td>\n",
       "      <td>True</td>\n",
       "      <td>False</td>\n",
       "      <td>False</td>\n",
       "      <td>rawlins, wyoming, usa</td>\n",
       "      <td>32.0</td>\n",
       "      <td>Star Wars Episode I: The Phantom Menace</td>\n",
       "      <td>Patricia C. Wrede</td>\n",
       "      <td>...</td>\n",
       "      <td>-1.686263</td>\n",
       "      <td>1.694752</td>\n",
       "      <td>-1.398009</td>\n",
       "      <td>-1.695426</td>\n",
       "      <td>1.667029</td>\n",
       "      <td>-1.706558</td>\n",
       "      <td>-1.339383</td>\n",
       "      <td>-1.617516</td>\n",
       "      <td>1.350429</td>\n",
       "      <td>-1.732796</td>\n",
       "    </tr>\n",
       "    <tr>\n",
       "      <th>1</th>\n",
       "      <td>213826</td>\n",
       "      <td>1562764047</td>\n",
       "      <td>7</td>\n",
       "      <td>False</td>\n",
       "      <td>False</td>\n",
       "      <td>False</td>\n",
       "      <td>university city, missouri, usa</td>\n",
       "      <td>40.0</td>\n",
       "      <td>How the Internet Works (How It Works Series (E...</td>\n",
       "      <td>Preston Gralla</td>\n",
       "      <td>...</td>\n",
       "      <td>-1.989719</td>\n",
       "      <td>2.000360</td>\n",
       "      <td>-1.642692</td>\n",
       "      <td>-1.999496</td>\n",
       "      <td>1.967867</td>\n",
       "      <td>-2.013657</td>\n",
       "      <td>-1.573877</td>\n",
       "      <td>-1.909373</td>\n",
       "      <td>1.586619</td>\n",
       "      <td>-2.043264</td>\n",
       "    </tr>\n",
       "    <tr>\n",
       "      <th>2</th>\n",
       "      <td>227054</td>\n",
       "      <td>0553284789</td>\n",
       "      <td>7</td>\n",
       "      <td>False</td>\n",
       "      <td>False</td>\n",
       "      <td>False</td>\n",
       "      <td>nampa, idaho, usa</td>\n",
       "      <td>27.0</td>\n",
       "      <td>F Is for Fugitive (Kinsey Millhone Mysteries (...</td>\n",
       "      <td>Sue Grafton</td>\n",
       "      <td>...</td>\n",
       "      <td>-1.736229</td>\n",
       "      <td>1.745061</td>\n",
       "      <td>-1.438396</td>\n",
       "      <td>-1.745506</td>\n",
       "      <td>1.716551</td>\n",
       "      <td>-1.757121</td>\n",
       "      <td>-1.378085</td>\n",
       "      <td>-1.665560</td>\n",
       "      <td>1.389419</td>\n",
       "      <td>-1.783935</td>\n",
       "    </tr>\n",
       "    <tr>\n",
       "      <th>3</th>\n",
       "      <td>248656</td>\n",
       "      <td>0380977788</td>\n",
       "      <td>10</td>\n",
       "      <td>True</td>\n",
       "      <td>False</td>\n",
       "      <td>False</td>\n",
       "      <td>altamonte springs, florida, usa</td>\n",
       "      <td>34.0</td>\n",
       "      <td>Coraline</td>\n",
       "      <td>Neil Gaiman</td>\n",
       "      <td>...</td>\n",
       "      <td>-1.773188</td>\n",
       "      <td>1.782292</td>\n",
       "      <td>-1.468106</td>\n",
       "      <td>-1.782527</td>\n",
       "      <td>1.753202</td>\n",
       "      <td>-1.794527</td>\n",
       "      <td>-1.406562</td>\n",
       "      <td>-1.701115</td>\n",
       "      <td>1.418095</td>\n",
       "      <td>-1.821732</td>\n",
       "    </tr>\n",
       "    <tr>\n",
       "      <th>4</th>\n",
       "      <td>220091</td>\n",
       "      <td>0425172996</td>\n",
       "      <td>8</td>\n",
       "      <td>True</td>\n",
       "      <td>False</td>\n",
       "      <td>False</td>\n",
       "      <td>san diego, california, usa</td>\n",
       "      <td>NaN</td>\n",
       "      <td>Vector</td>\n",
       "      <td>Robin Cook</td>\n",
       "      <td>...</td>\n",
       "      <td>-3.209548</td>\n",
       "      <td>3.228446</td>\n",
       "      <td>-2.629096</td>\n",
       "      <td>-3.222223</td>\n",
       "      <td>3.176938</td>\n",
       "      <td>-3.247816</td>\n",
       "      <td>-2.519126</td>\n",
       "      <td>-3.082494</td>\n",
       "      <td>2.538910</td>\n",
       "      <td>-3.291462</td>\n",
       "    </tr>\n",
       "  </tbody>\n",
       "</table>\n",
       "<p>5 rows × 57 columns</p>\n",
       "</div>"
      ],
      "text/plain": [
       "   userId      itemId  rating  num_ratings_per_user_gt_20  \\\n",
       "0   26538  0590010891      10                        True   \n",
       "1  213826  1562764047       7                       False   \n",
       "2  227054  0553284789       7                       False   \n",
       "3  248656  0380977788      10                        True   \n",
       "4  220091  0425172996       8                        True   \n",
       "\n",
       "   num_ratings_per_item_gt_200  flag_clean_considered  \\\n",
       "0                        False                  False   \n",
       "1                        False                  False   \n",
       "2                        False                  False   \n",
       "3                        False                  False   \n",
       "4                        False                  False   \n",
       "\n",
       "                          Location   Age  \\\n",
       "0            rawlins, wyoming, usa  32.0   \n",
       "1   university city, missouri, usa  40.0   \n",
       "2                nampa, idaho, usa  27.0   \n",
       "3  altamonte springs, florida, usa  34.0   \n",
       "4       san diego, california, usa   NaN   \n",
       "\n",
       "                                          Book-Title        Book-Author  ...  \\\n",
       "0            Star Wars Episode I: The Phantom Menace  Patricia C. Wrede  ...   \n",
       "1  How the Internet Works (How It Works Series (E...     Preston Gralla  ...   \n",
       "2  F Is for Fugitive (Kinsey Millhone Mysteries (...        Sue Grafton  ...   \n",
       "3                                           Coraline        Neil Gaiman  ...   \n",
       "4                                             Vector         Robin Cook  ...   \n",
       "\n",
       "  user_autoenc0 user_autoenc1 user_autoenc2  user_autoenc3  user_autoenc4  \\\n",
       "0     -1.686263      1.694752     -1.398009      -1.695426       1.667029   \n",
       "1     -1.989719      2.000360     -1.642692      -1.999496       1.967867   \n",
       "2     -1.736229      1.745061     -1.438396      -1.745506       1.716551   \n",
       "3     -1.773188      1.782292     -1.468106      -1.782527       1.753202   \n",
       "4     -3.209548      3.228446     -2.629096      -3.222223       3.176938   \n",
       "\n",
       "   user_autoenc5  user_autoenc6  user_autoenc7  user_autoenc8  user_autoenc9  \n",
       "0      -1.706558      -1.339383      -1.617516       1.350429      -1.732796  \n",
       "1      -2.013657      -1.573877      -1.909373       1.586619      -2.043264  \n",
       "2      -1.757121      -1.378085      -1.665560       1.389419      -1.783935  \n",
       "3      -1.794527      -1.406562      -1.701115       1.418095      -1.821732  \n",
       "4      -3.247816      -2.519126      -3.082494       2.538910      -3.291462  \n",
       "\n",
       "[5 rows x 57 columns]"
      ]
     },
     "execution_count": 32,
     "metadata": {},
     "output_type": "execute_result"
    }
   ],
   "source": [
    "df_train.head()"
   ]
  },
  {
   "cell_type": "code",
   "execution_count": 33,
   "metadata": {},
   "outputs": [
    {
     "data": {
      "text/html": [
       "<div>\n",
       "<style scoped>\n",
       "    .dataframe tbody tr th:only-of-type {\n",
       "        vertical-align: middle;\n",
       "    }\n",
       "\n",
       "    .dataframe tbody tr th {\n",
       "        vertical-align: top;\n",
       "    }\n",
       "\n",
       "    .dataframe thead th {\n",
       "        text-align: right;\n",
       "    }\n",
       "</style>\n",
       "<table border=\"1\" class=\"dataframe\">\n",
       "  <thead>\n",
       "    <tr style=\"text-align: right;\">\n",
       "      <th></th>\n",
       "      <th>user_idx</th>\n",
       "      <th>item_idx</th>\n",
       "      <th>item_autoenc0</th>\n",
       "      <th>item_autoenc1</th>\n",
       "      <th>item_autoenc2</th>\n",
       "      <th>item_autoenc3</th>\n",
       "      <th>item_autoenc4</th>\n",
       "      <th>item_autoenc5</th>\n",
       "      <th>item_autoenc6</th>\n",
       "      <th>item_autoenc7</th>\n",
       "      <th>...</th>\n",
       "      <th>user_autoenc0</th>\n",
       "      <th>user_autoenc1</th>\n",
       "      <th>user_autoenc2</th>\n",
       "      <th>user_autoenc3</th>\n",
       "      <th>user_autoenc4</th>\n",
       "      <th>user_autoenc5</th>\n",
       "      <th>user_autoenc6</th>\n",
       "      <th>user_autoenc7</th>\n",
       "      <th>user_autoenc8</th>\n",
       "      <th>user_autoenc9</th>\n",
       "    </tr>\n",
       "  </thead>\n",
       "  <tbody>\n",
       "    <tr>\n",
       "      <th>0</th>\n",
       "      <td>1</td>\n",
       "      <td>1</td>\n",
       "      <td>1.569089</td>\n",
       "      <td>1.508334</td>\n",
       "      <td>1.568551</td>\n",
       "      <td>-1.531216</td>\n",
       "      <td>1.529148</td>\n",
       "      <td>-1.526430</td>\n",
       "      <td>-1.510185</td>\n",
       "      <td>-1.555542</td>\n",
       "      <td>...</td>\n",
       "      <td>-1.686263</td>\n",
       "      <td>1.694752</td>\n",
       "      <td>-1.398009</td>\n",
       "      <td>-1.695426</td>\n",
       "      <td>1.667029</td>\n",
       "      <td>-1.706558</td>\n",
       "      <td>-1.339383</td>\n",
       "      <td>-1.617516</td>\n",
       "      <td>1.350429</td>\n",
       "      <td>-1.732796</td>\n",
       "    </tr>\n",
       "    <tr>\n",
       "      <th>1</th>\n",
       "      <td>2</td>\n",
       "      <td>2</td>\n",
       "      <td>1.585941</td>\n",
       "      <td>1.524516</td>\n",
       "      <td>1.585391</td>\n",
       "      <td>-1.547614</td>\n",
       "      <td>1.545570</td>\n",
       "      <td>-1.542825</td>\n",
       "      <td>-1.526399</td>\n",
       "      <td>-1.572234</td>\n",
       "      <td>...</td>\n",
       "      <td>-1.989719</td>\n",
       "      <td>2.000360</td>\n",
       "      <td>-1.642692</td>\n",
       "      <td>-1.999496</td>\n",
       "      <td>1.967867</td>\n",
       "      <td>-2.013657</td>\n",
       "      <td>-1.573877</td>\n",
       "      <td>-1.909373</td>\n",
       "      <td>1.586619</td>\n",
       "      <td>-2.043264</td>\n",
       "    </tr>\n",
       "    <tr>\n",
       "      <th>2</th>\n",
       "      <td>3</td>\n",
       "      <td>3</td>\n",
       "      <td>1.584902</td>\n",
       "      <td>1.523516</td>\n",
       "      <td>1.584351</td>\n",
       "      <td>-1.546593</td>\n",
       "      <td>1.544561</td>\n",
       "      <td>-1.541814</td>\n",
       "      <td>-1.525400</td>\n",
       "      <td>-1.571202</td>\n",
       "      <td>...</td>\n",
       "      <td>-1.736229</td>\n",
       "      <td>1.745061</td>\n",
       "      <td>-1.438396</td>\n",
       "      <td>-1.745506</td>\n",
       "      <td>1.716551</td>\n",
       "      <td>-1.757121</td>\n",
       "      <td>-1.378085</td>\n",
       "      <td>-1.665560</td>\n",
       "      <td>1.389419</td>\n",
       "      <td>-1.783935</td>\n",
       "    </tr>\n",
       "    <tr>\n",
       "      <th>3</th>\n",
       "      <td>4</td>\n",
       "      <td>4</td>\n",
       "      <td>1.574386</td>\n",
       "      <td>1.513422</td>\n",
       "      <td>1.573842</td>\n",
       "      <td>-1.536364</td>\n",
       "      <td>1.534310</td>\n",
       "      <td>-1.531584</td>\n",
       "      <td>-1.515284</td>\n",
       "      <td>-1.560782</td>\n",
       "      <td>...</td>\n",
       "      <td>-1.773188</td>\n",
       "      <td>1.782292</td>\n",
       "      <td>-1.468106</td>\n",
       "      <td>-1.782527</td>\n",
       "      <td>1.753202</td>\n",
       "      <td>-1.794527</td>\n",
       "      <td>-1.406562</td>\n",
       "      <td>-1.701115</td>\n",
       "      <td>1.418095</td>\n",
       "      <td>-1.821732</td>\n",
       "    </tr>\n",
       "    <tr>\n",
       "      <th>4</th>\n",
       "      <td>5</td>\n",
       "      <td>5</td>\n",
       "      <td>1.569349</td>\n",
       "      <td>1.508583</td>\n",
       "      <td>1.568811</td>\n",
       "      <td>-1.531469</td>\n",
       "      <td>1.529402</td>\n",
       "      <td>-1.526682</td>\n",
       "      <td>-1.510435</td>\n",
       "      <td>-1.555800</td>\n",
       "      <td>...</td>\n",
       "      <td>-3.209548</td>\n",
       "      <td>3.228446</td>\n",
       "      <td>-2.629096</td>\n",
       "      <td>-3.222223</td>\n",
       "      <td>3.176938</td>\n",
       "      <td>-3.247816</td>\n",
       "      <td>-2.519126</td>\n",
       "      <td>-3.082494</td>\n",
       "      <td>2.538910</td>\n",
       "      <td>-3.291462</td>\n",
       "    </tr>\n",
       "  </tbody>\n",
       "</table>\n",
       "<p>5 rows × 37 columns</p>\n",
       "</div>"
      ],
      "text/plain": [
       "   user_idx  item_idx  item_autoenc0  item_autoenc1  item_autoenc2  \\\n",
       "0         1         1       1.569089       1.508334       1.568551   \n",
       "1         2         2       1.585941       1.524516       1.585391   \n",
       "2         3         3       1.584902       1.523516       1.584351   \n",
       "3         4         4       1.574386       1.513422       1.573842   \n",
       "4         5         5       1.569349       1.508583       1.568811   \n",
       "\n",
       "   item_autoenc3  item_autoenc4  item_autoenc5  item_autoenc6  item_autoenc7  \\\n",
       "0      -1.531216       1.529148      -1.526430      -1.510185      -1.555542   \n",
       "1      -1.547614       1.545570      -1.542825      -1.526399      -1.572234   \n",
       "2      -1.546593       1.544561      -1.541814      -1.525400      -1.571202   \n",
       "3      -1.536364       1.534310      -1.531584      -1.515284      -1.560782   \n",
       "4      -1.531469       1.529402      -1.526682      -1.510435      -1.555800   \n",
       "\n",
       "   ...  user_autoenc0  user_autoenc1  user_autoenc2  user_autoenc3  \\\n",
       "0  ...      -1.686263       1.694752      -1.398009      -1.695426   \n",
       "1  ...      -1.989719       2.000360      -1.642692      -1.999496   \n",
       "2  ...      -1.736229       1.745061      -1.438396      -1.745506   \n",
       "3  ...      -1.773188       1.782292      -1.468106      -1.782527   \n",
       "4  ...      -3.209548       3.228446      -2.629096      -3.222223   \n",
       "\n",
       "   user_autoenc4  user_autoenc5  user_autoenc6  user_autoenc7  user_autoenc8  \\\n",
       "0       1.667029      -1.706558      -1.339383      -1.617516       1.350429   \n",
       "1       1.967867      -2.013657      -1.573877      -1.909373       1.586619   \n",
       "2       1.716551      -1.757121      -1.378085      -1.665560       1.389419   \n",
       "3       1.753202      -1.794527      -1.406562      -1.701115       1.418095   \n",
       "4       3.176938      -3.247816      -2.519126      -3.082494       2.538910   \n",
       "\n",
       "   user_autoenc9  \n",
       "0      -1.732796  \n",
       "1      -2.043264  \n",
       "2      -1.783935  \n",
       "3      -1.821732  \n",
       "4      -3.291462  \n",
       "\n",
       "[5 rows x 37 columns]"
      ]
     },
     "execution_count": 33,
     "metadata": {},
     "output_type": "execute_result"
    }
   ],
   "source": [
    "df_train[['user_idx','item_idx']+autoenc_cols].head()"
   ]
  },
  {
   "cell_type": "code",
   "execution_count": 34,
   "metadata": {},
   "outputs": [
    {
     "data": {
      "text/plain": [
       "(count    43368.000000\n",
       " mean         7.582111\n",
       " std          1.842619\n",
       " min          1.000000\n",
       " 25%          6.000000\n",
       " 50%          8.000000\n",
       " 75%          9.000000\n",
       " max         10.000000\n",
       " Name: rating, dtype: float64, count    390303.000000\n",
       " mean          7.603172\n",
       " std           1.843919\n",
       " min           1.000000\n",
       " 25%           7.000000\n",
       " 50%           8.000000\n",
       " 75%           9.000000\n",
       " max          10.000000\n",
       " Name: rating, dtype: float64)"
      ]
     },
     "execution_count": 34,
     "metadata": {},
     "output_type": "execute_result"
    }
   ],
   "source": [
    "df_valid['rating'].describe(),df_train['rating'].describe()"
   ]
  },
  {
   "cell_type": "code",
   "execution_count": 35,
   "metadata": {},
   "outputs": [
    {
     "data": {
      "text/plain": [
       "Index(['userId', 'itemId', 'rating', 'num_ratings_per_user_gt_20',\n",
       "       'num_ratings_per_item_gt_200', 'flag_clean_considered', 'Location',\n",
       "       'Age', 'Book-Title', 'Book-Author', 'Year-Of-Publication', 'Publisher',\n",
       "       'random_dstype', 'user_idx', 'item_idx', 'dstype_random_train',\n",
       "       'dstype_random_valid', 'location_idx', 'age_idx', 'title_idx',\n",
       "       'author_idx', 'publisher_idx', 'item_autoenc0', 'item_autoenc1',\n",
       "       'item_autoenc2', 'item_autoenc3', 'item_autoenc4', 'item_autoenc5',\n",
       "       'item_autoenc6', 'item_autoenc7', 'item_autoenc8', 'item_autoenc9',\n",
       "       'item_autoenc10', 'item_autoenc11', 'item_autoenc12', 'item_autoenc13',\n",
       "       'item_autoenc14', 'item_autoenc15', 'item_autoenc16', 'item_autoenc17',\n",
       "       'item_autoenc18', 'item_autoenc19', 'item_autoenc20', 'item_autoenc21',\n",
       "       'item_autoenc22', 'item_autoenc23', 'item_autoenc24', 'user_autoenc0',\n",
       "       'user_autoenc1', 'user_autoenc2', 'user_autoenc3', 'user_autoenc4',\n",
       "       'user_autoenc5', 'user_autoenc6', 'user_autoenc7', 'user_autoenc8',\n",
       "       'user_autoenc9'],\n",
       "      dtype='object')"
      ]
     },
     "execution_count": 35,
     "metadata": {},
     "output_type": "execute_result"
    }
   ],
   "source": [
    "df_train.columns"
   ]
  },
  {
   "cell_type": "code",
   "execution_count": 36,
   "metadata": {},
   "outputs": [],
   "source": [
    "emb_cols=['location_idx','title_idx','author_idx','publisher_idx']"
   ]
  },
  {
   "cell_type": "code",
   "execution_count": 37,
   "metadata": {},
   "outputs": [
    {
     "data": {
      "text/plain": [
       "[('location_idx', 20450),\n",
       " ('title_idx', 126629),\n",
       " ('author_idx', 58391),\n",
       " ('publisher_idx', 11030)]"
      ]
     },
     "execution_count": 37,
     "metadata": {},
     "output_type": "execute_result"
    }
   ],
   "source": [
    "[(col, df_train[col].nunique()) for col in emb_cols]"
   ]
  },
  {
   "cell_type": "code",
   "execution_count": 38,
   "metadata": {},
   "outputs": [
    {
     "data": {
      "text/plain": [
       "[('location_idx', 50),\n",
       " ('title_idx', 50),\n",
       " ('author_idx', 50),\n",
       " ('publisher_idx', 50)]"
      ]
     },
     "execution_count": 38,
     "metadata": {},
     "output_type": "execute_result"
    }
   ],
   "source": [
    "[(col, min(50,df_train[col].nunique()//100)) for col in emb_cols]"
   ]
  },
  {
   "cell_type": "markdown",
   "metadata": {},
   "source": [
    "### Dataset and DataLoader"
   ]
  },
  {
   "cell_type": "code",
   "execution_count": 39,
   "metadata": {},
   "outputs": [],
   "source": [
    "class cfdata (torch.utils.data.dataset.Dataset):\n",
    "    def __init__(self,dfX,dfY,denseCols):\n",
    "        self.dfX,self.dfY=dfX,dfY\n",
    "        self.denseCols=denseCols\n",
    "        \n",
    "    def __len__ (self):\n",
    "        return self.dfX.shape[0]\n",
    "    \n",
    "    def __getitem__ (self, idx):\n",
    "        return torch.FloatTensor(self.dfX.iloc[idx].values),torch.FloatTensor([self.dfY.values[idx]])"
   ]
  },
  {
   "cell_type": "code",
   "execution_count": 40,
   "metadata": {},
   "outputs": [],
   "source": [
    "dstrain=cfdata(df_train[['user_idx','item_idx']+autoenc_cols],df_train['rating'],autoenc_cols)\n",
    "dsvalid=cfdata(df_valid[['user_idx','item_idx']+autoenc_cols],df_valid['rating'],autoenc_cols)"
   ]
  },
  {
   "cell_type": "code",
   "execution_count": 41,
   "metadata": {},
   "outputs": [
    {
     "data": {
      "text/plain": [
       "(390303, 57)"
      ]
     },
     "execution_count": 41,
     "metadata": {},
     "output_type": "execute_result"
    }
   ],
   "source": [
    "df_train.shape"
   ]
  },
  {
   "cell_type": "code",
   "execution_count": 42,
   "metadata": {},
   "outputs": [],
   "source": [
    "bs=64"
   ]
  },
  {
   "cell_type": "code",
   "execution_count": 43,
   "metadata": {},
   "outputs": [],
   "source": [
    "dltrain=DataLoader(dstrain,bs,True)"
   ]
  },
  {
   "cell_type": "code",
   "execution_count": 44,
   "metadata": {},
   "outputs": [],
   "source": [
    "dlvalid=DataLoader(dsvalid,bs,True)"
   ]
  },
  {
   "cell_type": "code",
   "execution_count": 45,
   "metadata": {},
   "outputs": [
    {
     "data": {
      "text/plain": [
       "(61.0, 388.96)"
      ]
     },
     "execution_count": 45,
     "metadata": {},
     "output_type": "execute_result"
    }
   ],
   "source": [
    "610/10, 9724/25"
   ]
  },
  {
   "cell_type": "code",
   "execution_count": 46,
   "metadata": {},
   "outputs": [
    {
     "data": {
      "text/plain": [
       "(77805, 185973)"
      ]
     },
     "execution_count": 46,
     "metadata": {},
     "output_type": "execute_result"
    }
   ],
   "source": [
    "len(user_to_idx),len(movie_to_idx)"
   ]
  },
  {
   "cell_type": "markdown",
   "metadata": {},
   "source": [
    "## Model Architecture"
   ]
  },
  {
   "cell_type": "code",
   "execution_count": 47,
   "metadata": {},
   "outputs": [],
   "source": [
    "n_users=len(user_to_idx)\n",
    "n_movies=len(movie_to_idx)\n",
    "n_emb_user=100\n",
    "n_emb_movie=250\n",
    "min_rating=min(df_train['rating'])\n",
    "max_rating=max(df_train['rating'])\n",
    "dropout_e=0.1\n",
    "hidden=[75,15,15]\n",
    "dropouts=[0.2,0.3,0.2]"
   ]
  },
  {
   "cell_type": "code",
   "execution_count": 48,
   "metadata": {},
   "outputs": [],
   "source": [
    "def hidden_layer(x,y,dropout,activation=nn.Sigmoid()):\n",
    "    return nn.Sequential(\n",
    "        nn.Linear(x, y),\n",
    "        activation,\n",
    "        nn.Dropout(p=dropout)\n",
    "        )   "
   ]
  },
  {
   "cell_type": "code",
   "execution_count": 49,
   "metadata": {},
   "outputs": [],
   "source": [
    "class cf(nn.Module):    \n",
    "    def __init__(self,n_users,n_emb_user,n_emb_movie,n_movies,min_rating,max_rating,autoenc_cols,\\\n",
    "                 dropout_e=0.01,hidden=[15,5],dropouts=[0.2,0.2],error_type=\"mse\"):\n",
    "        super().__init__()\n",
    "        self.n_users,self.n_emb_user,self.n_emb_movie,self.n_movies,self.min_rating,self.max_rating=\\\n",
    "                    n_users,n_emb_user,n_emb_movie,n_movies,min_rating,max_rating\n",
    "        self.dropout_e,self.hidden,self.dropouts=dropout_e,hidden,dropouts\n",
    "        self.autoenc_cols,self.len_dense_cols=autoenc_cols,len(autoenc_cols)\n",
    "        self.create_architecture()\n",
    "\n",
    "        if error_type!=\"mse\":\n",
    "            self.criterion=nn.L1Loss()\n",
    "        else:\n",
    "            self.criterion=nn.MSELoss()\n",
    "        \n",
    "    def create_architecture(self):\n",
    "        self.emb_user=nn.Embedding(self.n_users+1,self.n_emb_user)\n",
    "        self.emb_movie=nn.Embedding(self.n_movies+1,self.n_emb_movie)\n",
    "        self.emb_dropout=nn.Dropout(self.dropout_e)\n",
    "\n",
    "        \n",
    "        self.lin1= nn.Sequential(nn.Linear(self.n_emb_user+self.n_emb_movie,self.hidden[0]),\n",
    "                    nn.ReLU(),\n",
    "                    nn.Dropout(p=dropouts[0]) )\n",
    "        self.lin2= nn.Sequential (nn.Linear(self.len_dense_cols,self.hidden[1]),\n",
    "                    nn.ReLU(),\n",
    "                    nn.Dropout(p=dropouts[1]) )\n",
    "        self.lin3= nn.Sequential (nn.Linear(self.hidden[0]+self.hidden[1],self.hidden[2]),\n",
    "                    nn.ReLU(),\n",
    "                    nn.Dropout(p=dropouts[2]))\n",
    "        self.lin4=nn.Linear(self.hidden[2],1)\n",
    "        self.sigmoid=nn.Sigmoid()\n",
    "        \n",
    "        \n",
    "    def init_parameters(self):\n",
    "        nn.init.kaiming_normal_(self.emb_user.weight.data)\n",
    "        nn.init.kaiming_normal_(self.emb_movie.weight.dat)\n",
    "        #nn.init.kaiming_normal_(lin)\n",
    "       \n",
    "    def forward (self,Xb,Yb):\n",
    "        users=Xb[:,0].long()\n",
    "        items=Xb[:,1].long()\n",
    "        users=self.emb_dropout(self.emb_user(users))\n",
    "        items=self.emb_dropout(self.emb_movie(items))\n",
    "        \n",
    "        denses=Xb[:,2:]\n",
    "        embed=torch.cat([users,items],1)\n",
    "        \n",
    "        out1=self.lin1(embed)\n",
    "        out2=self.lin2(denses)\n",
    "        out3=torch.cat([out1,out2],1)\n",
    "        out4=self.lin3(out3)\n",
    "        out5=self.lin4(out4)\n",
    "        \n",
    "        out=self.sigmoid(out5)\n",
    "        \n",
    "        preds=out*(self.max_rating-self.min_rating)+self.min_rating\n",
    "        #preds=preds.view(-1)\n",
    "        loss=self.criterion(preds,Yb)\n",
    "        return preds,loss"
   ]
  },
  {
   "cell_type": "code",
   "execution_count": 50,
   "metadata": {},
   "outputs": [],
   "source": [
    "cfobj=cf(n_users,n_emb_user,n_emb_movie,n_movies,min_rating,max_rating,autoenc_cols,dropout_e,hidden,dropouts,error_type=\"mse\")"
   ]
  },
  {
   "cell_type": "code",
   "execution_count": 51,
   "metadata": {},
   "outputs": [
    {
     "data": {
      "text/plain": [
       "cf(\n",
       "  (emb_user): Embedding(77806, 100)\n",
       "  (emb_movie): Embedding(185974, 250)\n",
       "  (emb_dropout): Dropout(p=0.1)\n",
       "  (lin1): Sequential(\n",
       "    (0): Linear(in_features=350, out_features=75, bias=True)\n",
       "    (1): ReLU()\n",
       "    (2): Dropout(p=0.2)\n",
       "  )\n",
       "  (lin2): Sequential(\n",
       "    (0): Linear(in_features=35, out_features=15, bias=True)\n",
       "    (1): ReLU()\n",
       "    (2): Dropout(p=0.3)\n",
       "  )\n",
       "  (lin3): Sequential(\n",
       "    (0): Linear(in_features=90, out_features=15, bias=True)\n",
       "    (1): ReLU()\n",
       "    (2): Dropout(p=0.2)\n",
       "  )\n",
       "  (lin4): Linear(in_features=15, out_features=1, bias=True)\n",
       "  (sigmoid): Sigmoid()\n",
       "  (criterion): MSELoss()\n",
       ")"
      ]
     },
     "execution_count": 51,
     "metadata": {},
     "output_type": "execute_result"
    }
   ],
   "source": [
    "cfobj"
   ]
  },
  {
   "cell_type": "code",
   "execution_count": 52,
   "metadata": {},
   "outputs": [],
   "source": [
    "for Xb, Yb in dltrain:\n",
    "    break"
   ]
  },
  {
   "cell_type": "code",
   "execution_count": 53,
   "metadata": {},
   "outputs": [
    {
     "data": {
      "text/plain": [
       "(torch.Size([64, 37]), torch.Size([64, 1]))"
      ]
     },
     "execution_count": 53,
     "metadata": {},
     "output_type": "execute_result"
    }
   ],
   "source": [
    "Xb.shape, Yb.shape"
   ]
  },
  {
   "cell_type": "code",
   "execution_count": 54,
   "metadata": {},
   "outputs": [
    {
     "data": {
      "text/plain": [
       "torch.float32"
      ]
     },
     "execution_count": 54,
     "metadata": {},
     "output_type": "execute_result"
    }
   ],
   "source": [
    "Xb.dtype"
   ]
  },
  {
   "cell_type": "code",
   "execution_count": 55,
   "metadata": {},
   "outputs": [
    {
     "data": {
      "text/plain": [
       "(tensor([[5.9636],\n",
       "         [5.7223],\n",
       "         [5.9139],\n",
       "         [6.3060],\n",
       "         [6.0856],\n",
       "         [5.8747],\n",
       "         [6.1060],\n",
       "         [6.1059],\n",
       "         [6.2065],\n",
       "         [6.2093],\n",
       "         [5.8589],\n",
       "         [6.1469],\n",
       "         [6.2064],\n",
       "         [5.9848],\n",
       "         [5.9145],\n",
       "         [6.1905],\n",
       "         [5.8934],\n",
       "         [6.2181],\n",
       "         [6.2690],\n",
       "         [6.0405],\n",
       "         [5.9677],\n",
       "         [5.7874],\n",
       "         [5.9995],\n",
       "         [6.2492],\n",
       "         [5.7971],\n",
       "         [5.9568],\n",
       "         [5.7676],\n",
       "         [5.8800],\n",
       "         [6.1861],\n",
       "         [5.7798],\n",
       "         [6.0972],\n",
       "         [5.4931],\n",
       "         [6.2419],\n",
       "         [6.4031],\n",
       "         [5.8236],\n",
       "         [6.2458],\n",
       "         [5.9383],\n",
       "         [6.0375],\n",
       "         [6.0276],\n",
       "         [5.7399],\n",
       "         [6.1824],\n",
       "         [5.8830],\n",
       "         [5.9175],\n",
       "         [5.8056],\n",
       "         [6.4755],\n",
       "         [6.4617],\n",
       "         [5.9225],\n",
       "         [6.1167],\n",
       "         [6.3112],\n",
       "         [6.1935],\n",
       "         [6.2102],\n",
       "         [6.0016],\n",
       "         [6.6187],\n",
       "         [5.7583],\n",
       "         [5.8278],\n",
       "         [6.0818],\n",
       "         [6.3306],\n",
       "         [6.1779],\n",
       "         [5.7309],\n",
       "         [6.2392],\n",
       "         [6.2775],\n",
       "         [6.2283],\n",
       "         [6.1851],\n",
       "         [6.1878]], grad_fn=<AddBackward0>),\n",
       " tensor(6.0825, grad_fn=<MseLossBackward>))"
      ]
     },
     "execution_count": 55,
     "metadata": {},
     "output_type": "execute_result"
    }
   ],
   "source": [
    "cfobj.forward(Xb,Yb)"
   ]
  },
  {
   "cell_type": "markdown",
   "metadata": {},
   "source": [
    "## Learner"
   ]
  },
  {
   "cell_type": "code",
   "execution_count": 68,
   "metadata": {},
   "outputs": [],
   "source": [
    "class Learner():\n",
    "    def __init__(self,model,optimizer,metric_fn,device,bptt=12,print_every=5,clip_val=None,\\\n",
    "                 cycle_mult=0,lr_decay=0.7,wd_mult=6,start_lr=2e-2, end_lr=5e-4,error_type=\"mse\"):\n",
    "        self.model,self.optimizer,self.metric_fn,self.device,self.print_every,self.bptt,self.losses,self.clip_val=\\\n",
    "            model,optimizer,metric_fn,device,print_every,bptt,[],clip_val\n",
    "        self.n_epochs=1\n",
    "        self.cycle_mult,self.lr_decay=cycle_mult,lr_decay\n",
    "        self.wd_mult=wd_mult\n",
    "        for param_group in self.optimizer.param_groups:\n",
    "            self.start_lr=param_group['lr']\n",
    "            self.start_wd=param_group['weight_decay']\n",
    "        self.wd=self.start_wd\n",
    "        self.lr=self.start_lr\n",
    "        self.end_lr=end_lr\n",
    "        self.n_epoch=0\n",
    "        self.lrs=[1e-2,5e-3,1e-4,5e-4]\n",
    "        self.preds,self.preds_valid,self.trainY,self.actual=[],[],[],[]\n",
    "        self.ratio=self.end_lr/self.start_lr\n",
    "        self.num_steps=self.cycle_mult\n",
    "        self.reset_cycle=self.cycle_mult\n",
    "        self.error_type=error_type\n",
    "        \n",
    "    def fit (self,Xb,Yb,mode_train=True):\n",
    "        if mode_train:\n",
    "            self.model.train()\n",
    "        else:\n",
    "            self.model.eval()\n",
    "        \n",
    "        #import pdb\n",
    "        #pdb.set_trace()\n",
    "        preds,loss=self.model(Xb,Yb)\n",
    "\n",
    "     \n",
    "        if mode_train:\n",
    "            if 1==0:\n",
    "                lr =self.lrs[torch.randint(0,4,(1,))]\n",
    "                for param_group in self.optimizer.param_groups:\n",
    "                    param_group['lr']=lr\n",
    "            \n",
    "            self.optimizer.zero_grad()\n",
    "            loss.backward()\n",
    "            self.optimizer.step()\n",
    "        myloss=loss.item()\n",
    "    \n",
    "        \n",
    "        with torch.no_grad():\n",
    "            if self.error_type == \"mse\":\n",
    "                acc=nn.L1Loss() (preds,Yb)\n",
    "                myrmse=np.sqrt(myloss)\n",
    "            else:\n",
    "                acc=nn.MSELoss() (preds,Yb)\n",
    "                myrmse=np.sqrt(acc.item())\n",
    "            acc=acc.item()\n",
    "                 \n",
    "   \n",
    "        del preds\n",
    "        del loss\n",
    "        \n",
    "        if self.clip_val is not None:\n",
    "            torch.nn.utils.clip_grad_norm_(self.model.parameters(), self.clip_val)\n",
    "        \n",
    "        return myloss, acc, myrmse\n",
    "    \n",
    "    def lr_find (self,start_lr,end_lr,iterator,n_batch):\n",
    "        losses,lrs=[],[]\n",
    "        ratio=end_lr/start_lr\n",
    "        num_steps=n_batch\n",
    "        lr=start_lr\n",
    "        for i in range(num_steps):            \n",
    "            lr=lr*(end_lr/start_lr)**(1/num_steps)\n",
    "            lrs.append(lr)\n",
    "        self.lrs=lrs\n",
    "        self.run_epoch(iterator,mode_train=True,lrs=lrs)\n",
    "    \n",
    "    def run_epoch(self,iterator,mode_train,lrs=None):\n",
    "        epoch_loss,epoch_acc,i,k=0,0,0,0\n",
    "        epoch_rmse=0\n",
    "\n",
    "\n",
    "        for Xb,Yb in iterator:\n",
    "            Xb=Xb.to(self.device)\n",
    "            Yb=Yb.to(self.device)\n",
    "            \n",
    "            if lrs is not None:\n",
    "                lr=lrs[k]\n",
    "                for param_group in self.optimizer.param_groups:\n",
    "                    param_group['lr']=lr \n",
    "            \n",
    "\n",
    "            loss,acc,myrmse=self.fit(Xb,Yb,mode_train)\n",
    "            \n",
    "            if lrs is not None:\n",
    "                self.losses.append(loss)\n",
    "\n",
    "\n",
    "            \n",
    "\n",
    "            epoch_loss+=loss\n",
    "            epoch_acc+=acc\n",
    "            epoch_rmse+=myrmse\n",
    "            \n",
    "            k=k+1\n",
    "            if k%self.print_every == 0:\n",
    "                if k:\n",
    "                    print (f'Batch:{k} {epoch_loss/(k)}  ')  \n",
    "                    torch.cuda.empty_cache()\n",
    "\n",
    "        epoch_loss=epoch_loss/len(iterator)\n",
    "        epoch_acc=epoch_acc/len(iterator)\n",
    "        epoch_rmse=epoch_rmse/len(iterator)\n",
    "            \n",
    "        return epoch_loss,epoch_acc,epoch_rmse\n",
    "    \n",
    "    def plot_lrs(self, n_roll=1,ylim=None,xlim=None):\n",
    "        import seaborn as sns\n",
    "        ax=sns.lineplot(x=self.lrs,y=pd.Series(self.losses).rolling(n_roll).mean())\n",
    "        ax.set_xscale('log')\n",
    "        ax.set_ylabel('Loss')\n",
    "        ax.set_xlabel('Learning Rate')\n",
    "        if ylim is not None:\n",
    "            plt.ylim(ylim)\n",
    "        if xlim is not None:\n",
    "            plt.xlim(xlim)\n",
    "\n",
    "     \n",
    "    def run_epochs(self,dltrain,dlvalid,n_epochs=1):              \n",
    "        for epoch in range(n_epochs):                \n",
    "            loss,acc,rmse=self.run_epoch(dltrain,True)\n",
    "\n",
    "            lossv,accv,rmsev=self.run_epoch(dlvalid,mode_train=False)\n",
    "           \n",
    "            if self.error_type==\"mse\":\n",
    "                loss_mse=loss\n",
    "                loss_rmse=rmse\n",
    "                loss_mae=acc\n",
    "                lossv_mse=lossv\n",
    "                lossv_rmse=rmsev\n",
    "                lossv_mae=accv\n",
    "                \n",
    "            else:\n",
    "                loss_mse=acc\n",
    "                loss_rmse=rmse\n",
    "                loss_mae=loss\n",
    "                lossv_mse=accv\n",
    "                lossv_rmse=rmsev\n",
    "                lossv_mae=lossv\n",
    "            \n",
    "            print (f'Epoch:{epoch} Learning rate {self.lr} Weight Decay {self.wd} Train Loss:{loss} \\\n",
    "                Valid Loss:{lossv} Train RMSE:{loss_rmse} Valid RMSE:{lossv_rmse} Train MSE:{loss_mse} Valid MSE:{lossv_mse} \\\n",
    "                Train MAE:{loss_mae} Valid MAE:{lossv_mae}')\n",
    "\n",
    "              \n",
    "            print (f'Epoch:{epoch} Learning rate {self.lr} Weight Decay {self.wd} Train Loss:{loss} \\\n",
    "                Valid Loss:{lossv} Train RMSE:{loss_rmse} Valid RMSE:{lossv_rmse} Train MSE:{loss_mse} Valid MSE:{lossv_mse} \\\n",
    "                Train MAE:{loss_mae} Valid MAE:{lossv_mae}')\n",
    "  \n",
    "     \n",
    "            if self.cycle_mult:\n",
    "                if self.n_epoch==self.reset_cycle:\n",
    "                    self.lr=self.start_lr\n",
    "                    #self.wd=self.start_wd\n",
    "                    self.reset_cycle*=self.cycle_mult\n",
    "                    #reset_cycle=self.n_epoch+reset_cycle\n",
    "                    self.n_epoch=0\n",
    "                    self.ratio=self.end_lr/self.start_lr\n",
    "                    self.num_steps=self.reset_cycle\n",
    "                else:\n",
    "                    #self.lr*=(self.lr_decay**self.n_epoch)  \n",
    "                    #if self.n_epoch>1:\n",
    "                    #    self.wd*=self.wd_mult\n",
    "                    self.lr=self.lr*(self.end_lr/self.start_lr)**(1/self.num_steps)\n",
    "                    self.n_epoch+=1\n",
    "        \n",
    "\n",
    "                \n",
    "            for param_group in self.optimizer.param_groups:\n",
    "                param_group['lr']=self.lr\n",
    "                #param_group['weight_decay']=self.wd\n",
    "          \n",
    "     "
   ]
  },
  {
   "cell_type": "code",
   "execution_count": 58,
   "metadata": {},
   "outputs": [],
   "source": [
    "device='cuda:0'"
   ]
  },
  {
   "cell_type": "code",
   "execution_count": 59,
   "metadata": {},
   "outputs": [],
   "source": [
    "del cfobj"
   ]
  },
  {
   "cell_type": "code",
   "execution_count": 60,
   "metadata": {},
   "outputs": [],
   "source": [
    "cfobj=cf(n_users,n_emb_user,n_emb_movie,n_movies,min_rating,max_rating,autoenc_cols,dropout_e,hidden,dropouts,error_type=\"mse\")"
   ]
  },
  {
   "cell_type": "code",
   "execution_count": 61,
   "metadata": {},
   "outputs": [],
   "source": [
    "cfobj=cfobj.to(device)"
   ]
  },
  {
   "cell_type": "code",
   "execution_count": 62,
   "metadata": {},
   "outputs": [
    {
     "data": {
      "text/plain": [
       "cf(\n",
       "  (emb_user): Embedding(77806, 100)\n",
       "  (emb_movie): Embedding(185974, 250)\n",
       "  (emb_dropout): Dropout(p=0.1)\n",
       "  (lin1): Sequential(\n",
       "    (0): Linear(in_features=350, out_features=75, bias=True)\n",
       "    (1): ReLU()\n",
       "    (2): Dropout(p=0.2)\n",
       "  )\n",
       "  (lin2): Sequential(\n",
       "    (0): Linear(in_features=35, out_features=15, bias=True)\n",
       "    (1): ReLU()\n",
       "    (2): Dropout(p=0.3)\n",
       "  )\n",
       "  (lin3): Sequential(\n",
       "    (0): Linear(in_features=90, out_features=15, bias=True)\n",
       "    (1): ReLU()\n",
       "    (2): Dropout(p=0.2)\n",
       "  )\n",
       "  (lin4): Linear(in_features=15, out_features=1, bias=True)\n",
       "  (sigmoid): Sigmoid()\n",
       "  (criterion): MSELoss()\n",
       ")"
      ]
     },
     "execution_count": 62,
     "metadata": {},
     "output_type": "execute_result"
    }
   ],
   "source": [
    "cfobj"
   ]
  },
  {
   "cell_type": "code",
   "execution_count": 63,
   "metadata": {},
   "outputs": [
    {
     "data": {
      "text/plain": [
       "6099"
      ]
     },
     "execution_count": 63,
     "metadata": {},
     "output_type": "execute_result"
    }
   ],
   "source": [
    "len(dltrain)"
   ]
  },
  {
   "cell_type": "code",
   "execution_count": 64,
   "metadata": {},
   "outputs": [
    {
     "data": {
      "text/plain": [
       "64"
      ]
     },
     "execution_count": 64,
     "metadata": {},
     "output_type": "execute_result"
    }
   ],
   "source": [
    "dltrain.batch_size"
   ]
  },
  {
   "cell_type": "code",
   "execution_count": 67,
   "metadata": {},
   "outputs": [],
   "source": [
    "wd=1e-6\n",
    "optimizer=torch.optim.Adam(cfobj.parameters(),lr=7e-3,betas=(0.9,0.999), weight_decay=wd)\n"
   ]
  },
  {
   "cell_type": "code",
   "execution_count": 68,
   "metadata": {},
   "outputs": [],
   "source": [
    "learner=Learner(cfobj,optimizer,None,device,0,2000,0.25,cycle_mult=0,error_type=\"mse\")"
   ]
  },
  {
   "cell_type": "code",
   "execution_count": 69,
   "metadata": {},
   "outputs": [
    {
     "name": "stdout",
     "output_type": "stream",
     "text": [
      "Batch:2000 3.6191612185835838  \n",
      "Batch:4000 3.3791302414238453  \n",
      "Batch:6000 3.3289521428744  \n"
     ]
    }
   ],
   "source": [
    "learner.lr_find(1e-4,1e-1,dltrain,len(dltrain))"
   ]
  },
  {
   "cell_type": "code",
   "execution_count": 70,
   "metadata": {},
   "outputs": [
    {
     "data": {
      "image/png": "[encoded data removed]",
      "text/plain": [
       "<Figure size 432x288 with 1 Axes>"
      ]
     },
     "metadata": {
      "needs_background": "light"
     },
     "output_type": "display_data"
    }
   ],
   "source": [
    "learner.plot_lrs(50)"
   ]
  },
  {
   "cell_type": "code",
   "execution_count": 71,
   "metadata": {},
   "outputs": [
    {
     "data": {
      "image/png": "[encoded data removed]",
      "text/plain": [
       "<Figure size 432x288 with 1 Axes>"
      ]
     },
     "metadata": {
      "needs_background": "light"
     },
     "output_type": "display_data"
    }
   ],
   "source": [
    "learner.plot_lrs(10)"
   ]
  },
  {
   "cell_type": "code",
   "execution_count": 72,
   "metadata": {},
   "outputs": [
    {
     "data": {
      "image/png": "[encoded data removed]",
      "text/plain": [
       "<Figure size 432x288 with 1 Axes>"
      ]
     },
     "metadata": {
      "needs_background": "light"
     },
     "output_type": "display_data"
    }
   ],
   "source": [
    "learner.plot_lrs(1)"
   ]
  },
  {
   "cell_type": "code",
   "execution_count": 71,
   "metadata": {},
   "outputs": [],
   "source": [
    "del cfobj\n",
    "torch.cuda.empty_cache()"
   ]
  },
  {
   "cell_type": "code",
   "execution_count": 72,
   "metadata": {},
   "outputs": [],
   "source": [
    "cfobj=cf(n_users,n_emb_user,n_emb_movie,n_movies,min_rating,max_rating,autoenc_cols,dropout_e,hidden,dropouts,error_type=\"mse\")\n",
    "cfobj=cfobj.to(device)"
   ]
  },
  {
   "cell_type": "code",
   "execution_count": 73,
   "metadata": {},
   "outputs": [],
   "source": [
    "wd=1e-6\n",
    "optimizer=torch.optim.Adam(cfobj.parameters(),lr=5e-3,betas=(0.9,0.999), weight_decay=wd)\n",
    "learner=Learner(cfobj,optimizer,None,device,0,2000,0.25,cycle_mult=0)\n"
   ]
  },
  {
   "cell_type": "code",
   "execution_count": 74,
   "metadata": {},
   "outputs": [
    {
     "name": "stdout",
     "output_type": "stream",
     "text": [
      "Batch:2000 3.1440652920007706  \n",
      "Batch:4000 2.993653863340616  \n",
      "Batch:6000 2.928373377740383  \n",
      "Epoch:0 Learning rate 0.005 Weight Decay 1e-06 Train Loss:2.9250694022528125                 Valid Loss:2.696415015554006 Train RMSE:1.7000156080239892 Valid RMSE:1.6327825421256144 Train MSE:2.9250694022528125 Valid MSE:2.696415015554006                 Train MAE:1.340766171809786 Valid MAE:1.2634368040392885\n",
      "Epoch:0 Learning rate 0.005 Weight Decay 1e-06 Train Loss:2.9250694022528125                 Valid Loss:2.696415015554006 Train RMSE:1.7000156080239892 Valid RMSE:1.6327825421256144 Train MSE:2.9250694022528125 Valid MSE:2.696415015554006                 Train MAE:1.340766171809786 Valid MAE:1.2634368040392885\n",
      "Batch:2000 2.3448522636294364  \n",
      "Batch:4000 2.4434249772131444  \n",
      "Batch:6000 2.519208292543888  \n",
      "Epoch:1 Learning rate 0.005 Weight Decay 1e-06 Train Loss:2.521296326499197                 Valid Loss:2.7248550349280545 Train RMSE:1.5780696067255855 Valid RMSE:1.6411628680714672 Train MSE:2.521296326499197 Valid MSE:2.7248550349280545                 Train MAE:1.221242279376255 Valid MAE:1.270616685922167\n",
      "Epoch:1 Learning rate 0.005 Weight Decay 1e-06 Train Loss:2.521296326499197                 Valid Loss:2.7248550349280545 Train RMSE:1.5780696067255855 Valid RMSE:1.6411628680714672 Train MSE:2.521296326499197 Valid MSE:2.7248550349280545                 Train MAE:1.221242279376255 Valid MAE:1.270616685922167\n",
      "Batch:2000 2.133212625384331  \n",
      "Batch:4000 2.2082161421626805  \n",
      "Batch:6000 2.296336175729831  \n",
      "Epoch:2 Learning rate 0.005 Weight Decay 1e-06 Train Loss:2.299460161404642                 Valid Loss:2.7002519703192696 Train RMSE:1.5058444034088772 Valid RMSE:1.6339937089648189 Train MSE:2.299460161404642 Valid MSE:2.7002519703192696                 Train MAE:1.1480744028114886 Valid MAE:1.2587682572262124\n",
      "Epoch:2 Learning rate 0.005 Weight Decay 1e-06 Train Loss:2.299460161404642                 Valid Loss:2.7002519703192696 Train RMSE:1.5058444034088772 Valid RMSE:1.6339937089648189 Train MSE:2.299460161404642 Valid MSE:2.7002519703192696                 Train MAE:1.1480744028114886 Valid MAE:1.2587682572262124\n",
      "Batch:2000 1.9750884852409363  \n",
      "Batch:4000 2.0680056055635214  \n",
      "Batch:6000 2.158388104279836  \n",
      "Epoch:3 Learning rate 0.005 Weight Decay 1e-06 Train Loss:2.1624460837004085                 Valid Loss:2.7409735583977715 Train RMSE:1.4595612897770265 Valid RMSE:1.6456639950733014 Train MSE:2.1624460837004085 Valid MSE:2.7409735583977715                 Train MAE:1.1050989206041697 Valid MAE:1.2711393600192393\n",
      "Epoch:3 Learning rate 0.005 Weight Decay 1e-06 Train Loss:2.1624460837004085                 Valid Loss:2.7409735583977715 Train RMSE:1.4595612897770265 Valid RMSE:1.6456639950733014 Train MSE:2.1624460837004085 Valid MSE:2.7409735583977715                 Train MAE:1.1050989206041697 Valid MAE:1.2711393600192393\n",
      "Batch:2000 1.8948769057393073  \n",
      "Batch:4000 1.9929560914486646  \n",
      "Batch:6000 2.0887357131342092  \n",
      "Epoch:4 Learning rate 0.005 Weight Decay 1e-06 Train Loss:2.0937823871937633                 Valid Loss:2.7905169363218776 Train RMSE:1.436167407095531 Valid RMSE:1.659884065624692 Train MSE:2.0937823871937633 Valid MSE:2.7905169363218776                 Train MAE:1.0833534292851066 Valid MAE:1.2851979321962261\n",
      "Epoch:4 Learning rate 0.005 Weight Decay 1e-06 Train Loss:2.0937823871937633                 Valid Loss:2.7905169363218776 Train RMSE:1.436167407095531 Valid RMSE:1.659884065624692 Train MSE:2.0937823871937633 Valid MSE:2.7905169363218776                 Train MAE:1.0833534292851066 Valid MAE:1.2851979321962261\n"
     ]
    }
   ],
   "source": [
    "learner.run_epochs(dltrain,dlvalid,5)"
   ]
  },
  {
   "cell_type": "code",
   "execution_count": 78,
   "metadata": {},
   "outputs": [],
   "source": [
    "torch.save(cfobj,f=f'{DATAPATH}/inter/cf_plus_model')\n",
    "torch.save(learner,f=f'{DATAPATH}/inter/cf_plus_learner')\n",
    "torch.save(optimizer,f=f'{DATAPATH}/inter/cf_plus_optimizer')\n",
    "torch.save(cfobj.state_dict(),f'{DATAPATH}/inter/cf_plus_state_dict')\n",
    "torch.save(optimizer.state_dict(),f'{DATAPATH}/inter/cf_plus_optimizer_state_dict')"
   ]
  },
  {
   "cell_type": "code",
   "execution_count": 79,
   "metadata": {},
   "outputs": [],
   "source": [
    "optimizer=torch.optim.Adam(cfobj.parameters(),lr=5e-3,betas=(0.9,0.999), weight_decay=wd)\n",
    "learner=Learner(cfobj,optimizer,None,device,0,12000,0.25,cycle_mult=2,start_lr=5e-3,end_lr=5e-4,error_type=\"mse\")"
   ]
  },
  {
   "cell_type": "code",
   "execution_count": 80,
   "metadata": {},
   "outputs": [
    {
     "name": "stdout",
     "output_type": "stream",
     "text": [
      "Epoch:0 Learning rate 0.005 Weight Decay 1e-06 Train Loss:2.820802423070153                 Valid Loss:2.724166905985469 Train RMSE:1.669516040585221 Valid RMSE:1.6415913162896578 Train MSE:2.820802423070153 Valid MSE:2.724166905985469                 Train MAE:1.3072781802044675 Valid MAE:1.2808635460767774\n",
      "Epoch:0 Learning rate 0.005 Weight Decay 1e-06 Train Loss:2.820802423070153                 Valid Loss:2.724166905985469 Train RMSE:1.669516040585221 Valid RMSE:1.6415913162896578 Train MSE:2.820802423070153 Valid MSE:2.724166905985469                 Train MAE:1.3072781802044675 Valid MAE:1.2808635460767774\n",
      "Epoch:1 Learning rate 0.0015811388300841897 Weight Decay 1e-06 Train Loss:2.0571134344615554                 Valid Loss:2.7101923172804456 Train RMSE:1.4242403438848554 Valid RMSE:1.6375177092688582 Train MSE:2.0571134344615554 Valid MSE:2.7101923172804456                 Train MAE:1.0686809491438833 Valid MAE:1.2712316268664898\n",
      "Epoch:1 Learning rate 0.0015811388300841897 Weight Decay 1e-06 Train Loss:2.0571134344615554                 Valid Loss:2.7101923172804456 Train RMSE:1.4242403438848554 Valid RMSE:1.6375177092688582 Train MSE:2.0571134344615554 Valid MSE:2.7101923172804456                 Train MAE:1.0686809491438833 Valid MAE:1.2712316268664898\n",
      "Epoch:2 Learning rate 0.0005 Weight Decay 1e-06 Train Loss:1.5454780732653026                 Valid Loss:2.803856033139524 Train RMSE:1.2323486857412518 Valid RMSE:1.6646777616405897 Train MSE:1.5454780732653026 Valid MSE:2.803856033139524                 Train MAE:0.8946857030009769 Valid MAE:1.2701732398486067\n",
      "Epoch:2 Learning rate 0.0005 Weight Decay 1e-06 Train Loss:1.5454780732653026                 Valid Loss:2.803856033139524 Train RMSE:1.2323486857412518 Valid RMSE:1.6646777616405897 Train MSE:1.5454780732653026 Valid MSE:2.803856033139524                 Train MAE:0.8946857030009769 Valid MAE:1.2701732398486067\n",
      "Epoch:3 Learning rate 0.005 Weight Decay 1e-06 Train Loss:2.0272672977637494                 Valid Loss:2.7896508106791518 Train RMSE:1.4106097948523566 Valid RMSE:1.6599212438344209 Train MSE:2.0272672977637494 Valid MSE:2.7896508106791518                 Train MAE:1.065012815907893 Valid MAE:1.2849289352914928\n",
      "Epoch:3 Learning rate 0.005 Weight Decay 1e-06 Train Loss:2.0272672977637494                 Valid Loss:2.7896508106791518 Train RMSE:1.4106097948523566 Valid RMSE:1.6599212438344209 Train MSE:2.0272672977637494 Valid MSE:2.7896508106791518                 Train MAE:1.065012815907893 Valid MAE:1.2849289352914928\n",
      "Epoch:4 Learning rate 0.0028117066259517455 Weight Decay 1e-06 Train Loss:1.9485950983925167                 Valid Loss:2.813108608082684 Train RMSE:1.3863336929243042 Valid RMSE:1.6667418589548926 Train MSE:1.9485950983925167 Valid MSE:2.813108608082684                 Train MAE:1.0517091114494836 Valid MAE:1.2740195750486887\n",
      "Epoch:4 Learning rate 0.0028117066259517455 Weight Decay 1e-06 Train Loss:1.9485950983925167                 Valid Loss:2.813108608082684 Train RMSE:1.3863336929243042 Valid RMSE:1.6667418589548926 Train MSE:1.9485950983925167 Valid MSE:2.813108608082684                 Train MAE:1.0517091114494836 Valid MAE:1.2740195750486887\n",
      "Epoch:5 Learning rate 0.0015811388300841897 Weight Decay 1e-06 Train Loss:1.510909851525021                 Valid Loss:2.8646970363141513 Train RMSE:1.218580263959225 Valid RMSE:1.6826913010447921 Train MSE:1.510909851525021 Valid MSE:2.8646970363141513                 Train MAE:0.8983874581723668 Valid MAE:1.2773358334833893\n",
      "Epoch:5 Learning rate 0.0015811388300841897 Weight Decay 1e-06 Train Loss:1.510909851525021                 Valid Loss:2.8646970363141513 Train RMSE:1.218580263959225 Valid RMSE:1.6826913010447921 Train MSE:1.510909851525021 Valid MSE:2.8646970363141513                 Train MAE:0.8983874581723668 Valid MAE:1.2773358334833893\n",
      "Epoch:6 Learning rate 0.0008891397050194614 Weight Decay 1e-06 Train Loss:1.2768734437429548                 Valid Loss:2.9076359069804525 Train RMSE:1.1192675332911821 Valid RMSE:1.6949683617961715 Train MSE:1.2768734437429548 Valid MSE:2.9076359069804525                 Train MAE:0.812402803764165 Valid MAE:1.284026773366253\n",
      "Epoch:6 Learning rate 0.0008891397050194614 Weight Decay 1e-06 Train Loss:1.2768734437429548                 Valid Loss:2.9076359069804525 Train RMSE:1.1192675332911821 Valid RMSE:1.6949683617961715 Train MSE:1.2768734437429548 Valid MSE:2.9076359069804525                 Train MAE:0.812402803764165 Valid MAE:1.284026773366253\n"
     ]
    }
   ],
   "source": [
    "learner.run_epochs(dltrain,dlvalid,7)"
   ]
  },
  {
   "cell_type": "code",
   "execution_count": 74,
   "metadata": {},
   "outputs": [
    {
     "name": "stderr",
     "output_type": "stream",
     "text": [
      "/home/kirana/anaconda3/lib/python3.7/site-packages/torch/serialization.py:256: UserWarning: Couldn't retrieve source code for container of type cf. It won't be checked for correctness upon loading.\n",
      "  \"type \" + obj.__name__ + \". It won't be checked \"\n",
      "/home/kirana/anaconda3/lib/python3.7/site-packages/torch/serialization.py:256: UserWarning: Couldn't retrieve source code for container of type cf. It won't be checked for correctness upon loading.\n",
      "  \"type \" + obj.__name__ + \". It won't be checked \"\n"
     ]
    }
   ],
   "source": []
  },
  {
   "cell_type": "code",
   "execution_count": null,
   "metadata": {},
   "outputs": [],
   "source": []
  }
 ],
 "metadata": {
  "kernelspec": {
   "display_name": "Python 3",
   "language": "python",
   "name": "python3"
  },
  "language_info": {
   "codemirror_mode": {
    "name": "ipython",
    "version": 3
   },
   "file_extension": ".py",
   "mimetype": "text/x-python",
   "name": "python",
   "nbconvert_exporter": "python",
   "pygments_lexer": "ipython3",
   "version": "3.7.3"
  }
 },
 "nbformat": 4,
 "nbformat_minor": 2
}
