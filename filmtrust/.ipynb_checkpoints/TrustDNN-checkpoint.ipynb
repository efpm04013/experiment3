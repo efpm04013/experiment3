{
 "cells": [
  {
   "cell_type": "code",
   "execution_count": 1,
   "metadata": {},
   "outputs": [],
   "source": [
    "PATH='/home/kirana/Documents/phd/exp3_autoencoder'\n",
    "DATAPATH='/home/kirana/Documents/final_dissertation_final/experiments/datasets/filmtrust'"
   ]
  },
  {
   "cell_type": "code",
   "execution_count": 2,
   "metadata": {},
   "outputs": [],
   "source": [
    "import pandas as pd\n",
    "import numpy as np\n",
    "import matplotlib.pyplot as plt\n",
    "import sklearn\n",
    "import os\n",
    "import pickle\n",
    "import torch\n",
    "from torch.utils.data import Dataset, DataLoader\n",
    "from torch import nn"
   ]
  },
  {
   "cell_type": "code",
   "execution_count": 3,
   "metadata": {},
   "outputs": [],
   "source": [
    "[df, df_train,df_valid,df,df_ratings,dfflagtrain,dfflagvalid,idx_to_user,\\\n",
    "             idx_to_movie,movie_to_idx,user_to_idx]=pickle.load(open(f'{DATAPATH}/reads.pkl','rb'))"
   ]
  },
  {
   "cell_type": "code",
   "execution_count": 4,
   "metadata": {},
   "outputs": [
    {
     "data": {
      "text/plain": [
       "(35494, 14)"
      ]
     },
     "execution_count": 4,
     "metadata": {},
     "output_type": "execute_result"
    }
   ],
   "source": [
    "df.shape"
   ]
  },
  {
   "cell_type": "code",
   "execution_count": 6,
   "metadata": {},
   "outputs": [
    {
     "data": {
      "text/html": [
       "<div>\n",
       "<style scoped>\n",
       "    .dataframe tbody tr th:only-of-type {\n",
       "        vertical-align: middle;\n",
       "    }\n",
       "\n",
       "    .dataframe tbody tr th {\n",
       "        vertical-align: top;\n",
       "    }\n",
       "\n",
       "    .dataframe thead th {\n",
       "        text-align: right;\n",
       "    }\n",
       "</style>\n",
       "<table border=\"1\" class=\"dataframe\">\n",
       "  <thead>\n",
       "    <tr style=\"text-align: right;\">\n",
       "      <th></th>\n",
       "      <th>3297</th>\n",
       "      <th>16463</th>\n",
       "      <th>35390</th>\n",
       "      <th>5367</th>\n",
       "      <th>13666</th>\n",
       "    </tr>\n",
       "  </thead>\n",
       "  <tbody>\n",
       "    <tr>\n",
       "      <th>userId</th>\n",
       "      <td>159</td>\n",
       "      <td>673</td>\n",
       "      <td>1502</td>\n",
       "      <td>224</td>\n",
       "      <td>557</td>\n",
       "    </tr>\n",
       "    <tr>\n",
       "      <th>itemId</th>\n",
       "      <td>241</td>\n",
       "      <td>7</td>\n",
       "      <td>255</td>\n",
       "      <td>10</td>\n",
       "      <td>9</td>\n",
       "    </tr>\n",
       "    <tr>\n",
       "      <th>rating</th>\n",
       "      <td>0.5</td>\n",
       "      <td>3</td>\n",
       "      <td>3.5</td>\n",
       "      <td>4</td>\n",
       "      <td>4</td>\n",
       "    </tr>\n",
       "    <tr>\n",
       "      <th>mean_on_self</th>\n",
       "      <td>1</td>\n",
       "      <td>NaN</td>\n",
       "      <td>NaN</td>\n",
       "      <td>1</td>\n",
       "      <td>NaN</td>\n",
       "    </tr>\n",
       "    <tr>\n",
       "      <th>min_on_self</th>\n",
       "      <td>1</td>\n",
       "      <td>NaN</td>\n",
       "      <td>NaN</td>\n",
       "      <td>1</td>\n",
       "      <td>NaN</td>\n",
       "    </tr>\n",
       "    <tr>\n",
       "      <th>max_on_self</th>\n",
       "      <td>1</td>\n",
       "      <td>NaN</td>\n",
       "      <td>NaN</td>\n",
       "      <td>1</td>\n",
       "      <td>NaN</td>\n",
       "    </tr>\n",
       "    <tr>\n",
       "      <th>mean_on_other</th>\n",
       "      <td>NaN</td>\n",
       "      <td>NaN</td>\n",
       "      <td>NaN</td>\n",
       "      <td>NaN</td>\n",
       "      <td>NaN</td>\n",
       "    </tr>\n",
       "    <tr>\n",
       "      <th>min_on_other</th>\n",
       "      <td>NaN</td>\n",
       "      <td>NaN</td>\n",
       "      <td>NaN</td>\n",
       "      <td>NaN</td>\n",
       "      <td>NaN</td>\n",
       "    </tr>\n",
       "    <tr>\n",
       "      <th>max_on_other</th>\n",
       "      <td>NaN</td>\n",
       "      <td>NaN</td>\n",
       "      <td>NaN</td>\n",
       "      <td>NaN</td>\n",
       "      <td>NaN</td>\n",
       "    </tr>\n",
       "    <tr>\n",
       "      <th>random_dstype</th>\n",
       "      <td>train</td>\n",
       "      <td>train</td>\n",
       "      <td>train</td>\n",
       "      <td>train</td>\n",
       "      <td>train</td>\n",
       "    </tr>\n",
       "    <tr>\n",
       "      <th>user_idx</th>\n",
       "      <td>1</td>\n",
       "      <td>2</td>\n",
       "      <td>3</td>\n",
       "      <td>4</td>\n",
       "      <td>5</td>\n",
       "    </tr>\n",
       "    <tr>\n",
       "      <th>item_idx</th>\n",
       "      <td>1</td>\n",
       "      <td>2</td>\n",
       "      <td>3</td>\n",
       "      <td>4</td>\n",
       "      <td>5</td>\n",
       "    </tr>\n",
       "    <tr>\n",
       "      <th>dstype_random_train</th>\n",
       "      <td>1</td>\n",
       "      <td>1</td>\n",
       "      <td>1</td>\n",
       "      <td>1</td>\n",
       "      <td>1</td>\n",
       "    </tr>\n",
       "    <tr>\n",
       "      <th>dstype_random_valid</th>\n",
       "      <td>0</td>\n",
       "      <td>0</td>\n",
       "      <td>0</td>\n",
       "      <td>0</td>\n",
       "      <td>0</td>\n",
       "    </tr>\n",
       "  </tbody>\n",
       "</table>\n",
       "</div>"
      ],
      "text/plain": [
       "                     3297   16463  35390  5367   13666\n",
       "userId                 159    673   1502    224    557\n",
       "itemId                 241      7    255     10      9\n",
       "rating                 0.5      3    3.5      4      4\n",
       "mean_on_self             1    NaN    NaN      1    NaN\n",
       "min_on_self              1    NaN    NaN      1    NaN\n",
       "max_on_self              1    NaN    NaN      1    NaN\n",
       "mean_on_other          NaN    NaN    NaN    NaN    NaN\n",
       "min_on_other           NaN    NaN    NaN    NaN    NaN\n",
       "max_on_other           NaN    NaN    NaN    NaN    NaN\n",
       "random_dstype        train  train  train  train  train\n",
       "user_idx                 1      2      3      4      5\n",
       "item_idx                 1      2      3      4      5\n",
       "dstype_random_train      1      1      1      1      1\n",
       "dstype_random_valid      0      0      0      0      0"
      ]
     },
     "execution_count": 6,
     "metadata": {},
     "output_type": "execute_result"
    }
   ],
   "source": [
    "df.head().T"
   ]
  },
  {
   "cell_type": "markdown",
   "metadata": {},
   "source": [
    "### Treatment missing"
   ]
  },
  {
   "cell_type": "code",
   "execution_count": 7,
   "metadata": {},
   "outputs": [],
   "source": [
    "trust_cols=['mean_on_self','min_on_self','max_on_self','mean_on_other','min_on_other','max_on_other']"
   ]
  },
  {
   "cell_type": "code",
   "execution_count": 10,
   "metadata": {},
   "outputs": [],
   "source": [
    "for col in trust_cols:\n",
    "    df[col+'_missing']=df[col].isnull().astype(int)\n",
    "    df[col].fillna(0,inplace=True)"
   ]
  },
  {
   "cell_type": "code",
   "execution_count": 11,
   "metadata": {},
   "outputs": [
    {
     "data": {
      "text/html": [
       "<div>\n",
       "<style scoped>\n",
       "    .dataframe tbody tr th:only-of-type {\n",
       "        vertical-align: middle;\n",
       "    }\n",
       "\n",
       "    .dataframe tbody tr th {\n",
       "        vertical-align: top;\n",
       "    }\n",
       "\n",
       "    .dataframe thead th {\n",
       "        text-align: right;\n",
       "    }\n",
       "</style>\n",
       "<table border=\"1\" class=\"dataframe\">\n",
       "  <thead>\n",
       "    <tr style=\"text-align: right;\">\n",
       "      <th></th>\n",
       "      <th>3297</th>\n",
       "      <th>16463</th>\n",
       "      <th>35390</th>\n",
       "      <th>5367</th>\n",
       "      <th>13666</th>\n",
       "    </tr>\n",
       "  </thead>\n",
       "  <tbody>\n",
       "    <tr>\n",
       "      <th>userId</th>\n",
       "      <td>159</td>\n",
       "      <td>673</td>\n",
       "      <td>1502</td>\n",
       "      <td>224</td>\n",
       "      <td>557</td>\n",
       "    </tr>\n",
       "    <tr>\n",
       "      <th>itemId</th>\n",
       "      <td>241</td>\n",
       "      <td>7</td>\n",
       "      <td>255</td>\n",
       "      <td>10</td>\n",
       "      <td>9</td>\n",
       "    </tr>\n",
       "    <tr>\n",
       "      <th>rating</th>\n",
       "      <td>0.5</td>\n",
       "      <td>3</td>\n",
       "      <td>3.5</td>\n",
       "      <td>4</td>\n",
       "      <td>4</td>\n",
       "    </tr>\n",
       "    <tr>\n",
       "      <th>mean_on_self</th>\n",
       "      <td>1</td>\n",
       "      <td>0</td>\n",
       "      <td>0</td>\n",
       "      <td>1</td>\n",
       "      <td>0</td>\n",
       "    </tr>\n",
       "    <tr>\n",
       "      <th>min_on_self</th>\n",
       "      <td>1</td>\n",
       "      <td>0</td>\n",
       "      <td>0</td>\n",
       "      <td>1</td>\n",
       "      <td>0</td>\n",
       "    </tr>\n",
       "    <tr>\n",
       "      <th>max_on_self</th>\n",
       "      <td>1</td>\n",
       "      <td>0</td>\n",
       "      <td>0</td>\n",
       "      <td>1</td>\n",
       "      <td>0</td>\n",
       "    </tr>\n",
       "    <tr>\n",
       "      <th>mean_on_other</th>\n",
       "      <td>0</td>\n",
       "      <td>0</td>\n",
       "      <td>0</td>\n",
       "      <td>0</td>\n",
       "      <td>0</td>\n",
       "    </tr>\n",
       "    <tr>\n",
       "      <th>min_on_other</th>\n",
       "      <td>0</td>\n",
       "      <td>0</td>\n",
       "      <td>0</td>\n",
       "      <td>0</td>\n",
       "      <td>0</td>\n",
       "    </tr>\n",
       "    <tr>\n",
       "      <th>max_on_other</th>\n",
       "      <td>0</td>\n",
       "      <td>0</td>\n",
       "      <td>0</td>\n",
       "      <td>0</td>\n",
       "      <td>0</td>\n",
       "    </tr>\n",
       "    <tr>\n",
       "      <th>random_dstype</th>\n",
       "      <td>train</td>\n",
       "      <td>train</td>\n",
       "      <td>train</td>\n",
       "      <td>train</td>\n",
       "      <td>train</td>\n",
       "    </tr>\n",
       "    <tr>\n",
       "      <th>user_idx</th>\n",
       "      <td>1</td>\n",
       "      <td>2</td>\n",
       "      <td>3</td>\n",
       "      <td>4</td>\n",
       "      <td>5</td>\n",
       "    </tr>\n",
       "    <tr>\n",
       "      <th>item_idx</th>\n",
       "      <td>1</td>\n",
       "      <td>2</td>\n",
       "      <td>3</td>\n",
       "      <td>4</td>\n",
       "      <td>5</td>\n",
       "    </tr>\n",
       "    <tr>\n",
       "      <th>dstype_random_train</th>\n",
       "      <td>1</td>\n",
       "      <td>1</td>\n",
       "      <td>1</td>\n",
       "      <td>1</td>\n",
       "      <td>1</td>\n",
       "    </tr>\n",
       "    <tr>\n",
       "      <th>dstype_random_valid</th>\n",
       "      <td>0</td>\n",
       "      <td>0</td>\n",
       "      <td>0</td>\n",
       "      <td>0</td>\n",
       "      <td>0</td>\n",
       "    </tr>\n",
       "    <tr>\n",
       "      <th>mean_on_self_missing</th>\n",
       "      <td>0</td>\n",
       "      <td>1</td>\n",
       "      <td>1</td>\n",
       "      <td>0</td>\n",
       "      <td>1</td>\n",
       "    </tr>\n",
       "    <tr>\n",
       "      <th>min_on_self_missing</th>\n",
       "      <td>0</td>\n",
       "      <td>1</td>\n",
       "      <td>1</td>\n",
       "      <td>0</td>\n",
       "      <td>1</td>\n",
       "    </tr>\n",
       "    <tr>\n",
       "      <th>max_on_self_missing</th>\n",
       "      <td>0</td>\n",
       "      <td>1</td>\n",
       "      <td>1</td>\n",
       "      <td>0</td>\n",
       "      <td>1</td>\n",
       "    </tr>\n",
       "    <tr>\n",
       "      <th>mean_on_other_missing</th>\n",
       "      <td>1</td>\n",
       "      <td>1</td>\n",
       "      <td>1</td>\n",
       "      <td>1</td>\n",
       "      <td>1</td>\n",
       "    </tr>\n",
       "    <tr>\n",
       "      <th>min_on_other_missing</th>\n",
       "      <td>1</td>\n",
       "      <td>1</td>\n",
       "      <td>1</td>\n",
       "      <td>1</td>\n",
       "      <td>1</td>\n",
       "    </tr>\n",
       "    <tr>\n",
       "      <th>max_on_other_missing</th>\n",
       "      <td>1</td>\n",
       "      <td>1</td>\n",
       "      <td>1</td>\n",
       "      <td>1</td>\n",
       "      <td>1</td>\n",
       "    </tr>\n",
       "  </tbody>\n",
       "</table>\n",
       "</div>"
      ],
      "text/plain": [
       "                       3297   16463  35390  5367   13666\n",
       "userId                   159    673   1502    224    557\n",
       "itemId                   241      7    255     10      9\n",
       "rating                   0.5      3    3.5      4      4\n",
       "mean_on_self               1      0      0      1      0\n",
       "min_on_self                1      0      0      1      0\n",
       "max_on_self                1      0      0      1      0\n",
       "mean_on_other              0      0      0      0      0\n",
       "min_on_other               0      0      0      0      0\n",
       "max_on_other               0      0      0      0      0\n",
       "random_dstype          train  train  train  train  train\n",
       "user_idx                   1      2      3      4      5\n",
       "item_idx                   1      2      3      4      5\n",
       "dstype_random_train        1      1      1      1      1\n",
       "dstype_random_valid        0      0      0      0      0\n",
       "mean_on_self_missing       0      1      1      0      1\n",
       "min_on_self_missing        0      1      1      0      1\n",
       "max_on_self_missing        0      1      1      0      1\n",
       "mean_on_other_missing      1      1      1      1      1\n",
       "min_on_other_missing       1      1      1      1      1\n",
       "max_on_other_missing       1      1      1      1      1"
      ]
     },
     "execution_count": 11,
     "metadata": {},
     "output_type": "execute_result"
    }
   ],
   "source": [
    "df.head().T"
   ]
  },
  {
   "cell_type": "code",
   "execution_count": 14,
   "metadata": {},
   "outputs": [],
   "source": [
    "trust_cols=trust_cols+[col+'_missing' for col in trust_cols]"
   ]
  },
  {
   "cell_type": "code",
   "execution_count": 15,
   "metadata": {},
   "outputs": [
    {
     "data": {
      "text/plain": [
       "['mean_on_self',\n",
       " 'min_on_self',\n",
       " 'max_on_self',\n",
       " 'mean_on_other',\n",
       " 'min_on_other',\n",
       " 'max_on_other',\n",
       " 'mean_on_self_missing',\n",
       " 'min_on_self_missing',\n",
       " 'max_on_self_missing',\n",
       " 'mean_on_other_missing',\n",
       " 'min_on_other_missing',\n",
       " 'max_on_other_missing']"
      ]
     },
     "execution_count": 15,
     "metadata": {},
     "output_type": "execute_result"
    }
   ],
   "source": [
    "trust_cols"
   ]
  },
  {
   "cell_type": "code",
   "execution_count": 16,
   "metadata": {},
   "outputs": [],
   "source": [
    "df_train=df.loc[df['random_dstype']=='train']\n",
    "df_valid=df.loc[df['random_dstype']!='train']"
   ]
  },
  {
   "cell_type": "code",
   "execution_count": 17,
   "metadata": {},
   "outputs": [
    {
     "data": {
      "text/html": [
       "<div>\n",
       "<style scoped>\n",
       "    .dataframe tbody tr th:only-of-type {\n",
       "        vertical-align: middle;\n",
       "    }\n",
       "\n",
       "    .dataframe tbody tr th {\n",
       "        vertical-align: top;\n",
       "    }\n",
       "\n",
       "    .dataframe thead th {\n",
       "        text-align: right;\n",
       "    }\n",
       "</style>\n",
       "<table border=\"1\" class=\"dataframe\">\n",
       "  <thead>\n",
       "    <tr style=\"text-align: right;\">\n",
       "      <th></th>\n",
       "      <th>userId</th>\n",
       "      <th>itemId</th>\n",
       "      <th>rating</th>\n",
       "      <th>mean_on_self</th>\n",
       "      <th>min_on_self</th>\n",
       "      <th>max_on_self</th>\n",
       "      <th>mean_on_other</th>\n",
       "      <th>min_on_other</th>\n",
       "      <th>max_on_other</th>\n",
       "      <th>random_dstype</th>\n",
       "      <th>user_idx</th>\n",
       "      <th>item_idx</th>\n",
       "      <th>dstype_random_train</th>\n",
       "      <th>dstype_random_valid</th>\n",
       "      <th>mean_on_self_missing</th>\n",
       "      <th>min_on_self_missing</th>\n",
       "      <th>max_on_self_missing</th>\n",
       "      <th>mean_on_other_missing</th>\n",
       "      <th>min_on_other_missing</th>\n",
       "      <th>max_on_other_missing</th>\n",
       "    </tr>\n",
       "  </thead>\n",
       "  <tbody>\n",
       "    <tr>\n",
       "      <th>3297</th>\n",
       "      <td>159</td>\n",
       "      <td>241</td>\n",
       "      <td>0.5</td>\n",
       "      <td>1.0</td>\n",
       "      <td>1.0</td>\n",
       "      <td>1.0</td>\n",
       "      <td>0.0</td>\n",
       "      <td>0.0</td>\n",
       "      <td>0.0</td>\n",
       "      <td>train</td>\n",
       "      <td>1</td>\n",
       "      <td>1</td>\n",
       "      <td>1</td>\n",
       "      <td>0</td>\n",
       "      <td>0</td>\n",
       "      <td>0</td>\n",
       "      <td>0</td>\n",
       "      <td>1</td>\n",
       "      <td>1</td>\n",
       "      <td>1</td>\n",
       "    </tr>\n",
       "    <tr>\n",
       "      <th>16463</th>\n",
       "      <td>673</td>\n",
       "      <td>7</td>\n",
       "      <td>3.0</td>\n",
       "      <td>0.0</td>\n",
       "      <td>0.0</td>\n",
       "      <td>0.0</td>\n",
       "      <td>0.0</td>\n",
       "      <td>0.0</td>\n",
       "      <td>0.0</td>\n",
       "      <td>train</td>\n",
       "      <td>2</td>\n",
       "      <td>2</td>\n",
       "      <td>1</td>\n",
       "      <td>0</td>\n",
       "      <td>1</td>\n",
       "      <td>1</td>\n",
       "      <td>1</td>\n",
       "      <td>1</td>\n",
       "      <td>1</td>\n",
       "      <td>1</td>\n",
       "    </tr>\n",
       "    <tr>\n",
       "      <th>35390</th>\n",
       "      <td>1502</td>\n",
       "      <td>255</td>\n",
       "      <td>3.5</td>\n",
       "      <td>0.0</td>\n",
       "      <td>0.0</td>\n",
       "      <td>0.0</td>\n",
       "      <td>0.0</td>\n",
       "      <td>0.0</td>\n",
       "      <td>0.0</td>\n",
       "      <td>train</td>\n",
       "      <td>3</td>\n",
       "      <td>3</td>\n",
       "      <td>1</td>\n",
       "      <td>0</td>\n",
       "      <td>1</td>\n",
       "      <td>1</td>\n",
       "      <td>1</td>\n",
       "      <td>1</td>\n",
       "      <td>1</td>\n",
       "      <td>1</td>\n",
       "    </tr>\n",
       "    <tr>\n",
       "      <th>5367</th>\n",
       "      <td>224</td>\n",
       "      <td>10</td>\n",
       "      <td>4.0</td>\n",
       "      <td>1.0</td>\n",
       "      <td>1.0</td>\n",
       "      <td>1.0</td>\n",
       "      <td>0.0</td>\n",
       "      <td>0.0</td>\n",
       "      <td>0.0</td>\n",
       "      <td>train</td>\n",
       "      <td>4</td>\n",
       "      <td>4</td>\n",
       "      <td>1</td>\n",
       "      <td>0</td>\n",
       "      <td>0</td>\n",
       "      <td>0</td>\n",
       "      <td>0</td>\n",
       "      <td>1</td>\n",
       "      <td>1</td>\n",
       "      <td>1</td>\n",
       "    </tr>\n",
       "    <tr>\n",
       "      <th>13666</th>\n",
       "      <td>557</td>\n",
       "      <td>9</td>\n",
       "      <td>4.0</td>\n",
       "      <td>0.0</td>\n",
       "      <td>0.0</td>\n",
       "      <td>0.0</td>\n",
       "      <td>0.0</td>\n",
       "      <td>0.0</td>\n",
       "      <td>0.0</td>\n",
       "      <td>train</td>\n",
       "      <td>5</td>\n",
       "      <td>5</td>\n",
       "      <td>1</td>\n",
       "      <td>0</td>\n",
       "      <td>1</td>\n",
       "      <td>1</td>\n",
       "      <td>1</td>\n",
       "      <td>1</td>\n",
       "      <td>1</td>\n",
       "      <td>1</td>\n",
       "    </tr>\n",
       "  </tbody>\n",
       "</table>\n",
       "</div>"
      ],
      "text/plain": [
       "       userId  itemId  rating  mean_on_self  min_on_self  max_on_self  \\\n",
       "3297      159     241     0.5           1.0          1.0          1.0   \n",
       "16463     673       7     3.0           0.0          0.0          0.0   \n",
       "35390    1502     255     3.5           0.0          0.0          0.0   \n",
       "5367      224      10     4.0           1.0          1.0          1.0   \n",
       "13666     557       9     4.0           0.0          0.0          0.0   \n",
       "\n",
       "       mean_on_other  min_on_other  max_on_other random_dstype  user_idx  \\\n",
       "3297             0.0           0.0           0.0         train         1   \n",
       "16463            0.0           0.0           0.0         train         2   \n",
       "35390            0.0           0.0           0.0         train         3   \n",
       "5367             0.0           0.0           0.0         train         4   \n",
       "13666            0.0           0.0           0.0         train         5   \n",
       "\n",
       "       item_idx  dstype_random_train  dstype_random_valid  \\\n",
       "3297          1                    1                    0   \n",
       "16463         2                    1                    0   \n",
       "35390         3                    1                    0   \n",
       "5367          4                    1                    0   \n",
       "13666         5                    1                    0   \n",
       "\n",
       "       mean_on_self_missing  min_on_self_missing  max_on_self_missing  \\\n",
       "3297                      0                    0                    0   \n",
       "16463                     1                    1                    1   \n",
       "35390                     1                    1                    1   \n",
       "5367                      0                    0                    0   \n",
       "13666                     1                    1                    1   \n",
       "\n",
       "       mean_on_other_missing  min_on_other_missing  max_on_other_missing  \n",
       "3297                       1                     1                     1  \n",
       "16463                      1                     1                     1  \n",
       "35390                      1                     1                     1  \n",
       "5367                       1                     1                     1  \n",
       "13666                      1                     1                     1  "
      ]
     },
     "execution_count": 17,
     "metadata": {},
     "output_type": "execute_result"
    }
   ],
   "source": [
    "df_train.head()"
   ]
  },
  {
   "cell_type": "markdown",
   "metadata": {},
   "source": [
    "### Add the autoencoder features"
   ]
  },
  {
   "cell_type": "code",
   "execution_count": 18,
   "metadata": {},
   "outputs": [],
   "source": [
    "import pickle"
   ]
  },
  {
   "cell_type": "code",
   "execution_count": 19,
   "metadata": {},
   "outputs": [],
   "source": [
    "[df_train_user_autoenc,df_valid_user_autoenc,user_mtx_1_weights,user_mtx_2_weights]=\\\n",
    "    pickle.load(open(f'{DATAPATH}/inter/user_autoenc_weights.pkl','rb'))"
   ]
  },
  {
   "cell_type": "code",
   "execution_count": 20,
   "metadata": {},
   "outputs": [],
   "source": [
    "[df_train_item_autoenc, df_valid_item_autoenc,item_mtx_1_weights,item_mtx_2_weights]=\\\n",
    "    pickle.load(open(f'{DATAPATH}/inter/item_autoenc_weights.pkl','rb'))"
   ]
  },
  {
   "cell_type": "code",
   "execution_count": 21,
   "metadata": {},
   "outputs": [
    {
     "data": {
      "text/plain": [
       "((1508, 11),\n",
       " pandas.core.frame.DataFrame,\n",
       "    userId  user_autoenc0  user_autoenc1  user_autoenc2  user_autoenc3  \\\n",
       " 0       1      -3.341200       0.683606      -2.894754      -1.242846   \n",
       " 1       2      -1.003649      -2.366309      -0.365209      -1.525750   \n",
       " 2       3       0.873887      -1.549360      -1.023044      -0.091014   \n",
       " 3       4      -0.965775      -0.511479      -0.173978      -0.120885   \n",
       " 4       5      -1.066844      -2.348508      -0.416565      -1.564133   \n",
       " \n",
       "    user_autoenc4  user_autoenc5  user_autoenc6  user_autoenc7  user_autoenc8  \\\n",
       " 0      -2.154273       0.776028       0.834076      -3.665377       0.993176   \n",
       " 1       1.433479       1.259102       0.798494      -1.255771      -0.234993   \n",
       " 2       1.348692       2.057812       1.699200      -1.074568      -0.877823   \n",
       " 3      -0.980896      -0.076011       1.933037      -1.368997      -0.996827   \n",
       " 4       1.417177       1.260069       0.795392      -1.307355      -0.197687   \n",
       " \n",
       "    user_autoenc9  \n",
       " 0      -0.552663  \n",
       " 1      -0.674393  \n",
       " 2      -0.163366  \n",
       " 3      -0.186964  \n",
       " 4      -0.663870  )"
      ]
     },
     "execution_count": 21,
     "metadata": {},
     "output_type": "execute_result"
    }
   ],
   "source": [
    "df_train_user_autoenc.shape, type(df_train_user_autoenc),df_train_user_autoenc.head()"
   ]
  },
  {
   "cell_type": "code",
   "execution_count": 22,
   "metadata": {},
   "outputs": [
    {
     "data": {
      "text/plain": [
       "((2071, 11),\n",
       " pandas.core.frame.DataFrame,\n",
       "    itemId  item_autoenc0  item_autoenc1  item_autoenc2  item_autoenc3  \\\n",
       " 0       1       2.148755       2.105521       1.759979      -1.797472   \n",
       " 1       2       2.105715       2.088630       1.659954      -1.772268   \n",
       " 2       3       2.148767       2.105526       1.760009      -1.797479   \n",
       " 3       4       2.148765       2.105525       1.760002      -1.797478   \n",
       " 4       5       2.148767       2.105526       1.760007      -1.797479   \n",
       " \n",
       "    item_autoenc4  item_autoenc5  item_autoenc6  item_autoenc7  item_autoenc8  \\\n",
       " 0      -0.736646      -0.777778       0.748404       0.080765      -2.254708   \n",
       " 1      -0.660342      -0.688140       0.840236       0.140432      -2.202901   \n",
       " 2      -0.736669      -0.777805       0.748376       0.080747      -2.254724   \n",
       " 3      -0.736664      -0.777799       0.748383       0.080752      -2.254720   \n",
       " 4      -0.736667      -0.777803       0.748379       0.080749      -2.254722   \n",
       " \n",
       "    item_autoenc9  \n",
       " 0       1.648673  \n",
       " 1       1.532116  \n",
       " 2       1.648708  \n",
       " 3       1.648700  \n",
       " 4       1.648705  )"
      ]
     },
     "execution_count": 22,
     "metadata": {},
     "output_type": "execute_result"
    }
   ],
   "source": [
    "df_train_item_autoenc.shape, type(df_train_item_autoenc),df_train_item_autoenc.head()"
   ]
  },
  {
   "cell_type": "code",
   "execution_count": 23,
   "metadata": {},
   "outputs": [
    {
     "data": {
      "text/plain": [
       "(31944, 20)"
      ]
     },
     "execution_count": 23,
     "metadata": {},
     "output_type": "execute_result"
    }
   ],
   "source": [
    "df_train.shape"
   ]
  },
  {
   "cell_type": "code",
   "execution_count": 24,
   "metadata": {},
   "outputs": [
    {
     "data": {
      "text/html": [
       "<div>\n",
       "<style scoped>\n",
       "    .dataframe tbody tr th:only-of-type {\n",
       "        vertical-align: middle;\n",
       "    }\n",
       "\n",
       "    .dataframe tbody tr th {\n",
       "        vertical-align: top;\n",
       "    }\n",
       "\n",
       "    .dataframe thead th {\n",
       "        text-align: right;\n",
       "    }\n",
       "</style>\n",
       "<table border=\"1\" class=\"dataframe\">\n",
       "  <thead>\n",
       "    <tr style=\"text-align: right;\">\n",
       "      <th></th>\n",
       "      <th>userId</th>\n",
       "      <th>itemId</th>\n",
       "      <th>rating</th>\n",
       "      <th>mean_on_self</th>\n",
       "      <th>min_on_self</th>\n",
       "      <th>max_on_self</th>\n",
       "      <th>mean_on_other</th>\n",
       "      <th>min_on_other</th>\n",
       "      <th>max_on_other</th>\n",
       "      <th>random_dstype</th>\n",
       "      <th>user_idx</th>\n",
       "      <th>item_idx</th>\n",
       "      <th>dstype_random_train</th>\n",
       "      <th>dstype_random_valid</th>\n",
       "      <th>mean_on_self_missing</th>\n",
       "      <th>min_on_self_missing</th>\n",
       "      <th>max_on_self_missing</th>\n",
       "      <th>mean_on_other_missing</th>\n",
       "      <th>min_on_other_missing</th>\n",
       "      <th>max_on_other_missing</th>\n",
       "    </tr>\n",
       "  </thead>\n",
       "  <tbody>\n",
       "    <tr>\n",
       "      <th>3297</th>\n",
       "      <td>159</td>\n",
       "      <td>241</td>\n",
       "      <td>0.5</td>\n",
       "      <td>1.0</td>\n",
       "      <td>1.0</td>\n",
       "      <td>1.0</td>\n",
       "      <td>0.0</td>\n",
       "      <td>0.0</td>\n",
       "      <td>0.0</td>\n",
       "      <td>train</td>\n",
       "      <td>1</td>\n",
       "      <td>1</td>\n",
       "      <td>1</td>\n",
       "      <td>0</td>\n",
       "      <td>0</td>\n",
       "      <td>0</td>\n",
       "      <td>0</td>\n",
       "      <td>1</td>\n",
       "      <td>1</td>\n",
       "      <td>1</td>\n",
       "    </tr>\n",
       "    <tr>\n",
       "      <th>16463</th>\n",
       "      <td>673</td>\n",
       "      <td>7</td>\n",
       "      <td>3.0</td>\n",
       "      <td>0.0</td>\n",
       "      <td>0.0</td>\n",
       "      <td>0.0</td>\n",
       "      <td>0.0</td>\n",
       "      <td>0.0</td>\n",
       "      <td>0.0</td>\n",
       "      <td>train</td>\n",
       "      <td>2</td>\n",
       "      <td>2</td>\n",
       "      <td>1</td>\n",
       "      <td>0</td>\n",
       "      <td>1</td>\n",
       "      <td>1</td>\n",
       "      <td>1</td>\n",
       "      <td>1</td>\n",
       "      <td>1</td>\n",
       "      <td>1</td>\n",
       "    </tr>\n",
       "    <tr>\n",
       "      <th>35390</th>\n",
       "      <td>1502</td>\n",
       "      <td>255</td>\n",
       "      <td>3.5</td>\n",
       "      <td>0.0</td>\n",
       "      <td>0.0</td>\n",
       "      <td>0.0</td>\n",
       "      <td>0.0</td>\n",
       "      <td>0.0</td>\n",
       "      <td>0.0</td>\n",
       "      <td>train</td>\n",
       "      <td>3</td>\n",
       "      <td>3</td>\n",
       "      <td>1</td>\n",
       "      <td>0</td>\n",
       "      <td>1</td>\n",
       "      <td>1</td>\n",
       "      <td>1</td>\n",
       "      <td>1</td>\n",
       "      <td>1</td>\n",
       "      <td>1</td>\n",
       "    </tr>\n",
       "    <tr>\n",
       "      <th>5367</th>\n",
       "      <td>224</td>\n",
       "      <td>10</td>\n",
       "      <td>4.0</td>\n",
       "      <td>1.0</td>\n",
       "      <td>1.0</td>\n",
       "      <td>1.0</td>\n",
       "      <td>0.0</td>\n",
       "      <td>0.0</td>\n",
       "      <td>0.0</td>\n",
       "      <td>train</td>\n",
       "      <td>4</td>\n",
       "      <td>4</td>\n",
       "      <td>1</td>\n",
       "      <td>0</td>\n",
       "      <td>0</td>\n",
       "      <td>0</td>\n",
       "      <td>0</td>\n",
       "      <td>1</td>\n",
       "      <td>1</td>\n",
       "      <td>1</td>\n",
       "    </tr>\n",
       "    <tr>\n",
       "      <th>13666</th>\n",
       "      <td>557</td>\n",
       "      <td>9</td>\n",
       "      <td>4.0</td>\n",
       "      <td>0.0</td>\n",
       "      <td>0.0</td>\n",
       "      <td>0.0</td>\n",
       "      <td>0.0</td>\n",
       "      <td>0.0</td>\n",
       "      <td>0.0</td>\n",
       "      <td>train</td>\n",
       "      <td>5</td>\n",
       "      <td>5</td>\n",
       "      <td>1</td>\n",
       "      <td>0</td>\n",
       "      <td>1</td>\n",
       "      <td>1</td>\n",
       "      <td>1</td>\n",
       "      <td>1</td>\n",
       "      <td>1</td>\n",
       "      <td>1</td>\n",
       "    </tr>\n",
       "  </tbody>\n",
       "</table>\n",
       "</div>"
      ],
      "text/plain": [
       "       userId  itemId  rating  mean_on_self  min_on_self  max_on_self  \\\n",
       "3297      159     241     0.5           1.0          1.0          1.0   \n",
       "16463     673       7     3.0           0.0          0.0          0.0   \n",
       "35390    1502     255     3.5           0.0          0.0          0.0   \n",
       "5367      224      10     4.0           1.0          1.0          1.0   \n",
       "13666     557       9     4.0           0.0          0.0          0.0   \n",
       "\n",
       "       mean_on_other  min_on_other  max_on_other random_dstype  user_idx  \\\n",
       "3297             0.0           0.0           0.0         train         1   \n",
       "16463            0.0           0.0           0.0         train         2   \n",
       "35390            0.0           0.0           0.0         train         3   \n",
       "5367             0.0           0.0           0.0         train         4   \n",
       "13666            0.0           0.0           0.0         train         5   \n",
       "\n",
       "       item_idx  dstype_random_train  dstype_random_valid  \\\n",
       "3297          1                    1                    0   \n",
       "16463         2                    1                    0   \n",
       "35390         3                    1                    0   \n",
       "5367          4                    1                    0   \n",
       "13666         5                    1                    0   \n",
       "\n",
       "       mean_on_self_missing  min_on_self_missing  max_on_self_missing  \\\n",
       "3297                      0                    0                    0   \n",
       "16463                     1                    1                    1   \n",
       "35390                     1                    1                    1   \n",
       "5367                      0                    0                    0   \n",
       "13666                     1                    1                    1   \n",
       "\n",
       "       mean_on_other_missing  min_on_other_missing  max_on_other_missing  \n",
       "3297                       1                     1                     1  \n",
       "16463                      1                     1                     1  \n",
       "35390                      1                     1                     1  \n",
       "5367                       1                     1                     1  \n",
       "13666                      1                     1                     1  "
      ]
     },
     "execution_count": 24,
     "metadata": {},
     "output_type": "execute_result"
    }
   ],
   "source": [
    "df_train.head()"
   ]
  },
  {
   "cell_type": "code",
   "execution_count": 25,
   "metadata": {},
   "outputs": [],
   "source": [
    "df_train=pd.merge(df_train,df_train_item_autoenc,on='itemId',how='left')"
   ]
  },
  {
   "cell_type": "code",
   "execution_count": 26,
   "metadata": {},
   "outputs": [
    {
     "data": {
      "text/plain": [
       "(31944, 30)"
      ]
     },
     "execution_count": 26,
     "metadata": {},
     "output_type": "execute_result"
    }
   ],
   "source": [
    "df_train.shape"
   ]
  },
  {
   "cell_type": "code",
   "execution_count": 27,
   "metadata": {},
   "outputs": [
    {
     "name": "stdout",
     "output_type": "stream",
     "text": [
      "(3550, 20)\n"
     ]
    },
    {
     "data": {
      "text/plain": [
       "(3550, 30)"
      ]
     },
     "execution_count": 27,
     "metadata": {},
     "output_type": "execute_result"
    }
   ],
   "source": [
    "print(df_valid.shape)\n",
    "df_valid=pd.merge(df_valid,df_valid_item_autoenc,on='itemId',how='left')\n",
    "df_valid.shape"
   ]
  },
  {
   "cell_type": "code",
   "execution_count": 28,
   "metadata": {},
   "outputs": [
    {
     "data": {
      "text/plain": [
       "(3550, 30)"
      ]
     },
     "execution_count": 28,
     "metadata": {},
     "output_type": "execute_result"
    }
   ],
   "source": [
    "df_valid.shape"
   ]
  },
  {
   "cell_type": "code",
   "execution_count": 29,
   "metadata": {},
   "outputs": [
    {
     "name": "stdout",
     "output_type": "stream",
     "text": [
      "(3550, 30)\n"
     ]
    },
    {
     "data": {
      "text/plain": [
       "(3550, 40)"
      ]
     },
     "execution_count": 29,
     "metadata": {},
     "output_type": "execute_result"
    }
   ],
   "source": [
    "print(df_valid.shape)\n",
    "df_valid=pd.merge(df_valid,df_valid_user_autoenc,on='userId',how='left')\n",
    "df_valid.shape"
   ]
  },
  {
   "cell_type": "code",
   "execution_count": 30,
   "metadata": {},
   "outputs": [
    {
     "name": "stdout",
     "output_type": "stream",
     "text": [
      "(31944, 30)\n"
     ]
    },
    {
     "data": {
      "text/plain": [
       "(31944, 40)"
      ]
     },
     "execution_count": 30,
     "metadata": {},
     "output_type": "execute_result"
    }
   ],
   "source": [
    "print(df_train.shape)\n",
    "df_train=pd.merge(df_train,df_train_user_autoenc,on='userId',how='left')\n",
    "df_train.shape"
   ]
  },
  {
   "cell_type": "code",
   "execution_count": 31,
   "metadata": {},
   "outputs": [
    {
     "data": {
      "text/plain": [
       "Index(['userId', 'itemId', 'rating', 'mean_on_self', 'min_on_self',\n",
       "       'max_on_self', 'mean_on_other', 'min_on_other', 'max_on_other',\n",
       "       'random_dstype', 'user_idx', 'item_idx', 'dstype_random_train',\n",
       "       'dstype_random_valid', 'mean_on_self_missing', 'min_on_self_missing',\n",
       "       'max_on_self_missing', 'mean_on_other_missing', 'min_on_other_missing',\n",
       "       'max_on_other_missing', 'item_autoenc0', 'item_autoenc1',\n",
       "       'item_autoenc2', 'item_autoenc3', 'item_autoenc4', 'item_autoenc5',\n",
       "       'item_autoenc6', 'item_autoenc7', 'item_autoenc8', 'item_autoenc9',\n",
       "       'user_autoenc0', 'user_autoenc1', 'user_autoenc2', 'user_autoenc3',\n",
       "       'user_autoenc4', 'user_autoenc5', 'user_autoenc6', 'user_autoenc7',\n",
       "       'user_autoenc8', 'user_autoenc9'],\n",
       "      dtype='object')"
      ]
     },
     "execution_count": 31,
     "metadata": {},
     "output_type": "execute_result"
    }
   ],
   "source": [
    "df_train.columns"
   ]
  },
  {
   "cell_type": "code",
   "execution_count": 36,
   "metadata": {},
   "outputs": [],
   "source": [
    "autoenc_cols=df_train.columns[df_train.columns.str.contains('autoenc')]"
   ]
  },
  {
   "cell_type": "code",
   "execution_count": 37,
   "metadata": {},
   "outputs": [],
   "source": [
    "autoenc_cols=autoenc_cols.tolist()"
   ]
  },
  {
   "cell_type": "code",
   "execution_count": 38,
   "metadata": {},
   "outputs": [],
   "source": [
    "autoenc_cols=autoenc_cols+trust_cols"
   ]
  },
  {
   "cell_type": "code",
   "execution_count": 39,
   "metadata": {},
   "outputs": [
    {
     "data": {
      "text/plain": [
       "['item_autoenc0',\n",
       " 'item_autoenc1',\n",
       " 'item_autoenc2',\n",
       " 'item_autoenc3',\n",
       " 'item_autoenc4',\n",
       " 'item_autoenc5',\n",
       " 'item_autoenc6',\n",
       " 'item_autoenc7',\n",
       " 'item_autoenc8',\n",
       " 'item_autoenc9',\n",
       " 'user_autoenc0',\n",
       " 'user_autoenc1',\n",
       " 'user_autoenc2',\n",
       " 'user_autoenc3',\n",
       " 'user_autoenc4',\n",
       " 'user_autoenc5',\n",
       " 'user_autoenc6',\n",
       " 'user_autoenc7',\n",
       " 'user_autoenc8',\n",
       " 'user_autoenc9',\n",
       " 'mean_on_self',\n",
       " 'min_on_self',\n",
       " 'max_on_self',\n",
       " 'mean_on_other',\n",
       " 'min_on_other',\n",
       " 'max_on_other',\n",
       " 'mean_on_self_missing',\n",
       " 'min_on_self_missing',\n",
       " 'max_on_self_missing',\n",
       " 'mean_on_other_missing',\n",
       " 'min_on_other_missing',\n",
       " 'max_on_other_missing']"
      ]
     },
     "execution_count": 39,
     "metadata": {},
     "output_type": "execute_result"
    }
   ],
   "source": [
    "autoenc_cols"
   ]
  },
  {
   "cell_type": "code",
   "execution_count": 40,
   "metadata": {},
   "outputs": [
    {
     "data": {
      "text/html": [
       "<div>\n",
       "<style scoped>\n",
       "    .dataframe tbody tr th:only-of-type {\n",
       "        vertical-align: middle;\n",
       "    }\n",
       "\n",
       "    .dataframe tbody tr th {\n",
       "        vertical-align: top;\n",
       "    }\n",
       "\n",
       "    .dataframe thead th {\n",
       "        text-align: right;\n",
       "    }\n",
       "</style>\n",
       "<table border=\"1\" class=\"dataframe\">\n",
       "  <thead>\n",
       "    <tr style=\"text-align: right;\">\n",
       "      <th></th>\n",
       "      <th>userId</th>\n",
       "      <th>itemId</th>\n",
       "      <th>rating</th>\n",
       "      <th>mean_on_self</th>\n",
       "      <th>min_on_self</th>\n",
       "      <th>max_on_self</th>\n",
       "      <th>mean_on_other</th>\n",
       "      <th>min_on_other</th>\n",
       "      <th>max_on_other</th>\n",
       "      <th>random_dstype</th>\n",
       "      <th>...</th>\n",
       "      <th>user_autoenc0</th>\n",
       "      <th>user_autoenc1</th>\n",
       "      <th>user_autoenc2</th>\n",
       "      <th>user_autoenc3</th>\n",
       "      <th>user_autoenc4</th>\n",
       "      <th>user_autoenc5</th>\n",
       "      <th>user_autoenc6</th>\n",
       "      <th>user_autoenc7</th>\n",
       "      <th>user_autoenc8</th>\n",
       "      <th>user_autoenc9</th>\n",
       "    </tr>\n",
       "  </thead>\n",
       "  <tbody>\n",
       "    <tr>\n",
       "      <th>0</th>\n",
       "      <td>159</td>\n",
       "      <td>241</td>\n",
       "      <td>0.5</td>\n",
       "      <td>1.0</td>\n",
       "      <td>1.0</td>\n",
       "      <td>1.0</td>\n",
       "      <td>0.0</td>\n",
       "      <td>0.0</td>\n",
       "      <td>0.0</td>\n",
       "      <td>train</td>\n",
       "      <td>...</td>\n",
       "      <td>-2.745483</td>\n",
       "      <td>-2.027757</td>\n",
       "      <td>-2.634101</td>\n",
       "      <td>-3.231060</td>\n",
       "      <td>2.551503</td>\n",
       "      <td>2.178736</td>\n",
       "      <td>-2.315682</td>\n",
       "      <td>-2.340696</td>\n",
       "      <td>2.303620</td>\n",
       "      <td>0.117822</td>\n",
       "    </tr>\n",
       "    <tr>\n",
       "      <th>1</th>\n",
       "      <td>673</td>\n",
       "      <td>7</td>\n",
       "      <td>3.0</td>\n",
       "      <td>0.0</td>\n",
       "      <td>0.0</td>\n",
       "      <td>0.0</td>\n",
       "      <td>0.0</td>\n",
       "      <td>0.0</td>\n",
       "      <td>0.0</td>\n",
       "      <td>train</td>\n",
       "      <td>...</td>\n",
       "      <td>-0.105591</td>\n",
       "      <td>-0.071498</td>\n",
       "      <td>-0.376756</td>\n",
       "      <td>0.245637</td>\n",
       "      <td>0.026462</td>\n",
       "      <td>0.300354</td>\n",
       "      <td>-0.558003</td>\n",
       "      <td>0.081122</td>\n",
       "      <td>0.516522</td>\n",
       "      <td>-0.727923</td>\n",
       "    </tr>\n",
       "    <tr>\n",
       "      <th>2</th>\n",
       "      <td>1502</td>\n",
       "      <td>255</td>\n",
       "      <td>3.5</td>\n",
       "      <td>0.0</td>\n",
       "      <td>0.0</td>\n",
       "      <td>0.0</td>\n",
       "      <td>0.0</td>\n",
       "      <td>0.0</td>\n",
       "      <td>0.0</td>\n",
       "      <td>train</td>\n",
       "      <td>...</td>\n",
       "      <td>-0.348932</td>\n",
       "      <td>-0.177966</td>\n",
       "      <td>-0.692913</td>\n",
       "      <td>0.059837</td>\n",
       "      <td>-0.707221</td>\n",
       "      <td>-0.615411</td>\n",
       "      <td>-1.128136</td>\n",
       "      <td>0.301624</td>\n",
       "      <td>0.860169</td>\n",
       "      <td>-0.745395</td>\n",
       "    </tr>\n",
       "    <tr>\n",
       "      <th>3</th>\n",
       "      <td>224</td>\n",
       "      <td>10</td>\n",
       "      <td>4.0</td>\n",
       "      <td>1.0</td>\n",
       "      <td>1.0</td>\n",
       "      <td>1.0</td>\n",
       "      <td>0.0</td>\n",
       "      <td>0.0</td>\n",
       "      <td>0.0</td>\n",
       "      <td>train</td>\n",
       "      <td>...</td>\n",
       "      <td>-1.850368</td>\n",
       "      <td>0.696236</td>\n",
       "      <td>-1.643970</td>\n",
       "      <td>-0.314808</td>\n",
       "      <td>-2.072049</td>\n",
       "      <td>-0.121137</td>\n",
       "      <td>1.301735</td>\n",
       "      <td>-2.551571</td>\n",
       "      <td>-0.014993</td>\n",
       "      <td>-0.327130</td>\n",
       "    </tr>\n",
       "    <tr>\n",
       "      <th>4</th>\n",
       "      <td>557</td>\n",
       "      <td>9</td>\n",
       "      <td>4.0</td>\n",
       "      <td>0.0</td>\n",
       "      <td>0.0</td>\n",
       "      <td>0.0</td>\n",
       "      <td>0.0</td>\n",
       "      <td>0.0</td>\n",
       "      <td>0.0</td>\n",
       "      <td>train</td>\n",
       "      <td>...</td>\n",
       "      <td>-0.316921</td>\n",
       "      <td>0.266559</td>\n",
       "      <td>-0.295155</td>\n",
       "      <td>0.087542</td>\n",
       "      <td>-0.864880</td>\n",
       "      <td>-0.051546</td>\n",
       "      <td>0.193434</td>\n",
       "      <td>-0.349935</td>\n",
       "      <td>0.686382</td>\n",
       "      <td>0.038217</td>\n",
       "    </tr>\n",
       "  </tbody>\n",
       "</table>\n",
       "<p>5 rows × 40 columns</p>\n",
       "</div>"
      ],
      "text/plain": [
       "   userId  itemId  rating  mean_on_self  min_on_self  max_on_self  \\\n",
       "0     159     241     0.5           1.0          1.0          1.0   \n",
       "1     673       7     3.0           0.0          0.0          0.0   \n",
       "2    1502     255     3.5           0.0          0.0          0.0   \n",
       "3     224      10     4.0           1.0          1.0          1.0   \n",
       "4     557       9     4.0           0.0          0.0          0.0   \n",
       "\n",
       "   mean_on_other  min_on_other  max_on_other random_dstype  ...  \\\n",
       "0            0.0           0.0           0.0         train  ...   \n",
       "1            0.0           0.0           0.0         train  ...   \n",
       "2            0.0           0.0           0.0         train  ...   \n",
       "3            0.0           0.0           0.0         train  ...   \n",
       "4            0.0           0.0           0.0         train  ...   \n",
       "\n",
       "   user_autoenc0  user_autoenc1  user_autoenc2  user_autoenc3  user_autoenc4  \\\n",
       "0      -2.745483      -2.027757      -2.634101      -3.231060       2.551503   \n",
       "1      -0.105591      -0.071498      -0.376756       0.245637       0.026462   \n",
       "2      -0.348932      -0.177966      -0.692913       0.059837      -0.707221   \n",
       "3      -1.850368       0.696236      -1.643970      -0.314808      -2.072049   \n",
       "4      -0.316921       0.266559      -0.295155       0.087542      -0.864880   \n",
       "\n",
       "   user_autoenc5  user_autoenc6  user_autoenc7  user_autoenc8  user_autoenc9  \n",
       "0       2.178736      -2.315682      -2.340696       2.303620       0.117822  \n",
       "1       0.300354      -0.558003       0.081122       0.516522      -0.727923  \n",
       "2      -0.615411      -1.128136       0.301624       0.860169      -0.745395  \n",
       "3      -0.121137       1.301735      -2.551571      -0.014993      -0.327130  \n",
       "4      -0.051546       0.193434      -0.349935       0.686382       0.038217  \n",
       "\n",
       "[5 rows x 40 columns]"
      ]
     },
     "execution_count": 40,
     "metadata": {},
     "output_type": "execute_result"
    }
   ],
   "source": [
    "df_train.head()"
   ]
  },
  {
   "cell_type": "code",
   "execution_count": 41,
   "metadata": {},
   "outputs": [
    {
     "data": {
      "text/html": [
       "<div>\n",
       "<style scoped>\n",
       "    .dataframe tbody tr th:only-of-type {\n",
       "        vertical-align: middle;\n",
       "    }\n",
       "\n",
       "    .dataframe tbody tr th {\n",
       "        vertical-align: top;\n",
       "    }\n",
       "\n",
       "    .dataframe thead th {\n",
       "        text-align: right;\n",
       "    }\n",
       "</style>\n",
       "<table border=\"1\" class=\"dataframe\">\n",
       "  <thead>\n",
       "    <tr style=\"text-align: right;\">\n",
       "      <th></th>\n",
       "      <th>user_idx</th>\n",
       "      <th>item_idx</th>\n",
       "      <th>item_autoenc0</th>\n",
       "      <th>item_autoenc1</th>\n",
       "      <th>item_autoenc2</th>\n",
       "      <th>item_autoenc3</th>\n",
       "      <th>item_autoenc4</th>\n",
       "      <th>item_autoenc5</th>\n",
       "      <th>item_autoenc6</th>\n",
       "      <th>item_autoenc7</th>\n",
       "      <th>...</th>\n",
       "      <th>max_on_self</th>\n",
       "      <th>mean_on_other</th>\n",
       "      <th>min_on_other</th>\n",
       "      <th>max_on_other</th>\n",
       "      <th>mean_on_self_missing</th>\n",
       "      <th>min_on_self_missing</th>\n",
       "      <th>max_on_self_missing</th>\n",
       "      <th>mean_on_other_missing</th>\n",
       "      <th>min_on_other_missing</th>\n",
       "      <th>max_on_other_missing</th>\n",
       "    </tr>\n",
       "  </thead>\n",
       "  <tbody>\n",
       "    <tr>\n",
       "      <th>0</th>\n",
       "      <td>1</td>\n",
       "      <td>1</td>\n",
       "      <td>2.143410</td>\n",
       "      <td>2.109679</td>\n",
       "      <td>1.762766</td>\n",
       "      <td>-1.787753</td>\n",
       "      <td>-0.740233</td>\n",
       "      <td>-0.776990</td>\n",
       "      <td>0.743170</td>\n",
       "      <td>0.072942</td>\n",
       "      <td>...</td>\n",
       "      <td>1.0</td>\n",
       "      <td>0.0</td>\n",
       "      <td>0.0</td>\n",
       "      <td>0.0</td>\n",
       "      <td>0</td>\n",
       "      <td>0</td>\n",
       "      <td>0</td>\n",
       "      <td>1</td>\n",
       "      <td>1</td>\n",
       "      <td>1</td>\n",
       "    </tr>\n",
       "    <tr>\n",
       "      <th>1</th>\n",
       "      <td>2</td>\n",
       "      <td>2</td>\n",
       "      <td>1.993736</td>\n",
       "      <td>2.044680</td>\n",
       "      <td>1.399719</td>\n",
       "      <td>-1.706689</td>\n",
       "      <td>-0.461817</td>\n",
       "      <td>-0.454929</td>\n",
       "      <td>1.079158</td>\n",
       "      <td>0.295657</td>\n",
       "      <td>...</td>\n",
       "      <td>0.0</td>\n",
       "      <td>0.0</td>\n",
       "      <td>0.0</td>\n",
       "      <td>0.0</td>\n",
       "      <td>1</td>\n",
       "      <td>1</td>\n",
       "      <td>1</td>\n",
       "      <td>1</td>\n",
       "      <td>1</td>\n",
       "      <td>1</td>\n",
       "    </tr>\n",
       "    <tr>\n",
       "      <th>2</th>\n",
       "      <td>3</td>\n",
       "      <td>3</td>\n",
       "      <td>1.837838</td>\n",
       "      <td>2.346579</td>\n",
       "      <td>1.920011</td>\n",
       "      <td>-1.232746</td>\n",
       "      <td>-0.943404</td>\n",
       "      <td>-0.730271</td>\n",
       "      <td>0.446007</td>\n",
       "      <td>-0.372549</td>\n",
       "      <td>...</td>\n",
       "      <td>0.0</td>\n",
       "      <td>0.0</td>\n",
       "      <td>0.0</td>\n",
       "      <td>0.0</td>\n",
       "      <td>1</td>\n",
       "      <td>1</td>\n",
       "      <td>1</td>\n",
       "      <td>1</td>\n",
       "      <td>1</td>\n",
       "      <td>1</td>\n",
       "    </tr>\n",
       "    <tr>\n",
       "      <th>3</th>\n",
       "      <td>4</td>\n",
       "      <td>4</td>\n",
       "      <td>2.162949</td>\n",
       "      <td>2.031683</td>\n",
       "      <td>1.767996</td>\n",
       "      <td>-1.779595</td>\n",
       "      <td>-0.597938</td>\n",
       "      <td>-0.883568</td>\n",
       "      <td>0.901213</td>\n",
       "      <td>-0.019628</td>\n",
       "      <td>...</td>\n",
       "      <td>1.0</td>\n",
       "      <td>0.0</td>\n",
       "      <td>0.0</td>\n",
       "      <td>0.0</td>\n",
       "      <td>0</td>\n",
       "      <td>0</td>\n",
       "      <td>0</td>\n",
       "      <td>1</td>\n",
       "      <td>1</td>\n",
       "      <td>1</td>\n",
       "    </tr>\n",
       "    <tr>\n",
       "      <th>4</th>\n",
       "      <td>5</td>\n",
       "      <td>5</td>\n",
       "      <td>2.148766</td>\n",
       "      <td>2.105525</td>\n",
       "      <td>1.760006</td>\n",
       "      <td>-1.797479</td>\n",
       "      <td>-0.736667</td>\n",
       "      <td>-0.777803</td>\n",
       "      <td>0.748379</td>\n",
       "      <td>0.080749</td>\n",
       "      <td>...</td>\n",
       "      <td>0.0</td>\n",
       "      <td>0.0</td>\n",
       "      <td>0.0</td>\n",
       "      <td>0.0</td>\n",
       "      <td>1</td>\n",
       "      <td>1</td>\n",
       "      <td>1</td>\n",
       "      <td>1</td>\n",
       "      <td>1</td>\n",
       "      <td>1</td>\n",
       "    </tr>\n",
       "  </tbody>\n",
       "</table>\n",
       "<p>5 rows × 34 columns</p>\n",
       "</div>"
      ],
      "text/plain": [
       "   user_idx  item_idx  item_autoenc0  item_autoenc1  item_autoenc2  \\\n",
       "0         1         1       2.143410       2.109679       1.762766   \n",
       "1         2         2       1.993736       2.044680       1.399719   \n",
       "2         3         3       1.837838       2.346579       1.920011   \n",
       "3         4         4       2.162949       2.031683       1.767996   \n",
       "4         5         5       2.148766       2.105525       1.760006   \n",
       "\n",
       "   item_autoenc3  item_autoenc4  item_autoenc5  item_autoenc6  item_autoenc7  \\\n",
       "0      -1.787753      -0.740233      -0.776990       0.743170       0.072942   \n",
       "1      -1.706689      -0.461817      -0.454929       1.079158       0.295657   \n",
       "2      -1.232746      -0.943404      -0.730271       0.446007      -0.372549   \n",
       "3      -1.779595      -0.597938      -0.883568       0.901213      -0.019628   \n",
       "4      -1.797479      -0.736667      -0.777803       0.748379       0.080749   \n",
       "\n",
       "   ...  max_on_self  mean_on_other  min_on_other  max_on_other  \\\n",
       "0  ...          1.0            0.0           0.0           0.0   \n",
       "1  ...          0.0            0.0           0.0           0.0   \n",
       "2  ...          0.0            0.0           0.0           0.0   \n",
       "3  ...          1.0            0.0           0.0           0.0   \n",
       "4  ...          0.0            0.0           0.0           0.0   \n",
       "\n",
       "   mean_on_self_missing  min_on_self_missing  max_on_self_missing  \\\n",
       "0                     0                    0                    0   \n",
       "1                     1                    1                    1   \n",
       "2                     1                    1                    1   \n",
       "3                     0                    0                    0   \n",
       "4                     1                    1                    1   \n",
       "\n",
       "   mean_on_other_missing  min_on_other_missing  max_on_other_missing  \n",
       "0                      1                     1                     1  \n",
       "1                      1                     1                     1  \n",
       "2                      1                     1                     1  \n",
       "3                      1                     1                     1  \n",
       "4                      1                     1                     1  \n",
       "\n",
       "[5 rows x 34 columns]"
      ]
     },
     "execution_count": 41,
     "metadata": {},
     "output_type": "execute_result"
    }
   ],
   "source": [
    "df_train[['user_idx','item_idx']+autoenc_cols].head()"
   ]
  },
  {
   "cell_type": "markdown",
   "metadata": {},
   "source": [
    "### Dataset and DataLoader"
   ]
  },
  {
   "cell_type": "code",
   "execution_count": 42,
   "metadata": {},
   "outputs": [],
   "source": [
    "class cfdata (torch.utils.data.dataset.Dataset):\n",
    "    def __init__(self,dfX,dfY,denseCols):\n",
    "        self.dfX,self.dfY=dfX,dfY\n",
    "        self.denseCols=denseCols\n",
    "        \n",
    "    def __len__ (self):\n",
    "        return self.dfX.shape[0]\n",
    "    \n",
    "    def __getitem__ (self, idx):\n",
    "        return torch.FloatTensor(self.dfX.iloc[idx].values),torch.FloatTensor([self.dfY.values[idx]])"
   ]
  },
  {
   "cell_type": "code",
   "execution_count": 43,
   "metadata": {},
   "outputs": [],
   "source": [
    "dstrain=cfdata(df_train[['user_idx','item_idx']+autoenc_cols],df_train['rating'],autoenc_cols)\n",
    "dsvalid=cfdata(df_valid[['user_idx','item_idx']+autoenc_cols],df_valid['rating'],autoenc_cols)"
   ]
  },
  {
   "cell_type": "code",
   "execution_count": 44,
   "metadata": {},
   "outputs": [
    {
     "data": {
      "text/plain": [
       "(31944, 40)"
      ]
     },
     "execution_count": 44,
     "metadata": {},
     "output_type": "execute_result"
    }
   ],
   "source": [
    "df_train.shape"
   ]
  },
  {
   "cell_type": "code",
   "execution_count": 45,
   "metadata": {},
   "outputs": [],
   "source": [
    "bs=16"
   ]
  },
  {
   "cell_type": "code",
   "execution_count": 46,
   "metadata": {},
   "outputs": [],
   "source": [
    "dltrain=DataLoader(dstrain,bs,True)"
   ]
  },
  {
   "cell_type": "code",
   "execution_count": 47,
   "metadata": {},
   "outputs": [],
   "source": [
    "dlvalid=DataLoader(dsvalid,bs,True)"
   ]
  },
  {
   "cell_type": "markdown",
   "metadata": {},
   "source": [
    "## Model Architecture"
   ]
  },
  {
   "cell_type": "code",
   "execution_count": 48,
   "metadata": {},
   "outputs": [],
   "source": [
    "n_users=len(user_to_idx)\n",
    "n_movies=len(movie_to_idx)"
   ]
  },
  {
   "cell_type": "code",
   "execution_count": 49,
   "metadata": {},
   "outputs": [
    {
     "data": {
      "text/plain": [
       "(1508, 2071)"
      ]
     },
     "execution_count": 49,
     "metadata": {},
     "output_type": "execute_result"
    }
   ],
   "source": [
    "n_users,n_movies"
   ]
  },
  {
   "cell_type": "code",
   "execution_count": 50,
   "metadata": {},
   "outputs": [],
   "source": [
    "n_emb_user=10\n",
    "n_emb_movie=25\n",
    "min_rating=min(df_train['rating'])\n",
    "max_rating=max(df_train['rating'])\n",
    "dropout_e=0.1\n",
    "hidden=[20,10,10]\n",
    "dropouts=[0.4,0.5,0.4]"
   ]
  },
  {
   "cell_type": "code",
   "execution_count": 51,
   "metadata": {},
   "outputs": [],
   "source": [
    "def hidden_layer(x,y,dropout,activation=nn.Sigmoid()):\n",
    "    return nn.Sequential(\n",
    "        nn.Linear(x, y),\n",
    "        activation,\n",
    "        nn.Dropout(p=dropout)\n",
    "        )   "
   ]
  },
  {
   "cell_type": "code",
   "execution_count": 52,
   "metadata": {},
   "outputs": [],
   "source": [
    "class cf(nn.Module):    \n",
    "    def __init__(self,n_users,n_emb_user,n_emb_movie,n_movies,min_rating,max_rating,autoenc_cols,\\\n",
    "                 dropout_e=0.01,hidden=[15,5],dropouts=[0.2,0.2]):\n",
    "        super().__init__()\n",
    "        self.n_users,self.n_emb_user,self.n_emb_movie,self.n_movies,self.min_rating,self.max_rating=\\\n",
    "                    n_users,n_emb_user,n_emb_movie,n_movies,min_rating,max_rating\n",
    "        self.dropout_e,self.hidden,self.dropouts=dropout_e,hidden,dropouts\n",
    "        self.autoenc_cols,self.len_dense_cols=autoenc_cols,len(autoenc_cols)\n",
    "        self.create_architecture()\n",
    "        self.criterion=nn.MSELoss()\n",
    "        \n",
    "        \n",
    "    def create_architecture(self):\n",
    "        self.emb_user=nn.Embedding(self.n_users+1,self.n_emb_user)\n",
    "        self.emb_movie=nn.Embedding(self.n_movies+1,self.n_emb_movie)\n",
    "        self.emb_dropout=nn.Dropout(self.dropout_e)\n",
    "\n",
    "        \n",
    "        self.lin1= nn.Sequential(nn.Linear(self.n_emb_user+self.n_emb_movie,self.hidden[0]),\n",
    "                    nn.ReLU(),\n",
    "                    nn.Dropout(p=dropouts[0]) )\n",
    "        self.lin2= nn.Sequential (nn.Linear(self.len_dense_cols,self.hidden[1]),\n",
    "                    nn.ReLU(),\n",
    "                    nn.Dropout(p=dropouts[1]) )\n",
    "        self.lin3= nn.Sequential (nn.Linear(self.hidden[0]+self.hidden[1],self.hidden[2]),\n",
    "                    nn.ReLU(),\n",
    "                    nn.Dropout(p=dropouts[2]))\n",
    "        self.lin4=nn.Linear(self.hidden[2],1)\n",
    "        \n",
    "        \n",
    "        self.bn1 = nn.BatchNorm1d(self.hidden[0])\n",
    "        self.bn2 = nn.BatchNorm1d(self.hidden[1])\n",
    "        self.bn3=nn.BatchNorm1d(self.hidden[2])\n",
    "        \n",
    "        self.sigmoid=nn.Sigmoid()\n",
    "        \n",
    "        \n",
    "    def init_parameters(self):\n",
    "        nn.init.kaiming_normal_(self.emb_user.weight.data)\n",
    "        nn.init.kaiming_normal_(self.emb_movie.weight.dat)\n",
    "        #nn.init.kaiming_normal_(lin)\n",
    "       \n",
    "    def forward (self,Xb,Yb):\n",
    "        users=Xb[:,0].long()\n",
    "        items=Xb[:,1].long()\n",
    "        users=self.emb_dropout(self.emb_user(users))\n",
    "        items=self.emb_dropout(self.emb_movie(items))\n",
    "        \n",
    "        denses=Xb[:,2:]\n",
    "        embed=torch.cat([users,items],1)\n",
    "        \n",
    "        out1=self.bn1(self.lin1(embed))\n",
    "        out2=self.bn2(self.lin2(denses))\n",
    "        out3=torch.cat([out1,out2],1)\n",
    "        out4=self.bn3(self.lin3(out3))\n",
    "        out5=self.lin4(out4)\n",
    "        \n",
    "        out=self.sigmoid(out5)\n",
    "        \n",
    "        preds=out*(self.max_rating-self.min_rating)+self.min_rating\n",
    "        #preds=preds.view(-1)\n",
    "        loss=self.criterion(preds,Yb)\n",
    "        return preds,loss"
   ]
  },
  {
   "cell_type": "code",
   "execution_count": 53,
   "metadata": {},
   "outputs": [],
   "source": [
    "cfobj=cf(n_users,n_emb_user,n_emb_movie,n_movies,min_rating,max_rating,autoenc_cols,dropout_e,hidden,dropouts)"
   ]
  },
  {
   "cell_type": "code",
   "execution_count": 54,
   "metadata": {},
   "outputs": [
    {
     "data": {
      "text/plain": [
       "cf(\n",
       "  (emb_user): Embedding(1509, 10)\n",
       "  (emb_movie): Embedding(2072, 25)\n",
       "  (emb_dropout): Dropout(p=0.1)\n",
       "  (lin1): Sequential(\n",
       "    (0): Linear(in_features=35, out_features=20, bias=True)\n",
       "    (1): ReLU()\n",
       "    (2): Dropout(p=0.4)\n",
       "  )\n",
       "  (lin2): Sequential(\n",
       "    (0): Linear(in_features=32, out_features=10, bias=True)\n",
       "    (1): ReLU()\n",
       "    (2): Dropout(p=0.5)\n",
       "  )\n",
       "  (lin3): Sequential(\n",
       "    (0): Linear(in_features=30, out_features=10, bias=True)\n",
       "    (1): ReLU()\n",
       "    (2): Dropout(p=0.4)\n",
       "  )\n",
       "  (lin4): Linear(in_features=10, out_features=1, bias=True)\n",
       "  (bn1): BatchNorm1d(20, eps=1e-05, momentum=0.1, affine=True, track_running_stats=True)\n",
       "  (bn2): BatchNorm1d(10, eps=1e-05, momentum=0.1, affine=True, track_running_stats=True)\n",
       "  (bn3): BatchNorm1d(10, eps=1e-05, momentum=0.1, affine=True, track_running_stats=True)\n",
       "  (sigmoid): Sigmoid()\n",
       "  (criterion): MSELoss()\n",
       ")"
      ]
     },
     "execution_count": 54,
     "metadata": {},
     "output_type": "execute_result"
    }
   ],
   "source": [
    "cfobj"
   ]
  },
  {
   "cell_type": "code",
   "execution_count": 55,
   "metadata": {},
   "outputs": [],
   "source": [
    "for Xb, Yb in dltrain:\n",
    "    break"
   ]
  },
  {
   "cell_type": "code",
   "execution_count": 56,
   "metadata": {},
   "outputs": [
    {
     "data": {
      "text/plain": [
       "(torch.Size([16, 34]), torch.Size([16, 1]))"
      ]
     },
     "execution_count": 56,
     "metadata": {},
     "output_type": "execute_result"
    }
   ],
   "source": [
    "Xb.shape, Yb.shape"
   ]
  },
  {
   "cell_type": "code",
   "execution_count": 57,
   "metadata": {},
   "outputs": [
    {
     "data": {
      "text/plain": [
       "torch.float32"
      ]
     },
     "execution_count": 57,
     "metadata": {},
     "output_type": "execute_result"
    }
   ],
   "source": [
    "Xb.dtype"
   ]
  },
  {
   "cell_type": "code",
   "execution_count": 58,
   "metadata": {},
   "outputs": [
    {
     "data": {
      "text/plain": [
       "(tensor([[1.9686],\n",
       "         [2.4775],\n",
       "         [1.8731],\n",
       "         [2.5342],\n",
       "         [2.1125],\n",
       "         [2.4536],\n",
       "         [2.1067],\n",
       "         [2.4604],\n",
       "         [2.0543],\n",
       "         [2.0235],\n",
       "         [2.1496],\n",
       "         [2.5435],\n",
       "         [2.2002],\n",
       "         [2.3838],\n",
       "         [2.1085],\n",
       "         [2.4769]], grad_fn=<AddBackward0>),\n",
       " tensor(1.7175, grad_fn=<MseLossBackward>))"
      ]
     },
     "execution_count": 58,
     "metadata": {},
     "output_type": "execute_result"
    }
   ],
   "source": [
    "cfobj.forward(Xb,Yb)"
   ]
  },
  {
   "cell_type": "markdown",
   "metadata": {},
   "source": [
    "## Learner"
   ]
  },
  {
   "cell_type": "code",
   "execution_count": 59,
   "metadata": {},
   "outputs": [],
   "source": [
    "class Learner():\n",
    "    def __init__(self,model,optimizer,metric_fn,device,bptt=12,print_every=5,clip_val=None,\\\n",
    "                 cycle_mult=0,lr_decay=0.7,wd_mult=6,start_lr=2e-2, end_lr=5e-4,error_type=\"mse\"):\n",
    "        self.model,self.optimizer,self.metric_fn,self.device,self.print_every,self.bptt,self.losses,self.clip_val=\\\n",
    "            model,optimizer,metric_fn,device,print_every,bptt,[],clip_val\n",
    "        self.n_epochs=1\n",
    "        self.cycle_mult,self.lr_decay=cycle_mult,lr_decay\n",
    "        self.wd_mult=wd_mult\n",
    "        for param_group in self.optimizer.param_groups:\n",
    "            self.start_lr=param_group['lr']\n",
    "            self.start_wd=param_group['weight_decay']\n",
    "        self.wd=self.start_wd\n",
    "        self.lr=self.start_lr\n",
    "        self.end_lr=end_lr\n",
    "        self.n_epoch=0\n",
    "        self.lrs=[1e-2,5e-3,1e-4,5e-4]\n",
    "        self.preds,self.preds_valid,self.trainY,self.actual=[],[],[],[]\n",
    "        self.ratio=self.end_lr/self.start_lr\n",
    "        self.num_steps=self.cycle_mult\n",
    "        self.reset_cycle=self.cycle_mult\n",
    "        self.error_type=error_type\n",
    "        \n",
    "    def fit (self,Xb,Yb,mode_train=True):\n",
    "        if mode_train:\n",
    "            self.model.train()\n",
    "        else:\n",
    "            self.model.eval()\n",
    "        \n",
    "        #import pdb\n",
    "        #pdb.set_trace()\n",
    "        preds,loss=self.model(Xb,Yb)\n",
    "\n",
    "     \n",
    "        if mode_train:\n",
    "            if 1==0:\n",
    "                lr =self.lrs[torch.randint(0,4,(1,))]\n",
    "                for param_group in self.optimizer.param_groups:\n",
    "                    param_group['lr']=lr\n",
    "            \n",
    "            self.optimizer.zero_grad()\n",
    "            loss.backward()\n",
    "            self.optimizer.step()\n",
    "        myloss=loss.item()\n",
    "    \n",
    "        \n",
    "        with torch.no_grad():\n",
    "            if self.error_type == \"mse\":\n",
    "                acc=nn.L1Loss() (preds,Yb)\n",
    "                myrmse=np.sqrt(myloss)\n",
    "            else:\n",
    "                acc=nn.MSELoss() (preds,Yb)\n",
    "                myrmse=np.sqrt(acc.item())\n",
    "            acc=acc.item()\n",
    "                 \n",
    "   \n",
    "        del preds\n",
    "        del loss\n",
    "        \n",
    "        if self.clip_val is not None:\n",
    "            torch.nn.utils.clip_grad_norm_(self.model.parameters(), self.clip_val)\n",
    "        \n",
    "        return myloss, acc, myrmse\n",
    "    \n",
    "    def lr_find (self,start_lr,end_lr,iterator,n_batch):\n",
    "        losses,lrs=[],[]\n",
    "        ratio=end_lr/start_lr\n",
    "        num_steps=n_batch\n",
    "        lr=start_lr\n",
    "        for i in range(num_steps):            \n",
    "            lr=lr*(end_lr/start_lr)**(1/num_steps)\n",
    "            lrs.append(lr)\n",
    "        self.lrs=lrs\n",
    "        self.run_epoch(iterator,mode_train=True,lrs=lrs)\n",
    "    \n",
    "    def run_epoch(self,iterator,mode_train,lrs=None):\n",
    "        epoch_loss,epoch_acc,i,k=0,0,0,0\n",
    "        epoch_rmse=0\n",
    "\n",
    "\n",
    "        for Xb,Yb in iterator:\n",
    "            Xb=Xb.to(self.device)\n",
    "            Yb=Yb.to(self.device)\n",
    "            \n",
    "            if lrs is not None:\n",
    "                lr=lrs[k]\n",
    "                for param_group in self.optimizer.param_groups:\n",
    "                    param_group['lr']=lr \n",
    "            \n",
    "\n",
    "            loss,acc,myrmse=self.fit(Xb,Yb,mode_train)\n",
    "            \n",
    "            if lrs is not None:\n",
    "                self.losses.append(loss)\n",
    "\n",
    "\n",
    "            \n",
    "\n",
    "            epoch_loss+=loss\n",
    "            epoch_acc+=acc\n",
    "            epoch_rmse+=myrmse\n",
    "            \n",
    "            k=k+1\n",
    "            if k%self.print_every == 0:\n",
    "                if k:\n",
    "                    print (f'Batch:{k} {epoch_loss/(k)}  ')  \n",
    "                    torch.cuda.empty_cache()\n",
    "\n",
    "        epoch_loss=epoch_loss/len(iterator)\n",
    "        epoch_acc=epoch_acc/len(iterator)\n",
    "        epoch_rmse=epoch_rmse/len(iterator)\n",
    "            \n",
    "        return epoch_loss,epoch_acc,epoch_rmse\n",
    "    \n",
    "    def plot_lrs(self, n_roll=1,ylim=None,xlim=None):\n",
    "        import seaborn as sns\n",
    "        ax=sns.lineplot(x=self.lrs,y=pd.Series(self.losses).rolling(n_roll).mean())\n",
    "        ax.set_xscale('log')\n",
    "        ax.set_ylabel('Loss')\n",
    "        ax.set_xlabel('Learning Rate')\n",
    "        if ylim is not None:\n",
    "            plt.ylim(ylim)\n",
    "        if xlim is not None:\n",
    "            plt.xlim(xlim)\n",
    "\n",
    "     \n",
    "    def run_epochs(self,dltrain,dlvalid,n_epochs=1):              \n",
    "        for epoch in range(n_epochs):                \n",
    "            loss,acc,rmse=self.run_epoch(dltrain,True)\n",
    "\n",
    "            lossv,accv,rmsev=self.run_epoch(dlvalid,mode_train=False)\n",
    "           \n",
    "            if self.error_type==\"mse\":\n",
    "                loss_mse=loss\n",
    "                loss_rmse=rmse\n",
    "                loss_mae=acc\n",
    "                lossv_mse=lossv\n",
    "                lossv_rmse=rmsev\n",
    "                lossv_mae=accv\n",
    "                \n",
    "            else:\n",
    "                loss_mse=acc\n",
    "                loss_rmse=rmse\n",
    "                loss_mae=loss\n",
    "                lossv_mse=accv\n",
    "                lossv_rmse=rmsev\n",
    "                lossv_mae=lossv\n",
    "            \n",
    "            print (f'Epoch:{epoch} Learning rate {self.lr} Weight Decay {self.wd} Train Loss:{loss} \\\n",
    "                Valid Loss:{lossv} Train RMSE:{loss_rmse} Valid RMSE:{lossv_rmse} Train MSE:{loss_mse} Valid MSE:{lossv_mse} \\\n",
    "                Train MAE:{loss_mae} Valid MAE:{lossv_mae}')\n",
    "\n",
    "              \n",
    "         \n",
    "     \n",
    "            if self.cycle_mult:\n",
    "                if self.n_epoch==self.reset_cycle:\n",
    "                    self.lr=self.start_lr\n",
    "                    #self.wd=self.start_wd\n",
    "                    self.reset_cycle*=self.cycle_mult\n",
    "                    #reset_cycle=self.n_epoch+reset_cycle\n",
    "                    self.n_epoch=0\n",
    "                    self.ratio=self.end_lr/self.start_lr\n",
    "                    self.num_steps=self.reset_cycle\n",
    "                else:\n",
    "                    #self.lr*=(self.lr_decay**self.n_epoch)  \n",
    "                    #if self.n_epoch>1:\n",
    "                    #    self.wd*=self.wd_mult\n",
    "                    self.lr=self.lr*(self.end_lr/self.start_lr)**(1/self.num_steps)\n",
    "                    self.n_epoch+=1\n",
    "        \n",
    "\n",
    "                \n",
    "            for param_group in self.optimizer.param_groups:\n",
    "                param_group['lr']=self.lr\n",
    "                #param_group['weight_decay']=self.wd\n",
    "          \n",
    "     "
   ]
  },
  {
   "cell_type": "code",
   "execution_count": 60,
   "metadata": {},
   "outputs": [],
   "source": [
    "device='cuda:0'"
   ]
  },
  {
   "cell_type": "code",
   "execution_count": 61,
   "metadata": {},
   "outputs": [],
   "source": [
    "cfobj=cf(n_users,n_emb_user,n_emb_movie,n_movies,min_rating,max_rating,autoenc_cols,dropout_e,hidden,dropouts)"
   ]
  },
  {
   "cell_type": "code",
   "execution_count": 62,
   "metadata": {},
   "outputs": [],
   "source": [
    "cfobj=cfobj.to(device)"
   ]
  },
  {
   "cell_type": "code",
   "execution_count": 63,
   "metadata": {},
   "outputs": [
    {
     "data": {
      "text/plain": [
       "cf(\n",
       "  (emb_user): Embedding(1509, 10)\n",
       "  (emb_movie): Embedding(2072, 25)\n",
       "  (emb_dropout): Dropout(p=0.1)\n",
       "  (lin1): Sequential(\n",
       "    (0): Linear(in_features=35, out_features=20, bias=True)\n",
       "    (1): ReLU()\n",
       "    (2): Dropout(p=0.4)\n",
       "  )\n",
       "  (lin2): Sequential(\n",
       "    (0): Linear(in_features=32, out_features=10, bias=True)\n",
       "    (1): ReLU()\n",
       "    (2): Dropout(p=0.5)\n",
       "  )\n",
       "  (lin3): Sequential(\n",
       "    (0): Linear(in_features=30, out_features=10, bias=True)\n",
       "    (1): ReLU()\n",
       "    (2): Dropout(p=0.4)\n",
       "  )\n",
       "  (lin4): Linear(in_features=10, out_features=1, bias=True)\n",
       "  (bn1): BatchNorm1d(20, eps=1e-05, momentum=0.1, affine=True, track_running_stats=True)\n",
       "  (bn2): BatchNorm1d(10, eps=1e-05, momentum=0.1, affine=True, track_running_stats=True)\n",
       "  (bn3): BatchNorm1d(10, eps=1e-05, momentum=0.1, affine=True, track_running_stats=True)\n",
       "  (sigmoid): Sigmoid()\n",
       "  (criterion): MSELoss()\n",
       ")"
      ]
     },
     "execution_count": 63,
     "metadata": {},
     "output_type": "execute_result"
    }
   ],
   "source": [
    "cfobj"
   ]
  },
  {
   "cell_type": "code",
   "execution_count": 64,
   "metadata": {},
   "outputs": [],
   "source": [
    "wd=1e-3\n",
    "optimizer=torch.optim.Adam(cfobj.parameters(),lr=5e-3,betas=(0.9,0.999), weight_decay=wd)\n",
    "learner=Learner(cfobj,optimizer,None,device,0,12000,0.25,cycle_mult=0)"
   ]
  },
  {
   "cell_type": "code",
   "execution_count": 65,
   "metadata": {},
   "outputs": [
    {
     "data": {
      "text/plain": [
       "1997"
      ]
     },
     "execution_count": 65,
     "metadata": {},
     "output_type": "execute_result"
    }
   ],
   "source": [
    "len(dltrain)"
   ]
  },
  {
   "cell_type": "code",
   "execution_count": 66,
   "metadata": {},
   "outputs": [],
   "source": [
    "learner.lr_find(1e-4,1e-1,dltrain,len(dltrain))"
   ]
  },
  {
   "cell_type": "code",
   "execution_count": 67,
   "metadata": {},
   "outputs": [
    {
     "data": {
      "image/png": "[encoded data removed]",
      "text/plain": [
       "<Figure size 432x288 with 1 Axes>"
      ]
     },
     "metadata": {
      "needs_background": "light"
     },
     "output_type": "display_data"
    }
   ],
   "source": [
    "learner.plot_lrs(50)"
   ]
  },
  {
   "cell_type": "code",
   "execution_count": 68,
   "metadata": {},
   "outputs": [
    {
     "data": {
      "image/png": "[encoded data removed]",
      "text/plain": [
       "<Figure size 432x288 with 1 Axes>"
      ]
     },
     "metadata": {
      "needs_background": "light"
     },
     "output_type": "display_data"
    }
   ],
   "source": [
    "learner.plot_lrs(10)"
   ]
  },
  {
   "cell_type": "code",
   "execution_count": 69,
   "metadata": {},
   "outputs": [
    {
     "data": {
      "image/png": "[encoded data removed]",
      "text/plain": [
       "<Figure size 432x288 with 1 Axes>"
      ]
     },
     "metadata": {
      "needs_background": "light"
     },
     "output_type": "display_data"
    }
   ],
   "source": [
    "learner.plot_lrs(1)"
   ]
  },
  {
   "cell_type": "code",
   "execution_count": 70,
   "metadata": {},
   "outputs": [],
   "source": [
    "del cfobj\n",
    "torch.cuda.empty_cache()"
   ]
  },
  {
   "cell_type": "code",
   "execution_count": 71,
   "metadata": {},
   "outputs": [
    {
     "data": {
      "text/plain": [
       "[0.4, 0.5, 0.4]"
      ]
     },
     "execution_count": 71,
     "metadata": {},
     "output_type": "execute_result"
    }
   ],
   "source": [
    "dropouts"
   ]
  },
  {
   "cell_type": "code",
   "execution_count": 72,
   "metadata": {},
   "outputs": [],
   "source": [
    "cfobj=cf(n_users,n_emb_user,n_emb_movie,n_movies,min_rating,max_rating,autoenc_cols,dropout_e,hidden,\\\n",
    "         dropouts=[0.2,0.4,0.2])\n",
    "cfobj=cfobj.to(device)"
   ]
  },
  {
   "cell_type": "code",
   "execution_count": 73,
   "metadata": {},
   "outputs": [],
   "source": [
    "optimizer=torch.optim.Adam(cfobj.parameters(),lr=9e-4,betas=(0.9,0.999), weight_decay=wd)\n",
    "learner=Learner(cfobj,optimizer,None,device,0,12000,0.25,cycle_mult=0)"
   ]
  },
  {
   "cell_type": "code",
   "execution_count": 74,
   "metadata": {},
   "outputs": [
    {
     "name": "stdout",
     "output_type": "stream",
     "text": [
      "Epoch:0 Learning rate 0.0009 Weight Decay 0.001 Train Loss:0.8281233000812019                 Valid Loss:0.9662627357620377 Train RMSE:0.8952310595126727 Valid RMSE:0.9699779286513742 Train MSE:0.8281233000812019 Valid MSE:0.9662627357620377                 Train MAE:0.7317030812032114 Valid MAE:0.788795642756127\n",
      "Epoch:1 Learning rate 0.0009 Weight Decay 0.001 Train Loss:0.7771856889210764                 Valid Loss:1.060420199825957 Train RMSE:0.8660810626375025 Valid RMSE:1.0107415172581704 Train MSE:0.7771856889210764 Valid MSE:1.060420199825957                 Train MAE:0.7026450187340938 Valid MAE:0.8038434341952607\n",
      "Epoch:2 Learning rate 0.0009 Weight Decay 0.001 Train Loss:0.7547114869774612                 Valid Loss:1.0736932569258921 Train RMSE:0.8533153565987865 Valid RMSE:1.018585020208513 Train MSE:0.7547114869774612 Valid MSE:1.0736932569258921                 Train MAE:0.6896731134468637 Valid MAE:0.8068806166584427\n",
      "Epoch:3 Learning rate 0.0009 Weight Decay 0.001 Train Loss:0.7108639540765426                 Valid Loss:0.7779388497541616 Train RMSE:0.8281800498569599 Valid RMSE:0.8674144564633881 Train MSE:0.7108639540765426 Valid MSE:0.7779388497541616                 Train MAE:0.6655809862290135 Valid MAE:0.7098747078362886\n",
      "Epoch:4 Learning rate 0.0009 Weight Decay 0.001 Train Loss:0.6932023001175316                 Valid Loss:0.8136448371517766 Train RMSE:0.8176239243573582 Valid RMSE:0.8862407553386299 Train MSE:0.6932023001175316 Valid MSE:0.8136448371517766                 Train MAE:0.6559723025420098 Valid MAE:0.7225737399883099\n"
     ]
    }
   ],
   "source": [
    "learner.run_epochs(dltrain,dlvalid,5)"
   ]
  },
  {
   "cell_type": "code",
   "execution_count": 77,
   "metadata": {},
   "outputs": [],
   "source": [
    "optimizer=torch.optim.Adam(cfobj.parameters(),lr=3e-3,betas=(0.9,0.999), weight_decay=wd)\n",
    "learner=Learner(cfobj,optimizer,None,device,0,12000,0.25,cycle_mult=3,start_lr=3e-3,end_lr=1e-4)"
   ]
  },
  {
   "cell_type": "code",
   "execution_count": 78,
   "metadata": {},
   "outputs": [
    {
     "name": "stdout",
     "output_type": "stream",
     "text": [
      "Epoch:0 Learning rate 0.003 Weight Decay 0.001 Train Loss:0.7469757287560193                 Valid Loss:0.751136423566857 Train RMSE:0.8481682208955102 Valid RMSE:0.8507334480263528 Train MSE:0.7469757287560193 Valid MSE:0.751136423566857                 Train MAE:0.6833115454518801 Valid MAE:0.6949314971764883\n",
      "Epoch:1 Learning rate 0.0009654893846056299 Weight Decay 0.001 Train Loss:0.7093765562289228                 Valid Loss:0.7542284647892187 Train RMSE:0.8274656947441981 Valid RMSE:0.8528433785888171 Train MSE:0.7093765562289228 Valid MSE:0.7542284647892187                 Train MAE:0.6631033163728509 Valid MAE:0.6933292895555496\n",
      "Epoch:2 Learning rate 0.00031072325059538597 Weight Decay 0.001 Train Loss:0.6907175177923727                 Valid Loss:0.7587917319557689 Train RMSE:0.8156627270942652 Valid RMSE:0.8576569768077151 Train MSE:0.6907175177923727 Valid MSE:0.7587917319557689                 Train MAE:0.6521969316718456 Valid MAE:0.6959742835244617\n",
      "Epoch:3 Learning rate 0.00010000000000000005 Weight Decay 0.001 Train Loss:0.6750376149750854                 Valid Loss:0.7422492840402836 Train RMSE:0.8063585617192504 Valid RMSE:0.8468696392176345 Train MSE:0.6750376149750854 Valid MSE:0.7422492840402836                 Train MAE:0.6440090071755048 Valid MAE:0.6873067476459451\n",
      "Epoch:4 Learning rate 0.003 Weight Decay 0.001 Train Loss:0.7233564852250476                 Valid Loss:0.7806160471460841 Train RMSE:0.834385180620835 Valid RMSE:0.8706652173815083 Train MSE:0.7233564852250476 Valid MSE:0.7806160471460841                 Train MAE:0.671425843274647 Valid MAE:0.705617758739102\n",
      "Epoch:5 Learning rate 0.0020558748363608465 Weight Decay 0.001 Train Loss:0.7114641213930423                 Valid Loss:0.8149335917320337 Train RMSE:0.8280895072354446 Valid RMSE:0.88369930347511 Train MSE:0.7114641213930423 Valid MSE:0.8149335917320337                 Train MAE:0.6644751398815294 Valid MAE:0.7059439059581842\n",
      "Epoch:6 Learning rate 0.001408873780927246 Weight Decay 0.001 Train Loss:0.6975822908524937                 Valid Loss:0.683268448723866 Train RMSE:0.8193411557906614 Valid RMSE:0.8122970090318549 Train MSE:0.6975822908524937 Valid MSE:0.683268448723866                 Train MAE:0.6576883504703515 Valid MAE:0.6551132261216104\n",
      "Epoch:7 Learning rate 0.0009654893846056297 Weight Decay 0.001 Train Loss:0.6902934263647349                 Valid Loss:0.6941166591939626 Train RMSE:0.8147809694148521 Valid RMSE:0.8173165965630292 Train MSE:0.6902934263647349 Valid MSE:0.6941166591939626                 Train MAE:0.6532416363537281 Valid MAE:0.6593272938384666\n",
      "Epoch:8 Learning rate 0.0006616417768614112 Weight Decay 0.001 Train Loss:0.6762223015383118                 Valid Loss:0.9129956779447762 Train RMSE:0.8072657110710042 Valid RMSE:0.9339389567624031 Train MSE:0.6762223015383118 Valid MSE:0.9129956779447762                 Train MAE:0.6450937950706626 Valid MAE:0.7258009067526808\n",
      "Epoch:9 Learning rate 0.0004534175599114845 Weight Decay 0.001 Train Loss:0.6690880765333496                 Valid Loss:0.6802595278567022 Train RMSE:0.8025136545016193 Valid RMSE:0.8069219302287608 Train MSE:0.6690880765333496 Valid MSE:0.6802595278567022                 Train MAE:0.6403492618842787 Valid MAE:0.6493046087724669\n",
      "Epoch:10 Learning rate 0.00031072325059538586 Weight Decay 0.001 Train Loss:0.6570216902178648                 Valid Loss:0.6755076958252503 Train RMSE:0.7960110537419287 Valid RMSE:0.8065462215342598 Train MSE:0.6570216902178648 Valid MSE:0.6755076958252503                 Train MAE:0.6345887752879424 Valid MAE:0.6481459260255367\n"
     ]
    }
   ],
   "source": [
    "learner.run_epochs(dltrain,dlvalid,11)"
   ]
  },
  {
   "cell_type": "code",
   "execution_count": 79,
   "metadata": {},
   "outputs": [],
   "source": [
    "optimizer=torch.optim.Adam(cfobj.parameters(),lr=3e-3,betas=(0.9,0.999), weight_decay=wd)\n",
    "learner=Learner(cfobj,optimizer,None,device,0,12000,0.25,cycle_mult=3,start_lr=3e-3,end_lr=1e-4)"
   ]
  },
  {
   "cell_type": "code",
   "execution_count": 80,
   "metadata": {},
   "outputs": [
    {
     "name": "stdout",
     "output_type": "stream",
     "text": [
      "Epoch:0 Learning rate 0.003 Weight Decay 0.001 Train Loss:0.7396955326326382                 Valid Loss:0.7563942494961593 Train RMSE:0.844644565784977 Valid RMSE:0.8570215047959521 Train MSE:0.7396955326326382 Valid MSE:0.7563942494961593                 Train MAE:0.6785486863443836 Valid MAE:0.6966761658052066\n",
      "Epoch:1 Learning rate 0.0009654893846056299 Weight Decay 0.001 Train Loss:0.697362385074616                 Valid Loss:0.7243784639212463 Train RMSE:0.8202304405683812 Valid RMSE:0.8378563659120858 Train MSE:0.697362385074616 Valid MSE:0.7243784639212463                 Train MAE:0.6582984996546372 Valid MAE:0.6868357661071124\n",
      "Epoch:2 Learning rate 0.00031072325059538597 Weight Decay 0.001 Train Loss:0.6708220195250925                 Valid Loss:0.7038541467071654 Train RMSE:0.8033175269337104 Valid RMSE:0.8230513046584921 Train MSE:0.6708220195250925 Valid MSE:0.7038541467071654                 Train MAE:0.6449278922276791 Valid MAE:0.6710845240064569\n",
      "Epoch:3 Learning rate 0.00010000000000000005 Weight Decay 0.001 Train Loss:0.6637400210679741                 Valid Loss:0.6967003613978893 Train RMSE:0.7995192465707698 Valid RMSE:0.8214877333312429 Train MSE:0.6637400210679741 Valid MSE:0.6967003613978893                 Train MAE:0.6390911055524527 Valid MAE:0.6675814980859155\n",
      "Epoch:4 Learning rate 0.003 Weight Decay 0.001 Train Loss:0.7117077143089617                 Valid Loss:0.7697652311206938 Train RMSE:0.8276402310985704 Valid RMSE:0.8654907572599774 Train MSE:0.7117077143089617 Valid MSE:0.7697652311206938                 Train MAE:0.6655005107656621 Valid MAE:0.7171680399694959\n",
      "Epoch:5 Learning rate 0.0020558748363608465 Weight Decay 0.001 Train Loss:0.7038027745413673                 Valid Loss:0.6989979819134549 Train RMSE:0.8227328514136932 Valid RMSE:0.8233836778941017 Train MSE:0.7038027745413673 Valid MSE:0.6989979819134549                 Train MAE:0.6610116227065914 Valid MAE:0.668525291724248\n",
      "Epoch:6 Learning rate 0.001408873780927246 Weight Decay 0.001 Train Loss:0.6901419534197317                 Valid Loss:0.6950223047856812 Train RMSE:0.8148094034426193 Valid RMSE:0.8214679730465203 Train MSE:0.6901419534197317 Valid MSE:0.6950223047856812                 Train MAE:0.6526696181440569 Valid MAE:0.6692811297672289\n",
      "Epoch:7 Learning rate 0.0009654893846056297 Weight Decay 0.001 Train Loss:0.6825537023600424                 Valid Loss:0.6846681386232376 Train RMSE:0.8108665860482769 Valid RMSE:0.8146638676106158 Train MSE:0.6825537023600424 Valid MSE:0.6846681386232376                 Train MAE:0.6492977718830586 Valid MAE:0.6591543949939109\n",
      "Epoch:8 Learning rate 0.0006616417768614112 Weight Decay 0.001 Train Loss:0.6729574548672842                 Valid Loss:0.6919722546999519 Train RMSE:0.8051114419303033 Valid RMSE:0.8173577655082614 Train MSE:0.6729574548672842 Valid MSE:0.6919722546999519                 Train MAE:0.6448267802155847 Valid MAE:0.6646991180138545\n",
      "Epoch:9 Learning rate 0.0004534175599114845 Weight Decay 0.001 Train Loss:0.6619726629050063                 Valid Loss:0.6801690955285553 Train RMSE:0.7974131583811499 Valid RMSE:0.8095979429937361 Train MSE:0.6619726629050063 Valid MSE:0.6801690955285553                 Train MAE:0.6376895281333713 Valid MAE:0.6549198322736465\n",
      "Epoch:10 Learning rate 0.00031072325059538586 Weight Decay 0.001 Train Loss:0.6528777714499725                 Valid Loss:0.7139374141891798 Train RMSE:0.792532816673386 Valid RMSE:0.827395920205709 Train MSE:0.6528777714499725 Valid MSE:0.7139374141891798                 Train MAE:0.6322552737260856 Valid MAE:0.6635541149356343\n"
     ]
    }
   ],
   "source": [
    "learner.run_epochs(dltrain,dlvalid,11)"
   ]
  },
  {
   "cell_type": "code",
   "execution_count": 65,
   "metadata": {},
   "outputs": [
    {
     "name": "stdout",
     "output_type": "stream",
     "text": [
      "Epoch:0 Learning rate 0.0007 Weight Decay 0.001 Train Loss:0.7006820032954156                 Valid Loss:0.7731340696682801 Train RMSE:0.8210927082593804 Valid RMSE:0.8644742780176096 Train MSE:0.7006820032954156 Valid MSE:0.7731340696682801                 Train MAE:0.6562356891098414 Valid MAE:0.7028741147872564\n",
      "Epoch:1 Learning rate 0.0003659305710022972 Weight Decay 0.001 Train Loss:0.6764560005458283                 Valid Loss:0.7487397563081604 Train RMSE:0.8066150864564607 Valid RMSE:0.8495211697958047 Train MSE:0.6764560005458283 Valid MSE:0.7487397563081604                 Train MAE:0.6448925000521679 Valid MAE:0.6913777068928555\n",
      "Epoch:2 Learning rate 0.00019129311827723895 Weight Decay 0.001 Train Loss:0.6567010416961278                 Valid Loss:0.7206918797917194 Train RMSE:0.7948887382939189 Valid RMSE:0.8341699313855502 Train MSE:0.6567010416961278 Valid MSE:0.7206918797917194                 Train MAE:0.6332004100278311 Valid MAE:0.6750188196027601\n",
      "Epoch:3 Learning rate 0.00010000000000000005 Weight Decay 0.001 Train Loss:0.6406859872927054                 Valid Loss:0.7502680912211135 Train RMSE:0.7850540905307292 Valid RMSE:0.8493430084426995 Train MSE:0.6406859872927054 Valid MSE:0.7502680912211135                 Train MAE:0.6248045392226266 Valid MAE:0.6840553027284038\n",
      "Epoch:4 Learning rate 0.0007 Weight Decay 0.001 Train Loss:0.6736720464246895                 Valid Loss:0.7518861150150901 Train RMSE:0.8054459555928088 Valid RMSE:0.8515159576574288 Train MSE:0.6736720464246895 Valid MSE:0.7518861150150901                 Train MAE:0.6430043683955833 Valid MAE:0.6913080941717904\n",
      "Epoch:5 Learning rate 0.0005638950182171997 Weight Decay 0.001 Train Loss:0.6627485992337503                 Valid Loss:0.7008047877131282 Train RMSE:0.7988395081661321 Valid RMSE:0.8248589842010571 Train MSE:0.6627485992337503 Valid MSE:0.7008047877131282                 Train MAE:0.6364771678827379 Valid MAE:0.6703327949251141\n",
      "Epoch:6 Learning rate 0.0004542537022431085 Weight Decay 0.001 Train Loss:0.6537177804922782                 Valid Loss:0.6784008322535334 Train RMSE:0.7928032934179887 Valid RMSE:0.8075948671895032 Train MSE:0.6537177804922782 Valid MSE:0.6784008322535334                 Train MAE:0.6326538252872291 Valid MAE:0.6376771777868271\n",
      "Epoch:7 Learning rate 0.00036593057100229724 Weight Decay 0.001 Train Loss:0.6402217245692902                 Valid Loss:0.6798707083001867 Train RMSE:0.7845805260107948 Valid RMSE:0.808739213254999 Train MSE:0.6402217245692902 Valid MSE:0.6798707083001867                 Train MAE:0.6250325817135375 Valid MAE:0.6466130316257477\n",
      "Epoch:8 Learning rate 0.0002947806085736724 Weight Decay 0.001 Train Loss:0.6357049353357309                 Valid Loss:0.6871815462772911 Train RMSE:0.7815924514993888 Valid RMSE:0.8142858924476644 Train MSE:0.6357049353357309 Valid MSE:0.6871815462772911                 Train MAE:0.6211660491059169 Valid MAE:0.6497339622394459\n",
      "Epoch:9 Learning rate 0.0002374647380596117 Weight Decay 0.001 Train Loss:0.6300615426684596                 Valid Loss:0.6780267498783163 Train RMSE:0.7781714750756671 Valid RMSE:0.8069915164332074 Train MSE:0.6300615426684596 Valid MSE:0.6780267498783163                 Train MAE:0.6190930943997669 Valid MAE:0.6468847004679946\n",
      "Epoch:10 Learning rate 0.00019129311827723898 Weight Decay 0.001 Train Loss:0.622375951273088                 Valid Loss:0.6701123831239907 Train RMSE:0.7737368222748244 Valid RMSE:0.8025887524596349 Train MSE:0.622375951273088 Valid MSE:0.6701123831239907                 Train MAE:0.6157069975248145 Valid MAE:0.630943108249355\n"
     ]
    }
   ],
   "source": [
    "# before\n",
    "learner.run_epochs(dltrain,dlvalid,11)"
   ]
  },
  {
   "cell_type": "code",
   "execution_count": 68,
   "metadata": {},
   "outputs": [],
   "source": [
    "learner=Learner(cfobj,optimizer,None,device,0,12000,0.25,cycle_mult=3,start_lr=3e-3,end_lr=1e-4)"
   ]
  },
  {
   "cell_type": "code",
   "execution_count": 69,
   "metadata": {},
   "outputs": [
    {
     "name": "stdout",
     "output_type": "stream",
     "text": [
      "Epoch:0 Learning rate 0.0001540989091653837 Weight Decay 0.001 Train Loss:0.6154238316167517                 Valid Loss:0.6709103924599854 Train RMSE:0.7682707336024287 Valid RMSE:0.8053430484488089 Train MSE:0.6154238316167517 Valid MSE:0.6709103924599854                 Train MAE:0.6100629622869391 Valid MAE:0.6344849980092263\n",
      "Epoch:1 Learning rate 0.00013341347909034577 Weight Decay 0.001 Train Loss:0.6118569472729115                 Valid Loss:0.6806587927916028 Train RMSE:0.7664302203594024 Valid RMSE:0.8073874622207271 Train MSE:0.6118569472729115 Valid MSE:0.6806587927916028                 Train MAE:0.6089928747268097 Valid MAE:0.6367497624040724\n",
      "Epoch:2 Learning rate 0.00011550475275517702 Weight Decay 0.001 Train Loss:0.6092494184381674                 Valid Loss:0.7203022640970376 Train RMSE:0.7651957374114912 Valid RMSE:0.8333537879688799 Train MSE:0.6092494184381674 Valid MSE:0.7203022640970376                 Train MAE:0.6060360166718498 Valid MAE:0.6621033200272569\n",
      "Epoch:3 Learning rate 9.999999999999998e-05 Weight Decay 0.001 Train Loss:0.6041642855302537                 Valid Loss:0.6777450352370202 Train RMSE:0.7616910030160723 Valid RMSE:0.8076201871041949 Train MSE:0.6041642855302537 Valid MSE:0.6777450352370202                 Train MAE:0.603971828250928 Valid MAE:0.6459259284777684\n",
      "Epoch:4 Learning rate 0.0001540989091653837 Weight Decay 0.001 Train Loss:0.6110419628877728                 Valid Loss:0.6682601538864342 Train RMSE:0.7658896877614254 Valid RMSE:0.8002797548336236 Train MSE:0.6110419628877728 Valid MSE:0.6682601538864342                 Train MAE:0.6078799788242707 Valid MAE:0.6329894993487779\n",
      "Epoch:5 Learning rate 0.00014686994971406506 Weight Decay 0.001 Train Loss:0.6068447527583385                 Valid Loss:0.6744030275726104 Train RMSE:0.762882783827951 Valid RMSE:0.8035910378092282 Train MSE:0.6068447527583385 Valid MSE:0.6744030275726104                 Train MAE:0.6063216699620277 Valid MAE:0.6298562269490044\n",
      "Epoch:6 Learning rate 0.00013998010917690254 Weight Decay 0.001 Train Loss:0.6056603258200508                 Valid Loss:0.6646871892987071 Train RMSE:0.7621585911558761 Valid RMSE:0.7998280005564052 Train MSE:0.6056603258200508 Valid MSE:0.6646871892987071                 Train MAE:0.6049498729948766 Valid MAE:0.6284921837819589\n",
      "Epoch:7 Learning rate 0.0001334134790903458 Weight Decay 0.001 Train Loss:0.6049224671664749                 Valid Loss:0.6676743991068892 Train RMSE:0.7626797019498428 Valid RMSE:0.8034044427934469 Train MSE:0.6049224671664749 Valid MSE:0.6676743991068892                 Train MAE:0.6038924363564419 Valid MAE:0.6251739323944658\n",
      "Epoch:8 Learning rate 0.00012715489727541297 Weight Decay 0.001 Train Loss:0.6073592446919793                 Valid Loss:0.668459061029795 Train RMSE:0.763584784492845 Valid RMSE:0.8003698757634947 Train MSE:0.6073592446919793 Valid MSE:0.668459061029795                 Train MAE:0.6049870417290588 Valid MAE:0.6275441348552704\n",
      "Epoch:9 Learning rate 0.00012118991282861175 Weight Decay 0.001 Train Loss:0.6023033424376187                 Valid Loss:0.6738204437198939 Train RMSE:0.7602033761849598 Valid RMSE:0.803989188728022 Train MSE:0.6023033424376187 Valid MSE:0.6738204437198939                 Train MAE:0.6023569945535125 Valid MAE:0.6302653202065477\n",
      "Epoch:10 Learning rate 0.00011550475275517708 Weight Decay 0.001 Train Loss:0.6014231528618602                 Valid Loss:0.6990320862413527 Train RMSE:0.7601430741144588 Valid RMSE:0.8161428720311716 Train MSE:0.6014231528618602 Valid MSE:0.6990320862413527                 Train MAE:0.6017605091370997 Valid MAE:0.6339930866484169\n"
     ]
    }
   ],
   "source": [
    "learner.run_epochs(dltrain,dlvalid,11)"
   ]
  },
  {
   "cell_type": "code",
   "execution_count": 56,
   "metadata": {},
   "outputs": [
    {
     "name": "stderr",
     "output_type": "stream",
     "text": [
      "/home/kirana/anaconda3/lib/python3.7/site-packages/torch/serialization.py:256: UserWarning: Couldn't retrieve source code for container of type cf. It won't be checked for correctness upon loading.\n",
      "  \"type \" + obj.__name__ + \". It won't be checked \"\n",
      "/home/kirana/anaconda3/lib/python3.7/site-packages/torch/serialization.py:256: UserWarning: Couldn't retrieve source code for container of type cf. It won't be checked for correctness upon loading.\n",
      "  \"type \" + obj.__name__ + \". It won't be checked \"\n"
     ]
    }
   ],
   "source": [
    "torch.save(cfobj,f=f'{DATAPATH}/inter/cfobj_0.8')\n",
    "torch.save(learner,f=f'{DATAPATH}/inter/cfobj_learner_0.8')\n",
    "torch.save(optimizer,f=f'{DATAPATH}/inter/cfobj_optimizer_0.8')\n",
    "torch.save(cfobj.state_dict(),f'{DATAPATH}/inter/cfjobj_state_dict_0.8')\n",
    "torch.save(optimizer.state_dict(),f'{DATAPATH}/inter/optimizer_state_dict_0.8')"
   ]
  },
  {
   "cell_type": "code",
   "execution_count": 58,
   "metadata": {},
   "outputs": [],
   "source": [
    "optimizer=torch.optim.Adam(cfobj.parameters(),lr=5e-3,betas=(0.9,0.999), weight_decay=wd)\n",
    "learner=Learner(cfobj,optimizer,None,device,0,12000,0.25,cycle_mult=2,start_lr=4e-3,end_lr=4e-4)"
   ]
  },
  {
   "cell_type": "code",
   "execution_count": 59,
   "metadata": {},
   "outputs": [
    {
     "name": "stdout",
     "output_type": "stream",
     "text": [
      "Epoch:0 Learning rate 0.005 Weight Decay 1e-07 Train Loss:0.7688108392421692                 Valid Loss:0.8395103987374304 Train RMSE:0.8405049054506085 Valid RMSE:0.8878992191182866\n",
      "Epoch:1 Learning rate 0.001414213562373095 Weight Decay 1e-07 Train Loss:0.6852855704513303                 Valid Loss:0.7962183668636359 Train RMSE:0.7911723340280498 Valid RMSE:0.8582258179808255\n",
      "Epoch:2 Learning rate 0.00039999999999999996 Weight Decay 1e-07 Train Loss:0.6516777085516686                 Valid Loss:0.7923312564391546 Train RMSE:0.7698911785179042 Valid RMSE:0.8544569945339336\n",
      "Epoch:3 Learning rate 0.005 Weight Decay 1e-07 Train Loss:0.7115468788305521                 Valid Loss:0.8246223340867106 Train RMSE:0.8063665077801763 Valid RMSE:0.8733351202423749\n",
      "Epoch:4 Learning rate 0.0026591479484724947 Weight Decay 1e-07 Train Loss:0.6632848583522735                 Valid Loss:0.7916696204801669 Train RMSE:0.7773447559516666 Valid RMSE:0.8545958497828119\n",
      "Epoch:5 Learning rate 0.0014142135623730955 Weight Decay 1e-07 Train Loss:0.6279473303285544                 Valid Loss:0.7938732466853203 Train RMSE:0.7552258854914337 Valid RMSE:0.854679425374652\n",
      "Epoch:6 Learning rate 0.0007521206186172789 Weight Decay 1e-07 Train Loss:0.6043457506954859                 Valid Loss:0.7979197600748594 Train RMSE:0.7403563837153223 Valid RMSE:0.8596079336505277\n"
     ]
    }
   ],
   "source": [
    "learner.run_epochs(dltrain,dlvalid,7)"
   ]
  },
  {
   "cell_type": "code",
   "execution_count": 60,
   "metadata": {},
   "outputs": [
    {
     "name": "stderr",
     "output_type": "stream",
     "text": [
      "/home/kirana/anaconda3/lib/python3.7/site-packages/torch/serialization.py:256: UserWarning: Couldn't retrieve source code for container of type cf. It won't be checked for correctness upon loading.\n",
      "  \"type \" + obj.__name__ + \". It won't be checked \"\n",
      "/home/kirana/anaconda3/lib/python3.7/site-packages/torch/serialization.py:256: UserWarning: Couldn't retrieve source code for container of type cf. It won't be checked for correctness upon loading.\n",
      "  \"type \" + obj.__name__ + \". It won't be checked \"\n"
     ]
    }
   ],
   "source": [
    "torch.save(cfobj,f=f'{DATAPATH}/inter/cfobj_improve_0.8')\n",
    "torch.save(learner,f=f'{DATAPATH}/inter/cfobj_improve_learner_0.8')\n",
    "torch.save(optimizer,f=f'{DATAPATH}/inter/cfobj_improve_optimizer_0.8')\n",
    "torch.save(cfobj.state_dict(),f'{DATAPATH}/inter/cfjobj_improve_state_dict_0.8')\n",
    "torch.save(optimizer.state_dict(),f'{DATAPATH}/inter/optimizer_improve_state_dict_0.8')"
   ]
  },
  {
   "cell_type": "code",
   "execution_count": null,
   "metadata": {},
   "outputs": [],
   "source": []
  }
 ],
 "metadata": {
  "kernelspec": {
   "display_name": "Python 3",
   "language": "python",
   "name": "python3"
  },
  "language_info": {
   "codemirror_mode": {
    "name": "ipython",
    "version": 3
   },
   "file_extension": ".py",
   "mimetype": "text/x-python",
   "name": "python",
   "nbconvert_exporter": "python",
   "pygments_lexer": "ipython3",
   "version": "3.7.3"
  }
 },
 "nbformat": 4,
 "nbformat_minor": 2
}
