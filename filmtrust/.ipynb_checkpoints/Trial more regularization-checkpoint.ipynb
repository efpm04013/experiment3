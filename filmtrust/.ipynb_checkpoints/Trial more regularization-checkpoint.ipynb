{
 "cells": [
  {
   "cell_type": "code",
   "execution_count": 1,
   "metadata": {},
   "outputs": [],
   "source": [
    "PATH='/home/kirana/Documents/phd/exp3_autoencoder'\n",
    "DATAPATH='/home/kirana/Documents/final_dissertation_final/experiments/datasets/filmtrust'"
   ]
  },
  {
   "cell_type": "code",
   "execution_count": 2,
   "metadata": {},
   "outputs": [],
   "source": [
    "import pandas as pd\n",
    "import numpy as np\n",
    "import matplotlib.pyplot as plt\n",
    "import sklearn\n",
    "import os\n",
    "import pickle\n",
    "import torch\n",
    "from torch.utils.data import Dataset, DataLoader\n",
    "from torch import nn"
   ]
  },
  {
   "cell_type": "code",
   "execution_count": 3,
   "metadata": {},
   "outputs": [],
   "source": [
    "[df, df_train,df_valid,df,df_ratings,dfflagtrain,dfflagvalid,idx_to_user,\\\n",
    "             idx_to_movie,movie_to_idx,user_to_idx]=pickle.load(open(f'{DATAPATH}/reads.pkl','rb'))"
   ]
  },
  {
   "cell_type": "code",
   "execution_count": 4,
   "metadata": {},
   "outputs": [
    {
     "data": {
      "text/plain": [
       "(35494, 14)"
      ]
     },
     "execution_count": 4,
     "metadata": {},
     "output_type": "execute_result"
    }
   ],
   "source": [
    "df.shape"
   ]
  },
  {
   "cell_type": "code",
   "execution_count": 5,
   "metadata": {},
   "outputs": [
    {
     "data": {
      "text/html": [
       "<div>\n",
       "<style scoped>\n",
       "    .dataframe tbody tr th:only-of-type {\n",
       "        vertical-align: middle;\n",
       "    }\n",
       "\n",
       "    .dataframe tbody tr th {\n",
       "        vertical-align: top;\n",
       "    }\n",
       "\n",
       "    .dataframe thead th {\n",
       "        text-align: right;\n",
       "    }\n",
       "</style>\n",
       "<table border=\"1\" class=\"dataframe\">\n",
       "  <thead>\n",
       "    <tr style=\"text-align: right;\">\n",
       "      <th></th>\n",
       "      <th>userId</th>\n",
       "      <th>itemId</th>\n",
       "      <th>rating</th>\n",
       "      <th>mean_on_self</th>\n",
       "      <th>min_on_self</th>\n",
       "      <th>max_on_self</th>\n",
       "      <th>mean_on_other</th>\n",
       "      <th>min_on_other</th>\n",
       "      <th>max_on_other</th>\n",
       "      <th>random_dstype</th>\n",
       "      <th>user_idx</th>\n",
       "      <th>item_idx</th>\n",
       "      <th>dstype_random_train</th>\n",
       "      <th>dstype_random_valid</th>\n",
       "    </tr>\n",
       "  </thead>\n",
       "  <tbody>\n",
       "    <tr>\n",
       "      <th>3297</th>\n",
       "      <td>159</td>\n",
       "      <td>241</td>\n",
       "      <td>0.5</td>\n",
       "      <td>1.0</td>\n",
       "      <td>1.0</td>\n",
       "      <td>1.0</td>\n",
       "      <td>NaN</td>\n",
       "      <td>NaN</td>\n",
       "      <td>NaN</td>\n",
       "      <td>train</td>\n",
       "      <td>1</td>\n",
       "      <td>1</td>\n",
       "      <td>1</td>\n",
       "      <td>0</td>\n",
       "    </tr>\n",
       "    <tr>\n",
       "      <th>16463</th>\n",
       "      <td>673</td>\n",
       "      <td>7</td>\n",
       "      <td>3.0</td>\n",
       "      <td>NaN</td>\n",
       "      <td>NaN</td>\n",
       "      <td>NaN</td>\n",
       "      <td>NaN</td>\n",
       "      <td>NaN</td>\n",
       "      <td>NaN</td>\n",
       "      <td>train</td>\n",
       "      <td>2</td>\n",
       "      <td>2</td>\n",
       "      <td>1</td>\n",
       "      <td>0</td>\n",
       "    </tr>\n",
       "    <tr>\n",
       "      <th>35390</th>\n",
       "      <td>1502</td>\n",
       "      <td>255</td>\n",
       "      <td>3.5</td>\n",
       "      <td>NaN</td>\n",
       "      <td>NaN</td>\n",
       "      <td>NaN</td>\n",
       "      <td>NaN</td>\n",
       "      <td>NaN</td>\n",
       "      <td>NaN</td>\n",
       "      <td>train</td>\n",
       "      <td>3</td>\n",
       "      <td>3</td>\n",
       "      <td>1</td>\n",
       "      <td>0</td>\n",
       "    </tr>\n",
       "    <tr>\n",
       "      <th>5367</th>\n",
       "      <td>224</td>\n",
       "      <td>10</td>\n",
       "      <td>4.0</td>\n",
       "      <td>1.0</td>\n",
       "      <td>1.0</td>\n",
       "      <td>1.0</td>\n",
       "      <td>NaN</td>\n",
       "      <td>NaN</td>\n",
       "      <td>NaN</td>\n",
       "      <td>train</td>\n",
       "      <td>4</td>\n",
       "      <td>4</td>\n",
       "      <td>1</td>\n",
       "      <td>0</td>\n",
       "    </tr>\n",
       "    <tr>\n",
       "      <th>13666</th>\n",
       "      <td>557</td>\n",
       "      <td>9</td>\n",
       "      <td>4.0</td>\n",
       "      <td>NaN</td>\n",
       "      <td>NaN</td>\n",
       "      <td>NaN</td>\n",
       "      <td>NaN</td>\n",
       "      <td>NaN</td>\n",
       "      <td>NaN</td>\n",
       "      <td>train</td>\n",
       "      <td>5</td>\n",
       "      <td>5</td>\n",
       "      <td>1</td>\n",
       "      <td>0</td>\n",
       "    </tr>\n",
       "  </tbody>\n",
       "</table>\n",
       "</div>"
      ],
      "text/plain": [
       "       userId  itemId  rating  mean_on_self  min_on_self  max_on_self  \\\n",
       "3297      159     241     0.5           1.0          1.0          1.0   \n",
       "16463     673       7     3.0           NaN          NaN          NaN   \n",
       "35390    1502     255     3.5           NaN          NaN          NaN   \n",
       "5367      224      10     4.0           1.0          1.0          1.0   \n",
       "13666     557       9     4.0           NaN          NaN          NaN   \n",
       "\n",
       "       mean_on_other  min_on_other  max_on_other random_dstype  user_idx  \\\n",
       "3297             NaN           NaN           NaN         train         1   \n",
       "16463            NaN           NaN           NaN         train         2   \n",
       "35390            NaN           NaN           NaN         train         3   \n",
       "5367             NaN           NaN           NaN         train         4   \n",
       "13666            NaN           NaN           NaN         train         5   \n",
       "\n",
       "       item_idx  dstype_random_train  dstype_random_valid  \n",
       "3297          1                    1                    0  \n",
       "16463         2                    1                    0  \n",
       "35390         3                    1                    0  \n",
       "5367          4                    1                    0  \n",
       "13666         5                    1                    0  "
      ]
     },
     "execution_count": 5,
     "metadata": {},
     "output_type": "execute_result"
    }
   ],
   "source": [
    "df.head()"
   ]
  },
  {
   "cell_type": "code",
   "execution_count": 6,
   "metadata": {},
   "outputs": [],
   "source": [
    "df_train=df.loc[df['random_dstype']=='train']\n",
    "df_valid=df.loc[df['random_dstype']!='train']"
   ]
  },
  {
   "cell_type": "code",
   "execution_count": 7,
   "metadata": {},
   "outputs": [
    {
     "data": {
      "text/html": [
       "<div>\n",
       "<style scoped>\n",
       "    .dataframe tbody tr th:only-of-type {\n",
       "        vertical-align: middle;\n",
       "    }\n",
       "\n",
       "    .dataframe tbody tr th {\n",
       "        vertical-align: top;\n",
       "    }\n",
       "\n",
       "    .dataframe thead th {\n",
       "        text-align: right;\n",
       "    }\n",
       "</style>\n",
       "<table border=\"1\" class=\"dataframe\">\n",
       "  <thead>\n",
       "    <tr style=\"text-align: right;\">\n",
       "      <th></th>\n",
       "      <th>userId</th>\n",
       "      <th>itemId</th>\n",
       "      <th>rating</th>\n",
       "      <th>mean_on_self</th>\n",
       "      <th>min_on_self</th>\n",
       "      <th>max_on_self</th>\n",
       "      <th>mean_on_other</th>\n",
       "      <th>min_on_other</th>\n",
       "      <th>max_on_other</th>\n",
       "      <th>random_dstype</th>\n",
       "      <th>user_idx</th>\n",
       "      <th>item_idx</th>\n",
       "      <th>dstype_random_train</th>\n",
       "      <th>dstype_random_valid</th>\n",
       "    </tr>\n",
       "  </thead>\n",
       "  <tbody>\n",
       "    <tr>\n",
       "      <th>3297</th>\n",
       "      <td>159</td>\n",
       "      <td>241</td>\n",
       "      <td>0.5</td>\n",
       "      <td>1.0</td>\n",
       "      <td>1.0</td>\n",
       "      <td>1.0</td>\n",
       "      <td>NaN</td>\n",
       "      <td>NaN</td>\n",
       "      <td>NaN</td>\n",
       "      <td>train</td>\n",
       "      <td>1</td>\n",
       "      <td>1</td>\n",
       "      <td>1</td>\n",
       "      <td>0</td>\n",
       "    </tr>\n",
       "    <tr>\n",
       "      <th>16463</th>\n",
       "      <td>673</td>\n",
       "      <td>7</td>\n",
       "      <td>3.0</td>\n",
       "      <td>NaN</td>\n",
       "      <td>NaN</td>\n",
       "      <td>NaN</td>\n",
       "      <td>NaN</td>\n",
       "      <td>NaN</td>\n",
       "      <td>NaN</td>\n",
       "      <td>train</td>\n",
       "      <td>2</td>\n",
       "      <td>2</td>\n",
       "      <td>1</td>\n",
       "      <td>0</td>\n",
       "    </tr>\n",
       "    <tr>\n",
       "      <th>35390</th>\n",
       "      <td>1502</td>\n",
       "      <td>255</td>\n",
       "      <td>3.5</td>\n",
       "      <td>NaN</td>\n",
       "      <td>NaN</td>\n",
       "      <td>NaN</td>\n",
       "      <td>NaN</td>\n",
       "      <td>NaN</td>\n",
       "      <td>NaN</td>\n",
       "      <td>train</td>\n",
       "      <td>3</td>\n",
       "      <td>3</td>\n",
       "      <td>1</td>\n",
       "      <td>0</td>\n",
       "    </tr>\n",
       "    <tr>\n",
       "      <th>5367</th>\n",
       "      <td>224</td>\n",
       "      <td>10</td>\n",
       "      <td>4.0</td>\n",
       "      <td>1.0</td>\n",
       "      <td>1.0</td>\n",
       "      <td>1.0</td>\n",
       "      <td>NaN</td>\n",
       "      <td>NaN</td>\n",
       "      <td>NaN</td>\n",
       "      <td>train</td>\n",
       "      <td>4</td>\n",
       "      <td>4</td>\n",
       "      <td>1</td>\n",
       "      <td>0</td>\n",
       "    </tr>\n",
       "    <tr>\n",
       "      <th>13666</th>\n",
       "      <td>557</td>\n",
       "      <td>9</td>\n",
       "      <td>4.0</td>\n",
       "      <td>NaN</td>\n",
       "      <td>NaN</td>\n",
       "      <td>NaN</td>\n",
       "      <td>NaN</td>\n",
       "      <td>NaN</td>\n",
       "      <td>NaN</td>\n",
       "      <td>train</td>\n",
       "      <td>5</td>\n",
       "      <td>5</td>\n",
       "      <td>1</td>\n",
       "      <td>0</td>\n",
       "    </tr>\n",
       "  </tbody>\n",
       "</table>\n",
       "</div>"
      ],
      "text/plain": [
       "       userId  itemId  rating  mean_on_self  min_on_self  max_on_self  \\\n",
       "3297      159     241     0.5           1.0          1.0          1.0   \n",
       "16463     673       7     3.0           NaN          NaN          NaN   \n",
       "35390    1502     255     3.5           NaN          NaN          NaN   \n",
       "5367      224      10     4.0           1.0          1.0          1.0   \n",
       "13666     557       9     4.0           NaN          NaN          NaN   \n",
       "\n",
       "       mean_on_other  min_on_other  max_on_other random_dstype  user_idx  \\\n",
       "3297             NaN           NaN           NaN         train         1   \n",
       "16463            NaN           NaN           NaN         train         2   \n",
       "35390            NaN           NaN           NaN         train         3   \n",
       "5367             NaN           NaN           NaN         train         4   \n",
       "13666            NaN           NaN           NaN         train         5   \n",
       "\n",
       "       item_idx  dstype_random_train  dstype_random_valid  \n",
       "3297          1                    1                    0  \n",
       "16463         2                    1                    0  \n",
       "35390         3                    1                    0  \n",
       "5367          4                    1                    0  \n",
       "13666         5                    1                    0  "
      ]
     },
     "execution_count": 7,
     "metadata": {},
     "output_type": "execute_result"
    }
   ],
   "source": [
    "df_train.head()"
   ]
  },
  {
   "cell_type": "markdown",
   "metadata": {},
   "source": [
    "### Add the autoencoder features"
   ]
  },
  {
   "cell_type": "code",
   "execution_count": 8,
   "metadata": {},
   "outputs": [],
   "source": [
    "import pickle"
   ]
  },
  {
   "cell_type": "code",
   "execution_count": 9,
   "metadata": {},
   "outputs": [],
   "source": [
    "[df_train_user_autoenc,df_valid_user_autoenc,user_mtx_1_weights,user_mtx_2_weights]=\\\n",
    "    pickle.load(open(f'{DATAPATH}/inter/user_autoenc_weights.pkl','rb'))"
   ]
  },
  {
   "cell_type": "code",
   "execution_count": 10,
   "metadata": {},
   "outputs": [],
   "source": [
    "[df_train_item_autoenc, df_valid_item_autoenc,item_mtx_1_weights,item_mtx_2_weights]=\\\n",
    "    pickle.load(open(f'{DATAPATH}/inter/item_autoenc_weights.pkl','rb'))"
   ]
  },
  {
   "cell_type": "code",
   "execution_count": 11,
   "metadata": {},
   "outputs": [
    {
     "data": {
      "text/plain": [
       "((1508, 11),\n",
       " pandas.core.frame.DataFrame,\n",
       "    userId  user_autoenc0  user_autoenc1  user_autoenc2  user_autoenc3  \\\n",
       " 0       1      -3.341200       0.683606      -2.894754      -1.242846   \n",
       " 1       2      -1.003649      -2.366309      -0.365209      -1.525750   \n",
       " 2       3       0.873887      -1.549360      -1.023044      -0.091014   \n",
       " 3       4      -0.965775      -0.511479      -0.173978      -0.120885   \n",
       " 4       5      -1.066844      -2.348508      -0.416565      -1.564133   \n",
       " \n",
       "    user_autoenc4  user_autoenc5  user_autoenc6  user_autoenc7  user_autoenc8  \\\n",
       " 0      -2.154273       0.776028       0.834076      -3.665377       0.993176   \n",
       " 1       1.433479       1.259102       0.798494      -1.255771      -0.234993   \n",
       " 2       1.348692       2.057812       1.699200      -1.074568      -0.877823   \n",
       " 3      -0.980896      -0.076011       1.933037      -1.368997      -0.996827   \n",
       " 4       1.417177       1.260069       0.795392      -1.307355      -0.197687   \n",
       " \n",
       "    user_autoenc9  \n",
       " 0      -0.552663  \n",
       " 1      -0.674393  \n",
       " 2      -0.163366  \n",
       " 3      -0.186964  \n",
       " 4      -0.663870  )"
      ]
     },
     "execution_count": 11,
     "metadata": {},
     "output_type": "execute_result"
    }
   ],
   "source": [
    "df_train_user_autoenc.shape, type(df_train_user_autoenc),df_train_user_autoenc.head()"
   ]
  },
  {
   "cell_type": "code",
   "execution_count": 12,
   "metadata": {},
   "outputs": [
    {
     "data": {
      "text/plain": [
       "((2071, 11),\n",
       " pandas.core.frame.DataFrame,\n",
       "    itemId  item_autoenc0  item_autoenc1  item_autoenc2  item_autoenc3  \\\n",
       " 0       1       2.148755       2.105521       1.759979      -1.797472   \n",
       " 1       2       2.105715       2.088630       1.659954      -1.772268   \n",
       " 2       3       2.148767       2.105526       1.760009      -1.797479   \n",
       " 3       4       2.148765       2.105525       1.760002      -1.797478   \n",
       " 4       5       2.148767       2.105526       1.760007      -1.797479   \n",
       " \n",
       "    item_autoenc4  item_autoenc5  item_autoenc6  item_autoenc7  item_autoenc8  \\\n",
       " 0      -0.736646      -0.777778       0.748404       0.080765      -2.254708   \n",
       " 1      -0.660342      -0.688140       0.840236       0.140432      -2.202901   \n",
       " 2      -0.736669      -0.777805       0.748376       0.080747      -2.254724   \n",
       " 3      -0.736664      -0.777799       0.748383       0.080752      -2.254720   \n",
       " 4      -0.736667      -0.777803       0.748379       0.080749      -2.254722   \n",
       " \n",
       "    item_autoenc9  \n",
       " 0       1.648673  \n",
       " 1       1.532116  \n",
       " 2       1.648708  \n",
       " 3       1.648700  \n",
       " 4       1.648705  )"
      ]
     },
     "execution_count": 12,
     "metadata": {},
     "output_type": "execute_result"
    }
   ],
   "source": [
    "df_train_item_autoenc.shape, type(df_train_item_autoenc),df_train_item_autoenc.head()"
   ]
  },
  {
   "cell_type": "code",
   "execution_count": 13,
   "metadata": {},
   "outputs": [
    {
     "data": {
      "text/plain": [
       "(31944, 14)"
      ]
     },
     "execution_count": 13,
     "metadata": {},
     "output_type": "execute_result"
    }
   ],
   "source": [
    "df_train.shape"
   ]
  },
  {
   "cell_type": "code",
   "execution_count": 14,
   "metadata": {},
   "outputs": [
    {
     "data": {
      "text/html": [
       "<div>\n",
       "<style scoped>\n",
       "    .dataframe tbody tr th:only-of-type {\n",
       "        vertical-align: middle;\n",
       "    }\n",
       "\n",
       "    .dataframe tbody tr th {\n",
       "        vertical-align: top;\n",
       "    }\n",
       "\n",
       "    .dataframe thead th {\n",
       "        text-align: right;\n",
       "    }\n",
       "</style>\n",
       "<table border=\"1\" class=\"dataframe\">\n",
       "  <thead>\n",
       "    <tr style=\"text-align: right;\">\n",
       "      <th></th>\n",
       "      <th>userId</th>\n",
       "      <th>itemId</th>\n",
       "      <th>rating</th>\n",
       "      <th>mean_on_self</th>\n",
       "      <th>min_on_self</th>\n",
       "      <th>max_on_self</th>\n",
       "      <th>mean_on_other</th>\n",
       "      <th>min_on_other</th>\n",
       "      <th>max_on_other</th>\n",
       "      <th>random_dstype</th>\n",
       "      <th>user_idx</th>\n",
       "      <th>item_idx</th>\n",
       "      <th>dstype_random_train</th>\n",
       "      <th>dstype_random_valid</th>\n",
       "    </tr>\n",
       "  </thead>\n",
       "  <tbody>\n",
       "    <tr>\n",
       "      <th>3297</th>\n",
       "      <td>159</td>\n",
       "      <td>241</td>\n",
       "      <td>0.5</td>\n",
       "      <td>1.0</td>\n",
       "      <td>1.0</td>\n",
       "      <td>1.0</td>\n",
       "      <td>NaN</td>\n",
       "      <td>NaN</td>\n",
       "      <td>NaN</td>\n",
       "      <td>train</td>\n",
       "      <td>1</td>\n",
       "      <td>1</td>\n",
       "      <td>1</td>\n",
       "      <td>0</td>\n",
       "    </tr>\n",
       "    <tr>\n",
       "      <th>16463</th>\n",
       "      <td>673</td>\n",
       "      <td>7</td>\n",
       "      <td>3.0</td>\n",
       "      <td>NaN</td>\n",
       "      <td>NaN</td>\n",
       "      <td>NaN</td>\n",
       "      <td>NaN</td>\n",
       "      <td>NaN</td>\n",
       "      <td>NaN</td>\n",
       "      <td>train</td>\n",
       "      <td>2</td>\n",
       "      <td>2</td>\n",
       "      <td>1</td>\n",
       "      <td>0</td>\n",
       "    </tr>\n",
       "    <tr>\n",
       "      <th>35390</th>\n",
       "      <td>1502</td>\n",
       "      <td>255</td>\n",
       "      <td>3.5</td>\n",
       "      <td>NaN</td>\n",
       "      <td>NaN</td>\n",
       "      <td>NaN</td>\n",
       "      <td>NaN</td>\n",
       "      <td>NaN</td>\n",
       "      <td>NaN</td>\n",
       "      <td>train</td>\n",
       "      <td>3</td>\n",
       "      <td>3</td>\n",
       "      <td>1</td>\n",
       "      <td>0</td>\n",
       "    </tr>\n",
       "    <tr>\n",
       "      <th>5367</th>\n",
       "      <td>224</td>\n",
       "      <td>10</td>\n",
       "      <td>4.0</td>\n",
       "      <td>1.0</td>\n",
       "      <td>1.0</td>\n",
       "      <td>1.0</td>\n",
       "      <td>NaN</td>\n",
       "      <td>NaN</td>\n",
       "      <td>NaN</td>\n",
       "      <td>train</td>\n",
       "      <td>4</td>\n",
       "      <td>4</td>\n",
       "      <td>1</td>\n",
       "      <td>0</td>\n",
       "    </tr>\n",
       "    <tr>\n",
       "      <th>13666</th>\n",
       "      <td>557</td>\n",
       "      <td>9</td>\n",
       "      <td>4.0</td>\n",
       "      <td>NaN</td>\n",
       "      <td>NaN</td>\n",
       "      <td>NaN</td>\n",
       "      <td>NaN</td>\n",
       "      <td>NaN</td>\n",
       "      <td>NaN</td>\n",
       "      <td>train</td>\n",
       "      <td>5</td>\n",
       "      <td>5</td>\n",
       "      <td>1</td>\n",
       "      <td>0</td>\n",
       "    </tr>\n",
       "  </tbody>\n",
       "</table>\n",
       "</div>"
      ],
      "text/plain": [
       "       userId  itemId  rating  mean_on_self  min_on_self  max_on_self  \\\n",
       "3297      159     241     0.5           1.0          1.0          1.0   \n",
       "16463     673       7     3.0           NaN          NaN          NaN   \n",
       "35390    1502     255     3.5           NaN          NaN          NaN   \n",
       "5367      224      10     4.0           1.0          1.0          1.0   \n",
       "13666     557       9     4.0           NaN          NaN          NaN   \n",
       "\n",
       "       mean_on_other  min_on_other  max_on_other random_dstype  user_idx  \\\n",
       "3297             NaN           NaN           NaN         train         1   \n",
       "16463            NaN           NaN           NaN         train         2   \n",
       "35390            NaN           NaN           NaN         train         3   \n",
       "5367             NaN           NaN           NaN         train         4   \n",
       "13666            NaN           NaN           NaN         train         5   \n",
       "\n",
       "       item_idx  dstype_random_train  dstype_random_valid  \n",
       "3297          1                    1                    0  \n",
       "16463         2                    1                    0  \n",
       "35390         3                    1                    0  \n",
       "5367          4                    1                    0  \n",
       "13666         5                    1                    0  "
      ]
     },
     "execution_count": 14,
     "metadata": {},
     "output_type": "execute_result"
    }
   ],
   "source": [
    "df_train.head()"
   ]
  },
  {
   "cell_type": "code",
   "execution_count": 15,
   "metadata": {},
   "outputs": [],
   "source": [
    "df_train=pd.merge(df_train,df_train_item_autoenc,on='itemId',how='left')"
   ]
  },
  {
   "cell_type": "code",
   "execution_count": 16,
   "metadata": {},
   "outputs": [
    {
     "data": {
      "text/plain": [
       "(31944, 24)"
      ]
     },
     "execution_count": 16,
     "metadata": {},
     "output_type": "execute_result"
    }
   ],
   "source": [
    "df_train.shape"
   ]
  },
  {
   "cell_type": "code",
   "execution_count": 17,
   "metadata": {},
   "outputs": [
    {
     "name": "stdout",
     "output_type": "stream",
     "text": [
      "(3550, 14)\n"
     ]
    },
    {
     "data": {
      "text/plain": [
       "(3550, 24)"
      ]
     },
     "execution_count": 17,
     "metadata": {},
     "output_type": "execute_result"
    }
   ],
   "source": [
    "print(df_valid.shape)\n",
    "df_valid=pd.merge(df_valid,df_valid_item_autoenc,on='itemId',how='left')\n",
    "df_valid.shape"
   ]
  },
  {
   "cell_type": "code",
   "execution_count": 18,
   "metadata": {},
   "outputs": [
    {
     "data": {
      "text/plain": [
       "(3550, 24)"
      ]
     },
     "execution_count": 18,
     "metadata": {},
     "output_type": "execute_result"
    }
   ],
   "source": [
    "df_valid.shape"
   ]
  },
  {
   "cell_type": "code",
   "execution_count": 19,
   "metadata": {},
   "outputs": [
    {
     "name": "stdout",
     "output_type": "stream",
     "text": [
      "(3550, 24)\n"
     ]
    },
    {
     "data": {
      "text/plain": [
       "(3550, 34)"
      ]
     },
     "execution_count": 19,
     "metadata": {},
     "output_type": "execute_result"
    }
   ],
   "source": [
    "print(df_valid.shape)\n",
    "df_valid=pd.merge(df_valid,df_valid_user_autoenc,on='userId',how='left')\n",
    "df_valid.shape"
   ]
  },
  {
   "cell_type": "code",
   "execution_count": 20,
   "metadata": {},
   "outputs": [
    {
     "name": "stdout",
     "output_type": "stream",
     "text": [
      "(31944, 24)\n"
     ]
    },
    {
     "data": {
      "text/plain": [
       "(31944, 34)"
      ]
     },
     "execution_count": 20,
     "metadata": {},
     "output_type": "execute_result"
    }
   ],
   "source": [
    "print(df_train.shape)\n",
    "df_train=pd.merge(df_train,df_train_user_autoenc,on='userId',how='left')\n",
    "df_train.shape"
   ]
  },
  {
   "cell_type": "code",
   "execution_count": 21,
   "metadata": {},
   "outputs": [
    {
     "data": {
      "text/plain": [
       "Index(['userId', 'itemId', 'rating', 'mean_on_self', 'min_on_self',\n",
       "       'max_on_self', 'mean_on_other', 'min_on_other', 'max_on_other',\n",
       "       'random_dstype', 'user_idx', 'item_idx', 'dstype_random_train',\n",
       "       'dstype_random_valid', 'item_autoenc0', 'item_autoenc1',\n",
       "       'item_autoenc2', 'item_autoenc3', 'item_autoenc4', 'item_autoenc5',\n",
       "       'item_autoenc6', 'item_autoenc7', 'item_autoenc8', 'item_autoenc9',\n",
       "       'user_autoenc0', 'user_autoenc1', 'user_autoenc2', 'user_autoenc3',\n",
       "       'user_autoenc4', 'user_autoenc5', 'user_autoenc6', 'user_autoenc7',\n",
       "       'user_autoenc8', 'user_autoenc9'],\n",
       "      dtype='object')"
      ]
     },
     "execution_count": 21,
     "metadata": {},
     "output_type": "execute_result"
    }
   ],
   "source": [
    "df_train.columns"
   ]
  },
  {
   "cell_type": "code",
   "execution_count": 22,
   "metadata": {},
   "outputs": [],
   "source": [
    "autoenc_cols=df_train.columns[df_train.columns.str.contains('autoenc')]"
   ]
  },
  {
   "cell_type": "code",
   "execution_count": 23,
   "metadata": {},
   "outputs": [],
   "source": [
    "autoenc_cols=autoenc_cols.tolist()"
   ]
  },
  {
   "cell_type": "code",
   "execution_count": 24,
   "metadata": {},
   "outputs": [
    {
     "data": {
      "text/plain": [
       "['item_autoenc0',\n",
       " 'item_autoenc1',\n",
       " 'item_autoenc2',\n",
       " 'item_autoenc3',\n",
       " 'item_autoenc4',\n",
       " 'item_autoenc5',\n",
       " 'item_autoenc6',\n",
       " 'item_autoenc7',\n",
       " 'item_autoenc8',\n",
       " 'item_autoenc9',\n",
       " 'user_autoenc0',\n",
       " 'user_autoenc1',\n",
       " 'user_autoenc2',\n",
       " 'user_autoenc3',\n",
       " 'user_autoenc4',\n",
       " 'user_autoenc5',\n",
       " 'user_autoenc6',\n",
       " 'user_autoenc7',\n",
       " 'user_autoenc8',\n",
       " 'user_autoenc9']"
      ]
     },
     "execution_count": 24,
     "metadata": {},
     "output_type": "execute_result"
    }
   ],
   "source": [
    "autoenc_cols"
   ]
  },
  {
   "cell_type": "code",
   "execution_count": 25,
   "metadata": {},
   "outputs": [
    {
     "data": {
      "text/html": [
       "<div>\n",
       "<style scoped>\n",
       "    .dataframe tbody tr th:only-of-type {\n",
       "        vertical-align: middle;\n",
       "    }\n",
       "\n",
       "    .dataframe tbody tr th {\n",
       "        vertical-align: top;\n",
       "    }\n",
       "\n",
       "    .dataframe thead th {\n",
       "        text-align: right;\n",
       "    }\n",
       "</style>\n",
       "<table border=\"1\" class=\"dataframe\">\n",
       "  <thead>\n",
       "    <tr style=\"text-align: right;\">\n",
       "      <th></th>\n",
       "      <th>userId</th>\n",
       "      <th>itemId</th>\n",
       "      <th>rating</th>\n",
       "      <th>mean_on_self</th>\n",
       "      <th>min_on_self</th>\n",
       "      <th>max_on_self</th>\n",
       "      <th>mean_on_other</th>\n",
       "      <th>min_on_other</th>\n",
       "      <th>max_on_other</th>\n",
       "      <th>random_dstype</th>\n",
       "      <th>...</th>\n",
       "      <th>user_autoenc0</th>\n",
       "      <th>user_autoenc1</th>\n",
       "      <th>user_autoenc2</th>\n",
       "      <th>user_autoenc3</th>\n",
       "      <th>user_autoenc4</th>\n",
       "      <th>user_autoenc5</th>\n",
       "      <th>user_autoenc6</th>\n",
       "      <th>user_autoenc7</th>\n",
       "      <th>user_autoenc8</th>\n",
       "      <th>user_autoenc9</th>\n",
       "    </tr>\n",
       "  </thead>\n",
       "  <tbody>\n",
       "    <tr>\n",
       "      <th>0</th>\n",
       "      <td>159</td>\n",
       "      <td>241</td>\n",
       "      <td>0.5</td>\n",
       "      <td>1.0</td>\n",
       "      <td>1.0</td>\n",
       "      <td>1.0</td>\n",
       "      <td>NaN</td>\n",
       "      <td>NaN</td>\n",
       "      <td>NaN</td>\n",
       "      <td>train</td>\n",
       "      <td>...</td>\n",
       "      <td>-2.745483</td>\n",
       "      <td>-2.027757</td>\n",
       "      <td>-2.634101</td>\n",
       "      <td>-3.231060</td>\n",
       "      <td>2.551503</td>\n",
       "      <td>2.178736</td>\n",
       "      <td>-2.315682</td>\n",
       "      <td>-2.340696</td>\n",
       "      <td>2.303620</td>\n",
       "      <td>0.117822</td>\n",
       "    </tr>\n",
       "    <tr>\n",
       "      <th>1</th>\n",
       "      <td>673</td>\n",
       "      <td>7</td>\n",
       "      <td>3.0</td>\n",
       "      <td>NaN</td>\n",
       "      <td>NaN</td>\n",
       "      <td>NaN</td>\n",
       "      <td>NaN</td>\n",
       "      <td>NaN</td>\n",
       "      <td>NaN</td>\n",
       "      <td>train</td>\n",
       "      <td>...</td>\n",
       "      <td>-0.105591</td>\n",
       "      <td>-0.071498</td>\n",
       "      <td>-0.376756</td>\n",
       "      <td>0.245637</td>\n",
       "      <td>0.026462</td>\n",
       "      <td>0.300354</td>\n",
       "      <td>-0.558003</td>\n",
       "      <td>0.081122</td>\n",
       "      <td>0.516522</td>\n",
       "      <td>-0.727923</td>\n",
       "    </tr>\n",
       "    <tr>\n",
       "      <th>2</th>\n",
       "      <td>1502</td>\n",
       "      <td>255</td>\n",
       "      <td>3.5</td>\n",
       "      <td>NaN</td>\n",
       "      <td>NaN</td>\n",
       "      <td>NaN</td>\n",
       "      <td>NaN</td>\n",
       "      <td>NaN</td>\n",
       "      <td>NaN</td>\n",
       "      <td>train</td>\n",
       "      <td>...</td>\n",
       "      <td>-0.348932</td>\n",
       "      <td>-0.177966</td>\n",
       "      <td>-0.692913</td>\n",
       "      <td>0.059837</td>\n",
       "      <td>-0.707221</td>\n",
       "      <td>-0.615411</td>\n",
       "      <td>-1.128136</td>\n",
       "      <td>0.301624</td>\n",
       "      <td>0.860169</td>\n",
       "      <td>-0.745395</td>\n",
       "    </tr>\n",
       "    <tr>\n",
       "      <th>3</th>\n",
       "      <td>224</td>\n",
       "      <td>10</td>\n",
       "      <td>4.0</td>\n",
       "      <td>1.0</td>\n",
       "      <td>1.0</td>\n",
       "      <td>1.0</td>\n",
       "      <td>NaN</td>\n",
       "      <td>NaN</td>\n",
       "      <td>NaN</td>\n",
       "      <td>train</td>\n",
       "      <td>...</td>\n",
       "      <td>-1.850368</td>\n",
       "      <td>0.696236</td>\n",
       "      <td>-1.643970</td>\n",
       "      <td>-0.314808</td>\n",
       "      <td>-2.072049</td>\n",
       "      <td>-0.121137</td>\n",
       "      <td>1.301735</td>\n",
       "      <td>-2.551571</td>\n",
       "      <td>-0.014993</td>\n",
       "      <td>-0.327130</td>\n",
       "    </tr>\n",
       "    <tr>\n",
       "      <th>4</th>\n",
       "      <td>557</td>\n",
       "      <td>9</td>\n",
       "      <td>4.0</td>\n",
       "      <td>NaN</td>\n",
       "      <td>NaN</td>\n",
       "      <td>NaN</td>\n",
       "      <td>NaN</td>\n",
       "      <td>NaN</td>\n",
       "      <td>NaN</td>\n",
       "      <td>train</td>\n",
       "      <td>...</td>\n",
       "      <td>-0.316921</td>\n",
       "      <td>0.266559</td>\n",
       "      <td>-0.295155</td>\n",
       "      <td>0.087542</td>\n",
       "      <td>-0.864880</td>\n",
       "      <td>-0.051546</td>\n",
       "      <td>0.193434</td>\n",
       "      <td>-0.349935</td>\n",
       "      <td>0.686382</td>\n",
       "      <td>0.038217</td>\n",
       "    </tr>\n",
       "  </tbody>\n",
       "</table>\n",
       "<p>5 rows × 34 columns</p>\n",
       "</div>"
      ],
      "text/plain": [
       "   userId  itemId  rating  mean_on_self  min_on_self  max_on_self  \\\n",
       "0     159     241     0.5           1.0          1.0          1.0   \n",
       "1     673       7     3.0           NaN          NaN          NaN   \n",
       "2    1502     255     3.5           NaN          NaN          NaN   \n",
       "3     224      10     4.0           1.0          1.0          1.0   \n",
       "4     557       9     4.0           NaN          NaN          NaN   \n",
       "\n",
       "   mean_on_other  min_on_other  max_on_other random_dstype  ...  \\\n",
       "0            NaN           NaN           NaN         train  ...   \n",
       "1            NaN           NaN           NaN         train  ...   \n",
       "2            NaN           NaN           NaN         train  ...   \n",
       "3            NaN           NaN           NaN         train  ...   \n",
       "4            NaN           NaN           NaN         train  ...   \n",
       "\n",
       "   user_autoenc0  user_autoenc1  user_autoenc2  user_autoenc3  user_autoenc4  \\\n",
       "0      -2.745483      -2.027757      -2.634101      -3.231060       2.551503   \n",
       "1      -0.105591      -0.071498      -0.376756       0.245637       0.026462   \n",
       "2      -0.348932      -0.177966      -0.692913       0.059837      -0.707221   \n",
       "3      -1.850368       0.696236      -1.643970      -0.314808      -2.072049   \n",
       "4      -0.316921       0.266559      -0.295155       0.087542      -0.864880   \n",
       "\n",
       "   user_autoenc5  user_autoenc6  user_autoenc7  user_autoenc8  user_autoenc9  \n",
       "0       2.178736      -2.315682      -2.340696       2.303620       0.117822  \n",
       "1       0.300354      -0.558003       0.081122       0.516522      -0.727923  \n",
       "2      -0.615411      -1.128136       0.301624       0.860169      -0.745395  \n",
       "3      -0.121137       1.301735      -2.551571      -0.014993      -0.327130  \n",
       "4      -0.051546       0.193434      -0.349935       0.686382       0.038217  \n",
       "\n",
       "[5 rows x 34 columns]"
      ]
     },
     "execution_count": 25,
     "metadata": {},
     "output_type": "execute_result"
    }
   ],
   "source": [
    "df_train.head()"
   ]
  },
  {
   "cell_type": "code",
   "execution_count": 26,
   "metadata": {},
   "outputs": [
    {
     "data": {
      "text/html": [
       "<div>\n",
       "<style scoped>\n",
       "    .dataframe tbody tr th:only-of-type {\n",
       "        vertical-align: middle;\n",
       "    }\n",
       "\n",
       "    .dataframe tbody tr th {\n",
       "        vertical-align: top;\n",
       "    }\n",
       "\n",
       "    .dataframe thead th {\n",
       "        text-align: right;\n",
       "    }\n",
       "</style>\n",
       "<table border=\"1\" class=\"dataframe\">\n",
       "  <thead>\n",
       "    <tr style=\"text-align: right;\">\n",
       "      <th></th>\n",
       "      <th>user_idx</th>\n",
       "      <th>item_idx</th>\n",
       "      <th>item_autoenc0</th>\n",
       "      <th>item_autoenc1</th>\n",
       "      <th>item_autoenc2</th>\n",
       "      <th>item_autoenc3</th>\n",
       "      <th>item_autoenc4</th>\n",
       "      <th>item_autoenc5</th>\n",
       "      <th>item_autoenc6</th>\n",
       "      <th>item_autoenc7</th>\n",
       "      <th>...</th>\n",
       "      <th>user_autoenc0</th>\n",
       "      <th>user_autoenc1</th>\n",
       "      <th>user_autoenc2</th>\n",
       "      <th>user_autoenc3</th>\n",
       "      <th>user_autoenc4</th>\n",
       "      <th>user_autoenc5</th>\n",
       "      <th>user_autoenc6</th>\n",
       "      <th>user_autoenc7</th>\n",
       "      <th>user_autoenc8</th>\n",
       "      <th>user_autoenc9</th>\n",
       "    </tr>\n",
       "  </thead>\n",
       "  <tbody>\n",
       "    <tr>\n",
       "      <th>0</th>\n",
       "      <td>1</td>\n",
       "      <td>1</td>\n",
       "      <td>2.143410</td>\n",
       "      <td>2.109679</td>\n",
       "      <td>1.762766</td>\n",
       "      <td>-1.787753</td>\n",
       "      <td>-0.740233</td>\n",
       "      <td>-0.776990</td>\n",
       "      <td>0.743170</td>\n",
       "      <td>0.072942</td>\n",
       "      <td>...</td>\n",
       "      <td>-2.745483</td>\n",
       "      <td>-2.027757</td>\n",
       "      <td>-2.634101</td>\n",
       "      <td>-3.231060</td>\n",
       "      <td>2.551503</td>\n",
       "      <td>2.178736</td>\n",
       "      <td>-2.315682</td>\n",
       "      <td>-2.340696</td>\n",
       "      <td>2.303620</td>\n",
       "      <td>0.117822</td>\n",
       "    </tr>\n",
       "    <tr>\n",
       "      <th>1</th>\n",
       "      <td>2</td>\n",
       "      <td>2</td>\n",
       "      <td>1.993736</td>\n",
       "      <td>2.044680</td>\n",
       "      <td>1.399719</td>\n",
       "      <td>-1.706689</td>\n",
       "      <td>-0.461817</td>\n",
       "      <td>-0.454929</td>\n",
       "      <td>1.079158</td>\n",
       "      <td>0.295657</td>\n",
       "      <td>...</td>\n",
       "      <td>-0.105591</td>\n",
       "      <td>-0.071498</td>\n",
       "      <td>-0.376756</td>\n",
       "      <td>0.245637</td>\n",
       "      <td>0.026462</td>\n",
       "      <td>0.300354</td>\n",
       "      <td>-0.558003</td>\n",
       "      <td>0.081122</td>\n",
       "      <td>0.516522</td>\n",
       "      <td>-0.727923</td>\n",
       "    </tr>\n",
       "    <tr>\n",
       "      <th>2</th>\n",
       "      <td>3</td>\n",
       "      <td>3</td>\n",
       "      <td>1.837838</td>\n",
       "      <td>2.346579</td>\n",
       "      <td>1.920011</td>\n",
       "      <td>-1.232746</td>\n",
       "      <td>-0.943404</td>\n",
       "      <td>-0.730271</td>\n",
       "      <td>0.446007</td>\n",
       "      <td>-0.372549</td>\n",
       "      <td>...</td>\n",
       "      <td>-0.348932</td>\n",
       "      <td>-0.177966</td>\n",
       "      <td>-0.692913</td>\n",
       "      <td>0.059837</td>\n",
       "      <td>-0.707221</td>\n",
       "      <td>-0.615411</td>\n",
       "      <td>-1.128136</td>\n",
       "      <td>0.301624</td>\n",
       "      <td>0.860169</td>\n",
       "      <td>-0.745395</td>\n",
       "    </tr>\n",
       "    <tr>\n",
       "      <th>3</th>\n",
       "      <td>4</td>\n",
       "      <td>4</td>\n",
       "      <td>2.162949</td>\n",
       "      <td>2.031683</td>\n",
       "      <td>1.767996</td>\n",
       "      <td>-1.779595</td>\n",
       "      <td>-0.597938</td>\n",
       "      <td>-0.883568</td>\n",
       "      <td>0.901213</td>\n",
       "      <td>-0.019628</td>\n",
       "      <td>...</td>\n",
       "      <td>-1.850368</td>\n",
       "      <td>0.696236</td>\n",
       "      <td>-1.643970</td>\n",
       "      <td>-0.314808</td>\n",
       "      <td>-2.072049</td>\n",
       "      <td>-0.121137</td>\n",
       "      <td>1.301735</td>\n",
       "      <td>-2.551571</td>\n",
       "      <td>-0.014993</td>\n",
       "      <td>-0.327130</td>\n",
       "    </tr>\n",
       "    <tr>\n",
       "      <th>4</th>\n",
       "      <td>5</td>\n",
       "      <td>5</td>\n",
       "      <td>2.148766</td>\n",
       "      <td>2.105525</td>\n",
       "      <td>1.760006</td>\n",
       "      <td>-1.797479</td>\n",
       "      <td>-0.736667</td>\n",
       "      <td>-0.777803</td>\n",
       "      <td>0.748379</td>\n",
       "      <td>0.080749</td>\n",
       "      <td>...</td>\n",
       "      <td>-0.316921</td>\n",
       "      <td>0.266559</td>\n",
       "      <td>-0.295155</td>\n",
       "      <td>0.087542</td>\n",
       "      <td>-0.864880</td>\n",
       "      <td>-0.051546</td>\n",
       "      <td>0.193434</td>\n",
       "      <td>-0.349935</td>\n",
       "      <td>0.686382</td>\n",
       "      <td>0.038217</td>\n",
       "    </tr>\n",
       "  </tbody>\n",
       "</table>\n",
       "<p>5 rows × 22 columns</p>\n",
       "</div>"
      ],
      "text/plain": [
       "   user_idx  item_idx  item_autoenc0  item_autoenc1  item_autoenc2  \\\n",
       "0         1         1       2.143410       2.109679       1.762766   \n",
       "1         2         2       1.993736       2.044680       1.399719   \n",
       "2         3         3       1.837838       2.346579       1.920011   \n",
       "3         4         4       2.162949       2.031683       1.767996   \n",
       "4         5         5       2.148766       2.105525       1.760006   \n",
       "\n",
       "   item_autoenc3  item_autoenc4  item_autoenc5  item_autoenc6  item_autoenc7  \\\n",
       "0      -1.787753      -0.740233      -0.776990       0.743170       0.072942   \n",
       "1      -1.706689      -0.461817      -0.454929       1.079158       0.295657   \n",
       "2      -1.232746      -0.943404      -0.730271       0.446007      -0.372549   \n",
       "3      -1.779595      -0.597938      -0.883568       0.901213      -0.019628   \n",
       "4      -1.797479      -0.736667      -0.777803       0.748379       0.080749   \n",
       "\n",
       "   ...  user_autoenc0  user_autoenc1  user_autoenc2  user_autoenc3  \\\n",
       "0  ...      -2.745483      -2.027757      -2.634101      -3.231060   \n",
       "1  ...      -0.105591      -0.071498      -0.376756       0.245637   \n",
       "2  ...      -0.348932      -0.177966      -0.692913       0.059837   \n",
       "3  ...      -1.850368       0.696236      -1.643970      -0.314808   \n",
       "4  ...      -0.316921       0.266559      -0.295155       0.087542   \n",
       "\n",
       "   user_autoenc4  user_autoenc5  user_autoenc6  user_autoenc7  user_autoenc8  \\\n",
       "0       2.551503       2.178736      -2.315682      -2.340696       2.303620   \n",
       "1       0.026462       0.300354      -0.558003       0.081122       0.516522   \n",
       "2      -0.707221      -0.615411      -1.128136       0.301624       0.860169   \n",
       "3      -2.072049      -0.121137       1.301735      -2.551571      -0.014993   \n",
       "4      -0.864880      -0.051546       0.193434      -0.349935       0.686382   \n",
       "\n",
       "   user_autoenc9  \n",
       "0       0.117822  \n",
       "1      -0.727923  \n",
       "2      -0.745395  \n",
       "3      -0.327130  \n",
       "4       0.038217  \n",
       "\n",
       "[5 rows x 22 columns]"
      ]
     },
     "execution_count": 26,
     "metadata": {},
     "output_type": "execute_result"
    }
   ],
   "source": [
    "df_train[['user_idx','item_idx']+autoenc_cols].head()"
   ]
  },
  {
   "cell_type": "markdown",
   "metadata": {},
   "source": [
    "### Dataset and DataLoader"
   ]
  },
  {
   "cell_type": "code",
   "execution_count": 27,
   "metadata": {},
   "outputs": [],
   "source": [
    "class cfdata (torch.utils.data.dataset.Dataset):\n",
    "    def __init__(self,dfX,dfY,denseCols):\n",
    "        self.dfX,self.dfY=dfX,dfY\n",
    "        self.denseCols=denseCols\n",
    "        \n",
    "    def __len__ (self):\n",
    "        return self.dfX.shape[0]\n",
    "    \n",
    "    def __getitem__ (self, idx):\n",
    "        return torch.FloatTensor(self.dfX.iloc[idx].values),torch.FloatTensor([self.dfY.values[idx]])"
   ]
  },
  {
   "cell_type": "code",
   "execution_count": 28,
   "metadata": {},
   "outputs": [],
   "source": [
    "dstrain=cfdata(df_train[['user_idx','item_idx']+autoenc_cols],df_train['rating'],autoenc_cols)\n",
    "dsvalid=cfdata(df_valid[['user_idx','item_idx']+autoenc_cols],df_valid['rating'],autoenc_cols)"
   ]
  },
  {
   "cell_type": "code",
   "execution_count": 29,
   "metadata": {},
   "outputs": [
    {
     "data": {
      "text/plain": [
       "(31944, 34)"
      ]
     },
     "execution_count": 29,
     "metadata": {},
     "output_type": "execute_result"
    }
   ],
   "source": [
    "df_train.shape"
   ]
  },
  {
   "cell_type": "code",
   "execution_count": 31,
   "metadata": {},
   "outputs": [],
   "source": [
    "bs=16"
   ]
  },
  {
   "cell_type": "code",
   "execution_count": 32,
   "metadata": {},
   "outputs": [],
   "source": [
    "dltrain=DataLoader(dstrain,bs,True)"
   ]
  },
  {
   "cell_type": "code",
   "execution_count": 33,
   "metadata": {},
   "outputs": [],
   "source": [
    "dlvalid=DataLoader(dsvalid,bs,True)"
   ]
  },
  {
   "cell_type": "markdown",
   "metadata": {},
   "source": [
    "## Model Architecture"
   ]
  },
  {
   "cell_type": "code",
   "execution_count": 34,
   "metadata": {},
   "outputs": [],
   "source": [
    "n_users=len(user_to_idx)\n",
    "n_movies=len(movie_to_idx)"
   ]
  },
  {
   "cell_type": "code",
   "execution_count": 35,
   "metadata": {},
   "outputs": [
    {
     "data": {
      "text/plain": [
       "(1508, 2071)"
      ]
     },
     "execution_count": 35,
     "metadata": {},
     "output_type": "execute_result"
    }
   ],
   "source": [
    "n_users,n_movies"
   ]
  },
  {
   "cell_type": "code",
   "execution_count": 36,
   "metadata": {},
   "outputs": [],
   "source": [
    "n_emb_user=10\n",
    "n_emb_movie=25\n",
    "min_rating=min(df_train['rating'])\n",
    "max_rating=max(df_train['rating'])\n",
    "dropout_e=0.2\n",
    "hidden=[20,10,10]\n",
    "dropouts=[0.5,0.6,0.5]"
   ]
  },
  {
   "cell_type": "code",
   "execution_count": 37,
   "metadata": {},
   "outputs": [],
   "source": [
    "def hidden_layer(x,y,dropout,activation=nn.Sigmoid()):\n",
    "    return nn.Sequential(\n",
    "        nn.Linear(x, y),\n",
    "        activation,\n",
    "        nn.Dropout(p=dropout)\n",
    "        )   "
   ]
  },
  {
   "cell_type": "code",
   "execution_count": 38,
   "metadata": {},
   "outputs": [],
   "source": [
    "class cf(nn.Module):    \n",
    "    def __init__(self,n_users,n_emb_user,n_emb_movie,n_movies,min_rating,max_rating,autoenc_cols,\\\n",
    "                 dropout_e=0.01,hidden=[15,5],dropouts=[0.2,0.2]):\n",
    "        super().__init__()\n",
    "        self.n_users,self.n_emb_user,self.n_emb_movie,self.n_movies,self.min_rating,self.max_rating=\\\n",
    "                    n_users,n_emb_user,n_emb_movie,n_movies,min_rating,max_rating\n",
    "        self.dropout_e,self.hidden,self.dropouts=dropout_e,hidden,dropouts\n",
    "        self.autoenc_cols,self.len_dense_cols=autoenc_cols,len(autoenc_cols)\n",
    "        self.create_architecture()\n",
    "        self.criterion=nn.MSELoss()\n",
    "        \n",
    "        \n",
    "    def create_architecture(self):\n",
    "        self.emb_user=nn.Embedding(self.n_users+1,self.n_emb_user)\n",
    "        self.emb_movie=nn.Embedding(self.n_movies+1,self.n_emb_movie)\n",
    "        self.emb_dropout=nn.Dropout(self.dropout_e)\n",
    "\n",
    "        \n",
    "        self.lin1= nn.Sequential(nn.Linear(self.n_emb_user+self.n_emb_movie,self.hidden[0]),\n",
    "                    nn.ReLU(),\n",
    "                    nn.Dropout(p=dropouts[0]) )\n",
    "        self.lin2= nn.Sequential (nn.Linear(self.len_dense_cols,self.hidden[1]),\n",
    "                    nn.ReLU(),\n",
    "                    nn.Dropout(p=dropouts[1]) )\n",
    "        self.lin3= nn.Sequential (nn.Linear(self.hidden[0]+self.hidden[1],self.hidden[2]),\n",
    "                    nn.ReLU(),\n",
    "                    nn.Dropout(p=dropouts[2]))\n",
    "        self.lin4=nn.Linear(self.hidden[2],1)\n",
    "        \n",
    "        \n",
    "        self.bn1 = nn.BatchNorm1d(self.hidden[0])\n",
    "        self.bn2 = nn.BatchNorm1d(self.hidden[1])\n",
    "        self.bn3=nn.BatchNorm1d(self.hidden[2])\n",
    "        \n",
    "        self.sigmoid=nn.Sigmoid()\n",
    "        \n",
    "        \n",
    "    def init_parameters(self):\n",
    "        nn.init.kaiming_normal_(self.emb_user.weight.data)\n",
    "        nn.init.kaiming_normal_(self.emb_movie.weight.dat)\n",
    "        #nn.init.kaiming_normal_(lin)\n",
    "       \n",
    "    def forward (self,Xb,Yb):\n",
    "        users=Xb[:,0].long()\n",
    "        items=Xb[:,1].long()\n",
    "        users=self.emb_dropout(self.emb_user(users))\n",
    "        items=self.emb_dropout(self.emb_movie(items))\n",
    "        \n",
    "        denses=Xb[:,2:]\n",
    "        embed=torch.cat([users,items],1)\n",
    "        \n",
    "        out1=self.bn1(self.lin1(embed))\n",
    "        out2=self.bn2(self.lin2(denses))\n",
    "        out3=torch.cat([out1,out2],1)\n",
    "        out4=self.bn3(self.lin3(out3))\n",
    "        out5=self.lin4(out4)\n",
    "        \n",
    "        out=self.sigmoid(out5)\n",
    "        \n",
    "        preds=out*(self.max_rating-self.min_rating)+self.min_rating\n",
    "        #preds=preds.view(-1)\n",
    "        loss=self.criterion(preds,Yb)\n",
    "        return preds,loss"
   ]
  },
  {
   "cell_type": "code",
   "execution_count": 39,
   "metadata": {},
   "outputs": [],
   "source": [
    "cfobj=cf(n_users,n_emb_user,n_emb_movie,n_movies,min_rating,max_rating,autoenc_cols,dropout_e,hidden,dropouts)"
   ]
  },
  {
   "cell_type": "code",
   "execution_count": 40,
   "metadata": {},
   "outputs": [
    {
     "data": {
      "text/plain": [
       "cf(\n",
       "  (emb_user): Embedding(1509, 10)\n",
       "  (emb_movie): Embedding(2072, 25)\n",
       "  (emb_dropout): Dropout(p=0.2)\n",
       "  (lin1): Sequential(\n",
       "    (0): Linear(in_features=35, out_features=20, bias=True)\n",
       "    (1): ReLU()\n",
       "    (2): Dropout(p=0.5)\n",
       "  )\n",
       "  (lin2): Sequential(\n",
       "    (0): Linear(in_features=20, out_features=10, bias=True)\n",
       "    (1): ReLU()\n",
       "    (2): Dropout(p=0.6)\n",
       "  )\n",
       "  (lin3): Sequential(\n",
       "    (0): Linear(in_features=30, out_features=10, bias=True)\n",
       "    (1): ReLU()\n",
       "    (2): Dropout(p=0.5)\n",
       "  )\n",
       "  (lin4): Linear(in_features=10, out_features=1, bias=True)\n",
       "  (bn1): BatchNorm1d(20, eps=1e-05, momentum=0.1, affine=True, track_running_stats=True)\n",
       "  (bn2): BatchNorm1d(10, eps=1e-05, momentum=0.1, affine=True, track_running_stats=True)\n",
       "  (bn3): BatchNorm1d(10, eps=1e-05, momentum=0.1, affine=True, track_running_stats=True)\n",
       "  (sigmoid): Sigmoid()\n",
       "  (criterion): MSELoss()\n",
       ")"
      ]
     },
     "execution_count": 40,
     "metadata": {},
     "output_type": "execute_result"
    }
   ],
   "source": [
    "cfobj"
   ]
  },
  {
   "cell_type": "code",
   "execution_count": 41,
   "metadata": {},
   "outputs": [],
   "source": [
    "for Xb, Yb in dltrain:\n",
    "    break"
   ]
  },
  {
   "cell_type": "code",
   "execution_count": 42,
   "metadata": {},
   "outputs": [
    {
     "data": {
      "text/plain": [
       "(torch.Size([16, 22]), torch.Size([16, 1]))"
      ]
     },
     "execution_count": 42,
     "metadata": {},
     "output_type": "execute_result"
    }
   ],
   "source": [
    "Xb.shape, Yb.shape"
   ]
  },
  {
   "cell_type": "code",
   "execution_count": 43,
   "metadata": {},
   "outputs": [
    {
     "data": {
      "text/plain": [
       "torch.float32"
      ]
     },
     "execution_count": 43,
     "metadata": {},
     "output_type": "execute_result"
    }
   ],
   "source": [
    "Xb.dtype"
   ]
  },
  {
   "cell_type": "code",
   "execution_count": 44,
   "metadata": {},
   "outputs": [
    {
     "data": {
      "text/plain": [
       "(tensor([[2.2730],\n",
       "         [2.0544],\n",
       "         [2.1572],\n",
       "         [1.8879],\n",
       "         [2.2043],\n",
       "         [1.6911],\n",
       "         [2.0064],\n",
       "         [1.9558],\n",
       "         [2.1241],\n",
       "         [2.3472],\n",
       "         [2.3075],\n",
       "         [2.1558],\n",
       "         [2.1494],\n",
       "         [1.7759],\n",
       "         [2.1404],\n",
       "         [1.7526]], grad_fn=<AddBackward0>),\n",
       " tensor(2.0645, grad_fn=<MseLossBackward>))"
      ]
     },
     "execution_count": 44,
     "metadata": {},
     "output_type": "execute_result"
    }
   ],
   "source": [
    "cfobj.forward(Xb,Yb)"
   ]
  },
  {
   "cell_type": "markdown",
   "metadata": {},
   "source": [
    "## Learner"
   ]
  },
  {
   "cell_type": "code",
   "execution_count": 45,
   "metadata": {},
   "outputs": [],
   "source": [
    "class Learner():\n",
    "    def __init__(self,model,optimizer,metric_fn,device,bptt=12,print_every=5,clip_val=None,\\\n",
    "                 cycle_mult=0,lr_decay=0.7,wd_mult=6,start_lr=2e-2, end_lr=5e-4,error_type=\"mse\"):\n",
    "        self.model,self.optimizer,self.metric_fn,self.device,self.print_every,self.bptt,self.losses,self.clip_val=\\\n",
    "            model,optimizer,metric_fn,device,print_every,bptt,[],clip_val\n",
    "        self.n_epochs=1\n",
    "        self.cycle_mult,self.lr_decay=cycle_mult,lr_decay\n",
    "        self.wd_mult=wd_mult\n",
    "        for param_group in self.optimizer.param_groups:\n",
    "            self.start_lr=param_group['lr']\n",
    "            self.start_wd=param_group['weight_decay']\n",
    "        self.wd=self.start_wd\n",
    "        self.lr=self.start_lr\n",
    "        self.end_lr=end_lr\n",
    "        self.n_epoch=0\n",
    "        self.lrs=[1e-2,5e-3,1e-4,5e-4]\n",
    "        self.preds,self.preds_valid,self.trainY,self.actual=[],[],[],[]\n",
    "        self.ratio=self.end_lr/self.start_lr\n",
    "        self.num_steps=self.cycle_mult\n",
    "        self.reset_cycle=self.cycle_mult\n",
    "        self.error_type=error_type\n",
    "        \n",
    "    def fit (self,Xb,Yb,mode_train=True):\n",
    "        if mode_train:\n",
    "            self.model.train()\n",
    "        else:\n",
    "            self.model.eval()\n",
    "        \n",
    "        #import pdb\n",
    "        #pdb.set_trace()\n",
    "        preds,loss=self.model(Xb,Yb)\n",
    "\n",
    "     \n",
    "        if mode_train:\n",
    "            if 1==0:\n",
    "                lr =self.lrs[torch.randint(0,4,(1,))]\n",
    "                for param_group in self.optimizer.param_groups:\n",
    "                    param_group['lr']=lr\n",
    "            \n",
    "            self.optimizer.zero_grad()\n",
    "            loss.backward()\n",
    "            self.optimizer.step()\n",
    "        myloss=loss.item()\n",
    "    \n",
    "        \n",
    "        with torch.no_grad():\n",
    "            if self.error_type == \"mse\":\n",
    "                acc=nn.L1Loss() (preds,Yb)\n",
    "                myrmse=np.sqrt(myloss)\n",
    "            else:\n",
    "                acc=nn.MSELoss() (preds,Yb)\n",
    "                myrmse=np.sqrt(acc.item())\n",
    "            acc=acc.item()\n",
    "                 \n",
    "   \n",
    "        del preds\n",
    "        del loss\n",
    "        \n",
    "        if self.clip_val is not None:\n",
    "            torch.nn.utils.clip_grad_norm_(self.model.parameters(), self.clip_val)\n",
    "        \n",
    "        return myloss, acc, myrmse\n",
    "    \n",
    "    def lr_find (self,start_lr,end_lr,iterator,n_batch):\n",
    "        losses,lrs=[],[]\n",
    "        ratio=end_lr/start_lr\n",
    "        num_steps=n_batch\n",
    "        lr=start_lr\n",
    "        for i in range(num_steps):            \n",
    "            lr=lr*(end_lr/start_lr)**(1/num_steps)\n",
    "            lrs.append(lr)\n",
    "        self.lrs=lrs\n",
    "        self.run_epoch(iterator,mode_train=True,lrs=lrs)\n",
    "    \n",
    "    def run_epoch(self,iterator,mode_train,lrs=None):\n",
    "        epoch_loss,epoch_acc,i,k=0,0,0,0\n",
    "        epoch_rmse=0\n",
    "\n",
    "\n",
    "        for Xb,Yb in iterator:\n",
    "            Xb=Xb.to(self.device)\n",
    "            Yb=Yb.to(self.device)\n",
    "            \n",
    "            if lrs is not None:\n",
    "                lr=lrs[k]\n",
    "                for param_group in self.optimizer.param_groups:\n",
    "                    param_group['lr']=lr \n",
    "            \n",
    "\n",
    "            loss,acc,myrmse=self.fit(Xb,Yb,mode_train)\n",
    "            \n",
    "            if lrs is not None:\n",
    "                self.losses.append(loss)\n",
    "\n",
    "\n",
    "            \n",
    "\n",
    "            epoch_loss+=loss\n",
    "            epoch_acc+=acc\n",
    "            epoch_rmse+=myrmse\n",
    "            \n",
    "            k=k+1\n",
    "            if k%self.print_every == 0:\n",
    "                if k:\n",
    "                    print (f'Batch:{k} {epoch_loss/(k)}  ')  \n",
    "                    torch.cuda.empty_cache()\n",
    "\n",
    "        epoch_loss=epoch_loss/len(iterator)\n",
    "        epoch_acc=epoch_acc/len(iterator)\n",
    "        epoch_rmse=epoch_rmse/len(iterator)\n",
    "            \n",
    "        return epoch_loss,epoch_acc,epoch_rmse\n",
    "    \n",
    "    def plot_lrs(self, n_roll=1,ylim=None,xlim=None):\n",
    "        import seaborn as sns\n",
    "        ax=sns.lineplot(x=self.lrs,y=pd.Series(self.losses).rolling(n_roll).mean())\n",
    "        ax.set_xscale('log')\n",
    "        ax.set_ylabel('Loss')\n",
    "        ax.set_xlabel('Learning Rate')\n",
    "        if ylim is not None:\n",
    "            plt.ylim(ylim)\n",
    "        if xlim is not None:\n",
    "            plt.xlim(xlim)\n",
    "\n",
    "     \n",
    "    def run_epochs(self,dltrain,dlvalid,n_epochs=1):              \n",
    "        for epoch in range(n_epochs):                \n",
    "            loss,acc,rmse=self.run_epoch(dltrain,True)\n",
    "\n",
    "            lossv,accv,rmsev=self.run_epoch(dlvalid,mode_train=False)\n",
    "           \n",
    "            if self.error_type==\"mse\":\n",
    "                loss_mse=loss\n",
    "                loss_rmse=rmse\n",
    "                loss_mae=acc\n",
    "                lossv_mse=lossv\n",
    "                lossv_rmse=rmsev\n",
    "                lossv_mae=accv\n",
    "                \n",
    "            else:\n",
    "                loss_mse=acc\n",
    "                loss_rmse=rmse\n",
    "                loss_mae=loss\n",
    "                lossv_mse=accv\n",
    "                lossv_rmse=rmsev\n",
    "                lossv_mae=lossv\n",
    "            \n",
    "            print (f'Epoch:{epoch} Learning rate {self.lr} Weight Decay {self.wd} Train Loss:{loss} \\\n",
    "                Valid Loss:{lossv} Train RMSE:{loss_rmse} Valid RMSE:{lossv_rmse} Train MSE:{loss_mse} Valid MSE:{lossv_mse} \\\n",
    "                Train MAE:{loss_mae} Valid MAE:{lossv_mae}')\n",
    "\n",
    "              \n",
    "         \n",
    "     \n",
    "            if self.cycle_mult:\n",
    "                if self.n_epoch==self.reset_cycle:\n",
    "                    self.lr=self.start_lr\n",
    "                    #self.wd=self.start_wd\n",
    "                    self.reset_cycle*=self.cycle_mult\n",
    "                    #reset_cycle=self.n_epoch+reset_cycle\n",
    "                    self.n_epoch=0\n",
    "                    self.ratio=self.end_lr/self.start_lr\n",
    "                    self.num_steps=self.reset_cycle\n",
    "                else:\n",
    "                    #self.lr*=(self.lr_decay**self.n_epoch)  \n",
    "                    #if self.n_epoch>1:\n",
    "                    #    self.wd*=self.wd_mult\n",
    "                    self.lr=self.lr*(self.end_lr/self.start_lr)**(1/self.num_steps)\n",
    "                    self.n_epoch+=1\n",
    "        \n",
    "\n",
    "                \n",
    "            for param_group in self.optimizer.param_groups:\n",
    "                param_group['lr']=self.lr\n",
    "                #param_group['weight_decay']=self.wd\n",
    "          \n",
    "     "
   ]
  },
  {
   "cell_type": "code",
   "execution_count": 46,
   "metadata": {},
   "outputs": [],
   "source": [
    "device='cuda:0'"
   ]
  },
  {
   "cell_type": "code",
   "execution_count": 47,
   "metadata": {},
   "outputs": [],
   "source": [
    "cfobj=cf(n_users,n_emb_user,n_emb_movie,n_movies,min_rating,max_rating,autoenc_cols,dropout_e,hidden,dropouts)"
   ]
  },
  {
   "cell_type": "code",
   "execution_count": 48,
   "metadata": {},
   "outputs": [],
   "source": [
    "cfobj=cfobj.to(device)"
   ]
  },
  {
   "cell_type": "code",
   "execution_count": 49,
   "metadata": {},
   "outputs": [
    {
     "data": {
      "text/plain": [
       "cf(\n",
       "  (emb_user): Embedding(1509, 10)\n",
       "  (emb_movie): Embedding(2072, 25)\n",
       "  (emb_dropout): Dropout(p=0.2)\n",
       "  (lin1): Sequential(\n",
       "    (0): Linear(in_features=35, out_features=20, bias=True)\n",
       "    (1): ReLU()\n",
       "    (2): Dropout(p=0.5)\n",
       "  )\n",
       "  (lin2): Sequential(\n",
       "    (0): Linear(in_features=20, out_features=10, bias=True)\n",
       "    (1): ReLU()\n",
       "    (2): Dropout(p=0.6)\n",
       "  )\n",
       "  (lin3): Sequential(\n",
       "    (0): Linear(in_features=30, out_features=10, bias=True)\n",
       "    (1): ReLU()\n",
       "    (2): Dropout(p=0.5)\n",
       "  )\n",
       "  (lin4): Linear(in_features=10, out_features=1, bias=True)\n",
       "  (bn1): BatchNorm1d(20, eps=1e-05, momentum=0.1, affine=True, track_running_stats=True)\n",
       "  (bn2): BatchNorm1d(10, eps=1e-05, momentum=0.1, affine=True, track_running_stats=True)\n",
       "  (bn3): BatchNorm1d(10, eps=1e-05, momentum=0.1, affine=True, track_running_stats=True)\n",
       "  (sigmoid): Sigmoid()\n",
       "  (criterion): MSELoss()\n",
       ")"
      ]
     },
     "execution_count": 49,
     "metadata": {},
     "output_type": "execute_result"
    }
   ],
   "source": [
    "cfobj"
   ]
  },
  {
   "cell_type": "code",
   "execution_count": 50,
   "metadata": {},
   "outputs": [],
   "source": [
    "wd=1e-3\n",
    "optimizer=torch.optim.Adam(cfobj.parameters(),lr=5e-3,betas=(0.9,0.999), weight_decay=wd)\n",
    "learner=Learner(cfobj,optimizer,None,device,0,12000,0.25,cycle_mult=0)"
   ]
  },
  {
   "cell_type": "code",
   "execution_count": 51,
   "metadata": {},
   "outputs": [
    {
     "data": {
      "text/plain": [
       "1997"
      ]
     },
     "execution_count": 51,
     "metadata": {},
     "output_type": "execute_result"
    }
   ],
   "source": [
    "len(dltrain)"
   ]
  },
  {
   "cell_type": "code",
   "execution_count": 52,
   "metadata": {},
   "outputs": [],
   "source": [
    "learner.lr_find(1e-4,1e-1,dltrain,len(dltrain))"
   ]
  },
  {
   "cell_type": "code",
   "execution_count": 53,
   "metadata": {},
   "outputs": [
    {
     "data": {
      "image/png": "[encoded data removed]",
      "text/plain": [
       "<Figure size 432x288 with 1 Axes>"
      ]
     },
     "metadata": {
      "needs_background": "light"
     },
     "output_type": "display_data"
    }
   ],
   "source": [
    "learner.plot_lrs(50)"
   ]
  },
  {
   "cell_type": "code",
   "execution_count": 54,
   "metadata": {},
   "outputs": [
    {
     "data": {
      "image/png": "[encoded data removed]",
      "text/plain": [
       "<Figure size 432x288 with 1 Axes>"
      ]
     },
     "metadata": {
      "needs_background": "light"
     },
     "output_type": "display_data"
    }
   ],
   "source": [
    "learner.plot_lrs(10)"
   ]
  },
  {
   "cell_type": "code",
   "execution_count": 55,
   "metadata": {},
   "outputs": [
    {
     "data": {
      "image/png": "[encoded data removed]",
      "text/plain": [
       "<Figure size 432x288 with 1 Axes>"
      ]
     },
     "metadata": {
      "needs_background": "light"
     },
     "output_type": "display_data"
    }
   ],
   "source": [
    "learner.plot_lrs(1)"
   ]
  },
  {
   "cell_type": "code",
   "execution_count": 56,
   "metadata": {},
   "outputs": [],
   "source": [
    "del cfobj\n",
    "torch.cuda.empty_cache()"
   ]
  },
  {
   "cell_type": "code",
   "execution_count": 57,
   "metadata": {},
   "outputs": [],
   "source": [
    "cfobj=cf(n_users,n_emb_user,n_emb_movie,n_movies,min_rating,max_rating,autoenc_cols,dropout_e,hidden,\\\n",
    "         dropouts=[0.2,0.4,0.2])\n",
    "cfobj=cfobj.to(device)"
   ]
  },
  {
   "cell_type": "code",
   "execution_count": 58,
   "metadata": {},
   "outputs": [],
   "source": [
    "optimizer=torch.optim.Adam(cfobj.parameters(),lr=9e-4,betas=(0.9,0.999), weight_decay=wd)\n",
    "learner=Learner(cfobj,optimizer,None,device,0,12000,0.25,cycle_mult=0)"
   ]
  },
  {
   "cell_type": "code",
   "execution_count": 59,
   "metadata": {},
   "outputs": [
    {
     "name": "stdout",
     "output_type": "stream",
     "text": [
      "Epoch:0 Learning rate 0.0009 Weight Decay 0.001 Train Loss:0.8653370232718195                 Valid Loss:0.8627716183393925 Train RMSE:0.9142136523238849 Valid RMSE:0.9165639193375977 Train MSE:0.8653370232718195 Valid MSE:0.8627716183393925                 Train MAE:0.749429738038053 Valid MAE:0.7610121956011197\n",
      "Epoch:1 Learning rate 0.0009 Weight Decay 0.001 Train Loss:0.796986209492595                 Valid Loss:0.8645553025039466 Train RMSE:0.8775594466518488 Valid RMSE:0.9163024164964322 Train MSE:0.796986209492595 Valid MSE:0.8645553025039466                 Train MAE:0.70957553137465 Valid MAE:0.7627723249229225\n",
      "Epoch:2 Learning rate 0.0009 Weight Decay 0.001 Train Loss:0.7902273675785939                 Valid Loss:0.8633671141154057 Train RMSE:0.8738220827592333 Valid RMSE:0.9164136647350712 Train MSE:0.7902273675785939 Valid MSE:0.8633671141154057                 Train MAE:0.7071405671122794 Valid MAE:0.7573176242478259\n",
      "Epoch:3 Learning rate 0.0009 Weight Decay 0.001 Train Loss:0.7847498636590163                 Valid Loss:1.1149145200982824 Train RMSE:0.8711108702327423 Valid RMSE:1.0359148052059004 Train MSE:0.7847498636590163 Valid MSE:1.1149145200982824                 Train MAE:0.7053123546291364 Valid MAE:0.842573242010297\n",
      "Epoch:4 Learning rate 0.0009 Weight Decay 0.001 Train Loss:0.7507860463412929                 Valid Loss:0.9635933132858964 Train RMSE:0.8506648183894084 Valid RMSE:0.9622184465480784 Train MSE:0.7507860463412929 Valid MSE:0.9635933132858964                 Train MAE:0.6875907022116121 Valid MAE:0.7728700214946592\n"
     ]
    }
   ],
   "source": [
    "learner.run_epochs(dltrain,dlvalid,5)"
   ]
  },
  {
   "cell_type": "code",
   "execution_count": 60,
   "metadata": {},
   "outputs": [],
   "source": [
    "optimizer=torch.optim.Adam(cfobj.parameters(),lr=3e-3,betas=(0.9,0.999), weight_decay=wd)\n",
    "learner=Learner(cfobj,optimizer,None,device,0,12000,0.25,cycle_mult=3,start_lr=3e-3,end_lr=1e-4)"
   ]
  },
  {
   "cell_type": "code",
   "execution_count": 61,
   "metadata": {},
   "outputs": [
    {
     "name": "stdout",
     "output_type": "stream",
     "text": [
      "Epoch:0 Learning rate 0.003 Weight Decay 0.001 Train Loss:0.7601821766415416                 Valid Loss:0.7850276117657756 Train RMSE:0.8570868388383677 Valid RMSE:0.8706570921592478 Train MSE:0.7601821766415416 Valid MSE:0.7850276117657756                 Train MAE:0.691170621974861 Valid MAE:0.7064290454795769\n",
      "Epoch:1 Learning rate 0.0009654893846056299 Weight Decay 0.001 Train Loss:0.7276029854221946                 Valid Loss:0.749191270755218 Train RMSE:0.8375755499369247 Valid RMSE:0.8504589128563146 Train MSE:0.7276029854221946 Valid MSE:0.749191270755218                 Train MAE:0.6733128566800444 Valid MAE:0.6894861345624065\n",
      "Epoch:2 Learning rate 0.00031072325059538597 Weight Decay 0.001 Train Loss:0.7099868832421887                 Valid Loss:0.7701823994651571 Train RMSE:0.827833343308973 Valid RMSE:0.8610651878337291 Train MSE:0.7099868832421887 Valid MSE:0.7701823994651571                 Train MAE:0.6640954525785919 Valid MAE:0.6961216236556973\n",
      "Epoch:3 Learning rate 0.00010000000000000005 Weight Decay 0.001 Train Loss:0.6967967141328243                 Valid Loss:0.7247252524033323 Train RMSE:0.8190691618847601 Valid RMSE:0.837255712063745 Train MSE:0.6967967141328243 Valid MSE:0.7247252524033323                 Train MAE:0.6564387732526333 Valid MAE:0.679520195266148\n",
      "Epoch:4 Learning rate 0.003 Weight Decay 0.001 Train Loss:0.7409044207299                 Valid Loss:0.8013404227860339 Train RMSE:0.8456497325879128 Valid RMSE:0.8820383692881724 Train MSE:0.7409044207299 Valid MSE:0.8013404227860339                 Train MAE:0.68118309817227 Valid MAE:0.7238027786349391\n",
      "Epoch:5 Learning rate 0.0020558748363608465 Weight Decay 0.001 Train Loss:0.7345078243917385                 Valid Loss:0.8296567819139979 Train RMSE:0.8416661492401197 Valid RMSE:0.8953751075617934 Train MSE:0.7345078243917385 Valid MSE:0.8296567819139979                 Train MAE:0.6780068383225215 Valid MAE:0.7199198673437307\n",
      "Epoch:6 Learning rate 0.001408873780927246 Weight Decay 0.001 Train Loss:0.7214957505583942                 Valid Loss:1.0137110422323417 Train RMSE:0.8332291771025438 Valid RMSE:0.9863510676459042 Train MSE:0.7214957505583942 Valid MSE:1.0137110422323417                 Train MAE:0.6710310732506488 Valid MAE:0.7715021394663029\n",
      "Epoch:7 Learning rate 0.0009654893846056297 Weight Decay 0.001 Train Loss:0.7164641988757974                 Valid Loss:1.1314990947375427 Train RMSE:0.830861431115612 Valid RMSE:1.042475955156609 Train MSE:0.7164641988757974 Valid MSE:1.1314990947375427                 Train MAE:0.6677675930392343 Valid MAE:0.7959765910028337\n",
      "Epoch:8 Learning rate 0.0006616417768614112 Weight Decay 0.001 Train Loss:0.6998097167038356                 Valid Loss:0.9252152555697674 Train RMSE:0.8208273719778547 Valid RMSE:0.9404473634531231 Train MSE:0.6998097167038356 Valid MSE:0.9252152555697674                 Train MAE:0.6564323536652473 Valid MAE:0.7430713792910447\n",
      "Epoch:9 Learning rate 0.0004534175599114845 Weight Decay 0.001 Train Loss:0.6922080940643907                 Valid Loss:1.1524998184528437 Train RMSE:0.8159012523515929 Valid RMSE:1.050954736236857 Train MSE:0.6922080940643907 Valid MSE:1.1524998184528437                 Train MAE:0.6537774475473253 Valid MAE:0.8103964257616181\n",
      "Epoch:10 Learning rate 0.00031072325059538586 Weight Decay 0.001 Train Loss:0.6856625512219932                 Valid Loss:1.1145485996663034 Train RMSE:0.8134604018352916 Valid RMSE:1.0312724147652623 Train MSE:0.6856625512219932 Valid MSE:1.1145485996663034                 Train MAE:0.6523221202146189 Valid MAE:0.7966392793365427\n",
      "Epoch:11 Learning rate 0.00021293603732376641 Weight Decay 0.001 Train Loss:0.6869074560116097                 Valid Loss:1.0357396405290913 Train RMSE:0.814230424817373 Valid RMSE:0.9916272047115654 Train MSE:0.6869074560116097 Valid MSE:1.0357396405290913                 Train MAE:0.6491787077548448 Valid MAE:0.7711401933485323\n",
      "Epoch:12 Learning rate 0.00014592328029610846 Weight Decay 0.001 Train Loss:0.6828717375523935                 Valid Loss:0.8667087538822277 Train RMSE:0.8105929940806128 Valid RMSE:0.9090020388183003 Train MSE:0.6828717375523935 Valid MSE:0.8667087538822277                 Train MAE:0.6482300366618721 Valid MAE:0.7141679687811447\n",
      "Epoch:13 Learning rate 9.999999999999998e-05 Weight Decay 0.001 Train Loss:0.6744017326569163                 Valid Loss:1.0798416006135512 Train RMSE:0.8049448064349929 Valid RMSE:1.0132423699767783 Train MSE:0.6744017326569163 Valid MSE:1.0798416006135512                 Train MAE:0.6451289581846582 Valid MAE:0.776902784098376\n",
      "Epoch:14 Learning rate 0.003 Weight Decay 0.001 Train Loss:0.7303134716140609                 Valid Loss:0.8003283304137152 Train RMSE:0.8390358019725366 Valid RMSE:0.8806487157516151 Train MSE:0.7303134716140609 Valid MSE:0.8003283304137152                 Train MAE:0.6759885297934294 Valid MAE:0.7159523790752566\n",
      "Epoch:15 Learning rate 0.002644923163768062 Weight Decay 0.001 Train Loss:0.731470478897281                 Valid Loss:0.8231232413300523 Train RMSE:0.8398374194842332 Valid RMSE:0.889592270220201 Train MSE:0.731470478897281 Valid MSE:0.8231232413300523                 Train MAE:0.6758384696829599 Valid MAE:0.7147724902307665\n",
      "Epoch:16 Learning rate 0.002331872847412285 Weight Decay 0.001 Train Loss:0.728366543016078                 Valid Loss:0.7489924719808875 Train RMSE:0.83806118957513 Valid RMSE:0.854590775557683 Train MSE:0.728366543016078 Valid MSE:0.7489924719808875                 Train MAE:0.6740022184524049 Valid MAE:0.7017792538479641\n",
      "Epoch:17 Learning rate 0.0020558748363608465 Weight Decay 0.001 Train Loss:0.7177139139423145                 Valid Loss:0.7586122406898318 Train RMSE:0.8316495484857848 Valid RMSE:0.8572161319619716 Train MSE:0.7177139139423145 Valid MSE:0.7586122406898318                 Train MAE:0.6681496624386662 Valid MAE:0.6958846875407674\n",
      "Epoch:18 Learning rate 0.0018125436588328923 Weight Decay 0.001 Train Loss:0.722436335215762                 Valid Loss:0.8768003637994732 Train RMSE:0.8344146672653044 Valid RMSE:0.9168302185536107 Train MSE:0.722436335215762 Valid MSE:0.8768003637994732                 Train MAE:0.671806543587922 Valid MAE:0.7220744054328214\n",
      "Epoch:19 Learning rate 0.0015980129028626776 Weight Decay 0.001 Train Loss:0.7222989103945721                 Valid Loss:1.0280794597960807 Train RMSE:0.8344268861291476 Valid RMSE:0.9905002222664301 Train MSE:0.7222989103945721 Valid MSE:1.0280794597960807                 Train MAE:0.6709399865935549 Valid MAE:0.7699164336060619\n",
      "Epoch:20 Learning rate 0.0014088737809272462 Weight Decay 0.001 Train Loss:0.7252984692230187                 Valid Loss:0.8044814098257203 Train RMSE:0.8358901688147903 Valid RMSE:0.8795082232540926 Train MSE:0.7252984692230187 Valid MSE:0.8044814098257203                 Train MAE:0.6717909735235263 Valid MAE:0.6958296398321787\n",
      "Epoch:21 Learning rate 0.0012421209659999879 Weight Decay 0.001 Train Loss:0.7175787882277771                 Valid Loss:0.7187095628128396 Train RMSE:0.8317548020456255 Valid RMSE:0.8350508577112591 Train MSE:0.7175787882277771 Valid MSE:0.7187095628128396                 Train MAE:0.6671196044715094 Valid MAE:0.6705601066350937\n",
      "Epoch:22 Learning rate 0.0010951048383917765 Weight Decay 0.001 Train Loss:0.706387745286443                 Valid Loss:0.7152570839132275 Train RMSE:0.8257124501485487 Valid RMSE:0.8280570714391465 Train MSE:0.706387745286443 Valid MSE:0.7152570839132275                 Train MAE:0.6599041441260545 Valid MAE:0.6675193657477697\n",
      "Epoch:23 Learning rate 0.00096548938460563 Weight Decay 0.001 Train Loss:0.7051416375097419                 Valid Loss:0.8034583170403231 Train RMSE:0.8240240426203861 Valid RMSE:0.8826766493880513 Train MSE:0.7051416375097419 Valid MSE:0.8034583170403231                 Train MAE:0.6614996082763643 Valid MAE:0.7190116073365684\n",
      "Epoch:24 Learning rate 0.0008512150792385341 Weight Decay 0.001 Train Loss:0.6983935372585885                 Valid Loss:0.7702502247181024 Train RMSE:0.8207022850119081 Valid RMSE:0.8640489656048562 Train MSE:0.6983935372585885 Valid MSE:0.7702502247181024                 Train MAE:0.6582314198949544 Valid MAE:0.6960158216523694\n"
     ]
    },
    {
     "name": "stdout",
     "output_type": "stream",
     "text": [
      "Epoch:25 Learning rate 0.0007504661601422218 Weight Decay 0.001 Train Loss:0.6944074273989925                 Valid Loss:0.7361265808880866 Train RMSE:0.817202762055704 Valid RMSE:0.8436327514806871 Train MSE:0.6944074273989925 Valid MSE:0.7361265808880866                 Train MAE:0.6556884488375353 Valid MAE:0.6834145368219496\n",
      "Epoch:26 Learning rate 0.0006616417768614115 Weight Decay 0.001 Train Loss:0.693256574575162                 Valid Loss:0.7364173149606129 Train RMSE:0.8161029360612894 Valid RMSE:0.8441006098843814 Train MSE:0.693256574575162 Valid MSE:0.7364173149606129                 Train MAE:0.6536935628296199 Valid MAE:0.6790281577153249\n",
      "Epoch:27 Learning rate 0.0005833305539124689 Weight Decay 0.001 Train Loss:0.6872040653339194                 Valid Loss:0.7631902585292721 Train RMSE:0.8131246074793703 Valid RMSE:0.8597621454892693 Train MSE:0.6872040653339194 Valid MSE:0.7631902585292721                 Train MAE:0.6512219463967059 Valid MAE:0.6967027661231187\n",
      "Epoch:28 Learning rate 0.0005142881647255812 Weight Decay 0.001 Train Loss:0.6859799346433739                 Valid Loss:0.6898201027432004 Train RMSE:0.8130457723934532 Valid RMSE:0.813805597527923 Train MSE:0.6859799346433739 Valid MSE:0.6898201027432004                 Train MAE:0.6489898883735292 Valid MAE:0.6554969627041001\n",
      "Epoch:29 Learning rate 0.0004534175599114848 Weight Decay 0.001 Train Loss:0.682436142726785                 Valid Loss:0.7039424903220959 Train RMSE:0.8110366949154959 Valid RMSE:0.8260716244924682 Train MSE:0.682436142726785 Valid MSE:0.7039424903220959                 Train MAE:0.6476177437549002 Valid MAE:0.6675548596425099\n",
      "Epoch:30 Learning rate 0.00039975153568969307 Weight Decay 0.001 Train Loss:0.6805831542687232                 Valid Loss:0.7006295776447734 Train RMSE:0.8095188934199179 Valid RMSE:0.8198640029591612 Train MSE:0.6805831542687232 Valid MSE:0.7006295776447734                 Train MAE:0.6473610958995734 Valid MAE:0.6534805087087391\n",
      "Epoch:31 Learning rate 0.0003524373654991748 Weight Decay 0.001 Train Loss:0.6775990621889598                 Valid Loss:0.7342205250988135 Train RMSE:0.8069734147924511 Valid RMSE:0.840017905809506 Train MSE:0.6775990621889598 Valid MSE:0.7342205250988135                 Train MAE:0.6448584853946178 Valid MAE:0.6754923108461741\n",
      "Epoch:32 Learning rate 0.0003107232505953861 Weight Decay 0.001 Train Loss:0.6745285026329902                 Valid Loss:0.7295017618988011 Train RMSE:0.8063378745982268 Valid RMSE:0.8381374687928587 Train MSE:0.6745285026329902 Valid MSE:0.7295017618988011                 Train MAE:0.6434543766435767 Valid MAE:0.6697389276715012\n",
      "Epoch:33 Learning rate 0.00027394637434034833 Weight Decay 0.001 Train Loss:0.6645626514165116                 Valid Loss:0.6767673138025645 Train RMSE:0.8001360797453511 Valid RMSE:0.8077356389274737 Train MSE:0.6645626514165116 Valid MSE:0.6767673138025645                 Train MAE:0.638850207127627 Valid MAE:0.6474169616226677\n",
      "Epoch:34 Learning rate 0.00024152237037435468 Weight Decay 0.001 Train Loss:0.6648871030473804                 Valid Loss:0.7288917575602059 Train RMSE:0.7999341044829538 Valid RMSE:0.8387565386288767 Train MSE:0.6648871030473804 Valid MSE:0.7288917575602059                 Train MAE:0.6383715191959559 Valid MAE:0.6670995985602474\n"
     ]
    }
   ],
   "source": [
    "learner.run_epochs(dltrain,dlvalid,35)"
   ]
  },
  {
   "cell_type": "code",
   "execution_count": 62,
   "metadata": {},
   "outputs": [],
   "source": [
    "optimizer=torch.optim.Adam(cfobj.parameters(),lr=7e-4,betas=(0.9,0.999), weight_decay=wd)\n",
    "learner=Learner(cfobj,optimizer,None,device,0,12000,0.25,cycle_mult=3,start_lr=3e-3,end_lr=1e-4)"
   ]
  },
  {
   "cell_type": "code",
   "execution_count": 63,
   "metadata": {},
   "outputs": [
    {
     "name": "stdout",
     "output_type": "stream",
     "text": [
      "Epoch:0 Learning rate 0.0007 Weight Decay 0.001 Train Loss:0.7241394776789379                 Valid Loss:0.723009229310461 Train RMSE:0.8352885416000227 Valid RMSE:0.8375539863685731 Train MSE:0.7241394776789379 Valid MSE:0.723009229310461                 Train MAE:0.6698108945092262 Valid MAE:0.6829555262853434\n",
      "Epoch:1 Learning rate 0.0003659305710022972 Weight Decay 0.001 Train Loss:0.6972238028726998                 Valid Loss:0.6772457661929431 Train RMSE:0.8186769795628333 Valid RMSE:0.8082120838434005 Train MSE:0.6972238028726998 Valid MSE:0.6772457661929431                 Train MAE:0.6562935623396738 Valid MAE:0.643987977155694\n",
      "Epoch:2 Learning rate 0.00019129311827723895 Weight Decay 0.001 Train Loss:0.6769621604284048                 Valid Loss:0.7061855153994517 Train RMSE:0.80686782909838 Valid RMSE:0.8252248397739717 Train MSE:0.6769621604284048 Valid MSE:0.7061855153994517                 Train MAE:0.6448473669346059 Valid MAE:0.6653219328538792\n",
      "Epoch:3 Learning rate 0.00010000000000000005 Weight Decay 0.001 Train Loss:0.6723022106652505                 Valid Loss:0.6850134982719077 Train RMSE:0.8042481292982963 Valid RMSE:0.8155821503115692 Train MSE:0.6723022106652505 Valid MSE:0.6850134982719077                 Train MAE:0.6433771438430296 Valid MAE:0.6529034612415073\n",
      "Epoch:4 Learning rate 0.0007 Weight Decay 0.001 Train Loss:0.6904826151523282                 Valid Loss:0.7012124781807264 Train RMSE:0.8149578022039756 Valid RMSE:0.8207146220300102 Train MSE:0.6904826151523282 Valid MSE:0.7012124781807264                 Train MAE:0.6527898477117121 Valid MAE:0.6598044161324028\n",
      "Epoch:5 Learning rate 0.0005638950182171997 Weight Decay 0.001 Train Loss:0.6878926085199065                 Valid Loss:0.6952074130510425 Train RMSE:0.8139118778924028 Valid RMSE:0.8197490745565594 Train MSE:0.6878926085199065 Valid MSE:0.6952074130510425                 Train MAE:0.6509542600417292 Valid MAE:0.6584669565026825\n",
      "Epoch:6 Learning rate 0.0004542537022431085 Weight Decay 0.001 Train Loss:0.6781304070337092                 Valid Loss:0.6901054538719289 Train RMSE:0.807873172860043 Valid RMSE:0.8170164201861367 Train MSE:0.6781304070337092 Valid MSE:0.6901054538719289                 Train MAE:0.6454879383057073 Valid MAE:0.6561113044216826\n",
      "Epoch:7 Learning rate 0.00036593057100229724 Weight Decay 0.001 Train Loss:0.6740829217684645                 Valid Loss:0.6791646321480339 Train RMSE:0.8048392056636523 Valid RMSE:0.8085867554238069 Train MSE:0.6740829217684645 Valid MSE:0.6791646321480339                 Train MAE:0.6429194712047882 Valid MAE:0.654218715456155\n",
      "Epoch:8 Learning rate 0.0002947806085736724 Weight Decay 0.001 Train Loss:0.6697899590045377                 Valid Loss:0.6767803713142335 Train RMSE:0.8023729360375815 Valid RMSE:0.8093375101050493 Train MSE:0.6697899590045377 Valid MSE:0.6767803713142335                 Train MAE:0.6396241910647439 Valid MAE:0.6457568192267203\n",
      "Epoch:9 Learning rate 0.0002374647380596117 Weight Decay 0.001 Train Loss:0.6627938503555256                 Valid Loss:0.7315524520503508 Train RMSE:0.7990588369651798 Valid RMSE:0.841208612156571 Train MSE:0.6627938503555256 Valid MSE:0.7315524520503508                 Train MAE:0.6367168668872067 Valid MAE:0.6692102776991354\n",
      "Epoch:10 Learning rate 0.00019129311827723898 Weight Decay 0.001 Train Loss:0.6579686253964453                 Valid Loss:0.8217719213382618 Train RMSE:0.7960269071594606 Valid RMSE:0.8909636366709948 Train MSE:0.6579686253964453 Valid MSE:0.8217719213382618                 Train MAE:0.633559373404661 Valid MAE:0.7178424386022327\n"
     ]
    }
   ],
   "source": [
    "learner.run_epochs(dltrain,dlvalid,11)"
   ]
  },
  {
   "cell_type": "code",
   "execution_count": 68,
   "metadata": {},
   "outputs": [],
   "source": [
    "learner=Learner(cfobj,optimizer,None,device,0,12000,0.25,cycle_mult=3,start_lr=3e-3,end_lr=1e-4)"
   ]
  },
  {
   "cell_type": "code",
   "execution_count": 69,
   "metadata": {},
   "outputs": [
    {
     "name": "stdout",
     "output_type": "stream",
     "text": [
      "Epoch:0 Learning rate 0.0001540989091653837 Weight Decay 0.001 Train Loss:0.6154238316167517                 Valid Loss:0.6709103924599854 Train RMSE:0.7682707336024287 Valid RMSE:0.8053430484488089 Train MSE:0.6154238316167517 Valid MSE:0.6709103924599854                 Train MAE:0.6100629622869391 Valid MAE:0.6344849980092263\n",
      "Epoch:1 Learning rate 0.00013341347909034577 Weight Decay 0.001 Train Loss:0.6118569472729115                 Valid Loss:0.6806587927916028 Train RMSE:0.7664302203594024 Valid RMSE:0.8073874622207271 Train MSE:0.6118569472729115 Valid MSE:0.6806587927916028                 Train MAE:0.6089928747268097 Valid MAE:0.6367497624040724\n",
      "Epoch:2 Learning rate 0.00011550475275517702 Weight Decay 0.001 Train Loss:0.6092494184381674                 Valid Loss:0.7203022640970376 Train RMSE:0.7651957374114912 Valid RMSE:0.8333537879688799 Train MSE:0.6092494184381674 Valid MSE:0.7203022640970376                 Train MAE:0.6060360166718498 Valid MAE:0.6621033200272569\n",
      "Epoch:3 Learning rate 9.999999999999998e-05 Weight Decay 0.001 Train Loss:0.6041642855302537                 Valid Loss:0.6777450352370202 Train RMSE:0.7616910030160723 Valid RMSE:0.8076201871041949 Train MSE:0.6041642855302537 Valid MSE:0.6777450352370202                 Train MAE:0.603971828250928 Valid MAE:0.6459259284777684\n",
      "Epoch:4 Learning rate 0.0001540989091653837 Weight Decay 0.001 Train Loss:0.6110419628877728                 Valid Loss:0.6682601538864342 Train RMSE:0.7658896877614254 Valid RMSE:0.8002797548336236 Train MSE:0.6110419628877728 Valid MSE:0.6682601538864342                 Train MAE:0.6078799788242707 Valid MAE:0.6329894993487779\n",
      "Epoch:5 Learning rate 0.00014686994971406506 Weight Decay 0.001 Train Loss:0.6068447527583385                 Valid Loss:0.6744030275726104 Train RMSE:0.762882783827951 Valid RMSE:0.8035910378092282 Train MSE:0.6068447527583385 Valid MSE:0.6744030275726104                 Train MAE:0.6063216699620277 Valid MAE:0.6298562269490044\n",
      "Epoch:6 Learning rate 0.00013998010917690254 Weight Decay 0.001 Train Loss:0.6056603258200508                 Valid Loss:0.6646871892987071 Train RMSE:0.7621585911558761 Valid RMSE:0.7998280005564052 Train MSE:0.6056603258200508 Valid MSE:0.6646871892987071                 Train MAE:0.6049498729948766 Valid MAE:0.6284921837819589\n",
      "Epoch:7 Learning rate 0.0001334134790903458 Weight Decay 0.001 Train Loss:0.6049224671664749                 Valid Loss:0.6676743991068892 Train RMSE:0.7626797019498428 Valid RMSE:0.8034044427934469 Train MSE:0.6049224671664749 Valid MSE:0.6676743991068892                 Train MAE:0.6038924363564419 Valid MAE:0.6251739323944658\n",
      "Epoch:8 Learning rate 0.00012715489727541297 Weight Decay 0.001 Train Loss:0.6073592446919793                 Valid Loss:0.668459061029795 Train RMSE:0.763584784492845 Valid RMSE:0.8003698757634947 Train MSE:0.6073592446919793 Valid MSE:0.668459061029795                 Train MAE:0.6049870417290588 Valid MAE:0.6275441348552704\n",
      "Epoch:9 Learning rate 0.00012118991282861175 Weight Decay 0.001 Train Loss:0.6023033424376187                 Valid Loss:0.6738204437198939 Train RMSE:0.7602033761849598 Valid RMSE:0.803989188728022 Train MSE:0.6023033424376187 Valid MSE:0.6738204437198939                 Train MAE:0.6023569945535125 Valid MAE:0.6302653202065477\n",
      "Epoch:10 Learning rate 0.00011550475275517708 Weight Decay 0.001 Train Loss:0.6014231528618602                 Valid Loss:0.6990320862413527 Train RMSE:0.7601430741144588 Valid RMSE:0.8161428720311716 Train MSE:0.6014231528618602 Valid MSE:0.6990320862413527                 Train MAE:0.6017605091370997 Valid MAE:0.6339930866484169\n"
     ]
    }
   ],
   "source": [
    "learner.run_epochs(dltrain,dlvalid,11)"
   ]
  },
  {
   "cell_type": "code",
   "execution_count": 56,
   "metadata": {},
   "outputs": [
    {
     "name": "stderr",
     "output_type": "stream",
     "text": [
      "/home/kirana/anaconda3/lib/python3.7/site-packages/torch/serialization.py:256: UserWarning: Couldn't retrieve source code for container of type cf. It won't be checked for correctness upon loading.\n",
      "  \"type \" + obj.__name__ + \". It won't be checked \"\n",
      "/home/kirana/anaconda3/lib/python3.7/site-packages/torch/serialization.py:256: UserWarning: Couldn't retrieve source code for container of type cf. It won't be checked for correctness upon loading.\n",
      "  \"type \" + obj.__name__ + \". It won't be checked \"\n"
     ]
    }
   ],
   "source": [
    "torch.save(cfobj,f=f'{DATAPATH}/inter/cfobj_0.8')\n",
    "torch.save(learner,f=f'{DATAPATH}/inter/cfobj_learner_0.8')\n",
    "torch.save(optimizer,f=f'{DATAPATH}/inter/cfobj_optimizer_0.8')\n",
    "torch.save(cfobj.state_dict(),f'{DATAPATH}/inter/cfjobj_state_dict_0.8')\n",
    "torch.save(optimizer.state_dict(),f'{DATAPATH}/inter/optimizer_state_dict_0.8')"
   ]
  },
  {
   "cell_type": "code",
   "execution_count": 58,
   "metadata": {},
   "outputs": [],
   "source": [
    "optimizer=torch.optim.Adam(cfobj.parameters(),lr=5e-3,betas=(0.9,0.999), weight_decay=wd)\n",
    "learner=Learner(cfobj,optimizer,None,device,0,12000,0.25,cycle_mult=2,start_lr=4e-3,end_lr=4e-4)"
   ]
  },
  {
   "cell_type": "code",
   "execution_count": 59,
   "metadata": {},
   "outputs": [
    {
     "name": "stdout",
     "output_type": "stream",
     "text": [
      "Epoch:0 Learning rate 0.005 Weight Decay 1e-07 Train Loss:0.7688108392421692                 Valid Loss:0.8395103987374304 Train RMSE:0.8405049054506085 Valid RMSE:0.8878992191182866\n",
      "Epoch:1 Learning rate 0.001414213562373095 Weight Decay 1e-07 Train Loss:0.6852855704513303                 Valid Loss:0.7962183668636359 Train RMSE:0.7911723340280498 Valid RMSE:0.8582258179808255\n",
      "Epoch:2 Learning rate 0.00039999999999999996 Weight Decay 1e-07 Train Loss:0.6516777085516686                 Valid Loss:0.7923312564391546 Train RMSE:0.7698911785179042 Valid RMSE:0.8544569945339336\n",
      "Epoch:3 Learning rate 0.005 Weight Decay 1e-07 Train Loss:0.7115468788305521                 Valid Loss:0.8246223340867106 Train RMSE:0.8063665077801763 Valid RMSE:0.8733351202423749\n",
      "Epoch:4 Learning rate 0.0026591479484724947 Weight Decay 1e-07 Train Loss:0.6632848583522735                 Valid Loss:0.7916696204801669 Train RMSE:0.7773447559516666 Valid RMSE:0.8545958497828119\n",
      "Epoch:5 Learning rate 0.0014142135623730955 Weight Decay 1e-07 Train Loss:0.6279473303285544                 Valid Loss:0.7938732466853203 Train RMSE:0.7552258854914337 Valid RMSE:0.854679425374652\n",
      "Epoch:6 Learning rate 0.0007521206186172789 Weight Decay 1e-07 Train Loss:0.6043457506954859                 Valid Loss:0.7979197600748594 Train RMSE:0.7403563837153223 Valid RMSE:0.8596079336505277\n"
     ]
    }
   ],
   "source": [
    "learner.run_epochs(dltrain,dlvalid,7)"
   ]
  },
  {
   "cell_type": "code",
   "execution_count": 60,
   "metadata": {},
   "outputs": [
    {
     "name": "stderr",
     "output_type": "stream",
     "text": [
      "/home/kirana/anaconda3/lib/python3.7/site-packages/torch/serialization.py:256: UserWarning: Couldn't retrieve source code for container of type cf. It won't be checked for correctness upon loading.\n",
      "  \"type \" + obj.__name__ + \". It won't be checked \"\n",
      "/home/kirana/anaconda3/lib/python3.7/site-packages/torch/serialization.py:256: UserWarning: Couldn't retrieve source code for container of type cf. It won't be checked for correctness upon loading.\n",
      "  \"type \" + obj.__name__ + \". It won't be checked \"\n"
     ]
    }
   ],
   "source": [
    "torch.save(cfobj,f=f'{DATAPATH}/inter/cfobj_improve_0.8')\n",
    "torch.save(learner,f=f'{DATAPATH}/inter/cfobj_improve_learner_0.8')\n",
    "torch.save(optimizer,f=f'{DATAPATH}/inter/cfobj_improve_optimizer_0.8')\n",
    "torch.save(cfobj.state_dict(),f'{DATAPATH}/inter/cfjobj_improve_state_dict_0.8')\n",
    "torch.save(optimizer.state_dict(),f'{DATAPATH}/inter/optimizer_improve_state_dict_0.8')"
   ]
  },
  {
   "cell_type": "code",
   "execution_count": null,
   "metadata": {},
   "outputs": [],
   "source": []
  }
 ],
 "metadata": {
  "kernelspec": {
   "display_name": "Python 3",
   "language": "python",
   "name": "python3"
  },
  "language_info": {
   "codemirror_mode": {
    "name": "ipython",
    "version": 3
   },
   "file_extension": ".py",
   "mimetype": "text/x-python",
   "name": "python",
   "nbconvert_exporter": "python",
   "pygments_lexer": "ipython3",
   "version": "3.7.3"
  }
 },
 "nbformat": 4,
 "nbformat_minor": 2
}
