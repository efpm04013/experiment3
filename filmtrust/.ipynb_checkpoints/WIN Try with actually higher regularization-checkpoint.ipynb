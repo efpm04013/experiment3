{
 "cells": [
  {
   "cell_type": "code",
   "execution_count": 1,
   "metadata": {},
   "outputs": [],
   "source": [
    "PATH='/home/kirana/Documents/phd/exp3_autoencoder'\n",
    "DATAPATH='/home/kirana/Documents/final_dissertation_final/experiments/datasets/filmtrust'"
   ]
  },
  {
   "cell_type": "code",
   "execution_count": 2,
   "metadata": {},
   "outputs": [],
   "source": [
    "import pandas as pd\n",
    "import numpy as np\n",
    "import matplotlib.pyplot as plt\n",
    "import sklearn\n",
    "import os\n",
    "import pickle\n",
    "import torch\n",
    "from torch.utils.data import Dataset, DataLoader\n",
    "from torch import nn"
   ]
  },
  {
   "cell_type": "code",
   "execution_count": 3,
   "metadata": {},
   "outputs": [],
   "source": [
    "[df, df_train,df_valid,df,df_ratings,dfflagtrain,dfflagvalid,idx_to_user,\\\n",
    "             idx_to_movie,movie_to_idx,user_to_idx]=pickle.load(open(f'{DATAPATH}/reads.pkl','rb'))"
   ]
  },
  {
   "cell_type": "code",
   "execution_count": 4,
   "metadata": {},
   "outputs": [
    {
     "data": {
      "text/plain": [
       "(35494, 14)"
      ]
     },
     "execution_count": 4,
     "metadata": {},
     "output_type": "execute_result"
    }
   ],
   "source": [
    "df.shape"
   ]
  },
  {
   "cell_type": "code",
   "execution_count": 5,
   "metadata": {},
   "outputs": [
    {
     "data": {
      "text/html": [
       "<div>\n",
       "<style scoped>\n",
       "    .dataframe tbody tr th:only-of-type {\n",
       "        vertical-align: middle;\n",
       "    }\n",
       "\n",
       "    .dataframe tbody tr th {\n",
       "        vertical-align: top;\n",
       "    }\n",
       "\n",
       "    .dataframe thead th {\n",
       "        text-align: right;\n",
       "    }\n",
       "</style>\n",
       "<table border=\"1\" class=\"dataframe\">\n",
       "  <thead>\n",
       "    <tr style=\"text-align: right;\">\n",
       "      <th></th>\n",
       "      <th>userId</th>\n",
       "      <th>itemId</th>\n",
       "      <th>rating</th>\n",
       "      <th>mean_on_self</th>\n",
       "      <th>min_on_self</th>\n",
       "      <th>max_on_self</th>\n",
       "      <th>mean_on_other</th>\n",
       "      <th>min_on_other</th>\n",
       "      <th>max_on_other</th>\n",
       "      <th>random_dstype</th>\n",
       "      <th>user_idx</th>\n",
       "      <th>item_idx</th>\n",
       "      <th>dstype_random_train</th>\n",
       "      <th>dstype_random_valid</th>\n",
       "    </tr>\n",
       "  </thead>\n",
       "  <tbody>\n",
       "    <tr>\n",
       "      <th>3297</th>\n",
       "      <td>159</td>\n",
       "      <td>241</td>\n",
       "      <td>0.5</td>\n",
       "      <td>1.0</td>\n",
       "      <td>1.0</td>\n",
       "      <td>1.0</td>\n",
       "      <td>NaN</td>\n",
       "      <td>NaN</td>\n",
       "      <td>NaN</td>\n",
       "      <td>train</td>\n",
       "      <td>1</td>\n",
       "      <td>1</td>\n",
       "      <td>1</td>\n",
       "      <td>0</td>\n",
       "    </tr>\n",
       "    <tr>\n",
       "      <th>16463</th>\n",
       "      <td>673</td>\n",
       "      <td>7</td>\n",
       "      <td>3.0</td>\n",
       "      <td>NaN</td>\n",
       "      <td>NaN</td>\n",
       "      <td>NaN</td>\n",
       "      <td>NaN</td>\n",
       "      <td>NaN</td>\n",
       "      <td>NaN</td>\n",
       "      <td>train</td>\n",
       "      <td>2</td>\n",
       "      <td>2</td>\n",
       "      <td>1</td>\n",
       "      <td>0</td>\n",
       "    </tr>\n",
       "    <tr>\n",
       "      <th>35390</th>\n",
       "      <td>1502</td>\n",
       "      <td>255</td>\n",
       "      <td>3.5</td>\n",
       "      <td>NaN</td>\n",
       "      <td>NaN</td>\n",
       "      <td>NaN</td>\n",
       "      <td>NaN</td>\n",
       "      <td>NaN</td>\n",
       "      <td>NaN</td>\n",
       "      <td>train</td>\n",
       "      <td>3</td>\n",
       "      <td>3</td>\n",
       "      <td>1</td>\n",
       "      <td>0</td>\n",
       "    </tr>\n",
       "    <tr>\n",
       "      <th>5367</th>\n",
       "      <td>224</td>\n",
       "      <td>10</td>\n",
       "      <td>4.0</td>\n",
       "      <td>1.0</td>\n",
       "      <td>1.0</td>\n",
       "      <td>1.0</td>\n",
       "      <td>NaN</td>\n",
       "      <td>NaN</td>\n",
       "      <td>NaN</td>\n",
       "      <td>train</td>\n",
       "      <td>4</td>\n",
       "      <td>4</td>\n",
       "      <td>1</td>\n",
       "      <td>0</td>\n",
       "    </tr>\n",
       "    <tr>\n",
       "      <th>13666</th>\n",
       "      <td>557</td>\n",
       "      <td>9</td>\n",
       "      <td>4.0</td>\n",
       "      <td>NaN</td>\n",
       "      <td>NaN</td>\n",
       "      <td>NaN</td>\n",
       "      <td>NaN</td>\n",
       "      <td>NaN</td>\n",
       "      <td>NaN</td>\n",
       "      <td>train</td>\n",
       "      <td>5</td>\n",
       "      <td>5</td>\n",
       "      <td>1</td>\n",
       "      <td>0</td>\n",
       "    </tr>\n",
       "  </tbody>\n",
       "</table>\n",
       "</div>"
      ],
      "text/plain": [
       "       userId  itemId  rating  mean_on_self  min_on_self  max_on_self  \\\n",
       "3297      159     241     0.5           1.0          1.0          1.0   \n",
       "16463     673       7     3.0           NaN          NaN          NaN   \n",
       "35390    1502     255     3.5           NaN          NaN          NaN   \n",
       "5367      224      10     4.0           1.0          1.0          1.0   \n",
       "13666     557       9     4.0           NaN          NaN          NaN   \n",
       "\n",
       "       mean_on_other  min_on_other  max_on_other random_dstype  user_idx  \\\n",
       "3297             NaN           NaN           NaN         train         1   \n",
       "16463            NaN           NaN           NaN         train         2   \n",
       "35390            NaN           NaN           NaN         train         3   \n",
       "5367             NaN           NaN           NaN         train         4   \n",
       "13666            NaN           NaN           NaN         train         5   \n",
       "\n",
       "       item_idx  dstype_random_train  dstype_random_valid  \n",
       "3297          1                    1                    0  \n",
       "16463         2                    1                    0  \n",
       "35390         3                    1                    0  \n",
       "5367          4                    1                    0  \n",
       "13666         5                    1                    0  "
      ]
     },
     "execution_count": 5,
     "metadata": {},
     "output_type": "execute_result"
    }
   ],
   "source": [
    "df.head()"
   ]
  },
  {
   "cell_type": "code",
   "execution_count": 6,
   "metadata": {},
   "outputs": [],
   "source": [
    "df_train=df.loc[df['random_dstype']=='train']\n",
    "df_valid=df.loc[df['random_dstype']!='train']"
   ]
  },
  {
   "cell_type": "code",
   "execution_count": 7,
   "metadata": {},
   "outputs": [
    {
     "data": {
      "text/html": [
       "<div>\n",
       "<style scoped>\n",
       "    .dataframe tbody tr th:only-of-type {\n",
       "        vertical-align: middle;\n",
       "    }\n",
       "\n",
       "    .dataframe tbody tr th {\n",
       "        vertical-align: top;\n",
       "    }\n",
       "\n",
       "    .dataframe thead th {\n",
       "        text-align: right;\n",
       "    }\n",
       "</style>\n",
       "<table border=\"1\" class=\"dataframe\">\n",
       "  <thead>\n",
       "    <tr style=\"text-align: right;\">\n",
       "      <th></th>\n",
       "      <th>userId</th>\n",
       "      <th>itemId</th>\n",
       "      <th>rating</th>\n",
       "      <th>mean_on_self</th>\n",
       "      <th>min_on_self</th>\n",
       "      <th>max_on_self</th>\n",
       "      <th>mean_on_other</th>\n",
       "      <th>min_on_other</th>\n",
       "      <th>max_on_other</th>\n",
       "      <th>random_dstype</th>\n",
       "      <th>user_idx</th>\n",
       "      <th>item_idx</th>\n",
       "      <th>dstype_random_train</th>\n",
       "      <th>dstype_random_valid</th>\n",
       "    </tr>\n",
       "  </thead>\n",
       "  <tbody>\n",
       "    <tr>\n",
       "      <th>3297</th>\n",
       "      <td>159</td>\n",
       "      <td>241</td>\n",
       "      <td>0.5</td>\n",
       "      <td>1.0</td>\n",
       "      <td>1.0</td>\n",
       "      <td>1.0</td>\n",
       "      <td>NaN</td>\n",
       "      <td>NaN</td>\n",
       "      <td>NaN</td>\n",
       "      <td>train</td>\n",
       "      <td>1</td>\n",
       "      <td>1</td>\n",
       "      <td>1</td>\n",
       "      <td>0</td>\n",
       "    </tr>\n",
       "    <tr>\n",
       "      <th>16463</th>\n",
       "      <td>673</td>\n",
       "      <td>7</td>\n",
       "      <td>3.0</td>\n",
       "      <td>NaN</td>\n",
       "      <td>NaN</td>\n",
       "      <td>NaN</td>\n",
       "      <td>NaN</td>\n",
       "      <td>NaN</td>\n",
       "      <td>NaN</td>\n",
       "      <td>train</td>\n",
       "      <td>2</td>\n",
       "      <td>2</td>\n",
       "      <td>1</td>\n",
       "      <td>0</td>\n",
       "    </tr>\n",
       "    <tr>\n",
       "      <th>35390</th>\n",
       "      <td>1502</td>\n",
       "      <td>255</td>\n",
       "      <td>3.5</td>\n",
       "      <td>NaN</td>\n",
       "      <td>NaN</td>\n",
       "      <td>NaN</td>\n",
       "      <td>NaN</td>\n",
       "      <td>NaN</td>\n",
       "      <td>NaN</td>\n",
       "      <td>train</td>\n",
       "      <td>3</td>\n",
       "      <td>3</td>\n",
       "      <td>1</td>\n",
       "      <td>0</td>\n",
       "    </tr>\n",
       "    <tr>\n",
       "      <th>5367</th>\n",
       "      <td>224</td>\n",
       "      <td>10</td>\n",
       "      <td>4.0</td>\n",
       "      <td>1.0</td>\n",
       "      <td>1.0</td>\n",
       "      <td>1.0</td>\n",
       "      <td>NaN</td>\n",
       "      <td>NaN</td>\n",
       "      <td>NaN</td>\n",
       "      <td>train</td>\n",
       "      <td>4</td>\n",
       "      <td>4</td>\n",
       "      <td>1</td>\n",
       "      <td>0</td>\n",
       "    </tr>\n",
       "    <tr>\n",
       "      <th>13666</th>\n",
       "      <td>557</td>\n",
       "      <td>9</td>\n",
       "      <td>4.0</td>\n",
       "      <td>NaN</td>\n",
       "      <td>NaN</td>\n",
       "      <td>NaN</td>\n",
       "      <td>NaN</td>\n",
       "      <td>NaN</td>\n",
       "      <td>NaN</td>\n",
       "      <td>train</td>\n",
       "      <td>5</td>\n",
       "      <td>5</td>\n",
       "      <td>1</td>\n",
       "      <td>0</td>\n",
       "    </tr>\n",
       "  </tbody>\n",
       "</table>\n",
       "</div>"
      ],
      "text/plain": [
       "       userId  itemId  rating  mean_on_self  min_on_self  max_on_self  \\\n",
       "3297      159     241     0.5           1.0          1.0          1.0   \n",
       "16463     673       7     3.0           NaN          NaN          NaN   \n",
       "35390    1502     255     3.5           NaN          NaN          NaN   \n",
       "5367      224      10     4.0           1.0          1.0          1.0   \n",
       "13666     557       9     4.0           NaN          NaN          NaN   \n",
       "\n",
       "       mean_on_other  min_on_other  max_on_other random_dstype  user_idx  \\\n",
       "3297             NaN           NaN           NaN         train         1   \n",
       "16463            NaN           NaN           NaN         train         2   \n",
       "35390            NaN           NaN           NaN         train         3   \n",
       "5367             NaN           NaN           NaN         train         4   \n",
       "13666            NaN           NaN           NaN         train         5   \n",
       "\n",
       "       item_idx  dstype_random_train  dstype_random_valid  \n",
       "3297          1                    1                    0  \n",
       "16463         2                    1                    0  \n",
       "35390         3                    1                    0  \n",
       "5367          4                    1                    0  \n",
       "13666         5                    1                    0  "
      ]
     },
     "execution_count": 7,
     "metadata": {},
     "output_type": "execute_result"
    }
   ],
   "source": [
    "df_train.head()"
   ]
  },
  {
   "cell_type": "markdown",
   "metadata": {},
   "source": [
    "### Add the autoencoder features"
   ]
  },
  {
   "cell_type": "code",
   "execution_count": 8,
   "metadata": {},
   "outputs": [],
   "source": [
    "import pickle"
   ]
  },
  {
   "cell_type": "code",
   "execution_count": 9,
   "metadata": {},
   "outputs": [],
   "source": [
    "[df_train_user_autoenc,df_valid_user_autoenc,user_mtx_1_weights,user_mtx_2_weights]=\\\n",
    "    pickle.load(open(f'{DATAPATH}/inter/user_autoenc_weights.pkl','rb'))"
   ]
  },
  {
   "cell_type": "code",
   "execution_count": 10,
   "metadata": {},
   "outputs": [],
   "source": [
    "[df_train_item_autoenc, df_valid_item_autoenc,item_mtx_1_weights,item_mtx_2_weights]=\\\n",
    "    pickle.load(open(f'{DATAPATH}/inter/item_autoenc_weights.pkl','rb'))"
   ]
  },
  {
   "cell_type": "code",
   "execution_count": 11,
   "metadata": {},
   "outputs": [
    {
     "data": {
      "text/plain": [
       "((1508, 11),\n",
       " pandas.core.frame.DataFrame,\n",
       "    userId  user_autoenc0  user_autoenc1  user_autoenc2  user_autoenc3  \\\n",
       " 0       1      -3.341200       0.683606      -2.894754      -1.242846   \n",
       " 1       2      -1.003649      -2.366309      -0.365209      -1.525750   \n",
       " 2       3       0.873887      -1.549360      -1.023044      -0.091014   \n",
       " 3       4      -0.965775      -0.511479      -0.173978      -0.120885   \n",
       " 4       5      -1.066844      -2.348508      -0.416565      -1.564133   \n",
       " \n",
       "    user_autoenc4  user_autoenc5  user_autoenc6  user_autoenc7  user_autoenc8  \\\n",
       " 0      -2.154273       0.776028       0.834076      -3.665377       0.993176   \n",
       " 1       1.433479       1.259102       0.798494      -1.255771      -0.234993   \n",
       " 2       1.348692       2.057812       1.699200      -1.074568      -0.877823   \n",
       " 3      -0.980896      -0.076011       1.933037      -1.368997      -0.996827   \n",
       " 4       1.417177       1.260069       0.795392      -1.307355      -0.197687   \n",
       " \n",
       "    user_autoenc9  \n",
       " 0      -0.552663  \n",
       " 1      -0.674393  \n",
       " 2      -0.163366  \n",
       " 3      -0.186964  \n",
       " 4      -0.663870  )"
      ]
     },
     "execution_count": 11,
     "metadata": {},
     "output_type": "execute_result"
    }
   ],
   "source": [
    "df_train_user_autoenc.shape, type(df_train_user_autoenc),df_train_user_autoenc.head()"
   ]
  },
  {
   "cell_type": "code",
   "execution_count": 12,
   "metadata": {},
   "outputs": [
    {
     "data": {
      "text/plain": [
       "((2071, 11),\n",
       " pandas.core.frame.DataFrame,\n",
       "    itemId  item_autoenc0  item_autoenc1  item_autoenc2  item_autoenc3  \\\n",
       " 0       1       2.148755       2.105521       1.759979      -1.797472   \n",
       " 1       2       2.105715       2.088630       1.659954      -1.772268   \n",
       " 2       3       2.148767       2.105526       1.760009      -1.797479   \n",
       " 3       4       2.148765       2.105525       1.760002      -1.797478   \n",
       " 4       5       2.148767       2.105526       1.760007      -1.797479   \n",
       " \n",
       "    item_autoenc4  item_autoenc5  item_autoenc6  item_autoenc7  item_autoenc8  \\\n",
       " 0      -0.736646      -0.777778       0.748404       0.080765      -2.254708   \n",
       " 1      -0.660342      -0.688140       0.840236       0.140432      -2.202901   \n",
       " 2      -0.736669      -0.777805       0.748376       0.080747      -2.254724   \n",
       " 3      -0.736664      -0.777799       0.748383       0.080752      -2.254720   \n",
       " 4      -0.736667      -0.777803       0.748379       0.080749      -2.254722   \n",
       " \n",
       "    item_autoenc9  \n",
       " 0       1.648673  \n",
       " 1       1.532116  \n",
       " 2       1.648708  \n",
       " 3       1.648700  \n",
       " 4       1.648705  )"
      ]
     },
     "execution_count": 12,
     "metadata": {},
     "output_type": "execute_result"
    }
   ],
   "source": [
    "df_train_item_autoenc.shape, type(df_train_item_autoenc),df_train_item_autoenc.head()"
   ]
  },
  {
   "cell_type": "code",
   "execution_count": 13,
   "metadata": {},
   "outputs": [
    {
     "data": {
      "text/plain": [
       "(31944, 14)"
      ]
     },
     "execution_count": 13,
     "metadata": {},
     "output_type": "execute_result"
    }
   ],
   "source": [
    "df_train.shape"
   ]
  },
  {
   "cell_type": "code",
   "execution_count": 14,
   "metadata": {},
   "outputs": [
    {
     "data": {
      "text/html": [
       "<div>\n",
       "<style scoped>\n",
       "    .dataframe tbody tr th:only-of-type {\n",
       "        vertical-align: middle;\n",
       "    }\n",
       "\n",
       "    .dataframe tbody tr th {\n",
       "        vertical-align: top;\n",
       "    }\n",
       "\n",
       "    .dataframe thead th {\n",
       "        text-align: right;\n",
       "    }\n",
       "</style>\n",
       "<table border=\"1\" class=\"dataframe\">\n",
       "  <thead>\n",
       "    <tr style=\"text-align: right;\">\n",
       "      <th></th>\n",
       "      <th>userId</th>\n",
       "      <th>itemId</th>\n",
       "      <th>rating</th>\n",
       "      <th>mean_on_self</th>\n",
       "      <th>min_on_self</th>\n",
       "      <th>max_on_self</th>\n",
       "      <th>mean_on_other</th>\n",
       "      <th>min_on_other</th>\n",
       "      <th>max_on_other</th>\n",
       "      <th>random_dstype</th>\n",
       "      <th>user_idx</th>\n",
       "      <th>item_idx</th>\n",
       "      <th>dstype_random_train</th>\n",
       "      <th>dstype_random_valid</th>\n",
       "    </tr>\n",
       "  </thead>\n",
       "  <tbody>\n",
       "    <tr>\n",
       "      <th>3297</th>\n",
       "      <td>159</td>\n",
       "      <td>241</td>\n",
       "      <td>0.5</td>\n",
       "      <td>1.0</td>\n",
       "      <td>1.0</td>\n",
       "      <td>1.0</td>\n",
       "      <td>NaN</td>\n",
       "      <td>NaN</td>\n",
       "      <td>NaN</td>\n",
       "      <td>train</td>\n",
       "      <td>1</td>\n",
       "      <td>1</td>\n",
       "      <td>1</td>\n",
       "      <td>0</td>\n",
       "    </tr>\n",
       "    <tr>\n",
       "      <th>16463</th>\n",
       "      <td>673</td>\n",
       "      <td>7</td>\n",
       "      <td>3.0</td>\n",
       "      <td>NaN</td>\n",
       "      <td>NaN</td>\n",
       "      <td>NaN</td>\n",
       "      <td>NaN</td>\n",
       "      <td>NaN</td>\n",
       "      <td>NaN</td>\n",
       "      <td>train</td>\n",
       "      <td>2</td>\n",
       "      <td>2</td>\n",
       "      <td>1</td>\n",
       "      <td>0</td>\n",
       "    </tr>\n",
       "    <tr>\n",
       "      <th>35390</th>\n",
       "      <td>1502</td>\n",
       "      <td>255</td>\n",
       "      <td>3.5</td>\n",
       "      <td>NaN</td>\n",
       "      <td>NaN</td>\n",
       "      <td>NaN</td>\n",
       "      <td>NaN</td>\n",
       "      <td>NaN</td>\n",
       "      <td>NaN</td>\n",
       "      <td>train</td>\n",
       "      <td>3</td>\n",
       "      <td>3</td>\n",
       "      <td>1</td>\n",
       "      <td>0</td>\n",
       "    </tr>\n",
       "    <tr>\n",
       "      <th>5367</th>\n",
       "      <td>224</td>\n",
       "      <td>10</td>\n",
       "      <td>4.0</td>\n",
       "      <td>1.0</td>\n",
       "      <td>1.0</td>\n",
       "      <td>1.0</td>\n",
       "      <td>NaN</td>\n",
       "      <td>NaN</td>\n",
       "      <td>NaN</td>\n",
       "      <td>train</td>\n",
       "      <td>4</td>\n",
       "      <td>4</td>\n",
       "      <td>1</td>\n",
       "      <td>0</td>\n",
       "    </tr>\n",
       "    <tr>\n",
       "      <th>13666</th>\n",
       "      <td>557</td>\n",
       "      <td>9</td>\n",
       "      <td>4.0</td>\n",
       "      <td>NaN</td>\n",
       "      <td>NaN</td>\n",
       "      <td>NaN</td>\n",
       "      <td>NaN</td>\n",
       "      <td>NaN</td>\n",
       "      <td>NaN</td>\n",
       "      <td>train</td>\n",
       "      <td>5</td>\n",
       "      <td>5</td>\n",
       "      <td>1</td>\n",
       "      <td>0</td>\n",
       "    </tr>\n",
       "  </tbody>\n",
       "</table>\n",
       "</div>"
      ],
      "text/plain": [
       "       userId  itemId  rating  mean_on_self  min_on_self  max_on_self  \\\n",
       "3297      159     241     0.5           1.0          1.0          1.0   \n",
       "16463     673       7     3.0           NaN          NaN          NaN   \n",
       "35390    1502     255     3.5           NaN          NaN          NaN   \n",
       "5367      224      10     4.0           1.0          1.0          1.0   \n",
       "13666     557       9     4.0           NaN          NaN          NaN   \n",
       "\n",
       "       mean_on_other  min_on_other  max_on_other random_dstype  user_idx  \\\n",
       "3297             NaN           NaN           NaN         train         1   \n",
       "16463            NaN           NaN           NaN         train         2   \n",
       "35390            NaN           NaN           NaN         train         3   \n",
       "5367             NaN           NaN           NaN         train         4   \n",
       "13666            NaN           NaN           NaN         train         5   \n",
       "\n",
       "       item_idx  dstype_random_train  dstype_random_valid  \n",
       "3297          1                    1                    0  \n",
       "16463         2                    1                    0  \n",
       "35390         3                    1                    0  \n",
       "5367          4                    1                    0  \n",
       "13666         5                    1                    0  "
      ]
     },
     "execution_count": 14,
     "metadata": {},
     "output_type": "execute_result"
    }
   ],
   "source": [
    "df_train.head()"
   ]
  },
  {
   "cell_type": "code",
   "execution_count": 15,
   "metadata": {},
   "outputs": [],
   "source": [
    "df_train=pd.merge(df_train,df_train_item_autoenc,on='itemId',how='left')"
   ]
  },
  {
   "cell_type": "code",
   "execution_count": 16,
   "metadata": {},
   "outputs": [
    {
     "data": {
      "text/plain": [
       "(31944, 24)"
      ]
     },
     "execution_count": 16,
     "metadata": {},
     "output_type": "execute_result"
    }
   ],
   "source": [
    "df_train.shape"
   ]
  },
  {
   "cell_type": "code",
   "execution_count": 17,
   "metadata": {},
   "outputs": [
    {
     "name": "stdout",
     "output_type": "stream",
     "text": [
      "(3550, 14)\n"
     ]
    },
    {
     "data": {
      "text/plain": [
       "(3550, 24)"
      ]
     },
     "execution_count": 17,
     "metadata": {},
     "output_type": "execute_result"
    }
   ],
   "source": [
    "print(df_valid.shape)\n",
    "df_valid=pd.merge(df_valid,df_valid_item_autoenc,on='itemId',how='left')\n",
    "df_valid.shape"
   ]
  },
  {
   "cell_type": "code",
   "execution_count": 18,
   "metadata": {},
   "outputs": [
    {
     "data": {
      "text/plain": [
       "(3550, 24)"
      ]
     },
     "execution_count": 18,
     "metadata": {},
     "output_type": "execute_result"
    }
   ],
   "source": [
    "df_valid.shape"
   ]
  },
  {
   "cell_type": "code",
   "execution_count": 19,
   "metadata": {},
   "outputs": [
    {
     "name": "stdout",
     "output_type": "stream",
     "text": [
      "(3550, 24)\n"
     ]
    },
    {
     "data": {
      "text/plain": [
       "(3550, 34)"
      ]
     },
     "execution_count": 19,
     "metadata": {},
     "output_type": "execute_result"
    }
   ],
   "source": [
    "print(df_valid.shape)\n",
    "df_valid=pd.merge(df_valid,df_valid_user_autoenc,on='userId',how='left')\n",
    "df_valid.shape"
   ]
  },
  {
   "cell_type": "code",
   "execution_count": 20,
   "metadata": {},
   "outputs": [
    {
     "name": "stdout",
     "output_type": "stream",
     "text": [
      "(31944, 24)\n"
     ]
    },
    {
     "data": {
      "text/plain": [
       "(31944, 34)"
      ]
     },
     "execution_count": 20,
     "metadata": {},
     "output_type": "execute_result"
    }
   ],
   "source": [
    "print(df_train.shape)\n",
    "df_train=pd.merge(df_train,df_train_user_autoenc,on='userId',how='left')\n",
    "df_train.shape"
   ]
  },
  {
   "cell_type": "code",
   "execution_count": 21,
   "metadata": {},
   "outputs": [
    {
     "data": {
      "text/plain": [
       "Index(['userId', 'itemId', 'rating', 'mean_on_self', 'min_on_self',\n",
       "       'max_on_self', 'mean_on_other', 'min_on_other', 'max_on_other',\n",
       "       'random_dstype', 'user_idx', 'item_idx', 'dstype_random_train',\n",
       "       'dstype_random_valid', 'item_autoenc0', 'item_autoenc1',\n",
       "       'item_autoenc2', 'item_autoenc3', 'item_autoenc4', 'item_autoenc5',\n",
       "       'item_autoenc6', 'item_autoenc7', 'item_autoenc8', 'item_autoenc9',\n",
       "       'user_autoenc0', 'user_autoenc1', 'user_autoenc2', 'user_autoenc3',\n",
       "       'user_autoenc4', 'user_autoenc5', 'user_autoenc6', 'user_autoenc7',\n",
       "       'user_autoenc8', 'user_autoenc9'],\n",
       "      dtype='object')"
      ]
     },
     "execution_count": 21,
     "metadata": {},
     "output_type": "execute_result"
    }
   ],
   "source": [
    "df_train.columns"
   ]
  },
  {
   "cell_type": "code",
   "execution_count": 22,
   "metadata": {},
   "outputs": [],
   "source": [
    "autoenc_cols=df_train.columns[df_train.columns.str.contains('autoenc')]"
   ]
  },
  {
   "cell_type": "code",
   "execution_count": 23,
   "metadata": {},
   "outputs": [],
   "source": [
    "autoenc_cols=autoenc_cols.tolist()"
   ]
  },
  {
   "cell_type": "code",
   "execution_count": 24,
   "metadata": {},
   "outputs": [
    {
     "data": {
      "text/plain": [
       "['item_autoenc0',\n",
       " 'item_autoenc1',\n",
       " 'item_autoenc2',\n",
       " 'item_autoenc3',\n",
       " 'item_autoenc4',\n",
       " 'item_autoenc5',\n",
       " 'item_autoenc6',\n",
       " 'item_autoenc7',\n",
       " 'item_autoenc8',\n",
       " 'item_autoenc9',\n",
       " 'user_autoenc0',\n",
       " 'user_autoenc1',\n",
       " 'user_autoenc2',\n",
       " 'user_autoenc3',\n",
       " 'user_autoenc4',\n",
       " 'user_autoenc5',\n",
       " 'user_autoenc6',\n",
       " 'user_autoenc7',\n",
       " 'user_autoenc8',\n",
       " 'user_autoenc9']"
      ]
     },
     "execution_count": 24,
     "metadata": {},
     "output_type": "execute_result"
    }
   ],
   "source": [
    "autoenc_cols"
   ]
  },
  {
   "cell_type": "code",
   "execution_count": 25,
   "metadata": {},
   "outputs": [
    {
     "data": {
      "text/html": [
       "<div>\n",
       "<style scoped>\n",
       "    .dataframe tbody tr th:only-of-type {\n",
       "        vertical-align: middle;\n",
       "    }\n",
       "\n",
       "    .dataframe tbody tr th {\n",
       "        vertical-align: top;\n",
       "    }\n",
       "\n",
       "    .dataframe thead th {\n",
       "        text-align: right;\n",
       "    }\n",
       "</style>\n",
       "<table border=\"1\" class=\"dataframe\">\n",
       "  <thead>\n",
       "    <tr style=\"text-align: right;\">\n",
       "      <th></th>\n",
       "      <th>userId</th>\n",
       "      <th>itemId</th>\n",
       "      <th>rating</th>\n",
       "      <th>mean_on_self</th>\n",
       "      <th>min_on_self</th>\n",
       "      <th>max_on_self</th>\n",
       "      <th>mean_on_other</th>\n",
       "      <th>min_on_other</th>\n",
       "      <th>max_on_other</th>\n",
       "      <th>random_dstype</th>\n",
       "      <th>...</th>\n",
       "      <th>user_autoenc0</th>\n",
       "      <th>user_autoenc1</th>\n",
       "      <th>user_autoenc2</th>\n",
       "      <th>user_autoenc3</th>\n",
       "      <th>user_autoenc4</th>\n",
       "      <th>user_autoenc5</th>\n",
       "      <th>user_autoenc6</th>\n",
       "      <th>user_autoenc7</th>\n",
       "      <th>user_autoenc8</th>\n",
       "      <th>user_autoenc9</th>\n",
       "    </tr>\n",
       "  </thead>\n",
       "  <tbody>\n",
       "    <tr>\n",
       "      <th>0</th>\n",
       "      <td>159</td>\n",
       "      <td>241</td>\n",
       "      <td>0.5</td>\n",
       "      <td>1.0</td>\n",
       "      <td>1.0</td>\n",
       "      <td>1.0</td>\n",
       "      <td>NaN</td>\n",
       "      <td>NaN</td>\n",
       "      <td>NaN</td>\n",
       "      <td>train</td>\n",
       "      <td>...</td>\n",
       "      <td>-2.745483</td>\n",
       "      <td>-2.027757</td>\n",
       "      <td>-2.634101</td>\n",
       "      <td>-3.231060</td>\n",
       "      <td>2.551503</td>\n",
       "      <td>2.178736</td>\n",
       "      <td>-2.315682</td>\n",
       "      <td>-2.340696</td>\n",
       "      <td>2.303620</td>\n",
       "      <td>0.117822</td>\n",
       "    </tr>\n",
       "    <tr>\n",
       "      <th>1</th>\n",
       "      <td>673</td>\n",
       "      <td>7</td>\n",
       "      <td>3.0</td>\n",
       "      <td>NaN</td>\n",
       "      <td>NaN</td>\n",
       "      <td>NaN</td>\n",
       "      <td>NaN</td>\n",
       "      <td>NaN</td>\n",
       "      <td>NaN</td>\n",
       "      <td>train</td>\n",
       "      <td>...</td>\n",
       "      <td>-0.105591</td>\n",
       "      <td>-0.071498</td>\n",
       "      <td>-0.376756</td>\n",
       "      <td>0.245637</td>\n",
       "      <td>0.026462</td>\n",
       "      <td>0.300354</td>\n",
       "      <td>-0.558003</td>\n",
       "      <td>0.081122</td>\n",
       "      <td>0.516522</td>\n",
       "      <td>-0.727923</td>\n",
       "    </tr>\n",
       "    <tr>\n",
       "      <th>2</th>\n",
       "      <td>1502</td>\n",
       "      <td>255</td>\n",
       "      <td>3.5</td>\n",
       "      <td>NaN</td>\n",
       "      <td>NaN</td>\n",
       "      <td>NaN</td>\n",
       "      <td>NaN</td>\n",
       "      <td>NaN</td>\n",
       "      <td>NaN</td>\n",
       "      <td>train</td>\n",
       "      <td>...</td>\n",
       "      <td>-0.348932</td>\n",
       "      <td>-0.177966</td>\n",
       "      <td>-0.692913</td>\n",
       "      <td>0.059837</td>\n",
       "      <td>-0.707221</td>\n",
       "      <td>-0.615411</td>\n",
       "      <td>-1.128136</td>\n",
       "      <td>0.301624</td>\n",
       "      <td>0.860169</td>\n",
       "      <td>-0.745395</td>\n",
       "    </tr>\n",
       "    <tr>\n",
       "      <th>3</th>\n",
       "      <td>224</td>\n",
       "      <td>10</td>\n",
       "      <td>4.0</td>\n",
       "      <td>1.0</td>\n",
       "      <td>1.0</td>\n",
       "      <td>1.0</td>\n",
       "      <td>NaN</td>\n",
       "      <td>NaN</td>\n",
       "      <td>NaN</td>\n",
       "      <td>train</td>\n",
       "      <td>...</td>\n",
       "      <td>-1.850368</td>\n",
       "      <td>0.696236</td>\n",
       "      <td>-1.643970</td>\n",
       "      <td>-0.314808</td>\n",
       "      <td>-2.072049</td>\n",
       "      <td>-0.121137</td>\n",
       "      <td>1.301735</td>\n",
       "      <td>-2.551571</td>\n",
       "      <td>-0.014993</td>\n",
       "      <td>-0.327130</td>\n",
       "    </tr>\n",
       "    <tr>\n",
       "      <th>4</th>\n",
       "      <td>557</td>\n",
       "      <td>9</td>\n",
       "      <td>4.0</td>\n",
       "      <td>NaN</td>\n",
       "      <td>NaN</td>\n",
       "      <td>NaN</td>\n",
       "      <td>NaN</td>\n",
       "      <td>NaN</td>\n",
       "      <td>NaN</td>\n",
       "      <td>train</td>\n",
       "      <td>...</td>\n",
       "      <td>-0.316921</td>\n",
       "      <td>0.266559</td>\n",
       "      <td>-0.295155</td>\n",
       "      <td>0.087542</td>\n",
       "      <td>-0.864880</td>\n",
       "      <td>-0.051546</td>\n",
       "      <td>0.193434</td>\n",
       "      <td>-0.349935</td>\n",
       "      <td>0.686382</td>\n",
       "      <td>0.038217</td>\n",
       "    </tr>\n",
       "  </tbody>\n",
       "</table>\n",
       "<p>5 rows × 34 columns</p>\n",
       "</div>"
      ],
      "text/plain": [
       "   userId  itemId  rating  mean_on_self  min_on_self  max_on_self  \\\n",
       "0     159     241     0.5           1.0          1.0          1.0   \n",
       "1     673       7     3.0           NaN          NaN          NaN   \n",
       "2    1502     255     3.5           NaN          NaN          NaN   \n",
       "3     224      10     4.0           1.0          1.0          1.0   \n",
       "4     557       9     4.0           NaN          NaN          NaN   \n",
       "\n",
       "   mean_on_other  min_on_other  max_on_other random_dstype  ...  \\\n",
       "0            NaN           NaN           NaN         train  ...   \n",
       "1            NaN           NaN           NaN         train  ...   \n",
       "2            NaN           NaN           NaN         train  ...   \n",
       "3            NaN           NaN           NaN         train  ...   \n",
       "4            NaN           NaN           NaN         train  ...   \n",
       "\n",
       "   user_autoenc0  user_autoenc1  user_autoenc2  user_autoenc3  user_autoenc4  \\\n",
       "0      -2.745483      -2.027757      -2.634101      -3.231060       2.551503   \n",
       "1      -0.105591      -0.071498      -0.376756       0.245637       0.026462   \n",
       "2      -0.348932      -0.177966      -0.692913       0.059837      -0.707221   \n",
       "3      -1.850368       0.696236      -1.643970      -0.314808      -2.072049   \n",
       "4      -0.316921       0.266559      -0.295155       0.087542      -0.864880   \n",
       "\n",
       "   user_autoenc5  user_autoenc6  user_autoenc7  user_autoenc8  user_autoenc9  \n",
       "0       2.178736      -2.315682      -2.340696       2.303620       0.117822  \n",
       "1       0.300354      -0.558003       0.081122       0.516522      -0.727923  \n",
       "2      -0.615411      -1.128136       0.301624       0.860169      -0.745395  \n",
       "3      -0.121137       1.301735      -2.551571      -0.014993      -0.327130  \n",
       "4      -0.051546       0.193434      -0.349935       0.686382       0.038217  \n",
       "\n",
       "[5 rows x 34 columns]"
      ]
     },
     "execution_count": 25,
     "metadata": {},
     "output_type": "execute_result"
    }
   ],
   "source": [
    "df_train.head()"
   ]
  },
  {
   "cell_type": "code",
   "execution_count": 26,
   "metadata": {},
   "outputs": [
    {
     "data": {
      "text/html": [
       "<div>\n",
       "<style scoped>\n",
       "    .dataframe tbody tr th:only-of-type {\n",
       "        vertical-align: middle;\n",
       "    }\n",
       "\n",
       "    .dataframe tbody tr th {\n",
       "        vertical-align: top;\n",
       "    }\n",
       "\n",
       "    .dataframe thead th {\n",
       "        text-align: right;\n",
       "    }\n",
       "</style>\n",
       "<table border=\"1\" class=\"dataframe\">\n",
       "  <thead>\n",
       "    <tr style=\"text-align: right;\">\n",
       "      <th></th>\n",
       "      <th>user_idx</th>\n",
       "      <th>item_idx</th>\n",
       "      <th>item_autoenc0</th>\n",
       "      <th>item_autoenc1</th>\n",
       "      <th>item_autoenc2</th>\n",
       "      <th>item_autoenc3</th>\n",
       "      <th>item_autoenc4</th>\n",
       "      <th>item_autoenc5</th>\n",
       "      <th>item_autoenc6</th>\n",
       "      <th>item_autoenc7</th>\n",
       "      <th>...</th>\n",
       "      <th>user_autoenc0</th>\n",
       "      <th>user_autoenc1</th>\n",
       "      <th>user_autoenc2</th>\n",
       "      <th>user_autoenc3</th>\n",
       "      <th>user_autoenc4</th>\n",
       "      <th>user_autoenc5</th>\n",
       "      <th>user_autoenc6</th>\n",
       "      <th>user_autoenc7</th>\n",
       "      <th>user_autoenc8</th>\n",
       "      <th>user_autoenc9</th>\n",
       "    </tr>\n",
       "  </thead>\n",
       "  <tbody>\n",
       "    <tr>\n",
       "      <th>0</th>\n",
       "      <td>1</td>\n",
       "      <td>1</td>\n",
       "      <td>2.143410</td>\n",
       "      <td>2.109679</td>\n",
       "      <td>1.762766</td>\n",
       "      <td>-1.787753</td>\n",
       "      <td>-0.740233</td>\n",
       "      <td>-0.776990</td>\n",
       "      <td>0.743170</td>\n",
       "      <td>0.072942</td>\n",
       "      <td>...</td>\n",
       "      <td>-2.745483</td>\n",
       "      <td>-2.027757</td>\n",
       "      <td>-2.634101</td>\n",
       "      <td>-3.231060</td>\n",
       "      <td>2.551503</td>\n",
       "      <td>2.178736</td>\n",
       "      <td>-2.315682</td>\n",
       "      <td>-2.340696</td>\n",
       "      <td>2.303620</td>\n",
       "      <td>0.117822</td>\n",
       "    </tr>\n",
       "    <tr>\n",
       "      <th>1</th>\n",
       "      <td>2</td>\n",
       "      <td>2</td>\n",
       "      <td>1.993736</td>\n",
       "      <td>2.044680</td>\n",
       "      <td>1.399719</td>\n",
       "      <td>-1.706689</td>\n",
       "      <td>-0.461817</td>\n",
       "      <td>-0.454929</td>\n",
       "      <td>1.079158</td>\n",
       "      <td>0.295657</td>\n",
       "      <td>...</td>\n",
       "      <td>-0.105591</td>\n",
       "      <td>-0.071498</td>\n",
       "      <td>-0.376756</td>\n",
       "      <td>0.245637</td>\n",
       "      <td>0.026462</td>\n",
       "      <td>0.300354</td>\n",
       "      <td>-0.558003</td>\n",
       "      <td>0.081122</td>\n",
       "      <td>0.516522</td>\n",
       "      <td>-0.727923</td>\n",
       "    </tr>\n",
       "    <tr>\n",
       "      <th>2</th>\n",
       "      <td>3</td>\n",
       "      <td>3</td>\n",
       "      <td>1.837838</td>\n",
       "      <td>2.346579</td>\n",
       "      <td>1.920011</td>\n",
       "      <td>-1.232746</td>\n",
       "      <td>-0.943404</td>\n",
       "      <td>-0.730271</td>\n",
       "      <td>0.446007</td>\n",
       "      <td>-0.372549</td>\n",
       "      <td>...</td>\n",
       "      <td>-0.348932</td>\n",
       "      <td>-0.177966</td>\n",
       "      <td>-0.692913</td>\n",
       "      <td>0.059837</td>\n",
       "      <td>-0.707221</td>\n",
       "      <td>-0.615411</td>\n",
       "      <td>-1.128136</td>\n",
       "      <td>0.301624</td>\n",
       "      <td>0.860169</td>\n",
       "      <td>-0.745395</td>\n",
       "    </tr>\n",
       "    <tr>\n",
       "      <th>3</th>\n",
       "      <td>4</td>\n",
       "      <td>4</td>\n",
       "      <td>2.162949</td>\n",
       "      <td>2.031683</td>\n",
       "      <td>1.767996</td>\n",
       "      <td>-1.779595</td>\n",
       "      <td>-0.597938</td>\n",
       "      <td>-0.883568</td>\n",
       "      <td>0.901213</td>\n",
       "      <td>-0.019628</td>\n",
       "      <td>...</td>\n",
       "      <td>-1.850368</td>\n",
       "      <td>0.696236</td>\n",
       "      <td>-1.643970</td>\n",
       "      <td>-0.314808</td>\n",
       "      <td>-2.072049</td>\n",
       "      <td>-0.121137</td>\n",
       "      <td>1.301735</td>\n",
       "      <td>-2.551571</td>\n",
       "      <td>-0.014993</td>\n",
       "      <td>-0.327130</td>\n",
       "    </tr>\n",
       "    <tr>\n",
       "      <th>4</th>\n",
       "      <td>5</td>\n",
       "      <td>5</td>\n",
       "      <td>2.148766</td>\n",
       "      <td>2.105525</td>\n",
       "      <td>1.760006</td>\n",
       "      <td>-1.797479</td>\n",
       "      <td>-0.736667</td>\n",
       "      <td>-0.777803</td>\n",
       "      <td>0.748379</td>\n",
       "      <td>0.080749</td>\n",
       "      <td>...</td>\n",
       "      <td>-0.316921</td>\n",
       "      <td>0.266559</td>\n",
       "      <td>-0.295155</td>\n",
       "      <td>0.087542</td>\n",
       "      <td>-0.864880</td>\n",
       "      <td>-0.051546</td>\n",
       "      <td>0.193434</td>\n",
       "      <td>-0.349935</td>\n",
       "      <td>0.686382</td>\n",
       "      <td>0.038217</td>\n",
       "    </tr>\n",
       "  </tbody>\n",
       "</table>\n",
       "<p>5 rows × 22 columns</p>\n",
       "</div>"
      ],
      "text/plain": [
       "   user_idx  item_idx  item_autoenc0  item_autoenc1  item_autoenc2  \\\n",
       "0         1         1       2.143410       2.109679       1.762766   \n",
       "1         2         2       1.993736       2.044680       1.399719   \n",
       "2         3         3       1.837838       2.346579       1.920011   \n",
       "3         4         4       2.162949       2.031683       1.767996   \n",
       "4         5         5       2.148766       2.105525       1.760006   \n",
       "\n",
       "   item_autoenc3  item_autoenc4  item_autoenc5  item_autoenc6  item_autoenc7  \\\n",
       "0      -1.787753      -0.740233      -0.776990       0.743170       0.072942   \n",
       "1      -1.706689      -0.461817      -0.454929       1.079158       0.295657   \n",
       "2      -1.232746      -0.943404      -0.730271       0.446007      -0.372549   \n",
       "3      -1.779595      -0.597938      -0.883568       0.901213      -0.019628   \n",
       "4      -1.797479      -0.736667      -0.777803       0.748379       0.080749   \n",
       "\n",
       "   ...  user_autoenc0  user_autoenc1  user_autoenc2  user_autoenc3  \\\n",
       "0  ...      -2.745483      -2.027757      -2.634101      -3.231060   \n",
       "1  ...      -0.105591      -0.071498      -0.376756       0.245637   \n",
       "2  ...      -0.348932      -0.177966      -0.692913       0.059837   \n",
       "3  ...      -1.850368       0.696236      -1.643970      -0.314808   \n",
       "4  ...      -0.316921       0.266559      -0.295155       0.087542   \n",
       "\n",
       "   user_autoenc4  user_autoenc5  user_autoenc6  user_autoenc7  user_autoenc8  \\\n",
       "0       2.551503       2.178736      -2.315682      -2.340696       2.303620   \n",
       "1       0.026462       0.300354      -0.558003       0.081122       0.516522   \n",
       "2      -0.707221      -0.615411      -1.128136       0.301624       0.860169   \n",
       "3      -2.072049      -0.121137       1.301735      -2.551571      -0.014993   \n",
       "4      -0.864880      -0.051546       0.193434      -0.349935       0.686382   \n",
       "\n",
       "   user_autoenc9  \n",
       "0       0.117822  \n",
       "1      -0.727923  \n",
       "2      -0.745395  \n",
       "3      -0.327130  \n",
       "4       0.038217  \n",
       "\n",
       "[5 rows x 22 columns]"
      ]
     },
     "execution_count": 26,
     "metadata": {},
     "output_type": "execute_result"
    }
   ],
   "source": [
    "df_train[['user_idx','item_idx']+autoenc_cols].head()"
   ]
  },
  {
   "cell_type": "markdown",
   "metadata": {},
   "source": [
    "### Dataset and DataLoader"
   ]
  },
  {
   "cell_type": "code",
   "execution_count": 27,
   "metadata": {},
   "outputs": [],
   "source": [
    "class cfdata (torch.utils.data.dataset.Dataset):\n",
    "    def __init__(self,dfX,dfY,denseCols):\n",
    "        self.dfX,self.dfY=dfX,dfY\n",
    "        self.denseCols=denseCols\n",
    "        \n",
    "    def __len__ (self):\n",
    "        return self.dfX.shape[0]\n",
    "    \n",
    "    def __getitem__ (self, idx):\n",
    "        return torch.FloatTensor(self.dfX.iloc[idx].values),torch.FloatTensor([self.dfY.values[idx]])"
   ]
  },
  {
   "cell_type": "code",
   "execution_count": 28,
   "metadata": {},
   "outputs": [],
   "source": [
    "dstrain=cfdata(df_train[['user_idx','item_idx']+autoenc_cols],df_train['rating'],autoenc_cols)\n",
    "dsvalid=cfdata(df_valid[['user_idx','item_idx']+autoenc_cols],df_valid['rating'],autoenc_cols)"
   ]
  },
  {
   "cell_type": "code",
   "execution_count": 29,
   "metadata": {},
   "outputs": [
    {
     "data": {
      "text/plain": [
       "(31944, 34)"
      ]
     },
     "execution_count": 29,
     "metadata": {},
     "output_type": "execute_result"
    }
   ],
   "source": [
    "df_train.shape"
   ]
  },
  {
   "cell_type": "code",
   "execution_count": 30,
   "metadata": {},
   "outputs": [],
   "source": [
    "bs=16"
   ]
  },
  {
   "cell_type": "code",
   "execution_count": 31,
   "metadata": {},
   "outputs": [],
   "source": [
    "dltrain=DataLoader(dstrain,bs,True)"
   ]
  },
  {
   "cell_type": "code",
   "execution_count": 32,
   "metadata": {},
   "outputs": [],
   "source": [
    "dlvalid=DataLoader(dsvalid,bs,True)"
   ]
  },
  {
   "cell_type": "markdown",
   "metadata": {},
   "source": [
    "## Model Architecture"
   ]
  },
  {
   "cell_type": "code",
   "execution_count": 33,
   "metadata": {},
   "outputs": [],
   "source": [
    "n_users=len(user_to_idx)\n",
    "n_movies=len(movie_to_idx)"
   ]
  },
  {
   "cell_type": "code",
   "execution_count": 34,
   "metadata": {},
   "outputs": [
    {
     "data": {
      "text/plain": [
       "(1508, 2071)"
      ]
     },
     "execution_count": 34,
     "metadata": {},
     "output_type": "execute_result"
    }
   ],
   "source": [
    "n_users,n_movies"
   ]
  },
  {
   "cell_type": "code",
   "execution_count": 35,
   "metadata": {},
   "outputs": [],
   "source": [
    "n_emb_user=10\n",
    "n_emb_movie=25\n",
    "min_rating=min(df_train['rating'])\n",
    "max_rating=max(df_train['rating'])\n",
    "dropout_e=0.1\n",
    "hidden=[20,10,10]\n",
    "dropouts=[0.4,0.5,0.4]"
   ]
  },
  {
   "cell_type": "code",
   "execution_count": 36,
   "metadata": {},
   "outputs": [],
   "source": [
    "def hidden_layer(x,y,dropout,activation=nn.Sigmoid()):\n",
    "    return nn.Sequential(\n",
    "        nn.Linear(x, y),\n",
    "        activation,\n",
    "        nn.Dropout(p=dropout)\n",
    "        )   "
   ]
  },
  {
   "cell_type": "code",
   "execution_count": 37,
   "metadata": {},
   "outputs": [],
   "source": [
    "class cf(nn.Module):    \n",
    "    def __init__(self,n_users,n_emb_user,n_emb_movie,n_movies,min_rating,max_rating,autoenc_cols,\\\n",
    "                 dropout_e=0.01,hidden=[15,5],dropouts=[0.2,0.2]):\n",
    "        super().__init__()\n",
    "        self.n_users,self.n_emb_user,self.n_emb_movie,self.n_movies,self.min_rating,self.max_rating=\\\n",
    "                    n_users,n_emb_user,n_emb_movie,n_movies,min_rating,max_rating\n",
    "        self.dropout_e,self.hidden,self.dropouts=dropout_e,hidden,dropouts\n",
    "        self.autoenc_cols,self.len_dense_cols=autoenc_cols,len(autoenc_cols)\n",
    "        self.create_architecture()\n",
    "        self.criterion=nn.MSELoss()\n",
    "        \n",
    "        \n",
    "    def create_architecture(self):\n",
    "        self.emb_user=nn.Embedding(self.n_users+1,self.n_emb_user)\n",
    "        self.emb_movie=nn.Embedding(self.n_movies+1,self.n_emb_movie)\n",
    "        self.emb_dropout=nn.Dropout(self.dropout_e)\n",
    "\n",
    "        \n",
    "        self.lin1= nn.Sequential(nn.Linear(self.n_emb_user+self.n_emb_movie,self.hidden[0]),\n",
    "                    nn.ReLU(),\n",
    "                    nn.Dropout(p=dropouts[0]) )\n",
    "        self.lin2= nn.Sequential (nn.Linear(self.len_dense_cols,self.hidden[1]),\n",
    "                    nn.ReLU(),\n",
    "                    nn.Dropout(p=dropouts[1]) )\n",
    "        self.lin3= nn.Sequential (nn.Linear(self.hidden[0]+self.hidden[1],self.hidden[2]),\n",
    "                    nn.ReLU(),\n",
    "                    nn.Dropout(p=dropouts[2]))\n",
    "        self.lin4=nn.Linear(self.hidden[2],1)\n",
    "        \n",
    "        \n",
    "        self.bn1 = nn.BatchNorm1d(self.hidden[0])\n",
    "        self.bn2 = nn.BatchNorm1d(self.hidden[1])\n",
    "        self.bn3=nn.BatchNorm1d(self.hidden[2])\n",
    "        \n",
    "        self.sigmoid=nn.Sigmoid()\n",
    "        \n",
    "        \n",
    "    def init_parameters(self):\n",
    "        nn.init.kaiming_normal_(self.emb_user.weight.data)\n",
    "        nn.init.kaiming_normal_(self.emb_movie.weight.dat)\n",
    "        #nn.init.kaiming_normal_(lin)\n",
    "       \n",
    "    def forward (self,Xb,Yb):\n",
    "        users=Xb[:,0].long()\n",
    "        items=Xb[:,1].long()\n",
    "        users=self.emb_dropout(self.emb_user(users))\n",
    "        items=self.emb_dropout(self.emb_movie(items))\n",
    "        \n",
    "        denses=Xb[:,2:]\n",
    "        embed=torch.cat([users,items],1)\n",
    "        \n",
    "        out1=self.bn1(self.lin1(embed))\n",
    "        out2=self.bn2(self.lin2(denses))\n",
    "        out3=torch.cat([out1,out2],1)\n",
    "        out4=self.bn3(self.lin3(out3))\n",
    "        out5=self.lin4(out4)\n",
    "        \n",
    "        out=self.sigmoid(out5)\n",
    "        \n",
    "        preds=out*(self.max_rating-self.min_rating)+self.min_rating\n",
    "        #preds=preds.view(-1)\n",
    "        loss=self.criterion(preds,Yb)\n",
    "        return preds,loss"
   ]
  },
  {
   "cell_type": "code",
   "execution_count": 38,
   "metadata": {},
   "outputs": [],
   "source": [
    "cfobj=cf(n_users,n_emb_user,n_emb_movie,n_movies,min_rating,max_rating,autoenc_cols,dropout_e,hidden,dropouts)"
   ]
  },
  {
   "cell_type": "code",
   "execution_count": 39,
   "metadata": {},
   "outputs": [
    {
     "data": {
      "text/plain": [
       "cf(\n",
       "  (emb_user): Embedding(1509, 10)\n",
       "  (emb_movie): Embedding(2072, 25)\n",
       "  (emb_dropout): Dropout(p=0.1)\n",
       "  (lin1): Sequential(\n",
       "    (0): Linear(in_features=35, out_features=20, bias=True)\n",
       "    (1): ReLU()\n",
       "    (2): Dropout(p=0.4)\n",
       "  )\n",
       "  (lin2): Sequential(\n",
       "    (0): Linear(in_features=20, out_features=10, bias=True)\n",
       "    (1): ReLU()\n",
       "    (2): Dropout(p=0.5)\n",
       "  )\n",
       "  (lin3): Sequential(\n",
       "    (0): Linear(in_features=30, out_features=10, bias=True)\n",
       "    (1): ReLU()\n",
       "    (2): Dropout(p=0.4)\n",
       "  )\n",
       "  (lin4): Linear(in_features=10, out_features=1, bias=True)\n",
       "  (bn1): BatchNorm1d(20, eps=1e-05, momentum=0.1, affine=True, track_running_stats=True)\n",
       "  (bn2): BatchNorm1d(10, eps=1e-05, momentum=0.1, affine=True, track_running_stats=True)\n",
       "  (bn3): BatchNorm1d(10, eps=1e-05, momentum=0.1, affine=True, track_running_stats=True)\n",
       "  (sigmoid): Sigmoid()\n",
       "  (criterion): MSELoss()\n",
       ")"
      ]
     },
     "execution_count": 39,
     "metadata": {},
     "output_type": "execute_result"
    }
   ],
   "source": [
    "cfobj"
   ]
  },
  {
   "cell_type": "code",
   "execution_count": 40,
   "metadata": {},
   "outputs": [],
   "source": [
    "for Xb, Yb in dltrain:\n",
    "    break"
   ]
  },
  {
   "cell_type": "code",
   "execution_count": 41,
   "metadata": {},
   "outputs": [
    {
     "data": {
      "text/plain": [
       "(torch.Size([16, 22]), torch.Size([16, 1]))"
      ]
     },
     "execution_count": 41,
     "metadata": {},
     "output_type": "execute_result"
    }
   ],
   "source": [
    "Xb.shape, Yb.shape"
   ]
  },
  {
   "cell_type": "code",
   "execution_count": 42,
   "metadata": {},
   "outputs": [
    {
     "data": {
      "text/plain": [
       "torch.float32"
      ]
     },
     "execution_count": 42,
     "metadata": {},
     "output_type": "execute_result"
    }
   ],
   "source": [
    "Xb.dtype"
   ]
  },
  {
   "cell_type": "code",
   "execution_count": 43,
   "metadata": {},
   "outputs": [
    {
     "data": {
      "text/plain": [
       "(tensor([[1.7582],\n",
       "         [2.9612],\n",
       "         [2.1121],\n",
       "         [1.8454],\n",
       "         [2.1001],\n",
       "         [2.3470],\n",
       "         [1.8314],\n",
       "         [1.8016],\n",
       "         [1.8224],\n",
       "         [2.4954],\n",
       "         [1.9430],\n",
       "         [2.3967],\n",
       "         [1.7836],\n",
       "         [1.8334],\n",
       "         [1.7150],\n",
       "         [1.7721]], grad_fn=<AddBackward0>),\n",
       " tensor(1.3505, grad_fn=<MseLossBackward>))"
      ]
     },
     "execution_count": 43,
     "metadata": {},
     "output_type": "execute_result"
    }
   ],
   "source": [
    "cfobj.forward(Xb,Yb)"
   ]
  },
  {
   "cell_type": "markdown",
   "metadata": {},
   "source": [
    "## Learner"
   ]
  },
  {
   "cell_type": "code",
   "execution_count": 44,
   "metadata": {},
   "outputs": [],
   "source": [
    "class Learner():\n",
    "    def __init__(self,model,optimizer,metric_fn,device,bptt=12,print_every=5,clip_val=None,\\\n",
    "                 cycle_mult=0,lr_decay=0.7,wd_mult=6,start_lr=2e-2, end_lr=5e-4,error_type=\"mse\"):\n",
    "        self.model,self.optimizer,self.metric_fn,self.device,self.print_every,self.bptt,self.losses,self.clip_val=\\\n",
    "            model,optimizer,metric_fn,device,print_every,bptt,[],clip_val\n",
    "        self.n_epochs=1\n",
    "        self.cycle_mult,self.lr_decay=cycle_mult,lr_decay\n",
    "        self.wd_mult=wd_mult\n",
    "        for param_group in self.optimizer.param_groups:\n",
    "            self.start_lr=param_group['lr']\n",
    "            self.start_wd=param_group['weight_decay']\n",
    "        self.wd=self.start_wd\n",
    "        self.lr=self.start_lr\n",
    "        self.end_lr=end_lr\n",
    "        self.n_epoch=0\n",
    "        self.lrs=[1e-2,5e-3,1e-4,5e-4]\n",
    "        self.preds,self.preds_valid,self.trainY,self.actual=[],[],[],[]\n",
    "        self.ratio=self.end_lr/self.start_lr\n",
    "        self.num_steps=self.cycle_mult\n",
    "        self.reset_cycle=self.cycle_mult\n",
    "        self.error_type=error_type\n",
    "        \n",
    "    def fit (self,Xb,Yb,mode_train=True):\n",
    "        if mode_train:\n",
    "            self.model.train()\n",
    "        else:\n",
    "            self.model.eval()\n",
    "        \n",
    "        #import pdb\n",
    "        #pdb.set_trace()\n",
    "        preds,loss=self.model(Xb,Yb)\n",
    "\n",
    "     \n",
    "        if mode_train:\n",
    "            if 1==0:\n",
    "                lr =self.lrs[torch.randint(0,4,(1,))]\n",
    "                for param_group in self.optimizer.param_groups:\n",
    "                    param_group['lr']=lr\n",
    "            \n",
    "            self.optimizer.zero_grad()\n",
    "            loss.backward()\n",
    "            self.optimizer.step()\n",
    "        myloss=loss.item()\n",
    "    \n",
    "        \n",
    "        with torch.no_grad():\n",
    "            if self.error_type == \"mse\":\n",
    "                acc=nn.L1Loss() (preds,Yb)\n",
    "                myrmse=np.sqrt(myloss)\n",
    "            else:\n",
    "                acc=nn.MSELoss() (preds,Yb)\n",
    "                myrmse=np.sqrt(acc.item())\n",
    "            acc=acc.item()\n",
    "                 \n",
    "   \n",
    "        del preds\n",
    "        del loss\n",
    "        \n",
    "        if self.clip_val is not None:\n",
    "            torch.nn.utils.clip_grad_norm_(self.model.parameters(), self.clip_val)\n",
    "        \n",
    "        return myloss, acc, myrmse\n",
    "    \n",
    "    def lr_find (self,start_lr,end_lr,iterator,n_batch):\n",
    "        losses,lrs=[],[]\n",
    "        ratio=end_lr/start_lr\n",
    "        num_steps=n_batch\n",
    "        lr=start_lr\n",
    "        for i in range(num_steps):            \n",
    "            lr=lr*(end_lr/start_lr)**(1/num_steps)\n",
    "            lrs.append(lr)\n",
    "        self.lrs=lrs\n",
    "        self.run_epoch(iterator,mode_train=True,lrs=lrs)\n",
    "    \n",
    "    def run_epoch(self,iterator,mode_train,lrs=None):\n",
    "        epoch_loss,epoch_acc,i,k=0,0,0,0\n",
    "        epoch_rmse=0\n",
    "\n",
    "\n",
    "        for Xb,Yb in iterator:\n",
    "            Xb=Xb.to(self.device)\n",
    "            Yb=Yb.to(self.device)\n",
    "            \n",
    "            if lrs is not None:\n",
    "                lr=lrs[k]\n",
    "                for param_group in self.optimizer.param_groups:\n",
    "                    param_group['lr']=lr \n",
    "            \n",
    "\n",
    "            loss,acc,myrmse=self.fit(Xb,Yb,mode_train)\n",
    "            \n",
    "            if lrs is not None:\n",
    "                self.losses.append(loss)\n",
    "\n",
    "\n",
    "            \n",
    "\n",
    "            epoch_loss+=loss\n",
    "            epoch_acc+=acc\n",
    "            epoch_rmse+=myrmse\n",
    "            \n",
    "            k=k+1\n",
    "            if k%self.print_every == 0:\n",
    "                if k:\n",
    "                    print (f'Batch:{k} {epoch_loss/(k)}  ')  \n",
    "                    torch.cuda.empty_cache()\n",
    "\n",
    "        epoch_loss=epoch_loss/len(iterator)\n",
    "        epoch_acc=epoch_acc/len(iterator)\n",
    "        epoch_rmse=epoch_rmse/len(iterator)\n",
    "            \n",
    "        return epoch_loss,epoch_acc,epoch_rmse\n",
    "    \n",
    "    def plot_lrs(self, n_roll=1,ylim=None,xlim=None):\n",
    "        import seaborn as sns\n",
    "        ax=sns.lineplot(x=self.lrs,y=pd.Series(self.losses).rolling(n_roll).mean())\n",
    "        ax.set_xscale('log')\n",
    "        ax.set_ylabel('Loss')\n",
    "        ax.set_xlabel('Learning Rate')\n",
    "        if ylim is not None:\n",
    "            plt.ylim(ylim)\n",
    "        if xlim is not None:\n",
    "            plt.xlim(xlim)\n",
    "\n",
    "     \n",
    "    def run_epochs(self,dltrain,dlvalid,n_epochs=1):              \n",
    "        for epoch in range(n_epochs):                \n",
    "            loss,acc,rmse=self.run_epoch(dltrain,True)\n",
    "\n",
    "            lossv,accv,rmsev=self.run_epoch(dlvalid,mode_train=False)\n",
    "           \n",
    "            if self.error_type==\"mse\":\n",
    "                loss_mse=loss\n",
    "                loss_rmse=rmse\n",
    "                loss_mae=acc\n",
    "                lossv_mse=lossv\n",
    "                lossv_rmse=rmsev\n",
    "                lossv_mae=accv\n",
    "                \n",
    "            else:\n",
    "                loss_mse=acc\n",
    "                loss_rmse=rmse\n",
    "                loss_mae=loss\n",
    "                lossv_mse=accv\n",
    "                lossv_rmse=rmsev\n",
    "                lossv_mae=lossv\n",
    "            \n",
    "            print (f'Epoch:{epoch} Learning rate {self.lr} Weight Decay {self.wd} Train Loss:{loss} \\\n",
    "                Valid Loss:{lossv} Train RMSE:{loss_rmse} Valid RMSE:{lossv_rmse} Train MSE:{loss_mse} Valid MSE:{lossv_mse} \\\n",
    "                Train MAE:{loss_mae} Valid MAE:{lossv_mae}')\n",
    "\n",
    "              \n",
    "         \n",
    "     \n",
    "            if self.cycle_mult:\n",
    "                if self.n_epoch==self.reset_cycle:\n",
    "                    self.lr=self.start_lr\n",
    "                    #self.wd=self.start_wd\n",
    "                    self.reset_cycle*=self.cycle_mult\n",
    "                    #reset_cycle=self.n_epoch+reset_cycle\n",
    "                    self.n_epoch=0\n",
    "                    self.ratio=self.end_lr/self.start_lr\n",
    "                    self.num_steps=self.reset_cycle\n",
    "                else:\n",
    "                    #self.lr*=(self.lr_decay**self.n_epoch)  \n",
    "                    #if self.n_epoch>1:\n",
    "                    #    self.wd*=self.wd_mult\n",
    "                    self.lr=self.lr*(self.end_lr/self.start_lr)**(1/self.num_steps)\n",
    "                    self.n_epoch+=1\n",
    "        \n",
    "\n",
    "                \n",
    "            for param_group in self.optimizer.param_groups:\n",
    "                param_group['lr']=self.lr\n",
    "                #param_group['weight_decay']=self.wd\n",
    "          \n",
    "     "
   ]
  },
  {
   "cell_type": "code",
   "execution_count": 45,
   "metadata": {},
   "outputs": [],
   "source": [
    "device='cuda:0'"
   ]
  },
  {
   "cell_type": "code",
   "execution_count": 60,
   "metadata": {},
   "outputs": [],
   "source": [
    "cfobj=cf(n_users,n_emb_user,n_emb_movie,n_movies,min_rating,max_rating,autoenc_cols,dropout_e,hidden,dropouts)"
   ]
  },
  {
   "cell_type": "code",
   "execution_count": 61,
   "metadata": {},
   "outputs": [],
   "source": [
    "cfobj=cfobj.to(device)"
   ]
  },
  {
   "cell_type": "code",
   "execution_count": 62,
   "metadata": {},
   "outputs": [
    {
     "data": {
      "text/plain": [
       "cf(\n",
       "  (emb_user): Embedding(1509, 10)\n",
       "  (emb_movie): Embedding(2072, 25)\n",
       "  (emb_dropout): Dropout(p=0.1)\n",
       "  (lin1): Sequential(\n",
       "    (0): Linear(in_features=35, out_features=20, bias=True)\n",
       "    (1): ReLU()\n",
       "    (2): Dropout(p=0.4)\n",
       "  )\n",
       "  (lin2): Sequential(\n",
       "    (0): Linear(in_features=20, out_features=10, bias=True)\n",
       "    (1): ReLU()\n",
       "    (2): Dropout(p=0.5)\n",
       "  )\n",
       "  (lin3): Sequential(\n",
       "    (0): Linear(in_features=30, out_features=10, bias=True)\n",
       "    (1): ReLU()\n",
       "    (2): Dropout(p=0.4)\n",
       "  )\n",
       "  (lin4): Linear(in_features=10, out_features=1, bias=True)\n",
       "  (bn1): BatchNorm1d(20, eps=1e-05, momentum=0.1, affine=True, track_running_stats=True)\n",
       "  (bn2): BatchNorm1d(10, eps=1e-05, momentum=0.1, affine=True, track_running_stats=True)\n",
       "  (bn3): BatchNorm1d(10, eps=1e-05, momentum=0.1, affine=True, track_running_stats=True)\n",
       "  (sigmoid): Sigmoid()\n",
       "  (criterion): MSELoss()\n",
       ")"
      ]
     },
     "execution_count": 62,
     "metadata": {},
     "output_type": "execute_result"
    }
   ],
   "source": [
    "cfobj"
   ]
  },
  {
   "cell_type": "code",
   "execution_count": 63,
   "metadata": {},
   "outputs": [
    {
     "data": {
      "text/plain": [
       "[0.4, 0.5, 0.4]"
      ]
     },
     "execution_count": 63,
     "metadata": {},
     "output_type": "execute_result"
    }
   ],
   "source": [
    "dropouts"
   ]
  },
  {
   "cell_type": "code",
   "execution_count": 64,
   "metadata": {},
   "outputs": [],
   "source": [
    "wd=1e-3\n",
    "optimizer=torch.optim.Adam(cfobj.parameters(),lr=5e-3,betas=(0.9,0.999), weight_decay=wd)\n",
    "learner=Learner(cfobj,optimizer,None,device,0,12000,0.25,cycle_mult=0)"
   ]
  },
  {
   "cell_type": "code",
   "execution_count": 65,
   "metadata": {},
   "outputs": [
    {
     "data": {
      "text/plain": [
       "1997"
      ]
     },
     "execution_count": 65,
     "metadata": {},
     "output_type": "execute_result"
    }
   ],
   "source": [
    "len(dltrain)"
   ]
  },
  {
   "cell_type": "code",
   "execution_count": 66,
   "metadata": {},
   "outputs": [],
   "source": [
    "learner.lr_find(1e-4,1e-1,dltrain,len(dltrain))"
   ]
  },
  {
   "cell_type": "code",
   "execution_count": 67,
   "metadata": {},
   "outputs": [
    {
     "data": {
      "image/png": "[encoded data removed]",
      "text/plain": [
       "<Figure size 432x288 with 1 Axes>"
      ]
     },
     "metadata": {
      "needs_background": "light"
     },
     "output_type": "display_data"
    }
   ],
   "source": [
    "learner.plot_lrs(50)"
   ]
  },
  {
   "cell_type": "code",
   "execution_count": 68,
   "metadata": {},
   "outputs": [
    {
     "data": {
      "image/png": "[encoded data removed]",
      "text/plain": [
       "<Figure size 432x288 with 1 Axes>"
      ]
     },
     "metadata": {
      "needs_background": "light"
     },
     "output_type": "display_data"
    }
   ],
   "source": [
    "learner.plot_lrs(10)"
   ]
  },
  {
   "cell_type": "code",
   "execution_count": 69,
   "metadata": {},
   "outputs": [
    {
     "data": {
      "image/png": "[encoded data removed]",
      "text/plain": [
       "<Figure size 432x288 with 1 Axes>"
      ]
     },
     "metadata": {
      "needs_background": "light"
     },
     "output_type": "display_data"
    }
   ],
   "source": [
    "learner.plot_lrs(1)"
   ]
  },
  {
   "cell_type": "code",
   "execution_count": 70,
   "metadata": {},
   "outputs": [],
   "source": [
    "del cfobj\n",
    "torch.cuda.empty_cache()"
   ]
  },
  {
   "cell_type": "code",
   "execution_count": 71,
   "metadata": {},
   "outputs": [],
   "source": [
    "cfobj=cf(n_users,n_emb_user,n_emb_movie,n_movies,min_rating,max_rating,autoenc_cols,dropout_e,hidden,dropouts)\n",
    "cfobj=cfobj.to(device)"
   ]
  },
  {
   "cell_type": "code",
   "execution_count": 72,
   "metadata": {},
   "outputs": [
    {
     "data": {
      "text/plain": [
       "(cf(\n",
       "   (emb_user): Embedding(1509, 10)\n",
       "   (emb_movie): Embedding(2072, 25)\n",
       "   (emb_dropout): Dropout(p=0.1)\n",
       "   (lin1): Sequential(\n",
       "     (0): Linear(in_features=35, out_features=20, bias=True)\n",
       "     (1): ReLU()\n",
       "     (2): Dropout(p=0.4)\n",
       "   )\n",
       "   (lin2): Sequential(\n",
       "     (0): Linear(in_features=20, out_features=10, bias=True)\n",
       "     (1): ReLU()\n",
       "     (2): Dropout(p=0.5)\n",
       "   )\n",
       "   (lin3): Sequential(\n",
       "     (0): Linear(in_features=30, out_features=10, bias=True)\n",
       "     (1): ReLU()\n",
       "     (2): Dropout(p=0.4)\n",
       "   )\n",
       "   (lin4): Linear(in_features=10, out_features=1, bias=True)\n",
       "   (bn1): BatchNorm1d(20, eps=1e-05, momentum=0.1, affine=True, track_running_stats=True)\n",
       "   (bn2): BatchNorm1d(10, eps=1e-05, momentum=0.1, affine=True, track_running_stats=True)\n",
       "   (bn3): BatchNorm1d(10, eps=1e-05, momentum=0.1, affine=True, track_running_stats=True)\n",
       "   (sigmoid): Sigmoid()\n",
       "   (criterion): MSELoss()\n",
       " ), 'cuda:0')"
      ]
     },
     "execution_count": 72,
     "metadata": {},
     "output_type": "execute_result"
    }
   ],
   "source": [
    "cfobj, device"
   ]
  },
  {
   "cell_type": "code",
   "execution_count": 74,
   "metadata": {},
   "outputs": [],
   "source": [
    "optimizer=torch.optim.Adam(cfobj.parameters(),lr=9e-4,betas=(0.9,0.999), weight_decay=wd)\n",
    "learner=Learner(cfobj,optimizer,None,device,0,12000,0.25,cycle_mult=0)"
   ]
  },
  {
   "cell_type": "code",
   "execution_count": 75,
   "metadata": {},
   "outputs": [
    {
     "name": "stdout",
     "output_type": "stream",
     "text": [
      "Epoch:0 Learning rate 0.0009 Weight Decay 0.001 Train Loss:0.8836041402909298                 Valid Loss:0.9332385354482375 Train RMSE:0.9210570681258708 Valid RMSE:0.9535318104466275 Train MSE:0.8836041402909298 Valid MSE:0.9332385354482375                 Train MAE:0.7567514647796384 Valid MAE:0.7781876924338641\n",
      "Epoch:1 Learning rate 0.0009 Weight Decay 0.001 Train Loss:0.7758669102481441                 Valid Loss:0.8699942388244577 Train RMSE:0.8651933658381447 Valid RMSE:0.9213895719280693 Train MSE:0.7758669102481441 Valid MSE:0.8699942388244577                 Train MAE:0.7001241227806838 Valid MAE:0.7669540337614111\n",
      "Epoch:2 Learning rate 0.0009 Weight Decay 0.001 Train Loss:0.7531814723609983                 Valid Loss:0.7906274157869924 Train RMSE:0.8525418214899633 Valid RMSE:0.8760307339792639 Train MSE:0.7531814723609983 Valid MSE:0.7906274157869924                 Train MAE:0.6909628380341833 Valid MAE:0.7175007810195287\n",
      "Epoch:3 Learning rate 0.0009 Weight Decay 0.001 Train Loss:0.7160308627961096                 Valid Loss:0.7522292313677771 Train RMSE:0.8317894809882374 Valid RMSE:0.8519784968150286 Train MSE:0.7160308627961096 Valid MSE:0.7522292313677771                 Train MAE:0.6682207569308322 Valid MAE:0.6948138078053793\n",
      "Epoch:4 Learning rate 0.0009 Weight Decay 0.001 Train Loss:0.6966312646224132                 Valid Loss:0.7055479795546145 Train RMSE:0.8202067682895596 Valid RMSE:0.8277806179195829 Train MSE:0.6966312646224132 Valid MSE:0.7055479795546145                 Train MAE:0.6566904499253812 Valid MAE:0.6693576932758898\n"
     ]
    }
   ],
   "source": [
    "learner.run_epochs(dltrain,dlvalid,5)"
   ]
  },
  {
   "cell_type": "code",
   "execution_count": 76,
   "metadata": {},
   "outputs": [],
   "source": [
    "optimizer=torch.optim.Adam(cfobj.parameters(),lr=7e-4,betas=(0.9,0.999), weight_decay=wd)\n",
    "learner=Learner(cfobj,optimizer,None,device,0,12000,0.25,cycle_mult=3,start_lr=3e-3,end_lr=1e-4)"
   ]
  },
  {
   "cell_type": "code",
   "execution_count": 77,
   "metadata": {},
   "outputs": [
    {
     "name": "stdout",
     "output_type": "stream",
     "text": [
      "Epoch:0 Learning rate 0.0007 Weight Decay 0.001 Train Loss:0.7042199853484966                 Valid Loss:0.7081276838843887 Train RMSE:0.8234088596163275 Valid RMSE:0.8269734266981594 Train MSE:0.7042199853484966 Valid MSE:0.7081276838843887                 Train MAE:0.660270968033304 Valid MAE:0.6697304522668993\n",
      "Epoch:1 Learning rate 0.0003659305710022972 Weight Decay 0.001 Train Loss:0.6815984758828721                 Valid Loss:0.682080396392324 Train RMSE:0.8105172487812806 Valid RMSE:0.8116411559896299 Train MSE:0.6815984758828721 Valid MSE:0.682080396392324                 Train MAE:0.6485909613508789 Valid MAE:0.6515310942321211\n",
      "Epoch:2 Learning rate 0.00019129311827723895 Weight Decay 0.001 Train Loss:0.6673414468407094                 Valid Loss:0.6766993042987746 Train RMSE:0.80128696321864 Valid RMSE:0.8087865825889036 Train MSE:0.6673414468407094 Valid MSE:0.6766993042987746                 Train MAE:0.6396177233787674 Valid MAE:0.6508089596623773\n",
      "Epoch:3 Learning rate 0.00010000000000000005 Weight Decay 0.001 Train Loss:0.6623200192174497                 Valid Loss:0.680754486370731 Train RMSE:0.7983698604668873 Valid RMSE:0.8095829811533465 Train MSE:0.6623200192174497 Valid MSE:0.680754486370731                 Train MAE:0.6378801074634508 Valid MAE:0.6557346892517966\n",
      "Epoch:4 Learning rate 0.0007 Weight Decay 0.001 Train Loss:0.6811252327026817                 Valid Loss:0.6902240267745009 Train RMSE:0.8098939929093161 Valid RMSE:0.8159951102574838 Train MSE:0.6811252327026817 Valid MSE:0.6902240267745009                 Train MAE:0.6483572974136965 Valid MAE:0.6536555006965861\n",
      "Epoch:5 Learning rate 0.0005638950182171997 Weight Decay 0.001 Train Loss:0.6758909826435086                 Valid Loss:0.6949408403388014 Train RMSE:0.8062442971212083 Valid RMSE:0.8218757285707439 Train MSE:0.6758909826435086 Valid MSE:0.6949408403388014                 Train MAE:0.6445704509779758 Valid MAE:0.6618775803226609\n",
      "Epoch:6 Learning rate 0.0004542537022431085 Weight Decay 0.001 Train Loss:0.6667286737537049                 Valid Loss:0.696277619347916 Train RMSE:0.8006069885462462 Valid RMSE:0.819102626361054 Train MSE:0.6667286737537049 Valid MSE:0.696277619347916                 Train MAE:0.6391515729423756 Valid MAE:0.659330975499239\n",
      "Epoch:7 Learning rate 0.00036593057100229724 Weight Decay 0.001 Train Loss:0.6619731864677887                 Valid Loss:0.6786692531124966 Train RMSE:0.7973711161039075 Valid RMSE:0.8088694592474852 Train MSE:0.6619731864677887 Valid MSE:0.6786692531124966                 Train MAE:0.6373491245445515 Valid MAE:0.6529957657461768\n",
      "Epoch:8 Learning rate 0.0002947806085736724 Weight Decay 0.001 Train Loss:0.6534159742687485                 Valid Loss:0.6601458115352167 Train RMSE:0.7928686238791455 Valid RMSE:0.7965292422315783 Train MSE:0.6534159742687485 Valid MSE:0.6601458115352167                 Train MAE:0.6327402107883944 Valid MAE:0.6355793960728087\n",
      "Epoch:9 Learning rate 0.0002374647380596117 Weight Decay 0.001 Train Loss:0.6476783108005358                 Valid Loss:0.6708611341210099 Train RMSE:0.7891846318276277 Valid RMSE:0.8040266372298809 Train MSE:0.6476783108005358 Valid MSE:0.6708611341210099                 Train MAE:0.6291362488559322 Valid MAE:0.6438474304772712\n",
      "Epoch:10 Learning rate 0.00019129311827723898 Weight Decay 0.001 Train Loss:0.6401581794441373                 Valid Loss:0.6605318986080788 Train RMSE:0.7841396830554637 Valid RMSE:0.7982261566284233 Train MSE:0.6401581794441373 Valid MSE:0.6605318986080788                 Train MAE:0.6233342305668963 Valid MAE:0.6348130992940955\n"
     ]
    }
   ],
   "source": [
    "learner.run_epochs(dltrain,dlvalid,11)"
   ]
  },
  {
   "cell_type": "code",
   "execution_count": 78,
   "metadata": {},
   "outputs": [],
   "source": [
    "# 0.7965 RMSE and  0.635 MAE"
   ]
  },
  {
   "cell_type": "code",
   "execution_count": 79,
   "metadata": {},
   "outputs": [],
   "source": [
    "optimizer=torch.optim.Adam(cfobj.parameters(),lr=3e-3,betas=(0.9,0.999), weight_decay=wd)\n",
    "learner=Learner(cfobj,optimizer,None,device,0,12000,0.25,cycle_mult=3,start_lr=3e-3,end_lr=1e-4)"
   ]
  },
  {
   "cell_type": "code",
   "execution_count": 80,
   "metadata": {},
   "outputs": [
    {
     "name": "stdout",
     "output_type": "stream",
     "text": [
      "Epoch:0 Learning rate 0.003 Weight Decay 0.001 Train Loss:0.7418872224998044                 Valid Loss:0.7269527758429716 Train RMSE:0.8459783802840964 Valid RMSE:0.8367887775182691 Train MSE:0.7418872224998044 Valid MSE:0.7269527758429716                 Train MAE:0.6817955200410689 Valid MAE:0.6723285861111976\n",
      "Epoch:1 Learning rate 0.0009654893846056299 Weight Decay 0.001 Train Loss:0.7044156896408403                 Valid Loss:0.7090457582527453 Train RMSE:0.8236415596357195 Valid RMSE:0.8291890491550509 Train MSE:0.7044156896408403 Valid MSE:0.7090457582527453                 Train MAE:0.661523225221505 Valid MAE:0.6698072257342639\n",
      "Epoch:2 Learning rate 0.00031072325059538597 Weight Decay 0.001 Train Loss:0.6833936316210685                 Valid Loss:0.7170664139159091 Train RMSE:0.8117384549555553 Valid RMSE:0.831952334110996 Train MSE:0.6833936316210685 Valid MSE:0.7170664139159091                 Train MAE:0.6505629449679843 Valid MAE:0.6623928861038105\n",
      "Epoch:3 Learning rate 0.00010000000000000005 Weight Decay 0.001 Train Loss:0.6667798144046103                 Valid Loss:0.7123031085273167 Train RMSE:0.8016698401750493 Valid RMSE:0.8278219209527534 Train MSE:0.6667798144046103 Valid MSE:0.7123031085273167                 Train MAE:0.6415033262553189 Valid MAE:0.6625816694519542\n",
      "Epoch:4 Learning rate 0.003 Weight Decay 0.001 Train Loss:0.717901720111825                 Valid Loss:0.724928491824382 Train RMSE:0.8314639454837924 Valid RMSE:0.8378822947083374 Train MSE:0.717901720111825 Valid MSE:0.724928491824382                 Train MAE:0.6668553825581617 Valid MAE:0.6807883740276903\n",
      "Epoch:5 Learning rate 0.0020558748363608465 Weight Decay 0.001 Train Loss:0.7060493828060034                 Valid Loss:0.7263423642059704 Train RMSE:0.825419998444136 Valid RMSE:0.8414925653344651 Train MSE:0.7060493828060034 Valid MSE:0.7263423642059704                 Train MAE:0.6612345595388456 Valid MAE:0.6876182658178313\n",
      "Epoch:6 Learning rate 0.001408873780927246 Weight Decay 0.001 Train Loss:0.698296169743397                 Valid Loss:0.7039018251874425 Train RMSE:0.8201935750615956 Valid RMSE:0.8262055266581042 Train MSE:0.698296169743397 Valid MSE:0.7039018251874425                 Train MAE:0.6570339872798863 Valid MAE:0.6693511981147904\n",
      "Epoch:7 Learning rate 0.0009654893846056297 Weight Decay 0.001 Train Loss:0.6902392393329708                 Valid Loss:0.6903498466755893 Train RMSE:0.8150002006271062 Valid RMSE:0.8183123563322409 Train MSE:0.6902392393329708 Valid MSE:0.6903498466755893                 Train MAE:0.6516692116446178 Valid MAE:0.6555935373982867\n",
      "Epoch:8 Learning rate 0.0006616417768614112 Weight Decay 0.001 Train Loss:0.6777048279597989                 Valid Loss:0.6879582642032219 Train RMSE:0.8084804165508267 Valid RMSE:0.8157058797365202 Train MSE:0.6777048279597989 Valid MSE:0.6879582642032219                 Train MAE:0.6457907839094811 Valid MAE:0.6556161330626892\n",
      "Epoch:9 Learning rate 0.0004534175599114845 Weight Decay 0.001 Train Loss:0.6674270455202701                 Valid Loss:0.6781606588277731 Train RMSE:0.8013065350539206 Valid RMSE:0.8091345172133823 Train MSE:0.6674270455202701 Valid MSE:0.6781606588277731                 Train MAE:0.6395825496839772 Valid MAE:0.6537439750658499\n",
      "Epoch:10 Learning rate 0.00031072325059538586 Weight Decay 0.001 Train Loss:0.6587445997093461                 Valid Loss:0.6701968418316798 Train RMSE:0.7964566635793493 Valid RMSE:0.8039722529993004 Train MSE:0.6587445997093461 Valid MSE:0.6701968418316798                 Train MAE:0.635260023904193 Valid MAE:0.6450761494872806\n"
     ]
    }
   ],
   "source": [
    "learner.run_epochs(dltrain,dlvalid,11)"
   ]
  },
  {
   "cell_type": "code",
   "execution_count": 81,
   "metadata": {},
   "outputs": [],
   "source": [
    "optimizer=torch.optim.Adam(cfobj.parameters(),lr=3e-4,betas=(0.9,0.999), weight_decay=wd)\n",
    "learner=Learner(cfobj,optimizer,None,device,0,12000,0.25,cycle_mult=0,start_lr=3e-3,end_lr=1e-4)"
   ]
  },
  {
   "cell_type": "code",
   "execution_count": 82,
   "metadata": {},
   "outputs": [
    {
     "name": "stdout",
     "output_type": "stream",
     "text": [
      "Epoch:0 Learning rate 0.0003 Weight Decay 0.001 Train Loss:0.6790646093528631                 Valid Loss:0.6768503650217443 Train RMSE:0.8078628826787037 Valid RMSE:0.8094325030976818 Train MSE:0.6790646093528631 Valid MSE:0.6768503650217443                 Train MAE:0.6440810106310417 Valid MAE:0.6510244718006065\n",
      "Epoch:1 Learning rate 0.0003 Weight Decay 0.001 Train Loss:0.670235001337964                 Valid Loss:0.6940633868379099 Train RMSE:0.802962070046833 Valid RMSE:0.8204119382582948 Train MSE:0.670235001337964 Valid MSE:0.6940633868379099                 Train MAE:0.6403592309178145 Valid MAE:0.6682462870806187\n",
      "Epoch:2 Learning rate 0.0003 Weight Decay 0.001 Train Loss:0.6575047699552687                 Valid Loss:0.6725274202925665 Train RMSE:0.7953492343839562 Valid RMSE:0.8069607186383648 Train MSE:0.6575047699552687 Valid MSE:0.6725274202925665                 Train MAE:0.6325872015762043 Valid MAE:0.6422226208824295\n"
     ]
    }
   ],
   "source": [
    "learner.run_epochs(dltrain,dlvalid,3)"
   ]
  },
  {
   "cell_type": "code",
   "execution_count": 83,
   "metadata": {},
   "outputs": [
    {
     "name": "stdout",
     "output_type": "stream",
     "text": [
      "Epoch:0 Learning rate 0.0003 Weight Decay 0.001 Train Loss:0.6533565536984576                 Valid Loss:0.6673218780406961 Train RMSE:0.7928539290036556 Valid RMSE:0.8016496059658547 Train MSE:0.6533565536984576 Valid MSE:0.6673218780406961                 Train MAE:0.6300431878255138 Valid MAE:0.6435193035516653\n",
      "Epoch:1 Learning rate 0.0003 Weight Decay 0.001 Train Loss:0.6483677101391939                 Valid Loss:0.6647601420949171 Train RMSE:0.7895558542430717 Valid RMSE:0.7998633096612733 Train MSE:0.6483677101391939 Valid MSE:0.6647601420949171                 Train MAE:0.6274826346216168 Valid MAE:0.6410448880077483\n",
      "Epoch:2 Learning rate 0.0003 Weight Decay 0.001 Train Loss:0.6403952546876612                 Valid Loss:0.6646627581065839 Train RMSE:0.7850314304531026 Valid RMSE:0.7994792604157764 Train MSE:0.6403952546876612 Valid MSE:0.6646627581065839                 Train MAE:0.6239088222302374 Valid MAE:0.6412041073178386\n",
      "Epoch:3 Learning rate 0.0003 Weight Decay 0.001 Train Loss:0.6372044975899671                 Valid Loss:0.6781092296178276 Train RMSE:0.7823344089542043 Valid RMSE:0.809255953876943 Train MSE:0.6372044975899671 Valid MSE:0.6781092296178276                 Train MAE:0.6211155266629259 Valid MAE:0.6514514810867138\n",
      "Epoch:4 Learning rate 0.0003 Weight Decay 0.001 Train Loss:0.631024981021105                 Valid Loss:0.6627186694526458 Train RMSE:0.7793442628742272 Valid RMSE:0.7983985977348066 Train MSE:0.631024981021105 Valid MSE:0.6627186694526458                 Train MAE:0.6176251088253665 Valid MAE:0.6376304404961096\n"
     ]
    }
   ],
   "source": [
    "learner.run_epochs(dltrain,dlvalid,5)"
   ]
  },
  {
   "cell_type": "code",
   "execution_count": 84,
   "metadata": {},
   "outputs": [
    {
     "name": "stdout",
     "output_type": "stream",
     "text": [
      "Epoch:0 Learning rate 0.0003 Weight Decay 0.001 Train Loss:0.6313113664306279                 Valid Loss:0.6692772000222593 Train RMSE:0.7794570845595125 Valid RMSE:0.8023651527448743 Train MSE:0.6313113664306279 Valid MSE:0.6692772000222593                 Train MAE:0.6171271104065251 Valid MAE:0.6431072025417207\n",
      "Epoch:1 Learning rate 0.0003 Weight Decay 0.001 Train Loss:0.6248052524487615                 Valid Loss:0.6604641361145286 Train RMSE:0.7749738456474212 Valid RMSE:0.7992612024168289 Train MSE:0.6248052524487615 Valid MSE:0.6604641361145286                 Train MAE:0.6154084625277569 Valid MAE:0.6355581874245996\n",
      "Epoch:2 Learning rate 0.0003 Weight Decay 0.001 Train Loss:0.6310502561476151                 Valid Loss:0.6685317152658025 Train RMSE:0.7781266962358959 Valid RMSE:0.8051727278064205 Train MSE:0.6310502561476151 Valid MSE:0.6685317152658025                 Train MAE:0.6160175180697836 Valid MAE:0.6384276860469097\n",
      "Epoch:3 Learning rate 0.0003 Weight Decay 0.001 Train Loss:0.6276910454445203                 Valid Loss:0.6715381240119805 Train RMSE:0.7768824038597507 Valid RMSE:0.8046951549761827 Train MSE:0.6276910454445203 Valid MSE:0.6715381240119805                 Train MAE:0.6166879429361136 Valid MAE:0.6379706721316587\n",
      "Epoch:4 Learning rate 0.0003 Weight Decay 0.001 Train Loss:0.624660854443766                 Valid Loss:0.6727434945804579 Train RMSE:0.7745090576720383 Valid RMSE:0.807798874141764 Train MSE:0.624660854443766 Valid MSE:0.6727434945804579                 Train MAE:0.6141210922194411 Valid MAE:0.6388702018035425\n"
     ]
    }
   ],
   "source": [
    "learner.run_epochs(dltrain,dlvalid,5)"
   ]
  },
  {
   "cell_type": "code",
   "execution_count": 56,
   "metadata": {},
   "outputs": [
    {
     "name": "stderr",
     "output_type": "stream",
     "text": [
      "/home/kirana/anaconda3/lib/python3.7/site-packages/torch/serialization.py:256: UserWarning: Couldn't retrieve source code for container of type cf. It won't be checked for correctness upon loading.\n",
      "  \"type \" + obj.__name__ + \". It won't be checked \"\n",
      "/home/kirana/anaconda3/lib/python3.7/site-packages/torch/serialization.py:256: UserWarning: Couldn't retrieve source code for container of type cf. It won't be checked for correctness upon loading.\n",
      "  \"type \" + obj.__name__ + \". It won't be checked \"\n"
     ]
    }
   ],
   "source": [
    "torch.save(cfobj,f=f'{DATAPATH}/inter/cfobj_0.8')\n",
    "torch.save(learner,f=f'{DATAPATH}/inter/cfobj_learner_0.8')\n",
    "torch.save(optimizer,f=f'{DATAPATH}/inter/cfobj_optimizer_0.8')\n",
    "torch.save(cfobj.state_dict(),f'{DATAPATH}/inter/cfjobj_state_dict_0.8')\n",
    "torch.save(optimizer.state_dict(),f'{DATAPATH}/inter/optimizer_state_dict_0.8')"
   ]
  },
  {
   "cell_type": "code",
   "execution_count": 58,
   "metadata": {},
   "outputs": [],
   "source": [
    "optimizer=torch.optim.Adam(cfobj.parameters(),lr=5e-3,betas=(0.9,0.999), weight_decay=wd)\n",
    "learner=Learner(cfobj,optimizer,None,device,0,12000,0.25,cycle_mult=2,start_lr=4e-3,end_lr=4e-4)"
   ]
  },
  {
   "cell_type": "code",
   "execution_count": 59,
   "metadata": {},
   "outputs": [
    {
     "name": "stdout",
     "output_type": "stream",
     "text": [
      "Epoch:0 Learning rate 0.005 Weight Decay 1e-07 Train Loss:0.7688108392421692                 Valid Loss:0.8395103987374304 Train RMSE:0.8405049054506085 Valid RMSE:0.8878992191182866\n",
      "Epoch:1 Learning rate 0.001414213562373095 Weight Decay 1e-07 Train Loss:0.6852855704513303                 Valid Loss:0.7962183668636359 Train RMSE:0.7911723340280498 Valid RMSE:0.8582258179808255\n",
      "Epoch:2 Learning rate 0.00039999999999999996 Weight Decay 1e-07 Train Loss:0.6516777085516686                 Valid Loss:0.7923312564391546 Train RMSE:0.7698911785179042 Valid RMSE:0.8544569945339336\n",
      "Epoch:3 Learning rate 0.005 Weight Decay 1e-07 Train Loss:0.7115468788305521                 Valid Loss:0.8246223340867106 Train RMSE:0.8063665077801763 Valid RMSE:0.8733351202423749\n",
      "Epoch:4 Learning rate 0.0026591479484724947 Weight Decay 1e-07 Train Loss:0.6632848583522735                 Valid Loss:0.7916696204801669 Train RMSE:0.7773447559516666 Valid RMSE:0.8545958497828119\n",
      "Epoch:5 Learning rate 0.0014142135623730955 Weight Decay 1e-07 Train Loss:0.6279473303285544                 Valid Loss:0.7938732466853203 Train RMSE:0.7552258854914337 Valid RMSE:0.854679425374652\n",
      "Epoch:6 Learning rate 0.0007521206186172789 Weight Decay 1e-07 Train Loss:0.6043457506954859                 Valid Loss:0.7979197600748594 Train RMSE:0.7403563837153223 Valid RMSE:0.8596079336505277\n"
     ]
    }
   ],
   "source": [
    "learner.run_epochs(dltrain,dlvalid,7)"
   ]
  },
  {
   "cell_type": "code",
   "execution_count": 60,
   "metadata": {},
   "outputs": [
    {
     "name": "stderr",
     "output_type": "stream",
     "text": [
      "/home/kirana/anaconda3/lib/python3.7/site-packages/torch/serialization.py:256: UserWarning: Couldn't retrieve source code for container of type cf. It won't be checked for correctness upon loading.\n",
      "  \"type \" + obj.__name__ + \". It won't be checked \"\n",
      "/home/kirana/anaconda3/lib/python3.7/site-packages/torch/serialization.py:256: UserWarning: Couldn't retrieve source code for container of type cf. It won't be checked for correctness upon loading.\n",
      "  \"type \" + obj.__name__ + \". It won't be checked \"\n"
     ]
    }
   ],
   "source": [
    "torch.save(cfobj,f=f'{DATAPATH}/inter/cfobj_improve_0.8')\n",
    "torch.save(learner,f=f'{DATAPATH}/inter/cfobj_improve_learner_0.8')\n",
    "torch.save(optimizer,f=f'{DATAPATH}/inter/cfobj_improve_optimizer_0.8')\n",
    "torch.save(cfobj.state_dict(),f'{DATAPATH}/inter/cfjobj_improve_state_dict_0.8')\n",
    "torch.save(optimizer.state_dict(),f'{DATAPATH}/inter/optimizer_improve_state_dict_0.8')"
   ]
  },
  {
   "cell_type": "code",
   "execution_count": null,
   "metadata": {},
   "outputs": [],
   "source": []
  }
 ],
 "metadata": {
  "kernelspec": {
   "display_name": "Python 3",
   "language": "python",
   "name": "python3"
  },
  "language_info": {
   "codemirror_mode": {
    "name": "ipython",
    "version": 3
   },
   "file_extension": ".py",
   "mimetype": "text/x-python",
   "name": "python",
   "nbconvert_exporter": "python",
   "pygments_lexer": "ipython3",
   "version": "3.7.3"
  }
 },
 "nbformat": 4,
 "nbformat_minor": 2
}
