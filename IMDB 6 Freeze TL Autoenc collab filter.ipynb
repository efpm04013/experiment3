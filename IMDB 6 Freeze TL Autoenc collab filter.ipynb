{
 "cells": [
  {
   "cell_type": "code",
   "execution_count": 1,
   "metadata": {},
   "outputs": [],
   "source": [
    "PATH='/home/kirana/Documents/phd/exp3_autoencoder'\n",
    "DATAPATH='/home/kirana/Documents/final_dissertation_final/experiments/datasets/ml-latest-small'"
   ]
  },
  {
   "cell_type": "code",
   "execution_count": 2,
   "metadata": {},
   "outputs": [],
   "source": [
    "import pandas as pd\n",
    "import numpy as np\n",
    "import matplotlib.pyplot as plt\n",
    "import sklearn\n",
    "import os\n",
    "import pickle\n",
    "import torch\n",
    "from torch.utils.data import Dataset, DataLoader\n",
    "from torch import nn"
   ]
  },
  {
   "cell_type": "code",
   "execution_count": 3,
   "metadata": {},
   "outputs": [],
   "source": [
    "[df, df_train,df_valid,df,df_ratings,dfflagtrain,dfflagvalid,idx_to_user,\\\n",
    "             idx_to_movie,movie_to_idx,user_to_idx]=pickle.load(open(f'{DATAPATH}/reads.pkl','rb'))"
   ]
  },
  {
   "cell_type": "code",
   "execution_count": 4,
   "metadata": {},
   "outputs": [
    {
     "data": {
      "text/plain": [
       "(100836, 21)"
      ]
     },
     "execution_count": 4,
     "metadata": {},
     "output_type": "execute_result"
    }
   ],
   "source": [
    "df.shape"
   ]
  },
  {
   "cell_type": "code",
   "execution_count": 5,
   "metadata": {},
   "outputs": [
    {
     "data": {
      "text/html": [
       "<div>\n",
       "<style scoped>\n",
       "    .dataframe tbody tr th:only-of-type {\n",
       "        vertical-align: middle;\n",
       "    }\n",
       "\n",
       "    .dataframe tbody tr th {\n",
       "        vertical-align: top;\n",
       "    }\n",
       "\n",
       "    .dataframe thead th {\n",
       "        text-align: right;\n",
       "    }\n",
       "</style>\n",
       "<table border=\"1\" class=\"dataframe\">\n",
       "  <thead>\n",
       "    <tr style=\"text-align: right;\">\n",
       "      <th></th>\n",
       "      <th>userId</th>\n",
       "      <th>movieId</th>\n",
       "      <th>rating</th>\n",
       "      <th>timestamp</th>\n",
       "      <th>title</th>\n",
       "      <th>genres</th>\n",
       "      <th>imdbId</th>\n",
       "      <th>tmdbId</th>\n",
       "      <th>tag</th>\n",
       "      <th>random_dstype</th>\n",
       "      <th>...</th>\n",
       "      <th>maxSeqNum</th>\n",
       "      <th>time_dstype</th>\n",
       "      <th>user_idx</th>\n",
       "      <th>movie_idx</th>\n",
       "      <th>dstype_random_train</th>\n",
       "      <th>dstype_time_train</th>\n",
       "      <th>dstype_random_valid</th>\n",
       "      <th>dstype_time_valid</th>\n",
       "      <th>genre_idx</th>\n",
       "      <th>tag_idx</th>\n",
       "    </tr>\n",
       "  </thead>\n",
       "  <tbody>\n",
       "    <tr>\n",
       "      <th>0</th>\n",
       "      <td>1</td>\n",
       "      <td>1210</td>\n",
       "      <td>5.0</td>\n",
       "      <td>2000-07-30 18:08:19</td>\n",
       "      <td>Star Wars: Episode VI - Return of the Jedi (1983)</td>\n",
       "      <td>Action|Adventure|Sci-Fi</td>\n",
       "      <td>86190</td>\n",
       "      <td>1892.0</td>\n",
       "      <td>NaN</td>\n",
       "      <td>train</td>\n",
       "      <td>...</td>\n",
       "      <td>232</td>\n",
       "      <td>train</td>\n",
       "      <td>1</td>\n",
       "      <td>1</td>\n",
       "      <td>1</td>\n",
       "      <td>1</td>\n",
       "      <td>0</td>\n",
       "      <td>0</td>\n",
       "      <td>1</td>\n",
       "      <td>1</td>\n",
       "    </tr>\n",
       "    <tr>\n",
       "      <th>1</th>\n",
       "      <td>1</td>\n",
       "      <td>804</td>\n",
       "      <td>4.0</td>\n",
       "      <td>2000-07-30 18:08:19</td>\n",
       "      <td>She's the One (1996)</td>\n",
       "      <td>Comedy|Romance</td>\n",
       "      <td>117628</td>\n",
       "      <td>11363.0</td>\n",
       "      <td>NaN</td>\n",
       "      <td>train</td>\n",
       "      <td>...</td>\n",
       "      <td>232</td>\n",
       "      <td>train</td>\n",
       "      <td>1</td>\n",
       "      <td>2</td>\n",
       "      <td>1</td>\n",
       "      <td>1</td>\n",
       "      <td>0</td>\n",
       "      <td>0</td>\n",
       "      <td>2</td>\n",
       "      <td>1</td>\n",
       "    </tr>\n",
       "    <tr>\n",
       "      <th>2</th>\n",
       "      <td>1</td>\n",
       "      <td>2628</td>\n",
       "      <td>4.0</td>\n",
       "      <td>2000-07-30 18:08:43</td>\n",
       "      <td>Star Wars: Episode I - The Phantom Menace (1999)</td>\n",
       "      <td>Action|Adventure|Sci-Fi</td>\n",
       "      <td>120915</td>\n",
       "      <td>1893.0</td>\n",
       "      <td>NaN</td>\n",
       "      <td>train</td>\n",
       "      <td>...</td>\n",
       "      <td>232</td>\n",
       "      <td>train</td>\n",
       "      <td>1</td>\n",
       "      <td>3</td>\n",
       "      <td>1</td>\n",
       "      <td>1</td>\n",
       "      <td>0</td>\n",
       "      <td>0</td>\n",
       "      <td>1</td>\n",
       "      <td>1</td>\n",
       "    </tr>\n",
       "    <tr>\n",
       "      <th>3</th>\n",
       "      <td>1</td>\n",
       "      <td>2826</td>\n",
       "      <td>4.0</td>\n",
       "      <td>2000-07-30 18:08:43</td>\n",
       "      <td>13th Warrior, The (1999)</td>\n",
       "      <td>Action|Adventure|Fantasy</td>\n",
       "      <td>120657</td>\n",
       "      <td>1911.0</td>\n",
       "      <td>NaN</td>\n",
       "      <td>train</td>\n",
       "      <td>...</td>\n",
       "      <td>232</td>\n",
       "      <td>train</td>\n",
       "      <td>1</td>\n",
       "      <td>4</td>\n",
       "      <td>1</td>\n",
       "      <td>1</td>\n",
       "      <td>0</td>\n",
       "      <td>0</td>\n",
       "      <td>3</td>\n",
       "      <td>1</td>\n",
       "    </tr>\n",
       "    <tr>\n",
       "      <th>4</th>\n",
       "      <td>1</td>\n",
       "      <td>2018</td>\n",
       "      <td>5.0</td>\n",
       "      <td>2000-07-30 18:08:43</td>\n",
       "      <td>Bambi (1942)</td>\n",
       "      <td>Animation|Children|Drama</td>\n",
       "      <td>34492</td>\n",
       "      <td>3170.0</td>\n",
       "      <td>NaN</td>\n",
       "      <td>test</td>\n",
       "      <td>...</td>\n",
       "      <td>232</td>\n",
       "      <td>train</td>\n",
       "      <td>1</td>\n",
       "      <td>5</td>\n",
       "      <td>0</td>\n",
       "      <td>1</td>\n",
       "      <td>1</td>\n",
       "      <td>0</td>\n",
       "      <td>4</td>\n",
       "      <td>1</td>\n",
       "    </tr>\n",
       "  </tbody>\n",
       "</table>\n",
       "<p>5 rows × 21 columns</p>\n",
       "</div>"
      ],
      "text/plain": [
       "   userId  movieId  rating           timestamp  \\\n",
       "0       1     1210     5.0 2000-07-30 18:08:19   \n",
       "1       1      804     4.0 2000-07-30 18:08:19   \n",
       "2       1     2628     4.0 2000-07-30 18:08:43   \n",
       "3       1     2826     4.0 2000-07-30 18:08:43   \n",
       "4       1     2018     5.0 2000-07-30 18:08:43   \n",
       "\n",
       "                                               title  \\\n",
       "0  Star Wars: Episode VI - Return of the Jedi (1983)   \n",
       "1                               She's the One (1996)   \n",
       "2   Star Wars: Episode I - The Phantom Menace (1999)   \n",
       "3                           13th Warrior, The (1999)   \n",
       "4                                       Bambi (1942)   \n",
       "\n",
       "                     genres  imdbId   tmdbId  tag random_dstype  ...  \\\n",
       "0   Action|Adventure|Sci-Fi   86190   1892.0  NaN         train  ...   \n",
       "1            Comedy|Romance  117628  11363.0  NaN         train  ...   \n",
       "2   Action|Adventure|Sci-Fi  120915   1893.0  NaN         train  ...   \n",
       "3  Action|Adventure|Fantasy  120657   1911.0  NaN         train  ...   \n",
       "4  Animation|Children|Drama   34492   3170.0  NaN          test  ...   \n",
       "\n",
       "   maxSeqNum  time_dstype user_idx  movie_idx  dstype_random_train  \\\n",
       "0        232        train        1          1                    1   \n",
       "1        232        train        1          2                    1   \n",
       "2        232        train        1          3                    1   \n",
       "3        232        train        1          4                    1   \n",
       "4        232        train        1          5                    0   \n",
       "\n",
       "   dstype_time_train  dstype_random_valid  dstype_time_valid  genre_idx  \\\n",
       "0                  1                    0                  0          1   \n",
       "1                  1                    0                  0          2   \n",
       "2                  1                    0                  0          1   \n",
       "3                  1                    0                  0          3   \n",
       "4                  1                    1                  0          4   \n",
       "\n",
       "   tag_idx  \n",
       "0        1  \n",
       "1        1  \n",
       "2        1  \n",
       "3        1  \n",
       "4        1  \n",
       "\n",
       "[5 rows x 21 columns]"
      ]
     },
     "execution_count": 5,
     "metadata": {},
     "output_type": "execute_result"
    }
   ],
   "source": [
    "df.head()"
   ]
  },
  {
   "cell_type": "code",
   "execution_count": 6,
   "metadata": {},
   "outputs": [],
   "source": [
    "df_train=df.loc[df['random_dstype']=='train']\n",
    "df_valid=df.loc[df['random_dstype']!='train']"
   ]
  },
  {
   "cell_type": "code",
   "execution_count": 7,
   "metadata": {},
   "outputs": [
    {
     "data": {
      "text/html": [
       "<div>\n",
       "<style scoped>\n",
       "    .dataframe tbody tr th:only-of-type {\n",
       "        vertical-align: middle;\n",
       "    }\n",
       "\n",
       "    .dataframe tbody tr th {\n",
       "        vertical-align: top;\n",
       "    }\n",
       "\n",
       "    .dataframe thead th {\n",
       "        text-align: right;\n",
       "    }\n",
       "</style>\n",
       "<table border=\"1\" class=\"dataframe\">\n",
       "  <thead>\n",
       "    <tr style=\"text-align: right;\">\n",
       "      <th></th>\n",
       "      <th>userId</th>\n",
       "      <th>movieId</th>\n",
       "      <th>rating</th>\n",
       "      <th>timestamp</th>\n",
       "      <th>title</th>\n",
       "      <th>genres</th>\n",
       "      <th>imdbId</th>\n",
       "      <th>tmdbId</th>\n",
       "      <th>tag</th>\n",
       "      <th>random_dstype</th>\n",
       "      <th>...</th>\n",
       "      <th>maxSeqNum</th>\n",
       "      <th>time_dstype</th>\n",
       "      <th>user_idx</th>\n",
       "      <th>movie_idx</th>\n",
       "      <th>dstype_random_train</th>\n",
       "      <th>dstype_time_train</th>\n",
       "      <th>dstype_random_valid</th>\n",
       "      <th>dstype_time_valid</th>\n",
       "      <th>genre_idx</th>\n",
       "      <th>tag_idx</th>\n",
       "    </tr>\n",
       "  </thead>\n",
       "  <tbody>\n",
       "    <tr>\n",
       "      <th>0</th>\n",
       "      <td>1</td>\n",
       "      <td>1210</td>\n",
       "      <td>5.0</td>\n",
       "      <td>2000-07-30 18:08:19</td>\n",
       "      <td>Star Wars: Episode VI - Return of the Jedi (1983)</td>\n",
       "      <td>Action|Adventure|Sci-Fi</td>\n",
       "      <td>86190</td>\n",
       "      <td>1892.0</td>\n",
       "      <td>NaN</td>\n",
       "      <td>train</td>\n",
       "      <td>...</td>\n",
       "      <td>232</td>\n",
       "      <td>train</td>\n",
       "      <td>1</td>\n",
       "      <td>1</td>\n",
       "      <td>1</td>\n",
       "      <td>1</td>\n",
       "      <td>0</td>\n",
       "      <td>0</td>\n",
       "      <td>1</td>\n",
       "      <td>1</td>\n",
       "    </tr>\n",
       "    <tr>\n",
       "      <th>1</th>\n",
       "      <td>1</td>\n",
       "      <td>804</td>\n",
       "      <td>4.0</td>\n",
       "      <td>2000-07-30 18:08:19</td>\n",
       "      <td>She's the One (1996)</td>\n",
       "      <td>Comedy|Romance</td>\n",
       "      <td>117628</td>\n",
       "      <td>11363.0</td>\n",
       "      <td>NaN</td>\n",
       "      <td>train</td>\n",
       "      <td>...</td>\n",
       "      <td>232</td>\n",
       "      <td>train</td>\n",
       "      <td>1</td>\n",
       "      <td>2</td>\n",
       "      <td>1</td>\n",
       "      <td>1</td>\n",
       "      <td>0</td>\n",
       "      <td>0</td>\n",
       "      <td>2</td>\n",
       "      <td>1</td>\n",
       "    </tr>\n",
       "    <tr>\n",
       "      <th>2</th>\n",
       "      <td>1</td>\n",
       "      <td>2628</td>\n",
       "      <td>4.0</td>\n",
       "      <td>2000-07-30 18:08:43</td>\n",
       "      <td>Star Wars: Episode I - The Phantom Menace (1999)</td>\n",
       "      <td>Action|Adventure|Sci-Fi</td>\n",
       "      <td>120915</td>\n",
       "      <td>1893.0</td>\n",
       "      <td>NaN</td>\n",
       "      <td>train</td>\n",
       "      <td>...</td>\n",
       "      <td>232</td>\n",
       "      <td>train</td>\n",
       "      <td>1</td>\n",
       "      <td>3</td>\n",
       "      <td>1</td>\n",
       "      <td>1</td>\n",
       "      <td>0</td>\n",
       "      <td>0</td>\n",
       "      <td>1</td>\n",
       "      <td>1</td>\n",
       "    </tr>\n",
       "    <tr>\n",
       "      <th>3</th>\n",
       "      <td>1</td>\n",
       "      <td>2826</td>\n",
       "      <td>4.0</td>\n",
       "      <td>2000-07-30 18:08:43</td>\n",
       "      <td>13th Warrior, The (1999)</td>\n",
       "      <td>Action|Adventure|Fantasy</td>\n",
       "      <td>120657</td>\n",
       "      <td>1911.0</td>\n",
       "      <td>NaN</td>\n",
       "      <td>train</td>\n",
       "      <td>...</td>\n",
       "      <td>232</td>\n",
       "      <td>train</td>\n",
       "      <td>1</td>\n",
       "      <td>4</td>\n",
       "      <td>1</td>\n",
       "      <td>1</td>\n",
       "      <td>0</td>\n",
       "      <td>0</td>\n",
       "      <td>3</td>\n",
       "      <td>1</td>\n",
       "    </tr>\n",
       "    <tr>\n",
       "      <th>5</th>\n",
       "      <td>1</td>\n",
       "      <td>3578</td>\n",
       "      <td>5.0</td>\n",
       "      <td>2000-07-30 18:11:08</td>\n",
       "      <td>Gladiator (2000)</td>\n",
       "      <td>Action|Adventure|Drama</td>\n",
       "      <td>172495</td>\n",
       "      <td>98.0</td>\n",
       "      <td>NaN</td>\n",
       "      <td>train</td>\n",
       "      <td>...</td>\n",
       "      <td>232</td>\n",
       "      <td>train</td>\n",
       "      <td>1</td>\n",
       "      <td>6</td>\n",
       "      <td>1</td>\n",
       "      <td>1</td>\n",
       "      <td>0</td>\n",
       "      <td>0</td>\n",
       "      <td>5</td>\n",
       "      <td>1</td>\n",
       "    </tr>\n",
       "  </tbody>\n",
       "</table>\n",
       "<p>5 rows × 21 columns</p>\n",
       "</div>"
      ],
      "text/plain": [
       "   userId  movieId  rating           timestamp  \\\n",
       "0       1     1210     5.0 2000-07-30 18:08:19   \n",
       "1       1      804     4.0 2000-07-30 18:08:19   \n",
       "2       1     2628     4.0 2000-07-30 18:08:43   \n",
       "3       1     2826     4.0 2000-07-30 18:08:43   \n",
       "5       1     3578     5.0 2000-07-30 18:11:08   \n",
       "\n",
       "                                               title  \\\n",
       "0  Star Wars: Episode VI - Return of the Jedi (1983)   \n",
       "1                               She's the One (1996)   \n",
       "2   Star Wars: Episode I - The Phantom Menace (1999)   \n",
       "3                           13th Warrior, The (1999)   \n",
       "5                                   Gladiator (2000)   \n",
       "\n",
       "                     genres  imdbId   tmdbId  tag random_dstype  ...  \\\n",
       "0   Action|Adventure|Sci-Fi   86190   1892.0  NaN         train  ...   \n",
       "1            Comedy|Romance  117628  11363.0  NaN         train  ...   \n",
       "2   Action|Adventure|Sci-Fi  120915   1893.0  NaN         train  ...   \n",
       "3  Action|Adventure|Fantasy  120657   1911.0  NaN         train  ...   \n",
       "5    Action|Adventure|Drama  172495     98.0  NaN         train  ...   \n",
       "\n",
       "   maxSeqNum  time_dstype user_idx  movie_idx  dstype_random_train  \\\n",
       "0        232        train        1          1                    1   \n",
       "1        232        train        1          2                    1   \n",
       "2        232        train        1          3                    1   \n",
       "3        232        train        1          4                    1   \n",
       "5        232        train        1          6                    1   \n",
       "\n",
       "   dstype_time_train  dstype_random_valid  dstype_time_valid  genre_idx  \\\n",
       "0                  1                    0                  0          1   \n",
       "1                  1                    0                  0          2   \n",
       "2                  1                    0                  0          1   \n",
       "3                  1                    0                  0          3   \n",
       "5                  1                    0                  0          5   \n",
       "\n",
       "   tag_idx  \n",
       "0        1  \n",
       "1        1  \n",
       "2        1  \n",
       "3        1  \n",
       "5        1  \n",
       "\n",
       "[5 rows x 21 columns]"
      ]
     },
     "execution_count": 7,
     "metadata": {},
     "output_type": "execute_result"
    }
   ],
   "source": [
    "df_train.head()"
   ]
  },
  {
   "cell_type": "markdown",
   "metadata": {},
   "source": [
    "### Add the autoencoder features"
   ]
  },
  {
   "cell_type": "code",
   "execution_count": 8,
   "metadata": {},
   "outputs": [],
   "source": [
    "import pickle"
   ]
  },
  {
   "cell_type": "code",
   "execution_count": 9,
   "metadata": {},
   "outputs": [],
   "source": [
    "[df_train_user_autoenc,df_valid_user_autoenc,user_mtx_1_weights,user_mtx_2_weights]=\\\n",
    "    pickle.load(open(f'{DATAPATH}/inter/user_autoenc_weights.pkl','rb'))"
   ]
  },
  {
   "cell_type": "code",
   "execution_count": 10,
   "metadata": {},
   "outputs": [],
   "source": [
    "[df_train_item_autoenc, df_valid_item_autoenc,item_mtx_1_weights,item_mtx_2_weights]=\\\n",
    "    pickle.load(open(f'{DATAPATH}/inter/item_autoenc_weights.pkl','rb'))"
   ]
  },
  {
   "cell_type": "code",
   "execution_count": 11,
   "metadata": {},
   "outputs": [
    {
     "data": {
      "text/plain": [
       "((610, 4),\n",
       " pandas.core.frame.DataFrame,\n",
       "    userId  user_autoenc0  user_autoenc1  user_autoenc2\n",
       " 0       1      -0.479369       0.641243       1.155024\n",
       " 1       2       0.654193       2.906792      -2.338487\n",
       " 2       3      -1.727728       1.539072       2.343679\n",
       " 3       4      -0.361162      -0.812232       0.772347\n",
       " 4       5      -0.564455      -0.322158       1.608243)"
      ]
     },
     "execution_count": 11,
     "metadata": {},
     "output_type": "execute_result"
    }
   ],
   "source": [
    "df_train_user_autoenc.shape, type(df_train_user_autoenc),df_train_user_autoenc.head()"
   ]
  },
  {
   "cell_type": "code",
   "execution_count": 12,
   "metadata": {},
   "outputs": [
    {
     "data": {
      "text/plain": [
       "((9724, 11),\n",
       " pandas.core.frame.DataFrame,\n",
       "    movieId  item_autoenc0  item_autoenc1  item_autoenc2  item_autoenc3  \\\n",
       " 0        1       6.827414      -5.010858     -14.244909      -6.124948   \n",
       " 1        2     -22.056328      -3.937419     -10.244719      -7.376902   \n",
       " 2        3     -23.581443      -4.855818      -9.132980      -7.604265   \n",
       " 3        4     -16.496840      -3.710789      -8.657591      -5.454689   \n",
       " 4        5     -30.099342      -4.454163      -8.632300      -7.230441   \n",
       " \n",
       "    item_autoenc4  item_autoenc5  item_autoenc6  item_autoenc7  item_autoenc8  \\\n",
       " 0      -7.750169      -9.440641     -12.444607      -9.455640       9.730766   \n",
       " 1      -8.613933      -7.666921      -9.932867       6.505567       6.030026   \n",
       " 2     -10.740304      -7.919054     -11.727813       8.207041       8.586024   \n",
       " 3      -8.051945      -6.644208      -7.937984       6.020888       7.733612   \n",
       " 4     -11.383443      -6.582665     -10.532912      12.771882       8.376647   \n",
       " \n",
       "    item_autoenc9  \n",
       " 0      -4.010462  \n",
       " 1      -2.760443  \n",
       " 2      -3.432139  \n",
       " 3      -3.228401  \n",
       " 4      -3.164273  )"
      ]
     },
     "execution_count": 12,
     "metadata": {},
     "output_type": "execute_result"
    }
   ],
   "source": [
    "df_train_item_autoenc.shape, type(df_train_item_autoenc),df_train_item_autoenc.head()"
   ]
  },
  {
   "cell_type": "code",
   "execution_count": 13,
   "metadata": {},
   "outputs": [
    {
     "data": {
      "text/plain": [
       "(90752, 21)"
      ]
     },
     "execution_count": 13,
     "metadata": {},
     "output_type": "execute_result"
    }
   ],
   "source": [
    "df_train.shape"
   ]
  },
  {
   "cell_type": "code",
   "execution_count": 14,
   "metadata": {},
   "outputs": [
    {
     "data": {
      "text/html": [
       "<div>\n",
       "<style scoped>\n",
       "    .dataframe tbody tr th:only-of-type {\n",
       "        vertical-align: middle;\n",
       "    }\n",
       "\n",
       "    .dataframe tbody tr th {\n",
       "        vertical-align: top;\n",
       "    }\n",
       "\n",
       "    .dataframe thead th {\n",
       "        text-align: right;\n",
       "    }\n",
       "</style>\n",
       "<table border=\"1\" class=\"dataframe\">\n",
       "  <thead>\n",
       "    <tr style=\"text-align: right;\">\n",
       "      <th></th>\n",
       "      <th>userId</th>\n",
       "      <th>movieId</th>\n",
       "      <th>rating</th>\n",
       "      <th>timestamp</th>\n",
       "      <th>title</th>\n",
       "      <th>genres</th>\n",
       "      <th>imdbId</th>\n",
       "      <th>tmdbId</th>\n",
       "      <th>tag</th>\n",
       "      <th>random_dstype</th>\n",
       "      <th>...</th>\n",
       "      <th>maxSeqNum</th>\n",
       "      <th>time_dstype</th>\n",
       "      <th>user_idx</th>\n",
       "      <th>movie_idx</th>\n",
       "      <th>dstype_random_train</th>\n",
       "      <th>dstype_time_train</th>\n",
       "      <th>dstype_random_valid</th>\n",
       "      <th>dstype_time_valid</th>\n",
       "      <th>genre_idx</th>\n",
       "      <th>tag_idx</th>\n",
       "    </tr>\n",
       "  </thead>\n",
       "  <tbody>\n",
       "    <tr>\n",
       "      <th>0</th>\n",
       "      <td>1</td>\n",
       "      <td>1210</td>\n",
       "      <td>5.0</td>\n",
       "      <td>2000-07-30 18:08:19</td>\n",
       "      <td>Star Wars: Episode VI - Return of the Jedi (1983)</td>\n",
       "      <td>Action|Adventure|Sci-Fi</td>\n",
       "      <td>86190</td>\n",
       "      <td>1892.0</td>\n",
       "      <td>NaN</td>\n",
       "      <td>train</td>\n",
       "      <td>...</td>\n",
       "      <td>232</td>\n",
       "      <td>train</td>\n",
       "      <td>1</td>\n",
       "      <td>1</td>\n",
       "      <td>1</td>\n",
       "      <td>1</td>\n",
       "      <td>0</td>\n",
       "      <td>0</td>\n",
       "      <td>1</td>\n",
       "      <td>1</td>\n",
       "    </tr>\n",
       "    <tr>\n",
       "      <th>1</th>\n",
       "      <td>1</td>\n",
       "      <td>804</td>\n",
       "      <td>4.0</td>\n",
       "      <td>2000-07-30 18:08:19</td>\n",
       "      <td>She's the One (1996)</td>\n",
       "      <td>Comedy|Romance</td>\n",
       "      <td>117628</td>\n",
       "      <td>11363.0</td>\n",
       "      <td>NaN</td>\n",
       "      <td>train</td>\n",
       "      <td>...</td>\n",
       "      <td>232</td>\n",
       "      <td>train</td>\n",
       "      <td>1</td>\n",
       "      <td>2</td>\n",
       "      <td>1</td>\n",
       "      <td>1</td>\n",
       "      <td>0</td>\n",
       "      <td>0</td>\n",
       "      <td>2</td>\n",
       "      <td>1</td>\n",
       "    </tr>\n",
       "    <tr>\n",
       "      <th>2</th>\n",
       "      <td>1</td>\n",
       "      <td>2628</td>\n",
       "      <td>4.0</td>\n",
       "      <td>2000-07-30 18:08:43</td>\n",
       "      <td>Star Wars: Episode I - The Phantom Menace (1999)</td>\n",
       "      <td>Action|Adventure|Sci-Fi</td>\n",
       "      <td>120915</td>\n",
       "      <td>1893.0</td>\n",
       "      <td>NaN</td>\n",
       "      <td>train</td>\n",
       "      <td>...</td>\n",
       "      <td>232</td>\n",
       "      <td>train</td>\n",
       "      <td>1</td>\n",
       "      <td>3</td>\n",
       "      <td>1</td>\n",
       "      <td>1</td>\n",
       "      <td>0</td>\n",
       "      <td>0</td>\n",
       "      <td>1</td>\n",
       "      <td>1</td>\n",
       "    </tr>\n",
       "    <tr>\n",
       "      <th>3</th>\n",
       "      <td>1</td>\n",
       "      <td>2826</td>\n",
       "      <td>4.0</td>\n",
       "      <td>2000-07-30 18:08:43</td>\n",
       "      <td>13th Warrior, The (1999)</td>\n",
       "      <td>Action|Adventure|Fantasy</td>\n",
       "      <td>120657</td>\n",
       "      <td>1911.0</td>\n",
       "      <td>NaN</td>\n",
       "      <td>train</td>\n",
       "      <td>...</td>\n",
       "      <td>232</td>\n",
       "      <td>train</td>\n",
       "      <td>1</td>\n",
       "      <td>4</td>\n",
       "      <td>1</td>\n",
       "      <td>1</td>\n",
       "      <td>0</td>\n",
       "      <td>0</td>\n",
       "      <td>3</td>\n",
       "      <td>1</td>\n",
       "    </tr>\n",
       "    <tr>\n",
       "      <th>5</th>\n",
       "      <td>1</td>\n",
       "      <td>3578</td>\n",
       "      <td>5.0</td>\n",
       "      <td>2000-07-30 18:11:08</td>\n",
       "      <td>Gladiator (2000)</td>\n",
       "      <td>Action|Adventure|Drama</td>\n",
       "      <td>172495</td>\n",
       "      <td>98.0</td>\n",
       "      <td>NaN</td>\n",
       "      <td>train</td>\n",
       "      <td>...</td>\n",
       "      <td>232</td>\n",
       "      <td>train</td>\n",
       "      <td>1</td>\n",
       "      <td>6</td>\n",
       "      <td>1</td>\n",
       "      <td>1</td>\n",
       "      <td>0</td>\n",
       "      <td>0</td>\n",
       "      <td>5</td>\n",
       "      <td>1</td>\n",
       "    </tr>\n",
       "  </tbody>\n",
       "</table>\n",
       "<p>5 rows × 21 columns</p>\n",
       "</div>"
      ],
      "text/plain": [
       "   userId  movieId  rating           timestamp  \\\n",
       "0       1     1210     5.0 2000-07-30 18:08:19   \n",
       "1       1      804     4.0 2000-07-30 18:08:19   \n",
       "2       1     2628     4.0 2000-07-30 18:08:43   \n",
       "3       1     2826     4.0 2000-07-30 18:08:43   \n",
       "5       1     3578     5.0 2000-07-30 18:11:08   \n",
       "\n",
       "                                               title  \\\n",
       "0  Star Wars: Episode VI - Return of the Jedi (1983)   \n",
       "1                               She's the One (1996)   \n",
       "2   Star Wars: Episode I - The Phantom Menace (1999)   \n",
       "3                           13th Warrior, The (1999)   \n",
       "5                                   Gladiator (2000)   \n",
       "\n",
       "                     genres  imdbId   tmdbId  tag random_dstype  ...  \\\n",
       "0   Action|Adventure|Sci-Fi   86190   1892.0  NaN         train  ...   \n",
       "1            Comedy|Romance  117628  11363.0  NaN         train  ...   \n",
       "2   Action|Adventure|Sci-Fi  120915   1893.0  NaN         train  ...   \n",
       "3  Action|Adventure|Fantasy  120657   1911.0  NaN         train  ...   \n",
       "5    Action|Adventure|Drama  172495     98.0  NaN         train  ...   \n",
       "\n",
       "   maxSeqNum  time_dstype user_idx  movie_idx  dstype_random_train  \\\n",
       "0        232        train        1          1                    1   \n",
       "1        232        train        1          2                    1   \n",
       "2        232        train        1          3                    1   \n",
       "3        232        train        1          4                    1   \n",
       "5        232        train        1          6                    1   \n",
       "\n",
       "   dstype_time_train  dstype_random_valid  dstype_time_valid  genre_idx  \\\n",
       "0                  1                    0                  0          1   \n",
       "1                  1                    0                  0          2   \n",
       "2                  1                    0                  0          1   \n",
       "3                  1                    0                  0          3   \n",
       "5                  1                    0                  0          5   \n",
       "\n",
       "   tag_idx  \n",
       "0        1  \n",
       "1        1  \n",
       "2        1  \n",
       "3        1  \n",
       "5        1  \n",
       "\n",
       "[5 rows x 21 columns]"
      ]
     },
     "execution_count": 14,
     "metadata": {},
     "output_type": "execute_result"
    }
   ],
   "source": [
    "df_train.head()"
   ]
  },
  {
   "cell_type": "code",
   "execution_count": 15,
   "metadata": {},
   "outputs": [],
   "source": [
    "df_train=pd.merge(df_train,df_train_item_autoenc,on='movieId',how='left')"
   ]
  },
  {
   "cell_type": "code",
   "execution_count": 16,
   "metadata": {},
   "outputs": [
    {
     "data": {
      "text/plain": [
       "(90752, 31)"
      ]
     },
     "execution_count": 16,
     "metadata": {},
     "output_type": "execute_result"
    }
   ],
   "source": [
    "df_train.shape"
   ]
  },
  {
   "cell_type": "code",
   "execution_count": 17,
   "metadata": {},
   "outputs": [
    {
     "name": "stdout",
     "output_type": "stream",
     "text": [
      "(10084, 21)\n"
     ]
    },
    {
     "data": {
      "text/plain": [
       "(10084, 31)"
      ]
     },
     "execution_count": 17,
     "metadata": {},
     "output_type": "execute_result"
    }
   ],
   "source": [
    "print(df_valid.shape)\n",
    "df_valid=pd.merge(df_valid,df_valid_item_autoenc,on='movieId',how='left')\n",
    "df_valid.shape"
   ]
  },
  {
   "cell_type": "code",
   "execution_count": 18,
   "metadata": {},
   "outputs": [
    {
     "data": {
      "text/plain": [
       "(10084, 31)"
      ]
     },
     "execution_count": 18,
     "metadata": {},
     "output_type": "execute_result"
    }
   ],
   "source": [
    "df_valid.shape"
   ]
  },
  {
   "cell_type": "code",
   "execution_count": 19,
   "metadata": {},
   "outputs": [
    {
     "name": "stdout",
     "output_type": "stream",
     "text": [
      "(10084, 31)\n"
     ]
    },
    {
     "data": {
      "text/plain": [
       "(10084, 34)"
      ]
     },
     "execution_count": 19,
     "metadata": {},
     "output_type": "execute_result"
    }
   ],
   "source": [
    "print(df_valid.shape)\n",
    "df_valid=pd.merge(df_valid,df_valid_user_autoenc,on='userId',how='left')\n",
    "df_valid.shape"
   ]
  },
  {
   "cell_type": "code",
   "execution_count": 20,
   "metadata": {},
   "outputs": [
    {
     "name": "stdout",
     "output_type": "stream",
     "text": [
      "(90752, 31)\n"
     ]
    },
    {
     "data": {
      "text/plain": [
       "(90752, 34)"
      ]
     },
     "execution_count": 20,
     "metadata": {},
     "output_type": "execute_result"
    }
   ],
   "source": [
    "print(df_train.shape)\n",
    "df_train=pd.merge(df_train,df_train_user_autoenc,on='userId',how='left')\n",
    "df_train.shape"
   ]
  },
  {
   "cell_type": "code",
   "execution_count": 21,
   "metadata": {},
   "outputs": [
    {
     "data": {
      "text/plain": [
       "Index(['userId', 'movieId', 'rating', 'timestamp', 'title', 'genres', 'imdbId',\n",
       "       'tmdbId', 'tag', 'random_dstype', 'seqNum', 'maxSeqNum', 'time_dstype',\n",
       "       'user_idx', 'movie_idx', 'dstype_random_train', 'dstype_time_train',\n",
       "       'dstype_random_valid', 'dstype_time_valid', 'genre_idx', 'tag_idx',\n",
       "       'item_autoenc0', 'item_autoenc1', 'item_autoenc2', 'item_autoenc3',\n",
       "       'item_autoenc4', 'item_autoenc5', 'item_autoenc6', 'item_autoenc7',\n",
       "       'item_autoenc8', 'item_autoenc9', 'user_autoenc0', 'user_autoenc1',\n",
       "       'user_autoenc2'],\n",
       "      dtype='object')"
      ]
     },
     "execution_count": 21,
     "metadata": {},
     "output_type": "execute_result"
    }
   ],
   "source": [
    "df_train.columns"
   ]
  },
  {
   "cell_type": "code",
   "execution_count": 22,
   "metadata": {},
   "outputs": [],
   "source": [
    "autoenc_cols=df_train.columns[df_train.columns.str.contains('autoenc')]"
   ]
  },
  {
   "cell_type": "code",
   "execution_count": 23,
   "metadata": {},
   "outputs": [],
   "source": [
    "autoenc_cols=autoenc_cols.tolist()"
   ]
  },
  {
   "cell_type": "code",
   "execution_count": 24,
   "metadata": {},
   "outputs": [
    {
     "data": {
      "text/plain": [
       "['item_autoenc0',\n",
       " 'item_autoenc1',\n",
       " 'item_autoenc2',\n",
       " 'item_autoenc3',\n",
       " 'item_autoenc4',\n",
       " 'item_autoenc5',\n",
       " 'item_autoenc6',\n",
       " 'item_autoenc7',\n",
       " 'item_autoenc8',\n",
       " 'item_autoenc9',\n",
       " 'user_autoenc0',\n",
       " 'user_autoenc1',\n",
       " 'user_autoenc2']"
      ]
     },
     "execution_count": 24,
     "metadata": {},
     "output_type": "execute_result"
    }
   ],
   "source": [
    "autoenc_cols"
   ]
  },
  {
   "cell_type": "code",
   "execution_count": 25,
   "metadata": {},
   "outputs": [
    {
     "data": {
      "text/html": [
       "<div>\n",
       "<style scoped>\n",
       "    .dataframe tbody tr th:only-of-type {\n",
       "        vertical-align: middle;\n",
       "    }\n",
       "\n",
       "    .dataframe tbody tr th {\n",
       "        vertical-align: top;\n",
       "    }\n",
       "\n",
       "    .dataframe thead th {\n",
       "        text-align: right;\n",
       "    }\n",
       "</style>\n",
       "<table border=\"1\" class=\"dataframe\">\n",
       "  <thead>\n",
       "    <tr style=\"text-align: right;\">\n",
       "      <th></th>\n",
       "      <th>userId</th>\n",
       "      <th>movieId</th>\n",
       "      <th>rating</th>\n",
       "      <th>timestamp</th>\n",
       "      <th>title</th>\n",
       "      <th>genres</th>\n",
       "      <th>imdbId</th>\n",
       "      <th>tmdbId</th>\n",
       "      <th>tag</th>\n",
       "      <th>random_dstype</th>\n",
       "      <th>...</th>\n",
       "      <th>item_autoenc3</th>\n",
       "      <th>item_autoenc4</th>\n",
       "      <th>item_autoenc5</th>\n",
       "      <th>item_autoenc6</th>\n",
       "      <th>item_autoenc7</th>\n",
       "      <th>item_autoenc8</th>\n",
       "      <th>item_autoenc9</th>\n",
       "      <th>user_autoenc0</th>\n",
       "      <th>user_autoenc1</th>\n",
       "      <th>user_autoenc2</th>\n",
       "    </tr>\n",
       "  </thead>\n",
       "  <tbody>\n",
       "    <tr>\n",
       "      <th>0</th>\n",
       "      <td>1</td>\n",
       "      <td>1210</td>\n",
       "      <td>5.0</td>\n",
       "      <td>2000-07-30 18:08:19</td>\n",
       "      <td>Star Wars: Episode VI - Return of the Jedi (1983)</td>\n",
       "      <td>Action|Adventure|Sci-Fi</td>\n",
       "      <td>86190</td>\n",
       "      <td>1892.0</td>\n",
       "      <td>NaN</td>\n",
       "      <td>train</td>\n",
       "      <td>...</td>\n",
       "      <td>-7.057482</td>\n",
       "      <td>-9.234890</td>\n",
       "      <td>-9.615451</td>\n",
       "      <td>-14.320933</td>\n",
       "      <td>-9.288592</td>\n",
       "      <td>10.750225</td>\n",
       "      <td>-4.296187</td>\n",
       "      <td>-0.479369</td>\n",
       "      <td>0.641243</td>\n",
       "      <td>1.155024</td>\n",
       "    </tr>\n",
       "    <tr>\n",
       "      <th>1</th>\n",
       "      <td>1</td>\n",
       "      <td>804</td>\n",
       "      <td>4.0</td>\n",
       "      <td>2000-07-30 18:08:19</td>\n",
       "      <td>She's the One (1996)</td>\n",
       "      <td>Comedy|Romance</td>\n",
       "      <td>117628</td>\n",
       "      <td>11363.0</td>\n",
       "      <td>NaN</td>\n",
       "      <td>train</td>\n",
       "      <td>...</td>\n",
       "      <td>-5.507547</td>\n",
       "      <td>-9.562579</td>\n",
       "      <td>-7.991843</td>\n",
       "      <td>-8.986364</td>\n",
       "      <td>2.389012</td>\n",
       "      <td>8.144013</td>\n",
       "      <td>-3.814797</td>\n",
       "      <td>-0.479369</td>\n",
       "      <td>0.641243</td>\n",
       "      <td>1.155024</td>\n",
       "    </tr>\n",
       "    <tr>\n",
       "      <th>2</th>\n",
       "      <td>1</td>\n",
       "      <td>2628</td>\n",
       "      <td>4.0</td>\n",
       "      <td>2000-07-30 18:08:43</td>\n",
       "      <td>Star Wars: Episode I - The Phantom Menace (1999)</td>\n",
       "      <td>Action|Adventure|Sci-Fi</td>\n",
       "      <td>120915</td>\n",
       "      <td>1893.0</td>\n",
       "      <td>NaN</td>\n",
       "      <td>train</td>\n",
       "      <td>...</td>\n",
       "      <td>-8.590594</td>\n",
       "      <td>-9.174005</td>\n",
       "      <td>-9.902370</td>\n",
       "      <td>-13.359287</td>\n",
       "      <td>3.107477</td>\n",
       "      <td>8.087563</td>\n",
       "      <td>-3.237801</td>\n",
       "      <td>-0.479369</td>\n",
       "      <td>0.641243</td>\n",
       "      <td>1.155024</td>\n",
       "    </tr>\n",
       "    <tr>\n",
       "      <th>3</th>\n",
       "      <td>1</td>\n",
       "      <td>2826</td>\n",
       "      <td>4.0</td>\n",
       "      <td>2000-07-30 18:08:43</td>\n",
       "      <td>13th Warrior, The (1999)</td>\n",
       "      <td>Action|Adventure|Fantasy</td>\n",
       "      <td>120657</td>\n",
       "      <td>1911.0</td>\n",
       "      <td>NaN</td>\n",
       "      <td>train</td>\n",
       "      <td>...</td>\n",
       "      <td>-7.921208</td>\n",
       "      <td>-8.606805</td>\n",
       "      <td>-9.155840</td>\n",
       "      <td>-10.794389</td>\n",
       "      <td>0.598519</td>\n",
       "      <td>8.763772</td>\n",
       "      <td>-3.768643</td>\n",
       "      <td>-0.479369</td>\n",
       "      <td>0.641243</td>\n",
       "      <td>1.155024</td>\n",
       "    </tr>\n",
       "    <tr>\n",
       "      <th>4</th>\n",
       "      <td>1</td>\n",
       "      <td>3578</td>\n",
       "      <td>5.0</td>\n",
       "      <td>2000-07-30 18:11:08</td>\n",
       "      <td>Gladiator (2000)</td>\n",
       "      <td>Action|Adventure|Drama</td>\n",
       "      <td>172495</td>\n",
       "      <td>98.0</td>\n",
       "      <td>NaN</td>\n",
       "      <td>train</td>\n",
       "      <td>...</td>\n",
       "      <td>-5.964553</td>\n",
       "      <td>-9.169855</td>\n",
       "      <td>-8.996518</td>\n",
       "      <td>-13.539494</td>\n",
       "      <td>-8.460646</td>\n",
       "      <td>9.077582</td>\n",
       "      <td>-3.727581</td>\n",
       "      <td>-0.479369</td>\n",
       "      <td>0.641243</td>\n",
       "      <td>1.155024</td>\n",
       "    </tr>\n",
       "  </tbody>\n",
       "</table>\n",
       "<p>5 rows × 34 columns</p>\n",
       "</div>"
      ],
      "text/plain": [
       "   userId  movieId  rating           timestamp  \\\n",
       "0       1     1210     5.0 2000-07-30 18:08:19   \n",
       "1       1      804     4.0 2000-07-30 18:08:19   \n",
       "2       1     2628     4.0 2000-07-30 18:08:43   \n",
       "3       1     2826     4.0 2000-07-30 18:08:43   \n",
       "4       1     3578     5.0 2000-07-30 18:11:08   \n",
       "\n",
       "                                               title  \\\n",
       "0  Star Wars: Episode VI - Return of the Jedi (1983)   \n",
       "1                               She's the One (1996)   \n",
       "2   Star Wars: Episode I - The Phantom Menace (1999)   \n",
       "3                           13th Warrior, The (1999)   \n",
       "4                                   Gladiator (2000)   \n",
       "\n",
       "                     genres  imdbId   tmdbId  tag random_dstype  ...  \\\n",
       "0   Action|Adventure|Sci-Fi   86190   1892.0  NaN         train  ...   \n",
       "1            Comedy|Romance  117628  11363.0  NaN         train  ...   \n",
       "2   Action|Adventure|Sci-Fi  120915   1893.0  NaN         train  ...   \n",
       "3  Action|Adventure|Fantasy  120657   1911.0  NaN         train  ...   \n",
       "4    Action|Adventure|Drama  172495     98.0  NaN         train  ...   \n",
       "\n",
       "   item_autoenc3  item_autoenc4 item_autoenc5  item_autoenc6  item_autoenc7  \\\n",
       "0      -7.057482      -9.234890     -9.615451     -14.320933      -9.288592   \n",
       "1      -5.507547      -9.562579     -7.991843      -8.986364       2.389012   \n",
       "2      -8.590594      -9.174005     -9.902370     -13.359287       3.107477   \n",
       "3      -7.921208      -8.606805     -9.155840     -10.794389       0.598519   \n",
       "4      -5.964553      -9.169855     -8.996518     -13.539494      -8.460646   \n",
       "\n",
       "   item_autoenc8  item_autoenc9  user_autoenc0  user_autoenc1  user_autoenc2  \n",
       "0      10.750225      -4.296187      -0.479369       0.641243       1.155024  \n",
       "1       8.144013      -3.814797      -0.479369       0.641243       1.155024  \n",
       "2       8.087563      -3.237801      -0.479369       0.641243       1.155024  \n",
       "3       8.763772      -3.768643      -0.479369       0.641243       1.155024  \n",
       "4       9.077582      -3.727581      -0.479369       0.641243       1.155024  \n",
       "\n",
       "[5 rows x 34 columns]"
      ]
     },
     "execution_count": 25,
     "metadata": {},
     "output_type": "execute_result"
    }
   ],
   "source": [
    "df_train.head()"
   ]
  },
  {
   "cell_type": "code",
   "execution_count": 26,
   "metadata": {},
   "outputs": [
    {
     "data": {
      "text/html": [
       "<div>\n",
       "<style scoped>\n",
       "    .dataframe tbody tr th:only-of-type {\n",
       "        vertical-align: middle;\n",
       "    }\n",
       "\n",
       "    .dataframe tbody tr th {\n",
       "        vertical-align: top;\n",
       "    }\n",
       "\n",
       "    .dataframe thead th {\n",
       "        text-align: right;\n",
       "    }\n",
       "</style>\n",
       "<table border=\"1\" class=\"dataframe\">\n",
       "  <thead>\n",
       "    <tr style=\"text-align: right;\">\n",
       "      <th></th>\n",
       "      <th>user_idx</th>\n",
       "      <th>movie_idx</th>\n",
       "      <th>item_autoenc0</th>\n",
       "      <th>item_autoenc1</th>\n",
       "      <th>item_autoenc2</th>\n",
       "      <th>item_autoenc3</th>\n",
       "      <th>item_autoenc4</th>\n",
       "      <th>item_autoenc5</th>\n",
       "      <th>item_autoenc6</th>\n",
       "      <th>item_autoenc7</th>\n",
       "      <th>item_autoenc8</th>\n",
       "      <th>item_autoenc9</th>\n",
       "      <th>user_autoenc0</th>\n",
       "      <th>user_autoenc1</th>\n",
       "      <th>user_autoenc2</th>\n",
       "    </tr>\n",
       "  </thead>\n",
       "  <tbody>\n",
       "    <tr>\n",
       "      <th>0</th>\n",
       "      <td>1</td>\n",
       "      <td>1</td>\n",
       "      <td>3.850912</td>\n",
       "      <td>-5.386222</td>\n",
       "      <td>-14.289622</td>\n",
       "      <td>-7.057482</td>\n",
       "      <td>-9.234890</td>\n",
       "      <td>-9.615451</td>\n",
       "      <td>-14.320933</td>\n",
       "      <td>-9.288592</td>\n",
       "      <td>10.750225</td>\n",
       "      <td>-4.296187</td>\n",
       "      <td>-0.479369</td>\n",
       "      <td>0.641243</td>\n",
       "      <td>1.155024</td>\n",
       "    </tr>\n",
       "    <tr>\n",
       "      <th>1</th>\n",
       "      <td>1</td>\n",
       "      <td>2</td>\n",
       "      <td>-12.542353</td>\n",
       "      <td>-4.304758</td>\n",
       "      <td>-10.231943</td>\n",
       "      <td>-5.507547</td>\n",
       "      <td>-9.562579</td>\n",
       "      <td>-7.991843</td>\n",
       "      <td>-8.986364</td>\n",
       "      <td>2.389012</td>\n",
       "      <td>8.144013</td>\n",
       "      <td>-3.814797</td>\n",
       "      <td>-0.479369</td>\n",
       "      <td>0.641243</td>\n",
       "      <td>1.155024</td>\n",
       "    </tr>\n",
       "    <tr>\n",
       "      <th>2</th>\n",
       "      <td>1</td>\n",
       "      <td>3</td>\n",
       "      <td>-16.756915</td>\n",
       "      <td>-4.690946</td>\n",
       "      <td>-11.594507</td>\n",
       "      <td>-8.590594</td>\n",
       "      <td>-9.174005</td>\n",
       "      <td>-9.902370</td>\n",
       "      <td>-13.359287</td>\n",
       "      <td>3.107477</td>\n",
       "      <td>8.087563</td>\n",
       "      <td>-3.237801</td>\n",
       "      <td>-0.479369</td>\n",
       "      <td>0.641243</td>\n",
       "      <td>1.155024</td>\n",
       "    </tr>\n",
       "    <tr>\n",
       "      <th>3</th>\n",
       "      <td>1</td>\n",
       "      <td>4</td>\n",
       "      <td>-11.053216</td>\n",
       "      <td>-5.075145</td>\n",
       "      <td>-12.136779</td>\n",
       "      <td>-7.921208</td>\n",
       "      <td>-8.606805</td>\n",
       "      <td>-9.155840</td>\n",
       "      <td>-10.794389</td>\n",
       "      <td>0.598519</td>\n",
       "      <td>8.763772</td>\n",
       "      <td>-3.768643</td>\n",
       "      <td>-0.479369</td>\n",
       "      <td>0.641243</td>\n",
       "      <td>1.155024</td>\n",
       "    </tr>\n",
       "    <tr>\n",
       "      <th>4</th>\n",
       "      <td>1</td>\n",
       "      <td>6</td>\n",
       "      <td>1.743383</td>\n",
       "      <td>-5.177280</td>\n",
       "      <td>-11.519720</td>\n",
       "      <td>-5.964553</td>\n",
       "      <td>-9.169855</td>\n",
       "      <td>-8.996518</td>\n",
       "      <td>-13.539494</td>\n",
       "      <td>-8.460646</td>\n",
       "      <td>9.077582</td>\n",
       "      <td>-3.727581</td>\n",
       "      <td>-0.479369</td>\n",
       "      <td>0.641243</td>\n",
       "      <td>1.155024</td>\n",
       "    </tr>\n",
       "  </tbody>\n",
       "</table>\n",
       "</div>"
      ],
      "text/plain": [
       "   user_idx  movie_idx  item_autoenc0  item_autoenc1  item_autoenc2  \\\n",
       "0         1          1       3.850912      -5.386222     -14.289622   \n",
       "1         1          2     -12.542353      -4.304758     -10.231943   \n",
       "2         1          3     -16.756915      -4.690946     -11.594507   \n",
       "3         1          4     -11.053216      -5.075145     -12.136779   \n",
       "4         1          6       1.743383      -5.177280     -11.519720   \n",
       "\n",
       "   item_autoenc3  item_autoenc4  item_autoenc5  item_autoenc6  item_autoenc7  \\\n",
       "0      -7.057482      -9.234890      -9.615451     -14.320933      -9.288592   \n",
       "1      -5.507547      -9.562579      -7.991843      -8.986364       2.389012   \n",
       "2      -8.590594      -9.174005      -9.902370     -13.359287       3.107477   \n",
       "3      -7.921208      -8.606805      -9.155840     -10.794389       0.598519   \n",
       "4      -5.964553      -9.169855      -8.996518     -13.539494      -8.460646   \n",
       "\n",
       "   item_autoenc8  item_autoenc9  user_autoenc0  user_autoenc1  user_autoenc2  \n",
       "0      10.750225      -4.296187      -0.479369       0.641243       1.155024  \n",
       "1       8.144013      -3.814797      -0.479369       0.641243       1.155024  \n",
       "2       8.087563      -3.237801      -0.479369       0.641243       1.155024  \n",
       "3       8.763772      -3.768643      -0.479369       0.641243       1.155024  \n",
       "4       9.077582      -3.727581      -0.479369       0.641243       1.155024  "
      ]
     },
     "execution_count": 26,
     "metadata": {},
     "output_type": "execute_result"
    }
   ],
   "source": [
    "df_train[['user_idx','movie_idx']+autoenc_cols].head()"
   ]
  },
  {
   "cell_type": "markdown",
   "metadata": {},
   "source": [
    "### Dataset and DataLoader"
   ]
  },
  {
   "cell_type": "code",
   "execution_count": 27,
   "metadata": {},
   "outputs": [],
   "source": [
    "class cfdata (torch.utils.data.dataset.Dataset):\n",
    "    def __init__(self,dfX,dfY,denseCols):\n",
    "        self.dfX,self.dfY=dfX,dfY\n",
    "        self.denseCols=denseCols\n",
    "        \n",
    "    def __len__ (self):\n",
    "        return self.dfX.shape[0]\n",
    "    \n",
    "    def __getitem__ (self, idx):\n",
    "        return torch.FloatTensor(self.dfX.iloc[idx].values),torch.FloatTensor([self.dfY.values[idx]])"
   ]
  },
  {
   "cell_type": "code",
   "execution_count": 28,
   "metadata": {},
   "outputs": [],
   "source": [
    "dstrain=cfdata(df_train[['user_idx','movie_idx']+autoenc_cols],df_train['rating'],autoenc_cols)\n",
    "dsvalid=cfdata(df_valid[['user_idx','movie_idx']+autoenc_cols],df_valid['rating'],autoenc_cols)"
   ]
  },
  {
   "cell_type": "code",
   "execution_count": 29,
   "metadata": {},
   "outputs": [
    {
     "data": {
      "text/plain": [
       "(90752, 34)"
      ]
     },
     "execution_count": 29,
     "metadata": {},
     "output_type": "execute_result"
    }
   ],
   "source": [
    "df_train.shape"
   ]
  },
  {
   "cell_type": "code",
   "execution_count": 63,
   "metadata": {},
   "outputs": [],
   "source": [
    "bs=32"
   ]
  },
  {
   "cell_type": "code",
   "execution_count": 64,
   "metadata": {},
   "outputs": [],
   "source": [
    "dltrain=DataLoader(dstrain,bs,True)"
   ]
  },
  {
   "cell_type": "code",
   "execution_count": 65,
   "metadata": {},
   "outputs": [],
   "source": [
    "dlvalid=DataLoader(dsvalid,bs,True)"
   ]
  },
  {
   "cell_type": "markdown",
   "metadata": {},
   "source": [
    "## Model Architecture"
   ]
  },
  {
   "cell_type": "code",
   "execution_count": 50,
   "metadata": {},
   "outputs": [],
   "source": [
    "n_users=len(user_to_idx)\n",
    "n_movies=len(movie_to_idx)\n",
    "n_emb_user=25\n",
    "n_emb_movie=25\n",
    "min_rating=min(df_train['rating'])\n",
    "max_rating=max(df_train['rating'])\n",
    "dropout_e=0.05\n",
    "hidden=[20,5,10]\n",
    "dropouts=[0.2,0.3,0.2]"
   ]
  },
  {
   "cell_type": "code",
   "execution_count": 51,
   "metadata": {},
   "outputs": [],
   "source": [
    "def hidden_layer(x,y,dropout,activation=nn.Sigmoid()):\n",
    "    return nn.Sequential(\n",
    "        nn.Linear(x, y),\n",
    "        activation,\n",
    "        nn.Dropout(p=dropout)\n",
    "        )   "
   ]
  },
  {
   "cell_type": "code",
   "execution_count": 52,
   "metadata": {},
   "outputs": [],
   "source": [
    "#[mtx_user_emb,mtx_item_emb,user_bias_emb,item_bias_emb]=pickle.load(open(f'{DATAPATH}/wts_embs','rb'))\n",
    "pretrain_wts=pickle.load(open(f'{DATAPATH}/wts_embs','rb'))"
   ]
  },
  {
   "cell_type": "code",
   "execution_count": 53,
   "metadata": {},
   "outputs": [],
   "source": [
    "class cf(nn.Module):    \n",
    "    def __init__(self,n_users,n_emb_user,n_emb_item,n_items,min_rating,max_rating,autoenc_cols,pretrain_wts,\\\n",
    "                 dropout_e=0.01,hidden=[15,5],dropouts=[0.2,0.2],error_type=\"mse\"):\n",
    "        super().__init__()\n",
    "        self.n_users,self.n_emb_user,self.n_emb_item,self.n_items,self.min_rating,self.max_rating=\\\n",
    "                    n_users,n_emb_user,n_emb_item,n_items,min_rating,max_rating\n",
    "        self.dropout_e,self.hidden,self.dropouts=dropout_e,hidden,dropouts\n",
    "        self.autoenc_cols,self.len_dense_cols=autoenc_cols,len(autoenc_cols)\n",
    "        self.create_architecture()\n",
    "        \n",
    "        self.emb_user.weight.data=torch.FloatTensor(pretrain_wts[0])\n",
    "        self.emb_item.weight.data=torch.FloatTensor(pretrain_wts[1])\n",
    "        self.ub.weight.data=torch.FloatTensor(pretrain_wts[2])\n",
    "        self.ib.weight.data=torch.FloatTensor(pretrain_wts[3])\n",
    "\n",
    "        if error_type!=\"mse\":\n",
    "            self.criterion=nn.L1Loss()\n",
    "        else:\n",
    "            self.criterion=nn.MSELoss()\n",
    "        \n",
    "    def create_architecture(self):\n",
    "        self.emb_user=nn.Embedding(self.n_users+1,self.n_emb_user)\n",
    "        self.emb_item=nn.Embedding(self.n_items+1,self.n_emb_item)\n",
    "        self.ub=nn.Embedding(self.n_users+1,1)\n",
    "        self.ib=nn.Embedding(self.n_items+1,1)\n",
    "        \n",
    "        \n",
    "        self.emb_dropout=nn.Dropout(self.dropout_e)\n",
    "\n",
    "        \n",
    "        self.lin1= nn.Sequential(nn.Linear(self.n_emb_user+self.n_emb_item,self.hidden[0]),\n",
    "                    nn.ReLU(),\n",
    "                    nn.Dropout(p=dropouts[0]) )\n",
    "        self.lin_bias=nn.Linear(3,1)\n",
    "        self.lin2= nn.Sequential (nn.Linear(self.len_dense_cols,self.hidden[1]),\n",
    "                    nn.ReLU(),\n",
    "                    nn.Dropout(p=dropouts[1]) )\n",
    "        self.lin3= nn.Sequential (nn.Linear(self.hidden[0]+self.hidden[1]+1,self.hidden[2]),\n",
    "                    nn.ReLU(),\n",
    "                    nn.Dropout(p=dropouts[2]))\n",
    "        self.lin4=nn.Linear(self.hidden[2],1)\n",
    "        self.sigmoid=nn.Sigmoid()\n",
    "        \n",
    "        \n",
    "    def init_parameters(self):\n",
    "        nn.init.kaiming_normal_(self.emb_user.weight.data)\n",
    "        nn.init.kaiming_normal_(self.emb_item.weight.dat)\n",
    "        #nn.init.kaiming_normal_(lin)\n",
    "       \n",
    "    def forward (self,Xb,Yb):\n",
    "        users=Xb[:,0].long()\n",
    "        items=Xb[:,1].long()\n",
    "        users=self.emb_dropout(self.emb_user(users))\n",
    "        items=self.emb_dropout(self.emb_item(items))\n",
    "        users_bias=self.emb_dropout(self.ub(Xb[:,0].long()))\n",
    "        items_bias=self.emb_dropout(self.ib(Xb[:,1].long()))\n",
    "        embed=torch.cat([users,items],1)\n",
    "        out1=self.lin1(embed)\n",
    "        bias=torch.cat([users_bias,items_bias,users_bias+items_bias],1)\n",
    "        biased=self.lin_bias(bias)\n",
    "           \n",
    "        \n",
    "        denses=Xb[:,2:]\n",
    "        out2=self.lin2(denses)\n",
    "        \n",
    "        out3=torch.cat([out1,out2,biased],1)\n",
    "        \n",
    "        out4=self.lin3(out3)\n",
    "        \n",
    "        out5=self.lin4(out4)\n",
    "        \n",
    "        out=self.sigmoid(out5)\n",
    "        \n",
    "        preds=out*(self.max_rating-self.min_rating)+self.min_rating\n",
    "        #preds=preds.view(-1)\n",
    "        loss=self.criterion(preds,Yb)\n",
    "        return preds,loss"
   ]
  },
  {
   "cell_type": "code",
   "execution_count": 54,
   "metadata": {},
   "outputs": [],
   "source": [
    "cfobj=cf(n_users,n_emb_user,n_emb_movie,n_movies,min_rating,max_rating,autoenc_cols,pretrain_wts,dropout_e,hidden,dropouts,error_type=\"mse\")"
   ]
  },
  {
   "cell_type": "code",
   "execution_count": 55,
   "metadata": {},
   "outputs": [
    {
     "data": {
      "text/plain": [
       "cf(\n",
       "  (emb_user): Embedding(611, 25)\n",
       "  (emb_item): Embedding(9725, 25)\n",
       "  (ub): Embedding(611, 1)\n",
       "  (ib): Embedding(9725, 1)\n",
       "  (emb_dropout): Dropout(p=0.05)\n",
       "  (lin1): Sequential(\n",
       "    (0): Linear(in_features=50, out_features=20, bias=True)\n",
       "    (1): ReLU()\n",
       "    (2): Dropout(p=0.2)\n",
       "  )\n",
       "  (lin_bias): Linear(in_features=3, out_features=1, bias=True)\n",
       "  (lin2): Sequential(\n",
       "    (0): Linear(in_features=13, out_features=5, bias=True)\n",
       "    (1): ReLU()\n",
       "    (2): Dropout(p=0.3)\n",
       "  )\n",
       "  (lin3): Sequential(\n",
       "    (0): Linear(in_features=26, out_features=10, bias=True)\n",
       "    (1): ReLU()\n",
       "    (2): Dropout(p=0.2)\n",
       "  )\n",
       "  (lin4): Linear(in_features=10, out_features=1, bias=True)\n",
       "  (sigmoid): Sigmoid()\n",
       "  (criterion): MSELoss()\n",
       ")"
      ]
     },
     "execution_count": 55,
     "metadata": {},
     "output_type": "execute_result"
    }
   ],
   "source": [
    "cfobj"
   ]
  },
  {
   "cell_type": "code",
   "execution_count": 59,
   "metadata": {},
   "outputs": [],
   "source": [
    "for Xb, Yb in dltrain:\n",
    "    break"
   ]
  },
  {
   "cell_type": "code",
   "execution_count": 60,
   "metadata": {},
   "outputs": [
    {
     "data": {
      "text/plain": [
       "(torch.Size([8, 15]), torch.Size([8, 1]))"
      ]
     },
     "execution_count": 60,
     "metadata": {},
     "output_type": "execute_result"
    }
   ],
   "source": [
    "Xb.shape, Yb.shape"
   ]
  },
  {
   "cell_type": "code",
   "execution_count": 61,
   "metadata": {},
   "outputs": [
    {
     "data": {
      "text/plain": [
       "torch.float32"
      ]
     },
     "execution_count": 61,
     "metadata": {},
     "output_type": "execute_result"
    }
   ],
   "source": [
    "Xb.dtype"
   ]
  },
  {
   "cell_type": "code",
   "execution_count": 62,
   "metadata": {},
   "outputs": [
    {
     "data": {
      "text/plain": [
       "(tensor([[3.0059],\n",
       "         [2.2633],\n",
       "         [2.0268],\n",
       "         [2.1723],\n",
       "         [1.9587],\n",
       "         [1.0618],\n",
       "         [2.5090],\n",
       "         [1.8014]], grad_fn=<AddBackward0>),\n",
       " tensor(2.4495, grad_fn=<MseLossBackward>))"
      ]
     },
     "execution_count": 62,
     "metadata": {},
     "output_type": "execute_result"
    }
   ],
   "source": [
    "cfobj.forward(Xb,Yb)"
   ]
  },
  {
   "cell_type": "markdown",
   "metadata": {},
   "source": [
    "## Learner"
   ]
  },
  {
   "cell_type": "code",
   "execution_count": 66,
   "metadata": {},
   "outputs": [],
   "source": [
    "class Learner():\n",
    "    def __init__(self,model,optimizer,metric_fn,device,bptt=12,print_every=5,clip_val=None,\\\n",
    "                 cycle_mult=0,lr_decay=0.7,wd_mult=6,start_lr=2e-2, end_lr=5e-4,error_type=\"mse\"):\n",
    "        self.model,self.optimizer,self.metric_fn,self.device,self.print_every,self.bptt,self.losses,self.clip_val=\\\n",
    "            model,optimizer,metric_fn,device,print_every,bptt,[],clip_val\n",
    "        self.n_epochs=1\n",
    "        self.cycle_mult,self.lr_decay=cycle_mult,lr_decay\n",
    "        self.wd_mult=wd_mult\n",
    "        for param_group in self.optimizer.param_groups:\n",
    "            self.start_lr=param_group['lr']\n",
    "            self.start_wd=param_group['weight_decay']\n",
    "        self.wd=self.start_wd\n",
    "        self.lr=self.start_lr\n",
    "        self.end_lr=end_lr\n",
    "        self.n_epoch=0\n",
    "        self.lrs=[1e-2,5e-3,1e-4,5e-4]\n",
    "        self.preds,self.preds_valid,self.trainY,self.actual=[],[],[],[]\n",
    "        self.ratio=self.end_lr/self.start_lr\n",
    "        self.num_steps=self.cycle_mult\n",
    "        self.reset_cycle=self.cycle_mult\n",
    "        self.error_type=error_type\n",
    "        \n",
    "    def fit (self,Xb,Yb,mode_train=True):\n",
    "        if mode_train:\n",
    "            self.model.train()\n",
    "        else:\n",
    "            self.model.eval()\n",
    "        \n",
    "        #import pdb\n",
    "        #pdb.set_trace()\n",
    "        preds,loss=self.model(Xb,Yb)\n",
    "\n",
    "     \n",
    "        if mode_train:\n",
    "            if 1==0:\n",
    "                lr =self.lrs[torch.randint(0,4,(1,))]\n",
    "                for param_group in self.optimizer.param_groups:\n",
    "                    param_group['lr']=lr\n",
    "            \n",
    "            self.optimizer.zero_grad()\n",
    "            loss.backward()\n",
    "            self.optimizer.step()\n",
    "        myloss=loss.item()\n",
    "    \n",
    "        \n",
    "        with torch.no_grad():\n",
    "            if self.error_type == \"mse\":\n",
    "                acc=nn.L1Loss() (preds,Yb)\n",
    "                myrmse=np.sqrt(myloss)\n",
    "            else:\n",
    "                acc=nn.MSELoss() (preds,Yb)\n",
    "                myrmse=np.sqrt(acc.item())\n",
    "            acc=acc.item()\n",
    "                 \n",
    "   \n",
    "        del preds\n",
    "        del loss\n",
    "        \n",
    "        if self.clip_val is not None:\n",
    "            torch.nn.utils.clip_grad_norm_(self.model.parameters(), self.clip_val)\n",
    "        \n",
    "        return myloss, acc, myrmse\n",
    "    \n",
    "    def lr_find (self,start_lr,end_lr,iterator,n_batch):\n",
    "        losses,lrs=[],[]\n",
    "        ratio=end_lr/start_lr\n",
    "        num_steps=n_batch\n",
    "        lr=start_lr\n",
    "        for i in range(num_steps):            \n",
    "            lr=lr*(end_lr/start_lr)**(1/num_steps)\n",
    "            lrs.append(lr)\n",
    "        self.lrs=lrs\n",
    "        self.run_epoch(iterator,mode_train=True,lrs=lrs)\n",
    "    \n",
    "    def run_epoch(self,iterator,mode_train,lrs=None):\n",
    "        epoch_loss,epoch_acc,i,k=0,0,0,0\n",
    "        epoch_rmse=0\n",
    "\n",
    "\n",
    "        for Xb,Yb in iterator:\n",
    "            Xb=Xb.to(self.device)\n",
    "            Yb=Yb.to(self.device)\n",
    "            \n",
    "            if lrs is not None:\n",
    "                lr=lrs[k]\n",
    "                for param_group in self.optimizer.param_groups:\n",
    "                    param_group['lr']=lr \n",
    "            \n",
    "\n",
    "            loss,acc,myrmse=self.fit(Xb,Yb,mode_train)\n",
    "            \n",
    "            if lrs is not None:\n",
    "                self.losses.append(loss)\n",
    "\n",
    "\n",
    "            \n",
    "\n",
    "            epoch_loss+=loss\n",
    "            epoch_acc+=acc\n",
    "            epoch_rmse+=myrmse\n",
    "            \n",
    "            k=k+1\n",
    "            if k%self.print_every == 0:\n",
    "                if k:\n",
    "                    print (f'Batch:{k} {epoch_loss/(k)}  ')  \n",
    "                    torch.cuda.empty_cache()\n",
    "\n",
    "        epoch_loss=epoch_loss/len(iterator)\n",
    "        epoch_acc=epoch_acc/len(iterator)\n",
    "        epoch_rmse=epoch_rmse/len(iterator)\n",
    "            \n",
    "        return epoch_loss,epoch_acc,epoch_rmse\n",
    "    \n",
    "    def plot_lrs(self, n_roll=1,ylim=None,xlim=None):\n",
    "        import seaborn as sns\n",
    "        ax=sns.lineplot(x=self.lrs,y=pd.Series(self.losses).rolling(n_roll).mean())\n",
    "        ax.set_xscale('log')\n",
    "        ax.set_ylabel('Loss')\n",
    "        ax.set_xlabel('Learning Rate')\n",
    "        if ylim is not None:\n",
    "            plt.ylim(ylim)\n",
    "        if xlim is not None:\n",
    "            plt.xlim(xlim)\n",
    "\n",
    "     \n",
    "    def run_epochs(self,dltrain,dlvalid,n_epochs=1):              \n",
    "        for epoch in range(n_epochs):                \n",
    "            loss,acc,rmse=self.run_epoch(dltrain,True)\n",
    "\n",
    "            lossv,accv,rmsev=self.run_epoch(dlvalid,mode_train=False)\n",
    "           \n",
    "            if self.error_type==\"mse\":\n",
    "                loss_mse=loss\n",
    "                loss_rmse=rmse\n",
    "                loss_mae=acc\n",
    "                lossv_mse=lossv\n",
    "                lossv_rmse=rmsev\n",
    "                lossv_mae=accv\n",
    "                \n",
    "            else:\n",
    "                loss_mse=acc\n",
    "                loss_rmse=rmse\n",
    "                loss_mae=loss\n",
    "                lossv_mse=accv\n",
    "                lossv_rmse=rmsev\n",
    "                lossv_mae=lossv\n",
    "            \n",
    "            print (f'Epoch:{epoch} Learning rate {self.lr} Weight Decay {self.wd} Train Loss:{loss} \\\n",
    "                Valid Loss:{lossv} Train RMSE:{loss_rmse} Valid RMSE:{lossv_rmse} Train MSE:{loss_mse} Valid MSE:{lossv_mse} \\\n",
    "                Train MAE:{loss_mae} Valid MAE:{lossv_mae}')\n",
    "\n",
    "              \n",
    "         \n",
    "     \n",
    "            if self.cycle_mult:\n",
    "                if self.n_epoch==self.reset_cycle:\n",
    "                    self.lr=self.start_lr\n",
    "                    #self.wd=self.start_wd\n",
    "                    self.reset_cycle*=self.cycle_mult\n",
    "                    #reset_cycle=self.n_epoch+reset_cycle\n",
    "                    self.n_epoch=0\n",
    "                    self.ratio=self.end_lr/self.start_lr\n",
    "                    self.num_steps=self.reset_cycle\n",
    "                else:\n",
    "                    #self.lr*=(self.lr_decay**self.n_epoch)  \n",
    "                    #if self.n_epoch>1:\n",
    "                    #    self.wd*=self.wd_mult\n",
    "                    self.lr=self.lr*(self.end_lr/self.start_lr)**(1/self.num_steps)\n",
    "                    self.n_epoch+=1\n",
    "        \n",
    "\n",
    "                \n",
    "            for param_group in self.optimizer.param_groups:\n",
    "                param_group['lr']=self.lr\n",
    "                #param_group['weight_decay']=self.wd\n",
    "          \n",
    "     "
   ]
  },
  {
   "cell_type": "code",
   "execution_count": 67,
   "metadata": {},
   "outputs": [],
   "source": [
    "device='cuda:0'"
   ]
  },
  {
   "cell_type": "code",
   "execution_count": 68,
   "metadata": {},
   "outputs": [],
   "source": [
    "cfobj=cf(n_users,n_emb_user,n_emb_movie,n_movies,min_rating,max_rating,autoenc_cols,pretrain_wts,dropout_e,hidden,dropouts,error_type=\"mse\")"
   ]
  },
  {
   "cell_type": "code",
   "execution_count": 69,
   "metadata": {},
   "outputs": [],
   "source": [
    "cfobj=cfobj.to(device)"
   ]
  },
  {
   "cell_type": "code",
   "execution_count": 75,
   "metadata": {},
   "outputs": [
    {
     "data": {
      "text/plain": [
       "cf(\n",
       "  (emb_user): Embedding(611, 25)\n",
       "  (emb_item): Embedding(9725, 25)\n",
       "  (ub): Embedding(611, 1)\n",
       "  (ib): Embedding(9725, 1)\n",
       "  (emb_dropout): Dropout(p=0.05)\n",
       "  (lin1): Sequential(\n",
       "    (0): Linear(in_features=50, out_features=20, bias=True)\n",
       "    (1): ReLU()\n",
       "    (2): Dropout(p=0.2)\n",
       "  )\n",
       "  (lin_bias): Linear(in_features=3, out_features=1, bias=True)\n",
       "  (lin2): Sequential(\n",
       "    (0): Linear(in_features=13, out_features=5, bias=True)\n",
       "    (1): ReLU()\n",
       "    (2): Dropout(p=0.3)\n",
       "  )\n",
       "  (lin3): Sequential(\n",
       "    (0): Linear(in_features=26, out_features=10, bias=True)\n",
       "    (1): ReLU()\n",
       "    (2): Dropout(p=0.2)\n",
       "  )\n",
       "  (lin4): Linear(in_features=10, out_features=1, bias=True)\n",
       "  (sigmoid): Sigmoid()\n",
       "  (criterion): MSELoss()\n",
       ")"
      ]
     },
     "execution_count": 75,
     "metadata": {},
     "output_type": "execute_result"
    }
   ],
   "source": [
    "cfobj"
   ]
  },
  {
   "cell_type": "code",
   "execution_count": 76,
   "metadata": {},
   "outputs": [],
   "source": [
    "wd=1e-7\n",
    "optimizer=torch.optim.Adam(cfobj.parameters(),lr=5e-3,betas=(0.9,0.999), weight_decay=wd)\n",
    "learner=Learner(cfobj,optimizer,None,device,0,12000,0.25,cycle_mult=0)"
   ]
  },
  {
   "cell_type": "code",
   "execution_count": 77,
   "metadata": {},
   "outputs": [
    {
     "data": {
      "text/plain": [
       "2836"
      ]
     },
     "execution_count": 77,
     "metadata": {},
     "output_type": "execute_result"
    }
   ],
   "source": [
    "len(dltrain)"
   ]
  },
  {
   "cell_type": "code",
   "execution_count": 78,
   "metadata": {},
   "outputs": [],
   "source": [
    "learner.lr_find(1e-4,1e-1,dltrain,len(dltrain))"
   ]
  },
  {
   "cell_type": "code",
   "execution_count": 79,
   "metadata": {},
   "outputs": [
    {
     "data": {
      "image/png": "[encoded data removed]",
      "text/plain": [
       "<Figure size 432x288 with 1 Axes>"
      ]
     },
     "metadata": {
      "needs_background": "light"
     },
     "output_type": "display_data"
    }
   ],
   "source": [
    "learner.plot_lrs(50)"
   ]
  },
  {
   "cell_type": "code",
   "execution_count": 82,
   "metadata": {},
   "outputs": [
    {
     "data": {
      "image/png": "[encoded data removed]",
      "text/plain": [
       "<Figure size 432x288 with 1 Axes>"
      ]
     },
     "metadata": {
      "needs_background": "light"
     },
     "output_type": "display_data"
    }
   ],
   "source": [
    "learner.plot_lrs(10)"
   ]
  },
  {
   "cell_type": "code",
   "execution_count": 83,
   "metadata": {},
   "outputs": [
    {
     "data": {
      "image/png": "[encoded data removed]",
      "text/plain": [
       "<Figure size 432x288 with 1 Axes>"
      ]
     },
     "metadata": {
      "needs_background": "light"
     },
     "output_type": "display_data"
    }
   ],
   "source": [
    "learner.plot_lrs(100)"
   ]
  },
  {
   "cell_type": "code",
   "execution_count": 110,
   "metadata": {},
   "outputs": [],
   "source": [
    "del cfobj\n",
    "torch.cuda.empty_cache()"
   ]
  },
  {
   "cell_type": "code",
   "execution_count": 111,
   "metadata": {},
   "outputs": [],
   "source": [
    "cfobj=cf(n_users,n_emb_user,n_emb_movie,n_movies,min_rating,max_rating,autoenc_cols,pretrain_wts,dropout_e,hidden,dropouts,error_type=\"mse\")\n",
    "cfobj=cfobj.to(device)"
   ]
  },
  {
   "cell_type": "code",
   "execution_count": 112,
   "metadata": {},
   "outputs": [],
   "source": [
    "cfobj.emb_user.weight.requires_grad=False\n",
    "cfobj.emb_item.weight.requires_grad=False\n",
    "cfobj.ib.weight.requires_grad=False\n",
    "cfobj.ub.weight.requires_grad=False"
   ]
  },
  {
   "cell_type": "code",
   "execution_count": 113,
   "metadata": {},
   "outputs": [],
   "source": [
    "wd=1e-4\n",
    "optimizer=torch.optim.Adam(cfobj.parameters(),lr=8e-3,betas=(0.9,0.999), weight_decay=wd)\n",
    "learner=Learner(cfobj,optimizer,None,device,0,12000,0.25,cycle_mult=0)"
   ]
  },
  {
   "cell_type": "code",
   "execution_count": 114,
   "metadata": {},
   "outputs": [
    {
     "name": "stdout",
     "output_type": "stream",
     "text": [
      "Epoch:0 Learning rate 0.008 Weight Decay 0.0001 Train Loss:0.7595606974006877                 Valid Loss:0.7976083478218392 Train RMSE:0.8620907171487004 Valid RMSE:0.8846288538881746 Train MSE:0.7595606974006877 Valid MSE:0.7976083478218392                 Train MAE:0.6737351166806873 Valid MAE:0.6933841379005697\n",
      "Epoch:1 Learning rate 0.008 Weight Decay 0.0001 Train Loss:0.7511718374045174                 Valid Loss:0.7968327719010885 Train RMSE:0.857473061714523 Valid RMSE:0.883326023025172 Train MSE:0.7511718374045174 Valid MSE:0.7968327719010885                 Train MAE:0.6700487825572911 Valid MAE:0.6970868412452408\n",
      "Epoch:2 Learning rate 0.008 Weight Decay 0.0001 Train Loss:0.7513969781715292                 Valid Loss:0.7919413838771325 Train RMSE:0.8575472817468964 Valid RMSE:0.8793763451194507 Train MSE:0.7513969781715292 Valid MSE:0.7919413838771325                 Train MAE:0.6697227229772738 Valid MAE:0.6898927971532073\n",
      "Epoch:3 Learning rate 0.008 Weight Decay 0.0001 Train Loss:0.7470143670886125                 Valid Loss:0.795537148472629 Train RMSE:0.8552693133500879 Valid RMSE:0.8819367573317177 Train MSE:0.7470143670886125 Valid MSE:0.795537148472629                 Train MAE:0.6688666351044968 Valid MAE:0.6882563687955277\n",
      "Epoch:4 Learning rate 0.008 Weight Decay 0.0001 Train Loss:0.7509120994251437                 Valid Loss:0.7944618014595176 Train RMSE:0.8573588330836703 Valid RMSE:0.8810366343250794 Train MSE:0.7509120994251437 Valid MSE:0.7944618014595176                 Train MAE:0.6704981270310573 Valid MAE:0.6920396362113047\n"
     ]
    }
   ],
   "source": [
    "learner.run_epochs(dltrain,dlvalid,5)"
   ]
  },
  {
   "cell_type": "code",
   "execution_count": 115,
   "metadata": {},
   "outputs": [],
   "source": [
    "cfobj.emb_user.weight.requires_grad=True\n",
    "cfobj.emb_item.weight.requires_grad=True\n",
    "cfobj.ib.weight.requires_grad=True\n",
    "cfobj.ub.weight.requires_grad=True"
   ]
  },
  {
   "cell_type": "code",
   "execution_count": 116,
   "metadata": {},
   "outputs": [],
   "source": [
    "optimizer=torch.optim.Adam(cfobj.parameters(),lr=1e-4,betas=(0.9,0.999), weight_decay=wd)\n",
    "learner=Learner(cfobj,optimizer,None,device,0,12000,0.25,cycle_mult=3,start_lr=1e-4,end_lr=1e-5)"
   ]
  },
  {
   "cell_type": "code",
   "execution_count": 117,
   "metadata": {},
   "outputs": [
    {
     "name": "stdout",
     "output_type": "stream",
     "text": [
      "Epoch:0 Learning rate 0.0001 Weight Decay 0.0001 Train Loss:0.7510133910771822                 Valid Loss:0.7851395615482633 Train RMSE:0.8572932624419499 Valid RMSE:0.8781414140855939 Train MSE:0.7510133910771822 Valid MSE:0.7851395615482633                 Train MAE:0.6709270062731587 Valid MAE:0.6864527408269387\n",
      "Epoch:1 Learning rate 4.641588833612779e-05 Weight Decay 0.0001 Train Loss:0.7339617239550408                 Valid Loss:0.7791859739566152 Train RMSE:0.8471411999438805 Valid RMSE:0.8736634542824945 Train MSE:0.7339617239550408 Valid MSE:0.7791859739566152                 Train MAE:0.6612415714622889 Valid MAE:0.6830092274312731\n",
      "Epoch:2 Learning rate 2.154434690031884e-05 Weight Decay 0.0001 Train Loss:0.7291531605102195                 Valid Loss:0.7860655811957166 Train RMSE:0.8443734967207659 Valid RMSE:0.8757132827647269 Train MSE:0.7291531605102195 Valid MSE:0.7860655811957166                 Train MAE:0.6584618491434581 Valid MAE:0.6847616798138316\n",
      "Epoch:3 Learning rate 1.0000000000000003e-05 Weight Decay 0.0001 Train Loss:0.7241445923925539                 Valid Loss:0.7771240060653868 Train RMSE:0.841496900191502 Valid RMSE:0.8723538389900137 Train MSE:0.7241445923925539 Valid MSE:0.7771240060653868                 Train MAE:0.6556578216120622 Valid MAE:0.681484196476544\n",
      "Epoch:4 Learning rate 0.0001 Weight Decay 0.0001 Train Loss:0.7195086223933693                 Valid Loss:0.7696509073618092 Train RMSE:0.8391796705693049 Valid RMSE:0.8672824649501576 Train MSE:0.7195086223933693 Valid MSE:0.7696509073618092                 Train MAE:0.6530393862463691 Valid MAE:0.6782978277040433\n",
      "Epoch:5 Learning rate 7.742636826811271e-05 Weight Decay 0.0001 Train Loss:0.7014458260074657                 Valid Loss:0.7626311850698688 Train RMSE:0.8280466007888644 Valid RMSE:0.8638986345670993 Train MSE:0.7014458260074657 Valid MSE:0.7626311850698688                 Train MAE:0.6431782025271141 Valid MAE:0.6754387136124358\n",
      "Epoch:6 Learning rate 5.994842503189411e-05 Weight Decay 0.0001 Train Loss:0.6898230176592411                 Valid Loss:0.7563468933671336 Train RMSE:0.8210687204031439 Valid RMSE:0.8595848299591431 Train MSE:0.6898230176592411 Valid MSE:0.7563468933671336                 Train MAE:0.6369802304379358 Valid MAE:0.6714243158886705\n"
     ]
    }
   ],
   "source": [
    "learner.run_epochs(dltrain,dlvalid,7)"
   ]
  },
  {
   "cell_type": "code",
   "execution_count": 118,
   "metadata": {},
   "outputs": [],
   "source": [
    "# 0.8595 is the best RMSE so far"
   ]
  },
  {
   "cell_type": "code",
   "execution_count": 119,
   "metadata": {},
   "outputs": [
    {
     "name": "stdout",
     "output_type": "stream",
     "text": [
      "Epoch:0 Learning rate 4.64158883361278e-05 Weight Decay 0.0001 Train Loss:0.6788263889226658                 Valid Loss:0.7569611060279834 Train RMSE:0.8147430127009424 Valid RMSE:0.8606900058476618 Train MSE:0.6788263889226658 Valid MSE:0.7569611060279834                 Train MAE:0.6314071524883023 Valid MAE:0.6712061539292336\n",
      "Epoch:1 Learning rate 3.593813663804628e-05 Weight Decay 0.0001 Train Loss:0.6712961140048016                 Valid Loss:0.7502938469376745 Train RMSE:0.8095645322447591 Valid RMSE:0.8567358205999036 Train MSE:0.6712961140048016 Valid MSE:0.7502938469376745                 Train MAE:0.6269056593896808 Valid MAE:0.6683892163483403\n",
      "Epoch:2 Learning rate 2.7825594022071256e-05 Weight Decay 0.0001 Train Loss:0.6668041982439744                 Valid Loss:0.756804046280022 Train RMSE:0.8068959809683811 Valid RMSE:0.859029409637575 Train MSE:0.6668041982439744 Valid MSE:0.756804046280022                 Train MAE:0.6236578145803955 Valid MAE:0.6714055829598934\n",
      "Epoch:3 Learning rate 2.1544346900318847e-05 Weight Decay 0.0001 Train Loss:0.6625668274498793                 Valid Loss:0.7537783456942703 Train RMSE:0.804476575600725 Valid RMSE:0.8574124920852334 Train MSE:0.6625668274498793 Valid MSE:0.7537783456942703                 Train MAE:0.6222706304177411 Valid MAE:0.6705289335944985\n",
      "Epoch:4 Learning rate 1.6681005372000596e-05 Weight Decay 0.0001 Train Loss:0.6605646230374976                 Valid Loss:0.7552975074777121 Train RMSE:0.8035848147579708 Valid RMSE:0.8587563357829248 Train MSE:0.6605646230374976 Valid MSE:0.7552975074777121                 Train MAE:0.6218414737702425 Valid MAE:0.6701985559886015\n",
      "Epoch:5 Learning rate 1.2915496650148845e-05 Weight Decay 0.0001 Train Loss:0.6553656953966248                 Valid Loss:0.7516454035722757 Train RMSE:0.799961402995527 Valid RMSE:0.8586571883812457 Train MSE:0.6553656953966248 Valid MSE:0.7516454035722757                 Train MAE:0.6186776830485072 Valid MAE:0.6699040740539756\n",
      "Epoch:6 Learning rate 1.0000000000000006e-05 Weight Decay 0.0001 Train Loss:0.6545967044274629                 Valid Loss:0.7484055911249752 Train RMSE:0.7992642364311812 Valid RMSE:0.8555823336070941 Train MSE:0.6545967044274629 Valid MSE:0.7484055911249752                 Train MAE:0.6178906937096956 Valid MAE:0.6679401377899737\n"
     ]
    }
   ],
   "source": [
    "learner.run_epochs(dltrain,dlvalid,7)"
   ]
  },
  {
   "cell_type": "code",
   "execution_count": 120,
   "metadata": {},
   "outputs": [
    {
     "name": "stderr",
     "output_type": "stream",
     "text": [
      "/home/kirana/anaconda3/lib/python3.7/site-packages/torch/serialization.py:256: UserWarning: Couldn't retrieve source code for container of type cf. It won't be checked for correctness upon loading.\n",
      "  \"type \" + obj.__name__ + \". It won't be checked \"\n",
      "/home/kirana/anaconda3/lib/python3.7/site-packages/torch/serialization.py:256: UserWarning: Couldn't retrieve source code for container of type cf. It won't be checked for correctness upon loading.\n",
      "  \"type \" + obj.__name__ + \". It won't be checked \"\n"
     ]
    }
   ],
   "source": [
    "torch.save(cfobj,f=f'{DATAPATH}/inter/cfobj_tl_0.8')\n",
    "torch.save(learner,f=f'{DATAPATH}/inter/cfobj_tl_learner_0.8')\n",
    "torch.save(optimizer,f=f'{DATAPATH}/inter/cfobj_tl_optimizer_0.8')\n",
    "torch.save(cfobj.state_dict(),f'{DATAPATH}/inter/cfjobj_tl_state_dict_0.8')\n",
    "torch.save(optimizer.state_dict(),f'{DATAPATH}/inter/optimizer_tl_state_dict_0.8')"
   ]
  },
  {
   "cell_type": "code",
   "execution_count": 60,
   "metadata": {},
   "outputs": [
    {
     "name": "stderr",
     "output_type": "stream",
     "text": [
      "/home/kirana/anaconda3/lib/python3.7/site-packages/torch/serialization.py:256: UserWarning: Couldn't retrieve source code for container of type cf. It won't be checked for correctness upon loading.\n",
      "  \"type \" + obj.__name__ + \". It won't be checked \"\n",
      "/home/kirana/anaconda3/lib/python3.7/site-packages/torch/serialization.py:256: UserWarning: Couldn't retrieve source code for container of type cf. It won't be checked for correctness upon loading.\n",
      "  \"type \" + obj.__name__ + \". It won't be checked \"\n"
     ]
    }
   ],
   "source": [
    "torch.save(cfobj,f=f'{DATAPATH}/inter/cfobj_improve_0.8')\n",
    "torch.save(learner,f=f'{DATAPATH}/inter/cfobj_improve_learner_0.8')\n",
    "torch.save(optimizer,f=f'{DATAPATH}/inter/cfobj_improve_optimizer_0.8')\n",
    "torch.save(cfobj.state_dict(),f'{DATAPATH}/inter/cfjobj_improve_state_dict_0.8')\n",
    "torch.save(optimizer.state_dict(),f'{DATAPATH}/inter/optimizer_improve_state_dict_0.8')"
   ]
  },
  {
   "cell_type": "code",
   "execution_count": null,
   "metadata": {},
   "outputs": [],
   "source": []
  }
 ],
 "metadata": {
  "kernelspec": {
   "display_name": "Python 3",
   "language": "python",
   "name": "python3"
  },
  "language_info": {
   "codemirror_mode": {
    "name": "ipython",
    "version": 3
   },
   "file_extension": ".py",
   "mimetype": "text/x-python",
   "name": "python",
   "nbconvert_exporter": "python",
   "pygments_lexer": "ipython3",
   "version": "3.7.3"
  }
 },
 "nbformat": 4,
 "nbformat_minor": 2
}
