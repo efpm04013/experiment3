{
 "cells": [
  {
   "cell_type": "code",
   "execution_count": 1,
   "metadata": {},
   "outputs": [],
   "source": [
    "PATH='/home/kirana/Documents/phd/exp3_autoencoder'\n",
    "DATAPATH='/home/kirana/Documents/final_dissertation_final/experiments/datasets/ml-latest-small'"
   ]
  },
  {
   "cell_type": "code",
   "execution_count": 2,
   "metadata": {},
   "outputs": [],
   "source": [
    "import pandas as pd\n",
    "import numpy as np\n",
    "import matplotlib.pyplot as plt\n",
    "import sklearn\n",
    "import os\n",
    "import pickle\n",
    "import torch\n",
    "from torch.utils.data import Dataset, DataLoader\n",
    "from torch import nn"
   ]
  },
  {
   "cell_type": "code",
   "execution_count": 3,
   "metadata": {},
   "outputs": [],
   "source": [
    "[df, df_train,df_valid,df,df_ratings,dfflagtrain,dfflagvalid,idx_to_user,\\\n",
    "             idx_to_movie,movie_to_idx,user_to_idx]=pickle.load(open(f'{DATAPATH}/reads.pkl','rb'))"
   ]
  },
  {
   "cell_type": "code",
   "execution_count": 4,
   "metadata": {},
   "outputs": [
    {
     "data": {
      "text/plain": [
       "(100836, 19)"
      ]
     },
     "execution_count": 4,
     "metadata": {},
     "output_type": "execute_result"
    }
   ],
   "source": [
    "df.shape"
   ]
  },
  {
   "cell_type": "code",
   "execution_count": 5,
   "metadata": {},
   "outputs": [
    {
     "data": {
      "text/html": [
       "<div>\n",
       "<style scoped>\n",
       "    .dataframe tbody tr th:only-of-type {\n",
       "        vertical-align: middle;\n",
       "    }\n",
       "\n",
       "    .dataframe tbody tr th {\n",
       "        vertical-align: top;\n",
       "    }\n",
       "\n",
       "    .dataframe thead th {\n",
       "        text-align: right;\n",
       "    }\n",
       "</style>\n",
       "<table border=\"1\" class=\"dataframe\">\n",
       "  <thead>\n",
       "    <tr style=\"text-align: right;\">\n",
       "      <th></th>\n",
       "      <th>userId</th>\n",
       "      <th>movieId</th>\n",
       "      <th>rating</th>\n",
       "      <th>timestamp</th>\n",
       "      <th>title</th>\n",
       "      <th>genres</th>\n",
       "      <th>imdbId</th>\n",
       "      <th>tmdbId</th>\n",
       "      <th>tag</th>\n",
       "      <th>random_dstype</th>\n",
       "      <th>seqNum</th>\n",
       "      <th>maxSeqNum</th>\n",
       "      <th>time_dstype</th>\n",
       "      <th>user_idx</th>\n",
       "      <th>movie_idx</th>\n",
       "      <th>dstype_random_train</th>\n",
       "      <th>dstype_time_train</th>\n",
       "      <th>dstype_random_valid</th>\n",
       "      <th>dstype_time_valid</th>\n",
       "    </tr>\n",
       "  </thead>\n",
       "  <tbody>\n",
       "    <tr>\n",
       "      <th>0</th>\n",
       "      <td>1</td>\n",
       "      <td>1210</td>\n",
       "      <td>5.0</td>\n",
       "      <td>2000-07-30 18:08:19</td>\n",
       "      <td>Star Wars: Episode VI - Return of the Jedi (1983)</td>\n",
       "      <td>Action|Adventure|Sci-Fi</td>\n",
       "      <td>86190</td>\n",
       "      <td>1892.0</td>\n",
       "      <td>NaN</td>\n",
       "      <td>train</td>\n",
       "      <td>1</td>\n",
       "      <td>232</td>\n",
       "      <td>train</td>\n",
       "      <td>1</td>\n",
       "      <td>1</td>\n",
       "      <td>1</td>\n",
       "      <td>1</td>\n",
       "      <td>0</td>\n",
       "      <td>0</td>\n",
       "    </tr>\n",
       "    <tr>\n",
       "      <th>1</th>\n",
       "      <td>1</td>\n",
       "      <td>804</td>\n",
       "      <td>4.0</td>\n",
       "      <td>2000-07-30 18:08:19</td>\n",
       "      <td>She's the One (1996)</td>\n",
       "      <td>Comedy|Romance</td>\n",
       "      <td>117628</td>\n",
       "      <td>11363.0</td>\n",
       "      <td>NaN</td>\n",
       "      <td>train</td>\n",
       "      <td>2</td>\n",
       "      <td>232</td>\n",
       "      <td>train</td>\n",
       "      <td>1</td>\n",
       "      <td>2</td>\n",
       "      <td>1</td>\n",
       "      <td>1</td>\n",
       "      <td>0</td>\n",
       "      <td>0</td>\n",
       "    </tr>\n",
       "    <tr>\n",
       "      <th>2</th>\n",
       "      <td>1</td>\n",
       "      <td>2628</td>\n",
       "      <td>4.0</td>\n",
       "      <td>2000-07-30 18:08:43</td>\n",
       "      <td>Star Wars: Episode I - The Phantom Menace (1999)</td>\n",
       "      <td>Action|Adventure|Sci-Fi</td>\n",
       "      <td>120915</td>\n",
       "      <td>1893.0</td>\n",
       "      <td>NaN</td>\n",
       "      <td>train</td>\n",
       "      <td>3</td>\n",
       "      <td>232</td>\n",
       "      <td>train</td>\n",
       "      <td>1</td>\n",
       "      <td>3</td>\n",
       "      <td>1</td>\n",
       "      <td>1</td>\n",
       "      <td>0</td>\n",
       "      <td>0</td>\n",
       "    </tr>\n",
       "    <tr>\n",
       "      <th>3</th>\n",
       "      <td>1</td>\n",
       "      <td>2826</td>\n",
       "      <td>4.0</td>\n",
       "      <td>2000-07-30 18:08:43</td>\n",
       "      <td>13th Warrior, The (1999)</td>\n",
       "      <td>Action|Adventure|Fantasy</td>\n",
       "      <td>120657</td>\n",
       "      <td>1911.0</td>\n",
       "      <td>NaN</td>\n",
       "      <td>train</td>\n",
       "      <td>4</td>\n",
       "      <td>232</td>\n",
       "      <td>train</td>\n",
       "      <td>1</td>\n",
       "      <td>4</td>\n",
       "      <td>1</td>\n",
       "      <td>1</td>\n",
       "      <td>0</td>\n",
       "      <td>0</td>\n",
       "    </tr>\n",
       "    <tr>\n",
       "      <th>4</th>\n",
       "      <td>1</td>\n",
       "      <td>2018</td>\n",
       "      <td>5.0</td>\n",
       "      <td>2000-07-30 18:08:43</td>\n",
       "      <td>Bambi (1942)</td>\n",
       "      <td>Animation|Children|Drama</td>\n",
       "      <td>34492</td>\n",
       "      <td>3170.0</td>\n",
       "      <td>NaN</td>\n",
       "      <td>test</td>\n",
       "      <td>5</td>\n",
       "      <td>232</td>\n",
       "      <td>train</td>\n",
       "      <td>1</td>\n",
       "      <td>5</td>\n",
       "      <td>0</td>\n",
       "      <td>1</td>\n",
       "      <td>1</td>\n",
       "      <td>0</td>\n",
       "    </tr>\n",
       "  </tbody>\n",
       "</table>\n",
       "</div>"
      ],
      "text/plain": [
       "   userId  movieId  rating           timestamp  \\\n",
       "0       1     1210     5.0 2000-07-30 18:08:19   \n",
       "1       1      804     4.0 2000-07-30 18:08:19   \n",
       "2       1     2628     4.0 2000-07-30 18:08:43   \n",
       "3       1     2826     4.0 2000-07-30 18:08:43   \n",
       "4       1     2018     5.0 2000-07-30 18:08:43   \n",
       "\n",
       "                                               title  \\\n",
       "0  Star Wars: Episode VI - Return of the Jedi (1983)   \n",
       "1                               She's the One (1996)   \n",
       "2   Star Wars: Episode I - The Phantom Menace (1999)   \n",
       "3                           13th Warrior, The (1999)   \n",
       "4                                       Bambi (1942)   \n",
       "\n",
       "                     genres  imdbId   tmdbId  tag random_dstype  seqNum  \\\n",
       "0   Action|Adventure|Sci-Fi   86190   1892.0  NaN         train       1   \n",
       "1            Comedy|Romance  117628  11363.0  NaN         train       2   \n",
       "2   Action|Adventure|Sci-Fi  120915   1893.0  NaN         train       3   \n",
       "3  Action|Adventure|Fantasy  120657   1911.0  NaN         train       4   \n",
       "4  Animation|Children|Drama   34492   3170.0  NaN          test       5   \n",
       "\n",
       "   maxSeqNum time_dstype  user_idx  movie_idx  dstype_random_train  \\\n",
       "0        232       train         1          1                    1   \n",
       "1        232       train         1          2                    1   \n",
       "2        232       train         1          3                    1   \n",
       "3        232       train         1          4                    1   \n",
       "4        232       train         1          5                    0   \n",
       "\n",
       "   dstype_time_train  dstype_random_valid  dstype_time_valid  \n",
       "0                  1                    0                  0  \n",
       "1                  1                    0                  0  \n",
       "2                  1                    0                  0  \n",
       "3                  1                    0                  0  \n",
       "4                  1                    1                  0  "
      ]
     },
     "execution_count": 5,
     "metadata": {},
     "output_type": "execute_result"
    }
   ],
   "source": [
    "df.head()"
   ]
  },
  {
   "cell_type": "code",
   "execution_count": 6,
   "metadata": {},
   "outputs": [],
   "source": [
    "df_train=df.loc[df['random_dstype']=='train']\n",
    "df_valid=df.loc[df['random_dstype']!='train']"
   ]
  },
  {
   "cell_type": "code",
   "execution_count": 7,
   "metadata": {},
   "outputs": [
    {
     "data": {
      "text/html": [
       "<div>\n",
       "<style scoped>\n",
       "    .dataframe tbody tr th:only-of-type {\n",
       "        vertical-align: middle;\n",
       "    }\n",
       "\n",
       "    .dataframe tbody tr th {\n",
       "        vertical-align: top;\n",
       "    }\n",
       "\n",
       "    .dataframe thead th {\n",
       "        text-align: right;\n",
       "    }\n",
       "</style>\n",
       "<table border=\"1\" class=\"dataframe\">\n",
       "  <thead>\n",
       "    <tr style=\"text-align: right;\">\n",
       "      <th></th>\n",
       "      <th>userId</th>\n",
       "      <th>movieId</th>\n",
       "      <th>rating</th>\n",
       "      <th>timestamp</th>\n",
       "      <th>title</th>\n",
       "      <th>genres</th>\n",
       "      <th>imdbId</th>\n",
       "      <th>tmdbId</th>\n",
       "      <th>tag</th>\n",
       "      <th>random_dstype</th>\n",
       "      <th>seqNum</th>\n",
       "      <th>maxSeqNum</th>\n",
       "      <th>time_dstype</th>\n",
       "      <th>user_idx</th>\n",
       "      <th>movie_idx</th>\n",
       "      <th>dstype_random_train</th>\n",
       "      <th>dstype_time_train</th>\n",
       "      <th>dstype_random_valid</th>\n",
       "      <th>dstype_time_valid</th>\n",
       "    </tr>\n",
       "  </thead>\n",
       "  <tbody>\n",
       "    <tr>\n",
       "      <th>0</th>\n",
       "      <td>1</td>\n",
       "      <td>1210</td>\n",
       "      <td>5.0</td>\n",
       "      <td>2000-07-30 18:08:19</td>\n",
       "      <td>Star Wars: Episode VI - Return of the Jedi (1983)</td>\n",
       "      <td>Action|Adventure|Sci-Fi</td>\n",
       "      <td>86190</td>\n",
       "      <td>1892.0</td>\n",
       "      <td>NaN</td>\n",
       "      <td>train</td>\n",
       "      <td>1</td>\n",
       "      <td>232</td>\n",
       "      <td>train</td>\n",
       "      <td>1</td>\n",
       "      <td>1</td>\n",
       "      <td>1</td>\n",
       "      <td>1</td>\n",
       "      <td>0</td>\n",
       "      <td>0</td>\n",
       "    </tr>\n",
       "    <tr>\n",
       "      <th>1</th>\n",
       "      <td>1</td>\n",
       "      <td>804</td>\n",
       "      <td>4.0</td>\n",
       "      <td>2000-07-30 18:08:19</td>\n",
       "      <td>She's the One (1996)</td>\n",
       "      <td>Comedy|Romance</td>\n",
       "      <td>117628</td>\n",
       "      <td>11363.0</td>\n",
       "      <td>NaN</td>\n",
       "      <td>train</td>\n",
       "      <td>2</td>\n",
       "      <td>232</td>\n",
       "      <td>train</td>\n",
       "      <td>1</td>\n",
       "      <td>2</td>\n",
       "      <td>1</td>\n",
       "      <td>1</td>\n",
       "      <td>0</td>\n",
       "      <td>0</td>\n",
       "    </tr>\n",
       "    <tr>\n",
       "      <th>2</th>\n",
       "      <td>1</td>\n",
       "      <td>2628</td>\n",
       "      <td>4.0</td>\n",
       "      <td>2000-07-30 18:08:43</td>\n",
       "      <td>Star Wars: Episode I - The Phantom Menace (1999)</td>\n",
       "      <td>Action|Adventure|Sci-Fi</td>\n",
       "      <td>120915</td>\n",
       "      <td>1893.0</td>\n",
       "      <td>NaN</td>\n",
       "      <td>train</td>\n",
       "      <td>3</td>\n",
       "      <td>232</td>\n",
       "      <td>train</td>\n",
       "      <td>1</td>\n",
       "      <td>3</td>\n",
       "      <td>1</td>\n",
       "      <td>1</td>\n",
       "      <td>0</td>\n",
       "      <td>0</td>\n",
       "    </tr>\n",
       "    <tr>\n",
       "      <th>3</th>\n",
       "      <td>1</td>\n",
       "      <td>2826</td>\n",
       "      <td>4.0</td>\n",
       "      <td>2000-07-30 18:08:43</td>\n",
       "      <td>13th Warrior, The (1999)</td>\n",
       "      <td>Action|Adventure|Fantasy</td>\n",
       "      <td>120657</td>\n",
       "      <td>1911.0</td>\n",
       "      <td>NaN</td>\n",
       "      <td>train</td>\n",
       "      <td>4</td>\n",
       "      <td>232</td>\n",
       "      <td>train</td>\n",
       "      <td>1</td>\n",
       "      <td>4</td>\n",
       "      <td>1</td>\n",
       "      <td>1</td>\n",
       "      <td>0</td>\n",
       "      <td>0</td>\n",
       "    </tr>\n",
       "    <tr>\n",
       "      <th>5</th>\n",
       "      <td>1</td>\n",
       "      <td>3578</td>\n",
       "      <td>5.0</td>\n",
       "      <td>2000-07-30 18:11:08</td>\n",
       "      <td>Gladiator (2000)</td>\n",
       "      <td>Action|Adventure|Drama</td>\n",
       "      <td>172495</td>\n",
       "      <td>98.0</td>\n",
       "      <td>NaN</td>\n",
       "      <td>train</td>\n",
       "      <td>6</td>\n",
       "      <td>232</td>\n",
       "      <td>train</td>\n",
       "      <td>1</td>\n",
       "      <td>6</td>\n",
       "      <td>1</td>\n",
       "      <td>1</td>\n",
       "      <td>0</td>\n",
       "      <td>0</td>\n",
       "    </tr>\n",
       "  </tbody>\n",
       "</table>\n",
       "</div>"
      ],
      "text/plain": [
       "   userId  movieId  rating           timestamp  \\\n",
       "0       1     1210     5.0 2000-07-30 18:08:19   \n",
       "1       1      804     4.0 2000-07-30 18:08:19   \n",
       "2       1     2628     4.0 2000-07-30 18:08:43   \n",
       "3       1     2826     4.0 2000-07-30 18:08:43   \n",
       "5       1     3578     5.0 2000-07-30 18:11:08   \n",
       "\n",
       "                                               title  \\\n",
       "0  Star Wars: Episode VI - Return of the Jedi (1983)   \n",
       "1                               She's the One (1996)   \n",
       "2   Star Wars: Episode I - The Phantom Menace (1999)   \n",
       "3                           13th Warrior, The (1999)   \n",
       "5                                   Gladiator (2000)   \n",
       "\n",
       "                     genres  imdbId   tmdbId  tag random_dstype  seqNum  \\\n",
       "0   Action|Adventure|Sci-Fi   86190   1892.0  NaN         train       1   \n",
       "1            Comedy|Romance  117628  11363.0  NaN         train       2   \n",
       "2   Action|Adventure|Sci-Fi  120915   1893.0  NaN         train       3   \n",
       "3  Action|Adventure|Fantasy  120657   1911.0  NaN         train       4   \n",
       "5    Action|Adventure|Drama  172495     98.0  NaN         train       6   \n",
       "\n",
       "   maxSeqNum time_dstype  user_idx  movie_idx  dstype_random_train  \\\n",
       "0        232       train         1          1                    1   \n",
       "1        232       train         1          2                    1   \n",
       "2        232       train         1          3                    1   \n",
       "3        232       train         1          4                    1   \n",
       "5        232       train         1          6                    1   \n",
       "\n",
       "   dstype_time_train  dstype_random_valid  dstype_time_valid  \n",
       "0                  1                    0                  0  \n",
       "1                  1                    0                  0  \n",
       "2                  1                    0                  0  \n",
       "3                  1                    0                  0  \n",
       "5                  1                    0                  0  "
      ]
     },
     "execution_count": 7,
     "metadata": {},
     "output_type": "execute_result"
    }
   ],
   "source": [
    "df_train.head()"
   ]
  },
  {
   "cell_type": "markdown",
   "metadata": {},
   "source": [
    "### Add the autoencoder features"
   ]
  },
  {
   "cell_type": "code",
   "execution_count": 8,
   "metadata": {},
   "outputs": [],
   "source": [
    "import pickle"
   ]
  },
  {
   "cell_type": "code",
   "execution_count": 9,
   "metadata": {},
   "outputs": [],
   "source": [
    "[df_train_user_autoenc,df_valid_user_autoenc,user_mtx_1_weights,user_mtx_2_weights]=\\\n",
    "    pickle.load(open(f'{DATAPATH}/inter/user_autoenc_weights.pkl','rb'))"
   ]
  },
  {
   "cell_type": "code",
   "execution_count": 10,
   "metadata": {},
   "outputs": [],
   "source": [
    "[df_train_item_autoenc, df_valid_item_autoenc,item_mtx_1_weights,item_mtx_2_weights]=\\\n",
    "    pickle.load(open(f'{DATAPATH}/inter/item_autoenc_weights.pkl','rb'))"
   ]
  },
  {
   "cell_type": "code",
   "execution_count": 11,
   "metadata": {},
   "outputs": [
    {
     "data": {
      "text/plain": [
       "((610, 11),\n",
       " pandas.core.frame.DataFrame,\n",
       "    userId  user_autoenc0  user_autoenc1  user_autoenc2  user_autoenc3  \\\n",
       " 0       1       0.994336       0.999980      -0.646262       0.223926   \n",
       " 1       2      -0.088481       0.999484       0.794847      -0.946945   \n",
       " 2       3      -0.566958       0.952057       0.952489      -0.943459   \n",
       " 3       4       0.999120       0.999999      -0.135773      -0.063956   \n",
       " 4       5       0.999636       0.999991      -0.693822      -0.668214   \n",
       " \n",
       "    user_autoenc4  user_autoenc5  user_autoenc6  user_autoenc7  user_autoenc8  \\\n",
       " 0      -0.999948       0.213225      -0.953209      -0.915922       0.621617   \n",
       " 1      -0.999845      -0.941635       0.934542       0.857711      -0.906707   \n",
       " 2      -0.999897       0.887478      -0.806028       0.478602       0.914629   \n",
       " 3      -0.997301      -0.617822      -0.995407      -0.987608      -0.491962   \n",
       " 4      -0.999933      -0.847570      -0.357790      -0.943933      -0.742645   \n",
       " \n",
       "    user_autoenc9  \n",
       " 0      -0.999871  \n",
       " 1      -0.990958  \n",
       " 2      -0.998312  \n",
       " 3      -0.990563  \n",
       " 4      -0.999674  )"
      ]
     },
     "execution_count": 11,
     "metadata": {},
     "output_type": "execute_result"
    }
   ],
   "source": [
    "df_train_user_autoenc.shape, type(df_train_user_autoenc),df_train_user_autoenc.head()"
   ]
  },
  {
   "cell_type": "code",
   "execution_count": 12,
   "metadata": {},
   "outputs": [
    {
     "data": {
      "text/plain": [
       "((9724, 11),\n",
       " pandas.core.frame.DataFrame,\n",
       "    movieId  item_autoenc0  item_autoenc1  item_autoenc2  item_autoenc3  \\\n",
       " 0        1       0.985727      -0.999939      -1.000000       0.985725   \n",
       " 1        2       0.988515      -0.999906      -1.000000      -0.983314   \n",
       " 2        3       0.997035      -0.999920      -1.000000      -0.999982   \n",
       " 3        4       0.975186      -0.998372      -0.999998      -0.996532   \n",
       " 4        5       0.995001      -0.999872      -1.000000      -0.998066   \n",
       " \n",
       "    item_autoenc4  item_autoenc5  item_autoenc6  item_autoenc7  item_autoenc8  \\\n",
       " 0       0.999361       0.978994       1.000000       0.997096      -0.999999   \n",
       " 1      -0.245007      -0.976791       0.999660       0.994780      -0.999883   \n",
       " 2      -0.991933      -0.999966       0.996191       0.995884      -0.908520   \n",
       " 3      -0.996155      -0.999894       0.958139       0.995000      -0.435840   \n",
       " 4      -0.719084      -0.998945       0.999637       0.996154      -0.945519   \n",
       " \n",
       "    item_autoenc9  \n",
       " 0      -0.999411  \n",
       " 1       0.589226  \n",
       " 2       0.998416  \n",
       " 3       0.506960  \n",
       " 4       0.752861  )"
      ]
     },
     "execution_count": 12,
     "metadata": {},
     "output_type": "execute_result"
    }
   ],
   "source": [
    "df_train_item_autoenc.shape, type(df_train_item_autoenc),df_train_item_autoenc.head()"
   ]
  },
  {
   "cell_type": "code",
   "execution_count": 13,
   "metadata": {},
   "outputs": [
    {
     "data": {
      "text/plain": [
       "(90752, 19)"
      ]
     },
     "execution_count": 13,
     "metadata": {},
     "output_type": "execute_result"
    }
   ],
   "source": [
    "df_train.shape"
   ]
  },
  {
   "cell_type": "code",
   "execution_count": 14,
   "metadata": {},
   "outputs": [
    {
     "data": {
      "text/html": [
       "<div>\n",
       "<style scoped>\n",
       "    .dataframe tbody tr th:only-of-type {\n",
       "        vertical-align: middle;\n",
       "    }\n",
       "\n",
       "    .dataframe tbody tr th {\n",
       "        vertical-align: top;\n",
       "    }\n",
       "\n",
       "    .dataframe thead th {\n",
       "        text-align: right;\n",
       "    }\n",
       "</style>\n",
       "<table border=\"1\" class=\"dataframe\">\n",
       "  <thead>\n",
       "    <tr style=\"text-align: right;\">\n",
       "      <th></th>\n",
       "      <th>userId</th>\n",
       "      <th>movieId</th>\n",
       "      <th>rating</th>\n",
       "      <th>timestamp</th>\n",
       "      <th>title</th>\n",
       "      <th>genres</th>\n",
       "      <th>imdbId</th>\n",
       "      <th>tmdbId</th>\n",
       "      <th>tag</th>\n",
       "      <th>random_dstype</th>\n",
       "      <th>seqNum</th>\n",
       "      <th>maxSeqNum</th>\n",
       "      <th>time_dstype</th>\n",
       "      <th>user_idx</th>\n",
       "      <th>movie_idx</th>\n",
       "      <th>dstype_random_train</th>\n",
       "      <th>dstype_time_train</th>\n",
       "      <th>dstype_random_valid</th>\n",
       "      <th>dstype_time_valid</th>\n",
       "    </tr>\n",
       "  </thead>\n",
       "  <tbody>\n",
       "    <tr>\n",
       "      <th>0</th>\n",
       "      <td>1</td>\n",
       "      <td>1210</td>\n",
       "      <td>5.0</td>\n",
       "      <td>2000-07-30 18:08:19</td>\n",
       "      <td>Star Wars: Episode VI - Return of the Jedi (1983)</td>\n",
       "      <td>Action|Adventure|Sci-Fi</td>\n",
       "      <td>86190</td>\n",
       "      <td>1892.0</td>\n",
       "      <td>NaN</td>\n",
       "      <td>train</td>\n",
       "      <td>1</td>\n",
       "      <td>232</td>\n",
       "      <td>train</td>\n",
       "      <td>1</td>\n",
       "      <td>1</td>\n",
       "      <td>1</td>\n",
       "      <td>1</td>\n",
       "      <td>0</td>\n",
       "      <td>0</td>\n",
       "    </tr>\n",
       "    <tr>\n",
       "      <th>1</th>\n",
       "      <td>1</td>\n",
       "      <td>804</td>\n",
       "      <td>4.0</td>\n",
       "      <td>2000-07-30 18:08:19</td>\n",
       "      <td>She's the One (1996)</td>\n",
       "      <td>Comedy|Romance</td>\n",
       "      <td>117628</td>\n",
       "      <td>11363.0</td>\n",
       "      <td>NaN</td>\n",
       "      <td>train</td>\n",
       "      <td>2</td>\n",
       "      <td>232</td>\n",
       "      <td>train</td>\n",
       "      <td>1</td>\n",
       "      <td>2</td>\n",
       "      <td>1</td>\n",
       "      <td>1</td>\n",
       "      <td>0</td>\n",
       "      <td>0</td>\n",
       "    </tr>\n",
       "    <tr>\n",
       "      <th>2</th>\n",
       "      <td>1</td>\n",
       "      <td>2628</td>\n",
       "      <td>4.0</td>\n",
       "      <td>2000-07-30 18:08:43</td>\n",
       "      <td>Star Wars: Episode I - The Phantom Menace (1999)</td>\n",
       "      <td>Action|Adventure|Sci-Fi</td>\n",
       "      <td>120915</td>\n",
       "      <td>1893.0</td>\n",
       "      <td>NaN</td>\n",
       "      <td>train</td>\n",
       "      <td>3</td>\n",
       "      <td>232</td>\n",
       "      <td>train</td>\n",
       "      <td>1</td>\n",
       "      <td>3</td>\n",
       "      <td>1</td>\n",
       "      <td>1</td>\n",
       "      <td>0</td>\n",
       "      <td>0</td>\n",
       "    </tr>\n",
       "    <tr>\n",
       "      <th>3</th>\n",
       "      <td>1</td>\n",
       "      <td>2826</td>\n",
       "      <td>4.0</td>\n",
       "      <td>2000-07-30 18:08:43</td>\n",
       "      <td>13th Warrior, The (1999)</td>\n",
       "      <td>Action|Adventure|Fantasy</td>\n",
       "      <td>120657</td>\n",
       "      <td>1911.0</td>\n",
       "      <td>NaN</td>\n",
       "      <td>train</td>\n",
       "      <td>4</td>\n",
       "      <td>232</td>\n",
       "      <td>train</td>\n",
       "      <td>1</td>\n",
       "      <td>4</td>\n",
       "      <td>1</td>\n",
       "      <td>1</td>\n",
       "      <td>0</td>\n",
       "      <td>0</td>\n",
       "    </tr>\n",
       "    <tr>\n",
       "      <th>5</th>\n",
       "      <td>1</td>\n",
       "      <td>3578</td>\n",
       "      <td>5.0</td>\n",
       "      <td>2000-07-30 18:11:08</td>\n",
       "      <td>Gladiator (2000)</td>\n",
       "      <td>Action|Adventure|Drama</td>\n",
       "      <td>172495</td>\n",
       "      <td>98.0</td>\n",
       "      <td>NaN</td>\n",
       "      <td>train</td>\n",
       "      <td>6</td>\n",
       "      <td>232</td>\n",
       "      <td>train</td>\n",
       "      <td>1</td>\n",
       "      <td>6</td>\n",
       "      <td>1</td>\n",
       "      <td>1</td>\n",
       "      <td>0</td>\n",
       "      <td>0</td>\n",
       "    </tr>\n",
       "  </tbody>\n",
       "</table>\n",
       "</div>"
      ],
      "text/plain": [
       "   userId  movieId  rating           timestamp  \\\n",
       "0       1     1210     5.0 2000-07-30 18:08:19   \n",
       "1       1      804     4.0 2000-07-30 18:08:19   \n",
       "2       1     2628     4.0 2000-07-30 18:08:43   \n",
       "3       1     2826     4.0 2000-07-30 18:08:43   \n",
       "5       1     3578     5.0 2000-07-30 18:11:08   \n",
       "\n",
       "                                               title  \\\n",
       "0  Star Wars: Episode VI - Return of the Jedi (1983)   \n",
       "1                               She's the One (1996)   \n",
       "2   Star Wars: Episode I - The Phantom Menace (1999)   \n",
       "3                           13th Warrior, The (1999)   \n",
       "5                                   Gladiator (2000)   \n",
       "\n",
       "                     genres  imdbId   tmdbId  tag random_dstype  seqNum  \\\n",
       "0   Action|Adventure|Sci-Fi   86190   1892.0  NaN         train       1   \n",
       "1            Comedy|Romance  117628  11363.0  NaN         train       2   \n",
       "2   Action|Adventure|Sci-Fi  120915   1893.0  NaN         train       3   \n",
       "3  Action|Adventure|Fantasy  120657   1911.0  NaN         train       4   \n",
       "5    Action|Adventure|Drama  172495     98.0  NaN         train       6   \n",
       "\n",
       "   maxSeqNum time_dstype  user_idx  movie_idx  dstype_random_train  \\\n",
       "0        232       train         1          1                    1   \n",
       "1        232       train         1          2                    1   \n",
       "2        232       train         1          3                    1   \n",
       "3        232       train         1          4                    1   \n",
       "5        232       train         1          6                    1   \n",
       "\n",
       "   dstype_time_train  dstype_random_valid  dstype_time_valid  \n",
       "0                  1                    0                  0  \n",
       "1                  1                    0                  0  \n",
       "2                  1                    0                  0  \n",
       "3                  1                    0                  0  \n",
       "5                  1                    0                  0  "
      ]
     },
     "execution_count": 14,
     "metadata": {},
     "output_type": "execute_result"
    }
   ],
   "source": [
    "df_train.head()"
   ]
  },
  {
   "cell_type": "code",
   "execution_count": 15,
   "metadata": {},
   "outputs": [],
   "source": [
    "df_train=pd.merge(df_train,df_train_item_autoenc,on='movieId',how='left')"
   ]
  },
  {
   "cell_type": "code",
   "execution_count": 16,
   "metadata": {},
   "outputs": [
    {
     "data": {
      "text/plain": [
       "(90752, 29)"
      ]
     },
     "execution_count": 16,
     "metadata": {},
     "output_type": "execute_result"
    }
   ],
   "source": [
    "df_train.shape"
   ]
  },
  {
   "cell_type": "code",
   "execution_count": 17,
   "metadata": {},
   "outputs": [
    {
     "name": "stdout",
     "output_type": "stream",
     "text": [
      "(10084, 19)\n"
     ]
    },
    {
     "data": {
      "text/plain": [
       "(10084, 29)"
      ]
     },
     "execution_count": 17,
     "metadata": {},
     "output_type": "execute_result"
    }
   ],
   "source": [
    "print(df_valid.shape)\n",
    "df_valid=pd.merge(df_valid,df_valid_item_autoenc,on='movieId',how='left')\n",
    "df_valid.shape"
   ]
  },
  {
   "cell_type": "code",
   "execution_count": 18,
   "metadata": {},
   "outputs": [
    {
     "data": {
      "text/plain": [
       "(10084, 29)"
      ]
     },
     "execution_count": 18,
     "metadata": {},
     "output_type": "execute_result"
    }
   ],
   "source": [
    "df_valid.shape"
   ]
  },
  {
   "cell_type": "code",
   "execution_count": 19,
   "metadata": {},
   "outputs": [
    {
     "name": "stdout",
     "output_type": "stream",
     "text": [
      "(10084, 29)\n"
     ]
    },
    {
     "data": {
      "text/plain": [
       "(10084, 39)"
      ]
     },
     "execution_count": 19,
     "metadata": {},
     "output_type": "execute_result"
    }
   ],
   "source": [
    "print(df_valid.shape)\n",
    "df_valid=pd.merge(df_valid,df_valid_user_autoenc,on='userId',how='left')\n",
    "df_valid.shape"
   ]
  },
  {
   "cell_type": "code",
   "execution_count": 20,
   "metadata": {},
   "outputs": [
    {
     "name": "stdout",
     "output_type": "stream",
     "text": [
      "(90752, 29)\n"
     ]
    },
    {
     "data": {
      "text/plain": [
       "(90752, 39)"
      ]
     },
     "execution_count": 20,
     "metadata": {},
     "output_type": "execute_result"
    }
   ],
   "source": [
    "print(df_train.shape)\n",
    "df_train=pd.merge(df_train,df_train_user_autoenc,on='userId',how='left')\n",
    "df_train.shape"
   ]
  },
  {
   "cell_type": "code",
   "execution_count": 21,
   "metadata": {},
   "outputs": [
    {
     "data": {
      "text/plain": [
       "Index(['userId', 'movieId', 'rating', 'timestamp', 'title', 'genres', 'imdbId',\n",
       "       'tmdbId', 'tag', 'random_dstype', 'seqNum', 'maxSeqNum', 'time_dstype',\n",
       "       'user_idx', 'movie_idx', 'dstype_random_train', 'dstype_time_train',\n",
       "       'dstype_random_valid', 'dstype_time_valid', 'item_autoenc0',\n",
       "       'item_autoenc1', 'item_autoenc2', 'item_autoenc3', 'item_autoenc4',\n",
       "       'item_autoenc5', 'item_autoenc6', 'item_autoenc7', 'item_autoenc8',\n",
       "       'item_autoenc9', 'user_autoenc0', 'user_autoenc1', 'user_autoenc2',\n",
       "       'user_autoenc3', 'user_autoenc4', 'user_autoenc5', 'user_autoenc6',\n",
       "       'user_autoenc7', 'user_autoenc8', 'user_autoenc9'],\n",
       "      dtype='object')"
      ]
     },
     "execution_count": 21,
     "metadata": {},
     "output_type": "execute_result"
    }
   ],
   "source": [
    "df_train.columns"
   ]
  },
  {
   "cell_type": "code",
   "execution_count": 22,
   "metadata": {},
   "outputs": [],
   "source": [
    "autoenc_cols=df_train.columns[df_train.columns.str.contains('autoenc')]"
   ]
  },
  {
   "cell_type": "code",
   "execution_count": 23,
   "metadata": {},
   "outputs": [],
   "source": [
    "autoenc_cols=autoenc_cols.tolist()"
   ]
  },
  {
   "cell_type": "code",
   "execution_count": 24,
   "metadata": {},
   "outputs": [
    {
     "data": {
      "text/plain": [
       "['item_autoenc0',\n",
       " 'item_autoenc1',\n",
       " 'item_autoenc2',\n",
       " 'item_autoenc3',\n",
       " 'item_autoenc4',\n",
       " 'item_autoenc5',\n",
       " 'item_autoenc6',\n",
       " 'item_autoenc7',\n",
       " 'item_autoenc8',\n",
       " 'item_autoenc9',\n",
       " 'user_autoenc0',\n",
       " 'user_autoenc1',\n",
       " 'user_autoenc2',\n",
       " 'user_autoenc3',\n",
       " 'user_autoenc4',\n",
       " 'user_autoenc5',\n",
       " 'user_autoenc6',\n",
       " 'user_autoenc7',\n",
       " 'user_autoenc8',\n",
       " 'user_autoenc9']"
      ]
     },
     "execution_count": 24,
     "metadata": {},
     "output_type": "execute_result"
    }
   ],
   "source": [
    "autoenc_cols"
   ]
  },
  {
   "cell_type": "code",
   "execution_count": 25,
   "metadata": {},
   "outputs": [
    {
     "data": {
      "text/html": [
       "<div>\n",
       "<style scoped>\n",
       "    .dataframe tbody tr th:only-of-type {\n",
       "        vertical-align: middle;\n",
       "    }\n",
       "\n",
       "    .dataframe tbody tr th {\n",
       "        vertical-align: top;\n",
       "    }\n",
       "\n",
       "    .dataframe thead th {\n",
       "        text-align: right;\n",
       "    }\n",
       "</style>\n",
       "<table border=\"1\" class=\"dataframe\">\n",
       "  <thead>\n",
       "    <tr style=\"text-align: right;\">\n",
       "      <th></th>\n",
       "      <th>userId</th>\n",
       "      <th>movieId</th>\n",
       "      <th>rating</th>\n",
       "      <th>timestamp</th>\n",
       "      <th>title</th>\n",
       "      <th>genres</th>\n",
       "      <th>imdbId</th>\n",
       "      <th>tmdbId</th>\n",
       "      <th>tag</th>\n",
       "      <th>random_dstype</th>\n",
       "      <th>...</th>\n",
       "      <th>user_autoenc0</th>\n",
       "      <th>user_autoenc1</th>\n",
       "      <th>user_autoenc2</th>\n",
       "      <th>user_autoenc3</th>\n",
       "      <th>user_autoenc4</th>\n",
       "      <th>user_autoenc5</th>\n",
       "      <th>user_autoenc6</th>\n",
       "      <th>user_autoenc7</th>\n",
       "      <th>user_autoenc8</th>\n",
       "      <th>user_autoenc9</th>\n",
       "    </tr>\n",
       "  </thead>\n",
       "  <tbody>\n",
       "    <tr>\n",
       "      <th>0</th>\n",
       "      <td>1</td>\n",
       "      <td>1210</td>\n",
       "      <td>5.0</td>\n",
       "      <td>2000-07-30 18:08:19</td>\n",
       "      <td>Star Wars: Episode VI - Return of the Jedi (1983)</td>\n",
       "      <td>Action|Adventure|Sci-Fi</td>\n",
       "      <td>86190</td>\n",
       "      <td>1892.0</td>\n",
       "      <td>NaN</td>\n",
       "      <td>train</td>\n",
       "      <td>...</td>\n",
       "      <td>0.994336</td>\n",
       "      <td>0.99998</td>\n",
       "      <td>-0.646262</td>\n",
       "      <td>0.223926</td>\n",
       "      <td>-0.999948</td>\n",
       "      <td>0.213225</td>\n",
       "      <td>-0.953209</td>\n",
       "      <td>-0.915922</td>\n",
       "      <td>0.621617</td>\n",
       "      <td>-0.999871</td>\n",
       "    </tr>\n",
       "    <tr>\n",
       "      <th>1</th>\n",
       "      <td>1</td>\n",
       "      <td>804</td>\n",
       "      <td>4.0</td>\n",
       "      <td>2000-07-30 18:08:19</td>\n",
       "      <td>She's the One (1996)</td>\n",
       "      <td>Comedy|Romance</td>\n",
       "      <td>117628</td>\n",
       "      <td>11363.0</td>\n",
       "      <td>NaN</td>\n",
       "      <td>train</td>\n",
       "      <td>...</td>\n",
       "      <td>0.994336</td>\n",
       "      <td>0.99998</td>\n",
       "      <td>-0.646262</td>\n",
       "      <td>0.223926</td>\n",
       "      <td>-0.999948</td>\n",
       "      <td>0.213225</td>\n",
       "      <td>-0.953209</td>\n",
       "      <td>-0.915922</td>\n",
       "      <td>0.621617</td>\n",
       "      <td>-0.999871</td>\n",
       "    </tr>\n",
       "    <tr>\n",
       "      <th>2</th>\n",
       "      <td>1</td>\n",
       "      <td>2628</td>\n",
       "      <td>4.0</td>\n",
       "      <td>2000-07-30 18:08:43</td>\n",
       "      <td>Star Wars: Episode I - The Phantom Menace (1999)</td>\n",
       "      <td>Action|Adventure|Sci-Fi</td>\n",
       "      <td>120915</td>\n",
       "      <td>1893.0</td>\n",
       "      <td>NaN</td>\n",
       "      <td>train</td>\n",
       "      <td>...</td>\n",
       "      <td>0.994336</td>\n",
       "      <td>0.99998</td>\n",
       "      <td>-0.646262</td>\n",
       "      <td>0.223926</td>\n",
       "      <td>-0.999948</td>\n",
       "      <td>0.213225</td>\n",
       "      <td>-0.953209</td>\n",
       "      <td>-0.915922</td>\n",
       "      <td>0.621617</td>\n",
       "      <td>-0.999871</td>\n",
       "    </tr>\n",
       "    <tr>\n",
       "      <th>3</th>\n",
       "      <td>1</td>\n",
       "      <td>2826</td>\n",
       "      <td>4.0</td>\n",
       "      <td>2000-07-30 18:08:43</td>\n",
       "      <td>13th Warrior, The (1999)</td>\n",
       "      <td>Action|Adventure|Fantasy</td>\n",
       "      <td>120657</td>\n",
       "      <td>1911.0</td>\n",
       "      <td>NaN</td>\n",
       "      <td>train</td>\n",
       "      <td>...</td>\n",
       "      <td>0.994336</td>\n",
       "      <td>0.99998</td>\n",
       "      <td>-0.646262</td>\n",
       "      <td>0.223926</td>\n",
       "      <td>-0.999948</td>\n",
       "      <td>0.213225</td>\n",
       "      <td>-0.953209</td>\n",
       "      <td>-0.915922</td>\n",
       "      <td>0.621617</td>\n",
       "      <td>-0.999871</td>\n",
       "    </tr>\n",
       "    <tr>\n",
       "      <th>4</th>\n",
       "      <td>1</td>\n",
       "      <td>3578</td>\n",
       "      <td>5.0</td>\n",
       "      <td>2000-07-30 18:11:08</td>\n",
       "      <td>Gladiator (2000)</td>\n",
       "      <td>Action|Adventure|Drama</td>\n",
       "      <td>172495</td>\n",
       "      <td>98.0</td>\n",
       "      <td>NaN</td>\n",
       "      <td>train</td>\n",
       "      <td>...</td>\n",
       "      <td>0.994336</td>\n",
       "      <td>0.99998</td>\n",
       "      <td>-0.646262</td>\n",
       "      <td>0.223926</td>\n",
       "      <td>-0.999948</td>\n",
       "      <td>0.213225</td>\n",
       "      <td>-0.953209</td>\n",
       "      <td>-0.915922</td>\n",
       "      <td>0.621617</td>\n",
       "      <td>-0.999871</td>\n",
       "    </tr>\n",
       "  </tbody>\n",
       "</table>\n",
       "<p>5 rows × 39 columns</p>\n",
       "</div>"
      ],
      "text/plain": [
       "   userId  movieId  rating           timestamp  \\\n",
       "0       1     1210     5.0 2000-07-30 18:08:19   \n",
       "1       1      804     4.0 2000-07-30 18:08:19   \n",
       "2       1     2628     4.0 2000-07-30 18:08:43   \n",
       "3       1     2826     4.0 2000-07-30 18:08:43   \n",
       "4       1     3578     5.0 2000-07-30 18:11:08   \n",
       "\n",
       "                                               title  \\\n",
       "0  Star Wars: Episode VI - Return of the Jedi (1983)   \n",
       "1                               She's the One (1996)   \n",
       "2   Star Wars: Episode I - The Phantom Menace (1999)   \n",
       "3                           13th Warrior, The (1999)   \n",
       "4                                   Gladiator (2000)   \n",
       "\n",
       "                     genres  imdbId   tmdbId  tag random_dstype  ...  \\\n",
       "0   Action|Adventure|Sci-Fi   86190   1892.0  NaN         train  ...   \n",
       "1            Comedy|Romance  117628  11363.0  NaN         train  ...   \n",
       "2   Action|Adventure|Sci-Fi  120915   1893.0  NaN         train  ...   \n",
       "3  Action|Adventure|Fantasy  120657   1911.0  NaN         train  ...   \n",
       "4    Action|Adventure|Drama  172495     98.0  NaN         train  ...   \n",
       "\n",
       "   user_autoenc0  user_autoenc1 user_autoenc2  user_autoenc3  user_autoenc4  \\\n",
       "0       0.994336        0.99998     -0.646262       0.223926      -0.999948   \n",
       "1       0.994336        0.99998     -0.646262       0.223926      -0.999948   \n",
       "2       0.994336        0.99998     -0.646262       0.223926      -0.999948   \n",
       "3       0.994336        0.99998     -0.646262       0.223926      -0.999948   \n",
       "4       0.994336        0.99998     -0.646262       0.223926      -0.999948   \n",
       "\n",
       "   user_autoenc5  user_autoenc6  user_autoenc7  user_autoenc8  user_autoenc9  \n",
       "0       0.213225      -0.953209      -0.915922       0.621617      -0.999871  \n",
       "1       0.213225      -0.953209      -0.915922       0.621617      -0.999871  \n",
       "2       0.213225      -0.953209      -0.915922       0.621617      -0.999871  \n",
       "3       0.213225      -0.953209      -0.915922       0.621617      -0.999871  \n",
       "4       0.213225      -0.953209      -0.915922       0.621617      -0.999871  \n",
       "\n",
       "[5 rows x 39 columns]"
      ]
     },
     "execution_count": 25,
     "metadata": {},
     "output_type": "execute_result"
    }
   ],
   "source": [
    "df_train.head()"
   ]
  },
  {
   "cell_type": "code",
   "execution_count": 26,
   "metadata": {},
   "outputs": [
    {
     "data": {
      "text/html": [
       "<div>\n",
       "<style scoped>\n",
       "    .dataframe tbody tr th:only-of-type {\n",
       "        vertical-align: middle;\n",
       "    }\n",
       "\n",
       "    .dataframe tbody tr th {\n",
       "        vertical-align: top;\n",
       "    }\n",
       "\n",
       "    .dataframe thead th {\n",
       "        text-align: right;\n",
       "    }\n",
       "</style>\n",
       "<table border=\"1\" class=\"dataframe\">\n",
       "  <thead>\n",
       "    <tr style=\"text-align: right;\">\n",
       "      <th></th>\n",
       "      <th>user_idx</th>\n",
       "      <th>movie_idx</th>\n",
       "      <th>item_autoenc0</th>\n",
       "      <th>item_autoenc1</th>\n",
       "      <th>item_autoenc2</th>\n",
       "      <th>item_autoenc3</th>\n",
       "      <th>item_autoenc4</th>\n",
       "      <th>item_autoenc5</th>\n",
       "      <th>item_autoenc6</th>\n",
       "      <th>item_autoenc7</th>\n",
       "      <th>...</th>\n",
       "      <th>user_autoenc0</th>\n",
       "      <th>user_autoenc1</th>\n",
       "      <th>user_autoenc2</th>\n",
       "      <th>user_autoenc3</th>\n",
       "      <th>user_autoenc4</th>\n",
       "      <th>user_autoenc5</th>\n",
       "      <th>user_autoenc6</th>\n",
       "      <th>user_autoenc7</th>\n",
       "      <th>user_autoenc8</th>\n",
       "      <th>user_autoenc9</th>\n",
       "    </tr>\n",
       "  </thead>\n",
       "  <tbody>\n",
       "    <tr>\n",
       "      <th>0</th>\n",
       "      <td>1</td>\n",
       "      <td>1</td>\n",
       "      <td>0.988670</td>\n",
       "      <td>-0.999911</td>\n",
       "      <td>-0.999998</td>\n",
       "      <td>0.995292</td>\n",
       "      <td>0.998766</td>\n",
       "      <td>0.976307</td>\n",
       "      <td>1.000000</td>\n",
       "      <td>0.997302</td>\n",
       "      <td>...</td>\n",
       "      <td>0.994336</td>\n",
       "      <td>0.99998</td>\n",
       "      <td>-0.646262</td>\n",
       "      <td>0.223926</td>\n",
       "      <td>-0.999948</td>\n",
       "      <td>0.213225</td>\n",
       "      <td>-0.953209</td>\n",
       "      <td>-0.915922</td>\n",
       "      <td>0.621617</td>\n",
       "      <td>-0.999871</td>\n",
       "    </tr>\n",
       "    <tr>\n",
       "      <th>1</th>\n",
       "      <td>1</td>\n",
       "      <td>2</td>\n",
       "      <td>0.990869</td>\n",
       "      <td>-0.999912</td>\n",
       "      <td>-0.999999</td>\n",
       "      <td>-0.761764</td>\n",
       "      <td>-0.986719</td>\n",
       "      <td>-0.995782</td>\n",
       "      <td>0.999659</td>\n",
       "      <td>0.998968</td>\n",
       "      <td>...</td>\n",
       "      <td>0.994336</td>\n",
       "      <td>0.99998</td>\n",
       "      <td>-0.646262</td>\n",
       "      <td>0.223926</td>\n",
       "      <td>-0.999948</td>\n",
       "      <td>0.213225</td>\n",
       "      <td>-0.953209</td>\n",
       "      <td>-0.915922</td>\n",
       "      <td>0.621617</td>\n",
       "      <td>-0.999871</td>\n",
       "    </tr>\n",
       "    <tr>\n",
       "      <th>2</th>\n",
       "      <td>1</td>\n",
       "      <td>3</td>\n",
       "      <td>0.994971</td>\n",
       "      <td>-0.999953</td>\n",
       "      <td>-1.000000</td>\n",
       "      <td>-0.622540</td>\n",
       "      <td>0.909488</td>\n",
       "      <td>-0.464001</td>\n",
       "      <td>0.999998</td>\n",
       "      <td>0.998657</td>\n",
       "      <td>...</td>\n",
       "      <td>0.994336</td>\n",
       "      <td>0.99998</td>\n",
       "      <td>-0.646262</td>\n",
       "      <td>0.223926</td>\n",
       "      <td>-0.999948</td>\n",
       "      <td>0.213225</td>\n",
       "      <td>-0.953209</td>\n",
       "      <td>-0.915922</td>\n",
       "      <td>0.621617</td>\n",
       "      <td>-0.999871</td>\n",
       "    </tr>\n",
       "    <tr>\n",
       "      <th>3</th>\n",
       "      <td>1</td>\n",
       "      <td>4</td>\n",
       "      <td>0.987776</td>\n",
       "      <td>-0.999880</td>\n",
       "      <td>-0.999997</td>\n",
       "      <td>0.515767</td>\n",
       "      <td>0.964464</td>\n",
       "      <td>0.743508</td>\n",
       "      <td>1.000000</td>\n",
       "      <td>0.997565</td>\n",
       "      <td>...</td>\n",
       "      <td>0.994336</td>\n",
       "      <td>0.99998</td>\n",
       "      <td>-0.646262</td>\n",
       "      <td>0.223926</td>\n",
       "      <td>-0.999948</td>\n",
       "      <td>0.213225</td>\n",
       "      <td>-0.953209</td>\n",
       "      <td>-0.915922</td>\n",
       "      <td>0.621617</td>\n",
       "      <td>-0.999871</td>\n",
       "    </tr>\n",
       "    <tr>\n",
       "      <th>4</th>\n",
       "      <td>1</td>\n",
       "      <td>6</td>\n",
       "      <td>0.993171</td>\n",
       "      <td>-0.999977</td>\n",
       "      <td>-1.000000</td>\n",
       "      <td>0.994922</td>\n",
       "      <td>0.997613</td>\n",
       "      <td>0.981797</td>\n",
       "      <td>1.000000</td>\n",
       "      <td>0.999067</td>\n",
       "      <td>...</td>\n",
       "      <td>0.994336</td>\n",
       "      <td>0.99998</td>\n",
       "      <td>-0.646262</td>\n",
       "      <td>0.223926</td>\n",
       "      <td>-0.999948</td>\n",
       "      <td>0.213225</td>\n",
       "      <td>-0.953209</td>\n",
       "      <td>-0.915922</td>\n",
       "      <td>0.621617</td>\n",
       "      <td>-0.999871</td>\n",
       "    </tr>\n",
       "  </tbody>\n",
       "</table>\n",
       "<p>5 rows × 22 columns</p>\n",
       "</div>"
      ],
      "text/plain": [
       "   user_idx  movie_idx  item_autoenc0  item_autoenc1  item_autoenc2  \\\n",
       "0         1          1       0.988670      -0.999911      -0.999998   \n",
       "1         1          2       0.990869      -0.999912      -0.999999   \n",
       "2         1          3       0.994971      -0.999953      -1.000000   \n",
       "3         1          4       0.987776      -0.999880      -0.999997   \n",
       "4         1          6       0.993171      -0.999977      -1.000000   \n",
       "\n",
       "   item_autoenc3  item_autoenc4  item_autoenc5  item_autoenc6  item_autoenc7  \\\n",
       "0       0.995292       0.998766       0.976307       1.000000       0.997302   \n",
       "1      -0.761764      -0.986719      -0.995782       0.999659       0.998968   \n",
       "2      -0.622540       0.909488      -0.464001       0.999998       0.998657   \n",
       "3       0.515767       0.964464       0.743508       1.000000       0.997565   \n",
       "4       0.994922       0.997613       0.981797       1.000000       0.999067   \n",
       "\n",
       "   ...  user_autoenc0  user_autoenc1  user_autoenc2  user_autoenc3  \\\n",
       "0  ...       0.994336        0.99998      -0.646262       0.223926   \n",
       "1  ...       0.994336        0.99998      -0.646262       0.223926   \n",
       "2  ...       0.994336        0.99998      -0.646262       0.223926   \n",
       "3  ...       0.994336        0.99998      -0.646262       0.223926   \n",
       "4  ...       0.994336        0.99998      -0.646262       0.223926   \n",
       "\n",
       "   user_autoenc4  user_autoenc5  user_autoenc6  user_autoenc7  user_autoenc8  \\\n",
       "0      -0.999948       0.213225      -0.953209      -0.915922       0.621617   \n",
       "1      -0.999948       0.213225      -0.953209      -0.915922       0.621617   \n",
       "2      -0.999948       0.213225      -0.953209      -0.915922       0.621617   \n",
       "3      -0.999948       0.213225      -0.953209      -0.915922       0.621617   \n",
       "4      -0.999948       0.213225      -0.953209      -0.915922       0.621617   \n",
       "\n",
       "   user_autoenc9  \n",
       "0      -0.999871  \n",
       "1      -0.999871  \n",
       "2      -0.999871  \n",
       "3      -0.999871  \n",
       "4      -0.999871  \n",
       "\n",
       "[5 rows x 22 columns]"
      ]
     },
     "execution_count": 26,
     "metadata": {},
     "output_type": "execute_result"
    }
   ],
   "source": [
    "df_train[['user_idx','movie_idx']+autoenc_cols].head()"
   ]
  },
  {
   "cell_type": "markdown",
   "metadata": {},
   "source": [
    "### Dataset and DataLoader"
   ]
  },
  {
   "cell_type": "code",
   "execution_count": 27,
   "metadata": {},
   "outputs": [],
   "source": [
    "class cfdata (torch.utils.data.dataset.Dataset):\n",
    "    def __init__(self,dfX,dfY,denseCols):\n",
    "        self.dfX,self.dfY=dfX,dfY\n",
    "        self.denseCols=denseCols\n",
    "        \n",
    "    def __len__ (self):\n",
    "        return self.dfX.shape[0]\n",
    "    \n",
    "    def __getitem__ (self, idx):\n",
    "        return torch.FloatTensor(self.dfX.iloc[idx].values),torch.FloatTensor([self.dfY.values[idx]])"
   ]
  },
  {
   "cell_type": "code",
   "execution_count": 28,
   "metadata": {},
   "outputs": [],
   "source": [
    "dstrain=cfdata(df_train[['user_idx','movie_idx']+autoenc_cols],df_train['rating'],autoenc_cols)\n",
    "dsvalid=cfdata(df_valid[['user_idx','movie_idx']+autoenc_cols],df_valid['rating'],autoenc_cols)"
   ]
  },
  {
   "cell_type": "code",
   "execution_count": 29,
   "metadata": {},
   "outputs": [
    {
     "data": {
      "text/plain": [
       "(90752, 39)"
      ]
     },
     "execution_count": 29,
     "metadata": {},
     "output_type": "execute_result"
    }
   ],
   "source": [
    "df_train.shape"
   ]
  },
  {
   "cell_type": "code",
   "execution_count": 30,
   "metadata": {},
   "outputs": [],
   "source": [
    "bs=8"
   ]
  },
  {
   "cell_type": "code",
   "execution_count": 31,
   "metadata": {},
   "outputs": [],
   "source": [
    "dltrain=DataLoader(dstrain,bs,True)"
   ]
  },
  {
   "cell_type": "code",
   "execution_count": 32,
   "metadata": {},
   "outputs": [],
   "source": [
    "dlvalid=DataLoader(dsvalid,bs,True)"
   ]
  },
  {
   "cell_type": "markdown",
   "metadata": {},
   "source": [
    "## Model Architecture"
   ]
  },
  {
   "cell_type": "code",
   "execution_count": 33,
   "metadata": {},
   "outputs": [],
   "source": [
    "n_users=len(user_to_idx)\n",
    "n_movies=len(movie_to_idx)\n",
    "n_emb_user=10\n",
    "n_emb_movie=25\n",
    "min_rating=min(df_train['rating'])\n",
    "max_rating=max(df_train['rating'])\n",
    "dropout_e=0.05\n",
    "hidden=[25,10]\n",
    "dropouts=[0.2,0.2]"
   ]
  },
  {
   "cell_type": "code",
   "execution_count": 34,
   "metadata": {},
   "outputs": [],
   "source": [
    "def hidden_layer(x,y,dropout,activation=nn.Sigmoid()):\n",
    "    return nn.Sequential(\n",
    "        nn.Linear(x, y),\n",
    "        activation,\n",
    "        nn.Dropout(p=dropout)\n",
    "        )   "
   ]
  },
  {
   "cell_type": "code",
   "execution_count": 35,
   "metadata": {},
   "outputs": [],
   "source": [
    "class cf(nn.Module):    \n",
    "    def __init__(self,n_users,n_emb_user,n_emb_movie,n_movies,min_rating,max_rating,autoenc_cols,\\\n",
    "                 dropout_e=0.01,hidden=[15,5],dropouts=[0.2,0.2]):\n",
    "        super().__init__()\n",
    "        self.n_users,self.n_emb_user,self.n_emb_movie,self.n_movies,self.min_rating,self.max_rating=\\\n",
    "                    n_users,n_emb_user,n_emb_movie,n_movies,min_rating,max_rating\n",
    "        self.dropout_e,self.hidden,self.dropouts=dropout_e,hidden,dropouts\n",
    "        self.autoenc_cols,self.len_dense_cols=autoenc_cols,len(autoenc_cols)\n",
    "        self.create_architecture()\n",
    "        self.criterion=nn.MSELoss()\n",
    "        \n",
    "        \n",
    "    def create_architecture(self):\n",
    "        self.emb_user=nn.Embedding(self.n_users+1,self.n_emb_user)\n",
    "        self.emb_movie=nn.Embedding(self.n_movies+1,self.n_emb_movie)\n",
    "        self.emb_dropout=nn.Dropout(self.dropout_e)\n",
    "        \n",
    "        lins=[hidden_layer(self.n_emb_user+self.n_emb_movie+self.len_dense_cols if i==0 else self.hidden[i-1],\\\n",
    "                                self.hidden[i] if i <len(hidden) else 1,\n",
    "                                self.dropouts[i] if i < len(hidden) else 0,\n",
    "                                nn.ReLU()) for i in range(len(hidden)+1)]\n",
    "        self.lins=nn.Sequential(*lins)\n",
    "        self.sigmoid=nn.Sigmoid()\n",
    "        \n",
    "        \n",
    "    def init_parameters(self):\n",
    "        nn.init.kaiming_normal_(self.emb_user.weight.data)\n",
    "        nn.init.kaiming_normal_(self.emb_movie.weight.dat)\n",
    "        #nn.init.kaiming_normal_(lin)\n",
    "       \n",
    "    def forward (self,Xb,Yb):\n",
    "        users=Xb[:,0].long()\n",
    "        items=Xb[:,1].long()\n",
    "        users=self.emb_dropout(self.emb_user(users))\n",
    "        items=self.emb_dropout(self.emb_movie(items))\n",
    "        denses=Xb[:,2:]\n",
    "        embed=torch.cat([users,items,denses],1)\n",
    "        out=self.lins(embed)\n",
    "        out=self.sigmoid(out)\n",
    "        preds=out*(self.max_rating-self.min_rating)+self.min_rating\n",
    "        #preds=preds.view(-1)\n",
    "        loss=self.criterion(preds,Yb)\n",
    "        return preds,loss"
   ]
  },
  {
   "cell_type": "code",
   "execution_count": 36,
   "metadata": {},
   "outputs": [],
   "source": [
    "cfobj=cf(n_users,n_emb_user,n_emb_movie,n_movies,min_rating,max_rating,autoenc_cols,dropout_e,hidden,dropouts)"
   ]
  },
  {
   "cell_type": "code",
   "execution_count": 37,
   "metadata": {},
   "outputs": [
    {
     "data": {
      "text/plain": [
       "cf(\n",
       "  (emb_user): Embedding(611, 10)\n",
       "  (emb_movie): Embedding(9725, 25)\n",
       "  (emb_dropout): Dropout(p=0.05)\n",
       "  (lins): Sequential(\n",
       "    (0): Sequential(\n",
       "      (0): Linear(in_features=55, out_features=25, bias=True)\n",
       "      (1): ReLU()\n",
       "      (2): Dropout(p=0.2)\n",
       "    )\n",
       "    (1): Sequential(\n",
       "      (0): Linear(in_features=25, out_features=10, bias=True)\n",
       "      (1): ReLU()\n",
       "      (2): Dropout(p=0.2)\n",
       "    )\n",
       "    (2): Sequential(\n",
       "      (0): Linear(in_features=10, out_features=1, bias=True)\n",
       "      (1): ReLU()\n",
       "      (2): Dropout(p=0)\n",
       "    )\n",
       "  )\n",
       "  (sigmoid): Sigmoid()\n",
       "  (criterion): MSELoss()\n",
       ")"
      ]
     },
     "execution_count": 37,
     "metadata": {},
     "output_type": "execute_result"
    }
   ],
   "source": [
    "cfobj"
   ]
  },
  {
   "cell_type": "code",
   "execution_count": 38,
   "metadata": {},
   "outputs": [],
   "source": [
    "for Xb, Yb in dltrain:\n",
    "    break"
   ]
  },
  {
   "cell_type": "code",
   "execution_count": 39,
   "metadata": {},
   "outputs": [
    {
     "data": {
      "text/plain": [
       "(torch.Size([8, 22]), torch.Size([8, 1]))"
      ]
     },
     "execution_count": 39,
     "metadata": {},
     "output_type": "execute_result"
    }
   ],
   "source": [
    "Xb.shape, Yb.shape"
   ]
  },
  {
   "cell_type": "code",
   "execution_count": 40,
   "metadata": {},
   "outputs": [
    {
     "data": {
      "text/plain": [
       "torch.float32"
      ]
     },
     "execution_count": 40,
     "metadata": {},
     "output_type": "execute_result"
    }
   ],
   "source": [
    "Xb.dtype"
   ]
  },
  {
   "cell_type": "code",
   "execution_count": 41,
   "metadata": {},
   "outputs": [
    {
     "data": {
      "text/plain": [
       "(tensor([[2.9768],\n",
       "         [2.9168],\n",
       "         [2.9805],\n",
       "         [2.8909],\n",
       "         [2.8948],\n",
       "         [2.8267],\n",
       "         [2.8998],\n",
       "         [2.9882]], grad_fn=<AddBackward0>),\n",
       " tensor(0.9316, grad_fn=<MseLossBackward>))"
      ]
     },
     "execution_count": 41,
     "metadata": {},
     "output_type": "execute_result"
    }
   ],
   "source": [
    "cfobj.forward(Xb,Yb)"
   ]
  },
  {
   "cell_type": "markdown",
   "metadata": {},
   "source": [
    "## Learner"
   ]
  },
  {
   "cell_type": "code",
   "execution_count": 42,
   "metadata": {},
   "outputs": [],
   "source": [
    "class Learner():\n",
    "    def __init__(self,model,optimizer,metric_fn,device,bptt=12,print_every=5,clip_val=None,\\\n",
    "                 cycle_mult=0,lr_decay=0.7,wd_mult=6,start_lr=2e-2, end_lr=5e-4):\n",
    "        self.model,self.optimizer,self.metric_fn,self.device,self.print_every,self.bptt,self.losses,self.clip_val=\\\n",
    "            model,optimizer,metric_fn,device,print_every,bptt,[],clip_val\n",
    "        self.n_epochs=1\n",
    "        self.cycle_mult,self.lr_decay=cycle_mult,lr_decay\n",
    "        self.wd_mult=wd_mult\n",
    "        for param_group in self.optimizer.param_groups:\n",
    "            self.start_lr=param_group['lr']\n",
    "            self.start_wd=param_group['weight_decay']\n",
    "        self.wd=self.start_wd\n",
    "        self.lr=self.start_lr\n",
    "        self.end_lr=end_lr\n",
    "        self.n_epoch=0\n",
    "        self.lrs=[1e-2,5e-3,1e-4,5e-4]\n",
    "        self.preds,self.preds_valid,self.trainY,self.actual=[],[],[],[]\n",
    "        self.ratio=self.end_lr/self.start_lr\n",
    "        self.num_steps=self.cycle_mult\n",
    "        self.reset_cycle=self.cycle_mult\n",
    "        \n",
    "    def fit (self,Xb,Yb,mode_train=True):\n",
    "        if mode_train:\n",
    "            self.model.train()\n",
    "        else:\n",
    "            self.model.eval()\n",
    "        \n",
    "        #import pdb\n",
    "        #pdb.set_trace()\n",
    "        preds,loss=self.model(Xb,Yb)\n",
    "\n",
    "        with torch.no_grad():\n",
    "            if self.metric_fn is not None:\n",
    "                acc=self.metric_fn(preds,Yb.view(-1),self.device)\n",
    "                acc=acc.item()\n",
    "\n",
    "                if 1==0:\n",
    "                    if mode_train:\n",
    "                        self.trainY.append(Yb.view(-1))\n",
    "                        self.preds.append(preds.data)\n",
    "                    else:\n",
    "                        self.actual.append(Yb.view(-1))\n",
    "                        self.preds_valid.append(preds.data)\n",
    "            else:\n",
    "                acc=0\n",
    "            del preds\n",
    "        \n",
    "        if mode_train:\n",
    "            if 1==0:\n",
    "                lr =self.lrs[torch.randint(0,4,(1,))]\n",
    "                for param_group in self.optimizer.param_groups:\n",
    "                    param_group['lr']=lr\n",
    "            \n",
    "            self.optimizer.zero_grad()\n",
    "            loss.backward()\n",
    "            self.optimizer.step()\n",
    "        myloss=loss.item()\n",
    "        acc=np.sqrt(myloss)\n",
    "        del loss\n",
    "        \n",
    "        if self.clip_val is not None:\n",
    "            torch.nn.utils.clip_grad_norm_(self.model.parameters(), self.clip_val)\n",
    "        \n",
    "        return myloss, acc\n",
    "    \n",
    "    def lr_find (self,start_lr,end_lr,iterator,n_batch):\n",
    "        losses,lrs=[],[]\n",
    "        ratio=end_lr/start_lr\n",
    "        num_steps=n_batch\n",
    "        lr=start_lr\n",
    "        for i in range(num_steps):            \n",
    "            lr=lr*(end_lr/start_lr)**(1/num_steps)\n",
    "            lrs.append(lr)\n",
    "        self.lrs=lrs\n",
    "        self.run_epoch(iterator,mode_train=True,lrs=lrs)\n",
    "    \n",
    "    def run_epoch(self,iterator,mode_train,lrs=None):\n",
    "        epoch_loss,epoch_acc,i,k=0,0,0,0\n",
    "\n",
    "        for Xb,Yb in iterator:\n",
    "            Xb=Xb.to(self.device)\n",
    "            Yb=Yb.to(self.device)\n",
    "            \n",
    "            if lrs is not None:\n",
    "                lr=lrs[k]\n",
    "                for param_group in self.optimizer.param_groups:\n",
    "                    param_group['lr']=lr \n",
    "            \n",
    "\n",
    "            loss,acc=self.fit(Xb,Yb,mode_train)\n",
    "            \n",
    "            if lrs is not None:\n",
    "                self.losses.append(loss)\n",
    "            \n",
    "            \n",
    "            epoch_loss+=loss\n",
    "            epoch_acc+=acc\n",
    "            \n",
    "            k=k+1\n",
    "            if k%self.print_every == 0:\n",
    "                if k:\n",
    "                    print (f'Batch:{k} {epoch_loss/(k)}  ')  \n",
    "                    torch.cuda.empty_cache()\n",
    "        epoch_loss=epoch_loss/len(iterator)\n",
    "        epoch_acc=epoch_acc/len(iterator)\n",
    "            \n",
    "        return epoch_loss,epoch_acc\n",
    "    \n",
    "    def plot_lrs(self, n_roll=1,ylim=None,xlim=None):\n",
    "        import seaborn as sns\n",
    "        ax=sns.lineplot(x=self.lrs,y=pd.Series(self.losses).rolling(n_roll).mean())\n",
    "        ax.set_xscale('log')\n",
    "        ax.set_ylabel('Loss')\n",
    "        ax.set_xlabel('Learning Rate')\n",
    "        if ylim is not None:\n",
    "            plt.ylim(ylim)\n",
    "        if xlim is not None:\n",
    "            plt.xlim(xlim)\n",
    "\n",
    "     \n",
    "    def run_epochs(self,dltrain,dlvalid,n_epochs=1):              \n",
    "        for epoch in range(n_epochs):                \n",
    "            loss,acc=self.run_epoch(dltrain,True)\n",
    "            lossv,accv=self.run_epoch(dlvalid,mode_train=False)\n",
    "            print (f'Epoch:{epoch} Learning rate {self.lr} Weight Decay {self.wd} Train Loss:{loss} \\\n",
    "                Valid Loss:{lossv} Train RMSE:{acc} Valid RMSE:{accv}')\n",
    "  \n",
    "            if self.cycle_mult:\n",
    "                if self.n_epoch==self.reset_cycle:\n",
    "                    self.lr=self.start_lr\n",
    "                    #self.wd=self.start_wd\n",
    "                    self.reset_cycle*=self.cycle_mult\n",
    "                    #reset_cycle=self.n_epoch+reset_cycle\n",
    "                    self.n_epoch=0\n",
    "                    self.ratio=self.end_lr/self.start_lr\n",
    "                    self.num_steps=self.reset_cycle\n",
    "                else:\n",
    "                    #self.lr*=(self.lr_decay**self.n_epoch)  \n",
    "                    #if self.n_epoch>1:\n",
    "                    #    self.wd*=self.wd_mult\n",
    "                    self.lr=self.lr*(self.end_lr/self.start_lr)**(1/self.num_steps)\n",
    "                    self.n_epoch+=1\n",
    "        \n",
    "\n",
    "                \n",
    "            for param_group in self.optimizer.param_groups:\n",
    "                param_group['lr']=self.lr\n",
    "                #param_group['weight_decay']=self.wd\n",
    "          \n",
    "     "
   ]
  },
  {
   "cell_type": "code",
   "execution_count": 43,
   "metadata": {},
   "outputs": [],
   "source": [
    "device='cuda:0'"
   ]
  },
  {
   "cell_type": "code",
   "execution_count": 44,
   "metadata": {},
   "outputs": [],
   "source": [
    "cfobj=cf(n_users,n_emb_user,n_emb_movie,n_movies,min_rating,max_rating,autoenc_cols,dropout_e,hidden,dropouts)"
   ]
  },
  {
   "cell_type": "code",
   "execution_count": 45,
   "metadata": {},
   "outputs": [],
   "source": [
    "cfobj=cfobj.to(device)"
   ]
  },
  {
   "cell_type": "code",
   "execution_count": 46,
   "metadata": {},
   "outputs": [
    {
     "data": {
      "text/plain": [
       "cf(\n",
       "  (emb_user): Embedding(611, 10)\n",
       "  (emb_movie): Embedding(9725, 25)\n",
       "  (emb_dropout): Dropout(p=0.05)\n",
       "  (lins): Sequential(\n",
       "    (0): Sequential(\n",
       "      (0): Linear(in_features=55, out_features=25, bias=True)\n",
       "      (1): ReLU()\n",
       "      (2): Dropout(p=0.2)\n",
       "    )\n",
       "    (1): Sequential(\n",
       "      (0): Linear(in_features=25, out_features=10, bias=True)\n",
       "      (1): ReLU()\n",
       "      (2): Dropout(p=0.2)\n",
       "    )\n",
       "    (2): Sequential(\n",
       "      (0): Linear(in_features=10, out_features=1, bias=True)\n",
       "      (1): ReLU()\n",
       "      (2): Dropout(p=0)\n",
       "    )\n",
       "  )\n",
       "  (sigmoid): Sigmoid()\n",
       "  (criterion): MSELoss()\n",
       ")"
      ]
     },
     "execution_count": 46,
     "metadata": {},
     "output_type": "execute_result"
    }
   ],
   "source": [
    "cfobj"
   ]
  },
  {
   "cell_type": "code",
   "execution_count": 47,
   "metadata": {},
   "outputs": [],
   "source": [
    "wd=1e-7\n",
    "optimizer=torch.optim.Adam(cfobj.parameters(),lr=5e-3,betas=(0.9,0.999), weight_decay=wd)\n",
    "learner=Learner(cfobj,optimizer,None,device,0,12000,0.25,cycle_mult=0)"
   ]
  },
  {
   "cell_type": "code",
   "execution_count": 48,
   "metadata": {},
   "outputs": [
    {
     "data": {
      "text/plain": [
       "11344"
      ]
     },
     "execution_count": 48,
     "metadata": {},
     "output_type": "execute_result"
    }
   ],
   "source": [
    "len(dltrain)"
   ]
  },
  {
   "cell_type": "code",
   "execution_count": 49,
   "metadata": {},
   "outputs": [],
   "source": [
    "learner.lr_find(1e-4,1e-1,dltrain,len(dltrain))"
   ]
  },
  {
   "cell_type": "code",
   "execution_count": 53,
   "metadata": {},
   "outputs": [
    {
     "data": {
      "image/png": "[encoded data removed]",
      "text/plain": [
       "<Figure size 432x288 with 1 Axes>"
      ]
     },
     "metadata": {
      "needs_background": "light"
     },
     "output_type": "display_data"
    }
   ],
   "source": [
    "learner.plot_lrs(100)"
   ]
  },
  {
   "cell_type": "code",
   "execution_count": 54,
   "metadata": {},
   "outputs": [],
   "source": [
    "wd=1e-7\n",
    "optimizer=torch.optim.Adam(cfobj.parameters(),lr=5e-4,betas=(0.9,0.999), weight_decay=wd)\n",
    "learner=Learner(cfobj,optimizer,None,device,0,12000,0.25,cycle_mult=0)"
   ]
  },
  {
   "cell_type": "code",
   "execution_count": 55,
   "metadata": {},
   "outputs": [],
   "source": [
    "del cfobj\n",
    "torch.cuda.empty_cache()"
   ]
  },
  {
   "cell_type": "code",
   "execution_count": 56,
   "metadata": {},
   "outputs": [],
   "source": [
    "cfobj=cf(n_users,n_emb_user,n_emb_movie,n_movies,min_rating,max_rating,autoenc_cols,dropout_e,hidden,dropouts)\n",
    "cfobj=cfobj.to(device)"
   ]
  },
  {
   "cell_type": "code",
   "execution_count": null,
   "metadata": {},
   "outputs": [
    {
     "name": "stdout",
     "output_type": "stream",
     "text": [
      "Epoch:0 Learning rate 0.0005 Weight Decay 1e-07 Train Loss:1.0761382262805694                 Valid Loss:1.0970779667762798 Train RMSE:1.0043395410755496 Valid RMSE:1.0136727380638075\n",
      "Epoch:1 Learning rate 0.0005 Weight Decay 1e-07 Train Loss:1.0394278097045917                 Valid Loss:1.0180971665657956 Train RMSE:0.9843017430826017 Valid RMSE:0.9728491203134938\n",
      "Epoch:2 Learning rate 0.0005 Weight Decay 1e-07 Train Loss:0.9123775121105352                 Valid Loss:0.9231424140260155 Train RMSE:0.9179331667960511 Valid RMSE:0.9269209634962571\n",
      "Epoch:3 Learning rate 0.0005 Weight Decay 1e-07 Train Loss:0.8334544894068104                 Valid Loss:0.8872773922052202 Train RMSE:0.8754486902681499 Valid RMSE:0.9074387361013597\n",
      "Epoch:4 Learning rate 0.0005 Weight Decay 1e-07 Train Loss:0.8039175832433276                 Valid Loss:0.8718824779273592 Train RMSE:0.859899014792548 Valid RMSE:0.8964642156200826\n",
      "Epoch:5 Learning rate 0.0005 Weight Decay 1e-07 Train Loss:0.7869242659260286                 Valid Loss:0.8653230408914121 Train RMSE:0.8496163370720227 Valid RMSE:0.8948964942505202\n",
      "Epoch:6 Learning rate 0.0005 Weight Decay 1e-07 Train Loss:0.7627486219867402                 Valid Loss:0.8664869895761775 Train RMSE:0.8357608179564101 Valid RMSE:0.8950515227091578\n",
      "Epoch:7 Learning rate 0.0005 Weight Decay 1e-07 Train Loss:0.7513157730371717                 Valid Loss:0.8588188385131528 Train RMSE:0.8299085328475575 Valid RMSE:0.8911593519988223\n",
      "Epoch:8 Learning rate 0.0005 Weight Decay 1e-07 Train Loss:0.7448935628752388                 Valid Loss:0.8594216190390791 Train RMSE:0.8256142351364035 Valid RMSE:0.8908028056266859\n",
      "Epoch:9 Learning rate 0.0005 Weight Decay 1e-07 Train Loss:0.7381753537049242                 Valid Loss:0.8644496621586187 Train RMSE:0.8209889832485302 Valid RMSE:0.8915497325904355\n",
      "Epoch:10 Learning rate 0.0005 Weight Decay 1e-07 Train Loss:0.7337432020151402                 Valid Loss:0.8557965971476308 Train RMSE:0.8194480716947881 Valid RMSE:0.8908393536101041\n",
      "Epoch:11 Learning rate 0.0005 Weight Decay 1e-07 Train Loss:0.7279875818649846                 Valid Loss:0.8540223226347062 Train RMSE:0.8159381361672873 Valid RMSE:0.8879738550564609\n",
      "Epoch:12 Learning rate 0.0005 Weight Decay 1e-07 Train Loss:0.7196799635758088                 Valid Loss:0.8817626319287979 Train RMSE:0.80980759251733 Valid RMSE:0.9022081547761571\n",
      "Epoch:13 Learning rate 0.0005 Weight Decay 1e-07 Train Loss:0.7118453791291796                 Valid Loss:0.8584526887933098 Train RMSE:0.8057294661798052 Valid RMSE:0.8901441285307161\n",
      "Epoch:14 Learning rate 0.0005 Weight Decay 1e-07 Train Loss:0.7073490007465071                 Valid Loss:0.8613125398477376 Train RMSE:0.8035018805159755 Valid RMSE:0.8902115346839112\n",
      "Epoch:15 Learning rate 0.0005 Weight Decay 1e-07 Train Loss:0.7032191287936336                 Valid Loss:0.8631426563942887 Train RMSE:0.8002888902406259 Valid RMSE:0.8911237002331317\n",
      "Epoch:16 Learning rate 0.0005 Weight Decay 1e-07 Train Loss:0.6989595079331492                 Valid Loss:0.8858980711174332 Train RMSE:0.7981951019221932 Valid RMSE:0.902298632980338\n"
     ]
    }
   ],
   "source": [
    "learner.run_epochs(dltrain,dlvalid,25)"
   ]
  },
  {
   "cell_type": "code",
   "execution_count": 151,
   "metadata": {},
   "outputs": [],
   "source": [
    "del cfobj\n",
    "torch.cuda.empty_cache()"
   ]
  },
  {
   "cell_type": "code",
   "execution_count": 152,
   "metadata": {},
   "outputs": [],
   "source": [
    "cfobj=cf(n_users,n_emb_user,n_emb_movie,n_movies,min_rating,max_rating,autoenc_cols,dropout_e,hidden,dropouts)\n",
    "cfobj=cfobj.to(device)"
   ]
  },
  {
   "cell_type": "code",
   "execution_count": 153,
   "metadata": {},
   "outputs": [],
   "source": [
    "wd=1e-7\n",
    "optimizer=torch.optim.Adam(cfobj.parameters(),lr=5e-3,betas=(0.9,0.999), weight_decay=wd)\n",
    "learner=Learner(cfobj,optimizer,None,device,0,12000,0.25,cycle_mult=2,start_lr=8e-3,end_lr=8e-4)"
   ]
  },
  {
   "cell_type": "code",
   "execution_count": 154,
   "metadata": {},
   "outputs": [
    {
     "name": "stdout",
     "output_type": "stream",
     "text": [
      "Epoch:0 Learning rate 0.005 Weight Decay 1e-07 Train Loss:0.843544218016326                 Valid Loss:0.8981637894800029 Train RMSE:0.8810616715046327 Valid RMSE:0.9123333699528205\n",
      "Epoch:1 Learning rate 0.002 Weight Decay 1e-07 Train Loss:0.7616456080574874                 Valid Loss:0.8694652731838347 Train RMSE:0.8347994758886323 Valid RMSE:0.8977518560149601\n",
      "Epoch:2 Learning rate 0.0008 Weight Decay 1e-07 Train Loss:0.7314371012308213                 Valid Loss:0.869653258245205 Train RMSE:0.817331555922132 Valid RMSE:0.8966047095573153\n",
      "Epoch:3 Learning rate 0.005 Weight Decay 1e-07 Train Loss:0.7710638780406924                 Valid Loss:0.8848729260283552 Train RMSE:0.8408356648867297 Valid RMSE:0.9043134218701291\n",
      "Epoch:4 Learning rate 0.0031622776601683794 Weight Decay 1e-07 Train Loss:0.7464543257075479                 Valid Loss:0.9129999140713254 Train RMSE:0.8266364040472902 Valid RMSE:0.9187421742830725\n",
      "Epoch:5 Learning rate 0.002 Weight Decay 1e-07 Train Loss:0.723862071824687                 Valid Loss:0.8698447398977276 Train RMSE:0.8137071313192521 Valid RMSE:0.9001952360085326\n",
      "Epoch:6 Learning rate 0.0012649110640673518 Weight Decay 1e-07 Train Loss:0.707953024942596                 Valid Loss:0.8709843356242074 Train RMSE:0.803037278088472 Valid RMSE:0.8975468728444879\n",
      "Epoch:7 Learning rate 0.0008 Weight Decay 1e-07 Train Loss:0.6973137997214949                 Valid Loss:0.8684821200899006 Train RMSE:0.7972078064566267 Valid RMSE:0.8953057900794934\n",
      "Epoch:8 Learning rate 0.005 Weight Decay 1e-07 Train Loss:0.7440716828618918                 Valid Loss:0.8645332956082475 Train RMSE:0.8254368664641907 Valid RMSE:0.8987039776204878\n",
      "Epoch:9 Learning rate 0.0039763536438352535 Weight Decay 1e-07 Train Loss:0.7396766918641416                 Valid Loss:0.8796200106462536 Train RMSE:0.8227732742105347 Valid RMSE:0.9030404921476355\n",
      "Epoch:10 Learning rate 0.0031622776601683794 Weight Decay 1e-07 Train Loss:0.7272347356301138                 Valid Loss:0.8701570864935227 Train RMSE:0.814709828438045 Valid RMSE:0.8949794866639859\n",
      "Epoch:11 Learning rate 0.0025148668593658707 Weight Decay 1e-07 Train Loss:0.7114835277049342                 Valid Loss:0.8615271533993764 Train RMSE:0.8056213637330341 Valid RMSE:0.8929293418456173\n",
      "Epoch:12 Learning rate 0.0019999999999999996 Weight Decay 1e-07 Train Loss:0.700297961923148                 Valid Loss:0.8830763226482813 Train RMSE:0.7985044853725706 Valid RMSE:0.902343047009476\n",
      "Epoch:13 Learning rate 0.0015905414575341009 Weight Decay 1e-07 Train Loss:0.6911673389266183                 Valid Loss:0.8739926442740268 Train RMSE:0.7939279480005216 Valid RMSE:0.8984862078322962\n",
      "Epoch:14 Learning rate 0.0012649110640673513 Weight Decay 1e-07 Train Loss:0.6854984149704944                 Valid Loss:0.8657481408870759 Train RMSE:0.7900609217628304 Valid RMSE:0.8955420261754622\n",
      "Epoch:15 Learning rate 0.001005946743746348 Weight Decay 1e-07 Train Loss:0.6763701398173224                 Valid Loss:0.8640976021927468 Train RMSE:0.78412074969068 Valid RMSE:0.8947819394658982\n",
      "Epoch:16 Learning rate 0.0007999999999999996 Weight Decay 1e-07 Train Loss:0.6701995733335919                 Valid Loss:0.8765901048844245 Train RMSE:0.7805966655203497 Valid RMSE:0.8970909288413575\n",
      "Epoch:17 Learning rate 0.005 Weight Decay 1e-07 Train Loss:0.7254285999998707                 Valid Loss:0.8733959050109045 Train RMSE:0.8138999107217346 Valid RMSE:0.8978587238159227\n",
      "Epoch:18 Learning rate 0.004458897646187482 Weight Decay 1e-07 Train Loss:0.7220404669754102                 Valid Loss:0.8750894322613229 Train RMSE:0.8132598384694651 Valid RMSE:0.8978401770814937\n",
      "Epoch:19 Learning rate 0.0039763536438352535 Weight Decay 1e-07 Train Loss:0.718181771550187                 Valid Loss:0.8866762060385484 Train RMSE:0.8102312891852791 Valid RMSE:0.9048123169081644\n"
     ]
    }
   ],
   "source": [
    "learner.run_epochs(dltrain,dlvalid,20)"
   ]
  },
  {
   "cell_type": "code",
   "execution_count": 172,
   "metadata": {},
   "outputs": [
    {
     "name": "stderr",
     "output_type": "stream",
     "text": [
      "/home/kirana/anaconda3/lib/python3.7/site-packages/torch/serialization.py:256: UserWarning: Couldn't retrieve source code for container of type cf. It won't be checked for correctness upon loading.\n",
      "  \"type \" + obj.__name__ + \". It won't be checked \"\n"
     ]
    }
   ],
   "source": [
    "\n",
    "torch.save(cfobj,f'{DATAPATH}/inter/cfobj')"
   ]
  },
  {
   "cell_type": "code",
   "execution_count": 177,
   "metadata": {},
   "outputs": [],
   "source": [
    "torch.save(optimizer,f'{DATAPATH}/inter/optimizer')"
   ]
  },
  {
   "cell_type": "code",
   "execution_count": 183,
   "metadata": {},
   "outputs": [
    {
     "ename": "PicklingError",
     "evalue": "Can't pickle <class '__main__.Learner'>: it's not the same object as __main__.Learner",
     "output_type": "error",
     "traceback": [
      "\u001b[0;31m---------------------------------------------------------------------------\u001b[0m",
      "\u001b[0;31mPicklingError\u001b[0m                             Traceback (most recent call last)",
      "\u001b[0;32m<ipython-input-183-2be1dcb93c98>\u001b[0m in \u001b[0;36m<module>\u001b[0;34m\u001b[0m\n\u001b[0;32m----> 1\u001b[0;31m \u001b[0mpickle\u001b[0m\u001b[0;34m.\u001b[0m\u001b[0mdump\u001b[0m\u001b[0;34m(\u001b[0m\u001b[0mlearner\u001b[0m\u001b[0;34m,\u001b[0m\u001b[0mopen\u001b[0m\u001b[0;34m(\u001b[0m\u001b[0;34mf'{DATAPATH}/inter/learner'\u001b[0m\u001b[0;34m,\u001b[0m\u001b[0;34m'wb'\u001b[0m\u001b[0;34m)\u001b[0m\u001b[0;34m)\u001b[0m\u001b[0;34m\u001b[0m\u001b[0;34m\u001b[0m\u001b[0m\n\u001b[0m",
      "\u001b[0;31mPicklingError\u001b[0m: Can't pickle <class '__main__.Learner'>: it's not the same object as __main__.Learner"
     ]
    }
   ],
   "source": [
    "pickle.dump(learner,open(f'{DATAPATH}/inter/learner','wb'))"
   ]
  },
  {
   "cell_type": "code",
   "execution_count": null,
   "metadata": {},
   "outputs": [],
   "source": []
  }
 ],
 "metadata": {
  "kernelspec": {
   "display_name": "Python 3",
   "language": "python",
   "name": "python3"
  },
  "language_info": {
   "codemirror_mode": {
    "name": "ipython",
    "version": 3
   },
   "file_extension": ".py",
   "mimetype": "text/x-python",
   "name": "python",
   "nbconvert_exporter": "python",
   "pygments_lexer": "ipython3",
   "version": "3.7.3"
  }
 },
 "nbformat": 4,
 "nbformat_minor": 2
}
