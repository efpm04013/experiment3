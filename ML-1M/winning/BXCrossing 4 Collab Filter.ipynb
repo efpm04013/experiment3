{
 "cells": [
  {
   "cell_type": "code",
   "execution_count": 1,
   "metadata": {},
   "outputs": [],
   "source": [
    "PATH='/home/kirana/Documents/phd/exp3_autoencoder'\n",
    "DATAPATH='/home/kirana/Documents/final_dissertation_final/experiments/datasets/bookcrossing'"
   ]
  },
  {
   "cell_type": "code",
   "execution_count": 2,
   "metadata": {},
   "outputs": [],
   "source": [
    "import pandas as pd\n",
    "import numpy as np\n",
    "import matplotlib.pyplot as plt\n",
    "import sklearn\n",
    "import os\n",
    "import pickle\n",
    "import torch\n",
    "from torch.utils.data import Dataset, DataLoader\n",
    "from torch import nn"
   ]
  },
  {
   "cell_type": "code",
   "execution_count": 3,
   "metadata": {},
   "outputs": [],
   "source": [
    "[df, df_train,df_valid,df,df_ratings,idx_to_user,\\\n",
    "             idx_to_movie,movie_to_idx,user_to_idx]=pickle.load(open(f'{DATAPATH}/reads.pkl','rb'))"
   ]
  },
  {
   "cell_type": "code",
   "execution_count": 4,
   "metadata": {},
   "outputs": [
    {
     "data": {
      "text/plain": [
       "(1149780, 14)"
      ]
     },
     "execution_count": 4,
     "metadata": {},
     "output_type": "execute_result"
    }
   ],
   "source": [
    "df.shape"
   ]
  },
  {
   "cell_type": "code",
   "execution_count": 5,
   "metadata": {},
   "outputs": [
    {
     "data": {
      "text/html": [
       "<div>\n",
       "<style scoped>\n",
       "    .dataframe tbody tr th:only-of-type {\n",
       "        vertical-align: middle;\n",
       "    }\n",
       "\n",
       "    .dataframe tbody tr th {\n",
       "        vertical-align: top;\n",
       "    }\n",
       "\n",
       "    .dataframe thead th {\n",
       "        text-align: right;\n",
       "    }\n",
       "</style>\n",
       "<table border=\"1\" class=\"dataframe\">\n",
       "  <thead>\n",
       "    <tr style=\"text-align: right;\">\n",
       "      <th></th>\n",
       "      <th>userId</th>\n",
       "      <th>itemId</th>\n",
       "      <th>rating</th>\n",
       "      <th>Location</th>\n",
       "      <th>Age</th>\n",
       "      <th>Book-Title</th>\n",
       "      <th>Book-Author</th>\n",
       "      <th>Year-Of-Publication</th>\n",
       "      <th>Publisher</th>\n",
       "      <th>random_dstype</th>\n",
       "      <th>user_idx</th>\n",
       "      <th>item_idx</th>\n",
       "      <th>dstype_random_train</th>\n",
       "      <th>dstype_random_valid</th>\n",
       "    </tr>\n",
       "  </thead>\n",
       "  <tbody>\n",
       "    <tr>\n",
       "      <th>1006309</th>\n",
       "      <td>241656</td>\n",
       "      <td>0340824735</td>\n",
       "      <td>7</td>\n",
       "      <td>melbourn, england, united kingdom</td>\n",
       "      <td>49.0</td>\n",
       "      <td>NaN</td>\n",
       "      <td>NaN</td>\n",
       "      <td>NaN</td>\n",
       "      <td>NaN</td>\n",
       "      <td>train</td>\n",
       "      <td>1</td>\n",
       "      <td>1</td>\n",
       "      <td>1</td>\n",
       "      <td>0</td>\n",
       "    </tr>\n",
       "    <tr>\n",
       "      <th>608046</th>\n",
       "      <td>147045</td>\n",
       "      <td>0873512553</td>\n",
       "      <td>0</td>\n",
       "      <td>saint paul, minnesota, usa</td>\n",
       "      <td>28.0</td>\n",
       "      <td>The days of Rondo</td>\n",
       "      <td>Evelyn Fairbanks</td>\n",
       "      <td>1990</td>\n",
       "      <td>Minnesota Historical Society Press</td>\n",
       "      <td>train</td>\n",
       "      <td>2</td>\n",
       "      <td>2</td>\n",
       "      <td>1</td>\n",
       "      <td>0</td>\n",
       "    </tr>\n",
       "    <tr>\n",
       "      <th>871538</th>\n",
       "      <td>210926</td>\n",
       "      <td>0345459202</td>\n",
       "      <td>9</td>\n",
       "      <td>guelph, ontario, canada</td>\n",
       "      <td>NaN</td>\n",
       "      <td>Big Stone Gap</td>\n",
       "      <td>Adriana Trigiani</td>\n",
       "      <td>2003</td>\n",
       "      <td>Fawcett Books</td>\n",
       "      <td>train</td>\n",
       "      <td>3</td>\n",
       "      <td>3</td>\n",
       "      <td>1</td>\n",
       "      <td>0</td>\n",
       "    </tr>\n",
       "    <tr>\n",
       "      <th>752379</th>\n",
       "      <td>182085</td>\n",
       "      <td>0446350451</td>\n",
       "      <td>0</td>\n",
       "      <td>ginsheim, hessen, germany</td>\n",
       "      <td>NaN</td>\n",
       "      <td>Sensations</td>\n",
       "      <td>Virginia Carry</td>\n",
       "      <td>1988</td>\n",
       "      <td>Warner Books</td>\n",
       "      <td>train</td>\n",
       "      <td>4</td>\n",
       "      <td>4</td>\n",
       "      <td>1</td>\n",
       "      <td>0</td>\n",
       "    </tr>\n",
       "    <tr>\n",
       "      <th>124597</th>\n",
       "      <td>28591</td>\n",
       "      <td>0821767445</td>\n",
       "      <td>10</td>\n",
       "      <td>michie, tennessee, usa</td>\n",
       "      <td>33.0</td>\n",
       "      <td>Jed (Rock Creek Six)</td>\n",
       "      <td>Linda Devlin</td>\n",
       "      <td>2001</td>\n",
       "      <td>Zebra Books</td>\n",
       "      <td>train</td>\n",
       "      <td>5</td>\n",
       "      <td>5</td>\n",
       "      <td>1</td>\n",
       "      <td>0</td>\n",
       "    </tr>\n",
       "  </tbody>\n",
       "</table>\n",
       "</div>"
      ],
      "text/plain": [
       "         userId      itemId  rating                           Location   Age  \\\n",
       "1006309  241656  0340824735       7  melbourn, england, united kingdom  49.0   \n",
       "608046   147045  0873512553       0         saint paul, minnesota, usa  28.0   \n",
       "871538   210926  0345459202       9            guelph, ontario, canada   NaN   \n",
       "752379   182085  0446350451       0          ginsheim, hessen, germany   NaN   \n",
       "124597    28591  0821767445      10             michie, tennessee, usa  33.0   \n",
       "\n",
       "                   Book-Title       Book-Author Year-Of-Publication  \\\n",
       "1006309                   NaN               NaN                 NaN   \n",
       "608046      The days of Rondo  Evelyn Fairbanks                1990   \n",
       "871538          Big Stone Gap  Adriana Trigiani                2003   \n",
       "752379             Sensations    Virginia Carry                1988   \n",
       "124597   Jed (Rock Creek Six)      Linda Devlin                2001   \n",
       "\n",
       "                                  Publisher random_dstype  user_idx  item_idx  \\\n",
       "1006309                                 NaN         train         1         1   \n",
       "608046   Minnesota Historical Society Press         train         2         2   \n",
       "871538                        Fawcett Books         train         3         3   \n",
       "752379                         Warner Books         train         4         4   \n",
       "124597                          Zebra Books         train         5         5   \n",
       "\n",
       "         dstype_random_train  dstype_random_valid  \n",
       "1006309                    1                    0  \n",
       "608046                     1                    0  \n",
       "871538                     1                    0  \n",
       "752379                     1                    0  \n",
       "124597                     1                    0  "
      ]
     },
     "execution_count": 5,
     "metadata": {},
     "output_type": "execute_result"
    }
   ],
   "source": [
    "df.head()"
   ]
  },
  {
   "cell_type": "code",
   "execution_count": 6,
   "metadata": {},
   "outputs": [],
   "source": [
    "df_train=df.loc[df['random_dstype']=='train']\n",
    "df_valid=df.loc[df['random_dstype']!='train']"
   ]
  },
  {
   "cell_type": "code",
   "execution_count": 7,
   "metadata": {},
   "outputs": [
    {
     "data": {
      "text/html": [
       "<div>\n",
       "<style scoped>\n",
       "    .dataframe tbody tr th:only-of-type {\n",
       "        vertical-align: middle;\n",
       "    }\n",
       "\n",
       "    .dataframe tbody tr th {\n",
       "        vertical-align: top;\n",
       "    }\n",
       "\n",
       "    .dataframe thead th {\n",
       "        text-align: right;\n",
       "    }\n",
       "</style>\n",
       "<table border=\"1\" class=\"dataframe\">\n",
       "  <thead>\n",
       "    <tr style=\"text-align: right;\">\n",
       "      <th></th>\n",
       "      <th>userId</th>\n",
       "      <th>itemId</th>\n",
       "      <th>rating</th>\n",
       "      <th>Location</th>\n",
       "      <th>Age</th>\n",
       "      <th>Book-Title</th>\n",
       "      <th>Book-Author</th>\n",
       "      <th>Year-Of-Publication</th>\n",
       "      <th>Publisher</th>\n",
       "      <th>random_dstype</th>\n",
       "      <th>user_idx</th>\n",
       "      <th>item_idx</th>\n",
       "      <th>dstype_random_train</th>\n",
       "      <th>dstype_random_valid</th>\n",
       "    </tr>\n",
       "  </thead>\n",
       "  <tbody>\n",
       "    <tr>\n",
       "      <th>1006309</th>\n",
       "      <td>241656</td>\n",
       "      <td>0340824735</td>\n",
       "      <td>7</td>\n",
       "      <td>melbourn, england, united kingdom</td>\n",
       "      <td>49.0</td>\n",
       "      <td>NaN</td>\n",
       "      <td>NaN</td>\n",
       "      <td>NaN</td>\n",
       "      <td>NaN</td>\n",
       "      <td>train</td>\n",
       "      <td>1</td>\n",
       "      <td>1</td>\n",
       "      <td>1</td>\n",
       "      <td>0</td>\n",
       "    </tr>\n",
       "    <tr>\n",
       "      <th>608046</th>\n",
       "      <td>147045</td>\n",
       "      <td>0873512553</td>\n",
       "      <td>0</td>\n",
       "      <td>saint paul, minnesota, usa</td>\n",
       "      <td>28.0</td>\n",
       "      <td>The days of Rondo</td>\n",
       "      <td>Evelyn Fairbanks</td>\n",
       "      <td>1990</td>\n",
       "      <td>Minnesota Historical Society Press</td>\n",
       "      <td>train</td>\n",
       "      <td>2</td>\n",
       "      <td>2</td>\n",
       "      <td>1</td>\n",
       "      <td>0</td>\n",
       "    </tr>\n",
       "    <tr>\n",
       "      <th>871538</th>\n",
       "      <td>210926</td>\n",
       "      <td>0345459202</td>\n",
       "      <td>9</td>\n",
       "      <td>guelph, ontario, canada</td>\n",
       "      <td>NaN</td>\n",
       "      <td>Big Stone Gap</td>\n",
       "      <td>Adriana Trigiani</td>\n",
       "      <td>2003</td>\n",
       "      <td>Fawcett Books</td>\n",
       "      <td>train</td>\n",
       "      <td>3</td>\n",
       "      <td>3</td>\n",
       "      <td>1</td>\n",
       "      <td>0</td>\n",
       "    </tr>\n",
       "    <tr>\n",
       "      <th>752379</th>\n",
       "      <td>182085</td>\n",
       "      <td>0446350451</td>\n",
       "      <td>0</td>\n",
       "      <td>ginsheim, hessen, germany</td>\n",
       "      <td>NaN</td>\n",
       "      <td>Sensations</td>\n",
       "      <td>Virginia Carry</td>\n",
       "      <td>1988</td>\n",
       "      <td>Warner Books</td>\n",
       "      <td>train</td>\n",
       "      <td>4</td>\n",
       "      <td>4</td>\n",
       "      <td>1</td>\n",
       "      <td>0</td>\n",
       "    </tr>\n",
       "    <tr>\n",
       "      <th>124597</th>\n",
       "      <td>28591</td>\n",
       "      <td>0821767445</td>\n",
       "      <td>10</td>\n",
       "      <td>michie, tennessee, usa</td>\n",
       "      <td>33.0</td>\n",
       "      <td>Jed (Rock Creek Six)</td>\n",
       "      <td>Linda Devlin</td>\n",
       "      <td>2001</td>\n",
       "      <td>Zebra Books</td>\n",
       "      <td>train</td>\n",
       "      <td>5</td>\n",
       "      <td>5</td>\n",
       "      <td>1</td>\n",
       "      <td>0</td>\n",
       "    </tr>\n",
       "  </tbody>\n",
       "</table>\n",
       "</div>"
      ],
      "text/plain": [
       "         userId      itemId  rating                           Location   Age  \\\n",
       "1006309  241656  0340824735       7  melbourn, england, united kingdom  49.0   \n",
       "608046   147045  0873512553       0         saint paul, minnesota, usa  28.0   \n",
       "871538   210926  0345459202       9            guelph, ontario, canada   NaN   \n",
       "752379   182085  0446350451       0          ginsheim, hessen, germany   NaN   \n",
       "124597    28591  0821767445      10             michie, tennessee, usa  33.0   \n",
       "\n",
       "                   Book-Title       Book-Author Year-Of-Publication  \\\n",
       "1006309                   NaN               NaN                 NaN   \n",
       "608046      The days of Rondo  Evelyn Fairbanks                1990   \n",
       "871538          Big Stone Gap  Adriana Trigiani                2003   \n",
       "752379             Sensations    Virginia Carry                1988   \n",
       "124597   Jed (Rock Creek Six)      Linda Devlin                2001   \n",
       "\n",
       "                                  Publisher random_dstype  user_idx  item_idx  \\\n",
       "1006309                                 NaN         train         1         1   \n",
       "608046   Minnesota Historical Society Press         train         2         2   \n",
       "871538                        Fawcett Books         train         3         3   \n",
       "752379                         Warner Books         train         4         4   \n",
       "124597                          Zebra Books         train         5         5   \n",
       "\n",
       "         dstype_random_train  dstype_random_valid  \n",
       "1006309                    1                    0  \n",
       "608046                     1                    0  \n",
       "871538                     1                    0  \n",
       "752379                     1                    0  \n",
       "124597                     1                    0  "
      ]
     },
     "execution_count": 7,
     "metadata": {},
     "output_type": "execute_result"
    }
   ],
   "source": [
    "df_train.head()"
   ]
  },
  {
   "cell_type": "markdown",
   "metadata": {},
   "source": [
    "### Dataset and DataLoader"
   ]
  },
  {
   "cell_type": "code",
   "execution_count": 8,
   "metadata": {},
   "outputs": [],
   "source": [
    "class cfdata (torch.utils.data.dataset.Dataset):\n",
    "    def __init__(self,dfX,dfY):\n",
    "        self.dfX,self.dfY=dfX,dfY\n",
    "        \n",
    "    def __len__ (self):\n",
    "        return self.dfX.shape[0]\n",
    "    \n",
    "    def __getitem__ (self, idx):\n",
    "        return torch.LongTensor(self.dfX.iloc[idx].values),torch.FloatTensor([self.dfY.values[idx]])"
   ]
  },
  {
   "cell_type": "code",
   "execution_count": 9,
   "metadata": {},
   "outputs": [],
   "source": [
    "dstrain=cfdata(df_train[['user_idx','item_idx']],df_train['rating'])\n",
    "dsvalid=cfdata(df_valid[['user_idx','item_idx']],df_valid['rating'])"
   ]
  },
  {
   "cell_type": "code",
   "execution_count": 10,
   "metadata": {},
   "outputs": [
    {
     "data": {
      "text/plain": [
       "(1034802, 14)"
      ]
     },
     "execution_count": 10,
     "metadata": {},
     "output_type": "execute_result"
    }
   ],
   "source": [
    "df_train.shape"
   ]
  },
  {
   "cell_type": "code",
   "execution_count": 11,
   "metadata": {},
   "outputs": [],
   "source": [
    "bs=64"
   ]
  },
  {
   "cell_type": "code",
   "execution_count": 12,
   "metadata": {},
   "outputs": [],
   "source": [
    "dltrain=DataLoader(dstrain,bs,True)"
   ]
  },
  {
   "cell_type": "code",
   "execution_count": 13,
   "metadata": {},
   "outputs": [],
   "source": [
    "dlvalid=DataLoader(dsvalid,bs,True)"
   ]
  },
  {
   "cell_type": "code",
   "execution_count": 14,
   "metadata": {},
   "outputs": [
    {
     "data": {
      "text/plain": [
       "(105283, 340556)"
      ]
     },
     "execution_count": 14,
     "metadata": {},
     "output_type": "execute_result"
    }
   ],
   "source": [
    "len(user_to_idx),len(movie_to_idx)"
   ]
  },
  {
   "cell_type": "markdown",
   "metadata": {},
   "source": [
    "## Model Architecture"
   ]
  },
  {
   "cell_type": "code",
   "execution_count": 15,
   "metadata": {},
   "outputs": [],
   "source": [
    "n_users=len(user_to_idx)\n",
    "n_movies=len(movie_to_idx)\n",
    "n_emb_user=100\n",
    "n_emb_movie=250\n",
    "min_rating=min(df_train['rating'])\n",
    "max_rating=max(df_train['rating'])\n",
    "dropout_e=0.05\n",
    "hidden=[75,15]\n",
    "dropouts=[0.2,0.2]"
   ]
  },
  {
   "cell_type": "code",
   "execution_count": 16,
   "metadata": {},
   "outputs": [
    {
     "data": {
      "text/plain": [
       "105283"
      ]
     },
     "execution_count": 16,
     "metadata": {},
     "output_type": "execute_result"
    }
   ],
   "source": [
    "n_users"
   ]
  },
  {
   "cell_type": "code",
   "execution_count": 17,
   "metadata": {},
   "outputs": [],
   "source": [
    "def hidden_layer(x,y,dropout,activation=nn.Sigmoid()):\n",
    "    return nn.Sequential(\n",
    "        nn.Linear(x, y),\n",
    "        activation,\n",
    "        nn.Dropout(p=dropout)\n",
    "        )   "
   ]
  },
  {
   "cell_type": "code",
   "execution_count": 18,
   "metadata": {},
   "outputs": [],
   "source": [
    "class cf(nn.Module):    \n",
    "    def __init__(self,n_users,n_emb_user,n_emb_movie,n_movies,min_rating,max_rating,\\\n",
    "                dropout_e=0.01,hidden=[25,10],dropouts=[0.2,0.2]):\n",
    "        super().__init__()\n",
    "        self.n_users,self.n_emb_user,self.n_emb_movie,self.n_movies,self.min_rating,self.max_rating=\\\n",
    "                    n_users,n_emb_user,n_emb_movie,n_movies,min_rating,max_rating\n",
    "        self.dropout_e,self.hidden,self.dropouts=dropout_e,hidden,dropouts\n",
    "        self.create_architecture()\n",
    "        self.init_parameters()\n",
    "        self.criterion=nn.MSELoss()\n",
    "        \n",
    "        \n",
    "    def create_architecture(self):\n",
    "        \n",
    "        \n",
    "        self.emb_user=nn.Embedding(self.n_users+1,self.n_emb_user)\n",
    "        self.emb_movie=nn.Embedding(self.n_movies+1,self.n_emb_movie)\n",
    "        self.emb_dropout=nn.Dropout(self.dropout_e)\n",
    "        \n",
    "        lins=[hidden_layer(self.n_emb_user+self.n_emb_movie if i==0 else self.hidden[i-1],\\\n",
    "                                self.hidden[i] if i <len(hidden) else 1,\n",
    "                                self.dropouts[i] if i < len(hidden) else 0,\n",
    "                                nn.ReLU()) for i in range(len(hidden)+1)]\n",
    "        self.lins=nn.Sequential(*lins)\n",
    "        self.sigmoid=nn.Sigmoid()\n",
    "        \n",
    "        \n",
    "    def init_parameters(self):\n",
    "        nn.init.kaiming_normal_(self.emb_user.weight.data)\n",
    "        nn.init.kaiming_normal_(self.emb_movie.weight.data)\n",
    "        \n",
    "      \n",
    "        \n",
    "        #nn.init.kaiming_normal_(lin)\n",
    "       \n",
    "    def forward (self,Xb,Yb):\n",
    "         \n",
    "        users=self.emb_dropout(self.emb_user(Xb[:,0]))\n",
    "        items=self.emb_dropout(self.emb_movie(Xb[:,1]))\n",
    "        embed=torch.cat([users,items],1)\n",
    "        out=self.lins(embed)\n",
    "        out=self.sigmoid(out)\n",
    "        preds=out*(self.max_rating-self.min_rating)+self.min_rating\n",
    "        #preds=preds.view(-1)\n",
    "        loss=self.criterion(preds,Yb)\n",
    "        return preds,loss"
   ]
  },
  {
   "cell_type": "code",
   "execution_count": 19,
   "metadata": {},
   "outputs": [
    {
     "data": {
      "text/plain": [
       "105283"
      ]
     },
     "execution_count": 19,
     "metadata": {},
     "output_type": "execute_result"
    }
   ],
   "source": [
    "n_users"
   ]
  },
  {
   "cell_type": "code",
   "execution_count": 20,
   "metadata": {},
   "outputs": [],
   "source": [
    "cfobj=cf(n_users,n_emb_user,n_emb_movie,n_movies,min_rating,max_rating,dropout_e,hidden,dropouts)"
   ]
  },
  {
   "cell_type": "code",
   "execution_count": 21,
   "metadata": {},
   "outputs": [
    {
     "data": {
      "text/plain": [
       "cf(\n",
       "  (emb_user): Embedding(105284, 100)\n",
       "  (emb_movie): Embedding(340557, 250)\n",
       "  (emb_dropout): Dropout(p=0.05)\n",
       "  (lins): Sequential(\n",
       "    (0): Sequential(\n",
       "      (0): Linear(in_features=350, out_features=75, bias=True)\n",
       "      (1): ReLU()\n",
       "      (2): Dropout(p=0.2)\n",
       "    )\n",
       "    (1): Sequential(\n",
       "      (0): Linear(in_features=75, out_features=15, bias=True)\n",
       "      (1): ReLU()\n",
       "      (2): Dropout(p=0.2)\n",
       "    )\n",
       "    (2): Sequential(\n",
       "      (0): Linear(in_features=15, out_features=1, bias=True)\n",
       "      (1): ReLU()\n",
       "      (2): Dropout(p=0)\n",
       "    )\n",
       "  )\n",
       "  (sigmoid): Sigmoid()\n",
       "  (criterion): MSELoss()\n",
       ")"
      ]
     },
     "execution_count": 21,
     "metadata": {},
     "output_type": "execute_result"
    }
   ],
   "source": [
    "cfobj"
   ]
  },
  {
   "cell_type": "code",
   "execution_count": 22,
   "metadata": {},
   "outputs": [],
   "source": [
    "for Xb, Yb in dltrain:\n",
    "    break"
   ]
  },
  {
   "cell_type": "code",
   "execution_count": 23,
   "metadata": {},
   "outputs": [
    {
     "data": {
      "text/plain": [
       "(torch.Size([64, 2]), torch.Size([64, 1]))"
      ]
     },
     "execution_count": 23,
     "metadata": {},
     "output_type": "execute_result"
    }
   ],
   "source": [
    "Xb.shape, Yb.shape"
   ]
  },
  {
   "cell_type": "code",
   "execution_count": 24,
   "metadata": {},
   "outputs": [
    {
     "data": {
      "text/plain": [
       "(tensor([[5.],\n",
       "         [5.],\n",
       "         [5.],\n",
       "         [5.],\n",
       "         [5.],\n",
       "         [5.],\n",
       "         [5.],\n",
       "         [5.],\n",
       "         [5.],\n",
       "         [5.],\n",
       "         [5.],\n",
       "         [5.],\n",
       "         [5.],\n",
       "         [5.],\n",
       "         [5.],\n",
       "         [5.],\n",
       "         [5.],\n",
       "         [5.],\n",
       "         [5.],\n",
       "         [5.],\n",
       "         [5.],\n",
       "         [5.],\n",
       "         [5.],\n",
       "         [5.],\n",
       "         [5.],\n",
       "         [5.],\n",
       "         [5.],\n",
       "         [5.],\n",
       "         [5.],\n",
       "         [5.],\n",
       "         [5.],\n",
       "         [5.],\n",
       "         [5.],\n",
       "         [5.],\n",
       "         [5.],\n",
       "         [5.],\n",
       "         [5.],\n",
       "         [5.],\n",
       "         [5.],\n",
       "         [5.],\n",
       "         [5.],\n",
       "         [5.],\n",
       "         [5.],\n",
       "         [5.],\n",
       "         [5.],\n",
       "         [5.],\n",
       "         [5.],\n",
       "         [5.],\n",
       "         [5.],\n",
       "         [5.],\n",
       "         [5.],\n",
       "         [5.],\n",
       "         [5.],\n",
       "         [5.],\n",
       "         [5.],\n",
       "         [5.],\n",
       "         [5.],\n",
       "         [5.],\n",
       "         [5.],\n",
       "         [5.],\n",
       "         [5.],\n",
       "         [5.],\n",
       "         [5.],\n",
       "         [5.]], grad_fn=<AddBackward0>),\n",
       " tensor(19.7969, grad_fn=<MseLossBackward>))"
      ]
     },
     "execution_count": 24,
     "metadata": {},
     "output_type": "execute_result"
    }
   ],
   "source": [
    "cfobj.forward(Xb,Yb)"
   ]
  },
  {
   "cell_type": "markdown",
   "metadata": {},
   "source": [
    "## Learner"
   ]
  },
  {
   "cell_type": "code",
   "execution_count": 25,
   "metadata": {},
   "outputs": [],
   "source": [
    "class Learner():\n",
    "    def __init__(self,model,optimizer,metric_fn,device,bptt=12,print_every=5,clip_val=None,\\\n",
    "                 cycle_mult=0,lr_decay=0.7,wd_mult=6,start_lr=2e-2, end_lr=5e-4):\n",
    "        self.model,self.optimizer,self.metric_fn,self.device,self.print_every,self.bptt,self.losses,self.clip_val=\\\n",
    "            model,optimizer,metric_fn,device,print_every,bptt,[],clip_val\n",
    "        self.n_epochs=1\n",
    "        self.cycle_mult,self.lr_decay=cycle_mult,lr_decay\n",
    "        self.wd_mult=wd_mult\n",
    "        for param_group in self.optimizer.param_groups:\n",
    "            self.start_lr=param_group['lr']\n",
    "            self.start_wd=param_group['weight_decay']\n",
    "        self.wd=self.start_wd\n",
    "        self.lr=self.start_lr\n",
    "        self.end_lr=end_lr\n",
    "        self.n_epoch=0\n",
    "        self.lrs=[1e-2,5e-3,1e-4,5e-4]\n",
    "        self.preds,self.preds_valid,self.trainY,self.actual=[],[],[],[]\n",
    "        self.ratio=self.end_lr/self.start_lr\n",
    "        self.num_steps=self.cycle_mult\n",
    "        self.reset_cycle=self.cycle_mult\n",
    "        \n",
    "    def fit (self,Xb,Yb,mode_train=True):\n",
    "        if mode_train:\n",
    "            self.model.train()\n",
    "        else:\n",
    "            self.model.eval()\n",
    "        \n",
    "        #import pdb\n",
    "        #pdb.set_trace()\n",
    "        preds,loss=self.model(Xb,Yb)\n",
    "\n",
    "        with torch.no_grad():\n",
    "            if self.metric_fn is not None:\n",
    "                acc=self.metric_fn(preds,Yb.view(-1),self.device)\n",
    "                acc=acc.item()\n",
    "\n",
    "                if 1==0:\n",
    "                    if mode_train:\n",
    "                        self.trainY.append(Yb.view(-1))\n",
    "                        self.preds.append(preds.data)\n",
    "                    else:\n",
    "                        self.actual.append(Yb.view(-1))\n",
    "                        self.preds_valid.append(preds.data)\n",
    "            else:\n",
    "                acc=0\n",
    "            del preds\n",
    "        \n",
    "        if mode_train:\n",
    "            if 1==0:\n",
    "                lr =self.lrs[torch.randint(0,4,(1,))]\n",
    "                for param_group in self.optimizer.param_groups:\n",
    "                    param_group['lr']=lr\n",
    "            \n",
    "            self.optimizer.zero_grad()\n",
    "            loss.backward()\n",
    "            self.optimizer.step()\n",
    "        myloss=loss.item()\n",
    "        acc=np.sqrt(myloss)\n",
    "        del loss\n",
    "        \n",
    "        if self.clip_val is not None:\n",
    "            torch.nn.utils.clip_grad_norm_(self.model.parameters(), self.clip_val)\n",
    "        \n",
    "        return myloss, acc\n",
    "    \n",
    "    def lr_find (self,start_lr,end_lr,iterator,n_batch):\n",
    "        losses,lrs=[],[]\n",
    "        ratio=end_lr/start_lr\n",
    "        num_steps=n_batch\n",
    "        lr=start_lr\n",
    "        for i in range(num_steps):            \n",
    "            lr=lr*(end_lr/start_lr)**(1/num_steps)\n",
    "            lrs.append(lr)\n",
    "        self.lrs=lrs\n",
    "        self.run_epoch(iterator,mode_train=True,lrs=lrs)\n",
    "    \n",
    "    def run_epoch(self,iterator,mode_train,lrs=None):\n",
    "        epoch_loss,epoch_acc,i,k=0,0,0,0\n",
    "\n",
    "        for Xb,Yb in iterator:\n",
    "            Xb=Xb.to(self.device)\n",
    "            Yb=Yb.to(self.device)\n",
    "            \n",
    "            if lrs is not None:\n",
    "                lr=lrs[k]\n",
    "                for param_group in self.optimizer.param_groups:\n",
    "                    param_group['lr']=lr \n",
    "            \n",
    "\n",
    "            loss,acc=self.fit(Xb,Yb,mode_train)\n",
    "            \n",
    "            if lrs is not None:\n",
    "                self.losses.append(loss)\n",
    "            \n",
    "            \n",
    "            epoch_loss+=loss\n",
    "            epoch_acc+=acc\n",
    "            \n",
    "            k=k+1\n",
    "            if k%self.print_every == 0:\n",
    "                if k:\n",
    "                    print (f'Batch:{k} {epoch_loss/(k)}  ')  \n",
    "                    torch.cuda.empty_cache()\n",
    "        epoch_loss=epoch_loss/len(iterator)\n",
    "        epoch_acc=epoch_acc/len(iterator)\n",
    "            \n",
    "        return epoch_loss,epoch_acc\n",
    "    \n",
    "    def plot_lrs(self, n_roll=1,ylim=None,xlim=None):\n",
    "        import seaborn as sns\n",
    "        ax=sns.lineplot(x=self.lrs,y=pd.Series(self.losses).rolling(n_roll).mean())\n",
    "        ax.set_xscale('log')\n",
    "        ax.set_ylabel('Loss')\n",
    "        ax.set_xlabel('Learning Rate')\n",
    "        if ylim is not None:\n",
    "            plt.ylim(ylim)\n",
    "        if xlim is not None:\n",
    "            plt.xlim(xlim)\n",
    "\n",
    "     \n",
    "    def run_epochs(self,dltrain,dlvalid,n_epochs=1):              \n",
    "        for epoch in range(n_epochs):                \n",
    "            loss,acc=self.run_epoch(dltrain,True)\n",
    "            lossv,accv=self.run_epoch(dlvalid,mode_train=False)\n",
    "            print (f'Epoch:{epoch} Learning rate {self.lr} Weight Decay {self.wd} Train Loss:{loss} \\\n",
    "                Valid Loss:{lossv} Train RMSE:{acc} Valid RMSE:{accv}')\n",
    "  \n",
    "            if self.cycle_mult:\n",
    "                if self.n_epoch==self.reset_cycle:\n",
    "                    self.lr=self.start_lr\n",
    "                    #self.wd=self.start_wd\n",
    "                    self.reset_cycle*=self.cycle_mult\n",
    "                    #reset_cycle=self.n_epoch+reset_cycle\n",
    "                    self.n_epoch=0\n",
    "                    self.ratio=self.end_lr/self.start_lr\n",
    "                    self.num_steps=self.reset_cycle\n",
    "                else:\n",
    "                    #self.lr*=(self.lr_decay**self.n_epoch)  \n",
    "                    #if self.n_epoch>1:\n",
    "                    #    self.wd*=self.wd_mult\n",
    "                    self.lr=self.lr*(self.end_lr/self.start_lr)**(1/self.num_steps)\n",
    "                    self.n_epoch+=1\n",
    "        \n",
    "\n",
    "                \n",
    "            for param_group in self.optimizer.param_groups:\n",
    "                param_group['lr']=self.lr\n",
    "                #param_group['weight_decay']=self.wd\n",
    "          \n",
    "     "
   ]
  },
  {
   "cell_type": "code",
   "execution_count": 26,
   "metadata": {},
   "outputs": [],
   "source": [
    "if 1==0:\n",
    "    del cfobj\n",
    "    torch.cuda.empty_cache()"
   ]
  },
  {
   "cell_type": "code",
   "execution_count": 27,
   "metadata": {},
   "outputs": [],
   "source": [
    "device='cuda:0'"
   ]
  },
  {
   "cell_type": "code",
   "execution_count": 28,
   "metadata": {},
   "outputs": [],
   "source": [
    "cfobj=cf(n_users,n_emb_user,n_emb_movie,n_movies,min_rating,max_rating,dropout_e,hidden,dropouts)"
   ]
  },
  {
   "cell_type": "code",
   "execution_count": 29,
   "metadata": {},
   "outputs": [],
   "source": [
    "cfobj=cfobj.to(device)"
   ]
  },
  {
   "cell_type": "code",
   "execution_count": 30,
   "metadata": {},
   "outputs": [
    {
     "data": {
      "text/plain": [
       "cf(\n",
       "  (emb_user): Embedding(105284, 100)\n",
       "  (emb_movie): Embedding(340557, 250)\n",
       "  (emb_dropout): Dropout(p=0.05)\n",
       "  (lins): Sequential(\n",
       "    (0): Sequential(\n",
       "      (0): Linear(in_features=350, out_features=75, bias=True)\n",
       "      (1): ReLU()\n",
       "      (2): Dropout(p=0.2)\n",
       "    )\n",
       "    (1): Sequential(\n",
       "      (0): Linear(in_features=75, out_features=15, bias=True)\n",
       "      (1): ReLU()\n",
       "      (2): Dropout(p=0.2)\n",
       "    )\n",
       "    (2): Sequential(\n",
       "      (0): Linear(in_features=15, out_features=1, bias=True)\n",
       "      (1): ReLU()\n",
       "      (2): Dropout(p=0)\n",
       "    )\n",
       "  )\n",
       "  (sigmoid): Sigmoid()\n",
       "  (criterion): MSELoss()\n",
       ")"
      ]
     },
     "execution_count": 30,
     "metadata": {},
     "output_type": "execute_result"
    }
   ],
   "source": [
    "cfobj"
   ]
  },
  {
   "cell_type": "code",
   "execution_count": 31,
   "metadata": {},
   "outputs": [
    {
     "data": {
      "text/plain": [
       "16169"
      ]
     },
     "execution_count": 31,
     "metadata": {},
     "output_type": "execute_result"
    }
   ],
   "source": [
    "len(dltrain)"
   ]
  },
  {
   "cell_type": "code",
   "execution_count": 32,
   "metadata": {},
   "outputs": [],
   "source": [
    "wd=1e-7\n",
    "optimizer=torch.optim.Adam(cfobj.parameters(),lr=5e-3,betas=(0.9,0.999), weight_decay=wd)\n",
    "learner=Learner(cfobj,optimizer,None,device,0,5000,0.25,cycle_mult=0)"
   ]
  },
  {
   "cell_type": "code",
   "execution_count": 33,
   "metadata": {},
   "outputs": [
    {
     "name": "stdout",
     "output_type": "stream",
     "text": [
      "Batch:5000 19.452174266815184  \n",
      "Batch:10000 19.380087937545778  \n",
      "Batch:15000 19.374899949645997  \n"
     ]
    }
   ],
   "source": [
    "learner.lr_find(1e-4,1e-1,dltrain,len(dltrain))"
   ]
  },
  {
   "cell_type": "code",
   "execution_count": 38,
   "metadata": {},
   "outputs": [
    {
     "data": {
      "image/png": "[encoded data removed]",
      "text/plain": [
       "<Figure size 432x288 with 1 Axes>"
      ]
     },
     "metadata": {
      "needs_background": "light"
     },
     "output_type": "display_data"
    }
   ],
   "source": [
    "learner.plot_lrs(100)"
   ]
  },
  {
   "cell_type": "code",
   "execution_count": 35,
   "metadata": {},
   "outputs": [
    {
     "data": {
      "image/png": "[encoded data removed]",
      "text/plain": [
       "<Figure size 432x288 with 1 Axes>"
      ]
     },
     "metadata": {
      "needs_background": "light"
     },
     "output_type": "display_data"
    }
   ],
   "source": [
    "\n",
    "learner.plot_lrs(10)"
   ]
  },
  {
   "cell_type": "code",
   "execution_count": 39,
   "metadata": {},
   "outputs": [],
   "source": [
    "del cfobj\n",
    "torch.cuda.empty_cache()"
   ]
  },
  {
   "cell_type": "code",
   "execution_count": 40,
   "metadata": {},
   "outputs": [],
   "source": [
    "cfobj=cf(n_users,n_emb_user,n_emb_movie,n_movies,min_rating,max_rating,dropout_e,hidden,dropouts)\n",
    "cfobj=cfobj.to(device)"
   ]
  },
  {
   "cell_type": "code",
   "execution_count": 41,
   "metadata": {},
   "outputs": [
    {
     "data": {
      "text/plain": [
       "'cuda:0'"
      ]
     },
     "execution_count": 41,
     "metadata": {},
     "output_type": "execute_result"
    }
   ],
   "source": [
    "device"
   ]
  },
  {
   "cell_type": "code",
   "execution_count": 42,
   "metadata": {},
   "outputs": [],
   "source": [
    "wd=1e-7\n",
    "optimizer=torch.optim.Adam(cfobj.parameters(),lr=3e-3,betas=(0.9,0.999), weight_decay=wd)\n",
    "learner=Learner(cfobj,optimizer,None,device,0,12000,0.25,cycle_mult=0)"
   ]
  },
  {
   "cell_type": "code",
   "execution_count": 43,
   "metadata": {},
   "outputs": [
    {
     "name": "stdout",
     "output_type": "stream",
     "text": [
      "Batch:12000 19.40125248559316  \n",
      "Epoch:0 Learning rate 0.003 Weight Decay 1e-07 Train Loss:19.399859713110192                 Valid Loss:19.447790844279922 Train RMSE:4.402696846725378 Valid RMSE:4.408237157585492\n",
      "Batch:12000 19.394977864583332  \n",
      "Epoch:1 Learning rate 0.003 Weight Decay 1e-07 Train Loss:19.399827022412115                 Valid Loss:19.447522321010073 Train RMSE:4.40271021614717 Valid RMSE:4.408207224806532\n",
      "Batch:12000 19.400893229166666  \n",
      "Epoch:2 Learning rate 0.003 Weight Decay 1e-07 Train Loss:19.39986706812208                 Valid Loss:19.447775499516883 Train RMSE:4.402715384504119 Valid RMSE:4.408180577556689\n",
      "Batch:12000 19.39429296875  \n",
      "Epoch:3 Learning rate 0.003 Weight Decay 1e-07 Train Loss:19.399832704586416                 Valid Loss:19.447990318769605 Train RMSE:4.4026837166309605 Valid RMSE:4.408277429072537\n",
      "Batch:12000 19.400279947916665  \n",
      "Epoch:4 Learning rate 0.003 Weight Decay 1e-07 Train Loss:19.39983162227312                 Valid Loss:19.447177076047836 Train RMSE:4.402692415826591 Valid RMSE:4.408037138593525\n",
      "Batch:12000 19.397576822916665  \n",
      "Epoch:5 Learning rate 0.003 Weight Decay 1e-07 Train Loss:19.399848939285878                 Valid Loss:19.448090056014447 Train RMSE:4.402710018725699 Valid RMSE:4.40807184649381\n",
      "Batch:12000 19.39803515625  \n",
      "Epoch:6 Learning rate 0.003 Weight Decay 1e-07 Train Loss:19.399836492623976                 Valid Loss:19.446655373209772 Train RMSE:4.402664781957936 Valid RMSE:4.408016443088317\n"
     ]
    }
   ],
   "source": [
    "learner.run_epochs(dltrain,dlvalid,7)"
   ]
  },
  {
   "cell_type": "code",
   "execution_count": 44,
   "metadata": {},
   "outputs": [
    {
     "name": "stderr",
     "output_type": "stream",
     "text": [
      "/home/kirana/anaconda3/lib/python3.7/site-packages/torch/serialization.py:256: UserWarning: Couldn't retrieve source code for container of type cf. It won't be checked for correctness upon loading.\n",
      "  \"type \" + obj.__name__ + \". It won't be checked \"\n",
      "/home/kirana/anaconda3/lib/python3.7/site-packages/torch/serialization.py:256: UserWarning: Couldn't retrieve source code for container of type cf. It won't be checked for correctness upon loading.\n",
      "  \"type \" + obj.__name__ + \". It won't be checked \"\n"
     ]
    }
   ],
   "source": [
    "torch.save(cfobj,f=f'{DATAPATH}/inter/cf_model')\n",
    "torch.save(learner,f=f'{DATAPATH}/inter/cf_learner')\n",
    "torch.save(optimizer,f=f'{DATAPATH}/inter/cf_optimizer')\n",
    "torch.save(cfobj.state_dict(),f'{DATAPATH}/inter/cf_state_dict')\n",
    "torch.save(optimizer.state_dict(),f'{DATAPATH}/inter/cf_optimizer_state_dict')"
   ]
  },
  {
   "cell_type": "code",
   "execution_count": 45,
   "metadata": {},
   "outputs": [],
   "source": [
    "optimizer=torch.optim.Adam(cfobj.parameters(),lr=3e-3,betas=(0.9,0.999), weight_decay=wd)\n",
    "learner=Learner(cfobj,optimizer,None,device,0,12000,0.25,cycle_mult=2,start_lr=5e-3,end_lr=5e-4)"
   ]
  },
  {
   "cell_type": "code",
   "execution_count": 46,
   "metadata": {},
   "outputs": [
    {
     "name": "stdout",
     "output_type": "stream",
     "text": [
      "Batch:12000 19.411747395833334  \n",
      "Epoch:0 Learning rate 0.003 Weight Decay 1e-07 Train Loss:19.399854892067996                 Valid Loss:19.447622058254915 Train RMSE:4.402726917540982 Valid RMSE:4.408127614655931\n",
      "Batch:12000 19.388278645833335  \n",
      "Epoch:1 Learning rate 0.0012247448713915891 Weight Decay 1e-07 Train Loss:19.399835680918493                 Valid Loss:19.44817444955765 Train RMSE:4.4026919621170055 Valid RMSE:4.4081924993128245\n",
      "Batch:12000 19.391751302083332  \n",
      "Epoch:2 Learning rate 0.0005 Weight Decay 1e-07 Train Loss:19.399828645823078                 Valid Loss:19.447913598138623 Train RMSE:4.402688246151593 Valid RMSE:4.408188605909162\n",
      "Batch:12000 19.391841145833332  \n",
      "Epoch:3 Learning rate 0.003 Weight Decay 1e-07 Train Loss:19.399865985808784                 Valid Loss:19.448028679085095 Train RMSE:4.402709231572345 Valid RMSE:4.408147251109759\n",
      "Batch:12000 19.399700520833335  \n",
      "Epoch:4 Learning rate 0.0019168293127388174 Weight Decay 1e-07 Train Loss:19.399863550574374                 Valid Loss:19.447867564910904 Train RMSE:4.402713475554208 Valid RMSE:4.408108420880206\n",
      "Batch:12000 19.400270833333334  \n",
      "Epoch:5 Learning rate 0.001224744871391589 Weight Decay 1e-07 Train Loss:19.39985191573592                 Valid Loss:19.4475760250272 Train RMSE:4.402701666090371 Valid RMSE:4.408136573249434\n",
      "Batch:12000 19.399779947916667  \n",
      "Epoch:6 Learning rate 0.0007825422900366436 Weight Decay 1e-07 Train Loss:19.399830539959822                 Valid Loss:19.44692389647962 Train RMSE:4.402678745651435 Valid RMSE:4.408076763597903\n",
      "Batch:12000 19.40301432291667  \n",
      "Epoch:7 Learning rate 0.0004999999999999999 Weight Decay 1e-07 Train Loss:19.39982079902218                 Valid Loss:19.447483960694584 Train RMSE:4.402687647883404 Valid RMSE:4.408195247527401\n",
      "Batch:12000 19.404716145833333  \n",
      "Epoch:8 Learning rate 0.003 Weight Decay 1e-07 Train Loss:19.39984758648273                 Valid Loss:19.44783687644623 Train RMSE:4.402671339335081 Valid RMSE:4.408063375432133\n",
      "Batch:12000 19.403880208333334  \n",
      "Epoch:9 Learning rate 0.002398017501649321 Weight Decay 1e-07 Train Loss:19.39985029220699                 Valid Loss:19.44762973010573 Train RMSE:4.4026900333337045 Valid RMSE:4.408072825364292\n",
      "Batch:12000 19.398490885416667  \n",
      "Epoch:10 Learning rate 0.0019168293127388174 Weight Decay 1e-07 Train Loss:19.399817281474473                 Valid Loss:19.447698778885897 Train RMSE:4.402699573449774 Valid RMSE:4.408128012239951\n",
      "Batch:12000 19.407876302083334  \n",
      "Epoch:11 Learning rate 0.001532196746540708 Weight Decay 1e-07 Train Loss:19.39983405750753                 Valid Loss:19.447844549358454 Train RMSE:4.402682244527824 Valid RMSE:4.408233735615232\n",
      "Batch:12000 19.39868359375  \n",
      "Epoch:12 Learning rate 0.001224744871391589 Weight Decay 1e-07 Train Loss:19.399833245684082                 Valid Loss:19.447092683566034 Train RMSE:4.402688339498703 Valid RMSE:4.40802807362348\n",
      "Batch:12000 19.402365885416668  \n",
      "Epoch:13 Learning rate 0.0009789865455507591 Weight Decay 1e-07 Train Loss:19.399829457646526                 Valid Loss:19.4474916325454 Train RMSE:4.4027091238155664 Valid RMSE:4.408135019203269\n",
      "Batch:12000 19.39437109375  \n",
      "Epoch:14 Learning rate 0.0007825422900366436 Weight Decay 1e-07 Train Loss:19.3998459629538                 Valid Loss:19.44765274671959 Train RMSE:4.402694885882217 Valid RMSE:4.408185852900636\n"
     ]
    }
   ],
   "source": [
    "learner.run_epochs(dltrain,dlvalid,15)"
   ]
  },
  {
   "cell_type": "code",
   "execution_count": 47,
   "metadata": {},
   "outputs": [
    {
     "name": "stderr",
     "output_type": "stream",
     "text": [
      "/home/kirana/anaconda3/lib/python3.7/site-packages/torch/serialization.py:256: UserWarning: Couldn't retrieve source code for container of type cf. It won't be checked for correctness upon loading.\n",
      "  \"type \" + obj.__name__ + \". It won't be checked \"\n",
      "/home/kirana/anaconda3/lib/python3.7/site-packages/torch/serialization.py:256: UserWarning: Couldn't retrieve source code for container of type cf. It won't be checked for correctness upon loading.\n",
      "  \"type \" + obj.__name__ + \". It won't be checked \"\n"
     ]
    }
   ],
   "source": [
    "torch.save(cfobj,f=f'{DATAPATH}/inter/cf_model')\n",
    "torch.save(learner,f=f'{DATAPATH}/inter/cf_learner')\n",
    "torch.save(optimizer,f=f'{DATAPATH}/inter/cf_optimizer')\n",
    "torch.save(cfobj.state_dict(),f'{DATAPATH}/inter/cf_state_dict')\n",
    "torch.save(optimizer.state_dict(),f'{DATAPATH}/inter/cf_optimizer_state_dict')"
   ]
  },
  {
   "cell_type": "code",
   "execution_count": null,
   "metadata": {},
   "outputs": [],
   "source": []
  }
 ],
 "metadata": {
  "kernelspec": {
   "display_name": "Python 3",
   "language": "python",
   "name": "python3"
  },
  "language_info": {
   "codemirror_mode": {
    "name": "ipython",
    "version": 3
   },
   "file_extension": ".py",
   "mimetype": "text/x-python",
   "name": "python",
   "nbconvert_exporter": "python",
   "pygments_lexer": "ipython3",
   "version": "3.7.3"
  }
 },
 "nbformat": 4,
 "nbformat_minor": 2
}
