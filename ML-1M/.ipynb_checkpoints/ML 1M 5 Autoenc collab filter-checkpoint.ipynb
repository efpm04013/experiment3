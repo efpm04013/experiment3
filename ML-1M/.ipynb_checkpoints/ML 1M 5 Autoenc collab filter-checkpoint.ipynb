{
 "cells": [
  {
   "cell_type": "code",
   "execution_count": 1,
   "metadata": {},
   "outputs": [],
   "source": [
    "PATH='/home/kirana/Documents/phd/exp3_autoencoder'\n",
    "DATAPATH='/home/kirana/Documents/final_dissertation_final/experiments/datasets/ml-1m'"
   ]
  },
  {
   "cell_type": "code",
   "execution_count": 2,
   "metadata": {},
   "outputs": [],
   "source": [
    "import pandas as pd\n",
    "import numpy as np\n",
    "import matplotlib.pyplot as plt\n",
    "import sklearn\n",
    "import os\n",
    "import pickle\n",
    "import torch\n",
    "from torch.utils.data import Dataset, DataLoader\n",
    "from torch import nn"
   ]
  },
  {
   "cell_type": "code",
   "execution_count": 3,
   "metadata": {},
   "outputs": [],
   "source": [
    "[df, df_train,df_valid,df,df_ratings,idx_to_user,\\\n",
    "             idx_to_movie,movie_to_idx,user_to_idx]=pickle.load(open(f'{DATAPATH}/reads.pkl','rb'))"
   ]
  },
  {
   "cell_type": "code",
   "execution_count": 4,
   "metadata": {},
   "outputs": [
    {
     "data": {
      "text/plain": [
       "(1000209, 20)"
      ]
     },
     "execution_count": 4,
     "metadata": {},
     "output_type": "execute_result"
    }
   ],
   "source": [
    "df.shape"
   ]
  },
  {
   "cell_type": "code",
   "execution_count": 5,
   "metadata": {},
   "outputs": [
    {
     "data": {
      "text/html": [
       "<div>\n",
       "<style scoped>\n",
       "    .dataframe tbody tr th:only-of-type {\n",
       "        vertical-align: middle;\n",
       "    }\n",
       "\n",
       "    .dataframe tbody tr th {\n",
       "        vertical-align: top;\n",
       "    }\n",
       "\n",
       "    .dataframe thead th {\n",
       "        text-align: right;\n",
       "    }\n",
       "</style>\n",
       "<table border=\"1\" class=\"dataframe\">\n",
       "  <thead>\n",
       "    <tr style=\"text-align: right;\">\n",
       "      <th></th>\n",
       "      <th>userId</th>\n",
       "      <th>itemId</th>\n",
       "      <th>rating</th>\n",
       "      <th>timestamp</th>\n",
       "      <th>gender</th>\n",
       "      <th>age</th>\n",
       "      <th>occupation</th>\n",
       "      <th>zip</th>\n",
       "      <th>title</th>\n",
       "      <th>genre</th>\n",
       "      <th>random_dstype</th>\n",
       "      <th>user_idx</th>\n",
       "      <th>item_idx</th>\n",
       "      <th>dstype_random_train</th>\n",
       "      <th>dstype_random_valid</th>\n",
       "      <th>gender_idx</th>\n",
       "      <th>age_idx</th>\n",
       "      <th>title_idx</th>\n",
       "      <th>genre_idx</th>\n",
       "      <th>zip_idx</th>\n",
       "    </tr>\n",
       "  </thead>\n",
       "  <tbody>\n",
       "    <tr>\n",
       "      <th>648724</th>\n",
       "      <td>3908</td>\n",
       "      <td>2347</td>\n",
       "      <td>4</td>\n",
       "      <td>965941231</td>\n",
       "      <td>M</td>\n",
       "      <td>25</td>\n",
       "      <td>0</td>\n",
       "      <td>10021</td>\n",
       "      <td>Pope of Greenwich Village, The (1984)</td>\n",
       "      <td>Action</td>\n",
       "      <td>train</td>\n",
       "      <td>1</td>\n",
       "      <td>1</td>\n",
       "      <td>1</td>\n",
       "      <td>0</td>\n",
       "      <td>1</td>\n",
       "      <td>1</td>\n",
       "      <td>1</td>\n",
       "      <td>1</td>\n",
       "      <td>1</td>\n",
       "    </tr>\n",
       "    <tr>\n",
       "      <th>203881</th>\n",
       "      <td>1254</td>\n",
       "      <td>1541</td>\n",
       "      <td>2</td>\n",
       "      <td>974823280</td>\n",
       "      <td>F</td>\n",
       "      <td>18</td>\n",
       "      <td>1</td>\n",
       "      <td>02144</td>\n",
       "      <td>Addicted to Love (1997)</td>\n",
       "      <td>Comedy|Romance</td>\n",
       "      <td>train</td>\n",
       "      <td>2</td>\n",
       "      <td>2</td>\n",
       "      <td>1</td>\n",
       "      <td>0</td>\n",
       "      <td>2</td>\n",
       "      <td>2</td>\n",
       "      <td>2</td>\n",
       "      <td>2</td>\n",
       "      <td>2</td>\n",
       "    </tr>\n",
       "    <tr>\n",
       "      <th>243394</th>\n",
       "      <td>1467</td>\n",
       "      <td>2617</td>\n",
       "      <td>3</td>\n",
       "      <td>977173059</td>\n",
       "      <td>M</td>\n",
       "      <td>25</td>\n",
       "      <td>5</td>\n",
       "      <td>97007</td>\n",
       "      <td>Mummy, The (1999)</td>\n",
       "      <td>Action|Adventure|Horror|Thriller</td>\n",
       "      <td>train</td>\n",
       "      <td>3</td>\n",
       "      <td>3</td>\n",
       "      <td>1</td>\n",
       "      <td>0</td>\n",
       "      <td>1</td>\n",
       "      <td>1</td>\n",
       "      <td>3</td>\n",
       "      <td>3</td>\n",
       "      <td>3</td>\n",
       "    </tr>\n",
       "    <tr>\n",
       "      <th>788507</th>\n",
       "      <td>4717</td>\n",
       "      <td>3754</td>\n",
       "      <td>3</td>\n",
       "      <td>963502544</td>\n",
       "      <td>M</td>\n",
       "      <td>45</td>\n",
       "      <td>17</td>\n",
       "      <td>48310</td>\n",
       "      <td>Adventures of Rocky and Bullwinkle, The (2000)</td>\n",
       "      <td>Animation|Children's|Comedy</td>\n",
       "      <td>train</td>\n",
       "      <td>4</td>\n",
       "      <td>4</td>\n",
       "      <td>1</td>\n",
       "      <td>0</td>\n",
       "      <td>1</td>\n",
       "      <td>3</td>\n",
       "      <td>4</td>\n",
       "      <td>4</td>\n",
       "      <td>4</td>\n",
       "    </tr>\n",
       "    <tr>\n",
       "      <th>301066</th>\n",
       "      <td>1789</td>\n",
       "      <td>2997</td>\n",
       "      <td>5</td>\n",
       "      <td>974700402</td>\n",
       "      <td>M</td>\n",
       "      <td>1</td>\n",
       "      <td>10</td>\n",
       "      <td>19116</td>\n",
       "      <td>Being John Malkovich (1999)</td>\n",
       "      <td>Comedy</td>\n",
       "      <td>train</td>\n",
       "      <td>5</td>\n",
       "      <td>5</td>\n",
       "      <td>1</td>\n",
       "      <td>0</td>\n",
       "      <td>1</td>\n",
       "      <td>4</td>\n",
       "      <td>5</td>\n",
       "      <td>5</td>\n",
       "      <td>5</td>\n",
       "    </tr>\n",
       "  </tbody>\n",
       "</table>\n",
       "</div>"
      ],
      "text/plain": [
       "        userId  itemId  rating  timestamp gender  age  occupation    zip  \\\n",
       "648724    3908    2347       4  965941231      M   25           0  10021   \n",
       "203881    1254    1541       2  974823280      F   18           1  02144   \n",
       "243394    1467    2617       3  977173059      M   25           5  97007   \n",
       "788507    4717    3754       3  963502544      M   45          17  48310   \n",
       "301066    1789    2997       5  974700402      M    1          10  19116   \n",
       "\n",
       "                                                 title  \\\n",
       "648724           Pope of Greenwich Village, The (1984)   \n",
       "203881                         Addicted to Love (1997)   \n",
       "243394                               Mummy, The (1999)   \n",
       "788507  Adventures of Rocky and Bullwinkle, The (2000)   \n",
       "301066                     Being John Malkovich (1999)   \n",
       "\n",
       "                                   genre random_dstype  user_idx  item_idx  \\\n",
       "648724                            Action         train         1         1   \n",
       "203881                    Comedy|Romance         train         2         2   \n",
       "243394  Action|Adventure|Horror|Thriller         train         3         3   \n",
       "788507       Animation|Children's|Comedy         train         4         4   \n",
       "301066                            Comedy         train         5         5   \n",
       "\n",
       "        dstype_random_train  dstype_random_valid  gender_idx  age_idx  \\\n",
       "648724                    1                    0           1        1   \n",
       "203881                    1                    0           2        2   \n",
       "243394                    1                    0           1        1   \n",
       "788507                    1                    0           1        3   \n",
       "301066                    1                    0           1        4   \n",
       "\n",
       "        title_idx  genre_idx  zip_idx  \n",
       "648724          1          1        1  \n",
       "203881          2          2        2  \n",
       "243394          3          3        3  \n",
       "788507          4          4        4  \n",
       "301066          5          5        5  "
      ]
     },
     "execution_count": 5,
     "metadata": {},
     "output_type": "execute_result"
    }
   ],
   "source": [
    "df.head()"
   ]
  },
  {
   "cell_type": "code",
   "execution_count": 6,
   "metadata": {},
   "outputs": [],
   "source": [
    "df_train=df.loc[df['random_dstype']=='train']\n",
    "df_valid=df.loc[df['random_dstype']!='train']"
   ]
  },
  {
   "cell_type": "code",
   "execution_count": 7,
   "metadata": {},
   "outputs": [
    {
     "data": {
      "text/html": [
       "<div>\n",
       "<style scoped>\n",
       "    .dataframe tbody tr th:only-of-type {\n",
       "        vertical-align: middle;\n",
       "    }\n",
       "\n",
       "    .dataframe tbody tr th {\n",
       "        vertical-align: top;\n",
       "    }\n",
       "\n",
       "    .dataframe thead th {\n",
       "        text-align: right;\n",
       "    }\n",
       "</style>\n",
       "<table border=\"1\" class=\"dataframe\">\n",
       "  <thead>\n",
       "    <tr style=\"text-align: right;\">\n",
       "      <th></th>\n",
       "      <th>648724</th>\n",
       "      <th>203881</th>\n",
       "      <th>243394</th>\n",
       "      <th>788507</th>\n",
       "      <th>301066</th>\n",
       "    </tr>\n",
       "  </thead>\n",
       "  <tbody>\n",
       "    <tr>\n",
       "      <th>userId</th>\n",
       "      <td>3908</td>\n",
       "      <td>1254</td>\n",
       "      <td>1467</td>\n",
       "      <td>4717</td>\n",
       "      <td>1789</td>\n",
       "    </tr>\n",
       "    <tr>\n",
       "      <th>itemId</th>\n",
       "      <td>2347</td>\n",
       "      <td>1541</td>\n",
       "      <td>2617</td>\n",
       "      <td>3754</td>\n",
       "      <td>2997</td>\n",
       "    </tr>\n",
       "    <tr>\n",
       "      <th>rating</th>\n",
       "      <td>4</td>\n",
       "      <td>2</td>\n",
       "      <td>3</td>\n",
       "      <td>3</td>\n",
       "      <td>5</td>\n",
       "    </tr>\n",
       "    <tr>\n",
       "      <th>timestamp</th>\n",
       "      <td>965941231</td>\n",
       "      <td>974823280</td>\n",
       "      <td>977173059</td>\n",
       "      <td>963502544</td>\n",
       "      <td>974700402</td>\n",
       "    </tr>\n",
       "    <tr>\n",
       "      <th>gender</th>\n",
       "      <td>M</td>\n",
       "      <td>F</td>\n",
       "      <td>M</td>\n",
       "      <td>M</td>\n",
       "      <td>M</td>\n",
       "    </tr>\n",
       "    <tr>\n",
       "      <th>age</th>\n",
       "      <td>25</td>\n",
       "      <td>18</td>\n",
       "      <td>25</td>\n",
       "      <td>45</td>\n",
       "      <td>1</td>\n",
       "    </tr>\n",
       "    <tr>\n",
       "      <th>occupation</th>\n",
       "      <td>0</td>\n",
       "      <td>1</td>\n",
       "      <td>5</td>\n",
       "      <td>17</td>\n",
       "      <td>10</td>\n",
       "    </tr>\n",
       "    <tr>\n",
       "      <th>zip</th>\n",
       "      <td>10021</td>\n",
       "      <td>02144</td>\n",
       "      <td>97007</td>\n",
       "      <td>48310</td>\n",
       "      <td>19116</td>\n",
       "    </tr>\n",
       "    <tr>\n",
       "      <th>title</th>\n",
       "      <td>Pope of Greenwich Village, The (1984)</td>\n",
       "      <td>Addicted to Love (1997)</td>\n",
       "      <td>Mummy, The (1999)</td>\n",
       "      <td>Adventures of Rocky and Bullwinkle, The (2000)</td>\n",
       "      <td>Being John Malkovich (1999)</td>\n",
       "    </tr>\n",
       "    <tr>\n",
       "      <th>genre</th>\n",
       "      <td>Action</td>\n",
       "      <td>Comedy|Romance</td>\n",
       "      <td>Action|Adventure|Horror|Thriller</td>\n",
       "      <td>Animation|Children's|Comedy</td>\n",
       "      <td>Comedy</td>\n",
       "    </tr>\n",
       "    <tr>\n",
       "      <th>random_dstype</th>\n",
       "      <td>train</td>\n",
       "      <td>train</td>\n",
       "      <td>train</td>\n",
       "      <td>train</td>\n",
       "      <td>train</td>\n",
       "    </tr>\n",
       "    <tr>\n",
       "      <th>user_idx</th>\n",
       "      <td>1</td>\n",
       "      <td>2</td>\n",
       "      <td>3</td>\n",
       "      <td>4</td>\n",
       "      <td>5</td>\n",
       "    </tr>\n",
       "    <tr>\n",
       "      <th>item_idx</th>\n",
       "      <td>1</td>\n",
       "      <td>2</td>\n",
       "      <td>3</td>\n",
       "      <td>4</td>\n",
       "      <td>5</td>\n",
       "    </tr>\n",
       "    <tr>\n",
       "      <th>dstype_random_train</th>\n",
       "      <td>1</td>\n",
       "      <td>1</td>\n",
       "      <td>1</td>\n",
       "      <td>1</td>\n",
       "      <td>1</td>\n",
       "    </tr>\n",
       "    <tr>\n",
       "      <th>dstype_random_valid</th>\n",
       "      <td>0</td>\n",
       "      <td>0</td>\n",
       "      <td>0</td>\n",
       "      <td>0</td>\n",
       "      <td>0</td>\n",
       "    </tr>\n",
       "    <tr>\n",
       "      <th>gender_idx</th>\n",
       "      <td>1</td>\n",
       "      <td>2</td>\n",
       "      <td>1</td>\n",
       "      <td>1</td>\n",
       "      <td>1</td>\n",
       "    </tr>\n",
       "    <tr>\n",
       "      <th>age_idx</th>\n",
       "      <td>1</td>\n",
       "      <td>2</td>\n",
       "      <td>1</td>\n",
       "      <td>3</td>\n",
       "      <td>4</td>\n",
       "    </tr>\n",
       "    <tr>\n",
       "      <th>title_idx</th>\n",
       "      <td>1</td>\n",
       "      <td>2</td>\n",
       "      <td>3</td>\n",
       "      <td>4</td>\n",
       "      <td>5</td>\n",
       "    </tr>\n",
       "    <tr>\n",
       "      <th>genre_idx</th>\n",
       "      <td>1</td>\n",
       "      <td>2</td>\n",
       "      <td>3</td>\n",
       "      <td>4</td>\n",
       "      <td>5</td>\n",
       "    </tr>\n",
       "    <tr>\n",
       "      <th>zip_idx</th>\n",
       "      <td>1</td>\n",
       "      <td>2</td>\n",
       "      <td>3</td>\n",
       "      <td>4</td>\n",
       "      <td>5</td>\n",
       "    </tr>\n",
       "  </tbody>\n",
       "</table>\n",
       "</div>"
      ],
      "text/plain": [
       "                                                    648724  \\\n",
       "userId                                                3908   \n",
       "itemId                                                2347   \n",
       "rating                                                   4   \n",
       "timestamp                                        965941231   \n",
       "gender                                                   M   \n",
       "age                                                     25   \n",
       "occupation                                               0   \n",
       "zip                                                  10021   \n",
       "title                Pope of Greenwich Village, The (1984)   \n",
       "genre                                               Action   \n",
       "random_dstype                                        train   \n",
       "user_idx                                                 1   \n",
       "item_idx                                                 1   \n",
       "dstype_random_train                                      1   \n",
       "dstype_random_valid                                      0   \n",
       "gender_idx                                               1   \n",
       "age_idx                                                  1   \n",
       "title_idx                                                1   \n",
       "genre_idx                                                1   \n",
       "zip_idx                                                  1   \n",
       "\n",
       "                                      203881  \\\n",
       "userId                                  1254   \n",
       "itemId                                  1541   \n",
       "rating                                     2   \n",
       "timestamp                          974823280   \n",
       "gender                                     F   \n",
       "age                                       18   \n",
       "occupation                                 1   \n",
       "zip                                    02144   \n",
       "title                Addicted to Love (1997)   \n",
       "genre                         Comedy|Romance   \n",
       "random_dstype                          train   \n",
       "user_idx                                   2   \n",
       "item_idx                                   2   \n",
       "dstype_random_train                        1   \n",
       "dstype_random_valid                        0   \n",
       "gender_idx                                 2   \n",
       "age_idx                                    2   \n",
       "title_idx                                  2   \n",
       "genre_idx                                  2   \n",
       "zip_idx                                    2   \n",
       "\n",
       "                                               243394  \\\n",
       "userId                                           1467   \n",
       "itemId                                           2617   \n",
       "rating                                              3   \n",
       "timestamp                                   977173059   \n",
       "gender                                              M   \n",
       "age                                                25   \n",
       "occupation                                          5   \n",
       "zip                                             97007   \n",
       "title                               Mummy, The (1999)   \n",
       "genre                Action|Adventure|Horror|Thriller   \n",
       "random_dstype                                   train   \n",
       "user_idx                                            3   \n",
       "item_idx                                            3   \n",
       "dstype_random_train                                 1   \n",
       "dstype_random_valid                                 0   \n",
       "gender_idx                                          1   \n",
       "age_idx                                             1   \n",
       "title_idx                                           3   \n",
       "genre_idx                                           3   \n",
       "zip_idx                                             3   \n",
       "\n",
       "                                                             788507  \\\n",
       "userId                                                         4717   \n",
       "itemId                                                         3754   \n",
       "rating                                                            3   \n",
       "timestamp                                                 963502544   \n",
       "gender                                                            M   \n",
       "age                                                              45   \n",
       "occupation                                                       17   \n",
       "zip                                                           48310   \n",
       "title                Adventures of Rocky and Bullwinkle, The (2000)   \n",
       "genre                                   Animation|Children's|Comedy   \n",
       "random_dstype                                                 train   \n",
       "user_idx                                                          4   \n",
       "item_idx                                                          4   \n",
       "dstype_random_train                                               1   \n",
       "dstype_random_valid                                               0   \n",
       "gender_idx                                                        1   \n",
       "age_idx                                                           3   \n",
       "title_idx                                                         4   \n",
       "genre_idx                                                         4   \n",
       "zip_idx                                                           4   \n",
       "\n",
       "                                          301066  \n",
       "userId                                      1789  \n",
       "itemId                                      2997  \n",
       "rating                                         5  \n",
       "timestamp                              974700402  \n",
       "gender                                         M  \n",
       "age                                            1  \n",
       "occupation                                    10  \n",
       "zip                                        19116  \n",
       "title                Being John Malkovich (1999)  \n",
       "genre                                     Comedy  \n",
       "random_dstype                              train  \n",
       "user_idx                                       5  \n",
       "item_idx                                       5  \n",
       "dstype_random_train                            1  \n",
       "dstype_random_valid                            0  \n",
       "gender_idx                                     1  \n",
       "age_idx                                        4  \n",
       "title_idx                                      5  \n",
       "genre_idx                                      5  \n",
       "zip_idx                                        5  "
      ]
     },
     "execution_count": 7,
     "metadata": {},
     "output_type": "execute_result"
    }
   ],
   "source": [
    "df_train.head().T"
   ]
  },
  {
   "cell_type": "code",
   "execution_count": 8,
   "metadata": {},
   "outputs": [
    {
     "data": {
      "text/plain": [
       "((900188, 20), (100021, 20))"
      ]
     },
     "execution_count": 8,
     "metadata": {},
     "output_type": "execute_result"
    }
   ],
   "source": [
    "df_train.shape,df_valid.shape"
   ]
  },
  {
   "cell_type": "markdown",
   "metadata": {},
   "source": [
    "### Add the autoencoder features"
   ]
  },
  {
   "cell_type": "code",
   "execution_count": 9,
   "metadata": {},
   "outputs": [],
   "source": [
    "import pickle"
   ]
  },
  {
   "cell_type": "code",
   "execution_count": 10,
   "metadata": {},
   "outputs": [],
   "source": [
    "[df_train_user_autoenc,df_valid_user_autoenc,user_mtx_1_weights,user_mtx_2_weights]=\\\n",
    "    pickle.load(open(f'{DATAPATH}/inter/user_autoenc_weights.pkl','rb'))"
   ]
  },
  {
   "cell_type": "code",
   "execution_count": 11,
   "metadata": {},
   "outputs": [],
   "source": [
    "[df_train_item_autoenc, df_valid_item_autoenc,item_mtx_1_weights,item_mtx_2_weights]=\\\n",
    "    pickle.load(open(f'{DATAPATH}/inter/item_autoenc_weights.pkl','rb'))"
   ]
  },
  {
   "cell_type": "code",
   "execution_count": 12,
   "metadata": {},
   "outputs": [
    {
     "data": {
      "text/plain": [
       "((6041, 11),\n",
       " pandas.core.frame.DataFrame,\n",
       "    user_idx  user_autoenc0  user_autoenc1  user_autoenc2  user_autoenc3  \\\n",
       " 0         0      -0.131411      -1.867321      -1.034773      -0.652261   \n",
       " 1         1       1.066437      -0.769391       1.397299      -0.614779   \n",
       " 2         2       0.164834      -0.302516      -0.110159       1.606218   \n",
       " 3         3       0.376587      -0.299099       0.583110      -0.180737   \n",
       " 4         4       0.122414       0.068338      -1.488121      -0.774750   \n",
       " \n",
       "    user_autoenc4  user_autoenc5  user_autoenc6  user_autoenc7  user_autoenc8  \\\n",
       " 0      -1.801149      -1.348989      -2.631876       0.922943       1.640687   \n",
       " 1      -2.255088       0.802201       0.277280       1.107929       0.140370   \n",
       " 2       1.272078      -0.461646       0.396851      -0.093426      -0.577105   \n",
       " 3      -0.767343       1.249731       0.616019       0.303022      -0.390305   \n",
       " 4       1.677763      -1.009944      -1.013061      -1.366796       1.194140   \n",
       " \n",
       "    user_autoenc9  \n",
       " 0      -0.200797  \n",
       " 1       0.511113  \n",
       " 2       0.313789  \n",
       " 3       0.327489  \n",
       " 4      -1.049694  )"
      ]
     },
     "execution_count": 12,
     "metadata": {},
     "output_type": "execute_result"
    }
   ],
   "source": [
    "df_train_user_autoenc.shape, type(df_train_user_autoenc),df_train_user_autoenc.head()"
   ]
  },
  {
   "cell_type": "code",
   "execution_count": 13,
   "metadata": {},
   "outputs": [
    {
     "data": {
      "text/plain": [
       "((6041, 11),\n",
       " pandas.core.frame.DataFrame,\n",
       "    user_idx  user_autoenc0  user_autoenc1  user_autoenc2  user_autoenc3  \\\n",
       " 0         0       0.765422      -2.367885      -1.498335      -0.990351   \n",
       " 1         1       1.729839      -1.087505       2.130423      -0.620454   \n",
       " 2         2       1.692085      -1.186405      -0.182575      -1.131373   \n",
       " 3         3       0.424285      -1.634102       0.503540      -0.238155   \n",
       " 4         4      -0.619118      -1.506441       0.454649       0.529628   \n",
       " \n",
       "    user_autoenc4  user_autoenc5  user_autoenc6  user_autoenc7  user_autoenc8  \\\n",
       " 0      -1.362897      -1.182127      -2.561123      -0.025844       2.447920   \n",
       " 1      -2.465815       1.752788       0.676629       1.051027      -0.007495   \n",
       " 2      -0.217210       0.156759      -0.648247      -0.612643       0.567780   \n",
       " 3      -1.858348       0.457126      -0.449041       1.081136       0.219433   \n",
       " 4      -0.408142      -0.652889      -0.868575       1.113766       1.353852   \n",
       " \n",
       "    user_autoenc9  \n",
       " 0      -0.246839  \n",
       " 1       0.632255  \n",
       " 2      -0.284633  \n",
       " 3       0.887638  \n",
       " 4       0.890728  )"
      ]
     },
     "execution_count": 13,
     "metadata": {},
     "output_type": "execute_result"
    }
   ],
   "source": [
    "df_valid_user_autoenc.shape, type(df_valid_user_autoenc),df_valid_user_autoenc.head()"
   ]
  },
  {
   "cell_type": "code",
   "execution_count": 14,
   "metadata": {},
   "outputs": [
    {
     "data": {
      "text/plain": [
       "((3707, 26),\n",
       " pandas.core.frame.DataFrame,\n",
       "    item_idx  item_autoenc0  item_autoenc1  item_autoenc2  item_autoenc3  \\\n",
       " 0         0      -0.987196       3.786223      -4.627895       2.953091   \n",
       " 1         1       2.333298       0.309642      -1.113329       7.204848   \n",
       " 2         2       0.514841       2.356029      -1.666602       2.984127   \n",
       " 3         3       4.477022       3.657685       2.977721       9.806198   \n",
       " 4         4      -2.124246      -0.325668      -5.257163      -3.279461   \n",
       " \n",
       "    item_autoenc4  item_autoenc5  item_autoenc6  item_autoenc7  item_autoenc8  \\\n",
       " 0       2.233420       3.987140       1.304113       3.130350      -0.694784   \n",
       " 1       1.855779      -0.591763      -4.000251      -2.140112       3.453243   \n",
       " 2      -1.919637      -2.581110      -2.085017       0.172845       2.633548   \n",
       " 3       2.379490      -3.766197      -2.888726      -2.900762       3.767788   \n",
       " 4       0.463391       4.090149       0.852403       4.013878      -3.601570   \n",
       " \n",
       "    ...  item_autoenc15  item_autoenc16  item_autoenc17  item_autoenc18  \\\n",
       " 0  ...        1.754032        3.031685       -0.243280       -3.587448   \n",
       " 1  ...       -2.857903        5.258953       -2.448397       -3.578214   \n",
       " 2  ...       -1.508895        1.330172        2.568535       -3.017983   \n",
       " 3  ...       -3.004441        4.828037       -2.469250       -7.174426   \n",
       " 4  ...        2.984326       -0.981040        0.973149        0.772380   \n",
       " \n",
       "    item_autoenc19  item_autoenc20  item_autoenc21  item_autoenc22  \\\n",
       " 0       -2.100737       -2.387446        2.395716       -2.354483   \n",
       " 1       -3.888808       -1.909066       -2.512469       -7.834614   \n",
       " 2       -0.037530        1.724451       -0.150643       -2.080866   \n",
       " 3       -5.981800       -4.022446       -7.927377       -7.861195   \n",
       " 4        1.367957        0.287220        4.700707        0.597437   \n",
       " \n",
       "    item_autoenc23  item_autoenc24  \n",
       " 0        1.225133       -3.893989  \n",
       " 1        2.729956       -3.301659  \n",
       " 2       -2.917793       -2.604034  \n",
       " 3       -2.572407       -3.052312  \n",
       " 4        3.134483       -2.396403  \n",
       " \n",
       " [5 rows x 26 columns])"
      ]
     },
     "execution_count": 14,
     "metadata": {},
     "output_type": "execute_result"
    }
   ],
   "source": [
    "df_train_item_autoenc.shape, type(df_train_item_autoenc),df_train_item_autoenc.head()"
   ]
  },
  {
   "cell_type": "code",
   "execution_count": 15,
   "metadata": {},
   "outputs": [
    {
     "data": {
      "text/plain": [
       "((3707, 26),\n",
       " pandas.core.frame.DataFrame,\n",
       "    item_idx  item_autoenc0  item_autoenc1  item_autoenc2  item_autoenc3  \\\n",
       " 0         0       1.027555       3.701517      -2.389572       3.427757   \n",
       " 1         1       0.953807       1.917872       0.203470       6.683481   \n",
       " 2         2       1.404702       3.326656      -2.060753       4.571496   \n",
       " 3         3       0.943444       2.427817       0.614833       5.357132   \n",
       " 4         4      -1.720551       1.583389      -3.461987      -0.479422   \n",
       " \n",
       "    item_autoenc4  item_autoenc5  item_autoenc6  item_autoenc7  item_autoenc8  \\\n",
       " 0       3.551548       2.606306       0.160117       1.820890      -0.322413   \n",
       " 1       1.475014      -0.065162      -2.388873      -2.260431       2.067212   \n",
       " 2      -0.882935      -1.504650       0.607969       0.441256       2.842574   \n",
       " 3       2.420052       0.307918       0.887766       1.488334      -0.621205   \n",
       " 4       2.280066       2.764338      -3.085567       1.328660      -3.530811   \n",
       " \n",
       "    ...  item_autoenc15  item_autoenc16  item_autoenc17  item_autoenc18  \\\n",
       " 0  ...        1.558656        3.555717       -0.355892       -4.440942   \n",
       " 1  ...       -0.261752        5.020755       -1.097227       -4.063765   \n",
       " 2  ...       -2.926573        0.873438        2.031035       -3.974233   \n",
       " 3  ...        0.434255        1.454507       -1.131745       -2.049331   \n",
       " 4  ...        2.577129        3.037631        1.445959       -0.488822   \n",
       " \n",
       "    item_autoenc19  item_autoenc20  item_autoenc21  item_autoenc22  \\\n",
       " 0       -2.772898       -4.391576        0.640317       -3.335437   \n",
       " 1       -2.912916       -2.303277       -3.198030       -6.062614   \n",
       " 2        0.879338       -0.451689       -0.935898       -1.707972   \n",
       " 3       -1.153563       -2.864435       -4.132273       -1.975400   \n",
       " 4       -0.736877       -1.483322        3.155296       -2.853259   \n",
       " \n",
       "    item_autoenc23  item_autoenc24  \n",
       " 0        0.202775       -4.765465  \n",
       " 1       -0.252211       -2.529613  \n",
       " 2       -2.661786       -2.812213  \n",
       " 3       -1.775158       -2.151281  \n",
       " 4        1.480539       -2.253405  \n",
       " \n",
       " [5 rows x 26 columns])"
      ]
     },
     "execution_count": 15,
     "metadata": {},
     "output_type": "execute_result"
    }
   ],
   "source": [
    "df_valid_item_autoenc.shape, type(df_valid_item_autoenc),df_valid_item_autoenc.head()"
   ]
  },
  {
   "cell_type": "code",
   "execution_count": 16,
   "metadata": {},
   "outputs": [
    {
     "data": {
      "text/plain": [
       "user_idx         False\n",
       "user_autoenc0    False\n",
       "user_autoenc1    False\n",
       "user_autoenc2    False\n",
       "user_autoenc3    False\n",
       "user_autoenc4    False\n",
       "user_autoenc5    False\n",
       "user_autoenc6    False\n",
       "user_autoenc7    False\n",
       "user_autoenc8    False\n",
       "user_autoenc9    False\n",
       "dtype: bool"
      ]
     },
     "execution_count": 16,
     "metadata": {},
     "output_type": "execute_result"
    }
   ],
   "source": [
    "df_valid_user_autoenc.isnull().any()"
   ]
  },
  {
   "cell_type": "code",
   "execution_count": 17,
   "metadata": {},
   "outputs": [
    {
     "data": {
      "text/plain": [
       "userId                 0\n",
       "itemId                 0\n",
       "rating                 0\n",
       "timestamp              0\n",
       "gender                 0\n",
       "age                    0\n",
       "occupation             0\n",
       "zip                    0\n",
       "title                  0\n",
       "genre                  0\n",
       "random_dstype          0\n",
       "user_idx               0\n",
       "item_idx               0\n",
       "dstype_random_train    0\n",
       "dstype_random_valid    0\n",
       "gender_idx             0\n",
       "age_idx                0\n",
       "title_idx              0\n",
       "genre_idx              0\n",
       "zip_idx                0\n",
       "dtype: int64"
      ]
     },
     "execution_count": 17,
     "metadata": {},
     "output_type": "execute_result"
    }
   ],
   "source": [
    "df_valid.isnull().sum()"
   ]
  },
  {
   "cell_type": "code",
   "execution_count": 18,
   "metadata": {},
   "outputs": [
    {
     "data": {
      "text/plain": [
       "userId                 0\n",
       "itemId                 0\n",
       "rating                 0\n",
       "timestamp              0\n",
       "gender                 0\n",
       "age                    0\n",
       "occupation             0\n",
       "zip                    0\n",
       "title                  0\n",
       "genre                  0\n",
       "random_dstype          0\n",
       "user_idx               0\n",
       "item_idx               0\n",
       "dstype_random_train    0\n",
       "dstype_random_valid    0\n",
       "gender_idx             0\n",
       "age_idx                0\n",
       "title_idx              0\n",
       "genre_idx              0\n",
       "zip_idx                0\n",
       "dtype: int64"
      ]
     },
     "execution_count": 18,
     "metadata": {},
     "output_type": "execute_result"
    }
   ],
   "source": [
    "df_train.isnull().sum()"
   ]
  },
  {
   "cell_type": "code",
   "execution_count": 19,
   "metadata": {},
   "outputs": [
    {
     "data": {
      "text/plain": [
       "((900188, 20), (100021, 20))"
      ]
     },
     "execution_count": 19,
     "metadata": {},
     "output_type": "execute_result"
    }
   ],
   "source": [
    "df_train.shape, df_valid.shape"
   ]
  },
  {
   "cell_type": "code",
   "execution_count": 20,
   "metadata": {},
   "outputs": [
    {
     "data": {
      "text/plain": [
       "userId                  int64\n",
       "itemId                  int64\n",
       "rating                  int64\n",
       "timestamp               int64\n",
       "gender                 object\n",
       "age                     int64\n",
       "occupation              int64\n",
       "zip                    object\n",
       "title                  object\n",
       "genre                  object\n",
       "random_dstype          object\n",
       "user_idx                int64\n",
       "item_idx                int64\n",
       "dstype_random_train     int64\n",
       "dstype_random_valid     int64\n",
       "gender_idx              int64\n",
       "age_idx                 int64\n",
       "title_idx               int64\n",
       "genre_idx               int64\n",
       "zip_idx                 int64\n",
       "dtype: object"
      ]
     },
     "execution_count": 20,
     "metadata": {},
     "output_type": "execute_result"
    }
   ],
   "source": [
    "df_train.dtypes"
   ]
  },
  {
   "cell_type": "code",
   "execution_count": 21,
   "metadata": {},
   "outputs": [
    {
     "data": {
      "text/html": [
       "<div>\n",
       "<style scoped>\n",
       "    .dataframe tbody tr th:only-of-type {\n",
       "        vertical-align: middle;\n",
       "    }\n",
       "\n",
       "    .dataframe tbody tr th {\n",
       "        vertical-align: top;\n",
       "    }\n",
       "\n",
       "    .dataframe thead th {\n",
       "        text-align: right;\n",
       "    }\n",
       "</style>\n",
       "<table border=\"1\" class=\"dataframe\">\n",
       "  <thead>\n",
       "    <tr style=\"text-align: right;\">\n",
       "      <th></th>\n",
       "      <th>userId</th>\n",
       "      <th>itemId</th>\n",
       "      <th>rating</th>\n",
       "      <th>timestamp</th>\n",
       "      <th>gender</th>\n",
       "      <th>age</th>\n",
       "      <th>occupation</th>\n",
       "      <th>zip</th>\n",
       "      <th>title</th>\n",
       "      <th>genre</th>\n",
       "      <th>random_dstype</th>\n",
       "      <th>user_idx</th>\n",
       "      <th>item_idx</th>\n",
       "      <th>dstype_random_train</th>\n",
       "      <th>dstype_random_valid</th>\n",
       "      <th>gender_idx</th>\n",
       "      <th>age_idx</th>\n",
       "      <th>title_idx</th>\n",
       "      <th>genre_idx</th>\n",
       "      <th>zip_idx</th>\n",
       "    </tr>\n",
       "  </thead>\n",
       "  <tbody>\n",
       "    <tr>\n",
       "      <th>648724</th>\n",
       "      <td>3908</td>\n",
       "      <td>2347</td>\n",
       "      <td>4</td>\n",
       "      <td>965941231</td>\n",
       "      <td>M</td>\n",
       "      <td>25</td>\n",
       "      <td>0</td>\n",
       "      <td>10021</td>\n",
       "      <td>Pope of Greenwich Village, The (1984)</td>\n",
       "      <td>Action</td>\n",
       "      <td>train</td>\n",
       "      <td>1</td>\n",
       "      <td>1</td>\n",
       "      <td>1</td>\n",
       "      <td>0</td>\n",
       "      <td>1</td>\n",
       "      <td>1</td>\n",
       "      <td>1</td>\n",
       "      <td>1</td>\n",
       "      <td>1</td>\n",
       "    </tr>\n",
       "    <tr>\n",
       "      <th>203881</th>\n",
       "      <td>1254</td>\n",
       "      <td>1541</td>\n",
       "      <td>2</td>\n",
       "      <td>974823280</td>\n",
       "      <td>F</td>\n",
       "      <td>18</td>\n",
       "      <td>1</td>\n",
       "      <td>02144</td>\n",
       "      <td>Addicted to Love (1997)</td>\n",
       "      <td>Comedy|Romance</td>\n",
       "      <td>train</td>\n",
       "      <td>2</td>\n",
       "      <td>2</td>\n",
       "      <td>1</td>\n",
       "      <td>0</td>\n",
       "      <td>2</td>\n",
       "      <td>2</td>\n",
       "      <td>2</td>\n",
       "      <td>2</td>\n",
       "      <td>2</td>\n",
       "    </tr>\n",
       "    <tr>\n",
       "      <th>243394</th>\n",
       "      <td>1467</td>\n",
       "      <td>2617</td>\n",
       "      <td>3</td>\n",
       "      <td>977173059</td>\n",
       "      <td>M</td>\n",
       "      <td>25</td>\n",
       "      <td>5</td>\n",
       "      <td>97007</td>\n",
       "      <td>Mummy, The (1999)</td>\n",
       "      <td>Action|Adventure|Horror|Thriller</td>\n",
       "      <td>train</td>\n",
       "      <td>3</td>\n",
       "      <td>3</td>\n",
       "      <td>1</td>\n",
       "      <td>0</td>\n",
       "      <td>1</td>\n",
       "      <td>1</td>\n",
       "      <td>3</td>\n",
       "      <td>3</td>\n",
       "      <td>3</td>\n",
       "    </tr>\n",
       "    <tr>\n",
       "      <th>788507</th>\n",
       "      <td>4717</td>\n",
       "      <td>3754</td>\n",
       "      <td>3</td>\n",
       "      <td>963502544</td>\n",
       "      <td>M</td>\n",
       "      <td>45</td>\n",
       "      <td>17</td>\n",
       "      <td>48310</td>\n",
       "      <td>Adventures of Rocky and Bullwinkle, The (2000)</td>\n",
       "      <td>Animation|Children's|Comedy</td>\n",
       "      <td>train</td>\n",
       "      <td>4</td>\n",
       "      <td>4</td>\n",
       "      <td>1</td>\n",
       "      <td>0</td>\n",
       "      <td>1</td>\n",
       "      <td>3</td>\n",
       "      <td>4</td>\n",
       "      <td>4</td>\n",
       "      <td>4</td>\n",
       "    </tr>\n",
       "    <tr>\n",
       "      <th>301066</th>\n",
       "      <td>1789</td>\n",
       "      <td>2997</td>\n",
       "      <td>5</td>\n",
       "      <td>974700402</td>\n",
       "      <td>M</td>\n",
       "      <td>1</td>\n",
       "      <td>10</td>\n",
       "      <td>19116</td>\n",
       "      <td>Being John Malkovich (1999)</td>\n",
       "      <td>Comedy</td>\n",
       "      <td>train</td>\n",
       "      <td>5</td>\n",
       "      <td>5</td>\n",
       "      <td>1</td>\n",
       "      <td>0</td>\n",
       "      <td>1</td>\n",
       "      <td>4</td>\n",
       "      <td>5</td>\n",
       "      <td>5</td>\n",
       "      <td>5</td>\n",
       "    </tr>\n",
       "  </tbody>\n",
       "</table>\n",
       "</div>"
      ],
      "text/plain": [
       "        userId  itemId  rating  timestamp gender  age  occupation    zip  \\\n",
       "648724    3908    2347       4  965941231      M   25           0  10021   \n",
       "203881    1254    1541       2  974823280      F   18           1  02144   \n",
       "243394    1467    2617       3  977173059      M   25           5  97007   \n",
       "788507    4717    3754       3  963502544      M   45          17  48310   \n",
       "301066    1789    2997       5  974700402      M    1          10  19116   \n",
       "\n",
       "                                                 title  \\\n",
       "648724           Pope of Greenwich Village, The (1984)   \n",
       "203881                         Addicted to Love (1997)   \n",
       "243394                               Mummy, The (1999)   \n",
       "788507  Adventures of Rocky and Bullwinkle, The (2000)   \n",
       "301066                     Being John Malkovich (1999)   \n",
       "\n",
       "                                   genre random_dstype  user_idx  item_idx  \\\n",
       "648724                            Action         train         1         1   \n",
       "203881                    Comedy|Romance         train         2         2   \n",
       "243394  Action|Adventure|Horror|Thriller         train         3         3   \n",
       "788507       Animation|Children's|Comedy         train         4         4   \n",
       "301066                            Comedy         train         5         5   \n",
       "\n",
       "        dstype_random_train  dstype_random_valid  gender_idx  age_idx  \\\n",
       "648724                    1                    0           1        1   \n",
       "203881                    1                    0           2        2   \n",
       "243394                    1                    0           1        1   \n",
       "788507                    1                    0           1        3   \n",
       "301066                    1                    0           1        4   \n",
       "\n",
       "        title_idx  genre_idx  zip_idx  \n",
       "648724          1          1        1  \n",
       "203881          2          2        2  \n",
       "243394          3          3        3  \n",
       "788507          4          4        4  \n",
       "301066          5          5        5  "
      ]
     },
     "execution_count": 21,
     "metadata": {},
     "output_type": "execute_result"
    }
   ],
   "source": [
    "df_train.head()"
   ]
  },
  {
   "cell_type": "code",
   "execution_count": 22,
   "metadata": {},
   "outputs": [],
   "source": [
    "df_train=pd.merge(df_train,df_train_item_autoenc,on='item_idx',how='left')"
   ]
  },
  {
   "cell_type": "code",
   "execution_count": 23,
   "metadata": {},
   "outputs": [
    {
     "data": {
      "text/plain": [
       "(900188, 45)"
      ]
     },
     "execution_count": 23,
     "metadata": {},
     "output_type": "execute_result"
    }
   ],
   "source": [
    "df_train.shape"
   ]
  },
  {
   "cell_type": "code",
   "execution_count": 24,
   "metadata": {},
   "outputs": [
    {
     "name": "stdout",
     "output_type": "stream",
     "text": [
      "(100021, 20)\n"
     ]
    },
    {
     "data": {
      "text/plain": [
       "(100021, 45)"
      ]
     },
     "execution_count": 24,
     "metadata": {},
     "output_type": "execute_result"
    }
   ],
   "source": [
    "print(df_valid.shape)\n",
    "df_valid=pd.merge(df_valid,df_valid_item_autoenc,on='item_idx',how='left')\n",
    "df_valid.shape"
   ]
  },
  {
   "cell_type": "code",
   "execution_count": 25,
   "metadata": {},
   "outputs": [
    {
     "data": {
      "text/plain": [
       "(100021, 45)"
      ]
     },
     "execution_count": 25,
     "metadata": {},
     "output_type": "execute_result"
    }
   ],
   "source": [
    "df_valid.shape"
   ]
  },
  {
   "cell_type": "code",
   "execution_count": 26,
   "metadata": {},
   "outputs": [
    {
     "name": "stdout",
     "output_type": "stream",
     "text": [
      "(100021, 45)\n"
     ]
    },
    {
     "data": {
      "text/plain": [
       "(100021, 55)"
      ]
     },
     "execution_count": 26,
     "metadata": {},
     "output_type": "execute_result"
    }
   ],
   "source": [
    "print(df_valid.shape)\n",
    "df_valid=pd.merge(df_valid,df_valid_user_autoenc,on='user_idx',how='left')\n",
    "df_valid.shape"
   ]
  },
  {
   "cell_type": "code",
   "execution_count": 27,
   "metadata": {},
   "outputs": [
    {
     "name": "stdout",
     "output_type": "stream",
     "text": [
      "(900188, 45)\n"
     ]
    },
    {
     "data": {
      "text/plain": [
       "(900188, 55)"
      ]
     },
     "execution_count": 27,
     "metadata": {},
     "output_type": "execute_result"
    }
   ],
   "source": [
    "print(df_train.shape)\n",
    "df_train=pd.merge(df_train,df_train_user_autoenc,on='user_idx',how='left')\n",
    "df_train.shape"
   ]
  },
  {
   "cell_type": "code",
   "execution_count": 28,
   "metadata": {},
   "outputs": [
    {
     "data": {
      "text/plain": [
       "Index(['userId', 'itemId', 'rating', 'timestamp', 'gender', 'age',\n",
       "       'occupation', 'zip', 'title', 'genre', 'random_dstype', 'user_idx',\n",
       "       'item_idx', 'dstype_random_train', 'dstype_random_valid', 'gender_idx',\n",
       "       'age_idx', 'title_idx', 'genre_idx', 'zip_idx', 'item_autoenc0',\n",
       "       'item_autoenc1', 'item_autoenc2', 'item_autoenc3', 'item_autoenc4',\n",
       "       'item_autoenc5', 'item_autoenc6', 'item_autoenc7', 'item_autoenc8',\n",
       "       'item_autoenc9', 'item_autoenc10', 'item_autoenc11', 'item_autoenc12',\n",
       "       'item_autoenc13', 'item_autoenc14', 'item_autoenc15', 'item_autoenc16',\n",
       "       'item_autoenc17', 'item_autoenc18', 'item_autoenc19', 'item_autoenc20',\n",
       "       'item_autoenc21', 'item_autoenc22', 'item_autoenc23', 'item_autoenc24',\n",
       "       'user_autoenc0', 'user_autoenc1', 'user_autoenc2', 'user_autoenc3',\n",
       "       'user_autoenc4', 'user_autoenc5', 'user_autoenc6', 'user_autoenc7',\n",
       "       'user_autoenc8', 'user_autoenc9'],\n",
       "      dtype='object')"
      ]
     },
     "execution_count": 28,
     "metadata": {},
     "output_type": "execute_result"
    }
   ],
   "source": [
    "df_train.columns"
   ]
  },
  {
   "cell_type": "code",
   "execution_count": 29,
   "metadata": {},
   "outputs": [],
   "source": [
    "autoenc_cols=df_train.columns[df_train.columns.str.contains('autoenc')]"
   ]
  },
  {
   "cell_type": "code",
   "execution_count": 30,
   "metadata": {},
   "outputs": [],
   "source": [
    "autoenc_cols=autoenc_cols.tolist()"
   ]
  },
  {
   "cell_type": "code",
   "execution_count": 31,
   "metadata": {},
   "outputs": [
    {
     "data": {
      "text/plain": [
       "['item_autoenc0',\n",
       " 'item_autoenc1',\n",
       " 'item_autoenc2',\n",
       " 'item_autoenc3',\n",
       " 'item_autoenc4',\n",
       " 'item_autoenc5',\n",
       " 'item_autoenc6',\n",
       " 'item_autoenc7',\n",
       " 'item_autoenc8',\n",
       " 'item_autoenc9',\n",
       " 'item_autoenc10',\n",
       " 'item_autoenc11',\n",
       " 'item_autoenc12',\n",
       " 'item_autoenc13',\n",
       " 'item_autoenc14',\n",
       " 'item_autoenc15',\n",
       " 'item_autoenc16',\n",
       " 'item_autoenc17',\n",
       " 'item_autoenc18',\n",
       " 'item_autoenc19',\n",
       " 'item_autoenc20',\n",
       " 'item_autoenc21',\n",
       " 'item_autoenc22',\n",
       " 'item_autoenc23',\n",
       " 'item_autoenc24',\n",
       " 'user_autoenc0',\n",
       " 'user_autoenc1',\n",
       " 'user_autoenc2',\n",
       " 'user_autoenc3',\n",
       " 'user_autoenc4',\n",
       " 'user_autoenc5',\n",
       " 'user_autoenc6',\n",
       " 'user_autoenc7',\n",
       " 'user_autoenc8',\n",
       " 'user_autoenc9']"
      ]
     },
     "execution_count": 31,
     "metadata": {},
     "output_type": "execute_result"
    }
   ],
   "source": [
    "autoenc_cols"
   ]
  },
  {
   "cell_type": "code",
   "execution_count": 32,
   "metadata": {},
   "outputs": [
    {
     "data": {
      "text/html": [
       "<div>\n",
       "<style scoped>\n",
       "    .dataframe tbody tr th:only-of-type {\n",
       "        vertical-align: middle;\n",
       "    }\n",
       "\n",
       "    .dataframe tbody tr th {\n",
       "        vertical-align: top;\n",
       "    }\n",
       "\n",
       "    .dataframe thead th {\n",
       "        text-align: right;\n",
       "    }\n",
       "</style>\n",
       "<table border=\"1\" class=\"dataframe\">\n",
       "  <thead>\n",
       "    <tr style=\"text-align: right;\">\n",
       "      <th></th>\n",
       "      <th>userId</th>\n",
       "      <th>itemId</th>\n",
       "      <th>rating</th>\n",
       "      <th>timestamp</th>\n",
       "      <th>gender</th>\n",
       "      <th>age</th>\n",
       "      <th>occupation</th>\n",
       "      <th>zip</th>\n",
       "      <th>title</th>\n",
       "      <th>genre</th>\n",
       "      <th>...</th>\n",
       "      <th>user_autoenc0</th>\n",
       "      <th>user_autoenc1</th>\n",
       "      <th>user_autoenc2</th>\n",
       "      <th>user_autoenc3</th>\n",
       "      <th>user_autoenc4</th>\n",
       "      <th>user_autoenc5</th>\n",
       "      <th>user_autoenc6</th>\n",
       "      <th>user_autoenc7</th>\n",
       "      <th>user_autoenc8</th>\n",
       "      <th>user_autoenc9</th>\n",
       "    </tr>\n",
       "  </thead>\n",
       "  <tbody>\n",
       "    <tr>\n",
       "      <th>0</th>\n",
       "      <td>3908</td>\n",
       "      <td>2347</td>\n",
       "      <td>4</td>\n",
       "      <td>965941231</td>\n",
       "      <td>M</td>\n",
       "      <td>25</td>\n",
       "      <td>0</td>\n",
       "      <td>10021</td>\n",
       "      <td>Pope of Greenwich Village, The (1984)</td>\n",
       "      <td>Action</td>\n",
       "      <td>...</td>\n",
       "      <td>1.066437</td>\n",
       "      <td>-0.769391</td>\n",
       "      <td>1.397299</td>\n",
       "      <td>-0.614779</td>\n",
       "      <td>-2.255088</td>\n",
       "      <td>0.802201</td>\n",
       "      <td>0.277280</td>\n",
       "      <td>1.107929</td>\n",
       "      <td>0.140370</td>\n",
       "      <td>0.511113</td>\n",
       "    </tr>\n",
       "    <tr>\n",
       "      <th>1</th>\n",
       "      <td>1254</td>\n",
       "      <td>1541</td>\n",
       "      <td>2</td>\n",
       "      <td>974823280</td>\n",
       "      <td>F</td>\n",
       "      <td>18</td>\n",
       "      <td>1</td>\n",
       "      <td>02144</td>\n",
       "      <td>Addicted to Love (1997)</td>\n",
       "      <td>Comedy|Romance</td>\n",
       "      <td>...</td>\n",
       "      <td>0.164834</td>\n",
       "      <td>-0.302516</td>\n",
       "      <td>-0.110159</td>\n",
       "      <td>1.606218</td>\n",
       "      <td>1.272078</td>\n",
       "      <td>-0.461646</td>\n",
       "      <td>0.396851</td>\n",
       "      <td>-0.093426</td>\n",
       "      <td>-0.577105</td>\n",
       "      <td>0.313789</td>\n",
       "    </tr>\n",
       "    <tr>\n",
       "      <th>2</th>\n",
       "      <td>1467</td>\n",
       "      <td>2617</td>\n",
       "      <td>3</td>\n",
       "      <td>977173059</td>\n",
       "      <td>M</td>\n",
       "      <td>25</td>\n",
       "      <td>5</td>\n",
       "      <td>97007</td>\n",
       "      <td>Mummy, The (1999)</td>\n",
       "      <td>Action|Adventure|Horror|Thriller</td>\n",
       "      <td>...</td>\n",
       "      <td>0.376587</td>\n",
       "      <td>-0.299099</td>\n",
       "      <td>0.583110</td>\n",
       "      <td>-0.180737</td>\n",
       "      <td>-0.767343</td>\n",
       "      <td>1.249731</td>\n",
       "      <td>0.616019</td>\n",
       "      <td>0.303022</td>\n",
       "      <td>-0.390305</td>\n",
       "      <td>0.327489</td>\n",
       "    </tr>\n",
       "    <tr>\n",
       "      <th>3</th>\n",
       "      <td>4717</td>\n",
       "      <td>3754</td>\n",
       "      <td>3</td>\n",
       "      <td>963502544</td>\n",
       "      <td>M</td>\n",
       "      <td>45</td>\n",
       "      <td>17</td>\n",
       "      <td>48310</td>\n",
       "      <td>Adventures of Rocky and Bullwinkle, The (2000)</td>\n",
       "      <td>Animation|Children's|Comedy</td>\n",
       "      <td>...</td>\n",
       "      <td>0.122414</td>\n",
       "      <td>0.068338</td>\n",
       "      <td>-1.488121</td>\n",
       "      <td>-0.774750</td>\n",
       "      <td>1.677763</td>\n",
       "      <td>-1.009944</td>\n",
       "      <td>-1.013061</td>\n",
       "      <td>-1.366796</td>\n",
       "      <td>1.194140</td>\n",
       "      <td>-1.049694</td>\n",
       "    </tr>\n",
       "    <tr>\n",
       "      <th>4</th>\n",
       "      <td>1789</td>\n",
       "      <td>2997</td>\n",
       "      <td>5</td>\n",
       "      <td>974700402</td>\n",
       "      <td>M</td>\n",
       "      <td>1</td>\n",
       "      <td>10</td>\n",
       "      <td>19116</td>\n",
       "      <td>Being John Malkovich (1999)</td>\n",
       "      <td>Comedy</td>\n",
       "      <td>...</td>\n",
       "      <td>-0.251530</td>\n",
       "      <td>-0.066663</td>\n",
       "      <td>-0.172782</td>\n",
       "      <td>0.291469</td>\n",
       "      <td>-0.312681</td>\n",
       "      <td>-0.236875</td>\n",
       "      <td>0.071298</td>\n",
       "      <td>0.166090</td>\n",
       "      <td>0.058171</td>\n",
       "      <td>0.057417</td>\n",
       "    </tr>\n",
       "  </tbody>\n",
       "</table>\n",
       "<p>5 rows × 55 columns</p>\n",
       "</div>"
      ],
      "text/plain": [
       "   userId  itemId  rating  timestamp gender  age  occupation    zip  \\\n",
       "0    3908    2347       4  965941231      M   25           0  10021   \n",
       "1    1254    1541       2  974823280      F   18           1  02144   \n",
       "2    1467    2617       3  977173059      M   25           5  97007   \n",
       "3    4717    3754       3  963502544      M   45          17  48310   \n",
       "4    1789    2997       5  974700402      M    1          10  19116   \n",
       "\n",
       "                                            title  \\\n",
       "0           Pope of Greenwich Village, The (1984)   \n",
       "1                         Addicted to Love (1997)   \n",
       "2                               Mummy, The (1999)   \n",
       "3  Adventures of Rocky and Bullwinkle, The (2000)   \n",
       "4                     Being John Malkovich (1999)   \n",
       "\n",
       "                              genre  ... user_autoenc0  user_autoenc1  \\\n",
       "0                            Action  ...      1.066437      -0.769391   \n",
       "1                    Comedy|Romance  ...      0.164834      -0.302516   \n",
       "2  Action|Adventure|Horror|Thriller  ...      0.376587      -0.299099   \n",
       "3       Animation|Children's|Comedy  ...      0.122414       0.068338   \n",
       "4                            Comedy  ...     -0.251530      -0.066663   \n",
       "\n",
       "   user_autoenc2  user_autoenc3  user_autoenc4  user_autoenc5  user_autoenc6  \\\n",
       "0       1.397299      -0.614779      -2.255088       0.802201       0.277280   \n",
       "1      -0.110159       1.606218       1.272078      -0.461646       0.396851   \n",
       "2       0.583110      -0.180737      -0.767343       1.249731       0.616019   \n",
       "3      -1.488121      -0.774750       1.677763      -1.009944      -1.013061   \n",
       "4      -0.172782       0.291469      -0.312681      -0.236875       0.071298   \n",
       "\n",
       "   user_autoenc7  user_autoenc8  user_autoenc9  \n",
       "0       1.107929       0.140370       0.511113  \n",
       "1      -0.093426      -0.577105       0.313789  \n",
       "2       0.303022      -0.390305       0.327489  \n",
       "3      -1.366796       1.194140      -1.049694  \n",
       "4       0.166090       0.058171       0.057417  \n",
       "\n",
       "[5 rows x 55 columns]"
      ]
     },
     "execution_count": 32,
     "metadata": {},
     "output_type": "execute_result"
    }
   ],
   "source": [
    "df_train.head()"
   ]
  },
  {
   "cell_type": "code",
   "execution_count": 33,
   "metadata": {},
   "outputs": [
    {
     "data": {
      "text/html": [
       "<div>\n",
       "<style scoped>\n",
       "    .dataframe tbody tr th:only-of-type {\n",
       "        vertical-align: middle;\n",
       "    }\n",
       "\n",
       "    .dataframe tbody tr th {\n",
       "        vertical-align: top;\n",
       "    }\n",
       "\n",
       "    .dataframe thead th {\n",
       "        text-align: right;\n",
       "    }\n",
       "</style>\n",
       "<table border=\"1\" class=\"dataframe\">\n",
       "  <thead>\n",
       "    <tr style=\"text-align: right;\">\n",
       "      <th></th>\n",
       "      <th>user_idx</th>\n",
       "      <th>item_idx</th>\n",
       "      <th>item_autoenc0</th>\n",
       "      <th>item_autoenc1</th>\n",
       "      <th>item_autoenc2</th>\n",
       "      <th>item_autoenc3</th>\n",
       "      <th>item_autoenc4</th>\n",
       "      <th>item_autoenc5</th>\n",
       "      <th>item_autoenc6</th>\n",
       "      <th>item_autoenc7</th>\n",
       "      <th>...</th>\n",
       "      <th>user_autoenc0</th>\n",
       "      <th>user_autoenc1</th>\n",
       "      <th>user_autoenc2</th>\n",
       "      <th>user_autoenc3</th>\n",
       "      <th>user_autoenc4</th>\n",
       "      <th>user_autoenc5</th>\n",
       "      <th>user_autoenc6</th>\n",
       "      <th>user_autoenc7</th>\n",
       "      <th>user_autoenc8</th>\n",
       "      <th>user_autoenc9</th>\n",
       "    </tr>\n",
       "  </thead>\n",
       "  <tbody>\n",
       "    <tr>\n",
       "      <th>0</th>\n",
       "      <td>1</td>\n",
       "      <td>1</td>\n",
       "      <td>2.333298</td>\n",
       "      <td>0.309642</td>\n",
       "      <td>-1.113329</td>\n",
       "      <td>7.204848</td>\n",
       "      <td>1.855779</td>\n",
       "      <td>-0.591763</td>\n",
       "      <td>-4.000251</td>\n",
       "      <td>-2.140112</td>\n",
       "      <td>...</td>\n",
       "      <td>1.066437</td>\n",
       "      <td>-0.769391</td>\n",
       "      <td>1.397299</td>\n",
       "      <td>-0.614779</td>\n",
       "      <td>-2.255088</td>\n",
       "      <td>0.802201</td>\n",
       "      <td>0.277280</td>\n",
       "      <td>1.107929</td>\n",
       "      <td>0.140370</td>\n",
       "      <td>0.511113</td>\n",
       "    </tr>\n",
       "    <tr>\n",
       "      <th>1</th>\n",
       "      <td>2</td>\n",
       "      <td>2</td>\n",
       "      <td>0.514841</td>\n",
       "      <td>2.356029</td>\n",
       "      <td>-1.666602</td>\n",
       "      <td>2.984127</td>\n",
       "      <td>-1.919637</td>\n",
       "      <td>-2.581110</td>\n",
       "      <td>-2.085017</td>\n",
       "      <td>0.172845</td>\n",
       "      <td>...</td>\n",
       "      <td>0.164834</td>\n",
       "      <td>-0.302516</td>\n",
       "      <td>-0.110159</td>\n",
       "      <td>1.606218</td>\n",
       "      <td>1.272078</td>\n",
       "      <td>-0.461646</td>\n",
       "      <td>0.396851</td>\n",
       "      <td>-0.093426</td>\n",
       "      <td>-0.577105</td>\n",
       "      <td>0.313789</td>\n",
       "    </tr>\n",
       "    <tr>\n",
       "      <th>2</th>\n",
       "      <td>3</td>\n",
       "      <td>3</td>\n",
       "      <td>4.477022</td>\n",
       "      <td>3.657685</td>\n",
       "      <td>2.977721</td>\n",
       "      <td>9.806198</td>\n",
       "      <td>2.379490</td>\n",
       "      <td>-3.766197</td>\n",
       "      <td>-2.888726</td>\n",
       "      <td>-2.900762</td>\n",
       "      <td>...</td>\n",
       "      <td>0.376587</td>\n",
       "      <td>-0.299099</td>\n",
       "      <td>0.583110</td>\n",
       "      <td>-0.180737</td>\n",
       "      <td>-0.767343</td>\n",
       "      <td>1.249731</td>\n",
       "      <td>0.616019</td>\n",
       "      <td>0.303022</td>\n",
       "      <td>-0.390305</td>\n",
       "      <td>0.327489</td>\n",
       "    </tr>\n",
       "    <tr>\n",
       "      <th>3</th>\n",
       "      <td>4</td>\n",
       "      <td>4</td>\n",
       "      <td>-2.124246</td>\n",
       "      <td>-0.325668</td>\n",
       "      <td>-5.257163</td>\n",
       "      <td>-3.279461</td>\n",
       "      <td>0.463391</td>\n",
       "      <td>4.090149</td>\n",
       "      <td>0.852403</td>\n",
       "      <td>4.013878</td>\n",
       "      <td>...</td>\n",
       "      <td>0.122414</td>\n",
       "      <td>0.068338</td>\n",
       "      <td>-1.488121</td>\n",
       "      <td>-0.774750</td>\n",
       "      <td>1.677763</td>\n",
       "      <td>-1.009944</td>\n",
       "      <td>-1.013061</td>\n",
       "      <td>-1.366796</td>\n",
       "      <td>1.194140</td>\n",
       "      <td>-1.049694</td>\n",
       "    </tr>\n",
       "    <tr>\n",
       "      <th>4</th>\n",
       "      <td>5</td>\n",
       "      <td>5</td>\n",
       "      <td>1.128772</td>\n",
       "      <td>2.336243</td>\n",
       "      <td>-3.422875</td>\n",
       "      <td>2.346029</td>\n",
       "      <td>-0.664875</td>\n",
       "      <td>-0.545030</td>\n",
       "      <td>0.999951</td>\n",
       "      <td>2.278310</td>\n",
       "      <td>...</td>\n",
       "      <td>-0.251530</td>\n",
       "      <td>-0.066663</td>\n",
       "      <td>-0.172782</td>\n",
       "      <td>0.291469</td>\n",
       "      <td>-0.312681</td>\n",
       "      <td>-0.236875</td>\n",
       "      <td>0.071298</td>\n",
       "      <td>0.166090</td>\n",
       "      <td>0.058171</td>\n",
       "      <td>0.057417</td>\n",
       "    </tr>\n",
       "  </tbody>\n",
       "</table>\n",
       "<p>5 rows × 37 columns</p>\n",
       "</div>"
      ],
      "text/plain": [
       "   user_idx  item_idx  item_autoenc0  item_autoenc1  item_autoenc2  \\\n",
       "0         1         1       2.333298       0.309642      -1.113329   \n",
       "1         2         2       0.514841       2.356029      -1.666602   \n",
       "2         3         3       4.477022       3.657685       2.977721   \n",
       "3         4         4      -2.124246      -0.325668      -5.257163   \n",
       "4         5         5       1.128772       2.336243      -3.422875   \n",
       "\n",
       "   item_autoenc3  item_autoenc4  item_autoenc5  item_autoenc6  item_autoenc7  \\\n",
       "0       7.204848       1.855779      -0.591763      -4.000251      -2.140112   \n",
       "1       2.984127      -1.919637      -2.581110      -2.085017       0.172845   \n",
       "2       9.806198       2.379490      -3.766197      -2.888726      -2.900762   \n",
       "3      -3.279461       0.463391       4.090149       0.852403       4.013878   \n",
       "4       2.346029      -0.664875      -0.545030       0.999951       2.278310   \n",
       "\n",
       "   ...  user_autoenc0  user_autoenc1  user_autoenc2  user_autoenc3  \\\n",
       "0  ...       1.066437      -0.769391       1.397299      -0.614779   \n",
       "1  ...       0.164834      -0.302516      -0.110159       1.606218   \n",
       "2  ...       0.376587      -0.299099       0.583110      -0.180737   \n",
       "3  ...       0.122414       0.068338      -1.488121      -0.774750   \n",
       "4  ...      -0.251530      -0.066663      -0.172782       0.291469   \n",
       "\n",
       "   user_autoenc4  user_autoenc5  user_autoenc6  user_autoenc7  user_autoenc8  \\\n",
       "0      -2.255088       0.802201       0.277280       1.107929       0.140370   \n",
       "1       1.272078      -0.461646       0.396851      -0.093426      -0.577105   \n",
       "2      -0.767343       1.249731       0.616019       0.303022      -0.390305   \n",
       "3       1.677763      -1.009944      -1.013061      -1.366796       1.194140   \n",
       "4      -0.312681      -0.236875       0.071298       0.166090       0.058171   \n",
       "\n",
       "   user_autoenc9  \n",
       "0       0.511113  \n",
       "1       0.313789  \n",
       "2       0.327489  \n",
       "3      -1.049694  \n",
       "4       0.057417  \n",
       "\n",
       "[5 rows x 37 columns]"
      ]
     },
     "execution_count": 33,
     "metadata": {},
     "output_type": "execute_result"
    }
   ],
   "source": [
    "df_train[['user_idx','item_idx']+autoenc_cols].head()"
   ]
  },
  {
   "cell_type": "code",
   "execution_count": 34,
   "metadata": {},
   "outputs": [
    {
     "data": {
      "text/plain": [
       "(count    100021.000000\n",
       " mean          3.584587\n",
       " std           1.114938\n",
       " min           1.000000\n",
       " 25%           3.000000\n",
       " 50%           4.000000\n",
       " 75%           4.000000\n",
       " max           5.000000\n",
       " Name: rating, dtype: float64, count    900188.000000\n",
       " mean          3.581229\n",
       " std           1.117342\n",
       " min           1.000000\n",
       " 25%           3.000000\n",
       " 50%           4.000000\n",
       " 75%           4.000000\n",
       " max           5.000000\n",
       " Name: rating, dtype: float64)"
      ]
     },
     "execution_count": 34,
     "metadata": {},
     "output_type": "execute_result"
    }
   ],
   "source": [
    "df_valid['rating'].describe(),df_train['rating'].describe()"
   ]
  },
  {
   "cell_type": "code",
   "execution_count": 35,
   "metadata": {},
   "outputs": [
    {
     "data": {
      "text/plain": [
       "Index(['userId', 'itemId', 'rating', 'timestamp', 'gender', 'age',\n",
       "       'occupation', 'zip', 'title', 'genre', 'random_dstype', 'user_idx',\n",
       "       'item_idx', 'dstype_random_train', 'dstype_random_valid', 'gender_idx',\n",
       "       'age_idx', 'title_idx', 'genre_idx', 'zip_idx', 'item_autoenc0',\n",
       "       'item_autoenc1', 'item_autoenc2', 'item_autoenc3', 'item_autoenc4',\n",
       "       'item_autoenc5', 'item_autoenc6', 'item_autoenc7', 'item_autoenc8',\n",
       "       'item_autoenc9', 'item_autoenc10', 'item_autoenc11', 'item_autoenc12',\n",
       "       'item_autoenc13', 'item_autoenc14', 'item_autoenc15', 'item_autoenc16',\n",
       "       'item_autoenc17', 'item_autoenc18', 'item_autoenc19', 'item_autoenc20',\n",
       "       'item_autoenc21', 'item_autoenc22', 'item_autoenc23', 'item_autoenc24',\n",
       "       'user_autoenc0', 'user_autoenc1', 'user_autoenc2', 'user_autoenc3',\n",
       "       'user_autoenc4', 'user_autoenc5', 'user_autoenc6', 'user_autoenc7',\n",
       "       'user_autoenc8', 'user_autoenc9'],\n",
       "      dtype='object')"
      ]
     },
     "execution_count": 35,
     "metadata": {},
     "output_type": "execute_result"
    }
   ],
   "source": [
    "df_train.columns"
   ]
  },
  {
   "cell_type": "code",
   "execution_count": 36,
   "metadata": {},
   "outputs": [],
   "source": [
    "emb_cols=['gender_idx','age_idx','title_idx','genre_idx','zip_idx']"
   ]
  },
  {
   "cell_type": "code",
   "execution_count": 37,
   "metadata": {},
   "outputs": [
    {
     "data": {
      "text/plain": [
       "[('gender_idx', 2),\n",
       " ('age_idx', 7),\n",
       " ('title_idx', 3692),\n",
       " ('genre_idx', 301),\n",
       " ('zip_idx', 3439)]"
      ]
     },
     "execution_count": 37,
     "metadata": {},
     "output_type": "execute_result"
    }
   ],
   "source": [
    "[(col, df_train[col].nunique()) for col in emb_cols]"
   ]
  },
  {
   "cell_type": "code",
   "execution_count": 38,
   "metadata": {},
   "outputs": [
    {
     "data": {
      "text/plain": [
       "[('gender_idx', 0),\n",
       " ('age_idx', 0),\n",
       " ('title_idx', 36),\n",
       " ('genre_idx', 3),\n",
       " ('zip_idx', 34)]"
      ]
     },
     "execution_count": 38,
     "metadata": {},
     "output_type": "execute_result"
    }
   ],
   "source": [
    "[(col, min(50,df_train[col].nunique()//100)) for col in emb_cols]"
   ]
  },
  {
   "cell_type": "markdown",
   "metadata": {},
   "source": [
    "### Dataset and DataLoader"
   ]
  },
  {
   "cell_type": "code",
   "execution_count": 39,
   "metadata": {},
   "outputs": [],
   "source": [
    "class cfdata (torch.utils.data.dataset.Dataset):\n",
    "    def __init__(self,dfX,dfY,denseCols):\n",
    "        self.dfX,self.dfY=dfX,dfY\n",
    "        self.denseCols=denseCols\n",
    "        \n",
    "    def __len__ (self):\n",
    "        return self.dfX.shape[0]\n",
    "    \n",
    "    def __getitem__ (self, idx):\n",
    "        return torch.FloatTensor(self.dfX.iloc[idx].values),torch.FloatTensor([self.dfY.values[idx]])"
   ]
  },
  {
   "cell_type": "code",
   "execution_count": 40,
   "metadata": {},
   "outputs": [],
   "source": [
    "dstrain=cfdata(df_train[['user_idx','item_idx']+autoenc_cols],df_train['rating'],autoenc_cols)\n",
    "dsvalid=cfdata(df_valid[['user_idx','item_idx']+autoenc_cols],df_valid['rating'],autoenc_cols)"
   ]
  },
  {
   "cell_type": "code",
   "execution_count": 41,
   "metadata": {},
   "outputs": [
    {
     "data": {
      "text/plain": [
       "(900188, 55)"
      ]
     },
     "execution_count": 41,
     "metadata": {},
     "output_type": "execute_result"
    }
   ],
   "source": [
    "df_train.shape"
   ]
  },
  {
   "cell_type": "code",
   "execution_count": 75,
   "metadata": {},
   "outputs": [],
   "source": [
    "bs=128"
   ]
  },
  {
   "cell_type": "code",
   "execution_count": 76,
   "metadata": {},
   "outputs": [],
   "source": [
    "dltrain=DataLoader(dstrain,bs,True)"
   ]
  },
  {
   "cell_type": "code",
   "execution_count": 77,
   "metadata": {},
   "outputs": [],
   "source": [
    "dlvalid=DataLoader(dsvalid,bs,True)"
   ]
  },
  {
   "cell_type": "code",
   "execution_count": 78,
   "metadata": {},
   "outputs": [
    {
     "data": {
      "text/plain": [
       "(61.0, 388.96)"
      ]
     },
     "execution_count": 78,
     "metadata": {},
     "output_type": "execute_result"
    }
   ],
   "source": [
    "610/10, 9724/25"
   ]
  },
  {
   "cell_type": "code",
   "execution_count": 79,
   "metadata": {},
   "outputs": [
    {
     "data": {
      "text/plain": [
       "(6040, 3706)"
      ]
     },
     "execution_count": 79,
     "metadata": {},
     "output_type": "execute_result"
    }
   ],
   "source": [
    "len(user_to_idx),len(movie_to_idx)"
   ]
  },
  {
   "cell_type": "markdown",
   "metadata": {},
   "source": [
    "## Model Architecture"
   ]
  },
  {
   "cell_type": "code",
   "execution_count": 47,
   "metadata": {},
   "outputs": [],
   "source": [
    "n_users=len(user_to_idx)\n",
    "n_movies=len(movie_to_idx)\n",
    "n_emb_user=120\n",
    "n_emb_movie=120\n",
    "min_rating=min(df_train['rating'])\n",
    "max_rating=max(df_train['rating'])\n",
    "dropout_e=0.1\n",
    "hidden=[50,15,10]\n",
    "dropouts=[0.2,0.3,0.2]"
   ]
  },
  {
   "cell_type": "code",
   "execution_count": 48,
   "metadata": {},
   "outputs": [],
   "source": [
    "def hidden_layer(x,y,dropout,activation=nn.Sigmoid()):\n",
    "    return nn.Sequential(\n",
    "        nn.Linear(x, y),\n",
    "        activation,\n",
    "        nn.Dropout(p=dropout)\n",
    "        )   "
   ]
  },
  {
   "cell_type": "code",
   "execution_count": 97,
   "metadata": {},
   "outputs": [],
   "source": [
    "#[mtx_user_emb,mtx_item_emb,user_bias_emb,item_bias_emb]=pickle.load(open(f'{DATAPATH}/wts_embs','rb'))\n",
    "pretrain_wts=pickle.load(open(f'{DATAPATH}/wts_embs','rb'))"
   ]
  },
  {
   "cell_type": "code",
   "execution_count": 132,
   "metadata": {},
   "outputs": [],
   "source": [
    "class cf(nn.Module):    \n",
    "    def __init__(self,n_users,n_emb_user,n_emb_item,n_items,min_rating,max_rating,autoenc_cols,pretrain_wts,\\\n",
    "                 dropout_e=0.01,hidden=[15,5],dropouts=[0.2,0.2],error_type=\"mse\"):\n",
    "        super().__init__()\n",
    "        self.n_users,self.n_emb_user,self.n_emb_item,self.n_items,self.min_rating,self.max_rating=\\\n",
    "                    n_users,n_emb_user,n_emb_item,n_items,min_rating,max_rating\n",
    "        self.dropout_e,self.hidden,self.dropouts=dropout_e,hidden,dropouts\n",
    "        self.autoenc_cols,self.len_dense_cols=autoenc_cols,len(autoenc_cols)\n",
    "        self.create_architecture()\n",
    "        \n",
    "        self.emb_user.weight.data=torch.FloatTensor(pretrain_wts[0])\n",
    "        self.emb_item.weight.data=torch.FloatTensor(pretrain_wts[1])\n",
    "        self.ub.weight.data=torch.FloatTensor(pretrain_wts[2])\n",
    "        self.ib.weight.data=torch.FloatTensor(pretrain_wts[3])\n",
    "\n",
    "        if error_type!=\"mse\":\n",
    "            self.criterion=nn.L1Loss()\n",
    "        else:\n",
    "            self.criterion=nn.MSELoss()\n",
    "        \n",
    "    def create_architecture(self):\n",
    "        self.emb_user=nn.Embedding(self.n_users+1,self.n_emb_user)\n",
    "        self.emb_item=nn.Embedding(self.n_items+1,self.n_emb_item)\n",
    "        self.ub=nn.Embedding(self.n_users+1,1)\n",
    "        self.ib=nn.Embedding(self.n_items+1,1)\n",
    "        \n",
    "        \n",
    "        self.emb_dropout=nn.Dropout(self.dropout_e)\n",
    "\n",
    "        \n",
    "        self.lin1= nn.Sequential(nn.Linear(self.n_emb_user+self.n_emb_item,self.hidden[0]),\n",
    "                    nn.ReLU(),\n",
    "                    nn.Dropout(p=dropouts[0]) )\n",
    "        self.lin_bias=nn.Linear(3,1)\n",
    "        self.lin2= nn.Sequential (nn.Linear(self.len_dense_cols,self.hidden[1]),\n",
    "                    nn.ReLU(),\n",
    "                    nn.Dropout(p=dropouts[1]) )\n",
    "        self.lin3= nn.Sequential (nn.Linear(self.hidden[0]+self.hidden[1]+1,self.hidden[2]),\n",
    "                    nn.ReLU(),\n",
    "                    nn.Dropout(p=dropouts[2]))\n",
    "        self.lin4=nn.Linear(self.hidden[2],1)\n",
    "        self.sigmoid=nn.Sigmoid()\n",
    "        \n",
    "        \n",
    "    def init_parameters(self):\n",
    "        nn.init.kaiming_normal_(self.emb_user.weight.data)\n",
    "        nn.init.kaiming_normal_(self.emb_item.weight.dat)\n",
    "        #nn.init.kaiming_normal_(lin)\n",
    "       \n",
    "    def forward (self,Xb,Yb):\n",
    "        users=Xb[:,0].long()\n",
    "        items=Xb[:,1].long()\n",
    "        users=self.emb_dropout(self.emb_user(users))\n",
    "        items=self.emb_dropout(self.emb_item(items))\n",
    "        users_bias=self.emb_dropout(self.ub(Xb[:,0].long()))\n",
    "        items_bias=self.emb_dropout(self.ib(Xb[:,1].long()))\n",
    "        embed=torch.cat([users,items],1)\n",
    "        out1=self.lin1(embed)\n",
    "        bias=torch.cat([users_bias,items_bias,users_bias+items_bias],1)\n",
    "        biased=self.lin_bias(bias)\n",
    "           \n",
    "        \n",
    "        denses=Xb[:,2:]\n",
    "        out2=self.lin2(denses)\n",
    "        \n",
    "        out3=torch.cat([out1,out2,biased],1)\n",
    "        \n",
    "        out4=self.lin3(out3)\n",
    "        \n",
    "        out5=self.lin4(out4)\n",
    "        \n",
    "        out=self.sigmoid(out5)\n",
    "        \n",
    "        preds=out*(self.max_rating-self.min_rating)+self.min_rating\n",
    "        #preds=preds.view(-1)\n",
    "        loss=self.criterion(preds,Yb)\n",
    "        return preds,loss"
   ]
  },
  {
   "cell_type": "code",
   "execution_count": 133,
   "metadata": {},
   "outputs": [],
   "source": [
    "cfobj=cf(n_users,n_emb_user,n_emb_movie,n_movies,min_rating,max_rating,autoenc_cols,pretrain_wts,dropout_e,hidden,dropouts,error_type=\"mse\")"
   ]
  },
  {
   "cell_type": "code",
   "execution_count": 134,
   "metadata": {},
   "outputs": [
    {
     "data": {
      "text/plain": [
       "cf(\n",
       "  (emb_user): Embedding(6041, 120)\n",
       "  (emb_item): Embedding(3707, 120)\n",
       "  (ub): Embedding(6041, 1)\n",
       "  (ib): Embedding(3707, 1)\n",
       "  (emb_dropout): Dropout(p=0.1)\n",
       "  (lin1): Sequential(\n",
       "    (0): Linear(in_features=240, out_features=50, bias=True)\n",
       "    (1): ReLU()\n",
       "    (2): Dropout(p=0.2)\n",
       "  )\n",
       "  (lin_bias): Linear(in_features=3, out_features=1, bias=True)\n",
       "  (lin2): Sequential(\n",
       "    (0): Linear(in_features=35, out_features=15, bias=True)\n",
       "    (1): ReLU()\n",
       "    (2): Dropout(p=0.3)\n",
       "  )\n",
       "  (lin3): Sequential(\n",
       "    (0): Linear(in_features=66, out_features=10, bias=True)\n",
       "    (1): ReLU()\n",
       "    (2): Dropout(p=0.2)\n",
       "  )\n",
       "  (lin4): Linear(in_features=10, out_features=1, bias=True)\n",
       "  (sigmoid): Sigmoid()\n",
       "  (criterion): MSELoss()\n",
       ")"
      ]
     },
     "execution_count": 134,
     "metadata": {},
     "output_type": "execute_result"
    }
   ],
   "source": [
    "cfobj"
   ]
  },
  {
   "cell_type": "code",
   "execution_count": 135,
   "metadata": {},
   "outputs": [],
   "source": [
    "for Xb, Yb in dltrain:\n",
    "    break"
   ]
  },
  {
   "cell_type": "code",
   "execution_count": 136,
   "metadata": {},
   "outputs": [
    {
     "data": {
      "text/plain": [
       "(torch.Size([128, 37]), torch.Size([128, 1]))"
      ]
     },
     "execution_count": 136,
     "metadata": {},
     "output_type": "execute_result"
    }
   ],
   "source": [
    "Xb.shape, Yb.shape"
   ]
  },
  {
   "cell_type": "code",
   "execution_count": 137,
   "metadata": {},
   "outputs": [
    {
     "data": {
      "text/plain": [
       "torch.float32"
      ]
     },
     "execution_count": 137,
     "metadata": {},
     "output_type": "execute_result"
    }
   ],
   "source": [
    "Xb.dtype"
   ]
  },
  {
   "cell_type": "code",
   "execution_count": 138,
   "metadata": {},
   "outputs": [
    {
     "data": {
      "text/plain": [
       "(tensor([[2.8456],\n",
       "         [3.0496],\n",
       "         [3.3622],\n",
       "         [3.2605],\n",
       "         [2.9329],\n",
       "         [2.9687],\n",
       "         [3.0277],\n",
       "         [3.4570],\n",
       "         [2.9335],\n",
       "         [3.2163],\n",
       "         [3.0238],\n",
       "         [3.1426],\n",
       "         [3.2603],\n",
       "         [3.2616],\n",
       "         [3.2753],\n",
       "         [2.8684],\n",
       "         [3.0935],\n",
       "         [2.8748],\n",
       "         [3.1614],\n",
       "         [3.0882],\n",
       "         [3.0931],\n",
       "         [2.7177],\n",
       "         [3.1195],\n",
       "         [3.2323],\n",
       "         [2.9924],\n",
       "         [3.0559],\n",
       "         [3.0968],\n",
       "         [2.9045],\n",
       "         [2.8867],\n",
       "         [3.0174],\n",
       "         [3.3181],\n",
       "         [2.9527],\n",
       "         [3.1031],\n",
       "         [3.1235],\n",
       "         [3.3647],\n",
       "         [2.8644],\n",
       "         [3.0004],\n",
       "         [3.2065],\n",
       "         [3.0299],\n",
       "         [3.0055],\n",
       "         [3.1135],\n",
       "         [3.0675],\n",
       "         [3.0235],\n",
       "         [2.9192],\n",
       "         [3.1340],\n",
       "         [2.9881],\n",
       "         [3.1250],\n",
       "         [2.9703],\n",
       "         [3.4500],\n",
       "         [3.0930],\n",
       "         [3.3267],\n",
       "         [3.1767],\n",
       "         [2.9124],\n",
       "         [3.0133],\n",
       "         [2.9732],\n",
       "         [3.0227],\n",
       "         [2.9903],\n",
       "         [2.9749],\n",
       "         [3.1909],\n",
       "         [2.9747],\n",
       "         [3.4514],\n",
       "         [3.0984],\n",
       "         [3.0692],\n",
       "         [2.6988],\n",
       "         [3.0733],\n",
       "         [3.1296],\n",
       "         [3.1601],\n",
       "         [2.9102],\n",
       "         [3.0580],\n",
       "         [2.9358],\n",
       "         [3.2723],\n",
       "         [3.1144],\n",
       "         [3.0784],\n",
       "         [3.1622],\n",
       "         [3.2948],\n",
       "         [3.0488],\n",
       "         [3.0346],\n",
       "         [3.2105],\n",
       "         [3.1753],\n",
       "         [3.0775],\n",
       "         [2.9309],\n",
       "         [3.1408],\n",
       "         [2.9804],\n",
       "         [2.7863],\n",
       "         [3.0264],\n",
       "         [2.8803],\n",
       "         [3.4150],\n",
       "         [2.9404],\n",
       "         [2.9667],\n",
       "         [3.0628],\n",
       "         [3.1063],\n",
       "         [3.1514],\n",
       "         [3.0744],\n",
       "         [2.9871],\n",
       "         [3.2754],\n",
       "         [3.2223],\n",
       "         [3.4453],\n",
       "         [3.4070],\n",
       "         [3.1784],\n",
       "         [3.0790],\n",
       "         [2.8846],\n",
       "         [3.0076],\n",
       "         [2.9891],\n",
       "         [3.1023],\n",
       "         [3.0272],\n",
       "         [3.0955],\n",
       "         [3.0513],\n",
       "         [3.2360],\n",
       "         [3.0183],\n",
       "         [3.0978],\n",
       "         [3.0222],\n",
       "         [2.8309],\n",
       "         [3.1457],\n",
       "         [3.2317],\n",
       "         [2.8922],\n",
       "         [3.1182],\n",
       "         [3.1714],\n",
       "         [3.1470],\n",
       "         [2.9348],\n",
       "         [3.1261],\n",
       "         [2.8319],\n",
       "         [3.0981],\n",
       "         [3.0911],\n",
       "         [3.0351],\n",
       "         [3.2894],\n",
       "         [3.2146],\n",
       "         [3.2508],\n",
       "         [3.4852]], grad_fn=<AddBackward0>),\n",
       " tensor(1.5030, grad_fn=<MseLossBackward>))"
      ]
     },
     "execution_count": 138,
     "metadata": {},
     "output_type": "execute_result"
    }
   ],
   "source": [
    "cfobj.forward(Xb,Yb)"
   ]
  },
  {
   "cell_type": "markdown",
   "metadata": {},
   "source": [
    "## Learner"
   ]
  },
  {
   "cell_type": "code",
   "execution_count": 183,
   "metadata": {},
   "outputs": [
    {
     "data": {
      "text/plain": [
       "'cuda:1'"
      ]
     },
     "execution_count": 183,
     "metadata": {},
     "output_type": "execute_result"
    }
   ],
   "source": [
    "device"
   ]
  },
  {
   "cell_type": "code",
   "execution_count": 140,
   "metadata": {},
   "outputs": [],
   "source": [
    "class Learner():\n",
    "    def __init__(self,model,optimizer,metric_fn,device,bptt=12,print_every=5,clip_val=None,\\\n",
    "                 cycle_mult=0,lr_decay=0.7,wd_mult=6,start_lr=2e-2, end_lr=5e-4,error_type=\"mse\"):\n",
    "        self.model,self.optimizer,self.metric_fn,self.device,self.print_every,self.bptt,self.losses,self.clip_val=\\\n",
    "            model,optimizer,metric_fn,device,print_every,bptt,[],clip_val\n",
    "        self.n_epochs=1\n",
    "        self.cycle_mult,self.lr_decay=cycle_mult,lr_decay\n",
    "        self.wd_mult=wd_mult\n",
    "        for param_group in self.optimizer.param_groups:\n",
    "            self.start_lr=param_group['lr']\n",
    "            self.start_wd=param_group['weight_decay']\n",
    "        self.wd=self.start_wd\n",
    "        self.lr=self.start_lr\n",
    "        self.end_lr=end_lr\n",
    "        self.n_epoch=0\n",
    "        self.lrs=[1e-2,5e-3,1e-4,5e-4]\n",
    "        self.preds,self.preds_valid,self.trainY,self.actual=[],[],[],[]\n",
    "        self.ratio=self.end_lr/self.start_lr\n",
    "        self.num_steps=self.cycle_mult\n",
    "        self.reset_cycle=self.cycle_mult\n",
    "        self.error_type=error_type\n",
    "        \n",
    "    def fit (self,Xb,Yb,mode_train=True):\n",
    "        if mode_train:\n",
    "            self.model.train()\n",
    "        else:\n",
    "            self.model.eval()\n",
    "        \n",
    "        #import pdb\n",
    "        #pdb.set_trace()\n",
    "        preds,loss=self.model(Xb,Yb)\n",
    "\n",
    "     \n",
    "        if mode_train:\n",
    "            if 1==0:\n",
    "                lr =self.lrs[torch.randint(0,4,(1,))]\n",
    "                for param_group in self.optimizer.param_groups:\n",
    "                    param_group['lr']=lr\n",
    "            \n",
    "            self.optimizer.zero_grad()\n",
    "            loss.backward()\n",
    "            self.optimizer.step()\n",
    "        myloss=loss.item()\n",
    "    \n",
    "        \n",
    "        with torch.no_grad():\n",
    "            if self.error_type == \"mse\":\n",
    "                acc=nn.L1Loss() (preds,Yb)\n",
    "                myrmse=np.sqrt(myloss)\n",
    "            else:\n",
    "                acc=nn.MSELoss() (preds,Yb)\n",
    "                myrmse=np.sqrt(acc.item())\n",
    "            acc=acc.item()\n",
    "                 \n",
    "   \n",
    "        del preds\n",
    "        del loss\n",
    "        \n",
    "        if self.clip_val is not None:\n",
    "            torch.nn.utils.clip_grad_norm_(self.model.parameters(), self.clip_val)\n",
    "        \n",
    "        return myloss, acc, myrmse\n",
    "    \n",
    "    def lr_find (self,start_lr,end_lr,iterator,n_batch):\n",
    "        losses,lrs=[],[]\n",
    "        ratio=end_lr/start_lr\n",
    "        num_steps=n_batch\n",
    "        lr=start_lr\n",
    "        for i in range(num_steps):            \n",
    "            lr=lr*(end_lr/start_lr)**(1/num_steps)\n",
    "            lrs.append(lr)\n",
    "        self.lrs=lrs\n",
    "        self.run_epoch(iterator,mode_train=True,lrs=lrs)\n",
    "    \n",
    "    def run_epoch(self,iterator,mode_train,lrs=None):\n",
    "        epoch_loss,epoch_acc,i,k=0,0,0,0\n",
    "        epoch_rmse=0\n",
    "\n",
    "\n",
    "        for Xb,Yb in iterator:\n",
    "            Xb=Xb.to(self.device)\n",
    "            Yb=Yb.to(self.device)\n",
    "            \n",
    "            if lrs is not None:\n",
    "                lr=lrs[k]\n",
    "                for param_group in self.optimizer.param_groups:\n",
    "                    param_group['lr']=lr \n",
    "            \n",
    "\n",
    "            loss,acc,myrmse=self.fit(Xb,Yb,mode_train)\n",
    "            \n",
    "            if lrs is not None:\n",
    "                self.losses.append(loss)\n",
    "\n",
    "\n",
    "            \n",
    "\n",
    "            epoch_loss+=loss\n",
    "            epoch_acc+=acc\n",
    "            epoch_rmse+=myrmse\n",
    "            \n",
    "            k=k+1\n",
    "            if k%self.print_every == 0:\n",
    "                if k:\n",
    "                    print (f'Batch:{k} {epoch_loss/(k)}  ')  \n",
    "                    torch.cuda.empty_cache()\n",
    "\n",
    "        epoch_loss=epoch_loss/len(iterator)\n",
    "        epoch_acc=epoch_acc/len(iterator)\n",
    "        epoch_rmse=epoch_rmse/len(iterator)\n",
    "            \n",
    "        return epoch_loss,epoch_acc,epoch_rmse\n",
    "    \n",
    "    def plot_lrs(self, n_roll=1,ylim=None,xlim=None):\n",
    "        import seaborn as sns\n",
    "        ax=sns.lineplot(x=self.lrs,y=pd.Series(self.losses).rolling(n_roll).mean())\n",
    "        ax.set_xscale('log')\n",
    "        ax.set_ylabel('Loss')\n",
    "        ax.set_xlabel('Learning Rate')\n",
    "        if ylim is not None:\n",
    "            plt.ylim(ylim)\n",
    "        if xlim is not None:\n",
    "            plt.xlim(xlim)\n",
    "\n",
    "     \n",
    "    def run_epochs(self,dltrain,dlvalid,n_epochs=1):              \n",
    "        for epoch in range(n_epochs):                \n",
    "            loss,acc,rmse=self.run_epoch(dltrain,True)\n",
    "\n",
    "            lossv,accv,rmsev=self.run_epoch(dlvalid,mode_train=False)\n",
    "           \n",
    "            if self.error_type==\"mse\":\n",
    "                loss_mse=loss\n",
    "                loss_rmse=rmse\n",
    "                loss_mae=acc\n",
    "                lossv_mse=lossv\n",
    "                lossv_rmse=rmsev\n",
    "                lossv_mae=accv\n",
    "                \n",
    "            else:\n",
    "                loss_mse=acc\n",
    "                loss_rmse=rmse\n",
    "                loss_mae=loss\n",
    "                lossv_mse=accv\n",
    "                lossv_rmse=rmsev\n",
    "                lossv_mae=lossv\n",
    "            \n",
    "            print (f'Epoch:{epoch} Learning rate {self.lr} Weight Decay {self.wd} Train Loss:{loss} \\\n",
    "                Valid Loss:{lossv} Train RMSE:{loss_rmse} Valid RMSE:{lossv_rmse} Train MSE:{loss_mse} Valid MSE:{lossv_mse} \\\n",
    "                Train MAE:{loss_mae} Valid MAE:{lossv_mae}')\n",
    "\n",
    "              \n",
    "         \n",
    "     \n",
    "            if self.cycle_mult:\n",
    "                if self.n_epoch==self.reset_cycle:\n",
    "                    self.lr=self.start_lr\n",
    "                    #self.wd=self.start_wd\n",
    "                    self.reset_cycle*=self.cycle_mult\n",
    "                    #reset_cycle=self.n_epoch+reset_cycle\n",
    "                    self.n_epoch=0\n",
    "                    self.ratio=self.end_lr/self.start_lr\n",
    "                    self.num_steps=self.reset_cycle\n",
    "                else:\n",
    "                    #self.lr*=(self.lr_decay**self.n_epoch)  \n",
    "                    #if self.n_epoch>1:\n",
    "                    #    self.wd*=self.wd_mult\n",
    "                    self.lr=self.lr*(self.end_lr/self.start_lr)**(1/self.num_steps)\n",
    "                    self.n_epoch+=1\n",
    "        \n",
    "\n",
    "                \n",
    "            for param_group in self.optimizer.param_groups:\n",
    "                param_group['lr']=self.lr\n",
    "                #param_group['weight_decay']=self.wd\n",
    "          \n",
    "     "
   ]
  },
  {
   "cell_type": "code",
   "execution_count": 141,
   "metadata": {},
   "outputs": [],
   "source": [
    "device='cuda:1'"
   ]
  },
  {
   "cell_type": "code",
   "execution_count": 142,
   "metadata": {},
   "outputs": [],
   "source": [
    "del cfobj"
   ]
  },
  {
   "cell_type": "code",
   "execution_count": 143,
   "metadata": {},
   "outputs": [],
   "source": [
    "cfobj=cf(n_users,n_emb_user,n_emb_movie,n_movies,min_rating,max_rating,autoenc_cols,pretrain_wts,dropout_e,hidden,dropouts,error_type=\"mse\")"
   ]
  },
  {
   "cell_type": "code",
   "execution_count": 144,
   "metadata": {},
   "outputs": [],
   "source": [
    "cfobj=cfobj.to(device)"
   ]
  },
  {
   "cell_type": "code",
   "execution_count": 145,
   "metadata": {},
   "outputs": [
    {
     "data": {
      "text/plain": [
       "cf(\n",
       "  (emb_user): Embedding(6041, 120)\n",
       "  (emb_item): Embedding(3707, 120)\n",
       "  (ub): Embedding(6041, 1)\n",
       "  (ib): Embedding(3707, 1)\n",
       "  (emb_dropout): Dropout(p=0.1)\n",
       "  (lin1): Sequential(\n",
       "    (0): Linear(in_features=240, out_features=50, bias=True)\n",
       "    (1): ReLU()\n",
       "    (2): Dropout(p=0.2)\n",
       "  )\n",
       "  (lin_bias): Linear(in_features=3, out_features=1, bias=True)\n",
       "  (lin2): Sequential(\n",
       "    (0): Linear(in_features=35, out_features=15, bias=True)\n",
       "    (1): ReLU()\n",
       "    (2): Dropout(p=0.3)\n",
       "  )\n",
       "  (lin3): Sequential(\n",
       "    (0): Linear(in_features=66, out_features=10, bias=True)\n",
       "    (1): ReLU()\n",
       "    (2): Dropout(p=0.2)\n",
       "  )\n",
       "  (lin4): Linear(in_features=10, out_features=1, bias=True)\n",
       "  (sigmoid): Sigmoid()\n",
       "  (criterion): MSELoss()\n",
       ")"
      ]
     },
     "execution_count": 145,
     "metadata": {},
     "output_type": "execute_result"
    }
   ],
   "source": [
    "cfobj"
   ]
  },
  {
   "cell_type": "code",
   "execution_count": 146,
   "metadata": {},
   "outputs": [
    {
     "data": {
      "text/plain": [
       "7033"
      ]
     },
     "execution_count": 146,
     "metadata": {},
     "output_type": "execute_result"
    }
   ],
   "source": [
    "len(dltrain)"
   ]
  },
  {
   "cell_type": "code",
   "execution_count": 147,
   "metadata": {},
   "outputs": [
    {
     "data": {
      "text/plain": [
       "128"
      ]
     },
     "execution_count": 147,
     "metadata": {},
     "output_type": "execute_result"
    }
   ],
   "source": [
    "dltrain.batch_size"
   ]
  },
  {
   "cell_type": "code",
   "execution_count": 148,
   "metadata": {},
   "outputs": [],
   "source": [
    "wd=1e-7\n",
    "optimizer=torch.optim.Adam(cfobj.parameters(),lr=7e-3,betas=(0.9,0.999), weight_decay=wd)\n"
   ]
  },
  {
   "cell_type": "code",
   "execution_count": 149,
   "metadata": {},
   "outputs": [],
   "source": [
    "learner=Learner(cfobj,optimizer,None,device,0,2000,0.25,cycle_mult=0,error_type=\"mse\")"
   ]
  },
  {
   "cell_type": "code",
   "execution_count": 150,
   "metadata": {},
   "outputs": [
    {
     "name": "stdout",
     "output_type": "stream",
     "text": [
      "Batch:2000 1.0072208345532416  \n",
      "Batch:4000 0.9294348954856396  \n",
      "Batch:6000 0.9272040300170581  \n"
     ]
    }
   ],
   "source": [
    "learner.lr_find(1e-4,1e-1,dltrain,len(dltrain))"
   ]
  },
  {
   "cell_type": "code",
   "execution_count": 151,
   "metadata": {},
   "outputs": [
    {
     "data": {
      "image/png": "[encoded data removed]",
      "text/plain": [
       "<Figure size 432x288 with 1 Axes>"
      ]
     },
     "metadata": {
      "needs_background": "light"
     },
     "output_type": "display_data"
    }
   ],
   "source": [
    "learner.plot_lrs(50)"
   ]
  },
  {
   "cell_type": "code",
   "execution_count": 152,
   "metadata": {},
   "outputs": [
    {
     "data": {
      "image/png": "[encoded data removed]",
      "text/plain": [
       "<Figure size 432x288 with 1 Axes>"
      ]
     },
     "metadata": {
      "needs_background": "light"
     },
     "output_type": "display_data"
    }
   ],
   "source": [
    "learner.plot_lrs(10)"
   ]
  },
  {
   "cell_type": "code",
   "execution_count": 153,
   "metadata": {},
   "outputs": [
    {
     "data": {
      "image/png": "[encoded data removed]",
      "text/plain": [
       "<Figure size 432x288 with 1 Axes>"
      ]
     },
     "metadata": {
      "needs_background": "light"
     },
     "output_type": "display_data"
    }
   ],
   "source": [
    "learner.plot_lrs(100)"
   ]
  },
  {
   "cell_type": "code",
   "execution_count": 171,
   "metadata": {},
   "outputs": [],
   "source": [
    "del cfobj\n",
    "torch.cuda.empty_cache()"
   ]
  },
  {
   "cell_type": "code",
   "execution_count": 173,
   "metadata": {},
   "outputs": [],
   "source": [
    "cfobj=cf(n_users,n_emb_user,n_emb_movie,n_movies,min_rating,max_rating,autoenc_cols,pretrain_wts,dropout_e,hidden,dropouts,error_type=\"mse\")\n",
    "cfobj=cfobj.to(device)"
   ]
  },
  {
   "cell_type": "code",
   "execution_count": 174,
   "metadata": {},
   "outputs": [],
   "source": [
    "optimizer=torch.optim.Adam(cfobj.parameters(),lr=4e-4,betas=(0.9,0.999), weight_decay=wd)\n",
    "learner=Learner(cfobj,optimizer,None,device,0,12000,0.25,cycle_mult=0)"
   ]
  },
  {
   "cell_type": "code",
   "execution_count": 175,
   "metadata": {},
   "outputs": [],
   "source": [
    "cfobj.emb_user.weight.requires_grad=False\n",
    "cfobj.emb_item.weight.requires_grad=False\n",
    "cfobj.ib.weight.requires_grad=False\n",
    "cfobj.ub.weight.requires_grad=False"
   ]
  },
  {
   "cell_type": "code",
   "execution_count": 176,
   "metadata": {},
   "outputs": [
    {
     "name": "stdout",
     "output_type": "stream",
     "text": [
      "Epoch:0 Learning rate 0.0004 Weight Decay 1e-07 Train Loss:0.9004153077724087                 Valid Loss:0.8219728681742383 Train RMSE:0.9461920289770362 Valid RMSE:0.9045506402337069 Train MSE:0.9004153077724087 Valid MSE:0.8219728681742383                 Train MAE:0.7577253223719814 Valid MAE:0.7194055258617986\n",
      "Epoch:1 Learning rate 0.0004 Weight Decay 1e-07 Train Loss:0.8584019094684394                 Valid Loss:0.8168506081146962 Train RMSE:0.9245905903930937 Valid RMSE:0.901715633719445 Train MSE:0.8584019094684394 Valid MSE:0.8168506081146962                 Train MAE:0.7377297196112976 Valid MAE:0.7167078386944579\n",
      "Epoch:2 Learning rate 0.0004 Weight Decay 1e-07 Train Loss:0.8546577182769368                 Valid Loss:0.8145745446157577 Train RMSE:0.9224996935183322 Valid RMSE:0.9006156819919549 Train MSE:0.8546577182769368 Valid MSE:0.8145745446157577                 Train MAE:0.7362089523224307 Valid MAE:0.7157386715912148\n",
      "Epoch:3 Learning rate 0.0004 Weight Decay 1e-07 Train Loss:0.8513241536109118                 Valid Loss:0.8139747244012935 Train RMSE:0.9207049014663037 Valid RMSE:0.9000085502457403 Train MSE:0.8513241536109118 Valid MSE:0.8139747244012935                 Train MAE:0.7344123336357937 Valid MAE:0.7161787999103136\n",
      "Epoch:4 Learning rate 0.0004 Weight Decay 1e-07 Train Loss:0.8490815902017317                 Valid Loss:0.8119804035214817 Train RMSE:0.919456226641419 Valid RMSE:0.8990614552654205 Train MSE:0.8490815902017317 Valid MSE:0.8119804035214817                 Train MAE:0.733525347323196 Valid MAE:0.7151940528236692\n"
     ]
    }
   ],
   "source": [
    "learner.run_epochs(dltrain,dlvalid,5)"
   ]
  },
  {
   "cell_type": "code",
   "execution_count": 177,
   "metadata": {},
   "outputs": [],
   "source": [
    "cfobj.emb_user.weight.requires_grad=True\n",
    "cfobj.emb_item.weight.requires_grad=True\n",
    "cfobj.ib.weight.requires_grad=True\n",
    "cfobj.ub.weight.requires_grad=True"
   ]
  },
  {
   "cell_type": "code",
   "execution_count": 178,
   "metadata": {},
   "outputs": [
    {
     "name": "stdout",
     "output_type": "stream",
     "text": [
      "Epoch:0 Learning rate 0.0004 Weight Decay 1e-07 Train Loss:0.8227631546483852                 Valid Loss:0.7637472738466604 Train RMSE:0.9050632993770867 Valid RMSE:0.8719340070050349 Train MSE:0.8227631546483852 Valid MSE:0.7637472738466604                 Train MAE:0.7201072932662622 Valid MAE:0.6913255737413226\n",
      "Epoch:1 Learning rate 0.0004 Weight Decay 1e-07 Train Loss:0.7755798069135438                 Valid Loss:0.7507890482692767 Train RMSE:0.8787283547908191 Valid RMSE:0.8643540670680444 Train MSE:0.7755798069135438 Valid MSE:0.7507890482692767                 Train MAE:0.6964778150872114 Valid MAE:0.6825630840895426\n",
      "Epoch:2 Learning rate 0.0004 Weight Decay 1e-07 Train Loss:0.7511494279492551                 Valid Loss:0.7452623167306262 Train RMSE:0.8647000318284862 Valid RMSE:0.8611038402745929 Train MSE:0.7511494279492551 Valid MSE:0.7452623167306262                 Train MAE:0.6842916072576022 Valid MAE:0.6787921844998284\n",
      "Epoch:3 Learning rate 0.0004 Weight Decay 1e-07 Train Loss:0.7337669859811522                 Valid Loss:0.7415272423144802 Train RMSE:0.854518721935773 Valid RMSE:0.8588754629665275 Train MSE:0.7337669859811522 Valid MSE:0.7415272423144802                 Train MAE:0.6751149524992194 Valid MAE:0.6767738803725718\n",
      "Epoch:4 Learning rate 0.0004 Weight Decay 1e-07 Train Loss:0.7213047801363474                 Valid Loss:0.7391178186820901 Train RMSE:0.8472434273677356 Valid RMSE:0.8575731314570161 Train MSE:0.7213047801363474 Valid MSE:0.7391178186820901                 Train MAE:0.66861125584027 Valid MAE:0.6749584901210902\n"
     ]
    }
   ],
   "source": [
    "learner.run_epochs(dltrain,dlvalid,5)"
   ]
  },
  {
   "cell_type": "code",
   "execution_count": 179,
   "metadata": {},
   "outputs": [
    {
     "name": "stderr",
     "output_type": "stream",
     "text": [
      "/home/kirana/anaconda3/lib/python3.7/site-packages/torch/serialization.py:256: UserWarning: Couldn't retrieve source code for container of type cf. It won't be checked for correctness upon loading.\n",
      "  \"type \" + obj.__name__ + \". It won't be checked \"\n",
      "/home/kirana/anaconda3/lib/python3.7/site-packages/torch/serialization.py:256: UserWarning: Couldn't retrieve source code for container of type cf. It won't be checked for correctness upon loading.\n",
      "  \"type \" + obj.__name__ + \". It won't be checked \"\n"
     ]
    }
   ],
   "source": [
    "torch.save(cfobj,f=f'{DATAPATH}/inter/cf_plus_tl_model')\n",
    "torch.save(learner,f=f'{DATAPATH}/inter/cf_plus_tl_learner')\n",
    "torch.save(optimizer,f=f'{DATAPATH}/inter/cf_plus_tl_optimizer')\n",
    "torch.save(cfobj.state_dict(),f'{DATAPATH}/inter/cf_plus_tl_state_dict')\n",
    "torch.save(optimizer.state_dict(),f'{DATAPATH}/inter/cf_plus_tl_optimizer_state_dict')"
   ]
  },
  {
   "cell_type": "code",
   "execution_count": 180,
   "metadata": {},
   "outputs": [],
   "source": [
    "learner=Learner(cfobj,optimizer,None,device,0,12000,0.25,cycle_mult=2,start_lr=4e-4,end_lr=4e-5)"
   ]
  },
  {
   "cell_type": "code",
   "execution_count": 181,
   "metadata": {},
   "outputs": [
    {
     "name": "stdout",
     "output_type": "stream",
     "text": [
      "Epoch:0 Learning rate 0.0004 Weight Decay 1e-07 Train Loss:0.7085841895971904                 Valid Loss:0.7400470947289406 Train RMSE:0.8397724017164323 Valid RMSE:0.85807563937078 Train MSE:0.7085841895971904 Valid MSE:0.7400470947289406                 Train MAE:0.6619035640600885 Valid MAE:0.6723562184806979\n",
      "Epoch:1 Learning rate 0.00012649110640673518 Weight Decay 1e-07 Train Loss:0.6798945998765829                 Valid Loss:0.7379258986934066 Train RMSE:0.8225438637391805 Valid RMSE:0.8568596157406778 Train MSE:0.6798945998765829 Valid MSE:0.7379258986934066                 Train MAE:0.6468499570504439 Valid MAE:0.6719082392695005\n",
      "Epoch:2 Learning rate 4e-05 Weight Decay 1e-07 Train Loss:0.6643356711125791                 Valid Loss:0.7378187339629054 Train RMSE:0.8130279397105312 Valid RMSE:0.8566577295047599 Train MSE:0.6643356711125791 Valid MSE:0.7378187339629054                 Train MAE:0.6387030012438414 Valid MAE:0.6708499585728511\n",
      "Epoch:3 Learning rate 0.0004 Weight Decay 1e-07 Train Loss:0.690994669927331                 Valid Loss:0.7409031232223486 Train RMSE:0.8291969627977501 Valid RMSE:0.8582699536144381 Train MSE:0.690994669927331 Valid MSE:0.7409031232223486                 Train MAE:0.6523215139927505 Valid MAE:0.6728887881159478\n",
      "Epoch:4 Learning rate 0.00022493653007613963 Weight Decay 1e-07 Train Loss:0.6719820732694423                 Valid Loss:0.7395882790198411 Train RMSE:0.8177432900226704 Valid RMSE:0.8578646890461471 Train MSE:0.6719820732694423 Valid MSE:0.7395882790198411                 Train MAE:0.6426145539766149 Valid MAE:0.6719660262012725\n"
     ]
    }
   ],
   "source": [
    "learner.run_epochs(dltrain,dlvalid,5)"
   ]
  },
  {
   "cell_type": "code",
   "execution_count": 182,
   "metadata": {},
   "outputs": [
    {
     "name": "stderr",
     "output_type": "stream",
     "text": [
      "/home/kirana/anaconda3/lib/python3.7/site-packages/torch/serialization.py:256: UserWarning: Couldn't retrieve source code for container of type cf. It won't be checked for correctness upon loading.\n",
      "  \"type \" + obj.__name__ + \". It won't be checked \"\n",
      "/home/kirana/anaconda3/lib/python3.7/site-packages/torch/serialization.py:256: UserWarning: Couldn't retrieve source code for container of type cf. It won't be checked for correctness upon loading.\n",
      "  \"type \" + obj.__name__ + \". It won't be checked \"\n"
     ]
    }
   ],
   "source": [
    "torch.save(cfobj,f=f'{DATAPATH}/inter/cf_plus_tl_model')\n",
    "torch.save(learner,f=f'{DATAPATH}/inter/cf_plus_tl_learner')\n",
    "torch.save(optimizer,f=f'{DATAPATH}/inter/cf_plus_tl_optimizer')\n",
    "torch.save(cfobj.state_dict(),f'{DATAPATH}/inter/cf_plus_tl_state_dict')\n",
    "torch.save(optimizer.state_dict(),f'{DATAPATH}/inter/cf_plus_tl_optimizer_state_dict')"
   ]
  },
  {
   "cell_type": "code",
   "execution_count": 169,
   "metadata": {},
   "outputs": [],
   "source": [
    "learner=Learner(cfobj,optimizer,None,device,0,12000,0.25,cycle_mult=2,start_lr=5e-4,end_lr=5e-5)"
   ]
  },
  {
   "cell_type": "code",
   "execution_count": 170,
   "metadata": {},
   "outputs": [
    {
     "name": "stdout",
     "output_type": "stream",
     "text": [
      "Epoch:0 Learning rate 0.0005 Weight Decay 1e-07 Train Loss:0.6941850676096538                 Valid Loss:0.7433338718646018 Train RMSE:0.8311313092989665 Valid RMSE:0.8599301569925202 Train MSE:0.6941850676096538 Valid MSE:0.7433338718646018                 Train MAE:0.654575018786645 Valid MAE:0.6774439708808498\n",
      "Epoch:1 Learning rate 0.00015811388300841897 Weight Decay 1e-07 Train Loss:0.6689964935329719                 Valid Loss:0.7434683173056453 Train RMSE:0.8158519026145334 Valid RMSE:0.8600390302833822 Train MSE:0.6689964935329719 Valid MSE:0.7434683173056453                 Train MAE:0.6416919659952952 Valid MAE:0.6729949602233175\n",
      "Epoch:2 Learning rate 5e-05 Weight Decay 1e-07 Train Loss:0.6554071987512592                 Valid Loss:0.7456495886492303 Train RMSE:0.8075521838911383 Valid RMSE:0.8610663575701407 Train MSE:0.6554071987512592 Valid MSE:0.7456495886492303                 Train MAE:0.6345673236181806 Valid MAE:0.6730673684336036\n",
      "Epoch:3 Learning rate 0.0005 Weight Decay 1e-07 Train Loss:0.6817611748516585                 Valid Loss:0.7447651546934376 Train RMSE:0.8236157621166844 Valid RMSE:0.8607553626491721 Train MSE:0.6817611748516585 Valid MSE:0.7447651546934376                 Train MAE:0.6480848270121601 Valid MAE:0.6755552239277783\n",
      "Epoch:4 Learning rate 0.00028117066259517455 Weight Decay 1e-07 Train Loss:0.665836791950321                 Valid Loss:0.7441837996854197 Train RMSE:0.8139341219661479 Valid RMSE:0.8603160831777734 Train MSE:0.665836791950321 Valid MSE:0.7441837996854197                 Train MAE:0.6398085501274343 Valid MAE:0.6738998514154683\n",
      "Epoch:5 Learning rate 0.00015811388300841897 Weight Decay 1e-07 Train Loss:0.6518914396954721                 Valid Loss:0.7463562851747894 Train RMSE:0.8053656980508187 Valid RMSE:0.8615527861889123 Train MSE:0.6518914396954721 Valid MSE:0.7463562851747894                 Train MAE:0.6322417607665757 Valid MAE:0.6730665390753685\n"
     ]
    }
   ],
   "source": [
    "learner.run_epochs(dltrain,dlvalid,6)"
   ]
  },
  {
   "cell_type": "code",
   "execution_count": null,
   "metadata": {},
   "outputs": [],
   "source": []
  }
 ],
 "metadata": {
  "kernelspec": {
   "display_name": "Python 3",
   "language": "python",
   "name": "python3"
  },
  "language_info": {
   "codemirror_mode": {
    "name": "ipython",
    "version": 3
   },
   "file_extension": ".py",
   "mimetype": "text/x-python",
   "name": "python",
   "nbconvert_exporter": "python",
   "pygments_lexer": "ipython3",
   "version": "3.7.3"
  }
 },
 "nbformat": 4,
 "nbformat_minor": 2
}
