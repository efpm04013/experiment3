{
 "cells": [
  {
   "cell_type": "code",
   "execution_count": 1,
   "metadata": {},
   "outputs": [],
   "source": [
    "PATH='/home/kirana/Documents/phd/exp3_autoencoder'"
   ]
  },
  {
   "cell_type": "code",
   "execution_count": 2,
   "metadata": {},
   "outputs": [],
   "source": [
    "DATAPATH='/home/kirana/Documents/final_dissertation_final/experiments/datasets/ml-1m'"
   ]
  },
  {
   "cell_type": "code",
   "execution_count": 3,
   "metadata": {},
   "outputs": [],
   "source": [
    "import pandas as pd\n",
    "import numpy as np\n",
    "import os\n",
    "import datetime\n",
    "import sklearn\n",
    "import torch"
   ]
  },
  {
   "cell_type": "code",
   "execution_count": 6,
   "metadata": {},
   "outputs": [
    {
     "name": "stdout",
     "output_type": "stream",
     "text": [
      "/home/kirana/Documents/final_dissertation_final/experiments/datasets/ml-1m/movies.dat\r\n",
      "/home/kirana/Documents/final_dissertation_final/experiments/datasets/ml-1m/ratings.dat\r\n",
      "/home/kirana/Documents/final_dissertation_final/experiments/datasets/ml-1m/users.dat\r\n"
     ]
    }
   ],
   "source": [
    "ls {DATAPATH}/*.dat"
   ]
  },
  {
   "cell_type": "markdown",
   "metadata": {},
   "source": [
    "## Read Files"
   ]
  },
  {
   "cell_type": "code",
   "execution_count": 10,
   "metadata": {},
   "outputs": [
    {
     "name": "stdout",
     "output_type": "stream",
     "text": [
      "   userId  itemId  rating  timestamp\n",
      "0       1    1193       5  978300760\n",
      "1       1     661       3  978302109\n",
      "2       1     914       3  978301968\n",
      "3       1    3408       4  978300275\n",
      "4       1    2355       5  978824291\n"
     ]
    }
   ],
   "source": [
    "ratings=pd.read_csv(f'{DATAPATH}/ratings.dat',engine='python',sep='::',names=['userId','itemId','rating','timestamp'])\n",
    "print (ratings.head())\n"
   ]
  },
  {
   "cell_type": "code",
   "execution_count": 11,
   "metadata": {},
   "outputs": [
    {
     "data": {
      "text/plain": [
       "((1000209, 4), 6040, 3706)"
      ]
     },
     "execution_count": 11,
     "metadata": {},
     "output_type": "execute_result"
    }
   ],
   "source": [
    "ratings.shape, ratings['userId'].nunique(),ratings['itemId'].nunique()"
   ]
  },
  {
   "cell_type": "code",
   "execution_count": null,
   "metadata": {},
   "outputs": [],
   "source": [
    "users = pandas.read_csv('./ml-1m/users.dat', sep='::',\n",
    "                        engine='python',\n",
    "                        names=['userid', 'gender', 'age', 'occupation', 'zip']).set_index('userid')\n",
    "\n",
    "movies = pandas.read_csv('./ml-1m/movies.dat', engine='python',\n",
    "                         sep='::', names=['movieid', 'title', 'genre']).set_index('movieid')\n",
    "movies['genre'] = movies.genre.str.split('|')\n",
    "\n",
    "users.age = users.age.astype('category')\n",
    "users.gender = users.gender.astype('category')\n",
    "users.occupation = users.occupation.astype('category')\n",
    "ratings.movieid = ratings.movieid.astype('category')\n",
    "ratings.userid = ratings.userid.astype('category')"
   ]
  },
  {
   "cell_type": "code",
   "execution_count": 12,
   "metadata": {},
   "outputs": [
    {
     "name": "stdout",
     "output_type": "stream",
     "text": [
      "   userId gender  age  occupation    zip\n",
      "0       1      F    1          10  48067\n",
      "1       2      M   56          16  70072\n",
      "2       3      M   25          15  55117\n",
      "3       4      M   45           7  02460\n",
      "4       5      M   25          20  55455\n"
     ]
    }
   ],
   "source": [
    "users=pd.read_csv(f'{DATAPATH}/users.dat',engine='python',sep='::',names=['userId','gender','age','occupation','zip'])\n",
    "print (users.head())"
   ]
  },
  {
   "cell_type": "code",
   "execution_count": 13,
   "metadata": {},
   "outputs": [
    {
     "name": "stdout",
     "output_type": "stream",
     "text": [
      "   itemId                               title                         genre\n",
      "0       1                    Toy Story (1995)   Animation|Children's|Comedy\n",
      "1       2                      Jumanji (1995)  Adventure|Children's|Fantasy\n",
      "2       3             Grumpier Old Men (1995)                Comedy|Romance\n",
      "3       4            Waiting to Exhale (1995)                  Comedy|Drama\n",
      "4       5  Father of the Bride Part II (1995)                        Comedy\n"
     ]
    }
   ],
   "source": [
    "items=pd.read_csv(f'{DATAPATH}/movies.dat',engine='python',sep='::',names=['itemId','title','genre'])\n",
    "print (items.head())"
   ]
  },
  {
   "cell_type": "code",
   "execution_count": 14,
   "metadata": {},
   "outputs": [
    {
     "data": {
      "text/plain": [
       "(1000209, 4)"
      ]
     },
     "execution_count": 14,
     "metadata": {},
     "output_type": "execute_result"
    }
   ],
   "source": [
    "ratings.shape"
   ]
  },
  {
   "cell_type": "code",
   "execution_count": 15,
   "metadata": {},
   "outputs": [],
   "source": [
    "ratings=pd.merge(ratings,users,on='userId',how='left')"
   ]
  },
  {
   "cell_type": "code",
   "execution_count": 16,
   "metadata": {},
   "outputs": [
    {
     "data": {
      "text/plain": [
       "(1000209, 8)"
      ]
     },
     "execution_count": 16,
     "metadata": {},
     "output_type": "execute_result"
    }
   ],
   "source": [
    "ratings.shape"
   ]
  },
  {
   "cell_type": "code",
   "execution_count": 17,
   "metadata": {},
   "outputs": [],
   "source": [
    "ratings=pd.merge(ratings,items,on='itemId',how='left')"
   ]
  },
  {
   "cell_type": "code",
   "execution_count": 18,
   "metadata": {},
   "outputs": [
    {
     "data": {
      "text/plain": [
       "(1000209, 10)"
      ]
     },
     "execution_count": 18,
     "metadata": {},
     "output_type": "execute_result"
    }
   ],
   "source": [
    "ratings.shape"
   ]
  },
  {
   "cell_type": "code",
   "execution_count": 20,
   "metadata": {},
   "outputs": [
    {
     "data": {
      "text/html": [
       "<div>\n",
       "<style scoped>\n",
       "    .dataframe tbody tr th:only-of-type {\n",
       "        vertical-align: middle;\n",
       "    }\n",
       "\n",
       "    .dataframe tbody tr th {\n",
       "        vertical-align: top;\n",
       "    }\n",
       "\n",
       "    .dataframe thead th {\n",
       "        text-align: right;\n",
       "    }\n",
       "</style>\n",
       "<table border=\"1\" class=\"dataframe\">\n",
       "  <thead>\n",
       "    <tr style=\"text-align: right;\">\n",
       "      <th></th>\n",
       "      <th>0</th>\n",
       "      <th>1</th>\n",
       "      <th>2</th>\n",
       "      <th>3</th>\n",
       "      <th>4</th>\n",
       "    </tr>\n",
       "  </thead>\n",
       "  <tbody>\n",
       "    <tr>\n",
       "      <th>userId</th>\n",
       "      <td>1</td>\n",
       "      <td>1</td>\n",
       "      <td>1</td>\n",
       "      <td>1</td>\n",
       "      <td>1</td>\n",
       "    </tr>\n",
       "    <tr>\n",
       "      <th>itemId</th>\n",
       "      <td>1193</td>\n",
       "      <td>661</td>\n",
       "      <td>914</td>\n",
       "      <td>3408</td>\n",
       "      <td>2355</td>\n",
       "    </tr>\n",
       "    <tr>\n",
       "      <th>rating</th>\n",
       "      <td>5</td>\n",
       "      <td>3</td>\n",
       "      <td>3</td>\n",
       "      <td>4</td>\n",
       "      <td>5</td>\n",
       "    </tr>\n",
       "    <tr>\n",
       "      <th>timestamp</th>\n",
       "      <td>978300760</td>\n",
       "      <td>978302109</td>\n",
       "      <td>978301968</td>\n",
       "      <td>978300275</td>\n",
       "      <td>978824291</td>\n",
       "    </tr>\n",
       "    <tr>\n",
       "      <th>gender</th>\n",
       "      <td>F</td>\n",
       "      <td>F</td>\n",
       "      <td>F</td>\n",
       "      <td>F</td>\n",
       "      <td>F</td>\n",
       "    </tr>\n",
       "    <tr>\n",
       "      <th>age</th>\n",
       "      <td>1</td>\n",
       "      <td>1</td>\n",
       "      <td>1</td>\n",
       "      <td>1</td>\n",
       "      <td>1</td>\n",
       "    </tr>\n",
       "    <tr>\n",
       "      <th>occupation</th>\n",
       "      <td>10</td>\n",
       "      <td>10</td>\n",
       "      <td>10</td>\n",
       "      <td>10</td>\n",
       "      <td>10</td>\n",
       "    </tr>\n",
       "    <tr>\n",
       "      <th>zip</th>\n",
       "      <td>48067</td>\n",
       "      <td>48067</td>\n",
       "      <td>48067</td>\n",
       "      <td>48067</td>\n",
       "      <td>48067</td>\n",
       "    </tr>\n",
       "    <tr>\n",
       "      <th>title</th>\n",
       "      <td>One Flew Over the Cuckoo's Nest (1975)</td>\n",
       "      <td>James and the Giant Peach (1996)</td>\n",
       "      <td>My Fair Lady (1964)</td>\n",
       "      <td>Erin Brockovich (2000)</td>\n",
       "      <td>Bug's Life, A (1998)</td>\n",
       "    </tr>\n",
       "    <tr>\n",
       "      <th>genre</th>\n",
       "      <td>Drama</td>\n",
       "      <td>Animation|Children's|Musical</td>\n",
       "      <td>Musical|Romance</td>\n",
       "      <td>Drama</td>\n",
       "      <td>Animation|Children's|Comedy</td>\n",
       "    </tr>\n",
       "  </tbody>\n",
       "</table>\n",
       "</div>"
      ],
      "text/plain": [
       "                                                 0  \\\n",
       "userId                                           1   \n",
       "itemId                                        1193   \n",
       "rating                                           5   \n",
       "timestamp                                978300760   \n",
       "gender                                           F   \n",
       "age                                              1   \n",
       "occupation                                      10   \n",
       "zip                                          48067   \n",
       "title       One Flew Over the Cuckoo's Nest (1975)   \n",
       "genre                                        Drama   \n",
       "\n",
       "                                           1                    2  \\\n",
       "userId                                     1                    1   \n",
       "itemId                                   661                  914   \n",
       "rating                                     3                    3   \n",
       "timestamp                          978302109            978301968   \n",
       "gender                                     F                    F   \n",
       "age                                        1                    1   \n",
       "occupation                                10                   10   \n",
       "zip                                    48067                48067   \n",
       "title       James and the Giant Peach (1996)  My Fair Lady (1964)   \n",
       "genre           Animation|Children's|Musical      Musical|Romance   \n",
       "\n",
       "                                 3                            4  \n",
       "userId                           1                            1  \n",
       "itemId                        3408                         2355  \n",
       "rating                           4                            5  \n",
       "timestamp                978300275                    978824291  \n",
       "gender                           F                            F  \n",
       "age                              1                            1  \n",
       "occupation                      10                           10  \n",
       "zip                          48067                        48067  \n",
       "title       Erin Brockovich (2000)         Bug's Life, A (1998)  \n",
       "genre                        Drama  Animation|Children's|Comedy  "
      ]
     },
     "execution_count": 20,
     "metadata": {},
     "output_type": "execute_result"
    }
   ],
   "source": [
    "ratings.head().T"
   ]
  },
  {
   "cell_type": "markdown",
   "metadata": {},
   "source": [
    "## Random Cross-Validation 90-10 split to compare to papers"
   ]
  },
  {
   "cell_type": "code",
   "execution_count": 21,
   "metadata": {},
   "outputs": [],
   "source": [
    "from sklearn.model_selection import train_test_split"
   ]
  },
  {
   "cell_type": "code",
   "execution_count": 22,
   "metadata": {},
   "outputs": [
    {
     "data": {
      "text/plain": [
       "4    348971\n",
       "3    261197\n",
       "5    226310\n",
       "2    107557\n",
       "1     56174\n",
       "Name: rating, dtype: int64"
      ]
     },
     "execution_count": 22,
     "metadata": {},
     "output_type": "execute_result"
    }
   ],
   "source": [
    "ratings['rating'].value_counts()"
   ]
  },
  {
   "cell_type": "code",
   "execution_count": 23,
   "metadata": {},
   "outputs": [],
   "source": [
    "temptrain,tempvalid=train_test_split(ratings,test_size=0.1,train_size=0.9,random_state=11,shuffle=True)"
   ]
  },
  {
   "cell_type": "code",
   "execution_count": 24,
   "metadata": {},
   "outputs": [
    {
     "name": "stderr",
     "output_type": "stream",
     "text": [
      "/home/kirana/anaconda3/lib/python3.7/site-packages/ipykernel_launcher.py:1: SettingWithCopyWarning: \n",
      "A value is trying to be set on a copy of a slice from a DataFrame.\n",
      "Try using .loc[row_indexer,col_indexer] = value instead\n",
      "\n",
      "See the caveats in the documentation: http://pandas.pydata.org/pandas-docs/stable/indexing.html#indexing-view-versus-copy\n",
      "  \"\"\"Entry point for launching an IPython kernel.\n",
      "/home/kirana/anaconda3/lib/python3.7/site-packages/ipykernel_launcher.py:2: SettingWithCopyWarning: \n",
      "A value is trying to be set on a copy of a slice from a DataFrame.\n",
      "Try using .loc[row_indexer,col_indexer] = value instead\n",
      "\n",
      "See the caveats in the documentation: http://pandas.pydata.org/pandas-docs/stable/indexing.html#indexing-view-versus-copy\n",
      "  \n"
     ]
    }
   ],
   "source": [
    "temptrain['random_dstype']='train'\n",
    "tempvalid['random_dstype']='test'"
   ]
  },
  {
   "cell_type": "code",
   "execution_count": 25,
   "metadata": {},
   "outputs": [],
   "source": [
    "df=pd.concat([temptrain,tempvalid],axis=0)"
   ]
  },
  {
   "cell_type": "code",
   "execution_count": 26,
   "metadata": {},
   "outputs": [
    {
     "data": {
      "text/plain": [
       "(1000209, 11)"
      ]
     },
     "execution_count": 26,
     "metadata": {},
     "output_type": "execute_result"
    }
   ],
   "source": [
    "df.shape"
   ]
  },
  {
   "cell_type": "code",
   "execution_count": 27,
   "metadata": {},
   "outputs": [
    {
     "data": {
      "text/html": [
       "<div>\n",
       "<style scoped>\n",
       "    .dataframe tbody tr th:only-of-type {\n",
       "        vertical-align: middle;\n",
       "    }\n",
       "\n",
       "    .dataframe tbody tr th {\n",
       "        vertical-align: top;\n",
       "    }\n",
       "\n",
       "    .dataframe thead th {\n",
       "        text-align: right;\n",
       "    }\n",
       "</style>\n",
       "<table border=\"1\" class=\"dataframe\">\n",
       "  <thead>\n",
       "    <tr style=\"text-align: right;\">\n",
       "      <th></th>\n",
       "      <th>userId</th>\n",
       "      <th>itemId</th>\n",
       "      <th>rating</th>\n",
       "      <th>timestamp</th>\n",
       "      <th>gender</th>\n",
       "      <th>age</th>\n",
       "      <th>occupation</th>\n",
       "      <th>zip</th>\n",
       "      <th>title</th>\n",
       "      <th>genre</th>\n",
       "      <th>random_dstype</th>\n",
       "    </tr>\n",
       "  </thead>\n",
       "  <tbody>\n",
       "    <tr>\n",
       "      <th>648724</th>\n",
       "      <td>3908</td>\n",
       "      <td>2347</td>\n",
       "      <td>4</td>\n",
       "      <td>965941231</td>\n",
       "      <td>M</td>\n",
       "      <td>25</td>\n",
       "      <td>0</td>\n",
       "      <td>10021</td>\n",
       "      <td>Pope of Greenwich Village, The (1984)</td>\n",
       "      <td>Action</td>\n",
       "      <td>train</td>\n",
       "    </tr>\n",
       "    <tr>\n",
       "      <th>203881</th>\n",
       "      <td>1254</td>\n",
       "      <td>1541</td>\n",
       "      <td>2</td>\n",
       "      <td>974823280</td>\n",
       "      <td>F</td>\n",
       "      <td>18</td>\n",
       "      <td>1</td>\n",
       "      <td>02144</td>\n",
       "      <td>Addicted to Love (1997)</td>\n",
       "      <td>Comedy|Romance</td>\n",
       "      <td>train</td>\n",
       "    </tr>\n",
       "    <tr>\n",
       "      <th>243394</th>\n",
       "      <td>1467</td>\n",
       "      <td>2617</td>\n",
       "      <td>3</td>\n",
       "      <td>977173059</td>\n",
       "      <td>M</td>\n",
       "      <td>25</td>\n",
       "      <td>5</td>\n",
       "      <td>97007</td>\n",
       "      <td>Mummy, The (1999)</td>\n",
       "      <td>Action|Adventure|Horror|Thriller</td>\n",
       "      <td>train</td>\n",
       "    </tr>\n",
       "    <tr>\n",
       "      <th>788507</th>\n",
       "      <td>4717</td>\n",
       "      <td>3754</td>\n",
       "      <td>3</td>\n",
       "      <td>963502544</td>\n",
       "      <td>M</td>\n",
       "      <td>45</td>\n",
       "      <td>17</td>\n",
       "      <td>48310</td>\n",
       "      <td>Adventures of Rocky and Bullwinkle, The (2000)</td>\n",
       "      <td>Animation|Children's|Comedy</td>\n",
       "      <td>train</td>\n",
       "    </tr>\n",
       "    <tr>\n",
       "      <th>301066</th>\n",
       "      <td>1789</td>\n",
       "      <td>2997</td>\n",
       "      <td>5</td>\n",
       "      <td>974700402</td>\n",
       "      <td>M</td>\n",
       "      <td>1</td>\n",
       "      <td>10</td>\n",
       "      <td>19116</td>\n",
       "      <td>Being John Malkovich (1999)</td>\n",
       "      <td>Comedy</td>\n",
       "      <td>train</td>\n",
       "    </tr>\n",
       "  </tbody>\n",
       "</table>\n",
       "</div>"
      ],
      "text/plain": [
       "        userId  itemId  rating  timestamp gender  age  occupation    zip  \\\n",
       "648724    3908    2347       4  965941231      M   25           0  10021   \n",
       "203881    1254    1541       2  974823280      F   18           1  02144   \n",
       "243394    1467    2617       3  977173059      M   25           5  97007   \n",
       "788507    4717    3754       3  963502544      M   45          17  48310   \n",
       "301066    1789    2997       5  974700402      M    1          10  19116   \n",
       "\n",
       "                                                 title  \\\n",
       "648724           Pope of Greenwich Village, The (1984)   \n",
       "203881                         Addicted to Love (1997)   \n",
       "243394                               Mummy, The (1999)   \n",
       "788507  Adventures of Rocky and Bullwinkle, The (2000)   \n",
       "301066                     Being John Malkovich (1999)   \n",
       "\n",
       "                                   genre random_dstype  \n",
       "648724                            Action         train  \n",
       "203881                    Comedy|Romance         train  \n",
       "243394  Action|Adventure|Horror|Thriller         train  \n",
       "788507       Animation|Children's|Comedy         train  \n",
       "301066                            Comedy         train  "
      ]
     },
     "execution_count": 27,
     "metadata": {},
     "output_type": "execute_result"
    }
   ],
   "source": [
    "df.head()"
   ]
  },
  {
   "cell_type": "markdown",
   "metadata": {},
   "source": [
    "## Prepare data"
   ]
  },
  {
   "cell_type": "code",
   "execution_count": 28,
   "metadata": {},
   "outputs": [],
   "source": [
    "user_to_idx={j:i+1 for i, j in enumerate(df['userId'].unique())}\n",
    "item_to_idx={j:i+1 for i,j in enumerate(df['itemId'].unique())}\n",
    "idx_to_user={i+1:j for i, j in enumerate(df['userId'].unique())}\n",
    "idx_to_item={i+1:j for i,j in enumerate(df['itemId'].unique())}"
   ]
  },
  {
   "cell_type": "code",
   "execution_count": 29,
   "metadata": {},
   "outputs": [
    {
     "data": {
      "text/plain": [
       "(1, 6040)"
      ]
     },
     "execution_count": 29,
     "metadata": {},
     "output_type": "execute_result"
    }
   ],
   "source": [
    "min(user_to_idx.values()),max(user_to_idx.values())"
   ]
  },
  {
   "cell_type": "code",
   "execution_count": 30,
   "metadata": {},
   "outputs": [],
   "source": [
    "df['user_idx']=[user_to_idx.get(i) for i in df['userId']]\n",
    "df['item_idx']=[item_to_idx.get(i) for i in df['itemId']]"
   ]
  },
  {
   "cell_type": "code",
   "execution_count": 31,
   "metadata": {},
   "outputs": [],
   "source": [
    "df['dstype_random_train']=np.where(df['random_dstype']=='train',1,0)"
   ]
  },
  {
   "cell_type": "code",
   "execution_count": 32,
   "metadata": {},
   "outputs": [],
   "source": [
    "df['dstype_random_valid']=np.where(df['random_dstype']!='train',1,0)"
   ]
  },
  {
   "cell_type": "code",
   "execution_count": 34,
   "metadata": {},
   "outputs": [],
   "source": [
    "gender_to_idx={j:i+1 for i, j in enumerate(df['gender'].unique())}\n",
    "age_to_idx={j:i+1 for i,j in enumerate(df['age'].unique())}\n",
    "title_to_idx={j:i+1 for i,j in enumerate(df['title'].unique())}\n",
    "genre_to_idx={j:i+1 for i,j in enumerate(df['genre'].unique())}\n",
    "zip_to_idx={j:i+1 for i,j in enumerate(df['zip'].unique())}"
   ]
  },
  {
   "cell_type": "code",
   "execution_count": 35,
   "metadata": {},
   "outputs": [
    {
     "data": {
      "text/plain": [
       "(1, 2)"
      ]
     },
     "execution_count": 35,
     "metadata": {},
     "output_type": "execute_result"
    }
   ],
   "source": [
    "min(gender_to_idx.values()),max(gender_to_idx.values())"
   ]
  },
  {
   "cell_type": "code",
   "execution_count": 36,
   "metadata": {},
   "outputs": [
    {
     "data": {
      "text/plain": [
       "(1, 7)"
      ]
     },
     "execution_count": 36,
     "metadata": {},
     "output_type": "execute_result"
    }
   ],
   "source": [
    "min(age_to_idx.values()),max(age_to_idx.values())"
   ]
  },
  {
   "cell_type": "code",
   "execution_count": 37,
   "metadata": {},
   "outputs": [
    {
     "data": {
      "text/plain": [
       "(1, 3706)"
      ]
     },
     "execution_count": 37,
     "metadata": {},
     "output_type": "execute_result"
    }
   ],
   "source": [
    "min(title_to_idx.values()),max(title_to_idx.values())"
   ]
  },
  {
   "cell_type": "code",
   "execution_count": 38,
   "metadata": {},
   "outputs": [
    {
     "data": {
      "text/plain": [
       "(1, 301)"
      ]
     },
     "execution_count": 38,
     "metadata": {},
     "output_type": "execute_result"
    }
   ],
   "source": [
    "min(genre_to_idx.values()),max(genre_to_idx.values())"
   ]
  },
  {
   "cell_type": "code",
   "execution_count": 39,
   "metadata": {},
   "outputs": [
    {
     "data": {
      "text/plain": [
       "(1, 3439)"
      ]
     },
     "execution_count": 39,
     "metadata": {},
     "output_type": "execute_result"
    }
   ],
   "source": [
    "min(zip_to_idx.values()),max(zip_to_idx.values())"
   ]
  },
  {
   "cell_type": "code",
   "execution_count": 41,
   "metadata": {},
   "outputs": [],
   "source": [
    "df['gender_idx']=[gender_to_idx.get(i) for i in df['gender']]\n",
    "df['age_idx']=[age_to_idx.get(i) for i in df['age']]\n",
    "df['title_idx']=[title_to_idx.get(i) for i in df['title']]\n",
    "df['genre_idx']=[genre_to_idx.get(i) for i in df['genre']]\n",
    "df['zip_idx']=[zip_to_idx.get(i) for i in df['zip']]"
   ]
  },
  {
   "cell_type": "code",
   "execution_count": 42,
   "metadata": {},
   "outputs": [
    {
     "data": {
      "text/html": [
       "<div>\n",
       "<style scoped>\n",
       "    .dataframe tbody tr th:only-of-type {\n",
       "        vertical-align: middle;\n",
       "    }\n",
       "\n",
       "    .dataframe tbody tr th {\n",
       "        vertical-align: top;\n",
       "    }\n",
       "\n",
       "    .dataframe thead th {\n",
       "        text-align: right;\n",
       "    }\n",
       "</style>\n",
       "<table border=\"1\" class=\"dataframe\">\n",
       "  <thead>\n",
       "    <tr style=\"text-align: right;\">\n",
       "      <th></th>\n",
       "      <th>gender_idx</th>\n",
       "      <th>age_idx</th>\n",
       "      <th>title_idx</th>\n",
       "      <th>genre_idx</th>\n",
       "      <th>zip_idx</th>\n",
       "    </tr>\n",
       "  </thead>\n",
       "  <tbody>\n",
       "    <tr>\n",
       "      <th>count</th>\n",
       "      <td>1.000209e+06</td>\n",
       "      <td>1.000209e+06</td>\n",
       "      <td>1.000209e+06</td>\n",
       "      <td>1.000209e+06</td>\n",
       "      <td>1.000209e+06</td>\n",
       "    </tr>\n",
       "    <tr>\n",
       "      <th>mean</th>\n",
       "      <td>1.246389e+00</td>\n",
       "      <td>2.949683e+00</td>\n",
       "      <td>9.388417e+02</td>\n",
       "      <td>5.799979e+01</td>\n",
       "      <td>1.015646e+03</td>\n",
       "    </tr>\n",
       "    <tr>\n",
       "      <th>std</th>\n",
       "      <td>4.309076e-01</td>\n",
       "      <td>2.119191e+00</td>\n",
       "      <td>7.400308e+02</td>\n",
       "      <td>6.191348e+01</td>\n",
       "      <td>7.951754e+02</td>\n",
       "    </tr>\n",
       "    <tr>\n",
       "      <th>min</th>\n",
       "      <td>1.000000e+00</td>\n",
       "      <td>1.000000e+00</td>\n",
       "      <td>1.000000e+00</td>\n",
       "      <td>1.000000e+00</td>\n",
       "      <td>1.000000e+00</td>\n",
       "    </tr>\n",
       "    <tr>\n",
       "      <th>25%</th>\n",
       "      <td>1.000000e+00</td>\n",
       "      <td>1.000000e+00</td>\n",
       "      <td>3.440000e+02</td>\n",
       "      <td>1.400000e+01</td>\n",
       "      <td>3.630000e+02</td>\n",
       "    </tr>\n",
       "    <tr>\n",
       "      <th>50%</th>\n",
       "      <td>1.000000e+00</td>\n",
       "      <td>2.000000e+00</td>\n",
       "      <td>7.500000e+02</td>\n",
       "      <td>3.600000e+01</td>\n",
       "      <td>8.330000e+02</td>\n",
       "    </tr>\n",
       "    <tr>\n",
       "      <th>75%</th>\n",
       "      <td>1.000000e+00</td>\n",
       "      <td>5.000000e+00</td>\n",
       "      <td>1.395000e+03</td>\n",
       "      <td>8.000000e+01</td>\n",
       "      <td>1.497000e+03</td>\n",
       "    </tr>\n",
       "    <tr>\n",
       "      <th>max</th>\n",
       "      <td>2.000000e+00</td>\n",
       "      <td>7.000000e+00</td>\n",
       "      <td>3.706000e+03</td>\n",
       "      <td>3.010000e+02</td>\n",
       "      <td>3.439000e+03</td>\n",
       "    </tr>\n",
       "  </tbody>\n",
       "</table>\n",
       "</div>"
      ],
      "text/plain": [
       "         gender_idx       age_idx     title_idx     genre_idx       zip_idx\n",
       "count  1.000209e+06  1.000209e+06  1.000209e+06  1.000209e+06  1.000209e+06\n",
       "mean   1.246389e+00  2.949683e+00  9.388417e+02  5.799979e+01  1.015646e+03\n",
       "std    4.309076e-01  2.119191e+00  7.400308e+02  6.191348e+01  7.951754e+02\n",
       "min    1.000000e+00  1.000000e+00  1.000000e+00  1.000000e+00  1.000000e+00\n",
       "25%    1.000000e+00  1.000000e+00  3.440000e+02  1.400000e+01  3.630000e+02\n",
       "50%    1.000000e+00  2.000000e+00  7.500000e+02  3.600000e+01  8.330000e+02\n",
       "75%    1.000000e+00  5.000000e+00  1.395000e+03  8.000000e+01  1.497000e+03\n",
       "max    2.000000e+00  7.000000e+00  3.706000e+03  3.010000e+02  3.439000e+03"
      ]
     },
     "execution_count": 42,
     "metadata": {},
     "output_type": "execute_result"
    }
   ],
   "source": [
    "df[['gender_idx','age_idx','title_idx','genre_idx','zip_idx']].describe()"
   ]
  },
  {
   "cell_type": "code",
   "execution_count": 43,
   "metadata": {},
   "outputs": [
    {
     "data": {
      "text/plain": [
       "gender_idx    0\n",
       "age_idx       0\n",
       "title_idx     0\n",
       "genre_idx     0\n",
       "zip_idx       0\n",
       "dtype: int64"
      ]
     },
     "execution_count": 43,
     "metadata": {},
     "output_type": "execute_result"
    }
   ],
   "source": [
    "df[['gender_idx','age_idx','title_idx','genre_idx','zip_idx']].isnull().sum()"
   ]
  },
  {
   "cell_type": "code",
   "execution_count": 44,
   "metadata": {},
   "outputs": [
    {
     "data": {
      "text/html": [
       "<div>\n",
       "<style scoped>\n",
       "    .dataframe tbody tr th:only-of-type {\n",
       "        vertical-align: middle;\n",
       "    }\n",
       "\n",
       "    .dataframe tbody tr th {\n",
       "        vertical-align: top;\n",
       "    }\n",
       "\n",
       "    .dataframe thead th {\n",
       "        text-align: right;\n",
       "    }\n",
       "</style>\n",
       "<table border=\"1\" class=\"dataframe\">\n",
       "  <thead>\n",
       "    <tr style=\"text-align: right;\">\n",
       "      <th></th>\n",
       "      <th>gender_idx</th>\n",
       "      <th>age_idx</th>\n",
       "      <th>title_idx</th>\n",
       "      <th>genre_idx</th>\n",
       "      <th>zip_idx</th>\n",
       "    </tr>\n",
       "  </thead>\n",
       "  <tbody>\n",
       "    <tr>\n",
       "      <th>count</th>\n",
       "      <td>1.000209e+06</td>\n",
       "      <td>1.000209e+06</td>\n",
       "      <td>1.000209e+06</td>\n",
       "      <td>1.000209e+06</td>\n",
       "      <td>1.000209e+06</td>\n",
       "    </tr>\n",
       "    <tr>\n",
       "      <th>mean</th>\n",
       "      <td>1.246389e+00</td>\n",
       "      <td>2.949683e+00</td>\n",
       "      <td>9.388417e+02</td>\n",
       "      <td>5.799979e+01</td>\n",
       "      <td>1.015646e+03</td>\n",
       "    </tr>\n",
       "    <tr>\n",
       "      <th>std</th>\n",
       "      <td>4.309076e-01</td>\n",
       "      <td>2.119191e+00</td>\n",
       "      <td>7.400308e+02</td>\n",
       "      <td>6.191348e+01</td>\n",
       "      <td>7.951754e+02</td>\n",
       "    </tr>\n",
       "    <tr>\n",
       "      <th>min</th>\n",
       "      <td>1.000000e+00</td>\n",
       "      <td>1.000000e+00</td>\n",
       "      <td>1.000000e+00</td>\n",
       "      <td>1.000000e+00</td>\n",
       "      <td>1.000000e+00</td>\n",
       "    </tr>\n",
       "    <tr>\n",
       "      <th>25%</th>\n",
       "      <td>1.000000e+00</td>\n",
       "      <td>1.000000e+00</td>\n",
       "      <td>3.440000e+02</td>\n",
       "      <td>1.400000e+01</td>\n",
       "      <td>3.630000e+02</td>\n",
       "    </tr>\n",
       "    <tr>\n",
       "      <th>50%</th>\n",
       "      <td>1.000000e+00</td>\n",
       "      <td>2.000000e+00</td>\n",
       "      <td>7.500000e+02</td>\n",
       "      <td>3.600000e+01</td>\n",
       "      <td>8.330000e+02</td>\n",
       "    </tr>\n",
       "    <tr>\n",
       "      <th>75%</th>\n",
       "      <td>1.000000e+00</td>\n",
       "      <td>5.000000e+00</td>\n",
       "      <td>1.395000e+03</td>\n",
       "      <td>8.000000e+01</td>\n",
       "      <td>1.497000e+03</td>\n",
       "    </tr>\n",
       "    <tr>\n",
       "      <th>max</th>\n",
       "      <td>2.000000e+00</td>\n",
       "      <td>7.000000e+00</td>\n",
       "      <td>3.706000e+03</td>\n",
       "      <td>3.010000e+02</td>\n",
       "      <td>3.439000e+03</td>\n",
       "    </tr>\n",
       "  </tbody>\n",
       "</table>\n",
       "</div>"
      ],
      "text/plain": [
       "         gender_idx       age_idx     title_idx     genre_idx       zip_idx\n",
       "count  1.000209e+06  1.000209e+06  1.000209e+06  1.000209e+06  1.000209e+06\n",
       "mean   1.246389e+00  2.949683e+00  9.388417e+02  5.799979e+01  1.015646e+03\n",
       "std    4.309076e-01  2.119191e+00  7.400308e+02  6.191348e+01  7.951754e+02\n",
       "min    1.000000e+00  1.000000e+00  1.000000e+00  1.000000e+00  1.000000e+00\n",
       "25%    1.000000e+00  1.000000e+00  3.440000e+02  1.400000e+01  3.630000e+02\n",
       "50%    1.000000e+00  2.000000e+00  7.500000e+02  3.600000e+01  8.330000e+02\n",
       "75%    1.000000e+00  5.000000e+00  1.395000e+03  8.000000e+01  1.497000e+03\n",
       "max    2.000000e+00  7.000000e+00  3.706000e+03  3.010000e+02  3.439000e+03"
      ]
     },
     "execution_count": 44,
     "metadata": {},
     "output_type": "execute_result"
    }
   ],
   "source": [
    "df[['gender_idx','age_idx','title_idx','genre_idx','zip_idx']].describe()"
   ]
  },
  {
   "cell_type": "code",
   "execution_count": 46,
   "metadata": {},
   "outputs": [
    {
     "data": {
      "text/plain": [
       "gender_idx    int64\n",
       "age_idx       int64\n",
       "title_idx     int64\n",
       "genre_idx     int64\n",
       "zip_idx       int64\n",
       "dtype: object"
      ]
     },
     "execution_count": 46,
     "metadata": {},
     "output_type": "execute_result"
    }
   ],
   "source": [
    "df[['gender_idx','age_idx','title_idx','genre_idx','zip_idx']].dtypes"
   ]
  },
  {
   "cell_type": "code",
   "execution_count": 47,
   "metadata": {},
   "outputs": [
    {
     "data": {
      "text/plain": [
       "gender_idx    int64\n",
       "age_idx       int64\n",
       "title_idx     int64\n",
       "genre_idx     int64\n",
       "zip_idx       int64\n",
       "dtype: object"
      ]
     },
     "execution_count": 47,
     "metadata": {},
     "output_type": "execute_result"
    }
   ],
   "source": [
    "df[['gender_idx','age_idx','title_idx','genre_idx','zip_idx']].dtypes"
   ]
  },
  {
   "cell_type": "code",
   "execution_count": 48,
   "metadata": {},
   "outputs": [],
   "source": [
    "from scipy.sparse import csr_matrix"
   ]
  },
  {
   "cell_type": "code",
   "execution_count": 49,
   "metadata": {},
   "outputs": [],
   "source": [
    "from scipy.sparse import csr_matrix\n",
    "\n",
    "def df_to_sm(data, vars_i, vars_j, var_val):\n",
    "    grpr_i = data.groupby(vars_i).grouper\n",
    "\n",
    "    idx_i = grpr_i.group_info[0]\n",
    "\n",
    "    grpr_j = data.groupby(vars_j).grouper\n",
    "\n",
    "    idx_j = grpr_j.group_info[0]\n",
    "\n",
    "    data_sm = csr_matrix((data[var_val].values, (idx_i, idx_j)),\n",
    "                         shape=(grpr_i.ngroups+1, grpr_j.ngroups+1))\n",
    "\n",
    "    return data_sm, grpr_i, grpr_j\n",
    "\n"
   ]
  },
  {
   "cell_type": "code",
   "execution_count": 50,
   "metadata": {},
   "outputs": [
    {
     "data": {
      "text/html": [
       "<div>\n",
       "<style scoped>\n",
       "    .dataframe tbody tr th:only-of-type {\n",
       "        vertical-align: middle;\n",
       "    }\n",
       "\n",
       "    .dataframe tbody tr th {\n",
       "        vertical-align: top;\n",
       "    }\n",
       "\n",
       "    .dataframe thead th {\n",
       "        text-align: right;\n",
       "    }\n",
       "</style>\n",
       "<table border=\"1\" class=\"dataframe\">\n",
       "  <thead>\n",
       "    <tr style=\"text-align: right;\">\n",
       "      <th></th>\n",
       "      <th>userId</th>\n",
       "      <th>itemId</th>\n",
       "      <th>rating</th>\n",
       "      <th>timestamp</th>\n",
       "      <th>gender</th>\n",
       "      <th>age</th>\n",
       "      <th>occupation</th>\n",
       "      <th>zip</th>\n",
       "      <th>title</th>\n",
       "      <th>genre</th>\n",
       "      <th>random_dstype</th>\n",
       "      <th>user_idx</th>\n",
       "      <th>item_idx</th>\n",
       "      <th>dstype_random_train</th>\n",
       "      <th>dstype_random_valid</th>\n",
       "      <th>gender_idx</th>\n",
       "      <th>age_idx</th>\n",
       "      <th>title_idx</th>\n",
       "      <th>genre_idx</th>\n",
       "      <th>zip_idx</th>\n",
       "    </tr>\n",
       "  </thead>\n",
       "  <tbody>\n",
       "    <tr>\n",
       "      <th>648724</th>\n",
       "      <td>3908</td>\n",
       "      <td>2347</td>\n",
       "      <td>4</td>\n",
       "      <td>965941231</td>\n",
       "      <td>M</td>\n",
       "      <td>25</td>\n",
       "      <td>0</td>\n",
       "      <td>10021</td>\n",
       "      <td>Pope of Greenwich Village, The (1984)</td>\n",
       "      <td>Action</td>\n",
       "      <td>train</td>\n",
       "      <td>1</td>\n",
       "      <td>1</td>\n",
       "      <td>1</td>\n",
       "      <td>0</td>\n",
       "      <td>1</td>\n",
       "      <td>1</td>\n",
       "      <td>1</td>\n",
       "      <td>1</td>\n",
       "      <td>1</td>\n",
       "    </tr>\n",
       "    <tr>\n",
       "      <th>203881</th>\n",
       "      <td>1254</td>\n",
       "      <td>1541</td>\n",
       "      <td>2</td>\n",
       "      <td>974823280</td>\n",
       "      <td>F</td>\n",
       "      <td>18</td>\n",
       "      <td>1</td>\n",
       "      <td>02144</td>\n",
       "      <td>Addicted to Love (1997)</td>\n",
       "      <td>Comedy|Romance</td>\n",
       "      <td>train</td>\n",
       "      <td>2</td>\n",
       "      <td>2</td>\n",
       "      <td>1</td>\n",
       "      <td>0</td>\n",
       "      <td>2</td>\n",
       "      <td>2</td>\n",
       "      <td>2</td>\n",
       "      <td>2</td>\n",
       "      <td>2</td>\n",
       "    </tr>\n",
       "    <tr>\n",
       "      <th>243394</th>\n",
       "      <td>1467</td>\n",
       "      <td>2617</td>\n",
       "      <td>3</td>\n",
       "      <td>977173059</td>\n",
       "      <td>M</td>\n",
       "      <td>25</td>\n",
       "      <td>5</td>\n",
       "      <td>97007</td>\n",
       "      <td>Mummy, The (1999)</td>\n",
       "      <td>Action|Adventure|Horror|Thriller</td>\n",
       "      <td>train</td>\n",
       "      <td>3</td>\n",
       "      <td>3</td>\n",
       "      <td>1</td>\n",
       "      <td>0</td>\n",
       "      <td>1</td>\n",
       "      <td>1</td>\n",
       "      <td>3</td>\n",
       "      <td>3</td>\n",
       "      <td>3</td>\n",
       "    </tr>\n",
       "    <tr>\n",
       "      <th>788507</th>\n",
       "      <td>4717</td>\n",
       "      <td>3754</td>\n",
       "      <td>3</td>\n",
       "      <td>963502544</td>\n",
       "      <td>M</td>\n",
       "      <td>45</td>\n",
       "      <td>17</td>\n",
       "      <td>48310</td>\n",
       "      <td>Adventures of Rocky and Bullwinkle, The (2000)</td>\n",
       "      <td>Animation|Children's|Comedy</td>\n",
       "      <td>train</td>\n",
       "      <td>4</td>\n",
       "      <td>4</td>\n",
       "      <td>1</td>\n",
       "      <td>0</td>\n",
       "      <td>1</td>\n",
       "      <td>3</td>\n",
       "      <td>4</td>\n",
       "      <td>4</td>\n",
       "      <td>4</td>\n",
       "    </tr>\n",
       "    <tr>\n",
       "      <th>301066</th>\n",
       "      <td>1789</td>\n",
       "      <td>2997</td>\n",
       "      <td>5</td>\n",
       "      <td>974700402</td>\n",
       "      <td>M</td>\n",
       "      <td>1</td>\n",
       "      <td>10</td>\n",
       "      <td>19116</td>\n",
       "      <td>Being John Malkovich (1999)</td>\n",
       "      <td>Comedy</td>\n",
       "      <td>train</td>\n",
       "      <td>5</td>\n",
       "      <td>5</td>\n",
       "      <td>1</td>\n",
       "      <td>0</td>\n",
       "      <td>1</td>\n",
       "      <td>4</td>\n",
       "      <td>5</td>\n",
       "      <td>5</td>\n",
       "      <td>5</td>\n",
       "    </tr>\n",
       "  </tbody>\n",
       "</table>\n",
       "</div>"
      ],
      "text/plain": [
       "        userId  itemId  rating  timestamp gender  age  occupation    zip  \\\n",
       "648724    3908    2347       4  965941231      M   25           0  10021   \n",
       "203881    1254    1541       2  974823280      F   18           1  02144   \n",
       "243394    1467    2617       3  977173059      M   25           5  97007   \n",
       "788507    4717    3754       3  963502544      M   45          17  48310   \n",
       "301066    1789    2997       5  974700402      M    1          10  19116   \n",
       "\n",
       "                                                 title  \\\n",
       "648724           Pope of Greenwich Village, The (1984)   \n",
       "203881                         Addicted to Love (1997)   \n",
       "243394                               Mummy, The (1999)   \n",
       "788507  Adventures of Rocky and Bullwinkle, The (2000)   \n",
       "301066                     Being John Malkovich (1999)   \n",
       "\n",
       "                                   genre random_dstype  user_idx  item_idx  \\\n",
       "648724                            Action         train         1         1   \n",
       "203881                    Comedy|Romance         train         2         2   \n",
       "243394  Action|Adventure|Horror|Thriller         train         3         3   \n",
       "788507       Animation|Children's|Comedy         train         4         4   \n",
       "301066                            Comedy         train         5         5   \n",
       "\n",
       "        dstype_random_train  dstype_random_valid  gender_idx  age_idx  \\\n",
       "648724                    1                    0           1        1   \n",
       "203881                    1                    0           2        2   \n",
       "243394                    1                    0           1        1   \n",
       "788507                    1                    0           1        3   \n",
       "301066                    1                    0           1        4   \n",
       "\n",
       "        title_idx  genre_idx  zip_idx  \n",
       "648724          1          1        1  \n",
       "203881          2          2        2  \n",
       "243394          3          3        3  \n",
       "788507          4          4        4  \n",
       "301066          5          5        5  "
      ]
     },
     "execution_count": 50,
     "metadata": {},
     "output_type": "execute_result"
    }
   ],
   "source": [
    "df.head()"
   ]
  },
  {
   "cell_type": "code",
   "execution_count": 51,
   "metadata": {},
   "outputs": [],
   "source": [
    "df_ratings,_,_=df_to_sm(df,['user_idx'],['item_idx'],'rating')"
   ]
  },
  {
   "cell_type": "code",
   "execution_count": 52,
   "metadata": {},
   "outputs": [
    {
     "data": {
      "text/plain": [
       "(scipy.sparse.csr.csr_matrix, (6041, 3707))"
      ]
     },
     "execution_count": 52,
     "metadata": {},
     "output_type": "execute_result"
    }
   ],
   "source": [
    "type(df_ratings), df_ratings.shape"
   ]
  },
  {
   "cell_type": "code",
   "execution_count": 53,
   "metadata": {},
   "outputs": [
    {
     "data": {
      "text/plain": [
       "'0.24.2'"
      ]
     },
     "execution_count": 53,
     "metadata": {},
     "output_type": "execute_result"
    }
   ],
   "source": [
    "pd.__version__"
   ]
  },
  {
   "cell_type": "code",
   "execution_count": 54,
   "metadata": {},
   "outputs": [
    {
     "data": {
      "text/plain": [
       "(6041, 3707)"
      ]
     },
     "execution_count": 54,
     "metadata": {},
     "output_type": "execute_result"
    }
   ],
   "source": [
    "df_ratings.shape"
   ]
  },
  {
   "cell_type": "code",
   "execution_count": 55,
   "metadata": {},
   "outputs": [],
   "source": [
    "dfflagtrain,_,_=df_to_sm(df,['user_idx'],['item_idx'],'dstype_random_train')\n"
   ]
  },
  {
   "cell_type": "code",
   "execution_count": 56,
   "metadata": {},
   "outputs": [],
   "source": [
    "dfflagvalid,_,_=df_to_sm(df,['user_idx'],['item_idx'],'dstype_random_valid')\n",
    "\n"
   ]
  },
  {
   "cell_type": "code",
   "execution_count": 57,
   "metadata": {},
   "outputs": [
    {
     "data": {
      "text/plain": [
       "((6041, 3707), (6041, 3707), (6041, 3707))"
      ]
     },
     "execution_count": 57,
     "metadata": {},
     "output_type": "execute_result"
    }
   ],
   "source": [
    "df_ratings.shape,dfflagtrain.shape,dfflagvalid.shape"
   ]
  },
  {
   "cell_type": "code",
   "execution_count": 58,
   "metadata": {},
   "outputs": [
    {
     "data": {
      "text/plain": [
       "((6041, 3707), (6041, 3707))"
      ]
     },
     "execution_count": 58,
     "metadata": {},
     "output_type": "execute_result"
    }
   ],
   "source": [
    "df_ratings.shape,dfflagtrain.shape"
   ]
  },
  {
   "cell_type": "code",
   "execution_count": 59,
   "metadata": {},
   "outputs": [],
   "source": [
    "df_train=df_ratings.multiply(dfflagtrain)"
   ]
  },
  {
   "cell_type": "code",
   "execution_count": 60,
   "metadata": {},
   "outputs": [],
   "source": [
    "df_valid=df_ratings.multiply(dfflagvalid)"
   ]
  },
  {
   "cell_type": "code",
   "execution_count": 61,
   "metadata": {},
   "outputs": [],
   "source": [
    "import pickle"
   ]
  },
  {
   "cell_type": "code",
   "execution_count": 62,
   "metadata": {},
   "outputs": [],
   "source": [
    "pickle.dump([df,df_train,df_valid,df,df_ratings,idx_to_user,\\\n",
    "             idx_to_item,item_to_idx,user_to_idx],open(f'{DATAPATH}/reads.pkl','wb'))"
   ]
  },
  {
   "cell_type": "code",
   "execution_count": 63,
   "metadata": {},
   "outputs": [
    {
     "data": {
      "text/plain": [
       "(6040, 3706)"
      ]
     },
     "execution_count": 63,
     "metadata": {},
     "output_type": "execute_result"
    }
   ],
   "source": [
    "len(user_to_idx), len(item_to_idx)"
   ]
  },
  {
   "cell_type": "code",
   "execution_count": 64,
   "metadata": {},
   "outputs": [],
   "source": [
    "df_ratings,_,_=df_to_sm(df,['item_idx'],['user_idx'],'rating')"
   ]
  },
  {
   "cell_type": "code",
   "execution_count": 65,
   "metadata": {},
   "outputs": [
    {
     "data": {
      "text/plain": [
       "(scipy.sparse.csr.csr_matrix, (3707, 6041))"
      ]
     },
     "execution_count": 65,
     "metadata": {},
     "output_type": "execute_result"
    }
   ],
   "source": [
    "type(df_ratings), df_ratings.shape"
   ]
  },
  {
   "cell_type": "code",
   "execution_count": 66,
   "metadata": {},
   "outputs": [],
   "source": [
    "dfflagtrain,_,_=df_to_sm(df,['item_idx'],['user_idx'],'dstype_random_train')\n"
   ]
  },
  {
   "cell_type": "code",
   "execution_count": 67,
   "metadata": {},
   "outputs": [],
   "source": [
    "dfflagvalid,_,_=df_to_sm(df,['item_idx'],['user_idx'],'dstype_random_valid')\n",
    "\n"
   ]
  },
  {
   "cell_type": "code",
   "execution_count": 68,
   "metadata": {},
   "outputs": [
    {
     "data": {
      "text/plain": [
       "((3707, 6041), (3707, 6041), (3707, 6041))"
      ]
     },
     "execution_count": 68,
     "metadata": {},
     "output_type": "execute_result"
    }
   ],
   "source": [
    "df_ratings.shape,dfflagtrain.shape,dfflagvalid.shape"
   ]
  },
  {
   "cell_type": "code",
   "execution_count": 69,
   "metadata": {},
   "outputs": [],
   "source": [
    "df_train=df_ratings.multiply(dfflagtrain)"
   ]
  },
  {
   "cell_type": "code",
   "execution_count": 70,
   "metadata": {},
   "outputs": [],
   "source": [
    "df_valid=df_ratings.multiply(dfflagvalid)"
   ]
  },
  {
   "cell_type": "code",
   "execution_count": 71,
   "metadata": {},
   "outputs": [],
   "source": [
    "pickle.dump([df,df_train,df_valid,df,df_ratings,idx_to_user,\\\n",
    "             idx_to_item,item_to_idx,user_to_idx],open(f'{DATAPATH}/itemreads.pkl','wb'))"
   ]
  },
  {
   "cell_type": "code",
   "execution_count": 72,
   "metadata": {},
   "outputs": [
    {
     "name": "stdout",
     "output_type": "stream",
     "text": [
      "\u001b[0m\u001b[01;34minter\u001b[0m/  itemreads.pkl  movies.dat  ratings.dat  README  reads.pkl  users.dat\r\n"
     ]
    }
   ],
   "source": [
    "ls {DATAPATH}"
   ]
  },
  {
   "cell_type": "code",
   "execution_count": null,
   "metadata": {},
   "outputs": [],
   "source": []
  }
 ],
 "metadata": {
  "kernelspec": {
   "display_name": "Python 3",
   "language": "python",
   "name": "python3"
  },
  "language_info": {
   "codemirror_mode": {
    "name": "ipython",
    "version": 3
   },
   "file_extension": ".py",
   "mimetype": "text/x-python",
   "name": "python",
   "nbconvert_exporter": "python",
   "pygments_lexer": "ipython3",
   "version": "3.7.3"
  }
 },
 "nbformat": 4,
 "nbformat_minor": 2
}
