{
 "cells": [
  {
   "cell_type": "code",
   "execution_count": 1,
   "metadata": {},
   "outputs": [],
   "source": [
    "PATH='/home/kirana/Documents/phd/exp3_autoencoder'\n",
    "DATAPATH='/home/kirana/Documents/final_dissertation_final/experiments/datasets/ml-1m'"
   ]
  },
  {
   "cell_type": "code",
   "execution_count": 2,
   "metadata": {},
   "outputs": [],
   "source": [
    "import pandas as pd\n",
    "import numpy as np\n",
    "import os\n",
    "import datetime\n",
    "import sklearn\n",
    "import torch\n",
    "import pickle\n",
    "import matplotlib.pyplot as plt\n",
    "from torch.utils.data import Dataset, DataLoader\n",
    "from torch import nn"
   ]
  },
  {
   "cell_type": "code",
   "execution_count": 3,
   "metadata": {},
   "outputs": [],
   "source": [
    "[df, df_train,df_valid,df,df_ratings,idx_to_user,\\\n",
    "             idx_to_movie,movie_to_idx,user_to_idx]=pickle.load(open(f'{DATAPATH}/reads.pkl','rb'))"
   ]
  },
  {
   "cell_type": "markdown",
   "metadata": {},
   "source": [
    "## Dataset and DataLoader"
   ]
  },
  {
   "cell_type": "code",
   "execution_count": 4,
   "metadata": {},
   "outputs": [
    {
     "data": {
      "text/plain": [
       "((6041, 3707), (6041, 3707))"
      ]
     },
     "execution_count": 4,
     "metadata": {},
     "output_type": "execute_result"
    }
   ],
   "source": [
    "df_train.shape,df_valid.shape"
   ]
  },
  {
   "cell_type": "code",
   "execution_count": 5,
   "metadata": {},
   "outputs": [
    {
     "data": {
      "text/plain": [
       "<1x3707 sparse matrix of type '<class 'numpy.int64'>'\n",
       "\twith 95 stored elements in Compressed Sparse Row format>"
      ]
     },
     "execution_count": 5,
     "metadata": {},
     "output_type": "execute_result"
    }
   ],
   "source": [
    "df_train[1]"
   ]
  },
  {
   "cell_type": "code",
   "execution_count": 6,
   "metadata": {},
   "outputs": [
    {
     "data": {
      "text/plain": [
       "(1, 3707)"
      ]
     },
     "execution_count": 6,
     "metadata": {},
     "output_type": "execute_result"
    }
   ],
   "source": [
    "df_train[1].todense().shape"
   ]
  },
  {
   "cell_type": "code",
   "execution_count": 7,
   "metadata": {},
   "outputs": [
    {
     "data": {
      "text/plain": [
       "(3707,)"
      ]
     },
     "execution_count": 7,
     "metadata": {},
     "output_type": "execute_result"
    }
   ],
   "source": [
    "df_train[1].todense().getA1().shape"
   ]
  },
  {
   "cell_type": "code",
   "execution_count": 8,
   "metadata": {},
   "outputs": [],
   "source": [
    "class autoencdata (Dataset):\n",
    "    def __init__(self,dfX,dfXv):\n",
    "        self.dfX,self.dfXv=dfX,dfXv\n",
    "        \n",
    "    def __len__ (self):\n",
    "        return self.dfX.shape[0]\n",
    "    \n",
    "    def __getitem__ (self, idx):\n",
    "        return torch.FloatTensor(self.dfX[idx].todense().getA1()),torch.FloatTensor(self.dfXv[idx].todense().getA1())"
   ]
  },
  {
   "cell_type": "code",
   "execution_count": 9,
   "metadata": {},
   "outputs": [],
   "source": [
    "dstrain=autoencdata(df_train, df_valid)\n",
    "#dsvalid=autoencdata(df_valid)"
   ]
  },
  {
   "cell_type": "code",
   "execution_count": 10,
   "metadata": {},
   "outputs": [],
   "source": [
    "bs=8"
   ]
  },
  {
   "cell_type": "code",
   "execution_count": 11,
   "metadata": {},
   "outputs": [],
   "source": [
    "# Create a DataLoader object\n",
    "dltrain=DataLoader(dstrain,batch_size=bs,shuffle=False)\n",
    "#dlvalid=DataLoader(dsvalid,batch_size=bs,shuffle=False) "
   ]
  },
  {
   "cell_type": "code",
   "execution_count": 12,
   "metadata": {},
   "outputs": [
    {
     "data": {
      "text/plain": [
       "(0, 5)"
      ]
     },
     "execution_count": 12,
     "metadata": {},
     "output_type": "execute_result"
    }
   ],
   "source": [
    "df_train.min(),df_train.max()"
   ]
  },
  {
   "cell_type": "code",
   "execution_count": 13,
   "metadata": {},
   "outputs": [
    {
     "data": {
      "text/plain": [
       "(6041, 3707)"
      ]
     },
     "execution_count": 13,
     "metadata": {},
     "output_type": "execute_result"
    }
   ],
   "source": [
    "df_train.shape"
   ]
  },
  {
   "cell_type": "code",
   "execution_count": 14,
   "metadata": {},
   "outputs": [
    {
     "data": {
      "text/plain": [
       "756"
      ]
     },
     "execution_count": 14,
     "metadata": {},
     "output_type": "execute_result"
    }
   ],
   "source": [
    "len(dltrain)"
   ]
  },
  {
   "cell_type": "code",
   "execution_count": 15,
   "metadata": {},
   "outputs": [
    {
     "data": {
      "text/plain": [
       "(6041, 3707)"
      ]
     },
     "execution_count": 15,
     "metadata": {},
     "output_type": "execute_result"
    }
   ],
   "source": [
    "df_train.shape"
   ]
  },
  {
   "cell_type": "code",
   "execution_count": 18,
   "metadata": {},
   "outputs": [],
   "source": [
    "# 6041 users"
   ]
  },
  {
   "cell_type": "markdown",
   "metadata": {},
   "source": [
    "## Create the Model Architecture for the Encoder"
   ]
  },
  {
   "cell_type": "code",
   "execution_count": 16,
   "metadata": {},
   "outputs": [],
   "source": [
    "def hidden_layer(x,y,dropout,activation=nn.Sigmoid()):\n",
    "    return nn.Sequential(\n",
    "        nn.Linear(x, y),\n",
    "        activation,\n",
    "        nn.Dropout(p=dropout)\n",
    "        )   "
   ]
  },
  {
   "cell_type": "code",
   "execution_count": 17,
   "metadata": {},
   "outputs": [],
   "source": [
    "class autoencoder (nn.Module):    \n",
    "    def __init__(self,n_inp=9724,hidden=[50,10],dropouts=[0,0,0],rating_range=[0.5,5]):\n",
    "        super().__init__()\n",
    "        self.n_inp,self.hidden,self.dropouts,self.rating_range=n_inp,hidden,dropouts,rating_range\n",
    "        encoder=[hidden_layer(n_inp if i==0 else hidden[i-1],hidden[i],dropouts[i],\\\n",
    "                              nn.Sigmoid() if i<len(hidden)-1 else nn.Tanh()) for i in range(len(hidden))]\n",
    "        self.encoder=nn.Sequential(*encoder)\n",
    "        hidden=hidden[::-1]\n",
    "        num_steps=len(hidden)-1\n",
    "        dropouts=dropouts[num_steps:]\n",
    "        decoder=[hidden_layer(hidden[i],hidden[i+1] if i<len(hidden)-1 else n_inp,dropouts[i]) for i in range(len(hidden)-1)]\n",
    "        self.decoder=nn.Sequential(*decoder)\n",
    "        self.fc=nn.Linear(hidden[-1],n_inp)\n",
    "        self.initialize()\n",
    "        self.criterion=nn.MSELoss()\n",
    "    \n",
    "    def initialize(self):\n",
    "        for x in self.encoder:\n",
    "            nn.init.kaiming_normal_(x[0].weight.data)\n",
    "        for x in self.decoder:\n",
    "            nn.init.kaiming_normal_(x[0].weight.data)\n",
    "\n",
    "    def forward (self,Xb):\n",
    "        encoded=self.encoder(Xb)\n",
    "        decoded=self.decoder(encoded)\n",
    "        out=self.fc(decoded)\n",
    "        outv=out.clone()\n",
    "        out[Xb==0]=0\n",
    "        loss=self.criterion(out,Xb)\n",
    "        return outv,loss, out"
   ]
  },
  {
   "cell_type": "code",
   "execution_count": 19,
   "metadata": {},
   "outputs": [],
   "source": [
    "n_final_user=10 # 3 for IMDB"
   ]
  },
  {
   "cell_type": "code",
   "execution_count": 20,
   "metadata": {},
   "outputs": [],
   "source": [
    "autoenc=autoencoder(df_train.shape[1],[n_final_user*4,n_final_user],[0,0,0])"
   ]
  },
  {
   "cell_type": "code",
   "execution_count": 21,
   "metadata": {},
   "outputs": [
    {
     "data": {
      "text/plain": [
       "autoencoder(\n",
       "  (encoder): Sequential(\n",
       "    (0): Sequential(\n",
       "      (0): Linear(in_features=3707, out_features=40, bias=True)\n",
       "      (1): Sigmoid()\n",
       "      (2): Dropout(p=0)\n",
       "    )\n",
       "    (1): Sequential(\n",
       "      (0): Linear(in_features=40, out_features=10, bias=True)\n",
       "      (1): Tanh()\n",
       "      (2): Dropout(p=0)\n",
       "    )\n",
       "  )\n",
       "  (decoder): Sequential(\n",
       "    (0): Sequential(\n",
       "      (0): Linear(in_features=10, out_features=40, bias=True)\n",
       "      (1): Sigmoid()\n",
       "      (2): Dropout(p=0)\n",
       "    )\n",
       "  )\n",
       "  (fc): Linear(in_features=40, out_features=3707, bias=True)\n",
       "  (criterion): MSELoss()\n",
       ")"
      ]
     },
     "execution_count": 21,
     "metadata": {},
     "output_type": "execute_result"
    }
   ],
   "source": [
    "autoenc"
   ]
  },
  {
   "cell_type": "code",
   "execution_count": 22,
   "metadata": {},
   "outputs": [
    {
     "name": "stdout",
     "output_type": "stream",
     "text": [
      "tensor([[4., 0., 0.,  ..., 0., 0., 0.],\n",
      "        [0., 2., 0.,  ..., 0., 0., 0.],\n",
      "        [0., 0., 3.,  ..., 0., 0., 0.],\n",
      "        ...,\n",
      "        [0., 0., 0.,  ..., 0., 0., 0.],\n",
      "        [0., 0., 3.,  ..., 0., 0., 0.],\n",
      "        [0., 0., 0.,  ..., 0., 0., 0.]])\n"
     ]
    }
   ],
   "source": [
    "for Xb,Xb_v in dltrain:\n",
    "    print (Xb)\n",
    "    break"
   ]
  },
  {
   "cell_type": "code",
   "execution_count": 23,
   "metadata": {},
   "outputs": [
    {
     "data": {
      "text/plain": [
       "torch.Size([8, 3707])"
      ]
     },
     "execution_count": 23,
     "metadata": {},
     "output_type": "execute_result"
    }
   ],
   "source": [
    "Xb.size()"
   ]
  },
  {
   "cell_type": "code",
   "execution_count": 24,
   "metadata": {},
   "outputs": [
    {
     "data": {
      "text/plain": [
       "tensor([[4., 0., 0.,  ..., 0., 0., 0.],\n",
       "        [0., 2., 0.,  ..., 0., 0., 0.],\n",
       "        [0., 0., 3.,  ..., 0., 0., 0.],\n",
       "        ...,\n",
       "        [0., 0., 0.,  ..., 0., 0., 0.],\n",
       "        [0., 0., 3.,  ..., 0., 0., 0.],\n",
       "        [0., 0., 0.,  ..., 0., 0., 0.]])"
      ]
     },
     "execution_count": 24,
     "metadata": {},
     "output_type": "execute_result"
    }
   ],
   "source": [
    "Xb.squeeze(0)"
   ]
  },
  {
   "cell_type": "code",
   "execution_count": 25,
   "metadata": {},
   "outputs": [],
   "source": [
    "preds,loss,_=autoenc.forward(Xb)"
   ]
  },
  {
   "cell_type": "code",
   "execution_count": 26,
   "metadata": {},
   "outputs": [],
   "source": [
    "loss.backward()"
   ]
  },
  {
   "cell_type": "code",
   "execution_count": 27,
   "metadata": {},
   "outputs": [
    {
     "data": {
      "text/plain": [
       "torch.Size([8, 3707])"
      ]
     },
     "execution_count": 27,
     "metadata": {},
     "output_type": "execute_result"
    }
   ],
   "source": [
    "preds.size()"
   ]
  },
  {
   "cell_type": "code",
   "execution_count": 28,
   "metadata": {},
   "outputs": [
    {
     "data": {
      "text/plain": [
       "torch.nn.modules.loss.MSELoss"
      ]
     },
     "execution_count": 28,
     "metadata": {},
     "output_type": "execute_result"
    }
   ],
   "source": [
    "nn.MSELoss"
   ]
  },
  {
   "cell_type": "code",
   "execution_count": 29,
   "metadata": {},
   "outputs": [],
   "source": [
    "device=\"cuda:1\""
   ]
  },
  {
   "cell_type": "code",
   "execution_count": 30,
   "metadata": {},
   "outputs": [],
   "source": [
    "wd=1e-4\n",
    "#wd=1e-1"
   ]
  },
  {
   "cell_type": "code",
   "execution_count": 31,
   "metadata": {},
   "outputs": [],
   "source": [
    "optimizer=torch.optim.Adam(autoenc.parameters(),lr=5e-3,betas=(0.9,0.999), weight_decay=wd)\n",
    "#optimizer=torch.optim.SGD(model_sentiment.parameters(),lr=1e-2,momentum=0.9, weight_decay=wd)\n",
    "metric_fn=None"
   ]
  },
  {
   "cell_type": "code",
   "execution_count": 32,
   "metadata": {},
   "outputs": [
    {
     "data": {
      "text/plain": [
       "756"
      ]
     },
     "execution_count": 32,
     "metadata": {},
     "output_type": "execute_result"
    }
   ],
   "source": [
    "len(dltrain)"
   ]
  },
  {
   "cell_type": "code",
   "execution_count": 33,
   "metadata": {},
   "outputs": [],
   "source": [
    "import matplotlib.pyplot as plt"
   ]
  },
  {
   "cell_type": "code",
   "execution_count": 34,
   "metadata": {},
   "outputs": [
    {
     "data": {
      "text/plain": [
       "8"
      ]
     },
     "execution_count": 34,
     "metadata": {},
     "output_type": "execute_result"
    }
   ],
   "source": [
    "dltrain.batch_size"
   ]
  },
  {
   "cell_type": "code",
   "execution_count": 35,
   "metadata": {},
   "outputs": [],
   "source": [
    "class Learner():\n",
    "    def __init__(self,model,optimizer,metric_fn,device,bptt=12,print_every=5,clip_val=None,\\\n",
    "                 cycle_mult=0,lr_decay=0.7,wd_mult=6,start_lr=2e-2, end_lr=5e-4):\n",
    "        self.model,self.optimizer,self.metric_fn,self.device,self.print_every,self.bptt,self.losses,self.clip_val=\\\n",
    "            model,optimizer,metric_fn,device,print_every,bptt,[],clip_val\n",
    "        self.n_epochs=1\n",
    "        self.cycle_mult,self.lr_decay=cycle_mult,lr_decay\n",
    "        self.wd_mult=wd_mult\n",
    "        for param_group in self.optimizer.param_groups:\n",
    "            self.start_lr=param_group['lr']\n",
    "            self.start_wd=param_group['weight_decay']\n",
    "        self.wd=self.start_wd\n",
    "        self.lr=self.start_lr\n",
    "        self.end_lr=end_lr\n",
    "        self.n_epoch=0\n",
    "        self.lrs=[1e-2,5e-3,1e-4,5e-4]\n",
    "        self.preds,self.preds_valid,self.trainY,self.actual=[],[],[],[]\n",
    "        self.ratio=self.end_lr/self.start_lr\n",
    "        self.num_steps=self.cycle_mult\n",
    "        self.reset_cycle=self.cycle_mult\n",
    "        \n",
    "    def fit (self,Xb,Xb_v,mode_train=True):\n",
    "        if mode_train:\n",
    "            self.model.train()\n",
    "        else:\n",
    "            self.model.eval()\n",
    "        \n",
    "        #import pdb\n",
    "        #pdb.set_trace()\n",
    "        preds,loss,preds_train=self.model(Xb)\n",
    "        # denominator is the average of the error with non-zero ratings\n",
    "\n",
    "        mean_corrector = Xb.size(0)*Xb.size(1)/(torch.sum(Xb > 0).float() + 1e-10)\n",
    "        mean_corrector_v = Xb_v.size(0)*Xb_v.size(1)/(torch.sum(Xb_v > 0).float() + 1e-10)\n",
    "\n",
    "        with torch.no_grad():\n",
    "            \n",
    "            preds[Xb_v==0]=0\n",
    "            loss_v=self.model.criterion(preds,Xb_v)\n",
    "            \n",
    "            if self.metric_fn is not None:\n",
    "                acc=self.metric_fn(preds,Yb.view(-1),self.device)\n",
    "                acc=acc.item()\n",
    "\n",
    "                if 1==0:\n",
    "                    if mode_train:\n",
    "                        self.trainY.append(Yb.view(-1))\n",
    "                        self.preds.append(preds.data)\n",
    "                    else:\n",
    "                        self.actual.append(Yb.view(-1))\n",
    "                        self.preds_valid.append(preds.data)\n",
    "            else:\n",
    "                acc=0\n",
    "                acc_v=0\n",
    "            del preds\n",
    "        \n",
    "        if mode_train:\n",
    "            if 1==0:\n",
    "                lr =self.lrs[torch.randint(0,4,(1,))]\n",
    "                for param_group in self.optimizer.param_groups:\n",
    "                    param_group['lr']=lr\n",
    "            \n",
    "            self.optimizer.zero_grad()\n",
    "            loss.backward()\n",
    "            self.optimizer.step()\n",
    "        myloss=torch.sqrt(loss.item()*mean_corrector)\n",
    "        myloss_v=torch.sqrt(loss_v.item()*mean_corrector_v)\n",
    "        del loss\n",
    "        \n",
    "        if self.clip_val is not None:\n",
    "            torch.nn.utils.clip_grad_norm_(self.model.parameters(), self.clip_val)\n",
    "        \n",
    "        return myloss, acc,myloss_v,acc_v\n",
    "    \n",
    "    def lr_find (self,start_lr,end_lr,iterator,n_batch):\n",
    "        losses,lrs=[],[]\n",
    "        ratio=end_lr/start_lr\n",
    "        num_steps=n_batch\n",
    "        lr=start_lr\n",
    "        for i in range(num_steps):            \n",
    "            lr=lr*(end_lr/start_lr)**(1/num_steps)\n",
    "            lrs.append(lr)\n",
    "        self.lrs=lrs\n",
    "        self.run_epoch(iterator,mode_train=True,lrs=lrs)\n",
    "    \n",
    "    def run_epoch(self,iterator,mode_train,lrs=None):\n",
    "        epoch_loss,epoch_acc,i,k=0,0,0,0\n",
    "        epoch_loss_v,epoch_acc_v=0,0\n",
    "\n",
    "        for Xb,Xb_v in iterator:\n",
    "            Xb=Xb.to(self.device)\n",
    "            Xb_v=Xb_v.to(self.device)\n",
    "            #Xb=Xb.squeeze(0)\n",
    "            if lrs is not None:\n",
    "                lr=lrs[k]\n",
    "                for param_group in self.optimizer.param_groups:\n",
    "                    param_group['lr']=lr \n",
    "            \n",
    "\n",
    "            loss,acc,loss_v,acc_v=self.fit(Xb,Xb_v,mode_train)\n",
    "            \n",
    "            if lrs is not None:\n",
    "                self.losses.append(loss)\n",
    "            \n",
    "            epoch_loss+=loss\n",
    "            epoch_acc+=acc\n",
    "            epoch_loss_v+=loss_v\n",
    "            epoch_acc_v+=acc_v\n",
    "            \n",
    "            k=k+1\n",
    "            if k%self.print_every == 0:\n",
    "                if k:\n",
    "                    print (f'Batch:{k} {epoch_loss/(k)} {epoch_loss_v/(k)} ')  \n",
    "                    torch.cuda.empty_cache()\n",
    "        epoch_loss=epoch_loss/len(iterator)\n",
    "        epoch_acc=epoch_acc/len(iterator)\n",
    "        epoch_loss_v=epoch_loss_v/len(iterator)\n",
    "        epoch_acc_v=epoch_acc_v/len(iterator)\n",
    "            \n",
    "        return epoch_loss,epoch_acc,epoch_loss_v,epoch_acc_v\n",
    "    \n",
    "    def plot_lrs(self, n_roll=1,ylim=None,xlim=None):\n",
    "        import seaborn as sns\n",
    "        ax=sns.lineplot(x=self.lrs,y=pd.Series(self.losses).rolling(n_roll).mean())\n",
    "        ax.set_xscale('log')\n",
    "        ax.set_ylabel('Loss')\n",
    "        ax.set_xlabel('Learning Rate')\n",
    "        if ylim is not None:\n",
    "            plt.ylim(ylim)\n",
    "        if xlim is not None:\n",
    "            plt.xlim(xlim)\n",
    "\n",
    "     \n",
    "    def run_epochs(self,dltrain,dlvalid,n_epochs=1):\n",
    "        \n",
    "        \n",
    "            \n",
    "        \n",
    "        for epoch in range(n_epochs):                \n",
    "\n",
    "            loss,acc,lossv,accv=self.run_epoch(dltrain,True)\n",
    "            print (f'Epoch:{epoch} Learning rate {self.lr} Weight Decay {self.wd} Train Loss:{loss}  Valid Loss:{lossv} ')\n",
    "  \n",
    "            if self.cycle_mult:\n",
    "                if self.n_epoch==self.reset_cycle:\n",
    "                    self.lr=self.start_lr\n",
    "                    #self.wd=self.start_wd\n",
    "                    self.reset_cycle*=self.cycle_mult\n",
    "                    #reset_cycle=self.n_epoch+reset_cycle\n",
    "                    self.n_epoch=0\n",
    "                    self.ratio=self.end_lr/self.start_lr\n",
    "                    self.num_steps=self.reset_cycle\n",
    "                else:\n",
    "                    #self.lr*=(self.lr_decay**self.n_epoch)  \n",
    "                    #if self.n_epoch>1:\n",
    "                    #    self.wd*=self.wd_mult\n",
    "                    self.lr=self.lr*(self.end_lr/self.start_lr)**(1/self.num_steps)\n",
    "                    self.n_epoch+=1\n",
    "        \n",
    "\n",
    "                \n",
    "            for param_group in self.optimizer.param_groups:\n",
    "                param_group['lr']=self.lr\n",
    "                #param_group['weight_decay']=self.wd\n",
    "          \n",
    "     "
   ]
  },
  {
   "cell_type": "code",
   "execution_count": 36,
   "metadata": {},
   "outputs": [
    {
     "data": {
      "text/plain": [
       "autoencoder(\n",
       "  (encoder): Sequential(\n",
       "    (0): Sequential(\n",
       "      (0): Linear(in_features=3707, out_features=40, bias=True)\n",
       "      (1): Sigmoid()\n",
       "      (2): Dropout(p=0)\n",
       "    )\n",
       "    (1): Sequential(\n",
       "      (0): Linear(in_features=40, out_features=10, bias=True)\n",
       "      (1): Tanh()\n",
       "      (2): Dropout(p=0)\n",
       "    )\n",
       "  )\n",
       "  (decoder): Sequential(\n",
       "    (0): Sequential(\n",
       "      (0): Linear(in_features=10, out_features=40, bias=True)\n",
       "      (1): Sigmoid()\n",
       "      (2): Dropout(p=0)\n",
       "    )\n",
       "  )\n",
       "  (fc): Linear(in_features=40, out_features=3707, bias=True)\n",
       "  (criterion): MSELoss()\n",
       ")"
      ]
     },
     "execution_count": 36,
     "metadata": {},
     "output_type": "execute_result"
    }
   ],
   "source": [
    "autoenc"
   ]
  },
  {
   "cell_type": "code",
   "execution_count": 37,
   "metadata": {},
   "outputs": [],
   "source": [
    "autoenc=autoencoder(df_train.shape[1],[n_final_user*4,n_final_user],[0.2,0.2,0]).to(device)\n",
    "wd=1e-7\n",
    "optimizer=torch.optim.Adam(autoenc.parameters(),lr=5e-3,betas=(0.9,0.999), weight_decay=wd)"
   ]
  },
  {
   "cell_type": "code",
   "execution_count": 38,
   "metadata": {},
   "outputs": [],
   "source": [
    "learner=Learner(autoenc,optimizer,None,device,0,500,0.25,cycle_mult=0)"
   ]
  },
  {
   "cell_type": "code",
   "execution_count": 39,
   "metadata": {},
   "outputs": [
    {
     "data": {
      "text/plain": [
       "autoencoder(\n",
       "  (encoder): Sequential(\n",
       "    (0): Sequential(\n",
       "      (0): Linear(in_features=3707, out_features=40, bias=True)\n",
       "      (1): Sigmoid()\n",
       "      (2): Dropout(p=0.2)\n",
       "    )\n",
       "    (1): Sequential(\n",
       "      (0): Linear(in_features=40, out_features=10, bias=True)\n",
       "      (1): Tanh()\n",
       "      (2): Dropout(p=0.2)\n",
       "    )\n",
       "  )\n",
       "  (decoder): Sequential(\n",
       "    (0): Sequential(\n",
       "      (0): Linear(in_features=10, out_features=40, bias=True)\n",
       "      (1): Sigmoid()\n",
       "      (2): Dropout(p=0.2)\n",
       "    )\n",
       "  )\n",
       "  (fc): Linear(in_features=40, out_features=3707, bias=True)\n",
       "  (criterion): MSELoss()\n",
       ")"
      ]
     },
     "execution_count": 39,
     "metadata": {},
     "output_type": "execute_result"
    }
   ],
   "source": [
    "autoenc"
   ]
  },
  {
   "cell_type": "code",
   "execution_count": 40,
   "metadata": {},
   "outputs": [
    {
     "data": {
      "text/plain": [
       "(756, 8)"
      ]
     },
     "execution_count": 40,
     "metadata": {},
     "output_type": "execute_result"
    }
   ],
   "source": [
    "len(dltrain),dltrain.batch_size"
   ]
  },
  {
   "cell_type": "code",
   "execution_count": 41,
   "metadata": {},
   "outputs": [
    {
     "name": "stdout",
     "output_type": "stream",
     "text": [
      "Batch:500 2.1489453315734863 2.145568370819092 \n"
     ]
    }
   ],
   "source": [
    "learner.lr_find(1e-4,3e-1,dltrain,len(dltrain))"
   ]
  },
  {
   "cell_type": "code",
   "execution_count": 42,
   "metadata": {},
   "outputs": [
    {
     "data": {
      "image/png": "[encoded data removed]",
      "text/plain": [
       "<Figure size 432x288 with 1 Axes>"
      ]
     },
     "metadata": {
      "needs_background": "light"
     },
     "output_type": "display_data"
    }
   ],
   "source": [
    "learner.plot_lrs(10)"
   ]
  },
  {
   "cell_type": "code",
   "execution_count": 43,
   "metadata": {},
   "outputs": [
    {
     "data": {
      "image/png": "[encoded data removed]",
      "text/plain": [
       "<Figure size 432x288 with 1 Axes>"
      ]
     },
     "metadata": {
      "needs_background": "light"
     },
     "output_type": "display_data"
    }
   ],
   "source": [
    "learner.plot_lrs(1)"
   ]
  },
  {
   "cell_type": "code",
   "execution_count": 44,
   "metadata": {},
   "outputs": [],
   "source": [
    "del autoenc\n",
    "torch.cuda.empty_cache()"
   ]
  },
  {
   "cell_type": "code",
   "execution_count": 45,
   "metadata": {},
   "outputs": [],
   "source": [
    "autoenc=autoencoder(df_train.shape[1],[n_final_user*4,n_final_user],[0.2,0.2,0]).to(device)\n",
    "wd=1e-7\n",
    "optimizer=torch.optim.Adam(autoenc.parameters(),lr=1e-3,betas=(0.9,0.999), weight_decay=wd)\n",
    "learner=Learner(autoenc,optimizer,None,device,0,1000,0.25,cycle_mult=0,start_lr=1e-1,end_lr=5e-2)"
   ]
  },
  {
   "cell_type": "code",
   "execution_count": 46,
   "metadata": {},
   "outputs": [
    {
     "name": "stdout",
     "output_type": "stream",
     "text": [
      "Epoch:0 Learning rate 0.001 Weight Decay 1e-07 Train Loss:1.3733470439910889  Valid Loss:1.361444354057312 \n",
      "Epoch:1 Learning rate 0.001 Weight Decay 1e-07 Train Loss:1.0656039714813232  Valid Loss:1.0572052001953125 \n",
      "Epoch:2 Learning rate 0.001 Weight Decay 1e-07 Train Loss:1.0520453453063965  Valid Loss:1.0428134202957153 \n",
      "Epoch:3 Learning rate 0.001 Weight Decay 1e-07 Train Loss:1.0470517873764038  Valid Loss:1.0405282974243164 \n",
      "Epoch:4 Learning rate 0.001 Weight Decay 1e-07 Train Loss:1.0406324863433838  Valid Loss:1.033848762512207 \n"
     ]
    }
   ],
   "source": [
    "learner.run_epochs(dltrain,None,5)"
   ]
  },
  {
   "cell_type": "code",
   "execution_count": 47,
   "metadata": {},
   "outputs": [
    {
     "name": "stderr",
     "output_type": "stream",
     "text": [
      "/home/kirana/anaconda3/lib/python3.7/site-packages/torch/serialization.py:256: UserWarning: Couldn't retrieve source code for container of type autoencoder. It won't be checked for correctness upon loading.\n",
      "  \"type \" + obj.__name__ + \". It won't be checked \"\n",
      "/home/kirana/anaconda3/lib/python3.7/site-packages/torch/serialization.py:256: UserWarning: Couldn't retrieve source code for container of type autoencoder. It won't be checked for correctness upon loading.\n",
      "  \"type \" + obj.__name__ + \". It won't be checked \"\n"
     ]
    }
   ],
   "source": [
    "torch.save(autoenc,f=f'{DATAPATH}/inter/user_autoenc')\n",
    "torch.save(learner,f=f'{DATAPATH}/inter/user_autoenc_learner')\n",
    "torch.save(optimizer,f=f'{DATAPATH}/inter/user_autoenc_optimizer')\n",
    "torch.save(autoenc.state_dict(),f'{DATAPATH}/inter/user_autoenc_state_dict')\n",
    "torch.save(optimizer.state_dict(),f'{DATAPATH}/inter/user_autoenc_optimizer_state_dict')"
   ]
  },
  {
   "cell_type": "code",
   "execution_count": 48,
   "metadata": {},
   "outputs": [],
   "source": [
    "wd=1e-7\n",
    "optimizer=torch.optim.Adam(autoenc.parameters(),lr=5e-3,betas=(0.9,0.999), weight_decay=wd)\n",
    "learner=Learner(autoenc,optimizer,None,device,0,1000,0.25,cycle_mult=2,start_lr=1e-3,end_lr=1e-4)"
   ]
  },
  {
   "cell_type": "code",
   "execution_count": 49,
   "metadata": {},
   "outputs": [
    {
     "name": "stdout",
     "output_type": "stream",
     "text": [
      "Epoch:0 Learning rate 0.005 Weight Decay 1e-07 Train Loss:1.067874789237976  Valid Loss:1.0604629516601562 \n",
      "Epoch:1 Learning rate 0.0007071067811865475 Weight Decay 1e-07 Train Loss:1.0256401300430298  Valid Loss:1.0193865299224854 \n",
      "Epoch:2 Learning rate 9.999999999999999e-05 Weight Decay 1e-07 Train Loss:1.0176974534988403  Valid Loss:1.0166035890579224 \n",
      "Epoch:3 Learning rate 0.005 Weight Decay 1e-07 Train Loss:1.0530714988708496  Valid Loss:1.0457947254180908 \n",
      "Epoch:4 Learning rate 0.001880301546543197 Weight Decay 1e-07 Train Loss:1.0224027633666992  Valid Loss:1.0183391571044922 \n",
      "Epoch:5 Learning rate 0.0007071067811865476 Weight Decay 1e-07 Train Loss:1.0100343227386475  Valid Loss:1.005719780921936 \n",
      "Epoch:6 Learning rate 0.0002659147948472495 Weight Decay 1e-07 Train Loss:1.004396677017212  Valid Loss:1.0029422044754028 \n",
      "Epoch:7 Learning rate 0.00010000000000000003 Weight Decay 1e-07 Train Loss:1.003002405166626  Valid Loss:1.0013680458068848 \n",
      "Epoch:8 Learning rate 0.005 Weight Decay 1e-07 Train Loss:1.0463669300079346  Valid Loss:1.0396877527236938 \n",
      "Epoch:9 Learning rate 0.00306618781758652 Weight Decay 1e-07 Train Loss:1.0222097635269165  Valid Loss:1.0182483196258545 \n",
      "Epoch:10 Learning rate 0.0018803015465431972 Weight Decay 1e-07 Train Loss:1.0129059553146362  Valid Loss:1.0094267129898071 \n",
      "Epoch:11 Learning rate 0.0011530715390799687 Weight Decay 1e-07 Train Loss:1.004284381866455  Valid Loss:1.0010496377944946 \n",
      "Epoch:12 Learning rate 0.0007071067811865477 Weight Decay 1e-07 Train Loss:0.9969900846481323  Valid Loss:0.9953377842903137 \n",
      "Epoch:13 Learning rate 0.0004336244396414019 Weight Decay 1e-07 Train Loss:0.9927621483802795  Valid Loss:0.9896842837333679 \n",
      "Epoch:14 Learning rate 0.00026591479484724956 Weight Decay 1e-07 Train Loss:0.9862263798713684  Valid Loss:0.9886428117752075 \n"
     ]
    }
   ],
   "source": [
    "learner.run_epochs(dltrain,None,15)"
   ]
  },
  {
   "cell_type": "code",
   "execution_count": 50,
   "metadata": {},
   "outputs": [
    {
     "name": "stdout",
     "output_type": "stream",
     "text": [
      "Epoch:0 Learning rate 0.00016306894089533107 Weight Decay 1e-07 Train Loss:0.9856678247451782  Valid Loss:0.9848763942718506 \n",
      "Epoch:1 Learning rate 0.00010000000000000007 Weight Decay 1e-07 Train Loss:0.9835518598556519  Valid Loss:0.9857105612754822 \n",
      "Epoch:2 Learning rate 0.005 Weight Decay 1e-07 Train Loss:1.0321764945983887  Valid Loss:1.0261956453323364 \n",
      "Epoch:3 Learning rate 0.003915474312000093 Weight Decay 1e-07 Train Loss:1.0163992643356323  Valid Loss:1.0137494802474976 \n",
      "Epoch:4 Learning rate 0.0030661878175865195 Weight Decay 1e-07 Train Loss:1.0065451860427856  Valid Loss:1.0034610033035278 \n",
      "Epoch:5 Learning rate 0.0024011159271055283 Weight Decay 1e-07 Train Loss:0.9978454113006592  Valid Loss:0.9954686760902405 \n",
      "Epoch:6 Learning rate 0.0018803015465431964 Weight Decay 1e-07 Train Loss:0.9913275837898254  Valid Loss:0.9895416498184204 \n",
      "Epoch:7 Learning rate 0.0014724544808607863 Weight Decay 1e-07 Train Loss:0.9878281950950623  Valid Loss:0.9891547560691833 \n",
      "Epoch:8 Learning rate 0.001153071539079968 Weight Decay 1e-07 Train Loss:0.9804431796073914  Valid Loss:0.984119713306427 \n",
      "Epoch:9 Learning rate 0.0009029643982332051 Weight Decay 1e-07 Train Loss:0.9814552068710327  Valid Loss:0.9830285906791687 \n",
      "Epoch:10 Learning rate 0.0007071067811865472 Weight Decay 1e-07 Train Loss:0.9745734333992004  Valid Loss:0.9763082265853882 \n",
      "Epoch:11 Learning rate 0.0005537316875153991 Weight Decay 1e-07 Train Loss:0.9684838652610779  Valid Loss:0.9699022769927979 \n",
      "Epoch:12 Learning rate 0.0004336244396414015 Weight Decay 1e-07 Train Loss:0.9692192673683167  Valid Loss:0.9737740159034729 \n",
      "Epoch:13 Learning rate 0.0003395690708942684 Weight Decay 1e-07 Train Loss:0.9678568243980408  Valid Loss:0.9701932668685913 \n",
      "Epoch:14 Learning rate 0.00026591479484724923 Weight Decay 1e-07 Train Loss:0.9663150310516357  Valid Loss:0.9708746671676636 \n"
     ]
    }
   ],
   "source": [
    "learner.run_epochs(dltrain,None,15)"
   ]
  },
  {
   "cell_type": "code",
   "execution_count": 69,
   "metadata": {},
   "outputs": [],
   "source": [
    "wd=1e-7\n",
    "optimizer=torch.optim.Adam(autoenc.parameters(),lr=7e-3,betas=(0.9,0.999), weight_decay=wd)\n",
    "learner=Learner(autoenc,optimizer,None,device,0,1000,0.25,cycle_mult=2,start_lr=1e-3,end_lr=1e-4)"
   ]
  },
  {
   "cell_type": "code",
   "execution_count": 70,
   "metadata": {},
   "outputs": [
    {
     "name": "stdout",
     "output_type": "stream",
     "text": [
      "Epoch:0 Learning rate 0.007 Weight Decay 1e-07 Train Loss:1.014534592628479  Valid Loss:1.0099493265151978 \n",
      "Epoch:1 Learning rate 0.0008366600265340755 Weight Decay 1e-07 Train Loss:0.9800724983215332  Valid Loss:0.98431396484375 \n",
      "Epoch:2 Learning rate 9.999999999999999e-05 Weight Decay 1e-07 Train Loss:0.9691317677497864  Valid Loss:0.9748996496200562 \n",
      "Epoch:3 Learning rate 0.007 Weight Decay 1e-07 Train Loss:1.019723653793335  Valid Loss:1.0162816047668457 \n",
      "Epoch:4 Learning rate 0.002420045492493587 Weight Decay 1e-07 Train Loss:0.9862945079803467  Valid Loss:0.9842365384101868 \n",
      "Epoch:5 Learning rate 0.0008366600265340755 Weight Decay 1e-07 Train Loss:0.9779545068740845  Valid Loss:0.9793186783790588 \n",
      "Epoch:6 Learning rate 0.00028925076085190775 Weight Decay 1e-07 Train Loss:0.9691609144210815  Valid Loss:0.9725767970085144 \n",
      "Epoch:7 Learning rate 9.999999999999998e-05 Weight Decay 1e-07 Train Loss:0.9691472053527832  Valid Loss:0.9714539051055908 \n",
      "Epoch:8 Learning rate 0.007 Weight Decay 1e-07 Train Loss:1.0108370780944824  Valid Loss:1.007352590560913 \n",
      "Epoch:9 Learning rate 0.004115861811025136 Weight Decay 1e-07 Train Loss:0.9924628734588623  Valid Loss:0.9887917637825012 \n",
      "Epoch:10 Learning rate 0.002420045492493587 Weight Decay 1e-07 Train Loss:0.9832357168197632  Valid Loss:0.9815642833709717 \n",
      "Epoch:11 Learning rate 0.0014229389747854103 Weight Decay 1e-07 Train Loss:0.976145327091217  Valid Loss:0.9756314158439636 \n",
      "Epoch:12 Learning rate 0.0008366600265340755 Weight Decay 1e-07 Train Loss:0.9671310782432556  Valid Loss:0.9682064056396484 \n",
      "Epoch:13 Learning rate 0.0004919395788604112 Weight Decay 1e-07 Train Loss:0.9652619361877441  Valid Loss:0.9675124883651733 \n",
      "Epoch:14 Learning rate 0.00028925076085190775 Weight Decay 1e-07 Train Loss:0.9612504839897156  Valid Loss:0.9654156565666199 \n"
     ]
    }
   ],
   "source": [
    "learner.run_epochs(dltrain,None,15)"
   ]
  },
  {
   "cell_type": "code",
   "execution_count": 90,
   "metadata": {},
   "outputs": [],
   "source": [
    "wd=1e-7\n",
    "optimizer=torch.optim.Adam(autoenc.parameters(),lr=7e-3,betas=(0.9,0.999), weight_decay=wd)\n",
    "learner=Learner(autoenc,optimizer,None,device,0,1000,0.25,cycle_mult=2,start_lr=1e-3,end_lr=1e-4)"
   ]
  },
  {
   "cell_type": "code",
   "execution_count": 91,
   "metadata": {},
   "outputs": [
    {
     "name": "stdout",
     "output_type": "stream",
     "text": [
      "Epoch:0 Learning rate 0.007 Weight Decay 1e-07 Train Loss:0.9962260723114014  Valid Loss:0.9930718541145325 \n",
      "Epoch:1 Learning rate 0.0008366600265340755 Weight Decay 1e-07 Train Loss:0.9694306254386902  Valid Loss:0.970668613910675 \n",
      "Epoch:2 Learning rate 9.999999999999999e-05 Weight Decay 1e-07 Train Loss:0.9603362679481506  Valid Loss:0.9667327404022217 \n",
      "Epoch:3 Learning rate 0.007 Weight Decay 1e-07 Train Loss:1.0011976957321167  Valid Loss:0.9964554309844971 \n",
      "Epoch:4 Learning rate 0.002420045492493587 Weight Decay 1e-07 Train Loss:0.9785411953926086  Valid Loss:0.975578248500824 \n",
      "Epoch:5 Learning rate 0.0008366600265340755 Weight Decay 1e-07 Train Loss:0.9674917459487915  Valid Loss:0.9682424664497375 \n",
      "Epoch:6 Learning rate 0.00028925076085190775 Weight Decay 1e-07 Train Loss:0.9630109667778015  Valid Loss:0.9662908315658569 \n",
      "Epoch:7 Learning rate 9.999999999999998e-05 Weight Decay 1e-07 Train Loss:0.9600619077682495  Valid Loss:0.9630070328712463 \n",
      "Epoch:8 Learning rate 0.007 Weight Decay 1e-07 Train Loss:0.9956522583961487  Valid Loss:0.9929013252258301 \n",
      "Epoch:9 Learning rate 0.004115861811025136 Weight Decay 1e-07 Train Loss:0.9789999127388  Valid Loss:0.9775087833404541 \n",
      "Epoch:10 Learning rate 0.002420045492493587 Weight Decay 1e-07 Train Loss:0.9699971675872803  Valid Loss:0.9696567058563232 \n",
      "Epoch:11 Learning rate 0.0014229389747854103 Weight Decay 1e-07 Train Loss:0.9641075134277344  Valid Loss:0.9646532535552979 \n",
      "Epoch:12 Learning rate 0.0008366600265340755 Weight Decay 1e-07 Train Loss:0.9594428539276123  Valid Loss:0.9630962014198303 \n",
      "Epoch:13 Learning rate 0.0004919395788604112 Weight Decay 1e-07 Train Loss:0.9555771350860596  Valid Loss:0.9598187208175659 \n",
      "Epoch:14 Learning rate 0.00028925076085190775 Weight Decay 1e-07 Train Loss:0.9544541835784912  Valid Loss:0.9602270722389221 \n"
     ]
    }
   ],
   "source": [
    "learner.run_epochs(dltrain,None,15)"
   ]
  },
  {
   "cell_type": "code",
   "execution_count": 111,
   "metadata": {},
   "outputs": [],
   "source": [
    "wd=1e-7\n",
    "optimizer=torch.optim.Adam(autoenc.parameters(),lr=7e-3,betas=(0.9,0.999), weight_decay=wd)\n",
    "learner=Learner(autoenc,optimizer,None,device,0,1000,0.25,cycle_mult=2,start_lr=1e-3,end_lr=1e-4)"
   ]
  },
  {
   "cell_type": "code",
   "execution_count": 112,
   "metadata": {},
   "outputs": [
    {
     "name": "stdout",
     "output_type": "stream",
     "text": [
      "Epoch:0 Learning rate 0.007 Weight Decay 1e-07 Train Loss:0.9842410087585449  Valid Loss:0.9815970063209534 \n",
      "Epoch:1 Learning rate 0.0008366600265340755 Weight Decay 1e-07 Train Loss:0.9625755548477173  Valid Loss:0.9650456309318542 \n",
      "Epoch:2 Learning rate 9.999999999999999e-05 Weight Decay 1e-07 Train Loss:0.953765869140625  Valid Loss:0.9600443840026855 \n",
      "Epoch:3 Learning rate 0.007 Weight Decay 1e-07 Train Loss:0.9877318739891052  Valid Loss:0.9855458736419678 \n",
      "Epoch:4 Learning rate 0.002420045492493587 Weight Decay 1e-07 Train Loss:0.9677737355232239  Valid Loss:0.9693528413772583 \n",
      "Epoch:5 Learning rate 0.0008366600265340755 Weight Decay 1e-07 Train Loss:0.9587344527244568  Valid Loss:0.9619570374488831 \n",
      "Epoch:6 Learning rate 0.00028925076085190775 Weight Decay 1e-07 Train Loss:0.9543163776397705  Valid Loss:0.9590857625007629 \n",
      "Epoch:7 Learning rate 9.999999999999998e-05 Weight Decay 1e-07 Train Loss:0.9515522122383118  Valid Loss:0.9578744173049927 \n",
      "Epoch:8 Learning rate 0.007 Weight Decay 1e-07 Train Loss:0.9852185845375061  Valid Loss:0.9845322966575623 \n",
      "Epoch:9 Learning rate 0.004115861811025136 Weight Decay 1e-07 Train Loss:0.9727383255958557  Valid Loss:0.9707685112953186 \n",
      "Epoch:10 Learning rate 0.002420045492493587 Weight Decay 1e-07 Train Loss:0.9643898606300354  Valid Loss:0.9643229842185974 \n",
      "Epoch:11 Learning rate 0.0014229389747854103 Weight Decay 1e-07 Train Loss:0.9584255218505859  Valid Loss:0.9616903066635132 \n",
      "Epoch:12 Learning rate 0.0008366600265340755 Weight Decay 1e-07 Train Loss:0.952197790145874  Valid Loss:0.9560211300849915 \n",
      "Epoch:13 Learning rate 0.0004919395788604112 Weight Decay 1e-07 Train Loss:0.9501974582672119  Valid Loss:0.9547142386436462 \n",
      "Epoch:14 Learning rate 0.00028925076085190775 Weight Decay 1e-07 Train Loss:0.9481145739555359  Valid Loss:0.9537622928619385 \n"
     ]
    }
   ],
   "source": [
    "learner.run_epochs(dltrain,None,15)"
   ]
  },
  {
   "cell_type": "code",
   "execution_count": 131,
   "metadata": {},
   "outputs": [],
   "source": [
    "wd=1e-7\n",
    "optimizer=torch.optim.Adam(autoenc.parameters(),lr=7e-3,betas=(0.9,0.999), weight_decay=wd)\n",
    "learner=Learner(autoenc,optimizer,None,device,0,1000,0.25,cycle_mult=2,start_lr=1e-3,end_lr=1e-4)"
   ]
  },
  {
   "cell_type": "code",
   "execution_count": 132,
   "metadata": {},
   "outputs": [
    {
     "name": "stdout",
     "output_type": "stream",
     "text": [
      "Epoch:0 Learning rate 0.007 Weight Decay 1e-07 Train Loss:0.9751710891723633  Valid Loss:0.9723427891731262 \n",
      "Epoch:1 Learning rate 0.0008366600265340755 Weight Decay 1e-07 Train Loss:0.9545584321022034  Valid Loss:0.9604743719100952 \n",
      "Epoch:2 Learning rate 9.999999999999999e-05 Weight Decay 1e-07 Train Loss:0.9488043785095215  Valid Loss:0.9583749771118164 \n",
      "Epoch:3 Learning rate 0.007 Weight Decay 1e-07 Train Loss:0.9806721806526184  Valid Loss:0.9786216616630554 \n",
      "Epoch:4 Learning rate 0.002420045492493587 Weight Decay 1e-07 Train Loss:0.9650664925575256  Valid Loss:0.9661878943443298 \n",
      "Epoch:5 Learning rate 0.0008366600265340755 Weight Decay 1e-07 Train Loss:0.9580515623092651  Valid Loss:0.9611120820045471 \n",
      "Epoch:6 Learning rate 0.00028925076085190775 Weight Decay 1e-07 Train Loss:0.9519253373146057  Valid Loss:0.9576513171195984 \n",
      "Epoch:7 Learning rate 9.999999999999998e-05 Weight Decay 1e-07 Train Loss:0.9499784111976624  Valid Loss:0.9553992748260498 \n",
      "Epoch:8 Learning rate 0.007 Weight Decay 1e-07 Train Loss:0.9862791895866394  Valid Loss:0.9814419746398926 \n",
      "Epoch:9 Learning rate 0.004115861811025136 Weight Decay 1e-07 Train Loss:0.9760665893554688  Valid Loss:0.9730313420295715 \n",
      "Epoch:10 Learning rate 0.002420045492493587 Weight Decay 1e-07 Train Loss:0.9657639265060425  Valid Loss:0.9657775163650513 \n",
      "Epoch:11 Learning rate 0.0014229389747854103 Weight Decay 1e-07 Train Loss:0.9600680470466614  Valid Loss:0.9605985283851624 \n",
      "Epoch:12 Learning rate 0.0008366600265340755 Weight Decay 1e-07 Train Loss:0.9583567380905151  Valid Loss:0.9602078795433044 \n",
      "Epoch:13 Learning rate 0.0004919395788604112 Weight Decay 1e-07 Train Loss:0.9549765586853027  Valid Loss:0.9592427611351013 \n",
      "Epoch:14 Learning rate 0.00028925076085190775 Weight Decay 1e-07 Train Loss:0.9537121653556824  Valid Loss:0.9573878049850464 \n"
     ]
    }
   ],
   "source": [
    "learner.run_epochs(dltrain,None,15)"
   ]
  },
  {
   "cell_type": "code",
   "execution_count": 113,
   "metadata": {},
   "outputs": [
    {
     "name": "stderr",
     "output_type": "stream",
     "text": [
      "/home/kirana/anaconda3/lib/python3.7/site-packages/torch/serialization.py:256: UserWarning: Couldn't retrieve source code for container of type autoencoder. It won't be checked for correctness upon loading.\n",
      "  \"type \" + obj.__name__ + \". It won't be checked \"\n",
      "/home/kirana/anaconda3/lib/python3.7/site-packages/torch/serialization.py:256: UserWarning: Couldn't retrieve source code for container of type autoencoder. It won't be checked for correctness upon loading.\n",
      "  \"type \" + obj.__name__ + \". It won't be checked \"\n"
     ]
    }
   ],
   "source": [
    "torch.save(autoenc,f=f'{DATAPATH}/inter/user_autoenc')\n",
    "torch.save(learner,f=f'{DATAPATH}/inter/user_autoenc_learner')\n",
    "torch.save(optimizer,f=f'{DATAPATH}/inter/user_autoenc_optimizer')\n",
    "torch.save(autoenc.state_dict(),f'{DATAPATH}/inter/user_autoenc_state_dict')\n",
    "torch.save(optimizer.state_dict(),f'{DATAPATH}/inter/user_autoenc_optimizer_state_dict')"
   ]
  },
  {
   "cell_type": "code",
   "execution_count": 114,
   "metadata": {},
   "outputs": [
    {
     "data": {
      "text/plain": [
       "torch.Size([40, 3707])"
      ]
     },
     "execution_count": 114,
     "metadata": {},
     "output_type": "execute_result"
    }
   ],
   "source": [
    "autoenc.encoder[0][0].weight.data.shape"
   ]
  },
  {
   "cell_type": "code",
   "execution_count": 115,
   "metadata": {},
   "outputs": [
    {
     "data": {
      "text/plain": [
       "torch.Size([10, 40])"
      ]
     },
     "execution_count": 115,
     "metadata": {},
     "output_type": "execute_result"
    }
   ],
   "source": [
    "autoenc.encoder[1][0].weight.data.shape"
   ]
  },
  {
   "cell_type": "code",
   "execution_count": 116,
   "metadata": {},
   "outputs": [],
   "source": [
    "user_mtx_1_weights=autoenc.encoder[0][0].weight.data.cpu().numpy()\n",
    "user_mtx_2_weights=autoenc.encoder[1][0].weight.data.cpu().numpy()"
   ]
  },
  {
   "cell_type": "code",
   "execution_count": 117,
   "metadata": {},
   "outputs": [],
   "source": [
    "from scipy.special import expit"
   ]
  },
  {
   "cell_type": "markdown",
   "metadata": {},
   "source": [
    "df_train_user_autoenc=np.tanh(expit(df_train@user_mtx_1_weights.T)@user_mtx_2_weights.T)\n",
    "df_valid_user_autoenc=np.tanh(expit(df_valid@user_mtx_1_weights.T)@user_mtx_2_weights.T)"
   ]
  },
  {
   "cell_type": "code",
   "execution_count": 118,
   "metadata": {},
   "outputs": [],
   "source": [
    "df_train_user_autoenc=(expit(df_train@user_mtx_1_weights.T)@user_mtx_2_weights.T)\n",
    "df_valid_user_autoenc=(expit(df_valid@user_mtx_1_weights.T)@user_mtx_2_weights.T)"
   ]
  },
  {
   "cell_type": "code",
   "execution_count": 119,
   "metadata": {},
   "outputs": [
    {
     "data": {
      "text/plain": [
       "((6041, 10), (6041, 10))"
      ]
     },
     "execution_count": 119,
     "metadata": {},
     "output_type": "execute_result"
    }
   ],
   "source": [
    "df_train_user_autoenc.shape,df_valid_user_autoenc.shape"
   ]
  },
  {
   "cell_type": "code",
   "execution_count": 120,
   "metadata": {},
   "outputs": [],
   "source": [
    "df_train_user_autoenc=pd.DataFrame(df_train_user_autoenc)"
   ]
  },
  {
   "cell_type": "code",
   "execution_count": 121,
   "metadata": {},
   "outputs": [],
   "source": [
    "df_train_user_autoenc.columns=['user_autoenc'+str(i) for i in range(df_train_user_autoenc.shape[1])]"
   ]
  },
  {
   "cell_type": "code",
   "execution_count": 122,
   "metadata": {},
   "outputs": [],
   "source": [
    "df_valid_user_autoenc=pd.DataFrame(df_valid_user_autoenc)"
   ]
  },
  {
   "cell_type": "code",
   "execution_count": 123,
   "metadata": {},
   "outputs": [],
   "source": [
    "df_valid_user_autoenc.columns=['user_autoenc'+str(i) for i in range(df_valid_user_autoenc.shape[1])]"
   ]
  },
  {
   "cell_type": "code",
   "execution_count": 124,
   "metadata": {},
   "outputs": [],
   "source": [
    "df_train_user_autoenc.reset_index(inplace=True)\n",
    "df_valid_user_autoenc.reset_index(inplace=True)"
   ]
  },
  {
   "cell_type": "code",
   "execution_count": 125,
   "metadata": {},
   "outputs": [],
   "source": [
    "df_train_user_autoenc.rename({'index':'user_idx'},axis=1,inplace=True)"
   ]
  },
  {
   "cell_type": "code",
   "execution_count": 126,
   "metadata": {},
   "outputs": [],
   "source": [
    "df_valid_user_autoenc.rename({'index':'user_idx'},axis=1,inplace=True)"
   ]
  },
  {
   "cell_type": "code",
   "execution_count": 127,
   "metadata": {},
   "outputs": [
    {
     "data": {
      "text/html": [
       "<div>\n",
       "<style scoped>\n",
       "    .dataframe tbody tr th:only-of-type {\n",
       "        vertical-align: middle;\n",
       "    }\n",
       "\n",
       "    .dataframe tbody tr th {\n",
       "        vertical-align: top;\n",
       "    }\n",
       "\n",
       "    .dataframe thead th {\n",
       "        text-align: right;\n",
       "    }\n",
       "</style>\n",
       "<table border=\"1\" class=\"dataframe\">\n",
       "  <thead>\n",
       "    <tr style=\"text-align: right;\">\n",
       "      <th></th>\n",
       "      <th>user_idx</th>\n",
       "      <th>user_autoenc0</th>\n",
       "      <th>user_autoenc1</th>\n",
       "      <th>user_autoenc2</th>\n",
       "      <th>user_autoenc3</th>\n",
       "      <th>user_autoenc4</th>\n",
       "      <th>user_autoenc5</th>\n",
       "      <th>user_autoenc6</th>\n",
       "      <th>user_autoenc7</th>\n",
       "      <th>user_autoenc8</th>\n",
       "      <th>user_autoenc9</th>\n",
       "    </tr>\n",
       "  </thead>\n",
       "  <tbody>\n",
       "    <tr>\n",
       "      <th>0</th>\n",
       "      <td>0</td>\n",
       "      <td>-0.671837</td>\n",
       "      <td>2.577009</td>\n",
       "      <td>-1.507589</td>\n",
       "      <td>0.332797</td>\n",
       "      <td>-1.139656</td>\n",
       "      <td>-1.726680</td>\n",
       "      <td>-1.184810</td>\n",
       "      <td>-0.325938</td>\n",
       "      <td>2.037823</td>\n",
       "      <td>1.097733</td>\n",
       "    </tr>\n",
       "    <tr>\n",
       "      <th>1</th>\n",
       "      <td>1</td>\n",
       "      <td>-0.809926</td>\n",
       "      <td>-0.483721</td>\n",
       "      <td>2.453740</td>\n",
       "      <td>-1.551907</td>\n",
       "      <td>3.453933</td>\n",
       "      <td>-0.869701</td>\n",
       "      <td>2.121841</td>\n",
       "      <td>3.970576</td>\n",
       "      <td>-1.076461</td>\n",
       "      <td>2.741880</td>\n",
       "    </tr>\n",
       "    <tr>\n",
       "      <th>2</th>\n",
       "      <td>2</td>\n",
       "      <td>1.254941</td>\n",
       "      <td>-2.131284</td>\n",
       "      <td>1.810311</td>\n",
       "      <td>0.597943</td>\n",
       "      <td>0.346018</td>\n",
       "      <td>2.327138</td>\n",
       "      <td>0.337492</td>\n",
       "      <td>0.072589</td>\n",
       "      <td>-2.992533</td>\n",
       "      <td>-0.936141</td>\n",
       "    </tr>\n",
       "    <tr>\n",
       "      <th>3</th>\n",
       "      <td>3</td>\n",
       "      <td>-3.206347</td>\n",
       "      <td>-0.449586</td>\n",
       "      <td>2.392539</td>\n",
       "      <td>-2.755247</td>\n",
       "      <td>0.173469</td>\n",
       "      <td>-1.687047</td>\n",
       "      <td>4.412164</td>\n",
       "      <td>4.598782</td>\n",
       "      <td>-0.101633</td>\n",
       "      <td>1.518000</td>\n",
       "    </tr>\n",
       "    <tr>\n",
       "      <th>4</th>\n",
       "      <td>4</td>\n",
       "      <td>-0.097608</td>\n",
       "      <td>1.857577</td>\n",
       "      <td>-2.348423</td>\n",
       "      <td>2.663222</td>\n",
       "      <td>-1.915509</td>\n",
       "      <td>-1.128552</td>\n",
       "      <td>-1.527104</td>\n",
       "      <td>-2.628924</td>\n",
       "      <td>-0.967917</td>\n",
       "      <td>-1.195479</td>\n",
       "    </tr>\n",
       "  </tbody>\n",
       "</table>\n",
       "</div>"
      ],
      "text/plain": [
       "   user_idx  user_autoenc0  user_autoenc1  user_autoenc2  user_autoenc3  \\\n",
       "0         0      -0.671837       2.577009      -1.507589       0.332797   \n",
       "1         1      -0.809926      -0.483721       2.453740      -1.551907   \n",
       "2         2       1.254941      -2.131284       1.810311       0.597943   \n",
       "3         3      -3.206347      -0.449586       2.392539      -2.755247   \n",
       "4         4      -0.097608       1.857577      -2.348423       2.663222   \n",
       "\n",
       "   user_autoenc4  user_autoenc5  user_autoenc6  user_autoenc7  user_autoenc8  \\\n",
       "0      -1.139656      -1.726680      -1.184810      -0.325938       2.037823   \n",
       "1       3.453933      -0.869701       2.121841       3.970576      -1.076461   \n",
       "2       0.346018       2.327138       0.337492       0.072589      -2.992533   \n",
       "3       0.173469      -1.687047       4.412164       4.598782      -0.101633   \n",
       "4      -1.915509      -1.128552      -1.527104      -2.628924      -0.967917   \n",
       "\n",
       "   user_autoenc9  \n",
       "0       1.097733  \n",
       "1       2.741880  \n",
       "2      -0.936141  \n",
       "3       1.518000  \n",
       "4      -1.195479  "
      ]
     },
     "execution_count": 127,
     "metadata": {},
     "output_type": "execute_result"
    }
   ],
   "source": [
    "df_train_user_autoenc.head()"
   ]
  },
  {
   "cell_type": "code",
   "execution_count": 128,
   "metadata": {},
   "outputs": [],
   "source": [
    "import pickle\n",
    "pickle.dump([df_train_user_autoenc,df_valid_user_autoenc,user_mtx_1_weights,user_mtx_2_weights],open(f'{DATAPATH}/inter/user_autoenc_weights.pkl','wb'))"
   ]
  },
  {
   "cell_type": "code",
   "execution_count": 129,
   "metadata": {},
   "outputs": [
    {
     "data": {
      "text/plain": [
       "Sequential(\n",
       "  (0): Sequential(\n",
       "    (0): Linear(in_features=3707, out_features=40, bias=True)\n",
       "    (1): Sigmoid()\n",
       "    (2): Dropout(p=0.2)\n",
       "  )\n",
       "  (1): Sequential(\n",
       "    (0): Linear(in_features=40, out_features=10, bias=True)\n",
       "    (1): Tanh()\n",
       "    (2): Dropout(p=0.2)\n",
       "  )\n",
       ")"
      ]
     },
     "execution_count": 129,
     "metadata": {},
     "output_type": "execute_result"
    }
   ],
   "source": [
    "autoenc.encoder"
   ]
  },
  {
   "cell_type": "code",
   "execution_count": 130,
   "metadata": {},
   "outputs": [
    {
     "data": {
      "text/plain": [
       "(6041, 11)"
      ]
     },
     "execution_count": 130,
     "metadata": {},
     "output_type": "execute_result"
    }
   ],
   "source": [
    "df_train_user_autoenc.shape"
   ]
  },
  {
   "cell_type": "code",
   "execution_count": null,
   "metadata": {},
   "outputs": [],
   "source": []
  }
 ],
 "metadata": {
  "kernelspec": {
   "display_name": "Python 3",
   "language": "python",
   "name": "python3"
  },
  "language_info": {
   "codemirror_mode": {
    "name": "ipython",
    "version": 3
   },
   "file_extension": ".py",
   "mimetype": "text/x-python",
   "name": "python",
   "nbconvert_exporter": "python",
   "pygments_lexer": "ipython3",
   "version": "3.7.3"
  }
 },
 "nbformat": 4,
 "nbformat_minor": 2
}
