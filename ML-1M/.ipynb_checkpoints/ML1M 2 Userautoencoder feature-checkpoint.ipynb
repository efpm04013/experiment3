{
 "cells": [
  {
   "cell_type": "code",
   "execution_count": 1,
   "metadata": {},
   "outputs": [],
   "source": [
    "PATH='/home/kirana/Documents/phd/exp3_autoencoder'\n",
    "DATAPATH='/home/kirana/Documents/final_dissertation_final/experiments/datasets/ml-1m'"
   ]
  },
  {
   "cell_type": "code",
   "execution_count": 2,
   "metadata": {},
   "outputs": [],
   "source": [
    "import pandas as pd\n",
    "import numpy as np\n",
    "import os\n",
    "import datetime\n",
    "import sklearn\n",
    "import torch\n",
    "import pickle\n",
    "import matplotlib.pyplot as plt\n",
    "from torch.utils.data import Dataset, DataLoader\n",
    "from torch import nn"
   ]
  },
  {
   "cell_type": "code",
   "execution_count": 3,
   "metadata": {},
   "outputs": [],
   "source": [
    "[df, df_train,df_valid,df,df_ratings,idx_to_user,\\\n",
    "             idx_to_movie,movie_to_idx,user_to_idx]=pickle.load(open(f'{DATAPATH}/reads.pkl','rb'))"
   ]
  },
  {
   "cell_type": "markdown",
   "metadata": {},
   "source": [
    "## Dataset and DataLoader"
   ]
  },
  {
   "cell_type": "code",
   "execution_count": 4,
   "metadata": {},
   "outputs": [
    {
     "data": {
      "text/plain": [
       "((6041, 3707), (6041, 3707))"
      ]
     },
     "execution_count": 4,
     "metadata": {},
     "output_type": "execute_result"
    }
   ],
   "source": [
    "df_train.shape,df_valid.shape"
   ]
  },
  {
   "cell_type": "code",
   "execution_count": 5,
   "metadata": {},
   "outputs": [
    {
     "data": {
      "text/plain": [
       "<1x3707 sparse matrix of type '<class 'numpy.int64'>'\n",
       "\twith 95 stored elements in Compressed Sparse Row format>"
      ]
     },
     "execution_count": 5,
     "metadata": {},
     "output_type": "execute_result"
    }
   ],
   "source": [
    "df_train[1]"
   ]
  },
  {
   "cell_type": "code",
   "execution_count": 6,
   "metadata": {},
   "outputs": [
    {
     "data": {
      "text/plain": [
       "(1, 3707)"
      ]
     },
     "execution_count": 6,
     "metadata": {},
     "output_type": "execute_result"
    }
   ],
   "source": [
    "df_train[1].todense().shape"
   ]
  },
  {
   "cell_type": "code",
   "execution_count": 7,
   "metadata": {},
   "outputs": [
    {
     "data": {
      "text/plain": [
       "(3707,)"
      ]
     },
     "execution_count": 7,
     "metadata": {},
     "output_type": "execute_result"
    }
   ],
   "source": [
    "df_train[1].todense().getA1().shape"
   ]
  },
  {
   "cell_type": "code",
   "execution_count": 8,
   "metadata": {},
   "outputs": [],
   "source": [
    "class autoencdata (Dataset):\n",
    "    def __init__(self,dfX,dfXv):\n",
    "        self.dfX,self.dfXv=dfX,dfXv\n",
    "        \n",
    "    def __len__ (self):\n",
    "        return self.dfX.shape[0]\n",
    "    \n",
    "    def __getitem__ (self, idx):\n",
    "        return torch.FloatTensor(self.dfX[idx].todense().getA1()),torch.FloatTensor(self.dfXv[idx].todense().getA1())"
   ]
  },
  {
   "cell_type": "code",
   "execution_count": 9,
   "metadata": {},
   "outputs": [],
   "source": [
    "dstrain=autoencdata(df_train, df_valid)\n",
    "#dsvalid=autoencdata(df_valid)"
   ]
  },
  {
   "cell_type": "code",
   "execution_count": 10,
   "metadata": {},
   "outputs": [],
   "source": [
    "bs=32"
   ]
  },
  {
   "cell_type": "code",
   "execution_count": 11,
   "metadata": {},
   "outputs": [],
   "source": [
    "# Create a DataLoader object\n",
    "dltrain=DataLoader(dstrain,batch_size=bs,shuffle=False)\n",
    "#dlvalid=DataLoader(dsvalid,batch_size=bs,shuffle=False) "
   ]
  },
  {
   "cell_type": "code",
   "execution_count": 16,
   "metadata": {},
   "outputs": [
    {
     "data": {
      "text/plain": [
       "(0, 5)"
      ]
     },
     "execution_count": 16,
     "metadata": {},
     "output_type": "execute_result"
    }
   ],
   "source": [
    "df_train.min(),df_train.max()"
   ]
  },
  {
   "cell_type": "code",
   "execution_count": 17,
   "metadata": {},
   "outputs": [
    {
     "data": {
      "text/plain": [
       "(6041, 3707)"
      ]
     },
     "execution_count": 17,
     "metadata": {},
     "output_type": "execute_result"
    }
   ],
   "source": [
    "df_train.shape"
   ]
  },
  {
   "cell_type": "code",
   "execution_count": 18,
   "metadata": {},
   "outputs": [
    {
     "data": {
      "text/plain": [
       "189"
      ]
     },
     "execution_count": 18,
     "metadata": {},
     "output_type": "execute_result"
    }
   ],
   "source": [
    "len(dltrain)"
   ]
  },
  {
   "cell_type": "code",
   "execution_count": 19,
   "metadata": {},
   "outputs": [
    {
     "data": {
      "text/plain": [
       "(6041, 3707)"
      ]
     },
     "execution_count": 19,
     "metadata": {},
     "output_type": "execute_result"
    }
   ],
   "source": [
    "df_train.shape"
   ]
  },
  {
   "cell_type": "code",
   "execution_count": 20,
   "metadata": {},
   "outputs": [],
   "source": [
    "# 6041 users"
   ]
  },
  {
   "cell_type": "markdown",
   "metadata": {},
   "source": [
    "## Create the Model Architecture for the Encoder"
   ]
  },
  {
   "cell_type": "code",
   "execution_count": 21,
   "metadata": {},
   "outputs": [],
   "source": [
    "def hidden_layer(x,y,dropout,activation=nn.Sigmoid()):\n",
    "    return nn.Sequential(\n",
    "        nn.Linear(x, y),\n",
    "        activation,\n",
    "        nn.Dropout(p=dropout)\n",
    "        )   "
   ]
  },
  {
   "cell_type": "code",
   "execution_count": 22,
   "metadata": {},
   "outputs": [],
   "source": [
    "class autoencoder (nn.Module):    \n",
    "    def __init__(self,n_inp=9724,hidden=[50,10],dropouts=[0,0,0],rating_range=[0.5,5]):\n",
    "        super().__init__()\n",
    "        self.n_inp,self.hidden,self.dropouts,self.rating_range=n_inp,hidden,dropouts,rating_range\n",
    "        encoder=[hidden_layer(n_inp if i==0 else hidden[i-1],hidden[i],dropouts[i],\\\n",
    "                              nn.Sigmoid() if i<len(hidden)-1 else nn.Tanh()) for i in range(len(hidden))]\n",
    "        self.encoder=nn.Sequential(*encoder)\n",
    "        hidden=hidden[::-1]\n",
    "        num_steps=len(hidden)-1\n",
    "        dropouts=dropouts[num_steps:]\n",
    "        decoder=[hidden_layer(hidden[i],hidden[i+1] if i<len(hidden)-1 else n_inp,dropouts[i]) for i in range(len(hidden)-1)]\n",
    "        self.decoder=nn.Sequential(*decoder)\n",
    "        self.fc=nn.Linear(hidden[-1],n_inp)\n",
    "        self.initialize()\n",
    "        self.criterion=nn.MSELoss()\n",
    "    \n",
    "    def initialize(self):\n",
    "        for x in self.encoder:\n",
    "            nn.init.kaiming_normal_(x[0].weight.data)\n",
    "        for x in self.decoder:\n",
    "            nn.init.kaiming_normal_(x[0].weight.data)\n",
    "\n",
    "    def forward (self,Xb):\n",
    "        encoded=self.encoder(Xb)\n",
    "        decoded=self.decoder(encoded)\n",
    "        out=self.fc(decoded)\n",
    "        outv=out.clone()\n",
    "        out[Xb==0]=0\n",
    "        loss=self.criterion(out,Xb)\n",
    "        return outv,loss, out"
   ]
  },
  {
   "cell_type": "code",
   "execution_count": 23,
   "metadata": {},
   "outputs": [],
   "source": [
    "n_final_user=10 # 3 for IMDB"
   ]
  },
  {
   "cell_type": "code",
   "execution_count": 24,
   "metadata": {},
   "outputs": [],
   "source": [
    "autoenc=autoencoder(df_train.shape[1],[n_final_user*4,n_final_user],[0,0,0])"
   ]
  },
  {
   "cell_type": "code",
   "execution_count": 25,
   "metadata": {},
   "outputs": [
    {
     "data": {
      "text/plain": [
       "autoencoder(\n",
       "  (encoder): Sequential(\n",
       "    (0): Sequential(\n",
       "      (0): Linear(in_features=3707, out_features=40, bias=True)\n",
       "      (1): Sigmoid()\n",
       "      (2): Dropout(p=0)\n",
       "    )\n",
       "    (1): Sequential(\n",
       "      (0): Linear(in_features=40, out_features=10, bias=True)\n",
       "      (1): Tanh()\n",
       "      (2): Dropout(p=0)\n",
       "    )\n",
       "  )\n",
       "  (decoder): Sequential(\n",
       "    (0): Sequential(\n",
       "      (0): Linear(in_features=10, out_features=40, bias=True)\n",
       "      (1): Sigmoid()\n",
       "      (2): Dropout(p=0)\n",
       "    )\n",
       "  )\n",
       "  (fc): Linear(in_features=40, out_features=3707, bias=True)\n",
       "  (criterion): MSELoss()\n",
       ")"
      ]
     },
     "execution_count": 25,
     "metadata": {},
     "output_type": "execute_result"
    }
   ],
   "source": [
    "autoenc"
   ]
  },
  {
   "cell_type": "code",
   "execution_count": 26,
   "metadata": {},
   "outputs": [
    {
     "name": "stdout",
     "output_type": "stream",
     "text": [
      "tensor([[4., 0., 0.,  ..., 0., 0., 0.],\n",
      "        [0., 2., 0.,  ..., 0., 0., 0.],\n",
      "        [0., 0., 3.,  ..., 0., 0., 0.],\n",
      "        ...,\n",
      "        [0., 0., 0.,  ..., 0., 0., 0.],\n",
      "        [0., 0., 0.,  ..., 0., 0., 0.],\n",
      "        [0., 0., 0.,  ..., 0., 0., 0.]])\n"
     ]
    }
   ],
   "source": [
    "for Xb,Xb_v in dltrain:\n",
    "    print (Xb)\n",
    "    break"
   ]
  },
  {
   "cell_type": "code",
   "execution_count": 27,
   "metadata": {},
   "outputs": [
    {
     "data": {
      "text/plain": [
       "torch.Size([32, 3707])"
      ]
     },
     "execution_count": 27,
     "metadata": {},
     "output_type": "execute_result"
    }
   ],
   "source": [
    "Xb.size()"
   ]
  },
  {
   "cell_type": "code",
   "execution_count": 28,
   "metadata": {},
   "outputs": [
    {
     "data": {
      "text/plain": [
       "tensor([[4., 0., 0.,  ..., 0., 0., 0.],\n",
       "        [0., 2., 0.,  ..., 0., 0., 0.],\n",
       "        [0., 0., 3.,  ..., 0., 0., 0.],\n",
       "        ...,\n",
       "        [0., 0., 0.,  ..., 0., 0., 0.],\n",
       "        [0., 0., 0.,  ..., 0., 0., 0.],\n",
       "        [0., 0., 0.,  ..., 0., 0., 0.]])"
      ]
     },
     "execution_count": 28,
     "metadata": {},
     "output_type": "execute_result"
    }
   ],
   "source": [
    "Xb.squeeze(0)"
   ]
  },
  {
   "cell_type": "code",
   "execution_count": 29,
   "metadata": {},
   "outputs": [],
   "source": [
    "preds,loss,_=autoenc.forward(Xb)"
   ]
  },
  {
   "cell_type": "code",
   "execution_count": 30,
   "metadata": {},
   "outputs": [],
   "source": [
    "loss.backward()"
   ]
  },
  {
   "cell_type": "code",
   "execution_count": 31,
   "metadata": {},
   "outputs": [
    {
     "data": {
      "text/plain": [
       "torch.Size([32, 3707])"
      ]
     },
     "execution_count": 31,
     "metadata": {},
     "output_type": "execute_result"
    }
   ],
   "source": [
    "preds.size()"
   ]
  },
  {
   "cell_type": "code",
   "execution_count": 32,
   "metadata": {},
   "outputs": [
    {
     "data": {
      "text/plain": [
       "torch.nn.modules.loss.MSELoss"
      ]
     },
     "execution_count": 32,
     "metadata": {},
     "output_type": "execute_result"
    }
   ],
   "source": [
    "nn.MSELoss"
   ]
  },
  {
   "cell_type": "code",
   "execution_count": 33,
   "metadata": {},
   "outputs": [],
   "source": [
    "device=\"cuda:1\""
   ]
  },
  {
   "cell_type": "code",
   "execution_count": 34,
   "metadata": {},
   "outputs": [],
   "source": [
    "wd=1e-7\n",
    "#wd=1e-1"
   ]
  },
  {
   "cell_type": "code",
   "execution_count": 35,
   "metadata": {},
   "outputs": [],
   "source": [
    "optimizer=torch.optim.Adam(autoenc.parameters(),lr=5e-3,betas=(0.9,0.999), weight_decay=wd)\n",
    "#optimizer=torch.optim.SGD(model_sentiment.parameters(),lr=1e-2,momentum=0.9, weight_decay=wd)\n",
    "metric_fn=None"
   ]
  },
  {
   "cell_type": "code",
   "execution_count": 36,
   "metadata": {},
   "outputs": [
    {
     "data": {
      "text/plain": [
       "189"
      ]
     },
     "execution_count": 36,
     "metadata": {},
     "output_type": "execute_result"
    }
   ],
   "source": [
    "len(dltrain)"
   ]
  },
  {
   "cell_type": "code",
   "execution_count": 37,
   "metadata": {},
   "outputs": [],
   "source": [
    "import matplotlib.pyplot as plt"
   ]
  },
  {
   "cell_type": "code",
   "execution_count": 38,
   "metadata": {},
   "outputs": [
    {
     "data": {
      "text/plain": [
       "32"
      ]
     },
     "execution_count": 38,
     "metadata": {},
     "output_type": "execute_result"
    }
   ],
   "source": [
    "dltrain.batch_size"
   ]
  },
  {
   "cell_type": "code",
   "execution_count": 39,
   "metadata": {},
   "outputs": [],
   "source": [
    "class Learner():\n",
    "    def __init__(self,model,optimizer,metric_fn,device,bptt=12,print_every=5,clip_val=None,\\\n",
    "                 cycle_mult=0,lr_decay=0.7,wd_mult=6,start_lr=2e-2, end_lr=5e-4):\n",
    "        self.model,self.optimizer,self.metric_fn,self.device,self.print_every,self.bptt,self.losses,self.clip_val=\\\n",
    "            model,optimizer,metric_fn,device,print_every,bptt,[],clip_val\n",
    "        self.n_epochs=1\n",
    "        self.cycle_mult,self.lr_decay=cycle_mult,lr_decay\n",
    "        self.wd_mult=wd_mult\n",
    "        for param_group in self.optimizer.param_groups:\n",
    "            self.start_lr=param_group['lr']\n",
    "            self.start_wd=param_group['weight_decay']\n",
    "        self.wd=self.start_wd\n",
    "        self.lr=self.start_lr\n",
    "        self.end_lr=end_lr\n",
    "        self.n_epoch=0\n",
    "        self.lrs=[1e-2,5e-3,1e-4,5e-4]\n",
    "        self.preds,self.preds_valid,self.trainY,self.actual=[],[],[],[]\n",
    "        self.ratio=self.end_lr/self.start_lr\n",
    "        self.num_steps=self.cycle_mult\n",
    "        self.reset_cycle=self.cycle_mult\n",
    "        \n",
    "    def fit (self,Xb,Xb_v,mode_train=True):\n",
    "        if mode_train:\n",
    "            self.model.train()\n",
    "        else:\n",
    "            self.model.eval()\n",
    "        \n",
    "        #import pdb\n",
    "        #pdb.set_trace()\n",
    "        preds,loss,preds_train=self.model(Xb)\n",
    "        # denominator is the average of the error with non-zero ratings\n",
    "\n",
    "        mean_corrector = Xb.size(0)*Xb.size(1)/(torch.sum(Xb > 0).float() + 1e-10)\n",
    "        mean_corrector_v = Xb_v.size(0)*Xb_v.size(1)/(torch.sum(Xb_v > 0).float() + 1e-10)\n",
    "\n",
    "        with torch.no_grad():\n",
    "            \n",
    "            preds[Xb_v==0]=0\n",
    "            loss_v=self.model.criterion(preds,Xb_v)\n",
    "            \n",
    "            if self.metric_fn is not None:\n",
    "                acc=self.metric_fn(preds,Yb.view(-1),self.device)\n",
    "                acc=acc.item()\n",
    "\n",
    "                if 1==0:\n",
    "                    if mode_train:\n",
    "                        self.trainY.append(Yb.view(-1))\n",
    "                        self.preds.append(preds.data)\n",
    "                    else:\n",
    "                        self.actual.append(Yb.view(-1))\n",
    "                        self.preds_valid.append(preds.data)\n",
    "            else:\n",
    "                acc=0\n",
    "                acc_v=0\n",
    "            del preds\n",
    "        \n",
    "        if mode_train:\n",
    "            if 1==0:\n",
    "                lr =self.lrs[torch.randint(0,4,(1,))]\n",
    "                for param_group in self.optimizer.param_groups:\n",
    "                    param_group['lr']=lr\n",
    "            \n",
    "            self.optimizer.zero_grad()\n",
    "            loss.backward()\n",
    "            self.optimizer.step()\n",
    "        myloss=torch.sqrt(loss.item()*mean_corrector)\n",
    "        myloss_v=torch.sqrt(loss_v.item()*mean_corrector_v)\n",
    "        del loss\n",
    "        \n",
    "        if self.clip_val is not None:\n",
    "            torch.nn.utils.clip_grad_norm_(self.model.parameters(), self.clip_val)\n",
    "        \n",
    "        return myloss, acc,myloss_v,acc_v\n",
    "    \n",
    "    def lr_find (self,start_lr,end_lr,iterator,n_batch):\n",
    "        losses,lrs=[],[]\n",
    "        ratio=end_lr/start_lr\n",
    "        num_steps=n_batch\n",
    "        lr=start_lr\n",
    "        for i in range(num_steps):            \n",
    "            lr=lr*(end_lr/start_lr)**(1/num_steps)\n",
    "            lrs.append(lr)\n",
    "        self.lrs=lrs\n",
    "        self.run_epoch(iterator,mode_train=True,lrs=lrs)\n",
    "    \n",
    "    def run_epoch(self,iterator,mode_train,lrs=None):\n",
    "        epoch_loss,epoch_acc,i,k=0,0,0,0\n",
    "        epoch_loss_v,epoch_acc_v=0,0\n",
    "\n",
    "        for Xb,Xb_v in iterator:\n",
    "            Xb=Xb.to(self.device)\n",
    "            Xb_v=Xb_v.to(self.device)\n",
    "            #Xb=Xb.squeeze(0)\n",
    "            if lrs is not None:\n",
    "                lr=lrs[k]\n",
    "                for param_group in self.optimizer.param_groups:\n",
    "                    param_group['lr']=lr \n",
    "            \n",
    "\n",
    "            loss,acc,loss_v,acc_v=self.fit(Xb,Xb_v,mode_train)\n",
    "            \n",
    "            if lrs is not None:\n",
    "                self.losses.append(loss)\n",
    "            \n",
    "            epoch_loss+=loss\n",
    "            epoch_acc+=acc\n",
    "            epoch_loss_v+=loss_v\n",
    "            epoch_acc_v+=acc_v\n",
    "            \n",
    "            k=k+1\n",
    "            if k%self.print_every == 0:\n",
    "                if k:\n",
    "                    print (f'Batch:{k} {epoch_loss/(k)} {epoch_loss_v/(k)} ')  \n",
    "                    torch.cuda.empty_cache()\n",
    "        epoch_loss=epoch_loss/len(iterator)\n",
    "        epoch_acc=epoch_acc/len(iterator)\n",
    "        epoch_loss_v=epoch_loss_v/len(iterator)\n",
    "        epoch_acc_v=epoch_acc_v/len(iterator)\n",
    "            \n",
    "        return epoch_loss,epoch_acc,epoch_loss_v,epoch_acc_v\n",
    "    \n",
    "    def plot_lrs(self, n_roll=1,ylim=None,xlim=None):\n",
    "        import seaborn as sns\n",
    "        ax=sns.lineplot(x=self.lrs,y=pd.Series(self.losses).rolling(n_roll).mean())\n",
    "        ax.set_xscale('log')\n",
    "        ax.set_ylabel('Loss')\n",
    "        ax.set_xlabel('Learning Rate')\n",
    "        if ylim is not None:\n",
    "            plt.ylim(ylim)\n",
    "        if xlim is not None:\n",
    "            plt.xlim(xlim)\n",
    "\n",
    "     \n",
    "    def run_epochs(self,dltrain,dlvalid,n_epochs=1):\n",
    "        \n",
    "        \n",
    "            \n",
    "        \n",
    "        for epoch in range(n_epochs):                \n",
    "\n",
    "            loss,acc,lossv,accv=self.run_epoch(dltrain,True)\n",
    "            print (f'Epoch:{epoch} Learning rate {self.lr} Weight Decay {self.wd} Train Loss:{loss}  Valid Loss:{lossv} ')\n",
    "  \n",
    "            if self.cycle_mult:\n",
    "                if self.n_epoch==self.reset_cycle:\n",
    "                    self.lr=self.start_lr\n",
    "                    #self.wd=self.start_wd\n",
    "                    self.reset_cycle*=self.cycle_mult\n",
    "                    #reset_cycle=self.n_epoch+reset_cycle\n",
    "                    self.n_epoch=0\n",
    "                    self.ratio=self.end_lr/self.start_lr\n",
    "                    self.num_steps=self.reset_cycle\n",
    "                else:\n",
    "                    #self.lr*=(self.lr_decay**self.n_epoch)  \n",
    "                    #if self.n_epoch>1:\n",
    "                    #    self.wd*=self.wd_mult\n",
    "                    self.lr=self.lr*(self.end_lr/self.start_lr)**(1/self.num_steps)\n",
    "                    self.n_epoch+=1\n",
    "        \n",
    "\n",
    "                \n",
    "            for param_group in self.optimizer.param_groups:\n",
    "                param_group['lr']=self.lr\n",
    "                #param_group['weight_decay']=self.wd\n",
    "          \n",
    "     "
   ]
  },
  {
   "cell_type": "code",
   "execution_count": 42,
   "metadata": {},
   "outputs": [],
   "source": [
    "autoenc=autoencoder(df_train.shape[1],[n_final_user*4,n_final_user],[0.2,0.2,0]).to(device)\n",
    "optimizer=torch.optim.Adam(autoenc.parameters(),lr=5e-3,betas=(0.9,0.999), weight_decay=wd)"
   ]
  },
  {
   "cell_type": "code",
   "execution_count": 43,
   "metadata": {},
   "outputs": [],
   "source": [
    "learner=Learner(autoenc,optimizer,None,device,0,500,0.25,cycle_mult=0)"
   ]
  },
  {
   "cell_type": "code",
   "execution_count": 44,
   "metadata": {},
   "outputs": [
    {
     "data": {
      "text/plain": [
       "autoencoder(\n",
       "  (encoder): Sequential(\n",
       "    (0): Sequential(\n",
       "      (0): Linear(in_features=3707, out_features=40, bias=True)\n",
       "      (1): Sigmoid()\n",
       "      (2): Dropout(p=0.2)\n",
       "    )\n",
       "    (1): Sequential(\n",
       "      (0): Linear(in_features=40, out_features=10, bias=True)\n",
       "      (1): Tanh()\n",
       "      (2): Dropout(p=0.2)\n",
       "    )\n",
       "  )\n",
       "  (decoder): Sequential(\n",
       "    (0): Sequential(\n",
       "      (0): Linear(in_features=10, out_features=40, bias=True)\n",
       "      (1): Sigmoid()\n",
       "      (2): Dropout(p=0.2)\n",
       "    )\n",
       "  )\n",
       "  (fc): Linear(in_features=40, out_features=3707, bias=True)\n",
       "  (criterion): MSELoss()\n",
       ")"
      ]
     },
     "execution_count": 44,
     "metadata": {},
     "output_type": "execute_result"
    }
   ],
   "source": [
    "autoenc"
   ]
  },
  {
   "cell_type": "code",
   "execution_count": 45,
   "metadata": {},
   "outputs": [
    {
     "data": {
      "text/plain": [
       "(189, 32)"
      ]
     },
     "execution_count": 45,
     "metadata": {},
     "output_type": "execute_result"
    }
   ],
   "source": [
    "len(dltrain),dltrain.batch_size"
   ]
  },
  {
   "cell_type": "code",
   "execution_count": 46,
   "metadata": {},
   "outputs": [],
   "source": [
    "learner.lr_find(1e-4,3e-1,dltrain,len(dltrain))"
   ]
  },
  {
   "cell_type": "code",
   "execution_count": 47,
   "metadata": {},
   "outputs": [
    {
     "data": {
      "image/png": "[encoded data removed]",
      "text/plain": [
       "<Figure size 432x288 with 1 Axes>"
      ]
     },
     "metadata": {
      "needs_background": "light"
     },
     "output_type": "display_data"
    }
   ],
   "source": [
    "learner.plot_lrs(10)"
   ]
  },
  {
   "cell_type": "code",
   "execution_count": 48,
   "metadata": {},
   "outputs": [
    {
     "data": {
      "image/png": "[encoded data removed]",
      "text/plain": [
       "<Figure size 432x288 with 1 Axes>"
      ]
     },
     "metadata": {
      "needs_background": "light"
     },
     "output_type": "display_data"
    }
   ],
   "source": [
    "learner.plot_lrs(1)"
   ]
  },
  {
   "cell_type": "code",
   "execution_count": 49,
   "metadata": {},
   "outputs": [],
   "source": [
    "del autoenc\n",
    "torch.cuda.empty_cache()"
   ]
  },
  {
   "cell_type": "code",
   "execution_count": 50,
   "metadata": {},
   "outputs": [
    {
     "data": {
      "text/plain": [
       "10"
      ]
     },
     "execution_count": 50,
     "metadata": {},
     "output_type": "execute_result"
    }
   ],
   "source": [
    "n_final_user"
   ]
  },
  {
   "cell_type": "code",
   "execution_count": 51,
   "metadata": {},
   "outputs": [],
   "source": [
    "#autoenc=autoencoder(df_train.shape[1],[n_final_user*4,n_final_user],[0,0,0])"
   ]
  },
  {
   "cell_type": "code",
   "execution_count": 52,
   "metadata": {},
   "outputs": [],
   "source": [
    "autoenc=autoencoder(df_train.shape[1],[n_final_user*4,n_final_user],[0.2,0.2,0]).to(device)\n",
    "optimizer=torch.optim.Adam(autoenc.parameters(),lr=7e-3,betas=(0.9,0.999), weight_decay=wd)\n",
    "learner=Learner(autoenc,optimizer,None,device,0,1000,0.25,cycle_mult=0,start_lr=1e-1,end_lr=5e-2)"
   ]
  },
  {
   "cell_type": "code",
   "execution_count": 53,
   "metadata": {},
   "outputs": [
    {
     "name": "stdout",
     "output_type": "stream",
     "text": [
      "Epoch:0 Learning rate 0.007 Weight Decay 1e-07 Train Loss:1.2166597843170166  Valid Loss:1.2079216241836548 \n",
      "Epoch:1 Learning rate 0.007 Weight Decay 1e-07 Train Loss:1.0652419328689575  Valid Loss:1.0612214803695679 \n",
      "Epoch:2 Learning rate 0.007 Weight Decay 1e-07 Train Loss:1.0603272914886475  Valid Loss:1.0562493801116943 \n",
      "Epoch:3 Learning rate 0.007 Weight Decay 1e-07 Train Loss:1.0469013452529907  Valid Loss:1.0437583923339844 \n",
      "Epoch:4 Learning rate 0.007 Weight Decay 1e-07 Train Loss:1.049841046333313  Valid Loss:1.0450392961502075 \n"
     ]
    }
   ],
   "source": [
    "learner.run_epochs(dltrain,None,5)"
   ]
  },
  {
   "cell_type": "code",
   "execution_count": 54,
   "metadata": {},
   "outputs": [],
   "source": [
    "optimizer=torch.optim.Adam(autoenc.parameters(),lr=7e-3,betas=(0.9,0.999), weight_decay=wd)\n",
    "learner=Learner(autoenc,optimizer,None,device,0,1000,0.25,cycle_mult=2,start_lr=7e-3,end_lr=1e-4)"
   ]
  },
  {
   "cell_type": "code",
   "execution_count": 55,
   "metadata": {},
   "outputs": [
    {
     "name": "stdout",
     "output_type": "stream",
     "text": [
      "Epoch:0 Learning rate 0.007 Weight Decay 1e-07 Train Loss:1.0448623895645142  Valid Loss:1.0406324863433838 \n",
      "Epoch:1 Learning rate 0.0008366600265340755 Weight Decay 1e-07 Train Loss:1.0290327072143555  Valid Loss:1.0267547369003296 \n",
      "Epoch:2 Learning rate 9.999999999999999e-05 Weight Decay 1e-07 Train Loss:1.017185091972351  Valid Loss:1.0203334093093872 \n",
      "Epoch:3 Learning rate 0.007 Weight Decay 1e-07 Train Loss:1.0403199195861816  Valid Loss:1.0354008674621582 \n",
      "Epoch:4 Learning rate 0.002420045492493587 Weight Decay 1e-07 Train Loss:1.020227074623108  Valid Loss:1.0187326669692993 \n",
      "Epoch:5 Learning rate 0.0008366600265340755 Weight Decay 1e-07 Train Loss:1.0072745084762573  Valid Loss:1.0064200162887573 \n",
      "Epoch:6 Learning rate 0.00028925076085190775 Weight Decay 1e-07 Train Loss:1.0066641569137573  Valid Loss:1.009423851966858 \n",
      "Epoch:7 Learning rate 9.999999999999998e-05 Weight Decay 1e-07 Train Loss:1.0069689750671387  Valid Loss:1.0132404565811157 \n",
      "Epoch:8 Learning rate 0.007 Weight Decay 1e-07 Train Loss:1.0323538780212402  Valid Loss:1.0313777923583984 \n",
      "Epoch:9 Learning rate 0.004115861811025136 Weight Decay 1e-07 Train Loss:1.0195691585540771  Valid Loss:1.0182230472564697 \n",
      "Epoch:10 Learning rate 0.002420045492493587 Weight Decay 1e-07 Train Loss:1.0140182971954346  Valid Loss:1.015112042427063 \n",
      "Epoch:11 Learning rate 0.0014229389747854103 Weight Decay 1e-07 Train Loss:1.006556510925293  Valid Loss:1.0068209171295166 \n",
      "Epoch:12 Learning rate 0.0008366600265340755 Weight Decay 1e-07 Train Loss:1.0001329183578491  Valid Loss:1.0028125047683716 \n",
      "Epoch:13 Learning rate 0.0004919395788604112 Weight Decay 1e-07 Train Loss:0.9989959001541138  Valid Loss:1.0019726753234863 \n",
      "Epoch:14 Learning rate 0.00028925076085190775 Weight Decay 1e-07 Train Loss:0.9972527623176575  Valid Loss:1.0009236335754395 \n"
     ]
    }
   ],
   "source": [
    "learner.run_epochs(dltrain,None,15)"
   ]
  },
  {
   "cell_type": "code",
   "execution_count": 56,
   "metadata": {},
   "outputs": [
    {
     "name": "stdout",
     "output_type": "stream",
     "text": [
      "Epoch:0 Learning rate 0.00017007373720004734 Weight Decay 1e-07 Train Loss:0.9972286224365234  Valid Loss:1.0025774240493774 \n",
      "Epoch:1 Learning rate 9.999999999999998e-05 Weight Decay 1e-07 Train Loss:0.995652973651886  Valid Loss:1.0017194747924805 \n",
      "Epoch:2 Learning rate 0.007 Weight Decay 1e-07 Train Loss:1.024979591369629  Valid Loss:1.0236488580703735 \n",
      "Epoch:3 Learning rate 0.005367590956581542 Weight Decay 1e-07 Train Loss:1.0196123123168945  Valid Loss:1.0207712650299072 \n",
      "Epoch:4 Learning rate 0.004115861811025135 Weight Decay 1e-07 Train Loss:1.0127078294754028  Valid Loss:1.0115809440612793 \n",
      "Epoch:5 Learning rate 0.003156037519342549 Weight Decay 1e-07 Train Loss:1.0029207468032837  Valid Loss:1.00294828414917 \n",
      "Epoch:6 Learning rate 0.0024200454924935867 Weight Decay 1e-07 Train Loss:1.0008066892623901  Valid Loss:1.0029970407485962 \n",
      "Epoch:7 Learning rate 0.001855687757146357 Weight Decay 1e-07 Train Loss:0.9947177767753601  Valid Loss:0.9982333183288574 \n",
      "Epoch:8 Learning rate 0.00142293897478541 Weight Decay 1e-07 Train Loss:0.996155858039856  Valid Loss:1.0001983642578125 \n",
      "Epoch:9 Learning rate 0.001091107767546511 Weight Decay 1e-07 Train Loss:0.9933360815048218  Valid Loss:0.9979721903800964 \n",
      "Epoch:10 Learning rate 0.0008366600265340753 Weight Decay 1e-07 Train Loss:0.988955020904541  Valid Loss:0.9926090836524963 \n",
      "Epoch:11 Learning rate 0.0006415498274510822 Weight Decay 1e-07 Train Loss:0.9864999651908875  Valid Loss:0.9927793145179749 \n",
      "Epoch:12 Learning rate 0.000491939578860411 Weight Decay 1e-07 Train Loss:0.984851062297821  Valid Loss:0.9908155798912048 \n",
      "Epoch:13 Learning rate 0.00037721863352509633 Weight Decay 1e-07 Train Loss:0.9858066439628601  Valid Loss:0.9923809170722961 \n",
      "Epoch:14 Learning rate 0.0002892507608519077 Weight Decay 1e-07 Train Loss:0.9834758043289185  Valid Loss:0.9908351898193359 \n"
     ]
    }
   ],
   "source": [
    "learner.run_epochs(dltrain,None,15)"
   ]
  },
  {
   "cell_type": "code",
   "execution_count": 57,
   "metadata": {},
   "outputs": [
    {
     "name": "stdout",
     "output_type": "stream",
     "text": [
      "Epoch:0 Learning rate 0.00022179710973329 Weight Decay 1e-07 Train Loss:0.9841274619102478  Valid Loss:0.9919435977935791 \n",
      "Epoch:1 Learning rate 0.00017007373720004731 Weight Decay 1e-07 Train Loss:0.9827688336372375  Valid Loss:0.9916587471961975 \n",
      "Epoch:2 Learning rate 0.0001304123219638571 Weight Decay 1e-07 Train Loss:0.9805075526237488  Valid Loss:0.990138828754425 \n",
      "Epoch:3 Learning rate 9.999999999999996e-05 Weight Decay 1e-07 Train Loss:0.9815234541893005  Valid Loss:0.9904414415359497 \n",
      "Epoch:4 Learning rate 0.007 Weight Decay 1e-07 Train Loss:1.0128508806228638  Valid Loss:1.0120258331298828 \n",
      "Epoch:5 Learning rate 0.006129693034408069 Weight Decay 1e-07 Train Loss:1.014133334159851  Valid Loss:1.0132091045379639 \n",
      "Epoch:6 Learning rate 0.0053675909565815425 Weight Decay 1e-07 Train Loss:1.0040831565856934  Valid Loss:1.005348563194275 \n",
      "Epoch:7 Learning rate 0.0047002406997299455 Weight Decay 1e-07 Train Loss:1.0003993511199951  Valid Loss:0.9990215301513672 \n",
      "Epoch:8 Learning rate 0.004115861811025136 Weight Decay 1e-07 Train Loss:0.9967285394668579  Valid Loss:0.9971566796302795 \n",
      "Epoch:9 Learning rate 0.003604138496232422 Weight Decay 1e-07 Train Loss:0.9907375574111938  Valid Loss:0.9930163621902466 \n",
      "Epoch:10 Learning rate 0.00315603751934255 Weight Decay 1e-07 Train Loss:0.9893643260002136  Valid Loss:0.9941084384918213 \n",
      "Epoch:11 Learning rate 0.0027636487426635067 Weight Decay 1e-07 Train Loss:0.9835934042930603  Valid Loss:0.9887320399284363 \n",
      "Epoch:12 Learning rate 0.0024200454924935876 Weight Decay 1e-07 Train Loss:0.9830915927886963  Valid Loss:0.9889600872993469 \n",
      "Epoch:13 Learning rate 0.0021191622854697984 Weight Decay 1e-07 Train Loss:0.9808539748191833  Valid Loss:0.9885610342025757 \n",
      "Epoch:14 Learning rate 0.001855687757146358 Weight Decay 1e-07 Train Loss:0.9768829345703125  Valid Loss:0.9819336533546448 \n"
     ]
    }
   ],
   "source": [
    "learner.run_epochs(dltrain,None,15)"
   ]
  },
  {
   "cell_type": "code",
   "execution_count": 58,
   "metadata": {},
   "outputs": [
    {
     "name": "stdout",
     "output_type": "stream",
     "text": [
      "Epoch:0 Learning rate 0.0016249709027166231 Weight Decay 1e-07 Train Loss:0.9751918315887451  Valid Loss:0.9828393459320068 \n",
      "Epoch:1 Learning rate 0.0014229389747854107 Weight Decay 1e-07 Train Loss:0.9745104312896729  Valid Loss:0.981135904788971 \n",
      "Epoch:2 Learning rate 0.0012460255888756986 Weight Decay 1e-07 Train Loss:0.9712837934494019  Valid Loss:0.9805141091346741 \n",
      "Epoch:3 Learning rate 0.0010911077675465116 Weight Decay 1e-07 Train Loss:0.967888593673706  Valid Loss:0.9758875370025635 \n",
      "Epoch:4 Learning rate 0.0009554508117883415 Weight Decay 1e-07 Train Loss:0.96994549036026  Valid Loss:0.9798279404640198 \n",
      "Epoch:5 Learning rate 0.0008366600265340759 Weight Decay 1e-07 Train Loss:0.9661152958869934  Valid Loss:0.9742744565010071 \n",
      "Epoch:6 Learning rate 0.0007326384481162278 Weight Decay 1e-07 Train Loss:0.9653054475784302  Valid Loss:0.9774339199066162 \n",
      "Epoch:7 Learning rate 0.0006415498274510826 Weight Decay 1e-07 Train Loss:0.9620499014854431  Valid Loss:0.9724202156066895 \n",
      "Epoch:8 Learning rate 0.0005617862155075142 Weight Decay 1e-07 Train Loss:0.9613606929779053  Valid Loss:0.9730641841888428 \n",
      "Epoch:9 Learning rate 0.0004919395788604114 Weight Decay 1e-07 Train Loss:0.9608964323997498  Valid Loss:0.9700550436973572 \n",
      "Epoch:10 Learning rate 0.0004307769442700432 Weight Decay 1e-07 Train Loss:0.9609935283660889  Valid Loss:0.9717791080474854 \n",
      "Epoch:11 Learning rate 0.0003772186335250966 Weight Decay 1e-07 Train Loss:0.9610182642936707  Valid Loss:0.9736751914024353 \n",
      "Epoch:12 Learning rate 0.0003303192043382449 Weight Decay 1e-07 Train Loss:0.9580448269844055  Valid Loss:0.970932126045227 \n",
      "Epoch:13 Learning rate 0.0002892507608519079 Weight Decay 1e-07 Train Loss:0.9597910642623901  Valid Loss:0.9717922210693359 \n",
      "Epoch:14 Learning rate 0.00025328833914159627 Weight Decay 1e-07 Train Loss:0.957531750202179  Valid Loss:0.9697216749191284 \n"
     ]
    }
   ],
   "source": [
    "learner.run_epochs(dltrain,None,15)"
   ]
  },
  {
   "cell_type": "code",
   "execution_count": 59,
   "metadata": {},
   "outputs": [
    {
     "name": "stdout",
     "output_type": "stream",
     "text": [
      "Epoch:0 Learning rate 0.00022179710973329017 Weight Decay 1e-07 Train Loss:0.9592588543891907  Valid Loss:0.9692702293395996 \n",
      "Epoch:1 Learning rate 0.00019422117122628438 Weight Decay 1e-07 Train Loss:0.954660952091217  Valid Loss:0.9675865173339844 \n",
      "Epoch:2 Learning rate 0.00017007373720004745 Weight Decay 1e-07 Train Loss:0.9565285444259644  Valid Loss:0.9694105386734009 \n",
      "Epoch:3 Learning rate 0.00014892854317869703 Weight Decay 1e-07 Train Loss:0.9564558863639832  Valid Loss:0.9661028385162354 \n",
      "Epoch:4 Learning rate 0.0001304123219638572 Weight Decay 1e-07 Train Loss:0.9566102027893066  Valid Loss:0.9707982540130615 \n",
      "Epoch:5 Learning rate 0.0001141982145061197 Weight Decay 1e-07 Train Loss:0.9572253823280334  Valid Loss:0.9696254730224609 \n",
      "Epoch:6 Learning rate 0.00010000000000000005 Weight Decay 1e-07 Train Loss:0.9548479914665222  Valid Loss:0.9673274159431458 \n",
      "Epoch:7 Learning rate 0.007 Weight Decay 1e-07 Train Loss:0.9951378107070923  Valid Loss:0.9983652830123901 \n",
      "Epoch:8 Learning rate 0.006550408478931407 Weight Decay 1e-07 Train Loss:0.9949395656585693  Valid Loss:0.9998754262924194 \n",
      "Epoch:9 Learning rate 0.006129693034408068 Weight Decay 1e-07 Train Loss:0.9932399988174438  Valid Loss:0.9956865906715393 \n",
      "Epoch:10 Learning rate 0.005735999032261914 Weight Decay 1e-07 Train Loss:0.9881453514099121  Valid Loss:0.9909003376960754 \n",
      "Epoch:11 Learning rate 0.005367590956581542 Weight Decay 1e-07 Train Loss:0.9869358539581299  Valid Loss:0.9913665056228638 \n",
      "Epoch:12 Learning rate 0.005022844759061039 Weight Decay 1e-07 Train Loss:0.9828818440437317  Valid Loss:0.985748827457428 \n",
      "Epoch:13 Learning rate 0.004700240699729945 Weight Decay 1e-07 Train Loss:0.9776741862297058  Valid Loss:0.9834834933280945 \n",
      "Epoch:14 Learning rate 0.004398356647504217 Weight Decay 1e-07 Train Loss:0.9737207293510437  Valid Loss:0.9799413084983826 \n"
     ]
    }
   ],
   "source": [
    "learner.run_epochs(dltrain,None,15)"
   ]
  },
  {
   "cell_type": "code",
   "execution_count": 60,
   "metadata": {},
   "outputs": [
    {
     "name": "stdout",
     "output_type": "stream",
     "text": [
      "Epoch:0 Learning rate 0.004115861811025134 Weight Decay 1e-07 Train Loss:0.9765990972518921  Valid Loss:0.983122706413269 \n",
      "Epoch:1 Learning rate 0.00385151087214986 Weight Decay 1e-07 Train Loss:0.9710649251937866  Valid Loss:0.9779210090637207 \n",
      "Epoch:2 Learning rate 0.0036041384962324204 Weight Decay 1e-07 Train Loss:0.9676681160926819  Valid Loss:0.974018931388855 \n",
      "Epoch:3 Learning rate 0.0033726541949948485 Weight Decay 1e-07 Train Loss:0.9675830602645874  Valid Loss:0.9760581254959106 \n",
      "Epoch:4 Learning rate 0.003156037519342548 Weight Decay 1e-07 Train Loss:0.9644343852996826  Valid Loss:0.9734668135643005 \n",
      "Epoch:5 Learning rate 0.002953333560932439 Weight Decay 1e-07 Train Loss:0.9610767364501953  Valid Loss:0.9712737798690796 \n",
      "Epoch:6 Learning rate 0.0027636487426635054 Weight Decay 1e-07 Train Loss:0.9607486128807068  Valid Loss:0.9702632427215576 \n",
      "Epoch:7 Learning rate 0.002586146879533021 Weight Decay 1e-07 Train Loss:0.9570226073265076  Valid Loss:0.9676288962364197 \n",
      "Epoch:8 Learning rate 0.0024200454924935863 Weight Decay 1e-07 Train Loss:0.9574759006500244  Valid Loss:0.9671382904052734 \n",
      "Epoch:9 Learning rate 0.0022646123590613887 Weight Decay 1e-07 Train Loss:0.9566437602043152  Valid Loss:0.9654860496520996 \n",
      "Epoch:10 Learning rate 0.002119162285469797 Weight Decay 1e-07 Train Loss:0.9540053009986877  Valid Loss:0.9649686217308044 \n",
      "Epoch:11 Learning rate 0.0019830540861390028 Weight Decay 1e-07 Train Loss:0.9493579864501953  Valid Loss:0.9606418013572693 \n",
      "Epoch:12 Learning rate 0.0018556877571463569 Weight Decay 1e-07 Train Loss:0.9475829005241394  Valid Loss:0.9614226818084717 \n",
      "Epoch:13 Learning rate 0.0017365018312372432 Weight Decay 1e-07 Train Loss:0.9468878507614136  Valid Loss:0.9583920836448669 \n",
      "Epoch:14 Learning rate 0.001624970902716622 Weight Decay 1e-07 Train Loss:0.9470193386077881  Valid Loss:0.9590421319007874 \n",
      "Epoch:15 Learning rate 0.0015206033113102548 Weight Decay 1e-07 Train Loss:0.9442853927612305  Valid Loss:0.9578931331634521 \n",
      "Epoch:16 Learning rate 0.0014229389747854096 Weight Decay 1e-07 Train Loss:0.9465311765670776  Valid Loss:0.9605273604393005 \n",
      "Epoch:17 Learning rate 0.001331547360776616 Weight Decay 1e-07 Train Loss:0.9412387013435364  Valid Loss:0.9547051191329956 \n",
      "Epoch:18 Learning rate 0.0012460255888756976 Weight Decay 1e-07 Train Loss:0.9431707262992859  Valid Loss:0.9565468430519104 \n",
      "Epoch:19 Learning rate 0.0011659966546195527 Weight Decay 1e-07 Train Loss:0.9419648051261902  Valid Loss:0.9549040198326111 \n",
      "Epoch:20 Learning rate 0.0010911077675465105 Weight Decay 1e-07 Train Loss:0.9410035014152527  Valid Loss:0.9533560872077942 \n",
      "Epoch:21 Learning rate 0.0010210287959949403 Weight Decay 1e-07 Train Loss:0.9379462003707886  Valid Loss:0.9515721201896667 \n",
      "Epoch:22 Learning rate 0.0009554508117883405 Weight Decay 1e-07 Train Loss:0.9390971660614014  Valid Loss:0.9544385075569153 \n",
      "Epoch:23 Learning rate 0.0008940847283914631 Weight Decay 1e-07 Train Loss:0.9381663799285889  Valid Loss:0.9527645111083984 \n",
      "Epoch:24 Learning rate 0.0008366600265340749 Weight Decay 1e-07 Train Loss:0.93684983253479  Valid Loss:0.9530676603317261 \n",
      "Epoch:25 Learning rate 0.0007829235616845401 Weight Decay 1e-07 Train Loss:0.9380443692207336  Valid Loss:0.9530715346336365 \n",
      "Epoch:26 Learning rate 0.0007326384481162268 Weight Decay 1e-07 Train Loss:0.9354608058929443  Valid Loss:0.9502055644989014 \n",
      "Epoch:27 Learning rate 0.0006855830146473829 Weight Decay 1e-07 Train Loss:0.9356155395507812  Valid Loss:0.9520196914672852 \n",
      "Epoch:28 Learning rate 0.0006415498274510818 Weight Decay 1e-07 Train Loss:0.9349921941757202  Valid Loss:0.9520708918571472 \n",
      "Epoch:29 Learning rate 0.0006003447756275068 Weight Decay 1e-07 Train Loss:0.9347637891769409  Valid Loss:0.951469361782074 \n",
      "Epoch:30 Learning rate 0.0005617862155075134 Weight Decay 1e-07 Train Loss:0.9342532157897949  Valid Loss:0.948559045791626 \n"
     ]
    }
   ],
   "source": [
    "learner.run_epochs(dltrain,None,31)"
   ]
  },
  {
   "cell_type": "code",
   "execution_count": 61,
   "metadata": {},
   "outputs": [
    {
     "name": "stderr",
     "output_type": "stream",
     "text": [
      "/home/kirana/anaconda3/lib/python3.7/site-packages/torch/serialization.py:256: UserWarning: Couldn't retrieve source code for container of type autoencoder. It won't be checked for correctness upon loading.\n",
      "  \"type \" + obj.__name__ + \". It won't be checked \"\n",
      "/home/kirana/anaconda3/lib/python3.7/site-packages/torch/serialization.py:256: UserWarning: Couldn't retrieve source code for container of type autoencoder. It won't be checked for correctness upon loading.\n",
      "  \"type \" + obj.__name__ + \". It won't be checked \"\n"
     ]
    }
   ],
   "source": [
    "torch.save(autoenc,f=f'{DATAPATH}/inter/user_autoenc')\n",
    "torch.save(learner,f=f'{DATAPATH}/inter/user_autoenc_learner')\n",
    "torch.save(optimizer,f=f'{DATAPATH}/inter/user_autoenc_optimizer')\n",
    "torch.save(autoenc.state_dict(),f'{DATAPATH}/inter/user_autoenc_state_dict')\n",
    "torch.save(optimizer.state_dict(),f'{DATAPATH}/inter/user_autoenc_optimizer_state_dict')"
   ]
  },
  {
   "cell_type": "code",
   "execution_count": 62,
   "metadata": {},
   "outputs": [
    {
     "data": {
      "text/plain": [
       "torch.Size([40, 3707])"
      ]
     },
     "execution_count": 62,
     "metadata": {},
     "output_type": "execute_result"
    }
   ],
   "source": [
    "autoenc.encoder[0][0].weight.data.shape"
   ]
  },
  {
   "cell_type": "code",
   "execution_count": 63,
   "metadata": {},
   "outputs": [
    {
     "data": {
      "text/plain": [
       "torch.Size([10, 40])"
      ]
     },
     "execution_count": 63,
     "metadata": {},
     "output_type": "execute_result"
    }
   ],
   "source": [
    "autoenc.encoder[1][0].weight.data.shape"
   ]
  },
  {
   "cell_type": "code",
   "execution_count": 64,
   "metadata": {},
   "outputs": [],
   "source": [
    "user_mtx_1_weights=autoenc.encoder[0][0].weight.data.cpu().numpy()\n",
    "user_mtx_2_weights=autoenc.encoder[1][0].weight.data.cpu().numpy()"
   ]
  },
  {
   "cell_type": "code",
   "execution_count": 65,
   "metadata": {},
   "outputs": [],
   "source": [
    "from scipy.special import expit"
   ]
  },
  {
   "cell_type": "markdown",
   "metadata": {},
   "source": [
    "df_train_user_autoenc=np.tanh(expit(df_train@user_mtx_1_weights.T)@user_mtx_2_weights.T)\n",
    "df_valid_user_autoenc=np.tanh(expit(df_valid@user_mtx_1_weights.T)@user_mtx_2_weights.T)"
   ]
  },
  {
   "cell_type": "code",
   "execution_count": 66,
   "metadata": {},
   "outputs": [],
   "source": [
    "df_train_user_autoenc=(expit(df_train@user_mtx_1_weights.T)@user_mtx_2_weights.T)\n",
    "df_valid_user_autoenc=(expit(df_valid@user_mtx_1_weights.T)@user_mtx_2_weights.T)"
   ]
  },
  {
   "cell_type": "code",
   "execution_count": 67,
   "metadata": {},
   "outputs": [
    {
     "data": {
      "text/plain": [
       "((6041, 10), (6041, 10))"
      ]
     },
     "execution_count": 67,
     "metadata": {},
     "output_type": "execute_result"
    }
   ],
   "source": [
    "df_train_user_autoenc.shape,df_valid_user_autoenc.shape"
   ]
  },
  {
   "cell_type": "code",
   "execution_count": 68,
   "metadata": {},
   "outputs": [],
   "source": [
    "df_train_user_autoenc=pd.DataFrame(df_train_user_autoenc)"
   ]
  },
  {
   "cell_type": "code",
   "execution_count": 69,
   "metadata": {},
   "outputs": [],
   "source": [
    "df_train_user_autoenc.columns=['user_autoenc'+str(i) for i in range(df_train_user_autoenc.shape[1])]"
   ]
  },
  {
   "cell_type": "code",
   "execution_count": 70,
   "metadata": {},
   "outputs": [],
   "source": [
    "df_valid_user_autoenc=pd.DataFrame(df_valid_user_autoenc)"
   ]
  },
  {
   "cell_type": "code",
   "execution_count": 71,
   "metadata": {},
   "outputs": [],
   "source": [
    "df_valid_user_autoenc.columns=['user_autoenc'+str(i) for i in range(df_valid_user_autoenc.shape[1])]"
   ]
  },
  {
   "cell_type": "code",
   "execution_count": 72,
   "metadata": {},
   "outputs": [],
   "source": [
    "df_train_user_autoenc.reset_index(inplace=True)\n",
    "df_valid_user_autoenc.reset_index(inplace=True)"
   ]
  },
  {
   "cell_type": "code",
   "execution_count": 73,
   "metadata": {},
   "outputs": [],
   "source": [
    "df_train_user_autoenc.rename({'index':'user_idx'},axis=1,inplace=True)"
   ]
  },
  {
   "cell_type": "code",
   "execution_count": 74,
   "metadata": {},
   "outputs": [],
   "source": [
    "df_valid_user_autoenc.rename({'index':'user_idx'},axis=1,inplace=True)"
   ]
  },
  {
   "cell_type": "code",
   "execution_count": 75,
   "metadata": {},
   "outputs": [
    {
     "data": {
      "text/html": [
       "<div>\n",
       "<style scoped>\n",
       "    .dataframe tbody tr th:only-of-type {\n",
       "        vertical-align: middle;\n",
       "    }\n",
       "\n",
       "    .dataframe tbody tr th {\n",
       "        vertical-align: top;\n",
       "    }\n",
       "\n",
       "    .dataframe thead th {\n",
       "        text-align: right;\n",
       "    }\n",
       "</style>\n",
       "<table border=\"1\" class=\"dataframe\">\n",
       "  <thead>\n",
       "    <tr style=\"text-align: right;\">\n",
       "      <th></th>\n",
       "      <th>user_idx</th>\n",
       "      <th>user_autoenc0</th>\n",
       "      <th>user_autoenc1</th>\n",
       "      <th>user_autoenc2</th>\n",
       "      <th>user_autoenc3</th>\n",
       "      <th>user_autoenc4</th>\n",
       "      <th>user_autoenc5</th>\n",
       "      <th>user_autoenc6</th>\n",
       "      <th>user_autoenc7</th>\n",
       "      <th>user_autoenc8</th>\n",
       "      <th>user_autoenc9</th>\n",
       "    </tr>\n",
       "  </thead>\n",
       "  <tbody>\n",
       "    <tr>\n",
       "      <th>0</th>\n",
       "      <td>0</td>\n",
       "      <td>-0.131411</td>\n",
       "      <td>-1.867321</td>\n",
       "      <td>-1.034773</td>\n",
       "      <td>-0.652261</td>\n",
       "      <td>-1.801149</td>\n",
       "      <td>-1.348989</td>\n",
       "      <td>-2.631876</td>\n",
       "      <td>0.922943</td>\n",
       "      <td>1.640687</td>\n",
       "      <td>-0.200797</td>\n",
       "    </tr>\n",
       "    <tr>\n",
       "      <th>1</th>\n",
       "      <td>1</td>\n",
       "      <td>1.066437</td>\n",
       "      <td>-0.769391</td>\n",
       "      <td>1.397299</td>\n",
       "      <td>-0.614779</td>\n",
       "      <td>-2.255088</td>\n",
       "      <td>0.802201</td>\n",
       "      <td>0.277280</td>\n",
       "      <td>1.107929</td>\n",
       "      <td>0.140370</td>\n",
       "      <td>0.511113</td>\n",
       "    </tr>\n",
       "    <tr>\n",
       "      <th>2</th>\n",
       "      <td>2</td>\n",
       "      <td>0.164834</td>\n",
       "      <td>-0.302516</td>\n",
       "      <td>-0.110159</td>\n",
       "      <td>1.606218</td>\n",
       "      <td>1.272078</td>\n",
       "      <td>-0.461646</td>\n",
       "      <td>0.396851</td>\n",
       "      <td>-0.093426</td>\n",
       "      <td>-0.577105</td>\n",
       "      <td>0.313789</td>\n",
       "    </tr>\n",
       "    <tr>\n",
       "      <th>3</th>\n",
       "      <td>3</td>\n",
       "      <td>0.376587</td>\n",
       "      <td>-0.299099</td>\n",
       "      <td>0.583110</td>\n",
       "      <td>-0.180737</td>\n",
       "      <td>-0.767343</td>\n",
       "      <td>1.249731</td>\n",
       "      <td>0.616019</td>\n",
       "      <td>0.303022</td>\n",
       "      <td>-0.390305</td>\n",
       "      <td>0.327489</td>\n",
       "    </tr>\n",
       "    <tr>\n",
       "      <th>4</th>\n",
       "      <td>4</td>\n",
       "      <td>0.122414</td>\n",
       "      <td>0.068338</td>\n",
       "      <td>-1.488121</td>\n",
       "      <td>-0.774750</td>\n",
       "      <td>1.677763</td>\n",
       "      <td>-1.009944</td>\n",
       "      <td>-1.013061</td>\n",
       "      <td>-1.366796</td>\n",
       "      <td>1.194140</td>\n",
       "      <td>-1.049694</td>\n",
       "    </tr>\n",
       "  </tbody>\n",
       "</table>\n",
       "</div>"
      ],
      "text/plain": [
       "   user_idx  user_autoenc0  user_autoenc1  user_autoenc2  user_autoenc3  \\\n",
       "0         0      -0.131411      -1.867321      -1.034773      -0.652261   \n",
       "1         1       1.066437      -0.769391       1.397299      -0.614779   \n",
       "2         2       0.164834      -0.302516      -0.110159       1.606218   \n",
       "3         3       0.376587      -0.299099       0.583110      -0.180737   \n",
       "4         4       0.122414       0.068338      -1.488121      -0.774750   \n",
       "\n",
       "   user_autoenc4  user_autoenc5  user_autoenc6  user_autoenc7  user_autoenc8  \\\n",
       "0      -1.801149      -1.348989      -2.631876       0.922943       1.640687   \n",
       "1      -2.255088       0.802201       0.277280       1.107929       0.140370   \n",
       "2       1.272078      -0.461646       0.396851      -0.093426      -0.577105   \n",
       "3      -0.767343       1.249731       0.616019       0.303022      -0.390305   \n",
       "4       1.677763      -1.009944      -1.013061      -1.366796       1.194140   \n",
       "\n",
       "   user_autoenc9  \n",
       "0      -0.200797  \n",
       "1       0.511113  \n",
       "2       0.313789  \n",
       "3       0.327489  \n",
       "4      -1.049694  "
      ]
     },
     "execution_count": 75,
     "metadata": {},
     "output_type": "execute_result"
    }
   ],
   "source": [
    "df_train_user_autoenc.head()"
   ]
  },
  {
   "cell_type": "code",
   "execution_count": 76,
   "metadata": {},
   "outputs": [],
   "source": [
    "import pickle\n",
    "pickle.dump([df_train_user_autoenc,df_valid_user_autoenc,user_mtx_1_weights,user_mtx_2_weights],open(f'{DATAPATH}/inter/user_autoenc_weights.pkl','wb'))"
   ]
  },
  {
   "cell_type": "code",
   "execution_count": 77,
   "metadata": {},
   "outputs": [
    {
     "data": {
      "text/plain": [
       "Sequential(\n",
       "  (0): Sequential(\n",
       "    (0): Linear(in_features=3707, out_features=40, bias=True)\n",
       "    (1): Sigmoid()\n",
       "    (2): Dropout(p=0.2)\n",
       "  )\n",
       "  (1): Sequential(\n",
       "    (0): Linear(in_features=40, out_features=10, bias=True)\n",
       "    (1): Tanh()\n",
       "    (2): Dropout(p=0.2)\n",
       "  )\n",
       ")"
      ]
     },
     "execution_count": 77,
     "metadata": {},
     "output_type": "execute_result"
    }
   ],
   "source": [
    "autoenc.encoder"
   ]
  },
  {
   "cell_type": "code",
   "execution_count": 78,
   "metadata": {},
   "outputs": [
    {
     "data": {
      "text/plain": [
       "(6041, 11)"
      ]
     },
     "execution_count": 78,
     "metadata": {},
     "output_type": "execute_result"
    }
   ],
   "source": [
    "df_train_user_autoenc.shape"
   ]
  },
  {
   "cell_type": "code",
   "execution_count": null,
   "metadata": {},
   "outputs": [],
   "source": []
  }
 ],
 "metadata": {
  "kernelspec": {
   "display_name": "Python 3",
   "language": "python",
   "name": "python3"
  },
  "language_info": {
   "codemirror_mode": {
    "name": "ipython",
    "version": 3
   },
   "file_extension": ".py",
   "mimetype": "text/x-python",
   "name": "python",
   "nbconvert_exporter": "python",
   "pygments_lexer": "ipython3",
   "version": "3.7.3"
  }
 },
 "nbformat": 4,
 "nbformat_minor": 2
}
