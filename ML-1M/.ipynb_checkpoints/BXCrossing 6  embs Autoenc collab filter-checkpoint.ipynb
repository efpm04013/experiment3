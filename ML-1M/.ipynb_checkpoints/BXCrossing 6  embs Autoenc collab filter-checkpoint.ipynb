{
 "cells": [
  {
   "cell_type": "code",
   "execution_count": 1,
   "metadata": {},
   "outputs": [],
   "source": [
    "PATH='/home/kirana/Documents/phd/exp3_autoencoder'\n",
    "DATAPATH='/home/kirana/Documents/final_dissertation_final/experiments/datasets/bookcrossing'"
   ]
  },
  {
   "cell_type": "code",
   "execution_count": 2,
   "metadata": {},
   "outputs": [],
   "source": [
    "import pandas as pd\n",
    "import numpy as np\n",
    "import matplotlib.pyplot as plt\n",
    "import sklearn\n",
    "import os\n",
    "import pickle\n",
    "import torch\n",
    "from torch.utils.data import Dataset, DataLoader\n",
    "from torch import nn"
   ]
  },
  {
   "cell_type": "code",
   "execution_count": 3,
   "metadata": {},
   "outputs": [],
   "source": [
    "os.environ['CUDA_LAUNCH_BLOCKING'] = \"1\""
   ]
  },
  {
   "cell_type": "code",
   "execution_count": 4,
   "metadata": {},
   "outputs": [],
   "source": [
    "[df, df_train,df_valid,df,df_ratings,idx_to_user,\\\n",
    "             idx_to_movie,movie_to_idx,user_to_idx]=pickle.load(open(f'{DATAPATH}/reads.pkl','rb'))"
   ]
  },
  {
   "cell_type": "code",
   "execution_count": 5,
   "metadata": {},
   "outputs": [
    {
     "data": {
      "text/plain": [
       "(433671, 22)"
      ]
     },
     "execution_count": 5,
     "metadata": {},
     "output_type": "execute_result"
    }
   ],
   "source": [
    "df.shape"
   ]
  },
  {
   "cell_type": "code",
   "execution_count": 6,
   "metadata": {},
   "outputs": [],
   "source": [
    "df_train=df.loc[df['random_dstype']=='train']\n",
    "df_valid=df.loc[df['random_dstype']!='train']"
   ]
  },
  {
   "cell_type": "code",
   "execution_count": 7,
   "metadata": {},
   "outputs": [
    {
     "data": {
      "text/html": [
       "<div>\n",
       "<style scoped>\n",
       "    .dataframe tbody tr th:only-of-type {\n",
       "        vertical-align: middle;\n",
       "    }\n",
       "\n",
       "    .dataframe tbody tr th {\n",
       "        vertical-align: top;\n",
       "    }\n",
       "\n",
       "    .dataframe thead th {\n",
       "        text-align: right;\n",
       "    }\n",
       "</style>\n",
       "<table border=\"1\" class=\"dataframe\">\n",
       "  <thead>\n",
       "    <tr style=\"text-align: right;\">\n",
       "      <th></th>\n",
       "      <th>49299</th>\n",
       "      <th>339650</th>\n",
       "      <th>358933</th>\n",
       "      <th>393023</th>\n",
       "      <th>347702</th>\n",
       "    </tr>\n",
       "  </thead>\n",
       "  <tbody>\n",
       "    <tr>\n",
       "      <th>userId</th>\n",
       "      <td>26538</td>\n",
       "      <td>213826</td>\n",
       "      <td>227054</td>\n",
       "      <td>248656</td>\n",
       "      <td>220091</td>\n",
       "    </tr>\n",
       "    <tr>\n",
       "      <th>itemId</th>\n",
       "      <td>0590010891</td>\n",
       "      <td>1562764047</td>\n",
       "      <td>0553284789</td>\n",
       "      <td>0380977788</td>\n",
       "      <td>0425172996</td>\n",
       "    </tr>\n",
       "    <tr>\n",
       "      <th>rating</th>\n",
       "      <td>10</td>\n",
       "      <td>7</td>\n",
       "      <td>7</td>\n",
       "      <td>10</td>\n",
       "      <td>8</td>\n",
       "    </tr>\n",
       "    <tr>\n",
       "      <th>num_ratings_per_user_gt_20</th>\n",
       "      <td>True</td>\n",
       "      <td>False</td>\n",
       "      <td>False</td>\n",
       "      <td>True</td>\n",
       "      <td>True</td>\n",
       "    </tr>\n",
       "    <tr>\n",
       "      <th>num_ratings_per_item_gt_200</th>\n",
       "      <td>False</td>\n",
       "      <td>False</td>\n",
       "      <td>False</td>\n",
       "      <td>False</td>\n",
       "      <td>False</td>\n",
       "    </tr>\n",
       "    <tr>\n",
       "      <th>flag_clean_considered</th>\n",
       "      <td>False</td>\n",
       "      <td>False</td>\n",
       "      <td>False</td>\n",
       "      <td>False</td>\n",
       "      <td>False</td>\n",
       "    </tr>\n",
       "    <tr>\n",
       "      <th>Location</th>\n",
       "      <td>rawlins, wyoming, usa</td>\n",
       "      <td>university city, missouri, usa</td>\n",
       "      <td>nampa, idaho, usa</td>\n",
       "      <td>altamonte springs, florida, usa</td>\n",
       "      <td>san diego, california, usa</td>\n",
       "    </tr>\n",
       "    <tr>\n",
       "      <th>Age</th>\n",
       "      <td>32</td>\n",
       "      <td>40</td>\n",
       "      <td>27</td>\n",
       "      <td>34</td>\n",
       "      <td>NaN</td>\n",
       "    </tr>\n",
       "    <tr>\n",
       "      <th>Book-Title</th>\n",
       "      <td>Star Wars Episode I: The Phantom Menace</td>\n",
       "      <td>How the Internet Works (How It Works Series (E...</td>\n",
       "      <td>F Is for Fugitive (Kinsey Millhone Mysteries (...</td>\n",
       "      <td>Coraline</td>\n",
       "      <td>Vector</td>\n",
       "    </tr>\n",
       "    <tr>\n",
       "      <th>Book-Author</th>\n",
       "      <td>Patricia C. Wrede</td>\n",
       "      <td>Preston Gralla</td>\n",
       "      <td>Sue Grafton</td>\n",
       "      <td>Neil Gaiman</td>\n",
       "      <td>Robin Cook</td>\n",
       "    </tr>\n",
       "    <tr>\n",
       "      <th>Year-Of-Publication</th>\n",
       "      <td>1999</td>\n",
       "      <td>1996</td>\n",
       "      <td>1990</td>\n",
       "      <td>2002</td>\n",
       "      <td>2000</td>\n",
       "    </tr>\n",
       "    <tr>\n",
       "      <th>Publisher</th>\n",
       "      <td>Scholastic</td>\n",
       "      <td>Macmillan Computer Pub</td>\n",
       "      <td>Bantam</td>\n",
       "      <td>HarperCollins</td>\n",
       "      <td>Berkley Publishing Group</td>\n",
       "    </tr>\n",
       "    <tr>\n",
       "      <th>random_dstype</th>\n",
       "      <td>train</td>\n",
       "      <td>train</td>\n",
       "      <td>train</td>\n",
       "      <td>train</td>\n",
       "      <td>train</td>\n",
       "    </tr>\n",
       "    <tr>\n",
       "      <th>user_idx</th>\n",
       "      <td>1</td>\n",
       "      <td>2</td>\n",
       "      <td>3</td>\n",
       "      <td>4</td>\n",
       "      <td>5</td>\n",
       "    </tr>\n",
       "    <tr>\n",
       "      <th>item_idx</th>\n",
       "      <td>1</td>\n",
       "      <td>2</td>\n",
       "      <td>3</td>\n",
       "      <td>4</td>\n",
       "      <td>5</td>\n",
       "    </tr>\n",
       "    <tr>\n",
       "      <th>dstype_random_train</th>\n",
       "      <td>1</td>\n",
       "      <td>1</td>\n",
       "      <td>1</td>\n",
       "      <td>1</td>\n",
       "      <td>1</td>\n",
       "    </tr>\n",
       "    <tr>\n",
       "      <th>dstype_random_valid</th>\n",
       "      <td>0</td>\n",
       "      <td>0</td>\n",
       "      <td>0</td>\n",
       "      <td>0</td>\n",
       "      <td>0</td>\n",
       "    </tr>\n",
       "    <tr>\n",
       "      <th>location_idx</th>\n",
       "      <td>1</td>\n",
       "      <td>2</td>\n",
       "      <td>3</td>\n",
       "      <td>4</td>\n",
       "      <td>5</td>\n",
       "    </tr>\n",
       "    <tr>\n",
       "      <th>age_idx</th>\n",
       "      <td>1</td>\n",
       "      <td>2</td>\n",
       "      <td>3</td>\n",
       "      <td>4</td>\n",
       "      <td>0</td>\n",
       "    </tr>\n",
       "    <tr>\n",
       "      <th>title_idx</th>\n",
       "      <td>1</td>\n",
       "      <td>2</td>\n",
       "      <td>3</td>\n",
       "      <td>4</td>\n",
       "      <td>5</td>\n",
       "    </tr>\n",
       "    <tr>\n",
       "      <th>author_idx</th>\n",
       "      <td>1</td>\n",
       "      <td>2</td>\n",
       "      <td>3</td>\n",
       "      <td>4</td>\n",
       "      <td>5</td>\n",
       "    </tr>\n",
       "    <tr>\n",
       "      <th>publisher_idx</th>\n",
       "      <td>1</td>\n",
       "      <td>2</td>\n",
       "      <td>3</td>\n",
       "      <td>4</td>\n",
       "      <td>5</td>\n",
       "    </tr>\n",
       "  </tbody>\n",
       "</table>\n",
       "</div>"
      ],
      "text/plain": [
       "                                                              49299   \\\n",
       "userId                                                         26538   \n",
       "itemId                                                    0590010891   \n",
       "rating                                                            10   \n",
       "num_ratings_per_user_gt_20                                      True   \n",
       "num_ratings_per_item_gt_200                                    False   \n",
       "flag_clean_considered                                          False   \n",
       "Location                                       rawlins, wyoming, usa   \n",
       "Age                                                               32   \n",
       "Book-Title                   Star Wars Episode I: The Phantom Menace   \n",
       "Book-Author                                        Patricia C. Wrede   \n",
       "Year-Of-Publication                                             1999   \n",
       "Publisher                                                 Scholastic   \n",
       "random_dstype                                                  train   \n",
       "user_idx                                                           1   \n",
       "item_idx                                                           1   \n",
       "dstype_random_train                                                1   \n",
       "dstype_random_valid                                                0   \n",
       "location_idx                                                       1   \n",
       "age_idx                                                            1   \n",
       "title_idx                                                          1   \n",
       "author_idx                                                         1   \n",
       "publisher_idx                                                      1   \n",
       "\n",
       "                                                                        339650  \\\n",
       "userId                                                                  213826   \n",
       "itemId                                                              1562764047   \n",
       "rating                                                                       7   \n",
       "num_ratings_per_user_gt_20                                               False   \n",
       "num_ratings_per_item_gt_200                                              False   \n",
       "flag_clean_considered                                                    False   \n",
       "Location                                        university city, missouri, usa   \n",
       "Age                                                                         40   \n",
       "Book-Title                   How the Internet Works (How It Works Series (E...   \n",
       "Book-Author                                                     Preston Gralla   \n",
       "Year-Of-Publication                                                       1996   \n",
       "Publisher                                               Macmillan Computer Pub   \n",
       "random_dstype                                                            train   \n",
       "user_idx                                                                     2   \n",
       "item_idx                                                                     2   \n",
       "dstype_random_train                                                          1   \n",
       "dstype_random_valid                                                          0   \n",
       "location_idx                                                                 2   \n",
       "age_idx                                                                      2   \n",
       "title_idx                                                                    2   \n",
       "author_idx                                                                   2   \n",
       "publisher_idx                                                                2   \n",
       "\n",
       "                                                                        358933  \\\n",
       "userId                                                                  227054   \n",
       "itemId                                                              0553284789   \n",
       "rating                                                                       7   \n",
       "num_ratings_per_user_gt_20                                               False   \n",
       "num_ratings_per_item_gt_200                                              False   \n",
       "flag_clean_considered                                                    False   \n",
       "Location                                                     nampa, idaho, usa   \n",
       "Age                                                                         27   \n",
       "Book-Title                   F Is for Fugitive (Kinsey Millhone Mysteries (...   \n",
       "Book-Author                                                        Sue Grafton   \n",
       "Year-Of-Publication                                                       1990   \n",
       "Publisher                                                               Bantam   \n",
       "random_dstype                                                            train   \n",
       "user_idx                                                                     3   \n",
       "item_idx                                                                     3   \n",
       "dstype_random_train                                                          1   \n",
       "dstype_random_valid                                                          0   \n",
       "location_idx                                                                 3   \n",
       "age_idx                                                                      3   \n",
       "title_idx                                                                    3   \n",
       "author_idx                                                                   3   \n",
       "publisher_idx                                                                3   \n",
       "\n",
       "                                                      393023  \\\n",
       "userId                                                248656   \n",
       "itemId                                            0380977788   \n",
       "rating                                                    10   \n",
       "num_ratings_per_user_gt_20                              True   \n",
       "num_ratings_per_item_gt_200                            False   \n",
       "flag_clean_considered                                  False   \n",
       "Location                     altamonte springs, florida, usa   \n",
       "Age                                                       34   \n",
       "Book-Title                                          Coraline   \n",
       "Book-Author                                      Neil Gaiman   \n",
       "Year-Of-Publication                                     2002   \n",
       "Publisher                                      HarperCollins   \n",
       "random_dstype                                          train   \n",
       "user_idx                                                   4   \n",
       "item_idx                                                   4   \n",
       "dstype_random_train                                        1   \n",
       "dstype_random_valid                                        0   \n",
       "location_idx                                               4   \n",
       "age_idx                                                    4   \n",
       "title_idx                                                  4   \n",
       "author_idx                                                 4   \n",
       "publisher_idx                                              4   \n",
       "\n",
       "                                                 347702  \n",
       "userId                                           220091  \n",
       "itemId                                       0425172996  \n",
       "rating                                                8  \n",
       "num_ratings_per_user_gt_20                         True  \n",
       "num_ratings_per_item_gt_200                       False  \n",
       "flag_clean_considered                             False  \n",
       "Location                     san diego, california, usa  \n",
       "Age                                                 NaN  \n",
       "Book-Title                                       Vector  \n",
       "Book-Author                                  Robin Cook  \n",
       "Year-Of-Publication                                2000  \n",
       "Publisher                      Berkley Publishing Group  \n",
       "random_dstype                                     train  \n",
       "user_idx                                              5  \n",
       "item_idx                                              5  \n",
       "dstype_random_train                                   1  \n",
       "dstype_random_valid                                   0  \n",
       "location_idx                                          5  \n",
       "age_idx                                               0  \n",
       "title_idx                                             5  \n",
       "author_idx                                            5  \n",
       "publisher_idx                                         5  "
      ]
     },
     "execution_count": 7,
     "metadata": {},
     "output_type": "execute_result"
    }
   ],
   "source": [
    "df_train.head().T"
   ]
  },
  {
   "cell_type": "code",
   "execution_count": 8,
   "metadata": {},
   "outputs": [
    {
     "data": {
      "text/plain": [
       "((390303, 22), (43368, 22))"
      ]
     },
     "execution_count": 8,
     "metadata": {},
     "output_type": "execute_result"
    }
   ],
   "source": [
    "df_train.shape,df_valid.shape"
   ]
  },
  {
   "cell_type": "markdown",
   "metadata": {},
   "source": [
    "### Add the autoencoder features"
   ]
  },
  {
   "cell_type": "code",
   "execution_count": 9,
   "metadata": {},
   "outputs": [],
   "source": [
    "import pickle"
   ]
  },
  {
   "cell_type": "code",
   "execution_count": 10,
   "metadata": {},
   "outputs": [],
   "source": [
    "[df_train_user_autoenc,df_valid_user_autoenc,user_mtx_1_weights,user_mtx_2_weights]=\\\n",
    "    pickle.load(open(f'{DATAPATH}/inter/user_autoenc_weights.pkl','rb'))"
   ]
  },
  {
   "cell_type": "code",
   "execution_count": 11,
   "metadata": {},
   "outputs": [],
   "source": [
    "[df_train_item_autoenc, df_valid_item_autoenc,item_mtx_1_weights,item_mtx_2_weights]=\\\n",
    "    pickle.load(open(f'{DATAPATH}/inter/item_autoenc_weights.pkl','rb'))"
   ]
  },
  {
   "cell_type": "code",
   "execution_count": 12,
   "metadata": {},
   "outputs": [
    {
     "data": {
      "text/plain": [
       "((77806, 11),\n",
       " pandas.core.frame.DataFrame,\n",
       "    user_idx  user_autoenc0  user_autoenc1  user_autoenc2  user_autoenc3  \\\n",
       " 0         0      -1.892300       1.902252      -1.564169      -1.901883   \n",
       " 1         1      -1.686263       1.694752      -1.398009      -1.695426   \n",
       " 2         2      -1.989719       2.000360      -1.642692      -1.999496   \n",
       " 3         3      -1.736229       1.745061      -1.438396      -1.745506   \n",
       " 4         4      -1.773188       1.782292      -1.468106      -1.782527   \n",
       " \n",
       "    user_autoenc4  user_autoenc5  user_autoenc6  user_autoenc7  user_autoenc8  \\\n",
       " 0       1.871288      -1.915076      -1.498631      -1.815667       1.510823   \n",
       " 1       1.667029      -1.706558      -1.339383      -1.617516       1.350429   \n",
       " 2       1.967867      -2.013657      -1.573877      -1.909373       1.586619   \n",
       " 3       1.716551      -1.757121      -1.378085      -1.665560       1.389419   \n",
       " 4       1.753202      -1.794527      -1.406562      -1.701115       1.418095   \n",
       " \n",
       "    user_autoenc9  \n",
       " 0      -1.943609  \n",
       " 1      -1.732796  \n",
       " 2      -2.043264  \n",
       " 3      -1.783935  \n",
       " 4      -1.821732  )"
      ]
     },
     "execution_count": 12,
     "metadata": {},
     "output_type": "execute_result"
    }
   ],
   "source": [
    "df_train_user_autoenc.shape, type(df_train_user_autoenc),df_train_user_autoenc.head()"
   ]
  },
  {
   "cell_type": "code",
   "execution_count": 13,
   "metadata": {},
   "outputs": [
    {
     "data": {
      "text/plain": [
       "((77806, 11),\n",
       " pandas.core.frame.DataFrame,\n",
       "    user_idx  user_autoenc0  user_autoenc1  user_autoenc2  user_autoenc3  \\\n",
       " 0         0      -1.686263       1.694752      -1.398009      -1.695426   \n",
       " 1         1      -1.686263       1.694752      -1.398009      -1.695426   \n",
       " 2         2      -1.686277       1.694766      -1.398021      -1.695440   \n",
       " 3         3      -1.686269       1.694758      -1.398014      -1.695432   \n",
       " 4         4      -1.686263       1.694752      -1.398009      -1.695426   \n",
       " \n",
       "    user_autoenc4  user_autoenc5  user_autoenc6  user_autoenc7  user_autoenc8  \\\n",
       " 0       1.667029      -1.706558      -1.339383      -1.617516       1.350429   \n",
       " 1       1.667029      -1.706558      -1.339383      -1.617516       1.350429   \n",
       " 2       1.667043      -1.706572      -1.339395      -1.617529       1.350440   \n",
       " 3       1.667034      -1.706564      -1.339388      -1.617521       1.350434   \n",
       " 4       1.667029      -1.706558      -1.339383      -1.617516       1.350429   \n",
       " \n",
       "    user_autoenc9  \n",
       " 0      -1.732796  \n",
       " 1      -1.732796  \n",
       " 2      -1.732811  \n",
       " 3      -1.732802  \n",
       " 4      -1.732796  )"
      ]
     },
     "execution_count": 13,
     "metadata": {},
     "output_type": "execute_result"
    }
   ],
   "source": [
    "df_valid_user_autoenc.shape, type(df_valid_user_autoenc),df_valid_user_autoenc.head()"
   ]
  },
  {
   "cell_type": "code",
   "execution_count": 14,
   "metadata": {},
   "outputs": [
    {
     "data": {
      "text/plain": [
       "((185974, 26),\n",
       " pandas.core.frame.DataFrame,\n",
       "    item_idx  item_autoenc0  item_autoenc1  item_autoenc2  item_autoenc3  \\\n",
       " 0         0       1.579132       1.517978       1.578589      -1.540997   \n",
       " 1         1       1.569089       1.508334       1.568551      -1.531216   \n",
       " 2         2       1.585941       1.524516       1.585391      -1.547614   \n",
       " 3         3       1.584902       1.523516       1.584351      -1.546593   \n",
       " 4         4       1.574386       1.513422       1.573842      -1.536364   \n",
       " \n",
       "    item_autoenc4  item_autoenc5  item_autoenc6  item_autoenc7  item_autoenc8  \\\n",
       " 0       1.538934      -1.536199      -1.519847      -1.565494      -1.585846   \n",
       " 1       1.529148      -1.526430      -1.510185      -1.555542      -1.575764   \n",
       " 2       1.545570      -1.542825      -1.526399      -1.572234      -1.592677   \n",
       " 3       1.544561      -1.541814      -1.525400      -1.571202      -1.591634   \n",
       " 4       1.534310      -1.531584      -1.515284      -1.560782      -1.581078   \n",
       " \n",
       "    ...  item_autoenc15  item_autoenc16  item_autoenc17  item_autoenc18  \\\n",
       " 0  ...        1.543547       -1.536552        1.565131       -1.588676   \n",
       " 1  ...        1.533724       -1.526794        1.555178       -1.578577   \n",
       " 2  ...        1.550212       -1.543148        1.571881       -1.595518   \n",
       " 3  ...        1.549199       -1.542131        1.570850       -1.594473   \n",
       " 4  ...        1.538910       -1.531927        1.560429       -1.583899   \n",
       " \n",
       "    item_autoenc19  item_autoenc20  item_autoenc21  item_autoenc22  \\\n",
       " 0        1.430281        1.493781       -1.519735       -1.587672   \n",
       " 1        1.421204        1.484275       -1.510066       -1.577579   \n",
       " 2        1.436406        1.500238       -1.526294       -1.594510   \n",
       " 3        1.435454        1.499260       -1.525299       -1.593467   \n",
       " 4        1.425974        1.489298       -1.515168       -1.582898   \n",
       " \n",
       "    item_autoenc23  item_autoenc24  \n",
       " 0       -1.460990        1.558221  \n",
       " 1       -1.451687        1.548311  \n",
       " 2       -1.467309        1.564942  \n",
       " 3       -1.466349        1.563919  \n",
       " 4       -1.456599        1.553540  \n",
       " \n",
       " [5 rows x 26 columns])"
      ]
     },
     "execution_count": 14,
     "metadata": {},
     "output_type": "execute_result"
    }
   ],
   "source": [
    "df_train_item_autoenc.shape, type(df_train_item_autoenc),df_train_item_autoenc.head()"
   ]
  },
  {
   "cell_type": "code",
   "execution_count": 15,
   "metadata": {},
   "outputs": [
    {
     "data": {
      "text/plain": [
       "((185974, 26),\n",
       " pandas.core.frame.DataFrame,\n",
       "    item_idx  item_autoenc0  item_autoenc1  item_autoenc2  item_autoenc3  \\\n",
       " 0         0       1.569107       1.508351       1.568569      -1.531233   \n",
       " 1         1       1.569089       1.508334       1.568551      -1.531216   \n",
       " 2         2       1.569945       1.509156       1.569407      -1.532050   \n",
       " 3         3       1.570643       1.509825       1.570102      -1.532723   \n",
       " 4         4       1.569108       1.508352       1.568570      -1.531234   \n",
       " \n",
       "    item_autoenc4  item_autoenc5  item_autoenc6  item_autoenc7  item_autoenc8  \\\n",
       " 0       1.529166      -1.526447      -1.510202      -1.555560      -1.575782   \n",
       " 1       1.529148      -1.526430      -1.510185      -1.555542      -1.575764   \n",
       " 2       1.529982      -1.527262      -1.511008      -1.556391      -1.576623   \n",
       " 3       1.530662      -1.527941      -1.511679      -1.557078      -1.577322   \n",
       " 4       1.529166      -1.526448      -1.510203      -1.555561      -1.575783   \n",
       " \n",
       "    ...  item_autoenc15  item_autoenc16  item_autoenc17  item_autoenc18  \\\n",
       " 0  ...        1.533742       -1.526812        1.555196       -1.578595   \n",
       " 1  ...        1.533724       -1.526794        1.555178       -1.578577   \n",
       " 2  ...        1.534562       -1.527626        1.556027       -1.579438   \n",
       " 3  ...        1.535246       -1.528297        1.556718       -1.580137   \n",
       " 4  ...        1.533742       -1.526812        1.555196       -1.578595   \n",
       " \n",
       "    item_autoenc19  item_autoenc20  item_autoenc21  item_autoenc22  \\\n",
       " 0        1.421221        1.484292       -1.510084       -1.577597   \n",
       " 1        1.421204        1.484275       -1.510066       -1.577579   \n",
       " 2        1.421978        1.485085       -1.510890       -1.578439   \n",
       " 3        1.422599        1.485749       -1.511563       -1.579138   \n",
       " 4        1.421221        1.484292       -1.510084       -1.577597   \n",
       " \n",
       "    item_autoenc23  item_autoenc24  \n",
       " 0       -1.451704        1.548329  \n",
       " 1       -1.451687        1.548311  \n",
       " 2       -1.452481        1.549156  \n",
       " 3       -1.453129        1.549845  \n",
       " 4       -1.451705        1.548330  \n",
       " \n",
       " [5 rows x 26 columns])"
      ]
     },
     "execution_count": 15,
     "metadata": {},
     "output_type": "execute_result"
    }
   ],
   "source": [
    "df_valid_item_autoenc.shape, type(df_valid_item_autoenc),df_valid_item_autoenc.head()"
   ]
  },
  {
   "cell_type": "code",
   "execution_count": 16,
   "metadata": {},
   "outputs": [
    {
     "data": {
      "text/plain": [
       "user_idx         False\n",
       "user_autoenc0    False\n",
       "user_autoenc1    False\n",
       "user_autoenc2    False\n",
       "user_autoenc3    False\n",
       "user_autoenc4    False\n",
       "user_autoenc5    False\n",
       "user_autoenc6    False\n",
       "user_autoenc7    False\n",
       "user_autoenc8    False\n",
       "user_autoenc9    False\n",
       "dtype: bool"
      ]
     },
     "execution_count": 16,
     "metadata": {},
     "output_type": "execute_result"
    }
   ],
   "source": [
    "df_valid_user_autoenc.isnull().any()"
   ]
  },
  {
   "cell_type": "code",
   "execution_count": 17,
   "metadata": {},
   "outputs": [
    {
     "data": {
      "text/plain": [
       "((390303, 22), (43368, 22))"
      ]
     },
     "execution_count": 17,
     "metadata": {},
     "output_type": "execute_result"
    }
   ],
   "source": [
    "df_train.shape, df_valid.shape"
   ]
  },
  {
   "cell_type": "code",
   "execution_count": 18,
   "metadata": {},
   "outputs": [],
   "source": [
    "df_train=pd.merge(df_train,df_train_item_autoenc,on='item_idx',how='left')"
   ]
  },
  {
   "cell_type": "code",
   "execution_count": 19,
   "metadata": {},
   "outputs": [
    {
     "data": {
      "text/plain": [
       "(390303, 47)"
      ]
     },
     "execution_count": 19,
     "metadata": {},
     "output_type": "execute_result"
    }
   ],
   "source": [
    "df_train.shape"
   ]
  },
  {
   "cell_type": "code",
   "execution_count": 20,
   "metadata": {},
   "outputs": [
    {
     "name": "stdout",
     "output_type": "stream",
     "text": [
      "(43368, 22)\n"
     ]
    },
    {
     "data": {
      "text/plain": [
       "(43368, 47)"
      ]
     },
     "execution_count": 20,
     "metadata": {},
     "output_type": "execute_result"
    }
   ],
   "source": [
    "print(df_valid.shape)\n",
    "df_valid=pd.merge(df_valid,df_valid_item_autoenc,on='item_idx',how='left')\n",
    "df_valid.shape"
   ]
  },
  {
   "cell_type": "code",
   "execution_count": 21,
   "metadata": {},
   "outputs": [
    {
     "name": "stdout",
     "output_type": "stream",
     "text": [
      "(43368, 47)\n"
     ]
    },
    {
     "data": {
      "text/plain": [
       "(43368, 57)"
      ]
     },
     "execution_count": 21,
     "metadata": {},
     "output_type": "execute_result"
    }
   ],
   "source": [
    "print(df_valid.shape)\n",
    "df_valid=pd.merge(df_valid,df_valid_user_autoenc,on='user_idx',how='left')\n",
    "df_valid.shape"
   ]
  },
  {
   "cell_type": "code",
   "execution_count": 22,
   "metadata": {},
   "outputs": [
    {
     "name": "stdout",
     "output_type": "stream",
     "text": [
      "(390303, 47)\n"
     ]
    },
    {
     "data": {
      "text/plain": [
       "(390303, 57)"
      ]
     },
     "execution_count": 22,
     "metadata": {},
     "output_type": "execute_result"
    }
   ],
   "source": [
    "print(df_train.shape)\n",
    "df_train=pd.merge(df_train,df_train_user_autoenc,on='user_idx',how='left')\n",
    "df_train.shape"
   ]
  },
  {
   "cell_type": "code",
   "execution_count": 23,
   "metadata": {},
   "outputs": [
    {
     "data": {
      "text/plain": [
       "Index(['userId', 'itemId', 'rating', 'num_ratings_per_user_gt_20',\n",
       "       'num_ratings_per_item_gt_200', 'flag_clean_considered', 'Location',\n",
       "       'Age', 'Book-Title', 'Book-Author', 'Year-Of-Publication', 'Publisher',\n",
       "       'random_dstype', 'user_idx', 'item_idx', 'dstype_random_train',\n",
       "       'dstype_random_valid', 'location_idx', 'age_idx', 'title_idx',\n",
       "       'author_idx', 'publisher_idx', 'item_autoenc0', 'item_autoenc1',\n",
       "       'item_autoenc2', 'item_autoenc3', 'item_autoenc4', 'item_autoenc5',\n",
       "       'item_autoenc6', 'item_autoenc7', 'item_autoenc8', 'item_autoenc9',\n",
       "       'item_autoenc10', 'item_autoenc11', 'item_autoenc12', 'item_autoenc13',\n",
       "       'item_autoenc14', 'item_autoenc15', 'item_autoenc16', 'item_autoenc17',\n",
       "       'item_autoenc18', 'item_autoenc19', 'item_autoenc20', 'item_autoenc21',\n",
       "       'item_autoenc22', 'item_autoenc23', 'item_autoenc24', 'user_autoenc0',\n",
       "       'user_autoenc1', 'user_autoenc2', 'user_autoenc3', 'user_autoenc4',\n",
       "       'user_autoenc5', 'user_autoenc6', 'user_autoenc7', 'user_autoenc8',\n",
       "       'user_autoenc9'],\n",
       "      dtype='object')"
      ]
     },
     "execution_count": 23,
     "metadata": {},
     "output_type": "execute_result"
    }
   ],
   "source": [
    "df_train.columns"
   ]
  },
  {
   "cell_type": "code",
   "execution_count": 24,
   "metadata": {},
   "outputs": [],
   "source": [
    "autoenc_cols=df_train.columns[df_train.columns.str.contains('autoenc')]"
   ]
  },
  {
   "cell_type": "code",
   "execution_count": 25,
   "metadata": {},
   "outputs": [],
   "source": [
    "autoenc_cols=autoenc_cols.tolist()"
   ]
  },
  {
   "cell_type": "code",
   "execution_count": 26,
   "metadata": {},
   "outputs": [
    {
     "data": {
      "text/html": [
       "<div>\n",
       "<style scoped>\n",
       "    .dataframe tbody tr th:only-of-type {\n",
       "        vertical-align: middle;\n",
       "    }\n",
       "\n",
       "    .dataframe tbody tr th {\n",
       "        vertical-align: top;\n",
       "    }\n",
       "\n",
       "    .dataframe thead th {\n",
       "        text-align: right;\n",
       "    }\n",
       "</style>\n",
       "<table border=\"1\" class=\"dataframe\">\n",
       "  <thead>\n",
       "    <tr style=\"text-align: right;\">\n",
       "      <th></th>\n",
       "      <th>userId</th>\n",
       "      <th>itemId</th>\n",
       "      <th>rating</th>\n",
       "      <th>num_ratings_per_user_gt_20</th>\n",
       "      <th>num_ratings_per_item_gt_200</th>\n",
       "      <th>flag_clean_considered</th>\n",
       "      <th>Location</th>\n",
       "      <th>Age</th>\n",
       "      <th>Book-Title</th>\n",
       "      <th>Book-Author</th>\n",
       "      <th>...</th>\n",
       "      <th>user_autoenc0</th>\n",
       "      <th>user_autoenc1</th>\n",
       "      <th>user_autoenc2</th>\n",
       "      <th>user_autoenc3</th>\n",
       "      <th>user_autoenc4</th>\n",
       "      <th>user_autoenc5</th>\n",
       "      <th>user_autoenc6</th>\n",
       "      <th>user_autoenc7</th>\n",
       "      <th>user_autoenc8</th>\n",
       "      <th>user_autoenc9</th>\n",
       "    </tr>\n",
       "  </thead>\n",
       "  <tbody>\n",
       "    <tr>\n",
       "      <th>0</th>\n",
       "      <td>26538</td>\n",
       "      <td>0590010891</td>\n",
       "      <td>10</td>\n",
       "      <td>True</td>\n",
       "      <td>False</td>\n",
       "      <td>False</td>\n",
       "      <td>rawlins, wyoming, usa</td>\n",
       "      <td>32.0</td>\n",
       "      <td>Star Wars Episode I: The Phantom Menace</td>\n",
       "      <td>Patricia C. Wrede</td>\n",
       "      <td>...</td>\n",
       "      <td>-1.686263</td>\n",
       "      <td>1.694752</td>\n",
       "      <td>-1.398009</td>\n",
       "      <td>-1.695426</td>\n",
       "      <td>1.667029</td>\n",
       "      <td>-1.706558</td>\n",
       "      <td>-1.339383</td>\n",
       "      <td>-1.617516</td>\n",
       "      <td>1.350429</td>\n",
       "      <td>-1.732796</td>\n",
       "    </tr>\n",
       "    <tr>\n",
       "      <th>1</th>\n",
       "      <td>213826</td>\n",
       "      <td>1562764047</td>\n",
       "      <td>7</td>\n",
       "      <td>False</td>\n",
       "      <td>False</td>\n",
       "      <td>False</td>\n",
       "      <td>university city, missouri, usa</td>\n",
       "      <td>40.0</td>\n",
       "      <td>How the Internet Works (How It Works Series (E...</td>\n",
       "      <td>Preston Gralla</td>\n",
       "      <td>...</td>\n",
       "      <td>-1.989719</td>\n",
       "      <td>2.000360</td>\n",
       "      <td>-1.642692</td>\n",
       "      <td>-1.999496</td>\n",
       "      <td>1.967867</td>\n",
       "      <td>-2.013657</td>\n",
       "      <td>-1.573877</td>\n",
       "      <td>-1.909373</td>\n",
       "      <td>1.586619</td>\n",
       "      <td>-2.043264</td>\n",
       "    </tr>\n",
       "    <tr>\n",
       "      <th>2</th>\n",
       "      <td>227054</td>\n",
       "      <td>0553284789</td>\n",
       "      <td>7</td>\n",
       "      <td>False</td>\n",
       "      <td>False</td>\n",
       "      <td>False</td>\n",
       "      <td>nampa, idaho, usa</td>\n",
       "      <td>27.0</td>\n",
       "      <td>F Is for Fugitive (Kinsey Millhone Mysteries (...</td>\n",
       "      <td>Sue Grafton</td>\n",
       "      <td>...</td>\n",
       "      <td>-1.736229</td>\n",
       "      <td>1.745061</td>\n",
       "      <td>-1.438396</td>\n",
       "      <td>-1.745506</td>\n",
       "      <td>1.716551</td>\n",
       "      <td>-1.757121</td>\n",
       "      <td>-1.378085</td>\n",
       "      <td>-1.665560</td>\n",
       "      <td>1.389419</td>\n",
       "      <td>-1.783935</td>\n",
       "    </tr>\n",
       "    <tr>\n",
       "      <th>3</th>\n",
       "      <td>248656</td>\n",
       "      <td>0380977788</td>\n",
       "      <td>10</td>\n",
       "      <td>True</td>\n",
       "      <td>False</td>\n",
       "      <td>False</td>\n",
       "      <td>altamonte springs, florida, usa</td>\n",
       "      <td>34.0</td>\n",
       "      <td>Coraline</td>\n",
       "      <td>Neil Gaiman</td>\n",
       "      <td>...</td>\n",
       "      <td>-1.773188</td>\n",
       "      <td>1.782292</td>\n",
       "      <td>-1.468106</td>\n",
       "      <td>-1.782527</td>\n",
       "      <td>1.753202</td>\n",
       "      <td>-1.794527</td>\n",
       "      <td>-1.406562</td>\n",
       "      <td>-1.701115</td>\n",
       "      <td>1.418095</td>\n",
       "      <td>-1.821732</td>\n",
       "    </tr>\n",
       "    <tr>\n",
       "      <th>4</th>\n",
       "      <td>220091</td>\n",
       "      <td>0425172996</td>\n",
       "      <td>8</td>\n",
       "      <td>True</td>\n",
       "      <td>False</td>\n",
       "      <td>False</td>\n",
       "      <td>san diego, california, usa</td>\n",
       "      <td>NaN</td>\n",
       "      <td>Vector</td>\n",
       "      <td>Robin Cook</td>\n",
       "      <td>...</td>\n",
       "      <td>-3.209548</td>\n",
       "      <td>3.228446</td>\n",
       "      <td>-2.629096</td>\n",
       "      <td>-3.222223</td>\n",
       "      <td>3.176938</td>\n",
       "      <td>-3.247816</td>\n",
       "      <td>-2.519126</td>\n",
       "      <td>-3.082494</td>\n",
       "      <td>2.538910</td>\n",
       "      <td>-3.291462</td>\n",
       "    </tr>\n",
       "  </tbody>\n",
       "</table>\n",
       "<p>5 rows × 57 columns</p>\n",
       "</div>"
      ],
      "text/plain": [
       "   userId      itemId  rating  num_ratings_per_user_gt_20  \\\n",
       "0   26538  0590010891      10                        True   \n",
       "1  213826  1562764047       7                       False   \n",
       "2  227054  0553284789       7                       False   \n",
       "3  248656  0380977788      10                        True   \n",
       "4  220091  0425172996       8                        True   \n",
       "\n",
       "   num_ratings_per_item_gt_200  flag_clean_considered  \\\n",
       "0                        False                  False   \n",
       "1                        False                  False   \n",
       "2                        False                  False   \n",
       "3                        False                  False   \n",
       "4                        False                  False   \n",
       "\n",
       "                          Location   Age  \\\n",
       "0            rawlins, wyoming, usa  32.0   \n",
       "1   university city, missouri, usa  40.0   \n",
       "2                nampa, idaho, usa  27.0   \n",
       "3  altamonte springs, florida, usa  34.0   \n",
       "4       san diego, california, usa   NaN   \n",
       "\n",
       "                                          Book-Title        Book-Author  ...  \\\n",
       "0            Star Wars Episode I: The Phantom Menace  Patricia C. Wrede  ...   \n",
       "1  How the Internet Works (How It Works Series (E...     Preston Gralla  ...   \n",
       "2  F Is for Fugitive (Kinsey Millhone Mysteries (...        Sue Grafton  ...   \n",
       "3                                           Coraline        Neil Gaiman  ...   \n",
       "4                                             Vector         Robin Cook  ...   \n",
       "\n",
       "  user_autoenc0 user_autoenc1 user_autoenc2  user_autoenc3  user_autoenc4  \\\n",
       "0     -1.686263      1.694752     -1.398009      -1.695426       1.667029   \n",
       "1     -1.989719      2.000360     -1.642692      -1.999496       1.967867   \n",
       "2     -1.736229      1.745061     -1.438396      -1.745506       1.716551   \n",
       "3     -1.773188      1.782292     -1.468106      -1.782527       1.753202   \n",
       "4     -3.209548      3.228446     -2.629096      -3.222223       3.176938   \n",
       "\n",
       "   user_autoenc5  user_autoenc6  user_autoenc7  user_autoenc8  user_autoenc9  \n",
       "0      -1.706558      -1.339383      -1.617516       1.350429      -1.732796  \n",
       "1      -2.013657      -1.573877      -1.909373       1.586619      -2.043264  \n",
       "2      -1.757121      -1.378085      -1.665560       1.389419      -1.783935  \n",
       "3      -1.794527      -1.406562      -1.701115       1.418095      -1.821732  \n",
       "4      -3.247816      -2.519126      -3.082494       2.538910      -3.291462  \n",
       "\n",
       "[5 rows x 57 columns]"
      ]
     },
     "execution_count": 26,
     "metadata": {},
     "output_type": "execute_result"
    }
   ],
   "source": [
    "df_train.head()"
   ]
  },
  {
   "cell_type": "code",
   "execution_count": 27,
   "metadata": {},
   "outputs": [
    {
     "data": {
      "text/html": [
       "<div>\n",
       "<style scoped>\n",
       "    .dataframe tbody tr th:only-of-type {\n",
       "        vertical-align: middle;\n",
       "    }\n",
       "\n",
       "    .dataframe tbody tr th {\n",
       "        vertical-align: top;\n",
       "    }\n",
       "\n",
       "    .dataframe thead th {\n",
       "        text-align: right;\n",
       "    }\n",
       "</style>\n",
       "<table border=\"1\" class=\"dataframe\">\n",
       "  <thead>\n",
       "    <tr style=\"text-align: right;\">\n",
       "      <th></th>\n",
       "      <th>user_idx</th>\n",
       "      <th>item_idx</th>\n",
       "      <th>item_autoenc0</th>\n",
       "      <th>item_autoenc1</th>\n",
       "      <th>item_autoenc2</th>\n",
       "      <th>item_autoenc3</th>\n",
       "      <th>item_autoenc4</th>\n",
       "      <th>item_autoenc5</th>\n",
       "      <th>item_autoenc6</th>\n",
       "      <th>item_autoenc7</th>\n",
       "      <th>...</th>\n",
       "      <th>user_autoenc0</th>\n",
       "      <th>user_autoenc1</th>\n",
       "      <th>user_autoenc2</th>\n",
       "      <th>user_autoenc3</th>\n",
       "      <th>user_autoenc4</th>\n",
       "      <th>user_autoenc5</th>\n",
       "      <th>user_autoenc6</th>\n",
       "      <th>user_autoenc7</th>\n",
       "      <th>user_autoenc8</th>\n",
       "      <th>user_autoenc9</th>\n",
       "    </tr>\n",
       "  </thead>\n",
       "  <tbody>\n",
       "    <tr>\n",
       "      <th>0</th>\n",
       "      <td>1</td>\n",
       "      <td>1</td>\n",
       "      <td>1.569089</td>\n",
       "      <td>1.508334</td>\n",
       "      <td>1.568551</td>\n",
       "      <td>-1.531216</td>\n",
       "      <td>1.529148</td>\n",
       "      <td>-1.526430</td>\n",
       "      <td>-1.510185</td>\n",
       "      <td>-1.555542</td>\n",
       "      <td>...</td>\n",
       "      <td>-1.686263</td>\n",
       "      <td>1.694752</td>\n",
       "      <td>-1.398009</td>\n",
       "      <td>-1.695426</td>\n",
       "      <td>1.667029</td>\n",
       "      <td>-1.706558</td>\n",
       "      <td>-1.339383</td>\n",
       "      <td>-1.617516</td>\n",
       "      <td>1.350429</td>\n",
       "      <td>-1.732796</td>\n",
       "    </tr>\n",
       "    <tr>\n",
       "      <th>1</th>\n",
       "      <td>2</td>\n",
       "      <td>2</td>\n",
       "      <td>1.585941</td>\n",
       "      <td>1.524516</td>\n",
       "      <td>1.585391</td>\n",
       "      <td>-1.547614</td>\n",
       "      <td>1.545570</td>\n",
       "      <td>-1.542825</td>\n",
       "      <td>-1.526399</td>\n",
       "      <td>-1.572234</td>\n",
       "      <td>...</td>\n",
       "      <td>-1.989719</td>\n",
       "      <td>2.000360</td>\n",
       "      <td>-1.642692</td>\n",
       "      <td>-1.999496</td>\n",
       "      <td>1.967867</td>\n",
       "      <td>-2.013657</td>\n",
       "      <td>-1.573877</td>\n",
       "      <td>-1.909373</td>\n",
       "      <td>1.586619</td>\n",
       "      <td>-2.043264</td>\n",
       "    </tr>\n",
       "    <tr>\n",
       "      <th>2</th>\n",
       "      <td>3</td>\n",
       "      <td>3</td>\n",
       "      <td>1.584902</td>\n",
       "      <td>1.523516</td>\n",
       "      <td>1.584351</td>\n",
       "      <td>-1.546593</td>\n",
       "      <td>1.544561</td>\n",
       "      <td>-1.541814</td>\n",
       "      <td>-1.525400</td>\n",
       "      <td>-1.571202</td>\n",
       "      <td>...</td>\n",
       "      <td>-1.736229</td>\n",
       "      <td>1.745061</td>\n",
       "      <td>-1.438396</td>\n",
       "      <td>-1.745506</td>\n",
       "      <td>1.716551</td>\n",
       "      <td>-1.757121</td>\n",
       "      <td>-1.378085</td>\n",
       "      <td>-1.665560</td>\n",
       "      <td>1.389419</td>\n",
       "      <td>-1.783935</td>\n",
       "    </tr>\n",
       "    <tr>\n",
       "      <th>3</th>\n",
       "      <td>4</td>\n",
       "      <td>4</td>\n",
       "      <td>1.574386</td>\n",
       "      <td>1.513422</td>\n",
       "      <td>1.573842</td>\n",
       "      <td>-1.536364</td>\n",
       "      <td>1.534310</td>\n",
       "      <td>-1.531584</td>\n",
       "      <td>-1.515284</td>\n",
       "      <td>-1.560782</td>\n",
       "      <td>...</td>\n",
       "      <td>-1.773188</td>\n",
       "      <td>1.782292</td>\n",
       "      <td>-1.468106</td>\n",
       "      <td>-1.782527</td>\n",
       "      <td>1.753202</td>\n",
       "      <td>-1.794527</td>\n",
       "      <td>-1.406562</td>\n",
       "      <td>-1.701115</td>\n",
       "      <td>1.418095</td>\n",
       "      <td>-1.821732</td>\n",
       "    </tr>\n",
       "    <tr>\n",
       "      <th>4</th>\n",
       "      <td>5</td>\n",
       "      <td>5</td>\n",
       "      <td>1.569349</td>\n",
       "      <td>1.508583</td>\n",
       "      <td>1.568811</td>\n",
       "      <td>-1.531469</td>\n",
       "      <td>1.529402</td>\n",
       "      <td>-1.526682</td>\n",
       "      <td>-1.510435</td>\n",
       "      <td>-1.555800</td>\n",
       "      <td>...</td>\n",
       "      <td>-3.209548</td>\n",
       "      <td>3.228446</td>\n",
       "      <td>-2.629096</td>\n",
       "      <td>-3.222223</td>\n",
       "      <td>3.176938</td>\n",
       "      <td>-3.247816</td>\n",
       "      <td>-2.519126</td>\n",
       "      <td>-3.082494</td>\n",
       "      <td>2.538910</td>\n",
       "      <td>-3.291462</td>\n",
       "    </tr>\n",
       "  </tbody>\n",
       "</table>\n",
       "<p>5 rows × 37 columns</p>\n",
       "</div>"
      ],
      "text/plain": [
       "   user_idx  item_idx  item_autoenc0  item_autoenc1  item_autoenc2  \\\n",
       "0         1         1       1.569089       1.508334       1.568551   \n",
       "1         2         2       1.585941       1.524516       1.585391   \n",
       "2         3         3       1.584902       1.523516       1.584351   \n",
       "3         4         4       1.574386       1.513422       1.573842   \n",
       "4         5         5       1.569349       1.508583       1.568811   \n",
       "\n",
       "   item_autoenc3  item_autoenc4  item_autoenc5  item_autoenc6  item_autoenc7  \\\n",
       "0      -1.531216       1.529148      -1.526430      -1.510185      -1.555542   \n",
       "1      -1.547614       1.545570      -1.542825      -1.526399      -1.572234   \n",
       "2      -1.546593       1.544561      -1.541814      -1.525400      -1.571202   \n",
       "3      -1.536364       1.534310      -1.531584      -1.515284      -1.560782   \n",
       "4      -1.531469       1.529402      -1.526682      -1.510435      -1.555800   \n",
       "\n",
       "   ...  user_autoenc0  user_autoenc1  user_autoenc2  user_autoenc3  \\\n",
       "0  ...      -1.686263       1.694752      -1.398009      -1.695426   \n",
       "1  ...      -1.989719       2.000360      -1.642692      -1.999496   \n",
       "2  ...      -1.736229       1.745061      -1.438396      -1.745506   \n",
       "3  ...      -1.773188       1.782292      -1.468106      -1.782527   \n",
       "4  ...      -3.209548       3.228446      -2.629096      -3.222223   \n",
       "\n",
       "   user_autoenc4  user_autoenc5  user_autoenc6  user_autoenc7  user_autoenc8  \\\n",
       "0       1.667029      -1.706558      -1.339383      -1.617516       1.350429   \n",
       "1       1.967867      -2.013657      -1.573877      -1.909373       1.586619   \n",
       "2       1.716551      -1.757121      -1.378085      -1.665560       1.389419   \n",
       "3       1.753202      -1.794527      -1.406562      -1.701115       1.418095   \n",
       "4       3.176938      -3.247816      -2.519126      -3.082494       2.538910   \n",
       "\n",
       "   user_autoenc9  \n",
       "0      -1.732796  \n",
       "1      -2.043264  \n",
       "2      -1.783935  \n",
       "3      -1.821732  \n",
       "4      -3.291462  \n",
       "\n",
       "[5 rows x 37 columns]"
      ]
     },
     "execution_count": 27,
     "metadata": {},
     "output_type": "execute_result"
    }
   ],
   "source": [
    "df_train[['user_idx','item_idx']+autoenc_cols].head()"
   ]
  },
  {
   "cell_type": "code",
   "execution_count": 28,
   "metadata": {},
   "outputs": [
    {
     "data": {
      "text/plain": [
       "(count    43368.000000\n",
       " mean         7.582111\n",
       " std          1.842619\n",
       " min          1.000000\n",
       " 25%          6.000000\n",
       " 50%          8.000000\n",
       " 75%          9.000000\n",
       " max         10.000000\n",
       " Name: rating, dtype: float64, count    390303.000000\n",
       " mean          7.603172\n",
       " std           1.843919\n",
       " min           1.000000\n",
       " 25%           7.000000\n",
       " 50%           8.000000\n",
       " 75%           9.000000\n",
       " max          10.000000\n",
       " Name: rating, dtype: float64)"
      ]
     },
     "execution_count": 28,
     "metadata": {},
     "output_type": "execute_result"
    }
   ],
   "source": [
    "df_valid['rating'].describe(),df_train['rating'].describe()"
   ]
  },
  {
   "cell_type": "code",
   "execution_count": 29,
   "metadata": {},
   "outputs": [
    {
     "data": {
      "text/plain": [
       "Index(['userId', 'itemId', 'rating', 'num_ratings_per_user_gt_20',\n",
       "       'num_ratings_per_item_gt_200', 'flag_clean_considered', 'Location',\n",
       "       'Age', 'Book-Title', 'Book-Author', 'Year-Of-Publication', 'Publisher',\n",
       "       'random_dstype', 'user_idx', 'item_idx', 'dstype_random_train',\n",
       "       'dstype_random_valid', 'location_idx', 'age_idx', 'title_idx',\n",
       "       'author_idx', 'publisher_idx', 'item_autoenc0', 'item_autoenc1',\n",
       "       'item_autoenc2', 'item_autoenc3', 'item_autoenc4', 'item_autoenc5',\n",
       "       'item_autoenc6', 'item_autoenc7', 'item_autoenc8', 'item_autoenc9',\n",
       "       'item_autoenc10', 'item_autoenc11', 'item_autoenc12', 'item_autoenc13',\n",
       "       'item_autoenc14', 'item_autoenc15', 'item_autoenc16', 'item_autoenc17',\n",
       "       'item_autoenc18', 'item_autoenc19', 'item_autoenc20', 'item_autoenc21',\n",
       "       'item_autoenc22', 'item_autoenc23', 'item_autoenc24', 'user_autoenc0',\n",
       "       'user_autoenc1', 'user_autoenc2', 'user_autoenc3', 'user_autoenc4',\n",
       "       'user_autoenc5', 'user_autoenc6', 'user_autoenc7', 'user_autoenc8',\n",
       "       'user_autoenc9'],\n",
       "      dtype='object')"
      ]
     },
     "execution_count": 29,
     "metadata": {},
     "output_type": "execute_result"
    }
   ],
   "source": [
    "df_train.columns"
   ]
  },
  {
   "cell_type": "code",
   "execution_count": 30,
   "metadata": {},
   "outputs": [],
   "source": [
    "emb_cols=['location_idx','title_idx','author_idx','publisher_idx']"
   ]
  },
  {
   "cell_type": "code",
   "execution_count": 31,
   "metadata": {},
   "outputs": [
    {
     "data": {
      "text/plain": [
       "[('location_idx', 20450),\n",
       " ('title_idx', 126629),\n",
       " ('author_idx', 58391),\n",
       " ('publisher_idx', 11030)]"
      ]
     },
     "execution_count": 31,
     "metadata": {},
     "output_type": "execute_result"
    }
   ],
   "source": [
    "[(col, df_train[col].nunique()) for col in emb_cols]"
   ]
  },
  {
   "cell_type": "code",
   "execution_count": 32,
   "metadata": {},
   "outputs": [
    {
     "data": {
      "text/plain": [
       "{'location_idx': 50, 'title_idx': 50, 'author_idx': 50, 'publisher_idx': 50}"
      ]
     },
     "execution_count": 32,
     "metadata": {},
     "output_type": "execute_result"
    }
   ],
   "source": [
    "{col: min(50,df_train[col].nunique()//100) for col in emb_cols}"
   ]
  },
  {
   "cell_type": "code",
   "execution_count": 33,
   "metadata": {},
   "outputs": [],
   "source": [
    "emb_szs=[(df[col].nunique(),min(50,df[col].nunique()//100)) for col in emb_cols]"
   ]
  },
  {
   "cell_type": "code",
   "execution_count": 34,
   "metadata": {},
   "outputs": [
    {
     "data": {
      "text/plain": [
       "[(21335, 50), (135568, 50), (62114, 50), (11576, 50)]"
      ]
     },
     "execution_count": 34,
     "metadata": {},
     "output_type": "execute_result"
    }
   ],
   "source": [
    "emb_szs"
   ]
  },
  {
   "cell_type": "markdown",
   "metadata": {},
   "source": [
    "### Dataset and DataLoader"
   ]
  },
  {
   "cell_type": "code",
   "execution_count": 35,
   "metadata": {},
   "outputs": [],
   "source": [
    "class cfdata (torch.utils.data.dataset.Dataset):\n",
    "    def __init__(self,dfX,dfY,denseCols):\n",
    "        self.dfX,self.dfY=dfX,dfY\n",
    "        self.denseCols=denseCols\n",
    "        \n",
    "    def __len__ (self):\n",
    "        return self.dfX.shape[0]\n",
    "    \n",
    "    def __getitem__ (self, idx):\n",
    "        return torch.FloatTensor(self.dfX.iloc[idx].values),torch.FloatTensor([self.dfY.values[idx]])"
   ]
  },
  {
   "cell_type": "code",
   "execution_count": 36,
   "metadata": {},
   "outputs": [],
   "source": [
    "dstrain=cfdata(df_train[['user_idx','item_idx']+autoenc_cols+emb_cols],df_train['rating'],autoenc_cols)\n",
    "dsvalid=cfdata(df_valid[['user_idx','item_idx']+autoenc_cols+emb_cols],df_valid['rating'],autoenc_cols)"
   ]
  },
  {
   "cell_type": "code",
   "execution_count": 37,
   "metadata": {},
   "outputs": [
    {
     "data": {
      "text/plain": [
       "(       item_autoenc0\n",
       " count  390303.000000\n",
       " mean        1.570775\n",
       " std         0.004832\n",
       " min         1.569005\n",
       " 25%         1.569099\n",
       " 50%         1.569206\n",
       " 75%         1.569671\n",
       " max         1.994572,        item_autoenc1\n",
       " count  390303.000000\n",
       " mean        1.509952\n",
       " std         0.004639\n",
       " min         1.508253\n",
       " 25%         1.508343\n",
       " 50%         1.508446\n",
       " 75%         1.508894\n",
       " max         1.916439)"
      ]
     },
     "execution_count": 37,
     "metadata": {},
     "output_type": "execute_result"
    }
   ],
   "source": [
    "df_train[[autoenc_cols[0]]].describe(),df_train[[autoenc_cols[1]]].describe()"
   ]
  },
  {
   "cell_type": "code",
   "execution_count": 38,
   "metadata": {},
   "outputs": [
    {
     "data": {
      "text/plain": [
       "(390303, 57)"
      ]
     },
     "execution_count": 38,
     "metadata": {},
     "output_type": "execute_result"
    }
   ],
   "source": [
    "df_train.shape"
   ]
  },
  {
   "cell_type": "code",
   "execution_count": 39,
   "metadata": {},
   "outputs": [],
   "source": [
    "bs=64"
   ]
  },
  {
   "cell_type": "code",
   "execution_count": 40,
   "metadata": {},
   "outputs": [],
   "source": [
    "dltrain=DataLoader(dstrain,bs,shuffle=True)"
   ]
  },
  {
   "cell_type": "code",
   "execution_count": 41,
   "metadata": {},
   "outputs": [],
   "source": [
    "dlvalid=DataLoader(dsvalid,bs,shuffle=True)"
   ]
  },
  {
   "cell_type": "code",
   "execution_count": 42,
   "metadata": {},
   "outputs": [
    {
     "data": {
      "text/plain": [
       "(61.0, 388.96)"
      ]
     },
     "execution_count": 42,
     "metadata": {},
     "output_type": "execute_result"
    }
   ],
   "source": [
    "610/10, 9724/25"
   ]
  },
  {
   "cell_type": "code",
   "execution_count": 43,
   "metadata": {},
   "outputs": [
    {
     "data": {
      "text/plain": [
       "(77805, 185973)"
      ]
     },
     "execution_count": 43,
     "metadata": {},
     "output_type": "execute_result"
    }
   ],
   "source": [
    "len(user_to_idx),len(movie_to_idx)"
   ]
  },
  {
   "cell_type": "markdown",
   "metadata": {},
   "source": [
    "## Model Architecture"
   ]
  },
  {
   "cell_type": "code",
   "execution_count": 44,
   "metadata": {},
   "outputs": [
    {
     "data": {
      "text/plain": [
       "[(21335, 50), (135568, 50), (62114, 50), (11576, 50)]"
      ]
     },
     "execution_count": 44,
     "metadata": {},
     "output_type": "execute_result"
    }
   ],
   "source": [
    "emb_szs"
   ]
  },
  {
   "cell_type": "code",
   "execution_count": 45,
   "metadata": {},
   "outputs": [
    {
     "data": {
      "text/plain": [
       "21335"
      ]
     },
     "execution_count": 45,
     "metadata": {},
     "output_type": "execute_result"
    }
   ],
   "source": [
    "emb_szs[0][0]"
   ]
  },
  {
   "cell_type": "code",
   "execution_count": 46,
   "metadata": {},
   "outputs": [
    {
     "data": {
      "text/plain": [
       "Embedding(21335, 50)"
      ]
     },
     "execution_count": 46,
     "metadata": {},
     "output_type": "execute_result"
    }
   ],
   "source": [
    "nn.ModuleList([nn.Embedding(x,y) for x,y in emb_szs])[0]"
   ]
  },
  {
   "cell_type": "code",
   "execution_count": 47,
   "metadata": {},
   "outputs": [],
   "source": [
    "n_users=len(user_to_idx)\n",
    "n_movies=len(movie_to_idx)\n",
    "n_emb_user=100\n",
    "n_emb_movie=250\n",
    "min_rating=min(df_train['rating'])\n",
    "max_rating=max(df_train['rating'])\n",
    "dropout_e=0.1\n",
    "hidden=[75,15,50,25,10]\n",
    "dropouts=[0.2,0.35,0.5,0.2,0.2]"
   ]
  },
  {
   "cell_type": "code",
   "execution_count": 48,
   "metadata": {},
   "outputs": [],
   "source": [
    "def hidden_layer(x,y,dropout,activation=nn.Sigmoid()):\n",
    "    return nn.Sequential(\n",
    "        nn.Linear(x, y),\n",
    "        activation,\n",
    "        nn.Dropout(p=dropout)\n",
    "        )   "
   ]
  },
  {
   "cell_type": "code",
   "execution_count": 49,
   "metadata": {},
   "outputs": [
    {
     "data": {
      "text/plain": [
       "(count    390303.000000\n",
       " mean          7.603172\n",
       " std           1.843919\n",
       " min           1.000000\n",
       " 25%           7.000000\n",
       " 50%           8.000000\n",
       " 75%           9.000000\n",
       " max          10.000000\n",
       " Name: rating, dtype: float64, count    43368.000000\n",
       " mean         7.582111\n",
       " std          1.842619\n",
       " min          1.000000\n",
       " 25%          6.000000\n",
       " 50%          8.000000\n",
       " 75%          9.000000\n",
       " max         10.000000\n",
       " Name: rating, dtype: float64)"
      ]
     },
     "execution_count": 49,
     "metadata": {},
     "output_type": "execute_result"
    }
   ],
   "source": [
    "df_train['rating'].describe(), df_valid['rating'].describe()"
   ]
  },
  {
   "cell_type": "markdown",
   "metadata": {},
   "source": [
    "class dbg ():\n",
    "    def __init__(self,bs):\n",
    "        self.Xb=np.random.randn(bs)\n",
    "        self.preds=np.random.randn(bs)\n",
    "        self.Yb=np.random.randn(bs)\n",
    "        self.cat=None"
   ]
  },
  {
   "cell_type": "markdown",
   "metadata": {},
   "source": [
    "dbgobj=dbg(bs)"
   ]
  },
  {
   "cell_type": "code",
   "execution_count": 50,
   "metadata": {},
   "outputs": [],
   "source": [
    "class cf(nn.Module):    \n",
    "    def __init__(self,n_users,n_emb_user,n_emb_movie,n_movies,min_rating,max_rating,autoenc_cols,emb_cols,emb_szs,\\\n",
    "                 dropout_e=0.01,hidden=[15,5],dropouts=[0.2,0.2]):\n",
    "        super().__init__()\n",
    "        self.n_users,self.n_emb_user,self.n_emb_movie,self.n_movies,self.min_rating,self.max_rating=\\\n",
    "                    n_users,n_emb_user,n_emb_movie,n_movies,min_rating,max_rating\n",
    "        self.emb_cols,self.emb_szs=emb_cols,emb_szs\n",
    "        self.dropout_e,self.hidden,self.dropouts=dropout_e,hidden,dropouts\n",
    "        self.autoenc_cols,self.len_dense_cols=autoenc_cols,len(autoenc_cols)\n",
    "        self.create_architecture()\n",
    "        self.criterion=nn.MSELoss()\n",
    "        #self.preds=None\n",
    "\n",
    "        \n",
    "    def create_architecture(self):\n",
    "        self.emb_user=nn.Embedding(self.n_users+1,self.n_emb_user)\n",
    "        self.emb_movie=nn.Embedding(self.n_movies+1,self.n_emb_movie)\n",
    "        self.embs_cat=nn.ModuleList([nn.Embedding(x+1,y) for x,y in self.emb_szs])\n",
    "        \n",
    "        self.emb_dropout=nn.Dropout(self.dropout_e)\n",
    "\n",
    "        \n",
    "        self.lin1= nn.Sequential(nn.Linear(self.n_emb_user+self.n_emb_movie,self.hidden[0]),\n",
    "                    nn.ReLU(),\n",
    "                    nn.Dropout(p=dropouts[0]) )\n",
    "        self.lin2= nn.Sequential (nn.Linear(self.len_dense_cols,self.hidden[1]),\n",
    "                    nn.ReLU(),\n",
    "                    nn.Dropout(p=dropouts[1]) )\n",
    "        self.lin3= nn.Sequential (nn.Linear(len(self.emb_cols)*50,self.hidden[2]),\n",
    "                                nn.ReLU(),\n",
    "                                nn.Dropout(p=dropouts[2]))\n",
    "        self.lin4= nn.Sequential (nn.Linear(self.hidden[0]+self.hidden[1]+self.hidden[2],self.hidden[3]),\n",
    "                    nn.ReLU(),\n",
    "                    nn.Dropout(p=dropouts[3]))\n",
    "        self.lin5= nn.Sequential (nn.Linear(self.hidden[3],self.hidden[4]),\n",
    "                    nn.ReLU(),\n",
    "                    nn.Dropout(p=dropouts[4]))\n",
    "        \n",
    "        self.lin6=nn.Linear(self.hidden[4],1)\n",
    "        self.sigmoid=nn.Sigmoid()\n",
    "        \n",
    "        \n",
    "    def init_parameters(self):\n",
    "        nn.init.kaiming_normal_(self.emb_user.weight.data)\n",
    "        nn.init.kaiming_normal_(self.emb_movie.weight.dat)\n",
    "        #nn.init.kaiming_normal_(lin)\n",
    "       \n",
    "    def forward (self,Xb,Yb):\n",
    "\n",
    "        #dbgobj.Xb,dbgobj.Yb=Xb.cpu().numpy(),Yb.cpu().numpy()\n",
    "        users=Xb[:,0].long()\n",
    "        items=Xb[:,1].long()\n",
    "        users=self.emb_dropout(self.emb_user(users))\n",
    "        items=self.emb_dropout(self.emb_movie(items))        \n",
    "        embed=torch.cat([users,items],1)\n",
    "        out1=self.lin1(embed)\n",
    "        \n",
    "        \n",
    "        denses=Xb[:,2:(2+len(autoenc_cols))]\n",
    "        out2=self.lin2(denses)\n",
    "        cats=Xb[:,(2+len(autoenc_cols)):].long()\n",
    "        embed_cat=[self.emb_dropout(self.embs_cat[i](cats[:,i]) ) for i in range(len(self.emb_szs))]\n",
    "        \n",
    "        #pickle.dump([Xb,Yb,embed_cat],open(f'{DATAPATH}/inter/savepickle','wb'))\n",
    "        #torch.save(embed_cat,f'{DATAPATH}/inter/save')\n",
    "        \n",
    "        #dbgobj.cat=[x.detach().cpu().numpy() for x in embed_cat]\n",
    "        \n",
    "        embedded_cat = torch.cat([x for x in embed_cat],1)\n",
    "        out3=self.lin3(embedded_cat)\n",
    "        \n",
    "        out4=torch.cat([out1,out2,out3],1)\n",
    "        out5=self.lin4(out4)\n",
    "        out6=self.lin5(out5)\n",
    "        out7=self.lin6(out6)\n",
    "        \n",
    "        out=self.sigmoid(out7)\n",
    "        \n",
    "        preds=out*(self.max_rating-self.min_rating)+self.min_rating\n",
    "        \n",
    "        #dbgobj.preds=preds.detach().cpu().numpy()\n",
    "        \n",
    "        self.preds=preds\n",
    "        #preds=preds.view(-1)\n",
    "        \n",
    "        loss=self.criterion(preds,Yb)\n",
    "        return preds,loss"
   ]
  },
  {
   "cell_type": "code",
   "execution_count": 51,
   "metadata": {},
   "outputs": [],
   "source": [
    "cfobj=cf(n_users,n_emb_user,n_emb_movie,n_movies,min_rating,max_rating,autoenc_cols,emb_cols,emb_szs,dropout_e,hidden,dropouts,error_type=\"mse\")"
   ]
  },
  {
   "cell_type": "code",
   "execution_count": 52,
   "metadata": {},
   "outputs": [
    {
     "data": {
      "text/plain": [
       "cf(\n",
       "  (emb_user): Embedding(77806, 100)\n",
       "  (emb_movie): Embedding(185974, 250)\n",
       "  (embs_cat): ModuleList(\n",
       "    (0): Embedding(21336, 50)\n",
       "    (1): Embedding(135569, 50)\n",
       "    (2): Embedding(62115, 50)\n",
       "    (3): Embedding(11577, 50)\n",
       "  )\n",
       "  (emb_dropout): Dropout(p=0.1)\n",
       "  (lin1): Sequential(\n",
       "    (0): Linear(in_features=350, out_features=75, bias=True)\n",
       "    (1): ReLU()\n",
       "    (2): Dropout(p=0.2)\n",
       "  )\n",
       "  (lin2): Sequential(\n",
       "    (0): Linear(in_features=35, out_features=15, bias=True)\n",
       "    (1): ReLU()\n",
       "    (2): Dropout(p=0.35)\n",
       "  )\n",
       "  (lin3): Sequential(\n",
       "    (0): Linear(in_features=200, out_features=50, bias=True)\n",
       "    (1): ReLU()\n",
       "    (2): Dropout(p=0.5)\n",
       "  )\n",
       "  (lin4): Sequential(\n",
       "    (0): Linear(in_features=140, out_features=25, bias=True)\n",
       "    (1): ReLU()\n",
       "    (2): Dropout(p=0.2)\n",
       "  )\n",
       "  (lin5): Sequential(\n",
       "    (0): Linear(in_features=25, out_features=10, bias=True)\n",
       "    (1): ReLU()\n",
       "    (2): Dropout(p=0.2)\n",
       "  )\n",
       "  (lin6): Linear(in_features=10, out_features=1, bias=True)\n",
       "  (sigmoid): Sigmoid()\n",
       "  (criterion): MSELoss()\n",
       ")"
      ]
     },
     "execution_count": 52,
     "metadata": {},
     "output_type": "execute_result"
    }
   ],
   "source": [
    "cfobj"
   ]
  },
  {
   "cell_type": "code",
   "execution_count": 53,
   "metadata": {},
   "outputs": [],
   "source": [
    "for Xb, Yb in dltrain:\n",
    "    break"
   ]
  },
  {
   "cell_type": "code",
   "execution_count": 54,
   "metadata": {},
   "outputs": [
    {
     "data": {
      "text/plain": [
       "(torch.Size([64, 41]), torch.Size([64, 1]))"
      ]
     },
     "execution_count": 54,
     "metadata": {},
     "output_type": "execute_result"
    }
   ],
   "source": [
    "Xb.shape, Yb.shape"
   ]
  },
  {
   "cell_type": "code",
   "execution_count": 55,
   "metadata": {},
   "outputs": [
    {
     "data": {
      "text/plain": [
       "torch.float32"
      ]
     },
     "execution_count": 55,
     "metadata": {},
     "output_type": "execute_result"
    }
   ],
   "source": [
    "Xb.dtype"
   ]
  },
  {
   "cell_type": "code",
   "execution_count": 56,
   "metadata": {},
   "outputs": [
    {
     "data": {
      "text/plain": [
       "torch.Size([64, 41])"
      ]
     },
     "execution_count": 56,
     "metadata": {},
     "output_type": "execute_result"
    }
   ],
   "source": [
    "Xb.size()"
   ]
  },
  {
   "cell_type": "code",
   "execution_count": 57,
   "metadata": {},
   "outputs": [
    {
     "data": {
      "text/plain": [
       "(tensor([[5.5720],\n",
       "         [5.5221],\n",
       "         [5.4346],\n",
       "         [5.5988],\n",
       "         [5.4480],\n",
       "         [5.5984],\n",
       "         [5.4532],\n",
       "         [5.5944],\n",
       "         [5.5541],\n",
       "         [5.2290],\n",
       "         [5.5625],\n",
       "         [5.2923],\n",
       "         [5.4006],\n",
       "         [5.3687],\n",
       "         [5.6184],\n",
       "         [5.6360],\n",
       "         [5.5643],\n",
       "         [5.5042],\n",
       "         [5.5809],\n",
       "         [5.3609],\n",
       "         [5.3674],\n",
       "         [5.5725],\n",
       "         [5.3366],\n",
       "         [5.3785],\n",
       "         [5.7019],\n",
       "         [5.4712],\n",
       "         [5.4414],\n",
       "         [5.6069],\n",
       "         [5.6290],\n",
       "         [5.6731],\n",
       "         [5.5048],\n",
       "         [5.4137],\n",
       "         [5.4708],\n",
       "         [5.4986],\n",
       "         [5.4937],\n",
       "         [5.5520],\n",
       "         [5.5709],\n",
       "         [5.3379],\n",
       "         [5.4093],\n",
       "         [5.7470],\n",
       "         [5.6465],\n",
       "         [5.4955],\n",
       "         [5.3989],\n",
       "         [5.3450],\n",
       "         [5.4940],\n",
       "         [5.5299],\n",
       "         [5.4302],\n",
       "         [5.4660],\n",
       "         [5.5439],\n",
       "         [5.3057],\n",
       "         [5.4564],\n",
       "         [5.4448],\n",
       "         [5.5332],\n",
       "         [5.4985],\n",
       "         [5.4754],\n",
       "         [5.3905],\n",
       "         [5.6625],\n",
       "         [5.4063],\n",
       "         [5.7141],\n",
       "         [5.4353],\n",
       "         [5.3965],\n",
       "         [5.3899],\n",
       "         [5.5725],\n",
       "         [5.5578]], grad_fn=<AddBackward0>),\n",
       " tensor(8.2651, grad_fn=<MseLossBackward>))"
      ]
     },
     "execution_count": 57,
     "metadata": {},
     "output_type": "execute_result"
    }
   ],
   "source": [
    "cfobj.forward(Xb,Yb)"
   ]
  },
  {
   "cell_type": "markdown",
   "metadata": {},
   "source": [
    "## Learner"
   ]
  },
  {
   "cell_type": "code",
   "execution_count": 59,
   "metadata": {},
   "outputs": [],
   "source": [
    "class Learner():\n",
    "    def __init__(self,model,optimizer,metric_fn,device,bptt=12,print_every=5,clip_val=None,\\\n",
    "                 cycle_mult=0,lr_decay=0.7,wd_mult=6,start_lr=2e-2, end_lr=5e-4,error_type=\"mse\"):\n",
    "        self.model,self.optimizer,self.metric_fn,self.device,self.print_every,self.bptt,self.losses,self.clip_val=\\\n",
    "            model,optimizer,metric_fn,device,print_every,bptt,[],clip_val\n",
    "        self.n_epochs=1\n",
    "        self.cycle_mult,self.lr_decay=cycle_mult,lr_decay\n",
    "        self.wd_mult=wd_mult\n",
    "        for param_group in self.optimizer.param_groups:\n",
    "            self.start_lr=param_group['lr']\n",
    "            self.start_wd=param_group['weight_decay']\n",
    "        self.wd=self.start_wd\n",
    "        self.lr=self.start_lr\n",
    "        self.end_lr=end_lr\n",
    "        self.n_epoch=0\n",
    "        self.lrs=[1e-2,5e-3,1e-4,5e-4]\n",
    "        self.preds,self.preds_valid,self.trainY,self.actual=[],[],[],[]\n",
    "        self.ratio=self.end_lr/self.start_lr\n",
    "        self.num_steps=self.cycle_mult\n",
    "        self.reset_cycle=self.cycle_mult\n",
    "        #self.Xb=None\n",
    "        #self.Yb=None\n",
    "        if error_type!=\"mse\":\n",
    "            self.criterion=nn.L1Loss()\n",
    "        else:\n",
    "            self.criterion=nn.MSELoss()\n",
    "        \n",
    "    def fit (self,Xb,Yb,mode_train=True):\n",
    "        if mode_train:\n",
    "            self.model.train()\n",
    "        else:\n",
    "            self.model.eval()\n",
    "        #self.Xb,self.Yb=Xb.cpu(),Yb.cpu()\n",
    "        \n",
    "        #import pdb\n",
    "        #pdb.set_trace()\n",
    "        preds,loss=self.model(Xb,Yb)\n",
    "\n",
    "        with torch.no_grad():\n",
    "            if self.metric_fn is not None:\n",
    "                acc=self.metric_fn(preds,Yb.view(-1),self.device)\n",
    "                acc=acc.item()\n",
    "\n",
    "                if 1==0:\n",
    "                    if mode_train:\n",
    "                        self.trainY.append(Yb.view(-1))\n",
    "                        self.preds.append(preds.data)\n",
    "                    else:\n",
    "                        self.actual.append(Yb.view(-1))\n",
    "                        self.preds_valid.append(preds.data)\n",
    "            else:\n",
    "                acc=0\n",
    "            \n",
    "        \n",
    "        if mode_train:\n",
    "            if 1==0:\n",
    "                lr =self.lrs[torch.randint(0,4,(1,))]\n",
    "                for param_group in self.optimizer.param_groups:\n",
    "                    param_group['lr']=lr\n",
    "            \n",
    "            self.optimizer.zero_grad()\n",
    "            loss.backward()\n",
    "            self.optimizer.step()\n",
    "        myloss=loss.item()\n",
    "        with torch.no_grad():\n",
    "            if self.error_type == \"mse\":\n",
    "                acc=nn.L1Loss() (preds,Yb)\n",
    "            else:\n",
    "                acc=nn.MSELoss() (preds,Yb)\n",
    "            acc=acc.item()\n",
    "        \n",
    "        \n",
    "\n",
    "        del preds\n",
    "        del loss\n",
    "        \n",
    "        if self.clip_val is not None:\n",
    "            torch.nn.utils.clip_grad_norm_(self.model.parameters(), self.clip_val)\n",
    "        \n",
    "        return myloss, acc\n",
    "    \n",
    "    def lr_find (self,start_lr,end_lr,iterator,n_batch):\n",
    "        losses,lrs=[],[]\n",
    "        ratio=end_lr/start_lr\n",
    "        num_steps=n_batch\n",
    "        lr=start_lr\n",
    "        for i in range(num_steps):            \n",
    "            lr=lr*(end_lr/start_lr)**(1/num_steps)\n",
    "            lrs.append(lr)\n",
    "        self.lrs=lrs\n",
    "        self.run_epoch(iterator,mode_train=True,lrs=lrs)\n",
    "    \n",
    "    def run_epoch(self,iterator,mode_train,lrs=None):\n",
    "        epoch_loss,epoch_acc,i,k=0,0,0,0\n",
    "\n",
    "\n",
    "        for Xb,Yb in iterator:\n",
    "            Xb=Xb.to(self.device)\n",
    "            Yb=Yb.to(self.device)\n",
    "            \n",
    "            if lrs is not None:\n",
    "                lr=lrs[k]\n",
    "                for param_group in self.optimizer.param_groups:\n",
    "                    param_group['lr']=lr \n",
    "            \n",
    "\n",
    "            loss,acc=self.fit(Xb,Yb,mode_train)\n",
    "            \n",
    "            if lrs is not None:\n",
    "                self.losses.append(loss)\n",
    "\n",
    "\n",
    "            \n",
    "\n",
    "            epoch_loss+=loss\n",
    "            epoch_acc+=acc\n",
    "            \n",
    "            k=k+1\n",
    "            if k%self.print_every == 0:\n",
    "                if k:\n",
    "                    print (f'Batch:{k} {epoch_loss/(k)}  ')  \n",
    "                    torch.cuda.empty_cache()\n",
    "\n",
    "        epoch_loss=epoch_loss/len(iterator)\n",
    "        epoch_acc=epoch_acc/len(iterator)\n",
    "            \n",
    "        return epoch_loss,epoch_acc\n",
    "    \n",
    "    def plot_lrs(self, n_roll=1,ylim=None,xlim=None):\n",
    "        import seaborn as sns\n",
    "        ax=sns.lineplot(x=self.lrs,y=pd.Series(self.losses).rolling(n_roll).mean())\n",
    "        ax.set_xscale('log')\n",
    "        ax.set_ylabel('Loss')\n",
    "        ax.set_xlabel('Learning Rate')\n",
    "        if ylim is not None:\n",
    "            plt.ylim(ylim)\n",
    "        if xlim is not None:\n",
    "            plt.xlim(xlim)\n",
    "\n",
    "     \n",
    "    def run_epochs(self,dltrain,dlvalid,n_epochs=1):              \n",
    "        for epoch in range(n_epochs):                \n",
    "            loss,acc=self.run_epoch(dltrain,True)\n",
    "\n",
    "            lossv,accv=self.run_epoch(dlvalid,mode_train=False)\n",
    "           \n",
    "            if self.error_type==\"mse\":\n",
    "                loss_mse=loss\n",
    "                loss_rmse=np.sqrt(loss)\n",
    "                loss_mae=acc\n",
    "                lossv_mse=lossv\n",
    "                lossv_rmse=np.sqrt(lossv)\n",
    "                lossv_mae=accv\n",
    "                \n",
    "            else:\n",
    "                loss_mse=acc\n",
    "                loss_rmse=np.sqrt(acc)\n",
    "                loss_mae=loss\n",
    "                lossv_mse=accv\n",
    "                lossv_rmse=np.sqrt(accv)\n",
    "                lossv_mae=lossv\n",
    "            \n",
    "            print (f'Epoch:{epoch} Learning rate {self.lr} Weight Decay {self.wd} Train Loss:{loss} \\\n",
    "                Valid Loss:{lossv} Train RMSE:{loss_rmse} Valid RMSE:{lossv_rmse} Train MSE:{loss_mse} Valid MSE:{lossv_mse} \\\n",
    "                Train MAE:{loss_mae} Valid MAE:{lossv_mae}')\n",
    "  \n",
    "     \n",
    "            if self.cycle_mult:\n",
    "                if self.n_epoch==self.reset_cycle:\n",
    "                    self.lr=self.start_lr\n",
    "                    #self.wd=self.start_wd\n",
    "                    self.reset_cycle*=self.cycle_mult\n",
    "                    #reset_cycle=self.n_epoch+reset_cycle\n",
    "                    self.n_epoch=0\n",
    "                    self.ratio=self.end_lr/self.start_lr\n",
    "                    self.num_steps=self.reset_cycle\n",
    "                else:\n",
    "                    #self.lr*=(self.lr_decay**self.n_epoch)  \n",
    "                    #if self.n_epoch>1:\n",
    "                    #    self.wd*=self.wd_mult\n",
    "                    self.lr=self.lr*(self.end_lr/self.start_lr)**(1/self.num_steps)\n",
    "                    self.n_epoch+=1\n",
    "        \n",
    "\n",
    "                \n",
    "            for param_group in self.optimizer.param_groups:\n",
    "                param_group['lr']=self.lr\n",
    "                #param_group['weight_decay']=self.wd\n",
    "          \n",
    "     "
   ]
  },
  {
   "cell_type": "code",
   "execution_count": 60,
   "metadata": {},
   "outputs": [],
   "source": [
    "device='cuda:1'"
   ]
  },
  {
   "cell_type": "code",
   "execution_count": 61,
   "metadata": {},
   "outputs": [],
   "source": [
    "del cfobj"
   ]
  },
  {
   "cell_type": "code",
   "execution_count": 62,
   "metadata": {},
   "outputs": [],
   "source": [
    "cfobj=cf(n_users,n_emb_user,n_emb_movie,n_movies,min_rating,max_rating,autoenc_cols,emb_cols,emb_szs,dropout_e,hidden,dropouts,error_type=\"mse\")"
   ]
  },
  {
   "cell_type": "code",
   "execution_count": 63,
   "metadata": {},
   "outputs": [],
   "source": [
    "cfobj=cfobj.to(device)"
   ]
  },
  {
   "cell_type": "code",
   "execution_count": 64,
   "metadata": {},
   "outputs": [
    {
     "data": {
      "text/plain": [
       "cf(\n",
       "  (emb_user): Embedding(77806, 100)\n",
       "  (emb_movie): Embedding(185974, 250)\n",
       "  (embs_cat): ModuleList(\n",
       "    (0): Embedding(21336, 50)\n",
       "    (1): Embedding(135569, 50)\n",
       "    (2): Embedding(62115, 50)\n",
       "    (3): Embedding(11577, 50)\n",
       "  )\n",
       "  (emb_dropout): Dropout(p=0.1)\n",
       "  (lin1): Sequential(\n",
       "    (0): Linear(in_features=350, out_features=75, bias=True)\n",
       "    (1): ReLU()\n",
       "    (2): Dropout(p=0.2)\n",
       "  )\n",
       "  (lin2): Sequential(\n",
       "    (0): Linear(in_features=35, out_features=15, bias=True)\n",
       "    (1): ReLU()\n",
       "    (2): Dropout(p=0.35)\n",
       "  )\n",
       "  (lin3): Sequential(\n",
       "    (0): Linear(in_features=200, out_features=50, bias=True)\n",
       "    (1): ReLU()\n",
       "    (2): Dropout(p=0.5)\n",
       "  )\n",
       "  (lin4): Sequential(\n",
       "    (0): Linear(in_features=140, out_features=25, bias=True)\n",
       "    (1): ReLU()\n",
       "    (2): Dropout(p=0.2)\n",
       "  )\n",
       "  (lin5): Sequential(\n",
       "    (0): Linear(in_features=25, out_features=10, bias=True)\n",
       "    (1): ReLU()\n",
       "    (2): Dropout(p=0.2)\n",
       "  )\n",
       "  (lin6): Linear(in_features=10, out_features=1, bias=True)\n",
       "  (sigmoid): Sigmoid()\n",
       "  (criterion): MSELoss()\n",
       ")"
      ]
     },
     "execution_count": 64,
     "metadata": {},
     "output_type": "execute_result"
    }
   ],
   "source": [
    "cfobj"
   ]
  },
  {
   "cell_type": "code",
   "execution_count": 65,
   "metadata": {},
   "outputs": [
    {
     "data": {
      "text/plain": [
       "6099"
      ]
     },
     "execution_count": 65,
     "metadata": {},
     "output_type": "execute_result"
    }
   ],
   "source": [
    "len(dltrain)"
   ]
  },
  {
   "cell_type": "code",
   "execution_count": 66,
   "metadata": {},
   "outputs": [],
   "source": [
    "wd=1e-7\n",
    "optimizer=torch.optim.Adam(cfobj.parameters(),lr=5e-3,betas=(0.9,0.999), weight_decay=wd)\n"
   ]
  },
  {
   "cell_type": "code",
   "execution_count": 67,
   "metadata": {},
   "outputs": [],
   "source": [
    "learner=Learner(cfobj,optimizer,None,device,0,12000,0.25,cycle_mult=0,error_type=\"mse\")"
   ]
  },
  {
   "cell_type": "code",
   "execution_count": 68,
   "metadata": {},
   "outputs": [],
   "source": [
    "learner.lr_find(1e-4,1e-1,dltrain,len(dltrain))"
   ]
  },
  {
   "cell_type": "code",
   "execution_count": 69,
   "metadata": {},
   "outputs": [
    {
     "data": {
      "image/png": "[encoded data removed]",
      "text/plain": [
       "<Figure size 432x288 with 1 Axes>"
      ]
     },
     "metadata": {
      "needs_background": "light"
     },
     "output_type": "display_data"
    }
   ],
   "source": [
    "learner.plot_lrs(50)"
   ]
  },
  {
   "cell_type": "code",
   "execution_count": 70,
   "metadata": {},
   "outputs": [
    {
     "data": {
      "image/png": "[encoded data removed]",
      "text/plain": [
       "<Figure size 432x288 with 1 Axes>"
      ]
     },
     "metadata": {
      "needs_background": "light"
     },
     "output_type": "display_data"
    }
   ],
   "source": [
    "learner.plot_lrs(10)"
   ]
  },
  {
   "cell_type": "code",
   "execution_count": 71,
   "metadata": {},
   "outputs": [
    {
     "data": {
      "image/png": "[encoded data removed]",
      "text/plain": [
       "<Figure size 432x288 with 1 Axes>"
      ]
     },
     "metadata": {
      "needs_background": "light"
     },
     "output_type": "display_data"
    }
   ],
   "source": [
    "learner.plot_lrs(1)"
   ]
  },
  {
   "cell_type": "code",
   "execution_count": 80,
   "metadata": {},
   "outputs": [],
   "source": [
    "del cfobj\n",
    "torch.cuda.empty_cache()"
   ]
  },
  {
   "cell_type": "code",
   "execution_count": 81,
   "metadata": {},
   "outputs": [],
   "source": [
    "cfobj=cf(n_users,n_emb_user,n_emb_movie,n_movies,min_rating,max_rating,autoenc_cols,emb_cols,emb_szs,dropout_e,hidden,dropouts,error_type=\"mse\")\n",
    "cfobj=cfobj.to(device)"
   ]
  },
  {
   "cell_type": "code",
   "execution_count": 82,
   "metadata": {},
   "outputs": [],
   "source": [
    "wd=1e-4\n",
    "optimizer=torch.optim.Adam(cfobj.parameters(),lr=7e-3,betas=(0.9,0.999), weight_decay=wd)\n",
    "learner=Learner(cfobj,optimizer,None,device,0,1000,0.25,cycle_mult=2,start_lr=7e-3,end_lr=7e-4,error_type=\"mse\")"
   ]
  },
  {
   "cell_type": "code",
   "execution_count": 83,
   "metadata": {},
   "outputs": [
    {
     "name": "stdout",
     "output_type": "stream",
     "text": [
      "Batch:1000 3.1899968274831774  \n",
      "Batch:2000 3.082241986632347  \n",
      "Batch:3000 3.040982258160909  \n",
      "Batch:4000 3.0124602316319944  \n",
      "Batch:5000 2.9989686956882475  \n",
      "Batch:6000 2.9864000319043797  \n",
      "Epoch:0 Learning rate 0.007 Weight Decay 0.0001 Train Loss:2.9859334016983814                 Valid Loss:2.8366332982493714 Train RMSE:1.7188687097221957 Valid RMSE:1.6750459308097452\n",
      "Batch:1000 2.6179520325660706  \n",
      "Batch:2000 2.6277200096845625  \n",
      "Batch:3000 2.6337953981558484  \n",
      "Batch:4000 2.647036879450083  \n",
      "Batch:5000 2.6509220862627028  \n",
      "Batch:6000 2.6603810082475343  \n",
      "Epoch:1 Learning rate 0.002213594362117866 Weight Decay 0.0001 Train Loss:2.6603557770516875                 Valid Loss:2.6553726889039213 Train RMSE:1.6218188617051823 Valid RMSE:1.6203544564223271\n",
      "Batch:1000 2.2444432349801064  \n",
      "Batch:2000 2.2286201760470865  \n",
      "Batch:3000 2.2253450372020405  \n",
      "Batch:4000 2.2338866479545834  \n",
      "Batch:5000 2.258830925691128  \n",
      "Batch:6000 2.2782685249745844  \n",
      "Epoch:2 Learning rate 0.0007000000000000001 Weight Decay 0.0001 Train Loss:2.280845137057998                 Valid Loss:2.6127054812633888 Train RMSE:1.5003252428201348 Valid RMSE:1.60695610550842\n",
      "Batch:1000 2.4677704155445097  \n",
      "Batch:2000 2.6019579381346705  \n",
      "Batch:3000 2.6795102910200757  \n",
      "Batch:4000 2.731269769102335  \n",
      "Batch:5000 2.7615451381206513  \n",
      "Batch:6000 2.7791429331898687  \n",
      "Epoch:3 Learning rate 0.007 Weight Decay 0.0001 Train Loss:2.7800235942966296                 Valid Loss:2.8148740025396544 Train RMSE:1.657564223179546 Valid RMSE:1.667873870127293\n",
      "Batch:1000 2.494710023164749  \n",
      "Batch:2000 2.51128342795372  \n",
      "Batch:3000 2.5322189688682557  \n",
      "Batch:4000 2.556085373908281  \n",
      "Batch:5000 2.579729505896568  \n",
      "Batch:6000 2.600419674396515  \n",
      "Epoch:4 Learning rate 0.003936389276332443 Weight Decay 0.0001 Train Loss:2.601751205881691                 Valid Loss:2.6991868143939692 Train RMSE:1.6034547618068664 Valid RMSE:1.6340227051051355\n"
     ]
    }
   ],
   "source": [
    "learner.run_epochs(dltrain,dlvalid,5)"
   ]
  },
  {
   "cell_type": "code",
   "execution_count": 84,
   "metadata": {},
   "outputs": [
    {
     "name": "stderr",
     "output_type": "stream",
     "text": [
      "/home/kirana/anaconda3/lib/python3.7/site-packages/torch/serialization.py:256: UserWarning: Couldn't retrieve source code for container of type cf. It won't be checked for correctness upon loading.\n",
      "  \"type \" + obj.__name__ + \". It won't be checked \"\n",
      "/home/kirana/anaconda3/lib/python3.7/site-packages/torch/serialization.py:256: UserWarning: Couldn't retrieve source code for container of type cf. It won't be checked for correctness upon loading.\n",
      "  \"type \" + obj.__name__ + \". It won't be checked \"\n"
     ]
    }
   ],
   "source": [
    "torch.save(cfobj,f=f'{DATAPATH}/inter/cf_plus_model')\n",
    "torch.save(learner,f=f'{DATAPATH}/inter/cf_plus_learner')\n",
    "torch.save(optimizer,f=f'{DATAPATH}/inter/cf_plus_optimizer')\n",
    "torch.save(cfobj.state_dict(),f'{DATAPATH}/inter/cf_plus_state_dict')\n",
    "torch.save(optimizer.state_dict(),f'{DATAPATH}/inter/cf_plus_optimizer_state_dict')"
   ]
  },
  {
   "cell_type": "code",
   "execution_count": null,
   "metadata": {},
   "outputs": [],
   "source": [
    "learner.run_epochs(dltrain,dlvalid,5)"
   ]
  },
  {
   "cell_type": "code",
   "execution_count": 67,
   "metadata": {},
   "outputs": [],
   "source": [
    "optimizer=torch.optim.Adam(cfobj.parameters(),lr=3e-3,betas=(0.9,0.999), weight_decay=wd)\n",
    "learner=Learner(cfobj,optimizer,None,device,0,12000,0.25,cycle_mult=2,start_lr=7e-3,end_lr=7e-4,error_type=\"mse\")"
   ]
  },
  {
   "cell_type": "code",
   "execution_count": 68,
   "metadata": {},
   "outputs": [
    {
     "name": "stdout",
     "output_type": "stream",
     "text": [
      "Epoch:0 Learning rate 0.003 Weight Decay 1e-07 Train Loss:2.625181832886618                 Valid Loss:2.6428450261597085 Train RMSE:1.6099483778940629 Valid RMSE:1.6160828023622176\n",
      "Epoch:1 Learning rate 0.001449137674618944 Weight Decay 1e-07 Train Loss:1.8146231725169393                 Valid Loss:2.722309136109366 Train RMSE:1.3368388321063203 Valid RMSE:1.640278570014627\n",
      "Epoch:2 Learning rate 0.0007 Weight Decay 1e-07 Train Loss:1.3636181085866912                 Valid Loss:2.8617026389172646 Train RMSE:1.1568320938152272 Valid RMSE:1.6818301572594088\n",
      "Epoch:3 Learning rate 0.003 Weight Decay 1e-07 Train Loss:1.511658156464424                 Valid Loss:2.8440026213637495 Train RMSE:1.217005143903261 Valid RMSE:1.6766864136773527\n",
      "Epoch:4 Learning rate 0.0020850450891663785 Weight Decay 1e-07 Train Loss:1.4135251124191721                 Valid Loss:2.8621776483755195 Train RMSE:1.1793923000566515 Valid RMSE:1.6821941826767546\n",
      "Epoch:5 Learning rate 0.0014491376746189437 Weight Decay 1e-07 Train Loss:1.0831452761688942                 Valid Loss:2.9011144676743004 Train RMSE:1.030479098351505 Valid RMSE:1.6926198987643406\n",
      "Epoch:6 Learning rate 0.001007172463996738 Weight Decay 1e-07 Train Loss:0.911172093651611                 Valid Loss:2.9285716579727015 Train RMSE:0.9444922859195258 Valid RMSE:1.7007836735663209\n"
     ]
    }
   ],
   "source": [
    "learner.run_epochs(dltrain,dlvalid,7)"
   ]
  },
  {
   "cell_type": "code",
   "execution_count": 74,
   "metadata": {},
   "outputs": [
    {
     "name": "stderr",
     "output_type": "stream",
     "text": [
      "/home/kirana/anaconda3/lib/python3.7/site-packages/torch/serialization.py:256: UserWarning: Couldn't retrieve source code for container of type cf. It won't be checked for correctness upon loading.\n",
      "  \"type \" + obj.__name__ + \". It won't be checked \"\n",
      "/home/kirana/anaconda3/lib/python3.7/site-packages/torch/serialization.py:256: UserWarning: Couldn't retrieve source code for container of type cf. It won't be checked for correctness upon loading.\n",
      "  \"type \" + obj.__name__ + \". It won't be checked \"\n"
     ]
    }
   ],
   "source": []
  },
  {
   "cell_type": "code",
   "execution_count": null,
   "metadata": {},
   "outputs": [],
   "source": []
  }
 ],
 "metadata": {
  "kernelspec": {
   "display_name": "Python 3",
   "language": "python",
   "name": "python3"
  },
  "language_info": {
   "codemirror_mode": {
    "name": "ipython",
    "version": 3
   },
   "file_extension": ".py",
   "mimetype": "text/x-python",
   "name": "python",
   "nbconvert_exporter": "python",
   "pygments_lexer": "ipython3",
   "version": "3.7.3"
  }
 },
 "nbformat": 4,
 "nbformat_minor": 2
}
