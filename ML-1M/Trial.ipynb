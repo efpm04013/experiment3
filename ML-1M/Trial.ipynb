{
 "cells": [
  {
   "cell_type": "code",
   "execution_count": 1,
   "metadata": {},
   "outputs": [],
   "source": [
    "PATH='/home/kirana/Documents/phd/exp3_autoencoder'\n",
    "DATAPATH='/home/kirana/Documents/final_dissertation_final/experiments/datasets/ml-1m'"
   ]
  },
  {
   "cell_type": "code",
   "execution_count": 2,
   "metadata": {},
   "outputs": [],
   "source": [
    "import pandas as pd\n",
    "import numpy as np\n",
    "import matplotlib.pyplot as plt\n",
    "import sklearn\n",
    "import os\n",
    "import pickle\n",
    "import torch\n",
    "from torch.utils.data import Dataset, DataLoader\n",
    "from torch import nn"
   ]
  },
  {
   "cell_type": "code",
   "execution_count": 3,
   "metadata": {},
   "outputs": [],
   "source": [
    "[df, df_train,df_valid,df,df_ratings,idx_to_user,\\\n",
    "             idx_to_movie,movie_to_idx,user_to_idx]=pickle.load(open(f'{DATAPATH}/reads.pkl','rb'))"
   ]
  },
  {
   "cell_type": "code",
   "execution_count": 4,
   "metadata": {},
   "outputs": [
    {
     "data": {
      "text/plain": [
       "(1000209, 20)"
      ]
     },
     "execution_count": 4,
     "metadata": {},
     "output_type": "execute_result"
    }
   ],
   "source": [
    "df.shape"
   ]
  },
  {
   "cell_type": "code",
   "execution_count": 5,
   "metadata": {},
   "outputs": [
    {
     "data": {
      "text/html": [
       "<div>\n",
       "<style scoped>\n",
       "    .dataframe tbody tr th:only-of-type {\n",
       "        vertical-align: middle;\n",
       "    }\n",
       "\n",
       "    .dataframe tbody tr th {\n",
       "        vertical-align: top;\n",
       "    }\n",
       "\n",
       "    .dataframe thead th {\n",
       "        text-align: right;\n",
       "    }\n",
       "</style>\n",
       "<table border=\"1\" class=\"dataframe\">\n",
       "  <thead>\n",
       "    <tr style=\"text-align: right;\">\n",
       "      <th></th>\n",
       "      <th>userId</th>\n",
       "      <th>itemId</th>\n",
       "      <th>rating</th>\n",
       "      <th>timestamp</th>\n",
       "      <th>gender</th>\n",
       "      <th>age</th>\n",
       "      <th>occupation</th>\n",
       "      <th>zip</th>\n",
       "      <th>title</th>\n",
       "      <th>genre</th>\n",
       "      <th>random_dstype</th>\n",
       "      <th>user_idx</th>\n",
       "      <th>item_idx</th>\n",
       "      <th>dstype_random_train</th>\n",
       "      <th>dstype_random_valid</th>\n",
       "      <th>gender_idx</th>\n",
       "      <th>age_idx</th>\n",
       "      <th>title_idx</th>\n",
       "      <th>genre_idx</th>\n",
       "      <th>zip_idx</th>\n",
       "    </tr>\n",
       "  </thead>\n",
       "  <tbody>\n",
       "    <tr>\n",
       "      <th>648724</th>\n",
       "      <td>3908</td>\n",
       "      <td>2347</td>\n",
       "      <td>4</td>\n",
       "      <td>965941231</td>\n",
       "      <td>M</td>\n",
       "      <td>25</td>\n",
       "      <td>0</td>\n",
       "      <td>10021</td>\n",
       "      <td>Pope of Greenwich Village, The (1984)</td>\n",
       "      <td>Action</td>\n",
       "      <td>train</td>\n",
       "      <td>1</td>\n",
       "      <td>1</td>\n",
       "      <td>1</td>\n",
       "      <td>0</td>\n",
       "      <td>1</td>\n",
       "      <td>1</td>\n",
       "      <td>1</td>\n",
       "      <td>1</td>\n",
       "      <td>1</td>\n",
       "    </tr>\n",
       "    <tr>\n",
       "      <th>203881</th>\n",
       "      <td>1254</td>\n",
       "      <td>1541</td>\n",
       "      <td>2</td>\n",
       "      <td>974823280</td>\n",
       "      <td>F</td>\n",
       "      <td>18</td>\n",
       "      <td>1</td>\n",
       "      <td>02144</td>\n",
       "      <td>Addicted to Love (1997)</td>\n",
       "      <td>Comedy|Romance</td>\n",
       "      <td>train</td>\n",
       "      <td>2</td>\n",
       "      <td>2</td>\n",
       "      <td>1</td>\n",
       "      <td>0</td>\n",
       "      <td>2</td>\n",
       "      <td>2</td>\n",
       "      <td>2</td>\n",
       "      <td>2</td>\n",
       "      <td>2</td>\n",
       "    </tr>\n",
       "    <tr>\n",
       "      <th>243394</th>\n",
       "      <td>1467</td>\n",
       "      <td>2617</td>\n",
       "      <td>3</td>\n",
       "      <td>977173059</td>\n",
       "      <td>M</td>\n",
       "      <td>25</td>\n",
       "      <td>5</td>\n",
       "      <td>97007</td>\n",
       "      <td>Mummy, The (1999)</td>\n",
       "      <td>Action|Adventure|Horror|Thriller</td>\n",
       "      <td>train</td>\n",
       "      <td>3</td>\n",
       "      <td>3</td>\n",
       "      <td>1</td>\n",
       "      <td>0</td>\n",
       "      <td>1</td>\n",
       "      <td>1</td>\n",
       "      <td>3</td>\n",
       "      <td>3</td>\n",
       "      <td>3</td>\n",
       "    </tr>\n",
       "    <tr>\n",
       "      <th>788507</th>\n",
       "      <td>4717</td>\n",
       "      <td>3754</td>\n",
       "      <td>3</td>\n",
       "      <td>963502544</td>\n",
       "      <td>M</td>\n",
       "      <td>45</td>\n",
       "      <td>17</td>\n",
       "      <td>48310</td>\n",
       "      <td>Adventures of Rocky and Bullwinkle, The (2000)</td>\n",
       "      <td>Animation|Children's|Comedy</td>\n",
       "      <td>train</td>\n",
       "      <td>4</td>\n",
       "      <td>4</td>\n",
       "      <td>1</td>\n",
       "      <td>0</td>\n",
       "      <td>1</td>\n",
       "      <td>3</td>\n",
       "      <td>4</td>\n",
       "      <td>4</td>\n",
       "      <td>4</td>\n",
       "    </tr>\n",
       "    <tr>\n",
       "      <th>301066</th>\n",
       "      <td>1789</td>\n",
       "      <td>2997</td>\n",
       "      <td>5</td>\n",
       "      <td>974700402</td>\n",
       "      <td>M</td>\n",
       "      <td>1</td>\n",
       "      <td>10</td>\n",
       "      <td>19116</td>\n",
       "      <td>Being John Malkovich (1999)</td>\n",
       "      <td>Comedy</td>\n",
       "      <td>train</td>\n",
       "      <td>5</td>\n",
       "      <td>5</td>\n",
       "      <td>1</td>\n",
       "      <td>0</td>\n",
       "      <td>1</td>\n",
       "      <td>4</td>\n",
       "      <td>5</td>\n",
       "      <td>5</td>\n",
       "      <td>5</td>\n",
       "    </tr>\n",
       "  </tbody>\n",
       "</table>\n",
       "</div>"
      ],
      "text/plain": [
       "        userId  itemId  rating  timestamp gender  age  occupation    zip  \\\n",
       "648724    3908    2347       4  965941231      M   25           0  10021   \n",
       "203881    1254    1541       2  974823280      F   18           1  02144   \n",
       "243394    1467    2617       3  977173059      M   25           5  97007   \n",
       "788507    4717    3754       3  963502544      M   45          17  48310   \n",
       "301066    1789    2997       5  974700402      M    1          10  19116   \n",
       "\n",
       "                                                 title  \\\n",
       "648724           Pope of Greenwich Village, The (1984)   \n",
       "203881                         Addicted to Love (1997)   \n",
       "243394                               Mummy, The (1999)   \n",
       "788507  Adventures of Rocky and Bullwinkle, The (2000)   \n",
       "301066                     Being John Malkovich (1999)   \n",
       "\n",
       "                                   genre random_dstype  user_idx  item_idx  \\\n",
       "648724                            Action         train         1         1   \n",
       "203881                    Comedy|Romance         train         2         2   \n",
       "243394  Action|Adventure|Horror|Thriller         train         3         3   \n",
       "788507       Animation|Children's|Comedy         train         4         4   \n",
       "301066                            Comedy         train         5         5   \n",
       "\n",
       "        dstype_random_train  dstype_random_valid  gender_idx  age_idx  \\\n",
       "648724                    1                    0           1        1   \n",
       "203881                    1                    0           2        2   \n",
       "243394                    1                    0           1        1   \n",
       "788507                    1                    0           1        3   \n",
       "301066                    1                    0           1        4   \n",
       "\n",
       "        title_idx  genre_idx  zip_idx  \n",
       "648724          1          1        1  \n",
       "203881          2          2        2  \n",
       "243394          3          3        3  \n",
       "788507          4          4        4  \n",
       "301066          5          5        5  "
      ]
     },
     "execution_count": 5,
     "metadata": {},
     "output_type": "execute_result"
    }
   ],
   "source": [
    "df.head()"
   ]
  },
  {
   "cell_type": "code",
   "execution_count": 6,
   "metadata": {},
   "outputs": [],
   "source": [
    "df_train=df.loc[df['random_dstype']=='train']\n",
    "df_valid=df.loc[df['random_dstype']!='train']"
   ]
  },
  {
   "cell_type": "code",
   "execution_count": 7,
   "metadata": {},
   "outputs": [
    {
     "data": {
      "text/html": [
       "<div>\n",
       "<style scoped>\n",
       "    .dataframe tbody tr th:only-of-type {\n",
       "        vertical-align: middle;\n",
       "    }\n",
       "\n",
       "    .dataframe tbody tr th {\n",
       "        vertical-align: top;\n",
       "    }\n",
       "\n",
       "    .dataframe thead th {\n",
       "        text-align: right;\n",
       "    }\n",
       "</style>\n",
       "<table border=\"1\" class=\"dataframe\">\n",
       "  <thead>\n",
       "    <tr style=\"text-align: right;\">\n",
       "      <th></th>\n",
       "      <th>648724</th>\n",
       "      <th>203881</th>\n",
       "      <th>243394</th>\n",
       "      <th>788507</th>\n",
       "      <th>301066</th>\n",
       "    </tr>\n",
       "  </thead>\n",
       "  <tbody>\n",
       "    <tr>\n",
       "      <th>userId</th>\n",
       "      <td>3908</td>\n",
       "      <td>1254</td>\n",
       "      <td>1467</td>\n",
       "      <td>4717</td>\n",
       "      <td>1789</td>\n",
       "    </tr>\n",
       "    <tr>\n",
       "      <th>itemId</th>\n",
       "      <td>2347</td>\n",
       "      <td>1541</td>\n",
       "      <td>2617</td>\n",
       "      <td>3754</td>\n",
       "      <td>2997</td>\n",
       "    </tr>\n",
       "    <tr>\n",
       "      <th>rating</th>\n",
       "      <td>4</td>\n",
       "      <td>2</td>\n",
       "      <td>3</td>\n",
       "      <td>3</td>\n",
       "      <td>5</td>\n",
       "    </tr>\n",
       "    <tr>\n",
       "      <th>timestamp</th>\n",
       "      <td>965941231</td>\n",
       "      <td>974823280</td>\n",
       "      <td>977173059</td>\n",
       "      <td>963502544</td>\n",
       "      <td>974700402</td>\n",
       "    </tr>\n",
       "    <tr>\n",
       "      <th>gender</th>\n",
       "      <td>M</td>\n",
       "      <td>F</td>\n",
       "      <td>M</td>\n",
       "      <td>M</td>\n",
       "      <td>M</td>\n",
       "    </tr>\n",
       "    <tr>\n",
       "      <th>age</th>\n",
       "      <td>25</td>\n",
       "      <td>18</td>\n",
       "      <td>25</td>\n",
       "      <td>45</td>\n",
       "      <td>1</td>\n",
       "    </tr>\n",
       "    <tr>\n",
       "      <th>occupation</th>\n",
       "      <td>0</td>\n",
       "      <td>1</td>\n",
       "      <td>5</td>\n",
       "      <td>17</td>\n",
       "      <td>10</td>\n",
       "    </tr>\n",
       "    <tr>\n",
       "      <th>zip</th>\n",
       "      <td>10021</td>\n",
       "      <td>02144</td>\n",
       "      <td>97007</td>\n",
       "      <td>48310</td>\n",
       "      <td>19116</td>\n",
       "    </tr>\n",
       "    <tr>\n",
       "      <th>title</th>\n",
       "      <td>Pope of Greenwich Village, The (1984)</td>\n",
       "      <td>Addicted to Love (1997)</td>\n",
       "      <td>Mummy, The (1999)</td>\n",
       "      <td>Adventures of Rocky and Bullwinkle, The (2000)</td>\n",
       "      <td>Being John Malkovich (1999)</td>\n",
       "    </tr>\n",
       "    <tr>\n",
       "      <th>genre</th>\n",
       "      <td>Action</td>\n",
       "      <td>Comedy|Romance</td>\n",
       "      <td>Action|Adventure|Horror|Thriller</td>\n",
       "      <td>Animation|Children's|Comedy</td>\n",
       "      <td>Comedy</td>\n",
       "    </tr>\n",
       "    <tr>\n",
       "      <th>random_dstype</th>\n",
       "      <td>train</td>\n",
       "      <td>train</td>\n",
       "      <td>train</td>\n",
       "      <td>train</td>\n",
       "      <td>train</td>\n",
       "    </tr>\n",
       "    <tr>\n",
       "      <th>user_idx</th>\n",
       "      <td>1</td>\n",
       "      <td>2</td>\n",
       "      <td>3</td>\n",
       "      <td>4</td>\n",
       "      <td>5</td>\n",
       "    </tr>\n",
       "    <tr>\n",
       "      <th>item_idx</th>\n",
       "      <td>1</td>\n",
       "      <td>2</td>\n",
       "      <td>3</td>\n",
       "      <td>4</td>\n",
       "      <td>5</td>\n",
       "    </tr>\n",
       "    <tr>\n",
       "      <th>dstype_random_train</th>\n",
       "      <td>1</td>\n",
       "      <td>1</td>\n",
       "      <td>1</td>\n",
       "      <td>1</td>\n",
       "      <td>1</td>\n",
       "    </tr>\n",
       "    <tr>\n",
       "      <th>dstype_random_valid</th>\n",
       "      <td>0</td>\n",
       "      <td>0</td>\n",
       "      <td>0</td>\n",
       "      <td>0</td>\n",
       "      <td>0</td>\n",
       "    </tr>\n",
       "    <tr>\n",
       "      <th>gender_idx</th>\n",
       "      <td>1</td>\n",
       "      <td>2</td>\n",
       "      <td>1</td>\n",
       "      <td>1</td>\n",
       "      <td>1</td>\n",
       "    </tr>\n",
       "    <tr>\n",
       "      <th>age_idx</th>\n",
       "      <td>1</td>\n",
       "      <td>2</td>\n",
       "      <td>1</td>\n",
       "      <td>3</td>\n",
       "      <td>4</td>\n",
       "    </tr>\n",
       "    <tr>\n",
       "      <th>title_idx</th>\n",
       "      <td>1</td>\n",
       "      <td>2</td>\n",
       "      <td>3</td>\n",
       "      <td>4</td>\n",
       "      <td>5</td>\n",
       "    </tr>\n",
       "    <tr>\n",
       "      <th>genre_idx</th>\n",
       "      <td>1</td>\n",
       "      <td>2</td>\n",
       "      <td>3</td>\n",
       "      <td>4</td>\n",
       "      <td>5</td>\n",
       "    </tr>\n",
       "    <tr>\n",
       "      <th>zip_idx</th>\n",
       "      <td>1</td>\n",
       "      <td>2</td>\n",
       "      <td>3</td>\n",
       "      <td>4</td>\n",
       "      <td>5</td>\n",
       "    </tr>\n",
       "  </tbody>\n",
       "</table>\n",
       "</div>"
      ],
      "text/plain": [
       "                                                    648724  \\\n",
       "userId                                                3908   \n",
       "itemId                                                2347   \n",
       "rating                                                   4   \n",
       "timestamp                                        965941231   \n",
       "gender                                                   M   \n",
       "age                                                     25   \n",
       "occupation                                               0   \n",
       "zip                                                  10021   \n",
       "title                Pope of Greenwich Village, The (1984)   \n",
       "genre                                               Action   \n",
       "random_dstype                                        train   \n",
       "user_idx                                                 1   \n",
       "item_idx                                                 1   \n",
       "dstype_random_train                                      1   \n",
       "dstype_random_valid                                      0   \n",
       "gender_idx                                               1   \n",
       "age_idx                                                  1   \n",
       "title_idx                                                1   \n",
       "genre_idx                                                1   \n",
       "zip_idx                                                  1   \n",
       "\n",
       "                                      203881  \\\n",
       "userId                                  1254   \n",
       "itemId                                  1541   \n",
       "rating                                     2   \n",
       "timestamp                          974823280   \n",
       "gender                                     F   \n",
       "age                                       18   \n",
       "occupation                                 1   \n",
       "zip                                    02144   \n",
       "title                Addicted to Love (1997)   \n",
       "genre                         Comedy|Romance   \n",
       "random_dstype                          train   \n",
       "user_idx                                   2   \n",
       "item_idx                                   2   \n",
       "dstype_random_train                        1   \n",
       "dstype_random_valid                        0   \n",
       "gender_idx                                 2   \n",
       "age_idx                                    2   \n",
       "title_idx                                  2   \n",
       "genre_idx                                  2   \n",
       "zip_idx                                    2   \n",
       "\n",
       "                                               243394  \\\n",
       "userId                                           1467   \n",
       "itemId                                           2617   \n",
       "rating                                              3   \n",
       "timestamp                                   977173059   \n",
       "gender                                              M   \n",
       "age                                                25   \n",
       "occupation                                          5   \n",
       "zip                                             97007   \n",
       "title                               Mummy, The (1999)   \n",
       "genre                Action|Adventure|Horror|Thriller   \n",
       "random_dstype                                   train   \n",
       "user_idx                                            3   \n",
       "item_idx                                            3   \n",
       "dstype_random_train                                 1   \n",
       "dstype_random_valid                                 0   \n",
       "gender_idx                                          1   \n",
       "age_idx                                             1   \n",
       "title_idx                                           3   \n",
       "genre_idx                                           3   \n",
       "zip_idx                                             3   \n",
       "\n",
       "                                                             788507  \\\n",
       "userId                                                         4717   \n",
       "itemId                                                         3754   \n",
       "rating                                                            3   \n",
       "timestamp                                                 963502544   \n",
       "gender                                                            M   \n",
       "age                                                              45   \n",
       "occupation                                                       17   \n",
       "zip                                                           48310   \n",
       "title                Adventures of Rocky and Bullwinkle, The (2000)   \n",
       "genre                                   Animation|Children's|Comedy   \n",
       "random_dstype                                                 train   \n",
       "user_idx                                                          4   \n",
       "item_idx                                                          4   \n",
       "dstype_random_train                                               1   \n",
       "dstype_random_valid                                               0   \n",
       "gender_idx                                                        1   \n",
       "age_idx                                                           3   \n",
       "title_idx                                                         4   \n",
       "genre_idx                                                         4   \n",
       "zip_idx                                                           4   \n",
       "\n",
       "                                          301066  \n",
       "userId                                      1789  \n",
       "itemId                                      2997  \n",
       "rating                                         5  \n",
       "timestamp                              974700402  \n",
       "gender                                         M  \n",
       "age                                            1  \n",
       "occupation                                    10  \n",
       "zip                                        19116  \n",
       "title                Being John Malkovich (1999)  \n",
       "genre                                     Comedy  \n",
       "random_dstype                              train  \n",
       "user_idx                                       5  \n",
       "item_idx                                       5  \n",
       "dstype_random_train                            1  \n",
       "dstype_random_valid                            0  \n",
       "gender_idx                                     1  \n",
       "age_idx                                        4  \n",
       "title_idx                                      5  \n",
       "genre_idx                                      5  \n",
       "zip_idx                                        5  "
      ]
     },
     "execution_count": 7,
     "metadata": {},
     "output_type": "execute_result"
    }
   ],
   "source": [
    "df_train.head().T"
   ]
  },
  {
   "cell_type": "code",
   "execution_count": 8,
   "metadata": {},
   "outputs": [
    {
     "data": {
      "text/plain": [
       "((900188, 20), (100021, 20))"
      ]
     },
     "execution_count": 8,
     "metadata": {},
     "output_type": "execute_result"
    }
   ],
   "source": [
    "df_train.shape,df_valid.shape"
   ]
  },
  {
   "cell_type": "markdown",
   "metadata": {},
   "source": [
    "### Add the autoencoder features"
   ]
  },
  {
   "cell_type": "code",
   "execution_count": 9,
   "metadata": {},
   "outputs": [],
   "source": [
    "import pickle"
   ]
  },
  {
   "cell_type": "code",
   "execution_count": 10,
   "metadata": {},
   "outputs": [],
   "source": [
    "[df_train_user_autoenc,df_valid_user_autoenc,user_mtx_1_weights,user_mtx_2_weights]=\\\n",
    "    pickle.load(open(f'{DATAPATH}/inter/user_autoenc_weights.pkl','rb'))"
   ]
  },
  {
   "cell_type": "code",
   "execution_count": 11,
   "metadata": {},
   "outputs": [],
   "source": [
    "[df_train_item_autoenc, df_valid_item_autoenc,item_mtx_1_weights,item_mtx_2_weights]=\\\n",
    "    pickle.load(open(f'{DATAPATH}/inter/item_autoenc_weights.pkl','rb'))"
   ]
  },
  {
   "cell_type": "code",
   "execution_count": 12,
   "metadata": {},
   "outputs": [
    {
     "data": {
      "text/plain": [
       "((6041, 11),\n",
       " pandas.core.frame.DataFrame,\n",
       "    user_idx  user_autoenc0  user_autoenc1  user_autoenc2  user_autoenc3  \\\n",
       " 0         0      -0.671837       2.577009      -1.507589       0.332797   \n",
       " 1         1      -0.809926      -0.483721       2.453740      -1.551907   \n",
       " 2         2       1.254941      -2.131284       1.810311       0.597943   \n",
       " 3         3      -3.206347      -0.449586       2.392539      -2.755247   \n",
       " 4         4      -0.097608       1.857577      -2.348423       2.663222   \n",
       " \n",
       "    user_autoenc4  user_autoenc5  user_autoenc6  user_autoenc7  user_autoenc8  \\\n",
       " 0      -1.139656      -1.726680      -1.184810      -0.325938       2.037823   \n",
       " 1       3.453933      -0.869701       2.121841       3.970576      -1.076461   \n",
       " 2       0.346018       2.327138       0.337492       0.072589      -2.992533   \n",
       " 3       0.173469      -1.687047       4.412164       4.598782      -0.101633   \n",
       " 4      -1.915509      -1.128552      -1.527104      -2.628924      -0.967917   \n",
       " \n",
       "    user_autoenc9  \n",
       " 0       1.097733  \n",
       " 1       2.741880  \n",
       " 2      -0.936141  \n",
       " 3       1.518000  \n",
       " 4      -1.195479  )"
      ]
     },
     "execution_count": 12,
     "metadata": {},
     "output_type": "execute_result"
    }
   ],
   "source": [
    "df_train_user_autoenc.shape, type(df_train_user_autoenc),df_train_user_autoenc.head()"
   ]
  },
  {
   "cell_type": "code",
   "execution_count": 13,
   "metadata": {},
   "outputs": [
    {
     "data": {
      "text/plain": [
       "((6041, 11),\n",
       " pandas.core.frame.DataFrame,\n",
       "    user_idx  user_autoenc0  user_autoenc1  user_autoenc2  user_autoenc3  \\\n",
       " 0         0       1.443038       3.739923      -1.705728      -0.934832   \n",
       " 1         1      -2.179663      -0.304209       2.231106      -2.690022   \n",
       " 2         2      -1.197682       2.911296      -1.374013      -0.956890   \n",
       " 3         3      -0.795275       1.550588       0.345821      -2.817803   \n",
       " 4         4       2.792106       3.132009      -2.735980      -1.092634   \n",
       " \n",
       "    user_autoenc4  user_autoenc5  user_autoenc6  user_autoenc7  user_autoenc8  \\\n",
       " 0      -2.361988      -0.164131      -2.501593       0.092132       4.284271   \n",
       " 1       1.797029      -0.735618       3.405828       3.636310      -0.675551   \n",
       " 2      -2.304279      -1.051586       0.005976      -0.470597       1.295456   \n",
       " 3      -1.488546      -0.206169       1.536819       2.329327       1.548221   \n",
       " 4      -3.802804       1.253022      -2.804603      -1.343972       3.890115   \n",
       " \n",
       "    user_autoenc9  \n",
       " 0       3.389087  \n",
       " 1       1.583212  \n",
       " 2       2.075265  \n",
       " 3       2.507328  \n",
       " 4       2.367678  )"
      ]
     },
     "execution_count": 13,
     "metadata": {},
     "output_type": "execute_result"
    }
   ],
   "source": [
    "df_valid_user_autoenc.shape, type(df_valid_user_autoenc),df_valid_user_autoenc.head()"
   ]
  },
  {
   "cell_type": "code",
   "execution_count": 14,
   "metadata": {},
   "outputs": [
    {
     "data": {
      "text/plain": [
       "((3707, 26),\n",
       " pandas.core.frame.DataFrame,\n",
       "    item_idx  item_autoenc0  item_autoenc1  item_autoenc2  item_autoenc3  \\\n",
       " 0         0      -0.972387      -0.606349      -1.684785       3.331483   \n",
       " 1         1       0.109613       2.493398       1.538485      -3.214294   \n",
       " 2         2       2.546608      -0.385986      -2.767612      -0.812071   \n",
       " 3         3      -1.314622       5.501726       1.575552      -5.851224   \n",
       " 4         4      -1.303826      -2.574216      -4.260112       4.948697   \n",
       " \n",
       "    item_autoenc4  item_autoenc5  item_autoenc6  item_autoenc7  item_autoenc8  \\\n",
       " 0      -4.366021       0.424214      -0.572584      -1.469266      -0.936130   \n",
       " 1      -5.050033      -4.308205      -0.751286      -1.576796       3.761183   \n",
       " 2      -1.934735      -4.304457      -1.387528      -1.374283       1.729323   \n",
       " 3      -1.000455      -4.277728       2.578251      -2.228659       6.636960   \n",
       " 4       1.262775       1.786267       0.612944      -1.522320      -4.641035   \n",
       " \n",
       "    ...  item_autoenc15  item_autoenc16  item_autoenc17  item_autoenc18  \\\n",
       " 0  ...       -0.608460       -2.979846        0.638834        0.245304   \n",
       " 1  ...        4.214801       -4.522526        5.681977       -3.465879   \n",
       " 2  ...        0.633923       -3.248116        3.704189       -3.737520   \n",
       " 3  ...        2.186127       -3.175230        7.909575       -2.991511   \n",
       " 4  ...       -2.230738        2.555233       -5.007383        4.081265   \n",
       " \n",
       "    item_autoenc19  item_autoenc20  item_autoenc21  item_autoenc22  \\\n",
       " 0        1.087182        3.282634        5.484075        1.130925   \n",
       " 1        1.920064       -1.246745        2.935915       -0.071899   \n",
       " 2       -0.570514        0.109860        5.140727       -1.363789   \n",
       " 3        0.128482       -2.730391       -1.991107       -5.363262   \n",
       " 4        0.887879        6.726396        5.138170        3.260158   \n",
       " \n",
       "    item_autoenc23  item_autoenc24  \n",
       " 0        2.098932       -0.588464  \n",
       " 1       -0.106036       -2.280650  \n",
       " 2        1.358756       -3.688738  \n",
       " 3       -2.447411       -2.122037  \n",
       " 4        5.017570       -1.921575  \n",
       " \n",
       " [5 rows x 26 columns])"
      ]
     },
     "execution_count": 14,
     "metadata": {},
     "output_type": "execute_result"
    }
   ],
   "source": [
    "df_train_item_autoenc.shape, type(df_train_item_autoenc),df_train_item_autoenc.head()"
   ]
  },
  {
   "cell_type": "code",
   "execution_count": 15,
   "metadata": {},
   "outputs": [
    {
     "data": {
      "text/plain": [
       "((3707, 26),\n",
       " pandas.core.frame.DataFrame,\n",
       "    item_idx  item_autoenc0  item_autoenc1  item_autoenc2  item_autoenc3  \\\n",
       " 0         0      -2.260203       3.249211       0.732744       0.672127   \n",
       " 1         1      -1.437780       4.805419       2.360490      -3.502130   \n",
       " 2         2       2.185920       2.270772      -1.313627      -0.561884   \n",
       " 3         3      -1.766132       4.403568       1.506800      -2.777096   \n",
       " 4         4      -0.824570      -2.970635      -3.598530       3.352428   \n",
       " \n",
       "    item_autoenc4  item_autoenc5  item_autoenc6  item_autoenc7  item_autoenc8  \\\n",
       " 0      -6.091678      -0.611016       0.990156      -3.158490       1.314611   \n",
       " 1      -5.824772      -4.784998       1.876775      -2.511013       4.959239   \n",
       " 2      -3.195740      -3.176659      -2.118562      -1.412818       2.192565   \n",
       " 3      -1.904963      -1.274057       1.787238      -2.549058       3.284896   \n",
       " 4       0.860574      -0.284102       1.422206      -1.463916      -2.705498   \n",
       " \n",
       "    ...  item_autoenc15  item_autoenc16  item_autoenc17  item_autoenc18  \\\n",
       " 0  ...        2.796474       -3.455809        4.435221        0.279910   \n",
       " 1  ...        3.930228       -3.703976        6.729170       -1.785125   \n",
       " 2  ...        1.224871       -3.381800        5.348843       -2.815683   \n",
       " 3  ...        0.180715       -0.721643        4.211367       -2.285719   \n",
       " 4  ...       -0.464589        1.873167       -4.282616        2.985932   \n",
       " \n",
       "    item_autoenc19  item_autoenc20  item_autoenc21  item_autoenc22  \\\n",
       " 0        3.396531        2.841140        3.399641       -1.293907   \n",
       " 1        3.646008        0.100164        1.785740       -1.858226   \n",
       " 2       -0.642458        0.863307        3.606010       -2.371078   \n",
       " 3       -0.134735        0.616023        0.033945       -2.184162   \n",
       " 4        0.454287        4.719953        4.892051        2.653874   \n",
       " \n",
       "    item_autoenc23  item_autoenc24  \n",
       " 0        0.396739       -1.956778  \n",
       " 1       -0.490995       -2.383969  \n",
       " 2       -0.417250       -2.504559  \n",
       " 3       -0.382632       -0.840352  \n",
       " 4        5.644776       -2.130894  \n",
       " \n",
       " [5 rows x 26 columns])"
      ]
     },
     "execution_count": 15,
     "metadata": {},
     "output_type": "execute_result"
    }
   ],
   "source": [
    "df_valid_item_autoenc.shape, type(df_valid_item_autoenc),df_valid_item_autoenc.head()"
   ]
  },
  {
   "cell_type": "code",
   "execution_count": 16,
   "metadata": {},
   "outputs": [
    {
     "data": {
      "text/plain": [
       "user_idx         False\n",
       "user_autoenc0    False\n",
       "user_autoenc1    False\n",
       "user_autoenc2    False\n",
       "user_autoenc3    False\n",
       "user_autoenc4    False\n",
       "user_autoenc5    False\n",
       "user_autoenc6    False\n",
       "user_autoenc7    False\n",
       "user_autoenc8    False\n",
       "user_autoenc9    False\n",
       "dtype: bool"
      ]
     },
     "execution_count": 16,
     "metadata": {},
     "output_type": "execute_result"
    }
   ],
   "source": [
    "df_valid_user_autoenc.isnull().any()"
   ]
  },
  {
   "cell_type": "code",
   "execution_count": 17,
   "metadata": {},
   "outputs": [
    {
     "data": {
      "text/plain": [
       "userId                 0\n",
       "itemId                 0\n",
       "rating                 0\n",
       "timestamp              0\n",
       "gender                 0\n",
       "age                    0\n",
       "occupation             0\n",
       "zip                    0\n",
       "title                  0\n",
       "genre                  0\n",
       "random_dstype          0\n",
       "user_idx               0\n",
       "item_idx               0\n",
       "dstype_random_train    0\n",
       "dstype_random_valid    0\n",
       "gender_idx             0\n",
       "age_idx                0\n",
       "title_idx              0\n",
       "genre_idx              0\n",
       "zip_idx                0\n",
       "dtype: int64"
      ]
     },
     "execution_count": 17,
     "metadata": {},
     "output_type": "execute_result"
    }
   ],
   "source": [
    "df_valid.isnull().sum()"
   ]
  },
  {
   "cell_type": "code",
   "execution_count": 18,
   "metadata": {},
   "outputs": [
    {
     "data": {
      "text/plain": [
       "userId                 0\n",
       "itemId                 0\n",
       "rating                 0\n",
       "timestamp              0\n",
       "gender                 0\n",
       "age                    0\n",
       "occupation             0\n",
       "zip                    0\n",
       "title                  0\n",
       "genre                  0\n",
       "random_dstype          0\n",
       "user_idx               0\n",
       "item_idx               0\n",
       "dstype_random_train    0\n",
       "dstype_random_valid    0\n",
       "gender_idx             0\n",
       "age_idx                0\n",
       "title_idx              0\n",
       "genre_idx              0\n",
       "zip_idx                0\n",
       "dtype: int64"
      ]
     },
     "execution_count": 18,
     "metadata": {},
     "output_type": "execute_result"
    }
   ],
   "source": [
    "df_train.isnull().sum()"
   ]
  },
  {
   "cell_type": "code",
   "execution_count": 19,
   "metadata": {},
   "outputs": [
    {
     "data": {
      "text/plain": [
       "((900188, 20), (100021, 20))"
      ]
     },
     "execution_count": 19,
     "metadata": {},
     "output_type": "execute_result"
    }
   ],
   "source": [
    "df_train.shape, df_valid.shape"
   ]
  },
  {
   "cell_type": "code",
   "execution_count": 20,
   "metadata": {},
   "outputs": [
    {
     "data": {
      "text/plain": [
       "userId                  int64\n",
       "itemId                  int64\n",
       "rating                  int64\n",
       "timestamp               int64\n",
       "gender                 object\n",
       "age                     int64\n",
       "occupation              int64\n",
       "zip                    object\n",
       "title                  object\n",
       "genre                  object\n",
       "random_dstype          object\n",
       "user_idx                int64\n",
       "item_idx                int64\n",
       "dstype_random_train     int64\n",
       "dstype_random_valid     int64\n",
       "gender_idx              int64\n",
       "age_idx                 int64\n",
       "title_idx               int64\n",
       "genre_idx               int64\n",
       "zip_idx                 int64\n",
       "dtype: object"
      ]
     },
     "execution_count": 20,
     "metadata": {},
     "output_type": "execute_result"
    }
   ],
   "source": [
    "df_train.dtypes"
   ]
  },
  {
   "cell_type": "code",
   "execution_count": 21,
   "metadata": {},
   "outputs": [
    {
     "data": {
      "text/html": [
       "<div>\n",
       "<style scoped>\n",
       "    .dataframe tbody tr th:only-of-type {\n",
       "        vertical-align: middle;\n",
       "    }\n",
       "\n",
       "    .dataframe tbody tr th {\n",
       "        vertical-align: top;\n",
       "    }\n",
       "\n",
       "    .dataframe thead th {\n",
       "        text-align: right;\n",
       "    }\n",
       "</style>\n",
       "<table border=\"1\" class=\"dataframe\">\n",
       "  <thead>\n",
       "    <tr style=\"text-align: right;\">\n",
       "      <th></th>\n",
       "      <th>userId</th>\n",
       "      <th>itemId</th>\n",
       "      <th>rating</th>\n",
       "      <th>timestamp</th>\n",
       "      <th>gender</th>\n",
       "      <th>age</th>\n",
       "      <th>occupation</th>\n",
       "      <th>zip</th>\n",
       "      <th>title</th>\n",
       "      <th>genre</th>\n",
       "      <th>random_dstype</th>\n",
       "      <th>user_idx</th>\n",
       "      <th>item_idx</th>\n",
       "      <th>dstype_random_train</th>\n",
       "      <th>dstype_random_valid</th>\n",
       "      <th>gender_idx</th>\n",
       "      <th>age_idx</th>\n",
       "      <th>title_idx</th>\n",
       "      <th>genre_idx</th>\n",
       "      <th>zip_idx</th>\n",
       "    </tr>\n",
       "  </thead>\n",
       "  <tbody>\n",
       "    <tr>\n",
       "      <th>648724</th>\n",
       "      <td>3908</td>\n",
       "      <td>2347</td>\n",
       "      <td>4</td>\n",
       "      <td>965941231</td>\n",
       "      <td>M</td>\n",
       "      <td>25</td>\n",
       "      <td>0</td>\n",
       "      <td>10021</td>\n",
       "      <td>Pope of Greenwich Village, The (1984)</td>\n",
       "      <td>Action</td>\n",
       "      <td>train</td>\n",
       "      <td>1</td>\n",
       "      <td>1</td>\n",
       "      <td>1</td>\n",
       "      <td>0</td>\n",
       "      <td>1</td>\n",
       "      <td>1</td>\n",
       "      <td>1</td>\n",
       "      <td>1</td>\n",
       "      <td>1</td>\n",
       "    </tr>\n",
       "    <tr>\n",
       "      <th>203881</th>\n",
       "      <td>1254</td>\n",
       "      <td>1541</td>\n",
       "      <td>2</td>\n",
       "      <td>974823280</td>\n",
       "      <td>F</td>\n",
       "      <td>18</td>\n",
       "      <td>1</td>\n",
       "      <td>02144</td>\n",
       "      <td>Addicted to Love (1997)</td>\n",
       "      <td>Comedy|Romance</td>\n",
       "      <td>train</td>\n",
       "      <td>2</td>\n",
       "      <td>2</td>\n",
       "      <td>1</td>\n",
       "      <td>0</td>\n",
       "      <td>2</td>\n",
       "      <td>2</td>\n",
       "      <td>2</td>\n",
       "      <td>2</td>\n",
       "      <td>2</td>\n",
       "    </tr>\n",
       "    <tr>\n",
       "      <th>243394</th>\n",
       "      <td>1467</td>\n",
       "      <td>2617</td>\n",
       "      <td>3</td>\n",
       "      <td>977173059</td>\n",
       "      <td>M</td>\n",
       "      <td>25</td>\n",
       "      <td>5</td>\n",
       "      <td>97007</td>\n",
       "      <td>Mummy, The (1999)</td>\n",
       "      <td>Action|Adventure|Horror|Thriller</td>\n",
       "      <td>train</td>\n",
       "      <td>3</td>\n",
       "      <td>3</td>\n",
       "      <td>1</td>\n",
       "      <td>0</td>\n",
       "      <td>1</td>\n",
       "      <td>1</td>\n",
       "      <td>3</td>\n",
       "      <td>3</td>\n",
       "      <td>3</td>\n",
       "    </tr>\n",
       "    <tr>\n",
       "      <th>788507</th>\n",
       "      <td>4717</td>\n",
       "      <td>3754</td>\n",
       "      <td>3</td>\n",
       "      <td>963502544</td>\n",
       "      <td>M</td>\n",
       "      <td>45</td>\n",
       "      <td>17</td>\n",
       "      <td>48310</td>\n",
       "      <td>Adventures of Rocky and Bullwinkle, The (2000)</td>\n",
       "      <td>Animation|Children's|Comedy</td>\n",
       "      <td>train</td>\n",
       "      <td>4</td>\n",
       "      <td>4</td>\n",
       "      <td>1</td>\n",
       "      <td>0</td>\n",
       "      <td>1</td>\n",
       "      <td>3</td>\n",
       "      <td>4</td>\n",
       "      <td>4</td>\n",
       "      <td>4</td>\n",
       "    </tr>\n",
       "    <tr>\n",
       "      <th>301066</th>\n",
       "      <td>1789</td>\n",
       "      <td>2997</td>\n",
       "      <td>5</td>\n",
       "      <td>974700402</td>\n",
       "      <td>M</td>\n",
       "      <td>1</td>\n",
       "      <td>10</td>\n",
       "      <td>19116</td>\n",
       "      <td>Being John Malkovich (1999)</td>\n",
       "      <td>Comedy</td>\n",
       "      <td>train</td>\n",
       "      <td>5</td>\n",
       "      <td>5</td>\n",
       "      <td>1</td>\n",
       "      <td>0</td>\n",
       "      <td>1</td>\n",
       "      <td>4</td>\n",
       "      <td>5</td>\n",
       "      <td>5</td>\n",
       "      <td>5</td>\n",
       "    </tr>\n",
       "  </tbody>\n",
       "</table>\n",
       "</div>"
      ],
      "text/plain": [
       "        userId  itemId  rating  timestamp gender  age  occupation    zip  \\\n",
       "648724    3908    2347       4  965941231      M   25           0  10021   \n",
       "203881    1254    1541       2  974823280      F   18           1  02144   \n",
       "243394    1467    2617       3  977173059      M   25           5  97007   \n",
       "788507    4717    3754       3  963502544      M   45          17  48310   \n",
       "301066    1789    2997       5  974700402      M    1          10  19116   \n",
       "\n",
       "                                                 title  \\\n",
       "648724           Pope of Greenwich Village, The (1984)   \n",
       "203881                         Addicted to Love (1997)   \n",
       "243394                               Mummy, The (1999)   \n",
       "788507  Adventures of Rocky and Bullwinkle, The (2000)   \n",
       "301066                     Being John Malkovich (1999)   \n",
       "\n",
       "                                   genre random_dstype  user_idx  item_idx  \\\n",
       "648724                            Action         train         1         1   \n",
       "203881                    Comedy|Romance         train         2         2   \n",
       "243394  Action|Adventure|Horror|Thriller         train         3         3   \n",
       "788507       Animation|Children's|Comedy         train         4         4   \n",
       "301066                            Comedy         train         5         5   \n",
       "\n",
       "        dstype_random_train  dstype_random_valid  gender_idx  age_idx  \\\n",
       "648724                    1                    0           1        1   \n",
       "203881                    1                    0           2        2   \n",
       "243394                    1                    0           1        1   \n",
       "788507                    1                    0           1        3   \n",
       "301066                    1                    0           1        4   \n",
       "\n",
       "        title_idx  genre_idx  zip_idx  \n",
       "648724          1          1        1  \n",
       "203881          2          2        2  \n",
       "243394          3          3        3  \n",
       "788507          4          4        4  \n",
       "301066          5          5        5  "
      ]
     },
     "execution_count": 21,
     "metadata": {},
     "output_type": "execute_result"
    }
   ],
   "source": [
    "df_train.head()"
   ]
  },
  {
   "cell_type": "code",
   "execution_count": 22,
   "metadata": {},
   "outputs": [],
   "source": [
    "df_train=pd.merge(df_train,df_train_item_autoenc,on='item_idx',how='left')"
   ]
  },
  {
   "cell_type": "code",
   "execution_count": 23,
   "metadata": {},
   "outputs": [
    {
     "data": {
      "text/plain": [
       "(900188, 45)"
      ]
     },
     "execution_count": 23,
     "metadata": {},
     "output_type": "execute_result"
    }
   ],
   "source": [
    "df_train.shape"
   ]
  },
  {
   "cell_type": "code",
   "execution_count": 24,
   "metadata": {},
   "outputs": [
    {
     "name": "stdout",
     "output_type": "stream",
     "text": [
      "(100021, 20)\n"
     ]
    },
    {
     "data": {
      "text/plain": [
       "(100021, 45)"
      ]
     },
     "execution_count": 24,
     "metadata": {},
     "output_type": "execute_result"
    }
   ],
   "source": [
    "print(df_valid.shape)\n",
    "df_valid=pd.merge(df_valid,df_valid_item_autoenc,on='item_idx',how='left')\n",
    "df_valid.shape"
   ]
  },
  {
   "cell_type": "code",
   "execution_count": 25,
   "metadata": {},
   "outputs": [
    {
     "data": {
      "text/plain": [
       "(100021, 45)"
      ]
     },
     "execution_count": 25,
     "metadata": {},
     "output_type": "execute_result"
    }
   ],
   "source": [
    "df_valid.shape"
   ]
  },
  {
   "cell_type": "code",
   "execution_count": 26,
   "metadata": {},
   "outputs": [
    {
     "name": "stdout",
     "output_type": "stream",
     "text": [
      "(100021, 45)\n"
     ]
    },
    {
     "data": {
      "text/plain": [
       "(100021, 55)"
      ]
     },
     "execution_count": 26,
     "metadata": {},
     "output_type": "execute_result"
    }
   ],
   "source": [
    "print(df_valid.shape)\n",
    "df_valid=pd.merge(df_valid,df_valid_user_autoenc,on='user_idx',how='left')\n",
    "df_valid.shape"
   ]
  },
  {
   "cell_type": "code",
   "execution_count": 27,
   "metadata": {},
   "outputs": [
    {
     "name": "stdout",
     "output_type": "stream",
     "text": [
      "(900188, 45)\n"
     ]
    },
    {
     "data": {
      "text/plain": [
       "(900188, 55)"
      ]
     },
     "execution_count": 27,
     "metadata": {},
     "output_type": "execute_result"
    }
   ],
   "source": [
    "print(df_train.shape)\n",
    "df_train=pd.merge(df_train,df_train_user_autoenc,on='user_idx',how='left')\n",
    "df_train.shape"
   ]
  },
  {
   "cell_type": "code",
   "execution_count": 28,
   "metadata": {},
   "outputs": [
    {
     "data": {
      "text/plain": [
       "Index(['userId', 'itemId', 'rating', 'timestamp', 'gender', 'age',\n",
       "       'occupation', 'zip', 'title', 'genre', 'random_dstype', 'user_idx',\n",
       "       'item_idx', 'dstype_random_train', 'dstype_random_valid', 'gender_idx',\n",
       "       'age_idx', 'title_idx', 'genre_idx', 'zip_idx', 'item_autoenc0',\n",
       "       'item_autoenc1', 'item_autoenc2', 'item_autoenc3', 'item_autoenc4',\n",
       "       'item_autoenc5', 'item_autoenc6', 'item_autoenc7', 'item_autoenc8',\n",
       "       'item_autoenc9', 'item_autoenc10', 'item_autoenc11', 'item_autoenc12',\n",
       "       'item_autoenc13', 'item_autoenc14', 'item_autoenc15', 'item_autoenc16',\n",
       "       'item_autoenc17', 'item_autoenc18', 'item_autoenc19', 'item_autoenc20',\n",
       "       'item_autoenc21', 'item_autoenc22', 'item_autoenc23', 'item_autoenc24',\n",
       "       'user_autoenc0', 'user_autoenc1', 'user_autoenc2', 'user_autoenc3',\n",
       "       'user_autoenc4', 'user_autoenc5', 'user_autoenc6', 'user_autoenc7',\n",
       "       'user_autoenc8', 'user_autoenc9'],\n",
       "      dtype='object')"
      ]
     },
     "execution_count": 28,
     "metadata": {},
     "output_type": "execute_result"
    }
   ],
   "source": [
    "df_train.columns"
   ]
  },
  {
   "cell_type": "code",
   "execution_count": 34,
   "metadata": {},
   "outputs": [],
   "source": [
    "autoenc_cols=df_train.columns[df_train.columns.str.contains('autoenc')]"
   ]
  },
  {
   "cell_type": "code",
   "execution_count": 35,
   "metadata": {},
   "outputs": [],
   "source": [
    "user_autoenc_cols=df_train.columns[df_train.columns.str.contains('user_autoenc')]\n",
    "item_autoenc_cols=df_train.columns[df_train.columns.str.contains('item_autoenc')]"
   ]
  },
  {
   "cell_type": "code",
   "execution_count": 36,
   "metadata": {},
   "outputs": [
    {
     "data": {
      "text/plain": [
       "(Index(['item_autoenc0', 'item_autoenc1', 'item_autoenc2', 'item_autoenc3',\n",
       "        'item_autoenc4', 'item_autoenc5', 'item_autoenc6', 'item_autoenc7',\n",
       "        'item_autoenc8', 'item_autoenc9', 'item_autoenc10', 'item_autoenc11',\n",
       "        'item_autoenc12', 'item_autoenc13', 'item_autoenc14', 'item_autoenc15',\n",
       "        'item_autoenc16', 'item_autoenc17', 'item_autoenc18', 'item_autoenc19',\n",
       "        'item_autoenc20', 'item_autoenc21', 'item_autoenc22', 'item_autoenc23',\n",
       "        'item_autoenc24', 'user_autoenc0', 'user_autoenc1', 'user_autoenc2',\n",
       "        'user_autoenc3', 'user_autoenc4', 'user_autoenc5', 'user_autoenc6',\n",
       "        'user_autoenc7', 'user_autoenc8', 'user_autoenc9'],\n",
       "       dtype='object'),\n",
       " Index(['item_autoenc0', 'item_autoenc1', 'item_autoenc2', 'item_autoenc3',\n",
       "        'item_autoenc4', 'item_autoenc5', 'item_autoenc6', 'item_autoenc7',\n",
       "        'item_autoenc8', 'item_autoenc9', 'item_autoenc10', 'item_autoenc11',\n",
       "        'item_autoenc12', 'item_autoenc13', 'item_autoenc14', 'item_autoenc15',\n",
       "        'item_autoenc16', 'item_autoenc17', 'item_autoenc18', 'item_autoenc19',\n",
       "        'item_autoenc20', 'item_autoenc21', 'item_autoenc22', 'item_autoenc23',\n",
       "        'item_autoenc24'],\n",
       "       dtype='object'),\n",
       " Index(['user_autoenc0', 'user_autoenc1', 'user_autoenc2', 'user_autoenc3',\n",
       "        'user_autoenc4', 'user_autoenc5', 'user_autoenc6', 'user_autoenc7',\n",
       "        'user_autoenc8', 'user_autoenc9'],\n",
       "       dtype='object'))"
      ]
     },
     "execution_count": 36,
     "metadata": {},
     "output_type": "execute_result"
    }
   ],
   "source": [
    "autoenc_cols, item_autoenc_cols,user_autoenc_cols"
   ]
  },
  {
   "cell_type": "code",
   "execution_count": 37,
   "metadata": {},
   "outputs": [],
   "source": [
    "autoenc_cols=autoenc_cols.tolist()\n",
    "item_autoenc_cols=item_autoenc_cols.tolist()\n",
    "user_autoenc_cols=user_autoenc_cols.tolist()"
   ]
  },
  {
   "cell_type": "code",
   "execution_count": 38,
   "metadata": {},
   "outputs": [
    {
     "data": {
      "text/html": [
       "<div>\n",
       "<style scoped>\n",
       "    .dataframe tbody tr th:only-of-type {\n",
       "        vertical-align: middle;\n",
       "    }\n",
       "\n",
       "    .dataframe tbody tr th {\n",
       "        vertical-align: top;\n",
       "    }\n",
       "\n",
       "    .dataframe thead th {\n",
       "        text-align: right;\n",
       "    }\n",
       "</style>\n",
       "<table border=\"1\" class=\"dataframe\">\n",
       "  <thead>\n",
       "    <tr style=\"text-align: right;\">\n",
       "      <th></th>\n",
       "      <th>userId</th>\n",
       "      <th>itemId</th>\n",
       "      <th>rating</th>\n",
       "      <th>timestamp</th>\n",
       "      <th>gender</th>\n",
       "      <th>age</th>\n",
       "      <th>occupation</th>\n",
       "      <th>zip</th>\n",
       "      <th>title</th>\n",
       "      <th>genre</th>\n",
       "      <th>...</th>\n",
       "      <th>user_autoenc0</th>\n",
       "      <th>user_autoenc1</th>\n",
       "      <th>user_autoenc2</th>\n",
       "      <th>user_autoenc3</th>\n",
       "      <th>user_autoenc4</th>\n",
       "      <th>user_autoenc5</th>\n",
       "      <th>user_autoenc6</th>\n",
       "      <th>user_autoenc7</th>\n",
       "      <th>user_autoenc8</th>\n",
       "      <th>user_autoenc9</th>\n",
       "    </tr>\n",
       "  </thead>\n",
       "  <tbody>\n",
       "    <tr>\n",
       "      <th>0</th>\n",
       "      <td>3908</td>\n",
       "      <td>2347</td>\n",
       "      <td>4</td>\n",
       "      <td>965941231</td>\n",
       "      <td>M</td>\n",
       "      <td>25</td>\n",
       "      <td>0</td>\n",
       "      <td>10021</td>\n",
       "      <td>Pope of Greenwich Village, The (1984)</td>\n",
       "      <td>Action</td>\n",
       "      <td>...</td>\n",
       "      <td>-0.809926</td>\n",
       "      <td>-0.483721</td>\n",
       "      <td>2.453740</td>\n",
       "      <td>-1.551907</td>\n",
       "      <td>3.453933</td>\n",
       "      <td>-0.869701</td>\n",
       "      <td>2.121841</td>\n",
       "      <td>3.970576</td>\n",
       "      <td>-1.076461</td>\n",
       "      <td>2.741880</td>\n",
       "    </tr>\n",
       "    <tr>\n",
       "      <th>1</th>\n",
       "      <td>1254</td>\n",
       "      <td>1541</td>\n",
       "      <td>2</td>\n",
       "      <td>974823280</td>\n",
       "      <td>F</td>\n",
       "      <td>18</td>\n",
       "      <td>1</td>\n",
       "      <td>02144</td>\n",
       "      <td>Addicted to Love (1997)</td>\n",
       "      <td>Comedy|Romance</td>\n",
       "      <td>...</td>\n",
       "      <td>1.254941</td>\n",
       "      <td>-2.131284</td>\n",
       "      <td>1.810311</td>\n",
       "      <td>0.597943</td>\n",
       "      <td>0.346018</td>\n",
       "      <td>2.327138</td>\n",
       "      <td>0.337492</td>\n",
       "      <td>0.072589</td>\n",
       "      <td>-2.992533</td>\n",
       "      <td>-0.936141</td>\n",
       "    </tr>\n",
       "    <tr>\n",
       "      <th>2</th>\n",
       "      <td>1467</td>\n",
       "      <td>2617</td>\n",
       "      <td>3</td>\n",
       "      <td>977173059</td>\n",
       "      <td>M</td>\n",
       "      <td>25</td>\n",
       "      <td>5</td>\n",
       "      <td>97007</td>\n",
       "      <td>Mummy, The (1999)</td>\n",
       "      <td>Action|Adventure|Horror|Thriller</td>\n",
       "      <td>...</td>\n",
       "      <td>-3.206347</td>\n",
       "      <td>-0.449586</td>\n",
       "      <td>2.392539</td>\n",
       "      <td>-2.755247</td>\n",
       "      <td>0.173469</td>\n",
       "      <td>-1.687047</td>\n",
       "      <td>4.412164</td>\n",
       "      <td>4.598782</td>\n",
       "      <td>-0.101633</td>\n",
       "      <td>1.518000</td>\n",
       "    </tr>\n",
       "    <tr>\n",
       "      <th>3</th>\n",
       "      <td>4717</td>\n",
       "      <td>3754</td>\n",
       "      <td>3</td>\n",
       "      <td>963502544</td>\n",
       "      <td>M</td>\n",
       "      <td>45</td>\n",
       "      <td>17</td>\n",
       "      <td>48310</td>\n",
       "      <td>Adventures of Rocky and Bullwinkle, The (2000)</td>\n",
       "      <td>Animation|Children's|Comedy</td>\n",
       "      <td>...</td>\n",
       "      <td>-0.097608</td>\n",
       "      <td>1.857577</td>\n",
       "      <td>-2.348423</td>\n",
       "      <td>2.663222</td>\n",
       "      <td>-1.915509</td>\n",
       "      <td>-1.128552</td>\n",
       "      <td>-1.527104</td>\n",
       "      <td>-2.628924</td>\n",
       "      <td>-0.967917</td>\n",
       "      <td>-1.195479</td>\n",
       "    </tr>\n",
       "    <tr>\n",
       "      <th>4</th>\n",
       "      <td>1789</td>\n",
       "      <td>2997</td>\n",
       "      <td>5</td>\n",
       "      <td>974700402</td>\n",
       "      <td>M</td>\n",
       "      <td>1</td>\n",
       "      <td>10</td>\n",
       "      <td>19116</td>\n",
       "      <td>Being John Malkovich (1999)</td>\n",
       "      <td>Comedy</td>\n",
       "      <td>...</td>\n",
       "      <td>-0.673590</td>\n",
       "      <td>0.183299</td>\n",
       "      <td>0.776998</td>\n",
       "      <td>0.922859</td>\n",
       "      <td>-0.916169</td>\n",
       "      <td>0.800552</td>\n",
       "      <td>-0.068556</td>\n",
       "      <td>0.458235</td>\n",
       "      <td>-0.755471</td>\n",
       "      <td>0.044356</td>\n",
       "    </tr>\n",
       "  </tbody>\n",
       "</table>\n",
       "<p>5 rows × 55 columns</p>\n",
       "</div>"
      ],
      "text/plain": [
       "   userId  itemId  rating  timestamp gender  age  occupation    zip  \\\n",
       "0    3908    2347       4  965941231      M   25           0  10021   \n",
       "1    1254    1541       2  974823280      F   18           1  02144   \n",
       "2    1467    2617       3  977173059      M   25           5  97007   \n",
       "3    4717    3754       3  963502544      M   45          17  48310   \n",
       "4    1789    2997       5  974700402      M    1          10  19116   \n",
       "\n",
       "                                            title  \\\n",
       "0           Pope of Greenwich Village, The (1984)   \n",
       "1                         Addicted to Love (1997)   \n",
       "2                               Mummy, The (1999)   \n",
       "3  Adventures of Rocky and Bullwinkle, The (2000)   \n",
       "4                     Being John Malkovich (1999)   \n",
       "\n",
       "                              genre  ... user_autoenc0  user_autoenc1  \\\n",
       "0                            Action  ...     -0.809926      -0.483721   \n",
       "1                    Comedy|Romance  ...      1.254941      -2.131284   \n",
       "2  Action|Adventure|Horror|Thriller  ...     -3.206347      -0.449586   \n",
       "3       Animation|Children's|Comedy  ...     -0.097608       1.857577   \n",
       "4                            Comedy  ...     -0.673590       0.183299   \n",
       "\n",
       "   user_autoenc2  user_autoenc3  user_autoenc4  user_autoenc5  user_autoenc6  \\\n",
       "0       2.453740      -1.551907       3.453933      -0.869701       2.121841   \n",
       "1       1.810311       0.597943       0.346018       2.327138       0.337492   \n",
       "2       2.392539      -2.755247       0.173469      -1.687047       4.412164   \n",
       "3      -2.348423       2.663222      -1.915509      -1.128552      -1.527104   \n",
       "4       0.776998       0.922859      -0.916169       0.800552      -0.068556   \n",
       "\n",
       "   user_autoenc7  user_autoenc8  user_autoenc9  \n",
       "0       3.970576      -1.076461       2.741880  \n",
       "1       0.072589      -2.992533      -0.936141  \n",
       "2       4.598782      -0.101633       1.518000  \n",
       "3      -2.628924      -0.967917      -1.195479  \n",
       "4       0.458235      -0.755471       0.044356  \n",
       "\n",
       "[5 rows x 55 columns]"
      ]
     },
     "execution_count": 38,
     "metadata": {},
     "output_type": "execute_result"
    }
   ],
   "source": [
    "df_train.head()"
   ]
  },
  {
   "cell_type": "code",
   "execution_count": 39,
   "metadata": {},
   "outputs": [
    {
     "data": {
      "text/html": [
       "<div>\n",
       "<style scoped>\n",
       "    .dataframe tbody tr th:only-of-type {\n",
       "        vertical-align: middle;\n",
       "    }\n",
       "\n",
       "    .dataframe tbody tr th {\n",
       "        vertical-align: top;\n",
       "    }\n",
       "\n",
       "    .dataframe thead th {\n",
       "        text-align: right;\n",
       "    }\n",
       "</style>\n",
       "<table border=\"1\" class=\"dataframe\">\n",
       "  <thead>\n",
       "    <tr style=\"text-align: right;\">\n",
       "      <th></th>\n",
       "      <th>user_idx</th>\n",
       "      <th>item_idx</th>\n",
       "      <th>item_autoenc0</th>\n",
       "      <th>item_autoenc1</th>\n",
       "      <th>item_autoenc2</th>\n",
       "      <th>item_autoenc3</th>\n",
       "      <th>item_autoenc4</th>\n",
       "      <th>item_autoenc5</th>\n",
       "      <th>item_autoenc6</th>\n",
       "      <th>item_autoenc7</th>\n",
       "      <th>...</th>\n",
       "      <th>user_autoenc0</th>\n",
       "      <th>user_autoenc1</th>\n",
       "      <th>user_autoenc2</th>\n",
       "      <th>user_autoenc3</th>\n",
       "      <th>user_autoenc4</th>\n",
       "      <th>user_autoenc5</th>\n",
       "      <th>user_autoenc6</th>\n",
       "      <th>user_autoenc7</th>\n",
       "      <th>user_autoenc8</th>\n",
       "      <th>user_autoenc9</th>\n",
       "    </tr>\n",
       "  </thead>\n",
       "  <tbody>\n",
       "    <tr>\n",
       "      <th>0</th>\n",
       "      <td>1</td>\n",
       "      <td>1</td>\n",
       "      <td>0.109613</td>\n",
       "      <td>2.493398</td>\n",
       "      <td>1.538485</td>\n",
       "      <td>-3.214294</td>\n",
       "      <td>-5.050033</td>\n",
       "      <td>-4.308205</td>\n",
       "      <td>-0.751286</td>\n",
       "      <td>-1.576796</td>\n",
       "      <td>...</td>\n",
       "      <td>-0.809926</td>\n",
       "      <td>-0.483721</td>\n",
       "      <td>2.453740</td>\n",
       "      <td>-1.551907</td>\n",
       "      <td>3.453933</td>\n",
       "      <td>-0.869701</td>\n",
       "      <td>2.121841</td>\n",
       "      <td>3.970576</td>\n",
       "      <td>-1.076461</td>\n",
       "      <td>2.741880</td>\n",
       "    </tr>\n",
       "    <tr>\n",
       "      <th>1</th>\n",
       "      <td>2</td>\n",
       "      <td>2</td>\n",
       "      <td>2.546608</td>\n",
       "      <td>-0.385986</td>\n",
       "      <td>-2.767612</td>\n",
       "      <td>-0.812071</td>\n",
       "      <td>-1.934735</td>\n",
       "      <td>-4.304457</td>\n",
       "      <td>-1.387528</td>\n",
       "      <td>-1.374283</td>\n",
       "      <td>...</td>\n",
       "      <td>1.254941</td>\n",
       "      <td>-2.131284</td>\n",
       "      <td>1.810311</td>\n",
       "      <td>0.597943</td>\n",
       "      <td>0.346018</td>\n",
       "      <td>2.327138</td>\n",
       "      <td>0.337492</td>\n",
       "      <td>0.072589</td>\n",
       "      <td>-2.992533</td>\n",
       "      <td>-0.936141</td>\n",
       "    </tr>\n",
       "    <tr>\n",
       "      <th>2</th>\n",
       "      <td>3</td>\n",
       "      <td>3</td>\n",
       "      <td>-1.314622</td>\n",
       "      <td>5.501726</td>\n",
       "      <td>1.575552</td>\n",
       "      <td>-5.851224</td>\n",
       "      <td>-1.000455</td>\n",
       "      <td>-4.277728</td>\n",
       "      <td>2.578251</td>\n",
       "      <td>-2.228659</td>\n",
       "      <td>...</td>\n",
       "      <td>-3.206347</td>\n",
       "      <td>-0.449586</td>\n",
       "      <td>2.392539</td>\n",
       "      <td>-2.755247</td>\n",
       "      <td>0.173469</td>\n",
       "      <td>-1.687047</td>\n",
       "      <td>4.412164</td>\n",
       "      <td>4.598782</td>\n",
       "      <td>-0.101633</td>\n",
       "      <td>1.518000</td>\n",
       "    </tr>\n",
       "    <tr>\n",
       "      <th>3</th>\n",
       "      <td>4</td>\n",
       "      <td>4</td>\n",
       "      <td>-1.303826</td>\n",
       "      <td>-2.574216</td>\n",
       "      <td>-4.260112</td>\n",
       "      <td>4.948697</td>\n",
       "      <td>1.262775</td>\n",
       "      <td>1.786267</td>\n",
       "      <td>0.612944</td>\n",
       "      <td>-1.522320</td>\n",
       "      <td>...</td>\n",
       "      <td>-0.097608</td>\n",
       "      <td>1.857577</td>\n",
       "      <td>-2.348423</td>\n",
       "      <td>2.663222</td>\n",
       "      <td>-1.915509</td>\n",
       "      <td>-1.128552</td>\n",
       "      <td>-1.527104</td>\n",
       "      <td>-2.628924</td>\n",
       "      <td>-0.967917</td>\n",
       "      <td>-1.195479</td>\n",
       "    </tr>\n",
       "    <tr>\n",
       "      <th>4</th>\n",
       "      <td>5</td>\n",
       "      <td>5</td>\n",
       "      <td>2.273207</td>\n",
       "      <td>-0.567770</td>\n",
       "      <td>-3.191041</td>\n",
       "      <td>1.269062</td>\n",
       "      <td>-1.824770</td>\n",
       "      <td>-1.585689</td>\n",
       "      <td>-2.006722</td>\n",
       "      <td>-1.141187</td>\n",
       "      <td>...</td>\n",
       "      <td>-0.673590</td>\n",
       "      <td>0.183299</td>\n",
       "      <td>0.776998</td>\n",
       "      <td>0.922859</td>\n",
       "      <td>-0.916169</td>\n",
       "      <td>0.800552</td>\n",
       "      <td>-0.068556</td>\n",
       "      <td>0.458235</td>\n",
       "      <td>-0.755471</td>\n",
       "      <td>0.044356</td>\n",
       "    </tr>\n",
       "  </tbody>\n",
       "</table>\n",
       "<p>5 rows × 37 columns</p>\n",
       "</div>"
      ],
      "text/plain": [
       "   user_idx  item_idx  item_autoenc0  item_autoenc1  item_autoenc2  \\\n",
       "0         1         1       0.109613       2.493398       1.538485   \n",
       "1         2         2       2.546608      -0.385986      -2.767612   \n",
       "2         3         3      -1.314622       5.501726       1.575552   \n",
       "3         4         4      -1.303826      -2.574216      -4.260112   \n",
       "4         5         5       2.273207      -0.567770      -3.191041   \n",
       "\n",
       "   item_autoenc3  item_autoenc4  item_autoenc5  item_autoenc6  item_autoenc7  \\\n",
       "0      -3.214294      -5.050033      -4.308205      -0.751286      -1.576796   \n",
       "1      -0.812071      -1.934735      -4.304457      -1.387528      -1.374283   \n",
       "2      -5.851224      -1.000455      -4.277728       2.578251      -2.228659   \n",
       "3       4.948697       1.262775       1.786267       0.612944      -1.522320   \n",
       "4       1.269062      -1.824770      -1.585689      -2.006722      -1.141187   \n",
       "\n",
       "   ...  user_autoenc0  user_autoenc1  user_autoenc2  user_autoenc3  \\\n",
       "0  ...      -0.809926      -0.483721       2.453740      -1.551907   \n",
       "1  ...       1.254941      -2.131284       1.810311       0.597943   \n",
       "2  ...      -3.206347      -0.449586       2.392539      -2.755247   \n",
       "3  ...      -0.097608       1.857577      -2.348423       2.663222   \n",
       "4  ...      -0.673590       0.183299       0.776998       0.922859   \n",
       "\n",
       "   user_autoenc4  user_autoenc5  user_autoenc6  user_autoenc7  user_autoenc8  \\\n",
       "0       3.453933      -0.869701       2.121841       3.970576      -1.076461   \n",
       "1       0.346018       2.327138       0.337492       0.072589      -2.992533   \n",
       "2       0.173469      -1.687047       4.412164       4.598782      -0.101633   \n",
       "3      -1.915509      -1.128552      -1.527104      -2.628924      -0.967917   \n",
       "4      -0.916169       0.800552      -0.068556       0.458235      -0.755471   \n",
       "\n",
       "   user_autoenc9  \n",
       "0       2.741880  \n",
       "1      -0.936141  \n",
       "2       1.518000  \n",
       "3      -1.195479  \n",
       "4       0.044356  \n",
       "\n",
       "[5 rows x 37 columns]"
      ]
     },
     "execution_count": 39,
     "metadata": {},
     "output_type": "execute_result"
    }
   ],
   "source": [
    "df_train[['user_idx','item_idx']+autoenc_cols].head()"
   ]
  },
  {
   "cell_type": "code",
   "execution_count": 40,
   "metadata": {},
   "outputs": [
    {
     "data": {
      "text/plain": [
       "(count    100021.000000\n",
       " mean          3.584587\n",
       " std           1.114938\n",
       " min           1.000000\n",
       " 25%           3.000000\n",
       " 50%           4.000000\n",
       " 75%           4.000000\n",
       " max           5.000000\n",
       " Name: rating, dtype: float64, count    900188.000000\n",
       " mean          3.581229\n",
       " std           1.117342\n",
       " min           1.000000\n",
       " 25%           3.000000\n",
       " 50%           4.000000\n",
       " 75%           4.000000\n",
       " max           5.000000\n",
       " Name: rating, dtype: float64)"
      ]
     },
     "execution_count": 40,
     "metadata": {},
     "output_type": "execute_result"
    }
   ],
   "source": [
    "df_valid['rating'].describe(),df_train['rating'].describe()"
   ]
  },
  {
   "cell_type": "code",
   "execution_count": 41,
   "metadata": {},
   "outputs": [
    {
     "data": {
      "text/plain": [
       "Index(['userId', 'itemId', 'rating', 'timestamp', 'gender', 'age',\n",
       "       'occupation', 'zip', 'title', 'genre', 'random_dstype', 'user_idx',\n",
       "       'item_idx', 'dstype_random_train', 'dstype_random_valid', 'gender_idx',\n",
       "       'age_idx', 'title_idx', 'genre_idx', 'zip_idx', 'item_autoenc0',\n",
       "       'item_autoenc1', 'item_autoenc2', 'item_autoenc3', 'item_autoenc4',\n",
       "       'item_autoenc5', 'item_autoenc6', 'item_autoenc7', 'item_autoenc8',\n",
       "       'item_autoenc9', 'item_autoenc10', 'item_autoenc11', 'item_autoenc12',\n",
       "       'item_autoenc13', 'item_autoenc14', 'item_autoenc15', 'item_autoenc16',\n",
       "       'item_autoenc17', 'item_autoenc18', 'item_autoenc19', 'item_autoenc20',\n",
       "       'item_autoenc21', 'item_autoenc22', 'item_autoenc23', 'item_autoenc24',\n",
       "       'user_autoenc0', 'user_autoenc1', 'user_autoenc2', 'user_autoenc3',\n",
       "       'user_autoenc4', 'user_autoenc5', 'user_autoenc6', 'user_autoenc7',\n",
       "       'user_autoenc8', 'user_autoenc9'],\n",
       "      dtype='object')"
      ]
     },
     "execution_count": 41,
     "metadata": {},
     "output_type": "execute_result"
    }
   ],
   "source": [
    "df_train.columns"
   ]
  },
  {
   "cell_type": "code",
   "execution_count": 42,
   "metadata": {},
   "outputs": [],
   "source": [
    "emb_cols=['gender_idx','age_idx','title_idx','genre_idx','zip_idx']"
   ]
  },
  {
   "cell_type": "code",
   "execution_count": 43,
   "metadata": {},
   "outputs": [
    {
     "data": {
      "text/plain": [
       "[('gender_idx', 2),\n",
       " ('age_idx', 7),\n",
       " ('title_idx', 3692),\n",
       " ('genre_idx', 301),\n",
       " ('zip_idx', 3439)]"
      ]
     },
     "execution_count": 43,
     "metadata": {},
     "output_type": "execute_result"
    }
   ],
   "source": [
    "[(col, df_train[col].nunique()) for col in emb_cols]"
   ]
  },
  {
   "cell_type": "code",
   "execution_count": 44,
   "metadata": {},
   "outputs": [
    {
     "data": {
      "text/plain": [
       "[('gender_idx', 0),\n",
       " ('age_idx', 0),\n",
       " ('title_idx', 36),\n",
       " ('genre_idx', 3),\n",
       " ('zip_idx', 34)]"
      ]
     },
     "execution_count": 44,
     "metadata": {},
     "output_type": "execute_result"
    }
   ],
   "source": [
    "[(col, min(50,df_train[col].nunique()//100)) for col in emb_cols]"
   ]
  },
  {
   "cell_type": "markdown",
   "metadata": {},
   "source": [
    "### Dataset and DataLoader"
   ]
  },
  {
   "cell_type": "code",
   "execution_count": 45,
   "metadata": {},
   "outputs": [],
   "source": [
    "class cfdata (torch.utils.data.dataset.Dataset):\n",
    "    def __init__(self,dfX,dfY,denseCols):\n",
    "        self.dfX,self.dfY=dfX,dfY\n",
    "        self.denseCols=denseCols\n",
    "        \n",
    "    def __len__ (self):\n",
    "        return self.dfX.shape[0]\n",
    "    \n",
    "    def __getitem__ (self, idx):\n",
    "        return torch.FloatTensor(self.dfX.iloc[idx].values),torch.FloatTensor([self.dfY.values[idx]])"
   ]
  },
  {
   "cell_type": "code",
   "execution_count": 47,
   "metadata": {},
   "outputs": [],
   "source": [
    "dstrain=cfdata(df_train[['user_idx','item_idx']+autoenc_cols],df_train['rating'],autoenc_cols)\n",
    "dsvalid=cfdata(df_valid[['user_idx','item_idx']+autoenc_cols],df_valid['rating'],autoenc_cols)"
   ]
  },
  {
   "cell_type": "code",
   "execution_count": 48,
   "metadata": {},
   "outputs": [
    {
     "data": {
      "text/plain": [
       "(900188, 55)"
      ]
     },
     "execution_count": 48,
     "metadata": {},
     "output_type": "execute_result"
    }
   ],
   "source": [
    "df_train.shape"
   ]
  },
  {
   "cell_type": "code",
   "execution_count": 49,
   "metadata": {},
   "outputs": [],
   "source": [
    "bs=16"
   ]
  },
  {
   "cell_type": "code",
   "execution_count": 50,
   "metadata": {},
   "outputs": [],
   "source": [
    "dltrain=DataLoader(dstrain,bs,True)"
   ]
  },
  {
   "cell_type": "code",
   "execution_count": 51,
   "metadata": {},
   "outputs": [],
   "source": [
    "dlvalid=DataLoader(dsvalid,bs,True)"
   ]
  },
  {
   "cell_type": "code",
   "execution_count": 52,
   "metadata": {},
   "outputs": [
    {
     "data": {
      "text/plain": [
       "(61.0, 388.96)"
      ]
     },
     "execution_count": 52,
     "metadata": {},
     "output_type": "execute_result"
    }
   ],
   "source": [
    "610/10, 9724/25"
   ]
  },
  {
   "cell_type": "code",
   "execution_count": 53,
   "metadata": {},
   "outputs": [
    {
     "data": {
      "text/plain": [
       "(6040, 3706)"
      ]
     },
     "execution_count": 53,
     "metadata": {},
     "output_type": "execute_result"
    }
   ],
   "source": [
    "len(user_to_idx),len(movie_to_idx)"
   ]
  },
  {
   "cell_type": "markdown",
   "metadata": {},
   "source": [
    "## Model Architecture"
   ]
  },
  {
   "cell_type": "code",
   "execution_count": 71,
   "metadata": {},
   "outputs": [],
   "source": [
    "n_users=len(user_to_idx)\n",
    "n_movies=len(movie_to_idx)\n",
    "n_emb_user=75\n",
    "n_emb_movie=50\n",
    "min_rating=min(df_train['rating'])\n",
    "max_rating=max(df_train['rating'])\n",
    "dropout_e=0.1\n",
    "hidden=[25,5,10,10]\n",
    "dropouts=[0.2,0.3,0.3,0.2]"
   ]
  },
  {
   "cell_type": "code",
   "execution_count": 72,
   "metadata": {},
   "outputs": [],
   "source": [
    "def hidden_layer(x,y,dropout,activation=nn.Sigmoid()):\n",
    "    return nn.Sequential(\n",
    "        nn.Linear(x, y),\n",
    "        activation,\n",
    "        nn.Dropout(p=dropout)\n",
    "        )   "
   ]
  },
  {
   "cell_type": "code",
   "execution_count": 119,
   "metadata": {},
   "outputs": [],
   "source": [
    "class cf(nn.Module):    \n",
    "    def __init__(self,n_users,n_emb_user,n_emb_movie,n_movies,min_rating,max_rating,user_autoenc_cols,\\\n",
    "                 item_autoenc_cols,dropout_e=0.01,hidden=[15,5],dropouts=[0.2,0.2],error_type=\"mse\"):\n",
    "        super().__init__()\n",
    "        self.n_users,self.n_emb_user,self.n_emb_movie,self.n_movies,self.min_rating,self.max_rating=\\\n",
    "                    n_users,n_emb_user,n_emb_movie,n_movies,min_rating,max_rating\n",
    "        self.dropout_e,self.hidden,self.dropouts=dropout_e,hidden,dropouts\n",
    "        self.user_autoenc_cols,self.item_autoenc_cols,self.len_dense_cols=user_autoenc_cols,item_autoenc_cols,\\\n",
    "                            len(user_autoenc_cols)+len(item_autoenc_cols)\n",
    "        self.create_architecture()\n",
    "\n",
    "        if error_type!=\"mse\":\n",
    "            self.criterion=nn.L1Loss()\n",
    "        else:\n",
    "            self.criterion=nn.MSELoss()\n",
    "        \n",
    "    def create_architecture(self):\n",
    "        self.emb_user=nn.Embedding(self.n_users+1,self.n_emb_user)\n",
    "        self.emb_movie=nn.Embedding(self.n_movies+1,self.n_emb_movie)\n",
    "        self.emb_dropout=nn.Dropout(self.dropout_e)\n",
    "\n",
    "        \n",
    "        self.lin1= nn.Sequential(nn.Linear(self.n_emb_user+self.n_emb_movie,self.hidden[0]),\n",
    "                    nn.ReLU(),\n",
    "                    nn.Dropout(p=dropouts[0]) )\n",
    "        self.lin2= nn.Sequential (nn.Linear(len(self.user_autoenc_cols),self.hidden[1]),\n",
    "                    nn.ReLU(),\n",
    "                    nn.Dropout(p=dropouts[1]) )\n",
    "        self.lin3=nn.Sequential(nn.Linear(len(self.item_autoenc_cols),self.hidden[2]),\n",
    "                    nn.ReLU(),\n",
    "                    nn.Dropout(p=dropouts[2]))\n",
    "        self.lin4= nn.Sequential (nn.Linear(self.hidden[0]+self.hidden[1]+self.hidden[2],self.hidden[3]),\n",
    "                    nn.ReLU(),\n",
    "                    nn.Dropout(p=dropouts[3]))\n",
    "        self.lin5=nn.Linear(self.hidden[2],1)\n",
    "        \n",
    "        \n",
    "        self.bn1=nn.BatchNorm1d(self.hidden[0])\n",
    "        self.bn2=nn.BatchNorm1d(self.hidden[1])\n",
    "        self.bn3=nn.BatchNorm1d(self.hidden[2])\n",
    "        self.bn4=nn.BatchNorm1d(self.hidden[3])\n",
    "        \n",
    "        \n",
    "        self.sigmoid=nn.Sigmoid()\n",
    "        \n",
    "        \n",
    "    def init_parameters(self):\n",
    "        nn.init.kaiming_normal_(self.emb_user.weight.data)\n",
    "        nn.init.kaiming_normal_(self.emb_movie.weight.dat)\n",
    "        #nn.init.kaiming_normal_(lin)\n",
    "       \n",
    "    def forward (self,Xb,Yb):\n",
    "        users=Xb[:,0].long()\n",
    "        items=Xb[:,1].long()\n",
    "        users=self.emb_dropout(self.emb_user(users))\n",
    "        items=self.emb_dropout(self.emb_movie(items))\n",
    "        embed=torch.cat([users,items],1)\n",
    "        out1=self.bn1(self.lin1(embed))\n",
    "        \n",
    "        denses=Xb[:,2:]\n",
    "        denses_user=denses[:,:len(self.user_autoenc_cols)]\n",
    "        denses_item=denses[:,len(self.user_autoenc_cols):]\n",
    "        out2_user=self.bn2(self.lin2(denses_user))\n",
    "        out2_item=self.bn3(self.lin3(denses_item))\n",
    "        out2=torch.cat([out2_user,out2_item],1)\n",
    "        \n",
    "        \n",
    "        out3=torch.cat([out1,out2],1)\n",
    "        out4=self.bn4(self.lin4(out3))\n",
    "        out5=self.lin5(out4)\n",
    "        \n",
    "        out=self.sigmoid(out5)\n",
    "        \n",
    "        preds=out*(self.max_rating-self.min_rating)+self.min_rating\n",
    "        #preds=preds.view(-1)\n",
    "        loss=self.criterion(preds,Yb)\n",
    "        return preds,loss"
   ]
  },
  {
   "cell_type": "code",
   "execution_count": 120,
   "metadata": {},
   "outputs": [],
   "source": [
    "cfobj=cf(n_users,n_emb_user,n_emb_movie,n_movies,min_rating,max_rating,user_autoenc_cols,item_autoenc_cols,dropout_e,hidden,dropouts,error_type=\"mse\")"
   ]
  },
  {
   "cell_type": "code",
   "execution_count": 121,
   "metadata": {},
   "outputs": [
    {
     "data": {
      "text/plain": [
       "cf(\n",
       "  (emb_user): Embedding(6041, 75)\n",
       "  (emb_movie): Embedding(3707, 50)\n",
       "  (emb_dropout): Dropout(p=0.1)\n",
       "  (lin1): Sequential(\n",
       "    (0): Linear(in_features=125, out_features=25, bias=True)\n",
       "    (1): ReLU()\n",
       "    (2): Dropout(p=0.2)\n",
       "  )\n",
       "  (lin2): Sequential(\n",
       "    (0): Linear(in_features=10, out_features=5, bias=True)\n",
       "    (1): ReLU()\n",
       "    (2): Dropout(p=0.3)\n",
       "  )\n",
       "  (lin3): Sequential(\n",
       "    (0): Linear(in_features=25, out_features=10, bias=True)\n",
       "    (1): ReLU()\n",
       "    (2): Dropout(p=0.3)\n",
       "  )\n",
       "  (lin4): Sequential(\n",
       "    (0): Linear(in_features=40, out_features=10, bias=True)\n",
       "    (1): ReLU()\n",
       "    (2): Dropout(p=0.2)\n",
       "  )\n",
       "  (lin5): Linear(in_features=10, out_features=1, bias=True)\n",
       "  (bn1): BatchNorm1d(25, eps=1e-05, momentum=0.1, affine=True, track_running_stats=True)\n",
       "  (bn2): BatchNorm1d(5, eps=1e-05, momentum=0.1, affine=True, track_running_stats=True)\n",
       "  (bn3): BatchNorm1d(10, eps=1e-05, momentum=0.1, affine=True, track_running_stats=True)\n",
       "  (bn4): BatchNorm1d(10, eps=1e-05, momentum=0.1, affine=True, track_running_stats=True)\n",
       "  (sigmoid): Sigmoid()\n",
       "  (criterion): MSELoss()\n",
       ")"
      ]
     },
     "execution_count": 121,
     "metadata": {},
     "output_type": "execute_result"
    }
   ],
   "source": [
    "cfobj"
   ]
  },
  {
   "cell_type": "code",
   "execution_count": 122,
   "metadata": {},
   "outputs": [],
   "source": [
    "for Xb, Yb in dltrain:\n",
    "    break"
   ]
  },
  {
   "cell_type": "code",
   "execution_count": 123,
   "metadata": {},
   "outputs": [
    {
     "data": {
      "text/plain": [
       "(torch.Size([16, 37]), torch.Size([16, 1]))"
      ]
     },
     "execution_count": 123,
     "metadata": {},
     "output_type": "execute_result"
    }
   ],
   "source": [
    "Xb.shape, Yb.shape"
   ]
  },
  {
   "cell_type": "code",
   "execution_count": 124,
   "metadata": {},
   "outputs": [
    {
     "data": {
      "text/plain": [
       "torch.float32"
      ]
     },
     "execution_count": 124,
     "metadata": {},
     "output_type": "execute_result"
    }
   ],
   "source": [
    "Xb.dtype"
   ]
  },
  {
   "cell_type": "code",
   "execution_count": 125,
   "metadata": {},
   "outputs": [
    {
     "data": {
      "text/plain": [
       "(tensor([[2.2859],\n",
       "         [3.2548],\n",
       "         [3.3387],\n",
       "         [3.4303],\n",
       "         [3.2673],\n",
       "         [2.9757],\n",
       "         [3.2782],\n",
       "         [3.1040],\n",
       "         [2.9636],\n",
       "         [2.8963],\n",
       "         [2.9070],\n",
       "         [3.4832],\n",
       "         [3.2616],\n",
       "         [3.1893],\n",
       "         [3.4173],\n",
       "         [3.2821]], grad_fn=<AddBackward0>),\n",
       " tensor(1.6427, grad_fn=<MseLossBackward>))"
      ]
     },
     "execution_count": 125,
     "metadata": {},
     "output_type": "execute_result"
    }
   ],
   "source": [
    "cfobj.forward(Xb,Yb)"
   ]
  },
  {
   "cell_type": "markdown",
   "metadata": {},
   "source": [
    "## Learner"
   ]
  },
  {
   "cell_type": "code",
   "execution_count": 126,
   "metadata": {},
   "outputs": [],
   "source": [
    "class Learner():\n",
    "    def __init__(self,model,optimizer,metric_fn,device,bptt=12,print_every=5,clip_val=None,\\\n",
    "                 cycle_mult=0,lr_decay=0.7,wd_mult=6,start_lr=2e-2, end_lr=5e-4,error_type=\"mse\"):\n",
    "        self.model,self.optimizer,self.metric_fn,self.device,self.print_every,self.bptt,self.losses,self.clip_val=\\\n",
    "            model,optimizer,metric_fn,device,print_every,bptt,[],clip_val\n",
    "        self.n_epochs=1\n",
    "        self.cycle_mult,self.lr_decay=cycle_mult,lr_decay\n",
    "        self.wd_mult=wd_mult\n",
    "        for param_group in self.optimizer.param_groups:\n",
    "            self.start_lr=param_group['lr']\n",
    "            self.start_wd=param_group['weight_decay']\n",
    "        self.wd=self.start_wd\n",
    "        self.lr=self.start_lr\n",
    "        self.end_lr=end_lr\n",
    "        self.n_epoch=0\n",
    "        self.lrs=[1e-2,5e-3,1e-4,5e-4]\n",
    "        self.preds,self.preds_valid,self.trainY,self.actual=[],[],[],[]\n",
    "        self.ratio=self.end_lr/self.start_lr\n",
    "        self.num_steps=self.cycle_mult\n",
    "        self.reset_cycle=self.cycle_mult\n",
    "        self.error_type=error_type\n",
    "        \n",
    "    def fit (self,Xb,Yb,mode_train=True):\n",
    "        if mode_train:\n",
    "            self.model.train()\n",
    "        else:\n",
    "            self.model.eval()\n",
    "        \n",
    "        #import pdb\n",
    "        #pdb.set_trace()\n",
    "        preds,loss=self.model(Xb,Yb)\n",
    "\n",
    "     \n",
    "        if mode_train:\n",
    "            if 1==0:\n",
    "                lr =self.lrs[torch.randint(0,4,(1,))]\n",
    "                for param_group in self.optimizer.param_groups:\n",
    "                    param_group['lr']=lr\n",
    "            \n",
    "            self.optimizer.zero_grad()\n",
    "            loss.backward()\n",
    "            self.optimizer.step()\n",
    "        myloss=loss.item()\n",
    "    \n",
    "        \n",
    "        with torch.no_grad():\n",
    "            if self.error_type == \"mse\":\n",
    "                acc=nn.L1Loss() (preds,Yb)\n",
    "                myrmse=np.sqrt(myloss)\n",
    "            else:\n",
    "                acc=nn.MSELoss() (preds,Yb)\n",
    "                myrmse=np.sqrt(acc.item())\n",
    "            acc=acc.item()\n",
    "                 \n",
    "   \n",
    "        del preds\n",
    "        del loss\n",
    "        \n",
    "        if self.clip_val is not None:\n",
    "            torch.nn.utils.clip_grad_norm_(self.model.parameters(), self.clip_val)\n",
    "        \n",
    "        return myloss, acc, myrmse\n",
    "    \n",
    "    def lr_find (self,start_lr,end_lr,iterator,n_batch):\n",
    "        losses,lrs=[],[]\n",
    "        ratio=end_lr/start_lr\n",
    "        num_steps=n_batch\n",
    "        lr=start_lr\n",
    "        for i in range(num_steps):            \n",
    "            lr=lr*(end_lr/start_lr)**(1/num_steps)\n",
    "            lrs.append(lr)\n",
    "        self.lrs=lrs\n",
    "        self.run_epoch(iterator,mode_train=True,lrs=lrs)\n",
    "    \n",
    "    def run_epoch(self,iterator,mode_train,lrs=None):\n",
    "        epoch_loss,epoch_acc,i,k=0,0,0,0\n",
    "        epoch_rmse=0\n",
    "\n",
    "\n",
    "        for Xb,Yb in iterator:\n",
    "            Xb=Xb.to(self.device)\n",
    "            Yb=Yb.to(self.device)\n",
    "            \n",
    "            if lrs is not None:\n",
    "                lr=lrs[k]\n",
    "                for param_group in self.optimizer.param_groups:\n",
    "                    param_group['lr']=lr \n",
    "            \n",
    "\n",
    "            loss,acc,myrmse=self.fit(Xb,Yb,mode_train)\n",
    "            \n",
    "            if lrs is not None:\n",
    "                self.losses.append(loss)\n",
    "\n",
    "\n",
    "            \n",
    "\n",
    "            epoch_loss+=loss\n",
    "            epoch_acc+=acc\n",
    "            epoch_rmse+=myrmse\n",
    "            \n",
    "            k=k+1\n",
    "            if k%self.print_every == 0:\n",
    "                if k:\n",
    "                    print (f'Batch:{k} {epoch_loss/(k)}  ')  \n",
    "                    torch.cuda.empty_cache()\n",
    "\n",
    "        epoch_loss=epoch_loss/len(iterator)\n",
    "        epoch_acc=epoch_acc/len(iterator)\n",
    "        epoch_rmse=epoch_rmse/len(iterator)\n",
    "            \n",
    "        return epoch_loss,epoch_acc,epoch_rmse\n",
    "    \n",
    "    def plot_lrs(self, n_roll=1,ylim=None,xlim=None):\n",
    "        import seaborn as sns\n",
    "        ax=sns.lineplot(x=self.lrs,y=pd.Series(self.losses).rolling(n_roll).mean())\n",
    "        ax.set_xscale('log')\n",
    "        ax.set_ylabel('Loss')\n",
    "        ax.set_xlabel('Learning Rate')\n",
    "        if ylim is not None:\n",
    "            plt.ylim(ylim)\n",
    "        if xlim is not None:\n",
    "            plt.xlim(xlim)\n",
    "\n",
    "     \n",
    "    def run_epochs(self,dltrain,dlvalid,n_epochs=1):              \n",
    "        for epoch in range(n_epochs):                \n",
    "            loss,acc,rmse=self.run_epoch(dltrain,True)\n",
    "\n",
    "            lossv,accv,rmsev=self.run_epoch(dlvalid,mode_train=False)\n",
    "           \n",
    "            if self.error_type==\"mse\":\n",
    "                loss_mse=loss\n",
    "                loss_rmse=rmse\n",
    "                loss_mae=acc\n",
    "                lossv_mse=lossv\n",
    "                lossv_rmse=rmsev\n",
    "                lossv_mae=accv\n",
    "                \n",
    "            else:\n",
    "                loss_mse=acc\n",
    "                loss_rmse=rmse\n",
    "                loss_mae=loss\n",
    "                lossv_mse=accv\n",
    "                lossv_rmse=rmsev\n",
    "                lossv_mae=lossv\n",
    "            \n",
    "            print (f'Epoch:{epoch} Learning rate {self.lr} Weight Decay {self.wd} Train Loss:{loss} \\\n",
    "                Valid Loss:{lossv} Train RMSE:{loss_rmse} Valid RMSE:{lossv_rmse} Train MSE:{loss_mse} Valid MSE:{lossv_mse} \\\n",
    "                Train MAE:{loss_mae} Valid MAE:{lossv_mae}')\n",
    "\n",
    "              \n",
    "         \n",
    "     \n",
    "            if self.cycle_mult:\n",
    "                if self.n_epoch==self.reset_cycle:\n",
    "                    self.lr=self.start_lr\n",
    "                    #self.wd=self.start_wd\n",
    "                    self.reset_cycle*=self.cycle_mult\n",
    "                    #reset_cycle=self.n_epoch+reset_cycle\n",
    "                    self.n_epoch=0\n",
    "                    self.ratio=self.end_lr/self.start_lr\n",
    "                    self.num_steps=self.reset_cycle\n",
    "                else:\n",
    "                    #self.lr*=(self.lr_decay**self.n_epoch)  \n",
    "                    #if self.n_epoch>1:\n",
    "                    #    self.wd*=self.wd_mult\n",
    "                    self.lr=self.lr*(self.end_lr/self.start_lr)**(1/self.num_steps)\n",
    "                    self.n_epoch+=1\n",
    "        \n",
    "\n",
    "                \n",
    "            for param_group in self.optimizer.param_groups:\n",
    "                param_group['lr']=self.lr\n",
    "                #param_group['weight_decay']=self.wd\n",
    "          \n",
    "     "
   ]
  },
  {
   "cell_type": "code",
   "execution_count": 127,
   "metadata": {},
   "outputs": [],
   "source": [
    "device='cuda:1'"
   ]
  },
  {
   "cell_type": "code",
   "execution_count": 128,
   "metadata": {},
   "outputs": [],
   "source": [
    "del cfobj"
   ]
  },
  {
   "cell_type": "code",
   "execution_count": 129,
   "metadata": {},
   "outputs": [],
   "source": [
    "cfobj=cf(n_users,n_emb_user,n_emb_movie,n_movies,min_rating,max_rating,user_autoenc_cols,item_autoenc_cols,dropout_e,hidden,dropouts,error_type=\"mse\")"
   ]
  },
  {
   "cell_type": "code",
   "execution_count": 130,
   "metadata": {},
   "outputs": [],
   "source": [
    "cfobj=cfobj.to(device)"
   ]
  },
  {
   "cell_type": "code",
   "execution_count": 131,
   "metadata": {},
   "outputs": [
    {
     "data": {
      "text/plain": [
       "cf(\n",
       "  (emb_user): Embedding(6041, 75)\n",
       "  (emb_movie): Embedding(3707, 50)\n",
       "  (emb_dropout): Dropout(p=0.1)\n",
       "  (lin1): Sequential(\n",
       "    (0): Linear(in_features=125, out_features=25, bias=True)\n",
       "    (1): ReLU()\n",
       "    (2): Dropout(p=0.2)\n",
       "  )\n",
       "  (lin2): Sequential(\n",
       "    (0): Linear(in_features=10, out_features=5, bias=True)\n",
       "    (1): ReLU()\n",
       "    (2): Dropout(p=0.3)\n",
       "  )\n",
       "  (lin3): Sequential(\n",
       "    (0): Linear(in_features=25, out_features=10, bias=True)\n",
       "    (1): ReLU()\n",
       "    (2): Dropout(p=0.3)\n",
       "  )\n",
       "  (lin4): Sequential(\n",
       "    (0): Linear(in_features=40, out_features=10, bias=True)\n",
       "    (1): ReLU()\n",
       "    (2): Dropout(p=0.2)\n",
       "  )\n",
       "  (lin5): Linear(in_features=10, out_features=1, bias=True)\n",
       "  (bn1): BatchNorm1d(25, eps=1e-05, momentum=0.1, affine=True, track_running_stats=True)\n",
       "  (bn2): BatchNorm1d(5, eps=1e-05, momentum=0.1, affine=True, track_running_stats=True)\n",
       "  (bn3): BatchNorm1d(10, eps=1e-05, momentum=0.1, affine=True, track_running_stats=True)\n",
       "  (bn4): BatchNorm1d(10, eps=1e-05, momentum=0.1, affine=True, track_running_stats=True)\n",
       "  (sigmoid): Sigmoid()\n",
       "  (criterion): MSELoss()\n",
       ")"
      ]
     },
     "execution_count": 131,
     "metadata": {},
     "output_type": "execute_result"
    }
   ],
   "source": [
    "cfobj"
   ]
  },
  {
   "cell_type": "code",
   "execution_count": 87,
   "metadata": {},
   "outputs": [
    {
     "data": {
      "text/plain": [
       "56262"
      ]
     },
     "execution_count": 87,
     "metadata": {},
     "output_type": "execute_result"
    }
   ],
   "source": [
    "len(dltrain)"
   ]
  },
  {
   "cell_type": "code",
   "execution_count": 88,
   "metadata": {},
   "outputs": [
    {
     "data": {
      "text/plain": [
       "16"
      ]
     },
     "execution_count": 88,
     "metadata": {},
     "output_type": "execute_result"
    }
   ],
   "source": [
    "dltrain.batch_size"
   ]
  },
  {
   "cell_type": "code",
   "execution_count": 89,
   "metadata": {},
   "outputs": [],
   "source": [
    "wd=1e-7\n",
    "optimizer=torch.optim.Adam(cfobj.parameters(),lr=7e-3,betas=(0.9,0.999), weight_decay=wd)\n"
   ]
  },
  {
   "cell_type": "code",
   "execution_count": 90,
   "metadata": {},
   "outputs": [],
   "source": [
    "learner=Learner(cfobj,optimizer,None,device,0,2000,0.25,cycle_mult=0,error_type=\"mse\")"
   ]
  },
  {
   "cell_type": "code",
   "execution_count": 91,
   "metadata": {},
   "outputs": [
    {
     "name": "stdout",
     "output_type": "stream",
     "text": [
      "Batch:2000 1.279362025976181  \n",
      "Batch:4000 1.2668409233912825  \n",
      "Batch:6000 1.257741649662455  \n",
      "Batch:8000 1.2508862131647767  \n",
      "Batch:10000 1.2411745556533336  \n",
      "Batch:12000 1.2297276412025093  \n",
      "Batch:14000 1.2186912848555616  \n",
      "Batch:16000 1.2032094630068169  \n",
      "Batch:18000 1.1876814336536659  \n",
      "Batch:20000 1.1709506349474192  \n",
      "Batch:22000 1.1551133965037086  \n",
      "Batch:24000 1.1400106287902843  \n",
      "Batch:26000 1.1247494039747576  \n",
      "Batch:28000 1.1125843824589892  \n",
      "Batch:30000 1.1011615962728858  \n",
      "Batch:32000 1.0911196932638996  \n",
      "Batch:34000 1.0822455503248116  \n",
      "Batch:36000 1.0754119542021718  \n",
      "Batch:38000 1.069994180043277  \n",
      "Batch:40000 1.0676155858539045  \n",
      "Batch:42000 1.0681257039262426  \n",
      "Batch:44000 1.0695105188204483  \n",
      "Batch:46000 1.072373674476924  \n",
      "Batch:48000 1.0769018260563414  \n",
      "Batch:50000 1.0854168586272002  \n",
      "Batch:52000 1.0903687957700055  \n",
      "Batch:54000 1.0964491709423838  \n",
      "Batch:56000 1.1028177651462279  \n"
     ]
    }
   ],
   "source": [
    "learner.lr_find(1e-4,1e-1,dltrain,len(dltrain))"
   ]
  },
  {
   "cell_type": "code",
   "execution_count": 92,
   "metadata": {},
   "outputs": [
    {
     "data": {
      "image/png": "[encoded data removed]",
      "text/plain": [
       "<Figure size 432x288 with 1 Axes>"
      ]
     },
     "metadata": {
      "needs_background": "light"
     },
     "output_type": "display_data"
    }
   ],
   "source": [
    "learner.plot_lrs(50)"
   ]
  },
  {
   "cell_type": "code",
   "execution_count": 93,
   "metadata": {},
   "outputs": [
    {
     "data": {
      "image/png": "[encoded data removed]",
      "text/plain": [
       "<Figure size 432x288 with 1 Axes>"
      ]
     },
     "metadata": {
      "needs_background": "light"
     },
     "output_type": "display_data"
    }
   ],
   "source": [
    "learner.plot_lrs(10)"
   ]
  },
  {
   "cell_type": "code",
   "execution_count": 94,
   "metadata": {},
   "outputs": [
    {
     "data": {
      "image/png": "[encoded data removed]",
      "text/plain": [
       "<Figure size 432x288 with 1 Axes>"
      ]
     },
     "metadata": {
      "needs_background": "light"
     },
     "output_type": "display_data"
    }
   ],
   "source": [
    "learner.plot_lrs(100)"
   ]
  },
  {
   "cell_type": "code",
   "execution_count": 102,
   "metadata": {},
   "outputs": [
    {
     "ename": "NameError",
     "evalue": "name 'cfobj' is not defined",
     "output_type": "error",
     "traceback": [
      "\u001b[0;31m---------------------------------------------------------------------------\u001b[0m",
      "\u001b[0;31mNameError\u001b[0m                                 Traceback (most recent call last)",
      "\u001b[0;32m<ipython-input-102-7a0459057bb3>\u001b[0m in \u001b[0;36m<module>\u001b[0;34m\u001b[0m\n\u001b[0;32m----> 1\u001b[0;31m \u001b[0;32mdel\u001b[0m \u001b[0mcfobj\u001b[0m\u001b[0;34m\u001b[0m\u001b[0;34m\u001b[0m\u001b[0m\n\u001b[0m\u001b[1;32m      2\u001b[0m \u001b[0mtorch\u001b[0m\u001b[0;34m.\u001b[0m\u001b[0mcuda\u001b[0m\u001b[0;34m.\u001b[0m\u001b[0mempty_cache\u001b[0m\u001b[0;34m(\u001b[0m\u001b[0;34m)\u001b[0m\u001b[0;34m\u001b[0m\u001b[0;34m\u001b[0m\u001b[0m\n",
      "\u001b[0;31mNameError\u001b[0m: name 'cfobj' is not defined"
     ]
    }
   ],
   "source": [
    "del cfobj\n",
    "torch.cuda.empty_cache()"
   ]
  },
  {
   "cell_type": "code",
   "execution_count": 97,
   "metadata": {},
   "outputs": [],
   "source": [
    "cfobj=cf(n_users,n_emb_user,n_emb_movie,n_movies,min_rating,max_rating,user_autoenc_cols,item_autoenc_cols,dropout_e,hidden,dropouts,error_type=\"mse\")\n",
    "cfobj=cfobj.to(device)"
   ]
  },
  {
   "cell_type": "code",
   "execution_count": 132,
   "metadata": {},
   "outputs": [
    {
     "data": {
      "text/plain": [
       "1e-07"
      ]
     },
     "execution_count": 132,
     "metadata": {},
     "output_type": "execute_result"
    }
   ],
   "source": [
    "wd"
   ]
  },
  {
   "cell_type": "code",
   "execution_count": 133,
   "metadata": {},
   "outputs": [],
   "source": [
    "optimizer=torch.optim.Adam(cfobj.parameters(),lr=3e-3,betas=(0.9,0.999), weight_decay=wd)\n",
    "learner=Learner(cfobj,optimizer,None,device,0,12000,0.25,cycle_mult=0)"
   ]
  },
  {
   "cell_type": "code",
   "execution_count": 134,
   "metadata": {},
   "outputs": [
    {
     "name": "stdout",
     "output_type": "stream",
     "text": [
      "Batch:12000 1.041535643506795  \n",
      "Batch:24000 0.9942184691708535  \n",
      "Batch:36000 0.9686477350940307  \n",
      "Batch:48000 0.955178620668749  \n",
      "Epoch:0 Learning rate 0.003 Weight Decay 1e-07 Train Loss:0.9489582044929812                 Valid Loss:0.8365619436588069 Train RMSE:0.9582070432681895 Valid RMSE:0.8988682037468022 Train MSE:0.9489582044929812 Valid MSE:0.8365619436588069                 Train MAE:0.7788321695492688 Valid MAE:0.7250936683970465\n",
      "Batch:12000 0.9048486150329311  \n",
      "Batch:24000 0.9024957619911681  \n",
      "Batch:36000 0.898447570125262  \n",
      "Batch:48000 0.8980624209002902  \n",
      "Epoch:1 Learning rate 0.003 Weight Decay 1e-07 Train Loss:0.8974406362628183                 Valid Loss:0.8315365962119283 Train RMSE:0.9316339928284978 Valid RMSE:0.8966361541250053 Train MSE:0.8974406362628183 Valid MSE:0.8315365962119283                 Train MAE:0.7570095464186224 Valid MAE:0.7264546314236527\n",
      "Batch:12000 0.8840848305374384  \n",
      "Batch:24000 0.8863504032591979  \n",
      "Batch:36000 0.8873803575022353  \n",
      "Batch:48000 0.8883462856855864  \n",
      "Epoch:2 Learning rate 0.003 Weight Decay 1e-07 Train Loss:0.8890665647246708                 Valid Loss:0.828288563596882 Train RMSE:0.9271980806330953 Valid RMSE:0.8942515730752517 Train MSE:0.8890665647246708 Valid MSE:0.828288563596882                 Train MAE:0.7522722740430946 Valid MAE:0.7234682727054533\n",
      "Batch:12000 0.8788630605029563  \n",
      "Batch:24000 0.8812802010861536  \n",
      "Batch:36000 0.8821902550198137  \n",
      "Batch:48000 0.8831797769206265  \n",
      "Epoch:3 Learning rate 0.003 Weight Decay 1e-07 Train Loss:0.8843539338121242                 Valid Loss:0.8195858682176278 Train RMSE:0.9245833901834455 Valid RMSE:0.8892607481848184 Train MSE:0.8843539338121242 Valid MSE:0.8195858682176278                 Train MAE:0.7500495988214687 Valid MAE:0.7195764120503717\n"
     ]
    },
    {
     "ename": "KeyboardInterrupt",
     "evalue": "",
     "output_type": "error",
     "traceback": [
      "\u001b[0;31m---------------------------------------------------------------------------\u001b[0m",
      "\u001b[0;31mKeyboardInterrupt\u001b[0m                         Traceback (most recent call last)",
      "\u001b[0;32m<ipython-input-134-bbbeff5c2814>\u001b[0m in \u001b[0;36m<module>\u001b[0;34m\u001b[0m\n\u001b[0;32m----> 1\u001b[0;31m \u001b[0mlearner\u001b[0m\u001b[0;34m.\u001b[0m\u001b[0mrun_epochs\u001b[0m\u001b[0;34m(\u001b[0m\u001b[0mdltrain\u001b[0m\u001b[0;34m,\u001b[0m\u001b[0mdlvalid\u001b[0m\u001b[0;34m,\u001b[0m\u001b[0;36m5\u001b[0m\u001b[0;34m)\u001b[0m\u001b[0;34m\u001b[0m\u001b[0;34m\u001b[0m\u001b[0m\n\u001b[0m",
      "\u001b[0;32m<ipython-input-126-2e7071a957ba>\u001b[0m in \u001b[0;36mrun_epochs\u001b[0;34m(self, dltrain, dlvalid, n_epochs)\u001b[0m\n\u001b[1;32m    126\u001b[0m     \u001b[0;32mdef\u001b[0m \u001b[0mrun_epochs\u001b[0m\u001b[0;34m(\u001b[0m\u001b[0mself\u001b[0m\u001b[0;34m,\u001b[0m\u001b[0mdltrain\u001b[0m\u001b[0;34m,\u001b[0m\u001b[0mdlvalid\u001b[0m\u001b[0;34m,\u001b[0m\u001b[0mn_epochs\u001b[0m\u001b[0;34m=\u001b[0m\u001b[0;36m1\u001b[0m\u001b[0;34m)\u001b[0m\u001b[0;34m:\u001b[0m\u001b[0;34m\u001b[0m\u001b[0;34m\u001b[0m\u001b[0m\n\u001b[1;32m    127\u001b[0m         \u001b[0;32mfor\u001b[0m \u001b[0mepoch\u001b[0m \u001b[0;32min\u001b[0m \u001b[0mrange\u001b[0m\u001b[0;34m(\u001b[0m\u001b[0mn_epochs\u001b[0m\u001b[0;34m)\u001b[0m\u001b[0;34m:\u001b[0m\u001b[0;34m\u001b[0m\u001b[0;34m\u001b[0m\u001b[0m\n\u001b[0;32m--> 128\u001b[0;31m             \u001b[0mloss\u001b[0m\u001b[0;34m,\u001b[0m\u001b[0macc\u001b[0m\u001b[0;34m,\u001b[0m\u001b[0mrmse\u001b[0m\u001b[0;34m=\u001b[0m\u001b[0mself\u001b[0m\u001b[0;34m.\u001b[0m\u001b[0mrun_epoch\u001b[0m\u001b[0;34m(\u001b[0m\u001b[0mdltrain\u001b[0m\u001b[0;34m,\u001b[0m\u001b[0;32mTrue\u001b[0m\u001b[0;34m)\u001b[0m\u001b[0;34m\u001b[0m\u001b[0;34m\u001b[0m\u001b[0m\n\u001b[0m\u001b[1;32m    129\u001b[0m \u001b[0;34m\u001b[0m\u001b[0m\n\u001b[1;32m    130\u001b[0m             \u001b[0mlossv\u001b[0m\u001b[0;34m,\u001b[0m\u001b[0maccv\u001b[0m\u001b[0;34m,\u001b[0m\u001b[0mrmsev\u001b[0m\u001b[0;34m=\u001b[0m\u001b[0mself\u001b[0m\u001b[0;34m.\u001b[0m\u001b[0mrun_epoch\u001b[0m\u001b[0;34m(\u001b[0m\u001b[0mdlvalid\u001b[0m\u001b[0;34m,\u001b[0m\u001b[0mmode_train\u001b[0m\u001b[0;34m=\u001b[0m\u001b[0;32mFalse\u001b[0m\u001b[0;34m)\u001b[0m\u001b[0;34m\u001b[0m\u001b[0;34m\u001b[0m\u001b[0m\n",
      "\u001b[0;32m<ipython-input-126-2e7071a957ba>\u001b[0m in \u001b[0;36mrun_epoch\u001b[0;34m(self, iterator, mode_train, lrs)\u001b[0m\n\u001b[1;32m     88\u001b[0m \u001b[0;34m\u001b[0m\u001b[0m\n\u001b[1;32m     89\u001b[0m \u001b[0;34m\u001b[0m\u001b[0m\n\u001b[0;32m---> 90\u001b[0;31m             \u001b[0mloss\u001b[0m\u001b[0;34m,\u001b[0m\u001b[0macc\u001b[0m\u001b[0;34m,\u001b[0m\u001b[0mmyrmse\u001b[0m\u001b[0;34m=\u001b[0m\u001b[0mself\u001b[0m\u001b[0;34m.\u001b[0m\u001b[0mfit\u001b[0m\u001b[0;34m(\u001b[0m\u001b[0mXb\u001b[0m\u001b[0;34m,\u001b[0m\u001b[0mYb\u001b[0m\u001b[0;34m,\u001b[0m\u001b[0mmode_train\u001b[0m\u001b[0;34m)\u001b[0m\u001b[0;34m\u001b[0m\u001b[0;34m\u001b[0m\u001b[0m\n\u001b[0m\u001b[1;32m     91\u001b[0m \u001b[0;34m\u001b[0m\u001b[0m\n\u001b[1;32m     92\u001b[0m             \u001b[0;32mif\u001b[0m \u001b[0mlrs\u001b[0m \u001b[0;32mis\u001b[0m \u001b[0;32mnot\u001b[0m \u001b[0;32mNone\u001b[0m\u001b[0;34m:\u001b[0m\u001b[0;34m\u001b[0m\u001b[0;34m\u001b[0m\u001b[0m\n",
      "\u001b[0;32m<ipython-input-126-2e7071a957ba>\u001b[0m in \u001b[0;36mfit\u001b[0;34m(self, Xb, Yb, mode_train)\u001b[0m\n\u001b[1;32m     29\u001b[0m         \u001b[0;31m#import pdb\u001b[0m\u001b[0;34m\u001b[0m\u001b[0;34m\u001b[0m\u001b[0;34m\u001b[0m\u001b[0m\n\u001b[1;32m     30\u001b[0m         \u001b[0;31m#pdb.set_trace()\u001b[0m\u001b[0;34m\u001b[0m\u001b[0;34m\u001b[0m\u001b[0;34m\u001b[0m\u001b[0m\n\u001b[0;32m---> 31\u001b[0;31m         \u001b[0mpreds\u001b[0m\u001b[0;34m,\u001b[0m\u001b[0mloss\u001b[0m\u001b[0;34m=\u001b[0m\u001b[0mself\u001b[0m\u001b[0;34m.\u001b[0m\u001b[0mmodel\u001b[0m\u001b[0;34m(\u001b[0m\u001b[0mXb\u001b[0m\u001b[0;34m,\u001b[0m\u001b[0mYb\u001b[0m\u001b[0;34m)\u001b[0m\u001b[0;34m\u001b[0m\u001b[0;34m\u001b[0m\u001b[0m\n\u001b[0m\u001b[1;32m     32\u001b[0m \u001b[0;34m\u001b[0m\u001b[0m\n\u001b[1;32m     33\u001b[0m \u001b[0;34m\u001b[0m\u001b[0m\n",
      "\u001b[0;32m~/anaconda3/lib/python3.7/site-packages/torch/nn/modules/module.py\u001b[0m in \u001b[0;36m__call__\u001b[0;34m(self, *input, **kwargs)\u001b[0m\n\u001b[1;32m    491\u001b[0m             \u001b[0mresult\u001b[0m \u001b[0;34m=\u001b[0m \u001b[0mself\u001b[0m\u001b[0;34m.\u001b[0m\u001b[0m_slow_forward\u001b[0m\u001b[0;34m(\u001b[0m\u001b[0;34m*\u001b[0m\u001b[0minput\u001b[0m\u001b[0;34m,\u001b[0m \u001b[0;34m**\u001b[0m\u001b[0mkwargs\u001b[0m\u001b[0;34m)\u001b[0m\u001b[0;34m\u001b[0m\u001b[0;34m\u001b[0m\u001b[0m\n\u001b[1;32m    492\u001b[0m         \u001b[0;32melse\u001b[0m\u001b[0;34m:\u001b[0m\u001b[0;34m\u001b[0m\u001b[0;34m\u001b[0m\u001b[0m\n\u001b[0;32m--> 493\u001b[0;31m             \u001b[0mresult\u001b[0m \u001b[0;34m=\u001b[0m \u001b[0mself\u001b[0m\u001b[0;34m.\u001b[0m\u001b[0mforward\u001b[0m\u001b[0;34m(\u001b[0m\u001b[0;34m*\u001b[0m\u001b[0minput\u001b[0m\u001b[0;34m,\u001b[0m \u001b[0;34m**\u001b[0m\u001b[0mkwargs\u001b[0m\u001b[0;34m)\u001b[0m\u001b[0;34m\u001b[0m\u001b[0;34m\u001b[0m\u001b[0m\n\u001b[0m\u001b[1;32m    494\u001b[0m         \u001b[0;32mfor\u001b[0m \u001b[0mhook\u001b[0m \u001b[0;32min\u001b[0m \u001b[0mself\u001b[0m\u001b[0;34m.\u001b[0m\u001b[0m_forward_hooks\u001b[0m\u001b[0;34m.\u001b[0m\u001b[0mvalues\u001b[0m\u001b[0;34m(\u001b[0m\u001b[0;34m)\u001b[0m\u001b[0;34m:\u001b[0m\u001b[0;34m\u001b[0m\u001b[0;34m\u001b[0m\u001b[0m\n\u001b[1;32m    495\u001b[0m             \u001b[0mhook_result\u001b[0m \u001b[0;34m=\u001b[0m \u001b[0mhook\u001b[0m\u001b[0;34m(\u001b[0m\u001b[0mself\u001b[0m\u001b[0;34m,\u001b[0m \u001b[0minput\u001b[0m\u001b[0;34m,\u001b[0m \u001b[0mresult\u001b[0m\u001b[0;34m)\u001b[0m\u001b[0;34m\u001b[0m\u001b[0;34m\u001b[0m\u001b[0m\n",
      "\u001b[0;32m<ipython-input-119-a3dc85a9295d>\u001b[0m in \u001b[0;36mforward\u001b[0;34m(self, Xb, Yb)\u001b[0m\n\u001b[1;32m     62\u001b[0m         \u001b[0mdenses_item\u001b[0m\u001b[0;34m=\u001b[0m\u001b[0mdenses\u001b[0m\u001b[0;34m[\u001b[0m\u001b[0;34m:\u001b[0m\u001b[0;34m,\u001b[0m\u001b[0mlen\u001b[0m\u001b[0;34m(\u001b[0m\u001b[0mself\u001b[0m\u001b[0;34m.\u001b[0m\u001b[0muser_autoenc_cols\u001b[0m\u001b[0;34m)\u001b[0m\u001b[0;34m:\u001b[0m\u001b[0;34m]\u001b[0m\u001b[0;34m\u001b[0m\u001b[0;34m\u001b[0m\u001b[0m\n\u001b[1;32m     63\u001b[0m         \u001b[0mout2_user\u001b[0m\u001b[0;34m=\u001b[0m\u001b[0mself\u001b[0m\u001b[0;34m.\u001b[0m\u001b[0mbn2\u001b[0m\u001b[0;34m(\u001b[0m\u001b[0mself\u001b[0m\u001b[0;34m.\u001b[0m\u001b[0mlin2\u001b[0m\u001b[0;34m(\u001b[0m\u001b[0mdenses_user\u001b[0m\u001b[0;34m)\u001b[0m\u001b[0;34m)\u001b[0m\u001b[0;34m\u001b[0m\u001b[0;34m\u001b[0m\u001b[0m\n\u001b[0;32m---> 64\u001b[0;31m         \u001b[0mout2_item\u001b[0m\u001b[0;34m=\u001b[0m\u001b[0mself\u001b[0m\u001b[0;34m.\u001b[0m\u001b[0mbn3\u001b[0m\u001b[0;34m(\u001b[0m\u001b[0mself\u001b[0m\u001b[0;34m.\u001b[0m\u001b[0mlin3\u001b[0m\u001b[0;34m(\u001b[0m\u001b[0mdenses_item\u001b[0m\u001b[0;34m)\u001b[0m\u001b[0;34m)\u001b[0m\u001b[0;34m\u001b[0m\u001b[0;34m\u001b[0m\u001b[0m\n\u001b[0m\u001b[1;32m     65\u001b[0m         \u001b[0mout2\u001b[0m\u001b[0;34m=\u001b[0m\u001b[0mtorch\u001b[0m\u001b[0;34m.\u001b[0m\u001b[0mcat\u001b[0m\u001b[0;34m(\u001b[0m\u001b[0;34m[\u001b[0m\u001b[0mout2_user\u001b[0m\u001b[0;34m,\u001b[0m\u001b[0mout2_item\u001b[0m\u001b[0;34m]\u001b[0m\u001b[0;34m,\u001b[0m\u001b[0;36m1\u001b[0m\u001b[0;34m)\u001b[0m\u001b[0;34m\u001b[0m\u001b[0;34m\u001b[0m\u001b[0m\n\u001b[1;32m     66\u001b[0m \u001b[0;34m\u001b[0m\u001b[0m\n",
      "\u001b[0;32m~/anaconda3/lib/python3.7/site-packages/torch/nn/modules/module.py\u001b[0m in \u001b[0;36m__call__\u001b[0;34m(self, *input, **kwargs)\u001b[0m\n\u001b[1;32m    491\u001b[0m             \u001b[0mresult\u001b[0m \u001b[0;34m=\u001b[0m \u001b[0mself\u001b[0m\u001b[0;34m.\u001b[0m\u001b[0m_slow_forward\u001b[0m\u001b[0;34m(\u001b[0m\u001b[0;34m*\u001b[0m\u001b[0minput\u001b[0m\u001b[0;34m,\u001b[0m \u001b[0;34m**\u001b[0m\u001b[0mkwargs\u001b[0m\u001b[0;34m)\u001b[0m\u001b[0;34m\u001b[0m\u001b[0;34m\u001b[0m\u001b[0m\n\u001b[1;32m    492\u001b[0m         \u001b[0;32melse\u001b[0m\u001b[0;34m:\u001b[0m\u001b[0;34m\u001b[0m\u001b[0;34m\u001b[0m\u001b[0m\n\u001b[0;32m--> 493\u001b[0;31m             \u001b[0mresult\u001b[0m \u001b[0;34m=\u001b[0m \u001b[0mself\u001b[0m\u001b[0;34m.\u001b[0m\u001b[0mforward\u001b[0m\u001b[0;34m(\u001b[0m\u001b[0;34m*\u001b[0m\u001b[0minput\u001b[0m\u001b[0;34m,\u001b[0m \u001b[0;34m**\u001b[0m\u001b[0mkwargs\u001b[0m\u001b[0;34m)\u001b[0m\u001b[0;34m\u001b[0m\u001b[0;34m\u001b[0m\u001b[0m\n\u001b[0m\u001b[1;32m    494\u001b[0m         \u001b[0;32mfor\u001b[0m \u001b[0mhook\u001b[0m \u001b[0;32min\u001b[0m \u001b[0mself\u001b[0m\u001b[0;34m.\u001b[0m\u001b[0m_forward_hooks\u001b[0m\u001b[0;34m.\u001b[0m\u001b[0mvalues\u001b[0m\u001b[0;34m(\u001b[0m\u001b[0;34m)\u001b[0m\u001b[0;34m:\u001b[0m\u001b[0;34m\u001b[0m\u001b[0;34m\u001b[0m\u001b[0m\n\u001b[1;32m    495\u001b[0m             \u001b[0mhook_result\u001b[0m \u001b[0;34m=\u001b[0m \u001b[0mhook\u001b[0m\u001b[0;34m(\u001b[0m\u001b[0mself\u001b[0m\u001b[0;34m,\u001b[0m \u001b[0minput\u001b[0m\u001b[0;34m,\u001b[0m \u001b[0mresult\u001b[0m\u001b[0;34m)\u001b[0m\u001b[0;34m\u001b[0m\u001b[0;34m\u001b[0m\u001b[0m\n",
      "\u001b[0;32m~/anaconda3/lib/python3.7/site-packages/torch/nn/modules/container.py\u001b[0m in \u001b[0;36mforward\u001b[0;34m(self, input)\u001b[0m\n\u001b[1;32m     90\u001b[0m     \u001b[0;32mdef\u001b[0m \u001b[0mforward\u001b[0m\u001b[0;34m(\u001b[0m\u001b[0mself\u001b[0m\u001b[0;34m,\u001b[0m \u001b[0minput\u001b[0m\u001b[0;34m)\u001b[0m\u001b[0;34m:\u001b[0m\u001b[0;34m\u001b[0m\u001b[0;34m\u001b[0m\u001b[0m\n\u001b[1;32m     91\u001b[0m         \u001b[0;32mfor\u001b[0m \u001b[0mmodule\u001b[0m \u001b[0;32min\u001b[0m \u001b[0mself\u001b[0m\u001b[0;34m.\u001b[0m\u001b[0m_modules\u001b[0m\u001b[0;34m.\u001b[0m\u001b[0mvalues\u001b[0m\u001b[0;34m(\u001b[0m\u001b[0;34m)\u001b[0m\u001b[0;34m:\u001b[0m\u001b[0;34m\u001b[0m\u001b[0;34m\u001b[0m\u001b[0m\n\u001b[0;32m---> 92\u001b[0;31m             \u001b[0minput\u001b[0m \u001b[0;34m=\u001b[0m \u001b[0mmodule\u001b[0m\u001b[0;34m(\u001b[0m\u001b[0minput\u001b[0m\u001b[0;34m)\u001b[0m\u001b[0;34m\u001b[0m\u001b[0;34m\u001b[0m\u001b[0m\n\u001b[0m\u001b[1;32m     93\u001b[0m         \u001b[0;32mreturn\u001b[0m \u001b[0minput\u001b[0m\u001b[0;34m\u001b[0m\u001b[0;34m\u001b[0m\u001b[0m\n\u001b[1;32m     94\u001b[0m \u001b[0;34m\u001b[0m\u001b[0m\n",
      "\u001b[0;32m~/anaconda3/lib/python3.7/site-packages/torch/nn/modules/module.py\u001b[0m in \u001b[0;36m__call__\u001b[0;34m(self, *input, **kwargs)\u001b[0m\n\u001b[1;32m    491\u001b[0m             \u001b[0mresult\u001b[0m \u001b[0;34m=\u001b[0m \u001b[0mself\u001b[0m\u001b[0;34m.\u001b[0m\u001b[0m_slow_forward\u001b[0m\u001b[0;34m(\u001b[0m\u001b[0;34m*\u001b[0m\u001b[0minput\u001b[0m\u001b[0;34m,\u001b[0m \u001b[0;34m**\u001b[0m\u001b[0mkwargs\u001b[0m\u001b[0;34m)\u001b[0m\u001b[0;34m\u001b[0m\u001b[0;34m\u001b[0m\u001b[0m\n\u001b[1;32m    492\u001b[0m         \u001b[0;32melse\u001b[0m\u001b[0;34m:\u001b[0m\u001b[0;34m\u001b[0m\u001b[0;34m\u001b[0m\u001b[0m\n\u001b[0;32m--> 493\u001b[0;31m             \u001b[0mresult\u001b[0m \u001b[0;34m=\u001b[0m \u001b[0mself\u001b[0m\u001b[0;34m.\u001b[0m\u001b[0mforward\u001b[0m\u001b[0;34m(\u001b[0m\u001b[0;34m*\u001b[0m\u001b[0minput\u001b[0m\u001b[0;34m,\u001b[0m \u001b[0;34m**\u001b[0m\u001b[0mkwargs\u001b[0m\u001b[0;34m)\u001b[0m\u001b[0;34m\u001b[0m\u001b[0;34m\u001b[0m\u001b[0m\n\u001b[0m\u001b[1;32m    494\u001b[0m         \u001b[0;32mfor\u001b[0m \u001b[0mhook\u001b[0m \u001b[0;32min\u001b[0m \u001b[0mself\u001b[0m\u001b[0;34m.\u001b[0m\u001b[0m_forward_hooks\u001b[0m\u001b[0;34m.\u001b[0m\u001b[0mvalues\u001b[0m\u001b[0;34m(\u001b[0m\u001b[0;34m)\u001b[0m\u001b[0;34m:\u001b[0m\u001b[0;34m\u001b[0m\u001b[0;34m\u001b[0m\u001b[0m\n\u001b[1;32m    495\u001b[0m             \u001b[0mhook_result\u001b[0m \u001b[0;34m=\u001b[0m \u001b[0mhook\u001b[0m\u001b[0;34m(\u001b[0m\u001b[0mself\u001b[0m\u001b[0;34m,\u001b[0m \u001b[0minput\u001b[0m\u001b[0;34m,\u001b[0m \u001b[0mresult\u001b[0m\u001b[0;34m)\u001b[0m\u001b[0;34m\u001b[0m\u001b[0;34m\u001b[0m\u001b[0m\n",
      "\u001b[0;32m~/anaconda3/lib/python3.7/site-packages/torch/nn/modules/linear.py\u001b[0m in \u001b[0;36mforward\u001b[0;34m(self, input)\u001b[0m\n\u001b[1;32m     90\u001b[0m     \u001b[0;34m@\u001b[0m\u001b[0mweak_script_method\u001b[0m\u001b[0;34m\u001b[0m\u001b[0;34m\u001b[0m\u001b[0m\n\u001b[1;32m     91\u001b[0m     \u001b[0;32mdef\u001b[0m \u001b[0mforward\u001b[0m\u001b[0;34m(\u001b[0m\u001b[0mself\u001b[0m\u001b[0;34m,\u001b[0m \u001b[0minput\u001b[0m\u001b[0;34m)\u001b[0m\u001b[0;34m:\u001b[0m\u001b[0;34m\u001b[0m\u001b[0;34m\u001b[0m\u001b[0m\n\u001b[0;32m---> 92\u001b[0;31m         \u001b[0;32mreturn\u001b[0m \u001b[0mF\u001b[0m\u001b[0;34m.\u001b[0m\u001b[0mlinear\u001b[0m\u001b[0;34m(\u001b[0m\u001b[0minput\u001b[0m\u001b[0;34m,\u001b[0m \u001b[0mself\u001b[0m\u001b[0;34m.\u001b[0m\u001b[0mweight\u001b[0m\u001b[0;34m,\u001b[0m \u001b[0mself\u001b[0m\u001b[0;34m.\u001b[0m\u001b[0mbias\u001b[0m\u001b[0;34m)\u001b[0m\u001b[0;34m\u001b[0m\u001b[0;34m\u001b[0m\u001b[0m\n\u001b[0m\u001b[1;32m     93\u001b[0m \u001b[0;34m\u001b[0m\u001b[0m\n\u001b[1;32m     94\u001b[0m     \u001b[0;32mdef\u001b[0m \u001b[0mextra_repr\u001b[0m\u001b[0;34m(\u001b[0m\u001b[0mself\u001b[0m\u001b[0;34m)\u001b[0m\u001b[0;34m:\u001b[0m\u001b[0;34m\u001b[0m\u001b[0;34m\u001b[0m\u001b[0m\n",
      "\u001b[0;32m~/anaconda3/lib/python3.7/site-packages/torch/nn/functional.py\u001b[0m in \u001b[0;36mlinear\u001b[0;34m(input, weight, bias)\u001b[0m\n\u001b[1;32m   1404\u001b[0m     \u001b[0;32mif\u001b[0m \u001b[0minput\u001b[0m\u001b[0;34m.\u001b[0m\u001b[0mdim\u001b[0m\u001b[0;34m(\u001b[0m\u001b[0;34m)\u001b[0m \u001b[0;34m==\u001b[0m \u001b[0;36m2\u001b[0m \u001b[0;32mand\u001b[0m \u001b[0mbias\u001b[0m \u001b[0;32mis\u001b[0m \u001b[0;32mnot\u001b[0m \u001b[0;32mNone\u001b[0m\u001b[0;34m:\u001b[0m\u001b[0;34m\u001b[0m\u001b[0;34m\u001b[0m\u001b[0m\n\u001b[1;32m   1405\u001b[0m         \u001b[0;31m# fused op is marginally faster\u001b[0m\u001b[0;34m\u001b[0m\u001b[0;34m\u001b[0m\u001b[0;34m\u001b[0m\u001b[0m\n\u001b[0;32m-> 1406\u001b[0;31m         \u001b[0mret\u001b[0m \u001b[0;34m=\u001b[0m \u001b[0mtorch\u001b[0m\u001b[0;34m.\u001b[0m\u001b[0maddmm\u001b[0m\u001b[0;34m(\u001b[0m\u001b[0mbias\u001b[0m\u001b[0;34m,\u001b[0m \u001b[0minput\u001b[0m\u001b[0;34m,\u001b[0m \u001b[0mweight\u001b[0m\u001b[0;34m.\u001b[0m\u001b[0mt\u001b[0m\u001b[0;34m(\u001b[0m\u001b[0;34m)\u001b[0m\u001b[0;34m)\u001b[0m\u001b[0;34m\u001b[0m\u001b[0;34m\u001b[0m\u001b[0m\n\u001b[0m\u001b[1;32m   1407\u001b[0m     \u001b[0;32melse\u001b[0m\u001b[0;34m:\u001b[0m\u001b[0;34m\u001b[0m\u001b[0;34m\u001b[0m\u001b[0m\n\u001b[1;32m   1408\u001b[0m         \u001b[0moutput\u001b[0m \u001b[0;34m=\u001b[0m \u001b[0minput\u001b[0m\u001b[0;34m.\u001b[0m\u001b[0mmatmul\u001b[0m\u001b[0;34m(\u001b[0m\u001b[0mweight\u001b[0m\u001b[0;34m.\u001b[0m\u001b[0mt\u001b[0m\u001b[0;34m(\u001b[0m\u001b[0;34m)\u001b[0m\u001b[0;34m)\u001b[0m\u001b[0;34m\u001b[0m\u001b[0;34m\u001b[0m\u001b[0m\n",
      "\u001b[0;31mKeyboardInterrupt\u001b[0m: "
     ]
    }
   ],
   "source": [
    "learner.run_epochs(dltrain,dlvalid,5)"
   ]
  },
  {
   "cell_type": "code",
   "execution_count": 88,
   "metadata": {},
   "outputs": [
    {
     "name": "stdout",
     "output_type": "stream",
     "text": [
      "Batch:12000 0.9937722012822827  \n",
      "Batch:24000 0.9466208930425346  \n",
      "Batch:36000 0.9257968529880874  \n",
      "Batch:48000 0.9131020734407939  \n",
      "Epoch:0 Learning rate 0.003 Weight Decay 1e-07 Train Loss:0.9067523726690055                 Valid Loss:0.8266130926031489 Train RMSE:0.9357230435619861 Valid RMSE:0.8918926140005927 Train MSE:0.9067523726690055 Valid MSE:0.8266130926031489                 Train MAE:0.7591012329536401 Valid MAE:0.7184826666757379\n",
      "Batch:12000 0.8537703976202756  \n",
      "Batch:24000 0.8591483798905586  \n",
      "Batch:36000 0.8603906571676748  \n",
      "Batch:48000 0.8608978077773937  \n",
      "Epoch:1 Learning rate 0.003 Weight Decay 1e-07 Train Loss:0.8605700961666496                 Valid Loss:0.8453939872473879 Train RMSE:0.9115031662888465 Valid RMSE:0.905076722549791 Train MSE:0.8605700961666496 Valid MSE:0.8453939872473879                 Train MAE:0.7357545598349783 Valid MAE:0.7409134263641088\n",
      "Batch:12000 0.8488606558603545  \n",
      "Batch:24000 0.851816796131432  \n",
      "Batch:36000 0.8512700904102789  \n",
      "Batch:48000 0.85175795058844  \n",
      "Epoch:2 Learning rate 0.003 Weight Decay 1e-07 Train Loss:0.8521842414261687                 Valid Loss:0.809616008150181 Train RMSE:0.9066109055571488 Valid RMSE:0.8830190707329221 Train MSE:0.8521842414261687 Valid MSE:0.809616008150181                 Train MAE:0.7303256333477633 Valid MAE:0.7084527679993721\n",
      "Batch:12000 0.8362362701371312  \n",
      "Batch:24000 0.8411862948387862  \n",
      "Batch:36000 0.8412626821551886  \n",
      "Batch:48000 0.8416582633871585  \n",
      "Epoch:3 Learning rate 0.003 Weight Decay 1e-07 Train Loss:0.8413750079623095                 Valid Loss:0.8048075926362019 Train RMSE:0.9008510376294084 Valid RMSE:0.8816155255227022 Train MSE:0.8413750079623095 Valid MSE:0.8048075926362019                 Train MAE:0.7244950789338614 Valid MAE:0.7112455413279363\n",
      "Batch:12000 0.8275844850782305  \n",
      "Batch:24000 0.8303528123941893  \n",
      "Batch:36000 0.8328476942659666  \n",
      "Batch:48000 0.8343602098594419  \n",
      "Epoch:4 Learning rate 0.003 Weight Decay 1e-07 Train Loss:0.8345430599922387                 Valid Loss:0.8071617433278132 Train RMSE:0.8970378846355006 Valid RMSE:0.8806343964907255 Train MSE:0.8345430599922387 Valid MSE:0.8071617433278132                 Train MAE:0.7210652024456468 Valid MAE:0.6989929805952467\n"
     ]
    }
   ],
   "source": [
    "learner.run_epochs(dltrain,dlvalid,5)"
   ]
  },
  {
   "cell_type": "code",
   "execution_count": 92,
   "metadata": {},
   "outputs": [
    {
     "name": "stderr",
     "output_type": "stream",
     "text": [
      "/home/kirana/anaconda3/lib/python3.7/site-packages/torch/serialization.py:256: UserWarning: Couldn't retrieve source code for container of type cf. It won't be checked for correctness upon loading.\n",
      "  \"type \" + obj.__name__ + \". It won't be checked \"\n",
      "/home/kirana/anaconda3/lib/python3.7/site-packages/torch/serialization.py:256: UserWarning: Couldn't retrieve source code for container of type cf. It won't be checked for correctness upon loading.\n",
      "  \"type \" + obj.__name__ + \". It won't be checked \"\n"
     ]
    }
   ],
   "source": [
    "torch.save(cfobj,f=f'{DATAPATH}/inter/cf_plus_model')\n",
    "torch.save(learner,f=f'{DATAPATH}/inter/cf_plus_learner')\n",
    "torch.save(optimizer,f=f'{DATAPATH}/inter/cf_plus_optimizer')\n",
    "torch.save(cfobj.state_dict(),f'{DATAPATH}/inter/cf_plus_state_dict')\n",
    "torch.save(optimizer.state_dict(),f'{DATAPATH}/inter/cf_plus_optimizer_state_dict')"
   ]
  },
  {
   "cell_type": "code",
   "execution_count": 95,
   "metadata": {},
   "outputs": [],
   "source": [
    "optimizer=torch.optim.Adam(cfobj.parameters(),lr=7e-3,betas=(0.9,0.999), weight_decay=wd)\n",
    "learner=Learner(cfobj,optimizer,None,device,0,4000,0.25,cycle_mult=3,start_lr=7e-3,end_lr=5e-4,error_type=\"mse\")"
   ]
  },
  {
   "cell_type": "code",
   "execution_count": 96,
   "metadata": {},
   "outputs": [
    {
     "name": "stdout",
     "output_type": "stream",
     "text": [
      "Batch:4000 0.9477549085095525  \n",
      "Batch:8000 0.9465845673978329  \n",
      "Batch:12000 0.9417663092426956  \n",
      "Batch:16000 0.9355373664963991  \n",
      "Batch:20000 0.9328082102537155  \n",
      "Batch:24000 0.9305484503575912  \n",
      "Batch:28000 0.9264751869748745  \n",
      "Batch:32000 0.9242038224684075  \n",
      "Batch:36000 0.9226649680555694  \n",
      "Batch:40000 0.9220447807293385  \n",
      "Batch:44000 0.9201199960126119  \n",
      "Batch:48000 0.9179695794107392  \n",
      "Batch:52000 0.917377596736814  \n",
      "Batch:56000 0.9161965042606794  \n",
      "Batch:4000 0.8386128387600184  \n",
      "Epoch:0 Learning rate 0.007 Weight Decay 1e-07 Train Loss:0.9161285537519076                 Valid Loss:0.839683299244251 Train RMSE:0.9406655851615302 Valid RMSE:0.9014863114091172 Train MSE:0.9161285537519076 Valid MSE:0.839683299244251                 Train MAE:0.7602618248253719 Valid MAE:0.7340835974726323\n",
      "Batch:4000 0.8706246215365827  \n",
      "Batch:8000 0.8689795228820294  \n",
      "Batch:12000 0.8630811476695041  \n",
      "Batch:16000 0.8624211596264504  \n",
      "Batch:20000 0.8600771689008921  \n",
      "Batch:24000 0.8593907365746175  \n",
      "Batch:28000 0.8589488398877105  \n",
      "Batch:32000 0.8588014365106356  \n",
      "Batch:36000 0.8574721380573594  \n",
      "Batch:40000 0.8561454551378265  \n",
      "Batch:44000 0.8554498413484544  \n",
      "Batch:48000 0.855415364066915  \n",
      "Batch:52000 0.85447590571427  \n",
      "Batch:56000 0.853758103369203  \n",
      "Batch:4000 0.7975380032248796  \n",
      "Epoch:1 Learning rate 0.002904392866781852 Weight Decay 1e-07 Train Loss:0.8537723722866575                 Valid Loss:0.7993204215290031 Train RMSE:0.9076348147687021 Valid RMSE:0.8766653912256207 Train MSE:0.8537723722866575 Valid MSE:0.7993204215290031                 Train MAE:0.7305239254005481 Valid MAE:0.6997083704620695\n",
      "Batch:4000 0.8196377297379076  \n",
      "Batch:8000 0.8177381215188653  \n",
      "Batch:12000 0.818682067318509  \n",
      "Batch:16000 0.8188231551619246  \n",
      "Batch:20000 0.8185430301114917  \n",
      "Batch:24000 0.817781589831536  \n",
      "Batch:28000 0.8181362447930234  \n",
      "Batch:32000 0.8174275105674751  \n",
      "Batch:36000 0.8173794693445994  \n",
      "Batch:40000 0.8179013107582926  \n",
      "Batch:44000 0.8175324536453594  \n",
      "Batch:48000 0.8177237201950823  \n",
      "Batch:52000 0.8170113183781504  \n",
      "Batch:56000 0.8172360250343169  \n",
      "Batch:4000 0.7834767312668264  \n",
      "Epoch:2 Learning rate 0.001205071132087615 Weight Decay 1e-07 Train Loss:0.8171942690693604                 Valid Loss:0.7865888045806383 Train RMSE:0.8877138205233482 Valid RMSE:0.8705330638859563 Train MSE:0.8171942690693604 Valid MSE:0.7865888045806383                 Train MAE:0.712068069159046 Valid MAE:0.6981248667205059\n",
      "Batch:4000 0.8007047019414604  \n",
      "Batch:8000 0.8008907081745565  \n",
      "Batch:12000 0.8001382785613338  \n",
      "Batch:16000 0.7996228402331471  \n",
      "Batch:20000 0.7993434834986926  \n",
      "Batch:24000 0.7973304040686537  \n",
      "Batch:28000 0.7970661338652884  \n",
      "Batch:32000 0.7976550960917957  \n",
      "Batch:36000 0.7981002730160124  \n",
      "Batch:40000 0.7981443100884557  \n",
      "Batch:44000 0.7982183968644928  \n",
      "Batch:48000 0.7987697255937383  \n",
      "Batch:52000 0.7982613659635759  \n",
      "Batch:56000 0.7986465844969665  \n",
      "Batch:4000 0.7786800003312528  \n",
      "Epoch:3 Learning rate 0.0005 Weight Decay 1e-07 Train Loss:0.7986523525856983                 Valid Loss:0.7819397748660675 Train RMSE:0.8773617958202131 Valid RMSE:0.8679724585471977 Train MSE:0.7986523525856983 Valid MSE:0.7819397748660675                 Train MAE:0.7025097747494942 Valid MAE:0.6953174638647112\n",
      "Batch:4000 0.8519458888005466  \n",
      "Batch:8000 0.8601962015898899  \n",
      "Batch:12000 0.867267952852572  \n",
      "Batch:16000 0.8688676158417947  \n",
      "Batch:20000 0.872429928643629  \n",
      "Batch:24000 0.8754271724754944  \n",
      "Batch:28000 0.8773419753310404  \n",
      "Batch:32000 0.8790981024757494  \n",
      "Batch:36000 0.8813012863014721  \n",
      "Batch:40000 0.8833631800075993  \n",
      "Batch:44000 0.8852587947498329  \n",
      "Batch:48000 0.8864308561426587  \n",
      "Batch:52000 0.8869651075267735  \n",
      "Batch:56000 0.8865435436885538  \n",
      "Batch:4000 0.8536968131512404  \n",
      "Epoch:4 Learning rate 0.007 Weight Decay 1e-07 Train Loss:0.8866931311023398                 Valid Loss:0.8535901717055095 Train RMSE:0.9252838093131777 Valid RMSE:0.9069307268913919 Train MSE:0.8866931311023398 Valid MSE:0.8535901717055095                 Train MAE:0.7465445741802895 Valid MAE:0.728712627980012\n",
      "Batch:4000 0.8688354370072484  \n",
      "Batch:8000 0.8689211257677525  \n",
      "Batch:12000 0.8691539481108387  \n",
      "Batch:16000 0.8684647402996197  \n",
      "Batch:20000 0.8708973829761147  \n",
      "Batch:24000 0.8711848357127359  \n",
      "Batch:28000 0.8717302199202989  \n",
      "Batch:32000 0.870867296225857  \n",
      "Batch:36000 0.8710191338161627  \n",
      "Batch:40000 0.8713492605153471  \n",
      "Batch:44000 0.8725323015996679  \n",
      "Batch:48000 0.8726232350332042  \n",
      "Batch:52000 0.8726838623689345  \n",
      "Batch:56000 0.8737419318479619  \n",
      "Batch:4000 0.8411246863901615  \n",
      "Epoch:5 Learning rate 0.0052209613775208615 Weight Decay 1e-07 Train Loss:0.8737250732358672                 Valid Loss:0.8399350537262471 Train RMSE:0.9182681528428425 Valid RMSE:0.9014672184087519 Train MSE:0.8737250732358672 Valid MSE:0.8399350537262471                 Train MAE:0.7401798448696298 Valid MAE:0.7333341154412284\n",
      "Batch:4000 0.8483974200487137  \n",
      "Batch:8000 0.852189423630014  \n",
      "Batch:12000 0.8537648842384418  \n",
      "Batch:16000 0.854290078596212  \n",
      "Batch:20000 0.8528068272188306  \n",
      "Batch:24000 0.853463484575972  \n",
      "Batch:28000 0.852734423582043  \n",
      "Batch:32000 0.8531946065337397  \n",
      "Batch:36000 0.853264821783536  \n",
      "Batch:40000 0.8530897578656673  \n",
      "Batch:44000 0.8533637379594147  \n",
      "Batch:48000 0.8536843965373312  \n",
      "Batch:52000 0.8538887767210029  \n",
      "Batch:56000 0.8540467465932348  \n",
      "Batch:4000 0.8051755941025913  \n",
      "Epoch:6 Learning rate 0.0038940625293663617 Weight Decay 1e-07 Train Loss:0.8543334915645513                 Valid Loss:0.8038196014008 Train RMSE:0.9079196892123411 Valid RMSE:0.8806413032624343 Train MSE:0.8543334915645513 Valid MSE:0.8038196014008                 Train MAE:0.7308262511995124 Valid MAE:0.7091007001998328\n",
      "Batch:4000 0.8318275058679283  \n",
      "Batch:8000 0.8318479333277792  \n",
      "Batch:12000 0.8341113721554478  \n",
      "Batch:16000 0.8365020944746211  \n",
      "Batch:20000 0.8378269223235547  \n",
      "Batch:24000 0.8374744737887134  \n",
      "Batch:28000 0.8369771598439132  \n",
      "Batch:32000 0.8364053006912582  \n",
      "Batch:36000 0.8365575913662712  \n",
      "Batch:40000 0.8367984537445009  \n",
      "Batch:44000 0.8361036973944442  \n",
      "Batch:48000 0.8367697453975367  \n",
      "Batch:52000 0.8365817928602203  \n",
      "Batch:56000 0.8363524283323703  \n",
      "Batch:4000 0.8056486947871745  \n",
      "Epoch:7 Learning rate 0.002904392866781853 Weight Decay 1e-07 Train Loss:0.8363152630730448                 Valid Loss:0.8022195178412392 Train RMSE:0.8981291652425677 Valid RMSE:0.880625919438231 Train MSE:0.8363152630730448 Valid MSE:0.8022195178412392                 Train MAE:0.7216842136952681 Valid MAE:0.7110732525291538\n",
      "Batch:4000 0.815896189711988  \n",
      "Batch:8000 0.8143669067453593  \n",
      "Batch:12000 0.813971776711444  \n",
      "Batch:16000 0.8144378879070282  \n",
      "Batch:20000 0.8155520030520856  \n",
      "Batch:24000 0.8155460284613073  \n",
      "Batch:28000 0.8184096387512982  \n",
      "Batch:32000 0.8186115873740054  \n",
      "Batch:36000 0.819820039547152  \n",
      "Batch:40000 0.8206504288215191  \n",
      "Batch:44000 0.8212296673177996  \n",
      "Batch:48000 0.8208028162596748  \n",
      "Batch:52000 0.820597355075467  \n",
      "Batch:56000 0.8201101373354239  \n",
      "Batch:4000 0.7907518663648516  \n",
      "Epoch:8 Learning rate 0.0021662461403735922 Weight Decay 1e-07 Train Loss:0.8201229489352119                 Valid Loss:0.7889446365424764 Train RMSE:0.8891084822072604 Valid RMSE:0.8703665362620813 Train MSE:0.8201229489352119 Valid MSE:0.7889446365424764                 Train MAE:0.7128714274882948 Valid MAE:0.6908094754117236\n",
      "Batch:4000 0.8130544520616532  \n",
      "Batch:8000 0.8110835851747542  \n",
      "Batch:12000 0.8069140350843469  \n",
      "Batch:16000 0.8065953800948337  \n",
      "Batch:20000 0.8074944012232125  \n",
      "Batch:24000 0.8079373861057684  \n",
      "Batch:28000 0.8066898597795517  \n",
      "Batch:32000 0.8071584573115688  \n",
      "Batch:36000 0.8071177177737571  \n",
      "Batch:40000 0.8073498869908974  \n",
      "Batch:44000 0.8084002601590685  \n",
      "Batch:48000 0.8084355204016902  \n",
      "Batch:52000 0.8088773210497143  \n",
      "Batch:56000 0.8090178966278743  \n",
      "Batch:4000 0.791151415284723  \n",
      "Epoch:9 Learning rate 0.001615698204727737 Weight Decay 1e-07 Train Loss:0.8089387274249349                 Valid Loss:0.7924031700893654 Train RMSE:0.8830422562014902 Valid RMSE:0.8746174197507318 Train MSE:0.8089387274249349 Valid MSE:0.7924031700893654                 Train MAE:0.7072909626928209 Valid MAE:0.7053032344873335\n",
      "Batch:4000 0.7920645823329687  \n",
      "Batch:8000 0.7939506918471306  \n"
     ]
    },
    {
     "name": "stdout",
     "output_type": "stream",
     "text": [
      "Batch:12000 0.7961130048806468  \n",
      "Batch:16000 0.7987841129256412  \n",
      "Batch:20000 0.7984760003037751  \n",
      "Batch:24000 0.7988762776665389  \n",
      "Batch:28000 0.7983388448442732  \n",
      "Batch:32000 0.7987451961673796  \n",
      "Batch:36000 0.7991053899261686  \n",
      "Batch:40000 0.7997887085597962  \n",
      "Batch:44000 0.7993419854817065  \n",
      "Batch:48000 0.7995108859750132  \n",
      "Batch:52000 0.7991822568810043  \n",
      "Batch:56000 0.8002008476668436  \n",
      "Batch:4000 0.7799512348510325  \n",
      "Epoch:10 Learning rate 0.0012050711320876154 Weight Decay 1e-07 Train Loss:0.8002595694560909                 Valid Loss:0.7806954427538243 Train RMSE:0.878152008338577 Valid RMSE:0.8665855451820185 Train MSE:0.8002595694560909 Valid MSE:0.7806954427538243                 Train MAE:0.7022202798888065 Valid MAE:0.6882385908031952\n",
      "Batch:4000 0.7778072071671486  \n",
      "Batch:8000 0.7878290575034916  \n",
      "Batch:12000 0.7873326572639247  \n",
      "Batch:16000 0.7888198718768544  \n",
      "Batch:20000 0.7886969285290688  \n",
      "Batch:24000 0.7903713638580715  \n",
      "Batch:28000 0.7916320689615927  \n",
      "Batch:32000 0.7915693632166367  \n",
      "Batch:36000 0.791686788180429  \n",
      "Batch:40000 0.7917770447952673  \n",
      "Batch:44000 0.7917672057143328  \n",
      "Batch:48000 0.7922622352703474  \n",
      "Batch:52000 0.7925281204241686  \n",
      "Batch:56000 0.7926117576405938  \n",
      "Batch:4000 0.7774986856877804  \n",
      "Epoch:11 Learning rate 0.0008988042625421115 Weight Decay 1e-07 Train Loss:0.7926786297328469                 Valid Loss:0.778705360364319 Train RMSE:0.8736921760106735 Valid RMSE:0.8663464851862731 Train MSE:0.7926786297328469 Valid MSE:0.778705360364319                 Train MAE:0.6982636937813904 Valid MAE:0.6912677970715463\n",
      "Batch:4000 0.7795691757015883  \n",
      "Batch:8000 0.7808323739729822  \n",
      "Batch:12000 0.7825423071620365  \n",
      "Batch:16000 0.7846015142425895  \n",
      "Batch:20000 0.7850315032884478  \n",
      "Batch:24000 0.7844253891433278  \n",
      "Batch:28000 0.7845030131355992  \n",
      "Batch:32000 0.7851309346738271  \n",
      "Batch:36000 0.7862237573588888  \n",
      "Batch:40000 0.7858303670909256  \n",
      "Batch:44000 0.7855919558431276  \n",
      "Batch:48000 0.785850602006074  \n",
      "Batch:52000 0.7861071014715215  \n",
      "Batch:56000 0.7869184746339118  \n",
      "Batch:4000 0.7772268393486739  \n",
      "Epoch:12 Learning rate 0.0006703746200976407 Weight Decay 1e-07 Train Loss:0.7868753906354901                 Valid Loss:0.7769125607740599 Train RMSE:0.8705508616498498 Valid RMSE:0.8647777693732565 Train MSE:0.7868753906354901 Valid MSE:0.7769125607740599                 Train MAE:0.6951794934670151 Valid MAE:0.6909401185109839\n",
      "Batch:4000 0.7817654759809375  \n",
      "Batch:8000 0.7842097195014358  \n",
      "Batch:12000 0.7824573357664049  \n",
      "Batch:16000 0.7824026613798923  \n",
      "Batch:20000 0.7819515287999064  \n",
      "Batch:24000 0.7815804694835097  \n",
      "Batch:28000 0.7814190908713  \n",
      "Batch:32000 0.7827248744103126  \n",
      "Batch:36000 0.7833167946346932  \n",
      "Batch:40000 0.7827717434141785  \n",
      "Batch:44000 0.7825393591204828  \n",
      "Batch:48000 0.7828178331321105  \n",
      "Batch:52000 0.7825078663980731  \n",
      "Batch:56000 0.782651921463332  \n",
      "Batch:4000 0.7737453616075217  \n",
      "Epoch:13 Learning rate 0.0005000000000000003 Weight Decay 1e-07 Train Loss:0.7825955768517369                 Valid Loss:0.7760630997680771 Train RMSE:0.8681146731450259 Valid RMSE:0.8641487164351597 Train MSE:0.7825955768517369 Valid MSE:0.7760630997680771                 Train MAE:0.6926267094255163 Valid MAE:0.6879431364565649\n",
      "Batch:4000 0.835824443668127  \n",
      "Batch:8000 0.848750945083797  \n",
      "Batch:12000 0.8569138855338096  \n",
      "Batch:16000 0.8624707577750087  \n",
      "Batch:20000 0.8666507346786558  \n",
      "Batch:24000 0.8717390474472195  \n",
      "Batch:28000 0.8743123552607639  \n",
      "Batch:32000 0.8755059890705161  \n",
      "Batch:36000 0.8763088515719606  \n",
      "Batch:40000 0.877534067645669  \n",
      "Batch:44000 0.8790194211978126  \n",
      "Batch:48000 0.8795972785810009  \n",
      "Batch:52000 0.8808473011862773  \n",
      "Batch:56000 0.881548282897366  \n",
      "Batch:4000 0.830783594161272  \n",
      "Epoch:14 Learning rate 0.007 Weight Decay 1e-07 Train Loss:0.8816030757896154                 Valid Loss:0.8342590108156318 Train RMSE:0.9223532940977279 Valid RMSE:0.8979646071008258 Train MSE:0.8816030757896154 Valid MSE:0.8342590108156318                 Train MAE:0.7421361843000147 Valid MAE:0.7265610157900031\n",
      "Batch:4000 0.877026008233428  \n",
      "Batch:8000 0.8814435419738292  \n",
      "Batch:12000 0.8794698386291663  \n",
      "Batch:16000 0.8797667595716193  \n",
      "Batch:20000 0.8814204864569009  \n",
      "Batch:24000 0.8818575620036572  \n",
      "Batch:28000 0.8818909708500973  \n",
      "Batch:32000 0.8818689296813682  \n",
      "Batch:36000 0.8826496850281126  \n",
      "Batch:40000 0.8830727370101958  \n",
      "Batch:44000 0.8825897996191951  \n",
      "Batch:48000 0.8832417724759628  \n",
      "Batch:52000 0.8831164960646285  \n",
      "Batch:56000 0.8837171861941793  \n",
      "Batch:4000 0.8383304293975234  \n",
      "Epoch:15 Learning rate 0.006348174460236535 Weight Decay 1e-07 Train Loss:0.8837139349867674                 Valid Loss:0.8389432931644216 Train RMSE:0.923663694039078 Valid RMSE:0.8976876324023433 Train MSE:0.8837139349867674 Valid MSE:0.8389432931644216                 Train MAE:0.7439793042152869 Valid MAE:0.7082468578955414\n",
      "Batch:4000 0.8694332353919745  \n",
      "Batch:8000 0.8769470466086641  \n",
      "Batch:12000 0.8780772979489218  \n",
      "Batch:16000 0.8797525313938968  \n",
      "Batch:20000 0.8808323882956057  \n",
      "Batch:24000 0.8818965490618721  \n",
      "Batch:28000 0.8821704755103482  \n",
      "Batch:32000 0.8833380185368005  \n",
      "Batch:36000 0.8832024482213374  \n",
      "Batch:40000 0.8846480813995004  \n",
      "Batch:44000 0.8850975337191062  \n",
      "Batch:48000 0.8856257956509168  \n",
      "Batch:52000 0.8863844563425161  \n",
      "Batch:56000 0.8865329202767461  \n",
      "Batch:4000 0.8196892892420292  \n",
      "Epoch:16 Learning rate 0.00575704556822849 Weight Decay 1e-07 Train Loss:0.8865026418352872                 Valid Loss:0.8195572598734233 Train RMSE:0.9251863654282576 Valid RMSE:0.8889084474990641 Train MSE:0.8865026418352872 Valid MSE:0.8195572598734233                 Train MAE:0.7430083728673332 Valid MAE:0.7096357732553629\n",
      "Batch:4000 0.8721526743508875  \n",
      "Batch:8000 0.8737057220321148  \n",
      "Batch:12000 0.8754340390115977  \n",
      "Batch:16000 0.8747255347641185  \n",
      "Batch:20000 0.8753650514543057  \n",
      "Batch:24000 0.8771494327796002  \n",
      "Batch:28000 0.8771287582585854  \n",
      "Batch:32000 0.878385875001084  \n",
      "Batch:36000 0.8799830623985164  \n",
      "Batch:40000 0.8795272814434022  \n",
      "Batch:44000 0.8799909292865883  \n",
      "Batch:48000 0.8799144496054699  \n",
      "Batch:52000 0.8806244155813295  \n",
      "Batch:56000 0.8816524505889309  \n",
      "Batch:4000 0.8185883924514056  \n",
      "Epoch:17 Learning rate 0.005220961377520862 Weight Decay 1e-07 Train Loss:0.8816274781332163                 Valid Loss:0.8179357650612915 Train RMSE:0.9226826737315195 Valid RMSE:0.8881811200159204 Train MSE:0.8816274781332163 Valid MSE:0.8179357650612915                 Train MAE:0.74097551543895 Valid MAE:0.7107940214666433\n",
      "Batch:4000 0.868733888860792  \n",
      "Batch:8000 0.8664624875113368  \n",
      "Batch:12000 0.8676318802833557  \n",
      "Batch:16000 0.8690256818151102  \n",
      "Batch:20000 0.8704923916988074  \n",
      "Batch:24000 0.8709669087212533  \n",
      "Batch:28000 0.871444449887744  \n",
      "Batch:32000 0.8718815948623233  \n",
      "Batch:36000 0.8722996842186485  \n",
      "Batch:40000 0.8723841027483344  \n",
      "Batch:44000 0.8733673523606902  \n",
      "Batch:48000 0.8730327256967624  \n",
      "Batch:52000 0.8733903423623683  \n",
      "Batch:56000 0.8738065449157729  \n",
      "Batch:4000 0.8193044566884636  \n",
      "Epoch:18 Learning rate 0.004734796239237043 Weight Decay 1e-07 Train Loss:0.8737775558984331                 Valid Loss:0.8131614190932085 Train RMSE:0.9185853163534607 Valid RMSE:0.8849799439655545 Train MSE:0.8737775558984331 Valid MSE:0.8131614190932085                 Train MAE:0.7368120692837468 Valid MAE:0.7064505577521185\n",
      "Batch:4000 0.8588903963714838  \n",
      "Batch:8000 0.8583274029530584  \n",
      "Batch:12000 0.8625853919194391  \n",
      "Batch:16000 0.8623386630490423  \n",
      "Batch:20000 0.8630764080267399  \n",
      "Batch:24000 0.864845061362721  \n",
      "Batch:28000 0.8654509338244264  \n",
      "Batch:32000 0.8669134363105986  \n",
      "Batch:36000 0.8666986439048002  \n",
      "Batch:40000 0.8666269237140194  \n",
      "Batch:44000 0.8670836359982125  \n",
      "Batch:48000 0.8673315448309294  \n",
      "Batch:52000 0.8677506312144777  \n",
      "Batch:56000 0.8677136546076675  \n",
      "Batch:4000 0.8200298253335059  \n"
     ]
    },
    {
     "ename": "KeyboardInterrupt",
     "evalue": "",
     "output_type": "error",
     "traceback": [
      "\u001b[0;31m---------------------------------------------------------------------------\u001b[0m",
      "\u001b[0;31mKeyboardInterrupt\u001b[0m                         Traceback (most recent call last)",
      "\u001b[0;32m<ipython-input-96-710ff4ccc0f3>\u001b[0m in \u001b[0;36m<module>\u001b[0;34m\u001b[0m\n\u001b[0;32m----> 1\u001b[0;31m \u001b[0mlearner\u001b[0m\u001b[0;34m.\u001b[0m\u001b[0mrun_epochs\u001b[0m\u001b[0;34m(\u001b[0m\u001b[0mdltrain\u001b[0m\u001b[0;34m,\u001b[0m\u001b[0mdlvalid\u001b[0m\u001b[0;34m,\u001b[0m\u001b[0;36m34\u001b[0m\u001b[0;34m)\u001b[0m\u001b[0;34m\u001b[0m\u001b[0;34m\u001b[0m\u001b[0m\n\u001b[0m",
      "\u001b[0;32m<ipython-input-70-2e7071a957ba>\u001b[0m in \u001b[0;36mrun_epochs\u001b[0;34m(self, dltrain, dlvalid, n_epochs)\u001b[0m\n\u001b[1;32m    128\u001b[0m             \u001b[0mloss\u001b[0m\u001b[0;34m,\u001b[0m\u001b[0macc\u001b[0m\u001b[0;34m,\u001b[0m\u001b[0mrmse\u001b[0m\u001b[0;34m=\u001b[0m\u001b[0mself\u001b[0m\u001b[0;34m.\u001b[0m\u001b[0mrun_epoch\u001b[0m\u001b[0;34m(\u001b[0m\u001b[0mdltrain\u001b[0m\u001b[0;34m,\u001b[0m\u001b[0;32mTrue\u001b[0m\u001b[0;34m)\u001b[0m\u001b[0;34m\u001b[0m\u001b[0;34m\u001b[0m\u001b[0m\n\u001b[1;32m    129\u001b[0m \u001b[0;34m\u001b[0m\u001b[0m\n\u001b[0;32m--> 130\u001b[0;31m             \u001b[0mlossv\u001b[0m\u001b[0;34m,\u001b[0m\u001b[0maccv\u001b[0m\u001b[0;34m,\u001b[0m\u001b[0mrmsev\u001b[0m\u001b[0;34m=\u001b[0m\u001b[0mself\u001b[0m\u001b[0;34m.\u001b[0m\u001b[0mrun_epoch\u001b[0m\u001b[0;34m(\u001b[0m\u001b[0mdlvalid\u001b[0m\u001b[0;34m,\u001b[0m\u001b[0mmode_train\u001b[0m\u001b[0;34m=\u001b[0m\u001b[0;32mFalse\u001b[0m\u001b[0;34m)\u001b[0m\u001b[0;34m\u001b[0m\u001b[0;34m\u001b[0m\u001b[0m\n\u001b[0m\u001b[1;32m    131\u001b[0m \u001b[0;34m\u001b[0m\u001b[0m\n\u001b[1;32m    132\u001b[0m             \u001b[0;32mif\u001b[0m \u001b[0mself\u001b[0m\u001b[0;34m.\u001b[0m\u001b[0merror_type\u001b[0m\u001b[0;34m==\u001b[0m\u001b[0;34m\"mse\"\u001b[0m\u001b[0;34m:\u001b[0m\u001b[0;34m\u001b[0m\u001b[0;34m\u001b[0m\u001b[0m\n",
      "\u001b[0;32m<ipython-input-70-2e7071a957ba>\u001b[0m in \u001b[0;36mrun_epoch\u001b[0;34m(self, iterator, mode_train, lrs)\u001b[0m\n\u001b[1;32m     78\u001b[0m \u001b[0;34m\u001b[0m\u001b[0m\n\u001b[1;32m     79\u001b[0m \u001b[0;34m\u001b[0m\u001b[0m\n\u001b[0;32m---> 80\u001b[0;31m         \u001b[0;32mfor\u001b[0m \u001b[0mXb\u001b[0m\u001b[0;34m,\u001b[0m\u001b[0mYb\u001b[0m \u001b[0;32min\u001b[0m \u001b[0miterator\u001b[0m\u001b[0;34m:\u001b[0m\u001b[0;34m\u001b[0m\u001b[0;34m\u001b[0m\u001b[0m\n\u001b[0m\u001b[1;32m     81\u001b[0m             \u001b[0mXb\u001b[0m\u001b[0;34m=\u001b[0m\u001b[0mXb\u001b[0m\u001b[0;34m.\u001b[0m\u001b[0mto\u001b[0m\u001b[0;34m(\u001b[0m\u001b[0mself\u001b[0m\u001b[0;34m.\u001b[0m\u001b[0mdevice\u001b[0m\u001b[0;34m)\u001b[0m\u001b[0;34m\u001b[0m\u001b[0;34m\u001b[0m\u001b[0m\n\u001b[1;32m     82\u001b[0m             \u001b[0mYb\u001b[0m\u001b[0;34m=\u001b[0m\u001b[0mYb\u001b[0m\u001b[0;34m.\u001b[0m\u001b[0mto\u001b[0m\u001b[0;34m(\u001b[0m\u001b[0mself\u001b[0m\u001b[0;34m.\u001b[0m\u001b[0mdevice\u001b[0m\u001b[0;34m)\u001b[0m\u001b[0;34m\u001b[0m\u001b[0;34m\u001b[0m\u001b[0m\n",
      "\u001b[0;32m~/anaconda3/lib/python3.7/site-packages/torch/utils/data/dataloader.py\u001b[0m in \u001b[0;36m__next__\u001b[0;34m(self)\u001b[0m\n\u001b[1;32m    558\u001b[0m         \u001b[0;32mif\u001b[0m \u001b[0mself\u001b[0m\u001b[0;34m.\u001b[0m\u001b[0mnum_workers\u001b[0m \u001b[0;34m==\u001b[0m \u001b[0;36m0\u001b[0m\u001b[0;34m:\u001b[0m  \u001b[0;31m# same-process loading\u001b[0m\u001b[0;34m\u001b[0m\u001b[0;34m\u001b[0m\u001b[0m\n\u001b[1;32m    559\u001b[0m             \u001b[0mindices\u001b[0m \u001b[0;34m=\u001b[0m \u001b[0mnext\u001b[0m\u001b[0;34m(\u001b[0m\u001b[0mself\u001b[0m\u001b[0;34m.\u001b[0m\u001b[0msample_iter\u001b[0m\u001b[0;34m)\u001b[0m  \u001b[0;31m# may raise StopIteration\u001b[0m\u001b[0;34m\u001b[0m\u001b[0;34m\u001b[0m\u001b[0m\n\u001b[0;32m--> 560\u001b[0;31m             \u001b[0mbatch\u001b[0m \u001b[0;34m=\u001b[0m \u001b[0mself\u001b[0m\u001b[0;34m.\u001b[0m\u001b[0mcollate_fn\u001b[0m\u001b[0;34m(\u001b[0m\u001b[0;34m[\u001b[0m\u001b[0mself\u001b[0m\u001b[0;34m.\u001b[0m\u001b[0mdataset\u001b[0m\u001b[0;34m[\u001b[0m\u001b[0mi\u001b[0m\u001b[0;34m]\u001b[0m \u001b[0;32mfor\u001b[0m \u001b[0mi\u001b[0m \u001b[0;32min\u001b[0m \u001b[0mindices\u001b[0m\u001b[0;34m]\u001b[0m\u001b[0;34m)\u001b[0m\u001b[0;34m\u001b[0m\u001b[0;34m\u001b[0m\u001b[0m\n\u001b[0m\u001b[1;32m    561\u001b[0m             \u001b[0;32mif\u001b[0m \u001b[0mself\u001b[0m\u001b[0;34m.\u001b[0m\u001b[0mpin_memory\u001b[0m\u001b[0;34m:\u001b[0m\u001b[0;34m\u001b[0m\u001b[0;34m\u001b[0m\u001b[0m\n\u001b[1;32m    562\u001b[0m                 \u001b[0mbatch\u001b[0m \u001b[0;34m=\u001b[0m \u001b[0m_utils\u001b[0m\u001b[0;34m.\u001b[0m\u001b[0mpin_memory\u001b[0m\u001b[0;34m.\u001b[0m\u001b[0mpin_memory_batch\u001b[0m\u001b[0;34m(\u001b[0m\u001b[0mbatch\u001b[0m\u001b[0;34m)\u001b[0m\u001b[0;34m\u001b[0m\u001b[0;34m\u001b[0m\u001b[0m\n",
      "\u001b[0;32m~/anaconda3/lib/python3.7/site-packages/torch/utils/data/dataloader.py\u001b[0m in \u001b[0;36m<listcomp>\u001b[0;34m(.0)\u001b[0m\n\u001b[1;32m    558\u001b[0m         \u001b[0;32mif\u001b[0m \u001b[0mself\u001b[0m\u001b[0;34m.\u001b[0m\u001b[0mnum_workers\u001b[0m \u001b[0;34m==\u001b[0m \u001b[0;36m0\u001b[0m\u001b[0;34m:\u001b[0m  \u001b[0;31m# same-process loading\u001b[0m\u001b[0;34m\u001b[0m\u001b[0;34m\u001b[0m\u001b[0m\n\u001b[1;32m    559\u001b[0m             \u001b[0mindices\u001b[0m \u001b[0;34m=\u001b[0m \u001b[0mnext\u001b[0m\u001b[0;34m(\u001b[0m\u001b[0mself\u001b[0m\u001b[0;34m.\u001b[0m\u001b[0msample_iter\u001b[0m\u001b[0;34m)\u001b[0m  \u001b[0;31m# may raise StopIteration\u001b[0m\u001b[0;34m\u001b[0m\u001b[0;34m\u001b[0m\u001b[0m\n\u001b[0;32m--> 560\u001b[0;31m             \u001b[0mbatch\u001b[0m \u001b[0;34m=\u001b[0m \u001b[0mself\u001b[0m\u001b[0;34m.\u001b[0m\u001b[0mcollate_fn\u001b[0m\u001b[0;34m(\u001b[0m\u001b[0;34m[\u001b[0m\u001b[0mself\u001b[0m\u001b[0;34m.\u001b[0m\u001b[0mdataset\u001b[0m\u001b[0;34m[\u001b[0m\u001b[0mi\u001b[0m\u001b[0;34m]\u001b[0m \u001b[0;32mfor\u001b[0m \u001b[0mi\u001b[0m \u001b[0;32min\u001b[0m \u001b[0mindices\u001b[0m\u001b[0;34m]\u001b[0m\u001b[0;34m)\u001b[0m\u001b[0;34m\u001b[0m\u001b[0;34m\u001b[0m\u001b[0m\n\u001b[0m\u001b[1;32m    561\u001b[0m             \u001b[0;32mif\u001b[0m \u001b[0mself\u001b[0m\u001b[0;34m.\u001b[0m\u001b[0mpin_memory\u001b[0m\u001b[0;34m:\u001b[0m\u001b[0;34m\u001b[0m\u001b[0;34m\u001b[0m\u001b[0m\n\u001b[1;32m    562\u001b[0m                 \u001b[0mbatch\u001b[0m \u001b[0;34m=\u001b[0m \u001b[0m_utils\u001b[0m\u001b[0;34m.\u001b[0m\u001b[0mpin_memory\u001b[0m\u001b[0;34m.\u001b[0m\u001b[0mpin_memory_batch\u001b[0m\u001b[0;34m(\u001b[0m\u001b[0mbatch\u001b[0m\u001b[0;34m)\u001b[0m\u001b[0;34m\u001b[0m\u001b[0;34m\u001b[0m\u001b[0m\n",
      "\u001b[0;32m<ipython-input-39-25210cc7ea0e>\u001b[0m in \u001b[0;36m__getitem__\u001b[0;34m(self, idx)\u001b[0m\n\u001b[1;32m      7\u001b[0m         \u001b[0;32mreturn\u001b[0m \u001b[0mself\u001b[0m\u001b[0;34m.\u001b[0m\u001b[0mdfX\u001b[0m\u001b[0;34m.\u001b[0m\u001b[0mshape\u001b[0m\u001b[0;34m[\u001b[0m\u001b[0;36m0\u001b[0m\u001b[0;34m]\u001b[0m\u001b[0;34m\u001b[0m\u001b[0;34m\u001b[0m\u001b[0m\n\u001b[1;32m      8\u001b[0m \u001b[0;34m\u001b[0m\u001b[0m\n\u001b[0;32m----> 9\u001b[0;31m     \u001b[0;32mdef\u001b[0m \u001b[0m__getitem__\u001b[0m \u001b[0;34m(\u001b[0m\u001b[0mself\u001b[0m\u001b[0;34m,\u001b[0m \u001b[0midx\u001b[0m\u001b[0;34m)\u001b[0m\u001b[0;34m:\u001b[0m\u001b[0;34m\u001b[0m\u001b[0;34m\u001b[0m\u001b[0m\n\u001b[0m\u001b[1;32m     10\u001b[0m         \u001b[0;32mreturn\u001b[0m \u001b[0mtorch\u001b[0m\u001b[0;34m.\u001b[0m\u001b[0mFloatTensor\u001b[0m\u001b[0;34m(\u001b[0m\u001b[0mself\u001b[0m\u001b[0;34m.\u001b[0m\u001b[0mdfX\u001b[0m\u001b[0;34m.\u001b[0m\u001b[0miloc\u001b[0m\u001b[0;34m[\u001b[0m\u001b[0midx\u001b[0m\u001b[0;34m]\u001b[0m\u001b[0;34m.\u001b[0m\u001b[0mvalues\u001b[0m\u001b[0;34m)\u001b[0m\u001b[0;34m,\u001b[0m\u001b[0mtorch\u001b[0m\u001b[0;34m.\u001b[0m\u001b[0mFloatTensor\u001b[0m\u001b[0;34m(\u001b[0m\u001b[0;34m[\u001b[0m\u001b[0mself\u001b[0m\u001b[0;34m.\u001b[0m\u001b[0mdfY\u001b[0m\u001b[0;34m.\u001b[0m\u001b[0mvalues\u001b[0m\u001b[0;34m[\u001b[0m\u001b[0midx\u001b[0m\u001b[0;34m]\u001b[0m\u001b[0;34m]\u001b[0m\u001b[0;34m)\u001b[0m\u001b[0;34m\u001b[0m\u001b[0;34m\u001b[0m\u001b[0m\n",
      "\u001b[0;31mKeyboardInterrupt\u001b[0m: "
     ]
    }
   ],
   "source": [
    "learner.run_epochs(dltrain,dlvalid,34)"
   ]
  },
  {
   "cell_type": "code",
   "execution_count": 91,
   "metadata": {},
   "outputs": [],
   "source": [
    "optimizer=torch.optim.Adam(cfobj.parameters(),lr=7e-3,betas=(0.9,0.999), weight_decay=wd)\n",
    "learner=Learner(cfobj,optimizer,None,device,0,4000,0.25,cycle_mult=3,start_lr=7e-3,end_lr=5e-4,error_type=\"mse\")"
   ]
  },
  {
   "cell_type": "code",
   "execution_count": 79,
   "metadata": {},
   "outputs": [
    {
     "name": "stdout",
     "output_type": "stream",
     "text": [
      "Batch:4000 0.7589641367346048  \n",
      "Batch:8000 0.7571632760427892  \n",
      "Batch:12000 0.7582903443252047  \n",
      "Epoch:0 Learning rate 0.0005 Weight Decay 1e-06 Train Loss:0.757888773687954                 Valid Loss:0.7645808913276048 Train RMSE:0.8664677383832871 Valid RMSE:0.87025126801757 Train MSE:0.757888773687954 Valid MSE:0.7645808913276048                 Train MAE:0.6829513034846999 Valid MAE:0.6842402270110235\n",
      "Epoch:0 Learning rate 0.0005 Weight Decay 1e-06 Train Loss:0.757888773687954                 Valid Loss:0.7645808913276048 Train RMSE:0.8664677383832871 Valid RMSE:0.87025126801757 Train MSE:0.757888773687954 Valid MSE:0.7645808913276048                 Train MAE:0.6829513034846999 Valid MAE:0.6842402270110235\n",
      "Batch:4000 0.8245237660706043  \n",
      "Batch:8000 0.8330039078891277  \n",
      "Batch:12000 0.8364907086764772  \n",
      "Epoch:1 Learning rate 0.007 Weight Decay 1e-06 Train Loss:0.8378658421188233                 Valid Loss:0.8286903804109711 Train RMSE:0.9112475754560234 Valid RMSE:0.9067535381525427 Train MSE:0.8378658421188233 Valid MSE:0.8286903804109711                 Train MAE:0.7246407032368889 Valid MAE:0.7269839677037295\n",
      "Epoch:1 Learning rate 0.007 Weight Decay 1e-06 Train Loss:0.8378658421188233                 Valid Loss:0.8286903804109711 Train RMSE:0.9112475754560234 Valid RMSE:0.9067535381525427 Train MSE:0.8378658421188233 Valid MSE:0.8286903804109711                 Train MAE:0.7246407032368889 Valid MAE:0.7269839677037295\n",
      "Batch:4000 0.8190562771782279  \n",
      "Batch:8000 0.82165993418172  \n",
      "Batch:12000 0.8217853987539808  \n",
      "Epoch:2 Learning rate 0.005033059163560604 Weight Decay 1e-06 Train Loss:0.8224992658278181                 Valid Loss:0.800687390188338 Train RMSE:0.9027470770111283 Valid RMSE:0.8907339172057157 Train MSE:0.8224992658278181 Valid MSE:0.800687390188338                 Train MAE:0.7168181970870191 Valid MAE:0.7099372754475282\n",
      "Epoch:2 Learning rate 0.005033059163560604 Weight Decay 1e-06 Train Loss:0.8224992658278181                 Valid Loss:0.800687390188338 Train RMSE:0.9027470770111283 Valid RMSE:0.8907339172057157 Train MSE:0.8224992658278181 Valid MSE:0.800687390188338                 Train MAE:0.7168181970870191 Valid MAE:0.7099372754475282\n",
      "Batch:4000 0.8007312377542257  \n",
      "Batch:8000 0.8023310234136879  \n",
      "Batch:12000 0.8033931124781569  \n",
      "Epoch:3 Learning rate 0.0036188120777001947 Weight Decay 1e-06 Train Loss:0.8050907482471877                 Valid Loss:0.7813434040248965 Train RMSE:0.8930917542890577 Valid RMSE:0.8796526996711973 Train MSE:0.8050907482471877 Valid MSE:0.7813434040248965                 Train MAE:0.7079805121001623 Valid MAE:0.6915951407992985\n",
      "Epoch:3 Learning rate 0.0036188120777001947 Weight Decay 1e-06 Train Loss:0.8050907482471877                 Valid Loss:0.7813434040248965 Train RMSE:0.8930917542890577 Valid RMSE:0.8796526996711973 Train MSE:0.8050907482471877 Valid MSE:0.7813434040248965                 Train MAE:0.7079805121001623 Valid MAE:0.6915951407992985\n",
      "Batch:4000 0.7855970681533218  \n",
      "Batch:8000 0.7877384416460991  \n",
      "Batch:12000 0.7889178554465374  \n",
      "Epoch:4 Learning rate 0.0026019564698389645 Weight Decay 1e-06 Train Loss:0.7902517067399588                 Valid Loss:0.7800292020528956 Train RMSE:0.8849315026327529 Valid RMSE:0.8790395115978757 Train MSE:0.7902517067399588 Valid MSE:0.7800292020528956                 Train MAE:0.7003809614823415 Valid MAE:0.6923112673440653\n",
      "Epoch:4 Learning rate 0.0026019564698389645 Weight Decay 1e-06 Train Loss:0.7902517067399588                 Valid Loss:0.7800292020528956 Train RMSE:0.8849315026327529 Valid RMSE:0.8790395115978757 Train MSE:0.7902517067399588 Valid MSE:0.7800292020528956                 Train MAE:0.7003809614823415 Valid MAE:0.6923112673440653\n",
      "Batch:4000 0.7704936995357275  \n",
      "Batch:8000 0.7759152236543596  \n",
      "Batch:12000 0.7777014537180463  \n",
      "Epoch:5 Learning rate 0.0018708286933869713 Weight Decay 1e-06 Train Loss:0.7788906918596818                 Valid Loss:0.7701023886467658 Train RMSE:0.8784134180222315 Valid RMSE:0.8731637356698084 Train MSE:0.7788906918596818 Valid MSE:0.7701023886467658                 Train MAE:0.6939565296106482 Valid MAE:0.6853292634375798\n",
      "Epoch:5 Learning rate 0.0018708286933869713 Weight Decay 1e-06 Train Loss:0.7788906918596818                 Valid Loss:0.7701023886467658 Train RMSE:0.8784134180222315 Valid RMSE:0.8731637356698084 Train MSE:0.7788906918596818 Valid MSE:0.7701023886467658                 Train MAE:0.6939565296106482 Valid MAE:0.6853292634375798\n",
      "Batch:4000 0.759620402418077  \n",
      "Batch:8000 0.7651491972059011  \n",
      "Batch:12000 0.7677654532243808  \n",
      "Epoch:6 Learning rate 0.0013451416426719153 Weight Decay 1e-06 Train Loss:0.7681245964222302                 Valid Loss:0.7681882545228044 Train RMSE:0.8722113920043207 Valid RMSE:0.8720919007424937 Train MSE:0.7681245964222302 Valid MSE:0.7681882545228044                 Train MAE:0.6882693515501235 Valid MAE:0.6850143704785038\n",
      "Epoch:6 Learning rate 0.0013451416426719153 Weight Decay 1e-06 Train Loss:0.7681245964222302                 Valid Loss:0.7681882545228044 Train RMSE:0.8722113920043207 Valid RMSE:0.8720919007424937 Train MSE:0.7681245964222302 Valid MSE:0.7681882545228044                 Train MAE:0.6882693515501235 Valid MAE:0.6850143704785038\n"
     ]
    }
   ],
   "source": [
    "learner.run_epochs(dltrain,dlvalid,7)"
   ]
  },
  {
   "cell_type": "code",
   "execution_count": 82,
   "metadata": {},
   "outputs": [],
   "source": [
    "wd=1e-7\n",
    "optimizer=torch.optim.Adam(cfobj.parameters(),lr=7e-3,betas=(0.9,0.999), weight_decay=wd)\n",
    "learner=Learner(cfobj,optimizer,None,device,0,4000,0.25,cycle_mult=2,start_lr=7e-3,end_lr=5e-4,error_type=\"mse\")"
   ]
  },
  {
   "cell_type": "code",
   "execution_count": 83,
   "metadata": {},
   "outputs": [
    {
     "name": "stdout",
     "output_type": "stream",
     "text": [
      "Batch:4000 0.8521015138998628  \n",
      "Batch:8000 0.8511567603945732  \n",
      "Batch:12000 0.8500934970453382  \n",
      "Epoch:0 Learning rate 0.007 Weight Decay 1e-07 Train Loss:0.8494464754274351                 Valid Loss:0.8367525936317077 Train RMSE:0.9175105304091589 Valid RMSE:0.9112201843895492 Train MSE:0.8494464754274351 Valid MSE:0.8367525936317077                 Train MAE:0.7299445106356713 Valid MAE:0.7351048301979279\n",
      "Epoch:0 Learning rate 0.007 Weight Decay 1e-07 Train Loss:0.8494464754274351                 Valid Loss:0.8367525936317077 Train RMSE:0.9175105304091589 Valid RMSE:0.9112201843895492 Train MSE:0.8494464754274351 Valid MSE:0.8367525936317077                 Train MAE:0.7299445106356713 Valid MAE:0.7351048301979279\n",
      "Batch:4000 0.795286576718092  \n",
      "Batch:8000 0.7928518238961697  \n",
      "Batch:12000 0.7918042563249668  \n",
      "Epoch:1 Learning rate 0.0018708286933869708 Weight Decay 1e-07 Train Loss:0.7911140111530723                 Valid Loss:0.7781120661314832 Train RMSE:0.8854427259818367 Valid RMSE:0.8781483870015568 Train MSE:0.7911140111530723 Valid MSE:0.7781120661314832                 Train MAE:0.7011576616058949 Valid MAE:0.700783106354819\n",
      "Epoch:1 Learning rate 0.0018708286933869708 Weight Decay 1e-07 Train Loss:0.7911140111530723                 Valid Loss:0.7781120661314832 Train RMSE:0.8854427259818367 Valid RMSE:0.8781483870015568 Train MSE:0.7911140111530723 Valid MSE:0.7781120661314832                 Train MAE:0.7011576616058949 Valid MAE:0.700783106354819\n",
      "Batch:4000 0.7648766231536865  \n",
      "Batch:8000 0.7634730383865536  \n",
      "Batch:12000 0.7639728125780821  \n",
      "Epoch:2 Learning rate 0.0005 Weight Decay 1e-07 Train Loss:0.7639740780896387                 Valid Loss:0.768574238548047 Train RMSE:0.8699460578994495 Valid RMSE:0.8720458820606644 Train MSE:0.7639740780896387 Valid MSE:0.768574238548047                 Train MAE:0.6866093000820042 Valid MAE:0.6847856771045973\n",
      "Epoch:2 Learning rate 0.0005 Weight Decay 1e-07 Train Loss:0.7639740780896387                 Valid Loss:0.768574238548047 Train RMSE:0.8699460578994495 Valid RMSE:0.8720458820606644 Train MSE:0.7639740780896387 Valid MSE:0.768574238548047                 Train MAE:0.6866093000820042 Valid MAE:0.6847856771045973\n",
      "Batch:4000 0.8091021249592304  \n",
      "Batch:8000 0.8181976143456996  \n",
      "Batch:12000 0.8223035064140956  \n",
      "Epoch:3 Learning rate 0.007 Weight Decay 1e-07 Train Loss:0.8242090968315825                 Valid Loss:0.8133244547833255 Train RMSE:0.9036881526425463 Valid RMSE:0.8974188971890926 Train MSE:0.8242090968315825 Valid MSE:0.8133244547833255                 Train MAE:0.7173585115837776 Valid MAE:0.7051289692111147\n",
      "Epoch:3 Learning rate 0.007 Weight Decay 1e-07 Train Loss:0.8242090968315825                 Valid Loss:0.8133244547833255 Train RMSE:0.9036881526425463 Valid RMSE:0.8974188971890926 Train MSE:0.8242090968315825 Valid MSE:0.8133244547833255                 Train MAE:0.7173585115837776 Valid MAE:0.7051289692111147\n",
      "Batch:4000 0.7931109379306436  \n",
      "Batch:8000 0.7939131739549339  \n",
      "Batch:12000 0.7936220247521997  \n",
      "Epoch:4 Learning rate 0.0036188120777001943 Weight Decay 1e-07 Train Loss:0.792808056540854                 Valid Loss:0.774311149322445 Train RMSE:0.8861908821608543 Valid RMSE:0.8758207390450738 Train MSE:0.792808056540854 Valid MSE:0.774311149322445                 Train MAE:0.70136444385447 Valid MAE:0.6924773269331158\n",
      "Epoch:4 Learning rate 0.0036188120777001943 Weight Decay 1e-07 Train Loss:0.792808056540854                 Valid Loss:0.774311149322445 Train RMSE:0.8861908821608543 Valid RMSE:0.8758207390450738 Train MSE:0.792808056540854 Valid MSE:0.774311149322445                 Train MAE:0.70136444385447 Valid MAE:0.6924773269331158\n",
      "Batch:4000 0.768262727022171  \n",
      "Batch:8000 0.766574114587158  \n",
      "Batch:12000 0.7670989114120602  \n",
      "Epoch:5 Learning rate 0.0018708286933869708 Weight Decay 1e-07 Train Loss:0.7685158008954001                 Valid Loss:0.7674540944268745 Train RMSE:0.8724391391761411 Valid RMSE:0.8715473059765894 Train MSE:0.7685158008954001 Valid MSE:0.7674540944268745                 Train MAE:0.6885394552121643 Valid MAE:0.6837210863428244\n",
      "Epoch:5 Learning rate 0.0018708286933869708 Weight Decay 1e-07 Train Loss:0.7685158008954001                 Valid Loss:0.7674540944268745 Train RMSE:0.8724391391761411 Valid RMSE:0.8715473059765894 Train MSE:0.7685158008954001 Valid MSE:0.7674540944268745                 Train MAE:0.6885394552121643 Valid MAE:0.6837210863428244\n",
      "Batch:4000 0.7502428099140525  \n",
      "Batch:8000 0.7510711599253118  \n",
      "Batch:12000 0.7525453613996506  \n",
      "Epoch:6 Learning rate 0.0009671682101338347 Weight Decay 1e-07 Train Loss:0.7534662112032182                 Valid Loss:0.767632348943199 Train RMSE:0.8638806600671857 Valid RMSE:0.8724049313573526 Train MSE:0.7534662112032182 Valid MSE:0.767632348943199                 Train MAE:0.680418371883036 Valid MAE:0.6904346798370835\n",
      "Epoch:6 Learning rate 0.0009671682101338347 Weight Decay 1e-07 Train Loss:0.7534662112032182                 Valid Loss:0.767632348943199 Train RMSE:0.8638806600671857 Valid RMSE:0.8724049313573526 Train MSE:0.7534662112032182 Valid MSE:0.767632348943199                 Train MAE:0.680418371883036 Valid MAE:0.6904346798370835\n"
     ]
    }
   ],
   "source": [
    "learner.run_epochs(dltrain,dlvalid,7)"
   ]
  },
  {
   "cell_type": "code",
   "execution_count": null,
   "metadata": {},
   "outputs": [],
   "source": []
  }
 ],
 "metadata": {
  "kernelspec": {
   "display_name": "Python 3",
   "language": "python",
   "name": "python3"
  },
  "language_info": {
   "codemirror_mode": {
    "name": "ipython",
    "version": 3
   },
   "file_extension": ".py",
   "mimetype": "text/x-python",
   "name": "python",
   "nbconvert_exporter": "python",
   "pygments_lexer": "ipython3",
   "version": "3.7.3"
  }
 },
 "nbformat": 4,
 "nbformat_minor": 2
}
