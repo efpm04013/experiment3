{
 "cells": [
  {
   "cell_type": "code",
   "execution_count": 1,
   "metadata": {},
   "outputs": [],
   "source": [
    "PATH='/home/kirana/Documents/phd/exp3_autoencoder'\n",
    "DATAPATH='/home/kirana/Documents/final_dissertation_final/experiments/datasets/ml-1m'"
   ]
  },
  {
   "cell_type": "code",
   "execution_count": 2,
   "metadata": {},
   "outputs": [],
   "source": [
    "import pandas as pd\n",
    "import numpy as np\n",
    "import os\n",
    "import datetime\n",
    "import sklearn\n",
    "import torch\n",
    "import pickle\n",
    "import matplotlib.pyplot as plt\n",
    "from torch.utils.data import Dataset, DataLoader\n",
    "from torch import nn"
   ]
  },
  {
   "cell_type": "code",
   "execution_count": 3,
   "metadata": {},
   "outputs": [],
   "source": [
    "[df, df_train,df_valid,df,df_ratings,idx_to_user,\\\n",
    "             idx_to_movie,movie_to_idx,user_to_idx]=pickle.load(open(f'{DATAPATH}/reads.pkl','rb'))"
   ]
  },
  {
   "cell_type": "markdown",
   "metadata": {},
   "source": [
    "## Dataset and DataLoader"
   ]
  },
  {
   "cell_type": "code",
   "execution_count": 4,
   "metadata": {},
   "outputs": [
    {
     "data": {
      "text/plain": [
       "((6041, 3707), (6041, 3707))"
      ]
     },
     "execution_count": 4,
     "metadata": {},
     "output_type": "execute_result"
    }
   ],
   "source": [
    "df_train.shape,df_valid.shape"
   ]
  },
  {
   "cell_type": "code",
   "execution_count": 5,
   "metadata": {},
   "outputs": [
    {
     "data": {
      "text/plain": [
       "<1x3707 sparse matrix of type '<class 'numpy.int64'>'\n",
       "\twith 95 stored elements in Compressed Sparse Row format>"
      ]
     },
     "execution_count": 5,
     "metadata": {},
     "output_type": "execute_result"
    }
   ],
   "source": [
    "df_train[1]"
   ]
  },
  {
   "cell_type": "code",
   "execution_count": 6,
   "metadata": {},
   "outputs": [
    {
     "data": {
      "text/plain": [
       "(1, 3707)"
      ]
     },
     "execution_count": 6,
     "metadata": {},
     "output_type": "execute_result"
    }
   ],
   "source": [
    "df_train[1].todense().shape"
   ]
  },
  {
   "cell_type": "code",
   "execution_count": 7,
   "metadata": {},
   "outputs": [
    {
     "data": {
      "text/plain": [
       "(3707,)"
      ]
     },
     "execution_count": 7,
     "metadata": {},
     "output_type": "execute_result"
    }
   ],
   "source": [
    "df_train[1].todense().getA1().shape"
   ]
  },
  {
   "cell_type": "code",
   "execution_count": 8,
   "metadata": {},
   "outputs": [],
   "source": [
    "class autoencdata (Dataset):\n",
    "    def __init__(self,dfX,dfXv):\n",
    "        self.dfX,self.dfXv=dfX,dfXv\n",
    "        \n",
    "    def __len__ (self):\n",
    "        return self.dfX.shape[0]\n",
    "    \n",
    "    def __getitem__ (self, idx):\n",
    "        return torch.FloatTensor(self.dfX[idx].todense().getA1()),torch.FloatTensor(self.dfXv[idx].todense().getA1())"
   ]
  },
  {
   "cell_type": "code",
   "execution_count": 9,
   "metadata": {},
   "outputs": [],
   "source": [
    "dstrain=autoencdata(df_train, df_valid)\n",
    "#dsvalid=autoencdata(df_valid)"
   ]
  },
  {
   "cell_type": "code",
   "execution_count": 81,
   "metadata": {},
   "outputs": [],
   "source": [
    "bs=32"
   ]
  },
  {
   "cell_type": "code",
   "execution_count": 82,
   "metadata": {},
   "outputs": [],
   "source": [
    "# Create a DataLoader object\n",
    "dltrain=DataLoader(dstrain,batch_size=bs,shuffle=True)\n",
    "#dlvalid=DataLoader(dsvalid,batch_size=bs,shuffle=False) "
   ]
  },
  {
   "cell_type": "code",
   "execution_count": 18,
   "metadata": {},
   "outputs": [
    {
     "data": {
      "text/plain": [
       "(0, 5)"
      ]
     },
     "execution_count": 18,
     "metadata": {},
     "output_type": "execute_result"
    }
   ],
   "source": [
    "df_train.min(),df_train.max()"
   ]
  },
  {
   "cell_type": "code",
   "execution_count": 19,
   "metadata": {},
   "outputs": [
    {
     "data": {
      "text/plain": [
       "(6041, 3707)"
      ]
     },
     "execution_count": 19,
     "metadata": {},
     "output_type": "execute_result"
    }
   ],
   "source": [
    "df_train.shape"
   ]
  },
  {
   "cell_type": "code",
   "execution_count": 20,
   "metadata": {},
   "outputs": [
    {
     "data": {
      "text/plain": [
       "189"
      ]
     },
     "execution_count": 20,
     "metadata": {},
     "output_type": "execute_result"
    }
   ],
   "source": [
    "len(dltrain)"
   ]
  },
  {
   "cell_type": "code",
   "execution_count": 21,
   "metadata": {},
   "outputs": [
    {
     "data": {
      "text/plain": [
       "(6041, 3707)"
      ]
     },
     "execution_count": 21,
     "metadata": {},
     "output_type": "execute_result"
    }
   ],
   "source": [
    "df_train.shape"
   ]
  },
  {
   "cell_type": "code",
   "execution_count": 22,
   "metadata": {},
   "outputs": [],
   "source": [
    "# 6041 users"
   ]
  },
  {
   "cell_type": "markdown",
   "metadata": {},
   "source": [
    "## Create the Model Architecture for the Encoder"
   ]
  },
  {
   "cell_type": "code",
   "execution_count": 92,
   "metadata": {},
   "outputs": [],
   "source": [
    "def hidden_layer(x,y,dropout,activation=nn.Sigmoid()):\n",
    "    return nn.Sequential(\n",
    "        nn.Linear(x, y),\n",
    "        activation,\n",
    "        nn.Dropout(p=dropout),\n",
    "        nn.BatchNorm1d(y)\n",
    "        )   "
   ]
  },
  {
   "cell_type": "code",
   "execution_count": 93,
   "metadata": {},
   "outputs": [],
   "source": [
    "class autoencoder (nn.Module):    \n",
    "    def __init__(self,n_inp=9724,hidden=[50,10],dropouts=[0,0,0],rating_range=[0.5,5]):\n",
    "        super().__init__()\n",
    "        self.n_inp,self.hidden,self.dropouts,self.rating_range=n_inp,hidden,dropouts,rating_range\n",
    "        encoder=[hidden_layer(n_inp if i==0 else hidden[i-1],hidden[i],dropouts[i],\\\n",
    "                              nn.Sigmoid() if i<len(hidden)-1 else nn.Sigmoid()) for i in range(len(hidden))]\n",
    "        self.encoder=nn.Sequential(*encoder)\n",
    "        hidden=hidden[::-1]\n",
    "        num_steps=len(hidden)-1\n",
    "        dropouts=dropouts[num_steps:]\n",
    "        decoder=[hidden_layer(hidden[i],hidden[i+1] if i<len(hidden)-1 else n_inp,dropouts[i]) for i in range(len(hidden)-1)]\n",
    "        self.decoder=nn.Sequential(*decoder)\n",
    "        self.fc=nn.Linear(hidden[-1],n_inp)\n",
    "        self.initialize()\n",
    "        self.criterion=nn.MSELoss()\n",
    "    \n",
    "    def initialize(self):\n",
    "        for x in self.encoder:\n",
    "            nn.init.kaiming_normal_(x[0].weight.data)\n",
    "        for x in self.decoder:\n",
    "            nn.init.kaiming_normal_(x[0].weight.data)\n",
    "\n",
    "    def forward (self,Xb):\n",
    "        encoded=self.encoder(Xb)\n",
    "        decoded=self.decoder(encoded)\n",
    "        out=self.fc(decoded)\n",
    "        outv=out.clone()\n",
    "        out[Xb==0]=0\n",
    "        loss=self.criterion(out,Xb)\n",
    "        return outv,loss, out"
   ]
  },
  {
   "cell_type": "code",
   "execution_count": 94,
   "metadata": {},
   "outputs": [],
   "source": [
    "n_final_user=10 # 3 for IMDB"
   ]
  },
  {
   "cell_type": "code",
   "execution_count": 95,
   "metadata": {},
   "outputs": [],
   "source": [
    "autoenc=autoencoder(df_train.shape[1],[25,n_final_user],[0.2,0.2,0.2])"
   ]
  },
  {
   "cell_type": "code",
   "execution_count": 96,
   "metadata": {},
   "outputs": [
    {
     "data": {
      "text/plain": [
       "autoencoder(\n",
       "  (encoder): Sequential(\n",
       "    (0): Sequential(\n",
       "      (0): Linear(in_features=3707, out_features=25, bias=True)\n",
       "      (1): Sigmoid()\n",
       "      (2): Dropout(p=0.2)\n",
       "      (3): BatchNorm1d(25, eps=1e-05, momentum=0.1, affine=True, track_running_stats=True)\n",
       "    )\n",
       "    (1): Sequential(\n",
       "      (0): Linear(in_features=25, out_features=10, bias=True)\n",
       "      (1): Sigmoid()\n",
       "      (2): Dropout(p=0.2)\n",
       "      (3): BatchNorm1d(10, eps=1e-05, momentum=0.1, affine=True, track_running_stats=True)\n",
       "    )\n",
       "  )\n",
       "  (decoder): Sequential(\n",
       "    (0): Sequential(\n",
       "      (0): Linear(in_features=10, out_features=25, bias=True)\n",
       "      (1): Sigmoid()\n",
       "      (2): Dropout(p=0.2)\n",
       "      (3): BatchNorm1d(25, eps=1e-05, momentum=0.1, affine=True, track_running_stats=True)\n",
       "    )\n",
       "  )\n",
       "  (fc): Linear(in_features=25, out_features=3707, bias=True)\n",
       "  (criterion): MSELoss()\n",
       ")"
      ]
     },
     "execution_count": 96,
     "metadata": {},
     "output_type": "execute_result"
    }
   ],
   "source": [
    "autoenc"
   ]
  },
  {
   "cell_type": "code",
   "execution_count": 34,
   "metadata": {},
   "outputs": [
    {
     "name": "stdout",
     "output_type": "stream",
     "text": [
      "tensor([[0., 0., 0.,  ..., 0., 0., 0.],\n",
      "        [0., 0., 0.,  ..., 0., 0., 0.],\n",
      "        [0., 0., 0.,  ..., 0., 0., 0.],\n",
      "        ...,\n",
      "        [0., 0., 5.,  ..., 0., 0., 0.],\n",
      "        [0., 0., 0.,  ..., 0., 0., 0.],\n",
      "        [0., 0., 4.,  ..., 0., 0., 0.]])\n"
     ]
    }
   ],
   "source": [
    "for Xb,Xb_v in dltrain:\n",
    "    print (Xb)\n",
    "    break"
   ]
  },
  {
   "cell_type": "code",
   "execution_count": 35,
   "metadata": {},
   "outputs": [
    {
     "data": {
      "text/plain": [
       "torch.Size([32, 3707])"
      ]
     },
     "execution_count": 35,
     "metadata": {},
     "output_type": "execute_result"
    }
   ],
   "source": [
    "Xb.size()"
   ]
  },
  {
   "cell_type": "code",
   "execution_count": 36,
   "metadata": {},
   "outputs": [
    {
     "data": {
      "text/plain": [
       "tensor([[0., 0., 0.,  ..., 0., 0., 0.],\n",
       "        [0., 0., 0.,  ..., 0., 0., 0.],\n",
       "        [0., 0., 0.,  ..., 0., 0., 0.],\n",
       "        ...,\n",
       "        [0., 0., 5.,  ..., 0., 0., 0.],\n",
       "        [0., 0., 0.,  ..., 0., 0., 0.],\n",
       "        [0., 0., 4.,  ..., 0., 0., 0.]])"
      ]
     },
     "execution_count": 36,
     "metadata": {},
     "output_type": "execute_result"
    }
   ],
   "source": [
    "Xb.squeeze(0)"
   ]
  },
  {
   "cell_type": "code",
   "execution_count": 37,
   "metadata": {},
   "outputs": [],
   "source": [
    "preds,loss,_=autoenc.forward(Xb)"
   ]
  },
  {
   "cell_type": "code",
   "execution_count": 38,
   "metadata": {},
   "outputs": [],
   "source": [
    "loss.backward()"
   ]
  },
  {
   "cell_type": "code",
   "execution_count": 39,
   "metadata": {},
   "outputs": [
    {
     "data": {
      "text/plain": [
       "torch.Size([32, 3707])"
      ]
     },
     "execution_count": 39,
     "metadata": {},
     "output_type": "execute_result"
    }
   ],
   "source": [
    "preds.size()"
   ]
  },
  {
   "cell_type": "code",
   "execution_count": 40,
   "metadata": {},
   "outputs": [
    {
     "data": {
      "text/plain": [
       "torch.nn.modules.loss.MSELoss"
      ]
     },
     "execution_count": 40,
     "metadata": {},
     "output_type": "execute_result"
    }
   ],
   "source": [
    "nn.MSELoss"
   ]
  },
  {
   "cell_type": "code",
   "execution_count": 41,
   "metadata": {},
   "outputs": [],
   "source": [
    "device=\"cuda:1\""
   ]
  },
  {
   "cell_type": "code",
   "execution_count": 42,
   "metadata": {},
   "outputs": [],
   "source": [
    "wd=1e-7\n",
    "#wd=1e-1"
   ]
  },
  {
   "cell_type": "code",
   "execution_count": 43,
   "metadata": {},
   "outputs": [],
   "source": [
    "optimizer=torch.optim.Adam(autoenc.parameters(),lr=5e-3,betas=(0.9,0.999), weight_decay=wd)\n",
    "#optimizer=torch.optim.SGD(model_sentiment.parameters(),lr=1e-2,momentum=0.9, weight_decay=wd)\n",
    "metric_fn=None"
   ]
  },
  {
   "cell_type": "code",
   "execution_count": 44,
   "metadata": {},
   "outputs": [
    {
     "data": {
      "text/plain": [
       "189"
      ]
     },
     "execution_count": 44,
     "metadata": {},
     "output_type": "execute_result"
    }
   ],
   "source": [
    "len(dltrain)"
   ]
  },
  {
   "cell_type": "code",
   "execution_count": 45,
   "metadata": {},
   "outputs": [],
   "source": [
    "import matplotlib.pyplot as plt"
   ]
  },
  {
   "cell_type": "code",
   "execution_count": 46,
   "metadata": {},
   "outputs": [
    {
     "data": {
      "text/plain": [
       "32"
      ]
     },
     "execution_count": 46,
     "metadata": {},
     "output_type": "execute_result"
    }
   ],
   "source": [
    "dltrain.batch_size"
   ]
  },
  {
   "cell_type": "code",
   "execution_count": 47,
   "metadata": {},
   "outputs": [],
   "source": [
    "class Learner():\n",
    "    def __init__(self,model,optimizer,metric_fn,device,bptt=12,print_every=5,clip_val=None,\\\n",
    "                 cycle_mult=0,lr_decay=0.7,wd_mult=6,start_lr=2e-2, end_lr=5e-4):\n",
    "        self.model,self.optimizer,self.metric_fn,self.device,self.print_every,self.bptt,self.losses,self.clip_val=\\\n",
    "            model,optimizer,metric_fn,device,print_every,bptt,[],clip_val\n",
    "        self.n_epochs=1\n",
    "        self.cycle_mult,self.lr_decay=cycle_mult,lr_decay\n",
    "        self.wd_mult=wd_mult\n",
    "        for param_group in self.optimizer.param_groups:\n",
    "            self.start_lr=param_group['lr']\n",
    "            self.start_wd=param_group['weight_decay']\n",
    "        self.wd=self.start_wd\n",
    "        self.lr=self.start_lr\n",
    "        self.end_lr=end_lr\n",
    "        self.n_epoch=0\n",
    "        self.lrs=[1e-2,5e-3,1e-4,5e-4]\n",
    "        self.preds,self.preds_valid,self.trainY,self.actual=[],[],[],[]\n",
    "        self.ratio=self.end_lr/self.start_lr\n",
    "        self.num_steps=self.cycle_mult\n",
    "        self.reset_cycle=self.cycle_mult\n",
    "        \n",
    "    def fit (self,Xb,Xb_v,mode_train=True):\n",
    "        if mode_train:\n",
    "            self.model.train()\n",
    "        else:\n",
    "            self.model.eval()\n",
    "        \n",
    "        #import pdb\n",
    "        #pdb.set_trace()\n",
    "        preds,loss,preds_train=self.model(Xb)\n",
    "        # denominator is the average of the error with non-zero ratings\n",
    "\n",
    "        mean_corrector = Xb.size(0)*Xb.size(1)/(torch.sum(Xb > 0).float() + 1e-10)\n",
    "        mean_corrector_v = Xb_v.size(0)*Xb_v.size(1)/(torch.sum(Xb_v > 0).float() + 1e-10)\n",
    "\n",
    "        with torch.no_grad():\n",
    "            \n",
    "            preds[Xb_v==0]=0\n",
    "            loss_v=self.model.criterion(preds,Xb_v)\n",
    "            \n",
    "            if self.metric_fn is not None:\n",
    "                acc=self.metric_fn(preds,Yb.view(-1),self.device)\n",
    "                acc=acc.item()\n",
    "\n",
    "                if 1==0:\n",
    "                    if mode_train:\n",
    "                        self.trainY.append(Yb.view(-1))\n",
    "                        self.preds.append(preds.data)\n",
    "                    else:\n",
    "                        self.actual.append(Yb.view(-1))\n",
    "                        self.preds_valid.append(preds.data)\n",
    "            else:\n",
    "                acc=0\n",
    "                acc_v=0\n",
    "            del preds\n",
    "        \n",
    "        if mode_train:\n",
    "            if 1==0:\n",
    "                lr =self.lrs[torch.randint(0,4,(1,))]\n",
    "                for param_group in self.optimizer.param_groups:\n",
    "                    param_group['lr']=lr\n",
    "            \n",
    "            self.optimizer.zero_grad()\n",
    "            loss.backward()\n",
    "            self.optimizer.step()\n",
    "        myloss=torch.sqrt(loss.item()*mean_corrector)\n",
    "        myloss_v=torch.sqrt(loss_v.item()*mean_corrector_v)\n",
    "        del loss\n",
    "        \n",
    "        if self.clip_val is not None:\n",
    "            torch.nn.utils.clip_grad_norm_(self.model.parameters(), self.clip_val)\n",
    "        \n",
    "        return myloss, acc,myloss_v,acc_v\n",
    "    \n",
    "    def lr_find (self,start_lr,end_lr,iterator,n_batch):\n",
    "        losses,lrs=[],[]\n",
    "        ratio=end_lr/start_lr\n",
    "        num_steps=n_batch\n",
    "        lr=start_lr\n",
    "        for i in range(num_steps):            \n",
    "            lr=lr*(end_lr/start_lr)**(1/num_steps)\n",
    "            lrs.append(lr)\n",
    "        self.lrs=lrs\n",
    "        self.run_epoch(iterator,mode_train=True,lrs=lrs)\n",
    "    \n",
    "    def run_epoch(self,iterator,mode_train,lrs=None):\n",
    "        epoch_loss,epoch_acc,i,k=0,0,0,0\n",
    "        epoch_loss_v,epoch_acc_v=0,0\n",
    "\n",
    "        for Xb,Xb_v in iterator:\n",
    "            Xb=Xb.to(self.device)\n",
    "            Xb_v=Xb_v.to(self.device)\n",
    "            #Xb=Xb.squeeze(0)\n",
    "            if lrs is not None:\n",
    "                lr=lrs[k]\n",
    "                for param_group in self.optimizer.param_groups:\n",
    "                    param_group['lr']=lr \n",
    "            \n",
    "\n",
    "            loss,acc,loss_v,acc_v=self.fit(Xb,Xb_v,mode_train)\n",
    "            \n",
    "            if lrs is not None:\n",
    "                self.losses.append(loss)\n",
    "            \n",
    "            epoch_loss+=loss\n",
    "            epoch_acc+=acc\n",
    "            epoch_loss_v+=loss_v\n",
    "            epoch_acc_v+=acc_v\n",
    "            \n",
    "            k=k+1\n",
    "            if k%self.print_every == 0:\n",
    "                if k:\n",
    "                    print (f'Batch:{k} {epoch_loss/(k)} {epoch_loss_v/(k)} ')  \n",
    "                    torch.cuda.empty_cache()\n",
    "        epoch_loss=epoch_loss/len(iterator)\n",
    "        epoch_acc=epoch_acc/len(iterator)\n",
    "        epoch_loss_v=epoch_loss_v/len(iterator)\n",
    "        epoch_acc_v=epoch_acc_v/len(iterator)\n",
    "            \n",
    "        return epoch_loss,epoch_acc,epoch_loss_v,epoch_acc_v\n",
    "    \n",
    "    def plot_lrs(self, n_roll=1,ylim=None,xlim=None):\n",
    "        import seaborn as sns\n",
    "        ax=sns.lineplot(x=self.lrs,y=pd.Series(self.losses).rolling(n_roll).mean())\n",
    "        ax.set_xscale('log')\n",
    "        ax.set_ylabel('Loss')\n",
    "        ax.set_xlabel('Learning Rate')\n",
    "        if ylim is not None:\n",
    "            plt.ylim(ylim)\n",
    "        if xlim is not None:\n",
    "            plt.xlim(xlim)\n",
    "\n",
    "     \n",
    "    def run_epochs(self,dltrain,dlvalid,n_epochs=1):\n",
    "        \n",
    "        \n",
    "            \n",
    "        \n",
    "        for epoch in range(n_epochs):                \n",
    "\n",
    "            loss,acc,lossv,accv=self.run_epoch(dltrain,True)\n",
    "            print (f'Epoch:{epoch} Learning rate {self.lr} Weight Decay {self.wd} Train Loss:{loss}  Valid Loss:{lossv} ')\n",
    "  \n",
    "            if self.cycle_mult:\n",
    "                if self.n_epoch==self.reset_cycle:\n",
    "                    self.lr=self.start_lr\n",
    "                    #self.wd=self.start_wd\n",
    "                    self.reset_cycle*=self.cycle_mult\n",
    "                    #reset_cycle=self.n_epoch+reset_cycle\n",
    "                    self.n_epoch=0\n",
    "                    self.ratio=self.end_lr/self.start_lr\n",
    "                    self.num_steps=self.reset_cycle\n",
    "                else:\n",
    "                    #self.lr*=(self.lr_decay**self.n_epoch)  \n",
    "                    #if self.n_epoch>1:\n",
    "                    #    self.wd*=self.wd_mult\n",
    "                    self.lr=self.lr*(self.end_lr/self.start_lr)**(1/self.num_steps)\n",
    "                    self.n_epoch+=1\n",
    "        \n",
    "\n",
    "                \n",
    "            for param_group in self.optimizer.param_groups:\n",
    "                param_group['lr']=self.lr\n",
    "                #param_group['weight_decay']=self.wd\n",
    "          \n",
    "     "
   ]
  },
  {
   "cell_type": "code",
   "execution_count": 51,
   "metadata": {},
   "outputs": [],
   "source": [
    "autoenc=autoencoder(df_train.shape[1],[n_final_user*4,n_final_user],[0.2,0.2,0.2]).to(device)\n",
    "optimizer=torch.optim.Adam(autoenc.parameters(),lr=5e-3,betas=(0.9,0.999), weight_decay=wd)"
   ]
  },
  {
   "cell_type": "code",
   "execution_count": 52,
   "metadata": {},
   "outputs": [],
   "source": [
    "learner=Learner(autoenc,optimizer,None,device,0,500,0.25,cycle_mult=0)"
   ]
  },
  {
   "cell_type": "code",
   "execution_count": 53,
   "metadata": {},
   "outputs": [
    {
     "data": {
      "text/plain": [
       "autoencoder(\n",
       "  (encoder): Sequential(\n",
       "    (0): Sequential(\n",
       "      (0): Linear(in_features=3707, out_features=40, bias=True)\n",
       "      (1): Sigmoid()\n",
       "      (2): Dropout(p=0.2)\n",
       "    )\n",
       "    (1): Sequential(\n",
       "      (0): Linear(in_features=40, out_features=10, bias=True)\n",
       "      (1): Tanh()\n",
       "      (2): Dropout(p=0.2)\n",
       "    )\n",
       "  )\n",
       "  (decoder): Sequential(\n",
       "    (0): Sequential(\n",
       "      (0): Linear(in_features=10, out_features=40, bias=True)\n",
       "      (1): Sigmoid()\n",
       "      (2): Dropout(p=0.2)\n",
       "    )\n",
       "  )\n",
       "  (fc): Linear(in_features=40, out_features=3707, bias=True)\n",
       "  (criterion): MSELoss()\n",
       ")"
      ]
     },
     "execution_count": 53,
     "metadata": {},
     "output_type": "execute_result"
    }
   ],
   "source": [
    "autoenc"
   ]
  },
  {
   "cell_type": "code",
   "execution_count": 54,
   "metadata": {},
   "outputs": [
    {
     "data": {
      "text/plain": [
       "(189, 32)"
      ]
     },
     "execution_count": 54,
     "metadata": {},
     "output_type": "execute_result"
    }
   ],
   "source": [
    "len(dltrain),dltrain.batch_size"
   ]
  },
  {
   "cell_type": "code",
   "execution_count": 55,
   "metadata": {},
   "outputs": [],
   "source": [
    "learner.lr_find(1e-4,3e-1,dltrain,len(dltrain))"
   ]
  },
  {
   "cell_type": "code",
   "execution_count": 56,
   "metadata": {},
   "outputs": [
    {
     "data": {
      "image/png": "[encoded data removed]",
      "text/plain": [
       "<Figure size 432x288 with 1 Axes>"
      ]
     },
     "metadata": {
      "needs_background": "light"
     },
     "output_type": "display_data"
    }
   ],
   "source": [
    "learner.plot_lrs(10)"
   ]
  },
  {
   "cell_type": "code",
   "execution_count": 57,
   "metadata": {},
   "outputs": [
    {
     "data": {
      "image/png": "[encoded data removed]",
      "text/plain": [
       "<Figure size 432x288 with 1 Axes>"
      ]
     },
     "metadata": {
      "needs_background": "light"
     },
     "output_type": "display_data"
    }
   ],
   "source": [
    "learner.plot_lrs(1)"
   ]
  },
  {
   "cell_type": "code",
   "execution_count": 58,
   "metadata": {},
   "outputs": [],
   "source": [
    "del autoenc\n",
    "torch.cuda.empty_cache()"
   ]
  },
  {
   "cell_type": "code",
   "execution_count": 59,
   "metadata": {},
   "outputs": [
    {
     "data": {
      "text/plain": [
       "10"
      ]
     },
     "execution_count": 59,
     "metadata": {},
     "output_type": "execute_result"
    }
   ],
   "source": [
    "n_final_user"
   ]
  },
  {
   "cell_type": "code",
   "execution_count": 60,
   "metadata": {},
   "outputs": [],
   "source": [
    "#autoenc=autoencoder(df_train.shape[1],[n_final_user*4,n_final_user],[0,0,0])"
   ]
  },
  {
   "cell_type": "code",
   "execution_count": 97,
   "metadata": {},
   "outputs": [],
   "source": [
    "autoenc=autoencoder(df_train.shape[1],[n_final_user*4,n_final_user],[0.2,0.2,0.2]).to(device)\n",
    "wd=1e-7\n",
    "optimizer=torch.optim.Adam(autoenc.parameters(),lr=7e-3,betas=(0.9,0.999), weight_decay=wd)\n",
    "learner=Learner(autoenc,optimizer,None,device,0,1000,0.25,cycle_mult=0,start_lr=1e-1,end_lr=5e-2)"
   ]
  },
  {
   "cell_type": "code",
   "execution_count": 98,
   "metadata": {},
   "outputs": [
    {
     "name": "stdout",
     "output_type": "stream",
     "text": [
      "Epoch:0 Learning rate 0.007 Weight Decay 1e-07 Train Loss:1.5444715023040771  Valid Loss:1.5543502569198608 \n",
      "Epoch:1 Learning rate 0.007 Weight Decay 1e-07 Train Loss:1.002166986465454  Valid Loss:1.0008893013000488 \n",
      "Epoch:2 Learning rate 0.007 Weight Decay 1e-07 Train Loss:0.995646059513092  Valid Loss:0.9936838746070862 \n",
      "Epoch:3 Learning rate 0.007 Weight Decay 1e-07 Train Loss:0.9930841326713562  Valid Loss:0.9919650554656982 \n",
      "Epoch:4 Learning rate 0.007 Weight Decay 1e-07 Train Loss:0.9934859871864319  Valid Loss:0.9937412738800049 \n"
     ]
    }
   ],
   "source": [
    "learner.run_epochs(dltrain,None,5)"
   ]
  },
  {
   "cell_type": "code",
   "execution_count": 99,
   "metadata": {},
   "outputs": [],
   "source": [
    "optimizer=torch.optim.Adam(autoenc.parameters(),lr=7e-3,betas=(0.9,0.999), weight_decay=wd)\n",
    "learner=Learner(autoenc,optimizer,None,device,0,1000,0.25,cycle_mult=2,start_lr=7e-3,end_lr=5e-4)"
   ]
  },
  {
   "cell_type": "code",
   "execution_count": 100,
   "metadata": {},
   "outputs": [
    {
     "name": "stdout",
     "output_type": "stream",
     "text": [
      "Epoch:0 Learning rate 0.007 Weight Decay 1e-07 Train Loss:0.9950498938560486  Valid Loss:0.9957966208457947 \n",
      "Epoch:1 Learning rate 0.0018708286933869708 Weight Decay 1e-07 Train Loss:0.9738324284553528  Valid Loss:0.9736164808273315 \n",
      "Epoch:2 Learning rate 0.0005 Weight Decay 1e-07 Train Loss:0.9653900265693665  Valid Loss:0.9686646461486816 \n",
      "Epoch:3 Learning rate 0.007 Weight Decay 1e-07 Train Loss:0.9845552444458008  Valid Loss:0.9840047955513 \n",
      "Epoch:4 Learning rate 0.0036188120777001943 Weight Decay 1e-07 Train Loss:0.971570611000061  Valid Loss:0.9718353748321533 \n",
      "Epoch:5 Learning rate 0.0018708286933869708 Weight Decay 1e-07 Train Loss:0.9648833870887756  Valid Loss:0.9669659733772278 \n",
      "Epoch:6 Learning rate 0.0009671682101338347 Weight Decay 1e-07 Train Loss:0.9583854675292969  Valid Loss:0.960496723651886 \n",
      "Epoch:7 Learning rate 0.0005 Weight Decay 1e-07 Train Loss:0.955618143081665  Valid Loss:0.9593086838722229 \n",
      "Epoch:8 Learning rate 0.007 Weight Decay 1e-07 Train Loss:0.9768717885017395  Valid Loss:0.979600727558136 \n",
      "Epoch:9 Learning rate 0.005033059163560604 Weight Decay 1e-07 Train Loss:0.9716797471046448  Valid Loss:0.9741731286048889 \n",
      "Epoch:10 Learning rate 0.0036188120777001947 Weight Decay 1e-07 Train Loss:0.967258095741272  Valid Loss:0.9707670211791992 \n",
      "Epoch:11 Learning rate 0.0026019564698389645 Weight Decay 1e-07 Train Loss:0.9601240754127502  Valid Loss:0.9642851948738098 \n",
      "Epoch:12 Learning rate 0.0018708286933869713 Weight Decay 1e-07 Train Loss:0.958983838558197  Valid Loss:0.962540864944458 \n",
      "Epoch:13 Learning rate 0.0013451416426719153 Weight Decay 1e-07 Train Loss:0.9553169012069702  Valid Loss:0.959757924079895 \n",
      "Epoch:14 Learning rate 0.0009671682101338352 Weight Decay 1e-07 Train Loss:0.9521965384483337  Valid Loss:0.9578724503517151 \n"
     ]
    }
   ],
   "source": [
    "learner.run_epochs(dltrain,None,15)"
   ]
  },
  {
   "cell_type": "code",
   "execution_count": 101,
   "metadata": {},
   "outputs": [
    {
     "name": "stdout",
     "output_type": "stream",
     "text": [
      "Epoch:0 Learning rate 0.0006954021175312295 Weight Decay 1e-07 Train Loss:0.9510655999183655  Valid Loss:0.9563114047050476 \n",
      "Epoch:1 Learning rate 0.0005000000000000003 Weight Decay 1e-07 Train Loss:0.9497909545898438  Valid Loss:0.9562686085700989 \n",
      "Epoch:2 Learning rate 0.007 Weight Decay 1e-07 Train Loss:0.9678131341934204  Valid Loss:0.9699851870536804 \n",
      "Epoch:3 Learning rate 0.005935605625791206 Weight Decay 1e-07 Train Loss:0.9679036140441895  Valid Loss:0.9703188538551331 \n",
      "Epoch:4 Learning rate 0.005033059163560603 Weight Decay 1e-07 Train Loss:0.967369794845581  Valid Loss:0.9692065119743347 \n",
      "Epoch:5 Learning rate 0.004267750612310043 Weight Decay 1e-07 Train Loss:0.9617438316345215  Valid Loss:0.9637300968170166 \n",
      "Epoch:6 Learning rate 0.003618812077700194 Weight Decay 1e-07 Train Loss:0.9609230756759644  Valid Loss:0.9661747813224792 \n",
      "Epoch:7 Learning rate 0.003068548761011205 Weight Decay 1e-07 Train Loss:0.9561874866485596  Valid Loss:0.9591677784919739 \n",
      "Epoch:8 Learning rate 0.0026019564698389636 Weight Decay 1e-07 Train Loss:0.9513413906097412  Valid Loss:0.956397533416748 \n",
      "Epoch:9 Learning rate 0.002206312494348569 Weight Decay 1e-07 Train Loss:0.9507523775100708  Valid Loss:0.9571990966796875 \n",
      "Epoch:10 Learning rate 0.0018708286933869706 Weight Decay 1e-07 Train Loss:0.9507262706756592  Valid Loss:0.9572409391403198 \n",
      "Epoch:11 Learning rate 0.0015863573310513307 Weight Decay 1e-07 Train Loss:0.9491783380508423  Valid Loss:0.9551645517349243 \n",
      "Epoch:12 Learning rate 0.0013451416426719146 Weight Decay 1e-07 Train Loss:0.9463028907775879  Valid Loss:0.951578676700592 \n",
      "Epoch:13 Learning rate 0.0011406043288184917 Weight Decay 1e-07 Train Loss:0.9448341131210327  Valid Loss:0.9520015716552734 \n",
      "Epoch:14 Learning rate 0.0009671682101338346 Weight Decay 1e-07 Train Loss:0.9450798034667969  Valid Loss:0.9524363875389099 \n",
      "Epoch:15 Learning rate 0.0008201041527366858 Weight Decay 1e-07 Train Loss:0.9416588544845581  Valid Loss:0.9496319890022278 \n",
      "Epoch:16 Learning rate 0.000695402117531229 Weight Decay 1e-07 Train Loss:0.9424443244934082  Valid Loss:0.950609028339386 \n",
      "Epoch:17 Learning rate 0.0005896618172864973 Weight Decay 1e-07 Train Loss:0.9377139806747437  Valid Loss:0.946109414100647 \n",
      "Epoch:18 Learning rate 0.0004999999999999999 Weight Decay 1e-07 Train Loss:0.9374174475669861  Valid Loss:0.9464771151542664 \n",
      "Epoch:19 Learning rate 0.007 Weight Decay 1e-07 Train Loss:0.9647363424301147  Valid Loss:0.9683544635772705 \n",
      "Epoch:20 Learning rate 0.006445869947535278 Weight Decay 1e-07 Train Loss:0.9662199020385742  Valid Loss:0.970503032207489 \n",
      "Epoch:21 Learning rate 0.005935605625791206 Weight Decay 1e-07 Train Loss:0.9582632184028625  Valid Loss:0.9638202786445618 \n",
      "Epoch:22 Learning rate 0.005465734560529837 Weight Decay 1e-07 Train Loss:0.9575657844543457  Valid Loss:0.9619963765144348 \n",
      "Epoch:23 Learning rate 0.005033059163560602 Weight Decay 1e-07 Train Loss:0.9550501704216003  Valid Loss:0.959784984588623 \n",
      "Epoch:24 Learning rate 0.0046346349723660465 Weight Decay 1e-07 Train Loss:0.9540025591850281  Valid Loss:0.9603061079978943 \n",
      "Epoch:25 Learning rate 0.004267750612310042 Weight Decay 1e-07 Train Loss:0.9519986510276794  Valid Loss:0.9572826027870178 \n",
      "Epoch:26 Learning rate 0.003929909345066368 Weight Decay 1e-07 Train Loss:0.9487646818161011  Valid Loss:0.9551556706428528 \n",
      "Epoch:27 Learning rate 0.0036188120777001925 Weight Decay 1e-07 Train Loss:0.9489915370941162  Valid Loss:0.9552575945854187 \n",
      "Epoch:28 Learning rate 0.003332341716775053 Weight Decay 1e-07 Train Loss:0.9466882944107056  Valid Loss:0.9546893835067749 \n",
      "Epoch:29 Learning rate 0.0030685487610112036 Weight Decay 1e-07 Train Loss:0.9443261623382568  Valid Loss:0.9518623948097229 \n",
      "Epoch:30 Learning rate 0.002825638034449818 Weight Decay 1e-07 Train Loss:0.9408944249153137  Valid Loss:0.9490034580230713 \n"
     ]
    }
   ],
   "source": [
    "learner.run_epochs(dltrain,None,31)"
   ]
  },
  {
   "cell_type": "code",
   "execution_count": 103,
   "metadata": {},
   "outputs": [
    {
     "name": "stdout",
     "output_type": "stream",
     "text": [
      "Epoch:0 Learning rate 0.001 Weight Decay 1e-07 Train Loss:0.9431902766227722  Valid Loss:0.952446460723877 \n",
      "Epoch:1 Learning rate 0.001 Weight Decay 1e-07 Train Loss:0.9365893006324768  Valid Loss:0.9474843740463257 \n",
      "Epoch:2 Learning rate 0.001 Weight Decay 1e-07 Train Loss:0.934906542301178  Valid Loss:0.9458240270614624 \n",
      "Epoch:3 Learning rate 0.001 Weight Decay 1e-07 Train Loss:0.9338083863258362  Valid Loss:0.9437755942344666 \n",
      "Epoch:4 Learning rate 0.001 Weight Decay 1e-07 Train Loss:0.9319905638694763  Valid Loss:0.9444485306739807 \n",
      "Epoch:5 Learning rate 0.001 Weight Decay 1e-07 Train Loss:0.9281965494155884  Valid Loss:0.9406331181526184 \n",
      "Epoch:6 Learning rate 0.001 Weight Decay 1e-07 Train Loss:0.927833080291748  Valid Loss:0.9388197064399719 \n",
      "Epoch:7 Learning rate 0.001 Weight Decay 1e-07 Train Loss:0.9300311803817749  Valid Loss:0.9409380555152893 \n",
      "Epoch:8 Learning rate 0.001 Weight Decay 1e-07 Train Loss:0.9262545108795166  Valid Loss:0.9402275681495667 \n",
      "Epoch:9 Learning rate 0.001 Weight Decay 1e-07 Train Loss:0.928620457649231  Valid Loss:0.9412751197814941 \n",
      "Epoch:10 Learning rate 0.001 Weight Decay 1e-07 Train Loss:0.9246418476104736  Valid Loss:0.9362256526947021 \n",
      "Epoch:11 Learning rate 0.001 Weight Decay 1e-07 Train Loss:0.9269962906837463  Valid Loss:0.9403133988380432 \n",
      "Epoch:12 Learning rate 0.001 Weight Decay 1e-07 Train Loss:0.9241676926612854  Valid Loss:0.9374616146087646 \n",
      "Epoch:13 Learning rate 0.001 Weight Decay 1e-07 Train Loss:0.9224355816841125  Valid Loss:0.9361529350280762 \n",
      "Epoch:14 Learning rate 0.001 Weight Decay 1e-07 Train Loss:0.9222636818885803  Valid Loss:0.9351399540901184 \n",
      "Epoch:15 Learning rate 0.001 Weight Decay 1e-07 Train Loss:0.9237077832221985  Valid Loss:0.9381808638572693 \n",
      "Epoch:16 Learning rate 0.001 Weight Decay 1e-07 Train Loss:0.9241113662719727  Valid Loss:0.9374433755874634 \n",
      "Epoch:17 Learning rate 0.001 Weight Decay 1e-07 Train Loss:0.9215826392173767  Valid Loss:0.935041069984436 \n",
      "Epoch:18 Learning rate 0.001 Weight Decay 1e-07 Train Loss:0.9214653372764587  Valid Loss:0.9363003373146057 \n",
      "Epoch:19 Learning rate 0.001 Weight Decay 1e-07 Train Loss:0.9198381304740906  Valid Loss:0.9337903261184692 \n",
      "Epoch:20 Learning rate 0.001 Weight Decay 1e-07 Train Loss:0.9192540049552917  Valid Loss:0.9321796894073486 \n",
      "Epoch:21 Learning rate 0.001 Weight Decay 1e-07 Train Loss:0.918315052986145  Valid Loss:0.933958888053894 \n",
      "Epoch:22 Learning rate 0.001 Weight Decay 1e-07 Train Loss:0.917314350605011  Valid Loss:0.9333019256591797 \n",
      "Epoch:23 Learning rate 0.001 Weight Decay 1e-07 Train Loss:0.9181917309761047  Valid Loss:0.9329001903533936 \n",
      "Epoch:24 Learning rate 0.001 Weight Decay 1e-07 Train Loss:0.9190579056739807  Valid Loss:0.9348559379577637 \n",
      "Epoch:25 Learning rate 0.001 Weight Decay 1e-07 Train Loss:0.9163161516189575  Valid Loss:0.9327476024627686 \n",
      "Epoch:26 Learning rate 0.001 Weight Decay 1e-07 Train Loss:0.9149879813194275  Valid Loss:0.9291052222251892 \n",
      "Epoch:27 Learning rate 0.001 Weight Decay 1e-07 Train Loss:0.9168253540992737  Valid Loss:0.9321165084838867 \n",
      "Epoch:28 Learning rate 0.001 Weight Decay 1e-07 Train Loss:0.9139019846916199  Valid Loss:0.929658055305481 \n",
      "Epoch:29 Learning rate 0.001 Weight Decay 1e-07 Train Loss:0.9125166535377502  Valid Loss:0.9282936453819275 \n",
      "Epoch:30 Learning rate 0.001 Weight Decay 1e-07 Train Loss:0.9124282598495483  Valid Loss:0.9307752847671509 \n"
     ]
    }
   ],
   "source": [
    "optimizer=torch.optim.Adam(autoenc.parameters(),lr=1e-3,betas=(0.9,0.999), weight_decay=wd)\n",
    "learner=Learner(autoenc,optimizer,None,device,0,1000,0.25,cycle_mult=0,start_lr=1e-1,end_lr=5e-2)\n",
    "learner.run_epochs(dltrain,None,31)"
   ]
  },
  {
   "cell_type": "code",
   "execution_count": 104,
   "metadata": {},
   "outputs": [
    {
     "name": "stdout",
     "output_type": "stream",
     "text": [
      "Epoch:0 Learning rate 0.001 Weight Decay 1e-06 Train Loss:0.9153982400894165  Valid Loss:0.9308962225914001 \n",
      "Epoch:1 Learning rate 0.001 Weight Decay 1e-06 Train Loss:0.9140071868896484  Valid Loss:0.9305980205535889 \n",
      "Epoch:2 Learning rate 0.001 Weight Decay 1e-06 Train Loss:0.9147056937217712  Valid Loss:0.9299253225326538 \n",
      "Epoch:3 Learning rate 0.001 Weight Decay 1e-06 Train Loss:0.9146891236305237  Valid Loss:0.9302049875259399 \n",
      "Epoch:4 Learning rate 0.001 Weight Decay 1e-06 Train Loss:0.913002610206604  Valid Loss:0.9288424253463745 \n",
      "Epoch:5 Learning rate 0.001 Weight Decay 1e-06 Train Loss:0.9135340452194214  Valid Loss:0.9283024072647095 \n",
      "Epoch:6 Learning rate 0.001 Weight Decay 1e-06 Train Loss:0.9130706787109375  Valid Loss:0.9293491244316101 \n",
      "Epoch:7 Learning rate 0.001 Weight Decay 1e-06 Train Loss:0.9131229519844055  Valid Loss:0.9297102093696594 \n",
      "Epoch:8 Learning rate 0.001 Weight Decay 1e-06 Train Loss:0.9122061729431152  Valid Loss:0.9282559156417847 \n",
      "Epoch:9 Learning rate 0.001 Weight Decay 1e-06 Train Loss:0.9117133617401123  Valid Loss:0.9273900985717773 \n",
      "Epoch:10 Learning rate 0.001 Weight Decay 1e-06 Train Loss:0.9137289524078369  Valid Loss:0.9297609329223633 \n",
      "Epoch:11 Learning rate 0.001 Weight Decay 1e-06 Train Loss:0.9110565185546875  Valid Loss:0.926171600818634 \n",
      "Epoch:12 Learning rate 0.001 Weight Decay 1e-06 Train Loss:0.9130322933197021  Valid Loss:0.9288447499275208 \n",
      "Epoch:13 Learning rate 0.001 Weight Decay 1e-06 Train Loss:0.9122596979141235  Valid Loss:0.9273991584777832 \n",
      "Epoch:14 Learning rate 0.001 Weight Decay 1e-06 Train Loss:0.9128934144973755  Valid Loss:0.9288520216941833 \n",
      "Epoch:15 Learning rate 0.001 Weight Decay 1e-06 Train Loss:0.9136032462120056  Valid Loss:0.9288490414619446 \n",
      "Epoch:16 Learning rate 0.001 Weight Decay 1e-06 Train Loss:0.9088056087493896  Valid Loss:0.9217606782913208 \n",
      "Epoch:17 Learning rate 0.001 Weight Decay 1e-06 Train Loss:0.9097679853439331  Valid Loss:0.9245319962501526 \n",
      "Epoch:18 Learning rate 0.001 Weight Decay 1e-06 Train Loss:0.9093044996261597  Valid Loss:0.9246109127998352 \n",
      "Epoch:19 Learning rate 0.001 Weight Decay 1e-06 Train Loss:0.9098809957504272  Valid Loss:0.9251683950424194 \n",
      "Epoch:20 Learning rate 0.001 Weight Decay 1e-06 Train Loss:0.9070664644241333  Valid Loss:0.9222778081893921 \n",
      "Epoch:21 Learning rate 0.001 Weight Decay 1e-06 Train Loss:0.9083812832832336  Valid Loss:0.924340546131134 \n",
      "Epoch:22 Learning rate 0.001 Weight Decay 1e-06 Train Loss:0.9072530269622803  Valid Loss:0.9224819540977478 \n",
      "Epoch:23 Learning rate 0.001 Weight Decay 1e-06 Train Loss:0.9072640538215637  Valid Loss:0.9242957830429077 \n",
      "Epoch:24 Learning rate 0.001 Weight Decay 1e-06 Train Loss:0.908643364906311  Valid Loss:0.9242017865180969 \n",
      "Epoch:25 Learning rate 0.001 Weight Decay 1e-06 Train Loss:0.9044616222381592  Valid Loss:0.919769287109375 \n",
      "Epoch:26 Learning rate 0.001 Weight Decay 1e-06 Train Loss:0.9050942659378052  Valid Loss:0.920662522315979 \n",
      "Epoch:27 Learning rate 0.001 Weight Decay 1e-06 Train Loss:0.9062338471412659  Valid Loss:0.9228624105453491 \n",
      "Epoch:28 Learning rate 0.001 Weight Decay 1e-06 Train Loss:0.9054678082466125  Valid Loss:0.9215344190597534 \n",
      "Epoch:29 Learning rate 0.001 Weight Decay 1e-06 Train Loss:0.907202422618866  Valid Loss:0.9238505959510803 \n",
      "Epoch:30 Learning rate 0.001 Weight Decay 1e-06 Train Loss:0.9051908254623413  Valid Loss:0.9220010638237 \n"
     ]
    }
   ],
   "source": [
    "optimizer=torch.optim.Adam(autoenc.parameters(),lr=1e-3,betas=(0.9,0.999), weight_decay=1e-6)\n",
    "learner=Learner(autoenc,optimizer,None,device,0,1000,0.25,cycle_mult=0,start_lr=1e-1,end_lr=5e-2)\n",
    "learner.run_epochs(dltrain,None,31)"
   ]
  },
  {
   "cell_type": "code",
   "execution_count": 106,
   "metadata": {},
   "outputs": [
    {
     "name": "stdout",
     "output_type": "stream",
     "text": [
      "Epoch:0 Learning rate 0.001 Weight Decay 1e-06 Train Loss:0.917055070400238  Valid Loss:0.9278200268745422 \n",
      "Epoch:1 Learning rate 0.001 Weight Decay 1e-06 Train Loss:0.9119176864624023  Valid Loss:0.9232094883918762 \n",
      "Epoch:2 Learning rate 0.001 Weight Decay 1e-06 Train Loss:0.9112654328346252  Valid Loss:0.922114908695221 \n",
      "Epoch:3 Learning rate 0.001 Weight Decay 1e-06 Train Loss:0.9109389185905457  Valid Loss:0.9235572218894958 \n",
      "Epoch:4 Learning rate 0.001 Weight Decay 1e-06 Train Loss:0.9103987216949463  Valid Loss:0.9232545495033264 \n",
      "Epoch:5 Learning rate 0.001 Weight Decay 1e-06 Train Loss:0.9056656956672668  Valid Loss:0.9183350205421448 \n",
      "Epoch:6 Learning rate 0.001 Weight Decay 1e-06 Train Loss:0.9061340093612671  Valid Loss:0.9198451638221741 \n",
      "Epoch:7 Learning rate 0.001 Weight Decay 1e-06 Train Loss:0.9060786366462708  Valid Loss:0.9210558533668518 \n",
      "Epoch:8 Learning rate 0.001 Weight Decay 1e-06 Train Loss:0.9032335877418518  Valid Loss:0.9155929684638977 \n",
      "Epoch:9 Learning rate 0.001 Weight Decay 1e-06 Train Loss:0.9045836925506592  Valid Loss:0.9179216623306274 \n",
      "Epoch:10 Learning rate 0.001 Weight Decay 1e-06 Train Loss:0.9022050499916077  Valid Loss:0.9164303541183472 \n",
      "Epoch:11 Learning rate 0.001 Weight Decay 1e-06 Train Loss:0.9049230813980103  Valid Loss:0.9189628958702087 \n",
      "Epoch:12 Learning rate 0.001 Weight Decay 1e-06 Train Loss:0.9049310088157654  Valid Loss:0.9196341037750244 \n",
      "Epoch:13 Learning rate 0.001 Weight Decay 1e-06 Train Loss:0.9029020071029663  Valid Loss:0.9177064299583435 \n",
      "Epoch:14 Learning rate 0.001 Weight Decay 1e-06 Train Loss:0.8992434144020081  Valid Loss:0.9154347777366638 \n",
      "Epoch:15 Learning rate 0.001 Weight Decay 1e-06 Train Loss:0.9002657532691956  Valid Loss:0.9164158701896667 \n",
      "Epoch:16 Learning rate 0.001 Weight Decay 1e-06 Train Loss:0.8981285095214844  Valid Loss:0.9141682982444763 \n",
      "Epoch:17 Learning rate 0.001 Weight Decay 1e-06 Train Loss:0.8998580574989319  Valid Loss:0.9151825904846191 \n",
      "Epoch:18 Learning rate 0.001 Weight Decay 1e-06 Train Loss:0.8958187699317932  Valid Loss:0.9120003581047058 \n",
      "Epoch:19 Learning rate 0.001 Weight Decay 1e-06 Train Loss:0.9001188278198242  Valid Loss:0.9165908098220825 \n",
      "Epoch:20 Learning rate 0.001 Weight Decay 1e-06 Train Loss:0.8986364603042603  Valid Loss:0.9156107306480408 \n",
      "Epoch:21 Learning rate 0.001 Weight Decay 1e-06 Train Loss:0.8964515924453735  Valid Loss:0.9119899272918701 \n",
      "Epoch:22 Learning rate 0.001 Weight Decay 1e-06 Train Loss:0.8972855806350708  Valid Loss:0.9143189787864685 \n",
      "Epoch:23 Learning rate 0.001 Weight Decay 1e-06 Train Loss:0.8943192362785339  Valid Loss:0.9128122925758362 \n",
      "Epoch:24 Learning rate 0.001 Weight Decay 1e-06 Train Loss:0.8959283232688904  Valid Loss:0.9126508235931396 \n",
      "Epoch:25 Learning rate 0.001 Weight Decay 1e-06 Train Loss:0.8952004909515381  Valid Loss:0.9116678237915039 \n",
      "Epoch:26 Learning rate 0.001 Weight Decay 1e-06 Train Loss:0.896473228931427  Valid Loss:0.9143642783164978 \n",
      "Epoch:27 Learning rate 0.001 Weight Decay 1e-06 Train Loss:0.8945231437683105  Valid Loss:0.9104066491127014 \n",
      "Epoch:28 Learning rate 0.001 Weight Decay 1e-06 Train Loss:0.8937444090843201  Valid Loss:0.9118208885192871 \n",
      "Epoch:29 Learning rate 0.001 Weight Decay 1e-06 Train Loss:0.8932659029960632  Valid Loss:0.9137946963310242 \n",
      "Epoch:30 Learning rate 0.001 Weight Decay 1e-06 Train Loss:0.8910592198371887  Valid Loss:0.910490870475769 \n",
      "Epoch:31 Learning rate 0.001 Weight Decay 1e-06 Train Loss:0.8944703340530396  Valid Loss:0.9123837351799011 \n",
      "Epoch:32 Learning rate 0.001 Weight Decay 1e-06 Train Loss:0.8941125273704529  Valid Loss:0.9143288731575012 \n",
      "Epoch:33 Learning rate 0.001 Weight Decay 1e-06 Train Loss:0.8939207196235657  Valid Loss:0.9122085571289062 \n",
      "Epoch:34 Learning rate 0.001 Weight Decay 1e-06 Train Loss:0.8925817012786865  Valid Loss:0.9122132658958435 \n",
      "Epoch:35 Learning rate 0.001 Weight Decay 1e-06 Train Loss:0.8970043063163757  Valid Loss:0.914537250995636 \n",
      "Epoch:36 Learning rate 0.001 Weight Decay 1e-06 Train Loss:0.8929020166397095  Valid Loss:0.9131842255592346 \n",
      "Epoch:37 Learning rate 0.001 Weight Decay 1e-06 Train Loss:0.8937053084373474  Valid Loss:0.9117209315299988 \n",
      "Epoch:38 Learning rate 0.001 Weight Decay 1e-06 Train Loss:0.890903890132904  Valid Loss:0.9080582857131958 \n",
      "Epoch:39 Learning rate 0.001 Weight Decay 1e-06 Train Loss:0.8929484486579895  Valid Loss:0.9119323492050171 \n",
      "Epoch:40 Learning rate 0.001 Weight Decay 1e-06 Train Loss:0.8927624225616455  Valid Loss:0.9098324775695801 \n",
      "Epoch:41 Learning rate 0.001 Weight Decay 1e-06 Train Loss:0.8896625638008118  Valid Loss:0.9079926013946533 \n",
      "Epoch:42 Learning rate 0.001 Weight Decay 1e-06 Train Loss:0.8905444145202637  Valid Loss:0.9101157188415527 \n",
      "Epoch:43 Learning rate 0.001 Weight Decay 1e-06 Train Loss:0.8905534148216248  Valid Loss:0.911086916923523 \n",
      "Epoch:44 Learning rate 0.001 Weight Decay 1e-06 Train Loss:0.8915182948112488  Valid Loss:0.9100626707077026 \n",
      "Epoch:45 Learning rate 0.001 Weight Decay 1e-06 Train Loss:0.8910865187644958  Valid Loss:0.9103895425796509 \n",
      "Epoch:46 Learning rate 0.001 Weight Decay 1e-06 Train Loss:0.888498842716217  Valid Loss:0.9094150066375732 \n",
      "Epoch:47 Learning rate 0.001 Weight Decay 1e-06 Train Loss:0.8893481492996216  Valid Loss:0.9092868566513062 \n",
      "Epoch:48 Learning rate 0.001 Weight Decay 1e-06 Train Loss:0.890127956867218  Valid Loss:0.9110299348831177 \n",
      "Epoch:49 Learning rate 0.001 Weight Decay 1e-06 Train Loss:0.890607476234436  Valid Loss:0.9093050956726074 \n",
      "Epoch:50 Learning rate 0.001 Weight Decay 1e-06 Train Loss:0.8908580541610718  Valid Loss:0.9120479226112366 \n",
      "Epoch:51 Learning rate 0.001 Weight Decay 1e-06 Train Loss:0.8901843428611755  Valid Loss:0.9105990529060364 \n",
      "Epoch:52 Learning rate 0.001 Weight Decay 1e-06 Train Loss:0.8908423781394958  Valid Loss:0.9114270806312561 \n",
      "Epoch:53 Learning rate 0.001 Weight Decay 1e-06 Train Loss:0.8894708156585693  Valid Loss:0.9106741547584534 \n",
      "Epoch:54 Learning rate 0.001 Weight Decay 1e-06 Train Loss:0.8890611529350281  Valid Loss:0.9096256494522095 \n",
      "Epoch:55 Learning rate 0.001 Weight Decay 1e-06 Train Loss:0.8898345232009888  Valid Loss:0.9096754789352417 \n",
      "Epoch:56 Learning rate 0.001 Weight Decay 1e-06 Train Loss:0.8878468871116638  Valid Loss:0.9083833694458008 \n",
      "Epoch:57 Learning rate 0.001 Weight Decay 1e-06 Train Loss:0.8867153525352478  Valid Loss:0.9063445329666138 \n",
      "Epoch:58 Learning rate 0.001 Weight Decay 1e-06 Train Loss:0.8890811800956726  Valid Loss:0.9095504879951477 \n",
      "Epoch:59 Learning rate 0.001 Weight Decay 1e-06 Train Loss:0.8878005743026733  Valid Loss:0.9089025259017944 \n",
      "Epoch:60 Learning rate 0.001 Weight Decay 1e-06 Train Loss:0.889435350894928  Valid Loss:0.9107412099838257 \n",
      "Epoch:61 Learning rate 0.001 Weight Decay 1e-06 Train Loss:0.8902033567428589  Valid Loss:0.9105721712112427 \n",
      "Epoch:62 Learning rate 0.001 Weight Decay 1e-06 Train Loss:0.8898285031318665  Valid Loss:0.911163866519928 \n",
      "Epoch:63 Learning rate 0.001 Weight Decay 1e-06 Train Loss:0.8870139122009277  Valid Loss:0.9094294309616089 \n"
     ]
    }
   ],
   "source": [
    "optimizer=torch.optim.Adam(autoenc.parameters(),lr=1e-3,betas=(0.9,0.999), weight_decay=1e-6)\n",
    "learner=Learner(autoenc,optimizer,None,device,0,1000,0.25,cycle_mult=0,start_lr=1e-1,end_lr=5e-2)\n",
    "learner.run_epochs(dltrain,None,64)"
   ]
  },
  {
   "cell_type": "code",
   "execution_count": 107,
   "metadata": {},
   "outputs": [
    {
     "name": "stdout",
     "output_type": "stream",
     "text": [
      "Epoch:0 Learning rate 0.0007 Weight Decay 1e-06 Train Loss:0.8885214328765869  Valid Loss:0.9098312854766846 \n",
      "Epoch:1 Learning rate 0.0007 Weight Decay 1e-06 Train Loss:0.8867849111557007  Valid Loss:0.9087008833885193 \n",
      "Epoch:2 Learning rate 0.0007 Weight Decay 1e-06 Train Loss:0.8851664662361145  Valid Loss:0.9070160388946533 \n",
      "Epoch:3 Learning rate 0.0007 Weight Decay 1e-06 Train Loss:0.885979175567627  Valid Loss:0.9071924090385437 \n",
      "Epoch:4 Learning rate 0.0007 Weight Decay 1e-06 Train Loss:0.885290265083313  Valid Loss:0.9082332253456116 \n",
      "Epoch:5 Learning rate 0.0007 Weight Decay 1e-06 Train Loss:0.8859005570411682  Valid Loss:0.909111499786377 \n",
      "Epoch:6 Learning rate 0.0007 Weight Decay 1e-06 Train Loss:0.8841961026191711  Valid Loss:0.9063416123390198 \n",
      "Epoch:7 Learning rate 0.0007 Weight Decay 1e-06 Train Loss:0.8863221406936646  Valid Loss:0.9091119766235352 \n",
      "Epoch:8 Learning rate 0.0007 Weight Decay 1e-06 Train Loss:0.8846147060394287  Valid Loss:0.9079487323760986 \n",
      "Epoch:9 Learning rate 0.0007 Weight Decay 1e-06 Train Loss:0.883080005645752  Valid Loss:0.9059152603149414 \n",
      "Epoch:10 Learning rate 0.0007 Weight Decay 1e-06 Train Loss:0.8814732432365417  Valid Loss:0.9051494598388672 \n",
      "Epoch:11 Learning rate 0.0007 Weight Decay 1e-06 Train Loss:0.8831799030303955  Valid Loss:0.9057688117027283 \n",
      "Epoch:12 Learning rate 0.0007 Weight Decay 1e-06 Train Loss:0.8850975036621094  Valid Loss:0.9076365828514099 \n",
      "Epoch:13 Learning rate 0.0007 Weight Decay 1e-06 Train Loss:0.8831771612167358  Valid Loss:0.9071827530860901 \n",
      "Epoch:14 Learning rate 0.0007 Weight Decay 1e-06 Train Loss:0.8825194239616394  Valid Loss:0.9048829078674316 \n",
      "Epoch:15 Learning rate 0.0007 Weight Decay 1e-06 Train Loss:0.8857542872428894  Valid Loss:0.9109192490577698 \n",
      "Epoch:16 Learning rate 0.0007 Weight Decay 1e-06 Train Loss:0.8830521702766418  Valid Loss:0.9068478941917419 \n",
      "Epoch:17 Learning rate 0.0007 Weight Decay 1e-06 Train Loss:0.88311368227005  Valid Loss:0.9070664644241333 \n",
      "Epoch:18 Learning rate 0.0007 Weight Decay 1e-06 Train Loss:0.8830968141555786  Valid Loss:0.9060748815536499 \n",
      "Epoch:19 Learning rate 0.0007 Weight Decay 1e-06 Train Loss:0.8836994171142578  Valid Loss:0.9051233530044556 \n",
      "Epoch:20 Learning rate 0.0007 Weight Decay 1e-06 Train Loss:0.8842355608940125  Valid Loss:0.906997799873352 \n",
      "Epoch:21 Learning rate 0.0007 Weight Decay 1e-06 Train Loss:0.8823974132537842  Valid Loss:0.9049848914146423 \n",
      "Epoch:22 Learning rate 0.0007 Weight Decay 1e-06 Train Loss:0.8815966844558716  Valid Loss:0.90582674741745 \n",
      "Epoch:23 Learning rate 0.0007 Weight Decay 1e-06 Train Loss:0.882690966129303  Valid Loss:0.9062641263008118 \n",
      "Epoch:24 Learning rate 0.0007 Weight Decay 1e-06 Train Loss:0.8839765787124634  Valid Loss:0.9073293209075928 \n",
      "Epoch:25 Learning rate 0.0007 Weight Decay 1e-06 Train Loss:0.8821322321891785  Valid Loss:0.9048506021499634 \n",
      "Epoch:26 Learning rate 0.0007 Weight Decay 1e-06 Train Loss:0.8819088339805603  Valid Loss:0.9050935506820679 \n",
      "Epoch:27 Learning rate 0.0007 Weight Decay 1e-06 Train Loss:0.8820191621780396  Valid Loss:0.9044961929321289 \n",
      "Epoch:28 Learning rate 0.0007 Weight Decay 1e-06 Train Loss:0.8821423053741455  Valid Loss:0.9061104655265808 \n",
      "Epoch:29 Learning rate 0.0007 Weight Decay 1e-06 Train Loss:0.8838066458702087  Valid Loss:0.9099463224411011 \n",
      "Epoch:30 Learning rate 0.0007 Weight Decay 1e-06 Train Loss:0.8815471529960632  Valid Loss:0.9059726595878601 \n",
      "Epoch:31 Learning rate 0.0007 Weight Decay 1e-06 Train Loss:0.8828572034835815  Valid Loss:0.9041696786880493 \n",
      "Epoch:32 Learning rate 0.0007 Weight Decay 1e-06 Train Loss:0.8818833827972412  Valid Loss:0.9062405824661255 \n",
      "Epoch:33 Learning rate 0.0007 Weight Decay 1e-06 Train Loss:0.8815606236457825  Valid Loss:0.9056504368782043 \n",
      "Epoch:34 Learning rate 0.0007 Weight Decay 1e-06 Train Loss:0.8824325203895569  Valid Loss:0.9049779176712036 \n",
      "Epoch:35 Learning rate 0.0007 Weight Decay 1e-06 Train Loss:0.8822013735771179  Valid Loss:0.9073776602745056 \n",
      "Epoch:36 Learning rate 0.0007 Weight Decay 1e-06 Train Loss:0.8811315298080444  Valid Loss:0.9039095044136047 \n",
      "Epoch:37 Learning rate 0.0007 Weight Decay 1e-06 Train Loss:0.881435215473175  Valid Loss:0.905479371547699 \n",
      "Epoch:38 Learning rate 0.0007 Weight Decay 1e-06 Train Loss:0.8791244626045227  Valid Loss:0.9026709198951721 \n",
      "Epoch:39 Learning rate 0.0007 Weight Decay 1e-06 Train Loss:0.8822880983352661  Valid Loss:0.904414176940918 \n",
      "Epoch:40 Learning rate 0.0007 Weight Decay 1e-06 Train Loss:0.8804397583007812  Valid Loss:0.905643880367279 \n",
      "Epoch:41 Learning rate 0.0007 Weight Decay 1e-06 Train Loss:0.8830682635307312  Valid Loss:0.9083372950553894 \n",
      "Epoch:42 Learning rate 0.0007 Weight Decay 1e-06 Train Loss:0.8813049793243408  Valid Loss:0.9043071866035461 \n",
      "Epoch:43 Learning rate 0.0007 Weight Decay 1e-06 Train Loss:0.8824960589408875  Valid Loss:0.9087256789207458 \n",
      "Epoch:44 Learning rate 0.0007 Weight Decay 1e-06 Train Loss:0.8799100518226624  Valid Loss:0.9043323993682861 \n",
      "Epoch:45 Learning rate 0.0007 Weight Decay 1e-06 Train Loss:0.8843386173248291  Valid Loss:0.9083980917930603 \n",
      "Epoch:46 Learning rate 0.0007 Weight Decay 1e-06 Train Loss:0.8798649311065674  Valid Loss:0.9058815240859985 \n",
      "Epoch:47 Learning rate 0.0007 Weight Decay 1e-06 Train Loss:0.8822527527809143  Valid Loss:0.9055320024490356 \n",
      "Epoch:48 Learning rate 0.0007 Weight Decay 1e-06 Train Loss:0.8809860944747925  Valid Loss:0.9055728316307068 \n",
      "Epoch:49 Learning rate 0.0007 Weight Decay 1e-06 Train Loss:0.8795921206474304  Valid Loss:0.9031835198402405 \n",
      "Epoch:50 Learning rate 0.0007 Weight Decay 1e-06 Train Loss:0.8823879957199097  Valid Loss:0.9055627584457397 \n",
      "Epoch:51 Learning rate 0.0007 Weight Decay 1e-06 Train Loss:0.8799942135810852  Valid Loss:0.9038264155387878 \n",
      "Epoch:52 Learning rate 0.0007 Weight Decay 1e-06 Train Loss:0.883158802986145  Valid Loss:0.9086648225784302 \n",
      "Epoch:53 Learning rate 0.0007 Weight Decay 1e-06 Train Loss:0.8819523453712463  Valid Loss:0.9095438718795776 \n",
      "Epoch:54 Learning rate 0.0007 Weight Decay 1e-06 Train Loss:0.8811196088790894  Valid Loss:0.9067757725715637 \n",
      "Epoch:55 Learning rate 0.0007 Weight Decay 1e-06 Train Loss:0.8800986409187317  Valid Loss:0.9040384888648987 \n",
      "Epoch:56 Learning rate 0.0007 Weight Decay 1e-06 Train Loss:0.8807601928710938  Valid Loss:0.9056361317634583 \n",
      "Epoch:57 Learning rate 0.0007 Weight Decay 1e-06 Train Loss:0.8823175430297852  Valid Loss:0.9070408344268799 \n",
      "Epoch:58 Learning rate 0.0007 Weight Decay 1e-06 Train Loss:0.8792331218719482  Valid Loss:0.9064574837684631 \n",
      "Epoch:59 Learning rate 0.0007 Weight Decay 1e-06 Train Loss:0.8790610432624817  Valid Loss:0.9050001502037048 \n",
      "Epoch:60 Learning rate 0.0007 Weight Decay 1e-06 Train Loss:0.8817335963249207  Valid Loss:0.9079742431640625 \n",
      "Epoch:61 Learning rate 0.0007 Weight Decay 1e-06 Train Loss:0.88081294298172  Valid Loss:0.9042533040046692 \n",
      "Epoch:62 Learning rate 0.0007 Weight Decay 1e-06 Train Loss:0.8790930509567261  Valid Loss:0.9038391709327698 \n",
      "Epoch:63 Learning rate 0.0007 Weight Decay 1e-06 Train Loss:0.8790830373764038  Valid Loss:0.9041685461997986 \n",
      "Epoch:64 Learning rate 0.0007 Weight Decay 1e-06 Train Loss:0.8791497945785522  Valid Loss:0.9032502174377441 \n",
      "Epoch:65 Learning rate 0.0007 Weight Decay 1e-06 Train Loss:0.8810017108917236  Valid Loss:0.9057633280754089 \n",
      "Epoch:66 Learning rate 0.0007 Weight Decay 1e-06 Train Loss:0.8817036151885986  Valid Loss:0.9067282676696777 \n",
      "Epoch:67 Learning rate 0.0007 Weight Decay 1e-06 Train Loss:0.8803344368934631  Valid Loss:0.906038224697113 \n",
      "Epoch:68 Learning rate 0.0007 Weight Decay 1e-06 Train Loss:0.8809576630592346  Valid Loss:0.9052069783210754 \n",
      "Epoch:69 Learning rate 0.0007 Weight Decay 1e-06 Train Loss:0.8796246647834778  Valid Loss:0.9043994545936584 \n",
      "Epoch:70 Learning rate 0.0007 Weight Decay 1e-06 Train Loss:0.8829102516174316  Valid Loss:0.9066531658172607 \n",
      "Epoch:71 Learning rate 0.0007 Weight Decay 1e-06 Train Loss:0.8815138339996338  Valid Loss:0.9088475704193115 \n",
      "Epoch:72 Learning rate 0.0007 Weight Decay 1e-06 Train Loss:0.8804029822349548  Valid Loss:0.9057633876800537 \n",
      "Epoch:73 Learning rate 0.0007 Weight Decay 1e-06 Train Loss:0.8824799060821533  Valid Loss:0.9069294929504395 \n",
      "Epoch:74 Learning rate 0.0007 Weight Decay 1e-06 Train Loss:0.8786250352859497  Valid Loss:0.9035993814468384 \n"
     ]
    },
    {
     "name": "stdout",
     "output_type": "stream",
     "text": [
      "Epoch:75 Learning rate 0.0007 Weight Decay 1e-06 Train Loss:0.8801370859146118  Valid Loss:0.9058658480644226 \n",
      "Epoch:76 Learning rate 0.0007 Weight Decay 1e-06 Train Loss:0.8820619583129883  Valid Loss:0.9068834185600281 \n",
      "Epoch:77 Learning rate 0.0007 Weight Decay 1e-06 Train Loss:0.8807319402694702  Valid Loss:0.9058859348297119 \n",
      "Epoch:78 Learning rate 0.0007 Weight Decay 1e-06 Train Loss:0.8801190257072449  Valid Loss:0.906078577041626 \n",
      "Epoch:79 Learning rate 0.0007 Weight Decay 1e-06 Train Loss:0.879687488079071  Valid Loss:0.9043372869491577 \n",
      "Epoch:80 Learning rate 0.0007 Weight Decay 1e-06 Train Loss:0.8799718618392944  Valid Loss:0.9055473208427429 \n",
      "Epoch:81 Learning rate 0.0007 Weight Decay 1e-06 Train Loss:0.879746675491333  Valid Loss:0.9045162200927734 \n",
      "Epoch:82 Learning rate 0.0007 Weight Decay 1e-06 Train Loss:0.8789826035499573  Valid Loss:0.9043486714363098 \n",
      "Epoch:83 Learning rate 0.0007 Weight Decay 1e-06 Train Loss:0.8804485201835632  Valid Loss:0.9040932059288025 \n",
      "Epoch:84 Learning rate 0.0007 Weight Decay 1e-06 Train Loss:0.8792825937271118  Valid Loss:0.903448224067688 \n",
      "Epoch:85 Learning rate 0.0007 Weight Decay 1e-06 Train Loss:0.8787016272544861  Valid Loss:0.9053761959075928 \n",
      "Epoch:86 Learning rate 0.0007 Weight Decay 1e-06 Train Loss:0.8798254728317261  Valid Loss:0.9053288102149963 \n",
      "Epoch:87 Learning rate 0.0007 Weight Decay 1e-06 Train Loss:0.878812313079834  Valid Loss:0.9059132933616638 \n",
      "Epoch:88 Learning rate 0.0007 Weight Decay 1e-06 Train Loss:0.8779826760292053  Valid Loss:0.9033438563346863 \n",
      "Epoch:89 Learning rate 0.0007 Weight Decay 1e-06 Train Loss:0.8789689540863037  Valid Loss:0.9044524431228638 \n",
      "Epoch:90 Learning rate 0.0007 Weight Decay 1e-06 Train Loss:0.8796708583831787  Valid Loss:0.9064071774482727 \n",
      "Epoch:91 Learning rate 0.0007 Weight Decay 1e-06 Train Loss:0.87886643409729  Valid Loss:0.9056397676467896 \n",
      "Epoch:92 Learning rate 0.0007 Weight Decay 1e-06 Train Loss:0.8798977732658386  Valid Loss:0.9051510095596313 \n",
      "Epoch:93 Learning rate 0.0007 Weight Decay 1e-06 Train Loss:0.8788787126541138  Valid Loss:0.9045067429542542 \n",
      "Epoch:94 Learning rate 0.0007 Weight Decay 1e-06 Train Loss:0.8774005174636841  Valid Loss:0.903261661529541 \n",
      "Epoch:95 Learning rate 0.0007 Weight Decay 1e-06 Train Loss:0.881328821182251  Valid Loss:0.907515823841095 \n",
      "Epoch:96 Learning rate 0.0007 Weight Decay 1e-06 Train Loss:0.8786861300468445  Valid Loss:0.9049271941184998 \n",
      "Epoch:97 Learning rate 0.0007 Weight Decay 1e-06 Train Loss:0.880437433719635  Valid Loss:0.9066919684410095 \n",
      "Epoch:98 Learning rate 0.0007 Weight Decay 1e-06 Train Loss:0.8780564665794373  Valid Loss:0.9035189151763916 \n",
      "Epoch:99 Learning rate 0.0007 Weight Decay 1e-06 Train Loss:0.8792470693588257  Valid Loss:0.9049305319786072 \n"
     ]
    }
   ],
   "source": [
    "optimizer=torch.optim.Adam(autoenc.parameters(),lr=7e-4,betas=(0.9,0.999), weight_decay=1e-6)\n",
    "learner=Learner(autoenc,optimizer,None,device,0,1000,0.25,cycle_mult=0,start_lr=1e-1,end_lr=5e-2)\n",
    "learner.run_epochs(dltrain,None,100)"
   ]
  },
  {
   "cell_type": "code",
   "execution_count": 108,
   "metadata": {},
   "outputs": [
    {
     "name": "stderr",
     "output_type": "stream",
     "text": [
      "/home/kirana/anaconda3/lib/python3.7/site-packages/torch/serialization.py:256: UserWarning: Couldn't retrieve source code for container of type autoencoder. It won't be checked for correctness upon loading.\n",
      "  \"type \" + obj.__name__ + \". It won't be checked \"\n",
      "/home/kirana/anaconda3/lib/python3.7/site-packages/torch/serialization.py:256: UserWarning: Couldn't retrieve source code for container of type autoencoder. It won't be checked for correctness upon loading.\n",
      "  \"type \" + obj.__name__ + \". It won't be checked \"\n"
     ]
    }
   ],
   "source": [
    "torch.save(autoenc,f=f'{DATAPATH}/inter/user_autoenc')\n",
    "torch.save(learner,f=f'{DATAPATH}/inter/user_autoenc_learner')\n",
    "torch.save(optimizer,f=f'{DATAPATH}/inter/user_autoenc_optimizer')\n",
    "torch.save(autoenc.state_dict(),f'{DATAPATH}/inter/user_autoenc_state_dict')\n",
    "torch.save(optimizer.state_dict(),f'{DATAPATH}/inter/user_autoenc_optimizer_state_dict')"
   ]
  },
  {
   "cell_type": "code",
   "execution_count": 109,
   "metadata": {},
   "outputs": [
    {
     "data": {
      "text/plain": [
       "torch.Size([40, 3707])"
      ]
     },
     "execution_count": 109,
     "metadata": {},
     "output_type": "execute_result"
    }
   ],
   "source": [
    "autoenc.encoder[0][0].weight.data.shape"
   ]
  },
  {
   "cell_type": "code",
   "execution_count": 110,
   "metadata": {},
   "outputs": [
    {
     "data": {
      "text/plain": [
       "torch.Size([10, 40])"
      ]
     },
     "execution_count": 110,
     "metadata": {},
     "output_type": "execute_result"
    }
   ],
   "source": [
    "autoenc.encoder[1][0].weight.data.shape"
   ]
  },
  {
   "cell_type": "code",
   "execution_count": 111,
   "metadata": {},
   "outputs": [],
   "source": [
    "user_mtx_1_weights=autoenc.encoder[0][0].weight.data.cpu().numpy()\n",
    "user_mtx_2_weights=autoenc.encoder[1][0].weight.data.cpu().numpy()"
   ]
  },
  {
   "cell_type": "code",
   "execution_count": 112,
   "metadata": {},
   "outputs": [],
   "source": [
    "from scipy.special import expit"
   ]
  },
  {
   "cell_type": "markdown",
   "metadata": {},
   "source": [
    "df_train_user_autoenc=np.tanh(expit(df_train@user_mtx_1_weights.T)@user_mtx_2_weights.T)\n",
    "df_valid_user_autoenc=np.tanh(expit(df_valid@user_mtx_1_weights.T)@user_mtx_2_weights.T)"
   ]
  },
  {
   "cell_type": "code",
   "execution_count": 128,
   "metadata": {},
   "outputs": [],
   "source": [
    "df_train_user_autoenc=(expit(df_train@user_mtx_1_weights.T)@user_mtx_2_weights.T)\n",
    "df_valid_user_autoenc=(expit(df_valid@user_mtx_1_weights.T)@user_mtx_2_weights.T)"
   ]
  },
  {
   "cell_type": "code",
   "execution_count": 129,
   "metadata": {},
   "outputs": [],
   "source": [
    "df_train_user_autoenc_linear=((df_train@user_mtx_1_weights.T)@user_mtx_2_weights.T)\n",
    "df_valid_user_autoenc_linear=((df_valid@user_mtx_1_weights.T)@user_mtx_2_weights.T)"
   ]
  },
  {
   "cell_type": "code",
   "execution_count": 130,
   "metadata": {},
   "outputs": [
    {
     "data": {
      "text/plain": [
       "((6041, 10), (6041, 10))"
      ]
     },
     "execution_count": 130,
     "metadata": {},
     "output_type": "execute_result"
    }
   ],
   "source": [
    "df_train_user_autoenc.shape,df_valid_user_autoenc.shape"
   ]
  },
  {
   "cell_type": "code",
   "execution_count": 131,
   "metadata": {},
   "outputs": [],
   "source": [
    "df_train_user_autoenc=pd.DataFrame(df_train_user_autoenc)\n",
    "df_train_user_autoenc_linear=pd.DataFrame(df_train_user_autoenc_linear)"
   ]
  },
  {
   "cell_type": "code",
   "execution_count": 132,
   "metadata": {},
   "outputs": [],
   "source": [
    "df_train_user_autoenc.columns=['user_autoenc'+str(i) for i in range(df_train_user_autoenc.shape[1])]\n",
    "df_train_user_autoenc_linear.columns=['user_autoenc_linear'+str(i) for i in range(df_train_user_autoenc_linear.shape[1])]"
   ]
  },
  {
   "cell_type": "code",
   "execution_count": 133,
   "metadata": {},
   "outputs": [],
   "source": [
    "df_valid_user_autoenc=pd.DataFrame(df_valid_user_autoenc)\n",
    "df_valid_user_autoenc_linear=pd.DataFrame(df_valid_user_autoenc_linear)"
   ]
  },
  {
   "cell_type": "code",
   "execution_count": 134,
   "metadata": {},
   "outputs": [],
   "source": [
    "df_valid_user_autoenc.columns=['user_autoenc'+str(i) for i in range(df_valid_user_autoenc.shape[1])]\n",
    "df_valid_user_autoenc_linear.columns=['user_autoenc_linear'+str(i) for i in range(df_valid_user_autoenc_linear.shape[1])]"
   ]
  },
  {
   "cell_type": "code",
   "execution_count": 135,
   "metadata": {},
   "outputs": [],
   "source": [
    "df_train_user_autoenc.reset_index(inplace=True)\n",
    "df_valid_user_autoenc.reset_index(inplace=True)\n",
    "df_train_user_autoenc_linear.reset_index(inplace=True)\n",
    "df_valid_user_autoenc_linear.reset_index(inplace=True)"
   ]
  },
  {
   "cell_type": "code",
   "execution_count": 136,
   "metadata": {},
   "outputs": [],
   "source": [
    "df_train_user_autoenc.rename({'index':'user_idx'},axis=1,inplace=True)\n",
    "df_train_user_autoenc_linear.rename({'index':'user_idx'},axis=1,inplace=True)"
   ]
  },
  {
   "cell_type": "code",
   "execution_count": 137,
   "metadata": {},
   "outputs": [],
   "source": [
    "df_valid_user_autoenc.rename({'index':'user_idx'},axis=1,inplace=True)\n",
    "df_valid_user_autoenc_linear.rename({'index':'user_idx'},axis=1,inplace=True)"
   ]
  },
  {
   "cell_type": "code",
   "execution_count": 138,
   "metadata": {},
   "outputs": [
    {
     "data": {
      "text/plain": [
       "(   user_idx  user_autoenc0  user_autoenc1  user_autoenc2  user_autoenc3  \\\n",
       " 0         0      -0.918095       2.296391       0.263371      -0.011968   \n",
       " 1         1      -1.694891      -0.151930       1.124974      -1.841133   \n",
       " 2         2       0.807896      -1.376931       0.162299       0.080092   \n",
       " 3         3      -0.736317      -0.517018       1.213105      -1.961564   \n",
       " 4         4      -1.399151       0.328619      -1.665964      -1.062431   \n",
       " \n",
       "    user_autoenc4  user_autoenc5  user_autoenc6  user_autoenc7  user_autoenc8  \\\n",
       " 0      -0.804040      -0.389131       0.454120      -3.545166       2.439914   \n",
       " 1      -2.112378      -1.080319       1.374260      -2.909504      -0.340611   \n",
       " 2       0.537038       0.585960      -0.161436       1.048445      -1.035838   \n",
       " 3      -1.423592      -1.065770       0.938449      -1.570770      -0.542528   \n",
       " 4      -0.760788       0.939962      -1.311538      -0.389501       0.414060   \n",
       " \n",
       "    user_autoenc9  \n",
       " 0       1.331096  \n",
       " 1      -1.397754  \n",
       " 2      -0.490745  \n",
       " 3      -1.756809  \n",
       " 4      -0.095679  ,\n",
       "    user_idx  user_autoenc_linear0  user_autoenc_linear1  user_autoenc_linear2  \\\n",
       " 0         0             -7.903108             67.759951             -7.420140   \n",
       " 1         1             -2.802475              0.424496             16.149818   \n",
       " 2         2              8.951077            -22.260454            -11.214062   \n",
       " 3         3             -1.261564              3.822455             13.205763   \n",
       " 4         4              5.547645             20.531805            -20.436249   \n",
       " \n",
       "    user_autoenc_linear3  user_autoenc_linear4  user_autoenc_linear5  \\\n",
       " 0             28.591522             -5.811607            -40.421312   \n",
       " 1             -2.495744            -12.774612            -39.868628   \n",
       " 2              0.865454              5.211422            -28.063715   \n",
       " 3             -9.010028            -12.793017            -37.472720   \n",
       " 4             28.186211             13.495807            -15.872422   \n",
       " \n",
       "    user_autoenc_linear6  user_autoenc_linear7  user_autoenc_linear8  \\\n",
       " 0             -0.150670            -67.959909             67.728086   \n",
       " 1             14.219897            -22.102997             -0.916217   \n",
       " 2            -17.644808             24.324165            -19.604151   \n",
       " 3              8.642195            -17.388834              2.867866   \n",
       " 4            -19.256115             -4.841874             22.929547   \n",
       " \n",
       "    user_autoenc_linear9  \n",
       " 0             51.638784  \n",
       " 1             -5.332345  \n",
       " 2            -10.153207  \n",
       " 3             -8.316666  \n",
       " 4             31.481783  )"
      ]
     },
     "execution_count": 138,
     "metadata": {},
     "output_type": "execute_result"
    }
   ],
   "source": [
    "df_train_user_autoenc.head(),df_train_user_autoenc_linear.head()"
   ]
  },
  {
   "cell_type": "code",
   "execution_count": 146,
   "metadata": {},
   "outputs": [],
   "source": [
    "import pickle\n",
    "pickle.dump([df_train_user_autoenc,df_valid_user_autoenc,user_mtx_1_weights,user_mtx_2_weights,df_train_user_autoenc_linear,df_valid_user_autoenc_linear],open(f'{DATAPATH}/inter/user_autoenc_weights.pkl','wb'))"
   ]
  },
  {
   "cell_type": "code",
   "execution_count": 147,
   "metadata": {},
   "outputs": [],
   "source": [
    "#,df_train_user_autoenc_linear,df_valid_user_autoenc_linear"
   ]
  },
  {
   "cell_type": "code",
   "execution_count": 148,
   "metadata": {},
   "outputs": [
    {
     "data": {
      "text/plain": [
       "Sequential(\n",
       "  (0): Sequential(\n",
       "    (0): Linear(in_features=3707, out_features=40, bias=True)\n",
       "    (1): Sigmoid()\n",
       "    (2): Dropout(p=0.2)\n",
       "    (3): BatchNorm1d(40, eps=1e-05, momentum=0.1, affine=True, track_running_stats=True)\n",
       "  )\n",
       "  (1): Sequential(\n",
       "    (0): Linear(in_features=40, out_features=10, bias=True)\n",
       "    (1): Sigmoid()\n",
       "    (2): Dropout(p=0.2)\n",
       "    (3): BatchNorm1d(10, eps=1e-05, momentum=0.1, affine=True, track_running_stats=True)\n",
       "  )\n",
       ")"
      ]
     },
     "execution_count": 148,
     "metadata": {},
     "output_type": "execute_result"
    }
   ],
   "source": [
    "autoenc.encoder"
   ]
  },
  {
   "cell_type": "code",
   "execution_count": 149,
   "metadata": {},
   "outputs": [
    {
     "data": {
      "text/plain": [
       "(6041, 11)"
      ]
     },
     "execution_count": 149,
     "metadata": {},
     "output_type": "execute_result"
    }
   ],
   "source": [
    "df_train_user_autoenc.shape"
   ]
  },
  {
   "cell_type": "code",
   "execution_count": null,
   "metadata": {},
   "outputs": [],
   "source": []
  },
  {
   "cell_type": "code",
   "execution_count": null,
   "metadata": {},
   "outputs": [],
   "source": []
  }
 ],
 "metadata": {
  "kernelspec": {
   "display_name": "Python 3",
   "language": "python",
   "name": "python3"
  },
  "language_info": {
   "codemirror_mode": {
    "name": "ipython",
    "version": 3
   },
   "file_extension": ".py",
   "mimetype": "text/x-python",
   "name": "python",
   "nbconvert_exporter": "python",
   "pygments_lexer": "ipython3",
   "version": "3.7.3"
  }
 },
 "nbformat": 4,
 "nbformat_minor": 2
}
