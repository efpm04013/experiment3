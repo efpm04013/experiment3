{
 "cells": [
  {
   "cell_type": "code",
   "execution_count": 1,
   "metadata": {},
   "outputs": [],
   "source": [
    "PATH='/home/kirana/Documents/phd/exp3_autoencoder'\n",
    "DATAPATH='/home/kirana/Documents/final_dissertation_final/experiments/datasets/ml-1m'"
   ]
  },
  {
   "cell_type": "code",
   "execution_count": 2,
   "metadata": {},
   "outputs": [],
   "source": [
    "import pandas as pd\n",
    "import numpy as np\n",
    "import matplotlib.pyplot as plt\n",
    "import sklearn\n",
    "import os\n",
    "import pickle\n",
    "import torch\n",
    "from torch.utils.data import Dataset, DataLoader\n",
    "from torch import nn"
   ]
  },
  {
   "cell_type": "code",
   "execution_count": 3,
   "metadata": {},
   "outputs": [],
   "source": [
    "[df, df_train,df_valid,df,df_ratings,idx_to_user,\\\n",
    "             idx_to_movie,movie_to_idx,user_to_idx]=pickle.load(open(f'{DATAPATH}/reads.pkl','rb'))"
   ]
  },
  {
   "cell_type": "code",
   "execution_count": 4,
   "metadata": {},
   "outputs": [
    {
     "data": {
      "text/plain": [
       "(1000209, 20)"
      ]
     },
     "execution_count": 4,
     "metadata": {},
     "output_type": "execute_result"
    }
   ],
   "source": [
    "df.shape"
   ]
  },
  {
   "cell_type": "code",
   "execution_count": 5,
   "metadata": {},
   "outputs": [
    {
     "data": {
      "text/html": [
       "<div>\n",
       "<style scoped>\n",
       "    .dataframe tbody tr th:only-of-type {\n",
       "        vertical-align: middle;\n",
       "    }\n",
       "\n",
       "    .dataframe tbody tr th {\n",
       "        vertical-align: top;\n",
       "    }\n",
       "\n",
       "    .dataframe thead th {\n",
       "        text-align: right;\n",
       "    }\n",
       "</style>\n",
       "<table border=\"1\" class=\"dataframe\">\n",
       "  <thead>\n",
       "    <tr style=\"text-align: right;\">\n",
       "      <th></th>\n",
       "      <th>userId</th>\n",
       "      <th>itemId</th>\n",
       "      <th>rating</th>\n",
       "      <th>timestamp</th>\n",
       "      <th>gender</th>\n",
       "      <th>age</th>\n",
       "      <th>occupation</th>\n",
       "      <th>zip</th>\n",
       "      <th>title</th>\n",
       "      <th>genre</th>\n",
       "      <th>random_dstype</th>\n",
       "      <th>user_idx</th>\n",
       "      <th>item_idx</th>\n",
       "      <th>dstype_random_train</th>\n",
       "      <th>dstype_random_valid</th>\n",
       "      <th>gender_idx</th>\n",
       "      <th>age_idx</th>\n",
       "      <th>title_idx</th>\n",
       "      <th>genre_idx</th>\n",
       "      <th>zip_idx</th>\n",
       "    </tr>\n",
       "  </thead>\n",
       "  <tbody>\n",
       "    <tr>\n",
       "      <th>648724</th>\n",
       "      <td>3908</td>\n",
       "      <td>2347</td>\n",
       "      <td>4</td>\n",
       "      <td>965941231</td>\n",
       "      <td>M</td>\n",
       "      <td>25</td>\n",
       "      <td>0</td>\n",
       "      <td>10021</td>\n",
       "      <td>Pope of Greenwich Village, The (1984)</td>\n",
       "      <td>Action</td>\n",
       "      <td>train</td>\n",
       "      <td>1</td>\n",
       "      <td>1</td>\n",
       "      <td>1</td>\n",
       "      <td>0</td>\n",
       "      <td>1</td>\n",
       "      <td>1</td>\n",
       "      <td>1</td>\n",
       "      <td>1</td>\n",
       "      <td>1</td>\n",
       "    </tr>\n",
       "    <tr>\n",
       "      <th>203881</th>\n",
       "      <td>1254</td>\n",
       "      <td>1541</td>\n",
       "      <td>2</td>\n",
       "      <td>974823280</td>\n",
       "      <td>F</td>\n",
       "      <td>18</td>\n",
       "      <td>1</td>\n",
       "      <td>02144</td>\n",
       "      <td>Addicted to Love (1997)</td>\n",
       "      <td>Comedy|Romance</td>\n",
       "      <td>train</td>\n",
       "      <td>2</td>\n",
       "      <td>2</td>\n",
       "      <td>1</td>\n",
       "      <td>0</td>\n",
       "      <td>2</td>\n",
       "      <td>2</td>\n",
       "      <td>2</td>\n",
       "      <td>2</td>\n",
       "      <td>2</td>\n",
       "    </tr>\n",
       "    <tr>\n",
       "      <th>243394</th>\n",
       "      <td>1467</td>\n",
       "      <td>2617</td>\n",
       "      <td>3</td>\n",
       "      <td>977173059</td>\n",
       "      <td>M</td>\n",
       "      <td>25</td>\n",
       "      <td>5</td>\n",
       "      <td>97007</td>\n",
       "      <td>Mummy, The (1999)</td>\n",
       "      <td>Action|Adventure|Horror|Thriller</td>\n",
       "      <td>train</td>\n",
       "      <td>3</td>\n",
       "      <td>3</td>\n",
       "      <td>1</td>\n",
       "      <td>0</td>\n",
       "      <td>1</td>\n",
       "      <td>1</td>\n",
       "      <td>3</td>\n",
       "      <td>3</td>\n",
       "      <td>3</td>\n",
       "    </tr>\n",
       "    <tr>\n",
       "      <th>788507</th>\n",
       "      <td>4717</td>\n",
       "      <td>3754</td>\n",
       "      <td>3</td>\n",
       "      <td>963502544</td>\n",
       "      <td>M</td>\n",
       "      <td>45</td>\n",
       "      <td>17</td>\n",
       "      <td>48310</td>\n",
       "      <td>Adventures of Rocky and Bullwinkle, The (2000)</td>\n",
       "      <td>Animation|Children's|Comedy</td>\n",
       "      <td>train</td>\n",
       "      <td>4</td>\n",
       "      <td>4</td>\n",
       "      <td>1</td>\n",
       "      <td>0</td>\n",
       "      <td>1</td>\n",
       "      <td>3</td>\n",
       "      <td>4</td>\n",
       "      <td>4</td>\n",
       "      <td>4</td>\n",
       "    </tr>\n",
       "    <tr>\n",
       "      <th>301066</th>\n",
       "      <td>1789</td>\n",
       "      <td>2997</td>\n",
       "      <td>5</td>\n",
       "      <td>974700402</td>\n",
       "      <td>M</td>\n",
       "      <td>1</td>\n",
       "      <td>10</td>\n",
       "      <td>19116</td>\n",
       "      <td>Being John Malkovich (1999)</td>\n",
       "      <td>Comedy</td>\n",
       "      <td>train</td>\n",
       "      <td>5</td>\n",
       "      <td>5</td>\n",
       "      <td>1</td>\n",
       "      <td>0</td>\n",
       "      <td>1</td>\n",
       "      <td>4</td>\n",
       "      <td>5</td>\n",
       "      <td>5</td>\n",
       "      <td>5</td>\n",
       "    </tr>\n",
       "  </tbody>\n",
       "</table>\n",
       "</div>"
      ],
      "text/plain": [
       "        userId  itemId  rating  timestamp gender  age  occupation    zip  \\\n",
       "648724    3908    2347       4  965941231      M   25           0  10021   \n",
       "203881    1254    1541       2  974823280      F   18           1  02144   \n",
       "243394    1467    2617       3  977173059      M   25           5  97007   \n",
       "788507    4717    3754       3  963502544      M   45          17  48310   \n",
       "301066    1789    2997       5  974700402      M    1          10  19116   \n",
       "\n",
       "                                                 title  \\\n",
       "648724           Pope of Greenwich Village, The (1984)   \n",
       "203881                         Addicted to Love (1997)   \n",
       "243394                               Mummy, The (1999)   \n",
       "788507  Adventures of Rocky and Bullwinkle, The (2000)   \n",
       "301066                     Being John Malkovich (1999)   \n",
       "\n",
       "                                   genre random_dstype  user_idx  item_idx  \\\n",
       "648724                            Action         train         1         1   \n",
       "203881                    Comedy|Romance         train         2         2   \n",
       "243394  Action|Adventure|Horror|Thriller         train         3         3   \n",
       "788507       Animation|Children's|Comedy         train         4         4   \n",
       "301066                            Comedy         train         5         5   \n",
       "\n",
       "        dstype_random_train  dstype_random_valid  gender_idx  age_idx  \\\n",
       "648724                    1                    0           1        1   \n",
       "203881                    1                    0           2        2   \n",
       "243394                    1                    0           1        1   \n",
       "788507                    1                    0           1        3   \n",
       "301066                    1                    0           1        4   \n",
       "\n",
       "        title_idx  genre_idx  zip_idx  \n",
       "648724          1          1        1  \n",
       "203881          2          2        2  \n",
       "243394          3          3        3  \n",
       "788507          4          4        4  \n",
       "301066          5          5        5  "
      ]
     },
     "execution_count": 5,
     "metadata": {},
     "output_type": "execute_result"
    }
   ],
   "source": [
    "df.head()"
   ]
  },
  {
   "cell_type": "code",
   "execution_count": 6,
   "metadata": {},
   "outputs": [],
   "source": [
    "df_train=df.loc[df['random_dstype']=='train']\n",
    "df_valid=df.loc[df['random_dstype']!='train']"
   ]
  },
  {
   "cell_type": "code",
   "execution_count": 7,
   "metadata": {},
   "outputs": [
    {
     "data": {
      "text/html": [
       "<div>\n",
       "<style scoped>\n",
       "    .dataframe tbody tr th:only-of-type {\n",
       "        vertical-align: middle;\n",
       "    }\n",
       "\n",
       "    .dataframe tbody tr th {\n",
       "        vertical-align: top;\n",
       "    }\n",
       "\n",
       "    .dataframe thead th {\n",
       "        text-align: right;\n",
       "    }\n",
       "</style>\n",
       "<table border=\"1\" class=\"dataframe\">\n",
       "  <thead>\n",
       "    <tr style=\"text-align: right;\">\n",
       "      <th></th>\n",
       "      <th>648724</th>\n",
       "      <th>203881</th>\n",
       "      <th>243394</th>\n",
       "      <th>788507</th>\n",
       "      <th>301066</th>\n",
       "    </tr>\n",
       "  </thead>\n",
       "  <tbody>\n",
       "    <tr>\n",
       "      <th>userId</th>\n",
       "      <td>3908</td>\n",
       "      <td>1254</td>\n",
       "      <td>1467</td>\n",
       "      <td>4717</td>\n",
       "      <td>1789</td>\n",
       "    </tr>\n",
       "    <tr>\n",
       "      <th>itemId</th>\n",
       "      <td>2347</td>\n",
       "      <td>1541</td>\n",
       "      <td>2617</td>\n",
       "      <td>3754</td>\n",
       "      <td>2997</td>\n",
       "    </tr>\n",
       "    <tr>\n",
       "      <th>rating</th>\n",
       "      <td>4</td>\n",
       "      <td>2</td>\n",
       "      <td>3</td>\n",
       "      <td>3</td>\n",
       "      <td>5</td>\n",
       "    </tr>\n",
       "    <tr>\n",
       "      <th>timestamp</th>\n",
       "      <td>965941231</td>\n",
       "      <td>974823280</td>\n",
       "      <td>977173059</td>\n",
       "      <td>963502544</td>\n",
       "      <td>974700402</td>\n",
       "    </tr>\n",
       "    <tr>\n",
       "      <th>gender</th>\n",
       "      <td>M</td>\n",
       "      <td>F</td>\n",
       "      <td>M</td>\n",
       "      <td>M</td>\n",
       "      <td>M</td>\n",
       "    </tr>\n",
       "    <tr>\n",
       "      <th>age</th>\n",
       "      <td>25</td>\n",
       "      <td>18</td>\n",
       "      <td>25</td>\n",
       "      <td>45</td>\n",
       "      <td>1</td>\n",
       "    </tr>\n",
       "    <tr>\n",
       "      <th>occupation</th>\n",
       "      <td>0</td>\n",
       "      <td>1</td>\n",
       "      <td>5</td>\n",
       "      <td>17</td>\n",
       "      <td>10</td>\n",
       "    </tr>\n",
       "    <tr>\n",
       "      <th>zip</th>\n",
       "      <td>10021</td>\n",
       "      <td>02144</td>\n",
       "      <td>97007</td>\n",
       "      <td>48310</td>\n",
       "      <td>19116</td>\n",
       "    </tr>\n",
       "    <tr>\n",
       "      <th>title</th>\n",
       "      <td>Pope of Greenwich Village, The (1984)</td>\n",
       "      <td>Addicted to Love (1997)</td>\n",
       "      <td>Mummy, The (1999)</td>\n",
       "      <td>Adventures of Rocky and Bullwinkle, The (2000)</td>\n",
       "      <td>Being John Malkovich (1999)</td>\n",
       "    </tr>\n",
       "    <tr>\n",
       "      <th>genre</th>\n",
       "      <td>Action</td>\n",
       "      <td>Comedy|Romance</td>\n",
       "      <td>Action|Adventure|Horror|Thriller</td>\n",
       "      <td>Animation|Children's|Comedy</td>\n",
       "      <td>Comedy</td>\n",
       "    </tr>\n",
       "    <tr>\n",
       "      <th>random_dstype</th>\n",
       "      <td>train</td>\n",
       "      <td>train</td>\n",
       "      <td>train</td>\n",
       "      <td>train</td>\n",
       "      <td>train</td>\n",
       "    </tr>\n",
       "    <tr>\n",
       "      <th>user_idx</th>\n",
       "      <td>1</td>\n",
       "      <td>2</td>\n",
       "      <td>3</td>\n",
       "      <td>4</td>\n",
       "      <td>5</td>\n",
       "    </tr>\n",
       "    <tr>\n",
       "      <th>item_idx</th>\n",
       "      <td>1</td>\n",
       "      <td>2</td>\n",
       "      <td>3</td>\n",
       "      <td>4</td>\n",
       "      <td>5</td>\n",
       "    </tr>\n",
       "    <tr>\n",
       "      <th>dstype_random_train</th>\n",
       "      <td>1</td>\n",
       "      <td>1</td>\n",
       "      <td>1</td>\n",
       "      <td>1</td>\n",
       "      <td>1</td>\n",
       "    </tr>\n",
       "    <tr>\n",
       "      <th>dstype_random_valid</th>\n",
       "      <td>0</td>\n",
       "      <td>0</td>\n",
       "      <td>0</td>\n",
       "      <td>0</td>\n",
       "      <td>0</td>\n",
       "    </tr>\n",
       "    <tr>\n",
       "      <th>gender_idx</th>\n",
       "      <td>1</td>\n",
       "      <td>2</td>\n",
       "      <td>1</td>\n",
       "      <td>1</td>\n",
       "      <td>1</td>\n",
       "    </tr>\n",
       "    <tr>\n",
       "      <th>age_idx</th>\n",
       "      <td>1</td>\n",
       "      <td>2</td>\n",
       "      <td>1</td>\n",
       "      <td>3</td>\n",
       "      <td>4</td>\n",
       "    </tr>\n",
       "    <tr>\n",
       "      <th>title_idx</th>\n",
       "      <td>1</td>\n",
       "      <td>2</td>\n",
       "      <td>3</td>\n",
       "      <td>4</td>\n",
       "      <td>5</td>\n",
       "    </tr>\n",
       "    <tr>\n",
       "      <th>genre_idx</th>\n",
       "      <td>1</td>\n",
       "      <td>2</td>\n",
       "      <td>3</td>\n",
       "      <td>4</td>\n",
       "      <td>5</td>\n",
       "    </tr>\n",
       "    <tr>\n",
       "      <th>zip_idx</th>\n",
       "      <td>1</td>\n",
       "      <td>2</td>\n",
       "      <td>3</td>\n",
       "      <td>4</td>\n",
       "      <td>5</td>\n",
       "    </tr>\n",
       "  </tbody>\n",
       "</table>\n",
       "</div>"
      ],
      "text/plain": [
       "                                                    648724  \\\n",
       "userId                                                3908   \n",
       "itemId                                                2347   \n",
       "rating                                                   4   \n",
       "timestamp                                        965941231   \n",
       "gender                                                   M   \n",
       "age                                                     25   \n",
       "occupation                                               0   \n",
       "zip                                                  10021   \n",
       "title                Pope of Greenwich Village, The (1984)   \n",
       "genre                                               Action   \n",
       "random_dstype                                        train   \n",
       "user_idx                                                 1   \n",
       "item_idx                                                 1   \n",
       "dstype_random_train                                      1   \n",
       "dstype_random_valid                                      0   \n",
       "gender_idx                                               1   \n",
       "age_idx                                                  1   \n",
       "title_idx                                                1   \n",
       "genre_idx                                                1   \n",
       "zip_idx                                                  1   \n",
       "\n",
       "                                      203881  \\\n",
       "userId                                  1254   \n",
       "itemId                                  1541   \n",
       "rating                                     2   \n",
       "timestamp                          974823280   \n",
       "gender                                     F   \n",
       "age                                       18   \n",
       "occupation                                 1   \n",
       "zip                                    02144   \n",
       "title                Addicted to Love (1997)   \n",
       "genre                         Comedy|Romance   \n",
       "random_dstype                          train   \n",
       "user_idx                                   2   \n",
       "item_idx                                   2   \n",
       "dstype_random_train                        1   \n",
       "dstype_random_valid                        0   \n",
       "gender_idx                                 2   \n",
       "age_idx                                    2   \n",
       "title_idx                                  2   \n",
       "genre_idx                                  2   \n",
       "zip_idx                                    2   \n",
       "\n",
       "                                               243394  \\\n",
       "userId                                           1467   \n",
       "itemId                                           2617   \n",
       "rating                                              3   \n",
       "timestamp                                   977173059   \n",
       "gender                                              M   \n",
       "age                                                25   \n",
       "occupation                                          5   \n",
       "zip                                             97007   \n",
       "title                               Mummy, The (1999)   \n",
       "genre                Action|Adventure|Horror|Thriller   \n",
       "random_dstype                                   train   \n",
       "user_idx                                            3   \n",
       "item_idx                                            3   \n",
       "dstype_random_train                                 1   \n",
       "dstype_random_valid                                 0   \n",
       "gender_idx                                          1   \n",
       "age_idx                                             1   \n",
       "title_idx                                           3   \n",
       "genre_idx                                           3   \n",
       "zip_idx                                             3   \n",
       "\n",
       "                                                             788507  \\\n",
       "userId                                                         4717   \n",
       "itemId                                                         3754   \n",
       "rating                                                            3   \n",
       "timestamp                                                 963502544   \n",
       "gender                                                            M   \n",
       "age                                                              45   \n",
       "occupation                                                       17   \n",
       "zip                                                           48310   \n",
       "title                Adventures of Rocky and Bullwinkle, The (2000)   \n",
       "genre                                   Animation|Children's|Comedy   \n",
       "random_dstype                                                 train   \n",
       "user_idx                                                          4   \n",
       "item_idx                                                          4   \n",
       "dstype_random_train                                               1   \n",
       "dstype_random_valid                                               0   \n",
       "gender_idx                                                        1   \n",
       "age_idx                                                           3   \n",
       "title_idx                                                         4   \n",
       "genre_idx                                                         4   \n",
       "zip_idx                                                           4   \n",
       "\n",
       "                                          301066  \n",
       "userId                                      1789  \n",
       "itemId                                      2997  \n",
       "rating                                         5  \n",
       "timestamp                              974700402  \n",
       "gender                                         M  \n",
       "age                                            1  \n",
       "occupation                                    10  \n",
       "zip                                        19116  \n",
       "title                Being John Malkovich (1999)  \n",
       "genre                                     Comedy  \n",
       "random_dstype                              train  \n",
       "user_idx                                       5  \n",
       "item_idx                                       5  \n",
       "dstype_random_train                            1  \n",
       "dstype_random_valid                            0  \n",
       "gender_idx                                     1  \n",
       "age_idx                                        4  \n",
       "title_idx                                      5  \n",
       "genre_idx                                      5  \n",
       "zip_idx                                        5  "
      ]
     },
     "execution_count": 7,
     "metadata": {},
     "output_type": "execute_result"
    }
   ],
   "source": [
    "df_train.head().T"
   ]
  },
  {
   "cell_type": "code",
   "execution_count": 8,
   "metadata": {},
   "outputs": [
    {
     "data": {
      "text/plain": [
       "((900188, 20), (100021, 20))"
      ]
     },
     "execution_count": 8,
     "metadata": {},
     "output_type": "execute_result"
    }
   ],
   "source": [
    "df_train.shape,df_valid.shape"
   ]
  },
  {
   "cell_type": "markdown",
   "metadata": {},
   "source": [
    "### Add the autoencoder features"
   ]
  },
  {
   "cell_type": "code",
   "execution_count": 9,
   "metadata": {},
   "outputs": [],
   "source": [
    "import pickle"
   ]
  },
  {
   "cell_type": "code",
   "execution_count": 10,
   "metadata": {},
   "outputs": [],
   "source": [
    "[df_train_user_autoenc,df_valid_user_autoenc,user_mtx_1_weights,user_mtx_2_weights]=\\\n",
    "    pickle.load(open(f'{DATAPATH}/inter/user_autoenc_weights.pkl','rb'))"
   ]
  },
  {
   "cell_type": "code",
   "execution_count": 11,
   "metadata": {},
   "outputs": [],
   "source": [
    "[df_train_item_autoenc, df_valid_item_autoenc,item_mtx_1_weights,item_mtx_2_weights]=\\\n",
    "    pickle.load(open(f'{DATAPATH}/inter/item_autoenc_weights.pkl','rb'))"
   ]
  },
  {
   "cell_type": "code",
   "execution_count": 12,
   "metadata": {},
   "outputs": [
    {
     "data": {
      "text/plain": [
       "((6041, 11),\n",
       " pandas.core.frame.DataFrame,\n",
       "    user_idx  user_autoenc0  user_autoenc1  user_autoenc2  user_autoenc3  \\\n",
       " 0         0      -0.671837       2.577009      -1.507589       0.332797   \n",
       " 1         1      -0.809926      -0.483721       2.453740      -1.551907   \n",
       " 2         2       1.254941      -2.131284       1.810311       0.597943   \n",
       " 3         3      -3.206347      -0.449586       2.392539      -2.755247   \n",
       " 4         4      -0.097608       1.857577      -2.348423       2.663222   \n",
       " \n",
       "    user_autoenc4  user_autoenc5  user_autoenc6  user_autoenc7  user_autoenc8  \\\n",
       " 0      -1.139656      -1.726680      -1.184810      -0.325938       2.037823   \n",
       " 1       3.453933      -0.869701       2.121841       3.970576      -1.076461   \n",
       " 2       0.346018       2.327138       0.337492       0.072589      -2.992533   \n",
       " 3       0.173469      -1.687047       4.412164       4.598782      -0.101633   \n",
       " 4      -1.915509      -1.128552      -1.527104      -2.628924      -0.967917   \n",
       " \n",
       "    user_autoenc9  \n",
       " 0       1.097733  \n",
       " 1       2.741880  \n",
       " 2      -0.936141  \n",
       " 3       1.518000  \n",
       " 4      -1.195479  )"
      ]
     },
     "execution_count": 12,
     "metadata": {},
     "output_type": "execute_result"
    }
   ],
   "source": [
    "df_train_user_autoenc.shape, type(df_train_user_autoenc),df_train_user_autoenc.head()"
   ]
  },
  {
   "cell_type": "code",
   "execution_count": 13,
   "metadata": {},
   "outputs": [
    {
     "data": {
      "text/plain": [
       "((6041, 11),\n",
       " pandas.core.frame.DataFrame,\n",
       "    user_idx  user_autoenc0  user_autoenc1  user_autoenc2  user_autoenc3  \\\n",
       " 0         0       1.443038       3.739923      -1.705728      -0.934832   \n",
       " 1         1      -2.179663      -0.304209       2.231106      -2.690022   \n",
       " 2         2      -1.197682       2.911296      -1.374013      -0.956890   \n",
       " 3         3      -0.795275       1.550588       0.345821      -2.817803   \n",
       " 4         4       2.792106       3.132009      -2.735980      -1.092634   \n",
       " \n",
       "    user_autoenc4  user_autoenc5  user_autoenc6  user_autoenc7  user_autoenc8  \\\n",
       " 0      -2.361988      -0.164131      -2.501593       0.092132       4.284271   \n",
       " 1       1.797029      -0.735618       3.405828       3.636310      -0.675551   \n",
       " 2      -2.304279      -1.051586       0.005976      -0.470597       1.295456   \n",
       " 3      -1.488546      -0.206169       1.536819       2.329327       1.548221   \n",
       " 4      -3.802804       1.253022      -2.804603      -1.343972       3.890115   \n",
       " \n",
       "    user_autoenc9  \n",
       " 0       3.389087  \n",
       " 1       1.583212  \n",
       " 2       2.075265  \n",
       " 3       2.507328  \n",
       " 4       2.367678  )"
      ]
     },
     "execution_count": 13,
     "metadata": {},
     "output_type": "execute_result"
    }
   ],
   "source": [
    "df_valid_user_autoenc.shape, type(df_valid_user_autoenc),df_valid_user_autoenc.head()"
   ]
  },
  {
   "cell_type": "code",
   "execution_count": 14,
   "metadata": {},
   "outputs": [
    {
     "data": {
      "text/plain": [
       "((3707, 26),\n",
       " pandas.core.frame.DataFrame,\n",
       "    item_idx  item_autoenc0  item_autoenc1  item_autoenc2  item_autoenc3  \\\n",
       " 0         0      -0.972387      -0.606349      -1.684785       3.331483   \n",
       " 1         1       0.109613       2.493398       1.538485      -3.214294   \n",
       " 2         2       2.546608      -0.385986      -2.767612      -0.812071   \n",
       " 3         3      -1.314622       5.501726       1.575552      -5.851224   \n",
       " 4         4      -1.303826      -2.574216      -4.260112       4.948697   \n",
       " \n",
       "    item_autoenc4  item_autoenc5  item_autoenc6  item_autoenc7  item_autoenc8  \\\n",
       " 0      -4.366021       0.424214      -0.572584      -1.469266      -0.936130   \n",
       " 1      -5.050033      -4.308205      -0.751286      -1.576796       3.761183   \n",
       " 2      -1.934735      -4.304457      -1.387528      -1.374283       1.729323   \n",
       " 3      -1.000455      -4.277728       2.578251      -2.228659       6.636960   \n",
       " 4       1.262775       1.786267       0.612944      -1.522320      -4.641035   \n",
       " \n",
       "    ...  item_autoenc15  item_autoenc16  item_autoenc17  item_autoenc18  \\\n",
       " 0  ...       -0.608460       -2.979846        0.638834        0.245304   \n",
       " 1  ...        4.214801       -4.522526        5.681977       -3.465879   \n",
       " 2  ...        0.633923       -3.248116        3.704189       -3.737520   \n",
       " 3  ...        2.186127       -3.175230        7.909575       -2.991511   \n",
       " 4  ...       -2.230738        2.555233       -5.007383        4.081265   \n",
       " \n",
       "    item_autoenc19  item_autoenc20  item_autoenc21  item_autoenc22  \\\n",
       " 0        1.087182        3.282634        5.484075        1.130925   \n",
       " 1        1.920064       -1.246745        2.935915       -0.071899   \n",
       " 2       -0.570514        0.109860        5.140727       -1.363789   \n",
       " 3        0.128482       -2.730391       -1.991107       -5.363262   \n",
       " 4        0.887879        6.726396        5.138170        3.260158   \n",
       " \n",
       "    item_autoenc23  item_autoenc24  \n",
       " 0        2.098932       -0.588464  \n",
       " 1       -0.106036       -2.280650  \n",
       " 2        1.358756       -3.688738  \n",
       " 3       -2.447411       -2.122037  \n",
       " 4        5.017570       -1.921575  \n",
       " \n",
       " [5 rows x 26 columns])"
      ]
     },
     "execution_count": 14,
     "metadata": {},
     "output_type": "execute_result"
    }
   ],
   "source": [
    "df_train_item_autoenc.shape, type(df_train_item_autoenc),df_train_item_autoenc.head()"
   ]
  },
  {
   "cell_type": "code",
   "execution_count": 15,
   "metadata": {},
   "outputs": [
    {
     "data": {
      "text/plain": [
       "((3707, 26),\n",
       " pandas.core.frame.DataFrame,\n",
       "    item_idx  item_autoenc0  item_autoenc1  item_autoenc2  item_autoenc3  \\\n",
       " 0         0      -2.260203       3.249211       0.732744       0.672127   \n",
       " 1         1      -1.437780       4.805419       2.360490      -3.502130   \n",
       " 2         2       2.185920       2.270772      -1.313627      -0.561884   \n",
       " 3         3      -1.766132       4.403568       1.506800      -2.777096   \n",
       " 4         4      -0.824570      -2.970635      -3.598530       3.352428   \n",
       " \n",
       "    item_autoenc4  item_autoenc5  item_autoenc6  item_autoenc7  item_autoenc8  \\\n",
       " 0      -6.091678      -0.611016       0.990156      -3.158490       1.314611   \n",
       " 1      -5.824772      -4.784998       1.876775      -2.511013       4.959239   \n",
       " 2      -3.195740      -3.176659      -2.118562      -1.412818       2.192565   \n",
       " 3      -1.904963      -1.274057       1.787238      -2.549058       3.284896   \n",
       " 4       0.860574      -0.284102       1.422206      -1.463916      -2.705498   \n",
       " \n",
       "    ...  item_autoenc15  item_autoenc16  item_autoenc17  item_autoenc18  \\\n",
       " 0  ...        2.796474       -3.455809        4.435221        0.279910   \n",
       " 1  ...        3.930228       -3.703976        6.729170       -1.785125   \n",
       " 2  ...        1.224871       -3.381800        5.348843       -2.815683   \n",
       " 3  ...        0.180715       -0.721643        4.211367       -2.285719   \n",
       " 4  ...       -0.464589        1.873167       -4.282616        2.985932   \n",
       " \n",
       "    item_autoenc19  item_autoenc20  item_autoenc21  item_autoenc22  \\\n",
       " 0        3.396531        2.841140        3.399641       -1.293907   \n",
       " 1        3.646008        0.100164        1.785740       -1.858226   \n",
       " 2       -0.642458        0.863307        3.606010       -2.371078   \n",
       " 3       -0.134735        0.616023        0.033945       -2.184162   \n",
       " 4        0.454287        4.719953        4.892051        2.653874   \n",
       " \n",
       "    item_autoenc23  item_autoenc24  \n",
       " 0        0.396739       -1.956778  \n",
       " 1       -0.490995       -2.383969  \n",
       " 2       -0.417250       -2.504559  \n",
       " 3       -0.382632       -0.840352  \n",
       " 4        5.644776       -2.130894  \n",
       " \n",
       " [5 rows x 26 columns])"
      ]
     },
     "execution_count": 15,
     "metadata": {},
     "output_type": "execute_result"
    }
   ],
   "source": [
    "df_valid_item_autoenc.shape, type(df_valid_item_autoenc),df_valid_item_autoenc.head()"
   ]
  },
  {
   "cell_type": "code",
   "execution_count": 16,
   "metadata": {},
   "outputs": [
    {
     "data": {
      "text/plain": [
       "user_idx         False\n",
       "user_autoenc0    False\n",
       "user_autoenc1    False\n",
       "user_autoenc2    False\n",
       "user_autoenc3    False\n",
       "user_autoenc4    False\n",
       "user_autoenc5    False\n",
       "user_autoenc6    False\n",
       "user_autoenc7    False\n",
       "user_autoenc8    False\n",
       "user_autoenc9    False\n",
       "dtype: bool"
      ]
     },
     "execution_count": 16,
     "metadata": {},
     "output_type": "execute_result"
    }
   ],
   "source": [
    "df_valid_user_autoenc.isnull().any()"
   ]
  },
  {
   "cell_type": "code",
   "execution_count": 17,
   "metadata": {},
   "outputs": [
    {
     "data": {
      "text/plain": [
       "userId                 0\n",
       "itemId                 0\n",
       "rating                 0\n",
       "timestamp              0\n",
       "gender                 0\n",
       "age                    0\n",
       "occupation             0\n",
       "zip                    0\n",
       "title                  0\n",
       "genre                  0\n",
       "random_dstype          0\n",
       "user_idx               0\n",
       "item_idx               0\n",
       "dstype_random_train    0\n",
       "dstype_random_valid    0\n",
       "gender_idx             0\n",
       "age_idx                0\n",
       "title_idx              0\n",
       "genre_idx              0\n",
       "zip_idx                0\n",
       "dtype: int64"
      ]
     },
     "execution_count": 17,
     "metadata": {},
     "output_type": "execute_result"
    }
   ],
   "source": [
    "df_valid.isnull().sum()"
   ]
  },
  {
   "cell_type": "code",
   "execution_count": 18,
   "metadata": {},
   "outputs": [
    {
     "data": {
      "text/plain": [
       "userId                 0\n",
       "itemId                 0\n",
       "rating                 0\n",
       "timestamp              0\n",
       "gender                 0\n",
       "age                    0\n",
       "occupation             0\n",
       "zip                    0\n",
       "title                  0\n",
       "genre                  0\n",
       "random_dstype          0\n",
       "user_idx               0\n",
       "item_idx               0\n",
       "dstype_random_train    0\n",
       "dstype_random_valid    0\n",
       "gender_idx             0\n",
       "age_idx                0\n",
       "title_idx              0\n",
       "genre_idx              0\n",
       "zip_idx                0\n",
       "dtype: int64"
      ]
     },
     "execution_count": 18,
     "metadata": {},
     "output_type": "execute_result"
    }
   ],
   "source": [
    "df_train.isnull().sum()"
   ]
  },
  {
   "cell_type": "code",
   "execution_count": 19,
   "metadata": {},
   "outputs": [
    {
     "data": {
      "text/plain": [
       "((900188, 20), (100021, 20))"
      ]
     },
     "execution_count": 19,
     "metadata": {},
     "output_type": "execute_result"
    }
   ],
   "source": [
    "df_train.shape, df_valid.shape"
   ]
  },
  {
   "cell_type": "code",
   "execution_count": 20,
   "metadata": {},
   "outputs": [
    {
     "data": {
      "text/plain": [
       "userId                  int64\n",
       "itemId                  int64\n",
       "rating                  int64\n",
       "timestamp               int64\n",
       "gender                 object\n",
       "age                     int64\n",
       "occupation              int64\n",
       "zip                    object\n",
       "title                  object\n",
       "genre                  object\n",
       "random_dstype          object\n",
       "user_idx                int64\n",
       "item_idx                int64\n",
       "dstype_random_train     int64\n",
       "dstype_random_valid     int64\n",
       "gender_idx              int64\n",
       "age_idx                 int64\n",
       "title_idx               int64\n",
       "genre_idx               int64\n",
       "zip_idx                 int64\n",
       "dtype: object"
      ]
     },
     "execution_count": 20,
     "metadata": {},
     "output_type": "execute_result"
    }
   ],
   "source": [
    "df_train.dtypes"
   ]
  },
  {
   "cell_type": "code",
   "execution_count": 21,
   "metadata": {},
   "outputs": [
    {
     "data": {
      "text/html": [
       "<div>\n",
       "<style scoped>\n",
       "    .dataframe tbody tr th:only-of-type {\n",
       "        vertical-align: middle;\n",
       "    }\n",
       "\n",
       "    .dataframe tbody tr th {\n",
       "        vertical-align: top;\n",
       "    }\n",
       "\n",
       "    .dataframe thead th {\n",
       "        text-align: right;\n",
       "    }\n",
       "</style>\n",
       "<table border=\"1\" class=\"dataframe\">\n",
       "  <thead>\n",
       "    <tr style=\"text-align: right;\">\n",
       "      <th></th>\n",
       "      <th>userId</th>\n",
       "      <th>itemId</th>\n",
       "      <th>rating</th>\n",
       "      <th>timestamp</th>\n",
       "      <th>gender</th>\n",
       "      <th>age</th>\n",
       "      <th>occupation</th>\n",
       "      <th>zip</th>\n",
       "      <th>title</th>\n",
       "      <th>genre</th>\n",
       "      <th>random_dstype</th>\n",
       "      <th>user_idx</th>\n",
       "      <th>item_idx</th>\n",
       "      <th>dstype_random_train</th>\n",
       "      <th>dstype_random_valid</th>\n",
       "      <th>gender_idx</th>\n",
       "      <th>age_idx</th>\n",
       "      <th>title_idx</th>\n",
       "      <th>genre_idx</th>\n",
       "      <th>zip_idx</th>\n",
       "    </tr>\n",
       "  </thead>\n",
       "  <tbody>\n",
       "    <tr>\n",
       "      <th>648724</th>\n",
       "      <td>3908</td>\n",
       "      <td>2347</td>\n",
       "      <td>4</td>\n",
       "      <td>965941231</td>\n",
       "      <td>M</td>\n",
       "      <td>25</td>\n",
       "      <td>0</td>\n",
       "      <td>10021</td>\n",
       "      <td>Pope of Greenwich Village, The (1984)</td>\n",
       "      <td>Action</td>\n",
       "      <td>train</td>\n",
       "      <td>1</td>\n",
       "      <td>1</td>\n",
       "      <td>1</td>\n",
       "      <td>0</td>\n",
       "      <td>1</td>\n",
       "      <td>1</td>\n",
       "      <td>1</td>\n",
       "      <td>1</td>\n",
       "      <td>1</td>\n",
       "    </tr>\n",
       "    <tr>\n",
       "      <th>203881</th>\n",
       "      <td>1254</td>\n",
       "      <td>1541</td>\n",
       "      <td>2</td>\n",
       "      <td>974823280</td>\n",
       "      <td>F</td>\n",
       "      <td>18</td>\n",
       "      <td>1</td>\n",
       "      <td>02144</td>\n",
       "      <td>Addicted to Love (1997)</td>\n",
       "      <td>Comedy|Romance</td>\n",
       "      <td>train</td>\n",
       "      <td>2</td>\n",
       "      <td>2</td>\n",
       "      <td>1</td>\n",
       "      <td>0</td>\n",
       "      <td>2</td>\n",
       "      <td>2</td>\n",
       "      <td>2</td>\n",
       "      <td>2</td>\n",
       "      <td>2</td>\n",
       "    </tr>\n",
       "    <tr>\n",
       "      <th>243394</th>\n",
       "      <td>1467</td>\n",
       "      <td>2617</td>\n",
       "      <td>3</td>\n",
       "      <td>977173059</td>\n",
       "      <td>M</td>\n",
       "      <td>25</td>\n",
       "      <td>5</td>\n",
       "      <td>97007</td>\n",
       "      <td>Mummy, The (1999)</td>\n",
       "      <td>Action|Adventure|Horror|Thriller</td>\n",
       "      <td>train</td>\n",
       "      <td>3</td>\n",
       "      <td>3</td>\n",
       "      <td>1</td>\n",
       "      <td>0</td>\n",
       "      <td>1</td>\n",
       "      <td>1</td>\n",
       "      <td>3</td>\n",
       "      <td>3</td>\n",
       "      <td>3</td>\n",
       "    </tr>\n",
       "    <tr>\n",
       "      <th>788507</th>\n",
       "      <td>4717</td>\n",
       "      <td>3754</td>\n",
       "      <td>3</td>\n",
       "      <td>963502544</td>\n",
       "      <td>M</td>\n",
       "      <td>45</td>\n",
       "      <td>17</td>\n",
       "      <td>48310</td>\n",
       "      <td>Adventures of Rocky and Bullwinkle, The (2000)</td>\n",
       "      <td>Animation|Children's|Comedy</td>\n",
       "      <td>train</td>\n",
       "      <td>4</td>\n",
       "      <td>4</td>\n",
       "      <td>1</td>\n",
       "      <td>0</td>\n",
       "      <td>1</td>\n",
       "      <td>3</td>\n",
       "      <td>4</td>\n",
       "      <td>4</td>\n",
       "      <td>4</td>\n",
       "    </tr>\n",
       "    <tr>\n",
       "      <th>301066</th>\n",
       "      <td>1789</td>\n",
       "      <td>2997</td>\n",
       "      <td>5</td>\n",
       "      <td>974700402</td>\n",
       "      <td>M</td>\n",
       "      <td>1</td>\n",
       "      <td>10</td>\n",
       "      <td>19116</td>\n",
       "      <td>Being John Malkovich (1999)</td>\n",
       "      <td>Comedy</td>\n",
       "      <td>train</td>\n",
       "      <td>5</td>\n",
       "      <td>5</td>\n",
       "      <td>1</td>\n",
       "      <td>0</td>\n",
       "      <td>1</td>\n",
       "      <td>4</td>\n",
       "      <td>5</td>\n",
       "      <td>5</td>\n",
       "      <td>5</td>\n",
       "    </tr>\n",
       "  </tbody>\n",
       "</table>\n",
       "</div>"
      ],
      "text/plain": [
       "        userId  itemId  rating  timestamp gender  age  occupation    zip  \\\n",
       "648724    3908    2347       4  965941231      M   25           0  10021   \n",
       "203881    1254    1541       2  974823280      F   18           1  02144   \n",
       "243394    1467    2617       3  977173059      M   25           5  97007   \n",
       "788507    4717    3754       3  963502544      M   45          17  48310   \n",
       "301066    1789    2997       5  974700402      M    1          10  19116   \n",
       "\n",
       "                                                 title  \\\n",
       "648724           Pope of Greenwich Village, The (1984)   \n",
       "203881                         Addicted to Love (1997)   \n",
       "243394                               Mummy, The (1999)   \n",
       "788507  Adventures of Rocky and Bullwinkle, The (2000)   \n",
       "301066                     Being John Malkovich (1999)   \n",
       "\n",
       "                                   genre random_dstype  user_idx  item_idx  \\\n",
       "648724                            Action         train         1         1   \n",
       "203881                    Comedy|Romance         train         2         2   \n",
       "243394  Action|Adventure|Horror|Thriller         train         3         3   \n",
       "788507       Animation|Children's|Comedy         train         4         4   \n",
       "301066                            Comedy         train         5         5   \n",
       "\n",
       "        dstype_random_train  dstype_random_valid  gender_idx  age_idx  \\\n",
       "648724                    1                    0           1        1   \n",
       "203881                    1                    0           2        2   \n",
       "243394                    1                    0           1        1   \n",
       "788507                    1                    0           1        3   \n",
       "301066                    1                    0           1        4   \n",
       "\n",
       "        title_idx  genre_idx  zip_idx  \n",
       "648724          1          1        1  \n",
       "203881          2          2        2  \n",
       "243394          3          3        3  \n",
       "788507          4          4        4  \n",
       "301066          5          5        5  "
      ]
     },
     "execution_count": 21,
     "metadata": {},
     "output_type": "execute_result"
    }
   ],
   "source": [
    "df_train.head()"
   ]
  },
  {
   "cell_type": "code",
   "execution_count": 22,
   "metadata": {},
   "outputs": [],
   "source": [
    "df_train=pd.merge(df_train,df_train_item_autoenc,on='item_idx',how='left')"
   ]
  },
  {
   "cell_type": "code",
   "execution_count": 23,
   "metadata": {},
   "outputs": [
    {
     "data": {
      "text/plain": [
       "(900188, 45)"
      ]
     },
     "execution_count": 23,
     "metadata": {},
     "output_type": "execute_result"
    }
   ],
   "source": [
    "df_train.shape"
   ]
  },
  {
   "cell_type": "code",
   "execution_count": 24,
   "metadata": {},
   "outputs": [
    {
     "name": "stdout",
     "output_type": "stream",
     "text": [
      "(100021, 20)\n"
     ]
    },
    {
     "data": {
      "text/plain": [
       "(100021, 45)"
      ]
     },
     "execution_count": 24,
     "metadata": {},
     "output_type": "execute_result"
    }
   ],
   "source": [
    "print(df_valid.shape)\n",
    "df_valid=pd.merge(df_valid,df_valid_item_autoenc,on='item_idx',how='left')\n",
    "df_valid.shape"
   ]
  },
  {
   "cell_type": "code",
   "execution_count": 25,
   "metadata": {},
   "outputs": [
    {
     "data": {
      "text/plain": [
       "(100021, 45)"
      ]
     },
     "execution_count": 25,
     "metadata": {},
     "output_type": "execute_result"
    }
   ],
   "source": [
    "df_valid.shape"
   ]
  },
  {
   "cell_type": "code",
   "execution_count": 26,
   "metadata": {},
   "outputs": [
    {
     "name": "stdout",
     "output_type": "stream",
     "text": [
      "(100021, 45)\n"
     ]
    },
    {
     "data": {
      "text/plain": [
       "(100021, 55)"
      ]
     },
     "execution_count": 26,
     "metadata": {},
     "output_type": "execute_result"
    }
   ],
   "source": [
    "print(df_valid.shape)\n",
    "df_valid=pd.merge(df_valid,df_valid_user_autoenc,on='user_idx',how='left')\n",
    "df_valid.shape"
   ]
  },
  {
   "cell_type": "code",
   "execution_count": 27,
   "metadata": {},
   "outputs": [
    {
     "name": "stdout",
     "output_type": "stream",
     "text": [
      "(900188, 45)\n"
     ]
    },
    {
     "data": {
      "text/plain": [
       "(900188, 55)"
      ]
     },
     "execution_count": 27,
     "metadata": {},
     "output_type": "execute_result"
    }
   ],
   "source": [
    "print(df_train.shape)\n",
    "df_train=pd.merge(df_train,df_train_user_autoenc,on='user_idx',how='left')\n",
    "df_train.shape"
   ]
  },
  {
   "cell_type": "code",
   "execution_count": 28,
   "metadata": {},
   "outputs": [
    {
     "data": {
      "text/plain": [
       "Index(['userId', 'itemId', 'rating', 'timestamp', 'gender', 'age',\n",
       "       'occupation', 'zip', 'title', 'genre', 'random_dstype', 'user_idx',\n",
       "       'item_idx', 'dstype_random_train', 'dstype_random_valid', 'gender_idx',\n",
       "       'age_idx', 'title_idx', 'genre_idx', 'zip_idx', 'item_autoenc0',\n",
       "       'item_autoenc1', 'item_autoenc2', 'item_autoenc3', 'item_autoenc4',\n",
       "       'item_autoenc5', 'item_autoenc6', 'item_autoenc7', 'item_autoenc8',\n",
       "       'item_autoenc9', 'item_autoenc10', 'item_autoenc11', 'item_autoenc12',\n",
       "       'item_autoenc13', 'item_autoenc14', 'item_autoenc15', 'item_autoenc16',\n",
       "       'item_autoenc17', 'item_autoenc18', 'item_autoenc19', 'item_autoenc20',\n",
       "       'item_autoenc21', 'item_autoenc22', 'item_autoenc23', 'item_autoenc24',\n",
       "       'user_autoenc0', 'user_autoenc1', 'user_autoenc2', 'user_autoenc3',\n",
       "       'user_autoenc4', 'user_autoenc5', 'user_autoenc6', 'user_autoenc7',\n",
       "       'user_autoenc8', 'user_autoenc9'],\n",
       "      dtype='object')"
      ]
     },
     "execution_count": 28,
     "metadata": {},
     "output_type": "execute_result"
    }
   ],
   "source": [
    "df_train.columns"
   ]
  },
  {
   "cell_type": "code",
   "execution_count": 29,
   "metadata": {},
   "outputs": [],
   "source": [
    "autoenc_cols=df_train.columns[df_train.columns.str.contains('autoenc')]"
   ]
  },
  {
   "cell_type": "code",
   "execution_count": 30,
   "metadata": {},
   "outputs": [],
   "source": [
    "autoenc_cols=autoenc_cols.tolist()"
   ]
  },
  {
   "cell_type": "code",
   "execution_count": 31,
   "metadata": {},
   "outputs": [
    {
     "data": {
      "text/plain": [
       "['item_autoenc0',\n",
       " 'item_autoenc1',\n",
       " 'item_autoenc2',\n",
       " 'item_autoenc3',\n",
       " 'item_autoenc4',\n",
       " 'item_autoenc5',\n",
       " 'item_autoenc6',\n",
       " 'item_autoenc7',\n",
       " 'item_autoenc8',\n",
       " 'item_autoenc9',\n",
       " 'item_autoenc10',\n",
       " 'item_autoenc11',\n",
       " 'item_autoenc12',\n",
       " 'item_autoenc13',\n",
       " 'item_autoenc14',\n",
       " 'item_autoenc15',\n",
       " 'item_autoenc16',\n",
       " 'item_autoenc17',\n",
       " 'item_autoenc18',\n",
       " 'item_autoenc19',\n",
       " 'item_autoenc20',\n",
       " 'item_autoenc21',\n",
       " 'item_autoenc22',\n",
       " 'item_autoenc23',\n",
       " 'item_autoenc24',\n",
       " 'user_autoenc0',\n",
       " 'user_autoenc1',\n",
       " 'user_autoenc2',\n",
       " 'user_autoenc3',\n",
       " 'user_autoenc4',\n",
       " 'user_autoenc5',\n",
       " 'user_autoenc6',\n",
       " 'user_autoenc7',\n",
       " 'user_autoenc8',\n",
       " 'user_autoenc9']"
      ]
     },
     "execution_count": 31,
     "metadata": {},
     "output_type": "execute_result"
    }
   ],
   "source": [
    "autoenc_cols"
   ]
  },
  {
   "cell_type": "code",
   "execution_count": 32,
   "metadata": {},
   "outputs": [
    {
     "data": {
      "text/html": [
       "<div>\n",
       "<style scoped>\n",
       "    .dataframe tbody tr th:only-of-type {\n",
       "        vertical-align: middle;\n",
       "    }\n",
       "\n",
       "    .dataframe tbody tr th {\n",
       "        vertical-align: top;\n",
       "    }\n",
       "\n",
       "    .dataframe thead th {\n",
       "        text-align: right;\n",
       "    }\n",
       "</style>\n",
       "<table border=\"1\" class=\"dataframe\">\n",
       "  <thead>\n",
       "    <tr style=\"text-align: right;\">\n",
       "      <th></th>\n",
       "      <th>userId</th>\n",
       "      <th>itemId</th>\n",
       "      <th>rating</th>\n",
       "      <th>timestamp</th>\n",
       "      <th>gender</th>\n",
       "      <th>age</th>\n",
       "      <th>occupation</th>\n",
       "      <th>zip</th>\n",
       "      <th>title</th>\n",
       "      <th>genre</th>\n",
       "      <th>...</th>\n",
       "      <th>user_autoenc0</th>\n",
       "      <th>user_autoenc1</th>\n",
       "      <th>user_autoenc2</th>\n",
       "      <th>user_autoenc3</th>\n",
       "      <th>user_autoenc4</th>\n",
       "      <th>user_autoenc5</th>\n",
       "      <th>user_autoenc6</th>\n",
       "      <th>user_autoenc7</th>\n",
       "      <th>user_autoenc8</th>\n",
       "      <th>user_autoenc9</th>\n",
       "    </tr>\n",
       "  </thead>\n",
       "  <tbody>\n",
       "    <tr>\n",
       "      <th>0</th>\n",
       "      <td>3908</td>\n",
       "      <td>2347</td>\n",
       "      <td>4</td>\n",
       "      <td>965941231</td>\n",
       "      <td>M</td>\n",
       "      <td>25</td>\n",
       "      <td>0</td>\n",
       "      <td>10021</td>\n",
       "      <td>Pope of Greenwich Village, The (1984)</td>\n",
       "      <td>Action</td>\n",
       "      <td>...</td>\n",
       "      <td>-0.809926</td>\n",
       "      <td>-0.483721</td>\n",
       "      <td>2.453740</td>\n",
       "      <td>-1.551907</td>\n",
       "      <td>3.453933</td>\n",
       "      <td>-0.869701</td>\n",
       "      <td>2.121841</td>\n",
       "      <td>3.970576</td>\n",
       "      <td>-1.076461</td>\n",
       "      <td>2.741880</td>\n",
       "    </tr>\n",
       "    <tr>\n",
       "      <th>1</th>\n",
       "      <td>1254</td>\n",
       "      <td>1541</td>\n",
       "      <td>2</td>\n",
       "      <td>974823280</td>\n",
       "      <td>F</td>\n",
       "      <td>18</td>\n",
       "      <td>1</td>\n",
       "      <td>02144</td>\n",
       "      <td>Addicted to Love (1997)</td>\n",
       "      <td>Comedy|Romance</td>\n",
       "      <td>...</td>\n",
       "      <td>1.254941</td>\n",
       "      <td>-2.131284</td>\n",
       "      <td>1.810311</td>\n",
       "      <td>0.597943</td>\n",
       "      <td>0.346018</td>\n",
       "      <td>2.327138</td>\n",
       "      <td>0.337492</td>\n",
       "      <td>0.072589</td>\n",
       "      <td>-2.992533</td>\n",
       "      <td>-0.936141</td>\n",
       "    </tr>\n",
       "    <tr>\n",
       "      <th>2</th>\n",
       "      <td>1467</td>\n",
       "      <td>2617</td>\n",
       "      <td>3</td>\n",
       "      <td>977173059</td>\n",
       "      <td>M</td>\n",
       "      <td>25</td>\n",
       "      <td>5</td>\n",
       "      <td>97007</td>\n",
       "      <td>Mummy, The (1999)</td>\n",
       "      <td>Action|Adventure|Horror|Thriller</td>\n",
       "      <td>...</td>\n",
       "      <td>-3.206347</td>\n",
       "      <td>-0.449586</td>\n",
       "      <td>2.392539</td>\n",
       "      <td>-2.755247</td>\n",
       "      <td>0.173469</td>\n",
       "      <td>-1.687047</td>\n",
       "      <td>4.412164</td>\n",
       "      <td>4.598782</td>\n",
       "      <td>-0.101633</td>\n",
       "      <td>1.518000</td>\n",
       "    </tr>\n",
       "    <tr>\n",
       "      <th>3</th>\n",
       "      <td>4717</td>\n",
       "      <td>3754</td>\n",
       "      <td>3</td>\n",
       "      <td>963502544</td>\n",
       "      <td>M</td>\n",
       "      <td>45</td>\n",
       "      <td>17</td>\n",
       "      <td>48310</td>\n",
       "      <td>Adventures of Rocky and Bullwinkle, The (2000)</td>\n",
       "      <td>Animation|Children's|Comedy</td>\n",
       "      <td>...</td>\n",
       "      <td>-0.097608</td>\n",
       "      <td>1.857577</td>\n",
       "      <td>-2.348423</td>\n",
       "      <td>2.663222</td>\n",
       "      <td>-1.915509</td>\n",
       "      <td>-1.128552</td>\n",
       "      <td>-1.527104</td>\n",
       "      <td>-2.628924</td>\n",
       "      <td>-0.967917</td>\n",
       "      <td>-1.195479</td>\n",
       "    </tr>\n",
       "    <tr>\n",
       "      <th>4</th>\n",
       "      <td>1789</td>\n",
       "      <td>2997</td>\n",
       "      <td>5</td>\n",
       "      <td>974700402</td>\n",
       "      <td>M</td>\n",
       "      <td>1</td>\n",
       "      <td>10</td>\n",
       "      <td>19116</td>\n",
       "      <td>Being John Malkovich (1999)</td>\n",
       "      <td>Comedy</td>\n",
       "      <td>...</td>\n",
       "      <td>-0.673590</td>\n",
       "      <td>0.183299</td>\n",
       "      <td>0.776998</td>\n",
       "      <td>0.922859</td>\n",
       "      <td>-0.916169</td>\n",
       "      <td>0.800552</td>\n",
       "      <td>-0.068556</td>\n",
       "      <td>0.458235</td>\n",
       "      <td>-0.755471</td>\n",
       "      <td>0.044356</td>\n",
       "    </tr>\n",
       "  </tbody>\n",
       "</table>\n",
       "<p>5 rows × 55 columns</p>\n",
       "</div>"
      ],
      "text/plain": [
       "   userId  itemId  rating  timestamp gender  age  occupation    zip  \\\n",
       "0    3908    2347       4  965941231      M   25           0  10021   \n",
       "1    1254    1541       2  974823280      F   18           1  02144   \n",
       "2    1467    2617       3  977173059      M   25           5  97007   \n",
       "3    4717    3754       3  963502544      M   45          17  48310   \n",
       "4    1789    2997       5  974700402      M    1          10  19116   \n",
       "\n",
       "                                            title  \\\n",
       "0           Pope of Greenwich Village, The (1984)   \n",
       "1                         Addicted to Love (1997)   \n",
       "2                               Mummy, The (1999)   \n",
       "3  Adventures of Rocky and Bullwinkle, The (2000)   \n",
       "4                     Being John Malkovich (1999)   \n",
       "\n",
       "                              genre  ... user_autoenc0  user_autoenc1  \\\n",
       "0                            Action  ...     -0.809926      -0.483721   \n",
       "1                    Comedy|Romance  ...      1.254941      -2.131284   \n",
       "2  Action|Adventure|Horror|Thriller  ...     -3.206347      -0.449586   \n",
       "3       Animation|Children's|Comedy  ...     -0.097608       1.857577   \n",
       "4                            Comedy  ...     -0.673590       0.183299   \n",
       "\n",
       "   user_autoenc2  user_autoenc3  user_autoenc4  user_autoenc5  user_autoenc6  \\\n",
       "0       2.453740      -1.551907       3.453933      -0.869701       2.121841   \n",
       "1       1.810311       0.597943       0.346018       2.327138       0.337492   \n",
       "2       2.392539      -2.755247       0.173469      -1.687047       4.412164   \n",
       "3      -2.348423       2.663222      -1.915509      -1.128552      -1.527104   \n",
       "4       0.776998       0.922859      -0.916169       0.800552      -0.068556   \n",
       "\n",
       "   user_autoenc7  user_autoenc8  user_autoenc9  \n",
       "0       3.970576      -1.076461       2.741880  \n",
       "1       0.072589      -2.992533      -0.936141  \n",
       "2       4.598782      -0.101633       1.518000  \n",
       "3      -2.628924      -0.967917      -1.195479  \n",
       "4       0.458235      -0.755471       0.044356  \n",
       "\n",
       "[5 rows x 55 columns]"
      ]
     },
     "execution_count": 32,
     "metadata": {},
     "output_type": "execute_result"
    }
   ],
   "source": [
    "df_train.head()"
   ]
  },
  {
   "cell_type": "code",
   "execution_count": 33,
   "metadata": {},
   "outputs": [
    {
     "data": {
      "text/html": [
       "<div>\n",
       "<style scoped>\n",
       "    .dataframe tbody tr th:only-of-type {\n",
       "        vertical-align: middle;\n",
       "    }\n",
       "\n",
       "    .dataframe tbody tr th {\n",
       "        vertical-align: top;\n",
       "    }\n",
       "\n",
       "    .dataframe thead th {\n",
       "        text-align: right;\n",
       "    }\n",
       "</style>\n",
       "<table border=\"1\" class=\"dataframe\">\n",
       "  <thead>\n",
       "    <tr style=\"text-align: right;\">\n",
       "      <th></th>\n",
       "      <th>user_idx</th>\n",
       "      <th>item_idx</th>\n",
       "      <th>item_autoenc0</th>\n",
       "      <th>item_autoenc1</th>\n",
       "      <th>item_autoenc2</th>\n",
       "      <th>item_autoenc3</th>\n",
       "      <th>item_autoenc4</th>\n",
       "      <th>item_autoenc5</th>\n",
       "      <th>item_autoenc6</th>\n",
       "      <th>item_autoenc7</th>\n",
       "      <th>...</th>\n",
       "      <th>user_autoenc0</th>\n",
       "      <th>user_autoenc1</th>\n",
       "      <th>user_autoenc2</th>\n",
       "      <th>user_autoenc3</th>\n",
       "      <th>user_autoenc4</th>\n",
       "      <th>user_autoenc5</th>\n",
       "      <th>user_autoenc6</th>\n",
       "      <th>user_autoenc7</th>\n",
       "      <th>user_autoenc8</th>\n",
       "      <th>user_autoenc9</th>\n",
       "    </tr>\n",
       "  </thead>\n",
       "  <tbody>\n",
       "    <tr>\n",
       "      <th>0</th>\n",
       "      <td>1</td>\n",
       "      <td>1</td>\n",
       "      <td>0.109613</td>\n",
       "      <td>2.493398</td>\n",
       "      <td>1.538485</td>\n",
       "      <td>-3.214294</td>\n",
       "      <td>-5.050033</td>\n",
       "      <td>-4.308205</td>\n",
       "      <td>-0.751286</td>\n",
       "      <td>-1.576796</td>\n",
       "      <td>...</td>\n",
       "      <td>-0.809926</td>\n",
       "      <td>-0.483721</td>\n",
       "      <td>2.453740</td>\n",
       "      <td>-1.551907</td>\n",
       "      <td>3.453933</td>\n",
       "      <td>-0.869701</td>\n",
       "      <td>2.121841</td>\n",
       "      <td>3.970576</td>\n",
       "      <td>-1.076461</td>\n",
       "      <td>2.741880</td>\n",
       "    </tr>\n",
       "    <tr>\n",
       "      <th>1</th>\n",
       "      <td>2</td>\n",
       "      <td>2</td>\n",
       "      <td>2.546608</td>\n",
       "      <td>-0.385986</td>\n",
       "      <td>-2.767612</td>\n",
       "      <td>-0.812071</td>\n",
       "      <td>-1.934735</td>\n",
       "      <td>-4.304457</td>\n",
       "      <td>-1.387528</td>\n",
       "      <td>-1.374283</td>\n",
       "      <td>...</td>\n",
       "      <td>1.254941</td>\n",
       "      <td>-2.131284</td>\n",
       "      <td>1.810311</td>\n",
       "      <td>0.597943</td>\n",
       "      <td>0.346018</td>\n",
       "      <td>2.327138</td>\n",
       "      <td>0.337492</td>\n",
       "      <td>0.072589</td>\n",
       "      <td>-2.992533</td>\n",
       "      <td>-0.936141</td>\n",
       "    </tr>\n",
       "    <tr>\n",
       "      <th>2</th>\n",
       "      <td>3</td>\n",
       "      <td>3</td>\n",
       "      <td>-1.314622</td>\n",
       "      <td>5.501726</td>\n",
       "      <td>1.575552</td>\n",
       "      <td>-5.851224</td>\n",
       "      <td>-1.000455</td>\n",
       "      <td>-4.277728</td>\n",
       "      <td>2.578251</td>\n",
       "      <td>-2.228659</td>\n",
       "      <td>...</td>\n",
       "      <td>-3.206347</td>\n",
       "      <td>-0.449586</td>\n",
       "      <td>2.392539</td>\n",
       "      <td>-2.755247</td>\n",
       "      <td>0.173469</td>\n",
       "      <td>-1.687047</td>\n",
       "      <td>4.412164</td>\n",
       "      <td>4.598782</td>\n",
       "      <td>-0.101633</td>\n",
       "      <td>1.518000</td>\n",
       "    </tr>\n",
       "    <tr>\n",
       "      <th>3</th>\n",
       "      <td>4</td>\n",
       "      <td>4</td>\n",
       "      <td>-1.303826</td>\n",
       "      <td>-2.574216</td>\n",
       "      <td>-4.260112</td>\n",
       "      <td>4.948697</td>\n",
       "      <td>1.262775</td>\n",
       "      <td>1.786267</td>\n",
       "      <td>0.612944</td>\n",
       "      <td>-1.522320</td>\n",
       "      <td>...</td>\n",
       "      <td>-0.097608</td>\n",
       "      <td>1.857577</td>\n",
       "      <td>-2.348423</td>\n",
       "      <td>2.663222</td>\n",
       "      <td>-1.915509</td>\n",
       "      <td>-1.128552</td>\n",
       "      <td>-1.527104</td>\n",
       "      <td>-2.628924</td>\n",
       "      <td>-0.967917</td>\n",
       "      <td>-1.195479</td>\n",
       "    </tr>\n",
       "    <tr>\n",
       "      <th>4</th>\n",
       "      <td>5</td>\n",
       "      <td>5</td>\n",
       "      <td>2.273207</td>\n",
       "      <td>-0.567770</td>\n",
       "      <td>-3.191041</td>\n",
       "      <td>1.269062</td>\n",
       "      <td>-1.824770</td>\n",
       "      <td>-1.585689</td>\n",
       "      <td>-2.006722</td>\n",
       "      <td>-1.141187</td>\n",
       "      <td>...</td>\n",
       "      <td>-0.673590</td>\n",
       "      <td>0.183299</td>\n",
       "      <td>0.776998</td>\n",
       "      <td>0.922859</td>\n",
       "      <td>-0.916169</td>\n",
       "      <td>0.800552</td>\n",
       "      <td>-0.068556</td>\n",
       "      <td>0.458235</td>\n",
       "      <td>-0.755471</td>\n",
       "      <td>0.044356</td>\n",
       "    </tr>\n",
       "  </tbody>\n",
       "</table>\n",
       "<p>5 rows × 37 columns</p>\n",
       "</div>"
      ],
      "text/plain": [
       "   user_idx  item_idx  item_autoenc0  item_autoenc1  item_autoenc2  \\\n",
       "0         1         1       0.109613       2.493398       1.538485   \n",
       "1         2         2       2.546608      -0.385986      -2.767612   \n",
       "2         3         3      -1.314622       5.501726       1.575552   \n",
       "3         4         4      -1.303826      -2.574216      -4.260112   \n",
       "4         5         5       2.273207      -0.567770      -3.191041   \n",
       "\n",
       "   item_autoenc3  item_autoenc4  item_autoenc5  item_autoenc6  item_autoenc7  \\\n",
       "0      -3.214294      -5.050033      -4.308205      -0.751286      -1.576796   \n",
       "1      -0.812071      -1.934735      -4.304457      -1.387528      -1.374283   \n",
       "2      -5.851224      -1.000455      -4.277728       2.578251      -2.228659   \n",
       "3       4.948697       1.262775       1.786267       0.612944      -1.522320   \n",
       "4       1.269062      -1.824770      -1.585689      -2.006722      -1.141187   \n",
       "\n",
       "   ...  user_autoenc0  user_autoenc1  user_autoenc2  user_autoenc3  \\\n",
       "0  ...      -0.809926      -0.483721       2.453740      -1.551907   \n",
       "1  ...       1.254941      -2.131284       1.810311       0.597943   \n",
       "2  ...      -3.206347      -0.449586       2.392539      -2.755247   \n",
       "3  ...      -0.097608       1.857577      -2.348423       2.663222   \n",
       "4  ...      -0.673590       0.183299       0.776998       0.922859   \n",
       "\n",
       "   user_autoenc4  user_autoenc5  user_autoenc6  user_autoenc7  user_autoenc8  \\\n",
       "0       3.453933      -0.869701       2.121841       3.970576      -1.076461   \n",
       "1       0.346018       2.327138       0.337492       0.072589      -2.992533   \n",
       "2       0.173469      -1.687047       4.412164       4.598782      -0.101633   \n",
       "3      -1.915509      -1.128552      -1.527104      -2.628924      -0.967917   \n",
       "4      -0.916169       0.800552      -0.068556       0.458235      -0.755471   \n",
       "\n",
       "   user_autoenc9  \n",
       "0       2.741880  \n",
       "1      -0.936141  \n",
       "2       1.518000  \n",
       "3      -1.195479  \n",
       "4       0.044356  \n",
       "\n",
       "[5 rows x 37 columns]"
      ]
     },
     "execution_count": 33,
     "metadata": {},
     "output_type": "execute_result"
    }
   ],
   "source": [
    "df_train[['user_idx','item_idx']+autoenc_cols].head()"
   ]
  },
  {
   "cell_type": "code",
   "execution_count": 34,
   "metadata": {},
   "outputs": [
    {
     "data": {
      "text/plain": [
       "(count    100021.000000\n",
       " mean          3.584587\n",
       " std           1.114938\n",
       " min           1.000000\n",
       " 25%           3.000000\n",
       " 50%           4.000000\n",
       " 75%           4.000000\n",
       " max           5.000000\n",
       " Name: rating, dtype: float64, count    900188.000000\n",
       " mean          3.581229\n",
       " std           1.117342\n",
       " min           1.000000\n",
       " 25%           3.000000\n",
       " 50%           4.000000\n",
       " 75%           4.000000\n",
       " max           5.000000\n",
       " Name: rating, dtype: float64)"
      ]
     },
     "execution_count": 34,
     "metadata": {},
     "output_type": "execute_result"
    }
   ],
   "source": [
    "df_valid['rating'].describe(),df_train['rating'].describe()"
   ]
  },
  {
   "cell_type": "code",
   "execution_count": 35,
   "metadata": {},
   "outputs": [
    {
     "data": {
      "text/plain": [
       "Index(['userId', 'itemId', 'rating', 'timestamp', 'gender', 'age',\n",
       "       'occupation', 'zip', 'title', 'genre', 'random_dstype', 'user_idx',\n",
       "       'item_idx', 'dstype_random_train', 'dstype_random_valid', 'gender_idx',\n",
       "       'age_idx', 'title_idx', 'genre_idx', 'zip_idx', 'item_autoenc0',\n",
       "       'item_autoenc1', 'item_autoenc2', 'item_autoenc3', 'item_autoenc4',\n",
       "       'item_autoenc5', 'item_autoenc6', 'item_autoenc7', 'item_autoenc8',\n",
       "       'item_autoenc9', 'item_autoenc10', 'item_autoenc11', 'item_autoenc12',\n",
       "       'item_autoenc13', 'item_autoenc14', 'item_autoenc15', 'item_autoenc16',\n",
       "       'item_autoenc17', 'item_autoenc18', 'item_autoenc19', 'item_autoenc20',\n",
       "       'item_autoenc21', 'item_autoenc22', 'item_autoenc23', 'item_autoenc24',\n",
       "       'user_autoenc0', 'user_autoenc1', 'user_autoenc2', 'user_autoenc3',\n",
       "       'user_autoenc4', 'user_autoenc5', 'user_autoenc6', 'user_autoenc7',\n",
       "       'user_autoenc8', 'user_autoenc9'],\n",
       "      dtype='object')"
      ]
     },
     "execution_count": 35,
     "metadata": {},
     "output_type": "execute_result"
    }
   ],
   "source": [
    "df_train.columns"
   ]
  },
  {
   "cell_type": "code",
   "execution_count": 36,
   "metadata": {},
   "outputs": [],
   "source": [
    "emb_cols=['gender_idx','age_idx','title_idx','genre_idx','zip_idx']"
   ]
  },
  {
   "cell_type": "code",
   "execution_count": 37,
   "metadata": {},
   "outputs": [
    {
     "data": {
      "text/plain": [
       "[('gender_idx', 2),\n",
       " ('age_idx', 7),\n",
       " ('title_idx', 3692),\n",
       " ('genre_idx', 301),\n",
       " ('zip_idx', 3439)]"
      ]
     },
     "execution_count": 37,
     "metadata": {},
     "output_type": "execute_result"
    }
   ],
   "source": [
    "[(col, df_train[col].nunique()) for col in emb_cols]"
   ]
  },
  {
   "cell_type": "code",
   "execution_count": 38,
   "metadata": {},
   "outputs": [
    {
     "data": {
      "text/plain": [
       "[('gender_idx', 0),\n",
       " ('age_idx', 0),\n",
       " ('title_idx', 36),\n",
       " ('genre_idx', 3),\n",
       " ('zip_idx', 34)]"
      ]
     },
     "execution_count": 38,
     "metadata": {},
     "output_type": "execute_result"
    }
   ],
   "source": [
    "[(col, min(50,df_train[col].nunique()//100)) for col in emb_cols]"
   ]
  },
  {
   "cell_type": "markdown",
   "metadata": {},
   "source": [
    "### Dataset and DataLoader"
   ]
  },
  {
   "cell_type": "code",
   "execution_count": 39,
   "metadata": {},
   "outputs": [],
   "source": [
    "class cfdata (torch.utils.data.dataset.Dataset):\n",
    "    def __init__(self,dfX,dfY,denseCols):\n",
    "        self.dfX,self.dfY=dfX,dfY\n",
    "        self.denseCols=denseCols\n",
    "        \n",
    "    def __len__ (self):\n",
    "        return self.dfX.shape[0]\n",
    "    \n",
    "    def __getitem__ (self, idx):\n",
    "        return torch.FloatTensor(self.dfX.iloc[idx].values),torch.FloatTensor([self.dfY.values[idx]])"
   ]
  },
  {
   "cell_type": "code",
   "execution_count": 40,
   "metadata": {},
   "outputs": [],
   "source": [
    "dstrain=cfdata(df_train[['user_idx','item_idx']+autoenc_cols],df_train['rating'],autoenc_cols)\n",
    "dsvalid=cfdata(df_valid[['user_idx','item_idx']+autoenc_cols],df_valid['rating'],autoenc_cols)"
   ]
  },
  {
   "cell_type": "code",
   "execution_count": 41,
   "metadata": {},
   "outputs": [
    {
     "data": {
      "text/plain": [
       "(900188, 55)"
      ]
     },
     "execution_count": 41,
     "metadata": {},
     "output_type": "execute_result"
    }
   ],
   "source": [
    "df_train.shape"
   ]
  },
  {
   "cell_type": "code",
   "execution_count": 42,
   "metadata": {},
   "outputs": [],
   "source": [
    "bs=64"
   ]
  },
  {
   "cell_type": "code",
   "execution_count": 43,
   "metadata": {},
   "outputs": [],
   "source": [
    "dltrain=DataLoader(dstrain,bs,True)"
   ]
  },
  {
   "cell_type": "code",
   "execution_count": 44,
   "metadata": {},
   "outputs": [],
   "source": [
    "dlvalid=DataLoader(dsvalid,bs,True)"
   ]
  },
  {
   "cell_type": "code",
   "execution_count": 45,
   "metadata": {},
   "outputs": [
    {
     "data": {
      "text/plain": [
       "(61.0, 388.96)"
      ]
     },
     "execution_count": 45,
     "metadata": {},
     "output_type": "execute_result"
    }
   ],
   "source": [
    "610/10, 9724/25"
   ]
  },
  {
   "cell_type": "code",
   "execution_count": 46,
   "metadata": {},
   "outputs": [
    {
     "data": {
      "text/plain": [
       "(6040, 3706)"
      ]
     },
     "execution_count": 46,
     "metadata": {},
     "output_type": "execute_result"
    }
   ],
   "source": [
    "len(user_to_idx),len(movie_to_idx)"
   ]
  },
  {
   "cell_type": "code",
   "execution_count": 47,
   "metadata": {},
   "outputs": [
    {
     "data": {
      "text/plain": [
       "4    313752\n",
       "3    235301\n",
       "5    203738\n",
       "2     96781\n",
       "1     50616\n",
       "Name: rating, dtype: int64"
      ]
     },
     "execution_count": 47,
     "metadata": {},
     "output_type": "execute_result"
    }
   ],
   "source": [
    "df_train['rating'].value_counts()\n"
   ]
  },
  {
   "cell_type": "code",
   "execution_count": 48,
   "metadata": {},
   "outputs": [
    {
     "data": {
      "text/plain": [
       "1"
      ]
     },
     "execution_count": 48,
     "metadata": {},
     "output_type": "execute_result"
    }
   ],
   "source": [
    "df_train['rating'].min()"
   ]
  },
  {
   "cell_type": "code",
   "execution_count": 49,
   "metadata": {},
   "outputs": [
    {
     "data": {
      "text/plain": [
       "(6040, 3706)"
      ]
     },
     "execution_count": 49,
     "metadata": {},
     "output_type": "execute_result"
    }
   ],
   "source": [
    "len(user_to_idx), len(movie_to_idx)"
   ]
  },
  {
   "cell_type": "markdown",
   "metadata": {},
   "source": [
    "## Model Architecture"
   ]
  },
  {
   "cell_type": "code",
   "execution_count": 50,
   "metadata": {},
   "outputs": [],
   "source": [
    "n_users=len(user_to_idx)\n",
    "n_movies=len(movie_to_idx)\n",
    "n_emb_user=50\n",
    "n_emb_movie=50\n",
    "min_rating=min(df_train['rating'])\n",
    "max_rating=max(df_train['rating'])\n",
    "dropout_e=0.1\n",
    "hidden=[25,15,10]\n",
    "dropouts=[0.2,0.2,0.2]"
   ]
  },
  {
   "cell_type": "code",
   "execution_count": 51,
   "metadata": {},
   "outputs": [],
   "source": [
    "def hidden_layer(x,y,dropout,activation=nn.Sigmoid()):\n",
    "    return nn.Sequential(\n",
    "        nn.Linear(x, y),\n",
    "        activation,\n",
    "        nn.Dropout(p=dropout)\n",
    "        )   "
   ]
  },
  {
   "cell_type": "code",
   "execution_count": 52,
   "metadata": {},
   "outputs": [],
   "source": [
    "class cf(nn.Module):    \n",
    "    def __init__(self,n_users,n_emb_user,n_emb_movie,n_movies,min_rating,max_rating,autoenc_cols,\\\n",
    "                 dropout_e=0.01,hidden=[15,5],dropouts=[0.2,0.2],error_type=\"mse\"):\n",
    "        super().__init__()\n",
    "        self.n_users,self.n_emb_user,self.n_emb_movie,self.n_movies,self.min_rating,self.max_rating=\\\n",
    "                    n_users,n_emb_user,n_emb_movie,n_movies,min_rating,max_rating\n",
    "        self.dropout_e,self.hidden,self.dropouts=dropout_e,hidden,dropouts\n",
    "        self.autoenc_cols,self.len_dense_cols=autoenc_cols,len(autoenc_cols)\n",
    "        self.create_architecture()\n",
    "\n",
    "        if error_type!=\"mse\":\n",
    "            self.criterion=nn.L1Loss()\n",
    "        else:\n",
    "            self.criterion=nn.MSELoss()\n",
    "        \n",
    "    def create_architecture(self):\n",
    "        self.emb_user=nn.Embedding(self.n_users+1,self.n_emb_user)\n",
    "        self.emb_movie=nn.Embedding(self.n_movies+1,self.n_emb_movie)\n",
    "        self.emb_dropout=nn.Dropout(self.dropout_e)\n",
    "\n",
    "        \n",
    "        self.lin1= nn.Sequential(nn.Linear(self.n_emb_user+self.n_emb_movie,self.hidden[0]),\n",
    "                    nn.ReLU(),\n",
    "                    nn.Dropout(p=dropouts[0]) )\n",
    "        self.lin2= nn.Sequential (nn.Linear(self.len_dense_cols,self.hidden[1]),\n",
    "                    nn.ReLU(),\n",
    "                    nn.Dropout(p=dropouts[1]) )\n",
    "        self.lin3= nn.Sequential (nn.Linear(self.hidden[0]+self.hidden[1],self.hidden[2]),\n",
    "                    nn.ReLU(),\n",
    "                    nn.Dropout(p=dropouts[2]))\n",
    "        self.lin4=nn.Linear(self.hidden[2],1)\n",
    "        self.sigmoid=nn.Sigmoid()\n",
    "        \n",
    "        \n",
    "    def init_parameters(self):\n",
    "        nn.init.kaiming_normal_(self.emb_user.weight.data)\n",
    "        nn.init.kaiming_normal_(self.emb_movie.weight.dat)\n",
    "        #nn.init.kaiming_normal_(lin)\n",
    "       \n",
    "    def forward (self,Xb,Yb):\n",
    "        users=Xb[:,0].long()\n",
    "        items=Xb[:,1].long()\n",
    "        users=self.emb_dropout(self.emb_user(users))\n",
    "        items=self.emb_dropout(self.emb_movie(items))\n",
    "        \n",
    "        denses=Xb[:,2:]\n",
    "        embed=torch.cat([users,items],1)\n",
    "        \n",
    "        out1=self.lin1(embed)\n",
    "        out2=self.lin2(denses)\n",
    "        out3=torch.cat([out1,out2],1)\n",
    "        out4=self.lin3(out3)\n",
    "        out5=self.lin4(out4)\n",
    "        \n",
    "        out=self.sigmoid(out5)\n",
    "        \n",
    "        preds=out*(self.max_rating-self.min_rating)+self.min_rating\n",
    "        #preds=preds.view(-1)\n",
    "        loss=self.criterion(preds,Yb)\n",
    "        return preds,loss"
   ]
  },
  {
   "cell_type": "code",
   "execution_count": 53,
   "metadata": {},
   "outputs": [],
   "source": [
    "cfobj=cf(n_users,n_emb_user,n_emb_movie,n_movies,min_rating,max_rating,autoenc_cols,dropout_e,hidden,dropouts,error_type=\"mse\")"
   ]
  },
  {
   "cell_type": "code",
   "execution_count": 54,
   "metadata": {},
   "outputs": [
    {
     "data": {
      "text/plain": [
       "cf(\n",
       "  (emb_user): Embedding(6041, 50)\n",
       "  (emb_movie): Embedding(3707, 50)\n",
       "  (emb_dropout): Dropout(p=0.1)\n",
       "  (lin1): Sequential(\n",
       "    (0): Linear(in_features=100, out_features=25, bias=True)\n",
       "    (1): ReLU()\n",
       "    (2): Dropout(p=0.2)\n",
       "  )\n",
       "  (lin2): Sequential(\n",
       "    (0): Linear(in_features=35, out_features=15, bias=True)\n",
       "    (1): ReLU()\n",
       "    (2): Dropout(p=0.2)\n",
       "  )\n",
       "  (lin3): Sequential(\n",
       "    (0): Linear(in_features=40, out_features=10, bias=True)\n",
       "    (1): ReLU()\n",
       "    (2): Dropout(p=0.2)\n",
       "  )\n",
       "  (lin4): Linear(in_features=10, out_features=1, bias=True)\n",
       "  (sigmoid): Sigmoid()\n",
       "  (criterion): MSELoss()\n",
       ")"
      ]
     },
     "execution_count": 54,
     "metadata": {},
     "output_type": "execute_result"
    }
   ],
   "source": [
    "cfobj"
   ]
  },
  {
   "cell_type": "code",
   "execution_count": 55,
   "metadata": {},
   "outputs": [],
   "source": [
    "for Xb, Yb in dltrain:\n",
    "    break"
   ]
  },
  {
   "cell_type": "code",
   "execution_count": 56,
   "metadata": {},
   "outputs": [
    {
     "data": {
      "text/plain": [
       "(torch.Size([64, 37]), torch.Size([64, 1]))"
      ]
     },
     "execution_count": 56,
     "metadata": {},
     "output_type": "execute_result"
    }
   ],
   "source": [
    "Xb.shape, Yb.shape"
   ]
  },
  {
   "cell_type": "code",
   "execution_count": 57,
   "metadata": {},
   "outputs": [
    {
     "data": {
      "text/plain": [
       "torch.float32"
      ]
     },
     "execution_count": 57,
     "metadata": {},
     "output_type": "execute_result"
    }
   ],
   "source": [
    "Xb.dtype"
   ]
  },
  {
   "cell_type": "code",
   "execution_count": 58,
   "metadata": {},
   "outputs": [
    {
     "data": {
      "text/plain": [
       "(tensor([[3.1409],\n",
       "         [3.4517],\n",
       "         [3.5060],\n",
       "         [3.1626],\n",
       "         [3.6244],\n",
       "         [3.0272],\n",
       "         [3.4895],\n",
       "         [3.4079],\n",
       "         [3.3137],\n",
       "         [3.3907],\n",
       "         [3.1018],\n",
       "         [2.9361],\n",
       "         [2.9131],\n",
       "         [3.0977],\n",
       "         [3.1387],\n",
       "         [3.2682],\n",
       "         [2.9440],\n",
       "         [3.0725],\n",
       "         [3.4216],\n",
       "         [3.1205],\n",
       "         [3.2912],\n",
       "         [3.3737],\n",
       "         [3.3984],\n",
       "         [3.0432],\n",
       "         [3.4227],\n",
       "         [2.9582],\n",
       "         [2.8058],\n",
       "         [3.2347],\n",
       "         [3.1115],\n",
       "         [3.2862],\n",
       "         [3.1253],\n",
       "         [3.2030],\n",
       "         [3.0169],\n",
       "         [3.2015],\n",
       "         [3.4996],\n",
       "         [3.2017],\n",
       "         [3.4020],\n",
       "         [3.4398],\n",
       "         [3.2787],\n",
       "         [3.7142],\n",
       "         [3.0984],\n",
       "         [3.6498],\n",
       "         [3.0683],\n",
       "         [3.2465],\n",
       "         [3.0518],\n",
       "         [3.0152],\n",
       "         [3.0132],\n",
       "         [2.8417],\n",
       "         [3.1110],\n",
       "         [3.4478],\n",
       "         [3.0597],\n",
       "         [3.0722],\n",
       "         [3.4009],\n",
       "         [3.0673],\n",
       "         [3.5691],\n",
       "         [3.0869],\n",
       "         [3.2400],\n",
       "         [3.2555],\n",
       "         [3.3233],\n",
       "         [3.2457],\n",
       "         [3.0842],\n",
       "         [3.1036],\n",
       "         [3.1281],\n",
       "         [3.0606]], grad_fn=<AddBackward0>),\n",
       " tensor(1.3483, grad_fn=<MseLossBackward>))"
      ]
     },
     "execution_count": 58,
     "metadata": {},
     "output_type": "execute_result"
    }
   ],
   "source": [
    "cfobj.forward(Xb,Yb)"
   ]
  },
  {
   "cell_type": "markdown",
   "metadata": {},
   "source": [
    "## Learner"
   ]
  },
  {
   "cell_type": "code",
   "execution_count": 59,
   "metadata": {},
   "outputs": [],
   "source": [
    "class Learner():\n",
    "    def __init__(self,model,optimizer,metric_fn,device,bptt=12,print_every=5,clip_val=None,\\\n",
    "                 cycle_mult=0,lr_decay=0.7,wd_mult=6,start_lr=2e-2, end_lr=5e-4,error_type=\"mse\"):\n",
    "        self.model,self.optimizer,self.metric_fn,self.device,self.print_every,self.bptt,self.losses,self.clip_val=\\\n",
    "            model,optimizer,metric_fn,device,print_every,bptt,[],clip_val\n",
    "        self.n_epochs=1\n",
    "        self.cycle_mult,self.lr_decay=cycle_mult,lr_decay\n",
    "        self.wd_mult=wd_mult\n",
    "        for param_group in self.optimizer.param_groups:\n",
    "            self.start_lr=param_group['lr']\n",
    "            self.start_wd=param_group['weight_decay']\n",
    "        self.wd=self.start_wd\n",
    "        self.lr=self.start_lr\n",
    "        self.end_lr=end_lr\n",
    "        self.n_epoch=0\n",
    "        self.lrs=[1e-2,5e-3,1e-4,5e-4]\n",
    "        self.preds,self.preds_valid,self.trainY,self.actual=[],[],[],[]\n",
    "        self.ratio=self.end_lr/self.start_lr\n",
    "        self.num_steps=self.cycle_mult\n",
    "        self.reset_cycle=self.cycle_mult\n",
    "        self.error_type=error_type\n",
    "        \n",
    "    def fit (self,Xb,Yb,mode_train=True):\n",
    "        if mode_train:\n",
    "            self.model.train()\n",
    "        else:\n",
    "            self.model.eval()\n",
    "        \n",
    "        #import pdb\n",
    "        #pdb.set_trace()\n",
    "        preds,loss=self.model(Xb,Yb)\n",
    "\n",
    "     \n",
    "        if mode_train:\n",
    "            if 1==0:\n",
    "                lr =self.lrs[torch.randint(0,4,(1,))]\n",
    "                for param_group in self.optimizer.param_groups:\n",
    "                    param_group['lr']=lr\n",
    "            \n",
    "            self.optimizer.zero_grad()\n",
    "            loss.backward()\n",
    "            self.optimizer.step()\n",
    "        myloss=loss.item()\n",
    "    \n",
    "        \n",
    "        with torch.no_grad():\n",
    "            if self.error_type == \"mse\":\n",
    "                acc=nn.L1Loss() (preds,Yb)\n",
    "                myrmse=np.sqrt(myloss)\n",
    "            else:\n",
    "                acc=nn.MSELoss() (preds,Yb)\n",
    "                myrmse=np.sqrt(acc.item())\n",
    "            acc=acc.item()\n",
    "                 \n",
    "   \n",
    "        del preds\n",
    "        del loss\n",
    "        \n",
    "        if self.clip_val is not None:\n",
    "            torch.nn.utils.clip_grad_norm_(self.model.parameters(), self.clip_val)\n",
    "        \n",
    "        return myloss, acc, myrmse\n",
    "    \n",
    "    def lr_find (self,start_lr,end_lr,iterator,n_batch):\n",
    "        losses,lrs=[],[]\n",
    "        ratio=end_lr/start_lr\n",
    "        num_steps=n_batch\n",
    "        lr=start_lr\n",
    "        for i in range(num_steps):            \n",
    "            lr=lr*(end_lr/start_lr)**(1/num_steps)\n",
    "            lrs.append(lr)\n",
    "        self.lrs=lrs\n",
    "        self.run_epoch(iterator,mode_train=True,lrs=lrs)\n",
    "    \n",
    "    def run_epoch(self,iterator,mode_train,lrs=None):\n",
    "        epoch_loss,epoch_acc,i,k=0,0,0,0\n",
    "        epoch_rmse=0\n",
    "\n",
    "\n",
    "        for Xb,Yb in iterator:\n",
    "            Xb=Xb.to(self.device)\n",
    "            Yb=Yb.to(self.device)\n",
    "            \n",
    "            if lrs is not None:\n",
    "                lr=lrs[k]\n",
    "                for param_group in self.optimizer.param_groups:\n",
    "                    param_group['lr']=lr \n",
    "            \n",
    "\n",
    "            loss,acc,myrmse=self.fit(Xb,Yb,mode_train)\n",
    "            \n",
    "            if lrs is not None:\n",
    "                self.losses.append(loss)\n",
    "\n",
    "\n",
    "            \n",
    "\n",
    "            epoch_loss+=loss\n",
    "            epoch_acc+=acc\n",
    "            epoch_rmse+=myrmse\n",
    "            \n",
    "            k=k+1\n",
    "            if k%self.print_every == 0:\n",
    "                if k:\n",
    "                    print (f'Batch:{k} {epoch_loss/(k)}  ')  \n",
    "                    torch.cuda.empty_cache()\n",
    "\n",
    "        epoch_loss=epoch_loss/len(iterator)\n",
    "        epoch_acc=epoch_acc/len(iterator)\n",
    "        epoch_rmse=epoch_rmse/len(iterator)\n",
    "            \n",
    "        return epoch_loss,epoch_acc,epoch_rmse\n",
    "    \n",
    "    def plot_lrs(self, n_roll=1,ylim=None,xlim=None):\n",
    "        import seaborn as sns\n",
    "        ax=sns.lineplot(x=self.lrs,y=pd.Series(self.losses).rolling(n_roll).mean())\n",
    "        ax.set_xscale('log')\n",
    "        ax.set_ylabel('Loss')\n",
    "        ax.set_xlabel('Learning Rate')\n",
    "        if ylim is not None:\n",
    "            plt.ylim(ylim)\n",
    "        if xlim is not None:\n",
    "            plt.xlim(xlim)\n",
    "\n",
    "     \n",
    "    def run_epochs(self,dltrain,dlvalid,n_epochs=1):              \n",
    "        for epoch in range(n_epochs):                \n",
    "            loss,acc,rmse=self.run_epoch(dltrain,True)\n",
    "\n",
    "            lossv,accv,rmsev=self.run_epoch(dlvalid,mode_train=False)\n",
    "           \n",
    "            if self.error_type==\"mse\":\n",
    "                loss_mse=loss\n",
    "                loss_rmse=rmse\n",
    "                loss_mae=acc\n",
    "                lossv_mse=lossv\n",
    "                lossv_rmse=rmsev\n",
    "                lossv_mae=accv\n",
    "                \n",
    "            else:\n",
    "                loss_mse=acc\n",
    "                loss_rmse=rmse\n",
    "                loss_mae=loss\n",
    "                lossv_mse=accv\n",
    "                lossv_rmse=rmsev\n",
    "                lossv_mae=lossv\n",
    "            \n",
    "            print (f'Epoch:{epoch} Learning rate {self.lr} Weight Decay {self.wd} Train Loss:{loss} \\\n",
    "                Valid Loss:{lossv} Train RMSE:{loss_rmse} Valid RMSE:{lossv_rmse} Train MSE:{loss_mse} Valid MSE:{lossv_mse} \\\n",
    "                Train MAE:{loss_mae} Valid MAE:{lossv_mae}')\n",
    "\n",
    "              \n",
    "         \n",
    "     \n",
    "            if self.cycle_mult:\n",
    "                if self.n_epoch==self.reset_cycle:\n",
    "                    self.lr=self.start_lr\n",
    "                    #self.wd=self.start_wd\n",
    "                    self.reset_cycle*=self.cycle_mult\n",
    "                    #reset_cycle=self.n_epoch+reset_cycle\n",
    "                    self.n_epoch=0\n",
    "                    self.ratio=self.end_lr/self.start_lr\n",
    "                    self.num_steps=self.reset_cycle\n",
    "                else:\n",
    "                    #self.lr*=(self.lr_decay**self.n_epoch)  \n",
    "                    #if self.n_epoch>1:\n",
    "                    #    self.wd*=self.wd_mult\n",
    "                    self.lr=self.lr*(self.end_lr/self.start_lr)**(1/self.num_steps)\n",
    "                    self.n_epoch+=1\n",
    "        \n",
    "\n",
    "                \n",
    "            for param_group in self.optimizer.param_groups:\n",
    "                param_group['lr']=self.lr\n",
    "                #param_group['weight_decay']=self.wd\n",
    "          \n",
    "     "
   ]
  },
  {
   "cell_type": "code",
   "execution_count": 60,
   "metadata": {},
   "outputs": [],
   "source": [
    "device='cuda:0'"
   ]
  },
  {
   "cell_type": "code",
   "execution_count": 61,
   "metadata": {},
   "outputs": [],
   "source": [
    "del cfobj"
   ]
  },
  {
   "cell_type": "code",
   "execution_count": 62,
   "metadata": {},
   "outputs": [],
   "source": [
    "cfobj=cf(n_users,n_emb_user,n_emb_movie,n_movies,min_rating,max_rating,autoenc_cols,dropout_e,hidden,dropouts,error_type=\"mae\")"
   ]
  },
  {
   "cell_type": "code",
   "execution_count": 63,
   "metadata": {},
   "outputs": [],
   "source": [
    "cfobj=cfobj.to(device)"
   ]
  },
  {
   "cell_type": "code",
   "execution_count": 64,
   "metadata": {},
   "outputs": [
    {
     "data": {
      "text/plain": [
       "cf(\n",
       "  (emb_user): Embedding(6041, 50)\n",
       "  (emb_movie): Embedding(3707, 50)\n",
       "  (emb_dropout): Dropout(p=0.1)\n",
       "  (lin1): Sequential(\n",
       "    (0): Linear(in_features=100, out_features=25, bias=True)\n",
       "    (1): ReLU()\n",
       "    (2): Dropout(p=0.2)\n",
       "  )\n",
       "  (lin2): Sequential(\n",
       "    (0): Linear(in_features=35, out_features=15, bias=True)\n",
       "    (1): ReLU()\n",
       "    (2): Dropout(p=0.2)\n",
       "  )\n",
       "  (lin3): Sequential(\n",
       "    (0): Linear(in_features=40, out_features=10, bias=True)\n",
       "    (1): ReLU()\n",
       "    (2): Dropout(p=0.2)\n",
       "  )\n",
       "  (lin4): Linear(in_features=10, out_features=1, bias=True)\n",
       "  (sigmoid): Sigmoid()\n",
       "  (criterion): L1Loss()\n",
       ")"
      ]
     },
     "execution_count": 64,
     "metadata": {},
     "output_type": "execute_result"
    }
   ],
   "source": [
    "cfobj"
   ]
  },
  {
   "cell_type": "code",
   "execution_count": 65,
   "metadata": {},
   "outputs": [
    {
     "data": {
      "text/plain": [
       "14066"
      ]
     },
     "execution_count": 65,
     "metadata": {},
     "output_type": "execute_result"
    }
   ],
   "source": [
    "len(dltrain)"
   ]
  },
  {
   "cell_type": "code",
   "execution_count": 66,
   "metadata": {},
   "outputs": [
    {
     "data": {
      "text/plain": [
       "64"
      ]
     },
     "execution_count": 66,
     "metadata": {},
     "output_type": "execute_result"
    }
   ],
   "source": [
    "dltrain.batch_size"
   ]
  },
  {
   "cell_type": "code",
   "execution_count": 68,
   "metadata": {},
   "outputs": [],
   "source": [
    "wd=1e-8\n",
    "optimizer=torch.optim.Adam(cfobj.parameters(),lr=7e-3,betas=(0.9,0.999), weight_decay=wd)\n"
   ]
  },
  {
   "cell_type": "code",
   "execution_count": 69,
   "metadata": {},
   "outputs": [],
   "source": [
    "learner=Learner(cfobj,optimizer,None,device,0,2000,0.25,cycle_mult=0,error_type=\"mse\")"
   ]
  },
  {
   "cell_type": "code",
   "execution_count": 70,
   "metadata": {},
   "outputs": [
    {
     "name": "stdout",
     "output_type": "stream",
     "text": [
      "Batch:2000 0.9353025225996972  \n",
      "Batch:4000 0.9163024613708257  \n",
      "Batch:6000 0.8923090987106165  \n",
      "Batch:8000 0.8654468445330858  \n",
      "Batch:10000 0.8467467556893825  \n",
      "Batch:12000 0.836876678476731  \n",
      "Batch:14000 0.8372063666624683  \n"
     ]
    }
   ],
   "source": [
    "learner.lr_find(1e-4,1e-1,dltrain,len(dltrain))"
   ]
  },
  {
   "cell_type": "code",
   "execution_count": 71,
   "metadata": {},
   "outputs": [
    {
     "data": {
      "image/png": "[encoded data removed]",
      "text/plain": [
       "<Figure size 432x288 with 1 Axes>"
      ]
     },
     "metadata": {
      "needs_background": "light"
     },
     "output_type": "display_data"
    }
   ],
   "source": [
    "learner.plot_lrs(50)"
   ]
  },
  {
   "cell_type": "code",
   "execution_count": 72,
   "metadata": {},
   "outputs": [
    {
     "data": {
      "image/png": "[encoded data removed]",
      "text/plain": [
       "<Figure size 432x288 with 1 Axes>"
      ]
     },
     "metadata": {
      "needs_background": "light"
     },
     "output_type": "display_data"
    }
   ],
   "source": [
    "learner.plot_lrs(10)"
   ]
  },
  {
   "cell_type": "code",
   "execution_count": 73,
   "metadata": {},
   "outputs": [
    {
     "data": {
      "image/png": "[encoded data removed]",
      "text/plain": [
       "<Figure size 432x288 with 1 Axes>"
      ]
     },
     "metadata": {
      "needs_background": "light"
     },
     "output_type": "display_data"
    }
   ],
   "source": [
    "learner.plot_lrs(1)"
   ]
  },
  {
   "cell_type": "code",
   "execution_count": 77,
   "metadata": {},
   "outputs": [
    {
     "ename": "NameError",
     "evalue": "name 'cfobj' is not defined",
     "output_type": "error",
     "traceback": [
      "\u001b[0;31m---------------------------------------------------------------------------\u001b[0m",
      "\u001b[0;31mNameError\u001b[0m                                 Traceback (most recent call last)",
      "\u001b[0;32m<ipython-input-77-7a0459057bb3>\u001b[0m in \u001b[0;36m<module>\u001b[0;34m\u001b[0m\n\u001b[0;32m----> 1\u001b[0;31m \u001b[0;32mdel\u001b[0m \u001b[0mcfobj\u001b[0m\u001b[0;34m\u001b[0m\u001b[0;34m\u001b[0m\u001b[0m\n\u001b[0m\u001b[1;32m      2\u001b[0m \u001b[0mtorch\u001b[0m\u001b[0;34m.\u001b[0m\u001b[0mcuda\u001b[0m\u001b[0;34m.\u001b[0m\u001b[0mempty_cache\u001b[0m\u001b[0;34m(\u001b[0m\u001b[0;34m)\u001b[0m\u001b[0;34m\u001b[0m\u001b[0;34m\u001b[0m\u001b[0m\n",
      "\u001b[0;31mNameError\u001b[0m: name 'cfobj' is not defined"
     ]
    }
   ],
   "source": [
    "del cfobj\n",
    "torch.cuda.empty_cache()"
   ]
  },
  {
   "cell_type": "code",
   "execution_count": 78,
   "metadata": {},
   "outputs": [],
   "source": [
    "cfobj=cf(n_users,n_emb_user,n_emb_movie,n_movies,min_rating,max_rating,autoenc_cols,dropout_e,hidden,dropouts,error_type=\"mse\")\n",
    "cfobj=cfobj.to(device)"
   ]
  },
  {
   "cell_type": "code",
   "execution_count": 79,
   "metadata": {},
   "outputs": [],
   "source": [
    "wd=1e-8\n",
    "optimizer=torch.optim.Adam(cfobj.parameters(),lr=5e-3,betas=(0.9,0.999), weight_decay=wd)\n",
    "learner=Learner(cfobj,optimizer,None,device,0,2000,0.25,cycle_mult=0,error_type=\"mse\")\n"
   ]
  },
  {
   "cell_type": "code",
   "execution_count": 80,
   "metadata": {},
   "outputs": [
    {
     "name": "stdout",
     "output_type": "stream",
     "text": [
      "Batch:2000 1.060300169020891  \n",
      "Batch:4000 0.9958943566679954  \n",
      "Batch:6000 0.9689964676449696  \n",
      "Batch:8000 0.9519027598388493  \n",
      "Batch:10000 0.9422480147778988  \n",
      "Batch:12000 0.9343645715961854  \n",
      "Batch:14000 0.9270233263479812  \n",
      "Epoch:0 Learning rate 0.005 Weight Decay 1e-08 Train Loss:0.926913507944843                 Valid Loss:0.8569194925990687 Train RMSE:0.9582457837950702 Valid RMSE:0.9221986416683366 Train MSE:0.926913507944843 Valid MSE:0.8569194925990687                 Train MAE:0.7680961099234377 Valid MAE:0.7467680041102057\n",
      "Batch:2000 0.8726787526458502  \n",
      "Batch:4000 0.8689867517873645  \n",
      "Batch:6000 0.8666033531775077  \n",
      "Batch:8000 0.8676390777714551  \n",
      "Batch:10000 0.8667690431833267  \n",
      "Batch:12000 0.8656116024404764  \n",
      "Batch:14000 0.8652772324191672  \n",
      "Epoch:1 Learning rate 0.005 Weight Decay 1e-08 Train Loss:0.865227684664655                 Valid Loss:0.8304907849829546 Train RMSE:0.9259941404320486 Valid RMSE:0.9076948885991104 Train MSE:0.865227684664655 Valid MSE:0.8304907849829546                 Train MAE:0.7393828023192758 Valid MAE:0.7329242948683423\n",
      "Batch:2000 0.851636073321104  \n",
      "Batch:4000 0.8528676729872823  \n",
      "Batch:6000 0.8528460306574901  \n",
      "Batch:8000 0.8517293190807104  \n",
      "Batch:10000 0.8504242973029613  \n",
      "Batch:12000 0.8505408307512601  \n",
      "Batch:14000 0.8497328858098814  \n",
      "Epoch:2 Learning rate 0.005 Weight Decay 1e-08 Train Loss:0.8497040072109322                 Valid Loss:0.8112604249118615 Train RMSE:0.9175979370339002 Valid RMSE:0.8960855533270692 Train MSE:0.8497040072109322 Valid MSE:0.8112604249118615                 Train MAE:0.731866345038357 Valid MAE:0.7074175997567497\n",
      "Batch:2000 0.8300317368507385  \n",
      "Batch:4000 0.8339816429167985  \n",
      "Batch:6000 0.8337360618412495  \n",
      "Batch:8000 0.834648224323988  \n",
      "Batch:10000 0.8352013979911804  \n",
      "Batch:12000 0.8367947862297297  \n",
      "Batch:14000 0.8374516621487481  \n",
      "Epoch:3 Learning rate 0.005 Weight Decay 1e-08 Train Loss:0.8374359648079888                 Valid Loss:0.8004026474170173 Train RMSE:0.9109961998355266 Valid RMSE:0.8906374080999521 Train MSE:0.8374359648079888 Valid MSE:0.8004026474170173                 Train MAE:0.7256181750912153 Valid MAE:0.7136400335123352\n",
      "Batch:2000 0.817393308788538  \n",
      "Batch:4000 0.8235403623878956  \n",
      "Batch:6000 0.8245441025346517  \n",
      "Batch:8000 0.8243776143938303  \n",
      "Batch:10000 0.8254499402433634  \n",
      "Batch:12000 0.8256752476046483  \n",
      "Batch:14000 0.826747116665755  \n",
      "Epoch:4 Learning rate 0.005 Weight Decay 1e-08 Train Loss:0.8267456238082169                 Valid Loss:0.8017895770660213 Train RMSE:0.9051322024315535 Valid RMSE:0.8918048086963337 Train MSE:0.8267456238082169 Valid MSE:0.8017895770660213                 Train MAE:0.7205842948351445 Valid MAE:0.7173109698661687\n"
     ]
    }
   ],
   "source": [
    "learner.run_epochs(dltrain,dlvalid,5)"
   ]
  },
  {
   "cell_type": "code",
   "execution_count": 81,
   "metadata": {},
   "outputs": [],
   "source": [
    "optimizer=torch.optim.Adam(cfobj.parameters(),lr=7e-3,betas=(0.9,0.999), weight_decay=wd)\n",
    "learner=Learner(cfobj,optimizer,None,device,0,4000,0.25,cycle_mult=2,start_lr=1e-2,end_lr=5e-4,error_type=\"mse\")"
   ]
  },
  {
   "cell_type": "code",
   "execution_count": null,
   "metadata": {},
   "outputs": [
    {
     "name": "stdout",
     "output_type": "stream",
     "text": [
      "Batch:4000 0.8327947408109904  \n",
      "Batch:8000 0.8377824210524559  \n",
      "Batch:12000 0.8390916770001252  \n",
      "Epoch:0 Learning rate 0.007 Weight Decay 1e-08 Train Loss:0.8390219232511609                 Valid Loss:0.796589830443406 Train RMSE:0.9118149698286616 Valid RMSE:0.8886879134393194 Train MSE:0.8390219232511609 Valid MSE:0.796589830443406                 Train MAE:0.7261063949144465 Valid MAE:0.7091079020225612\n",
      "Batch:4000 0.7966755246222019  \n",
      "Batch:8000 0.7934965638406575  \n",
      "Batch:12000 0.7936729323243101  \n",
      "Epoch:1 Learning rate 0.0018708286933869708 Weight Decay 1e-08 Train Loss:0.7942470630990244                 Valid Loss:0.7796305857708419 Train RMSE:0.8870780571204165 Valid RMSE:0.8788974175557043 Train MSE:0.7942470630990244 Valid MSE:0.7796305857708419                 Train MAE:0.7044009524377026 Valid MAE:0.6959749800763829\n",
      "Batch:4000 0.7763004043325782  \n",
      "Batch:8000 0.7737742487490177  \n",
      "Batch:12000 0.774898945895334  \n",
      "Epoch:2 Learning rate 0.0005 Weight Decay 1e-08 Train Loss:0.7744832872374035                 Valid Loss:0.7737932634216352 Train RMSE:0.8759604378199034 Valid RMSE:0.8752975296772548 Train MSE:0.7744832872374035 Valid MSE:0.7737932634216352                 Train MAE:0.695083177962192 Valid MAE:0.6923814508217844\n",
      "Batch:4000 0.8104166967272759  \n",
      "Batch:8000 0.8158706530146301  \n",
      "Batch:12000 0.8201969125916561  \n",
      "Epoch:3 Learning rate 0.007 Weight Decay 1e-08 Train Loss:0.8219825351423006                 Valid Loss:0.8030153521153688 Train RMSE:0.9024387379635396 Valid RMSE:0.8927376161065226 Train MSE:0.8219825351423006 Valid MSE:0.8030153521153688                 Train MAE:0.7176952359179049 Valid MAE:0.7181345218660278\n",
      "Batch:4000 0.7932156589180231  \n",
      "Batch:8000 0.7943030965439976  \n",
      "Batch:12000 0.7947468031768997  \n",
      "Epoch:4 Learning rate 0.0036188120777001943 Weight Decay 1e-08 Train Loss:0.7953268755097554                 Valid Loss:0.7846735722349 Train RMSE:0.8876506921090989 Valid RMSE:0.8814682677068185 Train MSE:0.7953268755097554 Valid MSE:0.7846735722349                 Train MAE:0.7050105383457846 Valid MAE:0.6953105566902795\n",
      "Batch:4000 0.7725665940269828  \n",
      "Batch:8000 0.7737671165280045  \n"
     ]
    }
   ],
   "source": [
    "learner.run_epochs(dltrain,dlvalid,7)"
   ]
  },
  {
   "cell_type": "code",
   "execution_count": null,
   "metadata": {},
   "outputs": [],
   "source": [
    "optimizer=torch.optim.Adam(cfobj.parameters(),lr=1e-2,betas=(0.9,0.999), weight_decay=wd)\n",
    "learner=Learner(cfobj,optimizer,None,device,0,4000,0.25,cycle_mult=2,start_lr=1e-2,end_lr=5e-4,error_type=\"mse\")"
   ]
  },
  {
   "cell_type": "code",
   "execution_count": null,
   "metadata": {},
   "outputs": [
    {
     "name": "stdout",
     "output_type": "stream",
     "text": [
      "Batch:4000 0.7589641367346048  \n",
      "Batch:8000 0.7571632760427892  \n",
      "Batch:12000 0.7582903443252047  \n",
      "Epoch:0 Learning rate 0.0005 Weight Decay 1e-06 Train Loss:0.757888773687954                 Valid Loss:0.7645808913276048 Train RMSE:0.8664677383832871 Valid RMSE:0.87025126801757 Train MSE:0.757888773687954 Valid MSE:0.7645808913276048                 Train MAE:0.6829513034846999 Valid MAE:0.6842402270110235\n",
      "Epoch:0 Learning rate 0.0005 Weight Decay 1e-06 Train Loss:0.757888773687954                 Valid Loss:0.7645808913276048 Train RMSE:0.8664677383832871 Valid RMSE:0.87025126801757 Train MSE:0.757888773687954 Valid MSE:0.7645808913276048                 Train MAE:0.6829513034846999 Valid MAE:0.6842402270110235\n"
     ]
    }
   ],
   "source": [
    "learner.run_epochs(dltrain,dlvalid,7)"
   ]
  },
  {
   "cell_type": "code",
   "execution_count": 78,
   "metadata": {},
   "outputs": [],
   "source": [
    "torch.save(cfobj,f=f'{DATAPATH}/inter/cf_plus_model')\n",
    "torch.save(learner,f=f'{DATAPATH}/inter/cf_plus_learner')\n",
    "torch.save(optimizer,f=f'{DATAPATH}/inter/cf_plus_optimizer')\n",
    "torch.save(cfobj.state_dict(),f'{DATAPATH}/inter/cf_plus_state_dict')\n",
    "torch.save(optimizer.state_dict(),f'{DATAPATH}/inter/cf_plus_optimizer_state_dict')"
   ]
  },
  {
   "cell_type": "code",
   "execution_count": 74,
   "metadata": {},
   "outputs": [
    {
     "name": "stderr",
     "output_type": "stream",
     "text": [
      "/home/kirana/anaconda3/lib/python3.7/site-packages/torch/serialization.py:256: UserWarning: Couldn't retrieve source code for container of type cf. It won't be checked for correctness upon loading.\n",
      "  \"type \" + obj.__name__ + \". It won't be checked \"\n",
      "/home/kirana/anaconda3/lib/python3.7/site-packages/torch/serialization.py:256: UserWarning: Couldn't retrieve source code for container of type cf. It won't be checked for correctness upon loading.\n",
      "  \"type \" + obj.__name__ + \". It won't be checked \"\n"
     ]
    }
   ],
   "source": []
  },
  {
   "cell_type": "code",
   "execution_count": null,
   "metadata": {},
   "outputs": [],
   "source": []
  }
 ],
 "metadata": {
  "kernelspec": {
   "display_name": "Python 3",
   "language": "python",
   "name": "python3"
  },
  "language_info": {
   "codemirror_mode": {
    "name": "ipython",
    "version": 3
   },
   "file_extension": ".py",
   "mimetype": "text/x-python",
   "name": "python",
   "nbconvert_exporter": "python",
   "pygments_lexer": "ipython3",
   "version": "3.7.3"
  }
 },
 "nbformat": 4,
 "nbformat_minor": 2
}
