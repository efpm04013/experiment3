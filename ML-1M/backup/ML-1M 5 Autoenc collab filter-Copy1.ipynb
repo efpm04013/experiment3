{
 "cells": [
  {
   "cell_type": "code",
   "execution_count": 1,
   "metadata": {},
   "outputs": [],
   "source": [
    "PATH='/home/kirana/Documents/phd/exp3_autoencoder'\n",
    "DATAPATH='/home/kirana/Documents/final_dissertation_final/experiments/datasets/ml-1m'"
   ]
  },
  {
   "cell_type": "code",
   "execution_count": 2,
   "metadata": {},
   "outputs": [],
   "source": [
    "import pandas as pd\n",
    "import numpy as np\n",
    "import matplotlib.pyplot as plt\n",
    "import sklearn\n",
    "import os\n",
    "import pickle\n",
    "import torch\n",
    "from torch.utils.data import Dataset, DataLoader\n",
    "from torch import nn"
   ]
  },
  {
   "cell_type": "code",
   "execution_count": 3,
   "metadata": {},
   "outputs": [],
   "source": [
    "[df, df_train,df_valid,df,df_ratings,idx_to_user,\\\n",
    "             idx_to_movie,movie_to_idx,user_to_idx]=pickle.load(open(f'{DATAPATH}/reads.pkl','rb'))"
   ]
  },
  {
   "cell_type": "code",
   "execution_count": 4,
   "metadata": {},
   "outputs": [
    {
     "data": {
      "text/plain": [
       "(1000209, 20)"
      ]
     },
     "execution_count": 4,
     "metadata": {},
     "output_type": "execute_result"
    }
   ],
   "source": [
    "df.shape"
   ]
  },
  {
   "cell_type": "code",
   "execution_count": 5,
   "metadata": {},
   "outputs": [
    {
     "data": {
      "text/html": [
       "<div>\n",
       "<style scoped>\n",
       "    .dataframe tbody tr th:only-of-type {\n",
       "        vertical-align: middle;\n",
       "    }\n",
       "\n",
       "    .dataframe tbody tr th {\n",
       "        vertical-align: top;\n",
       "    }\n",
       "\n",
       "    .dataframe thead th {\n",
       "        text-align: right;\n",
       "    }\n",
       "</style>\n",
       "<table border=\"1\" class=\"dataframe\">\n",
       "  <thead>\n",
       "    <tr style=\"text-align: right;\">\n",
       "      <th></th>\n",
       "      <th>userId</th>\n",
       "      <th>itemId</th>\n",
       "      <th>rating</th>\n",
       "      <th>timestamp</th>\n",
       "      <th>gender</th>\n",
       "      <th>age</th>\n",
       "      <th>occupation</th>\n",
       "      <th>zip</th>\n",
       "      <th>title</th>\n",
       "      <th>genre</th>\n",
       "      <th>random_dstype</th>\n",
       "      <th>user_idx</th>\n",
       "      <th>item_idx</th>\n",
       "      <th>dstype_random_train</th>\n",
       "      <th>dstype_random_valid</th>\n",
       "      <th>gender_idx</th>\n",
       "      <th>age_idx</th>\n",
       "      <th>title_idx</th>\n",
       "      <th>genre_idx</th>\n",
       "      <th>zip_idx</th>\n",
       "    </tr>\n",
       "  </thead>\n",
       "  <tbody>\n",
       "    <tr>\n",
       "      <th>648724</th>\n",
       "      <td>3908</td>\n",
       "      <td>2347</td>\n",
       "      <td>4</td>\n",
       "      <td>965941231</td>\n",
       "      <td>M</td>\n",
       "      <td>25</td>\n",
       "      <td>0</td>\n",
       "      <td>10021</td>\n",
       "      <td>Pope of Greenwich Village, The (1984)</td>\n",
       "      <td>Action</td>\n",
       "      <td>train</td>\n",
       "      <td>1</td>\n",
       "      <td>1</td>\n",
       "      <td>1</td>\n",
       "      <td>0</td>\n",
       "      <td>1</td>\n",
       "      <td>1</td>\n",
       "      <td>1</td>\n",
       "      <td>1</td>\n",
       "      <td>1</td>\n",
       "    </tr>\n",
       "    <tr>\n",
       "      <th>203881</th>\n",
       "      <td>1254</td>\n",
       "      <td>1541</td>\n",
       "      <td>2</td>\n",
       "      <td>974823280</td>\n",
       "      <td>F</td>\n",
       "      <td>18</td>\n",
       "      <td>1</td>\n",
       "      <td>02144</td>\n",
       "      <td>Addicted to Love (1997)</td>\n",
       "      <td>Comedy|Romance</td>\n",
       "      <td>train</td>\n",
       "      <td>2</td>\n",
       "      <td>2</td>\n",
       "      <td>1</td>\n",
       "      <td>0</td>\n",
       "      <td>2</td>\n",
       "      <td>2</td>\n",
       "      <td>2</td>\n",
       "      <td>2</td>\n",
       "      <td>2</td>\n",
       "    </tr>\n",
       "    <tr>\n",
       "      <th>243394</th>\n",
       "      <td>1467</td>\n",
       "      <td>2617</td>\n",
       "      <td>3</td>\n",
       "      <td>977173059</td>\n",
       "      <td>M</td>\n",
       "      <td>25</td>\n",
       "      <td>5</td>\n",
       "      <td>97007</td>\n",
       "      <td>Mummy, The (1999)</td>\n",
       "      <td>Action|Adventure|Horror|Thriller</td>\n",
       "      <td>train</td>\n",
       "      <td>3</td>\n",
       "      <td>3</td>\n",
       "      <td>1</td>\n",
       "      <td>0</td>\n",
       "      <td>1</td>\n",
       "      <td>1</td>\n",
       "      <td>3</td>\n",
       "      <td>3</td>\n",
       "      <td>3</td>\n",
       "    </tr>\n",
       "    <tr>\n",
       "      <th>788507</th>\n",
       "      <td>4717</td>\n",
       "      <td>3754</td>\n",
       "      <td>3</td>\n",
       "      <td>963502544</td>\n",
       "      <td>M</td>\n",
       "      <td>45</td>\n",
       "      <td>17</td>\n",
       "      <td>48310</td>\n",
       "      <td>Adventures of Rocky and Bullwinkle, The (2000)</td>\n",
       "      <td>Animation|Children's|Comedy</td>\n",
       "      <td>train</td>\n",
       "      <td>4</td>\n",
       "      <td>4</td>\n",
       "      <td>1</td>\n",
       "      <td>0</td>\n",
       "      <td>1</td>\n",
       "      <td>3</td>\n",
       "      <td>4</td>\n",
       "      <td>4</td>\n",
       "      <td>4</td>\n",
       "    </tr>\n",
       "    <tr>\n",
       "      <th>301066</th>\n",
       "      <td>1789</td>\n",
       "      <td>2997</td>\n",
       "      <td>5</td>\n",
       "      <td>974700402</td>\n",
       "      <td>M</td>\n",
       "      <td>1</td>\n",
       "      <td>10</td>\n",
       "      <td>19116</td>\n",
       "      <td>Being John Malkovich (1999)</td>\n",
       "      <td>Comedy</td>\n",
       "      <td>train</td>\n",
       "      <td>5</td>\n",
       "      <td>5</td>\n",
       "      <td>1</td>\n",
       "      <td>0</td>\n",
       "      <td>1</td>\n",
       "      <td>4</td>\n",
       "      <td>5</td>\n",
       "      <td>5</td>\n",
       "      <td>5</td>\n",
       "    </tr>\n",
       "  </tbody>\n",
       "</table>\n",
       "</div>"
      ],
      "text/plain": [
       "        userId  itemId  rating  timestamp gender  age  occupation    zip  \\\n",
       "648724    3908    2347       4  965941231      M   25           0  10021   \n",
       "203881    1254    1541       2  974823280      F   18           1  02144   \n",
       "243394    1467    2617       3  977173059      M   25           5  97007   \n",
       "788507    4717    3754       3  963502544      M   45          17  48310   \n",
       "301066    1789    2997       5  974700402      M    1          10  19116   \n",
       "\n",
       "                                                 title  \\\n",
       "648724           Pope of Greenwich Village, The (1984)   \n",
       "203881                         Addicted to Love (1997)   \n",
       "243394                               Mummy, The (1999)   \n",
       "788507  Adventures of Rocky and Bullwinkle, The (2000)   \n",
       "301066                     Being John Malkovich (1999)   \n",
       "\n",
       "                                   genre random_dstype  user_idx  item_idx  \\\n",
       "648724                            Action         train         1         1   \n",
       "203881                    Comedy|Romance         train         2         2   \n",
       "243394  Action|Adventure|Horror|Thriller         train         3         3   \n",
       "788507       Animation|Children's|Comedy         train         4         4   \n",
       "301066                            Comedy         train         5         5   \n",
       "\n",
       "        dstype_random_train  dstype_random_valid  gender_idx  age_idx  \\\n",
       "648724                    1                    0           1        1   \n",
       "203881                    1                    0           2        2   \n",
       "243394                    1                    0           1        1   \n",
       "788507                    1                    0           1        3   \n",
       "301066                    1                    0           1        4   \n",
       "\n",
       "        title_idx  genre_idx  zip_idx  \n",
       "648724          1          1        1  \n",
       "203881          2          2        2  \n",
       "243394          3          3        3  \n",
       "788507          4          4        4  \n",
       "301066          5          5        5  "
      ]
     },
     "execution_count": 5,
     "metadata": {},
     "output_type": "execute_result"
    }
   ],
   "source": [
    "df.head()"
   ]
  },
  {
   "cell_type": "code",
   "execution_count": 6,
   "metadata": {},
   "outputs": [],
   "source": [
    "df_train=df.loc[df['random_dstype']=='train']\n",
    "df_valid=df.loc[df['random_dstype']!='train']"
   ]
  },
  {
   "cell_type": "code",
   "execution_count": 7,
   "metadata": {},
   "outputs": [
    {
     "data": {
      "text/html": [
       "<div>\n",
       "<style scoped>\n",
       "    .dataframe tbody tr th:only-of-type {\n",
       "        vertical-align: middle;\n",
       "    }\n",
       "\n",
       "    .dataframe tbody tr th {\n",
       "        vertical-align: top;\n",
       "    }\n",
       "\n",
       "    .dataframe thead th {\n",
       "        text-align: right;\n",
       "    }\n",
       "</style>\n",
       "<table border=\"1\" class=\"dataframe\">\n",
       "  <thead>\n",
       "    <tr style=\"text-align: right;\">\n",
       "      <th></th>\n",
       "      <th>648724</th>\n",
       "      <th>203881</th>\n",
       "      <th>243394</th>\n",
       "      <th>788507</th>\n",
       "      <th>301066</th>\n",
       "    </tr>\n",
       "  </thead>\n",
       "  <tbody>\n",
       "    <tr>\n",
       "      <th>userId</th>\n",
       "      <td>3908</td>\n",
       "      <td>1254</td>\n",
       "      <td>1467</td>\n",
       "      <td>4717</td>\n",
       "      <td>1789</td>\n",
       "    </tr>\n",
       "    <tr>\n",
       "      <th>itemId</th>\n",
       "      <td>2347</td>\n",
       "      <td>1541</td>\n",
       "      <td>2617</td>\n",
       "      <td>3754</td>\n",
       "      <td>2997</td>\n",
       "    </tr>\n",
       "    <tr>\n",
       "      <th>rating</th>\n",
       "      <td>4</td>\n",
       "      <td>2</td>\n",
       "      <td>3</td>\n",
       "      <td>3</td>\n",
       "      <td>5</td>\n",
       "    </tr>\n",
       "    <tr>\n",
       "      <th>timestamp</th>\n",
       "      <td>965941231</td>\n",
       "      <td>974823280</td>\n",
       "      <td>977173059</td>\n",
       "      <td>963502544</td>\n",
       "      <td>974700402</td>\n",
       "    </tr>\n",
       "    <tr>\n",
       "      <th>gender</th>\n",
       "      <td>M</td>\n",
       "      <td>F</td>\n",
       "      <td>M</td>\n",
       "      <td>M</td>\n",
       "      <td>M</td>\n",
       "    </tr>\n",
       "    <tr>\n",
       "      <th>age</th>\n",
       "      <td>25</td>\n",
       "      <td>18</td>\n",
       "      <td>25</td>\n",
       "      <td>45</td>\n",
       "      <td>1</td>\n",
       "    </tr>\n",
       "    <tr>\n",
       "      <th>occupation</th>\n",
       "      <td>0</td>\n",
       "      <td>1</td>\n",
       "      <td>5</td>\n",
       "      <td>17</td>\n",
       "      <td>10</td>\n",
       "    </tr>\n",
       "    <tr>\n",
       "      <th>zip</th>\n",
       "      <td>10021</td>\n",
       "      <td>02144</td>\n",
       "      <td>97007</td>\n",
       "      <td>48310</td>\n",
       "      <td>19116</td>\n",
       "    </tr>\n",
       "    <tr>\n",
       "      <th>title</th>\n",
       "      <td>Pope of Greenwich Village, The (1984)</td>\n",
       "      <td>Addicted to Love (1997)</td>\n",
       "      <td>Mummy, The (1999)</td>\n",
       "      <td>Adventures of Rocky and Bullwinkle, The (2000)</td>\n",
       "      <td>Being John Malkovich (1999)</td>\n",
       "    </tr>\n",
       "    <tr>\n",
       "      <th>genre</th>\n",
       "      <td>Action</td>\n",
       "      <td>Comedy|Romance</td>\n",
       "      <td>Action|Adventure|Horror|Thriller</td>\n",
       "      <td>Animation|Children's|Comedy</td>\n",
       "      <td>Comedy</td>\n",
       "    </tr>\n",
       "    <tr>\n",
       "      <th>random_dstype</th>\n",
       "      <td>train</td>\n",
       "      <td>train</td>\n",
       "      <td>train</td>\n",
       "      <td>train</td>\n",
       "      <td>train</td>\n",
       "    </tr>\n",
       "    <tr>\n",
       "      <th>user_idx</th>\n",
       "      <td>1</td>\n",
       "      <td>2</td>\n",
       "      <td>3</td>\n",
       "      <td>4</td>\n",
       "      <td>5</td>\n",
       "    </tr>\n",
       "    <tr>\n",
       "      <th>item_idx</th>\n",
       "      <td>1</td>\n",
       "      <td>2</td>\n",
       "      <td>3</td>\n",
       "      <td>4</td>\n",
       "      <td>5</td>\n",
       "    </tr>\n",
       "    <tr>\n",
       "      <th>dstype_random_train</th>\n",
       "      <td>1</td>\n",
       "      <td>1</td>\n",
       "      <td>1</td>\n",
       "      <td>1</td>\n",
       "      <td>1</td>\n",
       "    </tr>\n",
       "    <tr>\n",
       "      <th>dstype_random_valid</th>\n",
       "      <td>0</td>\n",
       "      <td>0</td>\n",
       "      <td>0</td>\n",
       "      <td>0</td>\n",
       "      <td>0</td>\n",
       "    </tr>\n",
       "    <tr>\n",
       "      <th>gender_idx</th>\n",
       "      <td>1</td>\n",
       "      <td>2</td>\n",
       "      <td>1</td>\n",
       "      <td>1</td>\n",
       "      <td>1</td>\n",
       "    </tr>\n",
       "    <tr>\n",
       "      <th>age_idx</th>\n",
       "      <td>1</td>\n",
       "      <td>2</td>\n",
       "      <td>1</td>\n",
       "      <td>3</td>\n",
       "      <td>4</td>\n",
       "    </tr>\n",
       "    <tr>\n",
       "      <th>title_idx</th>\n",
       "      <td>1</td>\n",
       "      <td>2</td>\n",
       "      <td>3</td>\n",
       "      <td>4</td>\n",
       "      <td>5</td>\n",
       "    </tr>\n",
       "    <tr>\n",
       "      <th>genre_idx</th>\n",
       "      <td>1</td>\n",
       "      <td>2</td>\n",
       "      <td>3</td>\n",
       "      <td>4</td>\n",
       "      <td>5</td>\n",
       "    </tr>\n",
       "    <tr>\n",
       "      <th>zip_idx</th>\n",
       "      <td>1</td>\n",
       "      <td>2</td>\n",
       "      <td>3</td>\n",
       "      <td>4</td>\n",
       "      <td>5</td>\n",
       "    </tr>\n",
       "  </tbody>\n",
       "</table>\n",
       "</div>"
      ],
      "text/plain": [
       "                                                    648724  \\\n",
       "userId                                                3908   \n",
       "itemId                                                2347   \n",
       "rating                                                   4   \n",
       "timestamp                                        965941231   \n",
       "gender                                                   M   \n",
       "age                                                     25   \n",
       "occupation                                               0   \n",
       "zip                                                  10021   \n",
       "title                Pope of Greenwich Village, The (1984)   \n",
       "genre                                               Action   \n",
       "random_dstype                                        train   \n",
       "user_idx                                                 1   \n",
       "item_idx                                                 1   \n",
       "dstype_random_train                                      1   \n",
       "dstype_random_valid                                      0   \n",
       "gender_idx                                               1   \n",
       "age_idx                                                  1   \n",
       "title_idx                                                1   \n",
       "genre_idx                                                1   \n",
       "zip_idx                                                  1   \n",
       "\n",
       "                                      203881  \\\n",
       "userId                                  1254   \n",
       "itemId                                  1541   \n",
       "rating                                     2   \n",
       "timestamp                          974823280   \n",
       "gender                                     F   \n",
       "age                                       18   \n",
       "occupation                                 1   \n",
       "zip                                    02144   \n",
       "title                Addicted to Love (1997)   \n",
       "genre                         Comedy|Romance   \n",
       "random_dstype                          train   \n",
       "user_idx                                   2   \n",
       "item_idx                                   2   \n",
       "dstype_random_train                        1   \n",
       "dstype_random_valid                        0   \n",
       "gender_idx                                 2   \n",
       "age_idx                                    2   \n",
       "title_idx                                  2   \n",
       "genre_idx                                  2   \n",
       "zip_idx                                    2   \n",
       "\n",
       "                                               243394  \\\n",
       "userId                                           1467   \n",
       "itemId                                           2617   \n",
       "rating                                              3   \n",
       "timestamp                                   977173059   \n",
       "gender                                              M   \n",
       "age                                                25   \n",
       "occupation                                          5   \n",
       "zip                                             97007   \n",
       "title                               Mummy, The (1999)   \n",
       "genre                Action|Adventure|Horror|Thriller   \n",
       "random_dstype                                   train   \n",
       "user_idx                                            3   \n",
       "item_idx                                            3   \n",
       "dstype_random_train                                 1   \n",
       "dstype_random_valid                                 0   \n",
       "gender_idx                                          1   \n",
       "age_idx                                             1   \n",
       "title_idx                                           3   \n",
       "genre_idx                                           3   \n",
       "zip_idx                                             3   \n",
       "\n",
       "                                                             788507  \\\n",
       "userId                                                         4717   \n",
       "itemId                                                         3754   \n",
       "rating                                                            3   \n",
       "timestamp                                                 963502544   \n",
       "gender                                                            M   \n",
       "age                                                              45   \n",
       "occupation                                                       17   \n",
       "zip                                                           48310   \n",
       "title                Adventures of Rocky and Bullwinkle, The (2000)   \n",
       "genre                                   Animation|Children's|Comedy   \n",
       "random_dstype                                                 train   \n",
       "user_idx                                                          4   \n",
       "item_idx                                                          4   \n",
       "dstype_random_train                                               1   \n",
       "dstype_random_valid                                               0   \n",
       "gender_idx                                                        1   \n",
       "age_idx                                                           3   \n",
       "title_idx                                                         4   \n",
       "genre_idx                                                         4   \n",
       "zip_idx                                                           4   \n",
       "\n",
       "                                          301066  \n",
       "userId                                      1789  \n",
       "itemId                                      2997  \n",
       "rating                                         5  \n",
       "timestamp                              974700402  \n",
       "gender                                         M  \n",
       "age                                            1  \n",
       "occupation                                    10  \n",
       "zip                                        19116  \n",
       "title                Being John Malkovich (1999)  \n",
       "genre                                     Comedy  \n",
       "random_dstype                              train  \n",
       "user_idx                                       5  \n",
       "item_idx                                       5  \n",
       "dstype_random_train                            1  \n",
       "dstype_random_valid                            0  \n",
       "gender_idx                                     1  \n",
       "age_idx                                        4  \n",
       "title_idx                                      5  \n",
       "genre_idx                                      5  \n",
       "zip_idx                                        5  "
      ]
     },
     "execution_count": 7,
     "metadata": {},
     "output_type": "execute_result"
    }
   ],
   "source": [
    "df_train.head().T"
   ]
  },
  {
   "cell_type": "code",
   "execution_count": 8,
   "metadata": {},
   "outputs": [
    {
     "data": {
      "text/plain": [
       "((900188, 20), (100021, 20))"
      ]
     },
     "execution_count": 8,
     "metadata": {},
     "output_type": "execute_result"
    }
   ],
   "source": [
    "df_train.shape,df_valid.shape"
   ]
  },
  {
   "cell_type": "markdown",
   "metadata": {},
   "source": [
    "### Add the autoencoder features"
   ]
  },
  {
   "cell_type": "code",
   "execution_count": 9,
   "metadata": {},
   "outputs": [],
   "source": [
    "import pickle"
   ]
  },
  {
   "cell_type": "code",
   "execution_count": 10,
   "metadata": {},
   "outputs": [],
   "source": [
    "[df_train_user_autoenc,df_valid_user_autoenc,user_mtx_1_weights,user_mtx_2_weights]=\\\n",
    "    pickle.load(open(f'{DATAPATH}/inter/user_autoenc_weights.pkl','rb'))"
   ]
  },
  {
   "cell_type": "code",
   "execution_count": 11,
   "metadata": {},
   "outputs": [],
   "source": [
    "[df_train_item_autoenc, df_valid_item_autoenc,item_mtx_1_weights,item_mtx_2_weights]=\\\n",
    "    pickle.load(open(f'{DATAPATH}/inter/item_autoenc_weights.pkl','rb'))"
   ]
  },
  {
   "cell_type": "code",
   "execution_count": 12,
   "metadata": {},
   "outputs": [
    {
     "data": {
      "text/plain": [
       "((6041, 11),\n",
       " pandas.core.frame.DataFrame,\n",
       "    user_idx  user_autoenc0  user_autoenc1  user_autoenc2  user_autoenc3  \\\n",
       " 0         0      -0.671837       2.577009      -1.507589       0.332797   \n",
       " 1         1      -0.809926      -0.483721       2.453740      -1.551907   \n",
       " 2         2       1.254941      -2.131284       1.810311       0.597943   \n",
       " 3         3      -3.206347      -0.449586       2.392539      -2.755247   \n",
       " 4         4      -0.097608       1.857577      -2.348423       2.663222   \n",
       " \n",
       "    user_autoenc4  user_autoenc5  user_autoenc6  user_autoenc7  user_autoenc8  \\\n",
       " 0      -1.139656      -1.726680      -1.184810      -0.325938       2.037823   \n",
       " 1       3.453933      -0.869701       2.121841       3.970576      -1.076461   \n",
       " 2       0.346018       2.327138       0.337492       0.072589      -2.992533   \n",
       " 3       0.173469      -1.687047       4.412164       4.598782      -0.101633   \n",
       " 4      -1.915509      -1.128552      -1.527104      -2.628924      -0.967917   \n",
       " \n",
       "    user_autoenc9  \n",
       " 0       1.097733  \n",
       " 1       2.741880  \n",
       " 2      -0.936141  \n",
       " 3       1.518000  \n",
       " 4      -1.195479  )"
      ]
     },
     "execution_count": 12,
     "metadata": {},
     "output_type": "execute_result"
    }
   ],
   "source": [
    "df_train_user_autoenc.shape, type(df_train_user_autoenc),df_train_user_autoenc.head()"
   ]
  },
  {
   "cell_type": "code",
   "execution_count": 13,
   "metadata": {},
   "outputs": [
    {
     "data": {
      "text/plain": [
       "((6041, 11),\n",
       " pandas.core.frame.DataFrame,\n",
       "    user_idx  user_autoenc0  user_autoenc1  user_autoenc2  user_autoenc3  \\\n",
       " 0         0       1.443038       3.739923      -1.705728      -0.934832   \n",
       " 1         1      -2.179663      -0.304209       2.231106      -2.690022   \n",
       " 2         2      -1.197682       2.911296      -1.374013      -0.956890   \n",
       " 3         3      -0.795275       1.550588       0.345821      -2.817803   \n",
       " 4         4       2.792106       3.132009      -2.735980      -1.092634   \n",
       " \n",
       "    user_autoenc4  user_autoenc5  user_autoenc6  user_autoenc7  user_autoenc8  \\\n",
       " 0      -2.361988      -0.164131      -2.501593       0.092132       4.284271   \n",
       " 1       1.797029      -0.735618       3.405828       3.636310      -0.675551   \n",
       " 2      -2.304279      -1.051586       0.005976      -0.470597       1.295456   \n",
       " 3      -1.488546      -0.206169       1.536819       2.329327       1.548221   \n",
       " 4      -3.802804       1.253022      -2.804603      -1.343972       3.890115   \n",
       " \n",
       "    user_autoenc9  \n",
       " 0       3.389087  \n",
       " 1       1.583212  \n",
       " 2       2.075265  \n",
       " 3       2.507328  \n",
       " 4       2.367678  )"
      ]
     },
     "execution_count": 13,
     "metadata": {},
     "output_type": "execute_result"
    }
   ],
   "source": [
    "df_valid_user_autoenc.shape, type(df_valid_user_autoenc),df_valid_user_autoenc.head()"
   ]
  },
  {
   "cell_type": "code",
   "execution_count": 14,
   "metadata": {},
   "outputs": [
    {
     "data": {
      "text/plain": [
       "((3707, 26),\n",
       " pandas.core.frame.DataFrame,\n",
       "    item_idx  item_autoenc0  item_autoenc1  item_autoenc2  item_autoenc3  \\\n",
       " 0         0      -0.972387      -0.606349      -1.684785       3.331483   \n",
       " 1         1       0.109613       2.493398       1.538485      -3.214294   \n",
       " 2         2       2.546608      -0.385986      -2.767612      -0.812071   \n",
       " 3         3      -1.314622       5.501726       1.575552      -5.851224   \n",
       " 4         4      -1.303826      -2.574216      -4.260112       4.948697   \n",
       " \n",
       "    item_autoenc4  item_autoenc5  item_autoenc6  item_autoenc7  item_autoenc8  \\\n",
       " 0      -4.366021       0.424214      -0.572584      -1.469266      -0.936130   \n",
       " 1      -5.050033      -4.308205      -0.751286      -1.576796       3.761183   \n",
       " 2      -1.934735      -4.304457      -1.387528      -1.374283       1.729323   \n",
       " 3      -1.000455      -4.277728       2.578251      -2.228659       6.636960   \n",
       " 4       1.262775       1.786267       0.612944      -1.522320      -4.641035   \n",
       " \n",
       "    ...  item_autoenc15  item_autoenc16  item_autoenc17  item_autoenc18  \\\n",
       " 0  ...       -0.608460       -2.979846        0.638834        0.245304   \n",
       " 1  ...        4.214801       -4.522526        5.681977       -3.465879   \n",
       " 2  ...        0.633923       -3.248116        3.704189       -3.737520   \n",
       " 3  ...        2.186127       -3.175230        7.909575       -2.991511   \n",
       " 4  ...       -2.230738        2.555233       -5.007383        4.081265   \n",
       " \n",
       "    item_autoenc19  item_autoenc20  item_autoenc21  item_autoenc22  \\\n",
       " 0        1.087182        3.282634        5.484075        1.130925   \n",
       " 1        1.920064       -1.246745        2.935915       -0.071899   \n",
       " 2       -0.570514        0.109860        5.140727       -1.363789   \n",
       " 3        0.128482       -2.730391       -1.991107       -5.363262   \n",
       " 4        0.887879        6.726396        5.138170        3.260158   \n",
       " \n",
       "    item_autoenc23  item_autoenc24  \n",
       " 0        2.098932       -0.588464  \n",
       " 1       -0.106036       -2.280650  \n",
       " 2        1.358756       -3.688738  \n",
       " 3       -2.447411       -2.122037  \n",
       " 4        5.017570       -1.921575  \n",
       " \n",
       " [5 rows x 26 columns])"
      ]
     },
     "execution_count": 14,
     "metadata": {},
     "output_type": "execute_result"
    }
   ],
   "source": [
    "df_train_item_autoenc.shape, type(df_train_item_autoenc),df_train_item_autoenc.head()"
   ]
  },
  {
   "cell_type": "code",
   "execution_count": 15,
   "metadata": {},
   "outputs": [
    {
     "data": {
      "text/plain": [
       "((3707, 26),\n",
       " pandas.core.frame.DataFrame,\n",
       "    item_idx  item_autoenc0  item_autoenc1  item_autoenc2  item_autoenc3  \\\n",
       " 0         0      -2.260203       3.249211       0.732744       0.672127   \n",
       " 1         1      -1.437780       4.805419       2.360490      -3.502130   \n",
       " 2         2       2.185920       2.270772      -1.313627      -0.561884   \n",
       " 3         3      -1.766132       4.403568       1.506800      -2.777096   \n",
       " 4         4      -0.824570      -2.970635      -3.598530       3.352428   \n",
       " \n",
       "    item_autoenc4  item_autoenc5  item_autoenc6  item_autoenc7  item_autoenc8  \\\n",
       " 0      -6.091678      -0.611016       0.990156      -3.158490       1.314611   \n",
       " 1      -5.824772      -4.784998       1.876775      -2.511013       4.959239   \n",
       " 2      -3.195740      -3.176659      -2.118562      -1.412818       2.192565   \n",
       " 3      -1.904963      -1.274057       1.787238      -2.549058       3.284896   \n",
       " 4       0.860574      -0.284102       1.422206      -1.463916      -2.705498   \n",
       " \n",
       "    ...  item_autoenc15  item_autoenc16  item_autoenc17  item_autoenc18  \\\n",
       " 0  ...        2.796474       -3.455809        4.435221        0.279910   \n",
       " 1  ...        3.930228       -3.703976        6.729170       -1.785125   \n",
       " 2  ...        1.224871       -3.381800        5.348843       -2.815683   \n",
       " 3  ...        0.180715       -0.721643        4.211367       -2.285719   \n",
       " 4  ...       -0.464589        1.873167       -4.282616        2.985932   \n",
       " \n",
       "    item_autoenc19  item_autoenc20  item_autoenc21  item_autoenc22  \\\n",
       " 0        3.396531        2.841140        3.399641       -1.293907   \n",
       " 1        3.646008        0.100164        1.785740       -1.858226   \n",
       " 2       -0.642458        0.863307        3.606010       -2.371078   \n",
       " 3       -0.134735        0.616023        0.033945       -2.184162   \n",
       " 4        0.454287        4.719953        4.892051        2.653874   \n",
       " \n",
       "    item_autoenc23  item_autoenc24  \n",
       " 0        0.396739       -1.956778  \n",
       " 1       -0.490995       -2.383969  \n",
       " 2       -0.417250       -2.504559  \n",
       " 3       -0.382632       -0.840352  \n",
       " 4        5.644776       -2.130894  \n",
       " \n",
       " [5 rows x 26 columns])"
      ]
     },
     "execution_count": 15,
     "metadata": {},
     "output_type": "execute_result"
    }
   ],
   "source": [
    "df_valid_item_autoenc.shape, type(df_valid_item_autoenc),df_valid_item_autoenc.head()"
   ]
  },
  {
   "cell_type": "code",
   "execution_count": 16,
   "metadata": {},
   "outputs": [
    {
     "data": {
      "text/plain": [
       "user_idx         False\n",
       "user_autoenc0    False\n",
       "user_autoenc1    False\n",
       "user_autoenc2    False\n",
       "user_autoenc3    False\n",
       "user_autoenc4    False\n",
       "user_autoenc5    False\n",
       "user_autoenc6    False\n",
       "user_autoenc7    False\n",
       "user_autoenc8    False\n",
       "user_autoenc9    False\n",
       "dtype: bool"
      ]
     },
     "execution_count": 16,
     "metadata": {},
     "output_type": "execute_result"
    }
   ],
   "source": [
    "df_valid_user_autoenc.isnull().any()"
   ]
  },
  {
   "cell_type": "code",
   "execution_count": 17,
   "metadata": {},
   "outputs": [
    {
     "data": {
      "text/plain": [
       "userId                 0\n",
       "itemId                 0\n",
       "rating                 0\n",
       "timestamp              0\n",
       "gender                 0\n",
       "age                    0\n",
       "occupation             0\n",
       "zip                    0\n",
       "title                  0\n",
       "genre                  0\n",
       "random_dstype          0\n",
       "user_idx               0\n",
       "item_idx               0\n",
       "dstype_random_train    0\n",
       "dstype_random_valid    0\n",
       "gender_idx             0\n",
       "age_idx                0\n",
       "title_idx              0\n",
       "genre_idx              0\n",
       "zip_idx                0\n",
       "dtype: int64"
      ]
     },
     "execution_count": 17,
     "metadata": {},
     "output_type": "execute_result"
    }
   ],
   "source": [
    "df_valid.isnull().sum()"
   ]
  },
  {
   "cell_type": "code",
   "execution_count": 18,
   "metadata": {},
   "outputs": [
    {
     "data": {
      "text/plain": [
       "userId                 0\n",
       "itemId                 0\n",
       "rating                 0\n",
       "timestamp              0\n",
       "gender                 0\n",
       "age                    0\n",
       "occupation             0\n",
       "zip                    0\n",
       "title                  0\n",
       "genre                  0\n",
       "random_dstype          0\n",
       "user_idx               0\n",
       "item_idx               0\n",
       "dstype_random_train    0\n",
       "dstype_random_valid    0\n",
       "gender_idx             0\n",
       "age_idx                0\n",
       "title_idx              0\n",
       "genre_idx              0\n",
       "zip_idx                0\n",
       "dtype: int64"
      ]
     },
     "execution_count": 18,
     "metadata": {},
     "output_type": "execute_result"
    }
   ],
   "source": [
    "df_train.isnull().sum()"
   ]
  },
  {
   "cell_type": "code",
   "execution_count": 19,
   "metadata": {},
   "outputs": [
    {
     "data": {
      "text/plain": [
       "((900188, 20), (100021, 20))"
      ]
     },
     "execution_count": 19,
     "metadata": {},
     "output_type": "execute_result"
    }
   ],
   "source": [
    "df_train.shape, df_valid.shape"
   ]
  },
  {
   "cell_type": "code",
   "execution_count": 20,
   "metadata": {},
   "outputs": [
    {
     "data": {
      "text/plain": [
       "userId                  int64\n",
       "itemId                  int64\n",
       "rating                  int64\n",
       "timestamp               int64\n",
       "gender                 object\n",
       "age                     int64\n",
       "occupation              int64\n",
       "zip                    object\n",
       "title                  object\n",
       "genre                  object\n",
       "random_dstype          object\n",
       "user_idx                int64\n",
       "item_idx                int64\n",
       "dstype_random_train     int64\n",
       "dstype_random_valid     int64\n",
       "gender_idx              int64\n",
       "age_idx                 int64\n",
       "title_idx               int64\n",
       "genre_idx               int64\n",
       "zip_idx                 int64\n",
       "dtype: object"
      ]
     },
     "execution_count": 20,
     "metadata": {},
     "output_type": "execute_result"
    }
   ],
   "source": [
    "df_train.dtypes"
   ]
  },
  {
   "cell_type": "code",
   "execution_count": 21,
   "metadata": {},
   "outputs": [
    {
     "data": {
      "text/html": [
       "<div>\n",
       "<style scoped>\n",
       "    .dataframe tbody tr th:only-of-type {\n",
       "        vertical-align: middle;\n",
       "    }\n",
       "\n",
       "    .dataframe tbody tr th {\n",
       "        vertical-align: top;\n",
       "    }\n",
       "\n",
       "    .dataframe thead th {\n",
       "        text-align: right;\n",
       "    }\n",
       "</style>\n",
       "<table border=\"1\" class=\"dataframe\">\n",
       "  <thead>\n",
       "    <tr style=\"text-align: right;\">\n",
       "      <th></th>\n",
       "      <th>userId</th>\n",
       "      <th>itemId</th>\n",
       "      <th>rating</th>\n",
       "      <th>timestamp</th>\n",
       "      <th>gender</th>\n",
       "      <th>age</th>\n",
       "      <th>occupation</th>\n",
       "      <th>zip</th>\n",
       "      <th>title</th>\n",
       "      <th>genre</th>\n",
       "      <th>random_dstype</th>\n",
       "      <th>user_idx</th>\n",
       "      <th>item_idx</th>\n",
       "      <th>dstype_random_train</th>\n",
       "      <th>dstype_random_valid</th>\n",
       "      <th>gender_idx</th>\n",
       "      <th>age_idx</th>\n",
       "      <th>title_idx</th>\n",
       "      <th>genre_idx</th>\n",
       "      <th>zip_idx</th>\n",
       "    </tr>\n",
       "  </thead>\n",
       "  <tbody>\n",
       "    <tr>\n",
       "      <th>648724</th>\n",
       "      <td>3908</td>\n",
       "      <td>2347</td>\n",
       "      <td>4</td>\n",
       "      <td>965941231</td>\n",
       "      <td>M</td>\n",
       "      <td>25</td>\n",
       "      <td>0</td>\n",
       "      <td>10021</td>\n",
       "      <td>Pope of Greenwich Village, The (1984)</td>\n",
       "      <td>Action</td>\n",
       "      <td>train</td>\n",
       "      <td>1</td>\n",
       "      <td>1</td>\n",
       "      <td>1</td>\n",
       "      <td>0</td>\n",
       "      <td>1</td>\n",
       "      <td>1</td>\n",
       "      <td>1</td>\n",
       "      <td>1</td>\n",
       "      <td>1</td>\n",
       "    </tr>\n",
       "    <tr>\n",
       "      <th>203881</th>\n",
       "      <td>1254</td>\n",
       "      <td>1541</td>\n",
       "      <td>2</td>\n",
       "      <td>974823280</td>\n",
       "      <td>F</td>\n",
       "      <td>18</td>\n",
       "      <td>1</td>\n",
       "      <td>02144</td>\n",
       "      <td>Addicted to Love (1997)</td>\n",
       "      <td>Comedy|Romance</td>\n",
       "      <td>train</td>\n",
       "      <td>2</td>\n",
       "      <td>2</td>\n",
       "      <td>1</td>\n",
       "      <td>0</td>\n",
       "      <td>2</td>\n",
       "      <td>2</td>\n",
       "      <td>2</td>\n",
       "      <td>2</td>\n",
       "      <td>2</td>\n",
       "    </tr>\n",
       "    <tr>\n",
       "      <th>243394</th>\n",
       "      <td>1467</td>\n",
       "      <td>2617</td>\n",
       "      <td>3</td>\n",
       "      <td>977173059</td>\n",
       "      <td>M</td>\n",
       "      <td>25</td>\n",
       "      <td>5</td>\n",
       "      <td>97007</td>\n",
       "      <td>Mummy, The (1999)</td>\n",
       "      <td>Action|Adventure|Horror|Thriller</td>\n",
       "      <td>train</td>\n",
       "      <td>3</td>\n",
       "      <td>3</td>\n",
       "      <td>1</td>\n",
       "      <td>0</td>\n",
       "      <td>1</td>\n",
       "      <td>1</td>\n",
       "      <td>3</td>\n",
       "      <td>3</td>\n",
       "      <td>3</td>\n",
       "    </tr>\n",
       "    <tr>\n",
       "      <th>788507</th>\n",
       "      <td>4717</td>\n",
       "      <td>3754</td>\n",
       "      <td>3</td>\n",
       "      <td>963502544</td>\n",
       "      <td>M</td>\n",
       "      <td>45</td>\n",
       "      <td>17</td>\n",
       "      <td>48310</td>\n",
       "      <td>Adventures of Rocky and Bullwinkle, The (2000)</td>\n",
       "      <td>Animation|Children's|Comedy</td>\n",
       "      <td>train</td>\n",
       "      <td>4</td>\n",
       "      <td>4</td>\n",
       "      <td>1</td>\n",
       "      <td>0</td>\n",
       "      <td>1</td>\n",
       "      <td>3</td>\n",
       "      <td>4</td>\n",
       "      <td>4</td>\n",
       "      <td>4</td>\n",
       "    </tr>\n",
       "    <tr>\n",
       "      <th>301066</th>\n",
       "      <td>1789</td>\n",
       "      <td>2997</td>\n",
       "      <td>5</td>\n",
       "      <td>974700402</td>\n",
       "      <td>M</td>\n",
       "      <td>1</td>\n",
       "      <td>10</td>\n",
       "      <td>19116</td>\n",
       "      <td>Being John Malkovich (1999)</td>\n",
       "      <td>Comedy</td>\n",
       "      <td>train</td>\n",
       "      <td>5</td>\n",
       "      <td>5</td>\n",
       "      <td>1</td>\n",
       "      <td>0</td>\n",
       "      <td>1</td>\n",
       "      <td>4</td>\n",
       "      <td>5</td>\n",
       "      <td>5</td>\n",
       "      <td>5</td>\n",
       "    </tr>\n",
       "  </tbody>\n",
       "</table>\n",
       "</div>"
      ],
      "text/plain": [
       "        userId  itemId  rating  timestamp gender  age  occupation    zip  \\\n",
       "648724    3908    2347       4  965941231      M   25           0  10021   \n",
       "203881    1254    1541       2  974823280      F   18           1  02144   \n",
       "243394    1467    2617       3  977173059      M   25           5  97007   \n",
       "788507    4717    3754       3  963502544      M   45          17  48310   \n",
       "301066    1789    2997       5  974700402      M    1          10  19116   \n",
       "\n",
       "                                                 title  \\\n",
       "648724           Pope of Greenwich Village, The (1984)   \n",
       "203881                         Addicted to Love (1997)   \n",
       "243394                               Mummy, The (1999)   \n",
       "788507  Adventures of Rocky and Bullwinkle, The (2000)   \n",
       "301066                     Being John Malkovich (1999)   \n",
       "\n",
       "                                   genre random_dstype  user_idx  item_idx  \\\n",
       "648724                            Action         train         1         1   \n",
       "203881                    Comedy|Romance         train         2         2   \n",
       "243394  Action|Adventure|Horror|Thriller         train         3         3   \n",
       "788507       Animation|Children's|Comedy         train         4         4   \n",
       "301066                            Comedy         train         5         5   \n",
       "\n",
       "        dstype_random_train  dstype_random_valid  gender_idx  age_idx  \\\n",
       "648724                    1                    0           1        1   \n",
       "203881                    1                    0           2        2   \n",
       "243394                    1                    0           1        1   \n",
       "788507                    1                    0           1        3   \n",
       "301066                    1                    0           1        4   \n",
       "\n",
       "        title_idx  genre_idx  zip_idx  \n",
       "648724          1          1        1  \n",
       "203881          2          2        2  \n",
       "243394          3          3        3  \n",
       "788507          4          4        4  \n",
       "301066          5          5        5  "
      ]
     },
     "execution_count": 21,
     "metadata": {},
     "output_type": "execute_result"
    }
   ],
   "source": [
    "df_train.head()"
   ]
  },
  {
   "cell_type": "code",
   "execution_count": 22,
   "metadata": {},
   "outputs": [],
   "source": [
    "df_train=pd.merge(df_train,df_train_item_autoenc,on='item_idx',how='left')"
   ]
  },
  {
   "cell_type": "code",
   "execution_count": 23,
   "metadata": {},
   "outputs": [
    {
     "data": {
      "text/plain": [
       "(900188, 45)"
      ]
     },
     "execution_count": 23,
     "metadata": {},
     "output_type": "execute_result"
    }
   ],
   "source": [
    "df_train.shape"
   ]
  },
  {
   "cell_type": "code",
   "execution_count": 24,
   "metadata": {},
   "outputs": [
    {
     "name": "stdout",
     "output_type": "stream",
     "text": [
      "(100021, 20)\n"
     ]
    },
    {
     "data": {
      "text/plain": [
       "(100021, 45)"
      ]
     },
     "execution_count": 24,
     "metadata": {},
     "output_type": "execute_result"
    }
   ],
   "source": [
    "print(df_valid.shape)\n",
    "df_valid=pd.merge(df_valid,df_valid_item_autoenc,on='item_idx',how='left')\n",
    "df_valid.shape"
   ]
  },
  {
   "cell_type": "code",
   "execution_count": 25,
   "metadata": {},
   "outputs": [
    {
     "data": {
      "text/plain": [
       "(100021, 45)"
      ]
     },
     "execution_count": 25,
     "metadata": {},
     "output_type": "execute_result"
    }
   ],
   "source": [
    "df_valid.shape"
   ]
  },
  {
   "cell_type": "code",
   "execution_count": 26,
   "metadata": {},
   "outputs": [
    {
     "name": "stdout",
     "output_type": "stream",
     "text": [
      "(100021, 45)\n"
     ]
    },
    {
     "data": {
      "text/plain": [
       "(100021, 55)"
      ]
     },
     "execution_count": 26,
     "metadata": {},
     "output_type": "execute_result"
    }
   ],
   "source": [
    "print(df_valid.shape)\n",
    "df_valid=pd.merge(df_valid,df_valid_user_autoenc,on='user_idx',how='left')\n",
    "df_valid.shape"
   ]
  },
  {
   "cell_type": "code",
   "execution_count": 27,
   "metadata": {},
   "outputs": [
    {
     "name": "stdout",
     "output_type": "stream",
     "text": [
      "(900188, 45)\n"
     ]
    },
    {
     "data": {
      "text/plain": [
       "(900188, 55)"
      ]
     },
     "execution_count": 27,
     "metadata": {},
     "output_type": "execute_result"
    }
   ],
   "source": [
    "print(df_train.shape)\n",
    "df_train=pd.merge(df_train,df_train_user_autoenc,on='user_idx',how='left')\n",
    "df_train.shape"
   ]
  },
  {
   "cell_type": "code",
   "execution_count": 28,
   "metadata": {},
   "outputs": [
    {
     "data": {
      "text/plain": [
       "Index(['userId', 'itemId', 'rating', 'timestamp', 'gender', 'age',\n",
       "       'occupation', 'zip', 'title', 'genre', 'random_dstype', 'user_idx',\n",
       "       'item_idx', 'dstype_random_train', 'dstype_random_valid', 'gender_idx',\n",
       "       'age_idx', 'title_idx', 'genre_idx', 'zip_idx', 'item_autoenc0',\n",
       "       'item_autoenc1', 'item_autoenc2', 'item_autoenc3', 'item_autoenc4',\n",
       "       'item_autoenc5', 'item_autoenc6', 'item_autoenc7', 'item_autoenc8',\n",
       "       'item_autoenc9', 'item_autoenc10', 'item_autoenc11', 'item_autoenc12',\n",
       "       'item_autoenc13', 'item_autoenc14', 'item_autoenc15', 'item_autoenc16',\n",
       "       'item_autoenc17', 'item_autoenc18', 'item_autoenc19', 'item_autoenc20',\n",
       "       'item_autoenc21', 'item_autoenc22', 'item_autoenc23', 'item_autoenc24',\n",
       "       'user_autoenc0', 'user_autoenc1', 'user_autoenc2', 'user_autoenc3',\n",
       "       'user_autoenc4', 'user_autoenc5', 'user_autoenc6', 'user_autoenc7',\n",
       "       'user_autoenc8', 'user_autoenc9'],\n",
       "      dtype='object')"
      ]
     },
     "execution_count": 28,
     "metadata": {},
     "output_type": "execute_result"
    }
   ],
   "source": [
    "df_train.columns"
   ]
  },
  {
   "cell_type": "code",
   "execution_count": 29,
   "metadata": {},
   "outputs": [],
   "source": [
    "autoenc_cols=df_train.columns[df_train.columns.str.contains('autoenc')]"
   ]
  },
  {
   "cell_type": "code",
   "execution_count": 30,
   "metadata": {},
   "outputs": [],
   "source": [
    "autoenc_cols=autoenc_cols.tolist()"
   ]
  },
  {
   "cell_type": "code",
   "execution_count": 31,
   "metadata": {},
   "outputs": [
    {
     "data": {
      "text/plain": [
       "['item_autoenc0',\n",
       " 'item_autoenc1',\n",
       " 'item_autoenc2',\n",
       " 'item_autoenc3',\n",
       " 'item_autoenc4',\n",
       " 'item_autoenc5',\n",
       " 'item_autoenc6',\n",
       " 'item_autoenc7',\n",
       " 'item_autoenc8',\n",
       " 'item_autoenc9',\n",
       " 'item_autoenc10',\n",
       " 'item_autoenc11',\n",
       " 'item_autoenc12',\n",
       " 'item_autoenc13',\n",
       " 'item_autoenc14',\n",
       " 'item_autoenc15',\n",
       " 'item_autoenc16',\n",
       " 'item_autoenc17',\n",
       " 'item_autoenc18',\n",
       " 'item_autoenc19',\n",
       " 'item_autoenc20',\n",
       " 'item_autoenc21',\n",
       " 'item_autoenc22',\n",
       " 'item_autoenc23',\n",
       " 'item_autoenc24',\n",
       " 'user_autoenc0',\n",
       " 'user_autoenc1',\n",
       " 'user_autoenc2',\n",
       " 'user_autoenc3',\n",
       " 'user_autoenc4',\n",
       " 'user_autoenc5',\n",
       " 'user_autoenc6',\n",
       " 'user_autoenc7',\n",
       " 'user_autoenc8',\n",
       " 'user_autoenc9']"
      ]
     },
     "execution_count": 31,
     "metadata": {},
     "output_type": "execute_result"
    }
   ],
   "source": [
    "autoenc_cols"
   ]
  },
  {
   "cell_type": "code",
   "execution_count": 32,
   "metadata": {},
   "outputs": [
    {
     "data": {
      "text/html": [
       "<div>\n",
       "<style scoped>\n",
       "    .dataframe tbody tr th:only-of-type {\n",
       "        vertical-align: middle;\n",
       "    }\n",
       "\n",
       "    .dataframe tbody tr th {\n",
       "        vertical-align: top;\n",
       "    }\n",
       "\n",
       "    .dataframe thead th {\n",
       "        text-align: right;\n",
       "    }\n",
       "</style>\n",
       "<table border=\"1\" class=\"dataframe\">\n",
       "  <thead>\n",
       "    <tr style=\"text-align: right;\">\n",
       "      <th></th>\n",
       "      <th>userId</th>\n",
       "      <th>itemId</th>\n",
       "      <th>rating</th>\n",
       "      <th>timestamp</th>\n",
       "      <th>gender</th>\n",
       "      <th>age</th>\n",
       "      <th>occupation</th>\n",
       "      <th>zip</th>\n",
       "      <th>title</th>\n",
       "      <th>genre</th>\n",
       "      <th>...</th>\n",
       "      <th>user_autoenc0</th>\n",
       "      <th>user_autoenc1</th>\n",
       "      <th>user_autoenc2</th>\n",
       "      <th>user_autoenc3</th>\n",
       "      <th>user_autoenc4</th>\n",
       "      <th>user_autoenc5</th>\n",
       "      <th>user_autoenc6</th>\n",
       "      <th>user_autoenc7</th>\n",
       "      <th>user_autoenc8</th>\n",
       "      <th>user_autoenc9</th>\n",
       "    </tr>\n",
       "  </thead>\n",
       "  <tbody>\n",
       "    <tr>\n",
       "      <th>0</th>\n",
       "      <td>3908</td>\n",
       "      <td>2347</td>\n",
       "      <td>4</td>\n",
       "      <td>965941231</td>\n",
       "      <td>M</td>\n",
       "      <td>25</td>\n",
       "      <td>0</td>\n",
       "      <td>10021</td>\n",
       "      <td>Pope of Greenwich Village, The (1984)</td>\n",
       "      <td>Action</td>\n",
       "      <td>...</td>\n",
       "      <td>-0.809926</td>\n",
       "      <td>-0.483721</td>\n",
       "      <td>2.453740</td>\n",
       "      <td>-1.551907</td>\n",
       "      <td>3.453933</td>\n",
       "      <td>-0.869701</td>\n",
       "      <td>2.121841</td>\n",
       "      <td>3.970576</td>\n",
       "      <td>-1.076461</td>\n",
       "      <td>2.741880</td>\n",
       "    </tr>\n",
       "    <tr>\n",
       "      <th>1</th>\n",
       "      <td>1254</td>\n",
       "      <td>1541</td>\n",
       "      <td>2</td>\n",
       "      <td>974823280</td>\n",
       "      <td>F</td>\n",
       "      <td>18</td>\n",
       "      <td>1</td>\n",
       "      <td>02144</td>\n",
       "      <td>Addicted to Love (1997)</td>\n",
       "      <td>Comedy|Romance</td>\n",
       "      <td>...</td>\n",
       "      <td>1.254941</td>\n",
       "      <td>-2.131284</td>\n",
       "      <td>1.810311</td>\n",
       "      <td>0.597943</td>\n",
       "      <td>0.346018</td>\n",
       "      <td>2.327138</td>\n",
       "      <td>0.337492</td>\n",
       "      <td>0.072589</td>\n",
       "      <td>-2.992533</td>\n",
       "      <td>-0.936141</td>\n",
       "    </tr>\n",
       "    <tr>\n",
       "      <th>2</th>\n",
       "      <td>1467</td>\n",
       "      <td>2617</td>\n",
       "      <td>3</td>\n",
       "      <td>977173059</td>\n",
       "      <td>M</td>\n",
       "      <td>25</td>\n",
       "      <td>5</td>\n",
       "      <td>97007</td>\n",
       "      <td>Mummy, The (1999)</td>\n",
       "      <td>Action|Adventure|Horror|Thriller</td>\n",
       "      <td>...</td>\n",
       "      <td>-3.206347</td>\n",
       "      <td>-0.449586</td>\n",
       "      <td>2.392539</td>\n",
       "      <td>-2.755247</td>\n",
       "      <td>0.173469</td>\n",
       "      <td>-1.687047</td>\n",
       "      <td>4.412164</td>\n",
       "      <td>4.598782</td>\n",
       "      <td>-0.101633</td>\n",
       "      <td>1.518000</td>\n",
       "    </tr>\n",
       "    <tr>\n",
       "      <th>3</th>\n",
       "      <td>4717</td>\n",
       "      <td>3754</td>\n",
       "      <td>3</td>\n",
       "      <td>963502544</td>\n",
       "      <td>M</td>\n",
       "      <td>45</td>\n",
       "      <td>17</td>\n",
       "      <td>48310</td>\n",
       "      <td>Adventures of Rocky and Bullwinkle, The (2000)</td>\n",
       "      <td>Animation|Children's|Comedy</td>\n",
       "      <td>...</td>\n",
       "      <td>-0.097608</td>\n",
       "      <td>1.857577</td>\n",
       "      <td>-2.348423</td>\n",
       "      <td>2.663222</td>\n",
       "      <td>-1.915509</td>\n",
       "      <td>-1.128552</td>\n",
       "      <td>-1.527104</td>\n",
       "      <td>-2.628924</td>\n",
       "      <td>-0.967917</td>\n",
       "      <td>-1.195479</td>\n",
       "    </tr>\n",
       "    <tr>\n",
       "      <th>4</th>\n",
       "      <td>1789</td>\n",
       "      <td>2997</td>\n",
       "      <td>5</td>\n",
       "      <td>974700402</td>\n",
       "      <td>M</td>\n",
       "      <td>1</td>\n",
       "      <td>10</td>\n",
       "      <td>19116</td>\n",
       "      <td>Being John Malkovich (1999)</td>\n",
       "      <td>Comedy</td>\n",
       "      <td>...</td>\n",
       "      <td>-0.673590</td>\n",
       "      <td>0.183299</td>\n",
       "      <td>0.776998</td>\n",
       "      <td>0.922859</td>\n",
       "      <td>-0.916169</td>\n",
       "      <td>0.800552</td>\n",
       "      <td>-0.068556</td>\n",
       "      <td>0.458235</td>\n",
       "      <td>-0.755471</td>\n",
       "      <td>0.044356</td>\n",
       "    </tr>\n",
       "  </tbody>\n",
       "</table>\n",
       "<p>5 rows × 55 columns</p>\n",
       "</div>"
      ],
      "text/plain": [
       "   userId  itemId  rating  timestamp gender  age  occupation    zip  \\\n",
       "0    3908    2347       4  965941231      M   25           0  10021   \n",
       "1    1254    1541       2  974823280      F   18           1  02144   \n",
       "2    1467    2617       3  977173059      M   25           5  97007   \n",
       "3    4717    3754       3  963502544      M   45          17  48310   \n",
       "4    1789    2997       5  974700402      M    1          10  19116   \n",
       "\n",
       "                                            title  \\\n",
       "0           Pope of Greenwich Village, The (1984)   \n",
       "1                         Addicted to Love (1997)   \n",
       "2                               Mummy, The (1999)   \n",
       "3  Adventures of Rocky and Bullwinkle, The (2000)   \n",
       "4                     Being John Malkovich (1999)   \n",
       "\n",
       "                              genre  ... user_autoenc0  user_autoenc1  \\\n",
       "0                            Action  ...     -0.809926      -0.483721   \n",
       "1                    Comedy|Romance  ...      1.254941      -2.131284   \n",
       "2  Action|Adventure|Horror|Thriller  ...     -3.206347      -0.449586   \n",
       "3       Animation|Children's|Comedy  ...     -0.097608       1.857577   \n",
       "4                            Comedy  ...     -0.673590       0.183299   \n",
       "\n",
       "   user_autoenc2  user_autoenc3  user_autoenc4  user_autoenc5  user_autoenc6  \\\n",
       "0       2.453740      -1.551907       3.453933      -0.869701       2.121841   \n",
       "1       1.810311       0.597943       0.346018       2.327138       0.337492   \n",
       "2       2.392539      -2.755247       0.173469      -1.687047       4.412164   \n",
       "3      -2.348423       2.663222      -1.915509      -1.128552      -1.527104   \n",
       "4       0.776998       0.922859      -0.916169       0.800552      -0.068556   \n",
       "\n",
       "   user_autoenc7  user_autoenc8  user_autoenc9  \n",
       "0       3.970576      -1.076461       2.741880  \n",
       "1       0.072589      -2.992533      -0.936141  \n",
       "2       4.598782      -0.101633       1.518000  \n",
       "3      -2.628924      -0.967917      -1.195479  \n",
       "4       0.458235      -0.755471       0.044356  \n",
       "\n",
       "[5 rows x 55 columns]"
      ]
     },
     "execution_count": 32,
     "metadata": {},
     "output_type": "execute_result"
    }
   ],
   "source": [
    "df_train.head()"
   ]
  },
  {
   "cell_type": "code",
   "execution_count": 33,
   "metadata": {},
   "outputs": [
    {
     "data": {
      "text/html": [
       "<div>\n",
       "<style scoped>\n",
       "    .dataframe tbody tr th:only-of-type {\n",
       "        vertical-align: middle;\n",
       "    }\n",
       "\n",
       "    .dataframe tbody tr th {\n",
       "        vertical-align: top;\n",
       "    }\n",
       "\n",
       "    .dataframe thead th {\n",
       "        text-align: right;\n",
       "    }\n",
       "</style>\n",
       "<table border=\"1\" class=\"dataframe\">\n",
       "  <thead>\n",
       "    <tr style=\"text-align: right;\">\n",
       "      <th></th>\n",
       "      <th>user_idx</th>\n",
       "      <th>item_idx</th>\n",
       "      <th>item_autoenc0</th>\n",
       "      <th>item_autoenc1</th>\n",
       "      <th>item_autoenc2</th>\n",
       "      <th>item_autoenc3</th>\n",
       "      <th>item_autoenc4</th>\n",
       "      <th>item_autoenc5</th>\n",
       "      <th>item_autoenc6</th>\n",
       "      <th>item_autoenc7</th>\n",
       "      <th>...</th>\n",
       "      <th>user_autoenc0</th>\n",
       "      <th>user_autoenc1</th>\n",
       "      <th>user_autoenc2</th>\n",
       "      <th>user_autoenc3</th>\n",
       "      <th>user_autoenc4</th>\n",
       "      <th>user_autoenc5</th>\n",
       "      <th>user_autoenc6</th>\n",
       "      <th>user_autoenc7</th>\n",
       "      <th>user_autoenc8</th>\n",
       "      <th>user_autoenc9</th>\n",
       "    </tr>\n",
       "  </thead>\n",
       "  <tbody>\n",
       "    <tr>\n",
       "      <th>0</th>\n",
       "      <td>1</td>\n",
       "      <td>1</td>\n",
       "      <td>0.109613</td>\n",
       "      <td>2.493398</td>\n",
       "      <td>1.538485</td>\n",
       "      <td>-3.214294</td>\n",
       "      <td>-5.050033</td>\n",
       "      <td>-4.308205</td>\n",
       "      <td>-0.751286</td>\n",
       "      <td>-1.576796</td>\n",
       "      <td>...</td>\n",
       "      <td>-0.809926</td>\n",
       "      <td>-0.483721</td>\n",
       "      <td>2.453740</td>\n",
       "      <td>-1.551907</td>\n",
       "      <td>3.453933</td>\n",
       "      <td>-0.869701</td>\n",
       "      <td>2.121841</td>\n",
       "      <td>3.970576</td>\n",
       "      <td>-1.076461</td>\n",
       "      <td>2.741880</td>\n",
       "    </tr>\n",
       "    <tr>\n",
       "      <th>1</th>\n",
       "      <td>2</td>\n",
       "      <td>2</td>\n",
       "      <td>2.546608</td>\n",
       "      <td>-0.385986</td>\n",
       "      <td>-2.767612</td>\n",
       "      <td>-0.812071</td>\n",
       "      <td>-1.934735</td>\n",
       "      <td>-4.304457</td>\n",
       "      <td>-1.387528</td>\n",
       "      <td>-1.374283</td>\n",
       "      <td>...</td>\n",
       "      <td>1.254941</td>\n",
       "      <td>-2.131284</td>\n",
       "      <td>1.810311</td>\n",
       "      <td>0.597943</td>\n",
       "      <td>0.346018</td>\n",
       "      <td>2.327138</td>\n",
       "      <td>0.337492</td>\n",
       "      <td>0.072589</td>\n",
       "      <td>-2.992533</td>\n",
       "      <td>-0.936141</td>\n",
       "    </tr>\n",
       "    <tr>\n",
       "      <th>2</th>\n",
       "      <td>3</td>\n",
       "      <td>3</td>\n",
       "      <td>-1.314622</td>\n",
       "      <td>5.501726</td>\n",
       "      <td>1.575552</td>\n",
       "      <td>-5.851224</td>\n",
       "      <td>-1.000455</td>\n",
       "      <td>-4.277728</td>\n",
       "      <td>2.578251</td>\n",
       "      <td>-2.228659</td>\n",
       "      <td>...</td>\n",
       "      <td>-3.206347</td>\n",
       "      <td>-0.449586</td>\n",
       "      <td>2.392539</td>\n",
       "      <td>-2.755247</td>\n",
       "      <td>0.173469</td>\n",
       "      <td>-1.687047</td>\n",
       "      <td>4.412164</td>\n",
       "      <td>4.598782</td>\n",
       "      <td>-0.101633</td>\n",
       "      <td>1.518000</td>\n",
       "    </tr>\n",
       "    <tr>\n",
       "      <th>3</th>\n",
       "      <td>4</td>\n",
       "      <td>4</td>\n",
       "      <td>-1.303826</td>\n",
       "      <td>-2.574216</td>\n",
       "      <td>-4.260112</td>\n",
       "      <td>4.948697</td>\n",
       "      <td>1.262775</td>\n",
       "      <td>1.786267</td>\n",
       "      <td>0.612944</td>\n",
       "      <td>-1.522320</td>\n",
       "      <td>...</td>\n",
       "      <td>-0.097608</td>\n",
       "      <td>1.857577</td>\n",
       "      <td>-2.348423</td>\n",
       "      <td>2.663222</td>\n",
       "      <td>-1.915509</td>\n",
       "      <td>-1.128552</td>\n",
       "      <td>-1.527104</td>\n",
       "      <td>-2.628924</td>\n",
       "      <td>-0.967917</td>\n",
       "      <td>-1.195479</td>\n",
       "    </tr>\n",
       "    <tr>\n",
       "      <th>4</th>\n",
       "      <td>5</td>\n",
       "      <td>5</td>\n",
       "      <td>2.273207</td>\n",
       "      <td>-0.567770</td>\n",
       "      <td>-3.191041</td>\n",
       "      <td>1.269062</td>\n",
       "      <td>-1.824770</td>\n",
       "      <td>-1.585689</td>\n",
       "      <td>-2.006722</td>\n",
       "      <td>-1.141187</td>\n",
       "      <td>...</td>\n",
       "      <td>-0.673590</td>\n",
       "      <td>0.183299</td>\n",
       "      <td>0.776998</td>\n",
       "      <td>0.922859</td>\n",
       "      <td>-0.916169</td>\n",
       "      <td>0.800552</td>\n",
       "      <td>-0.068556</td>\n",
       "      <td>0.458235</td>\n",
       "      <td>-0.755471</td>\n",
       "      <td>0.044356</td>\n",
       "    </tr>\n",
       "  </tbody>\n",
       "</table>\n",
       "<p>5 rows × 37 columns</p>\n",
       "</div>"
      ],
      "text/plain": [
       "   user_idx  item_idx  item_autoenc0  item_autoenc1  item_autoenc2  \\\n",
       "0         1         1       0.109613       2.493398       1.538485   \n",
       "1         2         2       2.546608      -0.385986      -2.767612   \n",
       "2         3         3      -1.314622       5.501726       1.575552   \n",
       "3         4         4      -1.303826      -2.574216      -4.260112   \n",
       "4         5         5       2.273207      -0.567770      -3.191041   \n",
       "\n",
       "   item_autoenc3  item_autoenc4  item_autoenc5  item_autoenc6  item_autoenc7  \\\n",
       "0      -3.214294      -5.050033      -4.308205      -0.751286      -1.576796   \n",
       "1      -0.812071      -1.934735      -4.304457      -1.387528      -1.374283   \n",
       "2      -5.851224      -1.000455      -4.277728       2.578251      -2.228659   \n",
       "3       4.948697       1.262775       1.786267       0.612944      -1.522320   \n",
       "4       1.269062      -1.824770      -1.585689      -2.006722      -1.141187   \n",
       "\n",
       "   ...  user_autoenc0  user_autoenc1  user_autoenc2  user_autoenc3  \\\n",
       "0  ...      -0.809926      -0.483721       2.453740      -1.551907   \n",
       "1  ...       1.254941      -2.131284       1.810311       0.597943   \n",
       "2  ...      -3.206347      -0.449586       2.392539      -2.755247   \n",
       "3  ...      -0.097608       1.857577      -2.348423       2.663222   \n",
       "4  ...      -0.673590       0.183299       0.776998       0.922859   \n",
       "\n",
       "   user_autoenc4  user_autoenc5  user_autoenc6  user_autoenc7  user_autoenc8  \\\n",
       "0       3.453933      -0.869701       2.121841       3.970576      -1.076461   \n",
       "1       0.346018       2.327138       0.337492       0.072589      -2.992533   \n",
       "2       0.173469      -1.687047       4.412164       4.598782      -0.101633   \n",
       "3      -1.915509      -1.128552      -1.527104      -2.628924      -0.967917   \n",
       "4      -0.916169       0.800552      -0.068556       0.458235      -0.755471   \n",
       "\n",
       "   user_autoenc9  \n",
       "0       2.741880  \n",
       "1      -0.936141  \n",
       "2       1.518000  \n",
       "3      -1.195479  \n",
       "4       0.044356  \n",
       "\n",
       "[5 rows x 37 columns]"
      ]
     },
     "execution_count": 33,
     "metadata": {},
     "output_type": "execute_result"
    }
   ],
   "source": [
    "df_train[['user_idx','item_idx']+autoenc_cols].head()"
   ]
  },
  {
   "cell_type": "code",
   "execution_count": 34,
   "metadata": {},
   "outputs": [
    {
     "data": {
      "text/plain": [
       "(count    100021.000000\n",
       " mean          3.584587\n",
       " std           1.114938\n",
       " min           1.000000\n",
       " 25%           3.000000\n",
       " 50%           4.000000\n",
       " 75%           4.000000\n",
       " max           5.000000\n",
       " Name: rating, dtype: float64, count    900188.000000\n",
       " mean          3.581229\n",
       " std           1.117342\n",
       " min           1.000000\n",
       " 25%           3.000000\n",
       " 50%           4.000000\n",
       " 75%           4.000000\n",
       " max           5.000000\n",
       " Name: rating, dtype: float64)"
      ]
     },
     "execution_count": 34,
     "metadata": {},
     "output_type": "execute_result"
    }
   ],
   "source": [
    "df_valid['rating'].describe(),df_train['rating'].describe()"
   ]
  },
  {
   "cell_type": "code",
   "execution_count": 35,
   "metadata": {},
   "outputs": [
    {
     "data": {
      "text/plain": [
       "Index(['userId', 'itemId', 'rating', 'timestamp', 'gender', 'age',\n",
       "       'occupation', 'zip', 'title', 'genre', 'random_dstype', 'user_idx',\n",
       "       'item_idx', 'dstype_random_train', 'dstype_random_valid', 'gender_idx',\n",
       "       'age_idx', 'title_idx', 'genre_idx', 'zip_idx', 'item_autoenc0',\n",
       "       'item_autoenc1', 'item_autoenc2', 'item_autoenc3', 'item_autoenc4',\n",
       "       'item_autoenc5', 'item_autoenc6', 'item_autoenc7', 'item_autoenc8',\n",
       "       'item_autoenc9', 'item_autoenc10', 'item_autoenc11', 'item_autoenc12',\n",
       "       'item_autoenc13', 'item_autoenc14', 'item_autoenc15', 'item_autoenc16',\n",
       "       'item_autoenc17', 'item_autoenc18', 'item_autoenc19', 'item_autoenc20',\n",
       "       'item_autoenc21', 'item_autoenc22', 'item_autoenc23', 'item_autoenc24',\n",
       "       'user_autoenc0', 'user_autoenc1', 'user_autoenc2', 'user_autoenc3',\n",
       "       'user_autoenc4', 'user_autoenc5', 'user_autoenc6', 'user_autoenc7',\n",
       "       'user_autoenc8', 'user_autoenc9'],\n",
       "      dtype='object')"
      ]
     },
     "execution_count": 35,
     "metadata": {},
     "output_type": "execute_result"
    }
   ],
   "source": [
    "df_train.columns"
   ]
  },
  {
   "cell_type": "code",
   "execution_count": 36,
   "metadata": {},
   "outputs": [],
   "source": [
    "emb_cols=['gender_idx','age_idx','title_idx','genre_idx','zip_idx']"
   ]
  },
  {
   "cell_type": "code",
   "execution_count": 37,
   "metadata": {},
   "outputs": [
    {
     "data": {
      "text/plain": [
       "[('gender_idx', 2),\n",
       " ('age_idx', 7),\n",
       " ('title_idx', 3692),\n",
       " ('genre_idx', 301),\n",
       " ('zip_idx', 3439)]"
      ]
     },
     "execution_count": 37,
     "metadata": {},
     "output_type": "execute_result"
    }
   ],
   "source": [
    "[(col, df_train[col].nunique()) for col in emb_cols]"
   ]
  },
  {
   "cell_type": "code",
   "execution_count": 38,
   "metadata": {},
   "outputs": [
    {
     "data": {
      "text/plain": [
       "[('gender_idx', 0),\n",
       " ('age_idx', 0),\n",
       " ('title_idx', 36),\n",
       " ('genre_idx', 3),\n",
       " ('zip_idx', 34)]"
      ]
     },
     "execution_count": 38,
     "metadata": {},
     "output_type": "execute_result"
    }
   ],
   "source": [
    "[(col, min(50,df_train[col].nunique()//100)) for col in emb_cols]"
   ]
  },
  {
   "cell_type": "markdown",
   "metadata": {},
   "source": [
    "### Dataset and DataLoader"
   ]
  },
  {
   "cell_type": "code",
   "execution_count": 39,
   "metadata": {},
   "outputs": [],
   "source": [
    "class cfdata (torch.utils.data.dataset.Dataset):\n",
    "    def __init__(self,dfX,dfY,denseCols):\n",
    "        self.dfX,self.dfY=dfX,dfY\n",
    "        self.denseCols=denseCols\n",
    "        \n",
    "    def __len__ (self):\n",
    "        return self.dfX.shape[0]\n",
    "    \n",
    "    def __getitem__ (self, idx):\n",
    "        return torch.FloatTensor(self.dfX.iloc[idx].values),torch.FloatTensor([self.dfY.values[idx]])"
   ]
  },
  {
   "cell_type": "code",
   "execution_count": 40,
   "metadata": {},
   "outputs": [],
   "source": [
    "dstrain=cfdata(df_train[['user_idx','item_idx']+autoenc_cols],df_train['rating'],autoenc_cols)\n",
    "dsvalid=cfdata(df_valid[['user_idx','item_idx']+autoenc_cols],df_valid['rating'],autoenc_cols)"
   ]
  },
  {
   "cell_type": "code",
   "execution_count": 41,
   "metadata": {},
   "outputs": [
    {
     "data": {
      "text/plain": [
       "(900188, 55)"
      ]
     },
     "execution_count": 41,
     "metadata": {},
     "output_type": "execute_result"
    }
   ],
   "source": [
    "df_train.shape"
   ]
  },
  {
   "cell_type": "code",
   "execution_count": 42,
   "metadata": {},
   "outputs": [],
   "source": [
    "bs=16"
   ]
  },
  {
   "cell_type": "code",
   "execution_count": 43,
   "metadata": {},
   "outputs": [],
   "source": [
    "dltrain=DataLoader(dstrain,bs,True)"
   ]
  },
  {
   "cell_type": "code",
   "execution_count": 44,
   "metadata": {},
   "outputs": [],
   "source": [
    "dlvalid=DataLoader(dsvalid,bs,True)"
   ]
  },
  {
   "cell_type": "code",
   "execution_count": 45,
   "metadata": {},
   "outputs": [
    {
     "data": {
      "text/plain": [
       "(61.0, 388.96)"
      ]
     },
     "execution_count": 45,
     "metadata": {},
     "output_type": "execute_result"
    }
   ],
   "source": [
    "610/10, 9724/25"
   ]
  },
  {
   "cell_type": "code",
   "execution_count": 46,
   "metadata": {},
   "outputs": [
    {
     "data": {
      "text/plain": [
       "(6040, 3706)"
      ]
     },
     "execution_count": 46,
     "metadata": {},
     "output_type": "execute_result"
    }
   ],
   "source": [
    "len(user_to_idx),len(movie_to_idx)"
   ]
  },
  {
   "cell_type": "markdown",
   "metadata": {},
   "source": [
    "## Model Architecture"
   ]
  },
  {
   "cell_type": "code",
   "execution_count": 58,
   "metadata": {},
   "outputs": [],
   "source": [
    "n_users=len(user_to_idx)\n",
    "n_movies=len(movie_to_idx)\n",
    "n_emb_user=20\n",
    "n_emb_movie=20\n",
    "min_rating=min(df_train['rating'])\n",
    "max_rating=max(df_train['rating'])\n",
    "dropout_e=0.1\n",
    "hidden=[10,5,5]\n",
    "dropouts=[0.2,0.3,0.2]"
   ]
  },
  {
   "cell_type": "code",
   "execution_count": 59,
   "metadata": {},
   "outputs": [],
   "source": [
    "def hidden_layer(x,y,dropout,activation=nn.Sigmoid()):\n",
    "    return nn.Sequential(\n",
    "        nn.Linear(x, y),\n",
    "        activation,\n",
    "        nn.Dropout(p=dropout)\n",
    "        )   "
   ]
  },
  {
   "cell_type": "code",
   "execution_count": 60,
   "metadata": {},
   "outputs": [],
   "source": [
    "class cf(nn.Module):    \n",
    "    def __init__(self,n_users,n_emb_user,n_emb_movie,n_movies,min_rating,max_rating,autoenc_cols,\\\n",
    "                 dropout_e=0.01,hidden=[15,5],dropouts=[0.2,0.2],error_type=\"mse\"):\n",
    "        super().__init__()\n",
    "        self.n_users,self.n_emb_user,self.n_emb_movie,self.n_movies,self.min_rating,self.max_rating=\\\n",
    "                    n_users,n_emb_user,n_emb_movie,n_movies,min_rating,max_rating\n",
    "        self.dropout_e,self.hidden,self.dropouts=dropout_e,hidden,dropouts\n",
    "        self.autoenc_cols,self.len_dense_cols=autoenc_cols,len(autoenc_cols)\n",
    "        self.create_architecture()\n",
    "\n",
    "        if error_type!=\"mse\":\n",
    "            self.criterion=nn.L1Loss()\n",
    "        else:\n",
    "            self.criterion=nn.MSELoss()\n",
    "        \n",
    "    def create_architecture(self):\n",
    "        self.emb_user=nn.Embedding(self.n_users+1,self.n_emb_user)\n",
    "        self.emb_movie=nn.Embedding(self.n_movies+1,self.n_emb_movie)\n",
    "        self.emb_dropout=nn.Dropout(self.dropout_e)\n",
    "\n",
    "        \n",
    "        self.lin1= nn.Sequential(nn.Linear(self.n_emb_user+self.n_emb_movie,self.hidden[0]),\n",
    "                    nn.ReLU(),\n",
    "                    nn.Dropout(p=dropouts[0]) )\n",
    "        self.lin2= nn.Sequential (nn.Linear(self.len_dense_cols,self.hidden[1]),\n",
    "                    nn.ReLU(),\n",
    "                    nn.Dropout(p=dropouts[1]) )\n",
    "        self.lin3= nn.Sequential (nn.Linear(self.hidden[0]+self.hidden[1],self.hidden[2]),\n",
    "                    nn.ReLU(),\n",
    "                    nn.Dropout(p=dropouts[2]))\n",
    "        self.lin4=nn.Linear(self.hidden[2],1)\n",
    "        self.sigmoid=nn.Sigmoid()\n",
    "        \n",
    "        \n",
    "    def init_parameters(self):\n",
    "        nn.init.kaiming_normal_(self.emb_user.weight.data)\n",
    "        nn.init.kaiming_normal_(self.emb_movie.weight.dat)\n",
    "        #nn.init.kaiming_normal_(lin)\n",
    "       \n",
    "    def forward (self,Xb,Yb):\n",
    "        users=Xb[:,0].long()\n",
    "        items=Xb[:,1].long()\n",
    "        users=self.emb_dropout(self.emb_user(users))\n",
    "        items=self.emb_dropout(self.emb_movie(items))\n",
    "        \n",
    "        denses=Xb[:,2:]\n",
    "        embed=torch.cat([users,items],1)\n",
    "        \n",
    "        out1=self.lin1(embed)\n",
    "        out2=self.lin2(denses)\n",
    "        out3=torch.cat([out1,out2],1)\n",
    "        out4=self.lin3(out3)\n",
    "        out5=self.lin4(out4)\n",
    "        \n",
    "        out=self.sigmoid(out5)\n",
    "        \n",
    "        preds=out*(self.max_rating-self.min_rating)+self.min_rating\n",
    "        #preds=preds.view(-1)\n",
    "        loss=self.criterion(preds,Yb)\n",
    "        return preds,loss"
   ]
  },
  {
   "cell_type": "code",
   "execution_count": 61,
   "metadata": {},
   "outputs": [],
   "source": [
    "cfobj=cf(n_users,n_emb_user,n_emb_movie,n_movies,min_rating,max_rating,autoenc_cols,dropout_e,hidden,dropouts,error_type=\"mse\")"
   ]
  },
  {
   "cell_type": "code",
   "execution_count": 62,
   "metadata": {},
   "outputs": [
    {
     "data": {
      "text/plain": [
       "cf(\n",
       "  (emb_user): Embedding(6041, 20)\n",
       "  (emb_movie): Embedding(3707, 20)\n",
       "  (emb_dropout): Dropout(p=0.1)\n",
       "  (lin1): Sequential(\n",
       "    (0): Linear(in_features=40, out_features=10, bias=True)\n",
       "    (1): ReLU()\n",
       "    (2): Dropout(p=0.2)\n",
       "  )\n",
       "  (lin2): Sequential(\n",
       "    (0): Linear(in_features=35, out_features=5, bias=True)\n",
       "    (1): ReLU()\n",
       "    (2): Dropout(p=0.3)\n",
       "  )\n",
       "  (lin3): Sequential(\n",
       "    (0): Linear(in_features=15, out_features=5, bias=True)\n",
       "    (1): ReLU()\n",
       "    (2): Dropout(p=0.2)\n",
       "  )\n",
       "  (lin4): Linear(in_features=5, out_features=1, bias=True)\n",
       "  (sigmoid): Sigmoid()\n",
       "  (criterion): MSELoss()\n",
       ")"
      ]
     },
     "execution_count": 62,
     "metadata": {},
     "output_type": "execute_result"
    }
   ],
   "source": [
    "cfobj"
   ]
  },
  {
   "cell_type": "code",
   "execution_count": 63,
   "metadata": {},
   "outputs": [],
   "source": [
    "for Xb, Yb in dltrain:\n",
    "    break"
   ]
  },
  {
   "cell_type": "code",
   "execution_count": 64,
   "metadata": {},
   "outputs": [
    {
     "data": {
      "text/plain": [
       "(torch.Size([16, 37]), torch.Size([16, 1]))"
      ]
     },
     "execution_count": 64,
     "metadata": {},
     "output_type": "execute_result"
    }
   ],
   "source": [
    "Xb.shape, Yb.shape"
   ]
  },
  {
   "cell_type": "code",
   "execution_count": 65,
   "metadata": {},
   "outputs": [
    {
     "data": {
      "text/plain": [
       "torch.float32"
      ]
     },
     "execution_count": 65,
     "metadata": {},
     "output_type": "execute_result"
    }
   ],
   "source": [
    "Xb.dtype"
   ]
  },
  {
   "cell_type": "code",
   "execution_count": 66,
   "metadata": {},
   "outputs": [
    {
     "data": {
      "text/plain": [
       "(tensor([[2.9539],\n",
       "         [3.1700],\n",
       "         [3.3326],\n",
       "         [2.8181],\n",
       "         [3.2058],\n",
       "         [3.0266],\n",
       "         [2.8841],\n",
       "         [2.7345],\n",
       "         [3.2217],\n",
       "         [3.3568],\n",
       "         [2.9009],\n",
       "         [2.9231],\n",
       "         [2.9724],\n",
       "         [3.4946],\n",
       "         [2.7202],\n",
       "         [2.7891]], grad_fn=<AddBackward0>),\n",
       " tensor(1.9054, grad_fn=<MseLossBackward>))"
      ]
     },
     "execution_count": 66,
     "metadata": {},
     "output_type": "execute_result"
    }
   ],
   "source": [
    "cfobj.forward(Xb,Yb)"
   ]
  },
  {
   "cell_type": "markdown",
   "metadata": {},
   "source": [
    "## Learner"
   ]
  },
  {
   "cell_type": "code",
   "execution_count": 67,
   "metadata": {},
   "outputs": [],
   "source": [
    "class Learner():\n",
    "    def __init__(self,model,optimizer,metric_fn,device,bptt=12,print_every=5,clip_val=None,\\\n",
    "                 cycle_mult=0,lr_decay=0.7,wd_mult=6,start_lr=2e-2, end_lr=5e-4,error_type=\"mse\"):\n",
    "        self.model,self.optimizer,self.metric_fn,self.device,self.print_every,self.bptt,self.losses,self.clip_val=\\\n",
    "            model,optimizer,metric_fn,device,print_every,bptt,[],clip_val\n",
    "        self.n_epochs=1\n",
    "        self.cycle_mult,self.lr_decay=cycle_mult,lr_decay\n",
    "        self.wd_mult=wd_mult\n",
    "        for param_group in self.optimizer.param_groups:\n",
    "            self.start_lr=param_group['lr']\n",
    "            self.start_wd=param_group['weight_decay']\n",
    "        self.wd=self.start_wd\n",
    "        self.lr=self.start_lr\n",
    "        self.end_lr=end_lr\n",
    "        self.n_epoch=0\n",
    "        self.lrs=[1e-2,5e-3,1e-4,5e-4]\n",
    "        self.preds,self.preds_valid,self.trainY,self.actual=[],[],[],[]\n",
    "        self.ratio=self.end_lr/self.start_lr\n",
    "        self.num_steps=self.cycle_mult\n",
    "        self.reset_cycle=self.cycle_mult\n",
    "        self.error_type=error_type\n",
    "        \n",
    "    def fit (self,Xb,Yb,mode_train=True):\n",
    "        if mode_train:\n",
    "            self.model.train()\n",
    "        else:\n",
    "            self.model.eval()\n",
    "        \n",
    "        #import pdb\n",
    "        #pdb.set_trace()\n",
    "        preds,loss=self.model(Xb,Yb)\n",
    "\n",
    "     \n",
    "        if mode_train:\n",
    "            if 1==0:\n",
    "                lr =self.lrs[torch.randint(0,4,(1,))]\n",
    "                for param_group in self.optimizer.param_groups:\n",
    "                    param_group['lr']=lr\n",
    "            \n",
    "            self.optimizer.zero_grad()\n",
    "            loss.backward()\n",
    "            self.optimizer.step()\n",
    "        myloss=loss.item()\n",
    "    \n",
    "        \n",
    "        with torch.no_grad():\n",
    "            if self.error_type == \"mse\":\n",
    "                acc=nn.L1Loss() (preds,Yb)\n",
    "                myrmse=np.sqrt(myloss)\n",
    "            else:\n",
    "                acc=nn.MSELoss() (preds,Yb)\n",
    "                myrmse=np.sqrt(acc.item())\n",
    "            acc=acc.item()\n",
    "                 \n",
    "   \n",
    "        del preds\n",
    "        del loss\n",
    "        \n",
    "        if self.clip_val is not None:\n",
    "            torch.nn.utils.clip_grad_norm_(self.model.parameters(), self.clip_val)\n",
    "        \n",
    "        return myloss, acc, myrmse\n",
    "    \n",
    "    def lr_find (self,start_lr,end_lr,iterator,n_batch):\n",
    "        losses,lrs=[],[]\n",
    "        ratio=end_lr/start_lr\n",
    "        num_steps=n_batch\n",
    "        lr=start_lr\n",
    "        for i in range(num_steps):            \n",
    "            lr=lr*(end_lr/start_lr)**(1/num_steps)\n",
    "            lrs.append(lr)\n",
    "        self.lrs=lrs\n",
    "        self.run_epoch(iterator,mode_train=True,lrs=lrs)\n",
    "    \n",
    "    def run_epoch(self,iterator,mode_train,lrs=None):\n",
    "        epoch_loss,epoch_acc,i,k=0,0,0,0\n",
    "        epoch_rmse=0\n",
    "\n",
    "\n",
    "        for Xb,Yb in iterator:\n",
    "            Xb=Xb.to(self.device)\n",
    "            Yb=Yb.to(self.device)\n",
    "            \n",
    "            if lrs is not None:\n",
    "                lr=lrs[k]\n",
    "                for param_group in self.optimizer.param_groups:\n",
    "                    param_group['lr']=lr \n",
    "            \n",
    "\n",
    "            loss,acc,myrmse=self.fit(Xb,Yb,mode_train)\n",
    "            \n",
    "            if lrs is not None:\n",
    "                self.losses.append(loss)\n",
    "\n",
    "\n",
    "            \n",
    "\n",
    "            epoch_loss+=loss\n",
    "            epoch_acc+=acc\n",
    "            epoch_rmse+=myrmse\n",
    "            \n",
    "            k=k+1\n",
    "            if k%self.print_every == 0:\n",
    "                if k:\n",
    "                    print (f'Batch:{k} {epoch_loss/(k)}  ')  \n",
    "                    torch.cuda.empty_cache()\n",
    "\n",
    "        epoch_loss=epoch_loss/len(iterator)\n",
    "        epoch_acc=epoch_acc/len(iterator)\n",
    "        epoch_rmse=epoch_rmse/len(iterator)\n",
    "            \n",
    "        return epoch_loss,epoch_acc,epoch_rmse\n",
    "    \n",
    "    def plot_lrs(self, n_roll=1,ylim=None,xlim=None):\n",
    "        import seaborn as sns\n",
    "        ax=sns.lineplot(x=self.lrs,y=pd.Series(self.losses).rolling(n_roll).mean())\n",
    "        ax.set_xscale('log')\n",
    "        ax.set_ylabel('Loss')\n",
    "        ax.set_xlabel('Learning Rate')\n",
    "        if ylim is not None:\n",
    "            plt.ylim(ylim)\n",
    "        if xlim is not None:\n",
    "            plt.xlim(xlim)\n",
    "\n",
    "     \n",
    "    def run_epochs(self,dltrain,dlvalid,n_epochs=1):              \n",
    "        for epoch in range(n_epochs):                \n",
    "            loss,acc,rmse=self.run_epoch(dltrain,True)\n",
    "\n",
    "            lossv,accv,rmsev=self.run_epoch(dlvalid,mode_train=False)\n",
    "           \n",
    "            if self.error_type==\"mse\":\n",
    "                loss_mse=loss\n",
    "                loss_rmse=rmse\n",
    "                loss_mae=acc\n",
    "                lossv_mse=lossv\n",
    "                lossv_rmse=rmsev\n",
    "                lossv_mae=accv\n",
    "                \n",
    "            else:\n",
    "                loss_mse=acc\n",
    "                loss_rmse=rmse\n",
    "                loss_mae=loss\n",
    "                lossv_mse=accv\n",
    "                lossv_rmse=rmsev\n",
    "                lossv_mae=lossv\n",
    "            \n",
    "            print (f'Epoch:{epoch} Learning rate {self.lr} Weight Decay {self.wd} Train Loss:{loss} \\\n",
    "                Valid Loss:{lossv} Train RMSE:{loss_rmse} Valid RMSE:{lossv_rmse} Train MSE:{loss_mse} Valid MSE:{lossv_mse} \\\n",
    "                Train MAE:{loss_mae} Valid MAE:{lossv_mae}')\n",
    "\n",
    "              \n",
    "         \n",
    "     \n",
    "            if self.cycle_mult:\n",
    "                if self.n_epoch==self.reset_cycle:\n",
    "                    self.lr=self.start_lr\n",
    "                    #self.wd=self.start_wd\n",
    "                    self.reset_cycle*=self.cycle_mult\n",
    "                    #reset_cycle=self.n_epoch+reset_cycle\n",
    "                    self.n_epoch=0\n",
    "                    self.ratio=self.end_lr/self.start_lr\n",
    "                    self.num_steps=self.reset_cycle\n",
    "                else:\n",
    "                    #self.lr*=(self.lr_decay**self.n_epoch)  \n",
    "                    #if self.n_epoch>1:\n",
    "                    #    self.wd*=self.wd_mult\n",
    "                    self.lr=self.lr*(self.end_lr/self.start_lr)**(1/self.num_steps)\n",
    "                    self.n_epoch+=1\n",
    "        \n",
    "\n",
    "                \n",
    "            for param_group in self.optimizer.param_groups:\n",
    "                param_group['lr']=self.lr\n",
    "                #param_group['weight_decay']=self.wd\n",
    "          \n",
    "     "
   ]
  },
  {
   "cell_type": "code",
   "execution_count": 69,
   "metadata": {},
   "outputs": [],
   "source": [
    "device='cuda:0'"
   ]
  },
  {
   "cell_type": "code",
   "execution_count": 70,
   "metadata": {},
   "outputs": [],
   "source": [
    "del cfobj"
   ]
  },
  {
   "cell_type": "code",
   "execution_count": 71,
   "metadata": {},
   "outputs": [],
   "source": [
    "cfobj=cf(n_users,n_emb_user,n_emb_movie,n_movies,min_rating,max_rating,autoenc_cols,dropout_e,hidden,dropouts,error_type=\"mse\")"
   ]
  },
  {
   "cell_type": "code",
   "execution_count": 72,
   "metadata": {},
   "outputs": [],
   "source": [
    "cfobj=cfobj.to(device)"
   ]
  },
  {
   "cell_type": "code",
   "execution_count": 73,
   "metadata": {},
   "outputs": [
    {
     "data": {
      "text/plain": [
       "cf(\n",
       "  (emb_user): Embedding(6041, 20)\n",
       "  (emb_movie): Embedding(3707, 20)\n",
       "  (emb_dropout): Dropout(p=0.1)\n",
       "  (lin1): Sequential(\n",
       "    (0): Linear(in_features=40, out_features=10, bias=True)\n",
       "    (1): ReLU()\n",
       "    (2): Dropout(p=0.2)\n",
       "  )\n",
       "  (lin2): Sequential(\n",
       "    (0): Linear(in_features=35, out_features=5, bias=True)\n",
       "    (1): ReLU()\n",
       "    (2): Dropout(p=0.3)\n",
       "  )\n",
       "  (lin3): Sequential(\n",
       "    (0): Linear(in_features=15, out_features=5, bias=True)\n",
       "    (1): ReLU()\n",
       "    (2): Dropout(p=0.2)\n",
       "  )\n",
       "  (lin4): Linear(in_features=5, out_features=1, bias=True)\n",
       "  (sigmoid): Sigmoid()\n",
       "  (criterion): MSELoss()\n",
       ")"
      ]
     },
     "execution_count": 73,
     "metadata": {},
     "output_type": "execute_result"
    }
   ],
   "source": [
    "cfobj"
   ]
  },
  {
   "cell_type": "code",
   "execution_count": 74,
   "metadata": {},
   "outputs": [
    {
     "data": {
      "text/plain": [
       "56262"
      ]
     },
     "execution_count": 74,
     "metadata": {},
     "output_type": "execute_result"
    }
   ],
   "source": [
    "len(dltrain)"
   ]
  },
  {
   "cell_type": "code",
   "execution_count": 75,
   "metadata": {},
   "outputs": [
    {
     "data": {
      "text/plain": [
       "16"
      ]
     },
     "execution_count": 75,
     "metadata": {},
     "output_type": "execute_result"
    }
   ],
   "source": [
    "dltrain.batch_size"
   ]
  },
  {
   "cell_type": "code",
   "execution_count": 76,
   "metadata": {},
   "outputs": [],
   "source": [
    "wd=1e-7\n",
    "optimizer=torch.optim.Adam(cfobj.parameters(),lr=7e-3,betas=(0.9,0.999), weight_decay=wd)\n"
   ]
  },
  {
   "cell_type": "code",
   "execution_count": 77,
   "metadata": {},
   "outputs": [],
   "source": [
    "learner=Learner(cfobj,optimizer,None,device,0,2000,0.25,cycle_mult=0,error_type=\"mse\")"
   ]
  },
  {
   "cell_type": "code",
   "execution_count": 78,
   "metadata": {},
   "outputs": [
    {
     "name": "stdout",
     "output_type": "stream",
     "text": [
      "Batch:2000 1.2746658907681703  \n",
      "Batch:4000 1.2645255191251636  \n",
      "Batch:6000 1.2556417755285898  \n",
      "Batch:8000 1.2511577559113503  \n",
      "Batch:10000 1.2475955066233873  \n",
      "Batch:12000 1.2424659279560049  \n",
      "Batch:14000 1.2368487208890064  \n",
      "Batch:16000 1.2317625331375748  \n",
      "Batch:18000 1.2257211601022218  \n",
      "Batch:20000 1.2179812364637852  \n",
      "Batch:22000 1.2093353566026146  \n",
      "Batch:24000 1.1979696994970241  \n",
      "Batch:26000 1.1856906169721713  \n",
      "Batch:28000 1.1749755951517395  \n",
      "Batch:30000 1.1635091339468957  \n",
      "Batch:32000 1.1521744376169518  \n",
      "Batch:34000 1.1427465287832652  \n",
      "Batch:36000 1.1342881463637782  \n",
      "Batch:38000 1.1257992853514458  \n",
      "Batch:40000 1.1192640762872994  \n",
      "Batch:42000 1.1146332550708737  \n",
      "Batch:44000 1.1114240642474456  \n",
      "Batch:46000 1.1104585191607474  \n",
      "Batch:48000 1.1120112545086691  \n",
      "Batch:50000 1.1146584838879108  \n",
      "Batch:52000 1.1173159850824337  \n",
      "Batch:54000 1.1206510998303139  \n",
      "Batch:56000 1.1250361680957888  \n"
     ]
    }
   ],
   "source": [
    "learner.lr_find(1e-4,1e-1,dltrain,len(dltrain))"
   ]
  },
  {
   "cell_type": "code",
   "execution_count": 79,
   "metadata": {},
   "outputs": [
    {
     "data": {
      "image/png": "[encoded data removed]",
      "text/plain": [
       "<Figure size 432x288 with 1 Axes>"
      ]
     },
     "metadata": {
      "needs_background": "light"
     },
     "output_type": "display_data"
    }
   ],
   "source": [
    "learner.plot_lrs(50)"
   ]
  },
  {
   "cell_type": "code",
   "execution_count": 80,
   "metadata": {},
   "outputs": [
    {
     "data": {
      "image/png": "[encoded data removed]",
      "text/plain": [
       "<Figure size 432x288 with 1 Axes>"
      ]
     },
     "metadata": {
      "needs_background": "light"
     },
     "output_type": "display_data"
    }
   ],
   "source": [
    "learner.plot_lrs(10)"
   ]
  },
  {
   "cell_type": "code",
   "execution_count": 81,
   "metadata": {},
   "outputs": [
    {
     "data": {
      "image/png": "[encoded data removed]",
      "text/plain": [
       "<Figure size 432x288 with 1 Axes>"
      ]
     },
     "metadata": {
      "needs_background": "light"
     },
     "output_type": "display_data"
    }
   ],
   "source": [
    "learner.plot_lrs(100)"
   ]
  },
  {
   "cell_type": "code",
   "execution_count": 82,
   "metadata": {},
   "outputs": [],
   "source": [
    "del cfobj\n",
    "torch.cuda.empty_cache()"
   ]
  },
  {
   "cell_type": "code",
   "execution_count": 83,
   "metadata": {},
   "outputs": [],
   "source": [
    "cfobj=cf(n_users,n_emb_user,n_emb_movie,n_movies,min_rating,max_rating,autoenc_cols,dropout_e,hidden,dropouts,error_type=\"mse\")\n",
    "cfobj=cfobj.to(device)"
   ]
  },
  {
   "cell_type": "code",
   "execution_count": 84,
   "metadata": {},
   "outputs": [],
   "source": [
    "wd=1e-7\n",
    "optimizer=torch.optim.Adam(cfobj.parameters(),lr=5e-3,betas=(0.9,0.999), weight_decay=wd)\n",
    "learner=Learner(cfobj,optimizer,None,device,0,12000,0.25,cycle_mult=0)"
   ]
  },
  {
   "cell_type": "code",
   "execution_count": 86,
   "metadata": {},
   "outputs": [
    {
     "name": "stdout",
     "output_type": "stream",
     "text": [
      "Batch:12000 1.05747808410724  \n",
      "Batch:24000 1.014221702142929  \n",
      "Batch:36000 0.992330550716983  \n",
      "Batch:48000 0.9808973141647875  \n",
      "Epoch:0 Learning rate 0.005 Weight Decay 1e-07 Train Loss:0.9753141018700504                 Valid Loss:0.8819292464692167 Train RMSE:0.9718606636743499 Valid RMSE:0.9238840761080269 Train MSE:0.9753141018700504 Valid MSE:0.8819292464692167                 Train MAE:0.7882093502057823 Valid MAE:0.7549897770058324\n",
      "Batch:12000 0.9286765033279856  \n",
      "Batch:24000 0.9302404335432997  \n",
      "Batch:36000 0.9328911960745851  \n",
      "Batch:48000 0.9326564038231347  \n",
      "Epoch:1 Learning rate 0.005 Weight Decay 1e-07 Train Loss:0.9338369616683575                 Valid Loss:0.8694070598595584 Train RMSE:0.9507355466214519 Valid RMSE:0.9168419697575495 Train MSE:0.9338369616683575 Valid MSE:0.8694070598595584                 Train MAE:0.7725875164951561 Valid MAE:0.7467452275518492\n",
      "Batch:12000 0.9252296625872453  \n",
      "Batch:24000 0.9270452886360387  \n",
      "Batch:36000 0.9281924420789712  \n",
      "Batch:48000 0.928739118556492  \n",
      "Epoch:2 Learning rate 0.005 Weight Decay 1e-07 Train Loss:0.9298886181265227                 Valid Loss:0.8744417835200969 Train RMSE:0.9486599375149283 Valid RMSE:0.9189402876147255 Train MSE:0.9298886181265227 Valid MSE:0.8744417835200969                 Train MAE:0.7708114131107582 Valid MAE:0.7408228511239806\n",
      "Batch:12000 0.9216907729742427  \n",
      "Batch:24000 0.9245870400679608  \n",
      "Batch:36000 0.9255664159076081  \n",
      "Batch:48000 0.9271902133577192  \n",
      "Epoch:3 Learning rate 0.005 Weight Decay 1e-07 Train Loss:0.9286821556046919                 Valid Loss:0.8742339752032943 Train RMSE:0.9480350079937666 Valid RMSE:0.9179386246645146 Train MSE:0.9286821556046919 Valid MSE:0.8742339752032943                 Train MAE:0.7700427153888452 Valid MAE:0.7408482976405574\n",
      "Batch:12000 0.9207595812628666  \n",
      "Batch:24000 0.9230752108450979  \n",
      "Batch:36000 0.9257175506980468  \n",
      "Batch:48000 0.9278907392011024  \n",
      "Epoch:4 Learning rate 0.005 Weight Decay 1e-07 Train Loss:0.9282607110172519                 Valid Loss:0.8673601495036504 Train RMSE:0.947850516216336 Valid RMSE:0.9170364145427868 Train MSE:0.9282607110172519 Valid MSE:0.8673601495036504                 Train MAE:0.7695956008762332 Valid MAE:0.7522932316342837\n",
      "Batch:12000 0.9183750113323331  \n",
      "Batch:24000 0.9227017262863616  \n",
      "Batch:36000 0.9247301696994239  \n",
      "Batch:48000 0.9261101464334255  \n",
      "Epoch:5 Learning rate 0.005 Weight Decay 1e-07 Train Loss:0.9261524781618111                 Valid Loss:0.8600579208109864 Train RMSE:0.946651536669431 Valid RMSE:0.9118571364812381 Train MSE:0.9261524781618111 Valid MSE:0.8600579208109864                 Train MAE:0.7676855514178863 Valid MAE:0.7389426419770039\n",
      "Batch:12000 0.9230336906500161  \n",
      "Batch:24000 0.9229454708825797  \n",
      "Batch:36000 0.9223011458648576  \n",
      "Batch:48000 0.9243940508548791  \n",
      "Epoch:6 Learning rate 0.005 Weight Decay 1e-07 Train Loss:0.9251862208628001                 Valid Loss:0.8785470293611956 Train RMSE:0.946091740651205 Valid RMSE:0.9194445753258438 Train MSE:0.9251862208628001 Valid MSE:0.8785470293611956                 Train MAE:0.7675126058904214 Valid MAE:0.7334945345784866\n"
     ]
    }
   ],
   "source": [
    "learner.run_epochs(dltrain,dlvalid,7)"
   ]
  },
  {
   "cell_type": "code",
   "execution_count": 87,
   "metadata": {},
   "outputs": [],
   "source": [
    "optimizer=torch.optim.Adam(cfobj.parameters(),lr=7e-3,betas=(0.9,0.999), weight_decay=wd)\n",
    "learner=Learner(cfobj,optimizer,None,device,0,4000,0.25,cycle_mult=2,start_lr=7e-3,end_lr=5e-4,error_type=\"mse\")"
   ]
  },
  {
   "cell_type": "code",
   "execution_count": 88,
   "metadata": {},
   "outputs": [
    {
     "name": "stdout",
     "output_type": "stream",
     "text": [
      "Batch:4000 0.9842892828211188  \n",
      "Batch:8000 0.9788633565697819  \n",
      "Batch:12000 0.9770450124343236  \n",
      "Batch:16000 0.974370383114554  \n",
      "Batch:20000 0.9728155864819884  \n",
      "Batch:24000 0.9706864664579431  \n",
      "Batch:28000 0.969067645026637  \n",
      "Batch:32000 0.9663787385914475  \n",
      "Batch:36000 0.9656343361052374  \n",
      "Batch:40000 0.964453967134282  \n",
      "Batch:44000 0.9628118939850141  \n",
      "Batch:48000 0.9619917195790136  \n",
      "Batch:52000 0.9605681868272905  \n",
      "Batch:56000 0.9598406713062099  \n",
      "Batch:4000 0.867135341398418  \n",
      "Epoch:0 Learning rate 0.007 Weight Decay 1e-07 Train Loss:0.9597045431635094                 Valid Loss:0.8765193330277752 Train RMSE:0.9640647170969748 Valid RMSE:0.9202826374253699 Train MSE:0.9597045431635094 Valid MSE:0.8765193330277752                 Train MAE:0.7813362795402041 Valid MAE:0.744351516224525\n",
      "Batch:4000 0.9168636538237334  \n",
      "Batch:8000 0.9136652024406939  \n",
      "Batch:12000 0.9145715356046955  \n",
      "Batch:16000 0.9134909699903802  \n",
      "Batch:20000 0.9127956453971565  \n",
      "Batch:24000 0.9110293645597994  \n",
      "Batch:28000 0.9108059133253992  \n",
      "Batch:32000 0.9090425573908724  \n",
      "Batch:36000 0.9088173182457685  \n",
      "Batch:40000 0.9087141468603164  \n",
      "Batch:44000 0.9083606699095531  \n",
      "Batch:48000 0.9079364053361739  \n",
      "Batch:52000 0.907739504629173  \n",
      "Batch:56000 0.9078593837561618  \n",
      "Batch:4000 0.841630061160773  \n",
      "Epoch:1 Learning rate 0.0018708286933869708 Weight Decay 1e-07 Train Loss:0.9077693135790295                 Valid Loss:0.8427697499226052 Train RMSE:0.9375060018554986 Valid RMSE:0.9019486844421123 Train MSE:0.9077693135790295 Valid MSE:0.8427697499226052                 Train MAE:0.7603284765291424 Valid MAE:0.7298519373779029\n",
      "Batch:4000 0.8920995799899101  \n",
      "Batch:8000 0.8846489795185626  \n",
      "Batch:12000 0.8880093930562337  \n",
      "Batch:16000 0.8884940552236512  \n",
      "Batch:20000 0.8899928804218769  \n",
      "Batch:24000 0.8896185594281802  \n",
      "Batch:28000 0.8895885264490332  \n",
      "Batch:32000 0.8895749363247305  \n",
      "Batch:36000 0.8899516833085153  \n",
      "Batch:40000 0.8903441348288208  \n",
      "Batch:44000 0.89049924134734  \n",
      "Batch:48000 0.8903858619627233  \n",
      "Batch:52000 0.8897848552198937  \n",
      "Batch:56000 0.8901893701657121  \n",
      "Batch:4000 0.8428229115828871  \n",
      "Epoch:2 Learning rate 0.0005 Weight Decay 1e-07 Train Loss:0.8901292557668654                 Valid Loss:0.8398834025166734 Train RMSE:0.9279552099117285 Valid RMSE:0.8999045514803791 Train MSE:0.8901292557668654 Valid MSE:0.8398834025166734                 Train MAE:0.7519502004207987 Valid MAE:0.724223925414485\n",
      "Batch:4000 0.9274197556041182  \n",
      "Batch:8000 0.9277541632018983  \n",
      "Batch:12000 0.9274068186307947  \n",
      "Batch:16000 0.9316750355800614  \n",
      "Batch:20000 0.9317412263199687  \n",
      "Batch:24000 0.9338194415364415  \n",
      "Batch:28000 0.9352231682496411  \n",
      "Batch:32000 0.9373492672019638  \n",
      "Batch:36000 0.9367620086036622  \n",
      "Batch:40000 0.9370372975613922  \n",
      "Batch:44000 0.937945029258728  \n",
      "Batch:48000 0.9387657648663347  \n",
      "Batch:52000 0.9389793150433554  \n",
      "Batch:56000 0.9392887103594839  \n",
      "Batch:4000 0.8757599712759256  \n",
      "Epoch:3 Learning rate 0.007 Weight Decay 1e-07 Train Loss:0.9392072300987058                 Valid Loss:0.8740300293761571 Train RMSE:0.9535963812256739 Valid RMSE:0.9184072288910307 Train MSE:0.9392072300987058 Valid MSE:0.8740300293761571                 Train MAE:0.7734289070786197 Valid MAE:0.7424615065752507\n",
      "Batch:4000 0.9241664949990809  \n",
      "Batch:8000 0.9232017471473664  \n",
      "Batch:12000 0.9220692644690474  \n",
      "Batch:16000 0.9200276727341116  \n",
      "Batch:20000 0.9202800621762872  \n",
      "Batch:24000 0.919890885874629  \n",
      "Batch:28000 0.9194623895718583  \n",
      "Batch:32000 0.9185145830996334  \n",
      "Batch:36000 0.9186227273398804  \n",
      "Batch:40000 0.9183348883397877  \n",
      "Batch:44000 0.9193809645402838  \n",
      "Batch:48000 0.9188386831476043  \n",
      "Batch:52000 0.9189255037158728  \n",
      "Batch:56000 0.9182034336206104  \n",
      "Batch:4000 0.8576904471032322  \n",
      "Epoch:4 Learning rate 0.0036188120777001943 Weight Decay 1e-07 Train Loss:0.9183669243075303                 Valid Loss:0.8598802951560788 Train RMSE:0.9427749948058639 Valid RMSE:0.9133123711130419 Train MSE:0.9183669243075303 Valid MSE:0.8598802951560788                 Train MAE:0.7653087305476411 Valid MAE:0.7500928776363722\n",
      "Batch:4000 0.9007563376426697  \n",
      "Batch:8000 0.8974700862541795  \n",
      "Batch:12000 0.8962376568478843  \n",
      "Batch:16000 0.8965194642408751  \n",
      "Batch:20000 0.8967528506498784  \n",
      "Batch:24000 0.8983325115314995  \n",
      "Batch:28000 0.8990029249204589  \n",
      "Batch:32000 0.8983313579198439  \n",
      "Batch:36000 0.8993837436659055  \n",
      "Batch:40000 0.8992089590942487  \n",
      "Batch:44000 0.898466098985042  \n",
      "Batch:48000 0.8983606719309464  \n",
      "Batch:52000 0.8993524582062203  \n",
      "Batch:56000 0.8994711382697735  \n",
      "Batch:4000 0.8426533501520753  \n",
      "Epoch:5 Learning rate 0.0018708286933869708 Weight Decay 1e-07 Train Loss:0.8995363422474174                 Valid Loss:0.8424147454520029 Train RMSE:0.9329108785409658 Valid RMSE:0.9033698573025849 Train MSE:0.8995363422474174 Valid MSE:0.8424147454520029                 Train MAE:0.7572107153929541 Valid MAE:0.7393947443326009\n",
      "Batch:4000 0.8831880311556161  \n",
      "Batch:8000 0.8882084779348225  \n",
      "Batch:12000 0.888746718460073  \n",
      "Batch:16000 0.8872249505640939  \n",
      "Batch:20000 0.8871637469783425  \n",
      "Batch:24000 0.8875683996944378  \n",
      "Batch:28000 0.8879143298257675  \n",
      "Batch:32000 0.888417601258494  \n",
      "Batch:36000 0.8886133622502287  \n",
      "Batch:40000 0.888565145939961  \n",
      "Batch:44000 0.8891455933742902  \n",
      "Batch:48000 0.8891116971656059  \n",
      "Batch:52000 0.8896072614837724  \n",
      "Batch:56000 0.8893786496956434  \n",
      "Batch:4000 0.8296070987507701  \n",
      "Epoch:6 Learning rate 0.0009671682101338347 Weight Decay 1e-07 Train Loss:0.8892780807520675                 Valid Loss:0.8302674141622512 Train RMSE:0.9273278027027322 Valid RMSE:0.8960474776713585 Train MSE:0.8892780807520675 Valid MSE:0.8302674141622512                 Train MAE:0.751866912659631 Valid MAE:0.7251883974383446\n",
      "Batch:4000 0.8788099539615214  \n",
      "Batch:8000 0.8819240289554  \n",
      "Batch:12000 0.8840656623890003  \n",
      "Batch:16000 0.8849566717958077  \n",
      "Batch:20000 0.8842495269283652  \n",
      "Batch:24000 0.8830188660922771  \n",
      "Batch:28000 0.882569972884176  \n",
      "Batch:32000 0.8826011914706323  \n",
      "Batch:36000 0.8825876456877838  \n",
      "Batch:40000 0.882691764771007  \n",
      "Batch:44000 0.8823393668882887  \n",
      "Batch:48000 0.8820665454816383  \n",
      "Batch:52000 0.8823209238999452  \n",
      "Batch:56000 0.8829433038778869  \n",
      "Batch:4000 0.8255380883812904  \n",
      "Epoch:7 Learning rate 0.0005 Weight Decay 1e-07 Train Loss:0.8829770094558895                 Valid Loss:0.827020928583043 Train RMSE:0.9240966701108014 Valid RMSE:0.8934389809894991 Train MSE:0.8829770094558895 Valid MSE:0.827020928583043                 Train MAE:0.7492808193473708 Valid MAE:0.7235181541232748\n",
      "Batch:4000 0.914928507886827  \n",
      "Batch:8000 0.9165966684687883  \n",
      "Batch:12000 0.9237647780862948  \n",
      "Batch:16000 0.9279228420555592  \n",
      "Batch:20000 0.9313007809050381  \n",
      "Batch:24000 0.9321057168245316  \n",
      "Batch:28000 0.933515957403928  \n",
      "Batch:32000 0.9352927638823166  \n",
      "Batch:36000 0.9354634288520449  \n",
      "Batch:40000 0.9363798960769549  \n",
      "Batch:44000 0.936501083241437  \n",
      "Batch:48000 0.9365834220503457  \n",
      "Batch:52000 0.9366441715086022  \n",
      "Batch:56000 0.9366688800886539  \n",
      "Batch:4000 0.871945705883205  \n",
      "Epoch:8 Learning rate 0.007 Weight Decay 1e-07 Train Loss:0.9368711423327086                 Valid Loss:0.8727631041695503 Train RMSE:0.9522705244279498 Valid RMSE:0.9190296676990006 Train MSE:0.9368711423327086 Valid MSE:0.8727631041695503                 Train MAE:0.7721675604143237 Valid MAE:0.7480118992528089\n",
      "Batch:4000 0.9122307686842978  \n",
      "Batch:8000 0.9175835635680706  \n",
      "Batch:12000 0.9186108751905461  \n",
      "Batch:16000 0.9217469106996432  \n",
      "Batch:20000 0.9223100426584482  \n",
      "Batch:24000 0.9226871839277446  \n",
      "Batch:28000 0.9233006959557534  \n",
      "Batch:32000 0.9237326586688869  \n",
      "Batch:36000 0.923964210352136  \n",
      "Batch:40000 0.924044556812197  \n",
      "Batch:44000 0.9242455719350414  \n",
      "Batch:48000 0.9247768811335166  \n",
      "Batch:52000 0.9257441486343742  \n",
      "Batch:56000 0.9258891282283834  \n",
      "Batch:4000 0.8594172365553677  \n",
      "Epoch:9 Learning rate 0.005033059163560604 Weight Decay 1e-07 Train Loss:0.9259445572110448                 Valid Loss:0.8607633039212272 Train RMSE:0.9465915559444353 Valid RMSE:0.9111628570113384 Train MSE:0.9259445572110448 Valid MSE:0.8607633039212272                 Train MAE:0.7680997542939207 Valid MAE:0.7357782328493002\n",
      "Batch:4000 0.922262484408915  \n",
      "Batch:8000 0.9117789033148438  \n",
      "Batch:12000 0.9127777062964936  \n"
     ]
    },
    {
     "name": "stdout",
     "output_type": "stream",
     "text": [
      "Batch:16000 0.9105138504775241  \n",
      "Batch:20000 0.910554099021107  \n",
      "Batch:24000 0.9107385796066374  \n",
      "Batch:28000 0.9103235540906234  \n",
      "Batch:32000 0.9118238689946011  \n",
      "Batch:36000 0.9133475381450521  \n",
      "Batch:40000 0.9132448159758002  \n",
      "Batch:44000 0.9134212375530465  \n",
      "Batch:48000 0.9134631799909597  \n",
      "Batch:52000 0.9138893654784904  \n",
      "Batch:56000 0.9141472840870598  \n",
      "Batch:4000 0.8400933315940201  \n",
      "Epoch:10 Learning rate 0.0036188120777001947 Weight Decay 1e-07 Train Loss:0.9142143794757767                 Valid Loss:0.8438335560710287 Train RMSE:0.940614885745922 Valid RMSE:0.9026135468684086 Train MSE:0.9142143794757767 Valid MSE:0.8438335560710287                 Train MAE:0.7634602444588933 Valid MAE:0.7276668858810335\n",
      "Batch:4000 0.8990460575334728  \n",
      "Batch:8000 0.9005795674864203  \n",
      "Batch:12000 0.9037527574164173  \n",
      "Batch:16000 0.9050356011362747  \n",
      "Batch:20000 0.9045911872275174  \n",
      "Batch:24000 0.9044043094925582  \n",
      "Batch:28000 0.9048302349682366  \n",
      "Batch:32000 0.9041323280739598  \n",
      "Batch:36000 0.9038059594138629  \n",
      "Batch:40000 0.9037235433902592  \n",
      "Batch:44000 0.9033203425404023  \n",
      "Batch:48000 0.9031290417400499  \n",
      "Batch:52000 0.9034011018969692  \n",
      "Batch:56000 0.9040211564847933  \n",
      "Batch:4000 0.843949912570417  \n",
      "Epoch:11 Learning rate 0.0026019564698389645 Weight Decay 1e-07 Train Loss:0.9041632396455346                 Valid Loss:0.8489446830021138 Train RMSE:0.9353268305139945 Valid RMSE:0.9038822160083649 Train MSE:0.9041632396455346 Valid MSE:0.8489446830021138                 Train MAE:0.7583558148402901 Valid MAE:0.7245157916463497\n",
      "Batch:4000 0.8917374291345477  \n",
      "Batch:8000 0.8930157767441124  \n",
      "Batch:12000 0.893396461279442  \n",
      "Batch:16000 0.8951935168765486  \n",
      "Batch:20000 0.8943213567040861  \n",
      "Batch:24000 0.8938202574985723  \n",
      "Batch:28000 0.89404374763476  \n",
      "Batch:32000 0.8951171484482474  \n",
      "Batch:36000 0.8946621913636724  \n",
      "Batch:40000 0.8951583478812128  \n",
      "Batch:44000 0.8956454333168539  \n",
      "Batch:48000 0.895601269674177  \n",
      "Batch:52000 0.8964749917193101  \n",
      "Batch:56000 0.8963017205010567  \n",
      "Batch:4000 0.8339140576831996  \n",
      "Epoch:12 Learning rate 0.0018708286933869713 Weight Decay 1e-07 Train Loss:0.8961037172161572                 Valid Loss:0.835207957331084 Train RMSE:0.9311628543727166 Valid RMSE:0.8977223672933172 Train MSE:0.8961037172161572 Valid MSE:0.835207957331084                 Train MAE:0.7552472468362141 Valid MAE:0.7218618044678553\n",
      "Batch:4000 0.884234957313165  \n",
      "Batch:8000 0.8860362773304805  \n",
      "Batch:12000 0.8879251715509842  \n",
      "Batch:16000 0.8875180248185061  \n",
      "Batch:20000 0.8869851796153932  \n",
      "Batch:24000 0.8856767994988088  \n",
      "Batch:28000 0.88711940519219  \n",
      "Batch:32000 0.8862590528239962  \n",
      "Batch:36000 0.8867113210192571  \n",
      "Batch:40000 0.8867232721595094  \n",
      "Batch:44000 0.8864373100581155  \n",
      "Batch:48000 0.8870197662327749  \n",
      "Batch:52000 0.8877491211577391  \n",
      "Batch:56000 0.8888263262485021  \n",
      "Batch:4000 0.8326148862205446  \n",
      "Epoch:13 Learning rate 0.0013451416426719153 Weight Decay 1e-07 Train Loss:0.8889242473378312                 Valid Loss:0.8297058434838754 Train RMSE:0.9271661458595435 Valid RMSE:0.8960511177991052 Train MSE:0.8889242473378312 Valid MSE:0.8297058434838754                 Train MAE:0.7514229686875488 Valid MAE:0.7285080336163002\n",
      "Batch:4000 0.8769465112276376  \n",
      "Batch:8000 0.8797681013513357  \n",
      "Batch:12000 0.8834967999557654  \n",
      "Batch:16000 0.8824747925717383  \n",
      "Batch:20000 0.8822528024204075  \n",
      "Batch:24000 0.8826550659996768  \n",
      "Batch:28000 0.8827199800669082  \n",
      "Batch:32000 0.8824034412037581  \n",
      "Batch:36000 0.883056464486652  \n",
      "Batch:40000 0.8834825616013259  \n",
      "Batch:44000 0.8834809234084731  \n",
      "Batch:48000 0.883528248032555  \n",
      "Batch:52000 0.884109197403949  \n",
      "Batch:56000 0.8839835239316204  \n",
      "Batch:4000 0.8296509214825928  \n",
      "Epoch:14 Learning rate 0.0009671682101338352 Weight Decay 1e-07 Train Loss:0.8839310881863198                 Valid Loss:0.8286423700017305 Train RMSE:0.9243486070603404 Valid RMSE:0.8940617733781734 Train MSE:0.8839310881863198 Valid MSE:0.8286423700017305                 Train MAE:0.7489417544110382 Valid MAE:0.7214601955359286\n"
     ]
    }
   ],
   "source": [
    "learner.run_epochs(dltrain,dlvalid,15)"
   ]
  },
  {
   "cell_type": "code",
   "execution_count": 92,
   "metadata": {},
   "outputs": [
    {
     "name": "stderr",
     "output_type": "stream",
     "text": [
      "/home/kirana/anaconda3/lib/python3.7/site-packages/torch/serialization.py:256: UserWarning: Couldn't retrieve source code for container of type cf. It won't be checked for correctness upon loading.\n",
      "  \"type \" + obj.__name__ + \". It won't be checked \"\n",
      "/home/kirana/anaconda3/lib/python3.7/site-packages/torch/serialization.py:256: UserWarning: Couldn't retrieve source code for container of type cf. It won't be checked for correctness upon loading.\n",
      "  \"type \" + obj.__name__ + \". It won't be checked \"\n"
     ]
    }
   ],
   "source": [
    "torch.save(cfobj,f=f'{DATAPATH}/inter/cf_plus_model')\n",
    "torch.save(learner,f=f'{DATAPATH}/inter/cf_plus_learner')\n",
    "torch.save(optimizer,f=f'{DATAPATH}/inter/cf_plus_optimizer')\n",
    "torch.save(cfobj.state_dict(),f'{DATAPATH}/inter/cf_plus_state_dict')\n",
    "torch.save(optimizer.state_dict(),f'{DATAPATH}/inter/cf_plus_optimizer_state_dict')"
   ]
  },
  {
   "cell_type": "code",
   "execution_count": 91,
   "metadata": {},
   "outputs": [],
   "source": [
    "optimizer=torch.optim.Adam(cfobj.parameters(),lr=7e-3,betas=(0.9,0.999), weight_decay=wd)\n",
    "learner=Learner(cfobj,optimizer,None,device,0,4000,0.25,cycle_mult=3,start_lr=7e-3,end_lr=5e-4,error_type=\"mse\")"
   ]
  },
  {
   "cell_type": "code",
   "execution_count": 79,
   "metadata": {},
   "outputs": [
    {
     "name": "stdout",
     "output_type": "stream",
     "text": [
      "Batch:4000 0.7589641367346048  \n",
      "Batch:8000 0.7571632760427892  \n",
      "Batch:12000 0.7582903443252047  \n",
      "Epoch:0 Learning rate 0.0005 Weight Decay 1e-06 Train Loss:0.757888773687954                 Valid Loss:0.7645808913276048 Train RMSE:0.8664677383832871 Valid RMSE:0.87025126801757 Train MSE:0.757888773687954 Valid MSE:0.7645808913276048                 Train MAE:0.6829513034846999 Valid MAE:0.6842402270110235\n",
      "Epoch:0 Learning rate 0.0005 Weight Decay 1e-06 Train Loss:0.757888773687954                 Valid Loss:0.7645808913276048 Train RMSE:0.8664677383832871 Valid RMSE:0.87025126801757 Train MSE:0.757888773687954 Valid MSE:0.7645808913276048                 Train MAE:0.6829513034846999 Valid MAE:0.6842402270110235\n",
      "Batch:4000 0.8245237660706043  \n",
      "Batch:8000 0.8330039078891277  \n",
      "Batch:12000 0.8364907086764772  \n",
      "Epoch:1 Learning rate 0.007 Weight Decay 1e-06 Train Loss:0.8378658421188233                 Valid Loss:0.8286903804109711 Train RMSE:0.9112475754560234 Valid RMSE:0.9067535381525427 Train MSE:0.8378658421188233 Valid MSE:0.8286903804109711                 Train MAE:0.7246407032368889 Valid MAE:0.7269839677037295\n",
      "Epoch:1 Learning rate 0.007 Weight Decay 1e-06 Train Loss:0.8378658421188233                 Valid Loss:0.8286903804109711 Train RMSE:0.9112475754560234 Valid RMSE:0.9067535381525427 Train MSE:0.8378658421188233 Valid MSE:0.8286903804109711                 Train MAE:0.7246407032368889 Valid MAE:0.7269839677037295\n",
      "Batch:4000 0.8190562771782279  \n",
      "Batch:8000 0.82165993418172  \n",
      "Batch:12000 0.8217853987539808  \n",
      "Epoch:2 Learning rate 0.005033059163560604 Weight Decay 1e-06 Train Loss:0.8224992658278181                 Valid Loss:0.800687390188338 Train RMSE:0.9027470770111283 Valid RMSE:0.8907339172057157 Train MSE:0.8224992658278181 Valid MSE:0.800687390188338                 Train MAE:0.7168181970870191 Valid MAE:0.7099372754475282\n",
      "Epoch:2 Learning rate 0.005033059163560604 Weight Decay 1e-06 Train Loss:0.8224992658278181                 Valid Loss:0.800687390188338 Train RMSE:0.9027470770111283 Valid RMSE:0.8907339172057157 Train MSE:0.8224992658278181 Valid MSE:0.800687390188338                 Train MAE:0.7168181970870191 Valid MAE:0.7099372754475282\n",
      "Batch:4000 0.8007312377542257  \n",
      "Batch:8000 0.8023310234136879  \n",
      "Batch:12000 0.8033931124781569  \n",
      "Epoch:3 Learning rate 0.0036188120777001947 Weight Decay 1e-06 Train Loss:0.8050907482471877                 Valid Loss:0.7813434040248965 Train RMSE:0.8930917542890577 Valid RMSE:0.8796526996711973 Train MSE:0.8050907482471877 Valid MSE:0.7813434040248965                 Train MAE:0.7079805121001623 Valid MAE:0.6915951407992985\n",
      "Epoch:3 Learning rate 0.0036188120777001947 Weight Decay 1e-06 Train Loss:0.8050907482471877                 Valid Loss:0.7813434040248965 Train RMSE:0.8930917542890577 Valid RMSE:0.8796526996711973 Train MSE:0.8050907482471877 Valid MSE:0.7813434040248965                 Train MAE:0.7079805121001623 Valid MAE:0.6915951407992985\n",
      "Batch:4000 0.7855970681533218  \n",
      "Batch:8000 0.7877384416460991  \n",
      "Batch:12000 0.7889178554465374  \n",
      "Epoch:4 Learning rate 0.0026019564698389645 Weight Decay 1e-06 Train Loss:0.7902517067399588                 Valid Loss:0.7800292020528956 Train RMSE:0.8849315026327529 Valid RMSE:0.8790395115978757 Train MSE:0.7902517067399588 Valid MSE:0.7800292020528956                 Train MAE:0.7003809614823415 Valid MAE:0.6923112673440653\n",
      "Epoch:4 Learning rate 0.0026019564698389645 Weight Decay 1e-06 Train Loss:0.7902517067399588                 Valid Loss:0.7800292020528956 Train RMSE:0.8849315026327529 Valid RMSE:0.8790395115978757 Train MSE:0.7902517067399588 Valid MSE:0.7800292020528956                 Train MAE:0.7003809614823415 Valid MAE:0.6923112673440653\n",
      "Batch:4000 0.7704936995357275  \n",
      "Batch:8000 0.7759152236543596  \n",
      "Batch:12000 0.7777014537180463  \n",
      "Epoch:5 Learning rate 0.0018708286933869713 Weight Decay 1e-06 Train Loss:0.7788906918596818                 Valid Loss:0.7701023886467658 Train RMSE:0.8784134180222315 Valid RMSE:0.8731637356698084 Train MSE:0.7788906918596818 Valid MSE:0.7701023886467658                 Train MAE:0.6939565296106482 Valid MAE:0.6853292634375798\n",
      "Epoch:5 Learning rate 0.0018708286933869713 Weight Decay 1e-06 Train Loss:0.7788906918596818                 Valid Loss:0.7701023886467658 Train RMSE:0.8784134180222315 Valid RMSE:0.8731637356698084 Train MSE:0.7788906918596818 Valid MSE:0.7701023886467658                 Train MAE:0.6939565296106482 Valid MAE:0.6853292634375798\n",
      "Batch:4000 0.759620402418077  \n",
      "Batch:8000 0.7651491972059011  \n",
      "Batch:12000 0.7677654532243808  \n",
      "Epoch:6 Learning rate 0.0013451416426719153 Weight Decay 1e-06 Train Loss:0.7681245964222302                 Valid Loss:0.7681882545228044 Train RMSE:0.8722113920043207 Valid RMSE:0.8720919007424937 Train MSE:0.7681245964222302 Valid MSE:0.7681882545228044                 Train MAE:0.6882693515501235 Valid MAE:0.6850143704785038\n",
      "Epoch:6 Learning rate 0.0013451416426719153 Weight Decay 1e-06 Train Loss:0.7681245964222302                 Valid Loss:0.7681882545228044 Train RMSE:0.8722113920043207 Valid RMSE:0.8720919007424937 Train MSE:0.7681245964222302 Valid MSE:0.7681882545228044                 Train MAE:0.6882693515501235 Valid MAE:0.6850143704785038\n"
     ]
    }
   ],
   "source": [
    "learner.run_epochs(dltrain,dlvalid,7)"
   ]
  },
  {
   "cell_type": "code",
   "execution_count": 82,
   "metadata": {},
   "outputs": [],
   "source": [
    "wd=1e-7\n",
    "optimizer=torch.optim.Adam(cfobj.parameters(),lr=7e-3,betas=(0.9,0.999), weight_decay=wd)\n",
    "learner=Learner(cfobj,optimizer,None,device,0,4000,0.25,cycle_mult=2,start_lr=7e-3,end_lr=5e-4,error_type=\"mse\")"
   ]
  },
  {
   "cell_type": "code",
   "execution_count": 83,
   "metadata": {},
   "outputs": [
    {
     "name": "stdout",
     "output_type": "stream",
     "text": [
      "Batch:4000 0.8521015138998628  \n",
      "Batch:8000 0.8511567603945732  \n",
      "Batch:12000 0.8500934970453382  \n",
      "Epoch:0 Learning rate 0.007 Weight Decay 1e-07 Train Loss:0.8494464754274351                 Valid Loss:0.8367525936317077 Train RMSE:0.9175105304091589 Valid RMSE:0.9112201843895492 Train MSE:0.8494464754274351 Valid MSE:0.8367525936317077                 Train MAE:0.7299445106356713 Valid MAE:0.7351048301979279\n",
      "Epoch:0 Learning rate 0.007 Weight Decay 1e-07 Train Loss:0.8494464754274351                 Valid Loss:0.8367525936317077 Train RMSE:0.9175105304091589 Valid RMSE:0.9112201843895492 Train MSE:0.8494464754274351 Valid MSE:0.8367525936317077                 Train MAE:0.7299445106356713 Valid MAE:0.7351048301979279\n",
      "Batch:4000 0.795286576718092  \n",
      "Batch:8000 0.7928518238961697  \n",
      "Batch:12000 0.7918042563249668  \n",
      "Epoch:1 Learning rate 0.0018708286933869708 Weight Decay 1e-07 Train Loss:0.7911140111530723                 Valid Loss:0.7781120661314832 Train RMSE:0.8854427259818367 Valid RMSE:0.8781483870015568 Train MSE:0.7911140111530723 Valid MSE:0.7781120661314832                 Train MAE:0.7011576616058949 Valid MAE:0.700783106354819\n",
      "Epoch:1 Learning rate 0.0018708286933869708 Weight Decay 1e-07 Train Loss:0.7911140111530723                 Valid Loss:0.7781120661314832 Train RMSE:0.8854427259818367 Valid RMSE:0.8781483870015568 Train MSE:0.7911140111530723 Valid MSE:0.7781120661314832                 Train MAE:0.7011576616058949 Valid MAE:0.700783106354819\n",
      "Batch:4000 0.7648766231536865  \n",
      "Batch:8000 0.7634730383865536  \n",
      "Batch:12000 0.7639728125780821  \n",
      "Epoch:2 Learning rate 0.0005 Weight Decay 1e-07 Train Loss:0.7639740780896387                 Valid Loss:0.768574238548047 Train RMSE:0.8699460578994495 Valid RMSE:0.8720458820606644 Train MSE:0.7639740780896387 Valid MSE:0.768574238548047                 Train MAE:0.6866093000820042 Valid MAE:0.6847856771045973\n",
      "Epoch:2 Learning rate 0.0005 Weight Decay 1e-07 Train Loss:0.7639740780896387                 Valid Loss:0.768574238548047 Train RMSE:0.8699460578994495 Valid RMSE:0.8720458820606644 Train MSE:0.7639740780896387 Valid MSE:0.768574238548047                 Train MAE:0.6866093000820042 Valid MAE:0.6847856771045973\n",
      "Batch:4000 0.8091021249592304  \n",
      "Batch:8000 0.8181976143456996  \n",
      "Batch:12000 0.8223035064140956  \n",
      "Epoch:3 Learning rate 0.007 Weight Decay 1e-07 Train Loss:0.8242090968315825                 Valid Loss:0.8133244547833255 Train RMSE:0.9036881526425463 Valid RMSE:0.8974188971890926 Train MSE:0.8242090968315825 Valid MSE:0.8133244547833255                 Train MAE:0.7173585115837776 Valid MAE:0.7051289692111147\n",
      "Epoch:3 Learning rate 0.007 Weight Decay 1e-07 Train Loss:0.8242090968315825                 Valid Loss:0.8133244547833255 Train RMSE:0.9036881526425463 Valid RMSE:0.8974188971890926 Train MSE:0.8242090968315825 Valid MSE:0.8133244547833255                 Train MAE:0.7173585115837776 Valid MAE:0.7051289692111147\n",
      "Batch:4000 0.7931109379306436  \n",
      "Batch:8000 0.7939131739549339  \n",
      "Batch:12000 0.7936220247521997  \n",
      "Epoch:4 Learning rate 0.0036188120777001943 Weight Decay 1e-07 Train Loss:0.792808056540854                 Valid Loss:0.774311149322445 Train RMSE:0.8861908821608543 Valid RMSE:0.8758207390450738 Train MSE:0.792808056540854 Valid MSE:0.774311149322445                 Train MAE:0.70136444385447 Valid MAE:0.6924773269331158\n",
      "Epoch:4 Learning rate 0.0036188120777001943 Weight Decay 1e-07 Train Loss:0.792808056540854                 Valid Loss:0.774311149322445 Train RMSE:0.8861908821608543 Valid RMSE:0.8758207390450738 Train MSE:0.792808056540854 Valid MSE:0.774311149322445                 Train MAE:0.70136444385447 Valid MAE:0.6924773269331158\n",
      "Batch:4000 0.768262727022171  \n",
      "Batch:8000 0.766574114587158  \n",
      "Batch:12000 0.7670989114120602  \n",
      "Epoch:5 Learning rate 0.0018708286933869708 Weight Decay 1e-07 Train Loss:0.7685158008954001                 Valid Loss:0.7674540944268745 Train RMSE:0.8724391391761411 Valid RMSE:0.8715473059765894 Train MSE:0.7685158008954001 Valid MSE:0.7674540944268745                 Train MAE:0.6885394552121643 Valid MAE:0.6837210863428244\n",
      "Epoch:5 Learning rate 0.0018708286933869708 Weight Decay 1e-07 Train Loss:0.7685158008954001                 Valid Loss:0.7674540944268745 Train RMSE:0.8724391391761411 Valid RMSE:0.8715473059765894 Train MSE:0.7685158008954001 Valid MSE:0.7674540944268745                 Train MAE:0.6885394552121643 Valid MAE:0.6837210863428244\n",
      "Batch:4000 0.7502428099140525  \n",
      "Batch:8000 0.7510711599253118  \n",
      "Batch:12000 0.7525453613996506  \n",
      "Epoch:6 Learning rate 0.0009671682101338347 Weight Decay 1e-07 Train Loss:0.7534662112032182                 Valid Loss:0.767632348943199 Train RMSE:0.8638806600671857 Valid RMSE:0.8724049313573526 Train MSE:0.7534662112032182 Valid MSE:0.767632348943199                 Train MAE:0.680418371883036 Valid MAE:0.6904346798370835\n",
      "Epoch:6 Learning rate 0.0009671682101338347 Weight Decay 1e-07 Train Loss:0.7534662112032182                 Valid Loss:0.767632348943199 Train RMSE:0.8638806600671857 Valid RMSE:0.8724049313573526 Train MSE:0.7534662112032182 Valid MSE:0.767632348943199                 Train MAE:0.680418371883036 Valid MAE:0.6904346798370835\n"
     ]
    }
   ],
   "source": [
    "learner.run_epochs(dltrain,dlvalid,7)"
   ]
  },
  {
   "cell_type": "code",
   "execution_count": null,
   "metadata": {},
   "outputs": [],
   "source": []
  }
 ],
 "metadata": {
  "kernelspec": {
   "display_name": "Python 3",
   "language": "python",
   "name": "python3"
  },
  "language_info": {
   "codemirror_mode": {
    "name": "ipython",
    "version": 3
   },
   "file_extension": ".py",
   "mimetype": "text/x-python",
   "name": "python",
   "nbconvert_exporter": "python",
   "pygments_lexer": "ipython3",
   "version": "3.7.3"
  }
 },
 "nbformat": 4,
 "nbformat_minor": 2
}
