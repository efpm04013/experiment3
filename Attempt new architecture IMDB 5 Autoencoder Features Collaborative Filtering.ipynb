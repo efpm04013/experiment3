{
 "cells": [
  {
   "cell_type": "code",
   "execution_count": 1,
   "metadata": {},
   "outputs": [],
   "source": [
    "PATH='/home/kirana/Documents/phd/exp3_autoencoder'\n",
    "DATAPATH='/home/kirana/Documents/final_dissertation_final/experiments/datasets/ml-latest-small'"
   ]
  },
  {
   "cell_type": "code",
   "execution_count": 2,
   "metadata": {},
   "outputs": [],
   "source": [
    "import pandas as pd\n",
    "import numpy as np\n",
    "import matplotlib.pyplot as plt\n",
    "import sklearn\n",
    "import os\n",
    "import pickle\n",
    "import torch\n",
    "from torch.utils.data import Dataset, DataLoader\n",
    "from torch import nn"
   ]
  },
  {
   "cell_type": "code",
   "execution_count": 3,
   "metadata": {},
   "outputs": [],
   "source": [
    "[df, df_train,df_valid,df,df_ratings,dfflagtrain,dfflagvalid,idx_to_user,\\\n",
    "             idx_to_movie,movie_to_idx,user_to_idx]=pickle.load(open(f'{DATAPATH}/reads.pkl','rb'))"
   ]
  },
  {
   "cell_type": "code",
   "execution_count": 4,
   "metadata": {},
   "outputs": [
    {
     "data": {
      "text/plain": [
       "(100836, 19)"
      ]
     },
     "execution_count": 4,
     "metadata": {},
     "output_type": "execute_result"
    }
   ],
   "source": [
    "df.shape"
   ]
  },
  {
   "cell_type": "code",
   "execution_count": 5,
   "metadata": {},
   "outputs": [
    {
     "data": {
      "text/html": [
       "<div>\n",
       "<style scoped>\n",
       "    .dataframe tbody tr th:only-of-type {\n",
       "        vertical-align: middle;\n",
       "    }\n",
       "\n",
       "    .dataframe tbody tr th {\n",
       "        vertical-align: top;\n",
       "    }\n",
       "\n",
       "    .dataframe thead th {\n",
       "        text-align: right;\n",
       "    }\n",
       "</style>\n",
       "<table border=\"1\" class=\"dataframe\">\n",
       "  <thead>\n",
       "    <tr style=\"text-align: right;\">\n",
       "      <th></th>\n",
       "      <th>userId</th>\n",
       "      <th>movieId</th>\n",
       "      <th>rating</th>\n",
       "      <th>timestamp</th>\n",
       "      <th>title</th>\n",
       "      <th>genres</th>\n",
       "      <th>imdbId</th>\n",
       "      <th>tmdbId</th>\n",
       "      <th>tag</th>\n",
       "      <th>random_dstype</th>\n",
       "      <th>seqNum</th>\n",
       "      <th>maxSeqNum</th>\n",
       "      <th>time_dstype</th>\n",
       "      <th>user_idx</th>\n",
       "      <th>movie_idx</th>\n",
       "      <th>dstype_random_train</th>\n",
       "      <th>dstype_time_train</th>\n",
       "      <th>dstype_random_valid</th>\n",
       "      <th>dstype_time_valid</th>\n",
       "    </tr>\n",
       "  </thead>\n",
       "  <tbody>\n",
       "    <tr>\n",
       "      <th>0</th>\n",
       "      <td>1</td>\n",
       "      <td>1210</td>\n",
       "      <td>5.0</td>\n",
       "      <td>2000-07-30 18:08:19</td>\n",
       "      <td>Star Wars: Episode VI - Return of the Jedi (1983)</td>\n",
       "      <td>Action|Adventure|Sci-Fi</td>\n",
       "      <td>86190</td>\n",
       "      <td>1892.0</td>\n",
       "      <td>NaN</td>\n",
       "      <td>train</td>\n",
       "      <td>1</td>\n",
       "      <td>232</td>\n",
       "      <td>train</td>\n",
       "      <td>1</td>\n",
       "      <td>1</td>\n",
       "      <td>1</td>\n",
       "      <td>1</td>\n",
       "      <td>0</td>\n",
       "      <td>0</td>\n",
       "    </tr>\n",
       "    <tr>\n",
       "      <th>1</th>\n",
       "      <td>1</td>\n",
       "      <td>804</td>\n",
       "      <td>4.0</td>\n",
       "      <td>2000-07-30 18:08:19</td>\n",
       "      <td>She's the One (1996)</td>\n",
       "      <td>Comedy|Romance</td>\n",
       "      <td>117628</td>\n",
       "      <td>11363.0</td>\n",
       "      <td>NaN</td>\n",
       "      <td>train</td>\n",
       "      <td>2</td>\n",
       "      <td>232</td>\n",
       "      <td>train</td>\n",
       "      <td>1</td>\n",
       "      <td>2</td>\n",
       "      <td>1</td>\n",
       "      <td>1</td>\n",
       "      <td>0</td>\n",
       "      <td>0</td>\n",
       "    </tr>\n",
       "    <tr>\n",
       "      <th>2</th>\n",
       "      <td>1</td>\n",
       "      <td>2628</td>\n",
       "      <td>4.0</td>\n",
       "      <td>2000-07-30 18:08:43</td>\n",
       "      <td>Star Wars: Episode I - The Phantom Menace (1999)</td>\n",
       "      <td>Action|Adventure|Sci-Fi</td>\n",
       "      <td>120915</td>\n",
       "      <td>1893.0</td>\n",
       "      <td>NaN</td>\n",
       "      <td>train</td>\n",
       "      <td>3</td>\n",
       "      <td>232</td>\n",
       "      <td>train</td>\n",
       "      <td>1</td>\n",
       "      <td>3</td>\n",
       "      <td>1</td>\n",
       "      <td>1</td>\n",
       "      <td>0</td>\n",
       "      <td>0</td>\n",
       "    </tr>\n",
       "    <tr>\n",
       "      <th>3</th>\n",
       "      <td>1</td>\n",
       "      <td>2826</td>\n",
       "      <td>4.0</td>\n",
       "      <td>2000-07-30 18:08:43</td>\n",
       "      <td>13th Warrior, The (1999)</td>\n",
       "      <td>Action|Adventure|Fantasy</td>\n",
       "      <td>120657</td>\n",
       "      <td>1911.0</td>\n",
       "      <td>NaN</td>\n",
       "      <td>train</td>\n",
       "      <td>4</td>\n",
       "      <td>232</td>\n",
       "      <td>train</td>\n",
       "      <td>1</td>\n",
       "      <td>4</td>\n",
       "      <td>1</td>\n",
       "      <td>1</td>\n",
       "      <td>0</td>\n",
       "      <td>0</td>\n",
       "    </tr>\n",
       "    <tr>\n",
       "      <th>4</th>\n",
       "      <td>1</td>\n",
       "      <td>2018</td>\n",
       "      <td>5.0</td>\n",
       "      <td>2000-07-30 18:08:43</td>\n",
       "      <td>Bambi (1942)</td>\n",
       "      <td>Animation|Children|Drama</td>\n",
       "      <td>34492</td>\n",
       "      <td>3170.0</td>\n",
       "      <td>NaN</td>\n",
       "      <td>test</td>\n",
       "      <td>5</td>\n",
       "      <td>232</td>\n",
       "      <td>train</td>\n",
       "      <td>1</td>\n",
       "      <td>5</td>\n",
       "      <td>0</td>\n",
       "      <td>1</td>\n",
       "      <td>1</td>\n",
       "      <td>0</td>\n",
       "    </tr>\n",
       "  </tbody>\n",
       "</table>\n",
       "</div>"
      ],
      "text/plain": [
       "   userId  movieId  rating           timestamp  \\\n",
       "0       1     1210     5.0 2000-07-30 18:08:19   \n",
       "1       1      804     4.0 2000-07-30 18:08:19   \n",
       "2       1     2628     4.0 2000-07-30 18:08:43   \n",
       "3       1     2826     4.0 2000-07-30 18:08:43   \n",
       "4       1     2018     5.0 2000-07-30 18:08:43   \n",
       "\n",
       "                                               title  \\\n",
       "0  Star Wars: Episode VI - Return of the Jedi (1983)   \n",
       "1                               She's the One (1996)   \n",
       "2   Star Wars: Episode I - The Phantom Menace (1999)   \n",
       "3                           13th Warrior, The (1999)   \n",
       "4                                       Bambi (1942)   \n",
       "\n",
       "                     genres  imdbId   tmdbId  tag random_dstype  seqNum  \\\n",
       "0   Action|Adventure|Sci-Fi   86190   1892.0  NaN         train       1   \n",
       "1            Comedy|Romance  117628  11363.0  NaN         train       2   \n",
       "2   Action|Adventure|Sci-Fi  120915   1893.0  NaN         train       3   \n",
       "3  Action|Adventure|Fantasy  120657   1911.0  NaN         train       4   \n",
       "4  Animation|Children|Drama   34492   3170.0  NaN          test       5   \n",
       "\n",
       "   maxSeqNum time_dstype  user_idx  movie_idx  dstype_random_train  \\\n",
       "0        232       train         1          1                    1   \n",
       "1        232       train         1          2                    1   \n",
       "2        232       train         1          3                    1   \n",
       "3        232       train         1          4                    1   \n",
       "4        232       train         1          5                    0   \n",
       "\n",
       "   dstype_time_train  dstype_random_valid  dstype_time_valid  \n",
       "0                  1                    0                  0  \n",
       "1                  1                    0                  0  \n",
       "2                  1                    0                  0  \n",
       "3                  1                    0                  0  \n",
       "4                  1                    1                  0  "
      ]
     },
     "execution_count": 5,
     "metadata": {},
     "output_type": "execute_result"
    }
   ],
   "source": [
    "df.head()"
   ]
  },
  {
   "cell_type": "code",
   "execution_count": 6,
   "metadata": {},
   "outputs": [],
   "source": [
    "df_train=df.loc[df['random_dstype']=='train']\n",
    "df_valid=df.loc[df['random_dstype']!='train']"
   ]
  },
  {
   "cell_type": "code",
   "execution_count": 7,
   "metadata": {},
   "outputs": [
    {
     "data": {
      "text/html": [
       "<div>\n",
       "<style scoped>\n",
       "    .dataframe tbody tr th:only-of-type {\n",
       "        vertical-align: middle;\n",
       "    }\n",
       "\n",
       "    .dataframe tbody tr th {\n",
       "        vertical-align: top;\n",
       "    }\n",
       "\n",
       "    .dataframe thead th {\n",
       "        text-align: right;\n",
       "    }\n",
       "</style>\n",
       "<table border=\"1\" class=\"dataframe\">\n",
       "  <thead>\n",
       "    <tr style=\"text-align: right;\">\n",
       "      <th></th>\n",
       "      <th>userId</th>\n",
       "      <th>movieId</th>\n",
       "      <th>rating</th>\n",
       "      <th>timestamp</th>\n",
       "      <th>title</th>\n",
       "      <th>genres</th>\n",
       "      <th>imdbId</th>\n",
       "      <th>tmdbId</th>\n",
       "      <th>tag</th>\n",
       "      <th>random_dstype</th>\n",
       "      <th>seqNum</th>\n",
       "      <th>maxSeqNum</th>\n",
       "      <th>time_dstype</th>\n",
       "      <th>user_idx</th>\n",
       "      <th>movie_idx</th>\n",
       "      <th>dstype_random_train</th>\n",
       "      <th>dstype_time_train</th>\n",
       "      <th>dstype_random_valid</th>\n",
       "      <th>dstype_time_valid</th>\n",
       "    </tr>\n",
       "  </thead>\n",
       "  <tbody>\n",
       "    <tr>\n",
       "      <th>0</th>\n",
       "      <td>1</td>\n",
       "      <td>1210</td>\n",
       "      <td>5.0</td>\n",
       "      <td>2000-07-30 18:08:19</td>\n",
       "      <td>Star Wars: Episode VI - Return of the Jedi (1983)</td>\n",
       "      <td>Action|Adventure|Sci-Fi</td>\n",
       "      <td>86190</td>\n",
       "      <td>1892.0</td>\n",
       "      <td>NaN</td>\n",
       "      <td>train</td>\n",
       "      <td>1</td>\n",
       "      <td>232</td>\n",
       "      <td>train</td>\n",
       "      <td>1</td>\n",
       "      <td>1</td>\n",
       "      <td>1</td>\n",
       "      <td>1</td>\n",
       "      <td>0</td>\n",
       "      <td>0</td>\n",
       "    </tr>\n",
       "    <tr>\n",
       "      <th>1</th>\n",
       "      <td>1</td>\n",
       "      <td>804</td>\n",
       "      <td>4.0</td>\n",
       "      <td>2000-07-30 18:08:19</td>\n",
       "      <td>She's the One (1996)</td>\n",
       "      <td>Comedy|Romance</td>\n",
       "      <td>117628</td>\n",
       "      <td>11363.0</td>\n",
       "      <td>NaN</td>\n",
       "      <td>train</td>\n",
       "      <td>2</td>\n",
       "      <td>232</td>\n",
       "      <td>train</td>\n",
       "      <td>1</td>\n",
       "      <td>2</td>\n",
       "      <td>1</td>\n",
       "      <td>1</td>\n",
       "      <td>0</td>\n",
       "      <td>0</td>\n",
       "    </tr>\n",
       "    <tr>\n",
       "      <th>2</th>\n",
       "      <td>1</td>\n",
       "      <td>2628</td>\n",
       "      <td>4.0</td>\n",
       "      <td>2000-07-30 18:08:43</td>\n",
       "      <td>Star Wars: Episode I - The Phantom Menace (1999)</td>\n",
       "      <td>Action|Adventure|Sci-Fi</td>\n",
       "      <td>120915</td>\n",
       "      <td>1893.0</td>\n",
       "      <td>NaN</td>\n",
       "      <td>train</td>\n",
       "      <td>3</td>\n",
       "      <td>232</td>\n",
       "      <td>train</td>\n",
       "      <td>1</td>\n",
       "      <td>3</td>\n",
       "      <td>1</td>\n",
       "      <td>1</td>\n",
       "      <td>0</td>\n",
       "      <td>0</td>\n",
       "    </tr>\n",
       "    <tr>\n",
       "      <th>3</th>\n",
       "      <td>1</td>\n",
       "      <td>2826</td>\n",
       "      <td>4.0</td>\n",
       "      <td>2000-07-30 18:08:43</td>\n",
       "      <td>13th Warrior, The (1999)</td>\n",
       "      <td>Action|Adventure|Fantasy</td>\n",
       "      <td>120657</td>\n",
       "      <td>1911.0</td>\n",
       "      <td>NaN</td>\n",
       "      <td>train</td>\n",
       "      <td>4</td>\n",
       "      <td>232</td>\n",
       "      <td>train</td>\n",
       "      <td>1</td>\n",
       "      <td>4</td>\n",
       "      <td>1</td>\n",
       "      <td>1</td>\n",
       "      <td>0</td>\n",
       "      <td>0</td>\n",
       "    </tr>\n",
       "    <tr>\n",
       "      <th>5</th>\n",
       "      <td>1</td>\n",
       "      <td>3578</td>\n",
       "      <td>5.0</td>\n",
       "      <td>2000-07-30 18:11:08</td>\n",
       "      <td>Gladiator (2000)</td>\n",
       "      <td>Action|Adventure|Drama</td>\n",
       "      <td>172495</td>\n",
       "      <td>98.0</td>\n",
       "      <td>NaN</td>\n",
       "      <td>train</td>\n",
       "      <td>6</td>\n",
       "      <td>232</td>\n",
       "      <td>train</td>\n",
       "      <td>1</td>\n",
       "      <td>6</td>\n",
       "      <td>1</td>\n",
       "      <td>1</td>\n",
       "      <td>0</td>\n",
       "      <td>0</td>\n",
       "    </tr>\n",
       "  </tbody>\n",
       "</table>\n",
       "</div>"
      ],
      "text/plain": [
       "   userId  movieId  rating           timestamp  \\\n",
       "0       1     1210     5.0 2000-07-30 18:08:19   \n",
       "1       1      804     4.0 2000-07-30 18:08:19   \n",
       "2       1     2628     4.0 2000-07-30 18:08:43   \n",
       "3       1     2826     4.0 2000-07-30 18:08:43   \n",
       "5       1     3578     5.0 2000-07-30 18:11:08   \n",
       "\n",
       "                                               title  \\\n",
       "0  Star Wars: Episode VI - Return of the Jedi (1983)   \n",
       "1                               She's the One (1996)   \n",
       "2   Star Wars: Episode I - The Phantom Menace (1999)   \n",
       "3                           13th Warrior, The (1999)   \n",
       "5                                   Gladiator (2000)   \n",
       "\n",
       "                     genres  imdbId   tmdbId  tag random_dstype  seqNum  \\\n",
       "0   Action|Adventure|Sci-Fi   86190   1892.0  NaN         train       1   \n",
       "1            Comedy|Romance  117628  11363.0  NaN         train       2   \n",
       "2   Action|Adventure|Sci-Fi  120915   1893.0  NaN         train       3   \n",
       "3  Action|Adventure|Fantasy  120657   1911.0  NaN         train       4   \n",
       "5    Action|Adventure|Drama  172495     98.0  NaN         train       6   \n",
       "\n",
       "   maxSeqNum time_dstype  user_idx  movie_idx  dstype_random_train  \\\n",
       "0        232       train         1          1                    1   \n",
       "1        232       train         1          2                    1   \n",
       "2        232       train         1          3                    1   \n",
       "3        232       train         1          4                    1   \n",
       "5        232       train         1          6                    1   \n",
       "\n",
       "   dstype_time_train  dstype_random_valid  dstype_time_valid  \n",
       "0                  1                    0                  0  \n",
       "1                  1                    0                  0  \n",
       "2                  1                    0                  0  \n",
       "3                  1                    0                  0  \n",
       "5                  1                    0                  0  "
      ]
     },
     "execution_count": 7,
     "metadata": {},
     "output_type": "execute_result"
    }
   ],
   "source": [
    "df_train.head()"
   ]
  },
  {
   "cell_type": "markdown",
   "metadata": {},
   "source": [
    "### Add the autoencoder features"
   ]
  },
  {
   "cell_type": "code",
   "execution_count": 8,
   "metadata": {},
   "outputs": [],
   "source": [
    "import pickle"
   ]
  },
  {
   "cell_type": "code",
   "execution_count": 9,
   "metadata": {},
   "outputs": [],
   "source": [
    "[df_train_user_autoenc,df_valid_user_autoenc,user_mtx_1_weights,user_mtx_2_weights]=\\\n",
    "    pickle.load(open(f'{DATAPATH}/inter/user_autoenc_weights.pkl','rb'))"
   ]
  },
  {
   "cell_type": "code",
   "execution_count": 10,
   "metadata": {},
   "outputs": [],
   "source": [
    "[df_train_item_autoenc, df_valid_item_autoenc,item_mtx_1_weights,item_mtx_2_weights]=\\\n",
    "    pickle.load(open(f'{DATAPATH}/inter/item_autoenc_weights.pkl','rb'))"
   ]
  },
  {
   "cell_type": "code",
   "execution_count": 11,
   "metadata": {},
   "outputs": [
    {
     "data": {
      "text/plain": [
       "((610, 4),\n",
       " pandas.core.frame.DataFrame,\n",
       "    userId  user_autoenc0  user_autoenc1  user_autoenc2\n",
       " 0       1      -0.479369       0.641243       1.155024\n",
       " 1       2       0.654193       2.906792      -2.338487\n",
       " 2       3      -1.727728       1.539072       2.343679\n",
       " 3       4      -0.361162      -0.812232       0.772347\n",
       " 4       5      -0.564455      -0.322158       1.608243)"
      ]
     },
     "execution_count": 11,
     "metadata": {},
     "output_type": "execute_result"
    }
   ],
   "source": [
    "df_train_user_autoenc.shape, type(df_train_user_autoenc),df_train_user_autoenc.head()"
   ]
  },
  {
   "cell_type": "code",
   "execution_count": 12,
   "metadata": {},
   "outputs": [
    {
     "data": {
      "text/plain": [
       "((9724, 11),\n",
       " pandas.core.frame.DataFrame,\n",
       "    movieId  item_autoenc0  item_autoenc1  item_autoenc2  item_autoenc3  \\\n",
       " 0        1       6.827414      -5.010858     -14.244909      -6.124948   \n",
       " 1        2     -22.056328      -3.937419     -10.244719      -7.376902   \n",
       " 2        3     -23.581443      -4.855818      -9.132980      -7.604265   \n",
       " 3        4     -16.496840      -3.710789      -8.657591      -5.454689   \n",
       " 4        5     -30.099342      -4.454163      -8.632300      -7.230441   \n",
       " \n",
       "    item_autoenc4  item_autoenc5  item_autoenc6  item_autoenc7  item_autoenc8  \\\n",
       " 0      -7.750169      -9.440641     -12.444607      -9.455640       9.730766   \n",
       " 1      -8.613933      -7.666921      -9.932867       6.505567       6.030026   \n",
       " 2     -10.740304      -7.919054     -11.727813       8.207041       8.586024   \n",
       " 3      -8.051945      -6.644208      -7.937984       6.020888       7.733612   \n",
       " 4     -11.383443      -6.582665     -10.532912      12.771882       8.376647   \n",
       " \n",
       "    item_autoenc9  \n",
       " 0      -4.010462  \n",
       " 1      -2.760443  \n",
       " 2      -3.432139  \n",
       " 3      -3.228401  \n",
       " 4      -3.164273  )"
      ]
     },
     "execution_count": 12,
     "metadata": {},
     "output_type": "execute_result"
    }
   ],
   "source": [
    "df_train_item_autoenc.shape, type(df_train_item_autoenc),df_train_item_autoenc.head()"
   ]
  },
  {
   "cell_type": "code",
   "execution_count": 13,
   "metadata": {},
   "outputs": [
    {
     "data": {
      "text/plain": [
       "(90752, 19)"
      ]
     },
     "execution_count": 13,
     "metadata": {},
     "output_type": "execute_result"
    }
   ],
   "source": [
    "df_train.shape"
   ]
  },
  {
   "cell_type": "code",
   "execution_count": 14,
   "metadata": {},
   "outputs": [
    {
     "data": {
      "text/html": [
       "<div>\n",
       "<style scoped>\n",
       "    .dataframe tbody tr th:only-of-type {\n",
       "        vertical-align: middle;\n",
       "    }\n",
       "\n",
       "    .dataframe tbody tr th {\n",
       "        vertical-align: top;\n",
       "    }\n",
       "\n",
       "    .dataframe thead th {\n",
       "        text-align: right;\n",
       "    }\n",
       "</style>\n",
       "<table border=\"1\" class=\"dataframe\">\n",
       "  <thead>\n",
       "    <tr style=\"text-align: right;\">\n",
       "      <th></th>\n",
       "      <th>userId</th>\n",
       "      <th>movieId</th>\n",
       "      <th>rating</th>\n",
       "      <th>timestamp</th>\n",
       "      <th>title</th>\n",
       "      <th>genres</th>\n",
       "      <th>imdbId</th>\n",
       "      <th>tmdbId</th>\n",
       "      <th>tag</th>\n",
       "      <th>random_dstype</th>\n",
       "      <th>seqNum</th>\n",
       "      <th>maxSeqNum</th>\n",
       "      <th>time_dstype</th>\n",
       "      <th>user_idx</th>\n",
       "      <th>movie_idx</th>\n",
       "      <th>dstype_random_train</th>\n",
       "      <th>dstype_time_train</th>\n",
       "      <th>dstype_random_valid</th>\n",
       "      <th>dstype_time_valid</th>\n",
       "    </tr>\n",
       "  </thead>\n",
       "  <tbody>\n",
       "    <tr>\n",
       "      <th>0</th>\n",
       "      <td>1</td>\n",
       "      <td>1210</td>\n",
       "      <td>5.0</td>\n",
       "      <td>2000-07-30 18:08:19</td>\n",
       "      <td>Star Wars: Episode VI - Return of the Jedi (1983)</td>\n",
       "      <td>Action|Adventure|Sci-Fi</td>\n",
       "      <td>86190</td>\n",
       "      <td>1892.0</td>\n",
       "      <td>NaN</td>\n",
       "      <td>train</td>\n",
       "      <td>1</td>\n",
       "      <td>232</td>\n",
       "      <td>train</td>\n",
       "      <td>1</td>\n",
       "      <td>1</td>\n",
       "      <td>1</td>\n",
       "      <td>1</td>\n",
       "      <td>0</td>\n",
       "      <td>0</td>\n",
       "    </tr>\n",
       "    <tr>\n",
       "      <th>1</th>\n",
       "      <td>1</td>\n",
       "      <td>804</td>\n",
       "      <td>4.0</td>\n",
       "      <td>2000-07-30 18:08:19</td>\n",
       "      <td>She's the One (1996)</td>\n",
       "      <td>Comedy|Romance</td>\n",
       "      <td>117628</td>\n",
       "      <td>11363.0</td>\n",
       "      <td>NaN</td>\n",
       "      <td>train</td>\n",
       "      <td>2</td>\n",
       "      <td>232</td>\n",
       "      <td>train</td>\n",
       "      <td>1</td>\n",
       "      <td>2</td>\n",
       "      <td>1</td>\n",
       "      <td>1</td>\n",
       "      <td>0</td>\n",
       "      <td>0</td>\n",
       "    </tr>\n",
       "    <tr>\n",
       "      <th>2</th>\n",
       "      <td>1</td>\n",
       "      <td>2628</td>\n",
       "      <td>4.0</td>\n",
       "      <td>2000-07-30 18:08:43</td>\n",
       "      <td>Star Wars: Episode I - The Phantom Menace (1999)</td>\n",
       "      <td>Action|Adventure|Sci-Fi</td>\n",
       "      <td>120915</td>\n",
       "      <td>1893.0</td>\n",
       "      <td>NaN</td>\n",
       "      <td>train</td>\n",
       "      <td>3</td>\n",
       "      <td>232</td>\n",
       "      <td>train</td>\n",
       "      <td>1</td>\n",
       "      <td>3</td>\n",
       "      <td>1</td>\n",
       "      <td>1</td>\n",
       "      <td>0</td>\n",
       "      <td>0</td>\n",
       "    </tr>\n",
       "    <tr>\n",
       "      <th>3</th>\n",
       "      <td>1</td>\n",
       "      <td>2826</td>\n",
       "      <td>4.0</td>\n",
       "      <td>2000-07-30 18:08:43</td>\n",
       "      <td>13th Warrior, The (1999)</td>\n",
       "      <td>Action|Adventure|Fantasy</td>\n",
       "      <td>120657</td>\n",
       "      <td>1911.0</td>\n",
       "      <td>NaN</td>\n",
       "      <td>train</td>\n",
       "      <td>4</td>\n",
       "      <td>232</td>\n",
       "      <td>train</td>\n",
       "      <td>1</td>\n",
       "      <td>4</td>\n",
       "      <td>1</td>\n",
       "      <td>1</td>\n",
       "      <td>0</td>\n",
       "      <td>0</td>\n",
       "    </tr>\n",
       "    <tr>\n",
       "      <th>5</th>\n",
       "      <td>1</td>\n",
       "      <td>3578</td>\n",
       "      <td>5.0</td>\n",
       "      <td>2000-07-30 18:11:08</td>\n",
       "      <td>Gladiator (2000)</td>\n",
       "      <td>Action|Adventure|Drama</td>\n",
       "      <td>172495</td>\n",
       "      <td>98.0</td>\n",
       "      <td>NaN</td>\n",
       "      <td>train</td>\n",
       "      <td>6</td>\n",
       "      <td>232</td>\n",
       "      <td>train</td>\n",
       "      <td>1</td>\n",
       "      <td>6</td>\n",
       "      <td>1</td>\n",
       "      <td>1</td>\n",
       "      <td>0</td>\n",
       "      <td>0</td>\n",
       "    </tr>\n",
       "  </tbody>\n",
       "</table>\n",
       "</div>"
      ],
      "text/plain": [
       "   userId  movieId  rating           timestamp  \\\n",
       "0       1     1210     5.0 2000-07-30 18:08:19   \n",
       "1       1      804     4.0 2000-07-30 18:08:19   \n",
       "2       1     2628     4.0 2000-07-30 18:08:43   \n",
       "3       1     2826     4.0 2000-07-30 18:08:43   \n",
       "5       1     3578     5.0 2000-07-30 18:11:08   \n",
       "\n",
       "                                               title  \\\n",
       "0  Star Wars: Episode VI - Return of the Jedi (1983)   \n",
       "1                               She's the One (1996)   \n",
       "2   Star Wars: Episode I - The Phantom Menace (1999)   \n",
       "3                           13th Warrior, The (1999)   \n",
       "5                                   Gladiator (2000)   \n",
       "\n",
       "                     genres  imdbId   tmdbId  tag random_dstype  seqNum  \\\n",
       "0   Action|Adventure|Sci-Fi   86190   1892.0  NaN         train       1   \n",
       "1            Comedy|Romance  117628  11363.0  NaN         train       2   \n",
       "2   Action|Adventure|Sci-Fi  120915   1893.0  NaN         train       3   \n",
       "3  Action|Adventure|Fantasy  120657   1911.0  NaN         train       4   \n",
       "5    Action|Adventure|Drama  172495     98.0  NaN         train       6   \n",
       "\n",
       "   maxSeqNum time_dstype  user_idx  movie_idx  dstype_random_train  \\\n",
       "0        232       train         1          1                    1   \n",
       "1        232       train         1          2                    1   \n",
       "2        232       train         1          3                    1   \n",
       "3        232       train         1          4                    1   \n",
       "5        232       train         1          6                    1   \n",
       "\n",
       "   dstype_time_train  dstype_random_valid  dstype_time_valid  \n",
       "0                  1                    0                  0  \n",
       "1                  1                    0                  0  \n",
       "2                  1                    0                  0  \n",
       "3                  1                    0                  0  \n",
       "5                  1                    0                  0  "
      ]
     },
     "execution_count": 14,
     "metadata": {},
     "output_type": "execute_result"
    }
   ],
   "source": [
    "df_train.head()"
   ]
  },
  {
   "cell_type": "code",
   "execution_count": 15,
   "metadata": {},
   "outputs": [],
   "source": [
    "df_train=pd.merge(df_train,df_train_item_autoenc,on='movieId',how='left')"
   ]
  },
  {
   "cell_type": "code",
   "execution_count": 16,
   "metadata": {},
   "outputs": [
    {
     "data": {
      "text/plain": [
       "(90752, 29)"
      ]
     },
     "execution_count": 16,
     "metadata": {},
     "output_type": "execute_result"
    }
   ],
   "source": [
    "df_train.shape"
   ]
  },
  {
   "cell_type": "code",
   "execution_count": 17,
   "metadata": {},
   "outputs": [
    {
     "name": "stdout",
     "output_type": "stream",
     "text": [
      "(10084, 19)\n"
     ]
    },
    {
     "data": {
      "text/plain": [
       "(10084, 29)"
      ]
     },
     "execution_count": 17,
     "metadata": {},
     "output_type": "execute_result"
    }
   ],
   "source": [
    "print(df_valid.shape)\n",
    "df_valid=pd.merge(df_valid,df_valid_item_autoenc,on='movieId',how='left')\n",
    "df_valid.shape"
   ]
  },
  {
   "cell_type": "code",
   "execution_count": 18,
   "metadata": {},
   "outputs": [
    {
     "data": {
      "text/plain": [
       "(10084, 29)"
      ]
     },
     "execution_count": 18,
     "metadata": {},
     "output_type": "execute_result"
    }
   ],
   "source": [
    "df_valid.shape"
   ]
  },
  {
   "cell_type": "code",
   "execution_count": 19,
   "metadata": {},
   "outputs": [
    {
     "name": "stdout",
     "output_type": "stream",
     "text": [
      "(10084, 29)\n"
     ]
    },
    {
     "data": {
      "text/plain": [
       "(10084, 32)"
      ]
     },
     "execution_count": 19,
     "metadata": {},
     "output_type": "execute_result"
    }
   ],
   "source": [
    "print(df_valid.shape)\n",
    "df_valid=pd.merge(df_valid,df_valid_user_autoenc,on='userId',how='left')\n",
    "df_valid.shape"
   ]
  },
  {
   "cell_type": "code",
   "execution_count": 20,
   "metadata": {},
   "outputs": [
    {
     "name": "stdout",
     "output_type": "stream",
     "text": [
      "(90752, 29)\n"
     ]
    },
    {
     "data": {
      "text/plain": [
       "(90752, 32)"
      ]
     },
     "execution_count": 20,
     "metadata": {},
     "output_type": "execute_result"
    }
   ],
   "source": [
    "print(df_train.shape)\n",
    "df_train=pd.merge(df_train,df_train_user_autoenc,on='userId',how='left')\n",
    "df_train.shape"
   ]
  },
  {
   "cell_type": "code",
   "execution_count": 21,
   "metadata": {},
   "outputs": [
    {
     "data": {
      "text/plain": [
       "Index(['userId', 'movieId', 'rating', 'timestamp', 'title', 'genres', 'imdbId',\n",
       "       'tmdbId', 'tag', 'random_dstype', 'seqNum', 'maxSeqNum', 'time_dstype',\n",
       "       'user_idx', 'movie_idx', 'dstype_random_train', 'dstype_time_train',\n",
       "       'dstype_random_valid', 'dstype_time_valid', 'item_autoenc0',\n",
       "       'item_autoenc1', 'item_autoenc2', 'item_autoenc3', 'item_autoenc4',\n",
       "       'item_autoenc5', 'item_autoenc6', 'item_autoenc7', 'item_autoenc8',\n",
       "       'item_autoenc9', 'user_autoenc0', 'user_autoenc1', 'user_autoenc2'],\n",
       "      dtype='object')"
      ]
     },
     "execution_count": 21,
     "metadata": {},
     "output_type": "execute_result"
    }
   ],
   "source": [
    "df_train.columns"
   ]
  },
  {
   "cell_type": "code",
   "execution_count": 22,
   "metadata": {},
   "outputs": [],
   "source": [
    "autoenc_cols=df_train.columns[df_train.columns.str.contains('autoenc')]"
   ]
  },
  {
   "cell_type": "code",
   "execution_count": 23,
   "metadata": {},
   "outputs": [],
   "source": [
    "autoenc_cols=autoenc_cols.tolist()"
   ]
  },
  {
   "cell_type": "code",
   "execution_count": 24,
   "metadata": {},
   "outputs": [
    {
     "data": {
      "text/plain": [
       "['item_autoenc0',\n",
       " 'item_autoenc1',\n",
       " 'item_autoenc2',\n",
       " 'item_autoenc3',\n",
       " 'item_autoenc4',\n",
       " 'item_autoenc5',\n",
       " 'item_autoenc6',\n",
       " 'item_autoenc7',\n",
       " 'item_autoenc8',\n",
       " 'item_autoenc9',\n",
       " 'user_autoenc0',\n",
       " 'user_autoenc1',\n",
       " 'user_autoenc2']"
      ]
     },
     "execution_count": 24,
     "metadata": {},
     "output_type": "execute_result"
    }
   ],
   "source": [
    "autoenc_cols"
   ]
  },
  {
   "cell_type": "code",
   "execution_count": 25,
   "metadata": {},
   "outputs": [
    {
     "data": {
      "text/html": [
       "<div>\n",
       "<style scoped>\n",
       "    .dataframe tbody tr th:only-of-type {\n",
       "        vertical-align: middle;\n",
       "    }\n",
       "\n",
       "    .dataframe tbody tr th {\n",
       "        vertical-align: top;\n",
       "    }\n",
       "\n",
       "    .dataframe thead th {\n",
       "        text-align: right;\n",
       "    }\n",
       "</style>\n",
       "<table border=\"1\" class=\"dataframe\">\n",
       "  <thead>\n",
       "    <tr style=\"text-align: right;\">\n",
       "      <th></th>\n",
       "      <th>userId</th>\n",
       "      <th>movieId</th>\n",
       "      <th>rating</th>\n",
       "      <th>timestamp</th>\n",
       "      <th>title</th>\n",
       "      <th>genres</th>\n",
       "      <th>imdbId</th>\n",
       "      <th>tmdbId</th>\n",
       "      <th>tag</th>\n",
       "      <th>random_dstype</th>\n",
       "      <th>...</th>\n",
       "      <th>item_autoenc3</th>\n",
       "      <th>item_autoenc4</th>\n",
       "      <th>item_autoenc5</th>\n",
       "      <th>item_autoenc6</th>\n",
       "      <th>item_autoenc7</th>\n",
       "      <th>item_autoenc8</th>\n",
       "      <th>item_autoenc9</th>\n",
       "      <th>user_autoenc0</th>\n",
       "      <th>user_autoenc1</th>\n",
       "      <th>user_autoenc2</th>\n",
       "    </tr>\n",
       "  </thead>\n",
       "  <tbody>\n",
       "    <tr>\n",
       "      <th>0</th>\n",
       "      <td>1</td>\n",
       "      <td>1210</td>\n",
       "      <td>5.0</td>\n",
       "      <td>2000-07-30 18:08:19</td>\n",
       "      <td>Star Wars: Episode VI - Return of the Jedi (1983)</td>\n",
       "      <td>Action|Adventure|Sci-Fi</td>\n",
       "      <td>86190</td>\n",
       "      <td>1892.0</td>\n",
       "      <td>NaN</td>\n",
       "      <td>train</td>\n",
       "      <td>...</td>\n",
       "      <td>-7.057482</td>\n",
       "      <td>-9.234890</td>\n",
       "      <td>-9.615451</td>\n",
       "      <td>-14.320933</td>\n",
       "      <td>-9.288592</td>\n",
       "      <td>10.750225</td>\n",
       "      <td>-4.296187</td>\n",
       "      <td>-0.479369</td>\n",
       "      <td>0.641243</td>\n",
       "      <td>1.155024</td>\n",
       "    </tr>\n",
       "    <tr>\n",
       "      <th>1</th>\n",
       "      <td>1</td>\n",
       "      <td>804</td>\n",
       "      <td>4.0</td>\n",
       "      <td>2000-07-30 18:08:19</td>\n",
       "      <td>She's the One (1996)</td>\n",
       "      <td>Comedy|Romance</td>\n",
       "      <td>117628</td>\n",
       "      <td>11363.0</td>\n",
       "      <td>NaN</td>\n",
       "      <td>train</td>\n",
       "      <td>...</td>\n",
       "      <td>-5.507547</td>\n",
       "      <td>-9.562579</td>\n",
       "      <td>-7.991843</td>\n",
       "      <td>-8.986364</td>\n",
       "      <td>2.389012</td>\n",
       "      <td>8.144013</td>\n",
       "      <td>-3.814797</td>\n",
       "      <td>-0.479369</td>\n",
       "      <td>0.641243</td>\n",
       "      <td>1.155024</td>\n",
       "    </tr>\n",
       "    <tr>\n",
       "      <th>2</th>\n",
       "      <td>1</td>\n",
       "      <td>2628</td>\n",
       "      <td>4.0</td>\n",
       "      <td>2000-07-30 18:08:43</td>\n",
       "      <td>Star Wars: Episode I - The Phantom Menace (1999)</td>\n",
       "      <td>Action|Adventure|Sci-Fi</td>\n",
       "      <td>120915</td>\n",
       "      <td>1893.0</td>\n",
       "      <td>NaN</td>\n",
       "      <td>train</td>\n",
       "      <td>...</td>\n",
       "      <td>-8.590594</td>\n",
       "      <td>-9.174005</td>\n",
       "      <td>-9.902370</td>\n",
       "      <td>-13.359287</td>\n",
       "      <td>3.107477</td>\n",
       "      <td>8.087563</td>\n",
       "      <td>-3.237801</td>\n",
       "      <td>-0.479369</td>\n",
       "      <td>0.641243</td>\n",
       "      <td>1.155024</td>\n",
       "    </tr>\n",
       "    <tr>\n",
       "      <th>3</th>\n",
       "      <td>1</td>\n",
       "      <td>2826</td>\n",
       "      <td>4.0</td>\n",
       "      <td>2000-07-30 18:08:43</td>\n",
       "      <td>13th Warrior, The (1999)</td>\n",
       "      <td>Action|Adventure|Fantasy</td>\n",
       "      <td>120657</td>\n",
       "      <td>1911.0</td>\n",
       "      <td>NaN</td>\n",
       "      <td>train</td>\n",
       "      <td>...</td>\n",
       "      <td>-7.921208</td>\n",
       "      <td>-8.606805</td>\n",
       "      <td>-9.155840</td>\n",
       "      <td>-10.794389</td>\n",
       "      <td>0.598519</td>\n",
       "      <td>8.763772</td>\n",
       "      <td>-3.768643</td>\n",
       "      <td>-0.479369</td>\n",
       "      <td>0.641243</td>\n",
       "      <td>1.155024</td>\n",
       "    </tr>\n",
       "    <tr>\n",
       "      <th>4</th>\n",
       "      <td>1</td>\n",
       "      <td>3578</td>\n",
       "      <td>5.0</td>\n",
       "      <td>2000-07-30 18:11:08</td>\n",
       "      <td>Gladiator (2000)</td>\n",
       "      <td>Action|Adventure|Drama</td>\n",
       "      <td>172495</td>\n",
       "      <td>98.0</td>\n",
       "      <td>NaN</td>\n",
       "      <td>train</td>\n",
       "      <td>...</td>\n",
       "      <td>-5.964553</td>\n",
       "      <td>-9.169855</td>\n",
       "      <td>-8.996518</td>\n",
       "      <td>-13.539494</td>\n",
       "      <td>-8.460646</td>\n",
       "      <td>9.077582</td>\n",
       "      <td>-3.727581</td>\n",
       "      <td>-0.479369</td>\n",
       "      <td>0.641243</td>\n",
       "      <td>1.155024</td>\n",
       "    </tr>\n",
       "  </tbody>\n",
       "</table>\n",
       "<p>5 rows × 32 columns</p>\n",
       "</div>"
      ],
      "text/plain": [
       "   userId  movieId  rating           timestamp  \\\n",
       "0       1     1210     5.0 2000-07-30 18:08:19   \n",
       "1       1      804     4.0 2000-07-30 18:08:19   \n",
       "2       1     2628     4.0 2000-07-30 18:08:43   \n",
       "3       1     2826     4.0 2000-07-30 18:08:43   \n",
       "4       1     3578     5.0 2000-07-30 18:11:08   \n",
       "\n",
       "                                               title  \\\n",
       "0  Star Wars: Episode VI - Return of the Jedi (1983)   \n",
       "1                               She's the One (1996)   \n",
       "2   Star Wars: Episode I - The Phantom Menace (1999)   \n",
       "3                           13th Warrior, The (1999)   \n",
       "4                                   Gladiator (2000)   \n",
       "\n",
       "                     genres  imdbId   tmdbId  tag random_dstype  ...  \\\n",
       "0   Action|Adventure|Sci-Fi   86190   1892.0  NaN         train  ...   \n",
       "1            Comedy|Romance  117628  11363.0  NaN         train  ...   \n",
       "2   Action|Adventure|Sci-Fi  120915   1893.0  NaN         train  ...   \n",
       "3  Action|Adventure|Fantasy  120657   1911.0  NaN         train  ...   \n",
       "4    Action|Adventure|Drama  172495     98.0  NaN         train  ...   \n",
       "\n",
       "   item_autoenc3  item_autoenc4 item_autoenc5  item_autoenc6  item_autoenc7  \\\n",
       "0      -7.057482      -9.234890     -9.615451     -14.320933      -9.288592   \n",
       "1      -5.507547      -9.562579     -7.991843      -8.986364       2.389012   \n",
       "2      -8.590594      -9.174005     -9.902370     -13.359287       3.107477   \n",
       "3      -7.921208      -8.606805     -9.155840     -10.794389       0.598519   \n",
       "4      -5.964553      -9.169855     -8.996518     -13.539494      -8.460646   \n",
       "\n",
       "   item_autoenc8  item_autoenc9  user_autoenc0  user_autoenc1  user_autoenc2  \n",
       "0      10.750225      -4.296187      -0.479369       0.641243       1.155024  \n",
       "1       8.144013      -3.814797      -0.479369       0.641243       1.155024  \n",
       "2       8.087563      -3.237801      -0.479369       0.641243       1.155024  \n",
       "3       8.763772      -3.768643      -0.479369       0.641243       1.155024  \n",
       "4       9.077582      -3.727581      -0.479369       0.641243       1.155024  \n",
       "\n",
       "[5 rows x 32 columns]"
      ]
     },
     "execution_count": 25,
     "metadata": {},
     "output_type": "execute_result"
    }
   ],
   "source": [
    "df_train.head()"
   ]
  },
  {
   "cell_type": "code",
   "execution_count": 26,
   "metadata": {},
   "outputs": [
    {
     "data": {
      "text/html": [
       "<div>\n",
       "<style scoped>\n",
       "    .dataframe tbody tr th:only-of-type {\n",
       "        vertical-align: middle;\n",
       "    }\n",
       "\n",
       "    .dataframe tbody tr th {\n",
       "        vertical-align: top;\n",
       "    }\n",
       "\n",
       "    .dataframe thead th {\n",
       "        text-align: right;\n",
       "    }\n",
       "</style>\n",
       "<table border=\"1\" class=\"dataframe\">\n",
       "  <thead>\n",
       "    <tr style=\"text-align: right;\">\n",
       "      <th></th>\n",
       "      <th>user_idx</th>\n",
       "      <th>movie_idx</th>\n",
       "      <th>item_autoenc0</th>\n",
       "      <th>item_autoenc1</th>\n",
       "      <th>item_autoenc2</th>\n",
       "      <th>item_autoenc3</th>\n",
       "      <th>item_autoenc4</th>\n",
       "      <th>item_autoenc5</th>\n",
       "      <th>item_autoenc6</th>\n",
       "      <th>item_autoenc7</th>\n",
       "      <th>item_autoenc8</th>\n",
       "      <th>item_autoenc9</th>\n",
       "      <th>user_autoenc0</th>\n",
       "      <th>user_autoenc1</th>\n",
       "      <th>user_autoenc2</th>\n",
       "    </tr>\n",
       "  </thead>\n",
       "  <tbody>\n",
       "    <tr>\n",
       "      <th>0</th>\n",
       "      <td>1</td>\n",
       "      <td>1</td>\n",
       "      <td>3.850912</td>\n",
       "      <td>-5.386222</td>\n",
       "      <td>-14.289622</td>\n",
       "      <td>-7.057482</td>\n",
       "      <td>-9.234890</td>\n",
       "      <td>-9.615451</td>\n",
       "      <td>-14.320933</td>\n",
       "      <td>-9.288592</td>\n",
       "      <td>10.750225</td>\n",
       "      <td>-4.296187</td>\n",
       "      <td>-0.479369</td>\n",
       "      <td>0.641243</td>\n",
       "      <td>1.155024</td>\n",
       "    </tr>\n",
       "    <tr>\n",
       "      <th>1</th>\n",
       "      <td>1</td>\n",
       "      <td>2</td>\n",
       "      <td>-12.542353</td>\n",
       "      <td>-4.304758</td>\n",
       "      <td>-10.231943</td>\n",
       "      <td>-5.507547</td>\n",
       "      <td>-9.562579</td>\n",
       "      <td>-7.991843</td>\n",
       "      <td>-8.986364</td>\n",
       "      <td>2.389012</td>\n",
       "      <td>8.144013</td>\n",
       "      <td>-3.814797</td>\n",
       "      <td>-0.479369</td>\n",
       "      <td>0.641243</td>\n",
       "      <td>1.155024</td>\n",
       "    </tr>\n",
       "    <tr>\n",
       "      <th>2</th>\n",
       "      <td>1</td>\n",
       "      <td>3</td>\n",
       "      <td>-16.756915</td>\n",
       "      <td>-4.690946</td>\n",
       "      <td>-11.594507</td>\n",
       "      <td>-8.590594</td>\n",
       "      <td>-9.174005</td>\n",
       "      <td>-9.902370</td>\n",
       "      <td>-13.359287</td>\n",
       "      <td>3.107477</td>\n",
       "      <td>8.087563</td>\n",
       "      <td>-3.237801</td>\n",
       "      <td>-0.479369</td>\n",
       "      <td>0.641243</td>\n",
       "      <td>1.155024</td>\n",
       "    </tr>\n",
       "    <tr>\n",
       "      <th>3</th>\n",
       "      <td>1</td>\n",
       "      <td>4</td>\n",
       "      <td>-11.053216</td>\n",
       "      <td>-5.075145</td>\n",
       "      <td>-12.136779</td>\n",
       "      <td>-7.921208</td>\n",
       "      <td>-8.606805</td>\n",
       "      <td>-9.155840</td>\n",
       "      <td>-10.794389</td>\n",
       "      <td>0.598519</td>\n",
       "      <td>8.763772</td>\n",
       "      <td>-3.768643</td>\n",
       "      <td>-0.479369</td>\n",
       "      <td>0.641243</td>\n",
       "      <td>1.155024</td>\n",
       "    </tr>\n",
       "    <tr>\n",
       "      <th>4</th>\n",
       "      <td>1</td>\n",
       "      <td>6</td>\n",
       "      <td>1.743383</td>\n",
       "      <td>-5.177280</td>\n",
       "      <td>-11.519720</td>\n",
       "      <td>-5.964553</td>\n",
       "      <td>-9.169855</td>\n",
       "      <td>-8.996518</td>\n",
       "      <td>-13.539494</td>\n",
       "      <td>-8.460646</td>\n",
       "      <td>9.077582</td>\n",
       "      <td>-3.727581</td>\n",
       "      <td>-0.479369</td>\n",
       "      <td>0.641243</td>\n",
       "      <td>1.155024</td>\n",
       "    </tr>\n",
       "  </tbody>\n",
       "</table>\n",
       "</div>"
      ],
      "text/plain": [
       "   user_idx  movie_idx  item_autoenc0  item_autoenc1  item_autoenc2  \\\n",
       "0         1          1       3.850912      -5.386222     -14.289622   \n",
       "1         1          2     -12.542353      -4.304758     -10.231943   \n",
       "2         1          3     -16.756915      -4.690946     -11.594507   \n",
       "3         1          4     -11.053216      -5.075145     -12.136779   \n",
       "4         1          6       1.743383      -5.177280     -11.519720   \n",
       "\n",
       "   item_autoenc3  item_autoenc4  item_autoenc5  item_autoenc6  item_autoenc7  \\\n",
       "0      -7.057482      -9.234890      -9.615451     -14.320933      -9.288592   \n",
       "1      -5.507547      -9.562579      -7.991843      -8.986364       2.389012   \n",
       "2      -8.590594      -9.174005      -9.902370     -13.359287       3.107477   \n",
       "3      -7.921208      -8.606805      -9.155840     -10.794389       0.598519   \n",
       "4      -5.964553      -9.169855      -8.996518     -13.539494      -8.460646   \n",
       "\n",
       "   item_autoenc8  item_autoenc9  user_autoenc0  user_autoenc1  user_autoenc2  \n",
       "0      10.750225      -4.296187      -0.479369       0.641243       1.155024  \n",
       "1       8.144013      -3.814797      -0.479369       0.641243       1.155024  \n",
       "2       8.087563      -3.237801      -0.479369       0.641243       1.155024  \n",
       "3       8.763772      -3.768643      -0.479369       0.641243       1.155024  \n",
       "4       9.077582      -3.727581      -0.479369       0.641243       1.155024  "
      ]
     },
     "execution_count": 26,
     "metadata": {},
     "output_type": "execute_result"
    }
   ],
   "source": [
    "df_train[['user_idx','movie_idx']+autoenc_cols].head()"
   ]
  },
  {
   "cell_type": "markdown",
   "metadata": {},
   "source": [
    "### Dataset and DataLoader"
   ]
  },
  {
   "cell_type": "code",
   "execution_count": 27,
   "metadata": {},
   "outputs": [],
   "source": [
    "class cfdata (torch.utils.data.dataset.Dataset):\n",
    "    def __init__(self,dfX,dfY,denseCols):\n",
    "        self.dfX,self.dfY=dfX,dfY\n",
    "        self.denseCols=denseCols\n",
    "        \n",
    "    def __len__ (self):\n",
    "        return self.dfX.shape[0]\n",
    "    \n",
    "    def __getitem__ (self, idx):\n",
    "        return torch.FloatTensor(self.dfX.iloc[idx].values),torch.FloatTensor([self.dfY.values[idx]])"
   ]
  },
  {
   "cell_type": "code",
   "execution_count": 28,
   "metadata": {},
   "outputs": [],
   "source": [
    "dstrain=cfdata(df_train[['user_idx','movie_idx']+autoenc_cols],df_train['rating'],autoenc_cols)\n",
    "dsvalid=cfdata(df_valid[['user_idx','movie_idx']+autoenc_cols],df_valid['rating'],autoenc_cols)"
   ]
  },
  {
   "cell_type": "code",
   "execution_count": 29,
   "metadata": {},
   "outputs": [
    {
     "data": {
      "text/plain": [
       "(90752, 32)"
      ]
     },
     "execution_count": 29,
     "metadata": {},
     "output_type": "execute_result"
    }
   ],
   "source": [
    "df_train.shape"
   ]
  },
  {
   "cell_type": "code",
   "execution_count": 30,
   "metadata": {},
   "outputs": [],
   "source": [
    "bs=8"
   ]
  },
  {
   "cell_type": "code",
   "execution_count": 31,
   "metadata": {},
   "outputs": [],
   "source": [
    "dltrain=DataLoader(dstrain,bs,True)"
   ]
  },
  {
   "cell_type": "code",
   "execution_count": 32,
   "metadata": {},
   "outputs": [],
   "source": [
    "dlvalid=DataLoader(dsvalid,bs,True)"
   ]
  },
  {
   "cell_type": "markdown",
   "metadata": {},
   "source": [
    "## Model Architecture"
   ]
  },
  {
   "cell_type": "code",
   "execution_count": 33,
   "metadata": {},
   "outputs": [],
   "source": [
    "n_users=len(user_to_idx)\n",
    "n_movies=len(movie_to_idx)\n",
    "n_emb_user=10\n",
    "n_emb_movie=25\n",
    "min_rating=min(df_train['rating'])\n",
    "max_rating=max(df_train['rating'])\n",
    "dropout_e=0.05\n",
    "hidden=[25,10]\n",
    "dropouts=[0.2,0.2]"
   ]
  },
  {
   "cell_type": "code",
   "execution_count": 34,
   "metadata": {},
   "outputs": [],
   "source": [
    "def hidden_layer(x,y,dropout,activation=nn.Sigmoid()):\n",
    "    return nn.Sequential(\n",
    "        nn.Linear(x, y),\n",
    "        activation,\n",
    "        nn.Dropout(p=dropout)\n",
    "        )   "
   ]
  },
  {
   "cell_type": "code",
   "execution_count": 47,
   "metadata": {},
   "outputs": [],
   "source": [
    "class cf(nn.Module):    \n",
    "    def __init__(self,n_users,n_emb_user,n_emb_movie,n_movies,min_rating,max_rating,autoenc_cols,\\\n",
    "                 dropout_e=0.01,hidden=[15,5],dropouts=[0.2,0.2]):\n",
    "        super().__init__()\n",
    "        self.n_users,self.n_emb_user,self.n_emb_movie,self.n_movies,self.min_rating,self.max_rating=\\\n",
    "                    n_users,n_emb_user,n_emb_movie,n_movies,min_rating,max_rating\n",
    "        self.dropout_e,self.hidden,self.dropouts=dropout_e,hidden,dropouts\n",
    "        self.autoenc_cols,self.len_dense_cols=autoenc_cols,len(autoenc_cols)\n",
    "        self.create_architecture()\n",
    "        self.criterion=nn.MSELoss()\n",
    "        \n",
    "        \n",
    "    def create_architecture(self):\n",
    "        self.emb_user=nn.Embedding(self.n_users+1,self.n_emb_user)\n",
    "        self.emb_movie=nn.Embedding(self.n_movies+1,self.n_emb_movie)\n",
    "        self.emb_dropout=nn.Dropout(self.dropout_e)\n",
    "\n",
    "        \n",
    "        self.lin1= nn.Sequential(nn.Linear(self.n_emb_user+self.n_emb_movie,self.hidden[0]),\n",
    "                    nn.ReLU(),\n",
    "                    nn.Dropout(p=dropouts[0]) )\n",
    "        self.lin2= nn.Sequential (nn.Linear(self.len_dense_cols,self.hidden[1]),\n",
    "                    nn.ReLU(),\n",
    "                    nn.Dropout(p=dropouts[1]) )\n",
    "        self.lin3= nn.Sequential (nn.Linear(self.hidden[0]+self.hidden[1],self.hidden[1]),\n",
    "                    nn.ReLU(),\n",
    "                    nn.Dropout(p=dropouts[1]))\n",
    "        self.lin4=nn.Linear(self.hidden[1],1)\n",
    "        self.sigmoid=nn.Sigmoid()\n",
    "        \n",
    "        \n",
    "    def init_parameters(self):\n",
    "        nn.init.kaiming_normal_(self.emb_user.weight.data)\n",
    "        nn.init.kaiming_normal_(self.emb_movie.weight.dat)\n",
    "        #nn.init.kaiming_normal_(lin)\n",
    "       \n",
    "    def forward (self,Xb,Yb):\n",
    "        users=Xb[:,0].long()\n",
    "        items=Xb[:,1].long()\n",
    "        users=self.emb_dropout(self.emb_user(users))\n",
    "        items=self.emb_dropout(self.emb_movie(items))\n",
    "        \n",
    "        denses=Xb[:,2:]\n",
    "        embed=torch.cat([users,items],1)\n",
    "        \n",
    "        out1=self.lin1(embed)\n",
    "        out2=self.lin2(denses)\n",
    "        out3=torch.cat([out1,out2],1)\n",
    "        out4=self.lin3(out3)\n",
    "        out5=self.lin4(out4)\n",
    "        \n",
    "        out=self.sigmoid(out5)\n",
    "        \n",
    "        preds=out*(self.max_rating-self.min_rating)+self.min_rating\n",
    "        #preds=preds.view(-1)\n",
    "        loss=self.criterion(preds,Yb)\n",
    "        return preds,loss"
   ]
  },
  {
   "cell_type": "code",
   "execution_count": 48,
   "metadata": {},
   "outputs": [],
   "source": [
    "cfobj=cf(n_users,n_emb_user,n_emb_movie,n_movies,min_rating,max_rating,autoenc_cols,dropout_e,hidden,dropouts)"
   ]
  },
  {
   "cell_type": "code",
   "execution_count": 49,
   "metadata": {},
   "outputs": [
    {
     "data": {
      "text/plain": [
       "cf(\n",
       "  (emb_user): Embedding(611, 10)\n",
       "  (emb_movie): Embedding(9725, 25)\n",
       "  (emb_dropout): Dropout(p=0.05)\n",
       "  (lin1): Sequential(\n",
       "    (0): Linear(in_features=35, out_features=25, bias=True)\n",
       "    (1): ReLU()\n",
       "    (2): Dropout(p=0.2)\n",
       "  )\n",
       "  (lin2): Sequential(\n",
       "    (0): Linear(in_features=13, out_features=10, bias=True)\n",
       "    (1): ReLU()\n",
       "    (2): Dropout(p=0.2)\n",
       "  )\n",
       "  (lin3): Sequential(\n",
       "    (0): Linear(in_features=35, out_features=10, bias=True)\n",
       "    (1): ReLU()\n",
       "    (2): Dropout(p=0.2)\n",
       "  )\n",
       "  (lin4): Linear(in_features=10, out_features=1, bias=True)\n",
       "  (sigmoid): Sigmoid()\n",
       "  (criterion): MSELoss()\n",
       ")"
      ]
     },
     "execution_count": 49,
     "metadata": {},
     "output_type": "execute_result"
    }
   ],
   "source": [
    "cfobj"
   ]
  },
  {
   "cell_type": "code",
   "execution_count": 50,
   "metadata": {},
   "outputs": [],
   "source": [
    "for Xb, Yb in dltrain:\n",
    "    break"
   ]
  },
  {
   "cell_type": "code",
   "execution_count": 51,
   "metadata": {},
   "outputs": [
    {
     "data": {
      "text/plain": [
       "(torch.Size([8, 15]), torch.Size([8, 1]))"
      ]
     },
     "execution_count": 51,
     "metadata": {},
     "output_type": "execute_result"
    }
   ],
   "source": [
    "Xb.shape, Yb.shape"
   ]
  },
  {
   "cell_type": "code",
   "execution_count": 52,
   "metadata": {},
   "outputs": [
    {
     "data": {
      "text/plain": [
       "torch.float32"
      ]
     },
     "execution_count": 52,
     "metadata": {},
     "output_type": "execute_result"
    }
   ],
   "source": [
    "Xb.dtype"
   ]
  },
  {
   "cell_type": "code",
   "execution_count": 53,
   "metadata": {},
   "outputs": [
    {
     "data": {
      "text/plain": [
       "(tensor([[2.8313],\n",
       "         [2.9527],\n",
       "         [3.4283],\n",
       "         [2.6834],\n",
       "         [2.8512],\n",
       "         [3.0825],\n",
       "         [2.7807],\n",
       "         [2.9417]], grad_fn=<AddBackward0>),\n",
       " tensor(1.2965, grad_fn=<MseLossBackward>))"
      ]
     },
     "execution_count": 53,
     "metadata": {},
     "output_type": "execute_result"
    }
   ],
   "source": [
    "cfobj.forward(Xb,Yb)"
   ]
  },
  {
   "cell_type": "markdown",
   "metadata": {},
   "source": [
    "## Learner"
   ]
  },
  {
   "cell_type": "code",
   "execution_count": 54,
   "metadata": {},
   "outputs": [],
   "source": [
    "class Learner():\n",
    "    def __init__(self,model,optimizer,metric_fn,device,bptt=12,print_every=5,clip_val=None,\\\n",
    "                 cycle_mult=0,lr_decay=0.7,wd_mult=6,start_lr=2e-2, end_lr=5e-4):\n",
    "        self.model,self.optimizer,self.metric_fn,self.device,self.print_every,self.bptt,self.losses,self.clip_val=\\\n",
    "            model,optimizer,metric_fn,device,print_every,bptt,[],clip_val\n",
    "        self.n_epochs=1\n",
    "        self.cycle_mult,self.lr_decay=cycle_mult,lr_decay\n",
    "        self.wd_mult=wd_mult\n",
    "        for param_group in self.optimizer.param_groups:\n",
    "            self.start_lr=param_group['lr']\n",
    "            self.start_wd=param_group['weight_decay']\n",
    "        self.wd=self.start_wd\n",
    "        self.lr=self.start_lr\n",
    "        self.end_lr=end_lr\n",
    "        self.n_epoch=0\n",
    "        self.lrs=[1e-2,5e-3,1e-4,5e-4]\n",
    "        self.preds,self.preds_valid,self.trainY,self.actual=[],[],[],[]\n",
    "        self.ratio=self.end_lr/self.start_lr\n",
    "        self.num_steps=self.cycle_mult\n",
    "        self.reset_cycle=self.cycle_mult\n",
    "        \n",
    "    def fit (self,Xb,Yb,mode_train=True):\n",
    "        if mode_train:\n",
    "            self.model.train()\n",
    "        else:\n",
    "            self.model.eval()\n",
    "        \n",
    "        #import pdb\n",
    "        #pdb.set_trace()\n",
    "        preds,loss=self.model(Xb,Yb)\n",
    "\n",
    "        with torch.no_grad():\n",
    "            if self.metric_fn is not None:\n",
    "                acc=self.metric_fn(preds,Yb.view(-1),self.device)\n",
    "                acc=acc.item()\n",
    "\n",
    "                if 1==0:\n",
    "                    if mode_train:\n",
    "                        self.trainY.append(Yb.view(-1))\n",
    "                        self.preds.append(preds.data)\n",
    "                    else:\n",
    "                        self.actual.append(Yb.view(-1))\n",
    "                        self.preds_valid.append(preds.data)\n",
    "            else:\n",
    "                acc=0\n",
    "            del preds\n",
    "        \n",
    "        if mode_train:\n",
    "            if 1==0:\n",
    "                lr =self.lrs[torch.randint(0,4,(1,))]\n",
    "                for param_group in self.optimizer.param_groups:\n",
    "                    param_group['lr']=lr\n",
    "            \n",
    "            self.optimizer.zero_grad()\n",
    "            loss.backward()\n",
    "            self.optimizer.step()\n",
    "        myloss=loss.item()\n",
    "        acc=np.sqrt(myloss)\n",
    "        del loss\n",
    "        \n",
    "        if self.clip_val is not None:\n",
    "            torch.nn.utils.clip_grad_norm_(self.model.parameters(), self.clip_val)\n",
    "        \n",
    "        return myloss, acc\n",
    "    \n",
    "    def lr_find (self,start_lr,end_lr,iterator,n_batch):\n",
    "        losses,lrs=[],[]\n",
    "        ratio=end_lr/start_lr\n",
    "        num_steps=n_batch\n",
    "        lr=start_lr\n",
    "        for i in range(num_steps):            \n",
    "            lr=lr*(end_lr/start_lr)**(1/num_steps)\n",
    "            lrs.append(lr)\n",
    "        self.lrs=lrs\n",
    "        self.run_epoch(iterator,mode_train=True,lrs=lrs)\n",
    "    \n",
    "    def run_epoch(self,iterator,mode_train,lrs=None):\n",
    "        epoch_loss,epoch_acc,i,k=0,0,0,0\n",
    "\n",
    "        for Xb,Yb in iterator:\n",
    "            Xb=Xb.to(self.device)\n",
    "            Yb=Yb.to(self.device)\n",
    "            \n",
    "            if lrs is not None:\n",
    "                lr=lrs[k]\n",
    "                for param_group in self.optimizer.param_groups:\n",
    "                    param_group['lr']=lr \n",
    "            \n",
    "\n",
    "            loss,acc=self.fit(Xb,Yb,mode_train)\n",
    "            \n",
    "            if lrs is not None:\n",
    "                self.losses.append(loss)\n",
    "            \n",
    "            \n",
    "            epoch_loss+=loss\n",
    "            epoch_acc+=acc\n",
    "            \n",
    "            k=k+1\n",
    "            if k%self.print_every == 0:\n",
    "                if k:\n",
    "                    print (f'Batch:{k} {epoch_loss/(k)}  ')  \n",
    "                    torch.cuda.empty_cache()\n",
    "        epoch_loss=epoch_loss/len(iterator)\n",
    "        epoch_acc=epoch_acc/len(iterator)\n",
    "            \n",
    "        return epoch_loss,epoch_acc\n",
    "    \n",
    "    def plot_lrs(self, n_roll=1,ylim=None,xlim=None):\n",
    "        import seaborn as sns\n",
    "        ax=sns.lineplot(x=self.lrs,y=pd.Series(self.losses).rolling(n_roll).mean())\n",
    "        ax.set_xscale('log')\n",
    "        ax.set_ylabel('Loss')\n",
    "        ax.set_xlabel('Learning Rate')\n",
    "        if ylim is not None:\n",
    "            plt.ylim(ylim)\n",
    "        if xlim is not None:\n",
    "            plt.xlim(xlim)\n",
    "\n",
    "     \n",
    "    def run_epochs(self,dltrain,dlvalid,n_epochs=1):              \n",
    "        for epoch in range(n_epochs):                \n",
    "            loss,acc=self.run_epoch(dltrain,True)\n",
    "            lossv,accv=self.run_epoch(dlvalid,mode_train=False)\n",
    "            print (f'Epoch:{epoch} Learning rate {self.lr} Weight Decay {self.wd} Train Loss:{loss} \\\n",
    "                Valid Loss:{lossv} Train RMSE:{acc} Valid RMSE:{accv}')\n",
    "  \n",
    "            if self.cycle_mult:\n",
    "                if self.n_epoch==self.reset_cycle:\n",
    "                    self.lr=self.start_lr\n",
    "                    #self.wd=self.start_wd\n",
    "                    self.reset_cycle*=self.cycle_mult\n",
    "                    #reset_cycle=self.n_epoch+reset_cycle\n",
    "                    self.n_epoch=0\n",
    "                    self.ratio=self.end_lr/self.start_lr\n",
    "                    self.num_steps=self.reset_cycle\n",
    "                else:\n",
    "                    #self.lr*=(self.lr_decay**self.n_epoch)  \n",
    "                    #if self.n_epoch>1:\n",
    "                    #    self.wd*=self.wd_mult\n",
    "                    self.lr=self.lr*(self.end_lr/self.start_lr)**(1/self.num_steps)\n",
    "                    self.n_epoch+=1\n",
    "        \n",
    "\n",
    "                \n",
    "            for param_group in self.optimizer.param_groups:\n",
    "                param_group['lr']=self.lr\n",
    "                #param_group['weight_decay']=self.wd\n",
    "          \n",
    "     "
   ]
  },
  {
   "cell_type": "code",
   "execution_count": 55,
   "metadata": {},
   "outputs": [],
   "source": [
    "device='cuda:1'"
   ]
  },
  {
   "cell_type": "code",
   "execution_count": 56,
   "metadata": {},
   "outputs": [],
   "source": [
    "cfobj=cf(n_users,n_emb_user,n_emb_movie,n_movies,min_rating,max_rating,autoenc_cols,dropout_e,hidden,dropouts)"
   ]
  },
  {
   "cell_type": "code",
   "execution_count": 57,
   "metadata": {},
   "outputs": [],
   "source": [
    "cfobj=cfobj.to(device)"
   ]
  },
  {
   "cell_type": "code",
   "execution_count": 58,
   "metadata": {},
   "outputs": [
    {
     "data": {
      "text/plain": [
       "cf(\n",
       "  (emb_user): Embedding(611, 10)\n",
       "  (emb_movie): Embedding(9725, 25)\n",
       "  (emb_dropout): Dropout(p=0.05)\n",
       "  (lin1): Sequential(\n",
       "    (0): Linear(in_features=35, out_features=25, bias=True)\n",
       "    (1): ReLU()\n",
       "    (2): Dropout(p=0.2)\n",
       "  )\n",
       "  (lin2): Sequential(\n",
       "    (0): Linear(in_features=13, out_features=10, bias=True)\n",
       "    (1): ReLU()\n",
       "    (2): Dropout(p=0.2)\n",
       "  )\n",
       "  (lin3): Sequential(\n",
       "    (0): Linear(in_features=35, out_features=10, bias=True)\n",
       "    (1): ReLU()\n",
       "    (2): Dropout(p=0.2)\n",
       "  )\n",
       "  (lin4): Linear(in_features=10, out_features=1, bias=True)\n",
       "  (sigmoid): Sigmoid()\n",
       "  (criterion): MSELoss()\n",
       ")"
      ]
     },
     "execution_count": 58,
     "metadata": {},
     "output_type": "execute_result"
    }
   ],
   "source": [
    "cfobj"
   ]
  },
  {
   "cell_type": "code",
   "execution_count": 59,
   "metadata": {},
   "outputs": [],
   "source": [
    "wd=1e-7\n",
    "optimizer=torch.optim.Adam(cfobj.parameters(),lr=5e-3,betas=(0.9,0.999), weight_decay=wd)\n",
    "learner=Learner(cfobj,optimizer,None,device,0,12000,0.25,cycle_mult=0)"
   ]
  },
  {
   "cell_type": "code",
   "execution_count": 60,
   "metadata": {},
   "outputs": [
    {
     "data": {
      "text/plain": [
       "11344"
      ]
     },
     "execution_count": 60,
     "metadata": {},
     "output_type": "execute_result"
    }
   ],
   "source": [
    "len(dltrain)"
   ]
  },
  {
   "cell_type": "code",
   "execution_count": 61,
   "metadata": {},
   "outputs": [],
   "source": [
    "learner.lr_find(1e-4,1e-1,dltrain,len(dltrain))"
   ]
  },
  {
   "cell_type": "code",
   "execution_count": 64,
   "metadata": {},
   "outputs": [
    {
     "data": {
      "image/png": "[encoded data removed]",
      "text/plain": [
       "<Figure size 432x288 with 1 Axes>"
      ]
     },
     "metadata": {
      "needs_background": "light"
     },
     "output_type": "display_data"
    }
   ],
   "source": [
    "learner.plot_lrs(50)"
   ]
  },
  {
   "cell_type": "code",
   "execution_count": 66,
   "metadata": {},
   "outputs": [],
   "source": [
    "del cfobj\n",
    "torch.cuda.empty_cache()"
   ]
  },
  {
   "cell_type": "code",
   "execution_count": 67,
   "metadata": {},
   "outputs": [],
   "source": [
    "cfobj=cf(n_users,n_emb_user,n_emb_movie,n_movies,min_rating,max_rating,autoenc_cols,dropout_e,hidden,dropouts)\n",
    "cfobj=cfobj.to(device)"
   ]
  },
  {
   "cell_type": "code",
   "execution_count": 68,
   "metadata": {},
   "outputs": [],
   "source": [
    "wd=1e-7\n",
    "optimizer=torch.optim.Adam(cfobj.parameters(),lr=5e-3,betas=(0.9,0.999), weight_decay=wd)\n",
    "learner=Learner(cfobj,optimizer,None,device,0,12000,0.25,cycle_mult=0)"
   ]
  },
  {
   "cell_type": "code",
   "execution_count": 69,
   "metadata": {},
   "outputs": [
    {
     "name": "stdout",
     "output_type": "stream",
     "text": [
      "Epoch:0 Learning rate 0.005 Weight Decay 1e-07 Train Loss:0.8399783620713949                 Valid Loss:0.8523337363038718 Train RMSE:0.879780122629242 Valid RMSE:0.890177676207339\n",
      "Epoch:1 Learning rate 0.005 Weight Decay 1e-07 Train Loss:0.7708000010345788                 Valid Loss:0.8595200644113259 Train RMSE:0.8409755831030857 Valid RMSE:0.8957807172022229\n",
      "Epoch:2 Learning rate 0.005 Weight Decay 1e-07 Train Loss:0.7494113102603878                 Valid Loss:0.8167794783799824 Train RMSE:0.8282009346157212 Valid RMSE:0.8658006432596416\n",
      "Epoch:3 Learning rate 0.005 Weight Decay 1e-07 Train Loss:0.7390067686431231                 Valid Loss:0.8353518230824315 Train RMSE:0.8212078389403068 Valid RMSE:0.8852292488437791\n",
      "Epoch:4 Learning rate 0.005 Weight Decay 1e-07 Train Loss:0.7263037980532823                 Valid Loss:0.8003590771135217 Train RMSE:0.8148951444096885 Valid RMSE:0.8603153064326683\n"
     ]
    }
   ],
   "source": [
    "learner.run_epochs(dltrain,dlvalid,5)"
   ]
  },
  {
   "cell_type": "code",
   "execution_count": 72,
   "metadata": {},
   "outputs": [
    {
     "name": "stderr",
     "output_type": "stream",
     "text": [
      "/home/kirana/anaconda3/lib/python3.7/site-packages/torch/serialization.py:256: UserWarning: Couldn't retrieve source code for container of type cf. It won't be checked for correctness upon loading.\n",
      "  \"type \" + obj.__name__ + \". It won't be checked \"\n",
      "/home/kirana/anaconda3/lib/python3.7/site-packages/torch/serialization.py:256: UserWarning: Couldn't retrieve source code for container of type cf. It won't be checked for correctness upon loading.\n",
      "  \"type \" + obj.__name__ + \". It won't be checked \"\n"
     ]
    }
   ],
   "source": [
    "torch.save(cfobj,f=f'{DATAPATH}/inter/cfobj_0.8')\n",
    "torch.save(learner,f=f'{DATAPATH}/inter/cfobj_learner_0.8')\n",
    "torch.save(optimizer,f=f'{DATAPATH}/inter/cfobj_optimizer_0.8')\n",
    "torch.save(cfobj.state_dict(),f'{DATAPATH}/inter/cfjobj_state_dict_0.8')\n",
    "torch.save(optimizer.state_dict(),f'{DATAPATH}/inter/optimizer_state_dict_0.8')"
   ]
  },
  {
   "cell_type": "code",
   "execution_count": 73,
   "metadata": {},
   "outputs": [
    {
     "name": "stdout",
     "output_type": "stream",
     "text": [
      "Epoch:0 Learning rate 0.005 Weight Decay 1e-07 Train Loss:0.7190260317492495                 Valid Loss:0.8469424650108502 Train RMSE:0.8107854794036615 Valid RMSE:0.8785818795793202\n",
      "Epoch:1 Learning rate 0.005 Weight Decay 1e-07 Train Loss:0.7141704037128744                 Valid Loss:0.8035627539305815 Train RMSE:0.8086779443683211 Valid RMSE:0.8630517259199645\n",
      "Epoch:2 Learning rate 0.005 Weight Decay 1e-07 Train Loss:0.7101788372996727                 Valid Loss:0.7953713365389562 Train RMSE:0.8055293675067627 Valid RMSE:0.8563199415478819\n",
      "Epoch:3 Learning rate 0.005 Weight Decay 1e-07 Train Loss:0.7046451427529162                 Valid Loss:0.8197208770818885 Train RMSE:0.8014094005585917 Valid RMSE:0.8676429106260295\n",
      "Epoch:4 Learning rate 0.005 Weight Decay 1e-07 Train Loss:0.7006589155525957                 Valid Loss:0.8001186397963578 Train RMSE:0.7992929736790301 Valid RMSE:0.8555734975158961\n"
     ]
    }
   ],
   "source": [
    "learner.run_epochs(dltrain,dlvalid,5)"
   ]
  },
  {
   "cell_type": "code",
   "execution_count": 74,
   "metadata": {},
   "outputs": [
    {
     "name": "stderr",
     "output_type": "stream",
     "text": [
      "/home/kirana/anaconda3/lib/python3.7/site-packages/torch/serialization.py:256: UserWarning: Couldn't retrieve source code for container of type cf. It won't be checked for correctness upon loading.\n",
      "  \"type \" + obj.__name__ + \". It won't be checked \"\n",
      "/home/kirana/anaconda3/lib/python3.7/site-packages/torch/serialization.py:256: UserWarning: Couldn't retrieve source code for container of type cf. It won't be checked for correctness upon loading.\n",
      "  \"type \" + obj.__name__ + \". It won't be checked \"\n"
     ]
    }
   ],
   "source": [
    "torch.save(cfobj,f=f'{DATAPATH}/inter/cfobj_0.8')\n",
    "torch.save(learner,f=f'{DATAPATH}/inter/cfobj_learner_0.8')\n",
    "torch.save(optimizer,f=f'{DATAPATH}/inter/cfobj_optimizer_0.8')\n",
    "torch.save(cfobj.state_dict(),f'{DATAPATH}/inter/cfjobj_state_dict_0.8')\n",
    "torch.save(optimizer.state_dict(),f'{DATAPATH}/inter/optimizer_state_dict_0.8')"
   ]
  },
  {
   "cell_type": "code",
   "execution_count": 75,
   "metadata": {},
   "outputs": [],
   "source": [
    "del cfobj\n",
    "torch.cuda.empty_cache()"
   ]
  },
  {
   "cell_type": "code",
   "execution_count": 76,
   "metadata": {},
   "outputs": [],
   "source": [
    "cfobj=cf(n_users,n_emb_user,n_emb_movie,n_movies,min_rating,max_rating,autoenc_cols,dropout_e,hidden,dropouts)\n",
    "cfobj=cfobj.to(device)"
   ]
  },
  {
   "cell_type": "code",
   "execution_count": 77,
   "metadata": {},
   "outputs": [],
   "source": [
    "wd=1e-7\n",
    "optimizer=torch.optim.Adam(cfobj.parameters(),lr=5e-3,betas=(0.9,0.999), weight_decay=wd)\n",
    "learner=Learner(cfobj,optimizer,None,device,0,12000,0.25,cycle_mult=2,start_lr=8e-3,end_lr=8e-4)"
   ]
  },
  {
   "cell_type": "code",
   "execution_count": 78,
   "metadata": {},
   "outputs": [
    {
     "name": "stdout",
     "output_type": "stream",
     "text": [
      "Epoch:0 Learning rate 0.005 Weight Decay 1e-07 Train Loss:0.8406598270842504                 Valid Loss:0.8531730296673706 Train RMSE:0.8793420066718353 Valid RMSE:0.8897942177933199\n",
      "Epoch:1 Learning rate 0.002 Weight Decay 1e-07 Train Loss:0.738433773878946                 Valid Loss:0.8253816071363028 Train RMSE:0.8224339991169255 Valid RMSE:0.8764157811182939\n",
      "Epoch:2 Learning rate 0.0008 Weight Decay 1e-07 Train Loss:0.6988892937466575                 Valid Loss:0.8135369532253419 Train RMSE:0.7982377681246421 Valid RMSE:0.8688920809493448\n",
      "Epoch:3 Learning rate 0.005 Weight Decay 1e-07 Train Loss:0.7531849953085867                 Valid Loss:0.8093289571040968 Train RMSE:0.8308296013057669 Valid RMSE:0.8643282373046474\n",
      "Epoch:4 Learning rate 0.0031622776601683794 Weight Decay 1e-07 Train Loss:0.7168316139707576                 Valid Loss:0.8110743980444111 Train RMSE:0.8093390559248682 Valid RMSE:0.8670272221412673\n",
      "Epoch:5 Learning rate 0.002 Weight Decay 1e-07 Train Loss:0.6813000752002774                 Valid Loss:0.7916339201177637 Train RMSE:0.7882580594213392 Valid RMSE:0.8530088813948266\n",
      "Epoch:6 Learning rate 0.0012649110640673518 Weight Decay 1e-07 Train Loss:0.6588823106223638                 Valid Loss:0.7904574945923547 Train RMSE:0.774520013962779 Valid RMSE:0.8536614019464889\n",
      "Epoch:7 Learning rate 0.0008 Weight Decay 1e-07 Train Loss:0.6435169797981478                 Valid Loss:0.7974479583451712 Train RMSE:0.7651755264326987 Valid RMSE:0.8586186351253624\n",
      "Epoch:8 Learning rate 0.005 Weight Decay 1e-07 Train Loss:0.7118819320716597                 Valid Loss:0.8138570237807298 Train RMSE:0.8062431891487825 Valid RMSE:0.8686573130650193\n",
      "Epoch:9 Learning rate 0.0039763536438352535 Weight Decay 1e-07 Train Loss:0.6917793048565093                 Valid Loss:0.8456765745163058 Train RMSE:0.7943672959886383 Valid RMSE:0.8889876428990537\n",
      "Epoch:10 Learning rate 0.0031622776601683794 Weight Decay 1e-07 Train Loss:0.6668098939547239                 Valid Loss:0.7947479897281369 Train RMSE:0.7788258335316247 Valid RMSE:0.8520279221241538\n",
      "Epoch:11 Learning rate 0.0025148668593658707 Weight Decay 1e-07 Train Loss:0.647061807980757                 Valid Loss:0.7931447120576884 Train RMSE:0.7667690876587209 Valid RMSE:0.8567568874467987\n",
      "Epoch:12 Learning rate 0.0019999999999999996 Weight Decay 1e-07 Train Loss:0.6304892018724401                 Valid Loss:0.7815088798291243 Train RMSE:0.7566484899809012 Valid RMSE:0.8466576158852624\n",
      "Epoch:13 Learning rate 0.0015905414575341009 Weight Decay 1e-07 Train Loss:0.6157118751224437                 Valid Loss:0.7907526724182311 Train RMSE:0.747001451416639 Valid RMSE:0.8498233873784546\n",
      "Epoch:14 Learning rate 0.0012649110640673513 Weight Decay 1e-07 Train Loss:0.59961684898451                 Valid Loss:0.7872028476266895 Train RMSE:0.7364346265883582 Valid RMSE:0.8483616464225291\n",
      "Epoch:15 Learning rate 0.001005946743746348 Weight Decay 1e-07 Train Loss:0.5916993454113808                 Valid Loss:0.8043723623700363 Train RMSE:0.7311258409841154 Valid RMSE:0.8578573796859674\n",
      "Epoch:16 Learning rate 0.0007999999999999996 Weight Decay 1e-07 Train Loss:0.5821734173614164                 Valid Loss:0.8016781435893888 Train RMSE:0.7244879678420899 Valid RMSE:0.856876846742481\n",
      "Epoch:17 Learning rate 0.005 Weight Decay 1e-07 Train Loss:0.6685668657210686                 Valid Loss:0.8238870649289083 Train RMSE:0.7803281732623412 Valid RMSE:0.8686975736546346\n",
      "Epoch:18 Learning rate 0.004458897646187482 Weight Decay 1e-07 Train Loss:0.659006748928745                 Valid Loss:0.807147430934006 Train RMSE:0.7747213056491355 Valid RMSE:0.8608671490812824\n",
      "Epoch:19 Learning rate 0.0039763536438352535 Weight Decay 1e-07 Train Loss:0.6483944397674524                 Valid Loss:0.7986468507433392 Train RMSE:0.7679577382959798 Valid RMSE:0.8589832066118213\n"
     ]
    }
   ],
   "source": [
    "learner.run_epochs(dltrain,dlvalid,20)"
   ]
  },
  {
   "cell_type": "code",
   "execution_count": 172,
   "metadata": {},
   "outputs": [
    {
     "name": "stderr",
     "output_type": "stream",
     "text": [
      "/home/kirana/anaconda3/lib/python3.7/site-packages/torch/serialization.py:256: UserWarning: Couldn't retrieve source code for container of type cf. It won't be checked for correctness upon loading.\n",
      "  \"type \" + obj.__name__ + \". It won't be checked \"\n"
     ]
    }
   ],
   "source": [
    "\n",
    "torch.save(cfobj,f'{DATAPATH}/inter/cfobj')"
   ]
  },
  {
   "cell_type": "code",
   "execution_count": 177,
   "metadata": {},
   "outputs": [],
   "source": [
    "torch.save(optimizer,f'{DATAPATH}/inter/optimizer')"
   ]
  },
  {
   "cell_type": "code",
   "execution_count": 183,
   "metadata": {},
   "outputs": [
    {
     "ename": "PicklingError",
     "evalue": "Can't pickle <class '__main__.Learner'>: it's not the same object as __main__.Learner",
     "output_type": "error",
     "traceback": [
      "\u001b[0;31m---------------------------------------------------------------------------\u001b[0m",
      "\u001b[0;31mPicklingError\u001b[0m                             Traceback (most recent call last)",
      "\u001b[0;32m<ipython-input-183-2be1dcb93c98>\u001b[0m in \u001b[0;36m<module>\u001b[0;34m\u001b[0m\n\u001b[0;32m----> 1\u001b[0;31m \u001b[0mpickle\u001b[0m\u001b[0;34m.\u001b[0m\u001b[0mdump\u001b[0m\u001b[0;34m(\u001b[0m\u001b[0mlearner\u001b[0m\u001b[0;34m,\u001b[0m\u001b[0mopen\u001b[0m\u001b[0;34m(\u001b[0m\u001b[0;34mf'{DATAPATH}/inter/learner'\u001b[0m\u001b[0;34m,\u001b[0m\u001b[0;34m'wb'\u001b[0m\u001b[0;34m)\u001b[0m\u001b[0;34m)\u001b[0m\u001b[0;34m\u001b[0m\u001b[0;34m\u001b[0m\u001b[0m\n\u001b[0m",
      "\u001b[0;31mPicklingError\u001b[0m: Can't pickle <class '__main__.Learner'>: it's not the same object as __main__.Learner"
     ]
    }
   ],
   "source": [
    "pickle.dump(learner,open(f'{DATAPATH}/inter/learner','wb'))"
   ]
  },
  {
   "cell_type": "code",
   "execution_count": null,
   "metadata": {},
   "outputs": [],
   "source": []
  }
 ],
 "metadata": {
  "kernelspec": {
   "display_name": "Python 3",
   "language": "python",
   "name": "python3"
  },
  "language_info": {
   "codemirror_mode": {
    "name": "ipython",
    "version": 3
   },
   "file_extension": ".py",
   "mimetype": "text/x-python",
   "name": "python",
   "nbconvert_exporter": "python",
   "pygments_lexer": "ipython3",
   "version": "3.7.3"
  }
 },
 "nbformat": 4,
 "nbformat_minor": 2
}
